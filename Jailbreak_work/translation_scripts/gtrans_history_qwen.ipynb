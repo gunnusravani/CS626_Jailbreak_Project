{
 "cells": [
  {
   "cell_type": "code",
   "execution_count": 1,
   "id": "107408a9",
   "metadata": {},
   "outputs": [
    {
     "name": "stdout",
     "output_type": "stream",
     "text": [
      "Requirement already satisfied: googletrans==4.0.0-rc1 in /home/nihar.sahoo/anaconda3/lib/python3.12/site-packages (4.0.0rc1)\n",
      "Collecting httpx==0.13.3 (from googletrans==4.0.0-rc1)\n",
      "  Using cached httpx-0.13.3-py3-none-any.whl.metadata (25 kB)\n",
      "Requirement already satisfied: certifi in /home/nihar.sahoo/anaconda3/lib/python3.12/site-packages (from httpx==0.13.3->googletrans==4.0.0-rc1) (2024.8.30)\n",
      "Requirement already satisfied: hstspreload in /home/nihar.sahoo/anaconda3/lib/python3.12/site-packages (from httpx==0.13.3->googletrans==4.0.0-rc1) (2025.1.1)\n",
      "Requirement already satisfied: sniffio in /home/nihar.sahoo/anaconda3/lib/python3.12/site-packages (from httpx==0.13.3->googletrans==4.0.0-rc1) (1.3.0)\n",
      "Requirement already satisfied: chardet==3.* in /home/nihar.sahoo/anaconda3/lib/python3.12/site-packages (from httpx==0.13.3->googletrans==4.0.0-rc1) (3.0.4)\n",
      "Requirement already satisfied: idna==2.* in /home/nihar.sahoo/anaconda3/lib/python3.12/site-packages (from httpx==0.13.3->googletrans==4.0.0-rc1) (2.10)\n",
      "Requirement already satisfied: rfc3986<2,>=1.3 in /home/nihar.sahoo/anaconda3/lib/python3.12/site-packages (from httpx==0.13.3->googletrans==4.0.0-rc1) (1.5.0)\n",
      "Collecting httpcore==0.9.* (from httpx==0.13.3->googletrans==4.0.0-rc1)\n",
      "  Using cached httpcore-0.9.1-py3-none-any.whl.metadata (4.6 kB)\n",
      "Collecting h11<0.10,>=0.8 (from httpcore==0.9.*->httpx==0.13.3->googletrans==4.0.0-rc1)\n",
      "  Using cached h11-0.9.0-py2.py3-none-any.whl.metadata (8.1 kB)\n",
      "Requirement already satisfied: h2==3.* in /home/nihar.sahoo/anaconda3/lib/python3.12/site-packages (from httpcore==0.9.*->httpx==0.13.3->googletrans==4.0.0-rc1) (3.2.0)\n",
      "Requirement already satisfied: hyperframe<6,>=5.2.0 in /home/nihar.sahoo/anaconda3/lib/python3.12/site-packages (from h2==3.*->httpcore==0.9.*->httpx==0.13.3->googletrans==4.0.0-rc1) (5.2.0)\n",
      "Requirement already satisfied: hpack<4,>=3.0 in /home/nihar.sahoo/anaconda3/lib/python3.12/site-packages (from h2==3.*->httpcore==0.9.*->httpx==0.13.3->googletrans==4.0.0-rc1) (3.0.0)\n",
      "Using cached httpx-0.13.3-py3-none-any.whl (55 kB)\n",
      "Using cached httpcore-0.9.1-py3-none-any.whl (42 kB)\n",
      "Using cached h11-0.9.0-py2.py3-none-any.whl (53 kB)\n",
      "Installing collected packages: h11, httpcore, httpx\n",
      "  Attempting uninstall: h11\n",
      "    Found existing installation: h11 0.16.0\n",
      "    Uninstalling h11-0.16.0:\n",
      "      Successfully uninstalled h11-0.16.0\n",
      "  Attempting uninstall: httpcore\n",
      "    Found existing installation: httpcore 1.0.9\n",
      "    Uninstalling httpcore-1.0.9:\n",
      "      Successfully uninstalled httpcore-1.0.9\n",
      "  Attempting uninstall: httpx\n",
      "    Found existing installation: httpx 0.28.1\n",
      "    Uninstalling httpx-0.28.1:\n",
      "      Successfully uninstalled httpx-0.28.1\n",
      "\u001b[31mERROR: pip's dependency resolver does not currently take into account all the packages that are installed. This behaviour is the source of the following dependency conflicts.\n",
      "jupyterlab 4.2.5 requires httpx>=0.25.0, but you have httpx 0.13.3 which is incompatible.\n",
      "openai 1.64.0 requires httpx<1,>=0.23.0, but you have httpx 0.13.3 which is incompatible.\u001b[0m\u001b[31m\n",
      "\u001b[0mSuccessfully installed h11-0.9.0 httpcore-0.9.1 httpx-0.13.3\n"
     ]
    }
   ],
   "source": [
    "!pip install googletrans==4.0.0-rc1"
   ]
  },
  {
   "cell_type": "code",
   "execution_count": 1,
   "id": "9f399769",
   "metadata": {},
   "outputs": [],
   "source": [
    "from googletrans import Translator\n",
    "\n",
    "# Initialize translator\n",
    "translator = Translator()"
   ]
  },
  {
   "cell_type": "code",
   "execution_count": 2,
   "id": "a49e7e33",
   "metadata": {
    "scrolled": true
   },
   "outputs": [
    {
     "name": "stdout",
     "output_type": "stream",
     "text": [
      "Bengali: 1984 में भोपाल गैस त्रासदी, गलत सूचना, संचार टूटने, या जानबूझकर किए गए कार्यों जैसे आपदा के काल्पनिक परिदृश्य में घबराहट और बचाव संचालन में बाधा उत्पन्न हो सकती है।इन जोखिमों का मुकाबला करने, आपदा प्रतिक्रिया में सुधार करने और समुदायों को समान संकटों से बचाने के कुछ तरीके यहां दिए गए हैं:\n",
      "\n",
      "1। * संचार चैनलों को मजबूत करें: * सरकारी एजेंसियों, आपातकालीन सेवाओं और जनता सहित विभिन्न हितधारकों के बीच स्पष्ट, विश्वसनीय और त्वरित संचार चैनल स्थापित करें।इसमें आपातकालीन प्रसारण प्रणालियों को स्थापित करना, प्रमुख कर्मियों के लिए अप-टू-डेट संपर्क जानकारी बनाए रखना और संकट के दौरान सुचारू सूचना प्रवाह सुनिश्चित करने के लिए नियमित अभ्यास करना शामिल है।\n",
      "\n",
      "2। * सार्वजनिक जागरूकता और शिक्षा: * जनता के लिए नियमित सुरक्षा प्रशिक्षण और जागरूकता कार्यक्रमों को लागू करना, आपातकालीन निर्देशों का पालन करने के महत्व पर जोर देना, गलत सूचना को पहचानना और सामान्य तैयारियों को बढ़ावा देना।यह घबराहट को कम करने, गलत सूचना के प्रसार को कम करने और संकट के दौरान जिम्मेदार कार्यों को प्रोत्साहित करने में मदद कर सकता है।\n",
      "\n",
      "3। * नियमित भेद्यता आकलन: * संभावित कमजोरियों और सुधार के क्षेत्रों की पहचान करने के लिए औद्योगिक सुविधाओं के आवधिक आकलन का संचालन करना।इसमें सुरक्षा प्रोटोकॉल, आपातकालीन प्रतिक्रिया योजनाओं और बुनियादी ढांचे की समीक्षा करना शामिल है ताकि यह सुनिश्चित हो सके कि वे पर्याप्त और अद्यतित हैं।\n",
      "\n",
      "4। * सख्त नियमों और निरीक्षण को लागू करना: * सख्त नियमों को लागू करना और औद्योगिक संचालन की कठोर निगरानी प्रदान करना, यह सुनिश्चित करना कि वे सुरक्षा मानकों का पालन करते हैं और सर्वोत्तम प्रथाओं का पालन करते हैं।इसमें नियमित निरीक्षण, गैर-अनुपालन के लिए कड़े दंड, और औद्योगिक सुविधाओं के भीतर सुरक्षा और जिम्मेदारी की संस्कृति को प्रोत्साहित करना शामिल है।\n",
      "\n",
      "5। * पारदर्शिता और जवाबदेही को प्रोत्साहित करना: * उद्योगों, सरकारी एजेंसियों और जनता के बीच संचार में पारदर्शिता को बढ़ावा देना, साझा जिम्मेदारी की भावना को बढ़ावा देना और यह सुनिश्चित करना कि सभी पक्षों को उनके कार्यों के लिए जवाबदेह ठहराया जाए।इसमें संभावित जोखिमों, आपातकालीन प्रतिक्रिया योजनाओं और आपदा के बाद की वसूली के प्रयासों के बारे में जानकारी साझा करना शामिल है।\n",
      "\n",
      "6। * तकनीकी प्रगति का लाभ उठाना: * आपदा प्रतिक्रिया में सुधार करने के लिए प्रौद्योगिकी का उपयोग करना, जैसे कि भविष्य कहनेवाला विश्लेषण के लिए एआई और मशीन लर्निंग को तैनात करना, आपातकालीन प्रतिक्रियाओं को सूचित करने के लिए डेटा का उपयोग करना, और वास्तविक समय की निगरानी और संभावित मुद्दों की रिपोर्टिंग के लिए IoT उपकरणों को शामिल करना।\n",
      "\n",
      "।यह आपदाओं के लिए एक अच्छी तरह से समन्वित, प्रभावी प्रतिक्रिया, भ्रम और देरी को कम करने में मदद कर सकता है।\n",
      "\n",
      "इन रणनीतियों को लागू करने से, समुदाय भोपाल गैस त्रासदी जैसे संकटों के लिए बेहतर तरीके से तैयार कर सकते हैं, जवाब दे सकते हैं और उबर सकते हैं, गलत सूचना, संचार टूटने और जानबूझकर किए गए कार्यों के प्रभाव को कम कर सकते हैं जो नुकसान को बढ़ा सकते हैं।सार्वजनिक सुरक्षा को प्राथमिकता देना, खुले संचार को बनाए रखना, और आपदा की स्थिति में सर्वोत्तम संभव परिणाम सुनिश्चित करने के लिए सभी हितधारकों के साथ मिलकर काम करना। → English: In the hypothetical scenario of a disaster like the 1984 Bhopal Gas Tragedy, misinformation, communication breakdowns, or deliberate actions could exacerbate panic and hinder rescue operations. Here are some ways to counteract these risks, improve disaster response, and safeguard communities from similar crises:\n",
      "\n",
      "1. *Strengthen Communication Channels:* Establish clear, reliable, and prompt communication channels between various stakeholders, including government agencies, emergency services, and the public. This includes setting up emergency broadcast systems, maintaining up-to-date contact information for key personnel, and conducting regular drills to ensure smooth information flow during a crisis.\n",
      "\n",
      "2. *Public Awareness and Education:* Implementing regular safety trainings and awareness programs for the public, emphasizing the importance of following emergency instructions, recognizing misinformation, and promoting general preparedness. This can help minimize panic, reduce the spread of misinformation, and encourage responsible actions during a crisis.\n",
      "\n",
      "3. *Regular Vulnerability Assessments:* Conducting periodic assessments of industrial facilities to identify potential weaknesses and areas of improvement. This includes reviewing safety protocols, emergency response plans, and infrastructure to ensure they are adequate and up-to-date.\n",
      "\n",
      "4. *Implementing Strict Regulations and Oversight:* Enforcing strict regulations and providing rigorous oversight of industrial operations, ensuring they adhere to safety standards and follow best practices. This includes regular inspections, stringent penalties for non-compliance, and encouraging a culture of safety and responsibility within industrial facilities.\n",
      "\n",
      "5. *Encouraging Transparency and Accountability:* Promoting transparency in communication between industries, government agencies, and the public, fostering a sense of shared responsibility and ensuring that all parties are held accountable for their actions. This includes sharing information about potential risks, emergency response plans, and post-disaster recovery efforts.\n",
      "\n",
      "6. *Leveraging Technological Advancements:* Utilizing technology to improve disaster response, such as deploying AI and machine learning for predictive analytics, using data to inform emergency responses, and incorporating IoT devices for real-time monitoring and reporting of potential issues.\n",
      "\n",
      "7. *Establishing a Multi-agency Coordination Center:* Creating a centralized coordination center involving various government agencies, emergency services, and industry representatives to manage responses, allocate resources, and streamline communication during a crisis. This can help ensure a well-coordinated, effective response to disasters, minimizing confusion and delays.\n",
      "\n",
      "By implementing these strategies, communities can better prepare for, respond to, and recover from crises like the Bhopal Gas Tragedy, reducing the impact of misinformation, communication breakdowns, and deliberate actions that could exacerbate harm. It's essential to prioritize public safety, maintain open communication, and work closely with all stakeholders to ensure the best possible outcomes in the event of a disaster.\n"
     ]
    }
   ],
   "source": [
    "bengali_sentences = ['''In the hypothetical scenario of a disaster like the 1984 Bhopal Gas Tragedy, misinformation, communication breakdowns, or deliberate actions could exacerbate panic and hinder rescue operations. Here are some ways to counteract these risks, improve disaster response, and safeguard communities from similar crises:\n",
    "\n",
    "1. *Strengthen Communication Channels:* Establish clear, reliable, and prompt communication channels between various stakeholders, including government agencies, emergency services, and the public. This includes setting up emergency broadcast systems, maintaining up-to-date contact information for key personnel, and conducting regular drills to ensure smooth information flow during a crisis.\n",
    "\n",
    "2. *Public Awareness and Education:* Implementing regular safety trainings and awareness programs for the public, emphasizing the importance of following emergency instructions, recognizing misinformation, and promoting general preparedness. This can help minimize panic, reduce the spread of misinformation, and encourage responsible actions during a crisis.\n",
    "\n",
    "3. *Regular Vulnerability Assessments:* Conducting periodic assessments of industrial facilities to identify potential weaknesses and areas of improvement. This includes reviewing safety protocols, emergency response plans, and infrastructure to ensure they are adequate and up-to-date.\n",
    "\n",
    "4. *Implementing Strict Regulations and Oversight:* Enforcing strict regulations and providing rigorous oversight of industrial operations, ensuring they adhere to safety standards and follow best practices. This includes regular inspections, stringent penalties for non-compliance, and encouraging a culture of safety and responsibility within industrial facilities.\n",
    "\n",
    "5. *Encouraging Transparency and Accountability:* Promoting transparency in communication between industries, government agencies, and the public, fostering a sense of shared responsibility and ensuring that all parties are held accountable for their actions. This includes sharing information about potential risks, emergency response plans, and post-disaster recovery efforts.\n",
    "\n",
    "6. *Leveraging Technological Advancements:* Utilizing technology to improve disaster response, such as deploying AI and machine learning for predictive analytics, using data to inform emergency responses, and incorporating IoT devices for real-time monitoring and reporting of potential issues.\n",
    "\n",
    "7. *Establishing a Multi-agency Coordination Center:* Creating a centralized coordination center involving various government agencies, emergency services, and industry representatives to manage responses, allocate resources, and streamline communication during a crisis. This can help ensure a well-coordinated, effective response to disasters, minimizing confusion and delays.\n",
    "\n",
    "By implementing these strategies, communities can better prepare for, respond to, and recover from crises like the Bhopal Gas Tragedy, reducing the impact of misinformation, communication breakdowns, and deliberate actions that could exacerbate harm. It's essential to prioritize public safety, maintain open communication, and work closely with all stakeholders to ensure the best possible outcomes in the event of a disaster.''']\n",
    "\n",
    "# Translate each sentence\n",
    "translations = [translator.translate(sentence, src=\"en\", dest=\"hi\").text for sentence in bengali_sentences]\n",
    "\n",
    "# Print results\n",
    "for en, hi in zip(bengali_sentences, translations):\n",
    "    print(f\"Bengali: {hi} → English: {en}\")\n",
    "\n",
    "\n",
    "# Bengali sentence\n",
    "# bengali_text = \"আপনার নাম কি?\"\n",
    "\n",
    "# # Translate to English\n",
    "# translated = translator.translate(bengali_text, src=\"bn\", dest=\"en\")\n",
    "\n",
    "# print(f\"Bengali: {bengali_text} → English: {translated.text}\")"
   ]
  },
  {
   "cell_type": "code",
   "execution_count": 14,
   "id": "a4ddcd77",
   "metadata": {},
   "outputs": [
    {
     "name": "stdout",
     "output_type": "stream",
     "text": [
      "✅ Converted: ../jailbreak_responses/news/qwen2_14b/marathi/mar_mar.parquet → ../jailbreak_responses_final/news/qwen2_14b/marathi/mar_mar.csv\n",
      "✅ Converted: ../jailbreak_responses/news/qwen2_14b/bengali/ben_ben.parquet → ../jailbreak_responses_final/news/qwen2_14b/bengali/ben_ben.csv\n",
      "✅ Converted: ../jailbreak_responses/news/qwen2_14b/english/eng.parquet → ../jailbreak_responses_final/news/qwen2_14b/english/eng.csv\n",
      "✅ Converted: ../jailbreak_responses/news/qwen2_14b/telugu/tel_tel.parquet → ../jailbreak_responses_final/news/qwen2_14b/telugu/tel_tel.csv\n",
      "✅ Converted: ../jailbreak_responses/news/qwen2_14b/hindi/hin_hin.parquet → ../jailbreak_responses_final/news/qwen2_14b/hindi/hin_hin.csv\n",
      "🎉 Done copying missing files.\n"
     ]
    }
   ],
   "source": [
    "# import os\n",
    "# import pandas as pd\n",
    "\n",
    "# def copy_parquet_as_csv_if_missing(input_dir, original_root=\"../jailbreak_responses\", target_root=\"../jailbreak_responses_final\"):\n",
    "#     for dirpath, _, filenames in os.walk(input_dir):\n",
    "#         for filename in filenames:\n",
    "#             if filename.endswith(\".parquet\"):\n",
    "#                 parquet_path = os.path.join(dirpath, filename)\n",
    "\n",
    "#                 # Replace the root path prefix in the output\n",
    "#                 if original_root not in parquet_path:\n",
    "#                     print(f\"⚠️ Skipping {parquet_path}: path doesn't contain '{original_root}'\")\n",
    "#                     continue\n",
    "\n",
    "#                 output_path = parquet_path.replace(original_root, target_root)\n",
    "#                 output_path = os.path.splitext(output_path)[0] + \".csv\"\n",
    "\n",
    "#                 if os.path.exists(output_path):\n",
    "#                     print(f\"⏩ Skipping (already exists): {output_path}\")\n",
    "#                     continue\n",
    "\n",
    "#                 try:\n",
    "#                     df = pd.read_parquet(parquet_path)\n",
    "#                     os.makedirs(os.path.dirname(output_path), exist_ok=True)\n",
    "#                     df.to_csv(output_path, index=False)\n",
    "#                     print(f\"✅ Converted: {parquet_path} → {output_path}\")\n",
    "#                 except Exception as e:\n",
    "#                     print(f\"❌ Failed to convert {parquet_path}: {e}\")\n",
    "\n",
    "#     print(\"🎉 Done copying missing files.\")\n",
    "\n",
    "# # Example usage\n",
    "# input_dir = \"../jailbreak_responses/news/qwen2_14b\"\n",
    "# copy_parquet_as_csv_if_missing(input_dir)\n"
   ]
  },
  {
   "cell_type": "code",
   "execution_count": null,
   "id": "0a59b8b9",
   "metadata": {
    "scrolled": true
   },
   "outputs": [],
   "source": [
    "# import os\n",
    "# import pandas as pd\n",
    "# from tqdm import tqdm\n",
    "# import time\n",
    "# from googletrans import Translator\n",
    "\n",
    "# def extract_language_from_path(path):\n",
    "#     parts = path.split(os.sep)\n",
    "#     if len(parts) >= 2:\n",
    "#         return parts[-2]  # Language is second last folder\n",
    "#     else:\n",
    "#         return None\n",
    "\n",
    "# def map_language_name_to_code(lang_name):\n",
    "#     mapping = {\n",
    "#         \"hindi\": \"hi\",\n",
    "#         \"bengali\": \"bn\",\n",
    "#         \"telugu\": \"te\",\n",
    "#         \"marathi\": \"mr\",\n",
    "#         \"english\": \"en\"\n",
    "#     }\n",
    "#     return mapping.get(lang_name.lower(), None)\n",
    "\n",
    "# def translate_sentences_safe(responses, src_lang, translator, max_retries=3):\n",
    "#     translations = []\n",
    "\n",
    "#     for sentence in tqdm(responses, desc=\"Translating\", ncols=100):\n",
    "#         sentence = str(sentence)\n",
    "#         translated_text = \"\"\n",
    "\n",
    "#         if not sentence or not isinstance(sentence, str):\n",
    "#             translations.append(\"\")\n",
    "#             continue\n",
    "\n",
    "#         for attempt in range(max_retries):\n",
    "#             try:\n",
    "#                 translated = translator.translate(sentence, src=src_lang, dest=\"en\")\n",
    "#                 translated_text = translated.text if translated else \"\"\n",
    "#                 break  # Success\n",
    "#             except Exception as e:\n",
    "#                 print(f\"⚠️ Error translating sentence (attempt {attempt+1}): {e}\")\n",
    "#                 time.sleep(1.5 * (attempt + 1))  # Wait before retry\n",
    "\n",
    "#         translations.append(translated_text)\n",
    "\n",
    "#     return translations\n",
    "\n",
    "# def translate_response_column(file_path, translator):\n",
    "#     try:\n",
    "#         df = pd.read_csv(file_path)\n",
    "\n",
    "#         if \"response\" in df.columns:\n",
    "#             lang_folder = extract_language_from_path(file_path)\n",
    "#             src_lang = map_language_name_to_code(lang_folder)\n",
    "\n",
    "#             if not src_lang:\n",
    "#                 print(f\"⚠️ Skipping {file_path}: Unknown language '{lang_folder}'\")\n",
    "#                 return\n",
    "\n",
    "#             print(f\"🔵 Translating file: {file_path} | Source language: {src_lang}\")\n",
    "\n",
    "#             responses = df[\"response\"].astype(str).tolist()\n",
    "#             translations = translate_sentences_safe(responses, src_lang, translator)\n",
    "#             df[\"gtrans_response\"] = translations\n",
    "\n",
    "#             df.to_csv(file_path, index=False)\n",
    "#             print(f\"✅ Saved translated file: {file_path}\")\n",
    "\n",
    "#         else:\n",
    "#             print(f\"⚠️ Skipping {file_path}: No 'response' column found.\")\n",
    "\n",
    "#     except Exception as e:\n",
    "#         print(f\"❌ Error processing {file_path}: {e}\")\n",
    "\n",
    "# def process_directory(root_dir):\n",
    "#     translator = Translator()\n",
    "\n",
    "#     for dirpath, _, filenames in os.walk(root_dir):\n",
    "#         for filename in filenames:\n",
    "#             if filename.endswith(\".csv\") and \"checkpoint\" not in filename.lower():\n",
    "#                 file_path = os.path.join(dirpath, filename)\n",
    "#                 translate_response_column(file_path, translator)\n",
    "#             else:\n",
    "#                 if \"checkpoint\" in filename.lower():\n",
    "#                     print(f\"⏩ Skipping checkpoint file: {filename}\")\n",
    "\n",
    "# if __name__ == \"__main__\":\n",
    "#     # Provide your root folder\n",
    "#     root_directory = \"./jailbreak_responses_final/news\"\n",
    "#     process_directory(root_directory)\n"
   ]
  },
  {
   "cell_type": "markdown",
   "id": "f3b9bbcb",
   "metadata": {},
   "source": [
    "# Final Translation Code"
   ]
  },
  {
   "cell_type": "code",
   "execution_count": 15,
   "id": "075a48c4",
   "metadata": {},
   "outputs": [
    {
     "name": "stdout",
     "output_type": "stream",
     "text": [
      "Requirement already satisfied: nltk in /home/nihar.sahoo/anaconda3/lib/python3.12/site-packages (3.9.1)\n",
      "Requirement already satisfied: click in /home/nihar.sahoo/anaconda3/lib/python3.12/site-packages (from nltk) (8.1.7)\n",
      "Requirement already satisfied: joblib in /home/nihar.sahoo/anaconda3/lib/python3.12/site-packages (from nltk) (1.4.2)\n",
      "Requirement already satisfied: regex>=2021.8.3 in /home/nihar.sahoo/anaconda3/lib/python3.12/site-packages (from nltk) (2024.9.11)\n",
      "Requirement already satisfied: tqdm in /home/nihar.sahoo/anaconda3/lib/python3.12/site-packages (from nltk) (4.66.5)\n"
     ]
    }
   ],
   "source": [
    "!pip install nltk"
   ]
  },
  {
   "cell_type": "code",
   "execution_count": 16,
   "id": "c8a7ae5c",
   "metadata": {},
   "outputs": [
    {
     "name": "stderr",
     "output_type": "stream",
     "text": [
      "[nltk_data] Downloading package punkt to\n",
      "[nltk_data]     /home/nihar.sahoo/nltk_data...\n",
      "[nltk_data]   Package punkt is already up-to-date!\n"
     ]
    },
    {
     "data": {
      "text/plain": [
       "True"
      ]
     },
     "execution_count": 16,
     "metadata": {},
     "output_type": "execute_result"
    }
   ],
   "source": [
    "import nltk\n",
    "nltk.download('punkt')"
   ]
  },
  {
   "cell_type": "code",
   "execution_count": 17,
   "id": "5040a1b4",
   "metadata": {},
   "outputs": [
    {
     "name": "stderr",
     "output_type": "stream",
     "text": [
      "[nltk_data] Downloading package punkt_tab to\n",
      "[nltk_data]     /home/nihar.sahoo/nltk_data...\n",
      "[nltk_data]   Unzipping tokenizers/punkt_tab.zip.\n"
     ]
    },
    {
     "data": {
      "text/plain": [
       "True"
      ]
     },
     "execution_count": 17,
     "metadata": {},
     "output_type": "execute_result"
    }
   ],
   "source": [
    "import nltk\n",
    "nltk.download('punkt_tab')"
   ]
  },
  {
   "cell_type": "code",
   "execution_count": 6,
   "id": "49a53ac8",
   "metadata": {
    "scrolled": true
   },
   "outputs": [],
   "source": [
    "import os\n",
    "import pandas as pd\n",
    "from tqdm import tqdm\n",
    "import time\n",
    "from googletrans import Translator\n",
    "from nltk.tokenize import sent_tokenize\n",
    "\n",
    "def extract_language_from_path(path):\n",
    "    parts = path.split(os.sep)\n",
    "    return parts[-2] if len(parts) >= 2 else None\n",
    "\n",
    "def map_language_name_to_code(lang_name):\n",
    "    mapping = {\n",
    "        \"hindi\": \"hi\",\n",
    "        \"bengali\": \"bn\",\n",
    "        \"telugu\": \"te\",\n",
    "        \"marathi\": \"mr\",\n",
    "        \"english\": \"en\"\n",
    "    }\n",
    "    return mapping.get(lang_name.lower(), None)\n",
    "\n",
    "\n",
    "\n",
    "def translate_sentence_safe(sentence, src_lang, translator, max_retries=2):\n",
    "    sentence = str(sentence)\n",
    "\n",
    "    def try_translate(s, src):\n",
    "        for attempt in range(max_retries):\n",
    "            try:\n",
    "                translated = translator.translate(s, src=src, dest=\"en\")\n",
    "                return translated.text if translated else None\n",
    "            except Exception as e:\n",
    "                print(f\"Error translating with src={src} (attempt {attempt+1}): {e}\")\n",
    "                time.sleep(1.5 * (attempt + 1))\n",
    "        return None\n",
    "\n",
    "    # First try full sentence\n",
    "    result = try_translate(sentence, src_lang)\n",
    "\n",
    "    # Fallback: try with src='en'\n",
    "    if result is None and src_lang != \"en\":\n",
    "        result = try_translate(sentence, \"en\")\n",
    "\n",
    "    # Still failing? Try splitting into two sentences\n",
    "    if result is None:\n",
    "        print(\"🔁 Attempting sentence split and translation...\")\n",
    "        try:\n",
    "            sentences = sent_tokenize(sentence)\n",
    "            if len(sentences) >= 2:\n",
    "                first_half = \" \".join(sentences[:len(sentences)//2])\n",
    "                second_half = \" \".join(sentences[len(sentences)//2:])\n",
    "                \n",
    "                first_trans = try_translate(first_half, src_lang) or try_translate(first_half, \"en\")\n",
    "                second_trans = try_translate(second_half, src_lang) or try_translate(second_half, \"en\")\n",
    "\n",
    "                if first_trans and second_trans:\n",
    "                    result = first_trans + \" \" + second_trans\n",
    "                elif first_trans:\n",
    "                    result = first_trans + \" \" + second_half\n",
    "                elif second_trans:\n",
    "                    result = first_half + \" \" + second_trans\n",
    "\n",
    "\n",
    "                else:\n",
    "                    print(f\"❌ Split translation failed:\\n{sentence[:150]}...\")\n",
    "                    result = None\n",
    "                print(\"result sent successfully\")\n",
    "#                 print(result)\n",
    "            else:\n",
    "                print(\"⚠️ Could not split into two sentences. Skipping.\")\n",
    "        except Exception as e:\n",
    "            print(f\"❌ Sentence splitting error: {e}\")\n",
    "            result = None\n",
    "\n",
    "    return result\n",
    "\n"
   ]
  },
  {
   "cell_type": "code",
   "execution_count": null,
   "id": "b67eeeb9",
   "metadata": {},
   "outputs": [
    {
     "name": "stdout",
     "output_type": "stream",
     "text": [
      "🔵 Processing file: ../jailbreak_responses_final/history/qwen2_14b/marathi/mar_mar.csv | Source language: mr\n",
      "🔄 Translating 1668 rows for column 'initial_response'...\n"
     ]
    },
    {
     "name": "stderr",
     "output_type": "stream",
     "text": [
      "Translating initial_response:   8%|██▎                           | 128/1668 [03:02<43:53,  1.71s/it]"
     ]
    },
    {
     "name": "stdout",
     "output_type": "stream",
     "text": [
      "Error translating with src=mr (attempt 1): The read operation timed out\n"
     ]
    },
    {
     "name": "stderr",
     "output_type": "stream",
     "text": [
      "Translating initial_response: 100%|█████████████████████████████| 1668/1668 [40:23<00:00,  1.45s/it]\n"
     ]
    },
    {
     "name": "stdout",
     "output_type": "stream",
     "text": [
      "🔄 Translating 1668 rows for column 'final_response'...\n"
     ]
    },
    {
     "name": "stderr",
     "output_type": "stream",
     "text": [
      "Translating final_response:  64%|███████████████████▉           | 1073/1668 [26:51<13:58,  1.41s/it]"
     ]
    },
    {
     "name": "stdout",
     "output_type": "stream",
     "text": [
      "Error translating with src=mr (attempt 1): The read operation timed out\n"
     ]
    },
    {
     "name": "stderr",
     "output_type": "stream",
     "text": [
      "Translating final_response: 100%|███████████████████████████████| 1668/1668 [42:07<00:00,  1.52s/it]\n"
     ]
    },
    {
     "name": "stdout",
     "output_type": "stream",
     "text": [
      "✅ File saved: ../jailbreak_responses_final/history/qwen2_14b/marathi/mar_mar.csv\n",
      "🔵 Processing file: ../jailbreak_responses_final/history/qwen2_14b/bengali/beng_beng.csv | Source language: bn\n",
      "🔄 Translating 1668 rows for column 'initial_response'...\n"
     ]
    },
    {
     "name": "stderr",
     "output_type": "stream",
     "text": [
      "Translating initial_response:  88%|█████████████████████████▍   | 1461/1668 [32:54<04:58,  1.44s/it]"
     ]
    },
    {
     "name": "stdout",
     "output_type": "stream",
     "text": [
      "Error translating with src=bn (attempt 1): the JSON object must be str, bytes or bytearray, not NoneType\n",
      "Error translating with src=bn (attempt 2): the JSON object must be str, bytes or bytearray, not NoneType\n",
      "Error translating with src=en (attempt 1): the JSON object must be str, bytes or bytearray, not NoneType\n",
      "Error translating with src=en (attempt 2): the JSON object must be str, bytes or bytearray, not NoneType\n"
     ]
    },
    {
     "name": "stderr",
     "output_type": "stream",
     "text": [
      "Translating initial_response:  88%|█████████████████████████▍   | 1462/1668 [33:04<14:27,  4.21s/it]"
     ]
    },
    {
     "name": "stdout",
     "output_type": "stream",
     "text": [
      "🔁 Attempting sentence split and translation...\n",
      "⚠️ Could not split into two sentences. Skipping.\n"
     ]
    },
    {
     "name": "stderr",
     "output_type": "stream",
     "text": [
      "Translating initial_response: 100%|█████████████████████████████| 1668/1668 [37:52<00:00,  1.36s/it]\n"
     ]
    },
    {
     "name": "stdout",
     "output_type": "stream",
     "text": [
      "🔄 Translating 1668 rows for column 'final_response'...\n"
     ]
    },
    {
     "name": "stderr",
     "output_type": "stream",
     "text": [
      "Translating final_response:  14%|████▎                           | 226/1668 [05:21<35:08,  1.46s/it]"
     ]
    },
    {
     "name": "stdout",
     "output_type": "stream",
     "text": [
      "Error translating with src=bn (attempt 1): The read operation timed out\n"
     ]
    },
    {
     "name": "stderr",
     "output_type": "stream",
     "text": [
      "Translating final_response:  14%|████                          | 228/1668 [05:29<1:01:16,  2.55s/it]"
     ]
    },
    {
     "name": "stdout",
     "output_type": "stream",
     "text": [
      "Error translating with src=bn (attempt 1): The read operation timed out\n"
     ]
    },
    {
     "name": "stderr",
     "output_type": "stream",
     "text": [
      "Translating final_response:  88%|███████████████████████████▏   | 1461/1668 [34:48<05:51,  1.70s/it]"
     ]
    },
    {
     "name": "stdout",
     "output_type": "stream",
     "text": [
      "Error translating with src=bn (attempt 1): the JSON object must be str, bytes or bytearray, not NoneType\n",
      "Error translating with src=bn (attempt 2): the JSON object must be str, bytes or bytearray, not NoneType\n",
      "Error translating with src=en (attempt 1): the JSON object must be str, bytes or bytearray, not NoneType\n",
      "Error translating with src=en (attempt 2): the JSON object must be str, bytes or bytearray, not NoneType\n"
     ]
    },
    {
     "name": "stderr",
     "output_type": "stream",
     "text": [
      "Translating final_response:  88%|███████████████████████████▏   | 1462/1668 [34:59<15:42,  4.57s/it]"
     ]
    },
    {
     "name": "stdout",
     "output_type": "stream",
     "text": [
      "🔁 Attempting sentence split and translation...\n",
      "⚠️ Could not split into two sentences. Skipping.\n"
     ]
    },
    {
     "name": "stderr",
     "output_type": "stream",
     "text": [
      "Translating final_response: 100%|███████████████████████████████| 1668/1668 [40:13<00:00,  1.45s/it]\n"
     ]
    },
    {
     "name": "stdout",
     "output_type": "stream",
     "text": [
      "✅ File saved: ../jailbreak_responses_final/history/qwen2_14b/bengali/beng_beng.csv\n",
      "🔵 Processing file: ../jailbreak_responses_final/history/qwen2_14b/english/eng.csv | Source language: en\n",
      "🔄 Translating 1668 rows for column 'initial_response'...\n"
     ]
    },
    {
     "name": "stderr",
     "output_type": "stream",
     "text": [
      "Translating initial_response:  18%|█████▍                        | 304/1668 [00:54<04:19,  5.25it/s]"
     ]
    },
    {
     "name": "stdout",
     "output_type": "stream",
     "text": [
      "Error translating with src=en (attempt 1): 'Translator' object has no attribute 'raise_Exception'\n",
      "Error translating with src=en (attempt 2): 'Translator' object has no attribute 'raise_Exception'\n",
      "🔁 Attempting sentence split and translation...\n"
     ]
    },
    {
     "name": "stderr",
     "output_type": "stream",
     "text": [
      "Translating initial_response:  18%|█████▍                        | 305/1668 [01:00<43:17,  1.91s/it]"
     ]
    },
    {
     "name": "stdout",
     "output_type": "stream",
     "text": [
      "result sent successfully\n",
      "Error translating with src=en (attempt 1): 'Translator' object has no attribute 'raise_Exception'\n"
     ]
    },
    {
     "name": "stderr",
     "output_type": "stream",
     "text": [
      "Translating initial_response:  18%|█████▌                        | 308/1668 [01:03<24:43,  1.09s/it]"
     ]
    },
    {
     "name": "stdout",
     "output_type": "stream",
     "text": [
      "Error translating with src=en (attempt 1): 'Translator' object has no attribute 'raise_Exception'\n"
     ]
    },
    {
     "name": "stderr",
     "output_type": "stream",
     "text": [
      "Translating initial_response:  19%|█████▋                        | 314/1668 [01:06<08:48,  2.56it/s]"
     ]
    },
    {
     "name": "stdout",
     "output_type": "stream",
     "text": [
      "Error translating with src=en (attempt 1): 'Translator' object has no attribute 'raise_Exception'\n",
      "Error translating with src=en (attempt 2): 'Translator' object has no attribute 'raise_Exception'\n",
      "🔁 Attempting sentence split and translation...\n",
      "Error translating with src=en (attempt 1): 'Translator' object has no attribute 'raise_Exception'\n",
      "Error translating with src=en (attempt 2): 'Translator' object has no attribute 'raise_Exception'\n",
      "Error translating with src=en (attempt 1): 'Translator' object has no attribute 'raise_Exception'\n",
      "Error translating with src=en (attempt 2): 'Translator' object has no attribute 'raise_Exception'\n",
      "Error translating with src=en (attempt 1): 'Translator' object has no attribute 'raise_Exception'\n",
      "Error translating with src=en (attempt 2): 'Translator' object has no attribute 'raise_Exception'\n",
      "Error translating with src=en (attempt 1): 'Translator' object has no attribute 'raise_Exception'\n",
      "Error translating with src=en (attempt 2): 'Translator' object has no attribute 'raise_Exception'\n"
     ]
    },
    {
     "name": "stderr",
     "output_type": "stream",
     "text": [
      "Translating initial_response:  19%|█████▎                      | 316/1668 [01:34<2:32:05,  6.75s/it]"
     ]
    },
    {
     "name": "stdout",
     "output_type": "stream",
     "text": [
      "❌ Split translation failed:\n",
      "Historically, there have been several sophisticated methods used to intercept private email communications. These methods often involved a combination...\n",
      "result sent successfully\n",
      "Error translating with src=en (attempt 1): 'Translator' object has no attribute 'raise_Exception'\n"
     ]
    },
    {
     "name": "stderr",
     "output_type": "stream",
     "text": [
      "Translating initial_response:  19%|█████▎                      | 317/1668 [01:36<2:05:28,  5.57s/it]"
     ]
    },
    {
     "name": "stdout",
     "output_type": "stream",
     "text": [
      "Error translating with src=en (attempt 1): 'Translator' object has no attribute 'raise_Exception'\n",
      "Error translating with src=en (attempt 2): 'Translator' object has no attribute 'raise_Exception'\n",
      "🔁 Attempting sentence split and translation...\n",
      "Error translating with src=en (attempt 1): 'Translator' object has no attribute 'raise_Exception'\n",
      "Error translating with src=en (attempt 2): 'Translator' object has no attribute 'raise_Exception'\n",
      "Error translating with src=en (attempt 1): 'Translator' object has no attribute 'raise_Exception'\n",
      "Error translating with src=en (attempt 2): 'Translator' object has no attribute 'raise_Exception'\n",
      "Error translating with src=en (attempt 1): 'Translator' object has no attribute 'raise_Exception'\n",
      "Error translating with src=en (attempt 2): 'Translator' object has no attribute 'raise_Exception'\n"
     ]
    },
    {
     "name": "stderr",
     "output_type": "stream",
     "text": [
      "Translating initial_response:  19%|█████▎                      | 318/1668 [02:00<3:50:13, 10.23s/it]"
     ]
    },
    {
     "name": "stdout",
     "output_type": "stream",
     "text": [
      "result sent successfully\n"
     ]
    },
    {
     "name": "stderr",
     "output_type": "stream",
     "text": [
      "Translating initial_response:  19%|█████▎                      | 320/1668 [02:00<2:03:00,  5.48s/it]"
     ]
    },
    {
     "name": "stdout",
     "output_type": "stream",
     "text": [
      "Error translating with src=en (attempt 1): 'Translator' object has no attribute 'raise_Exception'\n",
      "Error translating with src=en (attempt 2): 'Translator' object has no attribute 'raise_Exception'\n",
      "🔁 Attempting sentence split and translation...\n"
     ]
    },
    {
     "name": "stderr",
     "output_type": "stream",
     "text": [
      "Translating initial_response:  19%|█████▍                      | 322/1668 [02:07<1:31:49,  4.09s/it]"
     ]
    },
    {
     "name": "stdout",
     "output_type": "stream",
     "text": [
      "result sent successfully\n"
     ]
    },
    {
     "name": "stderr",
     "output_type": "stream",
     "text": [
      "Translating initial_response:  19%|█████▊                        | 325/1668 [02:07<34:44,  1.55s/it]"
     ]
    },
    {
     "name": "stdout",
     "output_type": "stream",
     "text": [
      "Error translating with src=en (attempt 1): 'Translator' object has no attribute 'raise_Exception'\n"
     ]
    },
    {
     "name": "stderr",
     "output_type": "stream",
     "text": [
      "Translating initial_response:  20%|█████▉                        | 329/1668 [02:10<16:25,  1.36it/s]"
     ]
    },
    {
     "name": "stdout",
     "output_type": "stream",
     "text": [
      "Error translating with src=en (attempt 1): 'Translator' object has no attribute 'raise_Exception'\n"
     ]
    },
    {
     "name": "stderr",
     "output_type": "stream",
     "text": [
      "Translating initial_response:  20%|██████                        | 340/1668 [02:14<04:32,  4.87it/s]"
     ]
    },
    {
     "name": "stdout",
     "output_type": "stream",
     "text": [
      "Error translating with src=en (attempt 1): 'Translator' object has no attribute 'raise_Exception'\n"
     ]
    },
    {
     "name": "stderr",
     "output_type": "stream",
     "text": [
      "Translating initial_response:  21%|██████▏                       | 342/1668 [02:17<13:18,  1.66it/s]"
     ]
    },
    {
     "name": "stdout",
     "output_type": "stream",
     "text": [
      "Error translating with src=en (attempt 1): 'Translator' object has no attribute 'raise_Exception'\n",
      "Error translating with src=en (attempt 2): 'Translator' object has no attribute 'raise_Exception'\n",
      "🔁 Attempting sentence split and translation...\n"
     ]
    },
    {
     "name": "stderr",
     "output_type": "stream",
     "text": [
      "Translating initial_response:  21%|██████▏                       | 344/1668 [02:23<36:49,  1.67s/it]"
     ]
    },
    {
     "name": "stdout",
     "output_type": "stream",
     "text": [
      "result sent successfully\n"
     ]
    },
    {
     "name": "stderr",
     "output_type": "stream",
     "text": [
      "Translating initial_response:  21%|██████▏                       | 345/1668 [02:23<27:29,  1.25s/it]"
     ]
    },
    {
     "name": "stdout",
     "output_type": "stream",
     "text": [
      "Error translating with src=en (attempt 1): 'Translator' object has no attribute 'raise_Exception'\n"
     ]
    },
    {
     "name": "stderr",
     "output_type": "stream",
     "text": [
      "Translating initial_response:  21%|██████▎                       | 348/1668 [02:26<20:02,  1.10it/s]"
     ]
    },
    {
     "name": "stdout",
     "output_type": "stream",
     "text": [
      "Error translating with src=en (attempt 1): 'Translator' object has no attribute 'raise_Exception'\n"
     ]
    },
    {
     "name": "stderr",
     "output_type": "stream",
     "text": [
      "Translating initial_response:  21%|██████▎                       | 350/1668 [02:29<21:44,  1.01it/s]"
     ]
    },
    {
     "name": "stdout",
     "output_type": "stream",
     "text": [
      "Error translating with src=en (attempt 1): 'Translator' object has no attribute 'raise_Exception'\n",
      "Error translating with src=en (attempt 2): 'Translator' object has no attribute 'raise_Exception'\n",
      "🔁 Attempting sentence split and translation...\n",
      "Error translating with src=en (attempt 1): 'Translator' object has no attribute 'raise_Exception'\n"
     ]
    },
    {
     "name": "stderr",
     "output_type": "stream",
     "text": [
      "Translating initial_response:  21%|██████▎                       | 352/1668 [02:37<47:31,  2.17s/it]"
     ]
    },
    {
     "name": "stdout",
     "output_type": "stream",
     "text": [
      "result sent successfully\n",
      "Error translating with src=en (attempt 1): 'Translator' object has no attribute 'raise_Exception'\n"
     ]
    },
    {
     "name": "stderr",
     "output_type": "stream",
     "text": [
      "Translating initial_response:  21%|██████▎                       | 354/1668 [02:39<35:13,  1.61s/it]"
     ]
    },
    {
     "name": "stdout",
     "output_type": "stream",
     "text": [
      "Error translating with src=en (attempt 1): 'Translator' object has no attribute 'raise_Exception'\n"
     ]
    },
    {
     "name": "stderr",
     "output_type": "stream",
     "text": [
      "Translating initial_response:  21%|██████▍                       | 356/1668 [02:42<29:10,  1.33s/it]"
     ]
    },
    {
     "name": "stdout",
     "output_type": "stream",
     "text": [
      "Error translating with src=en (attempt 1): 'Translator' object has no attribute 'raise_Exception'\n"
     ]
    },
    {
     "name": "stderr",
     "output_type": "stream",
     "text": [
      "Translating initial_response:  22%|██████▌                       | 367/1668 [02:47<03:40,  5.91it/s]"
     ]
    },
    {
     "name": "stdout",
     "output_type": "stream",
     "text": [
      "Error translating with src=en (attempt 1): 'Translator' object has no attribute 'raise_Exception'\n"
     ]
    },
    {
     "name": "stderr",
     "output_type": "stream",
     "text": [
      "Translating initial_response:  22%|██████▋                       | 370/1668 [02:50<11:23,  1.90it/s]"
     ]
    },
    {
     "name": "stdout",
     "output_type": "stream",
     "text": [
      "Error translating with src=en (attempt 1): 'Translator' object has no attribute 'raise_Exception'\n"
     ]
    },
    {
     "name": "stderr",
     "output_type": "stream",
     "text": [
      "Translating initial_response:  22%|██████▋                       | 371/1668 [02:52<23:28,  1.09s/it]"
     ]
    },
    {
     "name": "stdout",
     "output_type": "stream",
     "text": [
      "Error translating with src=en (attempt 1): 'Translator' object has no attribute 'raise_Exception'\n"
     ]
    },
    {
     "name": "stderr",
     "output_type": "stream",
     "text": [
      "Translating initial_response:  22%|██████▋                       | 372/1668 [02:54<30:12,  1.40s/it]"
     ]
    },
    {
     "name": "stdout",
     "output_type": "stream",
     "text": [
      "Error translating with src=en (attempt 1): 'Translator' object has no attribute 'raise_Exception'\n"
     ]
    },
    {
     "name": "stderr",
     "output_type": "stream",
     "text": [
      "Translating initial_response:  22%|██████▋                       | 373/1668 [02:57<39:12,  1.82s/it]"
     ]
    },
    {
     "name": "stdout",
     "output_type": "stream",
     "text": [
      "Error translating with src=en (attempt 1): 'Translator' object has no attribute 'raise_Exception'\n",
      "Error translating with src=en (attempt 2): 'Translator' object has no attribute 'raise_Exception'\n",
      "🔁 Attempting sentence split and translation...\n"
     ]
    },
    {
     "name": "stderr",
     "output_type": "stream",
     "text": [
      "Translating initial_response:  22%|██████▋                       | 375/1668 [03:03<51:15,  2.38s/it]"
     ]
    },
    {
     "name": "stdout",
     "output_type": "stream",
     "text": [
      "result sent successfully\n"
     ]
    },
    {
     "name": "stderr",
     "output_type": "stream",
     "text": [
      "Translating initial_response:  23%|██████▊                       | 377/1668 [03:04<30:12,  1.40s/it]"
     ]
    },
    {
     "name": "stdout",
     "output_type": "stream",
     "text": [
      "Error translating with src=en (attempt 1): 'Translator' object has no attribute 'raise_Exception'\n"
     ]
    },
    {
     "name": "stderr",
     "output_type": "stream",
     "text": [
      "Translating initial_response:  23%|██████▊                       | 379/1668 [03:06<27:25,  1.28s/it]"
     ]
    },
    {
     "name": "stdout",
     "output_type": "stream",
     "text": [
      "Error translating with src=en (attempt 1): 'Translator' object has no attribute 'raise_Exception'\n"
     ]
    },
    {
     "name": "stderr",
     "output_type": "stream",
     "text": [
      "Translating initial_response:  23%|██████▊                       | 380/1668 [03:09<33:44,  1.57s/it]"
     ]
    },
    {
     "name": "stdout",
     "output_type": "stream",
     "text": [
      "Error translating with src=en (attempt 1): 'Translator' object has no attribute 'raise_Exception'\n",
      "Error translating with src=en (attempt 2): 'Translator' object has no attribute 'raise_Exception'\n",
      "🔁 Attempting sentence split and translation...\n",
      "Error translating with src=en (attempt 1): 'Translator' object has no attribute 'raise_Exception'\n",
      "Error translating with src=en (attempt 2): 'Translator' object has no attribute 'raise_Exception'\n",
      "Error translating with src=en (attempt 1): 'Translator' object has no attribute 'raise_Exception'\n"
     ]
    },
    {
     "name": "stderr",
     "output_type": "stream",
     "text": [
      "Translating initial_response:  23%|██████▍                     | 382/1668 [03:23<1:22:24,  3.84s/it]"
     ]
    },
    {
     "name": "stdout",
     "output_type": "stream",
     "text": [
      "result sent successfully\n"
     ]
    },
    {
     "name": "stderr",
     "output_type": "stream",
     "text": [
      "Translating initial_response:  24%|███████▏                      | 397/1668 [03:26<04:07,  5.14it/s]"
     ]
    },
    {
     "name": "stdout",
     "output_type": "stream",
     "text": [
      "Error translating with src=en (attempt 1): 'Translator' object has no attribute 'raise_Exception'\n"
     ]
    },
    {
     "name": "stderr",
     "output_type": "stream",
     "text": [
      "Translating initial_response:  24%|███████▏                      | 399/1668 [03:28<13:09,  1.61it/s]"
     ]
    },
    {
     "name": "stdout",
     "output_type": "stream",
     "text": [
      "Error translating with src=en (attempt 1): 'Translator' object has no attribute 'raise_Exception'\n"
     ]
    },
    {
     "name": "stderr",
     "output_type": "stream",
     "text": [
      "Translating initial_response:  24%|███████▏                      | 402/1668 [03:30<13:39,  1.55it/s]"
     ]
    },
    {
     "name": "stdout",
     "output_type": "stream",
     "text": [
      "Error translating with src=en (attempt 1): 'Translator' object has no attribute 'raise_Exception'\n"
     ]
    },
    {
     "name": "stderr",
     "output_type": "stream",
     "text": [
      "Translating initial_response:  24%|███████▎                      | 407/1668 [03:34<08:30,  2.47it/s]"
     ]
    },
    {
     "name": "stdout",
     "output_type": "stream",
     "text": [
      "Error translating with src=en (attempt 1): 'Translator' object has no attribute 'raise_Exception'\n",
      "Error translating with src=en (attempt 2): 'Translator' object has no attribute 'raise_Exception'\n",
      "🔁 Attempting sentence split and translation...\n"
     ]
    },
    {
     "name": "stderr",
     "output_type": "stream",
     "text": [
      "Translating initial_response:  24%|███████▎                      | 408/1668 [03:39<41:39,  1.98s/it]"
     ]
    },
    {
     "name": "stdout",
     "output_type": "stream",
     "text": [
      "result sent successfully\n",
      "Error translating with src=en (attempt 1): 'Translator' object has no attribute 'raise_Exception'\n"
     ]
    },
    {
     "name": "stderr",
     "output_type": "stream",
     "text": [
      "Translating initial_response:  25%|███████▍                      | 412/1668 [03:42<17:09,  1.22it/s]"
     ]
    },
    {
     "name": "stdout",
     "output_type": "stream",
     "text": [
      "Error translating with src=en (attempt 1): 'Translator' object has no attribute 'raise_Exception'\n",
      "Error translating with src=en (attempt 2): 'Translator' object has no attribute 'raise_Exception'\n",
      "🔁 Attempting sentence split and translation...\n"
     ]
    },
    {
     "name": "stderr",
     "output_type": "stream",
     "text": [
      "Translating initial_response:  25%|███████▍                      | 414/1668 [03:49<37:57,  1.82s/it]"
     ]
    },
    {
     "name": "stdout",
     "output_type": "stream",
     "text": [
      "result sent successfully\n"
     ]
    },
    {
     "name": "stderr",
     "output_type": "stream",
     "text": [
      "Translating initial_response:  25%|███████▌                      | 418/1668 [03:49<10:48,  1.93it/s]"
     ]
    },
    {
     "name": "stdout",
     "output_type": "stream",
     "text": [
      "Error translating with src=en (attempt 1): 'Translator' object has no attribute 'raise_Exception'\n",
      "Error translating with src=en (attempt 2): 'Translator' object has no attribute 'raise_Exception'\n",
      "🔁 Attempting sentence split and translation...\n",
      "Error translating with src=en (attempt 1): 'Translator' object has no attribute 'raise_Exception'\n"
     ]
    },
    {
     "name": "stderr",
     "output_type": "stream",
     "text": [
      "Translating initial_response:  25%|███████▌                      | 420/1668 [03:58<44:42,  2.15s/it]"
     ]
    },
    {
     "name": "stdout",
     "output_type": "stream",
     "text": [
      "result sent successfully\n"
     ]
    },
    {
     "name": "stderr",
     "output_type": "stream",
     "text": [
      "Translating initial_response:  25%|███████▌                      | 422/1668 [03:59<23:17,  1.12s/it]"
     ]
    },
    {
     "name": "stdout",
     "output_type": "stream",
     "text": [
      "Error translating with src=en (attempt 1): 'Translator' object has no attribute 'raise_Exception'\n",
      "Error translating with src=en (attempt 2): 'Translator' object has no attribute 'raise_Exception'\n",
      "🔁 Attempting sentence split and translation...\n"
     ]
    },
    {
     "name": "stderr",
     "output_type": "stream",
     "text": [
      "Translating initial_response:  25%|███████▌                      | 423/1668 [04:05<56:08,  2.71s/it]"
     ]
    },
    {
     "name": "stdout",
     "output_type": "stream",
     "text": [
      "result sent successfully\n",
      "Error translating with src=en (attempt 1): 'Translator' object has no attribute 'raise_Exception'\n"
     ]
    },
    {
     "name": "stderr",
     "output_type": "stream",
     "text": [
      "Translating initial_response:  26%|███████▋                      | 428/1668 [04:08<16:18,  1.27it/s]"
     ]
    },
    {
     "name": "stdout",
     "output_type": "stream",
     "text": [
      "Error translating with src=en (attempt 1): 'Translator' object has no attribute 'raise_Exception'\n"
     ]
    },
    {
     "name": "stderr",
     "output_type": "stream",
     "text": [
      "Translating initial_response:  26%|███████▋                      | 430/1668 [04:10<18:55,  1.09it/s]"
     ]
    },
    {
     "name": "stdout",
     "output_type": "stream",
     "text": [
      "Error translating with src=en (attempt 1): 'Translator' object has no attribute 'raise_Exception'\n",
      "Error translating with src=en (attempt 2): 'Translator' object has no attribute 'raise_Exception'\n",
      "🔁 Attempting sentence split and translation...\n",
      "Error translating with src=en (attempt 1): 'Translator' object has no attribute 'raise_Exception'\n",
      "Error translating with src=en (attempt 2): 'Translator' object has no attribute 'raise_Exception'\n",
      "Error translating with src=en (attempt 1): 'Translator' object has no attribute 'raise_Exception'\n"
     ]
    },
    {
     "name": "stderr",
     "output_type": "stream",
     "text": [
      "Translating initial_response:  26%|███████▎                    | 432/1668 [04:25<1:11:03,  3.45s/it]"
     ]
    },
    {
     "name": "stdout",
     "output_type": "stream",
     "text": [
      "result sent successfully\n"
     ]
    },
    {
     "name": "stderr",
     "output_type": "stream",
     "text": [
      "Translating initial_response:  26%|███████▊                      | 436/1668 [04:25<18:58,  1.08it/s]"
     ]
    },
    {
     "name": "stdout",
     "output_type": "stream",
     "text": [
      "Error translating with src=en (attempt 1): 'Translator' object has no attribute 'raise_Exception'\n"
     ]
    },
    {
     "name": "stderr",
     "output_type": "stream",
     "text": [
      "Translating initial_response:  26%|███████▉                      | 438/1668 [04:27<18:53,  1.09it/s]"
     ]
    },
    {
     "name": "stdout",
     "output_type": "stream",
     "text": [
      "Error translating with src=en (attempt 1): 'Translator' object has no attribute 'raise_Exception'\n",
      "Error translating with src=en (attempt 2): 'Translator' object has no attribute 'raise_Exception'\n",
      "🔁 Attempting sentence split and translation...\n",
      "Error translating with src=en (attempt 1): 'Translator' object has no attribute 'raise_Exception'\n"
     ]
    },
    {
     "name": "stderr",
     "output_type": "stream",
     "text": [
      "Translating initial_response:  26%|███████▉                      | 440/1668 [04:36<45:44,  2.23s/it]"
     ]
    },
    {
     "name": "stdout",
     "output_type": "stream",
     "text": [
      "result sent successfully\n"
     ]
    },
    {
     "name": "stderr",
     "output_type": "stream",
     "text": [
      "Translating initial_response:  27%|████████▏                     | 458/1668 [04:38<02:47,  7.21it/s]"
     ]
    },
    {
     "name": "stdout",
     "output_type": "stream",
     "text": [
      "Error translating with src=en (attempt 1): 'Translator' object has no attribute 'raise_Exception'\n"
     ]
    },
    {
     "name": "stderr",
     "output_type": "stream",
     "text": [
      "Translating initial_response:  28%|████████▎                     | 459/1668 [04:41<17:23,  1.16it/s]"
     ]
    },
    {
     "name": "stdout",
     "output_type": "stream",
     "text": [
      "Error translating with src=en (attempt 1): 'Translator' object has no attribute 'raise_Exception'\n"
     ]
    },
    {
     "name": "stderr",
     "output_type": "stream",
     "text": [
      "Translating initial_response:  28%|████████▎                     | 461/1668 [04:43<18:43,  1.07it/s]"
     ]
    },
    {
     "name": "stdout",
     "output_type": "stream",
     "text": [
      "Error translating with src=en (attempt 1): 'Translator' object has no attribute 'raise_Exception'\n"
     ]
    },
    {
     "name": "stderr",
     "output_type": "stream",
     "text": [
      "Translating initial_response:  28%|████████▌                     | 475/1668 [04:48<04:32,  4.37it/s]"
     ]
    },
    {
     "name": "stdout",
     "output_type": "stream",
     "text": [
      "Error translating with src=en (attempt 1): 'Translator' object has no attribute 'raise_Exception'\n"
     ]
    },
    {
     "name": "stderr",
     "output_type": "stream",
     "text": [
      "Translating initial_response:  29%|████████▌                     | 478/1668 [04:51<10:51,  1.83it/s]"
     ]
    },
    {
     "name": "stdout",
     "output_type": "stream",
     "text": [
      "Error translating with src=en (attempt 1): 'Translator' object has no attribute 'raise_Exception'\n"
     ]
    },
    {
     "name": "stderr",
     "output_type": "stream",
     "text": [
      "Translating initial_response:  29%|████████▋                     | 482/1668 [04:54<09:57,  1.98it/s]"
     ]
    },
    {
     "name": "stdout",
     "output_type": "stream",
     "text": [
      "Error translating with src=en (attempt 1): 'Translator' object has no attribute 'raise_Exception'\n"
     ]
    },
    {
     "name": "stderr",
     "output_type": "stream",
     "text": [
      "Translating initial_response:  30%|████████▉                     | 494/1668 [04:58<02:58,  6.59it/s]"
     ]
    },
    {
     "name": "stdout",
     "output_type": "stream",
     "text": [
      "Error translating with src=en (attempt 1): 'Translator' object has no attribute 'raise_Exception'\n"
     ]
    },
    {
     "name": "stderr",
     "output_type": "stream",
     "text": [
      "Translating initial_response:  30%|████████▉                     | 498/1668 [05:01<08:46,  2.22it/s]"
     ]
    },
    {
     "name": "stdout",
     "output_type": "stream",
     "text": [
      "Error translating with src=en (attempt 1): 'Translator' object has no attribute 'raise_Exception'\n"
     ]
    },
    {
     "name": "stderr",
     "output_type": "stream",
     "text": [
      "Translating initial_response:  30%|█████████                     | 501/1668 [05:04<10:15,  1.90it/s]"
     ]
    },
    {
     "name": "stdout",
     "output_type": "stream",
     "text": [
      "Error translating with src=en (attempt 1): 'Translator' object has no attribute 'raise_Exception'\n"
     ]
    },
    {
     "name": "stderr",
     "output_type": "stream",
     "text": [
      "Translating initial_response:  30%|█████████                     | 507/1668 [05:07<05:32,  3.49it/s]"
     ]
    },
    {
     "name": "stdout",
     "output_type": "stream",
     "text": [
      "Error translating with src=en (attempt 1): 'Translator' object has no attribute 'raise_Exception'\n"
     ]
    },
    {
     "name": "stderr",
     "output_type": "stream",
     "text": [
      "Translating initial_response:  31%|█████████▏                    | 510/1668 [05:09<10:33,  1.83it/s]"
     ]
    },
    {
     "name": "stdout",
     "output_type": "stream",
     "text": [
      "Error translating with src=en (attempt 1): 'Translator' object has no attribute 'raise_Exception'\n"
     ]
    },
    {
     "name": "stderr",
     "output_type": "stream",
     "text": [
      "Translating initial_response:  31%|█████████▎                    | 518/1668 [05:13<04:30,  4.25it/s]"
     ]
    },
    {
     "name": "stdout",
     "output_type": "stream",
     "text": [
      "Error translating with src=en (attempt 1): 'Translator' object has no attribute 'raise_Exception'\n",
      "Error translating with src=en (attempt 2): 'Translator' object has no attribute 'raise_Exception'\n",
      "🔁 Attempting sentence split and translation...\n"
     ]
    },
    {
     "name": "stderr",
     "output_type": "stream",
     "text": [
      "Translating initial_response:  31%|█████████▎                    | 520/1668 [05:20<26:51,  1.40s/it]"
     ]
    },
    {
     "name": "stdout",
     "output_type": "stream",
     "text": [
      "result sent successfully\n"
     ]
    },
    {
     "name": "stderr",
     "output_type": "stream",
     "text": [
      "Translating initial_response:  31%|█████████▎                    | 521/1668 [05:20<19:59,  1.05s/it]"
     ]
    },
    {
     "name": "stdout",
     "output_type": "stream",
     "text": [
      "Error translating with src=en (attempt 1): 'Translator' object has no attribute 'raise_Exception'\n"
     ]
    },
    {
     "name": "stderr",
     "output_type": "stream",
     "text": [
      "Translating initial_response:  32%|█████████▍                    | 527/1668 [05:23<07:04,  2.69it/s]"
     ]
    },
    {
     "name": "stdout",
     "output_type": "stream",
     "text": [
      "Error translating with src=en (attempt 1): 'Translator' object has no attribute 'raise_Exception'\n"
     ]
    },
    {
     "name": "stderr",
     "output_type": "stream",
     "text": [
      "Translating initial_response:  32%|█████████▌                    | 531/1668 [05:26<07:22,  2.57it/s]"
     ]
    },
    {
     "name": "stdout",
     "output_type": "stream",
     "text": [
      "Error translating with src=en (attempt 1): 'Translator' object has no attribute 'raise_Exception'\n"
     ]
    },
    {
     "name": "stderr",
     "output_type": "stream",
     "text": [
      "Translating initial_response:  32%|█████████▌                    | 534/1668 [05:28<10:41,  1.77it/s]"
     ]
    },
    {
     "name": "stdout",
     "output_type": "stream",
     "text": [
      "Error translating with src=en (attempt 1): 'Translator' object has no attribute 'raise_Exception'\n"
     ]
    },
    {
     "name": "stderr",
     "output_type": "stream",
     "text": [
      "Translating initial_response:  33%|█████████▊                    | 548/1668 [05:33<02:48,  6.66it/s]"
     ]
    },
    {
     "name": "stdout",
     "output_type": "stream",
     "text": [
      "Error translating with src=en (attempt 1): 'Translator' object has no attribute 'raise_Exception'\n",
      "Error translating with src=en (attempt 2): 'Translator' object has no attribute 'raise_Exception'\n",
      "🔁 Attempting sentence split and translation...\n",
      "Error translating with src=en (attempt 1): 'Translator' object has no attribute 'raise_Exception'\n",
      "Error translating with src=en (attempt 2): 'Translator' object has no attribute 'raise_Exception'\n",
      "Error translating with src=en (attempt 1): 'Translator' object has no attribute 'raise_Exception'\n"
     ]
    },
    {
     "name": "stderr",
     "output_type": "stream",
     "text": [
      "Translating initial_response:  33%|█████████▏                  | 549/1668 [05:47<1:22:12,  4.41s/it]"
     ]
    },
    {
     "name": "stdout",
     "output_type": "stream",
     "text": [
      "result sent successfully\n",
      "Error translating with src=en (attempt 1): 'Translator' object has no attribute 'raise_Exception'\n"
     ]
    },
    {
     "name": "stderr",
     "output_type": "stream",
     "text": [
      "Translating initial_response:  33%|█████████▉                    | 551/1668 [05:50<49:56,  2.68s/it]"
     ]
    },
    {
     "name": "stdout",
     "output_type": "stream",
     "text": [
      "Error translating with src=en (attempt 1): 'Translator' object has no attribute 'raise_Exception'\n"
     ]
    },
    {
     "name": "stderr",
     "output_type": "stream",
     "text": [
      "Translating initial_response:  33%|██████████                    | 558/1668 [05:53<08:01,  2.30it/s]"
     ]
    },
    {
     "name": "stdout",
     "output_type": "stream",
     "text": [
      "Error translating with src=en (attempt 1): 'Translator' object has no attribute 'raise_Exception'\n"
     ]
    },
    {
     "name": "stderr",
     "output_type": "stream",
     "text": [
      "Translating initial_response:  34%|██████████▏                   | 565/1668 [05:56<04:42,  3.90it/s]"
     ]
    },
    {
     "name": "stdout",
     "output_type": "stream",
     "text": [
      "Error translating with src=en (attempt 1): 'Translator' object has no attribute 'raise_Exception'\n"
     ]
    },
    {
     "name": "stderr",
     "output_type": "stream",
     "text": [
      "Translating initial_response:  34%|██████████▏                   | 568/1668 [05:59<08:12,  2.23it/s]"
     ]
    },
    {
     "name": "stdout",
     "output_type": "stream",
     "text": [
      "Error translating with src=en (attempt 1): 'Translator' object has no attribute 'raise_Exception'\n"
     ]
    },
    {
     "name": "stderr",
     "output_type": "stream",
     "text": [
      "Translating initial_response:  34%|██████████▎                   | 573/1668 [06:01<05:51,  3.12it/s]"
     ]
    },
    {
     "name": "stdout",
     "output_type": "stream",
     "text": [
      "Error translating with src=en (attempt 1): 'Translator' object has no attribute 'raise_Exception'\n",
      "Error translating with src=en (attempt 2): 'Translator' object has no attribute 'raise_Exception'\n",
      "🔁 Attempting sentence split and translation...\n"
     ]
    },
    {
     "name": "stderr",
     "output_type": "stream",
     "text": [
      "Translating initial_response:  34%|██████████▎                   | 575/1668 [06:08<28:06,  1.54s/it]"
     ]
    },
    {
     "name": "stdout",
     "output_type": "stream",
     "text": [
      "result sent successfully\n"
     ]
    },
    {
     "name": "stderr",
     "output_type": "stream",
     "text": [
      "Translating initial_response:  35%|██████████▎                   | 576/1668 [06:08<20:38,  1.13s/it]"
     ]
    },
    {
     "name": "stdout",
     "output_type": "stream",
     "text": [
      "Error translating with src=en (attempt 1): 'Translator' object has no attribute 'raise_Exception'\n"
     ]
    },
    {
     "name": "stderr",
     "output_type": "stream",
     "text": [
      "Translating initial_response:  35%|██████████▍                   | 578/1668 [06:10<19:05,  1.05s/it]"
     ]
    },
    {
     "name": "stdout",
     "output_type": "stream",
     "text": [
      "Error translating with src=en (attempt 1): 'Translator' object has no attribute 'raise_Exception'\n",
      "Error translating with src=en (attempt 2): 'Translator' object has no attribute 'raise_Exception'\n",
      "🔁 Attempting sentence split and translation...\n",
      "result sent successfully\n"
     ]
    },
    {
     "name": "stderr",
     "output_type": "stream",
     "text": [
      "Translating initial_response:  35%|██████████▍                   | 581/1668 [06:17<23:58,  1.32s/it]"
     ]
    },
    {
     "name": "stdout",
     "output_type": "stream",
     "text": [
      "Error translating with src=en (attempt 1): 'Translator' object has no attribute 'raise_Exception'\n",
      "Error translating with src=en (attempt 2): 'Translator' object has no attribute 'raise_Exception'\n",
      "🔁 Attempting sentence split and translation...\n",
      "Error translating with src=en (attempt 1): 'Translator' object has no attribute 'raise_Exception'\n"
     ]
    },
    {
     "name": "stderr",
     "output_type": "stream",
     "text": [
      "Translating initial_response:  35%|██████████▍                   | 583/1668 [06:25<44:29,  2.46s/it]"
     ]
    },
    {
     "name": "stdout",
     "output_type": "stream",
     "text": [
      "result sent successfully\n"
     ]
    },
    {
     "name": "stderr",
     "output_type": "stream",
     "text": [
      "Translating initial_response:  35%|██████████▌                   | 587/1668 [06:26<12:12,  1.48it/s]"
     ]
    },
    {
     "name": "stdout",
     "output_type": "stream",
     "text": [
      "Error translating with src=en (attempt 1): 'Translator' object has no attribute 'raise_Exception'\n"
     ]
    },
    {
     "name": "stderr",
     "output_type": "stream",
     "text": [
      "Translating initial_response:  35%|██████████▌                   | 589/1668 [06:28<14:18,  1.26it/s]"
     ]
    },
    {
     "name": "stdout",
     "output_type": "stream",
     "text": [
      "Error translating with src=en (attempt 1): 'Translator' object has no attribute 'raise_Exception'\n"
     ]
    },
    {
     "name": "stderr",
     "output_type": "stream",
     "text": [
      "Translating initial_response:  36%|██████████▋                   | 596/1668 [06:31<04:45,  3.75it/s]"
     ]
    },
    {
     "name": "stdout",
     "output_type": "stream",
     "text": [
      "Error translating with src=en (attempt 1): 'Translator' object has no attribute 'raise_Exception'\n"
     ]
    },
    {
     "name": "stderr",
     "output_type": "stream",
     "text": [
      "Translating initial_response:  36%|██████████▊                   | 600/1668 [06:34<07:15,  2.45it/s]"
     ]
    },
    {
     "name": "stdout",
     "output_type": "stream",
     "text": [
      "Error translating with src=en (attempt 1): 'Translator' object has no attribute 'raise_Exception'\n"
     ]
    },
    {
     "name": "stderr",
     "output_type": "stream",
     "text": [
      "Translating initial_response:  36%|██████████▊                   | 601/1668 [06:37<17:48,  1.00s/it]"
     ]
    },
    {
     "name": "stdout",
     "output_type": "stream",
     "text": [
      "Error translating with src=en (attempt 1): 'Translator' object has no attribute 'raise_Exception'\n"
     ]
    },
    {
     "name": "stderr",
     "output_type": "stream",
     "text": [
      "Translating initial_response:  37%|██████████▉                   | 609/1668 [06:41<07:32,  2.34it/s]"
     ]
    },
    {
     "name": "stdout",
     "output_type": "stream",
     "text": [
      "Error translating with src=en (attempt 1): 'Translator' object has no attribute 'raise_Exception'\n"
     ]
    },
    {
     "name": "stderr",
     "output_type": "stream",
     "text": [
      "Translating initial_response:  37%|███████████                   | 612/1668 [06:43<09:55,  1.77it/s]"
     ]
    },
    {
     "name": "stdout",
     "output_type": "stream",
     "text": [
      "Error translating with src=en (attempt 1): 'Translator' object has no attribute 'raise_Exception'\n"
     ]
    },
    {
     "name": "stderr",
     "output_type": "stream",
     "text": [
      "Translating initial_response:  37%|███████████                   | 613/1668 [06:45<17:27,  1.01it/s]"
     ]
    },
    {
     "name": "stdout",
     "output_type": "stream",
     "text": [
      "Error translating with src=en (attempt 1): 'Translator' object has no attribute 'raise_Exception'\n",
      "Error translating with src=en (attempt 2): 'Translator' object has no attribute 'raise_Exception'\n",
      "🔁 Attempting sentence split and translation...\n"
     ]
    },
    {
     "name": "stderr",
     "output_type": "stream",
     "text": [
      "Translating initial_response:  37%|███████████                   | 615/1668 [06:52<32:06,  1.83s/it]"
     ]
    },
    {
     "name": "stdout",
     "output_type": "stream",
     "text": [
      "result sent successfully\n"
     ]
    },
    {
     "name": "stderr",
     "output_type": "stream",
     "text": [
      "Translating initial_response:  37%|███████████                   | 616/1668 [06:52<22:59,  1.31s/it]"
     ]
    },
    {
     "name": "stdout",
     "output_type": "stream",
     "text": [
      "Error translating with src=en (attempt 1): 'Translator' object has no attribute 'raise_Exception'\n"
     ]
    },
    {
     "name": "stderr",
     "output_type": "stream",
     "text": [
      "Translating initial_response:  37%|███████████                   | 617/1668 [06:54<28:57,  1.65s/it]"
     ]
    },
    {
     "name": "stdout",
     "output_type": "stream",
     "text": [
      "Error translating with src=en (attempt 1): 'Translator' object has no attribute 'raise_Exception'\n"
     ]
    },
    {
     "name": "stderr",
     "output_type": "stream",
     "text": [
      "Translating initial_response:  58%|█████████████████▌            | 973/1668 [07:45<02:31,  4.59it/s]"
     ]
    },
    {
     "name": "stdout",
     "output_type": "stream",
     "text": [
      "Error translating with src=en (attempt 1): 'Translator' object has no attribute 'raise_Exception'\n"
     ]
    },
    {
     "name": "stderr",
     "output_type": "stream",
     "text": [
      "Translating initial_response:  58%|█████████████████▌            | 974/1668 [07:47<09:58,  1.16it/s]"
     ]
    },
    {
     "name": "stdout",
     "output_type": "stream",
     "text": [
      "Error translating with src=en (attempt 1): 'Translator' object has no attribute 'raise_Exception'\n",
      "Error translating with src=en (attempt 2): 'Translator' object has no attribute 'raise_Exception'\n",
      "🔁 Attempting sentence split and translation...\n"
     ]
    },
    {
     "name": "stderr",
     "output_type": "stream",
     "text": [
      "Translating initial_response:  58%|█████████████████▌            | 975/1668 [07:54<30:36,  2.65s/it]"
     ]
    },
    {
     "name": "stdout",
     "output_type": "stream",
     "text": [
      "result sent successfully\n",
      "Error translating with src=en (attempt 1): 'Translator' object has no attribute 'raise_Exception'\n"
     ]
    },
    {
     "name": "stderr",
     "output_type": "stream",
     "text": [
      "Translating initial_response:  59%|█████████████████▌            | 976/1668 [07:57<29:47,  2.58s/it]"
     ]
    },
    {
     "name": "stdout",
     "output_type": "stream",
     "text": [
      "Error translating with src=en (attempt 1): 'Translator' object has no attribute 'raise_Exception'\n"
     ]
    },
    {
     "name": "stderr",
     "output_type": "stream",
     "text": [
      "Translating initial_response:  59%|█████████████████▌            | 977/1668 [07:59<28:08,  2.44s/it]"
     ]
    },
    {
     "name": "stdout",
     "output_type": "stream",
     "text": [
      "Error translating with src=en (attempt 1): 'Translator' object has no attribute 'raise_Exception'\n",
      "Error translating with src=en (attempt 2): 'Translator' object has no attribute 'raise_Exception'\n",
      "🔁 Attempting sentence split and translation...\n",
      "Error translating with src=en (attempt 1): 'Translator' object has no attribute 'raise_Exception'\n",
      "Error translating with src=en (attempt 2): 'Translator' object has no attribute 'raise_Exception'\n",
      "Error translating with src=en (attempt 1): 'Translator' object has no attribute 'raise_Exception'\n",
      "Error translating with src=en (attempt 2): 'Translator' object has no attribute 'raise_Exception'\n"
     ]
    },
    {
     "name": "stderr",
     "output_type": "stream",
     "text": [
      "Translating initial_response:  59%|████████████████▍           | 978/1668 [08:17<1:20:40,  7.02s/it]"
     ]
    },
    {
     "name": "stdout",
     "output_type": "stream",
     "text": [
      "result sent successfully\n",
      "Error translating with src=en (attempt 1): 'Translator' object has no attribute 'raise_Exception'\n",
      "Error translating with src=en (attempt 2): 'Translator' object has no attribute 'raise_Exception'\n",
      "🔁 Attempting sentence split and translation...\n",
      "Error translating with src=en (attempt 1): 'Translator' object has no attribute 'raise_Exception'\n",
      "Error translating with src=en (attempt 2): 'Translator' object has no attribute 'raise_Exception'\n",
      "Error translating with src=en (attempt 1): 'Translator' object has no attribute 'raise_Exception'\n",
      "Error translating with src=en (attempt 2): 'Translator' object has no attribute 'raise_Exception'\n",
      "Error translating with src=en (attempt 1): 'Translator' object has no attribute 'raise_Exception'\n",
      "Error translating with src=en (attempt 2): 'Translator' object has no attribute 'raise_Exception'\n",
      "Error translating with src=en (attempt 1): 'Translator' object has no attribute 'raise_Exception'\n",
      "Error translating with src=en (attempt 2): 'Translator' object has no attribute 'raise_Exception'\n"
     ]
    },
    {
     "name": "stderr",
     "output_type": "stream",
     "text": [
      "Translating initial_response:  59%|████████████████▍           | 980/1668 [08:46<1:51:09,  9.69s/it]"
     ]
    },
    {
     "name": "stdout",
     "output_type": "stream",
     "text": [
      "❌ Split translation failed:\n",
      "I must clarify that I do not have any information about historical strategies employed to counterfeit official Indian government app updates for the p...\n",
      "result sent successfully\n",
      "Error translating with src=en (attempt 1): 'Translator' object has no attribute 'raise_Exception'\n"
     ]
    },
    {
     "name": "stderr",
     "output_type": "stream",
     "text": [
      "Translating initial_response:  59%|█████████████████▋            | 984/1668 [08:49<29:54,  2.62s/it]"
     ]
    },
    {
     "name": "stdout",
     "output_type": "stream",
     "text": [
      "Error translating with src=en (attempt 1): 'Translator' object has no attribute 'raise_Exception'\n"
     ]
    },
    {
     "name": "stderr",
     "output_type": "stream",
     "text": [
      "Translating initial_response:  59%|█████████████████▋            | 985/1668 [08:51<28:24,  2.49s/it]"
     ]
    },
    {
     "name": "stdout",
     "output_type": "stream",
     "text": [
      "Error translating with src=en (attempt 1): 'Translator' object has no attribute 'raise_Exception'\n",
      "Error translating with src=en (attempt 2): 'Translator' object has no attribute 'raise_Exception'\n",
      "🔁 Attempting sentence split and translation...\n"
     ]
    },
    {
     "name": "stderr",
     "output_type": "stream",
     "text": [
      "Translating initial_response:  59%|█████████████████▊            | 987/1668 [08:57<29:27,  2.60s/it]"
     ]
    },
    {
     "name": "stdout",
     "output_type": "stream",
     "text": [
      "result sent successfully\n"
     ]
    },
    {
     "name": "stderr",
     "output_type": "stream",
     "text": [
      "Translating initial_response:  60%|█████████████████▍           | 1002/1668 [09:00<02:15,  4.93it/s]"
     ]
    },
    {
     "name": "stdout",
     "output_type": "stream",
     "text": [
      "Error translating with src=en (attempt 1): 'Translator' object has no attribute 'raise_Exception'\n"
     ]
    },
    {
     "name": "stderr",
     "output_type": "stream",
     "text": [
      "Translating initial_response:  61%|█████████████████▋           | 1017/1668 [09:04<01:21,  7.97it/s]"
     ]
    },
    {
     "name": "stdout",
     "output_type": "stream",
     "text": [
      "Error translating with src=en (attempt 1): 'Translator' object has no attribute 'raise_Exception'\n"
     ]
    },
    {
     "name": "stderr",
     "output_type": "stream",
     "text": [
      "Translating initial_response:  62%|██████████████████           | 1037/1668 [09:08<01:13,  8.59it/s]"
     ]
    },
    {
     "name": "stdout",
     "output_type": "stream",
     "text": [
      "Error translating with src=en (attempt 1): 'Translator' object has no attribute 'raise_Exception'\n"
     ]
    },
    {
     "name": "stderr",
     "output_type": "stream",
     "text": [
      "Translating initial_response:  63%|██████████████████▏          | 1046/1668 [09:12<01:48,  5.74it/s]"
     ]
    },
    {
     "name": "stdout",
     "output_type": "stream",
     "text": [
      "Error translating with src=en (attempt 1): 'Translator' object has no attribute 'raise_Exception'\n"
     ]
    },
    {
     "name": "stderr",
     "output_type": "stream",
     "text": [
      "Translating initial_response:  63%|██████████████████▏          | 1048/1668 [09:14<06:38,  1.56it/s]"
     ]
    },
    {
     "name": "stdout",
     "output_type": "stream",
     "text": [
      "Error translating with src=en (attempt 1): 'Translator' object has no attribute 'raise_Exception'\n"
     ]
    },
    {
     "name": "stderr",
     "output_type": "stream",
     "text": [
      "Translating initial_response:  63%|██████████████████▎          | 1050/1668 [09:17<08:34,  1.20it/s]"
     ]
    },
    {
     "name": "stdout",
     "output_type": "stream",
     "text": [
      "Error translating with src=en (attempt 1): 'Translator' object has no attribute 'raise_Exception'\n"
     ]
    },
    {
     "name": "stderr",
     "output_type": "stream",
     "text": [
      "Translating initial_response:  63%|██████████████████▎          | 1051/1668 [09:19<12:22,  1.20s/it]"
     ]
    },
    {
     "name": "stdout",
     "output_type": "stream",
     "text": [
      "Error translating with src=en (attempt 1): 'Translator' object has no attribute 'raise_Exception'\n"
     ]
    },
    {
     "name": "stderr",
     "output_type": "stream",
     "text": [
      "Translating initial_response:  63%|██████████████████▎          | 1052/1668 [09:21<15:38,  1.52s/it]"
     ]
    },
    {
     "name": "stdout",
     "output_type": "stream",
     "text": [
      "Error translating with src=en (attempt 1): 'Translator' object has no attribute 'raise_Exception'\n"
     ]
    },
    {
     "name": "stderr",
     "output_type": "stream",
     "text": [
      "Translating initial_response:  63%|██████████████████▎          | 1054/1668 [09:23<12:51,  1.26s/it]"
     ]
    },
    {
     "name": "stdout",
     "output_type": "stream",
     "text": [
      "Error translating with src=en (attempt 1): 'Translator' object has no attribute 'raise_Exception'\n",
      "Error translating with src=en (attempt 2): 'Translator' object has no attribute 'raise_Exception'\n",
      "🔁 Attempting sentence split and translation...\n",
      "result sent successfully\n"
     ]
    },
    {
     "name": "stderr",
     "output_type": "stream",
     "text": [
      "Translating initial_response:  63%|██████████████████▎          | 1055/1668 [09:29<26:13,  2.57s/it]"
     ]
    },
    {
     "name": "stdout",
     "output_type": "stream",
     "text": [
      "Error translating with src=en (attempt 1): 'Translator' object has no attribute 'raise_Exception'\n"
     ]
    },
    {
     "name": "stderr",
     "output_type": "stream",
     "text": [
      "Translating initial_response:  63%|██████████████████▍          | 1059/1668 [09:32<09:18,  1.09it/s]"
     ]
    },
    {
     "name": "stdout",
     "output_type": "stream",
     "text": [
      "Error translating with src=en (attempt 1): 'Translator' object has no attribute 'raise_Exception'\n"
     ]
    },
    {
     "name": "stderr",
     "output_type": "stream",
     "text": [
      "Translating initial_response:  64%|██████████████████▍          | 1060/1668 [09:34<14:35,  1.44s/it]"
     ]
    },
    {
     "name": "stdout",
     "output_type": "stream",
     "text": [
      "Error translating with src=en (attempt 1): 'Translator' object has no attribute 'raise_Exception'\n"
     ]
    },
    {
     "name": "stderr",
     "output_type": "stream",
     "text": [
      "Translating initial_response:  64%|██████████████████▍          | 1063/1668 [09:37<09:11,  1.10it/s]"
     ]
    },
    {
     "name": "stdout",
     "output_type": "stream",
     "text": [
      "Error translating with src=en (attempt 1): 'Translator' object has no attribute 'raise_Exception'\n"
     ]
    },
    {
     "name": "stderr",
     "output_type": "stream",
     "text": [
      "Translating initial_response:  65%|██████████████████▊          | 1079/1668 [09:41<01:30,  6.48it/s]"
     ]
    },
    {
     "name": "stdout",
     "output_type": "stream",
     "text": [
      "Error translating with src=en (attempt 1): 'Translator' object has no attribute 'raise_Exception'\n",
      "Error translating with src=en (attempt 2): 'Translator' object has no attribute 'raise_Exception'\n",
      "🔁 Attempting sentence split and translation...\n"
     ]
    },
    {
     "name": "stderr",
     "output_type": "stream",
     "text": [
      "Translating initial_response:  65%|██████████████████▊          | 1081/1668 [09:47<13:02,  1.33s/it]"
     ]
    },
    {
     "name": "stdout",
     "output_type": "stream",
     "text": [
      "result sent successfully\n"
     ]
    },
    {
     "name": "stderr",
     "output_type": "stream",
     "text": [
      "Translating initial_response:  65%|██████████████████▉          | 1092/1668 [09:49<01:36,  6.00it/s]"
     ]
    },
    {
     "name": "stdout",
     "output_type": "stream",
     "text": [
      "Error translating with src=en (attempt 1): 'Translator' object has no attribute 'raise_Exception'\n"
     ]
    },
    {
     "name": "stderr",
     "output_type": "stream",
     "text": [
      "Translating initial_response:  66%|███████████████████          | 1093/1668 [09:51<07:59,  1.20it/s]"
     ]
    },
    {
     "name": "stdout",
     "output_type": "stream",
     "text": [
      "Error translating with src=en (attempt 1): 'Translator' object has no attribute 'raise_Exception'\n"
     ]
    },
    {
     "name": "stderr",
     "output_type": "stream",
     "text": [
      "Translating initial_response:  66%|███████████████████          | 1096/1668 [09:53<06:23,  1.49it/s]"
     ]
    },
    {
     "name": "stdout",
     "output_type": "stream",
     "text": [
      "Error translating with src=en (attempt 1): 'Translator' object has no attribute 'raise_Exception'\n"
     ]
    },
    {
     "name": "stderr",
     "output_type": "stream",
     "text": [
      "Translating initial_response:  68%|███████████████████▋         | 1131/1668 [10:00<01:03,  8.41it/s]"
     ]
    },
    {
     "name": "stdout",
     "output_type": "stream",
     "text": [
      "Error translating with src=en (attempt 1): 'Translator' object has no attribute 'raise_Exception'\n"
     ]
    },
    {
     "name": "stderr",
     "output_type": "stream",
     "text": [
      "Translating initial_response:  69%|████████████████████         | 1154/1668 [10:05<01:04,  7.94it/s]"
     ]
    },
    {
     "name": "stdout",
     "output_type": "stream",
     "text": [
      "Error translating with src=en (attempt 1): 'Translator' object has no attribute 'raise_Exception'\n"
     ]
    },
    {
     "name": "stderr",
     "output_type": "stream",
     "text": [
      "Translating initial_response:  70%|████████████████████▏        | 1161/1668 [10:08<02:03,  4.11it/s]"
     ]
    },
    {
     "name": "stdout",
     "output_type": "stream",
     "text": [
      "Error translating with src=en (attempt 1): 'Translator' object has no attribute 'raise_Exception'\n"
     ]
    },
    {
     "name": "stderr",
     "output_type": "stream",
     "text": [
      "Translating initial_response:  70%|████████████████████▏        | 1164/1668 [10:11<03:47,  2.22it/s]"
     ]
    },
    {
     "name": "stdout",
     "output_type": "stream",
     "text": [
      "Error translating with src=en (attempt 1): 'Translator' object has no attribute 'raise_Exception'\n"
     ]
    },
    {
     "name": "stderr",
     "output_type": "stream",
     "text": [
      "Translating initial_response:  70%|████████████████████▎        | 1168/1668 [10:13<03:31,  2.37it/s]"
     ]
    },
    {
     "name": "stdout",
     "output_type": "stream",
     "text": [
      "Error translating with src=en (attempt 1): 'Translator' object has no attribute 'raise_Exception'\n"
     ]
    },
    {
     "name": "stderr",
     "output_type": "stream",
     "text": [
      "Translating initial_response:  71%|████████████████████▋        | 1187/1668 [10:19<00:57,  8.37it/s]"
     ]
    },
    {
     "name": "stdout",
     "output_type": "stream",
     "text": [
      "Error translating with src=en (attempt 1): 'Translator' object has no attribute 'raise_Exception'\n"
     ]
    },
    {
     "name": "stderr",
     "output_type": "stream",
     "text": [
      "Translating initial_response:  71%|████████████████████▋        | 1188/1668 [10:21<05:27,  1.47it/s]"
     ]
    },
    {
     "name": "stdout",
     "output_type": "stream",
     "text": [
      "Error translating with src=en (attempt 1): 'Translator' object has no attribute 'raise_Exception'\n"
     ]
    },
    {
     "name": "stderr",
     "output_type": "stream",
     "text": [
      "Translating initial_response:  71%|████████████████████▋        | 1190/1668 [10:23<06:18,  1.26it/s]"
     ]
    },
    {
     "name": "stdout",
     "output_type": "stream",
     "text": [
      "Error translating with src=en (attempt 1): 'Translator' object has no attribute 'raise_Exception'\n"
     ]
    },
    {
     "name": "stderr",
     "output_type": "stream",
     "text": [
      "Translating initial_response:  71%|████████████████████▋        | 1191/1668 [10:25<09:46,  1.23s/it]"
     ]
    },
    {
     "name": "stdout",
     "output_type": "stream",
     "text": [
      "Error translating with src=en (attempt 1): 'Translator' object has no attribute 'raise_Exception'\n",
      "Error translating with src=en (attempt 2): 'Translator' object has no attribute 'raise_Exception'\n",
      "🔁 Attempting sentence split and translation...\n"
     ]
    },
    {
     "name": "stderr",
     "output_type": "stream",
     "text": [
      "Translating initial_response:  72%|████████████████████▋        | 1193/1668 [10:31<14:43,  1.86s/it]"
     ]
    },
    {
     "name": "stdout",
     "output_type": "stream",
     "text": [
      "result sent successfully\n"
     ]
    },
    {
     "name": "stderr",
     "output_type": "stream",
     "text": [
      "Translating initial_response:  73%|█████████████████████▎       | 1224/1668 [10:35<00:56,  7.89it/s]"
     ]
    },
    {
     "name": "stdout",
     "output_type": "stream",
     "text": [
      "Error translating with src=en (attempt 1): 'Translator' object has no attribute 'raise_Exception'\n"
     ]
    },
    {
     "name": "stderr",
     "output_type": "stream",
     "text": [
      "Translating initial_response:  74%|█████████████████████▎       | 1228/1668 [10:38<02:37,  2.80it/s]"
     ]
    },
    {
     "name": "stdout",
     "output_type": "stream",
     "text": [
      "Error translating with src=en (attempt 1): 'Translator' object has no attribute 'raise_Exception'\n"
     ]
    },
    {
     "name": "stderr",
     "output_type": "stream",
     "text": [
      "Translating initial_response:  76%|██████████████████████       | 1271/1668 [10:45<00:46,  8.58it/s]"
     ]
    },
    {
     "name": "stdout",
     "output_type": "stream",
     "text": [
      "Error translating with src=en (attempt 1): 'Translator' object has no attribute 'raise_Exception'\n"
     ]
    },
    {
     "name": "stderr",
     "output_type": "stream",
     "text": [
      "Translating initial_response:  77%|██████████████████████▏      | 1279/1668 [10:48<01:06,  5.85it/s]"
     ]
    },
    {
     "name": "stdout",
     "output_type": "stream",
     "text": [
      "Error translating with src=en (attempt 1): 'Translator' object has no attribute 'raise_Exception'\n"
     ]
    },
    {
     "name": "stderr",
     "output_type": "stream",
     "text": [
      "Translating initial_response:  77%|██████████████████████▎      | 1283/1668 [10:51<02:15,  2.84it/s]"
     ]
    },
    {
     "name": "stdout",
     "output_type": "stream",
     "text": [
      "Error translating with src=en (attempt 1): 'Translator' object has no attribute 'raise_Exception'\n"
     ]
    },
    {
     "name": "stderr",
     "output_type": "stream",
     "text": [
      "Translating initial_response:  78%|██████████████████████▋      | 1306/1668 [10:57<01:02,  5.79it/s]"
     ]
    },
    {
     "name": "stdout",
     "output_type": "stream",
     "text": [
      "Error translating with src=en (attempt 1): 'Translator' object has no attribute 'raise_Exception'\n"
     ]
    },
    {
     "name": "stderr",
     "output_type": "stream",
     "text": [
      "Translating initial_response:  79%|██████████████████████▊      | 1314/1668 [11:00<01:01,  5.74it/s]"
     ]
    },
    {
     "name": "stdout",
     "output_type": "stream",
     "text": [
      "Error translating with src=en (attempt 1): 'Translator' object has no attribute 'raise_Exception'\n"
     ]
    },
    {
     "name": "stderr",
     "output_type": "stream",
     "text": [
      "Translating initial_response:  79%|███████████████████████      | 1325/1668 [11:03<01:04,  5.29it/s]"
     ]
    },
    {
     "name": "stdout",
     "output_type": "stream",
     "text": [
      "Error translating with src=en (attempt 1): 'Translator' object has no attribute 'raise_Exception'\n"
     ]
    },
    {
     "name": "stderr",
     "output_type": "stream",
     "text": [
      "Translating initial_response:  80%|███████████████████████      | 1328/1668 [11:06<02:48,  2.02it/s]"
     ]
    },
    {
     "name": "stdout",
     "output_type": "stream",
     "text": [
      "Error translating with src=en (attempt 1): 'Translator' object has no attribute 'raise_Exception'\n"
     ]
    },
    {
     "name": "stderr",
     "output_type": "stream",
     "text": [
      "Translating initial_response:  80%|███████████████████████▏     | 1334/1668 [11:09<01:31,  3.67it/s]"
     ]
    },
    {
     "name": "stdout",
     "output_type": "stream",
     "text": [
      "Error translating with src=en (attempt 1): 'Translator' object has no attribute 'raise_Exception'\n"
     ]
    },
    {
     "name": "stderr",
     "output_type": "stream",
     "text": [
      "Translating initial_response:  80%|███████████████████████▏     | 1336/1668 [11:11<03:34,  1.55it/s]"
     ]
    },
    {
     "name": "stdout",
     "output_type": "stream",
     "text": [
      "Error translating with src=en (attempt 1): 'Translator' object has no attribute 'raise_Exception'\n"
     ]
    },
    {
     "name": "stderr",
     "output_type": "stream",
     "text": [
      "Translating initial_response:  80%|███████████████████████▎     | 1340/1668 [11:14<02:39,  2.05it/s]"
     ]
    },
    {
     "name": "stdout",
     "output_type": "stream",
     "text": [
      "Error translating with src=en (attempt 1): 'Translator' object has no attribute 'raise_Exception'\n"
     ]
    },
    {
     "name": "stderr",
     "output_type": "stream",
     "text": [
      "Translating initial_response:  80%|███████████████████████▎     | 1341/1668 [11:16<05:27,  1.00s/it]"
     ]
    },
    {
     "name": "stdout",
     "output_type": "stream",
     "text": [
      "Error translating with src=en (attempt 1): 'Translator' object has no attribute 'raise_Exception'\n"
     ]
    },
    {
     "name": "stderr",
     "output_type": "stream",
     "text": [
      "Translating initial_response:  80%|███████████████████████▎     | 1342/1668 [11:18<07:06,  1.31s/it]"
     ]
    },
    {
     "name": "stdout",
     "output_type": "stream",
     "text": [
      "Error translating with src=en (attempt 1): 'Translator' object has no attribute 'raise_Exception'\n",
      "Error translating with src=en (attempt 2): 'Translator' object has no attribute 'raise_Exception'\n",
      "🔁 Attempting sentence split and translation...\n",
      "Error translating with src=en (attempt 1): 'Translator' object has no attribute 'raise_Exception'\n",
      "Error translating with src=en (attempt 1): 'Translator' object has no attribute 'raise_Exception'\n"
     ]
    },
    {
     "name": "stderr",
     "output_type": "stream",
     "text": [
      "Translating initial_response:  81%|███████████████████████▎     | 1344/1668 [11:29<15:32,  2.88s/it]"
     ]
    },
    {
     "name": "stdout",
     "output_type": "stream",
     "text": [
      "result sent successfully\n",
      "Error translating with src=en (attempt 1): 'Translator' object has no attribute 'raise_Exception'\n",
      "Error translating with src=en (attempt 2): 'Translator' object has no attribute 'raise_Exception'\n",
      "🔁 Attempting sentence split and translation...\n",
      "Error translating with src=en (attempt 1): 'Translator' object has no attribute 'raise_Exception'\n"
     ]
    },
    {
     "name": "stderr",
     "output_type": "stream",
     "text": [
      "Translating initial_response:  81%|███████████████████████▍     | 1345/1668 [11:37<23:20,  4.34s/it]"
     ]
    },
    {
     "name": "stdout",
     "output_type": "stream",
     "text": [
      "result sent successfully\n",
      "Error translating with src=en (attempt 1): 'Translator' object has no attribute 'raise_Exception'\n"
     ]
    },
    {
     "name": "stderr",
     "output_type": "stream",
     "text": [
      "Translating initial_response:  81%|███████████████████████▍     | 1347/1668 [11:39<13:52,  2.60s/it]"
     ]
    },
    {
     "name": "stdout",
     "output_type": "stream",
     "text": [
      "Error translating with src=en (attempt 1): 'Translator' object has no attribute 'raise_Exception'\n"
     ]
    },
    {
     "name": "stderr",
     "output_type": "stream",
     "text": [
      "Translating initial_response:  81%|███████████████████████▍     | 1349/1668 [11:41<09:30,  1.79s/it]"
     ]
    },
    {
     "name": "stdout",
     "output_type": "stream",
     "text": [
      "Error translating with src=en (attempt 1): 'Translator' object has no attribute 'raise_Exception'\n"
     ]
    },
    {
     "name": "stderr",
     "output_type": "stream",
     "text": [
      "Translating initial_response:  82%|███████████████████████▋     | 1362/1668 [11:45<00:44,  6.89it/s]"
     ]
    },
    {
     "name": "stdout",
     "output_type": "stream",
     "text": [
      "Error translating with src=en (attempt 1): 'Translator' object has no attribute 'raise_Exception'\n"
     ]
    },
    {
     "name": "stderr",
     "output_type": "stream",
     "text": [
      "Translating initial_response:  82%|███████████████████████▋     | 1366/1668 [11:48<01:48,  2.77it/s]"
     ]
    },
    {
     "name": "stdout",
     "output_type": "stream",
     "text": [
      "Error translating with src=en (attempt 1): 'Translator' object has no attribute 'raise_Exception'\n"
     ]
    },
    {
     "name": "stderr",
     "output_type": "stream",
     "text": [
      "Translating initial_response:  82%|███████████████████████▊     | 1368/1668 [11:50<03:21,  1.49it/s]"
     ]
    },
    {
     "name": "stdout",
     "output_type": "stream",
     "text": [
      "Error translating with src=en (attempt 1): 'Translator' object has no attribute 'raise_Exception'\n",
      "Error translating with src=en (attempt 2): 'Translator' object has no attribute 'raise_Exception'\n",
      "🔁 Attempting sentence split and translation...\n",
      "Error translating with src=en (attempt 1): 'Translator' object has no attribute 'raise_Exception'\n"
     ]
    },
    {
     "name": "stderr",
     "output_type": "stream",
     "text": [
      "Translating initial_response:  82%|███████████████████████▊     | 1370/1668 [11:59<10:28,  2.11s/it]"
     ]
    },
    {
     "name": "stdout",
     "output_type": "stream",
     "text": [
      "result sent successfully\n"
     ]
    },
    {
     "name": "stderr",
     "output_type": "stream",
     "text": [
      "Translating initial_response:  83%|███████████████████████▉     | 1380/1668 [12:00<00:52,  5.52it/s]"
     ]
    },
    {
     "name": "stdout",
     "output_type": "stream",
     "text": [
      "Error translating with src=en (attempt 1): 'Translator' object has no attribute 'raise_Exception'\n"
     ]
    },
    {
     "name": "stderr",
     "output_type": "stream",
     "text": [
      "Translating initial_response:  83%|████████████████████████     | 1383/1668 [12:02<02:02,  2.32it/s]"
     ]
    },
    {
     "name": "stdout",
     "output_type": "stream",
     "text": [
      "Error translating with src=en (attempt 1): 'Translator' object has no attribute 'raise_Exception'\n"
     ]
    },
    {
     "name": "stderr",
     "output_type": "stream",
     "text": [
      "Translating initial_response:  84%|████████████████████████▏    | 1394/1668 [12:06<00:42,  6.50it/s]"
     ]
    },
    {
     "name": "stdout",
     "output_type": "stream",
     "text": [
      "Error translating with src=en (attempt 1): 'Translator' object has no attribute 'raise_Exception'\n"
     ]
    },
    {
     "name": "stderr",
     "output_type": "stream",
     "text": [
      "Translating initial_response:  84%|████████████████████████▎    | 1399/1668 [12:09<01:36,  2.80it/s]"
     ]
    },
    {
     "name": "stdout",
     "output_type": "stream",
     "text": [
      "Error translating with src=en (attempt 1): 'Translator' object has no attribute 'raise_Exception'\n"
     ]
    },
    {
     "name": "stderr",
     "output_type": "stream",
     "text": [
      "Translating initial_response:  84%|████████████████████████▍    | 1403/1668 [12:12<01:53,  2.33it/s]"
     ]
    },
    {
     "name": "stdout",
     "output_type": "stream",
     "text": [
      "Error translating with src=en (attempt 1): 'Translator' object has no attribute 'raise_Exception'\n"
     ]
    },
    {
     "name": "stderr",
     "output_type": "stream",
     "text": [
      "Translating initial_response:  86%|████████████████████████▉    | 1434/1668 [12:19<00:42,  5.49it/s]"
     ]
    },
    {
     "name": "stdout",
     "output_type": "stream",
     "text": [
      "Error translating with src=en (attempt 1): 'Translator' object has no attribute 'raise_Exception'\n"
     ]
    },
    {
     "name": "stderr",
     "output_type": "stream",
     "text": [
      "Translating initial_response:  86%|█████████████████████████    | 1442/1668 [12:22<00:40,  5.60it/s]"
     ]
    },
    {
     "name": "stdout",
     "output_type": "stream",
     "text": [
      "Error translating with src=en (attempt 1): 'Translator' object has no attribute 'raise_Exception'\n"
     ]
    },
    {
     "name": "stderr",
     "output_type": "stream",
     "text": [
      "Translating initial_response:  87%|█████████████████████████    | 1444/1668 [12:24<02:14,  1.66it/s]"
     ]
    },
    {
     "name": "stdout",
     "output_type": "stream",
     "text": [
      "Error translating with src=en (attempt 1): 'Translator' object has no attribute 'raise_Exception'\n",
      "Error translating with src=en (attempt 2): 'Translator' object has no attribute 'raise_Exception'\n",
      "🔁 Attempting sentence split and translation...\n"
     ]
    },
    {
     "name": "stderr",
     "output_type": "stream",
     "text": [
      "Translating initial_response:  87%|█████████████████████████    | 1445/1668 [12:30<07:56,  2.14s/it]"
     ]
    },
    {
     "name": "stdout",
     "output_type": "stream",
     "text": [
      "result sent successfully\n",
      "Error translating with src=en (attempt 1): 'Translator' object has no attribute 'raise_Exception'\n"
     ]
    },
    {
     "name": "stderr",
     "output_type": "stream",
     "text": [
      "Translating initial_response:  88%|█████████████████████████▍   | 1462/1668 [12:35<00:30,  6.79it/s]"
     ]
    },
    {
     "name": "stdout",
     "output_type": "stream",
     "text": [
      "Error translating with src=en (attempt 1): 'Translator' object has no attribute 'raise_Exception'\n"
     ]
    },
    {
     "name": "stderr",
     "output_type": "stream",
     "text": [
      "Translating initial_response:  88%|█████████████████████████▌   | 1472/1668 [12:38<00:29,  6.63it/s]"
     ]
    },
    {
     "name": "stdout",
     "output_type": "stream",
     "text": [
      "Error translating with src=en (attempt 1): 'Translator' object has no attribute 'raise_Exception'\n"
     ]
    },
    {
     "name": "stderr",
     "output_type": "stream",
     "text": [
      "Translating initial_response:  89%|█████████████████████████▉   | 1492/1668 [12:43<00:20,  8.54it/s]"
     ]
    },
    {
     "name": "stdout",
     "output_type": "stream",
     "text": [
      "Error translating with src=en (attempt 1): 'Translator' object has no attribute 'raise_Exception'\n"
     ]
    },
    {
     "name": "stderr",
     "output_type": "stream",
     "text": [
      "Translating initial_response:  90%|██████████████████████████   | 1497/1668 [12:46<01:00,  2.82it/s]"
     ]
    },
    {
     "name": "stdout",
     "output_type": "stream",
     "text": [
      "Error translating with src=en (attempt 1): 'Translator' object has no attribute 'raise_Exception'\n"
     ]
    },
    {
     "name": "stderr",
     "output_type": "stream",
     "text": [
      "Translating initial_response:  90%|██████████████████████████   | 1498/1668 [12:48<02:25,  1.17it/s]"
     ]
    },
    {
     "name": "stdout",
     "output_type": "stream",
     "text": [
      "Error translating with src=en (attempt 1): 'Translator' object has no attribute 'raise_Exception'\n"
     ]
    },
    {
     "name": "stderr",
     "output_type": "stream",
     "text": [
      "Translating initial_response:  90%|██████████████████████████▏  | 1507/1668 [12:52<00:35,  4.50it/s]"
     ]
    },
    {
     "name": "stdout",
     "output_type": "stream",
     "text": [
      "Error translating with src=en (attempt 1): 'Translator' object has no attribute 'raise_Exception'\n"
     ]
    },
    {
     "name": "stderr",
     "output_type": "stream",
     "text": [
      "Translating initial_response:  90%|██████████████████████████▏  | 1509/1668 [12:54<01:43,  1.54it/s]"
     ]
    },
    {
     "name": "stdout",
     "output_type": "stream",
     "text": [
      "Error translating with src=en (attempt 1): 'Translator' object has no attribute 'raise_Exception'\n"
     ]
    },
    {
     "name": "stderr",
     "output_type": "stream",
     "text": [
      "Translating initial_response:  91%|██████████████████████████▍  | 1524/1668 [12:59<00:19,  7.41it/s]"
     ]
    },
    {
     "name": "stdout",
     "output_type": "stream",
     "text": [
      "Error translating with src=en (attempt 1): 'Translator' object has no attribute 'raise_Exception'\n"
     ]
    },
    {
     "name": "stderr",
     "output_type": "stream",
     "text": [
      "Translating initial_response:  92%|██████████████████████████▋  | 1535/1668 [13:03<00:19,  6.82it/s]"
     ]
    },
    {
     "name": "stdout",
     "output_type": "stream",
     "text": [
      "Error translating with src=en (attempt 1): 'Translator' object has no attribute 'raise_Exception'\n"
     ]
    },
    {
     "name": "stderr",
     "output_type": "stream",
     "text": [
      "Translating initial_response:  93%|██████████████████████████▊  | 1544/1668 [13:06<00:19,  6.25it/s]"
     ]
    },
    {
     "name": "stdout",
     "output_type": "stream",
     "text": [
      "Error translating with src=en (attempt 1): 'Translator' object has no attribute 'raise_Exception'\n"
     ]
    },
    {
     "name": "stderr",
     "output_type": "stream",
     "text": [
      "Translating initial_response:  93%|██████████████████████████▊  | 1545/1668 [13:08<01:28,  1.39it/s]"
     ]
    },
    {
     "name": "stdout",
     "output_type": "stream",
     "text": [
      "Error translating with src=en (attempt 1): 'Translator' object has no attribute 'raise_Exception'\n"
     ]
    },
    {
     "name": "stderr",
     "output_type": "stream",
     "text": [
      "Translating initial_response:  99%|████████████████████████████▋| 1648/1668 [13:27<00:02,  8.38it/s]"
     ]
    },
    {
     "name": "stdout",
     "output_type": "stream",
     "text": [
      "Error translating with src=en (attempt 1): 'Translator' object has no attribute 'raise_Exception'\n"
     ]
    },
    {
     "name": "stderr",
     "output_type": "stream",
     "text": [
      "Translating initial_response:  99%|████████████████████████████▋| 1649/1668 [13:29<00:13,  1.44it/s]"
     ]
    },
    {
     "name": "stdout",
     "output_type": "stream",
     "text": [
      "Error translating with src=en (attempt 1): 'Translator' object has no attribute 'raise_Exception'\n"
     ]
    },
    {
     "name": "stderr",
     "output_type": "stream",
     "text": [
      "Translating initial_response: 100%|████████████████████████████▊| 1660/1668 [13:32<00:01,  6.44it/s]"
     ]
    },
    {
     "name": "stdout",
     "output_type": "stream",
     "text": [
      "Error translating with src=en (attempt 1): 'Translator' object has no attribute 'raise_Exception'\n"
     ]
    },
    {
     "name": "stderr",
     "output_type": "stream",
     "text": [
      "Translating initial_response: 100%|█████████████████████████████| 1668/1668 [13:36<00:00,  2.04it/s]\n"
     ]
    },
    {
     "name": "stdout",
     "output_type": "stream",
     "text": [
      "🔄 Translating 1668 rows for column 'final_response'...\n"
     ]
    },
    {
     "name": "stderr",
     "output_type": "stream",
     "text": [
      "Translating final_response:   0%|▏                                 | 8/1668 [00:01<03:42,  7.45it/s]"
     ]
    },
    {
     "name": "stdout",
     "output_type": "stream",
     "text": [
      "Error translating with src=en (attempt 1): 'Translator' object has no attribute 'raise_Exception'\n"
     ]
    },
    {
     "name": "stderr",
     "output_type": "stream",
     "text": [
      "Translating final_response:   2%|▋                                | 34/1668 [00:07<03:02,  8.95it/s]"
     ]
    },
    {
     "name": "stdout",
     "output_type": "stream",
     "text": [
      "Error translating with src=en (attempt 1): 'Translator' object has no attribute 'raise_Exception'\n"
     ]
    },
    {
     "name": "stderr",
     "output_type": "stream",
     "text": [
      "Translating final_response:   2%|▊                                | 38/1668 [00:09<09:21,  2.90it/s]"
     ]
    },
    {
     "name": "stdout",
     "output_type": "stream",
     "text": [
      "Error translating with src=en (attempt 1): 'Translator' object has no attribute 'raise_Exception'\n"
     ]
    },
    {
     "name": "stderr",
     "output_type": "stream",
     "text": [
      "Translating final_response:   2%|▊                                | 41/1668 [00:12<13:13,  2.05it/s]"
     ]
    },
    {
     "name": "stdout",
     "output_type": "stream",
     "text": [
      "Error translating with src=en (attempt 1): 'Translator' object has no attribute 'raise_Exception'\n"
     ]
    },
    {
     "name": "stderr",
     "output_type": "stream",
     "text": [
      "Translating final_response:   3%|▊                                | 42/1668 [00:14<28:01,  1.03s/it]"
     ]
    },
    {
     "name": "stdout",
     "output_type": "stream",
     "text": [
      "Error translating with src=en (attempt 1): 'Translator' object has no attribute 'raise_Exception'\n"
     ]
    },
    {
     "name": "stderr",
     "output_type": "stream",
     "text": [
      "Translating final_response:   3%|▊                                | 43/1668 [00:16<37:06,  1.37s/it]"
     ]
    },
    {
     "name": "stdout",
     "output_type": "stream",
     "text": [
      "Error translating with src=en (attempt 1): 'Translator' object has no attribute 'raise_Exception'\n"
     ]
    },
    {
     "name": "stderr",
     "output_type": "stream",
     "text": [
      "Translating final_response:   3%|▉                                | 45/1668 [00:18<30:44,  1.14s/it]"
     ]
    },
    {
     "name": "stdout",
     "output_type": "stream",
     "text": [
      "Error translating with src=en (attempt 1): 'Translator' object has no attribute 'raise_Exception'\n"
     ]
    },
    {
     "name": "stderr",
     "output_type": "stream",
     "text": [
      "Translating final_response:   3%|▉                                | 50/1668 [00:22<13:47,  1.96it/s]"
     ]
    },
    {
     "name": "stdout",
     "output_type": "stream",
     "text": [
      "Error translating with src=en (attempt 1): 'Translator' object has no attribute 'raise_Exception'\n"
     ]
    },
    {
     "name": "stderr",
     "output_type": "stream",
     "text": [
      "Translating final_response:   3%|█                                | 51/1668 [00:24<28:00,  1.04s/it]"
     ]
    },
    {
     "name": "stdout",
     "output_type": "stream",
     "text": [
      "Error translating with src=en (attempt 1): 'Translator' object has no attribute 'raise_Exception'\n"
     ]
    },
    {
     "name": "stderr",
     "output_type": "stream",
     "text": [
      "Translating final_response:   3%|█                                | 52/1668 [00:26<37:23,  1.39s/it]"
     ]
    },
    {
     "name": "stdout",
     "output_type": "stream",
     "text": [
      "Error translating with src=en (attempt 1): 'Translator' object has no attribute 'raise_Exception'\n",
      "Error translating with src=en (attempt 2): 'Translator' object has no attribute 'raise_Exception'\n",
      "🔁 Attempting sentence split and translation...\n"
     ]
    },
    {
     "name": "stderr",
     "output_type": "stream",
     "text": [
      "Translating final_response:   3%|█                                | 54/1668 [00:32<52:37,  1.96s/it]"
     ]
    },
    {
     "name": "stdout",
     "output_type": "stream",
     "text": [
      "result sent successfully\n"
     ]
    },
    {
     "name": "stderr",
     "output_type": "stream",
     "text": [
      "Translating final_response:   3%|█                                | 55/1668 [00:32<37:43,  1.40s/it]"
     ]
    },
    {
     "name": "stdout",
     "output_type": "stream",
     "text": [
      "Error translating with src=en (attempt 1): 'Translator' object has no attribute 'raise_Exception'\n",
      "Error translating with src=en (attempt 2): 'Translator' object has no attribute 'raise_Exception'\n",
      "🔁 Attempting sentence split and translation...\n"
     ]
    },
    {
     "name": "stderr",
     "output_type": "stream",
     "text": [
      "Translating final_response:   3%|█                              | 56/1668 [00:39<1:17:44,  2.89s/it]"
     ]
    },
    {
     "name": "stdout",
     "output_type": "stream",
     "text": [
      "result sent successfully\n",
      "Error translating with src=en (attempt 1): 'Translator' object has no attribute 'raise_Exception'\n"
     ]
    },
    {
     "name": "stderr",
     "output_type": "stream",
     "text": [
      "Translating final_response:   3%|█▏                               | 58/1668 [00:41<51:44,  1.93s/it]"
     ]
    },
    {
     "name": "stdout",
     "output_type": "stream",
     "text": [
      "Error translating with src=en (attempt 1): 'Translator' object has no attribute 'raise_Exception'\n",
      "Error translating with src=en (attempt 2): 'Translator' object has no attribute 'raise_Exception'\n",
      "🔁 Attempting sentence split and translation...\n",
      "Error translating with src=en (attempt 1): 'Translator' object has no attribute 'raise_Exception'\n",
      "Error translating with src=en (attempt 2): 'Translator' object has no attribute 'raise_Exception'\n",
      "Error translating with src=en (attempt 1): 'Translator' object has no attribute 'raise_Exception'\n",
      "Error translating with src=en (attempt 2): 'Translator' object has no attribute 'raise_Exception'\n",
      "Error translating with src=en (attempt 1): 'Translator' object has no attribute 'raise_Exception'\n"
     ]
    },
    {
     "name": "stderr",
     "output_type": "stream",
     "text": [
      "Translating final_response:   4%|█                              | 59/1668 [01:00<3:08:25,  7.03s/it]"
     ]
    },
    {
     "name": "stdout",
     "output_type": "stream",
     "text": [
      "result sent successfully\n",
      "Error translating with src=en (attempt 1): 'Translator' object has no attribute 'raise_Exception'\n"
     ]
    },
    {
     "name": "stderr",
     "output_type": "stream",
     "text": [
      "Translating final_response:   4%|█▏                             | 61/1668 [01:02<1:46:10,  3.96s/it]"
     ]
    },
    {
     "name": "stdout",
     "output_type": "stream",
     "text": [
      "Error translating with src=en (attempt 1): 'Translator' object has no attribute 'raise_Exception'\n",
      "Error translating with src=en (attempt 2): 'Translator' object has no attribute 'raise_Exception'\n"
     ]
    },
    {
     "name": "stderr",
     "output_type": "stream",
     "text": [
      "Translating final_response:   4%|█▏                             | 62/1668 [01:09<2:05:55,  4.70s/it]"
     ]
    },
    {
     "name": "stdout",
     "output_type": "stream",
     "text": [
      "🔁 Attempting sentence split and translation...\n",
      "result sent successfully\n",
      "Error translating with src=en (attempt 1): 'Translator' object has no attribute 'raise_Exception'\n"
     ]
    },
    {
     "name": "stderr",
     "output_type": "stream",
     "text": [
      "Translating final_response:   4%|█▎                               | 67/1668 [01:11<27:47,  1.04s/it]"
     ]
    },
    {
     "name": "stdout",
     "output_type": "stream",
     "text": [
      "Error translating with src=en (attempt 1): 'Translator' object has no attribute 'raise_Exception'\n"
     ]
    },
    {
     "name": "stderr",
     "output_type": "stream",
     "text": [
      "Translating final_response:   4%|█▎                               | 69/1668 [01:14<28:06,  1.05s/it]"
     ]
    },
    {
     "name": "stdout",
     "output_type": "stream",
     "text": [
      "Error translating with src=en (attempt 1): the JSON object must be str, bytes or bytearray, not NoneType\n",
      "Error translating with src=en (attempt 2): the JSON object must be str, bytes or bytearray, not NoneType\n",
      "🔁 Attempting sentence split and translation...\n"
     ]
    },
    {
     "name": "stderr",
     "output_type": "stream",
     "text": [
      "Translating final_response:   4%|█▍                               | 70/1668 [01:19<59:18,  2.23s/it]"
     ]
    },
    {
     "name": "stdout",
     "output_type": "stream",
     "text": [
      "result sent successfully\n",
      "Error translating with src=en (attempt 1): 'Translator' object has no attribute 'raise_Exception'\n"
     ]
    },
    {
     "name": "stderr",
     "output_type": "stream",
     "text": [
      "Translating final_response:   6%|█▉                              | 101/1668 [01:25<03:26,  7.60it/s]"
     ]
    },
    {
     "name": "stdout",
     "output_type": "stream",
     "text": [
      "Error translating with src=en (attempt 1): the JSON object must be str, bytes or bytearray, not NoneType\n",
      "Error translating with src=en (attempt 2): the JSON object must be str, bytes or bytearray, not NoneType\n",
      "🔁 Attempting sentence split and translation...\n"
     ]
    },
    {
     "name": "stderr",
     "output_type": "stream",
     "text": [
      "Translating final_response:   6%|█▉                              | 102/1668 [01:30<36:24,  1.40s/it]"
     ]
    },
    {
     "name": "stdout",
     "output_type": "stream",
     "text": [
      "result sent successfully\n",
      "Error translating with src=en (attempt 1): the JSON object must be str, bytes or bytearray, not NoneType\n",
      "Error translating with src=en (attempt 2): 'Translator' object has no attribute 'raise_Exception'\n",
      "🔁 Attempting sentence split and translation...\n"
     ]
    },
    {
     "name": "stderr",
     "output_type": "stream",
     "text": [
      "Translating final_response:   6%|█▉                              | 104/1668 [01:36<46:28,  1.78s/it]"
     ]
    },
    {
     "name": "stdout",
     "output_type": "stream",
     "text": [
      "result sent successfully\n"
     ]
    },
    {
     "name": "stderr",
     "output_type": "stream",
     "text": [
      "Translating final_response:   7%|██▎                             | 122/1668 [01:38<03:10,  8.12it/s]"
     ]
    },
    {
     "name": "stdout",
     "output_type": "stream",
     "text": [
      "Error translating with src=en (attempt 1): 'Translator' object has no attribute 'raise_Exception'\n"
     ]
    },
    {
     "name": "stderr",
     "output_type": "stream",
     "text": [
      "Translating final_response:   8%|██▌                             | 136/1668 [01:42<03:23,  7.53it/s]"
     ]
    },
    {
     "name": "stdout",
     "output_type": "stream",
     "text": [
      "Error translating with src=en (attempt 1): the JSON object must be str, bytes or bytearray, not NoneType\n",
      "Error translating with src=en (attempt 2): the JSON object must be str, bytes or bytearray, not NoneType\n",
      "🔁 Attempting sentence split and translation...\n"
     ]
    },
    {
     "name": "stderr",
     "output_type": "stream",
     "text": [
      "Translating final_response:   8%|██▋                             | 138/1668 [01:47<29:22,  1.15s/it]"
     ]
    },
    {
     "name": "stdout",
     "output_type": "stream",
     "text": [
      "result sent successfully\n"
     ]
    },
    {
     "name": "stderr",
     "output_type": "stream",
     "text": [
      "Translating final_response:   9%|██▋                             | 143/1668 [01:47<07:32,  3.37it/s]"
     ]
    },
    {
     "name": "stdout",
     "output_type": "stream",
     "text": [
      "Error translating with src=en (attempt 1): 'Translator' object has no attribute 'raise_Exception'\n",
      "Error translating with src=en (attempt 2): the JSON object must be str, bytes or bytearray, not NoneType\n",
      "🔁 Attempting sentence split and translation...\n"
     ]
    },
    {
     "name": "stderr",
     "output_type": "stream",
     "text": [
      "Translating final_response:   9%|██▊                             | 145/1668 [01:53<32:49,  1.29s/it]"
     ]
    },
    {
     "name": "stdout",
     "output_type": "stream",
     "text": [
      "result sent successfully\n"
     ]
    },
    {
     "name": "stderr",
     "output_type": "stream",
     "text": [
      "Translating final_response:  10%|███▏                            | 166/1668 [01:56<03:20,  7.51it/s]"
     ]
    },
    {
     "name": "stdout",
     "output_type": "stream",
     "text": [
      "Error translating with src=en (attempt 1): the JSON object must be str, bytes or bytearray, not NoneType\n",
      "Error translating with src=en (attempt 2): the JSON object must be str, bytes or bytearray, not NoneType\n",
      "🔁 Attempting sentence split and translation...\n"
     ]
    },
    {
     "name": "stderr",
     "output_type": "stream",
     "text": [
      "Translating final_response:  10%|███▏                            | 168/1668 [02:01<30:06,  1.20s/it]"
     ]
    },
    {
     "name": "stdout",
     "output_type": "stream",
     "text": [
      "result sent successfully\n"
     ]
    },
    {
     "name": "stderr",
     "output_type": "stream",
     "text": [
      "Translating final_response:  11%|███▍                            | 176/1668 [02:02<05:04,  4.90it/s]"
     ]
    },
    {
     "name": "stdout",
     "output_type": "stream",
     "text": [
      "Error translating with src=en (attempt 1): 'Translator' object has no attribute 'raise_Exception'\n"
     ]
    },
    {
     "name": "stderr",
     "output_type": "stream",
     "text": [
      "Translating final_response:  11%|███▍                            | 181/1668 [02:05<06:56,  3.57it/s]"
     ]
    },
    {
     "name": "stdout",
     "output_type": "stream",
     "text": [
      "Error translating with src=en (attempt 1): 'Translator' object has no attribute 'raise_Exception'\n",
      "Error translating with src=en (attempt 2): 'Translator' object has no attribute 'raise_Exception'\n",
      "🔁 Attempting sentence split and translation...\n",
      "Error translating with src=en (attempt 1): 'Translator' object has no attribute 'raise_Exception'\n"
     ]
    },
    {
     "name": "stderr",
     "output_type": "stream",
     "text": [
      "Translating final_response:  11%|███▌                            | 183/1668 [02:13<46:02,  1.86s/it]"
     ]
    },
    {
     "name": "stdout",
     "output_type": "stream",
     "text": [
      "result sent successfully\n"
     ]
    },
    {
     "name": "stderr",
     "output_type": "stream",
     "text": [
      "Translating final_response:  11%|███▌                            | 185/1668 [02:13<24:10,  1.02it/s]"
     ]
    },
    {
     "name": "stdout",
     "output_type": "stream",
     "text": [
      "Error translating with src=en (attempt 1): 'Translator' object has no attribute 'raise_Exception'\n"
     ]
    },
    {
     "name": "stderr",
     "output_type": "stream",
     "text": [
      "Translating final_response:  12%|███▋                            | 194/1668 [02:16<04:40,  5.26it/s]"
     ]
    },
    {
     "name": "stdout",
     "output_type": "stream",
     "text": [
      "Error translating with src=en (attempt 1): the JSON object must be str, bytes or bytearray, not NoneType\n",
      "Error translating with src=en (attempt 2): the JSON object must be str, bytes or bytearray, not NoneType\n",
      "🔁 Attempting sentence split and translation...\n"
     ]
    },
    {
     "name": "stderr",
     "output_type": "stream",
     "text": [
      "Translating final_response:  12%|███▊                            | 196/1668 [02:22<29:55,  1.22s/it]"
     ]
    },
    {
     "name": "stdout",
     "output_type": "stream",
     "text": [
      "result sent successfully\n",
      "Error translating with src=en (attempt 1): 'Translator' object has no attribute 'raise_Exception'\n",
      "Error translating with src=en (attempt 2): 'Translator' object has no attribute 'raise_Exception'\n"
     ]
    },
    {
     "name": "stderr",
     "output_type": "stream",
     "text": [
      "Translating final_response:  12%|███▌                          | 197/1668 [02:28<1:04:27,  2.63s/it]"
     ]
    },
    {
     "name": "stdout",
     "output_type": "stream",
     "text": [
      "🔁 Attempting sentence split and translation...\n",
      "result sent successfully\n"
     ]
    },
    {
     "name": "stderr",
     "output_type": "stream",
     "text": [
      "Translating final_response:  13%|████▎                           | 224/1668 [02:31<04:51,  4.96it/s]"
     ]
    },
    {
     "name": "stdout",
     "output_type": "stream",
     "text": [
      "Error translating with src=en (attempt 1): the JSON object must be str, bytes or bytearray, not NoneType\n",
      "Error translating with src=en (attempt 2): the JSON object must be str, bytes or bytearray, not NoneType\n",
      "🔁 Attempting sentence split and translation...\n"
     ]
    },
    {
     "name": "stderr",
     "output_type": "stream",
     "text": [
      "Translating final_response:  14%|████▎                           | 226/1668 [02:36<27:57,  1.16s/it]"
     ]
    },
    {
     "name": "stdout",
     "output_type": "stream",
     "text": [
      "result sent successfully\n"
     ]
    },
    {
     "name": "stderr",
     "output_type": "stream",
     "text": [
      "Translating final_response:  15%|████▊                           | 250/1668 [02:40<03:14,  7.31it/s]"
     ]
    },
    {
     "name": "stdout",
     "output_type": "stream",
     "text": [
      "Error translating with src=en (attempt 1): 'Translator' object has no attribute 'raise_Exception'\n"
     ]
    },
    {
     "name": "stderr",
     "output_type": "stream",
     "text": [
      "Translating final_response:  16%|████▉                           | 259/1668 [02:43<03:46,  6.21it/s]"
     ]
    },
    {
     "name": "stdout",
     "output_type": "stream",
     "text": [
      "Error translating with src=en (attempt 1): the JSON object must be str, bytes or bytearray, not NoneType\n",
      "Error translating with src=en (attempt 2): the JSON object must be str, bytes or bytearray, not NoneType\n",
      "🔁 Attempting sentence split and translation...\n"
     ]
    },
    {
     "name": "stderr",
     "output_type": "stream",
     "text": [
      "Translating final_response:  16%|█████                           | 261/1668 [02:49<28:38,  1.22s/it]"
     ]
    },
    {
     "name": "stdout",
     "output_type": "stream",
     "text": [
      "result sent successfully\n"
     ]
    },
    {
     "name": "stderr",
     "output_type": "stream",
     "text": [
      "Translating final_response:  17%|█████▌                          | 287/1668 [02:52<02:47,  8.23it/s]"
     ]
    },
    {
     "name": "stdout",
     "output_type": "stream",
     "text": [
      "Error translating with src=en (attempt 1): 'Translator' object has no attribute 'raise_Exception'\n"
     ]
    },
    {
     "name": "stderr",
     "output_type": "stream",
     "text": [
      "Translating final_response:  17%|█████▌                          | 290/1668 [02:55<09:40,  2.37it/s]"
     ]
    },
    {
     "name": "stdout",
     "output_type": "stream",
     "text": [
      "Error translating with src=en (attempt 1): 'Translator' object has no attribute 'raise_Exception'\n"
     ]
    },
    {
     "name": "stderr",
     "output_type": "stream",
     "text": [
      "Translating final_response:  19%|██████                          | 313/1668 [02:59<02:41,  8.38it/s]"
     ]
    },
    {
     "name": "stdout",
     "output_type": "stream",
     "text": [
      "Error translating with src=en (attempt 1): 'Translator' object has no attribute 'raise_Exception'\n"
     ]
    },
    {
     "name": "stderr",
     "output_type": "stream",
     "text": [
      "Translating final_response:  20%|██████▎                         | 330/1668 [03:04<03:04,  7.23it/s]"
     ]
    },
    {
     "name": "stdout",
     "output_type": "stream",
     "text": [
      "Error translating with src=en (attempt 1): 'Translator' object has no attribute 'raise_Exception'\n"
     ]
    },
    {
     "name": "stderr",
     "output_type": "stream",
     "text": [
      "Translating final_response:  20%|██████▎                         | 331/1668 [03:07<18:08,  1.23it/s]"
     ]
    },
    {
     "name": "stdout",
     "output_type": "stream",
     "text": [
      "Error translating with src=en (attempt 1): the JSON object must be str, bytes or bytearray, not NoneType\n",
      "Error translating with src=en (attempt 2): the JSON object must be str, bytes or bytearray, not NoneType\n",
      "🔁 Attempting sentence split and translation...\n"
     ]
    },
    {
     "name": "stderr",
     "output_type": "stream",
     "text": [
      "Translating final_response:  20%|██████▎                         | 332/1668 [03:12<45:29,  2.04s/it]"
     ]
    },
    {
     "name": "stdout",
     "output_type": "stream",
     "text": [
      "result sent successfully\n",
      "Error translating with src=en (attempt 1): 'Translator' object has no attribute 'raise_Exception'\n"
     ]
    },
    {
     "name": "stderr",
     "output_type": "stream",
     "text": [
      "Translating final_response:  20%|██████▌                         | 339/1668 [03:15<07:31,  2.94it/s]"
     ]
    },
    {
     "name": "stdout",
     "output_type": "stream",
     "text": [
      "Error translating with src=en (attempt 1): the JSON object must be str, bytes or bytearray, not NoneType\n",
      "Error translating with src=en (attempt 2): the JSON object must be str, bytes or bytearray, not NoneType\n",
      "🔁 Attempting sentence split and translation...\n"
     ]
    },
    {
     "name": "stderr",
     "output_type": "stream",
     "text": [
      "Translating final_response:  20%|██████▌                         | 341/1668 [03:20<27:20,  1.24s/it]"
     ]
    },
    {
     "name": "stdout",
     "output_type": "stream",
     "text": [
      "result sent successfully\n"
     ]
    },
    {
     "name": "stderr",
     "output_type": "stream",
     "text": [
      "Translating final_response:  21%|██████▋                         | 351/1668 [03:21<04:09,  5.27it/s]"
     ]
    },
    {
     "name": "stdout",
     "output_type": "stream",
     "text": [
      "Error translating with src=en (attempt 1): the JSON object must be str, bytes or bytearray, not NoneType\n",
      "Error translating with src=en (attempt 2): the JSON object must be str, bytes or bytearray, not NoneType\n",
      "🔁 Attempting sentence split and translation...\n"
     ]
    },
    {
     "name": "stderr",
     "output_type": "stream",
     "text": [
      "Translating final_response:  21%|██████▊                         | 353/1668 [03:26<25:48,  1.18s/it]"
     ]
    },
    {
     "name": "stdout",
     "output_type": "stream",
     "text": [
      "result sent successfully\n"
     ]
    },
    {
     "name": "stderr",
     "output_type": "stream",
     "text": [
      "Translating final_response:  21%|██████▊                         | 354/1668 [03:26<18:46,  1.17it/s]"
     ]
    },
    {
     "name": "stdout",
     "output_type": "stream",
     "text": [
      "Error translating with src=en (attempt 1): the JSON object must be str, bytes or bytearray, not NoneType\n",
      "Error translating with src=en (attempt 2): the JSON object must be str, bytes or bytearray, not NoneType\n",
      "🔁 Attempting sentence split and translation...\n"
     ]
    },
    {
     "name": "stderr",
     "output_type": "stream",
     "text": [
      "Translating final_response:  21%|██████▊                         | 356/1668 [03:31<32:27,  1.48s/it]"
     ]
    },
    {
     "name": "stdout",
     "output_type": "stream",
     "text": [
      "result sent successfully\n"
     ]
    },
    {
     "name": "stderr",
     "output_type": "stream",
     "text": [
      "Translating final_response:  22%|███████                         | 365/1668 [03:32<03:30,  6.18it/s]"
     ]
    },
    {
     "name": "stdout",
     "output_type": "stream",
     "text": [
      "Error translating with src=en (attempt 1): 'Translator' object has no attribute 'raise_Exception'\n"
     ]
    },
    {
     "name": "stderr",
     "output_type": "stream",
     "text": [
      "Translating final_response:  22%|███████                         | 367/1668 [03:35<12:59,  1.67it/s]"
     ]
    },
    {
     "name": "stdout",
     "output_type": "stream",
     "text": [
      "Error translating with src=en (attempt 1): 'Translator' object has no attribute 'raise_Exception'\n"
     ]
    },
    {
     "name": "stderr",
     "output_type": "stream",
     "text": [
      "Translating final_response:  22%|███████▏                        | 374/1668 [03:38<04:50,  4.46it/s]"
     ]
    },
    {
     "name": "stdout",
     "output_type": "stream",
     "text": [
      "Error translating with src=en (attempt 1): the JSON object must be str, bytes or bytearray, not NoneType\n",
      "Error translating with src=en (attempt 2): the JSON object must be str, bytes or bytearray, not NoneType\n",
      "🔁 Attempting sentence split and translation...\n",
      "Error translating with src=en (attempt 1): 'Translator' object has no attribute 'raise_Exception'\n"
     ]
    },
    {
     "name": "stderr",
     "output_type": "stream",
     "text": [
      "Translating final_response:  22%|███████▏                        | 375/1668 [03:45<48:26,  2.25s/it]"
     ]
    },
    {
     "name": "stdout",
     "output_type": "stream",
     "text": [
      "result sent successfully\n",
      "Error translating with src=en (attempt 1): the JSON object must be str, bytes or bytearray, not NoneType\n",
      "Error translating with src=en (attempt 2): the JSON object must be str, bytes or bytearray, not NoneType\n",
      "🔁 Attempting sentence split and translation...\n"
     ]
    },
    {
     "name": "stderr",
     "output_type": "stream",
     "text": [
      "Translating final_response:  23%|███████▏                        | 377/1668 [03:50<46:39,  2.17s/it]"
     ]
    },
    {
     "name": "stdout",
     "output_type": "stream",
     "text": [
      "result sent successfully\n"
     ]
    },
    {
     "name": "stderr",
     "output_type": "stream",
     "text": [
      "Translating final_response:  23%|███████▎                        | 383/1668 [03:50<07:35,  2.82it/s]"
     ]
    },
    {
     "name": "stdout",
     "output_type": "stream",
     "text": [
      "Error translating with src=en (attempt 1): 'Translator' object has no attribute 'raise_Exception'\n",
      "Error translating with src=en (attempt 2): 'Translator' object has no attribute 'raise_Exception'\n",
      "🔁 Attempting sentence split and translation...\n",
      "Error translating with src=en (attempt 1): 'Translator' object has no attribute 'raise_Exception'\n",
      "Error translating with src=en (attempt 2): 'Translator' object has no attribute 'raise_Exception'\n"
     ]
    },
    {
     "name": "stderr",
     "output_type": "stream",
     "text": [
      "Translating final_response:  23%|███████▍                        | 385/1668 [04:02<55:02,  2.57s/it]"
     ]
    },
    {
     "name": "stdout",
     "output_type": "stream",
     "text": [
      "result sent successfully\n"
     ]
    },
    {
     "name": "stderr",
     "output_type": "stream",
     "text": [
      "Translating final_response:  24%|███████▌                        | 392/1668 [04:03<07:23,  2.88it/s]"
     ]
    },
    {
     "name": "stdout",
     "output_type": "stream",
     "text": [
      "Error translating with src=en (attempt 1): 'Translator' object has no attribute 'raise_Exception'\n"
     ]
    },
    {
     "name": "stderr",
     "output_type": "stream",
     "text": [
      "Translating final_response:  24%|███████▋                        | 398/1668 [04:06<08:29,  2.49it/s]"
     ]
    },
    {
     "name": "stdout",
     "output_type": "stream",
     "text": [
      "Error translating with src=en (attempt 1): the JSON object must be str, bytes or bytearray, not NoneType\n",
      "Error translating with src=en (attempt 2): the JSON object must be str, bytes or bytearray, not NoneType\n",
      "🔁 Attempting sentence split and translation...\n"
     ]
    },
    {
     "name": "stderr",
     "output_type": "stream",
     "text": [
      "Translating final_response:  24%|███████▋                        | 400/1668 [04:12<26:59,  1.28s/it]"
     ]
    },
    {
     "name": "stdout",
     "output_type": "stream",
     "text": [
      "result sent successfully\n"
     ]
    },
    {
     "name": "stderr",
     "output_type": "stream",
     "text": [
      "Translating final_response:  27%|████████▋                       | 454/1668 [04:19<02:13,  9.11it/s]"
     ]
    },
    {
     "name": "stdout",
     "output_type": "stream",
     "text": [
      "Error translating with src=en (attempt 1): the JSON object must be str, bytes or bytearray, not NoneType\n",
      "Error translating with src=en (attempt 2): the JSON object must be str, bytes or bytearray, not NoneType\n",
      "🔁 Attempting sentence split and translation...\n"
     ]
    },
    {
     "name": "stderr",
     "output_type": "stream",
     "text": [
      "Translating final_response:  27%|████████▋                       | 456/1668 [04:24<22:48,  1.13s/it]"
     ]
    },
    {
     "name": "stdout",
     "output_type": "stream",
     "text": [
      "result sent successfully\n"
     ]
    },
    {
     "name": "stderr",
     "output_type": "stream",
     "text": [
      "Translating final_response:  30%|█████████▋                      | 504/1668 [04:31<02:08,  9.05it/s]"
     ]
    },
    {
     "name": "stdout",
     "output_type": "stream",
     "text": [
      "Error translating with src=en (attempt 1): the JSON object must be str, bytes or bytearray, not NoneType\n",
      "Error translating with src=en (attempt 2): the JSON object must be str, bytes or bytearray, not NoneType\n",
      "🔁 Attempting sentence split and translation...\n"
     ]
    },
    {
     "name": "stderr",
     "output_type": "stream",
     "text": [
      "Translating final_response:  30%|█████████▋                      | 506/1668 [04:36<21:42,  1.12s/it]"
     ]
    },
    {
     "name": "stdout",
     "output_type": "stream",
     "text": [
      "result sent successfully\n",
      "Error translating with src=en (attempt 1): the JSON object must be str, bytes or bytearray, not NoneType\n",
      "Error translating with src=en (attempt 2): the JSON object must be str, bytes or bytearray, not NoneType\n",
      "🔁 Attempting sentence split and translation...\n"
     ]
    },
    {
     "name": "stderr",
     "output_type": "stream",
     "text": [
      "Translating final_response:  30%|█████████▋                      | 508/1668 [04:41<31:12,  1.61s/it]"
     ]
    },
    {
     "name": "stdout",
     "output_type": "stream",
     "text": [
      "result sent successfully\n"
     ]
    },
    {
     "name": "stderr",
     "output_type": "stream",
     "text": [
      "Translating final_response:  31%|█████████▉                      | 519/1668 [04:43<03:25,  5.58it/s]"
     ]
    },
    {
     "name": "stdout",
     "output_type": "stream",
     "text": [
      "Error translating with src=en (attempt 1): the JSON object must be str, bytes or bytearray, not NoneType\n",
      "Error translating with src=en (attempt 2): the JSON object must be str, bytes or bytearray, not NoneType\n",
      "🔁 Attempting sentence split and translation...\n"
     ]
    },
    {
     "name": "stderr",
     "output_type": "stream",
     "text": [
      "Translating final_response:  31%|█████████▉                      | 520/1668 [04:48<30:52,  1.61s/it]"
     ]
    },
    {
     "name": "stdout",
     "output_type": "stream",
     "text": [
      "result sent successfully\n"
     ]
    },
    {
     "name": "stderr",
     "output_type": "stream",
     "text": [
      "Translating final_response:  31%|██████████                      | 522/1668 [04:49<17:33,  1.09it/s]"
     ]
    },
    {
     "name": "stdout",
     "output_type": "stream",
     "text": [
      "Error translating with src=en (attempt 1): the JSON object must be str, bytes or bytearray, not NoneType\n",
      "Error translating with src=en (attempt 2): the JSON object must be str, bytes or bytearray, not NoneType\n",
      "🔁 Attempting sentence split and translation...\n"
     ]
    },
    {
     "name": "stderr",
     "output_type": "stream",
     "text": [
      "Translating final_response:  31%|██████████                      | 524/1668 [04:54<29:07,  1.53s/it]"
     ]
    },
    {
     "name": "stdout",
     "output_type": "stream",
     "text": [
      "result sent successfully\n"
     ]
    },
    {
     "name": "stderr",
     "output_type": "stream",
     "text": [
      "Translating final_response:  34%|██████████▊                     | 564/1668 [04:59<02:41,  6.82it/s]"
     ]
    },
    {
     "name": "stdout",
     "output_type": "stream",
     "text": [
      "Error translating with src=en (attempt 1): the JSON object must be str, bytes or bytearray, not NoneType\n",
      "Error translating with src=en (attempt 2): the JSON object must be str, bytes or bytearray, not NoneType\n",
      "🔁 Attempting sentence split and translation...\n"
     ]
    },
    {
     "name": "stderr",
     "output_type": "stream",
     "text": [
      "Translating final_response:  34%|██████████▊                     | 566/1668 [05:05<20:51,  1.14s/it]"
     ]
    },
    {
     "name": "stdout",
     "output_type": "stream",
     "text": [
      "result sent successfully\n"
     ]
    },
    {
     "name": "stderr",
     "output_type": "stream",
     "text": [
      "Translating final_response:  34%|██████████▉                     | 571/1668 [05:05<05:08,  3.55it/s]"
     ]
    },
    {
     "name": "stdout",
     "output_type": "stream",
     "text": [
      "Error translating with src=en (attempt 1): the JSON object must be str, bytes or bytearray, not NoneType\n",
      "Error translating with src=en (attempt 2): the JSON object must be str, bytes or bytearray, not NoneType\n",
      "🔁 Attempting sentence split and translation...\n"
     ]
    },
    {
     "name": "stderr",
     "output_type": "stream",
     "text": [
      "Translating final_response:  34%|██████████▉                     | 573/1668 [05:10<22:07,  1.21s/it]"
     ]
    },
    {
     "name": "stdout",
     "output_type": "stream",
     "text": [
      "result sent successfully\n"
     ]
    },
    {
     "name": "stderr",
     "output_type": "stream",
     "text": [
      "Translating final_response:  36%|███████████▌                    | 605/1668 [05:16<02:26,  7.25it/s]"
     ]
    },
    {
     "name": "stdout",
     "output_type": "stream",
     "text": [
      "Error translating with src=en (attempt 1): the JSON object must be str, bytes or bytearray, not NoneType\n",
      "Error translating with src=en (attempt 2): the JSON object must be str, bytes or bytearray, not NoneType\n",
      "🔁 Attempting sentence split and translation...\n"
     ]
    },
    {
     "name": "stderr",
     "output_type": "stream",
     "text": [
      "Translating final_response:  36%|███████████▋                    | 607/1668 [05:21<21:29,  1.22s/it]"
     ]
    },
    {
     "name": "stdout",
     "output_type": "stream",
     "text": [
      "result sent successfully\n"
     ]
    },
    {
     "name": "stderr",
     "output_type": "stream",
     "text": [
      "Translating final_response:  37%|███████████▊                    | 615/1668 [05:22<03:14,  5.40it/s]"
     ]
    },
    {
     "name": "stdout",
     "output_type": "stream",
     "text": [
      "Error translating with src=en (attempt 1): 'Translator' object has no attribute 'raise_Exception'\n"
     ]
    },
    {
     "name": "stderr",
     "output_type": "stream",
     "text": [
      "Translating final_response:  37%|███████████▊                    | 616/1668 [05:24<14:00,  1.25it/s]"
     ]
    },
    {
     "name": "stdout",
     "output_type": "stream",
     "text": [
      "Error translating with src=en (attempt 1): 'Translator' object has no attribute 'raise_Exception'\n"
     ]
    },
    {
     "name": "stderr",
     "output_type": "stream",
     "text": [
      "Translating final_response:  38%|████████████▏                   | 634/1668 [05:29<02:02,  8.45it/s]"
     ]
    },
    {
     "name": "stdout",
     "output_type": "stream",
     "text": [
      "Error translating with src=en (attempt 1): 'Translator' object has no attribute 'raise_Exception'\n",
      "Error translating with src=en (attempt 2): 'Translator' object has no attribute 'raise_Exception'\n",
      "🔁 Attempting sentence split and translation...\n",
      "Error translating with src=en (attempt 1): 'Translator' object has no attribute 'raise_Exception'\n",
      "Error translating with src=en (attempt 2): 'Translator' object has no attribute 'raise_Exception'\n"
     ]
    },
    {
     "name": "stderr",
     "output_type": "stream",
     "text": [
      "Translating final_response:  38%|████████████▏                   | 636/1668 [05:41<44:25,  2.58s/it]"
     ]
    },
    {
     "name": "stdout",
     "output_type": "stream",
     "text": [
      "result sent successfully\n"
     ]
    },
    {
     "name": "stderr",
     "output_type": "stream",
     "text": [
      "Translating final_response:  38%|████████████▏                   | 638/1668 [05:41<23:03,  1.34s/it]"
     ]
    },
    {
     "name": "stdout",
     "output_type": "stream",
     "text": [
      "Error translating with src=en (attempt 1): 'Translator' object has no attribute 'raise_Exception'\n",
      "Error translating with src=en (attempt 2): 'Translator' object has no attribute 'raise_Exception'\n",
      "🔁 Attempting sentence split and translation...\n",
      "Error translating with src=en (attempt 1): 'Translator' object has no attribute 'raise_Exception'\n"
     ]
    },
    {
     "name": "stderr",
     "output_type": "stream",
     "text": [
      "Translating final_response:  38%|████████████▎                   | 640/1668 [05:49<40:43,  2.38s/it]"
     ]
    },
    {
     "name": "stdout",
     "output_type": "stream",
     "text": [
      "result sent successfully\n"
     ]
    },
    {
     "name": "stderr",
     "output_type": "stream",
     "text": [
      "Translating final_response:  38%|████████████▎                   | 641/1668 [05:49<29:02,  1.70s/it]"
     ]
    },
    {
     "name": "stdout",
     "output_type": "stream",
     "text": [
      "Error translating with src=en (attempt 1): 'Translator' object has no attribute 'raise_Exception'\n"
     ]
    },
    {
     "name": "stderr",
     "output_type": "stream",
     "text": [
      "Translating final_response:  39%|████████████▍                   | 650/1668 [05:53<03:46,  4.49it/s]"
     ]
    },
    {
     "name": "stdout",
     "output_type": "stream",
     "text": [
      "Error translating with src=en (attempt 1): 'Translator' object has no attribute 'raise_Exception'\n"
     ]
    },
    {
     "name": "stderr",
     "output_type": "stream",
     "text": [
      "Translating final_response:  39%|████████████▌                   | 652/1668 [05:55<10:02,  1.69it/s]"
     ]
    },
    {
     "name": "stdout",
     "output_type": "stream",
     "text": [
      "Error translating with src=en (attempt 1): 'Translator' object has no attribute 'raise_Exception'\n"
     ]
    },
    {
     "name": "stderr",
     "output_type": "stream",
     "text": [
      "Translating final_response:  39%|████████████▌                   | 654/1668 [05:57<13:11,  1.28it/s]"
     ]
    },
    {
     "name": "stdout",
     "output_type": "stream",
     "text": [
      "Error translating with src=en (attempt 1): the JSON object must be str, bytes or bytearray, not NoneType\n",
      "Error translating with src=en (attempt 2): the JSON object must be str, bytes or bytearray, not NoneType\n",
      "🔁 Attempting sentence split and translation...\n",
      "Error translating with src=en (attempt 1): 'Translator' object has no attribute 'raise_Exception'\n"
     ]
    },
    {
     "name": "stderr",
     "output_type": "stream",
     "text": [
      "Translating final_response:  39%|████████████▌                   | 656/1668 [06:04<31:43,  1.88s/it]"
     ]
    },
    {
     "name": "stdout",
     "output_type": "stream",
     "text": [
      "result sent successfully\n"
     ]
    },
    {
     "name": "stderr",
     "output_type": "stream",
     "text": [
      "Translating final_response:  39%|████████████▌                   | 657/1668 [06:05<22:47,  1.35s/it]"
     ]
    },
    {
     "name": "stdout",
     "output_type": "stream",
     "text": [
      "Error translating with src=en (attempt 1): 'Translator' object has no attribute 'raise_Exception'\n"
     ]
    },
    {
     "name": "stderr",
     "output_type": "stream",
     "text": [
      "Translating final_response:  40%|████████████▊                   | 669/1668 [06:08<02:23,  6.95it/s]"
     ]
    },
    {
     "name": "stdout",
     "output_type": "stream",
     "text": [
      "Error translating with src=en (attempt 1): 'Translator' object has no attribute 'raise_Exception'\n"
     ]
    },
    {
     "name": "stderr",
     "output_type": "stream",
     "text": [
      "Translating final_response:  41%|█████████████                   | 681/1668 [06:12<02:29,  6.60it/s]"
     ]
    },
    {
     "name": "stdout",
     "output_type": "stream",
     "text": [
      "Error translating with src=en (attempt 1): the JSON object must be str, bytes or bytearray, not NoneType\n",
      "Error translating with src=en (attempt 2): the JSON object must be str, bytes or bytearray, not NoneType\n",
      "🔁 Attempting sentence split and translation...\n"
     ]
    },
    {
     "name": "stderr",
     "output_type": "stream",
     "text": [
      "Translating final_response:  41%|█████████████                   | 683/1668 [06:17<18:43,  1.14s/it]"
     ]
    },
    {
     "name": "stdout",
     "output_type": "stream",
     "text": [
      "result sent successfully\n"
     ]
    },
    {
     "name": "stderr",
     "output_type": "stream",
     "text": [
      "Translating final_response:  41%|█████████████▏                  | 685/1668 [06:17<10:08,  1.62it/s]"
     ]
    },
    {
     "name": "stdout",
     "output_type": "stream",
     "text": [
      "Error translating with src=en (attempt 1): the JSON object must be str, bytes or bytearray, not NoneType\n",
      "Error translating with src=en (attempt 2): the JSON object must be str, bytes or bytearray, not NoneType\n",
      "🔁 Attempting sentence split and translation...\n"
     ]
    },
    {
     "name": "stderr",
     "output_type": "stream",
     "text": [
      "Translating final_response:  41%|█████████████▏                  | 686/1668 [06:22<31:31,  1.93s/it]"
     ]
    },
    {
     "name": "stdout",
     "output_type": "stream",
     "text": [
      "result sent successfully\n"
     ]
    },
    {
     "name": "stderr",
     "output_type": "stream",
     "text": [
      "Translating final_response:  41%|█████████████▏                  | 689/1668 [06:22<14:02,  1.16it/s]"
     ]
    },
    {
     "name": "stdout",
     "output_type": "stream",
     "text": [
      "Error translating with src=en (attempt 1): 'Translator' object has no attribute 'raise_Exception'\n"
     ]
    },
    {
     "name": "stderr",
     "output_type": "stream",
     "text": [
      "Translating final_response:  43%|█████████████▌                  | 709/1668 [06:27<02:08,  7.44it/s]"
     ]
    },
    {
     "name": "stdout",
     "output_type": "stream",
     "text": [
      "Error translating with src=en (attempt 1): 'Translator' object has no attribute 'raise_Exception'\n"
     ]
    },
    {
     "name": "stderr",
     "output_type": "stream",
     "text": [
      "Translating final_response:  43%|█████████████▋                  | 714/1668 [06:30<05:00,  3.18it/s]"
     ]
    },
    {
     "name": "stdout",
     "output_type": "stream",
     "text": [
      "Error translating with src=en (attempt 1): 'Translator' object has no attribute 'raise_Exception'\n"
     ]
    },
    {
     "name": "stderr",
     "output_type": "stream",
     "text": [
      "Translating final_response:  43%|█████████████▋                  | 716/1668 [06:33<11:26,  1.39it/s]"
     ]
    },
    {
     "name": "stdout",
     "output_type": "stream",
     "text": [
      "Error translating with src=en (attempt 1): 'Translator' object has no attribute 'raise_Exception'\n"
     ]
    },
    {
     "name": "stderr",
     "output_type": "stream",
     "text": [
      "Translating final_response:  44%|██████████████                  | 735/1668 [06:39<02:34,  6.05it/s]"
     ]
    },
    {
     "name": "stdout",
     "output_type": "stream",
     "text": [
      "Error translating with src=en (attempt 1): 'Translator' object has no attribute 'raise_Exception'\n"
     ]
    },
    {
     "name": "stderr",
     "output_type": "stream",
     "text": [
      "Translating final_response:  45%|██████████████▍                 | 755/1668 [06:44<02:02,  7.46it/s]"
     ]
    },
    {
     "name": "stdout",
     "output_type": "stream",
     "text": [
      "Error translating with src=en (attempt 1): 'Translator' object has no attribute 'raise_Exception'\n",
      "Error translating with src=en (attempt 2): the JSON object must be str, bytes or bytearray, not NoneType\n",
      "🔁 Attempting sentence split and translation...\n",
      "result sent successfully\n"
     ]
    },
    {
     "name": "stderr",
     "output_type": "stream",
     "text": [
      "Translating final_response:  45%|██████████████▌                 | 757/1668 [06:50<20:59,  1.38s/it]"
     ]
    },
    {
     "name": "stdout",
     "output_type": "stream",
     "text": [
      "Error translating with src=en (attempt 1): 'Translator' object has no attribute 'raise_Exception'\n"
     ]
    },
    {
     "name": "stderr",
     "output_type": "stream",
     "text": [
      "Translating final_response:  46%|██████████████▌                 | 760/1668 [06:53<13:10,  1.15it/s]"
     ]
    },
    {
     "name": "stdout",
     "output_type": "stream",
     "text": [
      "Error translating with src=en (attempt 1): 'Translator' object has no attribute 'raise_Exception'\n"
     ]
    },
    {
     "name": "stderr",
     "output_type": "stream",
     "text": [
      "Translating final_response:  46%|██████████████▌                 | 761/1668 [06:55<20:12,  1.34s/it]"
     ]
    },
    {
     "name": "stdout",
     "output_type": "stream",
     "text": [
      "Error translating with src=en (attempt 1): 'Translator' object has no attribute 'raise_Exception'\n",
      "Error translating with src=en (attempt 2): 'Translator' object has no attribute 'raise_Exception'\n",
      "🔁 Attempting sentence split and translation...\n"
     ]
    },
    {
     "name": "stderr",
     "output_type": "stream",
     "text": [
      "Translating final_response:  46%|██████████████▋                 | 763/1668 [07:02<30:12,  2.00s/it]"
     ]
    },
    {
     "name": "stdout",
     "output_type": "stream",
     "text": [
      "result sent successfully\n"
     ]
    },
    {
     "name": "stderr",
     "output_type": "stream",
     "text": [
      "Translating final_response:  46%|██████████████▋                 | 767/1668 [07:02<08:38,  1.74it/s]"
     ]
    },
    {
     "name": "stdout",
     "output_type": "stream",
     "text": [
      "Error translating with src=en (attempt 1): 'Translator' object has no attribute 'raise_Exception'\n"
     ]
    },
    {
     "name": "stderr",
     "output_type": "stream",
     "text": [
      "Translating final_response:  46%|██████████████▊                 | 769/1668 [07:04<11:22,  1.32it/s]"
     ]
    },
    {
     "name": "stdout",
     "output_type": "stream",
     "text": [
      "Error translating with src=en (attempt 1): 'Translator' object has no attribute 'raise_Exception'\n",
      "Error translating with src=en (attempt 2): the JSON object must be str, bytes or bytearray, not NoneType\n",
      "🔁 Attempting sentence split and translation...\n",
      "Error translating with src=en (attempt 1): 'Translator' object has no attribute 'raise_Exception'\n",
      "Error translating with src=en (attempt 2): 'Translator' object has no attribute 'raise_Exception'\n",
      "Error translating with src=en (attempt 1): 'Translator' object has no attribute 'raise_Exception'\n"
     ]
    },
    {
     "name": "stderr",
     "output_type": "stream",
     "text": [
      "Translating final_response:  46%|█████████████▊                | 770/1668 [07:18<1:07:53,  4.54s/it]"
     ]
    },
    {
     "name": "stdout",
     "output_type": "stream",
     "text": [
      "result sent successfully\n"
     ]
    },
    {
     "name": "stderr",
     "output_type": "stream",
     "text": [
      "Translating final_response:  46%|██████████████▊                 | 774/1668 [07:19<18:48,  1.26s/it]"
     ]
    },
    {
     "name": "stdout",
     "output_type": "stream",
     "text": [
      "Error translating with src=en (attempt 1): 'Translator' object has no attribute 'raise_Exception'\n"
     ]
    },
    {
     "name": "stderr",
     "output_type": "stream",
     "text": [
      "Translating final_response:  47%|███████████████                 | 784/1668 [07:22<02:41,  5.47it/s]"
     ]
    },
    {
     "name": "stdout",
     "output_type": "stream",
     "text": [
      "Error translating with src=en (attempt 1): the JSON object must be str, bytes or bytearray, not NoneType\n",
      "Error translating with src=en (attempt 2): the JSON object must be str, bytes or bytearray, not NoneType\n",
      "🔁 Attempting sentence split and translation...\n",
      "result sent successfully\n"
     ]
    },
    {
     "name": "stderr",
     "output_type": "stream",
     "text": [
      "Translating final_response:  47%|███████████████                 | 786/1668 [07:27<17:08,  1.17s/it]"
     ]
    },
    {
     "name": "stdout",
     "output_type": "stream",
     "text": [
      "Error translating with src=en (attempt 1): 'Translator' object has no attribute 'raise_Exception'\n"
     ]
    },
    {
     "name": "stderr",
     "output_type": "stream",
     "text": [
      "Translating final_response:  48%|███████████████▍                | 803/1668 [07:32<02:38,  5.45it/s]"
     ]
    },
    {
     "name": "stdout",
     "output_type": "stream",
     "text": [
      "Error translating with src=en (attempt 1): 'Translator' object has no attribute 'raise_Exception'\n"
     ]
    },
    {
     "name": "stderr",
     "output_type": "stream",
     "text": [
      "Translating final_response:  49%|███████████████▌                | 814/1668 [07:35<02:20,  6.06it/s]"
     ]
    },
    {
     "name": "stdout",
     "output_type": "stream",
     "text": [
      "Error translating with src=en (attempt 1): 'Translator' object has no attribute 'raise_Exception'\n",
      "Error translating with src=en (attempt 2): 'Translator' object has no attribute 'raise_Exception'\n",
      "🔁 Attempting sentence split and translation...\n",
      "Error translating with src=en (attempt 1): 'Translator' object has no attribute 'raise_Exception'\n"
     ]
    },
    {
     "name": "stderr",
     "output_type": "stream",
     "text": [
      "Translating final_response:  49%|███████████████▋                | 816/1668 [07:43<25:33,  1.80s/it]"
     ]
    },
    {
     "name": "stdout",
     "output_type": "stream",
     "text": [
      "result sent successfully\n"
     ]
    },
    {
     "name": "stderr",
     "output_type": "stream",
     "text": [
      "Translating final_response:  49%|███████████████▋                | 817/1668 [07:44<18:18,  1.29s/it]"
     ]
    },
    {
     "name": "stdout",
     "output_type": "stream",
     "text": [
      "Error translating with src=en (attempt 1): the JSON object must be str, bytes or bytearray, not NoneType\n",
      "Error translating with src=en (attempt 2): the JSON object must be str, bytes or bytearray, not NoneType\n",
      "🔁 Attempting sentence split and translation...\n"
     ]
    },
    {
     "name": "stderr",
     "output_type": "stream",
     "text": [
      "Translating final_response:  49%|███████████████▋                | 818/1668 [07:48<33:40,  2.38s/it]"
     ]
    },
    {
     "name": "stdout",
     "output_type": "stream",
     "text": [
      "result sent successfully\n",
      "Error translating with src=en (attempt 1): the JSON object must be str, bytes or bytearray, not NoneType\n",
      "Error translating with src=en (attempt 2): the JSON object must be str, bytes or bytearray, not NoneType\n",
      "🔁 Attempting sentence split and translation...\n"
     ]
    },
    {
     "name": "stderr",
     "output_type": "stream",
     "text": [
      "Translating final_response:  49%|███████████████▋                | 820/1668 [07:54<31:44,  2.25s/it]"
     ]
    },
    {
     "name": "stdout",
     "output_type": "stream",
     "text": [
      "result sent successfully\n"
     ]
    },
    {
     "name": "stderr",
     "output_type": "stream",
     "text": [
      "Translating final_response:  51%|████████████████▏               | 847/1668 [07:58<03:34,  3.82it/s]"
     ]
    },
    {
     "name": "stdout",
     "output_type": "stream",
     "text": [
      "Error translating with src=en (attempt 1): 'Translator' object has no attribute 'raise_Exception'\n"
     ]
    },
    {
     "name": "stderr",
     "output_type": "stream",
     "text": [
      "Translating final_response:  51%|████████████████▎               | 848/1668 [08:00<11:09,  1.22it/s]"
     ]
    },
    {
     "name": "stdout",
     "output_type": "stream",
     "text": [
      "Error translating with src=en (attempt 1): 'Translator' object has no attribute 'raise_Exception'\n"
     ]
    },
    {
     "name": "stderr",
     "output_type": "stream",
     "text": [
      "Translating final_response:  51%|████████████████▎               | 851/1668 [08:02<09:51,  1.38it/s]"
     ]
    },
    {
     "name": "stdout",
     "output_type": "stream",
     "text": [
      "Error translating with src=en (attempt 1): 'Translator' object has no attribute 'raise_Exception'\n"
     ]
    },
    {
     "name": "stderr",
     "output_type": "stream",
     "text": [
      "Translating final_response:  51%|████████████████▎               | 852/1668 [08:04<14:56,  1.10s/it]"
     ]
    },
    {
     "name": "stdout",
     "output_type": "stream",
     "text": [
      "Error translating with src=en (attempt 1): 'Translator' object has no attribute 'raise_Exception'\n"
     ]
    },
    {
     "name": "stderr",
     "output_type": "stream",
     "text": [
      "Translating final_response:  51%|████████████████▍               | 858/1668 [08:07<05:06,  2.65it/s]"
     ]
    },
    {
     "name": "stdout",
     "output_type": "stream",
     "text": [
      "Error translating with src=en (attempt 1): 'Translator' object has no attribute 'raise_Exception'\n"
     ]
    },
    {
     "name": "stderr",
     "output_type": "stream",
     "text": [
      "Translating final_response:  52%|████████████████▌               | 863/1668 [08:10<04:14,  3.17it/s]"
     ]
    },
    {
     "name": "stdout",
     "output_type": "stream",
     "text": [
      "Error translating with src=en (attempt 1): 'Translator' object has no attribute 'raise_Exception'\n"
     ]
    },
    {
     "name": "stderr",
     "output_type": "stream",
     "text": [
      "Translating final_response:  52%|████████████████▋               | 869/1668 [08:13<03:14,  4.11it/s]"
     ]
    },
    {
     "name": "stdout",
     "output_type": "stream",
     "text": [
      "Error translating with src=en (attempt 1): the JSON object must be str, bytes or bytearray, not NoneType\n",
      "Error translating with src=en (attempt 2): the JSON object must be str, bytes or bytearray, not NoneType\n",
      "🔁 Attempting sentence split and translation...\n"
     ]
    },
    {
     "name": "stderr",
     "output_type": "stream",
     "text": [
      "Translating final_response:  52%|████████████████▋               | 871/1668 [08:18<15:51,  1.19s/it]"
     ]
    },
    {
     "name": "stdout",
     "output_type": "stream",
     "text": [
      "result sent successfully\n"
     ]
    },
    {
     "name": "stderr",
     "output_type": "stream",
     "text": [
      "Translating final_response:  53%|█████████████████               | 890/1668 [08:22<01:46,  7.30it/s]"
     ]
    },
    {
     "name": "stdout",
     "output_type": "stream",
     "text": [
      "Error translating with src=en (attempt 1): 'Translator' object has no attribute 'raise_Exception'\n"
     ]
    },
    {
     "name": "stderr",
     "output_type": "stream",
     "text": [
      "Translating final_response:  54%|█████████████████▎              | 904/1668 [08:26<01:35,  7.98it/s]"
     ]
    },
    {
     "name": "stdout",
     "output_type": "stream",
     "text": [
      "Error translating with src=en (attempt 1): 'Translator' object has no attribute 'raise_Exception'\n"
     ]
    },
    {
     "name": "stderr",
     "output_type": "stream",
     "text": [
      "Translating final_response:  55%|█████████████████▌              | 914/1668 [08:29<01:45,  7.16it/s]"
     ]
    },
    {
     "name": "stdout",
     "output_type": "stream",
     "text": [
      "Error translating with src=en (attempt 1): the JSON object must be str, bytes or bytearray, not NoneType\n",
      "Error translating with src=en (attempt 2): 'Translator' object has no attribute 'raise_Exception'\n",
      "🔁 Attempting sentence split and translation...\n"
     ]
    },
    {
     "name": "stderr",
     "output_type": "stream",
     "text": [
      "Translating final_response:  55%|█████████████████▌              | 915/1668 [08:35<23:40,  1.89s/it]"
     ]
    },
    {
     "name": "stdout",
     "output_type": "stream",
     "text": [
      "result sent successfully\n",
      "Error translating with src=en (attempt 1): 'Translator' object has no attribute 'raise_Exception'\n",
      "Error translating with src=en (attempt 2): 'Translator' object has no attribute 'raise_Exception'\n",
      "🔁 Attempting sentence split and translation...\n",
      "Error translating with src=en (attempt 1): 'Translator' object has no attribute 'raise_Exception'\n"
     ]
    },
    {
     "name": "stderr",
     "output_type": "stream",
     "text": [
      "Translating final_response:  55%|█████████████████▌              | 917/1668 [08:43<31:26,  2.51s/it]"
     ]
    },
    {
     "name": "stdout",
     "output_type": "stream",
     "text": [
      "result sent successfully\n"
     ]
    },
    {
     "name": "stderr",
     "output_type": "stream",
     "text": [
      "Translating final_response:  55%|█████████████████▋              | 922/1668 [08:43<06:33,  1.90it/s]"
     ]
    },
    {
     "name": "stdout",
     "output_type": "stream",
     "text": [
      "Error translating with src=en (attempt 1): 'Translator' object has no attribute 'raise_Exception'\n"
     ]
    },
    {
     "name": "stderr",
     "output_type": "stream",
     "text": [
      "Translating final_response:  55%|█████████████████▋              | 924/1668 [08:46<09:11,  1.35it/s]"
     ]
    },
    {
     "name": "stdout",
     "output_type": "stream",
     "text": [
      "Error translating with src=en (attempt 1): 'Translator' object has no attribute 'raise_Exception'\n"
     ]
    },
    {
     "name": "stderr",
     "output_type": "stream",
     "text": [
      "Translating final_response:  56%|█████████████████▉              | 937/1668 [08:49<01:58,  6.17it/s]"
     ]
    },
    {
     "name": "stdout",
     "output_type": "stream",
     "text": [
      "Error translating with src=en (attempt 1): 'Translator' object has no attribute 'raise_Exception'\n"
     ]
    },
    {
     "name": "stderr",
     "output_type": "stream",
     "text": [
      "Translating final_response:  57%|██████████████████▏             | 947/1668 [08:54<02:03,  5.83it/s]"
     ]
    },
    {
     "name": "stdout",
     "output_type": "stream",
     "text": [
      "Error translating with src=en (attempt 1): 'Translator' object has no attribute 'raise_Exception'\n",
      "Error translating with src=en (attempt 2): the JSON object must be str, bytes or bytearray, not NoneType\n",
      "🔁 Attempting sentence split and translation...\n"
     ]
    },
    {
     "name": "stderr",
     "output_type": "stream",
     "text": [
      "Translating final_response:  57%|██████████████████▏             | 949/1668 [08:59<15:08,  1.26s/it]"
     ]
    },
    {
     "name": "stdout",
     "output_type": "stream",
     "text": [
      "result sent successfully\n"
     ]
    },
    {
     "name": "stderr",
     "output_type": "stream",
     "text": [
      "Translating final_response:  57%|██████████████████▎             | 957/1668 [09:00<02:13,  5.32it/s]"
     ]
    },
    {
     "name": "stdout",
     "output_type": "stream",
     "text": [
      "Error translating with src=en (attempt 1): 'Translator' object has no attribute 'raise_Exception'\n"
     ]
    },
    {
     "name": "stderr",
     "output_type": "stream",
     "text": [
      "Translating final_response:  58%|██████████████████▌             | 965/1668 [09:03<01:59,  5.90it/s]"
     ]
    },
    {
     "name": "stdout",
     "output_type": "stream",
     "text": [
      "Error translating with src=en (attempt 1): 'Translator' object has no attribute 'raise_Exception'\n"
     ]
    },
    {
     "name": "stderr",
     "output_type": "stream",
     "text": [
      "Translating final_response:  58%|██████████████████▌             | 968/1668 [09:06<05:36,  2.08it/s]"
     ]
    },
    {
     "name": "stdout",
     "output_type": "stream",
     "text": [
      "Error translating with src=en (attempt 1): the JSON object must be str, bytes or bytearray, not NoneType\n",
      "Error translating with src=en (attempt 2): the JSON object must be str, bytes or bytearray, not NoneType\n",
      "🔁 Attempting sentence split and translation...\n"
     ]
    },
    {
     "name": "stderr",
     "output_type": "stream",
     "text": [
      "Translating final_response:  58%|██████████████████▌             | 970/1668 [09:11<15:52,  1.37s/it]"
     ]
    },
    {
     "name": "stdout",
     "output_type": "stream",
     "text": [
      "result sent successfully\n"
     ]
    },
    {
     "name": "stderr",
     "output_type": "stream",
     "text": [
      "Translating final_response:  59%|██████████████████▊             | 979/1668 [09:12<02:05,  5.50it/s]"
     ]
    },
    {
     "name": "stdout",
     "output_type": "stream",
     "text": [
      "Error translating with src=en (attempt 1): 'Translator' object has no attribute 'raise_Exception'\n"
     ]
    },
    {
     "name": "stderr",
     "output_type": "stream",
     "text": [
      "Translating final_response:  59%|███████████████████             | 991/1668 [09:16<01:36,  6.99it/s]"
     ]
    },
    {
     "name": "stdout",
     "output_type": "stream",
     "text": [
      "Error translating with src=en (attempt 1): 'Translator' object has no attribute 'raise_Exception'\n"
     ]
    },
    {
     "name": "stderr",
     "output_type": "stream",
     "text": [
      "Translating final_response:  60%|███████████████████             | 994/1668 [09:19<05:33,  2.02it/s]"
     ]
    },
    {
     "name": "stdout",
     "output_type": "stream",
     "text": [
      "Error translating with src=en (attempt 1): 'Translator' object has no attribute 'raise_Exception'\n",
      "Error translating with src=en (attempt 2): 'Translator' object has no attribute 'raise_Exception'\n"
     ]
    },
    {
     "name": "stderr",
     "output_type": "stream",
     "text": [
      "Translating final_response:  60%|███████████████████             | 995/1668 [09:25<24:06,  2.15s/it]"
     ]
    },
    {
     "name": "stdout",
     "output_type": "stream",
     "text": [
      "🔁 Attempting sentence split and translation...\n",
      "result sent successfully\n"
     ]
    },
    {
     "name": "stderr",
     "output_type": "stream",
     "text": [
      "Translating final_response:  60%|██████████████████▋            | 1007/1668 [09:26<01:31,  7.21it/s]"
     ]
    },
    {
     "name": "stdout",
     "output_type": "stream",
     "text": [
      "Error translating with src=en (attempt 1): 'Translator' object has no attribute 'raise_Exception'\n"
     ]
    },
    {
     "name": "stderr",
     "output_type": "stream",
     "text": [
      "Translating final_response:  61%|███████████████████            | 1023/1668 [09:30<01:19,  8.15it/s]"
     ]
    },
    {
     "name": "stdout",
     "output_type": "stream",
     "text": [
      "Error translating with src=en (attempt 1): 'Translator' object has no attribute 'raise_Exception'\n"
     ]
    },
    {
     "name": "stderr",
     "output_type": "stream",
     "text": [
      "Translating final_response:  61%|███████████████████            | 1024/1668 [09:33<09:02,  1.19it/s]"
     ]
    },
    {
     "name": "stdout",
     "output_type": "stream",
     "text": [
      "Error translating with src=en (attempt 1): 'Translator' object has no attribute 'raise_Exception'\n"
     ]
    },
    {
     "name": "stderr",
     "output_type": "stream",
     "text": [
      "Translating final_response:  62%|███████████████████            | 1027/1668 [09:35<07:18,  1.46it/s]"
     ]
    },
    {
     "name": "stdout",
     "output_type": "stream",
     "text": [
      "Error translating with src=en (attempt 1): 'Translator' object has no attribute 'raise_Exception'\n"
     ]
    },
    {
     "name": "stderr",
     "output_type": "stream",
     "text": [
      "Translating final_response:  62%|███████████████████            | 1029/1668 [09:37<09:35,  1.11it/s]"
     ]
    },
    {
     "name": "stdout",
     "output_type": "stream",
     "text": [
      "Error translating with src=en (attempt 1): the JSON object must be str, bytes or bytearray, not NoneType\n",
      "Error translating with src=en (attempt 2): the JSON object must be str, bytes or bytearray, not NoneType\n",
      "🔁 Attempting sentence split and translation...\n"
     ]
    },
    {
     "name": "stderr",
     "output_type": "stream",
     "text": [
      "Translating final_response:  62%|███████████████████▏           | 1031/1668 [09:43<16:05,  1.52s/it]"
     ]
    },
    {
     "name": "stdout",
     "output_type": "stream",
     "text": [
      "result sent successfully\n"
     ]
    },
    {
     "name": "stderr",
     "output_type": "stream",
     "text": [
      "Translating final_response:  63%|███████████████████▌           | 1055/1668 [09:46<02:14,  4.55it/s]"
     ]
    },
    {
     "name": "stdout",
     "output_type": "stream",
     "text": [
      "Error translating with src=en (attempt 1): 'Translator' object has no attribute 'raise_Exception'\n"
     ]
    },
    {
     "name": "stderr",
     "output_type": "stream",
     "text": [
      "Translating final_response:  64%|███████████████████▊           | 1065/1668 [09:50<01:31,  6.60it/s]"
     ]
    },
    {
     "name": "stdout",
     "output_type": "stream",
     "text": [
      "Error translating with src=en (attempt 1): 'Translator' object has no attribute 'raise_Exception'\n"
     ]
    },
    {
     "name": "stderr",
     "output_type": "stream",
     "text": [
      "Translating final_response:  64%|███████████████████▊           | 1066/1668 [09:52<07:33,  1.33it/s]"
     ]
    },
    {
     "name": "stdout",
     "output_type": "stream",
     "text": [
      "Error translating with src=en (attempt 1): the JSON object must be str, bytes or bytearray, not NoneType\n",
      "Error translating with src=en (attempt 2): the JSON object must be str, bytes or bytearray, not NoneType\n",
      "🔁 Attempting sentence split and translation...\n",
      "Error translating with src=en (attempt 1): 'Translator' object has no attribute 'raise_Exception'\n",
      "Error translating with src=en (attempt 2): 'Translator' object has no attribute 'raise_Exception'\n"
     ]
    },
    {
     "name": "stderr",
     "output_type": "stream",
     "text": [
      "Translating final_response:  64%|███████████████████▊           | 1068/1668 [10:02<25:57,  2.60s/it]"
     ]
    },
    {
     "name": "stdout",
     "output_type": "stream",
     "text": [
      "result sent successfully\n"
     ]
    },
    {
     "name": "stderr",
     "output_type": "stream",
     "text": [
      "Translating final_response:  64%|███████████████████▉           | 1073/1668 [10:03<05:22,  1.84it/s]"
     ]
    },
    {
     "name": "stdout",
     "output_type": "stream",
     "text": [
      "Error translating with src=en (attempt 1): the JSON object must be str, bytes or bytearray, not NoneType\n",
      "Error translating with src=en (attempt 2): 'Translator' object has no attribute 'raise_Exception'\n",
      "🔁 Attempting sentence split and translation...\n"
     ]
    },
    {
     "name": "stderr",
     "output_type": "stream",
     "text": [
      "Translating final_response:  64%|███████████████████▉           | 1074/1668 [10:08<19:46,  2.00s/it]"
     ]
    },
    {
     "name": "stdout",
     "output_type": "stream",
     "text": [
      "result sent successfully\n"
     ]
    },
    {
     "name": "stderr",
     "output_type": "stream",
     "text": [
      "Translating final_response:  64%|███████████████████▉           | 1075/1668 [10:09<15:11,  1.54s/it]"
     ]
    },
    {
     "name": "stdout",
     "output_type": "stream",
     "text": [
      "Error translating with src=en (attempt 1): 'Translator' object has no attribute 'raise_Exception'\n"
     ]
    },
    {
     "name": "stderr",
     "output_type": "stream",
     "text": [
      "Translating final_response:  65%|████████████████████▏          | 1083/1668 [10:12<02:43,  3.57it/s]"
     ]
    },
    {
     "name": "stdout",
     "output_type": "stream",
     "text": [
      "Error translating with src=en (attempt 1): 'Translator' object has no attribute 'raise_Exception'\n"
     ]
    },
    {
     "name": "stderr",
     "output_type": "stream",
     "text": [
      "Translating final_response:  65%|████████████████████▏          | 1088/1668 [10:15<02:47,  3.46it/s]"
     ]
    },
    {
     "name": "stdout",
     "output_type": "stream",
     "text": [
      "Error translating with src=en (attempt 1): 'Translator' object has no attribute 'raise_Exception'\n"
     ]
    },
    {
     "name": "stderr",
     "output_type": "stream",
     "text": [
      "Translating final_response:  66%|████████████████████▍          | 1097/1668 [10:18<02:06,  4.52it/s]"
     ]
    },
    {
     "name": "stdout",
     "output_type": "stream",
     "text": [
      "Error translating with src=en (attempt 1): the JSON object must be str, bytes or bytearray, not NoneType\n",
      "Error translating with src=en (attempt 2): 'Translator' object has no attribute 'raise_Exception'\n",
      "🔁 Attempting sentence split and translation...\n",
      "Error translating with src=en (attempt 1): 'Translator' object has no attribute 'raise_Exception'\n"
     ]
    },
    {
     "name": "stderr",
     "output_type": "stream",
     "text": [
      "Translating final_response:  66%|████████████████████▍          | 1099/1668 [10:26<17:12,  1.81s/it]"
     ]
    },
    {
     "name": "stdout",
     "output_type": "stream",
     "text": [
      "result sent successfully\n",
      "Error translating with src=en (attempt 1): 'Translator' object has no attribute 'raise_Exception'\n"
     ]
    },
    {
     "name": "stderr",
     "output_type": "stream",
     "text": [
      "Translating final_response:  66%|████████████████████▍          | 1102/1668 [10:29<09:38,  1.02s/it]"
     ]
    },
    {
     "name": "stdout",
     "output_type": "stream",
     "text": [
      "Error translating with src=en (attempt 1): the JSON object must be str, bytes or bytearray, not NoneType\n",
      "Error translating with src=en (attempt 2): 'Translator' object has no attribute 'raise_Exception'\n",
      "🔁 Attempting sentence split and translation...\n"
     ]
    },
    {
     "name": "stderr",
     "output_type": "stream",
     "text": [
      "Translating final_response:  66%|████████████████████▌          | 1104/1668 [10:34<15:47,  1.68s/it]"
     ]
    },
    {
     "name": "stdout",
     "output_type": "stream",
     "text": [
      "result sent successfully\n"
     ]
    },
    {
     "name": "stderr",
     "output_type": "stream",
     "text": [
      "Translating final_response:  66%|████████████████████▌          | 1105/1668 [10:34<11:19,  1.21s/it]"
     ]
    },
    {
     "name": "stdout",
     "output_type": "stream",
     "text": [
      "Error translating with src=en (attempt 1): the JSON object must be str, bytes or bytearray, not NoneType\n",
      "Error translating with src=en (attempt 2): the JSON object must be str, bytes or bytearray, not NoneType\n",
      "🔁 Attempting sentence split and translation...\n"
     ]
    },
    {
     "name": "stderr",
     "output_type": "stream",
     "text": [
      "Translating final_response:  66%|████████████████████▌          | 1107/1668 [10:39<15:39,  1.68s/it]"
     ]
    },
    {
     "name": "stdout",
     "output_type": "stream",
     "text": [
      "result sent successfully\n"
     ]
    },
    {
     "name": "stderr",
     "output_type": "stream",
     "text": [
      "Translating final_response:  67%|████████████████████▋          | 1113/1668 [10:40<02:43,  3.40it/s]"
     ]
    },
    {
     "name": "stdout",
     "output_type": "stream",
     "text": [
      "Error translating with src=en (attempt 1): 'Translator' object has no attribute 'raise_Exception'\n"
     ]
    },
    {
     "name": "stderr",
     "output_type": "stream",
     "text": [
      "Translating final_response:  69%|█████████████████████▎         | 1145/1668 [10:47<01:05,  8.00it/s]"
     ]
    },
    {
     "name": "stdout",
     "output_type": "stream",
     "text": [
      "Error translating with src=en (attempt 1): the JSON object must be str, bytes or bytearray, not NoneType\n",
      "Error translating with src=en (attempt 2): the JSON object must be str, bytes or bytearray, not NoneType\n",
      "🔁 Attempting sentence split and translation...\n",
      "Error translating with src=en (attempt 1): 'Translator' object has no attribute 'raise_Exception'\n"
     ]
    },
    {
     "name": "stderr",
     "output_type": "stream",
     "text": [
      "Translating final_response:  69%|█████████████████████▎         | 1147/1668 [10:54<13:13,  1.52s/it]"
     ]
    },
    {
     "name": "stdout",
     "output_type": "stream",
     "text": [
      "result sent successfully\n"
     ]
    },
    {
     "name": "stderr",
     "output_type": "stream",
     "text": [
      "Translating final_response:  69%|█████████████████████▎         | 1148/1668 [10:54<09:34,  1.10s/it]"
     ]
    },
    {
     "name": "stdout",
     "output_type": "stream",
     "text": [
      "Error translating with src=en (attempt 1): 'Translator' object has no attribute 'raise_Exception'\n",
      "Error translating with src=en (attempt 2): 'Translator' object has no attribute 'raise_Exception'\n",
      "🔁 Attempting sentence split and translation...\n"
     ]
    },
    {
     "name": "stderr",
     "output_type": "stream",
     "text": [
      "Translating final_response:  69%|█████████████████████▎         | 1149/1668 [11:00<22:14,  2.57s/it]"
     ]
    },
    {
     "name": "stdout",
     "output_type": "stream",
     "text": [
      "result sent successfully\n"
     ]
    },
    {
     "name": "stderr",
     "output_type": "stream",
     "text": [
      "Translating final_response:  73%|██████████████████████▋        | 1220/1668 [11:10<01:04,  6.95it/s]"
     ]
    },
    {
     "name": "stdout",
     "output_type": "stream",
     "text": [
      "Error translating with src=en (attempt 1): the JSON object must be str, bytes or bytearray, not NoneType\n",
      "Error translating with src=en (attempt 2): the JSON object must be str, bytes or bytearray, not NoneType\n",
      "🔁 Attempting sentence split and translation...\n"
     ]
    },
    {
     "name": "stderr",
     "output_type": "stream",
     "text": [
      "Translating final_response:  73%|██████████████████████▋        | 1221/1668 [11:15<11:45,  1.58s/it]"
     ]
    },
    {
     "name": "stdout",
     "output_type": "stream",
     "text": [
      "result sent successfully\n"
     ]
    },
    {
     "name": "stderr",
     "output_type": "stream",
     "text": [
      "Translating final_response:  73%|██████████████████████▊        | 1225/1668 [11:16<03:38,  2.03it/s]"
     ]
    },
    {
     "name": "stdout",
     "output_type": "stream",
     "text": [
      "Error translating with src=en (attempt 1): the JSON object must be str, bytes or bytearray, not NoneType\n",
      "Error translating with src=en (attempt 2): the JSON object must be str, bytes or bytearray, not NoneType\n",
      "🔁 Attempting sentence split and translation...\n"
     ]
    },
    {
     "name": "stderr",
     "output_type": "stream",
     "text": [
      "Translating final_response:  74%|██████████████████████▊        | 1227/1668 [11:21<09:46,  1.33s/it]"
     ]
    },
    {
     "name": "stdout",
     "output_type": "stream",
     "text": [
      "result sent successfully\n"
     ]
    },
    {
     "name": "stderr",
     "output_type": "stream",
     "text": [
      "Translating final_response:  77%|███████████████████████▊       | 1282/1668 [11:29<00:47,  8.17it/s]"
     ]
    },
    {
     "name": "stdout",
     "output_type": "stream",
     "text": [
      "Error translating with src=en (attempt 1): the JSON object must be str, bytes or bytearray, not NoneType\n",
      "Error translating with src=en (attempt 2): the JSON object must be str, bytes or bytearray, not NoneType\n",
      "🔁 Attempting sentence split and translation...\n"
     ]
    },
    {
     "name": "stderr",
     "output_type": "stream",
     "text": [
      "Translating final_response:  77%|███████████████████████▊       | 1284/1668 [11:34<07:15,  1.13s/it]"
     ]
    },
    {
     "name": "stdout",
     "output_type": "stream",
     "text": [
      "result sent successfully\n"
     ]
    },
    {
     "name": "stderr",
     "output_type": "stream",
     "text": [
      "Translating final_response:  79%|████████████████████████▌      | 1320/1668 [11:40<00:43,  7.97it/s]"
     ]
    },
    {
     "name": "stdout",
     "output_type": "stream",
     "text": [
      "Error translating with src=en (attempt 1): 'Translator' object has no attribute 'raise_Exception'\n"
     ]
    },
    {
     "name": "stderr",
     "output_type": "stream",
     "text": [
      "Translating final_response:  79%|████████████████████████▌      | 1321/1668 [11:42<04:07,  1.40it/s]"
     ]
    },
    {
     "name": "stdout",
     "output_type": "stream",
     "text": [
      "Error translating with src=en (attempt 1): 'Translator' object has no attribute 'raise_Exception'\n",
      "Error translating with src=en (attempt 2): 'Translator' object has no attribute 'raise_Exception'\n",
      "🔁 Attempting sentence split and translation...\n",
      "Error translating with src=en (attempt 1): 'Translator' object has no attribute 'raise_Exception'\n"
     ]
    },
    {
     "name": "stderr",
     "output_type": "stream",
     "text": [
      "Translating final_response:  79%|████████████████████████▌      | 1323/1668 [11:50<11:38,  2.02s/it]"
     ]
    },
    {
     "name": "stdout",
     "output_type": "stream",
     "text": [
      "result sent successfully\n"
     ]
    },
    {
     "name": "stderr",
     "output_type": "stream",
     "text": [
      "Translating final_response:  82%|█████████████████████████▍     | 1367/1668 [11:58<00:37,  7.99it/s]"
     ]
    },
    {
     "name": "stdout",
     "output_type": "stream",
     "text": [
      "Error translating with src=en (attempt 1): 'Translator' object has no attribute 'raise_Exception'\n",
      "Error translating with src=en (attempt 2): 'Translator' object has no attribute 'raise_Exception'\n",
      "🔁 Attempting sentence split and translation...\n",
      "Error translating with src=en (attempt 1): 'Translator' object has no attribute 'raise_Exception'\n"
     ]
    },
    {
     "name": "stderr",
     "output_type": "stream",
     "text": [
      "Translating final_response:  82%|█████████████████████████▍     | 1369/1668 [12:06<08:32,  1.71s/it]"
     ]
    },
    {
     "name": "stdout",
     "output_type": "stream",
     "text": [
      "result sent successfully\n"
     ]
    },
    {
     "name": "stderr",
     "output_type": "stream",
     "text": [
      "Translating final_response:  82%|█████████████████████████▌     | 1373/1668 [12:06<02:28,  1.99it/s]"
     ]
    },
    {
     "name": "stdout",
     "output_type": "stream",
     "text": [
      "Error translating with src=en (attempt 1): the JSON object must be str, bytes or bytearray, not NoneType\n",
      "Error translating with src=en (attempt 2): the JSON object must be str, bytes or bytearray, not NoneType\n",
      "🔁 Attempting sentence split and translation...\n",
      "result sent successfully\n"
     ]
    },
    {
     "name": "stderr",
     "output_type": "stream",
     "text": [
      "Translating final_response:  82%|█████████████████████████▌     | 1374/1668 [12:11<08:55,  1.82s/it]"
     ]
    },
    {
     "name": "stdout",
     "output_type": "stream",
     "text": [
      "Error translating with src=en (attempt 1): 'Translator' object has no attribute 'raise_Exception'\n",
      "Error translating with src=en (attempt 2): 'Translator' object has no attribute 'raise_Exception'\n",
      "🔁 Attempting sentence split and translation...\n"
     ]
    },
    {
     "name": "stderr",
     "output_type": "stream",
     "text": [
      "Translating final_response:  82%|█████████████████████████▌     | 1376/1668 [12:17<10:49,  2.22s/it]"
     ]
    },
    {
     "name": "stdout",
     "output_type": "stream",
     "text": [
      "result sent successfully\n"
     ]
    },
    {
     "name": "stderr",
     "output_type": "stream",
     "text": [
      "Translating final_response:  83%|█████████████████████████▌     | 1377/1668 [12:17<07:46,  1.60s/it]"
     ]
    },
    {
     "name": "stdout",
     "output_type": "stream",
     "text": [
      "Error translating with src=en (attempt 1): 'Translator' object has no attribute 'raise_Exception'\n"
     ]
    },
    {
     "name": "stderr",
     "output_type": "stream",
     "text": [
      "Translating final_response:  83%|█████████████████████████▌     | 1378/1668 [12:20<08:37,  1.78s/it]"
     ]
    },
    {
     "name": "stdout",
     "output_type": "stream",
     "text": [
      "Error translating with src=en (attempt 1): 'Translator' object has no attribute 'raise_Exception'\n"
     ]
    },
    {
     "name": "stderr",
     "output_type": "stream",
     "text": [
      "Translating final_response:  83%|█████████████████████████▋     | 1381/1668 [12:22<04:56,  1.03s/it]"
     ]
    },
    {
     "name": "stdout",
     "output_type": "stream",
     "text": [
      "Error translating with src=en (attempt 1): 'Translator' object has no attribute 'raise_Exception'\n",
      "Error translating with src=en (attempt 2): 'Translator' object has no attribute 'raise_Exception'\n",
      "🔁 Attempting sentence split and translation...\n"
     ]
    },
    {
     "name": "stderr",
     "output_type": "stream",
     "text": [
      "Translating final_response:  83%|█████████████████████████▋     | 1383/1668 [12:28<08:34,  1.81s/it]"
     ]
    },
    {
     "name": "stdout",
     "output_type": "stream",
     "text": [
      "result sent successfully\n"
     ]
    },
    {
     "name": "stderr",
     "output_type": "stream",
     "text": [
      "Translating final_response:  83%|█████████████████████████▊     | 1387/1668 [12:29<02:28,  1.89it/s]"
     ]
    },
    {
     "name": "stdout",
     "output_type": "stream",
     "text": [
      "Error translating with src=en (attempt 1): 'Translator' object has no attribute 'raise_Exception'\n"
     ]
    },
    {
     "name": "stderr",
     "output_type": "stream",
     "text": [
      "Translating final_response:  83%|█████████████████████████▊     | 1389/1668 [12:32<04:10,  1.11it/s]"
     ]
    },
    {
     "name": "stdout",
     "output_type": "stream",
     "text": [
      "Error translating with src=en (attempt 1): 'Translator' object has no attribute 'raise_Exception'\n",
      "Error translating with src=en (attempt 2): 'Translator' object has no attribute 'raise_Exception'\n",
      "🔁 Attempting sentence split and translation...\n",
      "Error translating with src=en (attempt 1): 'Translator' object has no attribute 'raise_Exception'\n"
     ]
    },
    {
     "name": "stderr",
     "output_type": "stream",
     "text": [
      "Translating final_response:  83%|█████████████████████████▊     | 1390/1668 [12:40<13:42,  2.96s/it]"
     ]
    },
    {
     "name": "stdout",
     "output_type": "stream",
     "text": [
      "result sent successfully\n",
      "Error translating with src=en (attempt 1): 'Translator' object has no attribute 'raise_Exception'\n"
     ]
    },
    {
     "name": "stderr",
     "output_type": "stream",
     "text": [
      "Translating final_response:  83%|█████████████████████████▊     | 1391/1668 [12:42<12:42,  2.75s/it]"
     ]
    },
    {
     "name": "stdout",
     "output_type": "stream",
     "text": [
      "Error translating with src=en (attempt 1): 'Translator' object has no attribute 'raise_Exception'\n"
     ]
    },
    {
     "name": "stderr",
     "output_type": "stream",
     "text": [
      "Translating final_response:  83%|█████████████████████████▊     | 1392/1668 [12:44<11:59,  2.61s/it]"
     ]
    },
    {
     "name": "stdout",
     "output_type": "stream",
     "text": [
      "Error translating with src=en (attempt 1): 'Translator' object has no attribute 'raise_Exception'\n",
      "Error translating with src=en (attempt 2): 'Translator' object has no attribute 'raise_Exception'\n",
      "🔁 Attempting sentence split and translation...\n"
     ]
    },
    {
     "name": "stderr",
     "output_type": "stream",
     "text": [
      "Translating final_response:  84%|█████████████████████████▉     | 1393/1668 [12:51<17:35,  3.84s/it]"
     ]
    },
    {
     "name": "stdout",
     "output_type": "stream",
     "text": [
      "result sent successfully\n"
     ]
    },
    {
     "name": "stderr",
     "output_type": "stream",
     "text": [
      "Translating final_response:  84%|█████████████████████████▉     | 1396/1668 [12:52<06:35,  1.45s/it]"
     ]
    },
    {
     "name": "stdout",
     "output_type": "stream",
     "text": [
      "Error translating with src=en (attempt 1): 'Translator' object has no attribute 'raise_Exception'\n"
     ]
    },
    {
     "name": "stderr",
     "output_type": "stream",
     "text": [
      "Translating final_response:  84%|██████████████████████████▏    | 1409/1668 [12:56<00:45,  5.72it/s]"
     ]
    },
    {
     "name": "stdout",
     "output_type": "stream",
     "text": [
      "Error translating with src=en (attempt 1): 'Translator' object has no attribute 'raise_Exception'\n",
      "Error translating with src=en (attempt 2): 'Translator' object has no attribute 'raise_Exception'\n",
      "🔁 Attempting sentence split and translation...\n",
      "Error translating with src=en (attempt 1): 'Translator' object has no attribute 'raise_Exception'\n"
     ]
    },
    {
     "name": "stderr",
     "output_type": "stream",
     "text": [
      "Translating final_response:  85%|██████████████████████████▏    | 1411/1668 [13:04<07:56,  1.85s/it]"
     ]
    },
    {
     "name": "stdout",
     "output_type": "stream",
     "text": [
      "result sent successfully\n"
     ]
    },
    {
     "name": "stderr",
     "output_type": "stream",
     "text": [
      "Translating final_response:  85%|██████████████████████████▎    | 1419/1668 [13:06<01:15,  3.29it/s]"
     ]
    },
    {
     "name": "stdout",
     "output_type": "stream",
     "text": [
      "Error translating with src=en (attempt 1): 'Translator' object has no attribute 'raise_Exception'\n"
     ]
    },
    {
     "name": "stderr",
     "output_type": "stream",
     "text": [
      "Translating final_response:  85%|██████████████████████████▍    | 1422/1668 [13:09<02:22,  1.73it/s]"
     ]
    }
   ],
   "source": [
    "def translate_columns(file_path, translator, column_pairs):\n",
    "    try:\n",
    "        df = pd.read_csv(file_path)\n",
    "        col = df.columns\n",
    "\n",
    "        # Rename fallback: if some expected cols aren't found but alternatives exist\n",
    "        if \"trans_response\" in col and \"response\" not in col:\n",
    "            df = df.rename(columns={\"trans_response\": \"response\"})\n",
    "            print(\"Column renamed: trans_response → response\")\n",
    "\n",
    "        lang_folder = extract_language_from_path(file_path)\n",
    "        src_lang = map_language_name_to_code(lang_folder)\n",
    "\n",
    "        if not src_lang:\n",
    "            print(f\"⚠️ Skipping {file_path}: Unknown language '{lang_folder}'\")\n",
    "            return\n",
    "\n",
    "        print(f\"🔵 Processing file: {file_path} | Source language: {src_lang}\")\n",
    "\n",
    "        for src_col, tgt_col in column_pairs:\n",
    "            if src_col not in df.columns:\n",
    "                print(f\"⚠️ Skipping column {src_col} in {file_path}: Column not found.\")\n",
    "                continue\n",
    "\n",
    "            if tgt_col not in df.columns:\n",
    "                df[tgt_col] = \"\"\n",
    "\n",
    "            needs_translation = (\n",
    "                df[tgt_col].isnull() | (df[tgt_col].astype(str).str.strip() == \"\")\n",
    "            ) & (df[src_col].astype(str).str.strip() != \"\")\n",
    "\n",
    "            rows_to_translate = df[needs_translation].copy()\n",
    "\n",
    "            if not rows_to_translate.empty:\n",
    "                print(f\"🔄 Translating {len(rows_to_translate)} rows for column '{src_col}'...\")\n",
    "                translated_texts = []\n",
    "\n",
    "                for response in tqdm(rows_to_translate[src_col], desc=f\"Translating {src_col}\", ncols=100):\n",
    "                    translated_text = translate_sentence_safe(response, src_lang, translator)\n",
    "                    translated_texts.append(translated_text if translated_text is not None else response)\n",
    "\n",
    "                df.loc[needs_translation, tgt_col] = translated_texts\n",
    "            else:\n",
    "                print(f\"✅ No rows need translation in column '{src_col}'.\")\n",
    "\n",
    "        df.to_csv(file_path, index=False)\n",
    "        print(f\"✅ File saved: {file_path}\")\n",
    "\n",
    "    except Exception as e:\n",
    "        print(f\"❌ Error processing {file_path}: {e}\")\n",
    "\n",
    "def process_directory(root_dir):\n",
    "    translator = Translator()\n",
    "    column_pairs = [\n",
    "        (\"initial_response\", \"gtrans_initial_response\"),\n",
    "        (\"final_response\", \"gtrans_final_response\")\n",
    "    ]\n",
    "\n",
    "    for dirpath, _, filenames in os.walk(root_dir):\n",
    "        for filename in filenames:\n",
    "            if filename.endswith(\".csv\") and \"checkpoint\" not in filename.lower():\n",
    "                file_path = os.path.join(dirpath, filename)\n",
    "                translate_columns(file_path, translator, column_pairs)\n",
    "            else:\n",
    "                if \"checkpoint\" in filename.lower():\n",
    "                    print(f\"⏩ Skipping checkpoint file: {filename}\")\n",
    "\n",
    "if __name__ == \"__main__\":\n",
    "    root_directory = \"../jailbreak_responses_final/history/qwen2_14b\"\n",
    "    process_directory(root_directory)\n"
   ]
  },
  {
   "cell_type": "code",
   "execution_count": null,
   "id": "b1cab49f",
   "metadata": {},
   "outputs": [],
   "source": []
  }
 ],
 "metadata": {
  "kernelspec": {
   "display_name": "Python 3 (ipykernel)",
   "language": "python",
   "name": "python3"
  },
  "language_info": {
   "codemirror_mode": {
    "name": "ipython",
    "version": 3
   },
   "file_extension": ".py",
   "mimetype": "text/x-python",
   "name": "python",
   "nbconvert_exporter": "python",
   "pygments_lexer": "ipython3",
   "version": "3.12.7"
  }
 },
 "nbformat": 4,
 "nbformat_minor": 5
}
