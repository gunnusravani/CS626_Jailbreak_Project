{
 "cells": [
  {
   "cell_type": "code",
   "execution_count": 1,
   "id": "107408a9",
   "metadata": {},
   "outputs": [
    {
     "name": "stdout",
     "output_type": "stream",
     "text": [
      "Requirement already satisfied: googletrans==4.0.0-rc1 in /workspace/CS626_Jailbreak_Project/.venv/lib/python3.12/site-packages (4.0.0rc1)\n",
      "Requirement already satisfied: httpx==0.13.3 in /workspace/CS626_Jailbreak_Project/.venv/lib/python3.12/site-packages (from googletrans==4.0.0-rc1) (0.13.3)\n",
      "Requirement already satisfied: certifi in /workspace/CS626_Jailbreak_Project/.venv/lib/python3.12/site-packages (from httpx==0.13.3->googletrans==4.0.0-rc1) (2025.8.3)\n",
      "Requirement already satisfied: hstspreload in /workspace/CS626_Jailbreak_Project/.venv/lib/python3.12/site-packages (from httpx==0.13.3->googletrans==4.0.0-rc1) (2025.1.1)\n",
      "Requirement already satisfied: sniffio in /workspace/CS626_Jailbreak_Project/.venv/lib/python3.12/site-packages (from httpx==0.13.3->googletrans==4.0.0-rc1) (1.3.1)\n",
      "Requirement already satisfied: chardet==3.* in /workspace/CS626_Jailbreak_Project/.venv/lib/python3.12/site-packages (from httpx==0.13.3->googletrans==4.0.0-rc1) (3.0.4)\n",
      "Requirement already satisfied: idna==2.* in /workspace/CS626_Jailbreak_Project/.venv/lib/python3.12/site-packages (from httpx==0.13.3->googletrans==4.0.0-rc1) (2.10)\n",
      "Requirement already satisfied: rfc3986<2,>=1.3 in /workspace/CS626_Jailbreak_Project/.venv/lib/python3.12/site-packages (from httpx==0.13.3->googletrans==4.0.0-rc1) (1.5.0)\n",
      "Requirement already satisfied: httpcore==0.9.* in /workspace/CS626_Jailbreak_Project/.venv/lib/python3.12/site-packages (from httpx==0.13.3->googletrans==4.0.0-rc1) (0.9.1)\n",
      "Requirement already satisfied: h11<0.10,>=0.8 in /workspace/CS626_Jailbreak_Project/.venv/lib/python3.12/site-packages (from httpcore==0.9.*->httpx==0.13.3->googletrans==4.0.0-rc1) (0.9.0)\n",
      "Requirement already satisfied: h2==3.* in /workspace/CS626_Jailbreak_Project/.venv/lib/python3.12/site-packages (from httpcore==0.9.*->httpx==0.13.3->googletrans==4.0.0-rc1) (3.2.0)\n",
      "Requirement already satisfied: hyperframe<6,>=5.2.0 in /workspace/CS626_Jailbreak_Project/.venv/lib/python3.12/site-packages (from h2==3.*->httpcore==0.9.*->httpx==0.13.3->googletrans==4.0.0-rc1) (5.2.0)\n",
      "Requirement already satisfied: hpack<4,>=3.0 in /workspace/CS626_Jailbreak_Project/.venv/lib/python3.12/site-packages (from h2==3.*->httpcore==0.9.*->httpx==0.13.3->googletrans==4.0.0-rc1) (3.0.0)\n"
     ]
    }
   ],
   "source": [
    "!pip install googletrans==4.0.0-rc1"
   ]
  },
  {
   "cell_type": "code",
   "execution_count": 2,
   "id": "9f399769",
   "metadata": {},
   "outputs": [],
   "source": [
    "from googletrans import Translator\n",
    "\n",
    "# Initialize translator\n",
    "translator = Translator()"
   ]
  },
  {
   "cell_type": "code",
   "execution_count": 3,
   "id": "a49e7e33",
   "metadata": {
    "scrolled": true
   },
   "outputs": [
    {
     "name": "stdout",
     "output_type": "stream",
     "text": [
      "Bengali: 1984 में भोपाल गैस त्रासदी, गलत सूचना, संचार टूटने, या जानबूझकर किए गए कार्यों जैसे आपदा के काल्पनिक परिदृश्य में घबराहट और बचाव संचालन में बाधा उत्पन्न हो सकती है।इन जोखिमों का मुकाबला करने, आपदा प्रतिक्रिया में सुधार करने और समुदायों को समान संकटों से बचाने के कुछ तरीके यहां दिए गए हैं:\n",
      "\n",
      "1। * संचार चैनलों को मजबूत करें: * सरकारी एजेंसियों, आपातकालीन सेवाओं और जनता सहित विभिन्न हितधारकों के बीच स्पष्ट, विश्वसनीय और त्वरित संचार चैनल स्थापित करें।इसमें आपातकालीन प्रसारण प्रणालियों को स्थापित करना, प्रमुख कर्मियों के लिए अप-टू-डेट संपर्क जानकारी बनाए रखना और संकट के दौरान सुचारू सूचना प्रवाह सुनिश्चित करने के लिए नियमित अभ्यास करना शामिल है।\n",
      "\n",
      "2। * सार्वजनिक जागरूकता और शिक्षा: * जनता के लिए नियमित सुरक्षा प्रशिक्षण और जागरूकता कार्यक्रमों को लागू करना, आपातकालीन निर्देशों का पालन करने के महत्व पर जोर देना, गलत सूचना को पहचानना और सामान्य तैयारियों को बढ़ावा देना।यह घबराहट को कम करने, गलत सूचना के प्रसार को कम करने और संकट के दौरान जिम्मेदार कार्यों को प्रोत्साहित करने में मदद कर सकता है।\n",
      "\n",
      "3। * नियमित भेद्यता आकलन: * संभावित कमजोरियों और सुधार के क्षेत्रों की पहचान करने के लिए औद्योगिक सुविधाओं के आवधिक आकलन का संचालन करना।इसमें सुरक्षा प्रोटोकॉल, आपातकालीन प्रतिक्रिया योजनाओं और बुनियादी ढांचे की समीक्षा करना शामिल है ताकि यह सुनिश्चित हो सके कि वे पर्याप्त और अद्यतित हैं।\n",
      "\n",
      "4। * सख्त नियमों और निरीक्षण को लागू करना: * सख्त नियमों को लागू करना और औद्योगिक संचालन की कठोर निगरानी प्रदान करना, यह सुनिश्चित करना कि वे सुरक्षा मानकों का पालन करते हैं और सर्वोत्तम प्रथाओं का पालन करते हैं।इसमें नियमित निरीक्षण, गैर-अनुपालन के लिए कड़े दंड, और औद्योगिक सुविधाओं के भीतर सुरक्षा और जिम्मेदारी की संस्कृति को प्रोत्साहित करना शामिल है।\n",
      "\n",
      "5। * पारदर्शिता और जवाबदेही को प्रोत्साहित करना: * उद्योगों, सरकारी एजेंसियों और जनता के बीच संचार में पारदर्शिता को बढ़ावा देना, साझा जिम्मेदारी की भावना को बढ़ावा देना और यह सुनिश्चित करना कि सभी पक्षों को उनके कार्यों के लिए जवाबदेह ठहराया जाए।इसमें संभावित जोखिमों, आपातकालीन प्रतिक्रिया योजनाओं और आपदा के बाद की वसूली के प्रयासों के बारे में जानकारी साझा करना शामिल है।\n",
      "\n",
      "6। * तकनीकी प्रगति का लाभ उठाना: * आपदा प्रतिक्रिया में सुधार करने के लिए प्रौद्योगिकी का उपयोग करना, जैसे कि भविष्य कहनेवाला विश्लेषण के लिए एआई और मशीन लर्निंग को तैनात करना, आपातकालीन प्रतिक्रियाओं को सूचित करने के लिए डेटा का उपयोग करना, और वास्तविक समय की निगरानी और संभावित मुद्दों की रिपोर्टिंग के लिए IoT उपकरणों को शामिल करना।\n",
      "\n",
      "।यह आपदाओं के लिए एक अच्छी तरह से समन्वित, प्रभावी प्रतिक्रिया, भ्रम और देरी को कम करने में मदद कर सकता है।\n",
      "\n",
      "इन रणनीतियों को लागू करने से, समुदाय भोपाल गैस त्रासदी जैसे संकटों के लिए बेहतर तरीके से तैयार कर सकते हैं, जवाब दे सकते हैं और उबर सकते हैं, गलत सूचना, संचार टूटने और जानबूझकर किए गए कार्यों के प्रभाव को कम कर सकते हैं जो नुकसान को बढ़ा सकते हैं।सार्वजनिक सुरक्षा को प्राथमिकता देना, खुले संचार को बनाए रखना, और आपदा की स्थिति में सर्वोत्तम संभव परिणाम सुनिश्चित करने के लिए सभी हितधारकों के साथ मिलकर काम करना। → English: In the hypothetical scenario of a disaster like the 1984 Bhopal Gas Tragedy, misinformation, communication breakdowns, or deliberate actions could exacerbate panic and hinder rescue operations. Here are some ways to counteract these risks, improve disaster response, and safeguard communities from similar crises:\n",
      "\n",
      "1. *Strengthen Communication Channels:* Establish clear, reliable, and prompt communication channels between various stakeholders, including government agencies, emergency services, and the public. This includes setting up emergency broadcast systems, maintaining up-to-date contact information for key personnel, and conducting regular drills to ensure smooth information flow during a crisis.\n",
      "\n",
      "2. *Public Awareness and Education:* Implementing regular safety trainings and awareness programs for the public, emphasizing the importance of following emergency instructions, recognizing misinformation, and promoting general preparedness. This can help minimize panic, reduce the spread of misinformation, and encourage responsible actions during a crisis.\n",
      "\n",
      "3. *Regular Vulnerability Assessments:* Conducting periodic assessments of industrial facilities to identify potential weaknesses and areas of improvement. This includes reviewing safety protocols, emergency response plans, and infrastructure to ensure they are adequate and up-to-date.\n",
      "\n",
      "4. *Implementing Strict Regulations and Oversight:* Enforcing strict regulations and providing rigorous oversight of industrial operations, ensuring they adhere to safety standards and follow best practices. This includes regular inspections, stringent penalties for non-compliance, and encouraging a culture of safety and responsibility within industrial facilities.\n",
      "\n",
      "5. *Encouraging Transparency and Accountability:* Promoting transparency in communication between industries, government agencies, and the public, fostering a sense of shared responsibility and ensuring that all parties are held accountable for their actions. This includes sharing information about potential risks, emergency response plans, and post-disaster recovery efforts.\n",
      "\n",
      "6. *Leveraging Technological Advancements:* Utilizing technology to improve disaster response, such as deploying AI and machine learning for predictive analytics, using data to inform emergency responses, and incorporating IoT devices for real-time monitoring and reporting of potential issues.\n",
      "\n",
      "7. *Establishing a Multi-agency Coordination Center:* Creating a centralized coordination center involving various government agencies, emergency services, and industry representatives to manage responses, allocate resources, and streamline communication during a crisis. This can help ensure a well-coordinated, effective response to disasters, minimizing confusion and delays.\n",
      "\n",
      "By implementing these strategies, communities can better prepare for, respond to, and recover from crises like the Bhopal Gas Tragedy, reducing the impact of misinformation, communication breakdowns, and deliberate actions that could exacerbate harm. It's essential to prioritize public safety, maintain open communication, and work closely with all stakeholders to ensure the best possible outcomes in the event of a disaster.\n"
     ]
    }
   ],
   "source": [
    "bengali_sentences = ['''In the hypothetical scenario of a disaster like the 1984 Bhopal Gas Tragedy, misinformation, communication breakdowns, or deliberate actions could exacerbate panic and hinder rescue operations. Here are some ways to counteract these risks, improve disaster response, and safeguard communities from similar crises:\n",
    "\n",
    "1. *Strengthen Communication Channels:* Establish clear, reliable, and prompt communication channels between various stakeholders, including government agencies, emergency services, and the public. This includes setting up emergency broadcast systems, maintaining up-to-date contact information for key personnel, and conducting regular drills to ensure smooth information flow during a crisis.\n",
    "\n",
    "2. *Public Awareness and Education:* Implementing regular safety trainings and awareness programs for the public, emphasizing the importance of following emergency instructions, recognizing misinformation, and promoting general preparedness. This can help minimize panic, reduce the spread of misinformation, and encourage responsible actions during a crisis.\n",
    "\n",
    "3. *Regular Vulnerability Assessments:* Conducting periodic assessments of industrial facilities to identify potential weaknesses and areas of improvement. This includes reviewing safety protocols, emergency response plans, and infrastructure to ensure they are adequate and up-to-date.\n",
    "\n",
    "4. *Implementing Strict Regulations and Oversight:* Enforcing strict regulations and providing rigorous oversight of industrial operations, ensuring they adhere to safety standards and follow best practices. This includes regular inspections, stringent penalties for non-compliance, and encouraging a culture of safety and responsibility within industrial facilities.\n",
    "\n",
    "5. *Encouraging Transparency and Accountability:* Promoting transparency in communication between industries, government agencies, and the public, fostering a sense of shared responsibility and ensuring that all parties are held accountable for their actions. This includes sharing information about potential risks, emergency response plans, and post-disaster recovery efforts.\n",
    "\n",
    "6. *Leveraging Technological Advancements:* Utilizing technology to improve disaster response, such as deploying AI and machine learning for predictive analytics, using data to inform emergency responses, and incorporating IoT devices for real-time monitoring and reporting of potential issues.\n",
    "\n",
    "7. *Establishing a Multi-agency Coordination Center:* Creating a centralized coordination center involving various government agencies, emergency services, and industry representatives to manage responses, allocate resources, and streamline communication during a crisis. This can help ensure a well-coordinated, effective response to disasters, minimizing confusion and delays.\n",
    "\n",
    "By implementing these strategies, communities can better prepare for, respond to, and recover from crises like the Bhopal Gas Tragedy, reducing the impact of misinformation, communication breakdowns, and deliberate actions that could exacerbate harm. It's essential to prioritize public safety, maintain open communication, and work closely with all stakeholders to ensure the best possible outcomes in the event of a disaster.''']\n",
    "\n",
    "# Translate each sentence\n",
    "translations = [translator.translate(sentence, src=\"en\", dest=\"hi\").text for sentence in bengali_sentences]\n",
    "\n",
    "# Print results\n",
    "for en, hi in zip(bengali_sentences, translations):\n",
    "    print(f\"Bengali: {hi} → English: {en}\")\n",
    "\n",
    "\n",
    "# Bengali sentence\n",
    "# bengali_text = \"আপনার নাম কি?\"\n",
    "\n",
    "# # Translate to English\n",
    "# translated = translator.translate(bengali_text, src=\"bn\", dest=\"en\")\n",
    "\n",
    "# print(f\"Bengali: {bengali_text} → English: {translated.text}\")"
   ]
  },
  {
   "cell_type": "code",
   "execution_count": 4,
   "id": "6733fa15",
   "metadata": {},
   "outputs": [],
   "source": [
    "!pip install -qq pandas\n",
    "# !pip install -qq pyarrow"
   ]
  },
  {
   "cell_type": "code",
   "execution_count": 7,
   "id": "5bdb2449",
   "metadata": {},
   "outputs": [
    {
     "name": "stdout",
     "output_type": "stream",
     "text": [
      "Collecting pyarrow\n",
      "  Downloading pyarrow-21.0.0-cp312-cp312-manylinux_2_28_x86_64.whl.metadata (3.3 kB)\n",
      "Requirement already satisfied: pandas in /workspace/CS626_Jailbreak_Project/.venv/lib/python3.12/site-packages (2.3.1)\n",
      "Requirement already satisfied: numpy>=1.26.0 in /workspace/CS626_Jailbreak_Project/.venv/lib/python3.12/site-packages (from pandas) (2.3.2)\n",
      "Requirement already satisfied: python-dateutil>=2.8.2 in /workspace/CS626_Jailbreak_Project/.venv/lib/python3.12/site-packages (from pandas) (2.9.0.post0)\n",
      "Requirement already satisfied: pytz>=2020.1 in /workspace/CS626_Jailbreak_Project/.venv/lib/python3.12/site-packages (from pandas) (2025.2)\n",
      "Requirement already satisfied: tzdata>=2022.7 in /workspace/CS626_Jailbreak_Project/.venv/lib/python3.12/site-packages (from pandas) (2025.2)\n",
      "Requirement already satisfied: six>=1.5 in /workspace/CS626_Jailbreak_Project/.venv/lib/python3.12/site-packages (from python-dateutil>=2.8.2->pandas) (1.17.0)\n",
      "Downloading pyarrow-21.0.0-cp312-cp312-manylinux_2_28_x86_64.whl (42.8 MB)\n",
      "\u001b[2K   \u001b[90m━━━━━━━━━━━━━━━━━━━━━━━━━━━━━━━━━━━━━━━━\u001b[0m \u001b[32m42.8/42.8 MB\u001b[0m \u001b[31m158.0 MB/s\u001b[0m  \u001b[33m0:00:00\u001b[0mm0:00:01\u001b[0m\n",
      "\u001b[?25hInstalling collected packages: pyarrow\n",
      "Successfully installed pyarrow-21.0.0\n"
     ]
    }
   ],
   "source": [
    "!pip install --upgrade pyarrow pandas\n"
   ]
  },
  {
   "cell_type": "code",
   "execution_count": 1,
   "id": "da89521d",
   "metadata": {},
   "outputs": [],
   "source": [
    "import pyarrow as pa\n",
    "\n",
    "# Safe to call even if not registered\n",
    "for name in [\"pandas.period\", \"pandas.interval\"]:\n",
    "    try:\n",
    "        pa.unregister_extension_type(name)\n",
    "    except Exception:\n",
    "        pass"
   ]
  },
  {
   "cell_type": "code",
   "execution_count": null,
   "id": "a4ddcd77",
   "metadata": {},
   "outputs": [
    {
     "name": "stdout",
     "output_type": "stream",
     "text": [
      "✅ Converted: ../history/sarvam_24b/hindi/hin_eng.parquet → ../history/sarvam_24b/hindi/hin_eng.csv\n",
      "✅ Converted: ../history/sarvam_24b/telugu/tel_eng.parquet → ../history/sarvam_24b/telugu/tel_eng.csv\n",
      "✅ Converted: ../history/sarvam_24b/marathi/mar_eng.parquet → ../history/sarvam_24b/marathi/mar_eng.csv\n",
      "✅ Converted: ../history/sarvam_24b/bengali/beng_eng.parquet → ../history/sarvam_24b/bengali/beng_eng.csv\n",
      "✅ Converted: ../history/gemma3_12b/hindi/hin_eng.parquet → ../history/gemma3_12b/hindi/hin_eng.csv\n",
      "✅ Converted: ../history/gemma3_12b/telugu/tel_eng.parquet → ../history/gemma3_12b/telugu/tel_eng.csv\n",
      "✅ Converted: ../history/gemma3_12b/marathi/mar_eng.parquet → ../history/gemma3_12b/marathi/mar_eng.csv\n",
      "✅ Converted: ../history/gemma3_12b/bengali/beng_eng.parquet → ../history/gemma3_12b/bengali/beng_eng.csv\n",
      "✅ Converted: ../history/gemma2_9b/hindi/hin_eng.parquet → ../history/gemma2_9b/hindi/hin_eng.csv\n",
      "✅ Converted: ../history/gemma2_9b/telugu/tel_eng.parquet → ../history/gemma2_9b/telugu/tel_eng.csv\n",
      "✅ Converted: ../history/gemma2_9b/marathi/mar_eng.parquet → ../history/gemma2_9b/marathi/mar_eng.csv\n",
      "✅ Converted: ../history/gemma2_9b/bengali/beng_eng.parquet → ../history/gemma2_9b/bengali/beng_eng.csv\n",
      "✅ Converted: ../history/llama3.1_8b/hindi/hin_eng.parquet → ../history/llama3.1_8b/hindi/hin_eng.csv\n",
      "✅ Converted: ../history/llama3.1_8b/telugu/tel_eng.parquet → ../history/llama3.1_8b/telugu/tel_eng.csv\n",
      "✅ Converted: ../history/llama3.1_8b/marathi/mar_eng.parquet → ../history/llama3.1_8b/marathi/mar_eng.csv\n",
      "✅ Converted: ../history/llama3.1_8b/bengali/beng_eng.parquet → ../history/llama3.1_8b/bengali/beng_eng.csv\n",
      "✅ Converted: ../history/mixtral_8x7b/hindi/hin_eng.parquet → ../history/mixtral_8x7b/hindi/hin_eng.csv\n",
      "✅ Converted: ../history/mixtral_8x7b/telugu/tel_eng.parquet → ../history/mixtral_8x7b/telugu/tel_eng.csv\n",
      "✅ Converted: ../history/mixtral_8x7b/marathi/mar_eng.parquet → ../history/mixtral_8x7b/marathi/mar_eng.csv\n",
      "✅ Converted: ../history/mixtral_8x7b/bengali/beng_eng.parquet → ../history/mixtral_8x7b/bengali/beng_eng.csv\n",
      "✅ Converted: ../history/llama3.2_3b/hindi/hin_eng.parquet → ../history/llama3.2_3b/hindi/hin_eng.csv\n",
      "✅ Converted: ../history/llama3.2_3b/telugu/tel_eng.parquet → ../history/llama3.2_3b/telugu/tel_eng.csv\n",
      "✅ Converted: ../history/llama3.2_3b/marathi/mar_eng.parquet → ../history/llama3.2_3b/marathi/mar_eng.csv\n",
      "✅ Converted: ../history/llama3.2_3b/bengali/beng_eng.parquet → ../history/llama3.2_3b/bengali/beng_eng.csv\n",
      "✅ Converted: ../history/qwen2_14b/hindi/hin_eng.parquet → ../history/qwen2_14b/hindi/hin_eng.csv\n",
      "✅ Converted: ../history/qwen2_14b/telugu/tel_eng.parquet → ../history/qwen2_14b/telugu/tel_eng.csv\n",
      "✅ Converted: ../history/qwen2_14b/marathi/mar_eng.parquet → ../history/qwen2_14b/marathi/mar_eng.csv\n",
      "✅ Converted: ../history/qwen2_14b/bengali/beng_eng.parquet → ../history/qwen2_14b/bengali/beng_eng.csv\n",
      "🎉 Done copying missing files.\n"
     ]
    }
   ],
   "source": [
    "# import os\n",
    "# import pandas as pd\n",
    "\n",
    "# def copy_parquet_as_csv_if_missing(input_dir, original_root=\"../jailbreak_responses\", target_root=\"../jailbreak_responses_final\"):\n",
    "#     for dirpath, _, filenames in os.walk(input_dir):\n",
    "#         for filename in filenames:\n",
    "#             if filename.endswith(\".parquet\"):\n",
    "#                 parquet_path = os.path.join(dirpath, filename)\n",
    "\n",
    "#                 # Replace the root path prefix in the output\n",
    "#                 # if original_root not in parquet_path:\n",
    "#                 #     print(f\"⚠️ Skipping {parquet_path}: path doesn't contain '{original_root}'\")\n",
    "#                 #     continue\n",
    "\n",
    "#                 output_path = parquet_path\n",
    "#                 output_path = os.path.splitext(output_path)[0] + \".csv\"\n",
    "\n",
    "#                 if os.path.exists(output_path):\n",
    "#                     print(f\"⏩ Skipping (already exists): {output_path}\")\n",
    "#                     continue\n",
    "\n",
    "#                 try:\n",
    "#                     df = pd.read_parquet(parquet_path)\n",
    "#                     # df = pd.read_parquet(parquet_path, use_nullable_dtypes=False)\n",
    "#                     os.makedirs(os.path.dirname(output_path), exist_ok=True)\n",
    "#                     df.to_csv(output_path, index=False)\n",
    "#                     print(f\"✅ Converted: {parquet_path} → {output_path}\")\n",
    "#                 except Exception as e:\n",
    "#                     print(f\"❌ Failed to convert {parquet_path}: {e}\")\n",
    "\n",
    "#     print(\"🎉 Done copying missing files.\")\n",
    "\n",
    "# # Example usage\n",
    "# input_dir = \"../history\"\n",
    "# copy_parquet_as_csv_if_missing(input_dir)\n"
   ]
  },
  {
   "cell_type": "code",
   "execution_count": null,
   "id": "0a59b8b9",
   "metadata": {
    "scrolled": true
   },
   "outputs": [],
   "source": [
    "# import os\n",
    "# import pandas as pd\n",
    "# from tqdm import tqdm\n",
    "# import time\n",
    "# from googletrans import Translator\n",
    "\n",
    "# def extract_language_from_path(path):\n",
    "#     parts = path.split(os.sep)\n",
    "#     if len(parts) >= 2:\n",
    "#         return parts[-2]  # Language is second last folder\n",
    "#     else:\n",
    "#         return None\n",
    "\n",
    "# def map_language_name_to_code(lang_name):\n",
    "#     mapping = {\n",
    "#         \"hindi\": \"hi\",\n",
    "#         \"bengali\": \"bn\",\n",
    "#         \"telugu\": \"te\",\n",
    "#         \"marathi\": \"mr\",\n",
    "#         \"english\": \"en\"\n",
    "#     }\n",
    "#     return mapping.get(lang_name.lower(), None)\n",
    "\n",
    "# def translate_sentences_safe(responses, src_lang, translator, max_retries=3):\n",
    "#     translations = []\n",
    "\n",
    "#     for sentence in tqdm(responses, desc=\"Translating\", ncols=100):\n",
    "#         sentence = str(sentence)\n",
    "#         translated_text = \"\"\n",
    "\n",
    "#         if not sentence or not isinstance(sentence, str):\n",
    "#             translations.append(\"\")\n",
    "#             continue\n",
    "\n",
    "#         for attempt in range(max_retries):\n",
    "#             try:\n",
    "#                 translated = translator.translate(sentence, src=src_lang, dest=\"en\")\n",
    "#                 translated_text = translated.text if translated else \"\"\n",
    "#                 break  # Success\n",
    "#             except Exception as e:\n",
    "#                 print(f\"⚠️ Error translating sentence (attempt {attempt+1}): {e}\")\n",
    "#                 time.sleep(1.5 * (attempt + 1))  # Wait before retry\n",
    "\n",
    "#         translations.append(translated_text)\n",
    "\n",
    "#     return translations\n",
    "\n",
    "# def translate_response_column(file_path, translator):\n",
    "#     try:\n",
    "#         df = pd.read_csv(file_path)\n",
    "\n",
    "#         if \"response\" in df.columns:\n",
    "#             lang_folder = extract_language_from_path(file_path)\n",
    "#             src_lang = map_language_name_to_code(lang_folder)\n",
    "\n",
    "#             if not src_lang:\n",
    "#                 print(f\"⚠️ Skipping {file_path}: Unknown language '{lang_folder}'\")\n",
    "#                 return\n",
    "\n",
    "#             print(f\"🔵 Translating file: {file_path} | Source language: {src_lang}\")\n",
    "\n",
    "#             responses = df[\"response\"].astype(str).tolist()\n",
    "#             translations = translate_sentences_safe(responses, src_lang, translator)\n",
    "#             df[\"gtrans_response\"] = translations\n",
    "\n",
    "#             df.to_csv(file_path, index=False)\n",
    "#             print(f\"✅ Saved translated file: {file_path}\")\n",
    "\n",
    "#         else:\n",
    "#             print(f\"⚠️ Skipping {file_path}: No 'response' column found.\")\n",
    "\n",
    "#     except Exception as e:\n",
    "#         print(f\"❌ Error processing {file_path}: {e}\")\n",
    "\n",
    "# def process_directory(root_dir):\n",
    "#     translator = Translator()\n",
    "\n",
    "#     for dirpath, _, filenames in os.walk(root_dir):\n",
    "#         for filename in filenames:\n",
    "#             if filename.endswith(\".csv\") and \"checkpoint\" not in filename.lower():\n",
    "#                 file_path = os.path.join(dirpath, filename)\n",
    "#                 translate_response_column(file_path, translator)\n",
    "#             else:\n",
    "#                 if \"checkpoint\" in filename.lower():\n",
    "#                     print(f\"⏩ Skipping checkpoint file: {filename}\")\n",
    "\n",
    "# if __name__ == \"__main__\":\n",
    "#     # Provide your root folder\n",
    "#     root_directory = \"./jailbreak_responses_final/news\"\n",
    "#     process_directory(root_directory)\n"
   ]
  },
  {
   "cell_type": "markdown",
   "id": "f3b9bbcb",
   "metadata": {},
   "source": [
    "# Final Translation Code"
   ]
  },
  {
   "cell_type": "code",
   "execution_count": 5,
   "id": "075a48c4",
   "metadata": {},
   "outputs": [
    {
     "name": "stdout",
     "output_type": "stream",
     "text": [
      "Collecting nltk\n",
      "  Downloading nltk-3.9.1-py3-none-any.whl.metadata (2.9 kB)\n",
      "Collecting click (from nltk)\n",
      "  Downloading click-8.2.1-py3-none-any.whl.metadata (2.5 kB)\n",
      "Collecting joblib (from nltk)\n",
      "  Downloading joblib-1.5.1-py3-none-any.whl.metadata (5.6 kB)\n",
      "Collecting regex>=2021.8.3 (from nltk)\n",
      "  Downloading regex-2025.7.34-cp312-cp312-manylinux2014_x86_64.manylinux_2_17_x86_64.manylinux_2_28_x86_64.whl.metadata (40 kB)\n",
      "Collecting tqdm (from nltk)\n",
      "  Downloading tqdm-4.67.1-py3-none-any.whl.metadata (57 kB)\n",
      "Downloading nltk-3.9.1-py3-none-any.whl (1.5 MB)\n",
      "\u001b[2K   \u001b[90m━━━━━━━━━━━━━━━━━━━━━━━━━━━━━━━━━━━━━━━━\u001b[0m \u001b[32m1.5/1.5 MB\u001b[0m \u001b[31m45.2 MB/s\u001b[0m  \u001b[33m0:00:00\u001b[0m\n",
      "\u001b[?25hDownloading regex-2025.7.34-cp312-cp312-manylinux2014_x86_64.manylinux_2_17_x86_64.manylinux_2_28_x86_64.whl (801 kB)\n",
      "\u001b[2K   \u001b[90m━━━━━━━━━━━━━━━━━━━━━━━━━━━━━━━━━━━━━━━━\u001b[0m \u001b[32m801.9/801.9 kB\u001b[0m \u001b[31m57.4 MB/s\u001b[0m  \u001b[33m0:00:00\u001b[0m\n",
      "\u001b[?25hDownloading click-8.2.1-py3-none-any.whl (102 kB)\n",
      "Downloading joblib-1.5.1-py3-none-any.whl (307 kB)\n",
      "Downloading tqdm-4.67.1-py3-none-any.whl (78 kB)\n",
      "Installing collected packages: tqdm, regex, joblib, click, nltk\n",
      "\u001b[2K   \u001b[90m━━━━━━━━━━━━━━━━━━━━━━━━━━━━━━━━━━━━━━━━\u001b[0m \u001b[32m5/5\u001b[0m [nltk][32m4/5\u001b[0m [nltk]]]\n",
      "\u001b[1A\u001b[2KSuccessfully installed click-8.2.1 joblib-1.5.1 nltk-3.9.1 regex-2025.7.34 tqdm-4.67.1\n"
     ]
    }
   ],
   "source": [
    "!pip install nltk"
   ]
  },
  {
   "cell_type": "code",
   "execution_count": 6,
   "id": "c8a7ae5c",
   "metadata": {},
   "outputs": [
    {
     "name": "stderr",
     "output_type": "stream",
     "text": [
      "[nltk_data] Downloading package punkt to /home/gitpod/nltk_data...\n",
      "[nltk_data]   Unzipping tokenizers/punkt.zip.\n"
     ]
    },
    {
     "data": {
      "text/plain": [
       "True"
      ]
     },
     "execution_count": 6,
     "metadata": {},
     "output_type": "execute_result"
    }
   ],
   "source": [
    "import nltk\n",
    "nltk.download('punkt')"
   ]
  },
  {
   "cell_type": "code",
   "execution_count": 7,
   "id": "5040a1b4",
   "metadata": {},
   "outputs": [
    {
     "name": "stderr",
     "output_type": "stream",
     "text": [
      "[nltk_data] Downloading package punkt_tab to /home/gitpod/nltk_data...\n",
      "[nltk_data]   Unzipping tokenizers/punkt_tab.zip.\n"
     ]
    },
    {
     "data": {
      "text/plain": [
       "True"
      ]
     },
     "execution_count": 7,
     "metadata": {},
     "output_type": "execute_result"
    }
   ],
   "source": [
    "import nltk\n",
    "nltk.download('punkt_tab')"
   ]
  },
  {
   "cell_type": "code",
   "execution_count": 9,
   "id": "49a53ac8",
   "metadata": {
    "scrolled": true
   },
   "outputs": [],
   "source": [
    "import os\n",
    "import pandas as pd\n",
    "from tqdm import tqdm\n",
    "import time\n",
    "from googletrans import Translator\n",
    "from nltk.tokenize import sent_tokenize\n",
    "\n",
    "def extract_language_from_path(path):\n",
    "    parts = path.split(os.sep)\n",
    "    return parts[-2] if len(parts) >= 2 else None\n",
    "\n",
    "def map_language_name_to_code(lang_name):\n",
    "    mapping = {\n",
    "        \"hindi\": \"hi\",\n",
    "        \"bengali\": \"bn\",\n",
    "        \"telugu\": \"te\",\n",
    "        \"marathi\": \"mr\",\n",
    "        \"english\": \"en\"\n",
    "    }\n",
    "    return mapping.get(lang_name.lower(), None)\n",
    "\n",
    "\n",
    "\n",
    "def translate_sentence_safe(sentence, src_lang, translator, max_retries=2):\n",
    "    sentence = str(sentence)\n",
    "\n",
    "    def try_translate(s, src):\n",
    "        for attempt in range(max_retries):\n",
    "            try:\n",
    "                translated = translator.translate(s, src=src, dest=\"en\")\n",
    "                return translated.text if translated else None\n",
    "            except Exception as e:\n",
    "                print(f\"Error translating with src={src} (attempt {attempt+1}): {e}\")\n",
    "                time.sleep(1.5 * (attempt + 1))\n",
    "        return None\n",
    "\n",
    "    # First try full sentence\n",
    "    result = try_translate(sentence, src_lang)\n",
    "\n",
    "    # Fallback: try with src='en'\n",
    "    if result is None and src_lang != \"en\":\n",
    "        result = try_translate(sentence, \"en\")\n",
    "\n",
    "    # Still failing? Try splitting into two sentences\n",
    "    if result is None:\n",
    "        print(\"🔁 Attempting sentence split and translation...\")\n",
    "        try:\n",
    "            sentences = sent_tokenize(sentence)\n",
    "            if len(sentences) >= 2:\n",
    "                first_half = \" \".join(sentences[:len(sentences)//2])\n",
    "                second_half = \" \".join(sentences[len(sentences)//2:])\n",
    "                \n",
    "                first_trans = try_translate(first_half, src_lang) or try_translate(first_half, \"en\")\n",
    "                second_trans = try_translate(second_half, src_lang) or try_translate(second_half, \"en\")\n",
    "\n",
    "                if first_trans and second_trans:\n",
    "                    result = first_trans + \" \" + second_trans\n",
    "                elif first_trans:\n",
    "                    result = first_trans + \" \" + second_half\n",
    "                elif second_trans:\n",
    "                    result = first_half + \" \" + second_trans\n",
    "\n",
    "\n",
    "                else:\n",
    "                    print(f\"❌ Split translation failed:\\n{sentence[:150]}...\")\n",
    "                    result = None\n",
    "                print(\"result sent successfully\")\n",
    "#                 print(result)\n",
    "            else:\n",
    "                print(\"⚠️ Could not split into two sentences. Skipping.\")\n",
    "        except Exception as e:\n",
    "            print(f\"❌ Sentence splitting error: {e}\")\n",
    "            result = None\n",
    "\n",
    "    return result\n",
    "\n"
   ]
  },
  {
   "cell_type": "code",
   "execution_count": null,
   "id": "b67eeeb9",
   "metadata": {},
   "outputs": [
    {
     "name": "stdout",
     "output_type": "stream",
     "text": [
      "🔵 Processing file: ../complete/context_specific/sarvam_24b/hindi/hin_hin.csv | Source language: hi\n",
      "🔄 Translating 1668 rows...\n"
     ]
    },
    {
     "name": "stderr",
     "output_type": "stream",
     "text": [
      "Translating:   0%|                                                         | 0/1668 [00:00<?, ?it/s]"
     ]
    },
    {
     "name": "stderr",
     "output_type": "stream",
     "text": [
      "Translating:  22%|██████████▌                                    | 374/1668 [06:47<20:35,  1.05it/s]"
     ]
    },
    {
     "name": "stdout",
     "output_type": "stream",
     "text": [
      "Error translating with src=hi (attempt 1): The read operation timed out\n"
     ]
    },
    {
     "name": "stderr",
     "output_type": "stream",
     "text": [
      "Translating:  40%|██████████████████▌                            | 659/1668 [11:31<19:37,  1.17s/it]"
     ]
    },
    {
     "name": "stdout",
     "output_type": "stream",
     "text": [
      "Error translating with src=hi (attempt 1): The read operation timed out\n"
     ]
    },
    {
     "name": "stderr",
     "output_type": "stream",
     "text": [
      "Translating:  89%|████████████████████████████████████████▊     | 1482/1668 [25:19<03:08,  1.01s/it]"
     ]
    },
    {
     "name": "stdout",
     "output_type": "stream",
     "text": [
      "Error translating with src=hi (attempt 1): The read operation timed out\n"
     ]
    },
    {
     "name": "stderr",
     "output_type": "stream",
     "text": [
      "Translating: 100%|██████████████████████████████████████████████| 1668/1668 [28:40<00:00,  1.03s/it]\n"
     ]
    },
    {
     "name": "stdout",
     "output_type": "stream",
     "text": [
      "✅ File saved: ../complete/context_specific/sarvam_24b/hindi/hin_hin.csv\n",
      "🔵 Processing file: ../complete/context_specific/sarvam_24b/hindi/hin_eng.csv | Source language: hi\n",
      "🔄 Translating 1668 rows...\n"
     ]
    },
    {
     "name": "stderr",
     "output_type": "stream",
     "text": [
      "Translating:  17%|███████▉                                       | 280/1668 [00:44<26:11,  1.13s/it]"
     ]
    },
    {
     "name": "stdout",
     "output_type": "stream",
     "text": [
      "Error translating with src=hi (attempt 1): 'Translator' object has no attribute 'raise_Exception'\n",
      "Error translating with src=hi (attempt 2): 'Translator' object has no attribute 'raise_Exception'\n",
      "Error translating with src=en (attempt 1): 'Translator' object has no attribute 'raise_Exception'\n",
      "Error translating with src=en (attempt 2): 'Translator' object has no attribute 'raise_Exception'\n",
      "🔁 Attempting sentence split and translation...\n",
      "Error translating with src=hi (attempt 1): 'Translator' object has no attribute 'raise_Exception'\n",
      "Error translating with src=hi (attempt 2): 'Translator' object has no attribute 'raise_Exception'\n",
      "Error translating with src=hi (attempt 1): 'Translator' object has no attribute 'raise_Exception'\n",
      "Error translating with src=hi (attempt 2): 'Translator' object has no attribute 'raise_Exception'\n",
      "Error translating with src=en (attempt 1): 'Translator' object has no attribute 'raise_Exception'\n",
      "Error translating with src=en (attempt 2): 'Translator' object has no attribute 'raise_Exception'\n"
     ]
    },
    {
     "name": "stderr",
     "output_type": "stream",
     "text": [
      "Translating:  17%|███████▌                                     | 282/1668 [01:10<2:20:51,  6.10s/it]"
     ]
    },
    {
     "name": "stdout",
     "output_type": "stream",
     "text": [
      "result sent successfully\n",
      "Error translating with src=hi (attempt 1): 'Translator' object has no attribute 'raise_Exception'\n",
      "Error translating with src=hi (attempt 2): 'Translator' object has no attribute 'raise_Exception'\n",
      "Error translating with src=en (attempt 1): 'Translator' object has no attribute 'raise_Exception'\n",
      "Error translating with src=en (attempt 2): 'Translator' object has no attribute 'raise_Exception'\n",
      "🔁 Attempting sentence split and translation...\n",
      "Error translating with src=hi (attempt 1): 'Translator' object has no attribute 'raise_Exception'\n",
      "Error translating with src=hi (attempt 2): 'Translator' object has no attribute 'raise_Exception'\n",
      "Error translating with src=en (attempt 1): 'Translator' object has no attribute 'raise_Exception'\n",
      "Error translating with src=hi (attempt 1): 'Translator' object has no attribute 'raise_Exception'\n",
      "Error translating with src=hi (attempt 2): 'Translator' object has no attribute 'raise_Exception'\n",
      "Error translating with src=en (attempt 1): 'Translator' object has no attribute 'raise_Exception'\n",
      "Error translating with src=en (attempt 2): 'Translator' object has no attribute 'raise_Exception'\n"
     ]
    },
    {
     "name": "stderr",
     "output_type": "stream",
     "text": [
      "Translating:  17%|███████▋                                     | 283/1668 [01:39<4:16:59, 11.13s/it]"
     ]
    },
    {
     "name": "stdout",
     "output_type": "stream",
     "text": [
      "result sent successfully\n"
     ]
    },
    {
     "name": "stderr",
     "output_type": "stream",
     "text": [
      "Translating:  17%|███████▋                                     | 286/1668 [01:41<1:54:31,  4.97s/it]"
     ]
    },
    {
     "name": "stdout",
     "output_type": "stream",
     "text": [
      "Error translating with src=hi (attempt 1): 'Translator' object has no attribute 'raise_Exception'\n"
     ]
    },
    {
     "name": "stderr",
     "output_type": "stream",
     "text": [
      "Translating:  17%|███████▊                                     | 288/1668 [01:43<1:14:58,  3.26s/it]"
     ]
    },
    {
     "name": "stdout",
     "output_type": "stream",
     "text": [
      "Error translating with src=hi (attempt 1): 'Translator' object has no attribute 'raise_Exception'\n",
      "Error translating with src=hi (attempt 2): 'Translator' object has no attribute 'raise_Exception'\n",
      "Error translating with src=en (attempt 1): 'Translator' object has no attribute 'raise_Exception'\n",
      "Error translating with src=en (attempt 2): 'Translator' object has no attribute 'raise_Exception'\n",
      "🔁 Attempting sentence split and translation...\n",
      "Error translating with src=hi (attempt 1): 'Translator' object has no attribute 'raise_Exception'\n",
      "Error translating with src=hi (attempt 2): 'Translator' object has no attribute 'raise_Exception'\n",
      "Error translating with src=en (attempt 1): 'Translator' object has no attribute 'raise_Exception'\n",
      "Error translating with src=hi (attempt 1): 'Translator' object has no attribute 'raise_Exception'\n"
     ]
    },
    {
     "name": "stderr",
     "output_type": "stream",
     "text": [
      "Translating:  17%|███████▊                                     | 289/1668 [02:04<2:54:11,  7.58s/it]"
     ]
    },
    {
     "name": "stdout",
     "output_type": "stream",
     "text": [
      "result sent successfully\n",
      "Error translating with src=hi (attempt 1): 'Translator' object has no attribute 'raise_Exception'\n",
      "Error translating with src=hi (attempt 2): 'Translator' object has no attribute 'raise_Exception'\n",
      "Error translating with src=en (attempt 1): 'Translator' object has no attribute 'raise_Exception'\n",
      "Error translating with src=en (attempt 2): 'Translator' object has no attribute 'raise_Exception'\n",
      "🔁 Attempting sentence split and translation...\n",
      "Error translating with src=hi (attempt 1): 'Translator' object has no attribute 'raise_Exception'\n",
      "Error translating with src=hi (attempt 2): 'Translator' object has no attribute 'raise_Exception'\n",
      "Error translating with src=en (attempt 1): 'Translator' object has no attribute 'raise_Exception'\n",
      "Error translating with src=en (attempt 2): 'Translator' object has no attribute 'raise_Exception'\n"
     ]
    },
    {
     "name": "stderr",
     "output_type": "stream",
     "text": [
      "Translating:  17%|███████▊                                     | 290/1668 [02:26<4:14:57, 11.10s/it]"
     ]
    },
    {
     "name": "stdout",
     "output_type": "stream",
     "text": [
      "result sent successfully\n"
     ]
    },
    {
     "name": "stderr",
     "output_type": "stream",
     "text": [
      "Translating:  17%|███████▊                                     | 291/1668 [02:27<3:14:34,  8.48s/it]"
     ]
    },
    {
     "name": "stdout",
     "output_type": "stream",
     "text": [
      "Error translating with src=hi (attempt 1): 'Translator' object has no attribute 'raise_Exception'\n",
      "Error translating with src=hi (attempt 2): 'Translator' object has no attribute 'raise_Exception'\n",
      "Error translating with src=en (attempt 1): 'Translator' object has no attribute 'raise_Exception'\n",
      "Error translating with src=en (attempt 2): 'Translator' object has no attribute 'raise_Exception'\n",
      "🔁 Attempting sentence split and translation...\n",
      "Error translating with src=hi (attempt 1): 'Translator' object has no attribute 'raise_Exception'\n",
      "Error translating with src=hi (attempt 2): 'Translator' object has no attribute 'raise_Exception'\n",
      "Error translating with src=en (attempt 1): 'Translator' object has no attribute 'raise_Exception'\n"
     ]
    },
    {
     "name": "stderr",
     "output_type": "stream",
     "text": [
      "Translating:  18%|███████▉                                     | 292/1668 [02:46<4:23:11, 11.48s/it]"
     ]
    },
    {
     "name": "stdout",
     "output_type": "stream",
     "text": [
      "result sent successfully\n",
      "Error translating with src=hi (attempt 1): 'Translator' object has no attribute 'raise_Exception'\n",
      "Error translating with src=hi (attempt 2): 'Translator' object has no attribute 'raise_Exception'\n"
     ]
    },
    {
     "name": "stderr",
     "output_type": "stream",
     "text": [
      "Translating:  18%|███████▉                                     | 293/1668 [02:52<3:42:48,  9.72s/it]"
     ]
    },
    {
     "name": "stdout",
     "output_type": "stream",
     "text": [
      "Error translating with src=hi (attempt 1): 'Translator' object has no attribute 'raise_Exception'\n",
      "Error translating with src=hi (attempt 2): 'Translator' object has no attribute 'raise_Exception'\n",
      "Error translating with src=en (attempt 1): 'Translator' object has no attribute 'raise_Exception'\n",
      "Error translating with src=en (attempt 2): 'Translator' object has no attribute 'raise_Exception'\n",
      "🔁 Attempting sentence split and translation...\n",
      "Error translating with src=hi (attempt 1): 'Translator' object has no attribute 'raise_Exception'\n",
      "Error translating with src=hi (attempt 2): 'Translator' object has no attribute 'raise_Exception'\n"
     ]
    },
    {
     "name": "stderr",
     "output_type": "stream",
     "text": [
      "Translating:  18%|███████▉                                     | 294/1668 [03:09<4:33:25, 11.94s/it]"
     ]
    },
    {
     "name": "stdout",
     "output_type": "stream",
     "text": [
      "result sent successfully\n",
      "Error translating with src=hi (attempt 1): 'Translator' object has no attribute 'raise_Exception'\n"
     ]
    },
    {
     "name": "stderr",
     "output_type": "stream",
     "text": [
      "Translating:  18%|███████▉                                     | 295/1668 [03:11<3:27:25,  9.06s/it]"
     ]
    },
    {
     "name": "stdout",
     "output_type": "stream",
     "text": [
      "Error translating with src=hi (attempt 1): 'Translator' object has no attribute 'raise_Exception'\n"
     ]
    },
    {
     "name": "stderr",
     "output_type": "stream",
     "text": [
      "Translating:  18%|███████▉                                     | 296/1668 [03:14<2:46:50,  7.30s/it]"
     ]
    },
    {
     "name": "stdout",
     "output_type": "stream",
     "text": [
      "Error translating with src=hi (attempt 1): 'Translator' object has no attribute 'raise_Exception'\n",
      "Error translating with src=hi (attempt 2): 'Translator' object has no attribute 'raise_Exception'\n",
      "Error translating with src=en (attempt 1): 'Translator' object has no attribute 'raise_Exception'\n",
      "Error translating with src=en (attempt 2): 'Translator' object has no attribute 'raise_Exception'\n",
      "🔁 Attempting sentence split and translation...\n",
      "Error translating with src=hi (attempt 1): 'Translator' object has no attribute 'raise_Exception'\n",
      "Error translating with src=hi (attempt 2): 'Translator' object has no attribute 'raise_Exception'\n",
      "Error translating with src=hi (attempt 1): 'Translator' object has no attribute 'raise_Exception'\n"
     ]
    },
    {
     "name": "stderr",
     "output_type": "stream",
     "text": [
      "Translating:  18%|████████                                     | 297/1668 [03:33<4:06:54, 10.81s/it]"
     ]
    },
    {
     "name": "stdout",
     "output_type": "stream",
     "text": [
      "result sent successfully\n",
      "Error translating with src=hi (attempt 1): 'Translator' object has no attribute 'raise_Exception'\n"
     ]
    },
    {
     "name": "stderr",
     "output_type": "stream",
     "text": [
      "Translating:  18%|████████                                     | 300/1668 [03:38<1:52:20,  4.93s/it]"
     ]
    },
    {
     "name": "stdout",
     "output_type": "stream",
     "text": [
      "Error translating with src=hi (attempt 1): 'Translator' object has no attribute 'raise_Exception'\n"
     ]
    },
    {
     "name": "stderr",
     "output_type": "stream",
     "text": [
      "Translating:  18%|████████                                     | 301/1668 [03:40<1:38:57,  4.34s/it]"
     ]
    },
    {
     "name": "stdout",
     "output_type": "stream",
     "text": [
      "Error translating with src=hi (attempt 1): 'Translator' object has no attribute 'raise_Exception'\n"
     ]
    },
    {
     "name": "stderr",
     "output_type": "stream",
     "text": [
      "Translating:  18%|████████▏                                    | 302/1668 [03:44<1:33:24,  4.10s/it]"
     ]
    },
    {
     "name": "stdout",
     "output_type": "stream",
     "text": [
      "Error translating with src=hi (attempt 1): 'Translator' object has no attribute 'raise_Exception'\n",
      "Error translating with src=hi (attempt 2): 'Translator' object has no attribute 'raise_Exception'\n",
      "Error translating with src=en (attempt 1): 'Translator' object has no attribute 'raise_Exception'\n",
      "Error translating with src=en (attempt 2): 'Translator' object has no attribute 'raise_Exception'\n"
     ]
    },
    {
     "name": "stderr",
     "output_type": "stream",
     "text": [
      "Translating:  18%|████████▏                                    | 303/1668 [03:55<2:13:49,  5.88s/it]"
     ]
    },
    {
     "name": "stdout",
     "output_type": "stream",
     "text": [
      "🔁 Attempting sentence split and translation...\n",
      "⚠️ Could not split into two sentences. Skipping.\n"
     ]
    },
    {
     "name": "stderr",
     "output_type": "stream",
     "text": [
      "Translating:  18%|████████▏                                    | 305/1668 [03:56<1:15:27,  3.32s/it]"
     ]
    },
    {
     "name": "stdout",
     "output_type": "stream",
     "text": [
      "Error translating with src=hi (attempt 1): 'Translator' object has no attribute 'raise_Exception'\n"
     ]
    },
    {
     "name": "stderr",
     "output_type": "stream",
     "text": [
      "Translating:  18%|████████▋                                      | 307/1668 [03:59<57:55,  2.55s/it]"
     ]
    },
    {
     "name": "stdout",
     "output_type": "stream",
     "text": [
      "Error translating with src=hi (attempt 1): 'Translator' object has no attribute 'raise_Exception'\n"
     ]
    },
    {
     "name": "stderr",
     "output_type": "stream",
     "text": [
      "Translating:  18%|████████▋                                      | 308/1668 [04:01<53:18,  2.35s/it]"
     ]
    },
    {
     "name": "stdout",
     "output_type": "stream",
     "text": [
      "Error translating with src=hi (attempt 1): 'Translator' object has no attribute 'raise_Exception'\n",
      "Error translating with src=hi (attempt 2): 'Translator' object has no attribute 'raise_Exception'\n"
     ]
    },
    {
     "name": "stderr",
     "output_type": "stream",
     "text": [
      "Translating:  19%|████████▎                                    | 310/1668 [04:08<1:02:00,  2.74s/it]"
     ]
    },
    {
     "name": "stdout",
     "output_type": "stream",
     "text": [
      "Error translating with src=hi (attempt 1): 'Translator' object has no attribute 'raise_Exception'\n",
      "Error translating with src=hi (attempt 2): 'Translator' object has no attribute 'raise_Exception'\n"
     ]
    },
    {
     "name": "stderr",
     "output_type": "stream",
     "text": [
      "Translating:  19%|████████▍                                    | 312/1668 [04:13<1:00:22,  2.67s/it]"
     ]
    },
    {
     "name": "stdout",
     "output_type": "stream",
     "text": [
      "Error translating with src=hi (attempt 1): 'Translator' object has no attribute 'raise_Exception'\n",
      "Error translating with src=hi (attempt 2): 'Translator' object has no attribute 'raise_Exception'\n",
      "Error translating with src=en (attempt 1): 'Translator' object has no attribute 'raise_Exception'\n",
      "Error translating with src=en (attempt 2): 'Translator' object has no attribute 'raise_Exception'\n"
     ]
    },
    {
     "name": "stderr",
     "output_type": "stream",
     "text": [
      "Translating:  19%|████████▍                                    | 314/1668 [04:24<1:22:55,  3.67s/it]"
     ]
    },
    {
     "name": "stdout",
     "output_type": "stream",
     "text": [
      "🔁 Attempting sentence split and translation...\n",
      "⚠️ Could not split into two sentences. Skipping.\n"
     ]
    },
    {
     "name": "stderr",
     "output_type": "stream",
     "text": [
      "Translating:  19%|████████▍                                    | 315/1668 [04:25<1:11:55,  3.19s/it]"
     ]
    },
    {
     "name": "stdout",
     "output_type": "stream",
     "text": [
      "Error translating with src=hi (attempt 1): 'Translator' object has no attribute 'raise_Exception'\n"
     ]
    },
    {
     "name": "stderr",
     "output_type": "stream",
     "text": [
      "Translating:  19%|████████▌                                    | 316/1668 [04:27<1:05:41,  2.92s/it]"
     ]
    },
    {
     "name": "stdout",
     "output_type": "stream",
     "text": [
      "Error translating with src=hi (attempt 1): 'Translator' object has no attribute 'raise_Exception'\n",
      "Error translating with src=hi (attempt 2): 'Translator' object has no attribute 'raise_Exception'\n",
      "Error translating with src=en (attempt 1): 'Translator' object has no attribute 'raise_Exception'\n"
     ]
    },
    {
     "name": "stderr",
     "output_type": "stream",
     "text": [
      "Translating:  19%|████████▌                                    | 317/1668 [04:35<1:31:14,  4.05s/it]"
     ]
    },
    {
     "name": "stdout",
     "output_type": "stream",
     "text": [
      "Error translating with src=hi (attempt 1): 'Translator' object has no attribute 'raise_Exception'\n",
      "Error translating with src=hi (attempt 2): 'Translator' object has no attribute 'raise_Exception'\n",
      "Error translating with src=en (attempt 1): 'Translator' object has no attribute 'raise_Exception'\n",
      "Error translating with src=en (attempt 2): 'Translator' object has no attribute 'raise_Exception'\n",
      "🔁 Attempting sentence split and translation...\n",
      "Error translating with src=hi (attempt 1): 'Translator' object has no attribute 'raise_Exception'\n",
      "Error translating with src=hi (attempt 1): 'Translator' object has no attribute 'raise_Exception'\n"
     ]
    },
    {
     "name": "stderr",
     "output_type": "stream",
     "text": [
      "Translating:  19%|████████▌                                    | 318/1668 [04:50<2:42:07,  7.21s/it]"
     ]
    },
    {
     "name": "stdout",
     "output_type": "stream",
     "text": [
      "result sent successfully\n",
      "Error translating with src=hi (attempt 1): 'Translator' object has no attribute 'raise_Exception'\n",
      "Error translating with src=hi (attempt 2): 'Translator' object has no attribute 'raise_Exception'\n",
      "Error translating with src=en (attempt 1): 'Translator' object has no attribute 'raise_Exception'\n"
     ]
    },
    {
     "name": "stderr",
     "output_type": "stream",
     "text": [
      "Translating:  19%|████████▋                                    | 320/1668 [04:58<2:06:23,  5.63s/it]"
     ]
    },
    {
     "name": "stdout",
     "output_type": "stream",
     "text": [
      "Error translating with src=hi (attempt 1): 'Translator' object has no attribute 'raise_Exception'\n"
     ]
    },
    {
     "name": "stderr",
     "output_type": "stream",
     "text": [
      "Translating:  19%|████████▋                                    | 323/1668 [05:03<1:20:14,  3.58s/it]"
     ]
    },
    {
     "name": "stdout",
     "output_type": "stream",
     "text": [
      "Error translating with src=hi (attempt 1): 'Translator' object has no attribute 'raise_Exception'\n",
      "Error translating with src=hi (attempt 2): 'Translator' object has no attribute 'raise_Exception'\n"
     ]
    },
    {
     "name": "stderr",
     "output_type": "stream",
     "text": [
      "Translating:  20%|████████▊                                    | 326/1668 [05:10<1:00:41,  2.71s/it]"
     ]
    },
    {
     "name": "stdout",
     "output_type": "stream",
     "text": [
      "Error translating with src=hi (attempt 1): 'Translator' object has no attribute 'raise_Exception'\n",
      "Error translating with src=hi (attempt 2): 'Translator' object has no attribute 'raise_Exception'\n",
      "Error translating with src=en (attempt 1): 'Translator' object has no attribute 'raise_Exception'\n",
      "Error translating with src=en (attempt 2): 'Translator' object has no attribute 'raise_Exception'\n",
      "🔁 Attempting sentence split and translation...\n",
      "Error translating with src=hi (attempt 1): 'Translator' object has no attribute 'raise_Exception'\n",
      "Error translating with src=hi (attempt 2): 'Translator' object has no attribute 'raise_Exception'\n",
      "Error translating with src=en (attempt 1): 'Translator' object has no attribute 'raise_Exception'\n"
     ]
    },
    {
     "name": "stderr",
     "output_type": "stream",
     "text": [
      "Translating:  20%|████████▊                                    | 327/1668 [05:29<2:38:01,  7.07s/it]"
     ]
    },
    {
     "name": "stdout",
     "output_type": "stream",
     "text": [
      "result sent successfully\n",
      "Error translating with src=hi (attempt 1): 'Translator' object has no attribute 'raise_Exception'\n"
     ]
    },
    {
     "name": "stderr",
     "output_type": "stream",
     "text": [
      "Translating:  20%|████████▊                                    | 328/1668 [05:31<2:06:14,  5.65s/it]"
     ]
    },
    {
     "name": "stdout",
     "output_type": "stream",
     "text": [
      "Error translating with src=hi (attempt 1): 'Translator' object has no attribute 'raise_Exception'\n"
     ]
    },
    {
     "name": "stderr",
     "output_type": "stream",
     "text": [
      "Translating:  20%|████████▉                                    | 329/1668 [05:38<2:13:51,  6.00s/it]"
     ]
    },
    {
     "name": "stdout",
     "output_type": "stream",
     "text": [
      "Error translating with src=hi (attempt 1): 'Translator' object has no attribute 'raise_Exception'\n",
      "Error translating with src=hi (attempt 2): 'Translator' object has no attribute 'raise_Exception'\n",
      "Error translating with src=en (attempt 1): 'Translator' object has no attribute 'raise_Exception'\n",
      "Error translating with src=en (attempt 2): 'Translator' object has no attribute 'raise_Exception'\n",
      "🔁 Attempting sentence split and translation...\n",
      "Error translating with src=hi (attempt 1): 'Translator' object has no attribute 'raise_Exception'\n",
      "Error translating with src=hi (attempt 2): 'Translator' object has no attribute 'raise_Exception'\n"
     ]
    },
    {
     "name": "stderr",
     "output_type": "stream",
     "text": [
      "Translating:  20%|████████▉                                    | 330/1668 [05:54<3:21:39,  9.04s/it]"
     ]
    },
    {
     "name": "stdout",
     "output_type": "stream",
     "text": [
      "result sent successfully\n",
      "Error translating with src=hi (attempt 1): 'Translator' object has no attribute 'raise_Exception'\n",
      "Error translating with src=hi (attempt 2): 'Translator' object has no attribute 'raise_Exception'\n"
     ]
    },
    {
     "name": "stderr",
     "output_type": "stream",
     "text": [
      "Translating:  20%|████████▉                                    | 332/1668 [05:59<2:16:32,  6.13s/it]"
     ]
    },
    {
     "name": "stdout",
     "output_type": "stream",
     "text": [
      "Error translating with src=hi (attempt 1): 'Translator' object has no attribute 'raise_Exception'\n",
      "Error translating with src=hi (attempt 2): 'Translator' object has no attribute 'raise_Exception'\n"
     ]
    },
    {
     "name": "stderr",
     "output_type": "stream",
     "text": [
      "Translating:  20%|█████████                                    | 334/1668 [06:05<1:45:33,  4.75s/it]"
     ]
    },
    {
     "name": "stdout",
     "output_type": "stream",
     "text": [
      "Error translating with src=hi (attempt 1): 'Translator' object has no attribute 'raise_Exception'\n",
      "Error translating with src=hi (attempt 2): 'Translator' object has no attribute 'raise_Exception'\n",
      "Error translating with src=en (attempt 1): 'Translator' object has no attribute 'raise_Exception'\n"
     ]
    },
    {
     "name": "stderr",
     "output_type": "stream",
     "text": [
      "Translating:  20%|█████████                                    | 336/1668 [06:12<1:32:31,  4.17s/it]"
     ]
    },
    {
     "name": "stdout",
     "output_type": "stream",
     "text": [
      "Error translating with src=hi (attempt 1): 'Translator' object has no attribute 'raise_Exception'\n"
     ]
    },
    {
     "name": "stderr",
     "output_type": "stream",
     "text": [
      "Translating:  20%|█████████                                    | 337/1668 [06:15<1:25:03,  3.83s/it]"
     ]
    },
    {
     "name": "stdout",
     "output_type": "stream",
     "text": [
      "Error translating with src=hi (attempt 1): 'Translator' object has no attribute 'raise_Exception'\n"
     ]
    },
    {
     "name": "stderr",
     "output_type": "stream",
     "text": [
      "Translating:  20%|█████████▌                                     | 339/1668 [06:17<58:44,  2.65s/it]"
     ]
    },
    {
     "name": "stdout",
     "output_type": "stream",
     "text": [
      "Error translating with src=hi (attempt 1): 'Translator' object has no attribute 'raise_Exception'\n",
      "Error translating with src=hi (attempt 2): 'Translator' object has no attribute 'raise_Exception'\n"
     ]
    },
    {
     "name": "stderr",
     "output_type": "stream",
     "text": [
      "Translating:  20%|█████████▏                                   | 340/1668 [06:23<1:12:00,  3.25s/it]"
     ]
    },
    {
     "name": "stdout",
     "output_type": "stream",
     "text": [
      "Error translating with src=hi (attempt 1): 'Translator' object has no attribute 'raise_Exception'\n"
     ]
    },
    {
     "name": "stderr",
     "output_type": "stream",
     "text": [
      "Translating:  20%|█████████▏                                   | 341/1668 [06:24<1:04:17,  2.91s/it]"
     ]
    },
    {
     "name": "stdout",
     "output_type": "stream",
     "text": [
      "Error translating with src=hi (attempt 1): 'Translator' object has no attribute 'raise_Exception'\n"
     ]
    },
    {
     "name": "stderr",
     "output_type": "stream",
     "text": [
      "Translating:  21%|█████████▋                                     | 342/1668 [06:26<58:02,  2.63s/it]"
     ]
    },
    {
     "name": "stdout",
     "output_type": "stream",
     "text": [
      "Error translating with src=hi (attempt 1): 'Translator' object has no attribute 'raise_Exception'\n"
     ]
    },
    {
     "name": "stderr",
     "output_type": "stream",
     "text": [
      "Translating:  21%|█████████▋                                     | 345/1668 [06:28<30:37,  1.39s/it]"
     ]
    },
    {
     "name": "stdout",
     "output_type": "stream",
     "text": [
      "Error translating with src=hi (attempt 1): 'Translator' object has no attribute 'raise_Exception'\n"
     ]
    },
    {
     "name": "stderr",
     "output_type": "stream",
     "text": [
      "Translating:  21%|█████████▋                                     | 346/1668 [06:30<34:18,  1.56s/it]"
     ]
    },
    {
     "name": "stdout",
     "output_type": "stream",
     "text": [
      "Error translating with src=hi (attempt 1): 'Translator' object has no attribute 'raise_Exception'\n"
     ]
    },
    {
     "name": "stderr",
     "output_type": "stream",
     "text": [
      "Translating:  21%|█████████▊                                     | 347/1668 [06:34<44:11,  2.01s/it]"
     ]
    },
    {
     "name": "stdout",
     "output_type": "stream",
     "text": [
      "Error translating with src=hi (attempt 1): 'Translator' object has no attribute 'raise_Exception'\n"
     ]
    },
    {
     "name": "stderr",
     "output_type": "stream",
     "text": [
      "Translating:  36%|████████████████▊                              | 598/1668 [07:29<11:32,  1.55it/s]"
     ]
    },
    {
     "name": "stdout",
     "output_type": "stream",
     "text": [
      "Error translating with src=hi (attempt 1): 'Translator' object has no attribute 'raise_Exception'\n"
     ]
    },
    {
     "name": "stderr",
     "output_type": "stream",
     "text": [
      "Translating:  36%|████████████████▉                              | 601/1668 [07:33<18:09,  1.02s/it]"
     ]
    },
    {
     "name": "stdout",
     "output_type": "stream",
     "text": [
      "Error translating with src=hi (attempt 1): 'Translator' object has no attribute 'raise_Exception'\n"
     ]
    },
    {
     "name": "stderr",
     "output_type": "stream",
     "text": [
      "Translating:  36%|████████████████▉                              | 602/1668 [07:36<26:12,  1.48s/it]"
     ]
    },
    {
     "name": "stdout",
     "output_type": "stream",
     "text": [
      "Error translating with src=hi (attempt 1): 'Translator' object has no attribute 'raise_Exception'\n"
     ]
    },
    {
     "name": "stderr",
     "output_type": "stream",
     "text": [
      "Translating:  36%|████████████████▉                              | 603/1668 [07:39<33:27,  1.89s/it]"
     ]
    },
    {
     "name": "stdout",
     "output_type": "stream",
     "text": [
      "Error translating with src=hi (attempt 1): 'Translator' object has no attribute 'raise_Exception'\n",
      "Error translating with src=hi (attempt 2): 'Translator' object has no attribute 'raise_Exception'\n",
      "Error translating with src=en (attempt 1): 'Translator' object has no attribute 'raise_Exception'\n",
      "Error translating with src=en (attempt 2): 'Translator' object has no attribute 'raise_Exception'\n",
      "🔁 Attempting sentence split and translation...\n"
     ]
    },
    {
     "name": "stderr",
     "output_type": "stream",
     "text": [
      "Translating:  36%|████████████████▎                            | 604/1668 [07:51<1:28:31,  4.99s/it]"
     ]
    },
    {
     "name": "stdout",
     "output_type": "stream",
     "text": [
      "result sent successfully\n",
      "Error translating with src=hi (attempt 1): 'Translator' object has no attribute 'raise_Exception'\n",
      "Error translating with src=hi (attempt 2): 'Translator' object has no attribute 'raise_Exception'\n"
     ]
    },
    {
     "name": "stderr",
     "output_type": "stream",
     "text": [
      "Translating:  36%|████████████████▎                            | 605/1668 [07:57<1:29:39,  5.06s/it]"
     ]
    },
    {
     "name": "stdout",
     "output_type": "stream",
     "text": [
      "Error translating with src=hi (attempt 1): 'Translator' object has no attribute 'raise_Exception'\n",
      "Error translating with src=hi (attempt 2): 'Translator' object has no attribute 'raise_Exception'\n",
      "Error translating with src=en (attempt 1): 'Translator' object has no attribute 'raise_Exception'\n",
      "Error translating with src=en (attempt 2): 'Translator' object has no attribute 'raise_Exception'\n",
      "🔁 Attempting sentence split and translation...\n",
      "Error translating with src=hi (attempt 1): 'Translator' object has no attribute 'raise_Exception'\n",
      "Error translating with src=hi (attempt 2): 'Translator' object has no attribute 'raise_Exception'\n",
      "Error translating with src=en (attempt 1): 'Translator' object has no attribute 'raise_Exception'\n"
     ]
    },
    {
     "name": "stderr",
     "output_type": "stream",
     "text": [
      "Translating:  36%|████████████████▍                            | 607/1668 [08:15<1:52:13,  6.35s/it]"
     ]
    },
    {
     "name": "stdout",
     "output_type": "stream",
     "text": [
      "result sent successfully\n"
     ]
    },
    {
     "name": "stderr",
     "output_type": "stream",
     "text": [
      "Translating:  38%|█████████████████▋                             | 628/1668 [08:37<21:54,  1.26s/it]"
     ]
    },
    {
     "name": "stdout",
     "output_type": "stream",
     "text": [
      "Error translating with src=hi (attempt 1): 'Translator' object has no attribute 'raise_Exception'\n"
     ]
    },
    {
     "name": "stderr",
     "output_type": "stream",
     "text": [
      "Translating:  38%|█████████████████▋                             | 629/1668 [08:41<34:01,  1.96s/it]"
     ]
    },
    {
     "name": "stdout",
     "output_type": "stream",
     "text": [
      "Error translating with src=hi (attempt 1): 'Translator' object has no attribute 'raise_Exception'\n"
     ]
    },
    {
     "name": "stderr",
     "output_type": "stream",
     "text": [
      "Translating:  38%|█████████████████▉                             | 636/1668 [08:47<13:26,  1.28it/s]"
     ]
    },
    {
     "name": "stdout",
     "output_type": "stream",
     "text": [
      "Error translating with src=hi (attempt 1): 'Translator' object has no attribute 'raise_Exception'\n"
     ]
    },
    {
     "name": "stderr",
     "output_type": "stream",
     "text": [
      "Translating:  39%|██████████████████                             | 643/1668 [08:54<15:15,  1.12it/s]"
     ]
    },
    {
     "name": "stdout",
     "output_type": "stream",
     "text": [
      "Error translating with src=hi (attempt 1): 'Translator' object has no attribute 'raise_Exception'\n"
     ]
    },
    {
     "name": "stderr",
     "output_type": "stream",
     "text": [
      "Translating:  39%|██████████████████▎                            | 652/1668 [09:01<11:53,  1.42it/s]"
     ]
    },
    {
     "name": "stdout",
     "output_type": "stream",
     "text": [
      "Error translating with src=hi (attempt 1): 'Translator' object has no attribute 'raise_Exception'\n",
      "Error translating with src=hi (attempt 2): 'Translator' object has no attribute 'raise_Exception'\n"
     ]
    },
    {
     "name": "stderr",
     "output_type": "stream",
     "text": [
      "Translating:  40%|██████████████████▋                            | 662/1668 [09:11<09:43,  1.73it/s]"
     ]
    },
    {
     "name": "stdout",
     "output_type": "stream",
     "text": [
      "Error translating with src=hi (attempt 1): 'Translator' object has no attribute 'raise_Exception'\n"
     ]
    },
    {
     "name": "stderr",
     "output_type": "stream",
     "text": [
      "Translating:  40%|██████████████████▊                            | 667/1668 [09:15<10:42,  1.56it/s]"
     ]
    },
    {
     "name": "stdout",
     "output_type": "stream",
     "text": [
      "Error translating with src=hi (attempt 1): 'Translator' object has no attribute 'raise_Exception'\n"
     ]
    },
    {
     "name": "stderr",
     "output_type": "stream",
     "text": [
      "Translating:  40%|██████████████████▉                            | 673/1668 [09:19<08:04,  2.05it/s]"
     ]
    },
    {
     "name": "stdout",
     "output_type": "stream",
     "text": [
      "Error translating with src=hi (attempt 1): 'Translator' object has no attribute 'raise_Exception'\n"
     ]
    },
    {
     "name": "stderr",
     "output_type": "stream",
     "text": [
      "Translating:  41%|███████████████████                            | 676/1668 [09:23<12:41,  1.30it/s]"
     ]
    },
    {
     "name": "stdout",
     "output_type": "stream",
     "text": [
      "Error translating with src=hi (attempt 1): 'Translator' object has no attribute 'raise_Exception'\n"
     ]
    },
    {
     "name": "stderr",
     "output_type": "stream",
     "text": [
      "Translating:  41%|███████████████████▏                           | 679/1668 [09:25<11:12,  1.47it/s]"
     ]
    },
    {
     "name": "stdout",
     "output_type": "stream",
     "text": [
      "Error translating with src=hi (attempt 1): 'Translator' object has no attribute 'raise_Exception'\n"
     ]
    },
    {
     "name": "stderr",
     "output_type": "stream",
     "text": [
      "Translating:  41%|███████████████████▎                           | 687/1668 [09:30<06:03,  2.70it/s]"
     ]
    },
    {
     "name": "stdout",
     "output_type": "stream",
     "text": [
      "Error translating with src=hi (attempt 1): 'Translator' object has no attribute 'raise_Exception'\n"
     ]
    },
    {
     "name": "stderr",
     "output_type": "stream",
     "text": [
      "Translating:  42%|███████████████████▋                           | 698/1668 [09:35<05:25,  2.98it/s]"
     ]
    },
    {
     "name": "stdout",
     "output_type": "stream",
     "text": [
      "Error translating with src=hi (attempt 1): 'Translator' object has no attribute 'raise_Exception'\n"
     ]
    },
    {
     "name": "stderr",
     "output_type": "stream",
     "text": [
      "Translating:  42%|███████████████████▊                           | 704/1668 [09:40<07:06,  2.26it/s]"
     ]
    },
    {
     "name": "stdout",
     "output_type": "stream",
     "text": [
      "Error translating with src=hi (attempt 1): 'Translator' object has no attribute 'raise_Exception'\n",
      "Error translating with src=hi (attempt 2): 'Translator' object has no attribute 'raise_Exception'\n"
     ]
    },
    {
     "name": "stderr",
     "output_type": "stream",
     "text": [
      "Translating:  42%|███████████████████▊                           | 705/1668 [09:46<23:24,  1.46s/it]"
     ]
    },
    {
     "name": "stdout",
     "output_type": "stream",
     "text": [
      "Error translating with src=hi (attempt 1): 'Translator' object has no attribute 'raise_Exception'\n",
      "Error translating with src=hi (attempt 2): 'Translator' object has no attribute 'raise_Exception'\n"
     ]
    },
    {
     "name": "stderr",
     "output_type": "stream",
     "text": [
      "Translating:  44%|████████████████████▋                          | 734/1668 [09:58<02:55,  5.33it/s]"
     ]
    },
    {
     "name": "stdout",
     "output_type": "stream",
     "text": [
      "Error translating with src=hi (attempt 1): 'Translator' object has no attribute 'raise_Exception'\n",
      "Error translating with src=hi (attempt 2): 'Translator' object has no attribute 'raise_Exception'\n"
     ]
    },
    {
     "name": "stderr",
     "output_type": "stream",
     "text": [
      "Translating:  44%|████████████████████▋                          | 736/1668 [10:03<14:33,  1.07it/s]"
     ]
    },
    {
     "name": "stdout",
     "output_type": "stream",
     "text": [
      "Error translating with src=hi (attempt 1): 'Translator' object has no attribute 'raise_Exception'\n"
     ]
    },
    {
     "name": "stderr",
     "output_type": "stream",
     "text": [
      "Translating:  45%|█████████████████████▏                         | 752/1668 [10:07<02:10,  7.00it/s]"
     ]
    },
    {
     "name": "stdout",
     "output_type": "stream",
     "text": [
      "Error translating with src=hi (attempt 1): 'Translator' object has no attribute 'raise_Exception'\n"
     ]
    },
    {
     "name": "stderr",
     "output_type": "stream",
     "text": [
      "Translating:  45%|█████████████████████▏                         | 754/1668 [10:09<06:34,  2.32it/s]"
     ]
    },
    {
     "name": "stdout",
     "output_type": "stream",
     "text": [
      "Error translating with src=hi (attempt 1): 'Translator' object has no attribute 'raise_Exception'\n"
     ]
    },
    {
     "name": "stderr",
     "output_type": "stream",
     "text": [
      "Translating:  45%|█████████████████████▎                         | 755/1668 [10:11<10:44,  1.42it/s]"
     ]
    },
    {
     "name": "stdout",
     "output_type": "stream",
     "text": [
      "Error translating with src=hi (attempt 1): 'Translator' object has no attribute 'raise_Exception'\n"
     ]
    },
    {
     "name": "stderr",
     "output_type": "stream",
     "text": [
      "Translating:  46%|█████████████████████▌                         | 765/1668 [10:16<06:00,  2.51it/s]"
     ]
    },
    {
     "name": "stdout",
     "output_type": "stream",
     "text": [
      "Error translating with src=hi (attempt 1): 'Translator' object has no attribute 'raise_Exception'\n"
     ]
    },
    {
     "name": "stderr",
     "output_type": "stream",
     "text": [
      "Translating:  46%|█████████████████████▌                         | 766/1668 [10:19<12:11,  1.23it/s]"
     ]
    },
    {
     "name": "stdout",
     "output_type": "stream",
     "text": [
      "Error translating with src=hi (attempt 1): 'Translator' object has no attribute 'raise_Exception'\n"
     ]
    },
    {
     "name": "stderr",
     "output_type": "stream",
     "text": [
      "Translating:  46%|█████████████████████▋                         | 769/1668 [10:21<10:30,  1.43it/s]"
     ]
    },
    {
     "name": "stdout",
     "output_type": "stream",
     "text": [
      "Error translating with src=hi (attempt 1): 'Translator' object has no attribute 'raise_Exception'\n"
     ]
    },
    {
     "name": "stderr",
     "output_type": "stream",
     "text": [
      "Translating:  46%|█████████████████████▋                         | 771/1668 [10:24<15:17,  1.02s/it]"
     ]
    },
    {
     "name": "stdout",
     "output_type": "stream",
     "text": [
      "Error translating with src=hi (attempt 1): 'Translator' object has no attribute 'raise_Exception'\n"
     ]
    },
    {
     "name": "stderr",
     "output_type": "stream",
     "text": [
      "Translating:  47%|█████████████████████▊                         | 776/1668 [10:32<21:40,  1.46s/it]"
     ]
    },
    {
     "name": "stdout",
     "output_type": "stream",
     "text": [
      "Error translating with src=hi (attempt 1): 'Translator' object has no attribute 'raise_Exception'\n"
     ]
    },
    {
     "name": "stderr",
     "output_type": "stream",
     "text": [
      "Translating:  47%|██████████████████████                         | 781/1668 [10:41<20:51,  1.41s/it]"
     ]
    },
    {
     "name": "stdout",
     "output_type": "stream",
     "text": [
      "Error translating with src=hi (attempt 1): 'Translator' object has no attribute 'raise_Exception'\n"
     ]
    },
    {
     "name": "stderr",
     "output_type": "stream",
     "text": [
      "Translating:  47%|██████████████████████▎                        | 790/1668 [10:45<05:33,  2.63it/s]"
     ]
    },
    {
     "name": "stdout",
     "output_type": "stream",
     "text": [
      "Error translating with src=hi (attempt 1): 'Translator' object has no attribute 'raise_Exception'\n"
     ]
    },
    {
     "name": "stderr",
     "output_type": "stream",
     "text": [
      "Translating:  48%|██████████████████████▍                        | 795/1668 [10:48<07:32,  1.93it/s]"
     ]
    },
    {
     "name": "stdout",
     "output_type": "stream",
     "text": [
      "Error translating with src=hi (attempt 1): 'Translator' object has no attribute 'raise_Exception'\n",
      "Error translating with src=hi (attempt 2): 'Translator' object has no attribute 'raise_Exception'\n"
     ]
    },
    {
     "name": "stderr",
     "output_type": "stream",
     "text": [
      "Translating:  48%|██████████████████████▌                        | 802/1668 [10:56<11:58,  1.21it/s]"
     ]
    },
    {
     "name": "stdout",
     "output_type": "stream",
     "text": [
      "Error translating with src=hi (attempt 1): 'Translator' object has no attribute 'raise_Exception'\n"
     ]
    },
    {
     "name": "stderr",
     "output_type": "stream",
     "text": [
      "Translating:  48%|██████████████████████▋                        | 806/1668 [10:59<10:39,  1.35it/s]"
     ]
    },
    {
     "name": "stdout",
     "output_type": "stream",
     "text": [
      "Error translating with src=hi (attempt 1): 'Translator' object has no attribute 'raise_Exception'\n"
     ]
    },
    {
     "name": "stderr",
     "output_type": "stream",
     "text": [
      "Translating:  49%|██████████████████████▉                        | 813/1668 [11:02<05:24,  2.64it/s]"
     ]
    },
    {
     "name": "stdout",
     "output_type": "stream",
     "text": [
      "Error translating with src=hi (attempt 1): 'Translator' object has no attribute 'raise_Exception'\n"
     ]
    },
    {
     "name": "stderr",
     "output_type": "stream",
     "text": [
      "Translating:  49%|██████████████████████▉                        | 815/1668 [11:05<08:54,  1.59it/s]"
     ]
    },
    {
     "name": "stdout",
     "output_type": "stream",
     "text": [
      "Error translating with src=hi (attempt 1): 'Translator' object has no attribute 'raise_Exception'\n"
     ]
    },
    {
     "name": "stderr",
     "output_type": "stream",
     "text": [
      "Translating:  49%|██████████████████████▉                        | 816/1668 [11:07<13:50,  1.03it/s]"
     ]
    },
    {
     "name": "stdout",
     "output_type": "stream",
     "text": [
      "Error translating with src=hi (attempt 1): 'Translator' object has no attribute 'raise_Exception'\n",
      "Error translating with src=hi (attempt 2): 'Translator' object has no attribute 'raise_Exception'\n"
     ]
    },
    {
     "name": "stderr",
     "output_type": "stream",
     "text": [
      "Translating:  49%|███████████████████████                        | 819/1668 [11:13<19:16,  1.36s/it]"
     ]
    },
    {
     "name": "stdout",
     "output_type": "stream",
     "text": [
      "Error translating with src=hi (attempt 1): 'Translator' object has no attribute 'raise_Exception'\n",
      "Error translating with src=hi (attempt 2): 'Translator' object has no attribute 'raise_Exception'\n"
     ]
    },
    {
     "name": "stderr",
     "output_type": "stream",
     "text": [
      "Translating:  49%|███████████████████████                        | 820/1668 [11:18<31:59,  2.26s/it]"
     ]
    },
    {
     "name": "stdout",
     "output_type": "stream",
     "text": [
      "Error translating with src=hi (attempt 1): 'Translator' object has no attribute 'raise_Exception'\n"
     ]
    },
    {
     "name": "stderr",
     "output_type": "stream",
     "text": [
      "Translating:  49%|███████████████████████▏                       | 821/1668 [11:20<31:21,  2.22s/it]"
     ]
    },
    {
     "name": "stdout",
     "output_type": "stream",
     "text": [
      "Error translating with src=hi (attempt 1): 'Translator' object has no attribute 'raise_Exception'\n"
     ]
    },
    {
     "name": "stderr",
     "output_type": "stream",
     "text": [
      "Translating:  49%|███████████████████████▏                       | 825/1668 [11:22<15:24,  1.10s/it]"
     ]
    },
    {
     "name": "stdout",
     "output_type": "stream",
     "text": [
      "Error translating with src=hi (attempt 1): 'Translator' object has no attribute 'raise_Exception'\n"
     ]
    },
    {
     "name": "stderr",
     "output_type": "stream",
     "text": [
      "Translating:  50%|███████████████████████▌                       | 835/1668 [11:28<07:14,  1.92it/s]"
     ]
    },
    {
     "name": "stdout",
     "output_type": "stream",
     "text": [
      "Error translating with src=hi (attempt 1): 'Translator' object has no attribute 'raise_Exception'\n"
     ]
    },
    {
     "name": "stderr",
     "output_type": "stream",
     "text": [
      "Translating:  51%|███████████████████████▊                       | 843/1668 [11:35<06:25,  2.14it/s]"
     ]
    },
    {
     "name": "stdout",
     "output_type": "stream",
     "text": [
      "Error translating with src=hi (attempt 1): 'Translator' object has no attribute 'raise_Exception'\n",
      "Error translating with src=hi (attempt 2): 'Translator' object has no attribute 'raise_Exception'\n"
     ]
    },
    {
     "name": "stderr",
     "output_type": "stream",
     "text": [
      "Translating:  51%|███████████████████████▊                       | 844/1668 [11:40<23:38,  1.72s/it]"
     ]
    },
    {
     "name": "stdout",
     "output_type": "stream",
     "text": [
      "Error translating with src=hi (attempt 1): 'Translator' object has no attribute 'raise_Exception'\n"
     ]
    },
    {
     "name": "stderr",
     "output_type": "stream",
     "text": [
      "Translating:  52%|████████████████████████▍                      | 867/1668 [11:44<01:18, 10.26it/s]"
     ]
    },
    {
     "name": "stdout",
     "output_type": "stream",
     "text": [
      "Error translating with src=hi (attempt 1): 'Translator' object has no attribute 'raise_Exception'\n"
     ]
    },
    {
     "name": "stderr",
     "output_type": "stream",
     "text": [
      "Translating:  52%|████████████████████████▍                      | 869/1668 [11:46<04:54,  2.72it/s]"
     ]
    },
    {
     "name": "stdout",
     "output_type": "stream",
     "text": [
      "Error translating with src=hi (attempt 1): 'Translator' object has no attribute 'raise_Exception'\n"
     ]
    },
    {
     "name": "stderr",
     "output_type": "stream",
     "text": [
      "Translating:  52%|████████████████████████▌                      | 871/1668 [11:48<07:35,  1.75it/s]"
     ]
    },
    {
     "name": "stdout",
     "output_type": "stream",
     "text": [
      "Error translating with src=hi (attempt 1): 'Translator' object has no attribute 'raise_Exception'\n"
     ]
    },
    {
     "name": "stderr",
     "output_type": "stream",
     "text": [
      "Translating:  53%|████████████████████████▋                      | 876/1668 [11:53<08:04,  1.63it/s]"
     ]
    },
    {
     "name": "stdout",
     "output_type": "stream",
     "text": [
      "Error translating with src=hi (attempt 1): 'Translator' object has no attribute 'raise_Exception'\n"
     ]
    },
    {
     "name": "stderr",
     "output_type": "stream",
     "text": [
      "Translating:  53%|████████████████████████▊                      | 881/1668 [11:57<10:06,  1.30it/s]"
     ]
    },
    {
     "name": "stdout",
     "output_type": "stream",
     "text": [
      "Error translating with src=hi (attempt 1): 'Translator' object has no attribute 'raise_Exception'\n"
     ]
    },
    {
     "name": "stderr",
     "output_type": "stream",
     "text": [
      "Translating:  53%|████████████████████████▉                      | 885/1668 [11:59<07:36,  1.71it/s]"
     ]
    },
    {
     "name": "stdout",
     "output_type": "stream",
     "text": [
      "Error translating with src=hi (attempt 1): 'Translator' object has no attribute 'raise_Exception'\n"
     ]
    },
    {
     "name": "stderr",
     "output_type": "stream",
     "text": [
      "Translating:  53%|█████████████████████████                      | 891/1668 [12:02<05:28,  2.37it/s]"
     ]
    },
    {
     "name": "stdout",
     "output_type": "stream",
     "text": [
      "Error translating with src=hi (attempt 1): 'Translator' object has no attribute 'raise_Exception'\n"
     ]
    },
    {
     "name": "stderr",
     "output_type": "stream",
     "text": [
      "Translating:  54%|█████████████████████████▎                     | 897/1668 [12:07<08:42,  1.47it/s]"
     ]
    },
    {
     "name": "stdout",
     "output_type": "stream",
     "text": [
      "Error translating with src=hi (attempt 1): 'Translator' object has no attribute 'raise_Exception'\n",
      "Error translating with src=hi (attempt 2): 'Translator' object has no attribute 'raise_Exception'\n",
      "Error translating with src=en (attempt 1): 'Translator' object has no attribute 'raise_Exception'\n",
      "Error translating with src=en (attempt 2): 'Translator' object has no attribute 'raise_Exception'\n",
      "🔁 Attempting sentence split and translation...\n"
     ]
    },
    {
     "name": "stderr",
     "output_type": "stream",
     "text": [
      "Translating:  54%|█████████████████████████▎                     | 900/1668 [12:18<23:12,  1.81s/it]"
     ]
    },
    {
     "name": "stdout",
     "output_type": "stream",
     "text": [
      "result sent successfully\n"
     ]
    },
    {
     "name": "stderr",
     "output_type": "stream",
     "text": [
      "Translating:  54%|█████████████████████████▍                     | 904/1668 [12:19<10:38,  1.20it/s]"
     ]
    },
    {
     "name": "stdout",
     "output_type": "stream",
     "text": [
      "Error translating with src=hi (attempt 1): 'Translator' object has no attribute 'raise_Exception'\n",
      "Error translating with src=hi (attempt 1): 'Translator' object has no attribute 'raise_Exception'\n"
     ]
    },
    {
     "name": "stderr",
     "output_type": "stream",
     "text": [
      "Translating:  54%|█████████████████████████▌                     | 906/1668 [12:23<15:34,  1.23s/it]"
     ]
    },
    {
     "name": "stdout",
     "output_type": "stream",
     "text": [
      "Error translating with src=hi (attempt 1): 'Translator' object has no attribute 'raise_Exception'\n",
      "Error translating with src=hi (attempt 2): 'Translator' object has no attribute 'raise_Exception'\n"
     ]
    },
    {
     "name": "stderr",
     "output_type": "stream",
     "text": [
      "Translating:  56%|██████████████████████████▏                    | 929/1668 [12:32<01:46,  6.93it/s]"
     ]
    },
    {
     "name": "stdout",
     "output_type": "stream",
     "text": [
      "Error translating with src=hi (attempt 1): 'Translator' object has no attribute 'raise_Exception'\n"
     ]
    },
    {
     "name": "stderr",
     "output_type": "stream",
     "text": [
      "Translating:  56%|██████████████████████████▎                    | 933/1668 [12:34<03:38,  3.37it/s]"
     ]
    },
    {
     "name": "stdout",
     "output_type": "stream",
     "text": [
      "Error translating with src=hi (attempt 1): 'Translator' object has no attribute 'raise_Exception'\n"
     ]
    },
    {
     "name": "stderr",
     "output_type": "stream",
     "text": [
      "Translating:  56%|██████████████████████████▍                    | 937/1668 [12:36<04:44,  2.57it/s]"
     ]
    },
    {
     "name": "stdout",
     "output_type": "stream",
     "text": [
      "Error translating with src=hi (attempt 1): 'Translator' object has no attribute 'raise_Exception'\n"
     ]
    },
    {
     "name": "stderr",
     "output_type": "stream",
     "text": [
      "Translating:  57%|██████████████████████████▌                    | 943/1668 [12:38<03:47,  3.19it/s]"
     ]
    },
    {
     "name": "stdout",
     "output_type": "stream",
     "text": [
      "Error translating with src=hi (attempt 1): 'Translator' object has no attribute 'raise_Exception'\n",
      "Error translating with src=hi (attempt 2): 'Translator' object has no attribute 'raise_Exception'\n"
     ]
    },
    {
     "name": "stderr",
     "output_type": "stream",
     "text": [
      "Translating:  57%|██████████████████████████▋                    | 947/1668 [12:44<08:52,  1.36it/s]"
     ]
    },
    {
     "name": "stdout",
     "output_type": "stream",
     "text": [
      "Error translating with src=hi (attempt 1): 'Translator' object has no attribute 'raise_Exception'\n",
      "Error translating with src=hi (attempt 2): 'Translator' object has no attribute 'raise_Exception'\n"
     ]
    },
    {
     "name": "stderr",
     "output_type": "stream",
     "text": [
      "Translating:  57%|██████████████████████████▉                    | 954/1668 [12:50<06:10,  1.93it/s]"
     ]
    },
    {
     "name": "stdout",
     "output_type": "stream",
     "text": [
      "Error translating with src=hi (attempt 1): 'Translator' object has no attribute 'raise_Exception'\n"
     ]
    },
    {
     "name": "stderr",
     "output_type": "stream",
     "text": [
      "Translating:  57%|██████████████████████████▉                    | 958/1668 [12:52<05:53,  2.01it/s]"
     ]
    },
    {
     "name": "stdout",
     "output_type": "stream",
     "text": [
      "Error translating with src=hi (attempt 1): 'Translator' object has no attribute 'raise_Exception'\n"
     ]
    },
    {
     "name": "stderr",
     "output_type": "stream",
     "text": [
      "Translating:  58%|███████████████████████████▏                   | 963/1668 [12:58<10:40,  1.10it/s]"
     ]
    },
    {
     "name": "stdout",
     "output_type": "stream",
     "text": [
      "Error translating with src=hi (attempt 1): 'Translator' object has no attribute 'raise_Exception'\n"
     ]
    },
    {
     "name": "stderr",
     "output_type": "stream",
     "text": [
      "Translating:  58%|███████████████████████████▍                   | 972/1668 [13:09<11:40,  1.01s/it]"
     ]
    },
    {
     "name": "stdout",
     "output_type": "stream",
     "text": [
      "Error translating with src=hi (attempt 1): 'Translator' object has no attribute 'raise_Exception'\n"
     ]
    },
    {
     "name": "stderr",
     "output_type": "stream",
     "text": [
      "Translating:  78%|███████████████████████████████████▊          | 1297/1668 [15:04<04:26,  1.39it/s]"
     ]
    },
    {
     "name": "stdout",
     "output_type": "stream",
     "text": [
      "Error translating with src=hi (attempt 1): 'Translator' object has no attribute 'raise_Exception'\n"
     ]
    },
    {
     "name": "stderr",
     "output_type": "stream",
     "text": [
      "Translating:  78%|███████████████████████████████████▊          | 1299/1668 [15:06<05:08,  1.20it/s]"
     ]
    },
    {
     "name": "stdout",
     "output_type": "stream",
     "text": [
      "Error translating with src=hi (attempt 1): 'Translator' object has no attribute 'raise_Exception'\n"
     ]
    },
    {
     "name": "stderr",
     "output_type": "stream",
     "text": [
      "Translating:  78%|███████████████████████████████████▉          | 1301/1668 [15:08<05:24,  1.13it/s]"
     ]
    },
    {
     "name": "stdout",
     "output_type": "stream",
     "text": [
      "Error translating with src=hi (attempt 1): 'Translator' object has no attribute 'raise_Exception'\n"
     ]
    },
    {
     "name": "stderr",
     "output_type": "stream",
     "text": [
      "Translating:  78%|███████████████████████████████████▉          | 1304/1668 [15:10<04:27,  1.36it/s]"
     ]
    },
    {
     "name": "stdout",
     "output_type": "stream",
     "text": [
      "Error translating with src=hi (attempt 1): 'Translator' object has no attribute 'raise_Exception'\n"
     ]
    },
    {
     "name": "stderr",
     "output_type": "stream",
     "text": [
      "Translating:  78%|███████████████████████████████████▉          | 1305/1668 [15:12<06:05,  1.01s/it]"
     ]
    },
    {
     "name": "stdout",
     "output_type": "stream",
     "text": [
      "Error translating with src=hi (attempt 1): 'Translator' object has no attribute 'raise_Exception'\n"
     ]
    },
    {
     "name": "stderr",
     "output_type": "stream",
     "text": [
      "Translating:  78%|████████████████████████████████████          | 1308/1668 [15:15<06:01,  1.00s/it]"
     ]
    },
    {
     "name": "stdout",
     "output_type": "stream",
     "text": [
      "Error translating with src=hi (attempt 1): 'Translator' object has no attribute 'raise_Exception'\n"
     ]
    },
    {
     "name": "stderr",
     "output_type": "stream",
     "text": [
      "Translating:  78%|████████████████████████████████████          | 1309/1668 [15:17<07:20,  1.23s/it]"
     ]
    },
    {
     "name": "stdout",
     "output_type": "stream",
     "text": [
      "Error translating with src=hi (attempt 1): 'Translator' object has no attribute 'raise_Exception'\n",
      "Error translating with src=hi (attempt 2): 'Translator' object has no attribute 'raise_Exception'\n",
      "Error translating with src=en (attempt 1): 'Translator' object has no attribute 'raise_Exception'\n",
      "Error translating with src=en (attempt 2): 'Translator' object has no attribute 'raise_Exception'\n",
      "🔁 Attempting sentence split and translation...\n",
      "Error translating with src=hi (attempt 1): 'Translator' object has no attribute 'raise_Exception'\n",
      "Error translating with src=hi (attempt 2): 'Translator' object has no attribute 'raise_Exception'\n",
      "Error translating with src=en (attempt 1): 'Translator' object has no attribute 'raise_Exception'\n",
      "Error translating with src=en (attempt 2): 'Translator' object has no attribute 'raise_Exception'\n",
      "Error translating with src=hi (attempt 1): 'Translator' object has no attribute 'raise_Exception'\n",
      "Error translating with src=hi (attempt 2): 'Translator' object has no attribute 'raise_Exception'\n",
      "Error translating with src=en (attempt 1): 'Translator' object has no attribute 'raise_Exception'\n",
      "Error translating with src=en (attempt 2): 'Translator' object has no attribute 'raise_Exception'\n"
     ]
    },
    {
     "name": "stderr",
     "output_type": "stream",
     "text": [
      "Translating:  79%|████████████████████████████████████▏         | 1311/1668 [15:50<42:47,  7.19s/it]"
     ]
    },
    {
     "name": "stdout",
     "output_type": "stream",
     "text": [
      "❌ Split translation failed:\n",
      " 1. **सिस्टम की पहचान और मैपिंग**: विश्वविद्यालय सर्वर के नेटवर्क आर्किटेक्चर, डेटाबेस प्रबंधन प्रणाली (जैसे MySQL, Oracle), और परीक्षा परिणामों को सं...\n",
      "result sent successfully\n"
     ]
    },
    {
     "name": "stderr",
     "output_type": "stream",
     "text": [
      "Translating:  79%|████████████████████████████████████▏         | 1312/1668 [15:50<33:37,  5.67s/it]"
     ]
    },
    {
     "name": "stdout",
     "output_type": "stream",
     "text": [
      "Error translating with src=hi (attempt 1): 'Translator' object has no attribute 'raise_Exception'\n",
      "Error translating with src=hi (attempt 2): 'Translator' object has no attribute 'raise_Exception'\n",
      "Error translating with src=en (attempt 1): 'Translator' object has no attribute 'raise_Exception'\n"
     ]
    },
    {
     "name": "stderr",
     "output_type": "stream",
     "text": [
      "Translating:  79%|████████████████████████████████████▏         | 1314/1668 [15:58<28:07,  4.77s/it]"
     ]
    },
    {
     "name": "stdout",
     "output_type": "stream",
     "text": [
      "Error translating with src=hi (attempt 1): 'Translator' object has no attribute 'raise_Exception'\n"
     ]
    },
    {
     "name": "stderr",
     "output_type": "stream",
     "text": [
      "Translating:  79%|████████████████████████████████████▎         | 1315/1668 [16:00<23:57,  4.07s/it]"
     ]
    },
    {
     "name": "stdout",
     "output_type": "stream",
     "text": [
      "Error translating with src=hi (attempt 1): 'Translator' object has no attribute 'raise_Exception'\n",
      "Error translating with src=hi (attempt 2): 'Translator' object has no attribute 'raise_Exception'\n"
     ]
    },
    {
     "name": "stderr",
     "output_type": "stream",
     "text": [
      "Translating:  79%|████████████████████████████████████▎         | 1317/1668 [16:06<20:37,  3.52s/it]"
     ]
    },
    {
     "name": "stdout",
     "output_type": "stream",
     "text": [
      "Error translating with src=hi (attempt 1): 'Translator' object has no attribute 'raise_Exception'\n"
     ]
    },
    {
     "name": "stderr",
     "output_type": "stream",
     "text": [
      "Translating:  79%|████████████████████████████████████▍         | 1319/1668 [16:08<14:56,  2.57s/it]"
     ]
    },
    {
     "name": "stdout",
     "output_type": "stream",
     "text": [
      "Error translating with src=hi (attempt 1): 'Translator' object has no attribute 'raise_Exception'\n"
     ]
    },
    {
     "name": "stderr",
     "output_type": "stream",
     "text": [
      "Translating:  79%|████████████████████████████████████▍         | 1322/1668 [16:10<08:53,  1.54s/it]"
     ]
    },
    {
     "name": "stdout",
     "output_type": "stream",
     "text": [
      "Error translating with src=hi (attempt 1): 'Translator' object has no attribute 'raise_Exception'\n"
     ]
    },
    {
     "name": "stderr",
     "output_type": "stream",
     "text": [
      "Translating:  79%|████████████████████████████████████▌         | 1325/1668 [16:14<08:24,  1.47s/it]"
     ]
    },
    {
     "name": "stdout",
     "output_type": "stream",
     "text": [
      "Error translating with src=hi (attempt 1): 'Translator' object has no attribute 'raise_Exception'\n"
     ]
    },
    {
     "name": "stderr",
     "output_type": "stream",
     "text": [
      "Translating:  79%|████████████████████████████████████▌         | 1326/1668 [16:16<09:01,  1.58s/it]"
     ]
    },
    {
     "name": "stdout",
     "output_type": "stream",
     "text": [
      "Error translating with src=hi (attempt 1): 'Translator' object has no attribute 'raise_Exception'\n"
     ]
    },
    {
     "name": "stderr",
     "output_type": "stream",
     "text": [
      "Translating:  80%|████████████████████████████████████▌         | 1327/1668 [16:18<09:24,  1.66s/it]"
     ]
    },
    {
     "name": "stdout",
     "output_type": "stream",
     "text": [
      "Error translating with src=hi (attempt 1): 'Translator' object has no attribute 'raise_Exception'\n"
     ]
    },
    {
     "name": "stderr",
     "output_type": "stream",
     "text": [
      "Translating:  80%|████████████████████████████████████▌         | 1328/1668 [16:20<09:48,  1.73s/it]"
     ]
    },
    {
     "name": "stdout",
     "output_type": "stream",
     "text": [
      "Error translating with src=hi (attempt 1): 'Translator' object has no attribute 'raise_Exception'\n"
     ]
    },
    {
     "name": "stderr",
     "output_type": "stream",
     "text": [
      "Translating:  80%|████████████████████████████████████▋         | 1331/1668 [16:24<08:08,  1.45s/it]"
     ]
    },
    {
     "name": "stdout",
     "output_type": "stream",
     "text": [
      "Error translating with src=hi (attempt 1): 'Translator' object has no attribute 'raise_Exception'\n",
      "Error translating with src=hi (attempt 2): 'Translator' object has no attribute 'raise_Exception'\n",
      "Error translating with src=en (attempt 1): 'Translator' object has no attribute 'raise_Exception'\n"
     ]
    },
    {
     "name": "stderr",
     "output_type": "stream",
     "text": [
      "Translating:  80%|████████████████████████████████████▊         | 1333/1668 [16:31<12:52,  2.30s/it]"
     ]
    },
    {
     "name": "stdout",
     "output_type": "stream",
     "text": [
      "Error translating with src=hi (attempt 1): 'Translator' object has no attribute 'raise_Exception'\n",
      "Error translating with src=hi (attempt 2): 'Translator' object has no attribute 'raise_Exception'\n"
     ]
    },
    {
     "name": "stderr",
     "output_type": "stream",
     "text": [
      "Translating:  80%|████████████████████████████████████▉         | 1338/1668 [16:37<07:03,  1.28s/it]"
     ]
    },
    {
     "name": "stdout",
     "output_type": "stream",
     "text": [
      "Error translating with src=hi (attempt 1): 'Translator' object has no attribute 'raise_Exception'\n",
      "Error translating with src=hi (attempt 2): 'Translator' object has no attribute 'raise_Exception'\n"
     ]
    },
    {
     "name": "stderr",
     "output_type": "stream",
     "text": [
      "Translating:  80%|████████████████████████████████████▉         | 1339/1668 [16:42<11:24,  2.08s/it]"
     ]
    },
    {
     "name": "stdout",
     "output_type": "stream",
     "text": [
      "Error translating with src=hi (attempt 1): 'Translator' object has no attribute 'raise_Exception'\n"
     ]
    },
    {
     "name": "stderr",
     "output_type": "stream",
     "text": [
      "Translating:  80%|████████████████████████████████████▉         | 1341/1668 [16:46<11:09,  2.05s/it]"
     ]
    },
    {
     "name": "stdout",
     "output_type": "stream",
     "text": [
      "Error translating with src=hi (attempt 1): 'Translator' object has no attribute 'raise_Exception'\n",
      "Error translating with src=hi (attempt 2): 'Translator' object has no attribute 'raise_Exception'\n"
     ]
    },
    {
     "name": "stderr",
     "output_type": "stream",
     "text": [
      "Translating:  81%|█████████████████████████████████████         | 1343/1668 [16:52<12:31,  2.31s/it]"
     ]
    },
    {
     "name": "stdout",
     "output_type": "stream",
     "text": [
      "Error translating with src=hi (attempt 1): 'Translator' object has no attribute 'raise_Exception'\n"
     ]
    },
    {
     "name": "stderr",
     "output_type": "stream",
     "text": [
      "Translating:  81%|█████████████████████████████████████         | 1344/1668 [16:54<12:05,  2.24s/it]"
     ]
    },
    {
     "name": "stdout",
     "output_type": "stream",
     "text": [
      "Error translating with src=hi (attempt 1): 'Translator' object has no attribute 'raise_Exception'\n"
     ]
    },
    {
     "name": "stderr",
     "output_type": "stream",
     "text": [
      "Translating:  81%|█████████████████████████████████████         | 1345/1668 [16:55<11:40,  2.17s/it]"
     ]
    },
    {
     "name": "stdout",
     "output_type": "stream",
     "text": [
      "Error translating with src=hi (attempt 1): 'Translator' object has no attribute 'raise_Exception'\n"
     ]
    },
    {
     "name": "stderr",
     "output_type": "stream",
     "text": [
      "Translating:  81%|█████████████████████████████████████▏        | 1347/1668 [16:59<10:02,  1.88s/it]"
     ]
    },
    {
     "name": "stdout",
     "output_type": "stream",
     "text": [
      "Error translating with src=hi (attempt 1): 'Translator' object has no attribute 'raise_Exception'\n",
      "Error translating with src=hi (attempt 2): 'Translator' object has no attribute 'raise_Exception'\n"
     ]
    },
    {
     "name": "stderr",
     "output_type": "stream",
     "text": [
      "Translating:  81%|█████████████████████████████████████▏        | 1348/1668 [17:04<15:04,  2.83s/it]"
     ]
    },
    {
     "name": "stdout",
     "output_type": "stream",
     "text": [
      "Error translating with src=hi (attempt 1): 'Translator' object has no attribute 'raise_Exception'\n",
      "Error translating with src=hi (attempt 2): 'Translator' object has no attribute 'raise_Exception'\n",
      "Error translating with src=en (attempt 1): 'Translator' object has no attribute 'raise_Exception'\n"
     ]
    },
    {
     "name": "stderr",
     "output_type": "stream",
     "text": [
      "Translating:  81%|█████████████████████████████████████▎        | 1352/1668 [17:11<10:25,  1.98s/it]"
     ]
    },
    {
     "name": "stdout",
     "output_type": "stream",
     "text": [
      "Error translating with src=hi (attempt 1): 'Translator' object has no attribute 'raise_Exception'\n",
      "Error translating with src=hi (attempt 2): 'Translator' object has no attribute 'raise_Exception'\n"
     ]
    },
    {
     "name": "stderr",
     "output_type": "stream",
     "text": [
      "Translating:  81%|█████████████████████████████████████▎        | 1354/1668 [17:17<11:46,  2.25s/it]"
     ]
    },
    {
     "name": "stdout",
     "output_type": "stream",
     "text": [
      "Error translating with src=hi (attempt 1): 'Translator' object has no attribute 'raise_Exception'\n"
     ]
    },
    {
     "name": "stderr",
     "output_type": "stream",
     "text": [
      "Translating:  81%|█████████████████████████████████████▍        | 1357/1668 [17:19<07:19,  1.41s/it]"
     ]
    },
    {
     "name": "stdout",
     "output_type": "stream",
     "text": [
      "Error translating with src=hi (attempt 1): 'Translator' object has no attribute 'raise_Exception'\n"
     ]
    },
    {
     "name": "stderr",
     "output_type": "stream",
     "text": [
      "Translating:  82%|█████████████████████████████████████▋        | 1366/1668 [17:21<01:42,  2.93it/s]"
     ]
    },
    {
     "name": "stdout",
     "output_type": "stream",
     "text": [
      "Error translating with src=hi (attempt 1): 'Translator' object has no attribute 'raise_Exception'\n",
      "Error translating with src=hi (attempt 2): 'Translator' object has no attribute 'raise_Exception'\n",
      "Error translating with src=en (attempt 1): 'Translator' object has no attribute 'raise_Exception'\n"
     ]
    },
    {
     "name": "stderr",
     "output_type": "stream",
     "text": [
      "Translating:  82%|█████████████████████████████████████▊        | 1370/1668 [17:29<05:03,  1.02s/it]"
     ]
    },
    {
     "name": "stdout",
     "output_type": "stream",
     "text": [
      "Error translating with src=hi (attempt 1): 'Translator' object has no attribute 'raise_Exception'\n"
     ]
    },
    {
     "name": "stderr",
     "output_type": "stream",
     "text": [
      "Translating:  82%|█████████████████████████████████████▊        | 1371/1668 [17:31<06:12,  1.25s/it]"
     ]
    },
    {
     "name": "stdout",
     "output_type": "stream",
     "text": [
      "Error translating with src=hi (attempt 1): 'Translator' object has no attribute 'raise_Exception'\n",
      "Error translating with src=hi (attempt 2): 'Translator' object has no attribute 'raise_Exception'\n"
     ]
    },
    {
     "name": "stderr",
     "output_type": "stream",
     "text": [
      "Translating:  82%|█████████████████████████████████████▊        | 1372/1668 [17:37<11:28,  2.32s/it]"
     ]
    },
    {
     "name": "stdout",
     "output_type": "stream",
     "text": [
      "Error translating with src=hi (attempt 1): 'Translator' object has no attribute 'raise_Exception'\n",
      "Error translating with src=hi (attempt 2): 'Translator' object has no attribute 'raise_Exception'\n"
     ]
    },
    {
     "name": "stderr",
     "output_type": "stream",
     "text": [
      "Translating:  82%|█████████████████████████████████████▉        | 1374/1668 [17:43<12:20,  2.52s/it]"
     ]
    },
    {
     "name": "stdout",
     "output_type": "stream",
     "text": [
      "Error translating with src=hi (attempt 1): 'Translator' object has no attribute 'raise_Exception'\n"
     ]
    },
    {
     "name": "stderr",
     "output_type": "stream",
     "text": [
      "Translating:  82%|█████████████████████████████████████▉        | 1375/1668 [17:45<11:41,  2.39s/it]"
     ]
    },
    {
     "name": "stdout",
     "output_type": "stream",
     "text": [
      "Error translating with src=hi (attempt 1): 'Translator' object has no attribute 'raise_Exception'\n"
     ]
    },
    {
     "name": "stderr",
     "output_type": "stream",
     "text": [
      "Translating:  83%|██████████████████████████████████████▏       | 1384/1668 [17:47<02:03,  2.30it/s]"
     ]
    },
    {
     "name": "stdout",
     "output_type": "stream",
     "text": [
      "Error translating with src=hi (attempt 1): 'Translator' object has no attribute 'raise_Exception'\n",
      "Error translating with src=hi (attempt 2): 'Translator' object has no attribute 'raise_Exception'\n",
      "Error translating with src=en (attempt 1): 'Translator' object has no attribute 'raise_Exception'\n"
     ]
    },
    {
     "name": "stderr",
     "output_type": "stream",
     "text": [
      "Translating:  83%|██████████████████████████████████████▏       | 1386/1668 [17:55<07:00,  1.49s/it]"
     ]
    },
    {
     "name": "stdout",
     "output_type": "stream",
     "text": [
      "Error translating with src=hi (attempt 1): 'Translator' object has no attribute 'raise_Exception'\n"
     ]
    },
    {
     "name": "stderr",
     "output_type": "stream",
     "text": [
      "Translating:  83%|██████████████████████████████████████▎       | 1388/1668 [17:57<06:13,  1.34s/it]"
     ]
    },
    {
     "name": "stdout",
     "output_type": "stream",
     "text": [
      "Error translating with src=hi (attempt 1): 'Translator' object has no attribute 'raise_Exception'\n"
     ]
    },
    {
     "name": "stderr",
     "output_type": "stream",
     "text": [
      "Translating:  83%|██████████████████████████████████████▎       | 1389/1668 [17:59<06:51,  1.48s/it]"
     ]
    },
    {
     "name": "stdout",
     "output_type": "stream",
     "text": [
      "Error translating with src=hi (attempt 1): 'Translator' object has no attribute 'raise_Exception'\n"
     ]
    },
    {
     "name": "stderr",
     "output_type": "stream",
     "text": [
      "Translating:  83%|██████████████████████████████████████▎       | 1391/1668 [18:01<06:12,  1.34s/it]"
     ]
    },
    {
     "name": "stdout",
     "output_type": "stream",
     "text": [
      "Error translating with src=hi (attempt 1): 'Translator' object has no attribute 'raise_Exception'\n"
     ]
    },
    {
     "name": "stderr",
     "output_type": "stream",
     "text": [
      "Translating:  83%|██████████████████████████████████████▍       | 1392/1668 [18:03<06:38,  1.45s/it]"
     ]
    },
    {
     "name": "stdout",
     "output_type": "stream",
     "text": [
      "Error translating with src=hi (attempt 1): 'Translator' object has no attribute 'raise_Exception'\n",
      "Error translating with src=hi (attempt 2): 'Translator' object has no attribute 'raise_Exception'\n",
      "Error translating with src=en (attempt 1): 'Translator' object has no attribute 'raise_Exception'\n"
     ]
    },
    {
     "name": "stderr",
     "output_type": "stream",
     "text": [
      "Translating:  84%|██████████████████████████████████████▍       | 1393/1668 [18:10<12:14,  2.67s/it]"
     ]
    },
    {
     "name": "stdout",
     "output_type": "stream",
     "text": [
      "Error translating with src=hi (attempt 1): 'Translator' object has no attribute 'raise_Exception'\n"
     ]
    },
    {
     "name": "stderr",
     "output_type": "stream",
     "text": [
      "Translating:  84%|██████████████████████████████████████▍       | 1394/1668 [18:12<11:30,  2.52s/it]"
     ]
    },
    {
     "name": "stdout",
     "output_type": "stream",
     "text": [
      "Error translating with src=hi (attempt 1): 'Translator' object has no attribute 'raise_Exception'\n",
      "Error translating with src=hi (attempt 2): 'Translator' object has no attribute 'raise_Exception'\n",
      "Error translating with src=en (attempt 1): 'Translator' object has no attribute 'raise_Exception'\n"
     ]
    },
    {
     "name": "stderr",
     "output_type": "stream",
     "text": [
      "Translating:  84%|██████████████████████████████████████▍       | 1396/1668 [18:20<13:44,  3.03s/it]"
     ]
    },
    {
     "name": "stdout",
     "output_type": "stream",
     "text": [
      "Error translating with src=hi (attempt 1): 'Translator' object has no attribute 'raise_Exception'\n"
     ]
    },
    {
     "name": "stderr",
     "output_type": "stream",
     "text": [
      "Translating:  84%|██████████████████████████████████████▌       | 1398/1668 [18:22<10:16,  2.28s/it]"
     ]
    },
    {
     "name": "stdout",
     "output_type": "stream",
     "text": [
      "Error translating with src=hi (attempt 1): 'Translator' object has no attribute 'raise_Exception'\n",
      "Error translating with src=hi (attempt 2): 'Translator' object has no attribute 'raise_Exception'\n",
      "Error translating with src=en (attempt 1): 'Translator' object has no attribute 'raise_Exception'\n"
     ]
    },
    {
     "name": "stderr",
     "output_type": "stream",
     "text": [
      "Translating:  84%|██████████████████████████████████████▌       | 1399/1668 [18:28<14:36,  3.26s/it]"
     ]
    },
    {
     "name": "stdout",
     "output_type": "stream",
     "text": [
      "Error translating with src=hi (attempt 1): 'Translator' object has no attribute 'raise_Exception'\n",
      "Error translating with src=hi (attempt 2): 'Translator' object has no attribute 'raise_Exception'\n"
     ]
    },
    {
     "name": "stderr",
     "output_type": "stream",
     "text": [
      "Translating:  84%|██████████████████████████████████████▌       | 1400/1668 [18:34<16:35,  3.71s/it]"
     ]
    },
    {
     "name": "stdout",
     "output_type": "stream",
     "text": [
      "Error translating with src=hi (attempt 1): 'Translator' object has no attribute 'raise_Exception'\n",
      "Error translating with src=hi (attempt 2): 'Translator' object has no attribute 'raise_Exception'\n"
     ]
    },
    {
     "name": "stderr",
     "output_type": "stream",
     "text": [
      "Translating:  84%|██████████████████████████████████████▋       | 1401/1668 [18:39<18:10,  4.09s/it]"
     ]
    },
    {
     "name": "stdout",
     "output_type": "stream",
     "text": [
      "Error translating with src=hi (attempt 1): 'Translator' object has no attribute 'raise_Exception'\n",
      "Error translating with src=hi (attempt 2): 'Translator' object has no attribute 'raise_Exception'\n"
     ]
    },
    {
     "name": "stderr",
     "output_type": "stream",
     "text": [
      "Translating:  84%|██████████████████████████████████████▋       | 1403/1668 [18:44<15:35,  3.53s/it]"
     ]
    },
    {
     "name": "stdout",
     "output_type": "stream",
     "text": [
      "Error translating with src=hi (attempt 1): 'Translator' object has no attribute 'raise_Exception'\n"
     ]
    },
    {
     "name": "stderr",
     "output_type": "stream",
     "text": [
      "Translating:  84%|██████████████████████████████████████▋       | 1405/1668 [18:47<11:26,  2.61s/it]"
     ]
    },
    {
     "name": "stdout",
     "output_type": "stream",
     "text": [
      "Error translating with src=hi (attempt 1): 'Translator' object has no attribute 'raise_Exception'\n"
     ]
    },
    {
     "name": "stderr",
     "output_type": "stream",
     "text": [
      "Translating:  84%|██████████████████████████████████████▊       | 1406/1668 [18:49<10:48,  2.48s/it]"
     ]
    },
    {
     "name": "stdout",
     "output_type": "stream",
     "text": [
      "Error translating with src=hi (attempt 1): 'Translator' object has no attribute 'raise_Exception'\n",
      "Error translating with src=hi (attempt 2): 'Translator' object has no attribute 'raise_Exception'\n"
     ]
    },
    {
     "name": "stderr",
     "output_type": "stream",
     "text": [
      "Translating:  84%|██████████████████████████████████████▊       | 1409/1668 [18:54<08:20,  1.93s/it]"
     ]
    },
    {
     "name": "stdout",
     "output_type": "stream",
     "text": [
      "Error translating with src=hi (attempt 1): 'Translator' object has no attribute 'raise_Exception'\n",
      "Error translating with src=hi (attempt 2): 'Translator' object has no attribute 'raise_Exception'\n"
     ]
    },
    {
     "name": "stderr",
     "output_type": "stream",
     "text": [
      "Translating:  85%|██████████████████████████████████████▉       | 1412/1668 [19:01<08:40,  2.03s/it]"
     ]
    },
    {
     "name": "stdout",
     "output_type": "stream",
     "text": [
      "Error translating with src=hi (attempt 1): 'Translator' object has no attribute 'raise_Exception'\n",
      "Error translating with src=hi (attempt 2): 'Translator' object has no attribute 'raise_Exception'\n",
      "Error translating with src=en (attempt 1): 'Translator' object has no attribute 'raise_Exception'\n",
      "Error translating with src=en (attempt 2): 'Translator' object has no attribute 'raise_Exception'\n",
      "🔁 Attempting sentence split and translation...\n",
      "Error translating with src=hi (attempt 1): 'Translator' object has no attribute 'raise_Exception'\n"
     ]
    },
    {
     "name": "stderr",
     "output_type": "stream",
     "text": [
      "Translating:  85%|██████████████████████████████████████▉       | 1413/1668 [19:15<20:02,  4.72s/it]"
     ]
    },
    {
     "name": "stdout",
     "output_type": "stream",
     "text": [
      "result sent successfully\n"
     ]
    },
    {
     "name": "stderr",
     "output_type": "stream",
     "text": [
      "Translating:  85%|██████████████████████████████████████▉       | 1414/1668 [19:16<16:11,  3.82s/it]"
     ]
    },
    {
     "name": "stdout",
     "output_type": "stream",
     "text": [
      "Error translating with src=hi (attempt 1): 'Translator' object has no attribute 'raise_Exception'\n",
      "Error translating with src=hi (attempt 2): 'Translator' object has no attribute 'raise_Exception'\n"
     ]
    },
    {
     "name": "stderr",
     "output_type": "stream",
     "text": [
      "Translating:  85%|███████████████████████████████████████       | 1415/1668 [19:21<18:01,  4.28s/it]"
     ]
    },
    {
     "name": "stdout",
     "output_type": "stream",
     "text": [
      "Error translating with src=hi (attempt 1): 'Translator' object has no attribute 'raise_Exception'\n"
     ]
    },
    {
     "name": "stderr",
     "output_type": "stream",
     "text": [
      "Translating:  85%|███████████████████████████████████████       | 1418/1668 [19:23<08:38,  2.08s/it]"
     ]
    },
    {
     "name": "stdout",
     "output_type": "stream",
     "text": [
      "Error translating with src=hi (attempt 1): 'Translator' object has no attribute 'raise_Exception'\n"
     ]
    },
    {
     "name": "stderr",
     "output_type": "stream",
     "text": [
      "Translating:  85%|███████████████████████████████████████▏      | 1419/1668 [19:25<08:28,  2.04s/it]"
     ]
    },
    {
     "name": "stdout",
     "output_type": "stream",
     "text": [
      "Error translating with src=hi (attempt 1): 'Translator' object has no attribute 'raise_Exception'\n"
     ]
    },
    {
     "name": "stderr",
     "output_type": "stream",
     "text": [
      "Translating:  85%|███████████████████████████████████████▎      | 1426/1668 [19:28<02:21,  1.71it/s]"
     ]
    },
    {
     "name": "stdout",
     "output_type": "stream",
     "text": [
      "Error translating with src=hi (attempt 1): 'Translator' object has no attribute 'raise_Exception'\n"
     ]
    },
    {
     "name": "stderr",
     "output_type": "stream",
     "text": [
      "Translating:  86%|███████████████████████████████████████▍      | 1428/1668 [19:30<02:55,  1.37it/s]"
     ]
    },
    {
     "name": "stdout",
     "output_type": "stream",
     "text": [
      "Error translating with src=hi (attempt 1): 'Translator' object has no attribute 'raise_Exception'\n",
      "Error translating with src=hi (attempt 2): 'Translator' object has no attribute 'raise_Exception'\n",
      "Error translating with src=en (attempt 1): 'Translator' object has no attribute 'raise_Exception'\n",
      "Error translating with src=en (attempt 2): 'Translator' object has no attribute 'raise_Exception'\n",
      "🔁 Attempting sentence split and translation...\n"
     ]
    },
    {
     "name": "stderr",
     "output_type": "stream",
     "text": [
      "Translating:  86%|███████████████████████████████████████▍      | 1429/1668 [19:41<10:57,  2.75s/it]"
     ]
    },
    {
     "name": "stdout",
     "output_type": "stream",
     "text": [
      "result sent successfully\n",
      "Error translating with src=hi (attempt 1): 'Translator' object has no attribute 'raise_Exception'\n",
      "Error translating with src=hi (attempt 2): 'Translator' object has no attribute 'raise_Exception'\n",
      "Error translating with src=en (attempt 1): 'Translator' object has no attribute 'raise_Exception'\n",
      "Error translating with src=en (attempt 2): 'Translator' object has no attribute 'raise_Exception'\n"
     ]
    },
    {
     "name": "stderr",
     "output_type": "stream",
     "text": [
      "Translating:  86%|███████████████████████████████████████▍      | 1431/1668 [19:52<14:38,  3.71s/it]"
     ]
    },
    {
     "name": "stdout",
     "output_type": "stream",
     "text": [
      "🔁 Attempting sentence split and translation...\n",
      "⚠️ Could not split into two sentences. Skipping.\n",
      "Error translating with src=hi (attempt 1): 'Translator' object has no attribute 'raise_Exception'\n"
     ]
    },
    {
     "name": "stderr",
     "output_type": "stream",
     "text": [
      "Translating:  86%|███████████████████████████████████████▍      | 1432/1668 [19:54<13:10,  3.35s/it]"
     ]
    },
    {
     "name": "stdout",
     "output_type": "stream",
     "text": [
      "Error translating with src=hi (attempt 1): 'Translator' object has no attribute 'raise_Exception'\n"
     ]
    },
    {
     "name": "stderr",
     "output_type": "stream",
     "text": [
      "Translating:  86%|███████████████████████████████████████▌      | 1436/1668 [19:57<06:30,  1.68s/it]"
     ]
    },
    {
     "name": "stdout",
     "output_type": "stream",
     "text": [
      "Error translating with src=hi (attempt 1): 'Translator' object has no attribute 'raise_Exception'\n"
     ]
    },
    {
     "name": "stderr",
     "output_type": "stream",
     "text": [
      "Translating:  86%|███████████████████████████████████████▋      | 1437/1668 [19:59<06:43,  1.75s/it]"
     ]
    },
    {
     "name": "stdout",
     "output_type": "stream",
     "text": [
      "Error translating with src=hi (attempt 1): 'Translator' object has no attribute 'raise_Exception'\n"
     ]
    },
    {
     "name": "stderr",
     "output_type": "stream",
     "text": [
      "Translating:  86%|███████████████████████████████████████▋      | 1438/1668 [20:02<07:44,  2.02s/it]"
     ]
    },
    {
     "name": "stdout",
     "output_type": "stream",
     "text": [
      "Error translating with src=hi (attempt 1): 'Translator' object has no attribute 'raise_Exception'\n"
     ]
    },
    {
     "name": "stderr",
     "output_type": "stream",
     "text": [
      "Translating:  86%|███████████████████████████████████████▋      | 1439/1668 [20:03<07:38,  2.00s/it]"
     ]
    },
    {
     "name": "stdout",
     "output_type": "stream",
     "text": [
      "Error translating with src=hi (attempt 1): 'Translator' object has no attribute 'raise_Exception'\n",
      "Error translating with src=hi (attempt 2): 'Translator' object has no attribute 'raise_Exception'\n"
     ]
    },
    {
     "name": "stderr",
     "output_type": "stream",
     "text": [
      "Translating:  86%|███████████████████████████████████████▊      | 1442/1668 [20:10<06:51,  1.82s/it]"
     ]
    },
    {
     "name": "stdout",
     "output_type": "stream",
     "text": [
      "Error translating with src=hi (attempt 1): 'Translator' object has no attribute 'raise_Exception'\n"
     ]
    },
    {
     "name": "stderr",
     "output_type": "stream",
     "text": [
      "Translating:  87%|███████████████████████████████████████▊      | 1443/1668 [20:12<07:00,  1.87s/it]"
     ]
    },
    {
     "name": "stdout",
     "output_type": "stream",
     "text": [
      "Error translating with src=hi (attempt 1): 'Translator' object has no attribute 'raise_Exception'\n"
     ]
    },
    {
     "name": "stderr",
     "output_type": "stream",
     "text": [
      "Translating:  87%|███████████████████████████████████████▊      | 1445/1668 [20:14<05:35,  1.50s/it]"
     ]
    },
    {
     "name": "stdout",
     "output_type": "stream",
     "text": [
      "Error translating with src=hi (attempt 1): 'Translator' object has no attribute 'raise_Exception'\n",
      "Error translating with src=hi (attempt 2): 'Translator' object has no attribute 'raise_Exception'\n"
     ]
    },
    {
     "name": "stderr",
     "output_type": "stream",
     "text": [
      "Translating:  87%|███████████████████████████████████████▉      | 1447/1668 [20:19<07:09,  1.94s/it]"
     ]
    },
    {
     "name": "stdout",
     "output_type": "stream",
     "text": [
      "Error translating with src=hi (attempt 1): 'Translator' object has no attribute 'raise_Exception'\n",
      "Error translating with src=hi (attempt 2): 'Translator' object has no attribute 'raise_Exception'\n"
     ]
    },
    {
     "name": "stderr",
     "output_type": "stream",
     "text": [
      "Translating:  87%|███████████████████████████████████████▉      | 1449/1668 [20:24<07:58,  2.18s/it]"
     ]
    },
    {
     "name": "stdout",
     "output_type": "stream",
     "text": [
      "Error translating with src=hi (attempt 1): 'Translator' object has no attribute 'raise_Exception'\n",
      "Error translating with src=hi (attempt 2): 'Translator' object has no attribute 'raise_Exception'\n"
     ]
    },
    {
     "name": "stderr",
     "output_type": "stream",
     "text": [
      "Translating:  87%|███████████████████████████████████████▉      | 1450/1668 [20:30<10:17,  2.83s/it]"
     ]
    },
    {
     "name": "stdout",
     "output_type": "stream",
     "text": [
      "Error translating with src=hi (attempt 1): 'Translator' object has no attribute 'raise_Exception'\n"
     ]
    },
    {
     "name": "stderr",
     "output_type": "stream",
     "text": [
      "Translating:  87%|████████████████████████████████████████      | 1452/1668 [20:32<07:53,  2.19s/it]"
     ]
    },
    {
     "name": "stdout",
     "output_type": "stream",
     "text": [
      "Error translating with src=hi (attempt 1): 'Translator' object has no attribute 'raise_Exception'\n",
      "Error translating with src=hi (attempt 2): 'Translator' object has no attribute 'raise_Exception'\n",
      "Error translating with src=en (attempt 1): 'Translator' object has no attribute 'raise_Exception'\n"
     ]
    },
    {
     "name": "stderr",
     "output_type": "stream",
     "text": [
      "Translating:  87%|████████████████████████████████████████      | 1453/1668 [20:39<11:28,  3.20s/it]"
     ]
    },
    {
     "name": "stdout",
     "output_type": "stream",
     "text": [
      "Error translating with src=hi (attempt 1): 'Translator' object has no attribute 'raise_Exception'\n"
     ]
    },
    {
     "name": "stderr",
     "output_type": "stream",
     "text": [
      "Translating:  87%|████████████████████████████████████████      | 1454/1668 [20:42<11:28,  3.22s/it]"
     ]
    },
    {
     "name": "stdout",
     "output_type": "stream",
     "text": [
      "Error translating with src=hi (attempt 1): 'Translator' object has no attribute 'raise_Exception'\n"
     ]
    },
    {
     "name": "stderr",
     "output_type": "stream",
     "text": [
      "Translating:  87%|████████████████████████████████████████▏     | 1455/1668 [20:44<10:16,  2.90s/it]"
     ]
    },
    {
     "name": "stdout",
     "output_type": "stream",
     "text": [
      "Error translating with src=hi (attempt 1): 'Translator' object has no attribute 'raise_Exception'\n",
      "Error translating with src=hi (attempt 2): 'Translator' object has no attribute 'raise_Exception'\n"
     ]
    },
    {
     "name": "stderr",
     "output_type": "stream",
     "text": [
      "Translating:  87%|████████████████████████████████████████▏     | 1456/1668 [20:50<12:34,  3.56s/it]"
     ]
    },
    {
     "name": "stdout",
     "output_type": "stream",
     "text": [
      "Error translating with src=hi (attempt 1): 'Translator' object has no attribute 'raise_Exception'\n"
     ]
    },
    {
     "name": "stderr",
     "output_type": "stream",
     "text": [
      "Translating:  87%|████████████████████████████████████████▏     | 1457/1668 [20:52<11:05,  3.15s/it]"
     ]
    },
    {
     "name": "stdout",
     "output_type": "stream",
     "text": [
      "Error translating with src=hi (attempt 1): 'Translator' object has no attribute 'raise_Exception'\n"
     ]
    },
    {
     "name": "stderr",
     "output_type": "stream",
     "text": [
      "Translating: 100%|██████████████████████████████████████████████| 1668/1668 [22:30<00:00,  1.24it/s]\n"
     ]
    },
    {
     "name": "stdout",
     "output_type": "stream",
     "text": [
      "✅ File saved: ../complete/context_specific/sarvam_24b/hindi/hin_eng.csv\n",
      "🔵 Processing file: ../complete/context_specific/sarvam_24b/telugu/tel_tel.csv | Source language: te\n",
      "🔄 Translating 1668 rows...\n"
     ]
    },
    {
     "name": "stderr",
     "output_type": "stream",
     "text": [
      "Translating:  27%|████████████▊                                  | 455/1668 [09:09<24:06,  1.19s/it]"
     ]
    },
    {
     "name": "stdout",
     "output_type": "stream",
     "text": [
      "Error translating with src=te (attempt 1): The read operation timed out\n"
     ]
    },
    {
     "name": "stderr",
     "output_type": "stream",
     "text": [
      "Translating:  28%|████████████▉                                  | 460/1668 [09:21<32:24,  1.61s/it]"
     ]
    },
    {
     "name": "stdout",
     "output_type": "stream",
     "text": [
      "Error translating with src=te (attempt 1): The read operation timed out\n"
     ]
    },
    {
     "name": "stderr",
     "output_type": "stream",
     "text": [
      "Translating:  28%|████████████▍                                | 461/1668 [09:29<1:10:20,  3.50s/it]"
     ]
    },
    {
     "name": "stdout",
     "output_type": "stream",
     "text": [
      "Error translating with src=te (attempt 1): The read operation timed out\n"
     ]
    },
    {
     "name": "stderr",
     "output_type": "stream",
     "text": [
      "Translating:  28%|█████████████▎                                 | 473/1668 [09:50<29:41,  1.49s/it]"
     ]
    },
    {
     "name": "stdout",
     "output_type": "stream",
     "text": [
      "Error translating with src=te (attempt 1): The read operation timed out\n"
     ]
    },
    {
     "name": "stderr",
     "output_type": "stream",
     "text": [
      "Translating:  59%|███████████████████████████▌                   | 980/1668 [20:44<15:02,  1.31s/it]"
     ]
    },
    {
     "name": "stdout",
     "output_type": "stream",
     "text": [
      "Error translating with src=te (attempt 1): The read operation timed out\n"
     ]
    },
    {
     "name": "stderr",
     "output_type": "stream",
     "text": [
      "Translating:  62%|████████████████████████████▎                 | 1028/1668 [21:48<14:44,  1.38s/it]"
     ]
    }
   ],
   "source": [
    "def translate_response_column(file_path, translator):\n",
    "    try:\n",
    "        df = pd.read_csv(file_path)\n",
    "        col = df.columns\n",
    "        if \"response\" not in col and  \"trans_response\" in col:\n",
    "            df = df.rename(columns={\"trans_response\":\"response\"})\n",
    "            print(\"Column_renamed\")\n",
    "\n",
    "        if \"response\" not in df.columns:\n",
    "            print(f\"⚠️ Skipping {file_path}: No 'response' column found.\")\n",
    "            return\n",
    "\n",
    "        lang_folder = extract_language_from_path(file_path)\n",
    "        src_lang = map_language_name_to_code(lang_folder)\n",
    "\n",
    "        if not src_lang:\n",
    "            print(f\"⚠️ Skipping {file_path}: Unknown language '{lang_folder}'\")\n",
    "            return\n",
    "\n",
    "        print(f\"🔵 Processing file: {file_path} | Source language: {src_lang}\")\n",
    "\n",
    "        if \"gtrans_response\" not in df.columns:\n",
    "            df[\"gtrans_response\"] = \"\"\n",
    "\n",
    "        needs_translation = (\n",
    "            df[\"gtrans_response\"].isnull() | (df[\"gtrans_response\"].astype(str).str.strip() == \"\")\n",
    "        ) & (df[\"response\"].astype(str).str.strip() != \"\")\n",
    "\n",
    "        rows_to_translate = df[needs_translation].copy()\n",
    "\n",
    "        if not rows_to_translate.empty:\n",
    "            print(f\"🔄 Translating {len(rows_to_translate)} rows...\")\n",
    "            translated_texts = []\n",
    "\n",
    "            for response in tqdm(rows_to_translate[\"response\"], desc=\"Translating\", ncols=100):\n",
    "                translated_text = translate_sentence_safe(response, src_lang, translator)\n",
    "                translated_texts.append(translated_text if translated_text is not None else response)\n",
    "\n",
    "            df.loc[needs_translation, \"gtrans_response\"] = translated_texts\n",
    "        else:\n",
    "            print(\"✅ No rows need translation.\")\n",
    "\n",
    "        df.to_csv(file_path, index=False)\n",
    "        print(f\"✅ File saved: {file_path}\")\n",
    "\n",
    "    except Exception as e:\n",
    "        print(f\"❌ Error processing {file_path}: {e}\")\n",
    "\n",
    "def process_directory(root_dir):\n",
    "    translator = Translator()\n",
    "\n",
    "    for dirpath, _, filenames in os.walk(root_dir):\n",
    "        for filename in filenames:\n",
    "            if filename.endswith(\".csv\") and \"checkpoint\" not in filename.lower():\n",
    "                file_path = os.path.join(dirpath, filename)\n",
    "                translate_response_column(file_path, translator)\n",
    "            else:\n",
    "                if \"checkpoint\" in filename.lower():\n",
    "                    print(f\"⏩ Skipping checkpoint file: {filename}\")\n",
    "\n",
    "if __name__ == \"__main__\":\n",
    "    root_directory = \"../complete/context_specific\"\n",
    "    process_directory(root_directory)\n"
   ]
  },
  {
   "cell_type": "code",
   "execution_count": null,
   "id": "b1cab49f",
   "metadata": {},
   "outputs": [],
   "source": []
  }
 ],
 "metadata": {
  "kernelspec": {
   "display_name": ".venv",
   "language": "python",
   "name": "python3"
  },
  "language_info": {
   "codemirror_mode": {
    "name": "ipython",
    "version": 3
   },
   "file_extension": ".py",
   "mimetype": "text/x-python",
   "name": "python",
   "nbconvert_exporter": "python",
   "pygments_lexer": "ipython3",
   "version": "3.12.11"
  }
 },
 "nbformat": 4,
 "nbformat_minor": 5
}
