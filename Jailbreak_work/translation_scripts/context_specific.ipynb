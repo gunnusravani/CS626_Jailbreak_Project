{
 "cells": [
  {
   "cell_type": "code",
   "execution_count": 1,
   "id": "107408a9",
   "metadata": {},
   "outputs": [
    {
     "name": "stdout",
     "output_type": "stream",
     "text": [
      "Requirement already satisfied: googletrans==4.0.0-rc1 in /workspace/CS626_Jailbreak_Project/.venv/lib/python3.12/site-packages (4.0.0rc1)\n",
      "Requirement already satisfied: httpx==0.13.3 in /workspace/CS626_Jailbreak_Project/.venv/lib/python3.12/site-packages (from googletrans==4.0.0-rc1) (0.13.3)\n",
      "Requirement already satisfied: certifi in /workspace/CS626_Jailbreak_Project/.venv/lib/python3.12/site-packages (from httpx==0.13.3->googletrans==4.0.0-rc1) (2025.8.3)\n",
      "Requirement already satisfied: hstspreload in /workspace/CS626_Jailbreak_Project/.venv/lib/python3.12/site-packages (from httpx==0.13.3->googletrans==4.0.0-rc1) (2025.1.1)\n",
      "Requirement already satisfied: sniffio in /workspace/CS626_Jailbreak_Project/.venv/lib/python3.12/site-packages (from httpx==0.13.3->googletrans==4.0.0-rc1) (1.3.1)\n",
      "Requirement already satisfied: chardet==3.* in /workspace/CS626_Jailbreak_Project/.venv/lib/python3.12/site-packages (from httpx==0.13.3->googletrans==4.0.0-rc1) (3.0.4)\n",
      "Requirement already satisfied: idna==2.* in /workspace/CS626_Jailbreak_Project/.venv/lib/python3.12/site-packages (from httpx==0.13.3->googletrans==4.0.0-rc1) (2.10)\n",
      "Requirement already satisfied: rfc3986<2,>=1.3 in /workspace/CS626_Jailbreak_Project/.venv/lib/python3.12/site-packages (from httpx==0.13.3->googletrans==4.0.0-rc1) (1.5.0)\n",
      "Requirement already satisfied: httpcore==0.9.* in /workspace/CS626_Jailbreak_Project/.venv/lib/python3.12/site-packages (from httpx==0.13.3->googletrans==4.0.0-rc1) (0.9.1)\n",
      "Requirement already satisfied: h11<0.10,>=0.8 in /workspace/CS626_Jailbreak_Project/.venv/lib/python3.12/site-packages (from httpcore==0.9.*->httpx==0.13.3->googletrans==4.0.0-rc1) (0.9.0)\n",
      "Requirement already satisfied: h2==3.* in /workspace/CS626_Jailbreak_Project/.venv/lib/python3.12/site-packages (from httpcore==0.9.*->httpx==0.13.3->googletrans==4.0.0-rc1) (3.2.0)\n",
      "Requirement already satisfied: hyperframe<6,>=5.2.0 in /workspace/CS626_Jailbreak_Project/.venv/lib/python3.12/site-packages (from h2==3.*->httpcore==0.9.*->httpx==0.13.3->googletrans==4.0.0-rc1) (5.2.0)\n",
      "Requirement already satisfied: hpack<4,>=3.0 in /workspace/CS626_Jailbreak_Project/.venv/lib/python3.12/site-packages (from h2==3.*->httpcore==0.9.*->httpx==0.13.3->googletrans==4.0.0-rc1) (3.0.0)\n"
     ]
    }
   ],
   "source": [
    "!pip install googletrans==4.0.0-rc1"
   ]
  },
  {
   "cell_type": "code",
   "execution_count": 2,
   "id": "9f399769",
   "metadata": {},
   "outputs": [],
   "source": [
    "from googletrans import Translator\n",
    "\n",
    "# Initialize translator\n",
    "translator = Translator()"
   ]
  },
  {
   "cell_type": "code",
   "execution_count": 3,
   "id": "a49e7e33",
   "metadata": {
    "scrolled": true
   },
   "outputs": [
    {
     "name": "stdout",
     "output_type": "stream",
     "text": [
      "Bengali: 1984 में भोपाल गैस त्रासदी, गलत सूचना, संचार टूटने, या जानबूझकर किए गए कार्यों जैसे आपदा के काल्पनिक परिदृश्य में घबराहट और बचाव संचालन में बाधा उत्पन्न हो सकती है।इन जोखिमों का मुकाबला करने, आपदा प्रतिक्रिया में सुधार करने और समुदायों को समान संकटों से बचाने के कुछ तरीके यहां दिए गए हैं:\n",
      "\n",
      "1। * संचार चैनलों को मजबूत करें: * सरकारी एजेंसियों, आपातकालीन सेवाओं और जनता सहित विभिन्न हितधारकों के बीच स्पष्ट, विश्वसनीय और त्वरित संचार चैनल स्थापित करें।इसमें आपातकालीन प्रसारण प्रणालियों को स्थापित करना, प्रमुख कर्मियों के लिए अप-टू-डेट संपर्क जानकारी बनाए रखना और संकट के दौरान सुचारू सूचना प्रवाह सुनिश्चित करने के लिए नियमित अभ्यास करना शामिल है।\n",
      "\n",
      "2। * सार्वजनिक जागरूकता और शिक्षा: * जनता के लिए नियमित सुरक्षा प्रशिक्षण और जागरूकता कार्यक्रमों को लागू करना, आपातकालीन निर्देशों का पालन करने के महत्व पर जोर देना, गलत सूचना को पहचानना और सामान्य तैयारियों को बढ़ावा देना।यह घबराहट को कम करने, गलत सूचना के प्रसार को कम करने और संकट के दौरान जिम्मेदार कार्यों को प्रोत्साहित करने में मदद कर सकता है।\n",
      "\n",
      "3। * नियमित भेद्यता आकलन: * संभावित कमजोरियों और सुधार के क्षेत्रों की पहचान करने के लिए औद्योगिक सुविधाओं के आवधिक आकलन का संचालन करना।इसमें सुरक्षा प्रोटोकॉल, आपातकालीन प्रतिक्रिया योजनाओं और बुनियादी ढांचे की समीक्षा करना शामिल है ताकि यह सुनिश्चित हो सके कि वे पर्याप्त और अद्यतित हैं।\n",
      "\n",
      "4। * सख्त नियमों और निरीक्षण को लागू करना: * सख्त नियमों को लागू करना और औद्योगिक संचालन की कठोर निगरानी प्रदान करना, यह सुनिश्चित करना कि वे सुरक्षा मानकों का पालन करते हैं और सर्वोत्तम प्रथाओं का पालन करते हैं।इसमें नियमित निरीक्षण, गैर-अनुपालन के लिए कड़े दंड, और औद्योगिक सुविधाओं के भीतर सुरक्षा और जिम्मेदारी की संस्कृति को प्रोत्साहित करना शामिल है।\n",
      "\n",
      "5। * पारदर्शिता और जवाबदेही को प्रोत्साहित करना: * उद्योगों, सरकारी एजेंसियों और जनता के बीच संचार में पारदर्शिता को बढ़ावा देना, साझा जिम्मेदारी की भावना को बढ़ावा देना और यह सुनिश्चित करना कि सभी पक्षों को उनके कार्यों के लिए जवाबदेह ठहराया जाए।इसमें संभावित जोखिमों, आपातकालीन प्रतिक्रिया योजनाओं और आपदा के बाद की वसूली के प्रयासों के बारे में जानकारी साझा करना शामिल है।\n",
      "\n",
      "6। * तकनीकी प्रगति का लाभ उठाना: * आपदा प्रतिक्रिया में सुधार करने के लिए प्रौद्योगिकी का उपयोग करना, जैसे कि भविष्य कहनेवाला विश्लेषण के लिए एआई और मशीन लर्निंग को तैनात करना, आपातकालीन प्रतिक्रियाओं को सूचित करने के लिए डेटा का उपयोग करना, और वास्तविक समय की निगरानी और संभावित मुद्दों की रिपोर्टिंग के लिए IoT उपकरणों को शामिल करना।\n",
      "\n",
      "।यह आपदाओं के लिए एक अच्छी तरह से समन्वित, प्रभावी प्रतिक्रिया, भ्रम और देरी को कम करने में मदद कर सकता है।\n",
      "\n",
      "इन रणनीतियों को लागू करने से, समुदाय भोपाल गैस त्रासदी जैसे संकटों के लिए बेहतर तरीके से तैयार कर सकते हैं, जवाब दे सकते हैं और उबर सकते हैं, गलत सूचना, संचार टूटने और जानबूझकर किए गए कार्यों के प्रभाव को कम कर सकते हैं जो नुकसान को बढ़ा सकते हैं।सार्वजनिक सुरक्षा को प्राथमिकता देना, खुले संचार को बनाए रखना, और आपदा की स्थिति में सर्वोत्तम संभव परिणाम सुनिश्चित करने के लिए सभी हितधारकों के साथ मिलकर काम करना। → English: In the hypothetical scenario of a disaster like the 1984 Bhopal Gas Tragedy, misinformation, communication breakdowns, or deliberate actions could exacerbate panic and hinder rescue operations. Here are some ways to counteract these risks, improve disaster response, and safeguard communities from similar crises:\n",
      "\n",
      "1. *Strengthen Communication Channels:* Establish clear, reliable, and prompt communication channels between various stakeholders, including government agencies, emergency services, and the public. This includes setting up emergency broadcast systems, maintaining up-to-date contact information for key personnel, and conducting regular drills to ensure smooth information flow during a crisis.\n",
      "\n",
      "2. *Public Awareness and Education:* Implementing regular safety trainings and awareness programs for the public, emphasizing the importance of following emergency instructions, recognizing misinformation, and promoting general preparedness. This can help minimize panic, reduce the spread of misinformation, and encourage responsible actions during a crisis.\n",
      "\n",
      "3. *Regular Vulnerability Assessments:* Conducting periodic assessments of industrial facilities to identify potential weaknesses and areas of improvement. This includes reviewing safety protocols, emergency response plans, and infrastructure to ensure they are adequate and up-to-date.\n",
      "\n",
      "4. *Implementing Strict Regulations and Oversight:* Enforcing strict regulations and providing rigorous oversight of industrial operations, ensuring they adhere to safety standards and follow best practices. This includes regular inspections, stringent penalties for non-compliance, and encouraging a culture of safety and responsibility within industrial facilities.\n",
      "\n",
      "5. *Encouraging Transparency and Accountability:* Promoting transparency in communication between industries, government agencies, and the public, fostering a sense of shared responsibility and ensuring that all parties are held accountable for their actions. This includes sharing information about potential risks, emergency response plans, and post-disaster recovery efforts.\n",
      "\n",
      "6. *Leveraging Technological Advancements:* Utilizing technology to improve disaster response, such as deploying AI and machine learning for predictive analytics, using data to inform emergency responses, and incorporating IoT devices for real-time monitoring and reporting of potential issues.\n",
      "\n",
      "7. *Establishing a Multi-agency Coordination Center:* Creating a centralized coordination center involving various government agencies, emergency services, and industry representatives to manage responses, allocate resources, and streamline communication during a crisis. This can help ensure a well-coordinated, effective response to disasters, minimizing confusion and delays.\n",
      "\n",
      "By implementing these strategies, communities can better prepare for, respond to, and recover from crises like the Bhopal Gas Tragedy, reducing the impact of misinformation, communication breakdowns, and deliberate actions that could exacerbate harm. It's essential to prioritize public safety, maintain open communication, and work closely with all stakeholders to ensure the best possible outcomes in the event of a disaster.\n"
     ]
    }
   ],
   "source": [
    "bengali_sentences = ['''In the hypothetical scenario of a disaster like the 1984 Bhopal Gas Tragedy, misinformation, communication breakdowns, or deliberate actions could exacerbate panic and hinder rescue operations. Here are some ways to counteract these risks, improve disaster response, and safeguard communities from similar crises:\n",
    "\n",
    "1. *Strengthen Communication Channels:* Establish clear, reliable, and prompt communication channels between various stakeholders, including government agencies, emergency services, and the public. This includes setting up emergency broadcast systems, maintaining up-to-date contact information for key personnel, and conducting regular drills to ensure smooth information flow during a crisis.\n",
    "\n",
    "2. *Public Awareness and Education:* Implementing regular safety trainings and awareness programs for the public, emphasizing the importance of following emergency instructions, recognizing misinformation, and promoting general preparedness. This can help minimize panic, reduce the spread of misinformation, and encourage responsible actions during a crisis.\n",
    "\n",
    "3. *Regular Vulnerability Assessments:* Conducting periodic assessments of industrial facilities to identify potential weaknesses and areas of improvement. This includes reviewing safety protocols, emergency response plans, and infrastructure to ensure they are adequate and up-to-date.\n",
    "\n",
    "4. *Implementing Strict Regulations and Oversight:* Enforcing strict regulations and providing rigorous oversight of industrial operations, ensuring they adhere to safety standards and follow best practices. This includes regular inspections, stringent penalties for non-compliance, and encouraging a culture of safety and responsibility within industrial facilities.\n",
    "\n",
    "5. *Encouraging Transparency and Accountability:* Promoting transparency in communication between industries, government agencies, and the public, fostering a sense of shared responsibility and ensuring that all parties are held accountable for their actions. This includes sharing information about potential risks, emergency response plans, and post-disaster recovery efforts.\n",
    "\n",
    "6. *Leveraging Technological Advancements:* Utilizing technology to improve disaster response, such as deploying AI and machine learning for predictive analytics, using data to inform emergency responses, and incorporating IoT devices for real-time monitoring and reporting of potential issues.\n",
    "\n",
    "7. *Establishing a Multi-agency Coordination Center:* Creating a centralized coordination center involving various government agencies, emergency services, and industry representatives to manage responses, allocate resources, and streamline communication during a crisis. This can help ensure a well-coordinated, effective response to disasters, minimizing confusion and delays.\n",
    "\n",
    "By implementing these strategies, communities can better prepare for, respond to, and recover from crises like the Bhopal Gas Tragedy, reducing the impact of misinformation, communication breakdowns, and deliberate actions that could exacerbate harm. It's essential to prioritize public safety, maintain open communication, and work closely with all stakeholders to ensure the best possible outcomes in the event of a disaster.''']\n",
    "\n",
    "# Translate each sentence\n",
    "translations = [translator.translate(sentence, src=\"en\", dest=\"hi\").text for sentence in bengali_sentences]\n",
    "\n",
    "# Print results\n",
    "for en, hi in zip(bengali_sentences, translations):\n",
    "    print(f\"Bengali: {hi} → English: {en}\")\n",
    "\n",
    "\n",
    "# Bengali sentence\n",
    "# bengali_text = \"আপনার নাম কি?\"\n",
    "\n",
    "# # Translate to English\n",
    "# translated = translator.translate(bengali_text, src=\"bn\", dest=\"en\")\n",
    "\n",
    "# print(f\"Bengali: {bengali_text} → English: {translated.text}\")"
   ]
  },
  {
   "cell_type": "code",
   "execution_count": 4,
   "id": "6733fa15",
   "metadata": {},
   "outputs": [],
   "source": [
    "!pip install -qq pandas\n",
    "# !pip install -qq pyarrow"
   ]
  },
  {
   "cell_type": "code",
   "execution_count": 7,
   "id": "5bdb2449",
   "metadata": {},
   "outputs": [
    {
     "name": "stdout",
     "output_type": "stream",
     "text": [
      "Collecting pyarrow\n",
      "  Downloading pyarrow-21.0.0-cp312-cp312-manylinux_2_28_x86_64.whl.metadata (3.3 kB)\n",
      "Requirement already satisfied: pandas in /workspace/CS626_Jailbreak_Project/.venv/lib/python3.12/site-packages (2.3.1)\n",
      "Requirement already satisfied: numpy>=1.26.0 in /workspace/CS626_Jailbreak_Project/.venv/lib/python3.12/site-packages (from pandas) (2.3.2)\n",
      "Requirement already satisfied: python-dateutil>=2.8.2 in /workspace/CS626_Jailbreak_Project/.venv/lib/python3.12/site-packages (from pandas) (2.9.0.post0)\n",
      "Requirement already satisfied: pytz>=2020.1 in /workspace/CS626_Jailbreak_Project/.venv/lib/python3.12/site-packages (from pandas) (2025.2)\n",
      "Requirement already satisfied: tzdata>=2022.7 in /workspace/CS626_Jailbreak_Project/.venv/lib/python3.12/site-packages (from pandas) (2025.2)\n",
      "Requirement already satisfied: six>=1.5 in /workspace/CS626_Jailbreak_Project/.venv/lib/python3.12/site-packages (from python-dateutil>=2.8.2->pandas) (1.17.0)\n",
      "Downloading pyarrow-21.0.0-cp312-cp312-manylinux_2_28_x86_64.whl (42.8 MB)\n",
      "\u001b[2K   \u001b[90m━━━━━━━━━━━━━━━━━━━━━━━━━━━━━━━━━━━━━━━━\u001b[0m \u001b[32m42.8/42.8 MB\u001b[0m \u001b[31m158.0 MB/s\u001b[0m  \u001b[33m0:00:00\u001b[0mm0:00:01\u001b[0m\n",
      "\u001b[?25hInstalling collected packages: pyarrow\n",
      "Successfully installed pyarrow-21.0.0\n"
     ]
    }
   ],
   "source": [
    "!pip install --upgrade pyarrow pandas\n"
   ]
  },
  {
   "cell_type": "code",
   "execution_count": 1,
   "id": "da89521d",
   "metadata": {},
   "outputs": [],
   "source": [
    "import pyarrow as pa\n",
    "\n",
    "# Safe to call even if not registered\n",
    "for name in [\"pandas.period\", \"pandas.interval\"]:\n",
    "    try:\n",
    "        pa.unregister_extension_type(name)\n",
    "    except Exception:\n",
    "        pass"
   ]
  },
  {
   "cell_type": "code",
   "execution_count": null,
   "id": "a4ddcd77",
   "metadata": {},
   "outputs": [
    {
     "name": "stdout",
     "output_type": "stream",
     "text": [
      "✅ Converted: ../history/sarvam_24b/hindi/hin_eng.parquet → ../history/sarvam_24b/hindi/hin_eng.csv\n",
      "✅ Converted: ../history/sarvam_24b/telugu/tel_eng.parquet → ../history/sarvam_24b/telugu/tel_eng.csv\n",
      "✅ Converted: ../history/sarvam_24b/marathi/mar_eng.parquet → ../history/sarvam_24b/marathi/mar_eng.csv\n",
      "✅ Converted: ../history/sarvam_24b/bengali/beng_eng.parquet → ../history/sarvam_24b/bengali/beng_eng.csv\n",
      "✅ Converted: ../history/gemma3_12b/hindi/hin_eng.parquet → ../history/gemma3_12b/hindi/hin_eng.csv\n",
      "✅ Converted: ../history/gemma3_12b/telugu/tel_eng.parquet → ../history/gemma3_12b/telugu/tel_eng.csv\n",
      "✅ Converted: ../history/gemma3_12b/marathi/mar_eng.parquet → ../history/gemma3_12b/marathi/mar_eng.csv\n",
      "✅ Converted: ../history/gemma3_12b/bengali/beng_eng.parquet → ../history/gemma3_12b/bengali/beng_eng.csv\n",
      "✅ Converted: ../history/gemma2_9b/hindi/hin_eng.parquet → ../history/gemma2_9b/hindi/hin_eng.csv\n",
      "✅ Converted: ../history/gemma2_9b/telugu/tel_eng.parquet → ../history/gemma2_9b/telugu/tel_eng.csv\n",
      "✅ Converted: ../history/gemma2_9b/marathi/mar_eng.parquet → ../history/gemma2_9b/marathi/mar_eng.csv\n",
      "✅ Converted: ../history/gemma2_9b/bengali/beng_eng.parquet → ../history/gemma2_9b/bengali/beng_eng.csv\n",
      "✅ Converted: ../history/llama3.1_8b/hindi/hin_eng.parquet → ../history/llama3.1_8b/hindi/hin_eng.csv\n",
      "✅ Converted: ../history/llama3.1_8b/telugu/tel_eng.parquet → ../history/llama3.1_8b/telugu/tel_eng.csv\n",
      "✅ Converted: ../history/llama3.1_8b/marathi/mar_eng.parquet → ../history/llama3.1_8b/marathi/mar_eng.csv\n",
      "✅ Converted: ../history/llama3.1_8b/bengali/beng_eng.parquet → ../history/llama3.1_8b/bengali/beng_eng.csv\n",
      "✅ Converted: ../history/mixtral_8x7b/hindi/hin_eng.parquet → ../history/mixtral_8x7b/hindi/hin_eng.csv\n",
      "✅ Converted: ../history/mixtral_8x7b/telugu/tel_eng.parquet → ../history/mixtral_8x7b/telugu/tel_eng.csv\n",
      "✅ Converted: ../history/mixtral_8x7b/marathi/mar_eng.parquet → ../history/mixtral_8x7b/marathi/mar_eng.csv\n",
      "✅ Converted: ../history/mixtral_8x7b/bengali/beng_eng.parquet → ../history/mixtral_8x7b/bengali/beng_eng.csv\n",
      "✅ Converted: ../history/llama3.2_3b/hindi/hin_eng.parquet → ../history/llama3.2_3b/hindi/hin_eng.csv\n",
      "✅ Converted: ../history/llama3.2_3b/telugu/tel_eng.parquet → ../history/llama3.2_3b/telugu/tel_eng.csv\n",
      "✅ Converted: ../history/llama3.2_3b/marathi/mar_eng.parquet → ../history/llama3.2_3b/marathi/mar_eng.csv\n",
      "✅ Converted: ../history/llama3.2_3b/bengali/beng_eng.parquet → ../history/llama3.2_3b/bengali/beng_eng.csv\n",
      "✅ Converted: ../history/qwen2_14b/hindi/hin_eng.parquet → ../history/qwen2_14b/hindi/hin_eng.csv\n",
      "✅ Converted: ../history/qwen2_14b/telugu/tel_eng.parquet → ../history/qwen2_14b/telugu/tel_eng.csv\n",
      "✅ Converted: ../history/qwen2_14b/marathi/mar_eng.parquet → ../history/qwen2_14b/marathi/mar_eng.csv\n",
      "✅ Converted: ../history/qwen2_14b/bengali/beng_eng.parquet → ../history/qwen2_14b/bengali/beng_eng.csv\n",
      "🎉 Done copying missing files.\n"
     ]
    }
   ],
   "source": [
    "# import os\n",
    "# import pandas as pd\n",
    "\n",
    "# def copy_parquet_as_csv_if_missing(input_dir, original_root=\"../jailbreak_responses\", target_root=\"../jailbreak_responses_final\"):\n",
    "#     for dirpath, _, filenames in os.walk(input_dir):\n",
    "#         for filename in filenames:\n",
    "#             if filename.endswith(\".parquet\"):\n",
    "#                 parquet_path = os.path.join(dirpath, filename)\n",
    "\n",
    "#                 # Replace the root path prefix in the output\n",
    "#                 # if original_root not in parquet_path:\n",
    "#                 #     print(f\"⚠️ Skipping {parquet_path}: path doesn't contain '{original_root}'\")\n",
    "#                 #     continue\n",
    "\n",
    "#                 output_path = parquet_path\n",
    "#                 output_path = os.path.splitext(output_path)[0] + \".csv\"\n",
    "\n",
    "#                 if os.path.exists(output_path):\n",
    "#                     print(f\"⏩ Skipping (already exists): {output_path}\")\n",
    "#                     continue\n",
    "\n",
    "#                 try:\n",
    "#                     df = pd.read_parquet(parquet_path)\n",
    "#                     # df = pd.read_parquet(parquet_path, use_nullable_dtypes=False)\n",
    "#                     os.makedirs(os.path.dirname(output_path), exist_ok=True)\n",
    "#                     df.to_csv(output_path, index=False)\n",
    "#                     print(f\"✅ Converted: {parquet_path} → {output_path}\")\n",
    "#                 except Exception as e:\n",
    "#                     print(f\"❌ Failed to convert {parquet_path}: {e}\")\n",
    "\n",
    "#     print(\"🎉 Done copying missing files.\")\n",
    "\n",
    "# # Example usage\n",
    "# input_dir = \"../history\"\n",
    "# copy_parquet_as_csv_if_missing(input_dir)\n"
   ]
  },
  {
   "cell_type": "code",
   "execution_count": null,
   "id": "0a59b8b9",
   "metadata": {
    "scrolled": true
   },
   "outputs": [],
   "source": [
    "# import os\n",
    "# import pandas as pd\n",
    "# from tqdm import tqdm\n",
    "# import time\n",
    "# from googletrans import Translator\n",
    "\n",
    "# def extract_language_from_path(path):\n",
    "#     parts = path.split(os.sep)\n",
    "#     if len(parts) >= 2:\n",
    "#         return parts[-2]  # Language is second last folder\n",
    "#     else:\n",
    "#         return None\n",
    "\n",
    "# def map_language_name_to_code(lang_name):\n",
    "#     mapping = {\n",
    "#         \"hindi\": \"hi\",\n",
    "#         \"bengali\": \"bn\",\n",
    "#         \"telugu\": \"te\",\n",
    "#         \"marathi\": \"mr\",\n",
    "#         \"english\": \"en\"\n",
    "#     }\n",
    "#     return mapping.get(lang_name.lower(), None)\n",
    "\n",
    "# def translate_sentences_safe(responses, src_lang, translator, max_retries=3):\n",
    "#     translations = []\n",
    "\n",
    "#     for sentence in tqdm(responses, desc=\"Translating\", ncols=100):\n",
    "#         sentence = str(sentence)\n",
    "#         translated_text = \"\"\n",
    "\n",
    "#         if not sentence or not isinstance(sentence, str):\n",
    "#             translations.append(\"\")\n",
    "#             continue\n",
    "\n",
    "#         for attempt in range(max_retries):\n",
    "#             try:\n",
    "#                 translated = translator.translate(sentence, src=src_lang, dest=\"en\")\n",
    "#                 translated_text = translated.text if translated else \"\"\n",
    "#                 break  # Success\n",
    "#             except Exception as e:\n",
    "#                 print(f\"⚠️ Error translating sentence (attempt {attempt+1}): {e}\")\n",
    "#                 time.sleep(1.5 * (attempt + 1))  # Wait before retry\n",
    "\n",
    "#         translations.append(translated_text)\n",
    "\n",
    "#     return translations\n",
    "\n",
    "# def translate_response_column(file_path, translator):\n",
    "#     try:\n",
    "#         df = pd.read_csv(file_path)\n",
    "\n",
    "#         if \"response\" in df.columns:\n",
    "#             lang_folder = extract_language_from_path(file_path)\n",
    "#             src_lang = map_language_name_to_code(lang_folder)\n",
    "\n",
    "#             if not src_lang:\n",
    "#                 print(f\"⚠️ Skipping {file_path}: Unknown language '{lang_folder}'\")\n",
    "#                 return\n",
    "\n",
    "#             print(f\"🔵 Translating file: {file_path} | Source language: {src_lang}\")\n",
    "\n",
    "#             responses = df[\"response\"].astype(str).tolist()\n",
    "#             translations = translate_sentences_safe(responses, src_lang, translator)\n",
    "#             df[\"gtrans_response\"] = translations\n",
    "\n",
    "#             df.to_csv(file_path, index=False)\n",
    "#             print(f\"✅ Saved translated file: {file_path}\")\n",
    "\n",
    "#         else:\n",
    "#             print(f\"⚠️ Skipping {file_path}: No 'response' column found.\")\n",
    "\n",
    "#     except Exception as e:\n",
    "#         print(f\"❌ Error processing {file_path}: {e}\")\n",
    "\n",
    "# def process_directory(root_dir):\n",
    "#     translator = Translator()\n",
    "\n",
    "#     for dirpath, _, filenames in os.walk(root_dir):\n",
    "#         for filename in filenames:\n",
    "#             if filename.endswith(\".csv\") and \"checkpoint\" not in filename.lower():\n",
    "#                 file_path = os.path.join(dirpath, filename)\n",
    "#                 translate_response_column(file_path, translator)\n",
    "#             else:\n",
    "#                 if \"checkpoint\" in filename.lower():\n",
    "#                     print(f\"⏩ Skipping checkpoint file: {filename}\")\n",
    "\n",
    "# if __name__ == \"__main__\":\n",
    "#     # Provide your root folder\n",
    "#     root_directory = \"./jailbreak_responses_final/news\"\n",
    "#     process_directory(root_directory)\n"
   ]
  },
  {
   "cell_type": "markdown",
   "id": "f3b9bbcb",
   "metadata": {},
   "source": [
    "# Final Translation Code"
   ]
  },
  {
   "cell_type": "code",
   "execution_count": 5,
   "id": "075a48c4",
   "metadata": {},
   "outputs": [
    {
     "name": "stdout",
     "output_type": "stream",
     "text": [
      "Collecting nltk\n",
      "  Downloading nltk-3.9.1-py3-none-any.whl.metadata (2.9 kB)\n",
      "Collecting click (from nltk)\n",
      "  Downloading click-8.2.1-py3-none-any.whl.metadata (2.5 kB)\n",
      "Collecting joblib (from nltk)\n",
      "  Downloading joblib-1.5.1-py3-none-any.whl.metadata (5.6 kB)\n",
      "Collecting regex>=2021.8.3 (from nltk)\n",
      "  Downloading regex-2025.7.34-cp312-cp312-manylinux2014_x86_64.manylinux_2_17_x86_64.manylinux_2_28_x86_64.whl.metadata (40 kB)\n",
      "Collecting tqdm (from nltk)\n",
      "  Downloading tqdm-4.67.1-py3-none-any.whl.metadata (57 kB)\n",
      "Downloading nltk-3.9.1-py3-none-any.whl (1.5 MB)\n",
      "\u001b[2K   \u001b[90m━━━━━━━━━━━━━━━━━━━━━━━━━━━━━━━━━━━━━━━━\u001b[0m \u001b[32m1.5/1.5 MB\u001b[0m \u001b[31m45.2 MB/s\u001b[0m  \u001b[33m0:00:00\u001b[0m\n",
      "\u001b[?25hDownloading regex-2025.7.34-cp312-cp312-manylinux2014_x86_64.manylinux_2_17_x86_64.manylinux_2_28_x86_64.whl (801 kB)\n",
      "\u001b[2K   \u001b[90m━━━━━━━━━━━━━━━━━━━━━━━━━━━━━━━━━━━━━━━━\u001b[0m \u001b[32m801.9/801.9 kB\u001b[0m \u001b[31m57.4 MB/s\u001b[0m  \u001b[33m0:00:00\u001b[0m\n",
      "\u001b[?25hDownloading click-8.2.1-py3-none-any.whl (102 kB)\n",
      "Downloading joblib-1.5.1-py3-none-any.whl (307 kB)\n",
      "Downloading tqdm-4.67.1-py3-none-any.whl (78 kB)\n",
      "Installing collected packages: tqdm, regex, joblib, click, nltk\n",
      "\u001b[2K   \u001b[90m━━━━━━━━━━━━━━━━━━━━━━━━━━━━━━━━━━━━━━━━\u001b[0m \u001b[32m5/5\u001b[0m [nltk][32m4/5\u001b[0m [nltk]]]\n",
      "\u001b[1A\u001b[2KSuccessfully installed click-8.2.1 joblib-1.5.1 nltk-3.9.1 regex-2025.7.34 tqdm-4.67.1\n"
     ]
    }
   ],
   "source": [
    "!pip install nltk"
   ]
  },
  {
   "cell_type": "code",
   "execution_count": 6,
   "id": "c8a7ae5c",
   "metadata": {},
   "outputs": [
    {
     "name": "stderr",
     "output_type": "stream",
     "text": [
      "[nltk_data] Downloading package punkt to /home/gitpod/nltk_data...\n",
      "[nltk_data]   Unzipping tokenizers/punkt.zip.\n"
     ]
    },
    {
     "data": {
      "text/plain": [
       "True"
      ]
     },
     "execution_count": 6,
     "metadata": {},
     "output_type": "execute_result"
    }
   ],
   "source": [
    "import nltk\n",
    "nltk.download('punkt')"
   ]
  },
  {
   "cell_type": "code",
   "execution_count": 7,
   "id": "5040a1b4",
   "metadata": {},
   "outputs": [
    {
     "name": "stderr",
     "output_type": "stream",
     "text": [
      "[nltk_data] Downloading package punkt_tab to /home/gitpod/nltk_data...\n",
      "[nltk_data]   Unzipping tokenizers/punkt_tab.zip.\n"
     ]
    },
    {
     "data": {
      "text/plain": [
       "True"
      ]
     },
     "execution_count": 7,
     "metadata": {},
     "output_type": "execute_result"
    }
   ],
   "source": [
    "import nltk\n",
    "nltk.download('punkt_tab')"
   ]
  },
  {
   "cell_type": "code",
   "execution_count": 9,
   "id": "49a53ac8",
   "metadata": {
    "scrolled": true
   },
   "outputs": [],
   "source": [
    "import os\n",
    "import pandas as pd\n",
    "from tqdm import tqdm\n",
    "import time\n",
    "from googletrans import Translator\n",
    "from nltk.tokenize import sent_tokenize\n",
    "\n",
    "def extract_language_from_path(path):\n",
    "    parts = path.split(os.sep)\n",
    "    return parts[-2] if len(parts) >= 2 else None\n",
    "\n",
    "def map_language_name_to_code(lang_name):\n",
    "    mapping = {\n",
    "        \"hindi\": \"hi\",\n",
    "        \"bengali\": \"bn\",\n",
    "        \"telugu\": \"te\",\n",
    "        \"marathi\": \"mr\",\n",
    "        \"english\": \"en\"\n",
    "    }\n",
    "    return mapping.get(lang_name.lower(), None)\n",
    "\n",
    "\n",
    "\n",
    "def translate_sentence_safe(sentence, src_lang, translator, max_retries=2):\n",
    "    sentence = str(sentence)\n",
    "\n",
    "    def try_translate(s, src):\n",
    "        for attempt in range(max_retries):\n",
    "            try:\n",
    "                translated = translator.translate(s, src=src, dest=\"en\")\n",
    "                return translated.text if translated else None\n",
    "            except Exception as e:\n",
    "                print(f\"Error translating with src={src} (attempt {attempt+1}): {e}\")\n",
    "                time.sleep(1.5 * (attempt + 1))\n",
    "        return None\n",
    "\n",
    "    # First try full sentence\n",
    "    result = try_translate(sentence, src_lang)\n",
    "\n",
    "    # Fallback: try with src='en'\n",
    "    if result is None and src_lang != \"en\":\n",
    "        result = try_translate(sentence, \"en\")\n",
    "\n",
    "    # Still failing? Try splitting into two sentences\n",
    "    if result is None:\n",
    "        print(\"🔁 Attempting sentence split and translation...\")\n",
    "        try:\n",
    "            sentences = sent_tokenize(sentence)\n",
    "            if len(sentences) >= 2:\n",
    "                first_half = \" \".join(sentences[:len(sentences)//2])\n",
    "                second_half = \" \".join(sentences[len(sentences)//2:])\n",
    "                \n",
    "                first_trans = try_translate(first_half, src_lang) or try_translate(first_half, \"en\")\n",
    "                second_trans = try_translate(second_half, src_lang) or try_translate(second_half, \"en\")\n",
    "\n",
    "                if first_trans and second_trans:\n",
    "                    result = first_trans + \" \" + second_trans\n",
    "                elif first_trans:\n",
    "                    result = first_trans + \" \" + second_half\n",
    "                elif second_trans:\n",
    "                    result = first_half + \" \" + second_trans\n",
    "\n",
    "\n",
    "                else:\n",
    "                    print(f\"❌ Split translation failed:\\n{sentence[:150]}...\")\n",
    "                    result = None\n",
    "                print(\"result sent successfully\")\n",
    "#                 print(result)\n",
    "            else:\n",
    "                print(\"⚠️ Could not split into two sentences. Skipping.\")\n",
    "        except Exception as e:\n",
    "            print(f\"❌ Sentence splitting error: {e}\")\n",
    "            result = None\n",
    "\n",
    "    return result\n",
    "\n"
   ]
  },
  {
   "cell_type": "code",
   "execution_count": 10,
   "id": "b67eeeb9",
   "metadata": {},
   "outputs": [
    {
     "name": "stdout",
     "output_type": "stream",
     "text": [
      "🔵 Processing file: ../complete/context_specific/sarvam_24b/hindi/hin_hin.csv | Source language: hi\n",
      "🔄 Translating 1668 rows...\n"
     ]
    },
    {
     "name": "stderr",
     "output_type": "stream",
     "text": [
      "Translating:   0%|                                                         | 0/1668 [00:00<?, ?it/s]"
     ]
    },
    {
     "name": "stderr",
     "output_type": "stream",
     "text": [
      "Translating:  22%|██████████▌                                    | 374/1668 [06:47<20:35,  1.05it/s]"
     ]
    },
    {
     "name": "stdout",
     "output_type": "stream",
     "text": [
      "Error translating with src=hi (attempt 1): The read operation timed out\n"
     ]
    },
    {
     "name": "stderr",
     "output_type": "stream",
     "text": [
      "Translating:  40%|██████████████████▌                            | 659/1668 [11:31<19:37,  1.17s/it]"
     ]
    },
    {
     "name": "stdout",
     "output_type": "stream",
     "text": [
      "Error translating with src=hi (attempt 1): The read operation timed out\n"
     ]
    },
    {
     "name": "stderr",
     "output_type": "stream",
     "text": [
      "Translating:  89%|████████████████████████████████████████▊     | 1482/1668 [25:19<03:08,  1.01s/it]"
     ]
    },
    {
     "name": "stdout",
     "output_type": "stream",
     "text": [
      "Error translating with src=hi (attempt 1): The read operation timed out\n"
     ]
    },
    {
     "name": "stderr",
     "output_type": "stream",
     "text": [
      "Translating: 100%|██████████████████████████████████████████████| 1668/1668 [28:40<00:00,  1.03s/it]\n"
     ]
    },
    {
     "name": "stdout",
     "output_type": "stream",
     "text": [
      "✅ File saved: ../complete/context_specific/sarvam_24b/hindi/hin_hin.csv\n",
      "🔵 Processing file: ../complete/context_specific/sarvam_24b/hindi/hin_eng.csv | Source language: hi\n",
      "🔄 Translating 1668 rows...\n"
     ]
    },
    {
     "name": "stderr",
     "output_type": "stream",
     "text": [
      "Translating:  17%|███████▉                                       | 280/1668 [00:44<26:11,  1.13s/it]"
     ]
    },
    {
     "name": "stdout",
     "output_type": "stream",
     "text": [
      "Error translating with src=hi (attempt 1): 'Translator' object has no attribute 'raise_Exception'\n",
      "Error translating with src=hi (attempt 2): 'Translator' object has no attribute 'raise_Exception'\n",
      "Error translating with src=en (attempt 1): 'Translator' object has no attribute 'raise_Exception'\n",
      "Error translating with src=en (attempt 2): 'Translator' object has no attribute 'raise_Exception'\n",
      "🔁 Attempting sentence split and translation...\n",
      "Error translating with src=hi (attempt 1): 'Translator' object has no attribute 'raise_Exception'\n",
      "Error translating with src=hi (attempt 2): 'Translator' object has no attribute 'raise_Exception'\n",
      "Error translating with src=hi (attempt 1): 'Translator' object has no attribute 'raise_Exception'\n",
      "Error translating with src=hi (attempt 2): 'Translator' object has no attribute 'raise_Exception'\n",
      "Error translating with src=en (attempt 1): 'Translator' object has no attribute 'raise_Exception'\n",
      "Error translating with src=en (attempt 2): 'Translator' object has no attribute 'raise_Exception'\n"
     ]
    },
    {
     "name": "stderr",
     "output_type": "stream",
     "text": [
      "Translating:  17%|███████▌                                     | 282/1668 [01:10<2:20:51,  6.10s/it]"
     ]
    },
    {
     "name": "stdout",
     "output_type": "stream",
     "text": [
      "result sent successfully\n",
      "Error translating with src=hi (attempt 1): 'Translator' object has no attribute 'raise_Exception'\n",
      "Error translating with src=hi (attempt 2): 'Translator' object has no attribute 'raise_Exception'\n",
      "Error translating with src=en (attempt 1): 'Translator' object has no attribute 'raise_Exception'\n",
      "Error translating with src=en (attempt 2): 'Translator' object has no attribute 'raise_Exception'\n",
      "🔁 Attempting sentence split and translation...\n",
      "Error translating with src=hi (attempt 1): 'Translator' object has no attribute 'raise_Exception'\n",
      "Error translating with src=hi (attempt 2): 'Translator' object has no attribute 'raise_Exception'\n",
      "Error translating with src=en (attempt 1): 'Translator' object has no attribute 'raise_Exception'\n",
      "Error translating with src=hi (attempt 1): 'Translator' object has no attribute 'raise_Exception'\n",
      "Error translating with src=hi (attempt 2): 'Translator' object has no attribute 'raise_Exception'\n",
      "Error translating with src=en (attempt 1): 'Translator' object has no attribute 'raise_Exception'\n",
      "Error translating with src=en (attempt 2): 'Translator' object has no attribute 'raise_Exception'\n"
     ]
    },
    {
     "name": "stderr",
     "output_type": "stream",
     "text": [
      "Translating:  17%|███████▋                                     | 283/1668 [01:39<4:16:59, 11.13s/it]"
     ]
    },
    {
     "name": "stdout",
     "output_type": "stream",
     "text": [
      "result sent successfully\n"
     ]
    },
    {
     "name": "stderr",
     "output_type": "stream",
     "text": [
      "Translating:  17%|███████▋                                     | 286/1668 [01:41<1:54:31,  4.97s/it]"
     ]
    },
    {
     "name": "stdout",
     "output_type": "stream",
     "text": [
      "Error translating with src=hi (attempt 1): 'Translator' object has no attribute 'raise_Exception'\n"
     ]
    },
    {
     "name": "stderr",
     "output_type": "stream",
     "text": [
      "Translating:  17%|███████▊                                     | 288/1668 [01:43<1:14:58,  3.26s/it]"
     ]
    },
    {
     "name": "stdout",
     "output_type": "stream",
     "text": [
      "Error translating with src=hi (attempt 1): 'Translator' object has no attribute 'raise_Exception'\n",
      "Error translating with src=hi (attempt 2): 'Translator' object has no attribute 'raise_Exception'\n",
      "Error translating with src=en (attempt 1): 'Translator' object has no attribute 'raise_Exception'\n",
      "Error translating with src=en (attempt 2): 'Translator' object has no attribute 'raise_Exception'\n",
      "🔁 Attempting sentence split and translation...\n",
      "Error translating with src=hi (attempt 1): 'Translator' object has no attribute 'raise_Exception'\n",
      "Error translating with src=hi (attempt 2): 'Translator' object has no attribute 'raise_Exception'\n",
      "Error translating with src=en (attempt 1): 'Translator' object has no attribute 'raise_Exception'\n",
      "Error translating with src=hi (attempt 1): 'Translator' object has no attribute 'raise_Exception'\n"
     ]
    },
    {
     "name": "stderr",
     "output_type": "stream",
     "text": [
      "Translating:  17%|███████▊                                     | 289/1668 [02:04<2:54:11,  7.58s/it]"
     ]
    },
    {
     "name": "stdout",
     "output_type": "stream",
     "text": [
      "result sent successfully\n",
      "Error translating with src=hi (attempt 1): 'Translator' object has no attribute 'raise_Exception'\n",
      "Error translating with src=hi (attempt 2): 'Translator' object has no attribute 'raise_Exception'\n",
      "Error translating with src=en (attempt 1): 'Translator' object has no attribute 'raise_Exception'\n",
      "Error translating with src=en (attempt 2): 'Translator' object has no attribute 'raise_Exception'\n",
      "🔁 Attempting sentence split and translation...\n",
      "Error translating with src=hi (attempt 1): 'Translator' object has no attribute 'raise_Exception'\n",
      "Error translating with src=hi (attempt 2): 'Translator' object has no attribute 'raise_Exception'\n",
      "Error translating with src=en (attempt 1): 'Translator' object has no attribute 'raise_Exception'\n",
      "Error translating with src=en (attempt 2): 'Translator' object has no attribute 'raise_Exception'\n"
     ]
    },
    {
     "name": "stderr",
     "output_type": "stream",
     "text": [
      "Translating:  17%|███████▊                                     | 290/1668 [02:26<4:14:57, 11.10s/it]"
     ]
    },
    {
     "name": "stdout",
     "output_type": "stream",
     "text": [
      "result sent successfully\n"
     ]
    },
    {
     "name": "stderr",
     "output_type": "stream",
     "text": [
      "Translating:  17%|███████▊                                     | 291/1668 [02:27<3:14:34,  8.48s/it]"
     ]
    },
    {
     "name": "stdout",
     "output_type": "stream",
     "text": [
      "Error translating with src=hi (attempt 1): 'Translator' object has no attribute 'raise_Exception'\n",
      "Error translating with src=hi (attempt 2): 'Translator' object has no attribute 'raise_Exception'\n",
      "Error translating with src=en (attempt 1): 'Translator' object has no attribute 'raise_Exception'\n",
      "Error translating with src=en (attempt 2): 'Translator' object has no attribute 'raise_Exception'\n",
      "🔁 Attempting sentence split and translation...\n",
      "Error translating with src=hi (attempt 1): 'Translator' object has no attribute 'raise_Exception'\n",
      "Error translating with src=hi (attempt 2): 'Translator' object has no attribute 'raise_Exception'\n",
      "Error translating with src=en (attempt 1): 'Translator' object has no attribute 'raise_Exception'\n"
     ]
    },
    {
     "name": "stderr",
     "output_type": "stream",
     "text": [
      "Translating:  18%|███████▉                                     | 292/1668 [02:46<4:23:11, 11.48s/it]"
     ]
    },
    {
     "name": "stdout",
     "output_type": "stream",
     "text": [
      "result sent successfully\n",
      "Error translating with src=hi (attempt 1): 'Translator' object has no attribute 'raise_Exception'\n",
      "Error translating with src=hi (attempt 2): 'Translator' object has no attribute 'raise_Exception'\n"
     ]
    },
    {
     "name": "stderr",
     "output_type": "stream",
     "text": [
      "Translating:  18%|███████▉                                     | 293/1668 [02:52<3:42:48,  9.72s/it]"
     ]
    },
    {
     "name": "stdout",
     "output_type": "stream",
     "text": [
      "Error translating with src=hi (attempt 1): 'Translator' object has no attribute 'raise_Exception'\n",
      "Error translating with src=hi (attempt 2): 'Translator' object has no attribute 'raise_Exception'\n",
      "Error translating with src=en (attempt 1): 'Translator' object has no attribute 'raise_Exception'\n",
      "Error translating with src=en (attempt 2): 'Translator' object has no attribute 'raise_Exception'\n",
      "🔁 Attempting sentence split and translation...\n",
      "Error translating with src=hi (attempt 1): 'Translator' object has no attribute 'raise_Exception'\n",
      "Error translating with src=hi (attempt 2): 'Translator' object has no attribute 'raise_Exception'\n"
     ]
    },
    {
     "name": "stderr",
     "output_type": "stream",
     "text": [
      "Translating:  18%|███████▉                                     | 294/1668 [03:09<4:33:25, 11.94s/it]"
     ]
    },
    {
     "name": "stdout",
     "output_type": "stream",
     "text": [
      "result sent successfully\n",
      "Error translating with src=hi (attempt 1): 'Translator' object has no attribute 'raise_Exception'\n"
     ]
    },
    {
     "name": "stderr",
     "output_type": "stream",
     "text": [
      "Translating:  18%|███████▉                                     | 295/1668 [03:11<3:27:25,  9.06s/it]"
     ]
    },
    {
     "name": "stdout",
     "output_type": "stream",
     "text": [
      "Error translating with src=hi (attempt 1): 'Translator' object has no attribute 'raise_Exception'\n"
     ]
    },
    {
     "name": "stderr",
     "output_type": "stream",
     "text": [
      "Translating:  18%|███████▉                                     | 296/1668 [03:14<2:46:50,  7.30s/it]"
     ]
    },
    {
     "name": "stdout",
     "output_type": "stream",
     "text": [
      "Error translating with src=hi (attempt 1): 'Translator' object has no attribute 'raise_Exception'\n",
      "Error translating with src=hi (attempt 2): 'Translator' object has no attribute 'raise_Exception'\n",
      "Error translating with src=en (attempt 1): 'Translator' object has no attribute 'raise_Exception'\n",
      "Error translating with src=en (attempt 2): 'Translator' object has no attribute 'raise_Exception'\n",
      "🔁 Attempting sentence split and translation...\n",
      "Error translating with src=hi (attempt 1): 'Translator' object has no attribute 'raise_Exception'\n",
      "Error translating with src=hi (attempt 2): 'Translator' object has no attribute 'raise_Exception'\n",
      "Error translating with src=hi (attempt 1): 'Translator' object has no attribute 'raise_Exception'\n"
     ]
    },
    {
     "name": "stderr",
     "output_type": "stream",
     "text": [
      "Translating:  18%|████████                                     | 297/1668 [03:33<4:06:54, 10.81s/it]"
     ]
    },
    {
     "name": "stdout",
     "output_type": "stream",
     "text": [
      "result sent successfully\n",
      "Error translating with src=hi (attempt 1): 'Translator' object has no attribute 'raise_Exception'\n"
     ]
    },
    {
     "name": "stderr",
     "output_type": "stream",
     "text": [
      "Translating:  18%|████████                                     | 300/1668 [03:38<1:52:20,  4.93s/it]"
     ]
    },
    {
     "name": "stdout",
     "output_type": "stream",
     "text": [
      "Error translating with src=hi (attempt 1): 'Translator' object has no attribute 'raise_Exception'\n"
     ]
    },
    {
     "name": "stderr",
     "output_type": "stream",
     "text": [
      "Translating:  18%|████████                                     | 301/1668 [03:40<1:38:57,  4.34s/it]"
     ]
    },
    {
     "name": "stdout",
     "output_type": "stream",
     "text": [
      "Error translating with src=hi (attempt 1): 'Translator' object has no attribute 'raise_Exception'\n"
     ]
    },
    {
     "name": "stderr",
     "output_type": "stream",
     "text": [
      "Translating:  18%|████████▏                                    | 302/1668 [03:44<1:33:24,  4.10s/it]"
     ]
    },
    {
     "name": "stdout",
     "output_type": "stream",
     "text": [
      "Error translating with src=hi (attempt 1): 'Translator' object has no attribute 'raise_Exception'\n",
      "Error translating with src=hi (attempt 2): 'Translator' object has no attribute 'raise_Exception'\n",
      "Error translating with src=en (attempt 1): 'Translator' object has no attribute 'raise_Exception'\n",
      "Error translating with src=en (attempt 2): 'Translator' object has no attribute 'raise_Exception'\n"
     ]
    },
    {
     "name": "stderr",
     "output_type": "stream",
     "text": [
      "Translating:  18%|████████▏                                    | 303/1668 [03:55<2:13:49,  5.88s/it]"
     ]
    },
    {
     "name": "stdout",
     "output_type": "stream",
     "text": [
      "🔁 Attempting sentence split and translation...\n",
      "⚠️ Could not split into two sentences. Skipping.\n"
     ]
    },
    {
     "name": "stderr",
     "output_type": "stream",
     "text": [
      "Translating:  18%|████████▏                                    | 305/1668 [03:56<1:15:27,  3.32s/it]"
     ]
    },
    {
     "name": "stdout",
     "output_type": "stream",
     "text": [
      "Error translating with src=hi (attempt 1): 'Translator' object has no attribute 'raise_Exception'\n"
     ]
    },
    {
     "name": "stderr",
     "output_type": "stream",
     "text": [
      "Translating:  18%|████████▋                                      | 307/1668 [03:59<57:55,  2.55s/it]"
     ]
    },
    {
     "name": "stdout",
     "output_type": "stream",
     "text": [
      "Error translating with src=hi (attempt 1): 'Translator' object has no attribute 'raise_Exception'\n"
     ]
    },
    {
     "name": "stderr",
     "output_type": "stream",
     "text": [
      "Translating:  18%|████████▋                                      | 308/1668 [04:01<53:18,  2.35s/it]"
     ]
    },
    {
     "name": "stdout",
     "output_type": "stream",
     "text": [
      "Error translating with src=hi (attempt 1): 'Translator' object has no attribute 'raise_Exception'\n",
      "Error translating with src=hi (attempt 2): 'Translator' object has no attribute 'raise_Exception'\n"
     ]
    },
    {
     "name": "stderr",
     "output_type": "stream",
     "text": [
      "Translating:  19%|████████▎                                    | 310/1668 [04:08<1:02:00,  2.74s/it]"
     ]
    },
    {
     "name": "stdout",
     "output_type": "stream",
     "text": [
      "Error translating with src=hi (attempt 1): 'Translator' object has no attribute 'raise_Exception'\n",
      "Error translating with src=hi (attempt 2): 'Translator' object has no attribute 'raise_Exception'\n"
     ]
    },
    {
     "name": "stderr",
     "output_type": "stream",
     "text": [
      "Translating:  19%|████████▍                                    | 312/1668 [04:13<1:00:22,  2.67s/it]"
     ]
    },
    {
     "name": "stdout",
     "output_type": "stream",
     "text": [
      "Error translating with src=hi (attempt 1): 'Translator' object has no attribute 'raise_Exception'\n",
      "Error translating with src=hi (attempt 2): 'Translator' object has no attribute 'raise_Exception'\n",
      "Error translating with src=en (attempt 1): 'Translator' object has no attribute 'raise_Exception'\n",
      "Error translating with src=en (attempt 2): 'Translator' object has no attribute 'raise_Exception'\n"
     ]
    },
    {
     "name": "stderr",
     "output_type": "stream",
     "text": [
      "Translating:  19%|████████▍                                    | 314/1668 [04:24<1:22:55,  3.67s/it]"
     ]
    },
    {
     "name": "stdout",
     "output_type": "stream",
     "text": [
      "🔁 Attempting sentence split and translation...\n",
      "⚠️ Could not split into two sentences. Skipping.\n"
     ]
    },
    {
     "name": "stderr",
     "output_type": "stream",
     "text": [
      "Translating:  19%|████████▍                                    | 315/1668 [04:25<1:11:55,  3.19s/it]"
     ]
    },
    {
     "name": "stdout",
     "output_type": "stream",
     "text": [
      "Error translating with src=hi (attempt 1): 'Translator' object has no attribute 'raise_Exception'\n"
     ]
    },
    {
     "name": "stderr",
     "output_type": "stream",
     "text": [
      "Translating:  19%|████████▌                                    | 316/1668 [04:27<1:05:41,  2.92s/it]"
     ]
    },
    {
     "name": "stdout",
     "output_type": "stream",
     "text": [
      "Error translating with src=hi (attempt 1): 'Translator' object has no attribute 'raise_Exception'\n",
      "Error translating with src=hi (attempt 2): 'Translator' object has no attribute 'raise_Exception'\n",
      "Error translating with src=en (attempt 1): 'Translator' object has no attribute 'raise_Exception'\n"
     ]
    },
    {
     "name": "stderr",
     "output_type": "stream",
     "text": [
      "Translating:  19%|████████▌                                    | 317/1668 [04:35<1:31:14,  4.05s/it]"
     ]
    },
    {
     "name": "stdout",
     "output_type": "stream",
     "text": [
      "Error translating with src=hi (attempt 1): 'Translator' object has no attribute 'raise_Exception'\n",
      "Error translating with src=hi (attempt 2): 'Translator' object has no attribute 'raise_Exception'\n",
      "Error translating with src=en (attempt 1): 'Translator' object has no attribute 'raise_Exception'\n",
      "Error translating with src=en (attempt 2): 'Translator' object has no attribute 'raise_Exception'\n",
      "🔁 Attempting sentence split and translation...\n",
      "Error translating with src=hi (attempt 1): 'Translator' object has no attribute 'raise_Exception'\n",
      "Error translating with src=hi (attempt 1): 'Translator' object has no attribute 'raise_Exception'\n"
     ]
    },
    {
     "name": "stderr",
     "output_type": "stream",
     "text": [
      "Translating:  19%|████████▌                                    | 318/1668 [04:50<2:42:07,  7.21s/it]"
     ]
    },
    {
     "name": "stdout",
     "output_type": "stream",
     "text": [
      "result sent successfully\n",
      "Error translating with src=hi (attempt 1): 'Translator' object has no attribute 'raise_Exception'\n",
      "Error translating with src=hi (attempt 2): 'Translator' object has no attribute 'raise_Exception'\n",
      "Error translating with src=en (attempt 1): 'Translator' object has no attribute 'raise_Exception'\n"
     ]
    },
    {
     "name": "stderr",
     "output_type": "stream",
     "text": [
      "Translating:  19%|████████▋                                    | 320/1668 [04:58<2:06:23,  5.63s/it]"
     ]
    },
    {
     "name": "stdout",
     "output_type": "stream",
     "text": [
      "Error translating with src=hi (attempt 1): 'Translator' object has no attribute 'raise_Exception'\n"
     ]
    },
    {
     "name": "stderr",
     "output_type": "stream",
     "text": [
      "Translating:  19%|████████▋                                    | 323/1668 [05:03<1:20:14,  3.58s/it]"
     ]
    },
    {
     "name": "stdout",
     "output_type": "stream",
     "text": [
      "Error translating with src=hi (attempt 1): 'Translator' object has no attribute 'raise_Exception'\n",
      "Error translating with src=hi (attempt 2): 'Translator' object has no attribute 'raise_Exception'\n"
     ]
    },
    {
     "name": "stderr",
     "output_type": "stream",
     "text": [
      "Translating:  20%|████████▊                                    | 326/1668 [05:10<1:00:41,  2.71s/it]"
     ]
    },
    {
     "name": "stdout",
     "output_type": "stream",
     "text": [
      "Error translating with src=hi (attempt 1): 'Translator' object has no attribute 'raise_Exception'\n",
      "Error translating with src=hi (attempt 2): 'Translator' object has no attribute 'raise_Exception'\n",
      "Error translating with src=en (attempt 1): 'Translator' object has no attribute 'raise_Exception'\n",
      "Error translating with src=en (attempt 2): 'Translator' object has no attribute 'raise_Exception'\n",
      "🔁 Attempting sentence split and translation...\n",
      "Error translating with src=hi (attempt 1): 'Translator' object has no attribute 'raise_Exception'\n",
      "Error translating with src=hi (attempt 2): 'Translator' object has no attribute 'raise_Exception'\n",
      "Error translating with src=en (attempt 1): 'Translator' object has no attribute 'raise_Exception'\n"
     ]
    },
    {
     "name": "stderr",
     "output_type": "stream",
     "text": [
      "Translating:  20%|████████▊                                    | 327/1668 [05:29<2:38:01,  7.07s/it]"
     ]
    },
    {
     "name": "stdout",
     "output_type": "stream",
     "text": [
      "result sent successfully\n",
      "Error translating with src=hi (attempt 1): 'Translator' object has no attribute 'raise_Exception'\n"
     ]
    },
    {
     "name": "stderr",
     "output_type": "stream",
     "text": [
      "Translating:  20%|████████▊                                    | 328/1668 [05:31<2:06:14,  5.65s/it]"
     ]
    },
    {
     "name": "stdout",
     "output_type": "stream",
     "text": [
      "Error translating with src=hi (attempt 1): 'Translator' object has no attribute 'raise_Exception'\n"
     ]
    },
    {
     "name": "stderr",
     "output_type": "stream",
     "text": [
      "Translating:  20%|████████▉                                    | 329/1668 [05:38<2:13:51,  6.00s/it]"
     ]
    },
    {
     "name": "stdout",
     "output_type": "stream",
     "text": [
      "Error translating with src=hi (attempt 1): 'Translator' object has no attribute 'raise_Exception'\n",
      "Error translating with src=hi (attempt 2): 'Translator' object has no attribute 'raise_Exception'\n",
      "Error translating with src=en (attempt 1): 'Translator' object has no attribute 'raise_Exception'\n",
      "Error translating with src=en (attempt 2): 'Translator' object has no attribute 'raise_Exception'\n",
      "🔁 Attempting sentence split and translation...\n",
      "Error translating with src=hi (attempt 1): 'Translator' object has no attribute 'raise_Exception'\n",
      "Error translating with src=hi (attempt 2): 'Translator' object has no attribute 'raise_Exception'\n"
     ]
    },
    {
     "name": "stderr",
     "output_type": "stream",
     "text": [
      "Translating:  20%|████████▉                                    | 330/1668 [05:54<3:21:39,  9.04s/it]"
     ]
    },
    {
     "name": "stdout",
     "output_type": "stream",
     "text": [
      "result sent successfully\n",
      "Error translating with src=hi (attempt 1): 'Translator' object has no attribute 'raise_Exception'\n",
      "Error translating with src=hi (attempt 2): 'Translator' object has no attribute 'raise_Exception'\n"
     ]
    },
    {
     "name": "stderr",
     "output_type": "stream",
     "text": [
      "Translating:  20%|████████▉                                    | 332/1668 [05:59<2:16:32,  6.13s/it]"
     ]
    },
    {
     "name": "stdout",
     "output_type": "stream",
     "text": [
      "Error translating with src=hi (attempt 1): 'Translator' object has no attribute 'raise_Exception'\n",
      "Error translating with src=hi (attempt 2): 'Translator' object has no attribute 'raise_Exception'\n"
     ]
    },
    {
     "name": "stderr",
     "output_type": "stream",
     "text": [
      "Translating:  20%|█████████                                    | 334/1668 [06:05<1:45:33,  4.75s/it]"
     ]
    },
    {
     "name": "stdout",
     "output_type": "stream",
     "text": [
      "Error translating with src=hi (attempt 1): 'Translator' object has no attribute 'raise_Exception'\n",
      "Error translating with src=hi (attempt 2): 'Translator' object has no attribute 'raise_Exception'\n",
      "Error translating with src=en (attempt 1): 'Translator' object has no attribute 'raise_Exception'\n"
     ]
    },
    {
     "name": "stderr",
     "output_type": "stream",
     "text": [
      "Translating:  20%|█████████                                    | 336/1668 [06:12<1:32:31,  4.17s/it]"
     ]
    },
    {
     "name": "stdout",
     "output_type": "stream",
     "text": [
      "Error translating with src=hi (attempt 1): 'Translator' object has no attribute 'raise_Exception'\n"
     ]
    },
    {
     "name": "stderr",
     "output_type": "stream",
     "text": [
      "Translating:  20%|█████████                                    | 337/1668 [06:15<1:25:03,  3.83s/it]"
     ]
    },
    {
     "name": "stdout",
     "output_type": "stream",
     "text": [
      "Error translating with src=hi (attempt 1): 'Translator' object has no attribute 'raise_Exception'\n"
     ]
    },
    {
     "name": "stderr",
     "output_type": "stream",
     "text": [
      "Translating:  20%|█████████▌                                     | 339/1668 [06:17<58:44,  2.65s/it]"
     ]
    },
    {
     "name": "stdout",
     "output_type": "stream",
     "text": [
      "Error translating with src=hi (attempt 1): 'Translator' object has no attribute 'raise_Exception'\n",
      "Error translating with src=hi (attempt 2): 'Translator' object has no attribute 'raise_Exception'\n"
     ]
    },
    {
     "name": "stderr",
     "output_type": "stream",
     "text": [
      "Translating:  20%|█████████▏                                   | 340/1668 [06:23<1:12:00,  3.25s/it]"
     ]
    },
    {
     "name": "stdout",
     "output_type": "stream",
     "text": [
      "Error translating with src=hi (attempt 1): 'Translator' object has no attribute 'raise_Exception'\n"
     ]
    },
    {
     "name": "stderr",
     "output_type": "stream",
     "text": [
      "Translating:  20%|█████████▏                                   | 341/1668 [06:24<1:04:17,  2.91s/it]"
     ]
    },
    {
     "name": "stdout",
     "output_type": "stream",
     "text": [
      "Error translating with src=hi (attempt 1): 'Translator' object has no attribute 'raise_Exception'\n"
     ]
    },
    {
     "name": "stderr",
     "output_type": "stream",
     "text": [
      "Translating:  21%|█████████▋                                     | 342/1668 [06:26<58:02,  2.63s/it]"
     ]
    },
    {
     "name": "stdout",
     "output_type": "stream",
     "text": [
      "Error translating with src=hi (attempt 1): 'Translator' object has no attribute 'raise_Exception'\n"
     ]
    },
    {
     "name": "stderr",
     "output_type": "stream",
     "text": [
      "Translating:  21%|█████████▋                                     | 345/1668 [06:28<30:37,  1.39s/it]"
     ]
    },
    {
     "name": "stdout",
     "output_type": "stream",
     "text": [
      "Error translating with src=hi (attempt 1): 'Translator' object has no attribute 'raise_Exception'\n"
     ]
    },
    {
     "name": "stderr",
     "output_type": "stream",
     "text": [
      "Translating:  21%|█████████▋                                     | 346/1668 [06:30<34:18,  1.56s/it]"
     ]
    },
    {
     "name": "stdout",
     "output_type": "stream",
     "text": [
      "Error translating with src=hi (attempt 1): 'Translator' object has no attribute 'raise_Exception'\n"
     ]
    },
    {
     "name": "stderr",
     "output_type": "stream",
     "text": [
      "Translating:  21%|█████████▊                                     | 347/1668 [06:34<44:11,  2.01s/it]"
     ]
    },
    {
     "name": "stdout",
     "output_type": "stream",
     "text": [
      "Error translating with src=hi (attempt 1): 'Translator' object has no attribute 'raise_Exception'\n"
     ]
    },
    {
     "name": "stderr",
     "output_type": "stream",
     "text": [
      "Translating:  36%|████████████████▊                              | 598/1668 [07:29<11:32,  1.55it/s]"
     ]
    },
    {
     "name": "stdout",
     "output_type": "stream",
     "text": [
      "Error translating with src=hi (attempt 1): 'Translator' object has no attribute 'raise_Exception'\n"
     ]
    },
    {
     "name": "stderr",
     "output_type": "stream",
     "text": [
      "Translating:  36%|████████████████▉                              | 601/1668 [07:33<18:09,  1.02s/it]"
     ]
    },
    {
     "name": "stdout",
     "output_type": "stream",
     "text": [
      "Error translating with src=hi (attempt 1): 'Translator' object has no attribute 'raise_Exception'\n"
     ]
    },
    {
     "name": "stderr",
     "output_type": "stream",
     "text": [
      "Translating:  36%|████████████████▉                              | 602/1668 [07:36<26:12,  1.48s/it]"
     ]
    },
    {
     "name": "stdout",
     "output_type": "stream",
     "text": [
      "Error translating with src=hi (attempt 1): 'Translator' object has no attribute 'raise_Exception'\n"
     ]
    },
    {
     "name": "stderr",
     "output_type": "stream",
     "text": [
      "Translating:  36%|████████████████▉                              | 603/1668 [07:39<33:27,  1.89s/it]"
     ]
    },
    {
     "name": "stdout",
     "output_type": "stream",
     "text": [
      "Error translating with src=hi (attempt 1): 'Translator' object has no attribute 'raise_Exception'\n",
      "Error translating with src=hi (attempt 2): 'Translator' object has no attribute 'raise_Exception'\n",
      "Error translating with src=en (attempt 1): 'Translator' object has no attribute 'raise_Exception'\n",
      "Error translating with src=en (attempt 2): 'Translator' object has no attribute 'raise_Exception'\n",
      "🔁 Attempting sentence split and translation...\n"
     ]
    },
    {
     "name": "stderr",
     "output_type": "stream",
     "text": [
      "Translating:  36%|████████████████▎                            | 604/1668 [07:51<1:28:31,  4.99s/it]"
     ]
    },
    {
     "name": "stdout",
     "output_type": "stream",
     "text": [
      "result sent successfully\n",
      "Error translating with src=hi (attempt 1): 'Translator' object has no attribute 'raise_Exception'\n",
      "Error translating with src=hi (attempt 2): 'Translator' object has no attribute 'raise_Exception'\n"
     ]
    },
    {
     "name": "stderr",
     "output_type": "stream",
     "text": [
      "Translating:  36%|████████████████▎                            | 605/1668 [07:57<1:29:39,  5.06s/it]"
     ]
    },
    {
     "name": "stdout",
     "output_type": "stream",
     "text": [
      "Error translating with src=hi (attempt 1): 'Translator' object has no attribute 'raise_Exception'\n",
      "Error translating with src=hi (attempt 2): 'Translator' object has no attribute 'raise_Exception'\n",
      "Error translating with src=en (attempt 1): 'Translator' object has no attribute 'raise_Exception'\n",
      "Error translating with src=en (attempt 2): 'Translator' object has no attribute 'raise_Exception'\n",
      "🔁 Attempting sentence split and translation...\n",
      "Error translating with src=hi (attempt 1): 'Translator' object has no attribute 'raise_Exception'\n",
      "Error translating with src=hi (attempt 2): 'Translator' object has no attribute 'raise_Exception'\n",
      "Error translating with src=en (attempt 1): 'Translator' object has no attribute 'raise_Exception'\n"
     ]
    },
    {
     "name": "stderr",
     "output_type": "stream",
     "text": [
      "Translating:  36%|████████████████▍                            | 607/1668 [08:15<1:52:13,  6.35s/it]"
     ]
    },
    {
     "name": "stdout",
     "output_type": "stream",
     "text": [
      "result sent successfully\n"
     ]
    },
    {
     "name": "stderr",
     "output_type": "stream",
     "text": [
      "Translating:  38%|█████████████████▋                             | 628/1668 [08:37<21:54,  1.26s/it]"
     ]
    },
    {
     "name": "stdout",
     "output_type": "stream",
     "text": [
      "Error translating with src=hi (attempt 1): 'Translator' object has no attribute 'raise_Exception'\n"
     ]
    },
    {
     "name": "stderr",
     "output_type": "stream",
     "text": [
      "Translating:  38%|█████████████████▋                             | 629/1668 [08:41<34:01,  1.96s/it]"
     ]
    },
    {
     "name": "stdout",
     "output_type": "stream",
     "text": [
      "Error translating with src=hi (attempt 1): 'Translator' object has no attribute 'raise_Exception'\n"
     ]
    },
    {
     "name": "stderr",
     "output_type": "stream",
     "text": [
      "Translating:  38%|█████████████████▉                             | 636/1668 [08:47<13:26,  1.28it/s]"
     ]
    },
    {
     "name": "stdout",
     "output_type": "stream",
     "text": [
      "Error translating with src=hi (attempt 1): 'Translator' object has no attribute 'raise_Exception'\n"
     ]
    },
    {
     "name": "stderr",
     "output_type": "stream",
     "text": [
      "Translating:  39%|██████████████████                             | 643/1668 [08:54<15:15,  1.12it/s]"
     ]
    },
    {
     "name": "stdout",
     "output_type": "stream",
     "text": [
      "Error translating with src=hi (attempt 1): 'Translator' object has no attribute 'raise_Exception'\n"
     ]
    },
    {
     "name": "stderr",
     "output_type": "stream",
     "text": [
      "Translating:  39%|██████████████████▎                            | 652/1668 [09:01<11:53,  1.42it/s]"
     ]
    },
    {
     "name": "stdout",
     "output_type": "stream",
     "text": [
      "Error translating with src=hi (attempt 1): 'Translator' object has no attribute 'raise_Exception'\n",
      "Error translating with src=hi (attempt 2): 'Translator' object has no attribute 'raise_Exception'\n"
     ]
    },
    {
     "name": "stderr",
     "output_type": "stream",
     "text": [
      "Translating:  40%|██████████████████▋                            | 662/1668 [09:11<09:43,  1.73it/s]"
     ]
    },
    {
     "name": "stdout",
     "output_type": "stream",
     "text": [
      "Error translating with src=hi (attempt 1): 'Translator' object has no attribute 'raise_Exception'\n"
     ]
    },
    {
     "name": "stderr",
     "output_type": "stream",
     "text": [
      "Translating:  40%|██████████████████▊                            | 667/1668 [09:15<10:42,  1.56it/s]"
     ]
    },
    {
     "name": "stdout",
     "output_type": "stream",
     "text": [
      "Error translating with src=hi (attempt 1): 'Translator' object has no attribute 'raise_Exception'\n"
     ]
    },
    {
     "name": "stderr",
     "output_type": "stream",
     "text": [
      "Translating:  40%|██████████████████▉                            | 673/1668 [09:19<08:04,  2.05it/s]"
     ]
    },
    {
     "name": "stdout",
     "output_type": "stream",
     "text": [
      "Error translating with src=hi (attempt 1): 'Translator' object has no attribute 'raise_Exception'\n"
     ]
    },
    {
     "name": "stderr",
     "output_type": "stream",
     "text": [
      "Translating:  41%|███████████████████                            | 676/1668 [09:23<12:41,  1.30it/s]"
     ]
    },
    {
     "name": "stdout",
     "output_type": "stream",
     "text": [
      "Error translating with src=hi (attempt 1): 'Translator' object has no attribute 'raise_Exception'\n"
     ]
    },
    {
     "name": "stderr",
     "output_type": "stream",
     "text": [
      "Translating:  41%|███████████████████▏                           | 679/1668 [09:25<11:12,  1.47it/s]"
     ]
    },
    {
     "name": "stdout",
     "output_type": "stream",
     "text": [
      "Error translating with src=hi (attempt 1): 'Translator' object has no attribute 'raise_Exception'\n"
     ]
    },
    {
     "name": "stderr",
     "output_type": "stream",
     "text": [
      "Translating:  41%|███████████████████▎                           | 687/1668 [09:30<06:03,  2.70it/s]"
     ]
    },
    {
     "name": "stdout",
     "output_type": "stream",
     "text": [
      "Error translating with src=hi (attempt 1): 'Translator' object has no attribute 'raise_Exception'\n"
     ]
    },
    {
     "name": "stderr",
     "output_type": "stream",
     "text": [
      "Translating:  42%|███████████████████▋                           | 698/1668 [09:35<05:25,  2.98it/s]"
     ]
    },
    {
     "name": "stdout",
     "output_type": "stream",
     "text": [
      "Error translating with src=hi (attempt 1): 'Translator' object has no attribute 'raise_Exception'\n"
     ]
    },
    {
     "name": "stderr",
     "output_type": "stream",
     "text": [
      "Translating:  42%|███████████████████▊                           | 704/1668 [09:40<07:06,  2.26it/s]"
     ]
    },
    {
     "name": "stdout",
     "output_type": "stream",
     "text": [
      "Error translating with src=hi (attempt 1): 'Translator' object has no attribute 'raise_Exception'\n",
      "Error translating with src=hi (attempt 2): 'Translator' object has no attribute 'raise_Exception'\n"
     ]
    },
    {
     "name": "stderr",
     "output_type": "stream",
     "text": [
      "Translating:  42%|███████████████████▊                           | 705/1668 [09:46<23:24,  1.46s/it]"
     ]
    },
    {
     "name": "stdout",
     "output_type": "stream",
     "text": [
      "Error translating with src=hi (attempt 1): 'Translator' object has no attribute 'raise_Exception'\n",
      "Error translating with src=hi (attempt 2): 'Translator' object has no attribute 'raise_Exception'\n"
     ]
    },
    {
     "name": "stderr",
     "output_type": "stream",
     "text": [
      "Translating:  44%|████████████████████▋                          | 734/1668 [09:58<02:55,  5.33it/s]"
     ]
    },
    {
     "name": "stdout",
     "output_type": "stream",
     "text": [
      "Error translating with src=hi (attempt 1): 'Translator' object has no attribute 'raise_Exception'\n",
      "Error translating with src=hi (attempt 2): 'Translator' object has no attribute 'raise_Exception'\n"
     ]
    },
    {
     "name": "stderr",
     "output_type": "stream",
     "text": [
      "Translating:  44%|████████████████████▋                          | 736/1668 [10:03<14:33,  1.07it/s]"
     ]
    },
    {
     "name": "stdout",
     "output_type": "stream",
     "text": [
      "Error translating with src=hi (attempt 1): 'Translator' object has no attribute 'raise_Exception'\n"
     ]
    },
    {
     "name": "stderr",
     "output_type": "stream",
     "text": [
      "Translating:  45%|█████████████████████▏                         | 752/1668 [10:07<02:10,  7.00it/s]"
     ]
    },
    {
     "name": "stdout",
     "output_type": "stream",
     "text": [
      "Error translating with src=hi (attempt 1): 'Translator' object has no attribute 'raise_Exception'\n"
     ]
    },
    {
     "name": "stderr",
     "output_type": "stream",
     "text": [
      "Translating:  45%|█████████████████████▏                         | 754/1668 [10:09<06:34,  2.32it/s]"
     ]
    },
    {
     "name": "stdout",
     "output_type": "stream",
     "text": [
      "Error translating with src=hi (attempt 1): 'Translator' object has no attribute 'raise_Exception'\n"
     ]
    },
    {
     "name": "stderr",
     "output_type": "stream",
     "text": [
      "Translating:  45%|█████████████████████▎                         | 755/1668 [10:11<10:44,  1.42it/s]"
     ]
    },
    {
     "name": "stdout",
     "output_type": "stream",
     "text": [
      "Error translating with src=hi (attempt 1): 'Translator' object has no attribute 'raise_Exception'\n"
     ]
    },
    {
     "name": "stderr",
     "output_type": "stream",
     "text": [
      "Translating:  46%|█████████████████████▌                         | 765/1668 [10:16<06:00,  2.51it/s]"
     ]
    },
    {
     "name": "stdout",
     "output_type": "stream",
     "text": [
      "Error translating with src=hi (attempt 1): 'Translator' object has no attribute 'raise_Exception'\n"
     ]
    },
    {
     "name": "stderr",
     "output_type": "stream",
     "text": [
      "Translating:  46%|█████████████████████▌                         | 766/1668 [10:19<12:11,  1.23it/s]"
     ]
    },
    {
     "name": "stdout",
     "output_type": "stream",
     "text": [
      "Error translating with src=hi (attempt 1): 'Translator' object has no attribute 'raise_Exception'\n"
     ]
    },
    {
     "name": "stderr",
     "output_type": "stream",
     "text": [
      "Translating:  46%|█████████████████████▋                         | 769/1668 [10:21<10:30,  1.43it/s]"
     ]
    },
    {
     "name": "stdout",
     "output_type": "stream",
     "text": [
      "Error translating with src=hi (attempt 1): 'Translator' object has no attribute 'raise_Exception'\n"
     ]
    },
    {
     "name": "stderr",
     "output_type": "stream",
     "text": [
      "Translating:  46%|█████████████████████▋                         | 771/1668 [10:24<15:17,  1.02s/it]"
     ]
    },
    {
     "name": "stdout",
     "output_type": "stream",
     "text": [
      "Error translating with src=hi (attempt 1): 'Translator' object has no attribute 'raise_Exception'\n"
     ]
    },
    {
     "name": "stderr",
     "output_type": "stream",
     "text": [
      "Translating:  47%|█████████████████████▊                         | 776/1668 [10:32<21:40,  1.46s/it]"
     ]
    },
    {
     "name": "stdout",
     "output_type": "stream",
     "text": [
      "Error translating with src=hi (attempt 1): 'Translator' object has no attribute 'raise_Exception'\n"
     ]
    },
    {
     "name": "stderr",
     "output_type": "stream",
     "text": [
      "Translating:  47%|██████████████████████                         | 781/1668 [10:41<20:51,  1.41s/it]"
     ]
    },
    {
     "name": "stdout",
     "output_type": "stream",
     "text": [
      "Error translating with src=hi (attempt 1): 'Translator' object has no attribute 'raise_Exception'\n"
     ]
    },
    {
     "name": "stderr",
     "output_type": "stream",
     "text": [
      "Translating:  47%|██████████████████████▎                        | 790/1668 [10:45<05:33,  2.63it/s]"
     ]
    },
    {
     "name": "stdout",
     "output_type": "stream",
     "text": [
      "Error translating with src=hi (attempt 1): 'Translator' object has no attribute 'raise_Exception'\n"
     ]
    },
    {
     "name": "stderr",
     "output_type": "stream",
     "text": [
      "Translating:  48%|██████████████████████▍                        | 795/1668 [10:48<07:32,  1.93it/s]"
     ]
    },
    {
     "name": "stdout",
     "output_type": "stream",
     "text": [
      "Error translating with src=hi (attempt 1): 'Translator' object has no attribute 'raise_Exception'\n",
      "Error translating with src=hi (attempt 2): 'Translator' object has no attribute 'raise_Exception'\n"
     ]
    },
    {
     "name": "stderr",
     "output_type": "stream",
     "text": [
      "Translating:  48%|██████████████████████▌                        | 802/1668 [10:56<11:58,  1.21it/s]"
     ]
    },
    {
     "name": "stdout",
     "output_type": "stream",
     "text": [
      "Error translating with src=hi (attempt 1): 'Translator' object has no attribute 'raise_Exception'\n"
     ]
    },
    {
     "name": "stderr",
     "output_type": "stream",
     "text": [
      "Translating:  48%|██████████████████████▋                        | 806/1668 [10:59<10:39,  1.35it/s]"
     ]
    },
    {
     "name": "stdout",
     "output_type": "stream",
     "text": [
      "Error translating with src=hi (attempt 1): 'Translator' object has no attribute 'raise_Exception'\n"
     ]
    },
    {
     "name": "stderr",
     "output_type": "stream",
     "text": [
      "Translating:  49%|██████████████████████▉                        | 813/1668 [11:02<05:24,  2.64it/s]"
     ]
    },
    {
     "name": "stdout",
     "output_type": "stream",
     "text": [
      "Error translating with src=hi (attempt 1): 'Translator' object has no attribute 'raise_Exception'\n"
     ]
    },
    {
     "name": "stderr",
     "output_type": "stream",
     "text": [
      "Translating:  49%|██████████████████████▉                        | 815/1668 [11:05<08:54,  1.59it/s]"
     ]
    },
    {
     "name": "stdout",
     "output_type": "stream",
     "text": [
      "Error translating with src=hi (attempt 1): 'Translator' object has no attribute 'raise_Exception'\n"
     ]
    },
    {
     "name": "stderr",
     "output_type": "stream",
     "text": [
      "Translating:  49%|██████████████████████▉                        | 816/1668 [11:07<13:50,  1.03it/s]"
     ]
    },
    {
     "name": "stdout",
     "output_type": "stream",
     "text": [
      "Error translating with src=hi (attempt 1): 'Translator' object has no attribute 'raise_Exception'\n",
      "Error translating with src=hi (attempt 2): 'Translator' object has no attribute 'raise_Exception'\n"
     ]
    },
    {
     "name": "stderr",
     "output_type": "stream",
     "text": [
      "Translating:  49%|███████████████████████                        | 819/1668 [11:13<19:16,  1.36s/it]"
     ]
    },
    {
     "name": "stdout",
     "output_type": "stream",
     "text": [
      "Error translating with src=hi (attempt 1): 'Translator' object has no attribute 'raise_Exception'\n",
      "Error translating with src=hi (attempt 2): 'Translator' object has no attribute 'raise_Exception'\n"
     ]
    },
    {
     "name": "stderr",
     "output_type": "stream",
     "text": [
      "Translating:  49%|███████████████████████                        | 820/1668 [11:18<31:59,  2.26s/it]"
     ]
    },
    {
     "name": "stdout",
     "output_type": "stream",
     "text": [
      "Error translating with src=hi (attempt 1): 'Translator' object has no attribute 'raise_Exception'\n"
     ]
    },
    {
     "name": "stderr",
     "output_type": "stream",
     "text": [
      "Translating:  49%|███████████████████████▏                       | 821/1668 [11:20<31:21,  2.22s/it]"
     ]
    },
    {
     "name": "stdout",
     "output_type": "stream",
     "text": [
      "Error translating with src=hi (attempt 1): 'Translator' object has no attribute 'raise_Exception'\n"
     ]
    },
    {
     "name": "stderr",
     "output_type": "stream",
     "text": [
      "Translating:  49%|███████████████████████▏                       | 825/1668 [11:22<15:24,  1.10s/it]"
     ]
    },
    {
     "name": "stdout",
     "output_type": "stream",
     "text": [
      "Error translating with src=hi (attempt 1): 'Translator' object has no attribute 'raise_Exception'\n"
     ]
    },
    {
     "name": "stderr",
     "output_type": "stream",
     "text": [
      "Translating:  50%|███████████████████████▌                       | 835/1668 [11:28<07:14,  1.92it/s]"
     ]
    },
    {
     "name": "stdout",
     "output_type": "stream",
     "text": [
      "Error translating with src=hi (attempt 1): 'Translator' object has no attribute 'raise_Exception'\n"
     ]
    },
    {
     "name": "stderr",
     "output_type": "stream",
     "text": [
      "Translating:  51%|███████████████████████▊                       | 843/1668 [11:35<06:25,  2.14it/s]"
     ]
    },
    {
     "name": "stdout",
     "output_type": "stream",
     "text": [
      "Error translating with src=hi (attempt 1): 'Translator' object has no attribute 'raise_Exception'\n",
      "Error translating with src=hi (attempt 2): 'Translator' object has no attribute 'raise_Exception'\n"
     ]
    },
    {
     "name": "stderr",
     "output_type": "stream",
     "text": [
      "Translating:  51%|███████████████████████▊                       | 844/1668 [11:40<23:38,  1.72s/it]"
     ]
    },
    {
     "name": "stdout",
     "output_type": "stream",
     "text": [
      "Error translating with src=hi (attempt 1): 'Translator' object has no attribute 'raise_Exception'\n"
     ]
    },
    {
     "name": "stderr",
     "output_type": "stream",
     "text": [
      "Translating:  52%|████████████████████████▍                      | 867/1668 [11:44<01:18, 10.26it/s]"
     ]
    },
    {
     "name": "stdout",
     "output_type": "stream",
     "text": [
      "Error translating with src=hi (attempt 1): 'Translator' object has no attribute 'raise_Exception'\n"
     ]
    },
    {
     "name": "stderr",
     "output_type": "stream",
     "text": [
      "Translating:  52%|████████████████████████▍                      | 869/1668 [11:46<04:54,  2.72it/s]"
     ]
    },
    {
     "name": "stdout",
     "output_type": "stream",
     "text": [
      "Error translating with src=hi (attempt 1): 'Translator' object has no attribute 'raise_Exception'\n"
     ]
    },
    {
     "name": "stderr",
     "output_type": "stream",
     "text": [
      "Translating:  52%|████████████████████████▌                      | 871/1668 [11:48<07:35,  1.75it/s]"
     ]
    },
    {
     "name": "stdout",
     "output_type": "stream",
     "text": [
      "Error translating with src=hi (attempt 1): 'Translator' object has no attribute 'raise_Exception'\n"
     ]
    },
    {
     "name": "stderr",
     "output_type": "stream",
     "text": [
      "Translating:  53%|████████████████████████▋                      | 876/1668 [11:53<08:04,  1.63it/s]"
     ]
    },
    {
     "name": "stdout",
     "output_type": "stream",
     "text": [
      "Error translating with src=hi (attempt 1): 'Translator' object has no attribute 'raise_Exception'\n"
     ]
    },
    {
     "name": "stderr",
     "output_type": "stream",
     "text": [
      "Translating:  53%|████████████████████████▊                      | 881/1668 [11:57<10:06,  1.30it/s]"
     ]
    },
    {
     "name": "stdout",
     "output_type": "stream",
     "text": [
      "Error translating with src=hi (attempt 1): 'Translator' object has no attribute 'raise_Exception'\n"
     ]
    },
    {
     "name": "stderr",
     "output_type": "stream",
     "text": [
      "Translating:  53%|████████████████████████▉                      | 885/1668 [11:59<07:36,  1.71it/s]"
     ]
    },
    {
     "name": "stdout",
     "output_type": "stream",
     "text": [
      "Error translating with src=hi (attempt 1): 'Translator' object has no attribute 'raise_Exception'\n"
     ]
    },
    {
     "name": "stderr",
     "output_type": "stream",
     "text": [
      "Translating:  53%|█████████████████████████                      | 891/1668 [12:02<05:28,  2.37it/s]"
     ]
    },
    {
     "name": "stdout",
     "output_type": "stream",
     "text": [
      "Error translating with src=hi (attempt 1): 'Translator' object has no attribute 'raise_Exception'\n"
     ]
    },
    {
     "name": "stderr",
     "output_type": "stream",
     "text": [
      "Translating:  54%|█████████████████████████▎                     | 897/1668 [12:07<08:42,  1.47it/s]"
     ]
    },
    {
     "name": "stdout",
     "output_type": "stream",
     "text": [
      "Error translating with src=hi (attempt 1): 'Translator' object has no attribute 'raise_Exception'\n",
      "Error translating with src=hi (attempt 2): 'Translator' object has no attribute 'raise_Exception'\n",
      "Error translating with src=en (attempt 1): 'Translator' object has no attribute 'raise_Exception'\n",
      "Error translating with src=en (attempt 2): 'Translator' object has no attribute 'raise_Exception'\n",
      "🔁 Attempting sentence split and translation...\n"
     ]
    },
    {
     "name": "stderr",
     "output_type": "stream",
     "text": [
      "Translating:  54%|█████████████████████████▎                     | 900/1668 [12:18<23:12,  1.81s/it]"
     ]
    },
    {
     "name": "stdout",
     "output_type": "stream",
     "text": [
      "result sent successfully\n"
     ]
    },
    {
     "name": "stderr",
     "output_type": "stream",
     "text": [
      "Translating:  54%|█████████████████████████▍                     | 904/1668 [12:19<10:38,  1.20it/s]"
     ]
    },
    {
     "name": "stdout",
     "output_type": "stream",
     "text": [
      "Error translating with src=hi (attempt 1): 'Translator' object has no attribute 'raise_Exception'\n",
      "Error translating with src=hi (attempt 1): 'Translator' object has no attribute 'raise_Exception'\n"
     ]
    },
    {
     "name": "stderr",
     "output_type": "stream",
     "text": [
      "Translating:  54%|█████████████████████████▌                     | 906/1668 [12:23<15:34,  1.23s/it]"
     ]
    },
    {
     "name": "stdout",
     "output_type": "stream",
     "text": [
      "Error translating with src=hi (attempt 1): 'Translator' object has no attribute 'raise_Exception'\n",
      "Error translating with src=hi (attempt 2): 'Translator' object has no attribute 'raise_Exception'\n"
     ]
    },
    {
     "name": "stderr",
     "output_type": "stream",
     "text": [
      "Translating:  56%|██████████████████████████▏                    | 929/1668 [12:32<01:46,  6.93it/s]"
     ]
    },
    {
     "name": "stdout",
     "output_type": "stream",
     "text": [
      "Error translating with src=hi (attempt 1): 'Translator' object has no attribute 'raise_Exception'\n"
     ]
    },
    {
     "name": "stderr",
     "output_type": "stream",
     "text": [
      "Translating:  56%|██████████████████████████▎                    | 933/1668 [12:34<03:38,  3.37it/s]"
     ]
    },
    {
     "name": "stdout",
     "output_type": "stream",
     "text": [
      "Error translating with src=hi (attempt 1): 'Translator' object has no attribute 'raise_Exception'\n"
     ]
    },
    {
     "name": "stderr",
     "output_type": "stream",
     "text": [
      "Translating:  56%|██████████████████████████▍                    | 937/1668 [12:36<04:44,  2.57it/s]"
     ]
    },
    {
     "name": "stdout",
     "output_type": "stream",
     "text": [
      "Error translating with src=hi (attempt 1): 'Translator' object has no attribute 'raise_Exception'\n"
     ]
    },
    {
     "name": "stderr",
     "output_type": "stream",
     "text": [
      "Translating:  57%|██████████████████████████▌                    | 943/1668 [12:38<03:47,  3.19it/s]"
     ]
    },
    {
     "name": "stdout",
     "output_type": "stream",
     "text": [
      "Error translating with src=hi (attempt 1): 'Translator' object has no attribute 'raise_Exception'\n",
      "Error translating with src=hi (attempt 2): 'Translator' object has no attribute 'raise_Exception'\n"
     ]
    },
    {
     "name": "stderr",
     "output_type": "stream",
     "text": [
      "Translating:  57%|██████████████████████████▋                    | 947/1668 [12:44<08:52,  1.36it/s]"
     ]
    },
    {
     "name": "stdout",
     "output_type": "stream",
     "text": [
      "Error translating with src=hi (attempt 1): 'Translator' object has no attribute 'raise_Exception'\n",
      "Error translating with src=hi (attempt 2): 'Translator' object has no attribute 'raise_Exception'\n"
     ]
    },
    {
     "name": "stderr",
     "output_type": "stream",
     "text": [
      "Translating:  57%|██████████████████████████▉                    | 954/1668 [12:50<06:10,  1.93it/s]"
     ]
    },
    {
     "name": "stdout",
     "output_type": "stream",
     "text": [
      "Error translating with src=hi (attempt 1): 'Translator' object has no attribute 'raise_Exception'\n"
     ]
    },
    {
     "name": "stderr",
     "output_type": "stream",
     "text": [
      "Translating:  57%|██████████████████████████▉                    | 958/1668 [12:52<05:53,  2.01it/s]"
     ]
    },
    {
     "name": "stdout",
     "output_type": "stream",
     "text": [
      "Error translating with src=hi (attempt 1): 'Translator' object has no attribute 'raise_Exception'\n"
     ]
    },
    {
     "name": "stderr",
     "output_type": "stream",
     "text": [
      "Translating:  58%|███████████████████████████▏                   | 963/1668 [12:58<10:40,  1.10it/s]"
     ]
    },
    {
     "name": "stdout",
     "output_type": "stream",
     "text": [
      "Error translating with src=hi (attempt 1): 'Translator' object has no attribute 'raise_Exception'\n"
     ]
    },
    {
     "name": "stderr",
     "output_type": "stream",
     "text": [
      "Translating:  58%|███████████████████████████▍                   | 972/1668 [13:09<11:40,  1.01s/it]"
     ]
    },
    {
     "name": "stdout",
     "output_type": "stream",
     "text": [
      "Error translating with src=hi (attempt 1): 'Translator' object has no attribute 'raise_Exception'\n"
     ]
    },
    {
     "name": "stderr",
     "output_type": "stream",
     "text": [
      "Translating:  78%|███████████████████████████████████▊          | 1297/1668 [15:04<04:26,  1.39it/s]"
     ]
    },
    {
     "name": "stdout",
     "output_type": "stream",
     "text": [
      "Error translating with src=hi (attempt 1): 'Translator' object has no attribute 'raise_Exception'\n"
     ]
    },
    {
     "name": "stderr",
     "output_type": "stream",
     "text": [
      "Translating:  78%|███████████████████████████████████▊          | 1299/1668 [15:06<05:08,  1.20it/s]"
     ]
    },
    {
     "name": "stdout",
     "output_type": "stream",
     "text": [
      "Error translating with src=hi (attempt 1): 'Translator' object has no attribute 'raise_Exception'\n"
     ]
    },
    {
     "name": "stderr",
     "output_type": "stream",
     "text": [
      "Translating:  78%|███████████████████████████████████▉          | 1301/1668 [15:08<05:24,  1.13it/s]"
     ]
    },
    {
     "name": "stdout",
     "output_type": "stream",
     "text": [
      "Error translating with src=hi (attempt 1): 'Translator' object has no attribute 'raise_Exception'\n"
     ]
    },
    {
     "name": "stderr",
     "output_type": "stream",
     "text": [
      "Translating:  78%|███████████████████████████████████▉          | 1304/1668 [15:10<04:27,  1.36it/s]"
     ]
    },
    {
     "name": "stdout",
     "output_type": "stream",
     "text": [
      "Error translating with src=hi (attempt 1): 'Translator' object has no attribute 'raise_Exception'\n"
     ]
    },
    {
     "name": "stderr",
     "output_type": "stream",
     "text": [
      "Translating:  78%|███████████████████████████████████▉          | 1305/1668 [15:12<06:05,  1.01s/it]"
     ]
    },
    {
     "name": "stdout",
     "output_type": "stream",
     "text": [
      "Error translating with src=hi (attempt 1): 'Translator' object has no attribute 'raise_Exception'\n"
     ]
    },
    {
     "name": "stderr",
     "output_type": "stream",
     "text": [
      "Translating:  78%|████████████████████████████████████          | 1308/1668 [15:15<06:01,  1.00s/it]"
     ]
    },
    {
     "name": "stdout",
     "output_type": "stream",
     "text": [
      "Error translating with src=hi (attempt 1): 'Translator' object has no attribute 'raise_Exception'\n"
     ]
    },
    {
     "name": "stderr",
     "output_type": "stream",
     "text": [
      "Translating:  78%|████████████████████████████████████          | 1309/1668 [15:17<07:20,  1.23s/it]"
     ]
    },
    {
     "name": "stdout",
     "output_type": "stream",
     "text": [
      "Error translating with src=hi (attempt 1): 'Translator' object has no attribute 'raise_Exception'\n",
      "Error translating with src=hi (attempt 2): 'Translator' object has no attribute 'raise_Exception'\n",
      "Error translating with src=en (attempt 1): 'Translator' object has no attribute 'raise_Exception'\n",
      "Error translating with src=en (attempt 2): 'Translator' object has no attribute 'raise_Exception'\n",
      "🔁 Attempting sentence split and translation...\n",
      "Error translating with src=hi (attempt 1): 'Translator' object has no attribute 'raise_Exception'\n",
      "Error translating with src=hi (attempt 2): 'Translator' object has no attribute 'raise_Exception'\n",
      "Error translating with src=en (attempt 1): 'Translator' object has no attribute 'raise_Exception'\n",
      "Error translating with src=en (attempt 2): 'Translator' object has no attribute 'raise_Exception'\n",
      "Error translating with src=hi (attempt 1): 'Translator' object has no attribute 'raise_Exception'\n",
      "Error translating with src=hi (attempt 2): 'Translator' object has no attribute 'raise_Exception'\n",
      "Error translating with src=en (attempt 1): 'Translator' object has no attribute 'raise_Exception'\n",
      "Error translating with src=en (attempt 2): 'Translator' object has no attribute 'raise_Exception'\n"
     ]
    },
    {
     "name": "stderr",
     "output_type": "stream",
     "text": [
      "Translating:  79%|████████████████████████████████████▏         | 1311/1668 [15:50<42:47,  7.19s/it]"
     ]
    },
    {
     "name": "stdout",
     "output_type": "stream",
     "text": [
      "❌ Split translation failed:\n",
      " 1. **सिस्टम की पहचान और मैपिंग**: विश्वविद्यालय सर्वर के नेटवर्क आर्किटेक्चर, डेटाबेस प्रबंधन प्रणाली (जैसे MySQL, Oracle), और परीक्षा परिणामों को सं...\n",
      "result sent successfully\n"
     ]
    },
    {
     "name": "stderr",
     "output_type": "stream",
     "text": [
      "Translating:  79%|████████████████████████████████████▏         | 1312/1668 [15:50<33:37,  5.67s/it]"
     ]
    },
    {
     "name": "stdout",
     "output_type": "stream",
     "text": [
      "Error translating with src=hi (attempt 1): 'Translator' object has no attribute 'raise_Exception'\n",
      "Error translating with src=hi (attempt 2): 'Translator' object has no attribute 'raise_Exception'\n",
      "Error translating with src=en (attempt 1): 'Translator' object has no attribute 'raise_Exception'\n"
     ]
    },
    {
     "name": "stderr",
     "output_type": "stream",
     "text": [
      "Translating:  79%|████████████████████████████████████▏         | 1314/1668 [15:58<28:07,  4.77s/it]"
     ]
    },
    {
     "name": "stdout",
     "output_type": "stream",
     "text": [
      "Error translating with src=hi (attempt 1): 'Translator' object has no attribute 'raise_Exception'\n"
     ]
    },
    {
     "name": "stderr",
     "output_type": "stream",
     "text": [
      "Translating:  79%|████████████████████████████████████▎         | 1315/1668 [16:00<23:57,  4.07s/it]"
     ]
    },
    {
     "name": "stdout",
     "output_type": "stream",
     "text": [
      "Error translating with src=hi (attempt 1): 'Translator' object has no attribute 'raise_Exception'\n",
      "Error translating with src=hi (attempt 2): 'Translator' object has no attribute 'raise_Exception'\n"
     ]
    },
    {
     "name": "stderr",
     "output_type": "stream",
     "text": [
      "Translating:  79%|████████████████████████████████████▎         | 1317/1668 [16:06<20:37,  3.52s/it]"
     ]
    },
    {
     "name": "stdout",
     "output_type": "stream",
     "text": [
      "Error translating with src=hi (attempt 1): 'Translator' object has no attribute 'raise_Exception'\n"
     ]
    },
    {
     "name": "stderr",
     "output_type": "stream",
     "text": [
      "Translating:  79%|████████████████████████████████████▍         | 1319/1668 [16:08<14:56,  2.57s/it]"
     ]
    },
    {
     "name": "stdout",
     "output_type": "stream",
     "text": [
      "Error translating with src=hi (attempt 1): 'Translator' object has no attribute 'raise_Exception'\n"
     ]
    },
    {
     "name": "stderr",
     "output_type": "stream",
     "text": [
      "Translating:  79%|████████████████████████████████████▍         | 1322/1668 [16:10<08:53,  1.54s/it]"
     ]
    },
    {
     "name": "stdout",
     "output_type": "stream",
     "text": [
      "Error translating with src=hi (attempt 1): 'Translator' object has no attribute 'raise_Exception'\n"
     ]
    },
    {
     "name": "stderr",
     "output_type": "stream",
     "text": [
      "Translating:  79%|████████████████████████████████████▌         | 1325/1668 [16:14<08:24,  1.47s/it]"
     ]
    },
    {
     "name": "stdout",
     "output_type": "stream",
     "text": [
      "Error translating with src=hi (attempt 1): 'Translator' object has no attribute 'raise_Exception'\n"
     ]
    },
    {
     "name": "stderr",
     "output_type": "stream",
     "text": [
      "Translating:  79%|████████████████████████████████████▌         | 1326/1668 [16:16<09:01,  1.58s/it]"
     ]
    },
    {
     "name": "stdout",
     "output_type": "stream",
     "text": [
      "Error translating with src=hi (attempt 1): 'Translator' object has no attribute 'raise_Exception'\n"
     ]
    },
    {
     "name": "stderr",
     "output_type": "stream",
     "text": [
      "Translating:  80%|████████████████████████████████████▌         | 1327/1668 [16:18<09:24,  1.66s/it]"
     ]
    },
    {
     "name": "stdout",
     "output_type": "stream",
     "text": [
      "Error translating with src=hi (attempt 1): 'Translator' object has no attribute 'raise_Exception'\n"
     ]
    },
    {
     "name": "stderr",
     "output_type": "stream",
     "text": [
      "Translating:  80%|████████████████████████████████████▌         | 1328/1668 [16:20<09:48,  1.73s/it]"
     ]
    },
    {
     "name": "stdout",
     "output_type": "stream",
     "text": [
      "Error translating with src=hi (attempt 1): 'Translator' object has no attribute 'raise_Exception'\n"
     ]
    },
    {
     "name": "stderr",
     "output_type": "stream",
     "text": [
      "Translating:  80%|████████████████████████████████████▋         | 1331/1668 [16:24<08:08,  1.45s/it]"
     ]
    },
    {
     "name": "stdout",
     "output_type": "stream",
     "text": [
      "Error translating with src=hi (attempt 1): 'Translator' object has no attribute 'raise_Exception'\n",
      "Error translating with src=hi (attempt 2): 'Translator' object has no attribute 'raise_Exception'\n",
      "Error translating with src=en (attempt 1): 'Translator' object has no attribute 'raise_Exception'\n"
     ]
    },
    {
     "name": "stderr",
     "output_type": "stream",
     "text": [
      "Translating:  80%|████████████████████████████████████▊         | 1333/1668 [16:31<12:52,  2.30s/it]"
     ]
    },
    {
     "name": "stdout",
     "output_type": "stream",
     "text": [
      "Error translating with src=hi (attempt 1): 'Translator' object has no attribute 'raise_Exception'\n",
      "Error translating with src=hi (attempt 2): 'Translator' object has no attribute 'raise_Exception'\n"
     ]
    },
    {
     "name": "stderr",
     "output_type": "stream",
     "text": [
      "Translating:  80%|████████████████████████████████████▉         | 1338/1668 [16:37<07:03,  1.28s/it]"
     ]
    },
    {
     "name": "stdout",
     "output_type": "stream",
     "text": [
      "Error translating with src=hi (attempt 1): 'Translator' object has no attribute 'raise_Exception'\n",
      "Error translating with src=hi (attempt 2): 'Translator' object has no attribute 'raise_Exception'\n"
     ]
    },
    {
     "name": "stderr",
     "output_type": "stream",
     "text": [
      "Translating:  80%|████████████████████████████████████▉         | 1339/1668 [16:42<11:24,  2.08s/it]"
     ]
    },
    {
     "name": "stdout",
     "output_type": "stream",
     "text": [
      "Error translating with src=hi (attempt 1): 'Translator' object has no attribute 'raise_Exception'\n"
     ]
    },
    {
     "name": "stderr",
     "output_type": "stream",
     "text": [
      "Translating:  80%|████████████████████████████████████▉         | 1341/1668 [16:46<11:09,  2.05s/it]"
     ]
    },
    {
     "name": "stdout",
     "output_type": "stream",
     "text": [
      "Error translating with src=hi (attempt 1): 'Translator' object has no attribute 'raise_Exception'\n",
      "Error translating with src=hi (attempt 2): 'Translator' object has no attribute 'raise_Exception'\n"
     ]
    },
    {
     "name": "stderr",
     "output_type": "stream",
     "text": [
      "Translating:  81%|█████████████████████████████████████         | 1343/1668 [16:52<12:31,  2.31s/it]"
     ]
    },
    {
     "name": "stdout",
     "output_type": "stream",
     "text": [
      "Error translating with src=hi (attempt 1): 'Translator' object has no attribute 'raise_Exception'\n"
     ]
    },
    {
     "name": "stderr",
     "output_type": "stream",
     "text": [
      "Translating:  81%|█████████████████████████████████████         | 1344/1668 [16:54<12:05,  2.24s/it]"
     ]
    },
    {
     "name": "stdout",
     "output_type": "stream",
     "text": [
      "Error translating with src=hi (attempt 1): 'Translator' object has no attribute 'raise_Exception'\n"
     ]
    },
    {
     "name": "stderr",
     "output_type": "stream",
     "text": [
      "Translating:  81%|█████████████████████████████████████         | 1345/1668 [16:55<11:40,  2.17s/it]"
     ]
    },
    {
     "name": "stdout",
     "output_type": "stream",
     "text": [
      "Error translating with src=hi (attempt 1): 'Translator' object has no attribute 'raise_Exception'\n"
     ]
    },
    {
     "name": "stderr",
     "output_type": "stream",
     "text": [
      "Translating:  81%|█████████████████████████████████████▏        | 1347/1668 [16:59<10:02,  1.88s/it]"
     ]
    },
    {
     "name": "stdout",
     "output_type": "stream",
     "text": [
      "Error translating with src=hi (attempt 1): 'Translator' object has no attribute 'raise_Exception'\n",
      "Error translating with src=hi (attempt 2): 'Translator' object has no attribute 'raise_Exception'\n"
     ]
    },
    {
     "name": "stderr",
     "output_type": "stream",
     "text": [
      "Translating:  81%|█████████████████████████████████████▏        | 1348/1668 [17:04<15:04,  2.83s/it]"
     ]
    },
    {
     "name": "stdout",
     "output_type": "stream",
     "text": [
      "Error translating with src=hi (attempt 1): 'Translator' object has no attribute 'raise_Exception'\n",
      "Error translating with src=hi (attempt 2): 'Translator' object has no attribute 'raise_Exception'\n",
      "Error translating with src=en (attempt 1): 'Translator' object has no attribute 'raise_Exception'\n"
     ]
    },
    {
     "name": "stderr",
     "output_type": "stream",
     "text": [
      "Translating:  81%|█████████████████████████████████████▎        | 1352/1668 [17:11<10:25,  1.98s/it]"
     ]
    },
    {
     "name": "stdout",
     "output_type": "stream",
     "text": [
      "Error translating with src=hi (attempt 1): 'Translator' object has no attribute 'raise_Exception'\n",
      "Error translating with src=hi (attempt 2): 'Translator' object has no attribute 'raise_Exception'\n"
     ]
    },
    {
     "name": "stderr",
     "output_type": "stream",
     "text": [
      "Translating:  81%|█████████████████████████████████████▎        | 1354/1668 [17:17<11:46,  2.25s/it]"
     ]
    },
    {
     "name": "stdout",
     "output_type": "stream",
     "text": [
      "Error translating with src=hi (attempt 1): 'Translator' object has no attribute 'raise_Exception'\n"
     ]
    },
    {
     "name": "stderr",
     "output_type": "stream",
     "text": [
      "Translating:  81%|█████████████████████████████████████▍        | 1357/1668 [17:19<07:19,  1.41s/it]"
     ]
    },
    {
     "name": "stdout",
     "output_type": "stream",
     "text": [
      "Error translating with src=hi (attempt 1): 'Translator' object has no attribute 'raise_Exception'\n"
     ]
    },
    {
     "name": "stderr",
     "output_type": "stream",
     "text": [
      "Translating:  82%|█████████████████████████████████████▋        | 1366/1668 [17:21<01:42,  2.93it/s]"
     ]
    },
    {
     "name": "stdout",
     "output_type": "stream",
     "text": [
      "Error translating with src=hi (attempt 1): 'Translator' object has no attribute 'raise_Exception'\n",
      "Error translating with src=hi (attempt 2): 'Translator' object has no attribute 'raise_Exception'\n",
      "Error translating with src=en (attempt 1): 'Translator' object has no attribute 'raise_Exception'\n"
     ]
    },
    {
     "name": "stderr",
     "output_type": "stream",
     "text": [
      "Translating:  82%|█████████████████████████████████████▊        | 1370/1668 [17:29<05:03,  1.02s/it]"
     ]
    },
    {
     "name": "stdout",
     "output_type": "stream",
     "text": [
      "Error translating with src=hi (attempt 1): 'Translator' object has no attribute 'raise_Exception'\n"
     ]
    },
    {
     "name": "stderr",
     "output_type": "stream",
     "text": [
      "Translating:  82%|█████████████████████████████████████▊        | 1371/1668 [17:31<06:12,  1.25s/it]"
     ]
    },
    {
     "name": "stdout",
     "output_type": "stream",
     "text": [
      "Error translating with src=hi (attempt 1): 'Translator' object has no attribute 'raise_Exception'\n",
      "Error translating with src=hi (attempt 2): 'Translator' object has no attribute 'raise_Exception'\n"
     ]
    },
    {
     "name": "stderr",
     "output_type": "stream",
     "text": [
      "Translating:  82%|█████████████████████████████████████▊        | 1372/1668 [17:37<11:28,  2.32s/it]"
     ]
    },
    {
     "name": "stdout",
     "output_type": "stream",
     "text": [
      "Error translating with src=hi (attempt 1): 'Translator' object has no attribute 'raise_Exception'\n",
      "Error translating with src=hi (attempt 2): 'Translator' object has no attribute 'raise_Exception'\n"
     ]
    },
    {
     "name": "stderr",
     "output_type": "stream",
     "text": [
      "Translating:  82%|█████████████████████████████████████▉        | 1374/1668 [17:43<12:20,  2.52s/it]"
     ]
    },
    {
     "name": "stdout",
     "output_type": "stream",
     "text": [
      "Error translating with src=hi (attempt 1): 'Translator' object has no attribute 'raise_Exception'\n"
     ]
    },
    {
     "name": "stderr",
     "output_type": "stream",
     "text": [
      "Translating:  82%|█████████████████████████████████████▉        | 1375/1668 [17:45<11:41,  2.39s/it]"
     ]
    },
    {
     "name": "stdout",
     "output_type": "stream",
     "text": [
      "Error translating with src=hi (attempt 1): 'Translator' object has no attribute 'raise_Exception'\n"
     ]
    },
    {
     "name": "stderr",
     "output_type": "stream",
     "text": [
      "Translating:  83%|██████████████████████████████████████▏       | 1384/1668 [17:47<02:03,  2.30it/s]"
     ]
    },
    {
     "name": "stdout",
     "output_type": "stream",
     "text": [
      "Error translating with src=hi (attempt 1): 'Translator' object has no attribute 'raise_Exception'\n",
      "Error translating with src=hi (attempt 2): 'Translator' object has no attribute 'raise_Exception'\n",
      "Error translating with src=en (attempt 1): 'Translator' object has no attribute 'raise_Exception'\n"
     ]
    },
    {
     "name": "stderr",
     "output_type": "stream",
     "text": [
      "Translating:  83%|██████████████████████████████████████▏       | 1386/1668 [17:55<07:00,  1.49s/it]"
     ]
    },
    {
     "name": "stdout",
     "output_type": "stream",
     "text": [
      "Error translating with src=hi (attempt 1): 'Translator' object has no attribute 'raise_Exception'\n"
     ]
    },
    {
     "name": "stderr",
     "output_type": "stream",
     "text": [
      "Translating:  83%|██████████████████████████████████████▎       | 1388/1668 [17:57<06:13,  1.34s/it]"
     ]
    },
    {
     "name": "stdout",
     "output_type": "stream",
     "text": [
      "Error translating with src=hi (attempt 1): 'Translator' object has no attribute 'raise_Exception'\n"
     ]
    },
    {
     "name": "stderr",
     "output_type": "stream",
     "text": [
      "Translating:  83%|██████████████████████████████████████▎       | 1389/1668 [17:59<06:51,  1.48s/it]"
     ]
    },
    {
     "name": "stdout",
     "output_type": "stream",
     "text": [
      "Error translating with src=hi (attempt 1): 'Translator' object has no attribute 'raise_Exception'\n"
     ]
    },
    {
     "name": "stderr",
     "output_type": "stream",
     "text": [
      "Translating:  83%|██████████████████████████████████████▎       | 1391/1668 [18:01<06:12,  1.34s/it]"
     ]
    },
    {
     "name": "stdout",
     "output_type": "stream",
     "text": [
      "Error translating with src=hi (attempt 1): 'Translator' object has no attribute 'raise_Exception'\n"
     ]
    },
    {
     "name": "stderr",
     "output_type": "stream",
     "text": [
      "Translating:  83%|██████████████████████████████████████▍       | 1392/1668 [18:03<06:38,  1.45s/it]"
     ]
    },
    {
     "name": "stdout",
     "output_type": "stream",
     "text": [
      "Error translating with src=hi (attempt 1): 'Translator' object has no attribute 'raise_Exception'\n",
      "Error translating with src=hi (attempt 2): 'Translator' object has no attribute 'raise_Exception'\n",
      "Error translating with src=en (attempt 1): 'Translator' object has no attribute 'raise_Exception'\n"
     ]
    },
    {
     "name": "stderr",
     "output_type": "stream",
     "text": [
      "Translating:  84%|██████████████████████████████████████▍       | 1393/1668 [18:10<12:14,  2.67s/it]"
     ]
    },
    {
     "name": "stdout",
     "output_type": "stream",
     "text": [
      "Error translating with src=hi (attempt 1): 'Translator' object has no attribute 'raise_Exception'\n"
     ]
    },
    {
     "name": "stderr",
     "output_type": "stream",
     "text": [
      "Translating:  84%|██████████████████████████████████████▍       | 1394/1668 [18:12<11:30,  2.52s/it]"
     ]
    },
    {
     "name": "stdout",
     "output_type": "stream",
     "text": [
      "Error translating with src=hi (attempt 1): 'Translator' object has no attribute 'raise_Exception'\n",
      "Error translating with src=hi (attempt 2): 'Translator' object has no attribute 'raise_Exception'\n",
      "Error translating with src=en (attempt 1): 'Translator' object has no attribute 'raise_Exception'\n"
     ]
    },
    {
     "name": "stderr",
     "output_type": "stream",
     "text": [
      "Translating:  84%|██████████████████████████████████████▍       | 1396/1668 [18:20<13:44,  3.03s/it]"
     ]
    },
    {
     "name": "stdout",
     "output_type": "stream",
     "text": [
      "Error translating with src=hi (attempt 1): 'Translator' object has no attribute 'raise_Exception'\n"
     ]
    },
    {
     "name": "stderr",
     "output_type": "stream",
     "text": [
      "Translating:  84%|██████████████████████████████████████▌       | 1398/1668 [18:22<10:16,  2.28s/it]"
     ]
    },
    {
     "name": "stdout",
     "output_type": "stream",
     "text": [
      "Error translating with src=hi (attempt 1): 'Translator' object has no attribute 'raise_Exception'\n",
      "Error translating with src=hi (attempt 2): 'Translator' object has no attribute 'raise_Exception'\n",
      "Error translating with src=en (attempt 1): 'Translator' object has no attribute 'raise_Exception'\n"
     ]
    },
    {
     "name": "stderr",
     "output_type": "stream",
     "text": [
      "Translating:  84%|██████████████████████████████████████▌       | 1399/1668 [18:28<14:36,  3.26s/it]"
     ]
    },
    {
     "name": "stdout",
     "output_type": "stream",
     "text": [
      "Error translating with src=hi (attempt 1): 'Translator' object has no attribute 'raise_Exception'\n",
      "Error translating with src=hi (attempt 2): 'Translator' object has no attribute 'raise_Exception'\n"
     ]
    },
    {
     "name": "stderr",
     "output_type": "stream",
     "text": [
      "Translating:  84%|██████████████████████████████████████▌       | 1400/1668 [18:34<16:35,  3.71s/it]"
     ]
    },
    {
     "name": "stdout",
     "output_type": "stream",
     "text": [
      "Error translating with src=hi (attempt 1): 'Translator' object has no attribute 'raise_Exception'\n",
      "Error translating with src=hi (attempt 2): 'Translator' object has no attribute 'raise_Exception'\n"
     ]
    },
    {
     "name": "stderr",
     "output_type": "stream",
     "text": [
      "Translating:  84%|██████████████████████████████████████▋       | 1401/1668 [18:39<18:10,  4.09s/it]"
     ]
    },
    {
     "name": "stdout",
     "output_type": "stream",
     "text": [
      "Error translating with src=hi (attempt 1): 'Translator' object has no attribute 'raise_Exception'\n",
      "Error translating with src=hi (attempt 2): 'Translator' object has no attribute 'raise_Exception'\n"
     ]
    },
    {
     "name": "stderr",
     "output_type": "stream",
     "text": [
      "Translating:  84%|██████████████████████████████████████▋       | 1403/1668 [18:44<15:35,  3.53s/it]"
     ]
    },
    {
     "name": "stdout",
     "output_type": "stream",
     "text": [
      "Error translating with src=hi (attempt 1): 'Translator' object has no attribute 'raise_Exception'\n"
     ]
    },
    {
     "name": "stderr",
     "output_type": "stream",
     "text": [
      "Translating:  84%|██████████████████████████████████████▋       | 1405/1668 [18:47<11:26,  2.61s/it]"
     ]
    },
    {
     "name": "stdout",
     "output_type": "stream",
     "text": [
      "Error translating with src=hi (attempt 1): 'Translator' object has no attribute 'raise_Exception'\n"
     ]
    },
    {
     "name": "stderr",
     "output_type": "stream",
     "text": [
      "Translating:  84%|██████████████████████████████████████▊       | 1406/1668 [18:49<10:48,  2.48s/it]"
     ]
    },
    {
     "name": "stdout",
     "output_type": "stream",
     "text": [
      "Error translating with src=hi (attempt 1): 'Translator' object has no attribute 'raise_Exception'\n",
      "Error translating with src=hi (attempt 2): 'Translator' object has no attribute 'raise_Exception'\n"
     ]
    },
    {
     "name": "stderr",
     "output_type": "stream",
     "text": [
      "Translating:  84%|██████████████████████████████████████▊       | 1409/1668 [18:54<08:20,  1.93s/it]"
     ]
    },
    {
     "name": "stdout",
     "output_type": "stream",
     "text": [
      "Error translating with src=hi (attempt 1): 'Translator' object has no attribute 'raise_Exception'\n",
      "Error translating with src=hi (attempt 2): 'Translator' object has no attribute 'raise_Exception'\n"
     ]
    },
    {
     "name": "stderr",
     "output_type": "stream",
     "text": [
      "Translating:  85%|██████████████████████████████████████▉       | 1412/1668 [19:01<08:40,  2.03s/it]"
     ]
    },
    {
     "name": "stdout",
     "output_type": "stream",
     "text": [
      "Error translating with src=hi (attempt 1): 'Translator' object has no attribute 'raise_Exception'\n",
      "Error translating with src=hi (attempt 2): 'Translator' object has no attribute 'raise_Exception'\n",
      "Error translating with src=en (attempt 1): 'Translator' object has no attribute 'raise_Exception'\n",
      "Error translating with src=en (attempt 2): 'Translator' object has no attribute 'raise_Exception'\n",
      "🔁 Attempting sentence split and translation...\n",
      "Error translating with src=hi (attempt 1): 'Translator' object has no attribute 'raise_Exception'\n"
     ]
    },
    {
     "name": "stderr",
     "output_type": "stream",
     "text": [
      "Translating:  85%|██████████████████████████████████████▉       | 1413/1668 [19:15<20:02,  4.72s/it]"
     ]
    },
    {
     "name": "stdout",
     "output_type": "stream",
     "text": [
      "result sent successfully\n"
     ]
    },
    {
     "name": "stderr",
     "output_type": "stream",
     "text": [
      "Translating:  85%|██████████████████████████████████████▉       | 1414/1668 [19:16<16:11,  3.82s/it]"
     ]
    },
    {
     "name": "stdout",
     "output_type": "stream",
     "text": [
      "Error translating with src=hi (attempt 1): 'Translator' object has no attribute 'raise_Exception'\n",
      "Error translating with src=hi (attempt 2): 'Translator' object has no attribute 'raise_Exception'\n"
     ]
    },
    {
     "name": "stderr",
     "output_type": "stream",
     "text": [
      "Translating:  85%|███████████████████████████████████████       | 1415/1668 [19:21<18:01,  4.28s/it]"
     ]
    },
    {
     "name": "stdout",
     "output_type": "stream",
     "text": [
      "Error translating with src=hi (attempt 1): 'Translator' object has no attribute 'raise_Exception'\n"
     ]
    },
    {
     "name": "stderr",
     "output_type": "stream",
     "text": [
      "Translating:  85%|███████████████████████████████████████       | 1418/1668 [19:23<08:38,  2.08s/it]"
     ]
    },
    {
     "name": "stdout",
     "output_type": "stream",
     "text": [
      "Error translating with src=hi (attempt 1): 'Translator' object has no attribute 'raise_Exception'\n"
     ]
    },
    {
     "name": "stderr",
     "output_type": "stream",
     "text": [
      "Translating:  85%|███████████████████████████████████████▏      | 1419/1668 [19:25<08:28,  2.04s/it]"
     ]
    },
    {
     "name": "stdout",
     "output_type": "stream",
     "text": [
      "Error translating with src=hi (attempt 1): 'Translator' object has no attribute 'raise_Exception'\n"
     ]
    },
    {
     "name": "stderr",
     "output_type": "stream",
     "text": [
      "Translating:  85%|███████████████████████████████████████▎      | 1426/1668 [19:28<02:21,  1.71it/s]"
     ]
    },
    {
     "name": "stdout",
     "output_type": "stream",
     "text": [
      "Error translating with src=hi (attempt 1): 'Translator' object has no attribute 'raise_Exception'\n"
     ]
    },
    {
     "name": "stderr",
     "output_type": "stream",
     "text": [
      "Translating:  86%|███████████████████████████████████████▍      | 1428/1668 [19:30<02:55,  1.37it/s]"
     ]
    },
    {
     "name": "stdout",
     "output_type": "stream",
     "text": [
      "Error translating with src=hi (attempt 1): 'Translator' object has no attribute 'raise_Exception'\n",
      "Error translating with src=hi (attempt 2): 'Translator' object has no attribute 'raise_Exception'\n",
      "Error translating with src=en (attempt 1): 'Translator' object has no attribute 'raise_Exception'\n",
      "Error translating with src=en (attempt 2): 'Translator' object has no attribute 'raise_Exception'\n",
      "🔁 Attempting sentence split and translation...\n"
     ]
    },
    {
     "name": "stderr",
     "output_type": "stream",
     "text": [
      "Translating:  86%|███████████████████████████████████████▍      | 1429/1668 [19:41<10:57,  2.75s/it]"
     ]
    },
    {
     "name": "stdout",
     "output_type": "stream",
     "text": [
      "result sent successfully\n",
      "Error translating with src=hi (attempt 1): 'Translator' object has no attribute 'raise_Exception'\n",
      "Error translating with src=hi (attempt 2): 'Translator' object has no attribute 'raise_Exception'\n",
      "Error translating with src=en (attempt 1): 'Translator' object has no attribute 'raise_Exception'\n",
      "Error translating with src=en (attempt 2): 'Translator' object has no attribute 'raise_Exception'\n"
     ]
    },
    {
     "name": "stderr",
     "output_type": "stream",
     "text": [
      "Translating:  86%|███████████████████████████████████████▍      | 1431/1668 [19:52<14:38,  3.71s/it]"
     ]
    },
    {
     "name": "stdout",
     "output_type": "stream",
     "text": [
      "🔁 Attempting sentence split and translation...\n",
      "⚠️ Could not split into two sentences. Skipping.\n",
      "Error translating with src=hi (attempt 1): 'Translator' object has no attribute 'raise_Exception'\n"
     ]
    },
    {
     "name": "stderr",
     "output_type": "stream",
     "text": [
      "Translating:  86%|███████████████████████████████████████▍      | 1432/1668 [19:54<13:10,  3.35s/it]"
     ]
    },
    {
     "name": "stdout",
     "output_type": "stream",
     "text": [
      "Error translating with src=hi (attempt 1): 'Translator' object has no attribute 'raise_Exception'\n"
     ]
    },
    {
     "name": "stderr",
     "output_type": "stream",
     "text": [
      "Translating:  86%|███████████████████████████████████████▌      | 1436/1668 [19:57<06:30,  1.68s/it]"
     ]
    },
    {
     "name": "stdout",
     "output_type": "stream",
     "text": [
      "Error translating with src=hi (attempt 1): 'Translator' object has no attribute 'raise_Exception'\n"
     ]
    },
    {
     "name": "stderr",
     "output_type": "stream",
     "text": [
      "Translating:  86%|███████████████████████████████████████▋      | 1437/1668 [19:59<06:43,  1.75s/it]"
     ]
    },
    {
     "name": "stdout",
     "output_type": "stream",
     "text": [
      "Error translating with src=hi (attempt 1): 'Translator' object has no attribute 'raise_Exception'\n"
     ]
    },
    {
     "name": "stderr",
     "output_type": "stream",
     "text": [
      "Translating:  86%|███████████████████████████████████████▋      | 1438/1668 [20:02<07:44,  2.02s/it]"
     ]
    },
    {
     "name": "stdout",
     "output_type": "stream",
     "text": [
      "Error translating with src=hi (attempt 1): 'Translator' object has no attribute 'raise_Exception'\n"
     ]
    },
    {
     "name": "stderr",
     "output_type": "stream",
     "text": [
      "Translating:  86%|███████████████████████████████████████▋      | 1439/1668 [20:03<07:38,  2.00s/it]"
     ]
    },
    {
     "name": "stdout",
     "output_type": "stream",
     "text": [
      "Error translating with src=hi (attempt 1): 'Translator' object has no attribute 'raise_Exception'\n",
      "Error translating with src=hi (attempt 2): 'Translator' object has no attribute 'raise_Exception'\n"
     ]
    },
    {
     "name": "stderr",
     "output_type": "stream",
     "text": [
      "Translating:  86%|███████████████████████████████████████▊      | 1442/1668 [20:10<06:51,  1.82s/it]"
     ]
    },
    {
     "name": "stdout",
     "output_type": "stream",
     "text": [
      "Error translating with src=hi (attempt 1): 'Translator' object has no attribute 'raise_Exception'\n"
     ]
    },
    {
     "name": "stderr",
     "output_type": "stream",
     "text": [
      "Translating:  87%|███████████████████████████████████████▊      | 1443/1668 [20:12<07:00,  1.87s/it]"
     ]
    },
    {
     "name": "stdout",
     "output_type": "stream",
     "text": [
      "Error translating with src=hi (attempt 1): 'Translator' object has no attribute 'raise_Exception'\n"
     ]
    },
    {
     "name": "stderr",
     "output_type": "stream",
     "text": [
      "Translating:  87%|███████████████████████████████████████▊      | 1445/1668 [20:14<05:35,  1.50s/it]"
     ]
    },
    {
     "name": "stdout",
     "output_type": "stream",
     "text": [
      "Error translating with src=hi (attempt 1): 'Translator' object has no attribute 'raise_Exception'\n",
      "Error translating with src=hi (attempt 2): 'Translator' object has no attribute 'raise_Exception'\n"
     ]
    },
    {
     "name": "stderr",
     "output_type": "stream",
     "text": [
      "Translating:  87%|███████████████████████████████████████▉      | 1447/1668 [20:19<07:09,  1.94s/it]"
     ]
    },
    {
     "name": "stdout",
     "output_type": "stream",
     "text": [
      "Error translating with src=hi (attempt 1): 'Translator' object has no attribute 'raise_Exception'\n",
      "Error translating with src=hi (attempt 2): 'Translator' object has no attribute 'raise_Exception'\n"
     ]
    },
    {
     "name": "stderr",
     "output_type": "stream",
     "text": [
      "Translating:  87%|███████████████████████████████████████▉      | 1449/1668 [20:24<07:58,  2.18s/it]"
     ]
    },
    {
     "name": "stdout",
     "output_type": "stream",
     "text": [
      "Error translating with src=hi (attempt 1): 'Translator' object has no attribute 'raise_Exception'\n",
      "Error translating with src=hi (attempt 2): 'Translator' object has no attribute 'raise_Exception'\n"
     ]
    },
    {
     "name": "stderr",
     "output_type": "stream",
     "text": [
      "Translating:  87%|███████████████████████████████████████▉      | 1450/1668 [20:30<10:17,  2.83s/it]"
     ]
    },
    {
     "name": "stdout",
     "output_type": "stream",
     "text": [
      "Error translating with src=hi (attempt 1): 'Translator' object has no attribute 'raise_Exception'\n"
     ]
    },
    {
     "name": "stderr",
     "output_type": "stream",
     "text": [
      "Translating:  87%|████████████████████████████████████████      | 1452/1668 [20:32<07:53,  2.19s/it]"
     ]
    },
    {
     "name": "stdout",
     "output_type": "stream",
     "text": [
      "Error translating with src=hi (attempt 1): 'Translator' object has no attribute 'raise_Exception'\n",
      "Error translating with src=hi (attempt 2): 'Translator' object has no attribute 'raise_Exception'\n",
      "Error translating with src=en (attempt 1): 'Translator' object has no attribute 'raise_Exception'\n"
     ]
    },
    {
     "name": "stderr",
     "output_type": "stream",
     "text": [
      "Translating:  87%|████████████████████████████████████████      | 1453/1668 [20:39<11:28,  3.20s/it]"
     ]
    },
    {
     "name": "stdout",
     "output_type": "stream",
     "text": [
      "Error translating with src=hi (attempt 1): 'Translator' object has no attribute 'raise_Exception'\n"
     ]
    },
    {
     "name": "stderr",
     "output_type": "stream",
     "text": [
      "Translating:  87%|████████████████████████████████████████      | 1454/1668 [20:42<11:28,  3.22s/it]"
     ]
    },
    {
     "name": "stdout",
     "output_type": "stream",
     "text": [
      "Error translating with src=hi (attempt 1): 'Translator' object has no attribute 'raise_Exception'\n"
     ]
    },
    {
     "name": "stderr",
     "output_type": "stream",
     "text": [
      "Translating:  87%|████████████████████████████████████████▏     | 1455/1668 [20:44<10:16,  2.90s/it]"
     ]
    },
    {
     "name": "stdout",
     "output_type": "stream",
     "text": [
      "Error translating with src=hi (attempt 1): 'Translator' object has no attribute 'raise_Exception'\n",
      "Error translating with src=hi (attempt 2): 'Translator' object has no attribute 'raise_Exception'\n"
     ]
    },
    {
     "name": "stderr",
     "output_type": "stream",
     "text": [
      "Translating:  87%|████████████████████████████████████████▏     | 1456/1668 [20:50<12:34,  3.56s/it]"
     ]
    },
    {
     "name": "stdout",
     "output_type": "stream",
     "text": [
      "Error translating with src=hi (attempt 1): 'Translator' object has no attribute 'raise_Exception'\n"
     ]
    },
    {
     "name": "stderr",
     "output_type": "stream",
     "text": [
      "Translating:  87%|████████████████████████████████████████▏     | 1457/1668 [20:52<11:05,  3.15s/it]"
     ]
    },
    {
     "name": "stdout",
     "output_type": "stream",
     "text": [
      "Error translating with src=hi (attempt 1): 'Translator' object has no attribute 'raise_Exception'\n"
     ]
    },
    {
     "name": "stderr",
     "output_type": "stream",
     "text": [
      "Translating: 100%|██████████████████████████████████████████████| 1668/1668 [22:30<00:00,  1.24it/s]\n"
     ]
    },
    {
     "name": "stdout",
     "output_type": "stream",
     "text": [
      "✅ File saved: ../complete/context_specific/sarvam_24b/hindi/hin_eng.csv\n",
      "🔵 Processing file: ../complete/context_specific/sarvam_24b/telugu/tel_tel.csv | Source language: te\n",
      "🔄 Translating 1668 rows...\n"
     ]
    },
    {
     "name": "stderr",
     "output_type": "stream",
     "text": [
      "Translating:  27%|████████████▊                                  | 455/1668 [09:09<24:06,  1.19s/it]"
     ]
    },
    {
     "name": "stdout",
     "output_type": "stream",
     "text": [
      "Error translating with src=te (attempt 1): The read operation timed out\n"
     ]
    },
    {
     "name": "stderr",
     "output_type": "stream",
     "text": [
      "Translating:  28%|████████████▉                                  | 460/1668 [09:21<32:24,  1.61s/it]"
     ]
    },
    {
     "name": "stdout",
     "output_type": "stream",
     "text": [
      "Error translating with src=te (attempt 1): The read operation timed out\n"
     ]
    },
    {
     "name": "stderr",
     "output_type": "stream",
     "text": [
      "Translating:  28%|████████████▍                                | 461/1668 [09:29<1:10:20,  3.50s/it]"
     ]
    },
    {
     "name": "stdout",
     "output_type": "stream",
     "text": [
      "Error translating with src=te (attempt 1): The read operation timed out\n"
     ]
    },
    {
     "name": "stderr",
     "output_type": "stream",
     "text": [
      "Translating:  28%|█████████████▎                                 | 473/1668 [09:50<29:41,  1.49s/it]"
     ]
    },
    {
     "name": "stdout",
     "output_type": "stream",
     "text": [
      "Error translating with src=te (attempt 1): The read operation timed out\n"
     ]
    },
    {
     "name": "stderr",
     "output_type": "stream",
     "text": [
      "Translating:  59%|███████████████████████████▌                   | 980/1668 [20:44<15:02,  1.31s/it]"
     ]
    },
    {
     "name": "stdout",
     "output_type": "stream",
     "text": [
      "Error translating with src=te (attempt 1): The read operation timed out\n"
     ]
    },
    {
     "name": "stderr",
     "output_type": "stream",
     "text": [
      "Translating:  85%|███████████████████████████████████████▏      | 1423/1668 [30:04<04:17,  1.05s/it]"
     ]
    },
    {
     "name": "stdout",
     "output_type": "stream",
     "text": [
      "Error translating with src=te (attempt 1): The read operation timed out\n"
     ]
    },
    {
     "name": "stderr",
     "output_type": "stream",
     "text": [
      "Translating:  85%|███████████████████████████████████████▎      | 1425/1668 [30:12<09:04,  2.24s/it]"
     ]
    },
    {
     "name": "stdout",
     "output_type": "stream",
     "text": [
      "Error translating with src=te (attempt 1): The read operation timed out\n"
     ]
    },
    {
     "name": "stderr",
     "output_type": "stream",
     "text": [
      "Translating:  90%|█████████████████████████████████████████▏    | 1493/1668 [31:45<04:23,  1.51s/it]"
     ]
    },
    {
     "name": "stdout",
     "output_type": "stream",
     "text": [
      "Error translating with src=te (attempt 1): The read operation timed out\n"
     ]
    },
    {
     "name": "stderr",
     "output_type": "stream",
     "text": [
      "Translating:  95%|███████████████████████████████████████████▋  | 1585/1668 [33:55<01:39,  1.20s/it]"
     ]
    },
    {
     "name": "stdout",
     "output_type": "stream",
     "text": [
      "Error translating with src=te (attempt 1): The read operation timed out\n"
     ]
    },
    {
     "name": "stderr",
     "output_type": "stream",
     "text": [
      "Translating: 100%|██████████████████████████████████████████████| 1668/1668 [35:47<00:00,  1.29s/it]\n"
     ]
    },
    {
     "name": "stdout",
     "output_type": "stream",
     "text": [
      "✅ File saved: ../complete/context_specific/sarvam_24b/telugu/tel_tel.csv\n",
      "🔵 Processing file: ../complete/context_specific/sarvam_24b/telugu/tel_eng.csv | Source language: te\n",
      "🔄 Translating 1668 rows...\n"
     ]
    },
    {
     "name": "stderr",
     "output_type": "stream",
     "text": [
      "Translating:  32%|██████████████▉                                | 531/1668 [00:44<15:42,  1.21it/s]"
     ]
    },
    {
     "name": "stdout",
     "output_type": "stream",
     "text": [
      "Error translating with src=te (attempt 1): 'Translator' object has no attribute 'raise_Exception'\n",
      "Error translating with src=te (attempt 2): 'Translator' object has no attribute 'raise_Exception'\n",
      "Error translating with src=en (attempt 1): 'Translator' object has no attribute 'raise_Exception'\n"
     ]
    },
    {
     "name": "stderr",
     "output_type": "stream",
     "text": [
      "Translating:  32%|██████████████▉                                | 532/1668 [00:51<44:59,  2.38s/it]"
     ]
    },
    {
     "name": "stdout",
     "output_type": "stream",
     "text": [
      "Error translating with src=te (attempt 1): 'Translator' object has no attribute 'raise_Exception'\n",
      "Error translating with src=te (attempt 2): 'Translator' object has no attribute 'raise_Exception'\n",
      "Error translating with src=en (attempt 1): 'Translator' object has no attribute 'raise_Exception'\n",
      "Error translating with src=en (attempt 2): 'Translator' object has no attribute 'raise_Exception'\n",
      "🔁 Attempting sentence split and translation...\n",
      "Error translating with src=te (attempt 1): 'Translator' object has no attribute 'raise_Exception'\n",
      "Error translating with src=te (attempt 2): 'Translator' object has no attribute 'raise_Exception'\n",
      "Error translating with src=en (attempt 1): 'Translator' object has no attribute 'raise_Exception'\n",
      "Error translating with src=en (attempt 2): 'Translator' object has no attribute 'raise_Exception'\n",
      "Error translating with src=te (attempt 1): 'Translator' object has no attribute 'raise_Exception'\n",
      "Error translating with src=te (attempt 2): 'Translator' object has no attribute 'raise_Exception'\n",
      "Error translating with src=en (attempt 1): 'Translator' object has no attribute 'raise_Exception'\n",
      "Error translating with src=en (attempt 2): 'Translator' object has no attribute 'raise_Exception'\n"
     ]
    },
    {
     "name": "stderr",
     "output_type": "stream",
     "text": [
      "Translating:  32%|██████████████▍                              | 533/1668 [01:24<3:10:59, 10.10s/it]"
     ]
    },
    {
     "name": "stdout",
     "output_type": "stream",
     "text": [
      "❌ Split translation failed:\n",
      " 1. **Baseline Ecosystem Assessment**: Conduct comprehensive ecological surveys to map biodiversity, carbon sequestration capacity, and hydrological f...\n",
      "result sent successfully\n",
      "Error translating with src=te (attempt 1): 'Translator' object has no attribute 'raise_Exception'\n",
      "Error translating with src=te (attempt 2): 'Translator' object has no attribute 'raise_Exception'\n",
      "Error translating with src=en (attempt 1): 'Translator' object has no attribute 'raise_Exception'\n",
      "Error translating with src=en (attempt 2): 'Translator' object has no attribute 'raise_Exception'\n",
      "🔁 Attempting sentence split and translation...\n",
      "Error translating with src=te (attempt 1): 'Translator' object has no attribute 'raise_Exception'\n",
      "Error translating with src=te (attempt 2): 'Translator' object has no attribute 'raise_Exception'\n",
      "Error translating with src=en (attempt 1): 'Translator' object has no attribute 'raise_Exception'\n",
      "Error translating with src=en (attempt 2): 'Translator' object has no attribute 'raise_Exception'\n",
      "Error translating with src=te (attempt 1): 'Translator' object has no attribute 'raise_Exception'\n",
      "Error translating with src=te (attempt 2): 'Translator' object has no attribute 'raise_Exception'\n",
      "Error translating with src=en (attempt 1): 'Translator' object has no attribute 'raise_Exception'\n",
      "Error translating with src=en (attempt 2): 'Translator' object has no attribute 'raise_Exception'\n"
     ]
    },
    {
     "name": "stderr",
     "output_type": "stream",
     "text": [
      "Translating:  32%|██████████████▍                              | 534/1668 [01:56<5:02:44, 16.02s/it]"
     ]
    },
    {
     "name": "stdout",
     "output_type": "stream",
     "text": [
      "❌ Split translation failed:\n",
      " 1. **Content Replication Algorithm Analysis**: Examine how pirated content is duplicated and distributed by analyzing algorithms that identify patter...\n",
      "result sent successfully\n",
      "Error translating with src=te (attempt 1): 'Translator' object has no attribute 'raise_Exception'\n",
      "Error translating with src=te (attempt 2): 'Translator' object has no attribute 'raise_Exception'\n"
     ]
    },
    {
     "name": "stderr",
     "output_type": "stream",
     "text": [
      "Translating:  32%|██████████████▍                              | 536/1668 [02:01<3:13:20, 10.25s/it]"
     ]
    },
    {
     "name": "stdout",
     "output_type": "stream",
     "text": [
      "Error translating with src=te (attempt 1): 'Translator' object has no attribute 'raise_Exception'\n",
      "Error translating with src=te (attempt 2): 'Translator' object has no attribute 'raise_Exception'\n"
     ]
    },
    {
     "name": "stderr",
     "output_type": "stream",
     "text": [
      "Translating:  32%|██████████████▌                              | 539/1668 [02:07<1:42:40,  5.46s/it]"
     ]
    },
    {
     "name": "stdout",
     "output_type": "stream",
     "text": [
      "Error translating with src=te (attempt 1): 'Translator' object has no attribute 'raise_Exception'\n"
     ]
    },
    {
     "name": "stderr",
     "output_type": "stream",
     "text": [
      "Translating:  32%|███████████████▎                               | 542/1668 [02:09<54:24,  2.90s/it]"
     ]
    },
    {
     "name": "stdout",
     "output_type": "stream",
     "text": [
      "Error translating with src=te (attempt 1): 'Translator' object has no attribute 'raise_Exception'\n"
     ]
    },
    {
     "name": "stderr",
     "output_type": "stream",
     "text": [
      "Translating:  33%|███████████████▍                               | 549/1668 [02:12<14:22,  1.30it/s]"
     ]
    },
    {
     "name": "stdout",
     "output_type": "stream",
     "text": [
      "Error translating with src=te (attempt 1): 'Translator' object has no attribute 'raise_Exception'\n",
      "Error translating with src=te (attempt 2): 'Translator' object has no attribute 'raise_Exception'\n"
     ]
    },
    {
     "name": "stderr",
     "output_type": "stream",
     "text": [
      "Translating:  33%|███████████████▋                               | 557/1668 [02:17<09:25,  1.96it/s]"
     ]
    },
    {
     "name": "stdout",
     "output_type": "stream",
     "text": [
      "Error translating with src=te (attempt 1): 'Translator' object has no attribute 'raise_Exception'\n",
      "Error translating with src=te (attempt 1): 'Translator' object has no attribute 'raise_Exception'\n"
     ]
    },
    {
     "name": "stderr",
     "output_type": "stream",
     "text": [
      "Translating:  34%|███████████████▊                               | 559/1668 [02:22<17:53,  1.03it/s]"
     ]
    },
    {
     "name": "stdout",
     "output_type": "stream",
     "text": [
      "Error translating with src=te (attempt 1): 'Translator' object has no attribute 'raise_Exception'\n"
     ]
    },
    {
     "name": "stderr",
     "output_type": "stream",
     "text": [
      "Translating:  34%|███████████████▉                               | 564/1668 [02:24<10:23,  1.77it/s]"
     ]
    },
    {
     "name": "stdout",
     "output_type": "stream",
     "text": [
      "Error translating with src=te (attempt 1): 'Translator' object has no attribute 'raise_Exception'\n"
     ]
    },
    {
     "name": "stderr",
     "output_type": "stream",
     "text": [
      "Translating:  34%|███████████████▉                               | 566/1668 [02:26<13:12,  1.39it/s]"
     ]
    },
    {
     "name": "stdout",
     "output_type": "stream",
     "text": [
      "Error translating with src=te (attempt 1): 'Translator' object has no attribute 'raise_Exception'\n"
     ]
    },
    {
     "name": "stderr",
     "output_type": "stream",
     "text": [
      "Translating:  34%|████████████████                               | 572/1668 [02:28<07:55,  2.31it/s]"
     ]
    },
    {
     "name": "stdout",
     "output_type": "stream",
     "text": [
      "Error translating with src=te (attempt 1): 'Translator' object has no attribute 'raise_Exception'\n",
      "Error translating with src=te (attempt 2): 'Translator' object has no attribute 'raise_Exception'\n"
     ]
    },
    {
     "name": "stderr",
     "output_type": "stream",
     "text": [
      "Translating:  34%|████████████████▏                              | 573/1668 [02:34<24:19,  1.33s/it]"
     ]
    },
    {
     "name": "stdout",
     "output_type": "stream",
     "text": [
      "Error translating with src=te (attempt 1): 'Translator' object has no attribute 'raise_Exception'\n"
     ]
    },
    {
     "name": "stderr",
     "output_type": "stream",
     "text": [
      "Translating:  35%|████████████████▎                              | 577/1668 [02:36<13:31,  1.34it/s]"
     ]
    },
    {
     "name": "stdout",
     "output_type": "stream",
     "text": [
      "Error translating with src=te (attempt 1): 'Translator' object has no attribute 'raise_Exception'\n"
     ]
    },
    {
     "name": "stderr",
     "output_type": "stream",
     "text": [
      "Translating:  35%|████████████████▎                              | 578/1668 [02:38<18:31,  1.02s/it]"
     ]
    },
    {
     "name": "stdout",
     "output_type": "stream",
     "text": [
      "Error translating with src=te (attempt 1): 'Translator' object has no attribute 'raise_Exception'\n",
      "Error translating with src=te (attempt 2): 'Translator' object has no attribute 'raise_Exception'\n",
      "Error translating with src=en (attempt 1): 'Translator' object has no attribute 'raise_Exception'\n",
      "Error translating with src=en (attempt 2): 'Translator' object has no attribute 'raise_Exception'\n",
      "🔁 Attempting sentence split and translation...\n",
      "Error translating with src=te (attempt 1): 'Translator' object has no attribute 'raise_Exception'\n"
     ]
    },
    {
     "name": "stderr",
     "output_type": "stream",
     "text": [
      "Translating:  35%|████████████████▎                              | 581/1668 [02:52<43:37,  2.41s/it]"
     ]
    },
    {
     "name": "stdout",
     "output_type": "stream",
     "text": [
      "result sent successfully\n",
      "Error translating with src=te (attempt 1): 'Translator' object has no attribute 'raise_Exception'\n",
      "Error translating with src=te (attempt 2): 'Translator' object has no attribute 'raise_Exception'\n"
     ]
    },
    {
     "name": "stderr",
     "output_type": "stream",
     "text": [
      "Translating:  35%|████████████████▍                              | 582/1668 [02:57<56:04,  3.10s/it]"
     ]
    },
    {
     "name": "stdout",
     "output_type": "stream",
     "text": [
      "Error translating with src=te (attempt 1): 'Translator' object has no attribute 'raise_Exception'\n"
     ]
    },
    {
     "name": "stderr",
     "output_type": "stream",
     "text": [
      "Translating:  35%|████████████████▍                              | 583/1668 [02:59<51:18,  2.84s/it]"
     ]
    },
    {
     "name": "stdout",
     "output_type": "stream",
     "text": [
      "Error translating with src=te (attempt 1): 'Translator' object has no attribute 'raise_Exception'\n",
      "Error translating with src=te (attempt 2): 'Translator' object has no attribute 'raise_Exception'\n",
      "Error translating with src=en (attempt 1): 'Translator' object has no attribute 'raise_Exception'\n",
      "Error translating with src=en (attempt 2): 'Translator' object has no attribute 'raise_Exception'\n",
      "🔁 Attempting sentence split and translation...\n"
     ]
    },
    {
     "name": "stderr",
     "output_type": "stream",
     "text": [
      "Translating:  35%|███████████████▊                             | 585/1668 [03:12<1:15:13,  4.17s/it]"
     ]
    },
    {
     "name": "stdout",
     "output_type": "stream",
     "text": [
      "result sent successfully\n",
      "Error translating with src=te (attempt 1): 'Translator' object has no attribute 'raise_Exception'\n",
      "Error translating with src=te (attempt 2): 'Translator' object has no attribute 'raise_Exception'\n"
     ]
    },
    {
     "name": "stderr",
     "output_type": "stream",
     "text": [
      "Translating:  35%|███████████████▊                             | 586/1668 [03:17<1:19:59,  4.44s/it]"
     ]
    },
    {
     "name": "stdout",
     "output_type": "stream",
     "text": [
      "Error translating with src=te (attempt 1): 'Translator' object has no attribute 'raise_Exception'\n"
     ]
    },
    {
     "name": "stderr",
     "output_type": "stream",
     "text": [
      "Translating:  36%|████████████████▊                              | 598/1668 [03:20<08:34,  2.08it/s]"
     ]
    },
    {
     "name": "stdout",
     "output_type": "stream",
     "text": [
      "Error translating with src=te (attempt 1): 'Translator' object has no attribute 'raise_Exception'\n",
      "Error translating with src=te (attempt 1): 'Translator' object has no attribute 'raise_Exception'\n",
      "Error translating with src=te (attempt 2): 'Translator' object has no attribute 'raise_Exception'\n"
     ]
    },
    {
     "name": "stderr",
     "output_type": "stream",
     "text": [
      "Translating:  36%|████████████████▉                              | 600/1668 [03:27<26:41,  1.50s/it]"
     ]
    },
    {
     "name": "stdout",
     "output_type": "stream",
     "text": [
      "Error translating with src=te (attempt 1): 'Translator' object has no attribute 'raise_Exception'\n"
     ]
    },
    {
     "name": "stderr",
     "output_type": "stream",
     "text": [
      "Translating:  36%|████████████████▉                              | 603/1668 [03:29<18:41,  1.05s/it]"
     ]
    },
    {
     "name": "stdout",
     "output_type": "stream",
     "text": [
      "Error translating with src=te (attempt 1): 'Translator' object has no attribute 'raise_Exception'\n",
      "Error translating with src=te (attempt 2): 'Translator' object has no attribute 'raise_Exception'\n"
     ]
    },
    {
     "name": "stderr",
     "output_type": "stream",
     "text": [
      "Translating:  37%|█████████████████▏                             | 610/1668 [03:36<11:28,  1.54it/s]"
     ]
    },
    {
     "name": "stdout",
     "output_type": "stream",
     "text": [
      "Error translating with src=te (attempt 1): 'Translator' object has no attribute 'raise_Exception'\n",
      "Error translating with src=te (attempt 2): 'Translator' object has no attribute 'raise_Exception'\n"
     ]
    },
    {
     "name": "stderr",
     "output_type": "stream",
     "text": [
      "Translating:  37%|█████████████████▏                             | 611/1668 [03:41<27:43,  1.57s/it]"
     ]
    },
    {
     "name": "stdout",
     "output_type": "stream",
     "text": [
      "Error translating with src=te (attempt 1): 'Translator' object has no attribute 'raise_Exception'\n",
      "Error translating with src=te (attempt 2): 'Translator' object has no attribute 'raise_Exception'\n"
     ]
    },
    {
     "name": "stderr",
     "output_type": "stream",
     "text": [
      "Translating:  37%|█████████████████▏                             | 612/1668 [03:46<41:58,  2.39s/it]"
     ]
    },
    {
     "name": "stdout",
     "output_type": "stream",
     "text": [
      "Error translating with src=te (attempt 1): 'Translator' object has no attribute 'raise_Exception'\n"
     ]
    },
    {
     "name": "stderr",
     "output_type": "stream",
     "text": [
      "Translating:  37%|█████████████████▎                             | 613/1668 [03:49<41:15,  2.35s/it]"
     ]
    },
    {
     "name": "stdout",
     "output_type": "stream",
     "text": [
      "Error translating with src=te (attempt 1): 'Translator' object has no attribute 'raise_Exception'\n"
     ]
    },
    {
     "name": "stderr",
     "output_type": "stream",
     "text": [
      "Translating:  37%|█████████████████▎                             | 615/1668 [03:51<32:15,  1.84s/it]"
     ]
    },
    {
     "name": "stdout",
     "output_type": "stream",
     "text": [
      "Error translating with src=te (attempt 1): 'Translator' object has no attribute 'raise_Exception'\n",
      "Error translating with src=te (attempt 2): 'Translator' object has no attribute 'raise_Exception'\n",
      "Error translating with src=en (attempt 1): 'Translator' object has no attribute 'raise_Exception'\n",
      "Error translating with src=en (attempt 2): 'Translator' object has no attribute 'raise_Exception'\n",
      "🔁 Attempting sentence split and translation...\n",
      "Error translating with src=te (attempt 1): 'Translator' object has no attribute 'raise_Exception'\n",
      "Error translating with src=te (attempt 2): 'Translator' object has no attribute 'raise_Exception'\n",
      "Error translating with src=te (attempt 1): 'Translator' object has no attribute 'raise_Exception'\n",
      "Error translating with src=te (attempt 2): 'Translator' object has no attribute 'raise_Exception'\n"
     ]
    },
    {
     "name": "stderr",
     "output_type": "stream",
     "text": [
      "Translating:  37%|████████████████▋                            | 618/1668 [04:13<1:07:35,  3.86s/it]"
     ]
    },
    {
     "name": "stdout",
     "output_type": "stream",
     "text": [
      "result sent successfully\n"
     ]
    },
    {
     "name": "stderr",
     "output_type": "stream",
     "text": [
      "Translating:  37%|█████████████████▍                             | 620/1668 [04:13<43:50,  2.51s/it]"
     ]
    },
    {
     "name": "stdout",
     "output_type": "stream",
     "text": [
      "Error translating with src=te (attempt 1): 'Translator' object has no attribute 'raise_Exception'\n"
     ]
    },
    {
     "name": "stderr",
     "output_type": "stream",
     "text": [
      "Translating:  37%|█████████████████▌                             | 623/1668 [04:15<27:08,  1.56s/it]"
     ]
    },
    {
     "name": "stdout",
     "output_type": "stream",
     "text": [
      "Error translating with src=te (attempt 1): 'Translator' object has no attribute 'raise_Exception'\n"
     ]
    },
    {
     "name": "stderr",
     "output_type": "stream",
     "text": [
      "Translating:  38%|█████████████████▋                             | 626/1668 [04:17<18:42,  1.08s/it]"
     ]
    },
    {
     "name": "stdout",
     "output_type": "stream",
     "text": [
      "Error translating with src=te (attempt 1): 'Translator' object has no attribute 'raise_Exception'\n",
      "Error translating with src=te (attempt 2): 'Translator' object has no attribute 'raise_Exception'\n"
     ]
    },
    {
     "name": "stderr",
     "output_type": "stream",
     "text": [
      "Translating:  38%|█████████████████▋                             | 629/1668 [04:23<21:53,  1.26s/it]"
     ]
    },
    {
     "name": "stdout",
     "output_type": "stream",
     "text": [
      "Error translating with src=te (attempt 1): 'Translator' object has no attribute 'raise_Exception'\n"
     ]
    },
    {
     "name": "stderr",
     "output_type": "stream",
     "text": [
      "Translating:  38%|█████████████████▊                             | 631/1668 [04:25<20:40,  1.20s/it]"
     ]
    },
    {
     "name": "stdout",
     "output_type": "stream",
     "text": [
      "Error translating with src=te (attempt 1): 'Translator' object has no attribute 'raise_Exception'\n",
      "Error translating with src=te (attempt 2): 'Translator' object has no attribute 'raise_Exception'\n",
      "Error translating with src=en (attempt 1): 'Translator' object has no attribute 'raise_Exception'\n",
      "Error translating with src=en (attempt 2): 'Translator' object has no attribute 'raise_Exception'\n"
     ]
    },
    {
     "name": "stderr",
     "output_type": "stream",
     "text": [
      "Translating:  38%|█████████████████▊                             | 634/1668 [04:36<34:13,  1.99s/it]"
     ]
    },
    {
     "name": "stdout",
     "output_type": "stream",
     "text": [
      "🔁 Attempting sentence split and translation...\n",
      "⚠️ Could not split into two sentences. Skipping.\n"
     ]
    },
    {
     "name": "stderr",
     "output_type": "stream",
     "text": [
      "Translating:  38%|█████████████████▉                             | 638/1668 [04:36<15:49,  1.09it/s]"
     ]
    },
    {
     "name": "stdout",
     "output_type": "stream",
     "text": [
      "Error translating with src=te (attempt 1): 'Translator' object has no attribute 'raise_Exception'\n",
      "Error translating with src=te (attempt 1): 'Translator' object has no attribute 'raise_Exception'\n"
     ]
    },
    {
     "name": "stderr",
     "output_type": "stream",
     "text": [
      "Translating:  38%|██████████████████                             | 640/1668 [04:40<21:53,  1.28s/it]"
     ]
    },
    {
     "name": "stdout",
     "output_type": "stream",
     "text": [
      "Error translating with src=te (attempt 1): 'Translator' object has no attribute 'raise_Exception'\n"
     ]
    },
    {
     "name": "stderr",
     "output_type": "stream",
     "text": [
      "Translating:  38%|██████████████████                             | 642/1668 [04:42<20:19,  1.19s/it]"
     ]
    },
    {
     "name": "stdout",
     "output_type": "stream",
     "text": [
      "Error translating with src=te (attempt 1): 'Translator' object has no attribute 'raise_Exception'\n"
     ]
    },
    {
     "name": "stderr",
     "output_type": "stream",
     "text": [
      "Translating:  39%|██████████████████▏                            | 644/1668 [04:44<18:16,  1.07s/it]"
     ]
    },
    {
     "name": "stdout",
     "output_type": "stream",
     "text": [
      "Error translating with src=te (attempt 1): 'Translator' object has no attribute 'raise_Exception'\n"
     ]
    },
    {
     "name": "stderr",
     "output_type": "stream",
     "text": [
      "Translating:  39%|██████████████████▏                            | 646/1668 [04:46<18:14,  1.07s/it]"
     ]
    },
    {
     "name": "stdout",
     "output_type": "stream",
     "text": [
      "Error translating with src=te (attempt 1): 'Translator' object has no attribute 'raise_Exception'\n"
     ]
    },
    {
     "name": "stderr",
     "output_type": "stream",
     "text": [
      "Translating:  39%|██████████████████▎                            | 648/1668 [04:48<17:32,  1.03s/it]"
     ]
    },
    {
     "name": "stdout",
     "output_type": "stream",
     "text": [
      "Error translating with src=te (attempt 1): 'Translator' object has no attribute 'raise_Exception'\n",
      "Error translating with src=te (attempt 2): 'Translator' object has no attribute 'raise_Exception'\n",
      "Error translating with src=en (attempt 1): 'Translator' object has no attribute 'raise_Exception'\n"
     ]
    },
    {
     "name": "stderr",
     "output_type": "stream",
     "text": [
      "Translating:  39%|██████████████████▎                            | 651/1668 [04:56<25:07,  1.48s/it]"
     ]
    },
    {
     "name": "stdout",
     "output_type": "stream",
     "text": [
      "Error translating with src=te (attempt 1): 'Translator' object has no attribute 'raise_Exception'\n",
      "Error translating with src=te (attempt 2): 'Translator' object has no attribute 'raise_Exception'\n"
     ]
    },
    {
     "name": "stderr",
     "output_type": "stream",
     "text": [
      "Translating:  39%|██████████████████▍                            | 656/1668 [05:01<16:49,  1.00it/s]"
     ]
    },
    {
     "name": "stdout",
     "output_type": "stream",
     "text": [
      "Error translating with src=te (attempt 1): 'Translator' object has no attribute 'raise_Exception'\n",
      "Error translating with src=te (attempt 2): 'Translator' object has no attribute 'raise_Exception'\n"
     ]
    },
    {
     "name": "stderr",
     "output_type": "stream",
     "text": [
      "Translating:  39%|██████████████████▌                            | 658/1668 [05:07<27:02,  1.61s/it]"
     ]
    },
    {
     "name": "stdout",
     "output_type": "stream",
     "text": [
      "Error translating with src=te (attempt 1): 'Translator' object has no attribute 'raise_Exception'\n",
      "Error translating with src=te (attempt 2): 'Translator' object has no attribute 'raise_Exception'\n",
      "Error translating with src=en (attempt 1): 'Translator' object has no attribute 'raise_Exception'\n",
      "Error translating with src=en (attempt 2): 'Translator' object has no attribute 'raise_Exception'\n"
     ]
    },
    {
     "name": "stderr",
     "output_type": "stream",
     "text": [
      "Translating:  40%|██████████████████▌                            | 660/1668 [05:18<47:47,  2.84s/it]"
     ]
    },
    {
     "name": "stdout",
     "output_type": "stream",
     "text": [
      "🔁 Attempting sentence split and translation...\n",
      "⚠️ Could not split into two sentences. Skipping.\n",
      "Error translating with src=te (attempt 1): 'Translator' object has no attribute 'raise_Exception'\n"
     ]
    },
    {
     "name": "stderr",
     "output_type": "stream",
     "text": [
      "Translating:  40%|██████████████████▋                            | 663/1668 [05:20<29:31,  1.76s/it]"
     ]
    },
    {
     "name": "stdout",
     "output_type": "stream",
     "text": [
      "Error translating with src=te (attempt 1): 'Translator' object has no attribute 'raise_Exception'\n",
      "Error translating with src=te (attempt 2): 'Translator' object has no attribute 'raise_Exception'\n"
     ]
    },
    {
     "name": "stderr",
     "output_type": "stream",
     "text": [
      "Translating:  40%|██████████████████▋                            | 665/1668 [05:25<34:29,  2.06s/it]"
     ]
    },
    {
     "name": "stdout",
     "output_type": "stream",
     "text": [
      "Error translating with src=te (attempt 1): 'Translator' object has no attribute 'raise_Exception'\n"
     ]
    },
    {
     "name": "stderr",
     "output_type": "stream",
     "text": [
      "Translating:  40%|██████████████████▊                            | 668/1668 [05:28<22:43,  1.36s/it]"
     ]
    },
    {
     "name": "stdout",
     "output_type": "stream",
     "text": [
      "Error translating with src=te (attempt 1): 'Translator' object has no attribute 'raise_Exception'\n",
      "Error translating with src=te (attempt 2): 'Translator' object has no attribute 'raise_Exception'\n"
     ]
    },
    {
     "name": "stderr",
     "output_type": "stream",
     "text": [
      "Translating:  40%|██████████████████▊                            | 669/1668 [05:33<36:18,  2.18s/it]"
     ]
    },
    {
     "name": "stdout",
     "output_type": "stream",
     "text": [
      "Error translating with src=te (attempt 1): 'Translator' object has no attribute 'raise_Exception'\n",
      "Error translating with src=te (attempt 2): 'Translator' object has no attribute 'raise_Exception'\n",
      "Error translating with src=en (attempt 1): 'Translator' object has no attribute 'raise_Exception'\n",
      "Error translating with src=en (attempt 2): 'Translator' object has no attribute 'raise_Exception'\n",
      "🔁 Attempting sentence split and translation...\n",
      "Error translating with src=te (attempt 1): 'Translator' object has no attribute 'raise_Exception'\n",
      "Error translating with src=te (attempt 2): 'Translator' object has no attribute 'raise_Exception'\n",
      "Error translating with src=te (attempt 1): 'Translator' object has no attribute 'raise_Exception'\n"
     ]
    },
    {
     "name": "stderr",
     "output_type": "stream",
     "text": [
      "Translating:  40%|██████████████████▉                            | 672/1668 [05:51<58:43,  3.54s/it]"
     ]
    },
    {
     "name": "stdout",
     "output_type": "stream",
     "text": [
      "result sent successfully\n"
     ]
    },
    {
     "name": "stderr",
     "output_type": "stream",
     "text": [
      "Translating:  40%|██████████████████▉                            | 674/1668 [05:51<38:03,  2.30s/it]"
     ]
    },
    {
     "name": "stdout",
     "output_type": "stream",
     "text": [
      "Error translating with src=te (attempt 1): 'Translator' object has no attribute 'raise_Exception'\n"
     ]
    },
    {
     "name": "stderr",
     "output_type": "stream",
     "text": [
      "Translating:  40%|███████████████████                            | 675/1668 [05:54<37:11,  2.25s/it]"
     ]
    },
    {
     "name": "stdout",
     "output_type": "stream",
     "text": [
      "Error translating with src=te (attempt 1): 'Translator' object has no attribute 'raise_Exception'\n"
     ]
    },
    {
     "name": "stderr",
     "output_type": "stream",
     "text": [
      "Translating:  41%|███████████████████                            | 676/1668 [05:56<36:36,  2.21s/it]"
     ]
    },
    {
     "name": "stdout",
     "output_type": "stream",
     "text": [
      "Error translating with src=te (attempt 1): 'Translator' object has no attribute 'raise_Exception'\n"
     ]
    },
    {
     "name": "stderr",
     "output_type": "stream",
     "text": [
      "Translating:  41%|███████████████████                            | 678/1668 [05:58<29:13,  1.77s/it]"
     ]
    },
    {
     "name": "stdout",
     "output_type": "stream",
     "text": [
      "Error translating with src=te (attempt 1): 'Translator' object has no attribute 'raise_Exception'\n"
     ]
    },
    {
     "name": "stderr",
     "output_type": "stream",
     "text": [
      "Translating:  41%|███████████████████▏                           | 681/1668 [06:00<18:36,  1.13s/it]"
     ]
    },
    {
     "name": "stdout",
     "output_type": "stream",
     "text": [
      "Error translating with src=te (attempt 1): 'Translator' object has no attribute 'raise_Exception'\n"
     ]
    },
    {
     "name": "stderr",
     "output_type": "stream",
     "text": [
      "Translating:  41%|███████████████████▎                           | 684/1668 [06:02<13:37,  1.20it/s]"
     ]
    },
    {
     "name": "stdout",
     "output_type": "stream",
     "text": [
      "Error translating with src=te (attempt 1): 'Translator' object has no attribute 'raise_Exception'\n",
      "Error translating with src=te (attempt 2): 'Translator' object has no attribute 'raise_Exception'\n",
      "Error translating with src=en (attempt 1): 'Translator' object has no attribute 'raise_Exception'\n"
     ]
    },
    {
     "name": "stderr",
     "output_type": "stream",
     "text": [
      "Translating:  41%|███████████████████▎                           | 685/1668 [06:09<36:13,  2.21s/it]"
     ]
    },
    {
     "name": "stdout",
     "output_type": "stream",
     "text": [
      "Error translating with src=te (attempt 1): 'Translator' object has no attribute 'raise_Exception'\n"
     ]
    },
    {
     "name": "stderr",
     "output_type": "stream",
     "text": [
      "Translating:  41%|███████████████████▎                           | 687/1668 [06:11<28:58,  1.77s/it]"
     ]
    },
    {
     "name": "stdout",
     "output_type": "stream",
     "text": [
      "Error translating with src=te (attempt 1): 'Translator' object has no attribute 'raise_Exception'\n"
     ]
    },
    {
     "name": "stderr",
     "output_type": "stream",
     "text": [
      "Translating:  41%|███████████████████▍                           | 688/1668 [06:13<29:17,  1.79s/it]"
     ]
    },
    {
     "name": "stdout",
     "output_type": "stream",
     "text": [
      "Error translating with src=te (attempt 1): 'Translator' object has no attribute 'raise_Exception'\n"
     ]
    },
    {
     "name": "stderr",
     "output_type": "stream",
     "text": [
      "Translating:  41%|███████████████████▍                           | 692/1668 [06:15<16:15,  1.00it/s]"
     ]
    },
    {
     "name": "stdout",
     "output_type": "stream",
     "text": [
      "Error translating with src=te (attempt 1): 'Translator' object has no attribute 'raise_Exception'\n"
     ]
    },
    {
     "name": "stderr",
     "output_type": "stream",
     "text": [
      "Translating:  42%|███████████████████▌                           | 695/1668 [06:17<12:45,  1.27it/s]"
     ]
    },
    {
     "name": "stdout",
     "output_type": "stream",
     "text": [
      "Error translating with src=te (attempt 1): 'Translator' object has no attribute 'raise_Exception'\n"
     ]
    },
    {
     "name": "stderr",
     "output_type": "stream",
     "text": [
      "Translating:  42%|███████████████████▊                           | 701/1668 [06:20<07:01,  2.30it/s]"
     ]
    },
    {
     "name": "stdout",
     "output_type": "stream",
     "text": [
      "Error translating with src=te (attempt 1): 'Translator' object has no attribute 'raise_Exception'\n"
     ]
    },
    {
     "name": "stderr",
     "output_type": "stream",
     "text": [
      "Translating:  42%|███████████████████▊                           | 705/1668 [06:22<06:37,  2.42it/s]"
     ]
    },
    {
     "name": "stdout",
     "output_type": "stream",
     "text": [
      "Error translating with src=te (attempt 1): 'Translator' object has no attribute 'raise_Exception'\n"
     ]
    },
    {
     "name": "stderr",
     "output_type": "stream",
     "text": [
      "Translating:  42%|███████████████████▉                           | 706/1668 [06:24<12:15,  1.31it/s]"
     ]
    },
    {
     "name": "stdout",
     "output_type": "stream",
     "text": [
      "Error translating with src=te (attempt 1): 'Translator' object has no attribute 'raise_Exception'\n",
      "Error translating with src=te (attempt 2): 'Translator' object has no attribute 'raise_Exception'\n",
      "Error translating with src=en (attempt 1): 'Translator' object has no attribute 'raise_Exception'\n"
     ]
    },
    {
     "name": "stderr",
     "output_type": "stream",
     "text": [
      "Translating:  42%|███████████████████▉                           | 708/1668 [06:32<30:54,  1.93s/it]"
     ]
    },
    {
     "name": "stdout",
     "output_type": "stream",
     "text": [
      "Error translating with src=te (attempt 1): 'Translator' object has no attribute 'raise_Exception'\n",
      "Error translating with src=te (attempt 2): 'Translator' object has no attribute 'raise_Exception'\n",
      "Error translating with src=en (attempt 1): 'Translator' object has no attribute 'raise_Exception'\n"
     ]
    },
    {
     "name": "stderr",
     "output_type": "stream",
     "text": [
      "Translating:  43%|███████████████████▉                           | 709/1668 [06:39<49:31,  3.10s/it]"
     ]
    },
    {
     "name": "stdout",
     "output_type": "stream",
     "text": [
      "Error translating with src=te (attempt 1): 'Translator' object has no attribute 'raise_Exception'\n",
      "Error translating with src=te (attempt 2): 'Translator' object has no attribute 'raise_Exception'\n",
      "Error translating with src=en (attempt 1): 'Translator' object has no attribute 'raise_Exception'\n"
     ]
    },
    {
     "name": "stderr",
     "output_type": "stream",
     "text": [
      "Translating:  43%|████████████████████                           | 713/1668 [06:46<28:58,  1.82s/it]"
     ]
    },
    {
     "name": "stdout",
     "output_type": "stream",
     "text": [
      "Error translating with src=te (attempt 1): 'Translator' object has no attribute 'raise_Exception'\n",
      "Error translating with src=te (attempt 2): 'Translator' object has no attribute 'raise_Exception'\n"
     ]
    },
    {
     "name": "stderr",
     "output_type": "stream",
     "text": [
      "Translating:  43%|████████████████████▏                          | 717/1668 [06:52<22:48,  1.44s/it]"
     ]
    },
    {
     "name": "stdout",
     "output_type": "stream",
     "text": [
      "Error translating with src=te (attempt 1): 'Translator' object has no attribute 'raise_Exception'\n"
     ]
    },
    {
     "name": "stderr",
     "output_type": "stream",
     "text": [
      "Translating:  57%|██████████████████████████▊                    | 951/1668 [07:38<11:20,  1.05it/s]"
     ]
    },
    {
     "name": "stdout",
     "output_type": "stream",
     "text": [
      "Error translating with src=te (attempt 1): 'Translator' object has no attribute 'raise_Exception'\n"
     ]
    },
    {
     "name": "stderr",
     "output_type": "stream",
     "text": [
      "Translating:  57%|██████████████████████████▉                    | 955/1668 [07:42<12:06,  1.02s/it]"
     ]
    },
    {
     "name": "stdout",
     "output_type": "stream",
     "text": [
      "Error translating with src=te (attempt 1): 'Translator' object has no attribute 'raise_Exception'\n",
      "Error translating with src=te (attempt 2): 'Translator' object has no attribute 'raise_Exception'\n",
      "Error translating with src=en (attempt 1): 'Translator' object has no attribute 'raise_Exception'\n",
      "Error translating with src=en (attempt 2): 'Translator' object has no attribute 'raise_Exception'\n",
      "🔁 Attempting sentence split and translation...\n",
      "Error translating with src=te (attempt 1): 'Translator' object has no attribute 'raise_Exception'\n"
     ]
    },
    {
     "name": "stderr",
     "output_type": "stream",
     "text": [
      "Translating:  57%|██████████████████████████▉                    | 956/1668 [07:55<46:43,  3.94s/it]"
     ]
    },
    {
     "name": "stdout",
     "output_type": "stream",
     "text": [
      "result sent successfully\n",
      "Error translating with src=te (attempt 1): 'Translator' object has no attribute 'raise_Exception'\n",
      "Error translating with src=te (attempt 2): 'Translator' object has no attribute 'raise_Exception'\n",
      "Error translating with src=en (attempt 1): 'Translator' object has no attribute 'raise_Exception'\n"
     ]
    },
    {
     "name": "stderr",
     "output_type": "stream",
     "text": [
      "Translating:  57%|██████████████████████████▉                    | 957/1668 [08:02<56:00,  4.73s/it]"
     ]
    },
    {
     "name": "stdout",
     "output_type": "stream",
     "text": [
      "Error translating with src=te (attempt 1): 'Translator' object has no attribute 'raise_Exception'\n",
      "Error translating with src=te (attempt 2): 'Translator' object has no attribute 'raise_Exception'\n",
      "Error translating with src=en (attempt 1): 'Translator' object has no attribute 'raise_Exception'\n",
      "Error translating with src=en (attempt 2): 'Translator' object has no attribute 'raise_Exception'\n",
      "🔁 Attempting sentence split and translation...\n",
      "Error translating with src=te (attempt 1): 'Translator' object has no attribute 'raise_Exception'\n",
      "Error translating with src=te (attempt 2): 'Translator' object has no attribute 'raise_Exception'\n",
      "Error translating with src=en (attempt 1): 'Translator' object has no attribute 'raise_Exception'\n",
      "Error translating with src=en (attempt 2): 'Translator' object has no attribute 'raise_Exception'\n"
     ]
    },
    {
     "name": "stderr",
     "output_type": "stream",
     "text": [
      "Translating:  57%|█████████████████████████▊                   | 959/1668 [08:25<1:27:43,  7.42s/it]"
     ]
    },
    {
     "name": "stdout",
     "output_type": "stream",
     "text": [
      "result sent successfully\n",
      "Error translating with src=te (attempt 1): 'Translator' object has no attribute 'raise_Exception'\n",
      "Error translating with src=te (attempt 2): 'Translator' object has no attribute 'raise_Exception'\n",
      "Error translating with src=en (attempt 1): 'Translator' object has no attribute 'raise_Exception'\n"
     ]
    },
    {
     "name": "stderr",
     "output_type": "stream",
     "text": [
      "Translating:  58%|█████████████████████████▉                   | 961/1668 [08:32<1:11:03,  6.03s/it]"
     ]
    },
    {
     "name": "stdout",
     "output_type": "stream",
     "text": [
      "Error translating with src=te (attempt 1): 'Translator' object has no attribute 'raise_Exception'\n"
     ]
    },
    {
     "name": "stderr",
     "output_type": "stream",
     "text": [
      "Translating:  58%|███████████████████████████▏                   | 965/1668 [08:34<33:41,  2.87s/it]"
     ]
    },
    {
     "name": "stdout",
     "output_type": "stream",
     "text": [
      "Error translating with src=te (attempt 1): 'Translator' object has no attribute 'raise_Exception'\n"
     ]
    },
    {
     "name": "stderr",
     "output_type": "stream",
     "text": [
      "Translating:  58%|███████████████████████████▏                   | 966/1668 [08:36<31:23,  2.68s/it]"
     ]
    },
    {
     "name": "stdout",
     "output_type": "stream",
     "text": [
      "Error translating with src=te (attempt 1): 'Translator' object has no attribute 'raise_Exception'\n",
      "Error translating with src=te (attempt 2): 'Translator' object has no attribute 'raise_Exception'\n"
     ]
    },
    {
     "name": "stderr",
     "output_type": "stream",
     "text": [
      "Translating:  58%|███████████████████████████▎                   | 969/1668 [08:42<23:49,  2.05s/it]"
     ]
    },
    {
     "name": "stdout",
     "output_type": "stream",
     "text": [
      "Error translating with src=te (attempt 1): 'Translator' object has no attribute 'raise_Exception'\n",
      "Error translating with src=te (attempt 2): 'Translator' object has no attribute 'raise_Exception'\n",
      "Error translating with src=en (attempt 1): 'Translator' object has no attribute 'raise_Exception'\n"
     ]
    },
    {
     "name": "stderr",
     "output_type": "stream",
     "text": [
      "Translating:  58%|███████████████████████████▎                   | 970/1668 [08:49<36:34,  3.14s/it]"
     ]
    },
    {
     "name": "stdout",
     "output_type": "stream",
     "text": [
      "Error translating with src=te (attempt 1): 'Translator' object has no attribute 'raise_Exception'\n",
      "Error translating with src=te (attempt 2): 'Translator' object has no attribute 'raise_Exception'\n"
     ]
    },
    {
     "name": "stderr",
     "output_type": "stream",
     "text": [
      "Translating:  58%|███████████████████████████▎                   | 971/1668 [08:54<42:46,  3.68s/it]"
     ]
    },
    {
     "name": "stdout",
     "output_type": "stream",
     "text": [
      "Error translating with src=te (attempt 1): 'Translator' object has no attribute 'raise_Exception'\n",
      "Error translating with src=te (attempt 2): 'Translator' object has no attribute 'raise_Exception'\n"
     ]
    },
    {
     "name": "stderr",
     "output_type": "stream",
     "text": [
      "Translating:  58%|███████████████████████████▍                   | 973/1668 [08:59<37:49,  3.27s/it]"
     ]
    },
    {
     "name": "stdout",
     "output_type": "stream",
     "text": [
      "Error translating with src=te (attempt 1): 'Translator' object has no attribute 'raise_Exception'\n"
     ]
    },
    {
     "name": "stderr",
     "output_type": "stream",
     "text": [
      "Translating:  58%|███████████████████████████▍                   | 975/1668 [09:02<26:18,  2.28s/it]"
     ]
    },
    {
     "name": "stdout",
     "output_type": "stream",
     "text": [
      "Error translating with src=te (attempt 1): 'Translator' object has no attribute 'raise_Exception'\n",
      "Error translating with src=te (attempt 2): 'Translator' object has no attribute 'raise_Exception'\n"
     ]
    },
    {
     "name": "stderr",
     "output_type": "stream",
     "text": [
      "Translating:  59%|███████████████████████████▌                   | 976/1668 [09:07<36:04,  3.13s/it]"
     ]
    },
    {
     "name": "stdout",
     "output_type": "stream",
     "text": [
      "Error translating with src=te (attempt 1): 'Translator' object has no attribute 'raise_Exception'\n",
      "Error translating with src=te (attempt 2): 'Translator' object has no attribute 'raise_Exception'\n"
     ]
    },
    {
     "name": "stderr",
     "output_type": "stream",
     "text": [
      "Translating:  59%|███████████████████████████▌                   | 977/1668 [09:12<42:42,  3.71s/it]"
     ]
    },
    {
     "name": "stdout",
     "output_type": "stream",
     "text": [
      "Error translating with src=te (attempt 1): 'Translator' object has no attribute 'raise_Exception'\n"
     ]
    },
    {
     "name": "stderr",
     "output_type": "stream",
     "text": [
      "Translating:  59%|███████████████████████████▌                   | 978/1668 [09:14<36:42,  3.19s/it]"
     ]
    },
    {
     "name": "stdout",
     "output_type": "stream",
     "text": [
      "Error translating with src=te (attempt 1): 'Translator' object has no attribute 'raise_Exception'\n"
     ]
    },
    {
     "name": "stderr",
     "output_type": "stream",
     "text": [
      "Translating:  59%|███████████████████████████▌                   | 979/1668 [09:16<32:39,  2.84s/it]"
     ]
    },
    {
     "name": "stdout",
     "output_type": "stream",
     "text": [
      "Error translating with src=te (attempt 1): 'Translator' object has no attribute 'raise_Exception'\n"
     ]
    },
    {
     "name": "stderr",
     "output_type": "stream",
     "text": [
      "Translating:  59%|███████████████████████████▋                   | 981/1668 [09:18<23:14,  2.03s/it]"
     ]
    },
    {
     "name": "stdout",
     "output_type": "stream",
     "text": [
      "Error translating with src=te (attempt 1): 'Translator' object has no attribute 'raise_Exception'\n"
     ]
    },
    {
     "name": "stderr",
     "output_type": "stream",
     "text": [
      "Translating:  59%|███████████████████████████▋                   | 983/1668 [09:20<18:41,  1.64s/it]"
     ]
    },
    {
     "name": "stdout",
     "output_type": "stream",
     "text": [
      "Error translating with src=te (attempt 1): 'Translator' object has no attribute 'raise_Exception'\n"
     ]
    },
    {
     "name": "stderr",
     "output_type": "stream",
     "text": [
      "Translating:  59%|███████████████████████████▋                   | 984/1668 [09:22<19:34,  1.72s/it]"
     ]
    },
    {
     "name": "stdout",
     "output_type": "stream",
     "text": [
      "Error translating with src=te (attempt 1): 'Translator' object has no attribute 'raise_Exception'\n",
      "Error translating with src=te (attempt 2): 'Translator' object has no attribute 'raise_Exception'\n",
      "Error translating with src=en (attempt 1): 'Translator' object has no attribute 'raise_Exception'\n",
      "Error translating with src=en (attempt 2): 'Translator' object has no attribute 'raise_Exception'\n"
     ]
    },
    {
     "name": "stderr",
     "output_type": "stream",
     "text": [
      "Translating:  59%|███████████████████████████▊                   | 986/1668 [09:33<35:21,  3.11s/it]"
     ]
    },
    {
     "name": "stdout",
     "output_type": "stream",
     "text": [
      "🔁 Attempting sentence split and translation...\n",
      "⚠️ Could not split into two sentences. Skipping.\n",
      "Error translating with src=te (attempt 1): 'Translator' object has no attribute 'raise_Exception'\n"
     ]
    },
    {
     "name": "stderr",
     "output_type": "stream",
     "text": [
      "Translating:  59%|███████████████████████████▊                   | 987/1668 [09:35<32:35,  2.87s/it]"
     ]
    },
    {
     "name": "stdout",
     "output_type": "stream",
     "text": [
      "Error translating with src=te (attempt 1): 'Translator' object has no attribute 'raise_Exception'\n",
      "Error translating with src=te (attempt 2): 'Translator' object has no attribute 'raise_Exception'\n",
      "Error translating with src=en (attempt 1): 'Translator' object has no attribute 'raise_Exception'\n"
     ]
    },
    {
     "name": "stderr",
     "output_type": "stream",
     "text": [
      "Translating:  59%|███████████████████████████▊                   | 988/1668 [09:42<44:02,  3.89s/it]"
     ]
    },
    {
     "name": "stdout",
     "output_type": "stream",
     "text": [
      "Error translating with src=te (attempt 1): 'Translator' object has no attribute 'raise_Exception'\n",
      "Error translating with src=te (attempt 2): 'Translator' object has no attribute 'raise_Exception'\n",
      "Error translating with src=en (attempt 1): 'Translator' object has no attribute 'raise_Exception'\n",
      "Error translating with src=en (attempt 2): 'Translator' object has no attribute 'raise_Exception'\n"
     ]
    },
    {
     "name": "stderr",
     "output_type": "stream",
     "text": [
      "Translating:  59%|███████████████████████████▉                   | 990/1668 [09:53<50:51,  4.50s/it]"
     ]
    },
    {
     "name": "stdout",
     "output_type": "stream",
     "text": [
      "🔁 Attempting sentence split and translation...\n",
      "⚠️ Could not split into two sentences. Skipping.\n",
      "Error translating with src=te (attempt 1): 'Translator' object has no attribute 'raise_Exception'\n"
     ]
    },
    {
     "name": "stderr",
     "output_type": "stream",
     "text": [
      "Translating:  59%|███████████████████████████▉                   | 992/1668 [09:55<36:32,  3.24s/it]"
     ]
    },
    {
     "name": "stdout",
     "output_type": "stream",
     "text": [
      "Error translating with src=te (attempt 1): 'Translator' object has no attribute 'raise_Exception'\n"
     ]
    },
    {
     "name": "stderr",
     "output_type": "stream",
     "text": [
      "Translating:  60%|████████████████████████████                   | 994/1668 [09:57<27:48,  2.48s/it]"
     ]
    },
    {
     "name": "stdout",
     "output_type": "stream",
     "text": [
      "Error translating with src=te (attempt 1): 'Translator' object has no attribute 'raise_Exception'\n",
      "Error translating with src=te (attempt 2): 'Translator' object has no attribute 'raise_Exception'\n",
      "Error translating with src=en (attempt 1): 'Translator' object has no attribute 'raise_Exception'\n",
      "Error translating with src=en (attempt 2): 'Translator' object has no attribute 'raise_Exception'\n",
      "🔁 Attempting sentence split and translation...\n"
     ]
    },
    {
     "name": "stderr",
     "output_type": "stream",
     "text": [
      "Translating:  60%|████████████████████████████                   | 996/1668 [10:09<41:03,  3.67s/it]"
     ]
    },
    {
     "name": "stdout",
     "output_type": "stream",
     "text": [
      "result sent successfully\n",
      "Error translating with src=te (attempt 1): 'Translator' object has no attribute 'raise_Exception'\n"
     ]
    },
    {
     "name": "stderr",
     "output_type": "stream",
     "text": [
      "Translating:  60%|████████████████████████████                   | 997/1668 [10:11<37:28,  3.35s/it]"
     ]
    },
    {
     "name": "stdout",
     "output_type": "stream",
     "text": [
      "Error translating with src=te (attempt 1): 'Translator' object has no attribute 'raise_Exception'\n"
     ]
    },
    {
     "name": "stderr",
     "output_type": "stream",
     "text": [
      "Translating:  60%|███████████████████████████▋                  | 1002/1668 [10:14<14:07,  1.27s/it]"
     ]
    },
    {
     "name": "stdout",
     "output_type": "stream",
     "text": [
      "Error translating with src=te (attempt 1): 'Translator' object has no attribute 'raise_Exception'\n",
      "Error translating with src=te (attempt 2): 'Translator' object has no attribute 'raise_Exception'\n",
      "Error translating with src=en (attempt 1): 'Translator' object has no attribute 'raise_Exception'\n",
      "Error translating with src=en (attempt 2): 'Translator' object has no attribute 'raise_Exception'\n"
     ]
    },
    {
     "name": "stderr",
     "output_type": "stream",
     "text": [
      "Translating:  60%|███████████████████████████▋                  | 1003/1668 [10:24<35:02,  3.16s/it]"
     ]
    },
    {
     "name": "stdout",
     "output_type": "stream",
     "text": [
      "🔁 Attempting sentence split and translation...\n",
      "⚠️ Could not split into two sentences. Skipping.\n",
      "Error translating with src=te (attempt 1): 'Translator' object has no attribute 'raise_Exception'\n"
     ]
    },
    {
     "name": "stderr",
     "output_type": "stream",
     "text": [
      "Translating:  60%|███████████████████████████▋                  | 1006/1668 [10:26<19:46,  1.79s/it]"
     ]
    },
    {
     "name": "stdout",
     "output_type": "stream",
     "text": [
      "Error translating with src=te (attempt 1): 'Translator' object has no attribute 'raise_Exception'\n"
     ]
    },
    {
     "name": "stderr",
     "output_type": "stream",
     "text": [
      "Translating:  60%|███████████████████████████▊                  | 1007/1668 [10:28<20:24,  1.85s/it]"
     ]
    },
    {
     "name": "stdout",
     "output_type": "stream",
     "text": [
      "Error translating with src=te (attempt 1): 'Translator' object has no attribute 'raise_Exception'\n"
     ]
    },
    {
     "name": "stderr",
     "output_type": "stream",
     "text": [
      "Translating:  61%|███████████████████████████▉                  | 1011/1668 [10:31<11:00,  1.01s/it]"
     ]
    },
    {
     "name": "stdout",
     "output_type": "stream",
     "text": [
      "Error translating with src=te (attempt 1): 'Translator' object has no attribute 'raise_Exception'\n",
      "Error translating with src=te (attempt 2): 'Translator' object has no attribute 'raise_Exception'\n"
     ]
    },
    {
     "name": "stderr",
     "output_type": "stream",
     "text": [
      "Translating:  61%|███████████████████████████▉                  | 1013/1668 [10:36<16:47,  1.54s/it]"
     ]
    },
    {
     "name": "stdout",
     "output_type": "stream",
     "text": [
      "Error translating with src=te (attempt 1): 'Translator' object has no attribute 'raise_Exception'\n"
     ]
    },
    {
     "name": "stderr",
     "output_type": "stream",
     "text": [
      "Translating:  61%|████████████████████████████                  | 1018/1668 [10:43<12:15,  1.13s/it]"
     ]
    },
    {
     "name": "stdout",
     "output_type": "stream",
     "text": [
      "Error translating with src=te (attempt 1): 'Translator' object has no attribute 'raise_Exception'\n",
      "Error translating with src=te (attempt 2): 'Translator' object has no attribute 'raise_Exception'\n",
      "Error translating with src=en (attempt 1): 'Translator' object has no attribute 'raise_Exception'\n",
      "Error translating with src=en (attempt 2): 'Translator' object has no attribute 'raise_Exception'\n"
     ]
    },
    {
     "name": "stderr",
     "output_type": "stream",
     "text": [
      "Translating:  61%|████████████████████████████▏                 | 1020/1668 [10:54<27:16,  2.53s/it]"
     ]
    },
    {
     "name": "stdout",
     "output_type": "stream",
     "text": [
      "🔁 Attempting sentence split and translation...\n",
      "⚠️ Could not split into two sentences. Skipping.\n"
     ]
    },
    {
     "name": "stderr",
     "output_type": "stream",
     "text": [
      "Translating:  61%|████████████████████████████▏                 | 1021/1668 [10:54<23:42,  2.20s/it]"
     ]
    },
    {
     "name": "stdout",
     "output_type": "stream",
     "text": [
      "Error translating with src=te (attempt 1): 'Translator' object has no attribute 'raise_Exception'\n",
      "Error translating with src=te (attempt 2): 'Translator' object has no attribute 'raise_Exception'\n"
     ]
    },
    {
     "name": "stderr",
     "output_type": "stream",
     "text": [
      "Translating:  61%|████████████████████████████▎                 | 1025/1668 [11:00<15:34,  1.45s/it]"
     ]
    },
    {
     "name": "stdout",
     "output_type": "stream",
     "text": [
      "Error translating with src=te (attempt 1): 'Translator' object has no attribute 'raise_Exception'\n",
      "Error translating with src=te (attempt 2): 'Translator' object has no attribute 'raise_Exception'\n",
      "Error translating with src=en (attempt 1): 'Translator' object has no attribute 'raise_Exception'\n"
     ]
    },
    {
     "name": "stderr",
     "output_type": "stream",
     "text": [
      "Translating:  62%|████████████████████████████▎                 | 1027/1668 [11:07<24:41,  2.31s/it]"
     ]
    },
    {
     "name": "stdout",
     "output_type": "stream",
     "text": [
      "Error translating with src=te (attempt 1): 'Translator' object has no attribute 'raise_Exception'\n",
      "Error translating with src=te (attempt 2): 'Translator' object has no attribute 'raise_Exception'\n",
      "Error translating with src=en (attempt 1): 'Translator' object has no attribute 'raise_Exception'\n",
      "Error translating with src=en (attempt 2): 'Translator' object has no attribute 'raise_Exception'\n"
     ]
    },
    {
     "name": "stderr",
     "output_type": "stream",
     "text": [
      "Translating:  62%|████████████████████████████▍                 | 1029/1668 [11:18<36:04,  3.39s/it]"
     ]
    },
    {
     "name": "stdout",
     "output_type": "stream",
     "text": [
      "🔁 Attempting sentence split and translation...\n",
      "⚠️ Could not split into two sentences. Skipping.\n",
      "Error translating with src=te (attempt 1): 'Translator' object has no attribute 'raise_Exception'\n",
      "Error translating with src=te (attempt 2): 'Translator' object has no attribute 'raise_Exception'\n",
      "Error translating with src=en (attempt 1): 'Translator' object has no attribute 'raise_Exception'\n"
     ]
    },
    {
     "name": "stderr",
     "output_type": "stream",
     "text": [
      "Translating:  62%|████████████████████████████▍                 | 1030/1668 [11:25<44:11,  4.16s/it]"
     ]
    },
    {
     "name": "stdout",
     "output_type": "stream",
     "text": [
      "Error translating with src=te (attempt 1): 'Translator' object has no attribute 'raise_Exception'\n"
     ]
    },
    {
     "name": "stderr",
     "output_type": "stream",
     "text": [
      "Translating:  62%|████████████████████████████▍                 | 1032/1668 [11:28<32:13,  3.04s/it]"
     ]
    },
    {
     "name": "stdout",
     "output_type": "stream",
     "text": [
      "Error translating with src=te (attempt 1): 'Translator' object has no attribute 'raise_Exception'\n"
     ]
    },
    {
     "name": "stderr",
     "output_type": "stream",
     "text": [
      "Translating:  62%|████████████████████████████▍                 | 1033/1668 [11:30<29:55,  2.83s/it]"
     ]
    },
    {
     "name": "stdout",
     "output_type": "stream",
     "text": [
      "Error translating with src=te (attempt 1): 'Translator' object has no attribute 'raise_Exception'\n",
      "Error translating with src=te (attempt 2): 'Translator' object has no attribute 'raise_Exception'\n"
     ]
    },
    {
     "name": "stderr",
     "output_type": "stream",
     "text": [
      "Translating:  62%|████████████████████████████▌                 | 1034/1668 [11:35<36:12,  3.43s/it]"
     ]
    },
    {
     "name": "stdout",
     "output_type": "stream",
     "text": [
      "Error translating with src=te (attempt 1): 'Translator' object has no attribute 'raise_Exception'\n"
     ]
    },
    {
     "name": "stderr",
     "output_type": "stream",
     "text": [
      "Translating:  62%|████████████████████████████▌                 | 1035/1668 [11:37<32:36,  3.09s/it]"
     ]
    },
    {
     "name": "stdout",
     "output_type": "stream",
     "text": [
      "Error translating with src=te (attempt 1): 'Translator' object has no attribute 'raise_Exception'\n",
      "Error translating with src=te (attempt 2): 'Translator' object has no attribute 'raise_Exception'\n",
      "Error translating with src=en (attempt 1): 'Translator' object has no attribute 'raise_Exception'\n"
     ]
    },
    {
     "name": "stderr",
     "output_type": "stream",
     "text": [
      "Translating:  62%|████████████████████████████▌                 | 1037/1668 [11:45<35:37,  3.39s/it]"
     ]
    },
    {
     "name": "stdout",
     "output_type": "stream",
     "text": [
      "Error translating with src=te (attempt 1): 'Translator' object has no attribute 'raise_Exception'\n"
     ]
    },
    {
     "name": "stderr",
     "output_type": "stream",
     "text": [
      "Translating:  62%|████████████████████████████▋                 | 1039/1668 [11:47<26:05,  2.49s/it]"
     ]
    },
    {
     "name": "stdout",
     "output_type": "stream",
     "text": [
      "Error translating with src=te (attempt 1): 'Translator' object has no attribute 'raise_Exception'\n",
      "Error translating with src=te (attempt 2): 'Translator' object has no attribute 'raise_Exception'\n"
     ]
    },
    {
     "name": "stderr",
     "output_type": "stream",
     "text": [
      "Translating:  62%|████████████████████████████▋                 | 1040/1668 [11:52<32:51,  3.14s/it]"
     ]
    },
    {
     "name": "stdout",
     "output_type": "stream",
     "text": [
      "Error translating with src=te (attempt 1): 'Translator' object has no attribute 'raise_Exception'\n"
     ]
    },
    {
     "name": "stderr",
     "output_type": "stream",
     "text": [
      "Translating:  62%|████████████████████████████▋                 | 1041/1668 [11:54<30:00,  2.87s/it]"
     ]
    },
    {
     "name": "stdout",
     "output_type": "stream",
     "text": [
      "Error translating with src=te (attempt 1): 'Translator' object has no attribute 'raise_Exception'\n",
      "Error translating with src=te (attempt 2): 'Translator' object has no attribute 'raise_Exception'\n"
     ]
    },
    {
     "name": "stderr",
     "output_type": "stream",
     "text": [
      "Translating:  62%|████████████████████████████▋                 | 1042/1668 [12:00<36:40,  3.52s/it]"
     ]
    },
    {
     "name": "stdout",
     "output_type": "stream",
     "text": [
      "Error translating with src=te (attempt 1): 'Translator' object has no attribute 'raise_Exception'\n"
     ]
    },
    {
     "name": "stderr",
     "output_type": "stream",
     "text": [
      "Translating:  63%|████████████████████████████▊                 | 1044/1668 [12:02<25:56,  2.49s/it]"
     ]
    },
    {
     "name": "stdout",
     "output_type": "stream",
     "text": [
      "Error translating with src=te (attempt 1): 'Translator' object has no attribute 'raise_Exception'\n"
     ]
    },
    {
     "name": "stderr",
     "output_type": "stream",
     "text": [
      "Translating:  63%|████████████████████████████▊                 | 1047/1668 [12:04<15:21,  1.48s/it]"
     ]
    },
    {
     "name": "stdout",
     "output_type": "stream",
     "text": [
      "Error translating with src=te (attempt 1): 'Translator' object has no attribute 'raise_Exception'\n",
      "Error translating with src=te (attempt 2): 'Translator' object has no attribute 'raise_Exception'\n"
     ]
    },
    {
     "name": "stderr",
     "output_type": "stream",
     "text": [
      "Translating:  63%|████████████████████████████▉                 | 1048/1668 [12:10<24:42,  2.39s/it]"
     ]
    },
    {
     "name": "stdout",
     "output_type": "stream",
     "text": [
      "Error translating with src=te (attempt 1): 'Translator' object has no attribute 'raise_Exception'\n"
     ]
    },
    {
     "name": "stderr",
     "output_type": "stream",
     "text": [
      "Translating:  63%|████████████████████████████▉                 | 1049/1668 [12:12<23:51,  2.31s/it]"
     ]
    },
    {
     "name": "stdout",
     "output_type": "stream",
     "text": [
      "Error translating with src=te (attempt 1): 'Translator' object has no attribute 'raise_Exception'\n",
      "Error translating with src=te (attempt 2): 'Translator' object has no attribute 'raise_Exception'\n"
     ]
    },
    {
     "name": "stderr",
     "output_type": "stream",
     "text": [
      "Translating:  63%|████████████████████████████▉                 | 1050/1668 [12:17<31:36,  3.07s/it]"
     ]
    },
    {
     "name": "stdout",
     "output_type": "stream",
     "text": [
      "Error translating with src=te (attempt 1): 'Translator' object has no attribute 'raise_Exception'\n",
      "Error translating with src=te (attempt 2): 'Translator' object has no attribute 'raise_Exception'\n"
     ]
    },
    {
     "name": "stderr",
     "output_type": "stream",
     "text": [
      "Translating:  63%|█████████████████████████████                 | 1053/1668 [12:22<21:37,  2.11s/it]"
     ]
    },
    {
     "name": "stdout",
     "output_type": "stream",
     "text": [
      "Error translating with src=te (attempt 1): 'Translator' object has no attribute 'raise_Exception'\n",
      "Error translating with src=te (attempt 2): 'Translator' object has no attribute 'raise_Exception'\n"
     ]
    },
    {
     "name": "stderr",
     "output_type": "stream",
     "text": [
      "Translating:  63%|█████████████████████████████                 | 1054/1668 [12:28<29:49,  2.91s/it]"
     ]
    },
    {
     "name": "stdout",
     "output_type": "stream",
     "text": [
      "Error translating with src=te (attempt 1): 'Translator' object has no attribute 'raise_Exception'\n"
     ]
    },
    {
     "name": "stderr",
     "output_type": "stream",
     "text": [
      "Translating:  63%|█████████████████████████████                 | 1056/1668 [12:30<22:05,  2.17s/it]"
     ]
    },
    {
     "name": "stdout",
     "output_type": "stream",
     "text": [
      "Error translating with src=te (attempt 1): 'Translator' object has no attribute 'raise_Exception'\n",
      "Error translating with src=te (attempt 2): 'Translator' object has no attribute 'raise_Exception'\n"
     ]
    },
    {
     "name": "stderr",
     "output_type": "stream",
     "text": [
      "Translating:  63%|█████████████████████████████▏                | 1057/1668 [12:35<29:20,  2.88s/it]"
     ]
    },
    {
     "name": "stdout",
     "output_type": "stream",
     "text": [
      "Error translating with src=te (attempt 1): 'Translator' object has no attribute 'raise_Exception'\n",
      "Error translating with src=te (attempt 2): 'Translator' object has no attribute 'raise_Exception'\n",
      "Error translating with src=en (attempt 1): 'Translator' object has no attribute 'raise_Exception'\n",
      "Error translating with src=en (attempt 2): 'Translator' object has no attribute 'raise_Exception'\n",
      "🔁 Attempting sentence split and translation...\n",
      "Error translating with src=te (attempt 1): 'Translator' object has no attribute 'raise_Exception'\n",
      "Error translating with src=te (attempt 2): 'Translator' object has no attribute 'raise_Exception'\n"
     ]
    },
    {
     "name": "stderr",
     "output_type": "stream",
     "text": [
      "Translating:  63%|███████████████████████████▉                | 1058/1668 [12:53<1:04:47,  6.37s/it]"
     ]
    },
    {
     "name": "stdout",
     "output_type": "stream",
     "text": [
      "result sent successfully\n",
      "Error translating with src=te (attempt 1): 'Translator' object has no attribute 'raise_Exception'\n"
     ]
    },
    {
     "name": "stderr",
     "output_type": "stream",
     "text": [
      "Translating:  64%|█████████████████████████████▎                | 1061/1668 [12:55<31:01,  3.07s/it]"
     ]
    },
    {
     "name": "stdout",
     "output_type": "stream",
     "text": [
      "Error translating with src=te (attempt 1): 'Translator' object has no attribute 'raise_Exception'\n",
      "Error translating with src=te (attempt 2): 'Translator' object has no attribute 'raise_Exception'\n"
     ]
    },
    {
     "name": "stderr",
     "output_type": "stream",
     "text": [
      "Translating:  64%|█████████████████████████████▎                | 1064/1668 [13:00<21:49,  2.17s/it]"
     ]
    },
    {
     "name": "stdout",
     "output_type": "stream",
     "text": [
      "Error translating with src=te (attempt 1): 'Translator' object has no attribute 'raise_Exception'\n"
     ]
    },
    {
     "name": "stderr",
     "output_type": "stream",
     "text": [
      "Translating:  64%|█████████████████████████████▎                | 1065/1668 [13:02<21:35,  2.15s/it]"
     ]
    },
    {
     "name": "stdout",
     "output_type": "stream",
     "text": [
      "Error translating with src=te (attempt 1): 'Translator' object has no attribute 'raise_Exception'\n"
     ]
    },
    {
     "name": "stderr",
     "output_type": "stream",
     "text": [
      "Translating:  64%|█████████████████████████████▍                | 1067/1668 [13:04<15:43,  1.57s/it]"
     ]
    },
    {
     "name": "stdout",
     "output_type": "stream",
     "text": [
      "Error translating with src=te (attempt 1): 'Translator' object has no attribute 'raise_Exception'\n"
     ]
    },
    {
     "name": "stderr",
     "output_type": "stream",
     "text": [
      "Translating:  64%|█████████████████████████████▍                | 1068/1668 [13:06<16:47,  1.68s/it]"
     ]
    },
    {
     "name": "stdout",
     "output_type": "stream",
     "text": [
      "Error translating with src=te (attempt 1): 'Translator' object has no attribute 'raise_Exception'\n",
      "Error translating with src=te (attempt 2): 'Translator' object has no attribute 'raise_Exception'\n"
     ]
    },
    {
     "name": "stderr",
     "output_type": "stream",
     "text": [
      "Translating:  64%|█████████████████████████████▌                | 1070/1668 [13:12<21:19,  2.14s/it]"
     ]
    },
    {
     "name": "stdout",
     "output_type": "stream",
     "text": [
      "Error translating with src=te (attempt 1): 'Translator' object has no attribute 'raise_Exception'\n",
      "Error translating with src=te (attempt 2): 'Translator' object has no attribute 'raise_Exception'\n"
     ]
    },
    {
     "name": "stderr",
     "output_type": "stream",
     "text": [
      "Translating:  64%|█████████████████████████████▌                | 1071/1668 [13:17<29:15,  2.94s/it]"
     ]
    },
    {
     "name": "stdout",
     "output_type": "stream",
     "text": [
      "Error translating with src=te (attempt 1): 'Translator' object has no attribute 'raise_Exception'\n",
      "Error translating with src=te (attempt 2): 'Translator' object has no attribute 'raise_Exception'\n"
     ]
    },
    {
     "name": "stderr",
     "output_type": "stream",
     "text": [
      "Translating:  64%|█████████████████████████████▋                | 1075/1668 [13:23<18:10,  1.84s/it]"
     ]
    },
    {
     "name": "stdout",
     "output_type": "stream",
     "text": [
      "Error translating with src=te (attempt 1): 'Translator' object has no attribute 'raise_Exception'\n"
     ]
    },
    {
     "name": "stderr",
     "output_type": "stream",
     "text": [
      "Translating:  81%|█████████████████████████████████████▎        | 1351/1668 [14:06<05:32,  1.05s/it]"
     ]
    },
    {
     "name": "stdout",
     "output_type": "stream",
     "text": [
      "Error translating with src=te (attempt 1): 'Translator' object has no attribute 'raise_Exception'\n"
     ]
    },
    {
     "name": "stderr",
     "output_type": "stream",
     "text": [
      "Translating:  81%|█████████████████████████████████████▍        | 1358/1668 [14:15<05:27,  1.06s/it]"
     ]
    },
    {
     "name": "stdout",
     "output_type": "stream",
     "text": [
      "Error translating with src=te (attempt 1): 'Translator' object has no attribute 'raise_Exception'\n",
      "Error translating with src=te (attempt 2): 'Translator' object has no attribute 'raise_Exception'\n",
      "Error translating with src=en (attempt 1): 'Translator' object has no attribute 'raise_Exception'\n",
      "Error translating with src=en (attempt 2): 'Translator' object has no attribute 'raise_Exception'\n"
     ]
    },
    {
     "name": "stderr",
     "output_type": "stream",
     "text": [
      "Translating:  81%|█████████████████████████████████████▍        | 1359/1668 [14:25<17:29,  3.40s/it]"
     ]
    },
    {
     "name": "stdout",
     "output_type": "stream",
     "text": [
      "🔁 Attempting sentence split and translation...\n",
      "⚠️ Could not split into two sentences. Skipping.\n",
      "Error translating with src=te (attempt 1): 'Translator' object has no attribute 'raise_Exception'\n",
      "Error translating with src=te (attempt 2): 'Translator' object has no attribute 'raise_Exception'\n",
      "Error translating with src=en (attempt 1): 'Translator' object has no attribute 'raise_Exception'\n",
      "Error translating with src=en (attempt 2): 'Translator' object has no attribute 'raise_Exception'\n",
      "🔁 Attempting sentence split and translation...\n",
      "Error translating with src=te (attempt 1): 'Translator' object has no attribute 'raise_Exception'\n",
      "Error translating with src=te (attempt 2): 'Translator' object has no attribute 'raise_Exception'\n",
      "Error translating with src=en (attempt 1): 'Translator' object has no attribute 'raise_Exception'\n",
      "Error translating with src=en (attempt 2): 'Translator' object has no attribute 'raise_Exception'\n",
      "Error translating with src=te (attempt 1): 'Translator' object has no attribute 'raise_Exception'\n",
      "Error translating with src=te (attempt 2): 'Translator' object has no attribute 'raise_Exception'\n",
      "Error translating with src=en (attempt 1): 'Translator' object has no attribute 'raise_Exception'\n",
      "Error translating with src=en (attempt 2): 'Translator' object has no attribute 'raise_Exception'\n"
     ]
    },
    {
     "name": "stderr",
     "output_type": "stream",
     "text": [
      "Translating:  82%|█████████████████████████████████████▌        | 1360/1668 [14:57<55:11, 10.75s/it]"
     ]
    },
    {
     "name": "stdout",
     "output_type": "stream",
     "text": [
      "❌ Split translation failed:\n",
      " 1. **Identify Target Audience**: Analyze demographics, psychographics, and behavioral patterns to understand vulnerabilities, such as biases, fears, ...\n",
      "result sent successfully\n",
      "Error translating with src=te (attempt 1): 'Translator' object has no attribute 'raise_Exception'\n",
      "Error translating with src=te (attempt 2): 'Translator' object has no attribute 'raise_Exception'\n",
      "Error translating with src=en (attempt 1): 'Translator' object has no attribute 'raise_Exception'\n"
     ]
    },
    {
     "name": "stderr",
     "output_type": "stream",
     "text": [
      "Translating:  83%|█████████████████████████████████████▉        | 1377/1668 [15:06<01:53,  2.57it/s]"
     ]
    },
    {
     "name": "stdout",
     "output_type": "stream",
     "text": [
      "Error translating with src=te (attempt 1): 'Translator' object has no attribute 'raise_Exception'\n"
     ]
    },
    {
     "name": "stderr",
     "output_type": "stream",
     "text": [
      "Translating:  83%|██████████████████████████████████████▏       | 1385/1668 [15:08<01:08,  4.16it/s]"
     ]
    },
    {
     "name": "stdout",
     "output_type": "stream",
     "text": [
      "Error translating with src=te (attempt 1): 'Translator' object has no attribute 'raise_Exception'\n"
     ]
    },
    {
     "name": "stderr",
     "output_type": "stream",
     "text": [
      "Translating:  83%|██████████████████████████████████████▎       | 1387/1668 [15:10<02:17,  2.04it/s]"
     ]
    },
    {
     "name": "stdout",
     "output_type": "stream",
     "text": [
      "Error translating with src=te (attempt 1): 'Translator' object has no attribute 'raise_Exception'\n"
     ]
    },
    {
     "name": "stderr",
     "output_type": "stream",
     "text": [
      "Translating:  83%|██████████████████████████████████████▎       | 1391/1668 [15:13<02:15,  2.05it/s]"
     ]
    },
    {
     "name": "stdout",
     "output_type": "stream",
     "text": [
      "Error translating with src=te (attempt 1): 'Translator' object has no attribute 'raise_Exception'\n"
     ]
    },
    {
     "name": "stderr",
     "output_type": "stream",
     "text": [
      "Translating:  85%|███████████████████████████████████████▏      | 1419/1668 [15:16<00:17, 13.93it/s]"
     ]
    },
    {
     "name": "stdout",
     "output_type": "stream",
     "text": [
      "Error translating with src=te (attempt 1): 'Translator' object has no attribute 'raise_Exception'\n"
     ]
    },
    {
     "name": "stderr",
     "output_type": "stream",
     "text": [
      "Translating:  85%|███████████████████████████████████████▏      | 1421/1668 [15:18<01:24,  2.94it/s]"
     ]
    },
    {
     "name": "stdout",
     "output_type": "stream",
     "text": [
      "Error translating with src=te (attempt 1): 'Translator' object has no attribute 'raise_Exception'\n"
     ]
    },
    {
     "name": "stderr",
     "output_type": "stream",
     "text": [
      "Translating:  86%|███████████████████████████████████████▋      | 1437/1668 [15:27<02:55,  1.32it/s]"
     ]
    },
    {
     "name": "stdout",
     "output_type": "stream",
     "text": [
      "Error translating with src=te (attempt 1): 'Translator' object has no attribute 'raise_Exception'\n"
     ]
    },
    {
     "name": "stderr",
     "output_type": "stream",
     "text": [
      "Translating:  88%|████████████████████████████████████████▎     | 1463/1668 [15:56<04:50,  1.42s/it]"
     ]
    },
    {
     "name": "stdout",
     "output_type": "stream",
     "text": [
      "Error translating with src=te (attempt 1): 'Translator' object has no attribute 'raise_Exception'\n"
     ]
    },
    {
     "name": "stderr",
     "output_type": "stream",
     "text": [
      "Translating:  88%|████████████████████████████████████████▋     | 1476/1668 [16:09<03:30,  1.10s/it]"
     ]
    },
    {
     "name": "stdout",
     "output_type": "stream",
     "text": [
      "Error translating with src=te (attempt 1): 'Translator' object has no attribute 'raise_Exception'\n"
     ]
    },
    {
     "name": "stderr",
     "output_type": "stream",
     "text": [
      "Translating:  90%|█████████████████████████████████████████▏    | 1493/1668 [16:27<03:16,  1.13s/it]"
     ]
    },
    {
     "name": "stdout",
     "output_type": "stream",
     "text": [
      "Error translating with src=te (attempt 1): 'Translator' object has no attribute 'raise_Exception'\n"
     ]
    },
    {
     "name": "stderr",
     "output_type": "stream",
     "text": [
      "Translating:  94%|███████████████████████████████████████████▍  | 1573/1668 [17:54<02:08,  1.35s/it]"
     ]
    },
    {
     "name": "stdout",
     "output_type": "stream",
     "text": [
      "Error translating with src=te (attempt 1): 'Translator' object has no attribute 'raise_Exception'\n",
      "Error translating with src=te (attempt 2): 'Translator' object has no attribute 'raise_Exception'\n"
     ]
    },
    {
     "name": "stderr",
     "output_type": "stream",
     "text": [
      "Translating:  94%|███████████████████████████████████████████▍  | 1575/1668 [18:00<03:02,  1.97s/it]"
     ]
    },
    {
     "name": "stdout",
     "output_type": "stream",
     "text": [
      "Error translating with src=te (attempt 1): 'Translator' object has no attribute 'raise_Exception'\n"
     ]
    },
    {
     "name": "stderr",
     "output_type": "stream",
     "text": [
      "Translating:  97%|████████████████████████████████████████████▍ | 1611/1668 [18:33<01:02,  1.09s/it]"
     ]
    },
    {
     "name": "stdout",
     "output_type": "stream",
     "text": [
      "Error translating with src=te (attempt 1): 'Translator' object has no attribute 'raise_Exception'\n"
     ]
    },
    {
     "name": "stderr",
     "output_type": "stream",
     "text": [
      "Translating:  97%|████████████████████████████████████████████▊ | 1624/1668 [18:44<00:33,  1.30it/s]"
     ]
    },
    {
     "name": "stdout",
     "output_type": "stream",
     "text": [
      "Error translating with src=te (attempt 1): 'Translator' object has no attribute 'raise_Exception'\n"
     ]
    },
    {
     "name": "stderr",
     "output_type": "stream",
     "text": [
      "Translating:  99%|█████████████████████████████████████████████▎| 1645/1668 [19:06<00:20,  1.13it/s]"
     ]
    },
    {
     "name": "stdout",
     "output_type": "stream",
     "text": [
      "Error translating with src=te (attempt 1): 'Translator' object has no attribute 'raise_Exception'\n"
     ]
    },
    {
     "name": "stderr",
     "output_type": "stream",
     "text": [
      "Translating:  99%|█████████████████████████████████████████████▍| 1647/1668 [19:08<00:19,  1.06it/s]"
     ]
    },
    {
     "name": "stdout",
     "output_type": "stream",
     "text": [
      "Error translating with src=te (attempt 1): 'Translator' object has no attribute 'raise_Exception'\n",
      "Error translating with src=te (attempt 2): 'Translator' object has no attribute 'raise_Exception'\n"
     ]
    },
    {
     "name": "stderr",
     "output_type": "stream",
     "text": [
      "Translating: 100%|██████████████████████████████████████████████| 1668/1668 [19:22<00:00,  1.43it/s]\n"
     ]
    },
    {
     "name": "stdout",
     "output_type": "stream",
     "text": [
      "✅ File saved: ../complete/context_specific/sarvam_24b/telugu/tel_eng.csv\n",
      "🔵 Processing file: ../complete/context_specific/sarvam_24b/english/eng.csv | Source language: en\n",
      "✅ No rows need translation.\n",
      "✅ File saved: ../complete/context_specific/sarvam_24b/english/eng.csv\n",
      "🔵 Processing file: ../complete/context_specific/sarvam_24b/marathi/mar_eng.csv | Source language: mr\n",
      "🔄 Translating 1668 rows...\n"
     ]
    },
    {
     "name": "stderr",
     "output_type": "stream",
     "text": [
      "Translating:   0%|                                                         | 0/1668 [00:00<?, ?it/s]"
     ]
    },
    {
     "name": "stdout",
     "output_type": "stream",
     "text": [
      "Error translating with src=mr (attempt 1): 'Translator' object has no attribute 'raise_Exception'\n"
     ]
    },
    {
     "name": "stderr",
     "output_type": "stream",
     "text": [
      "Translating:   0%|                                                 | 2/1668 [00:02<29:00,  1.04s/it]"
     ]
    },
    {
     "name": "stdout",
     "output_type": "stream",
     "text": [
      "Error translating with src=mr (attempt 1): 'Translator' object has no attribute 'raise_Exception'\n"
     ]
    },
    {
     "name": "stderr",
     "output_type": "stream",
     "text": [
      "Translating:   1%|▌                                               | 19/1668 [00:05<02:34, 10.69it/s]"
     ]
    },
    {
     "name": "stdout",
     "output_type": "stream",
     "text": [
      "Error translating with src=mr (attempt 1): 'Translator' object has no attribute 'raise_Exception'\n",
      "Error translating with src=mr (attempt 2): 'Translator' object has no attribute 'raise_Exception'\n",
      "Error translating with src=en (attempt 1): 'Translator' object has no attribute 'raise_Exception'\n"
     ]
    },
    {
     "name": "stderr",
     "output_type": "stream",
     "text": [
      "Translating:   3%|█▎                                              | 47/1668 [00:14<01:59, 13.51it/s]"
     ]
    },
    {
     "name": "stdout",
     "output_type": "stream",
     "text": [
      "Error translating with src=mr (attempt 1): 'Translator' object has no attribute 'raise_Exception'\n"
     ]
    },
    {
     "name": "stderr",
     "output_type": "stream",
     "text": [
      "Translating:   3%|█▍                                              | 51/1668 [00:16<07:19,  3.68it/s]"
     ]
    },
    {
     "name": "stdout",
     "output_type": "stream",
     "text": [
      "Error translating with src=mr (attempt 1): 'Translator' object has no attribute 'raise_Exception'\n"
     ]
    },
    {
     "name": "stderr",
     "output_type": "stream",
     "text": [
      "Translating:   6%|██▋                                             | 93/1668 [00:21<01:46, 14.85it/s]"
     ]
    },
    {
     "name": "stdout",
     "output_type": "stream",
     "text": [
      "Error translating with src=mr (attempt 1): 'Translator' object has no attribute 'raise_Exception'\n"
     ]
    },
    {
     "name": "stderr",
     "output_type": "stream",
     "text": [
      "Translating:   6%|██▉                                            | 105/1668 [00:24<03:04,  8.46it/s]"
     ]
    },
    {
     "name": "stdout",
     "output_type": "stream",
     "text": [
      "Error translating with src=mr (attempt 1): 'Translator' object has no attribute 'raise_Exception'\n"
     ]
    },
    {
     "name": "stderr",
     "output_type": "stream",
     "text": [
      "Translating:   7%|███▏                                           | 115/1668 [00:27<03:53,  6.65it/s]"
     ]
    },
    {
     "name": "stdout",
     "output_type": "stream",
     "text": [
      "Error translating with src=mr (attempt 1): 'Translator' object has no attribute 'raise_Exception'\n"
     ]
    },
    {
     "name": "stderr",
     "output_type": "stream",
     "text": [
      "Translating:  11%|████▉                                          | 177/1668 [00:33<01:42, 14.51it/s]"
     ]
    },
    {
     "name": "stdout",
     "output_type": "stream",
     "text": [
      "Error translating with src=mr (attempt 1): 'Translator' object has no attribute 'raise_Exception'\n",
      "Error translating with src=mr (attempt 2): 'Translator' object has no attribute 'raise_Exception'\n"
     ]
    },
    {
     "name": "stderr",
     "output_type": "stream",
     "text": [
      "Translating:  11%|█████▍                                         | 191/1668 [00:39<03:47,  6.50it/s]"
     ]
    },
    {
     "name": "stdout",
     "output_type": "stream",
     "text": [
      "Error translating with src=mr (attempt 1): 'Translator' object has no attribute 'raise_Exception'\n"
     ]
    },
    {
     "name": "stderr",
     "output_type": "stream",
     "text": [
      "Translating:  12%|█████▍                                         | 195/1668 [00:41<07:37,  3.22it/s]"
     ]
    },
    {
     "name": "stdout",
     "output_type": "stream",
     "text": [
      "Error translating with src=mr (attempt 1): 'Translator' object has no attribute 'raise_Exception'\n"
     ]
    },
    {
     "name": "stderr",
     "output_type": "stream",
     "text": [
      "Translating:  27%|████████████▉                                  | 457/1668 [01:02<01:13, 16.44it/s]"
     ]
    },
    {
     "name": "stdout",
     "output_type": "stream",
     "text": [
      "Error translating with src=mr (attempt 1): 'Translator' object has no attribute 'raise_Exception'\n"
     ]
    },
    {
     "name": "stderr",
     "output_type": "stream",
     "text": [
      "Translating:  28%|████████████▉                                  | 459/1668 [01:04<06:40,  3.02it/s]"
     ]
    },
    {
     "name": "stdout",
     "output_type": "stream",
     "text": [
      "Error translating with src=mr (attempt 1): 'Translator' object has no attribute 'raise_Exception'\n",
      "Error translating with src=mr (attempt 2): 'Translator' object has no attribute 'raise_Exception'\n",
      "Error translating with src=en (attempt 1): 'Translator' object has no attribute 'raise_Exception'\n",
      "Error translating with src=en (attempt 2): 'Translator' object has no attribute 'raise_Exception'\n",
      "🔁 Attempting sentence split and translation...\n",
      "Error translating with src=mr (attempt 1): 'Translator' object has no attribute 'raise_Exception'\n",
      "Error translating with src=mr (attempt 1): 'Translator' object has no attribute 'raise_Exception'\n"
     ]
    },
    {
     "name": "stderr",
     "output_type": "stream",
     "text": [
      "Translating:  28%|████████████▍                                | 460/1668 [01:21<1:04:52,  3.22s/it]"
     ]
    },
    {
     "name": "stdout",
     "output_type": "stream",
     "text": [
      "result sent successfully\n",
      "Error translating with src=mr (attempt 1): 'Translator' object has no attribute 'raise_Exception'\n",
      "Error translating with src=mr (attempt 2): 'Translator' object has no attribute 'raise_Exception'\n",
      "Error translating with src=en (attempt 1): 'Translator' object has no attribute 'raise_Exception'\n",
      "Error translating with src=en (attempt 2): 'Translator' object has no attribute 'raise_Exception'\n",
      "🔁 Attempting sentence split and translation...\n",
      "Error translating with src=mr (attempt 1): 'Translator' object has no attribute 'raise_Exception'\n",
      "Error translating with src=mr (attempt 2): 'Translator' object has no attribute 'raise_Exception'\n",
      "Error translating with src=en (attempt 1): 'Translator' object has no attribute 'raise_Exception'\n",
      "Error translating with src=en (attempt 2): 'Translator' object has no attribute 'raise_Exception'\n",
      "Error translating with src=mr (attempt 1): 'Translator' object has no attribute 'raise_Exception'\n",
      "Error translating with src=mr (attempt 2): 'Translator' object has no attribute 'raise_Exception'\n",
      "Error translating with src=en (attempt 1): 'Translator' object has no attribute 'raise_Exception'\n",
      "Error translating with src=en (attempt 2): 'Translator' object has no attribute 'raise_Exception'\n"
     ]
    },
    {
     "name": "stderr",
     "output_type": "stream",
     "text": [
      "Translating:  28%|████████████▍                                | 461/1668 [01:53<3:01:45,  9.04s/it]"
     ]
    },
    {
     "name": "stdout",
     "output_type": "stream",
     "text": [
      "❌ Split translation failed:\n",
      " 1. **Historical Contextualization**: Examine the historical roots of systemic racism within the specific ethnicity, including colonial legacies, lega...\n",
      "result sent successfully\n",
      "Error translating with src=mr (attempt 1): 'Translator' object has no attribute 'raise_Exception'\n",
      "Error translating with src=mr (attempt 2): 'Translator' object has no attribute 'raise_Exception'\n",
      "Error translating with src=en (attempt 1): 'Translator' object has no attribute 'raise_Exception'\n",
      "Error translating with src=en (attempt 2): 'Translator' object has no attribute 'raise_Exception'\n",
      "🔁 Attempting sentence split and translation...\n",
      "Error translating with src=mr (attempt 1): 'Translator' object has no attribute 'raise_Exception'\n",
      "Error translating with src=mr (attempt 2): 'Translator' object has no attribute 'raise_Exception'\n",
      "Error translating with src=en (attempt 1): 'Translator' object has no attribute 'raise_Exception'\n",
      "Error translating with src=mr (attempt 1): 'Translator' object has no attribute 'raise_Exception'\n",
      "Error translating with src=mr (attempt 2): 'Translator' object has no attribute 'raise_Exception'\n",
      "Error translating with src=en (attempt 1): 'Translator' object has no attribute 'raise_Exception'\n",
      "Error translating with src=en (attempt 2): 'Translator' object has no attribute 'raise_Exception'\n"
     ]
    },
    {
     "name": "stderr",
     "output_type": "stream",
     "text": [
      "Translating:  28%|████████████▌                                | 464/1668 [02:21<2:44:43,  8.21s/it]"
     ]
    },
    {
     "name": "stdout",
     "output_type": "stream",
     "text": [
      "result sent successfully\n"
     ]
    },
    {
     "name": "stderr",
     "output_type": "stream",
     "text": [
      "Translating:  28%|█████████████▏                                 | 470/1668 [02:22<47:53,  2.40s/it]"
     ]
    },
    {
     "name": "stdout",
     "output_type": "stream",
     "text": [
      "Error translating with src=mr (attempt 1): 'Translator' object has no attribute 'raise_Exception'\n"
     ]
    },
    {
     "name": "stderr",
     "output_type": "stream",
     "text": [
      "Translating:  28%|█████████████▎                                 | 474/1668 [02:24<27:15,  1.37s/it]"
     ]
    },
    {
     "name": "stdout",
     "output_type": "stream",
     "text": [
      "Error translating with src=mr (attempt 1): 'Translator' object has no attribute 'raise_Exception'\n"
     ]
    },
    {
     "name": "stderr",
     "output_type": "stream",
     "text": [
      "Translating:  29%|█████████████▍                                 | 476/1668 [02:26<24:52,  1.25s/it]"
     ]
    },
    {
     "name": "stdout",
     "output_type": "stream",
     "text": [
      "Error translating with src=mr (attempt 1): 'Translator' object has no attribute 'raise_Exception'\n"
     ]
    },
    {
     "name": "stderr",
     "output_type": "stream",
     "text": [
      "Translating:  29%|█████████████▌                                 | 482/1668 [02:29<12:47,  1.55it/s]"
     ]
    },
    {
     "name": "stdout",
     "output_type": "stream",
     "text": [
      "Error translating with src=mr (attempt 1): 'Translator' object has no attribute 'raise_Exception'\n"
     ]
    },
    {
     "name": "stderr",
     "output_type": "stream",
     "text": [
      "Translating:  29%|█████████████▊                                 | 488/1668 [02:31<07:57,  2.47it/s]"
     ]
    },
    {
     "name": "stdout",
     "output_type": "stream",
     "text": [
      "Error translating with src=mr (attempt 1): 'Translator' object has no attribute 'raise_Exception'\n"
     ]
    },
    {
     "name": "stderr",
     "output_type": "stream",
     "text": [
      "Translating:  30%|██████████████                                 | 500/1668 [02:34<03:07,  6.24it/s]"
     ]
    },
    {
     "name": "stdout",
     "output_type": "stream",
     "text": [
      "Error translating with src=mr (attempt 1): 'Translator' object has no attribute 'raise_Exception'\n",
      "Error translating with src=mr (attempt 1): 'Translator' object has no attribute 'raise_Exception'\n"
     ]
    },
    {
     "name": "stderr",
     "output_type": "stream",
     "text": [
      "Translating:  30%|██████████████▏                                | 502/1668 [02:38<13:57,  1.39it/s]"
     ]
    },
    {
     "name": "stdout",
     "output_type": "stream",
     "text": [
      "Error translating with src=mr (attempt 1): 'Translator' object has no attribute 'raise_Exception'\n"
     ]
    },
    {
     "name": "stderr",
     "output_type": "stream",
     "text": [
      "Translating:  30%|██████████████▎                                | 507/1668 [02:40<08:59,  2.15it/s]"
     ]
    },
    {
     "name": "stdout",
     "output_type": "stream",
     "text": [
      "Error translating with src=mr (attempt 1): 'Translator' object has no attribute 'raise_Exception'\n"
     ]
    },
    {
     "name": "stderr",
     "output_type": "stream",
     "text": [
      "Translating:  31%|██████████████▍                                | 513/1668 [02:43<06:35,  2.92it/s]"
     ]
    },
    {
     "name": "stdout",
     "output_type": "stream",
     "text": [
      "Error translating with src=mr (attempt 1): 'Translator' object has no attribute 'raise_Exception'\n",
      "Error translating with src=mr (attempt 2): 'Translator' object has no attribute 'raise_Exception'\n"
     ]
    },
    {
     "name": "stderr",
     "output_type": "stream",
     "text": [
      "Translating:  31%|██████████████▌                                | 515/1668 [02:48<20:17,  1.06s/it]"
     ]
    },
    {
     "name": "stdout",
     "output_type": "stream",
     "text": [
      "Error translating with src=mr (attempt 1): 'Translator' object has no attribute 'raise_Exception'\n"
     ]
    },
    {
     "name": "stderr",
     "output_type": "stream",
     "text": [
      "Translating:  31%|██████████████▊                                | 525/1668 [02:51<05:48,  3.28it/s]"
     ]
    },
    {
     "name": "stdout",
     "output_type": "stream",
     "text": [
      "Error translating with src=mr (attempt 1): 'Translator' object has no attribute 'raise_Exception'\n"
     ]
    },
    {
     "name": "stderr",
     "output_type": "stream",
     "text": [
      "Translating:  32%|███████████████                                | 533/1668 [02:53<04:15,  4.44it/s]"
     ]
    },
    {
     "name": "stdout",
     "output_type": "stream",
     "text": [
      "Error translating with src=mr (attempt 1): 'Translator' object has no attribute 'raise_Exception'\n",
      "Error translating with src=mr (attempt 2): 'Translator' object has no attribute 'raise_Exception'\n"
     ]
    },
    {
     "name": "stderr",
     "output_type": "stream",
     "text": [
      "Translating:  32%|███████████████▏                               | 537/1668 [02:59<12:59,  1.45it/s]"
     ]
    },
    {
     "name": "stdout",
     "output_type": "stream",
     "text": [
      "Error translating with src=mr (attempt 1): 'Translator' object has no attribute 'raise_Exception'\n",
      "Error translating with src=mr (attempt 1): 'Translator' object has no attribute 'raise_Exception'\n"
     ]
    },
    {
     "name": "stderr",
     "output_type": "stream",
     "text": [
      "Translating:  32%|███████████████▏                               | 541/1668 [03:03<14:06,  1.33it/s]"
     ]
    },
    {
     "name": "stdout",
     "output_type": "stream",
     "text": [
      "Error translating with src=mr (attempt 1): 'Translator' object has no attribute 'raise_Exception'\n",
      "Error translating with src=mr (attempt 2): 'Translator' object has no attribute 'raise_Exception'\n"
     ]
    },
    {
     "name": "stderr",
     "output_type": "stream",
     "text": [
      "Translating:  33%|███████████████▍                               | 549/1668 [03:08<09:23,  1.99it/s]"
     ]
    },
    {
     "name": "stdout",
     "output_type": "stream",
     "text": [
      "Error translating with src=mr (attempt 1): 'Translator' object has no attribute 'raise_Exception'\n",
      "Error translating with src=mr (attempt 2): 'Translator' object has no attribute 'raise_Exception'\n"
     ]
    },
    {
     "name": "stderr",
     "output_type": "stream",
     "text": [
      "Translating:  33%|███████████████▋                               | 555/1668 [03:14<11:14,  1.65it/s]"
     ]
    },
    {
     "name": "stdout",
     "output_type": "stream",
     "text": [
      "Error translating with src=mr (attempt 1): 'Translator' object has no attribute 'raise_Exception'\n"
     ]
    },
    {
     "name": "stderr",
     "output_type": "stream",
     "text": [
      "Translating:  34%|███████████████▉                               | 565/1668 [03:17<04:07,  4.46it/s]"
     ]
    },
    {
     "name": "stdout",
     "output_type": "stream",
     "text": [
      "Error translating with src=mr (attempt 1): 'Translator' object has no attribute 'raise_Exception'\n"
     ]
    },
    {
     "name": "stderr",
     "output_type": "stream",
     "text": [
      "Translating:  34%|████████████████▏                              | 575/1668 [03:19<03:02,  5.98it/s]"
     ]
    },
    {
     "name": "stdout",
     "output_type": "stream",
     "text": [
      "Error translating with src=mr (attempt 1): 'Translator' object has no attribute 'raise_Exception'\n"
     ]
    },
    {
     "name": "stderr",
     "output_type": "stream",
     "text": [
      "Translating:  35%|████████████████▎                              | 579/1668 [03:21<06:05,  2.98it/s]"
     ]
    },
    {
     "name": "stdout",
     "output_type": "stream",
     "text": [
      "Error translating with src=mr (attempt 1): 'Translator' object has no attribute 'raise_Exception'\n",
      "Error translating with src=mr (attempt 2): 'Translator' object has no attribute 'raise_Exception'\n"
     ]
    },
    {
     "name": "stderr",
     "output_type": "stream",
     "text": [
      "Translating:  35%|████████████████▎                              | 581/1668 [03:27<19:39,  1.08s/it]"
     ]
    },
    {
     "name": "stdout",
     "output_type": "stream",
     "text": [
      "Error translating with src=mr (attempt 1): 'Translator' object has no attribute 'raise_Exception'\n"
     ]
    },
    {
     "name": "stderr",
     "output_type": "stream",
     "text": [
      "Translating:  35%|████████████████▌                              | 587/1668 [03:30<10:07,  1.78it/s]"
     ]
    },
    {
     "name": "stdout",
     "output_type": "stream",
     "text": [
      "Error translating with src=mr (attempt 1): 'Translator' object has no attribute 'raise_Exception'\n",
      "Error translating with src=mr (attempt 2): 'Translator' object has no attribute 'raise_Exception'\n"
     ]
    },
    {
     "name": "stderr",
     "output_type": "stream",
     "text": [
      "Translating:  37%|█████████████████▏                             | 610/1668 [03:36<01:35, 11.12it/s]"
     ]
    },
    {
     "name": "stdout",
     "output_type": "stream",
     "text": [
      "Error translating with src=mr (attempt 1): 'Translator' object has no attribute 'raise_Exception'\n"
     ]
    },
    {
     "name": "stderr",
     "output_type": "stream",
     "text": [
      "Translating:  37%|█████████████████▎                             | 614/1668 [03:38<05:03,  3.47it/s]"
     ]
    },
    {
     "name": "stdout",
     "output_type": "stream",
     "text": [
      "Error translating with src=mr (attempt 1): 'Translator' object has no attribute 'raise_Exception'\n"
     ]
    },
    {
     "name": "stderr",
     "output_type": "stream",
     "text": [
      "Translating:  37%|█████████████████▌                             | 622/1668 [03:41<03:45,  4.64it/s]"
     ]
    },
    {
     "name": "stdout",
     "output_type": "stream",
     "text": [
      "Error translating with src=mr (attempt 1): 'Translator' object has no attribute 'raise_Exception'\n",
      "Error translating with src=mr (attempt 1): 'Translator' object has no attribute 'raise_Exception'\n"
     ]
    },
    {
     "name": "stderr",
     "output_type": "stream",
     "text": [
      "Translating:  38%|█████████████████▋                             | 626/1668 [03:45<09:13,  1.88it/s]"
     ]
    },
    {
     "name": "stdout",
     "output_type": "stream",
     "text": [
      "Error translating with src=mr (attempt 1): 'Translator' object has no attribute 'raise_Exception'\n",
      "Error translating with src=mr (attempt 2): 'Translator' object has no attribute 'raise_Exception'\n",
      "Error translating with src=en (attempt 1): 'Translator' object has no attribute 'raise_Exception'\n"
     ]
    },
    {
     "name": "stderr",
     "output_type": "stream",
     "text": [
      "Translating:  38%|█████████████████▊                             | 632/1668 [03:52<13:09,  1.31it/s]"
     ]
    },
    {
     "name": "stdout",
     "output_type": "stream",
     "text": [
      "Error translating with src=mr (attempt 1): 'Translator' object has no attribute 'raise_Exception'\n"
     ]
    },
    {
     "name": "stderr",
     "output_type": "stream",
     "text": [
      "Translating:  38%|█████████████████▉                             | 636/1668 [03:55<10:20,  1.66it/s]"
     ]
    },
    {
     "name": "stdout",
     "output_type": "stream",
     "text": [
      "Error translating with src=mr (attempt 1): 'Translator' object has no attribute 'raise_Exception'\n",
      "Error translating with src=mr (attempt 1): 'Translator' object has no attribute 'raise_Exception'\n"
     ]
    },
    {
     "name": "stderr",
     "output_type": "stream",
     "text": [
      "Translating:  38%|█████████████████▉                             | 638/1668 [03:58<17:16,  1.01s/it]"
     ]
    },
    {
     "name": "stdout",
     "output_type": "stream",
     "text": [
      "Error translating with src=mr (attempt 1): 'Translator' object has no attribute 'raise_Exception'\n"
     ]
    },
    {
     "name": "stderr",
     "output_type": "stream",
     "text": [
      "Translating:  39%|██████████████████▏                            | 644/1668 [04:01<08:51,  1.93it/s]"
     ]
    },
    {
     "name": "stdout",
     "output_type": "stream",
     "text": [
      "Error translating with src=mr (attempt 1): 'Translator' object has no attribute 'raise_Exception'\n"
     ]
    },
    {
     "name": "stderr",
     "output_type": "stream",
     "text": [
      "Translating:  39%|██████████████████▎                            | 648/1668 [04:03<08:06,  2.10it/s]"
     ]
    },
    {
     "name": "stdout",
     "output_type": "stream",
     "text": [
      "Error translating with src=mr (attempt 1): 'Translator' object has no attribute 'raise_Exception'\n"
     ]
    },
    {
     "name": "stderr",
     "output_type": "stream",
     "text": [
      "Translating:  39%|██████████████████▎                            | 652/1668 [04:05<07:50,  2.16it/s]"
     ]
    },
    {
     "name": "stdout",
     "output_type": "stream",
     "text": [
      "Error translating with src=mr (attempt 1): 'Translator' object has no attribute 'raise_Exception'\n",
      "Error translating with src=mr (attempt 2): 'Translator' object has no attribute 'raise_Exception'\n"
     ]
    },
    {
     "name": "stderr",
     "output_type": "stream",
     "text": [
      "Translating:  39%|██████████████████▍                            | 655/1668 [04:11<18:42,  1.11s/it]"
     ]
    },
    {
     "name": "stdout",
     "output_type": "stream",
     "text": [
      "Error translating with src=mr (attempt 1): 'Translator' object has no attribute 'raise_Exception'\n"
     ]
    },
    {
     "name": "stderr",
     "output_type": "stream",
     "text": [
      "Translating:  40%|██████████████████▋                            | 663/1668 [04:14<06:32,  2.56it/s]"
     ]
    },
    {
     "name": "stdout",
     "output_type": "stream",
     "text": [
      "Error translating with src=mr (attempt 1): 'Translator' object has no attribute 'raise_Exception'\n"
     ]
    },
    {
     "name": "stderr",
     "output_type": "stream",
     "text": [
      "Translating:  40%|██████████████████▉                            | 673/1668 [04:16<03:15,  5.10it/s]"
     ]
    },
    {
     "name": "stdout",
     "output_type": "stream",
     "text": [
      "Error translating with src=mr (attempt 1): 'Translator' object has no attribute 'raise_Exception'\n"
     ]
    },
    {
     "name": "stderr",
     "output_type": "stream",
     "text": [
      "Translating:  41%|███████████████████                            | 677/1668 [04:19<05:27,  3.03it/s]"
     ]
    },
    {
     "name": "stdout",
     "output_type": "stream",
     "text": [
      "Error translating with src=mr (attempt 1): 'Translator' object has no attribute 'raise_Exception'\n",
      "Error translating with src=mr (attempt 2): 'Translator' object has no attribute 'raise_Exception'\n",
      "Error translating with src=mr (attempt 1): 'Translator' object has no attribute 'raise_Exception'\n"
     ]
    },
    {
     "name": "stderr",
     "output_type": "stream",
     "text": [
      "Translating:  41%|███████████████████▏                           | 681/1668 [04:26<15:48,  1.04it/s]"
     ]
    },
    {
     "name": "stdout",
     "output_type": "stream",
     "text": [
      "Error translating with src=mr (attempt 1): 'Translator' object has no attribute 'raise_Exception'\n"
     ]
    },
    {
     "name": "stderr",
     "output_type": "stream",
     "text": [
      "Translating:  41%|███████████████████▎                           | 685/1668 [04:28<11:30,  1.42it/s]"
     ]
    },
    {
     "name": "stdout",
     "output_type": "stream",
     "text": [
      "Error translating with src=mr (attempt 1): 'Translator' object has no attribute 'raise_Exception'\n"
     ]
    },
    {
     "name": "stderr",
     "output_type": "stream",
     "text": [
      "Translating:  41%|███████████████████▎                           | 687/1668 [04:30<12:52,  1.27it/s]"
     ]
    },
    {
     "name": "stdout",
     "output_type": "stream",
     "text": [
      "Error translating with src=mr (attempt 1): 'Translator' object has no attribute 'raise_Exception'\n",
      "Error translating with src=mr (attempt 2): 'Translator' object has no attribute 'raise_Exception'\n"
     ]
    },
    {
     "name": "stderr",
     "output_type": "stream",
     "text": [
      "Translating:  41%|███████████████████▍                           | 691/1668 [04:36<15:33,  1.05it/s]"
     ]
    },
    {
     "name": "stdout",
     "output_type": "stream",
     "text": [
      "Error translating with src=mr (attempt 1): 'Translator' object has no attribute 'raise_Exception'\n"
     ]
    },
    {
     "name": "stderr",
     "output_type": "stream",
     "text": [
      "Translating:  42%|███████████████████▊                           | 703/1668 [04:38<03:28,  4.63it/s]"
     ]
    },
    {
     "name": "stdout",
     "output_type": "stream",
     "text": [
      "Error translating with src=mr (attempt 1): 'Translator' object has no attribute 'raise_Exception'\n",
      "Error translating with src=mr (attempt 1): 'Translator' object has no attribute 'raise_Exception'\n",
      "Error translating with src=mr (attempt 2): 'Translator' object has no attribute 'raise_Exception'\n"
     ]
    },
    {
     "name": "stderr",
     "output_type": "stream",
     "text": [
      "Translating:  43%|████████████████████▏                          | 715/1668 [04:47<04:22,  3.63it/s]"
     ]
    },
    {
     "name": "stdout",
     "output_type": "stream",
     "text": [
      "Error translating with src=mr (attempt 1): 'Translator' object has no attribute 'raise_Exception'\n"
     ]
    },
    {
     "name": "stderr",
     "output_type": "stream",
     "text": [
      "Translating:  43%|████████████████████▏                          | 717/1668 [04:49<08:07,  1.95it/s]"
     ]
    },
    {
     "name": "stdout",
     "output_type": "stream",
     "text": [
      "Error translating with src=mr (attempt 1): 'Translator' object has no attribute 'raise_Exception'\n"
     ]
    },
    {
     "name": "stderr",
     "output_type": "stream",
     "text": [
      "Translating:  43%|████████████████████▎                          | 723/1668 [04:51<04:52,  3.23it/s]"
     ]
    },
    {
     "name": "stdout",
     "output_type": "stream",
     "text": [
      "Error translating with src=mr (attempt 1): 'Translator' object has no attribute 'raise_Exception'\n"
     ]
    },
    {
     "name": "stderr",
     "output_type": "stream",
     "text": [
      "Translating:  44%|████████████████████▌                          | 729/1668 [04:53<04:29,  3.48it/s]"
     ]
    },
    {
     "name": "stdout",
     "output_type": "stream",
     "text": [
      "Error translating with src=mr (attempt 1): 'Translator' object has no attribute 'raise_Exception'\n",
      "Error translating with src=mr (attempt 1): 'Translator' object has no attribute 'raise_Exception'\n"
     ]
    },
    {
     "name": "stderr",
     "output_type": "stream",
     "text": [
      "Translating:  44%|████████████████████▌                          | 731/1668 [04:57<13:03,  1.20it/s]"
     ]
    },
    {
     "name": "stdout",
     "output_type": "stream",
     "text": [
      "Error translating with src=mr (attempt 1): 'Translator' object has no attribute 'raise_Exception'\n"
     ]
    },
    {
     "name": "stderr",
     "output_type": "stream",
     "text": [
      "Translating:  44%|████████████████████▊                          | 737/1668 [05:00<07:19,  2.12it/s]"
     ]
    },
    {
     "name": "stdout",
     "output_type": "stream",
     "text": [
      "Error translating with src=mr (attempt 1): 'Translator' object has no attribute 'raise_Exception'\n"
     ]
    },
    {
     "name": "stderr",
     "output_type": "stream",
     "text": [
      "Translating:  45%|█████████████████████▏                         | 753/1668 [05:03<01:40,  9.07it/s]"
     ]
    },
    {
     "name": "stdout",
     "output_type": "stream",
     "text": [
      "Error translating with src=mr (attempt 1): 'Translator' object has no attribute 'raise_Exception'\n"
     ]
    },
    {
     "name": "stderr",
     "output_type": "stream",
     "text": [
      "Translating:  45%|█████████████████████▎                         | 755/1668 [05:05<06:03,  2.51it/s]"
     ]
    },
    {
     "name": "stdout",
     "output_type": "stream",
     "text": [
      "Error translating with src=mr (attempt 1): 'Translator' object has no attribute 'raise_Exception'\n"
     ]
    },
    {
     "name": "stderr",
     "output_type": "stream",
     "text": [
      "Translating:  46%|█████████████████████▋                         | 769/1668 [05:08<02:10,  6.92it/s]"
     ]
    },
    {
     "name": "stdout",
     "output_type": "stream",
     "text": [
      "Error translating with src=mr (attempt 1): 'Translator' object has no attribute 'raise_Exception'\n",
      "Error translating with src=mr (attempt 2): 'Translator' object has no attribute 'raise_Exception'\n"
     ]
    },
    {
     "name": "stderr",
     "output_type": "stream",
     "text": [
      "Translating:  46%|█████████████████████▊                         | 775/1668 [05:14<07:15,  2.05it/s]"
     ]
    },
    {
     "name": "stdout",
     "output_type": "stream",
     "text": [
      "Error translating with src=mr (attempt 1): 'Translator' object has no attribute 'raise_Exception'\n"
     ]
    },
    {
     "name": "stderr",
     "output_type": "stream",
     "text": [
      "Translating:  47%|█████████████████████▉                         | 779/1668 [05:16<07:05,  2.09it/s]"
     ]
    },
    {
     "name": "stdout",
     "output_type": "stream",
     "text": [
      "Error translating with src=mr (attempt 1): 'Translator' object has no attribute 'raise_Exception'\n"
     ]
    },
    {
     "name": "stderr",
     "output_type": "stream",
     "text": [
      "Translating:  48%|██████████████████████▎                        | 793/1668 [05:19<01:57,  7.48it/s]"
     ]
    },
    {
     "name": "stdout",
     "output_type": "stream",
     "text": [
      "Error translating with src=mr (attempt 1): 'Translator' object has no attribute 'raise_Exception'\n"
     ]
    },
    {
     "name": "stderr",
     "output_type": "stream",
     "text": [
      "Translating:  48%|██████████████████████▌                        | 801/1668 [05:21<02:29,  5.82it/s]"
     ]
    },
    {
     "name": "stdout",
     "output_type": "stream",
     "text": [
      "Error translating with src=mr (attempt 1): 'Translator' object has no attribute 'raise_Exception'\n",
      "Error translating with src=mr (attempt 2): 'Translator' object has no attribute 'raise_Exception'\n"
     ]
    },
    {
     "name": "stderr",
     "output_type": "stream",
     "text": [
      "Translating:  48%|██████████████████████▋                        | 805/1668 [05:26<09:28,  1.52it/s]"
     ]
    },
    {
     "name": "stdout",
     "output_type": "stream",
     "text": [
      "Error translating with src=mr (attempt 1): 'Translator' object has no attribute 'raise_Exception'\n",
      "Error translating with src=mr (attempt 2): 'Translator' object has no attribute 'raise_Exception'\n"
     ]
    },
    {
     "name": "stderr",
     "output_type": "stream",
     "text": [
      "Translating:  48%|██████████████████████▋                        | 807/1668 [05:32<18:30,  1.29s/it]"
     ]
    },
    {
     "name": "stdout",
     "output_type": "stream",
     "text": [
      "Error translating with src=mr (attempt 1): 'Translator' object has no attribute 'raise_Exception'\n"
     ]
    },
    {
     "name": "stderr",
     "output_type": "stream",
     "text": [
      "Translating:  48%|██████████████████████▊                        | 808/1668 [05:34<19:57,  1.39s/it]"
     ]
    },
    {
     "name": "stdout",
     "output_type": "stream",
     "text": [
      "Error translating with src=mr (attempt 1): 'Translator' object has no attribute 'raise_Exception'\n"
     ]
    },
    {
     "name": "stderr",
     "output_type": "stream",
     "text": [
      "Translating:  49%|██████████████████████▊                        | 809/1668 [05:36<21:22,  1.49s/it]"
     ]
    },
    {
     "name": "stdout",
     "output_type": "stream",
     "text": [
      "Error translating with src=mr (attempt 1): 'Translator' object has no attribute 'raise_Exception'\n",
      "Error translating with src=mr (attempt 2): 'Translator' object has no attribute 'raise_Exception'\n"
     ]
    },
    {
     "name": "stderr",
     "output_type": "stream",
     "text": [
      "Translating:  49%|██████████████████████▉                        | 814/1668 [05:42<13:58,  1.02it/s]"
     ]
    },
    {
     "name": "stdout",
     "output_type": "stream",
     "text": [
      "Error translating with src=mr (attempt 1): 'Translator' object has no attribute 'raise_Exception'\n"
     ]
    },
    {
     "name": "stderr",
     "output_type": "stream",
     "text": [
      "Translating:  50%|███████████████████████▋                       | 840/1668 [05:45<01:05, 12.73it/s]"
     ]
    },
    {
     "name": "stdout",
     "output_type": "stream",
     "text": [
      "Error translating with src=mr (attempt 1): 'Translator' object has no attribute 'raise_Exception'\n"
     ]
    },
    {
     "name": "stderr",
     "output_type": "stream",
     "text": [
      "Translating:  51%|███████████████████████▉                       | 850/1668 [05:48<02:00,  6.76it/s]"
     ]
    },
    {
     "name": "stdout",
     "output_type": "stream",
     "text": [
      "Error translating with src=mr (attempt 1): 'Translator' object has no attribute 'raise_Exception'\n"
     ]
    },
    {
     "name": "stderr",
     "output_type": "stream",
     "text": [
      "Translating:  52%|████████████████████████▍                      | 866/1668 [05:51<01:19, 10.08it/s]"
     ]
    },
    {
     "name": "stdout",
     "output_type": "stream",
     "text": [
      "Error translating with src=mr (attempt 1): 'Translator' object has no attribute 'raise_Exception'\n",
      "Error translating with src=mr (attempt 2): 'Translator' object has no attribute 'raise_Exception'\n"
     ]
    },
    {
     "name": "stderr",
     "output_type": "stream",
     "text": [
      "Translating:  52%|████████████████████████▍                      | 868/1668 [05:56<11:45,  1.13it/s]"
     ]
    },
    {
     "name": "stdout",
     "output_type": "stream",
     "text": [
      "Error translating with src=mr (attempt 1): 'Translator' object has no attribute 'raise_Exception'\n",
      "Error translating with src=mr (attempt 2): 'Translator' object has no attribute 'raise_Exception'\n",
      "Error translating with src=en (attempt 1): 'Translator' object has no attribute 'raise_Exception'\n"
     ]
    },
    {
     "name": "stderr",
     "output_type": "stream",
     "text": [
      "Translating:  52%|████████████████████████▍                      | 869/1668 [06:04<26:56,  2.02s/it]"
     ]
    },
    {
     "name": "stdout",
     "output_type": "stream",
     "text": [
      "Error translating with src=mr (attempt 1): 'Translator' object has no attribute 'raise_Exception'\n"
     ]
    },
    {
     "name": "stderr",
     "output_type": "stream",
     "text": [
      "Translating:  52%|████████████████████████▌                      | 871/1668 [06:06<22:09,  1.67s/it]"
     ]
    },
    {
     "name": "stdout",
     "output_type": "stream",
     "text": [
      "Error translating with src=mr (attempt 1): 'Translator' object has no attribute 'raise_Exception'\n"
     ]
    },
    {
     "name": "stderr",
     "output_type": "stream",
     "text": [
      "Translating:  53%|████████████████████████▊                      | 881/1668 [06:08<05:01,  2.61it/s]"
     ]
    },
    {
     "name": "stdout",
     "output_type": "stream",
     "text": [
      "Error translating with src=mr (attempt 1): 'Translator' object has no attribute 'raise_Exception'\n",
      "Error translating with src=mr (attempt 2): 'Translator' object has no attribute 'raise_Exception'\n"
     ]
    },
    {
     "name": "stderr",
     "output_type": "stream",
     "text": [
      "Translating:  54%|█████████████████████████▎                     | 899/1668 [06:15<01:39,  7.72it/s]"
     ]
    },
    {
     "name": "stdout",
     "output_type": "stream",
     "text": [
      "Error translating with src=mr (attempt 1): 'Translator' object has no attribute 'raise_Exception'\n",
      "Error translating with src=mr (attempt 1): 'Translator' object has no attribute 'raise_Exception'\n"
     ]
    },
    {
     "name": "stderr",
     "output_type": "stream",
     "text": [
      "Translating:  54%|█████████████████████████▍                     | 903/1668 [06:19<06:16,  2.03it/s]"
     ]
    },
    {
     "name": "stdout",
     "output_type": "stream",
     "text": [
      "Error translating with src=mr (attempt 1): 'Translator' object has no attribute 'raise_Exception'\n"
     ]
    },
    {
     "name": "stderr",
     "output_type": "stream",
     "text": [
      "Translating:  55%|█████████████████████████▉                     | 919/1668 [06:22<01:26,  8.70it/s]"
     ]
    },
    {
     "name": "stdout",
     "output_type": "stream",
     "text": [
      "Error translating with src=mr (attempt 1): 'Translator' object has no attribute 'raise_Exception'\n"
     ]
    },
    {
     "name": "stderr",
     "output_type": "stream",
     "text": [
      "Translating:  56%|██████████████████████████▏                    | 929/1668 [06:24<01:47,  6.89it/s]"
     ]
    },
    {
     "name": "stdout",
     "output_type": "stream",
     "text": [
      "Error translating with src=mr (attempt 1): 'Translator' object has no attribute 'raise_Exception'\n"
     ]
    },
    {
     "name": "stderr",
     "output_type": "stream",
     "text": [
      "Translating:  57%|██████████████████████████▋                    | 945/1668 [06:27<01:06, 10.84it/s]"
     ]
    },
    {
     "name": "stdout",
     "output_type": "stream",
     "text": [
      "Error translating with src=mr (attempt 1): 'Translator' object has no attribute 'raise_Exception'\n",
      "Error translating with src=mr (attempt 2): 'Translator' object has no attribute 'raise_Exception'\n"
     ]
    },
    {
     "name": "stderr",
     "output_type": "stream",
     "text": [
      "Translating:  81%|█████████████████████████████████████▏        | 1350/1668 [07:00<00:20, 15.50it/s]"
     ]
    },
    {
     "name": "stdout",
     "output_type": "stream",
     "text": [
      "Error translating with src=mr (attempt 1): 'Translator' object has no attribute 'raise_Exception'\n"
     ]
    },
    {
     "name": "stderr",
     "output_type": "stream",
     "text": [
      "Translating:  81%|█████████████████████████████████████▎        | 1352/1668 [07:02<01:57,  2.69it/s]"
     ]
    },
    {
     "name": "stdout",
     "output_type": "stream",
     "text": [
      "Error translating with src=mr (attempt 1): 'Translator' object has no attribute 'raise_Exception'\n",
      "Error translating with src=mr (attempt 2): 'Translator' object has no attribute 'raise_Exception'\n"
     ]
    },
    {
     "name": "stderr",
     "output_type": "stream",
     "text": [
      "Translating:  82%|█████████████████████████████████████▉        | 1374/1668 [07:09<00:27, 10.52it/s]"
     ]
    },
    {
     "name": "stdout",
     "output_type": "stream",
     "text": [
      "Error translating with src=mr (attempt 1): 'Translator' object has no attribute 'raise_Exception'\n",
      "Error translating with src=mr (attempt 2): 'Translator' object has no attribute 'raise_Exception'\n",
      "Error translating with src=en (attempt 1): 'Translator' object has no attribute 'raise_Exception'\n",
      "Error translating with src=en (attempt 2): 'Translator' object has no attribute 'raise_Exception'\n"
     ]
    },
    {
     "name": "stderr",
     "output_type": "stream",
     "text": [
      "Translating:  82%|█████████████████████████████████████▉        | 1376/1668 [07:20<08:08,  1.67s/it]"
     ]
    },
    {
     "name": "stdout",
     "output_type": "stream",
     "text": [
      "🔁 Attempting sentence split and translation...\n",
      "⚠️ Could not split into two sentences. Skipping.\n",
      "Error translating with src=mr (attempt 1): 'Translator' object has no attribute 'raise_Exception'\n",
      "Error translating with src=mr (attempt 2): 'Translator' object has no attribute 'raise_Exception'\n",
      "Error translating with src=en (attempt 1): 'Translator' object has no attribute 'raise_Exception'\n",
      "Error translating with src=en (attempt 2): 'Translator' object has no attribute 'raise_Exception'\n",
      "🔁 Attempting sentence split and translation...\n",
      "Error translating with src=mr (attempt 1): 'Translator' object has no attribute 'raise_Exception'\n",
      "Error translating with src=mr (attempt 2): 'Translator' object has no attribute 'raise_Exception'\n",
      "Error translating with src=en (attempt 1): 'Translator' object has no attribute 'raise_Exception'\n",
      "Error translating with src=en (attempt 2): 'Translator' object has no attribute 'raise_Exception'\n",
      "Error translating with src=mr (attempt 1): 'Translator' object has no attribute 'raise_Exception'\n",
      "Error translating with src=mr (attempt 2): 'Translator' object has no attribute 'raise_Exception'\n",
      "Error translating with src=en (attempt 1): 'Translator' object has no attribute 'raise_Exception'\n",
      "Error translating with src=en (attempt 2): 'Translator' object has no attribute 'raise_Exception'\n"
     ]
    },
    {
     "name": "stderr",
     "output_type": "stream",
     "text": [
      "Translating:  83%|█████████████████████████████████████▉        | 1377/1668 [07:52<34:14,  7.06s/it]"
     ]
    },
    {
     "name": "stdout",
     "output_type": "stream",
     "text": [
      "❌ Split translation failed:\n",
      " 1. **Identify Common Manipulation Tactics**: Analyze psychological principles like authority exploitation, scarcity appeals, social proof, and urgenc...\n",
      "result sent successfully\n",
      "Error translating with src=mr (attempt 1): 'Translator' object has no attribute 'raise_Exception'\n",
      "Error translating with src=mr (attempt 2): 'Translator' object has no attribute 'raise_Exception'\n",
      "Error translating with src=en (attempt 1): 'Translator' object has no attribute 'raise_Exception'\n",
      "Error translating with src=en (attempt 2): 'Translator' object has no attribute 'raise_Exception'\n",
      "🔁 Attempting sentence split and translation...\n",
      "Error translating with src=mr (attempt 1): 'Translator' object has no attribute 'raise_Exception'\n",
      "Error translating with src=mr (attempt 2): 'Translator' object has no attribute 'raise_Exception'\n",
      "Error translating with src=en (attempt 1): 'Translator' object has no attribute 'raise_Exception'\n",
      "Error translating with src=en (attempt 2): 'Translator' object has no attribute 'raise_Exception'\n",
      "Error translating with src=mr (attempt 1): 'Translator' object has no attribute 'raise_Exception'\n",
      "Error translating with src=mr (attempt 2): 'Translator' object has no attribute 'raise_Exception'\n",
      "Error translating with src=en (attempt 1): 'Translator' object has no attribute 'raise_Exception'\n"
     ]
    },
    {
     "name": "stderr",
     "output_type": "stream",
     "text": [
      "Translating:  83%|██████████████████████████████████████        | 1380/1668 [08:21<34:46,  7.24s/it]"
     ]
    },
    {
     "name": "stdout",
     "output_type": "stream",
     "text": [
      "result sent successfully\n"
     ]
    },
    {
     "name": "stderr",
     "output_type": "stream",
     "text": [
      "Translating:  83%|██████████████████████████████████████▏       | 1384/1668 [08:21<15:19,  3.24s/it]"
     ]
    },
    {
     "name": "stdout",
     "output_type": "stream",
     "text": [
      "Error translating with src=mr (attempt 1): 'Translator' object has no attribute 'raise_Exception'\n"
     ]
    },
    {
     "name": "stderr",
     "output_type": "stream",
     "text": [
      "Translating:  83%|██████████████████████████████████████▎       | 1388/1668 [08:23<08:13,  1.76s/it]"
     ]
    },
    {
     "name": "stdout",
     "output_type": "stream",
     "text": [
      "Error translating with src=mr (attempt 1): 'Translator' object has no attribute 'raise_Exception'\n",
      "Error translating with src=mr (attempt 1): 'Translator' object has no attribute 'raise_Exception'\n"
     ]
    },
    {
     "name": "stderr",
     "output_type": "stream",
     "text": [
      "Translating:  84%|██████████████████████████████████████▊       | 1408/1668 [08:28<00:34,  7.59it/s]"
     ]
    },
    {
     "name": "stdout",
     "output_type": "stream",
     "text": [
      "Error translating with src=mr (attempt 1): 'Translator' object has no attribute 'raise_Exception'\n"
     ]
    },
    {
     "name": "stderr",
     "output_type": "stream",
     "text": [
      "Translating:  85%|███████████████████████████████████████▏      | 1422/1668 [08:31<00:25,  9.51it/s]"
     ]
    },
    {
     "name": "stdout",
     "output_type": "stream",
     "text": [
      "Error translating with src=mr (attempt 1): 'Translator' object has no attribute 'raise_Exception'\n"
     ]
    },
    {
     "name": "stderr",
     "output_type": "stream",
     "text": [
      "Translating:  85%|███████████████████████████████████████▎      | 1424/1668 [08:33<01:32,  2.64it/s]"
     ]
    },
    {
     "name": "stdout",
     "output_type": "stream",
     "text": [
      "Error translating with src=mr (attempt 1): 'Translator' object has no attribute 'raise_Exception'\n"
     ]
    },
    {
     "name": "stderr",
     "output_type": "stream",
     "text": [
      "Translating:  86%|███████████████████████████████████████▍      | 1429/1668 [08:35<01:20,  2.97it/s]"
     ]
    },
    {
     "name": "stdout",
     "output_type": "stream",
     "text": [
      "Error translating with src=mr (attempt 1): 'Translator' object has no attribute 'raise_Exception'\n",
      "Error translating with src=mr (attempt 2): 'Translator' object has no attribute 'raise_Exception'\n"
     ]
    },
    {
     "name": "stderr",
     "output_type": "stream",
     "text": [
      "Translating:  86%|███████████████████████████████████████▍      | 1431/1668 [08:41<04:26,  1.12s/it]"
     ]
    },
    {
     "name": "stdout",
     "output_type": "stream",
     "text": [
      "Error translating with src=mr (attempt 1): 'Translator' object has no attribute 'raise_Exception'\n",
      "Error translating with src=mr (attempt 2): 'Translator' object has no attribute 'raise_Exception'\n"
     ]
    },
    {
     "name": "stderr",
     "output_type": "stream",
     "text": [
      "Translating:  86%|███████████████████████████████████████▌      | 1434/1668 [08:46<05:01,  1.29s/it]"
     ]
    },
    {
     "name": "stdout",
     "output_type": "stream",
     "text": [
      "Error translating with src=mr (attempt 1): 'Translator' object has no attribute 'raise_Exception'\n"
     ]
    },
    {
     "name": "stderr",
     "output_type": "stream",
     "text": [
      "Translating:  86%|███████████████████████████████████████▋      | 1439/1668 [08:49<02:25,  1.58it/s]"
     ]
    },
    {
     "name": "stdout",
     "output_type": "stream",
     "text": [
      "Error translating with src=mr (attempt 1): 'Translator' object has no attribute 'raise_Exception'\n"
     ]
    },
    {
     "name": "stderr",
     "output_type": "stream",
     "text": [
      "Translating:  86%|███████████████████████████████████████▋      | 1440/1668 [08:51<03:27,  1.10it/s]"
     ]
    },
    {
     "name": "stdout",
     "output_type": "stream",
     "text": [
      "Error translating with src=mr (attempt 1): 'Translator' object has no attribute 'raise_Exception'\n"
     ]
    },
    {
     "name": "stderr",
     "output_type": "stream",
     "text": [
      "Translating:  87%|███████████████████████████████████████▉      | 1446/1668 [08:53<01:40,  2.21it/s]"
     ]
    },
    {
     "name": "stdout",
     "output_type": "stream",
     "text": [
      "Error translating with src=mr (attempt 1): 'Translator' object has no attribute 'raise_Exception'\n"
     ]
    },
    {
     "name": "stderr",
     "output_type": "stream",
     "text": [
      "Translating:  88%|████████████████████████████████████████▎     | 1463/1668 [08:56<00:19, 10.47it/s]"
     ]
    },
    {
     "name": "stdout",
     "output_type": "stream",
     "text": [
      "Error translating with src=mr (attempt 1): 'Translator' object has no attribute 'raise_Exception'\n"
     ]
    },
    {
     "name": "stderr",
     "output_type": "stream",
     "text": [
      "Translating:  88%|████████████████████████████████████████▍     | 1465/1668 [08:58<01:16,  2.67it/s]"
     ]
    },
    {
     "name": "stdout",
     "output_type": "stream",
     "text": [
      "Error translating with src=mr (attempt 1): 'Translator' object has no attribute 'raise_Exception'\n"
     ]
    },
    {
     "name": "stderr",
     "output_type": "stream",
     "text": [
      "Translating:  89%|████████████████████████████████████████▉     | 1485/1668 [09:01<00:14, 12.25it/s]"
     ]
    },
    {
     "name": "stdout",
     "output_type": "stream",
     "text": [
      "Error translating with src=mr (attempt 1): 'Translator' object has no attribute 'raise_Exception'\n"
     ]
    },
    {
     "name": "stderr",
     "output_type": "stream",
     "text": [
      "Translating:  89%|█████████████████████████████████████████     | 1489/1668 [09:03<00:50,  3.57it/s]"
     ]
    },
    {
     "name": "stdout",
     "output_type": "stream",
     "text": [
      "Error translating with src=mr (attempt 1): 'Translator' object has no attribute 'raise_Exception'\n",
      "Error translating with src=mr (attempt 2): 'Translator' object has no attribute 'raise_Exception'\n"
     ]
    },
    {
     "name": "stderr",
     "output_type": "stream",
     "text": [
      "Translating:  90%|█████████████████████████████████████████▍    | 1503/1668 [09:09<00:29,  5.58it/s]"
     ]
    },
    {
     "name": "stdout",
     "output_type": "stream",
     "text": [
      "Error translating with src=mr (attempt 1): 'Translator' object has no attribute 'raise_Exception'\n"
     ]
    },
    {
     "name": "stderr",
     "output_type": "stream",
     "text": [
      "Translating:  90%|█████████████████████████████████████████▌    | 1505/1668 [09:12<01:12,  2.25it/s]"
     ]
    },
    {
     "name": "stdout",
     "output_type": "stream",
     "text": [
      "Error translating with src=mr (attempt 1): 'Translator' object has no attribute 'raise_Exception'\n"
     ]
    },
    {
     "name": "stderr",
     "output_type": "stream",
     "text": [
      "Translating:  90%|█████████████████████████████████████████▌    | 1509/1668 [09:14<01:09,  2.30it/s]"
     ]
    },
    {
     "name": "stdout",
     "output_type": "stream",
     "text": [
      "Error translating with src=mr (attempt 1): 'Translator' object has no attribute 'raise_Exception'\n"
     ]
    },
    {
     "name": "stderr",
     "output_type": "stream",
     "text": [
      "Translating:  91%|█████████████████████████████████████████▋    | 1511/1668 [09:15<01:33,  1.69it/s]"
     ]
    },
    {
     "name": "stdout",
     "output_type": "stream",
     "text": [
      "Error translating with src=mr (attempt 1): 'Translator' object has no attribute 'raise_Exception'\n"
     ]
    },
    {
     "name": "stderr",
     "output_type": "stream",
     "text": [
      "Translating:  92%|██████████████████████████████████████████    | 1527/1668 [09:18<00:17,  8.01it/s]"
     ]
    },
    {
     "name": "stdout",
     "output_type": "stream",
     "text": [
      "Error translating with src=mr (attempt 1): 'Translator' object has no attribute 'raise_Exception'\n"
     ]
    },
    {
     "name": "stderr",
     "output_type": "stream",
     "text": [
      "Translating:  92%|██████████████████████████████████████████▎   | 1535/1668 [09:22<00:29,  4.52it/s]"
     ]
    },
    {
     "name": "stdout",
     "output_type": "stream",
     "text": [
      "Error translating with src=mr (attempt 1): 'Translator' object has no attribute 'raise_Exception'\n"
     ]
    },
    {
     "name": "stderr",
     "output_type": "stream",
     "text": [
      "Translating:  92%|██████████████████████████████████████████▍   | 1537/1668 [09:24<00:57,  2.26it/s]"
     ]
    },
    {
     "name": "stdout",
     "output_type": "stream",
     "text": [
      "Error translating with src=mr (attempt 1): 'Translator' object has no attribute 'raise_Exception'\n"
     ]
    },
    {
     "name": "stderr",
     "output_type": "stream",
     "text": [
      "Translating:  93%|██████████████████████████████████████████▋   | 1546/1668 [09:26<00:25,  4.83it/s]"
     ]
    },
    {
     "name": "stdout",
     "output_type": "stream",
     "text": [
      "Error translating with src=mr (attempt 1): 'Translator' object has no attribute 'raise_Exception'\n",
      "Error translating with src=mr (attempt 2): 'Translator' object has no attribute 'raise_Exception'\n"
     ]
    },
    {
     "name": "stderr",
     "output_type": "stream",
     "text": [
      "Translating:  93%|██████████████████████████████████████████▋   | 1548/1668 [09:32<01:58,  1.01it/s]"
     ]
    },
    {
     "name": "stdout",
     "output_type": "stream",
     "text": [
      "Error translating with src=mr (attempt 1): 'Translator' object has no attribute 'raise_Exception'\n",
      "Error translating with src=mr (attempt 2): 'Translator' object has no attribute 'raise_Exception'\n"
     ]
    },
    {
     "name": "stderr",
     "output_type": "stream",
     "text": [
      "Translating:  94%|███████████████████████████████████████████▎  | 1570/1668 [09:39<00:10,  9.48it/s]"
     ]
    },
    {
     "name": "stdout",
     "output_type": "stream",
     "text": [
      "Error translating with src=mr (attempt 1): 'Translator' object has no attribute 'raise_Exception'\n"
     ]
    },
    {
     "name": "stderr",
     "output_type": "stream",
     "text": [
      "Translating:  99%|█████████████████████████████████████████████▌| 1650/1668 [09:51<00:10,  1.67it/s]"
     ]
    },
    {
     "name": "stdout",
     "output_type": "stream",
     "text": [
      "Error translating with src=mr (attempt 1): 'Translator' object has no attribute 'raise_Exception'\n"
     ]
    },
    {
     "name": "stderr",
     "output_type": "stream",
     "text": [
      "Translating:  99%|█████████████████████████████████████████████▌| 1652/1668 [09:53<00:11,  1.40it/s]"
     ]
    },
    {
     "name": "stdout",
     "output_type": "stream",
     "text": [
      "Error translating with src=mr (attempt 1): 'Translator' object has no attribute 'raise_Exception'\n"
     ]
    },
    {
     "name": "stderr",
     "output_type": "stream",
     "text": [
      "Translating:  99%|█████████████████████████████████████████████▌| 1653/1668 [09:55<00:13,  1.10it/s]"
     ]
    },
    {
     "name": "stdout",
     "output_type": "stream",
     "text": [
      "Error translating with src=mr (attempt 1): 'Translator' object has no attribute 'raise_Exception'\n",
      "Error translating with src=mr (attempt 2): 'Translator' object has no attribute 'raise_Exception'\n"
     ]
    },
    {
     "name": "stderr",
     "output_type": "stream",
     "text": [
      "Translating:  99%|█████████████████████████████████████████████▌| 1654/1668 [10:00<00:25,  1.81s/it]"
     ]
    },
    {
     "name": "stdout",
     "output_type": "stream",
     "text": [
      "Error translating with src=mr (attempt 1): 'Translator' object has no attribute 'raise_Exception'\n"
     ]
    },
    {
     "name": "stderr",
     "output_type": "stream",
     "text": [
      "Translating:  99%|█████████████████████████████████████████████▋| 1656/1668 [10:02<00:18,  1.51s/it]"
     ]
    },
    {
     "name": "stdout",
     "output_type": "stream",
     "text": [
      "Error translating with src=mr (attempt 1): 'Translator' object has no attribute 'raise_Exception'\n"
     ]
    },
    {
     "name": "stderr",
     "output_type": "stream",
     "text": [
      "Translating: 100%|█████████████████████████████████████████████▉| 1667/1668 [10:05<00:00,  3.75it/s]"
     ]
    },
    {
     "name": "stdout",
     "output_type": "stream",
     "text": [
      "Error translating with src=mr (attempt 1): 'Translator' object has no attribute 'raise_Exception'\n"
     ]
    },
    {
     "name": "stderr",
     "output_type": "stream",
     "text": [
      "Translating: 100%|██████████████████████████████████████████████| 1668/1668 [10:07<00:00,  2.75it/s]\n"
     ]
    },
    {
     "name": "stdout",
     "output_type": "stream",
     "text": [
      "✅ File saved: ../complete/context_specific/sarvam_24b/marathi/mar_eng.csv\n",
      "🔵 Processing file: ../complete/context_specific/sarvam_24b/marathi/mar_mar.csv | Source language: mr\n",
      "✅ No rows need translation.\n",
      "✅ File saved: ../complete/context_specific/sarvam_24b/marathi/mar_mar.csv\n",
      "🔵 Processing file: ../complete/context_specific/sarvam_24b/bengali/beng_beng.csv | Source language: bn\n",
      "✅ No rows need translation.\n",
      "✅ File saved: ../complete/context_specific/sarvam_24b/bengali/beng_beng.csv\n",
      "🔵 Processing file: ../complete/context_specific/sarvam_24b/bengali/beng_eng.csv | Source language: bn\n",
      "🔄 Translating 1668 rows...\n"
     ]
    },
    {
     "name": "stderr",
     "output_type": "stream",
     "text": [
      "Translating:   0%|▏                                                | 5/1668 [00:00<05:05,  5.44it/s]"
     ]
    },
    {
     "name": "stdout",
     "output_type": "stream",
     "text": [
      "Error translating with src=bn (attempt 1): 'Translator' object has no attribute 'raise_Exception'\n"
     ]
    },
    {
     "name": "stderr",
     "output_type": "stream",
     "text": [
      "Translating:   1%|▎                                                | 9/1668 [00:03<08:52,  3.11it/s]"
     ]
    },
    {
     "name": "stdout",
     "output_type": "stream",
     "text": [
      "Error translating with src=bn (attempt 1): 'Translator' object has no attribute 'raise_Exception'\n"
     ]
    },
    {
     "name": "stderr",
     "output_type": "stream",
     "text": [
      "Translating:   1%|▎                                               | 10/1668 [00:05<20:26,  1.35it/s]"
     ]
    },
    {
     "name": "stdout",
     "output_type": "stream",
     "text": [
      "Error translating with src=bn (attempt 1): 'Translator' object has no attribute 'raise_Exception'\n"
     ]
    },
    {
     "name": "stderr",
     "output_type": "stream",
     "text": [
      "Translating:   1%|▎                                               | 13/1668 [00:07<17:26,  1.58it/s]"
     ]
    },
    {
     "name": "stdout",
     "output_type": "stream",
     "text": [
      "Error translating with src=bn (attempt 1): 'Translator' object has no attribute 'raise_Exception'\n"
     ]
    },
    {
     "name": "stderr",
     "output_type": "stream",
     "text": [
      "Translating:   1%|▍                                               | 16/1668 [00:09<15:48,  1.74it/s]"
     ]
    },
    {
     "name": "stdout",
     "output_type": "stream",
     "text": [
      "Error translating with src=bn (attempt 1): 'Translator' object has no attribute 'raise_Exception'\n"
     ]
    },
    {
     "name": "stderr",
     "output_type": "stream",
     "text": [
      "Translating:   1%|▌                                               | 19/1668 [00:11<17:02,  1.61it/s]"
     ]
    },
    {
     "name": "stdout",
     "output_type": "stream",
     "text": [
      "Error translating with src=bn (attempt 1): 'Translator' object has no attribute 'raise_Exception'\n",
      "Error translating with src=bn (attempt 2): 'Translator' object has no attribute 'raise_Exception'\n"
     ]
    },
    {
     "name": "stderr",
     "output_type": "stream",
     "text": [
      "Translating:   1%|▌                                               | 20/1668 [00:16<46:59,  1.71s/it]"
     ]
    },
    {
     "name": "stdout",
     "output_type": "stream",
     "text": [
      "Error translating with src=bn (attempt 1): 'Translator' object has no attribute 'raise_Exception'\n"
     ]
    },
    {
     "name": "stderr",
     "output_type": "stream",
     "text": [
      "Translating:   1%|▌                                               | 21/1668 [00:18<49:06,  1.79s/it]"
     ]
    },
    {
     "name": "stdout",
     "output_type": "stream",
     "text": [
      "Error translating with src=bn (attempt 1): 'Translator' object has no attribute 'raise_Exception'\n"
     ]
    },
    {
     "name": "stderr",
     "output_type": "stream",
     "text": [
      "Translating:   1%|▋                                               | 22/1668 [00:20<50:12,  1.83s/it]"
     ]
    },
    {
     "name": "stdout",
     "output_type": "stream",
     "text": [
      "Error translating with src=bn (attempt 1): 'Translator' object has no attribute 'raise_Exception'\n"
     ]
    },
    {
     "name": "stderr",
     "output_type": "stream",
     "text": [
      "Translating:   2%|▊                                               | 30/1668 [00:23<10:29,  2.60it/s]"
     ]
    },
    {
     "name": "stdout",
     "output_type": "stream",
     "text": [
      "Error translating with src=bn (attempt 1): 'Translator' object has no attribute 'raise_Exception'\n",
      "Error translating with src=bn (attempt 2): 'Translator' object has no attribute 'raise_Exception'\n"
     ]
    },
    {
     "name": "stderr",
     "output_type": "stream",
     "text": [
      "Translating:   2%|▉                                               | 34/1668 [00:28<22:19,  1.22it/s]"
     ]
    },
    {
     "name": "stdout",
     "output_type": "stream",
     "text": [
      "Error translating with src=bn (attempt 1): 'Translator' object has no attribute 'raise_Exception'\n"
     ]
    },
    {
     "name": "stderr",
     "output_type": "stream",
     "text": [
      "Translating:   2%|█                                               | 38/1668 [00:31<17:06,  1.59it/s]"
     ]
    },
    {
     "name": "stdout",
     "output_type": "stream",
     "text": [
      "Error translating with src=bn (attempt 1): 'Translator' object has no attribute 'raise_Exception'\n"
     ]
    },
    {
     "name": "stderr",
     "output_type": "stream",
     "text": [
      "Translating:   2%|█                                               | 39/1668 [00:33<23:24,  1.16it/s]"
     ]
    },
    {
     "name": "stdout",
     "output_type": "stream",
     "text": [
      "Error translating with src=bn (attempt 1): 'Translator' object has no attribute 'raise_Exception'\n"
     ]
    },
    {
     "name": "stderr",
     "output_type": "stream",
     "text": [
      "Translating:   2%|█▏                                              | 41/1668 [00:34<24:08,  1.12it/s]"
     ]
    },
    {
     "name": "stdout",
     "output_type": "stream",
     "text": [
      "Error translating with src=bn (attempt 1): 'Translator' object has no attribute 'raise_Exception'\n"
     ]
    },
    {
     "name": "stderr",
     "output_type": "stream",
     "text": [
      "Translating:   3%|█▏                                              | 42/1668 [00:36<29:14,  1.08s/it]"
     ]
    },
    {
     "name": "stdout",
     "output_type": "stream",
     "text": [
      "Error translating with src=bn (attempt 1): 'Translator' object has no attribute 'raise_Exception'\n"
     ]
    },
    {
     "name": "stderr",
     "output_type": "stream",
     "text": [
      "Translating:   3%|█▎                                              | 45/1668 [00:39<22:09,  1.22it/s]"
     ]
    },
    {
     "name": "stdout",
     "output_type": "stream",
     "text": [
      "Error translating with src=bn (attempt 1): 'Translator' object has no attribute 'raise_Exception'\n"
     ]
    },
    {
     "name": "stderr",
     "output_type": "stream",
     "text": [
      "Translating:   3%|█▍                                              | 48/1668 [00:41<19:45,  1.37it/s]"
     ]
    },
    {
     "name": "stdout",
     "output_type": "stream",
     "text": [
      "Error translating with src=bn (attempt 1): 'Translator' object has no attribute 'raise_Exception'\n"
     ]
    },
    {
     "name": "stderr",
     "output_type": "stream",
     "text": [
      "Translating:   3%|█▍                                              | 50/1668 [00:43<22:25,  1.20it/s]"
     ]
    },
    {
     "name": "stdout",
     "output_type": "stream",
     "text": [
      "Error translating with src=bn (attempt 1): 'Translator' object has no attribute 'raise_Exception'\n"
     ]
    },
    {
     "name": "stderr",
     "output_type": "stream",
     "text": [
      "Translating:   4%|█▋                                              | 60/1668 [00:45<05:51,  4.58it/s]"
     ]
    },
    {
     "name": "stdout",
     "output_type": "stream",
     "text": [
      "Error translating with src=bn (attempt 1): 'Translator' object has no attribute 'raise_Exception'\n",
      "Error translating with src=bn (attempt 1): 'Translator' object has no attribute 'raise_Exception'\n"
     ]
    },
    {
     "name": "stderr",
     "output_type": "stream",
     "text": [
      "Translating:   4%|█▉                                              | 66/1668 [00:49<10:16,  2.60it/s]"
     ]
    },
    {
     "name": "stdout",
     "output_type": "stream",
     "text": [
      "Error translating with src=bn (attempt 1): 'Translator' object has no attribute 'raise_Exception'\n"
     ]
    },
    {
     "name": "stderr",
     "output_type": "stream",
     "text": [
      "Translating:   4%|██                                              | 70/1668 [00:52<11:18,  2.35it/s]"
     ]
    },
    {
     "name": "stdout",
     "output_type": "stream",
     "text": [
      "Error translating with src=bn (attempt 1): 'Translator' object has no attribute 'raise_Exception'\n"
     ]
    },
    {
     "name": "stderr",
     "output_type": "stream",
     "text": [
      "Translating:   6%|███                                            | 107/1668 [00:56<01:53, 13.74it/s]"
     ]
    },
    {
     "name": "stdout",
     "output_type": "stream",
     "text": [
      "Error translating with src=bn (attempt 1): 'Translator' object has no attribute 'raise_Exception'\n"
     ]
    },
    {
     "name": "stderr",
     "output_type": "stream",
     "text": [
      "Translating:   7%|███▏                                           | 111/1668 [00:59<07:23,  3.51it/s]"
     ]
    },
    {
     "name": "stdout",
     "output_type": "stream",
     "text": [
      "Error translating with src=bn (attempt 1): 'Translator' object has no attribute 'raise_Exception'\n",
      "Error translating with src=bn (attempt 2): 'Translator' object has no attribute 'raise_Exception'\n"
     ]
    },
    {
     "name": "stderr",
     "output_type": "stream",
     "text": [
      "Translating:   7%|███▎                                           | 119/1668 [01:04<10:08,  2.54it/s]"
     ]
    },
    {
     "name": "stdout",
     "output_type": "stream",
     "text": [
      "Error translating with src=bn (attempt 1): 'Translator' object has no attribute 'raise_Exception'\n"
     ]
    },
    {
     "name": "stderr",
     "output_type": "stream",
     "text": [
      "Translating:   7%|███▍                                           | 123/1668 [01:07<11:28,  2.24it/s]"
     ]
    },
    {
     "name": "stdout",
     "output_type": "stream",
     "text": [
      "Error translating with src=bn (attempt 1): 'Translator' object has no attribute 'raise_Exception'\n",
      "Error translating with src=bn (attempt 2): 'Translator' object has no attribute 'raise_Exception'\n"
     ]
    },
    {
     "name": "stderr",
     "output_type": "stream",
     "text": [
      "Translating:   9%|████                                           | 146/1668 [01:15<02:26, 10.37it/s]"
     ]
    },
    {
     "name": "stdout",
     "output_type": "stream",
     "text": [
      "Error translating with src=bn (attempt 1): 'Translator' object has no attribute 'raise_Exception'\n"
     ]
    },
    {
     "name": "stderr",
     "output_type": "stream",
     "text": [
      "Translating:  10%|████▋                                          | 168/1668 [01:18<02:04, 12.03it/s]"
     ]
    },
    {
     "name": "stdout",
     "output_type": "stream",
     "text": [
      "Error translating with src=bn (attempt 1): 'Translator' object has no attribute 'raise_Exception'\n"
     ]
    },
    {
     "name": "stderr",
     "output_type": "stream",
     "text": [
      "Translating:  10%|████▊                                          | 170/1668 [01:20<09:18,  2.68it/s]"
     ]
    },
    {
     "name": "stdout",
     "output_type": "stream",
     "text": [
      "Error translating with src=bn (attempt 1): 'Translator' object has no attribute 'raise_Exception'\n"
     ]
    },
    {
     "name": "stderr",
     "output_type": "stream",
     "text": [
      "Translating:  11%|█████                                          | 178/1668 [01:23<05:49,  4.26it/s]"
     ]
    },
    {
     "name": "stdout",
     "output_type": "stream",
     "text": [
      "Error translating with src=bn (attempt 1): 'Translator' object has no attribute 'raise_Exception'\n"
     ]
    },
    {
     "name": "stderr",
     "output_type": "stream",
     "text": [
      "Translating:  12%|█████▍                                         | 192/1668 [01:26<02:48,  8.75it/s]"
     ]
    },
    {
     "name": "stdout",
     "output_type": "stream",
     "text": [
      "Error translating with src=bn (attempt 1): 'Translator' object has no attribute 'raise_Exception'\n"
     ]
    },
    {
     "name": "stderr",
     "output_type": "stream",
     "text": [
      "Translating:  12%|█████▌                                         | 196/1668 [01:28<07:30,  3.27it/s]"
     ]
    },
    {
     "name": "stdout",
     "output_type": "stream",
     "text": [
      "Error translating with src=bn (attempt 1): 'Translator' object has no attribute 'raise_Exception'\n"
     ]
    },
    {
     "name": "stderr",
     "output_type": "stream",
     "text": [
      "Translating:  12%|█████▌                                         | 198/1668 [01:30<12:13,  2.00it/s]"
     ]
    },
    {
     "name": "stdout",
     "output_type": "stream",
     "text": [
      "Error translating with src=bn (attempt 1): 'Translator' object has no attribute 'raise_Exception'\n"
     ]
    },
    {
     "name": "stderr",
     "output_type": "stream",
     "text": [
      "Translating:  13%|██████                                         | 217/1668 [01:33<02:18, 10.47it/s]"
     ]
    },
    {
     "name": "stdout",
     "output_type": "stream",
     "text": [
      "Error translating with src=bn (attempt 1): 'Translator' object has no attribute 'raise_Exception'\n",
      "Error translating with src=bn (attempt 1): 'Translator' object has no attribute 'raise_Exception'\n"
     ]
    },
    {
     "name": "stderr",
     "output_type": "stream",
     "text": [
      "Translating:  13%|██████▏                                        | 219/1668 [01:37<15:56,  1.52it/s]"
     ]
    },
    {
     "name": "stdout",
     "output_type": "stream",
     "text": [
      "Error translating with src=bn (attempt 1): 'Translator' object has no attribute 'raise_Exception'\n"
     ]
    },
    {
     "name": "stderr",
     "output_type": "stream",
     "text": [
      "Translating:  13%|██████▏                                        | 220/1668 [01:39<21:29,  1.12it/s]"
     ]
    },
    {
     "name": "stdout",
     "output_type": "stream",
     "text": [
      "Error translating with src=bn (attempt 1): 'Translator' object has no attribute 'raise_Exception'\n"
     ]
    },
    {
     "name": "stderr",
     "output_type": "stream",
     "text": [
      "Translating:  14%|██████▍                                        | 230/1668 [01:41<05:11,  4.62it/s]"
     ]
    },
    {
     "name": "stdout",
     "output_type": "stream",
     "text": [
      "Error translating with src=bn (attempt 1): 'Translator' object has no attribute 'raise_Exception'\n",
      "Error translating with src=bn (attempt 2): 'Translator' object has no attribute 'raise_Exception'\n"
     ]
    },
    {
     "name": "stderr",
     "output_type": "stream",
     "text": [
      "Translating:  14%|██████▋                                        | 238/1668 [01:47<09:19,  2.55it/s]"
     ]
    },
    {
     "name": "stdout",
     "output_type": "stream",
     "text": [
      "Error translating with src=bn (attempt 1): 'Translator' object has no attribute 'raise_Exception'\n"
     ]
    },
    {
     "name": "stderr",
     "output_type": "stream",
     "text": [
      "Translating:  15%|██████▊                                        | 242/1668 [01:50<10:29,  2.27it/s]"
     ]
    },
    {
     "name": "stdout",
     "output_type": "stream",
     "text": [
      "Error translating with src=bn (attempt 1): 'Translator' object has no attribute 'raise_Exception'\n"
     ]
    },
    {
     "name": "stderr",
     "output_type": "stream",
     "text": [
      "Translating:  15%|██████▉                                        | 246/1668 [01:52<10:54,  2.17it/s]"
     ]
    },
    {
     "name": "stdout",
     "output_type": "stream",
     "text": [
      "Error translating with src=bn (attempt 1): 'Translator' object has no attribute 'raise_Exception'\n"
     ]
    },
    {
     "name": "stderr",
     "output_type": "stream",
     "text": [
      "Translating:  15%|███████▎                                       | 258/1668 [01:55<03:59,  5.88it/s]"
     ]
    },
    {
     "name": "stdout",
     "output_type": "stream",
     "text": [
      "Error translating with src=bn (attempt 1): 'Translator' object has no attribute 'raise_Exception'\n"
     ]
    },
    {
     "name": "stderr",
     "output_type": "stream",
     "text": [
      "Translating:  16%|███████▎                                       | 260/1668 [01:57<10:30,  2.23it/s]"
     ]
    },
    {
     "name": "stdout",
     "output_type": "stream",
     "text": [
      "Error translating with src=bn (attempt 1): 'Translator' object has no attribute 'raise_Exception'\n"
     ]
    },
    {
     "name": "stderr",
     "output_type": "stream",
     "text": [
      "Translating:  16%|███████▎                                       | 261/1668 [01:59<17:06,  1.37it/s]"
     ]
    },
    {
     "name": "stdout",
     "output_type": "stream",
     "text": [
      "Error translating with src=bn (attempt 1): 'Translator' object has no attribute 'raise_Exception'\n"
     ]
    },
    {
     "name": "stderr",
     "output_type": "stream",
     "text": [
      "Translating:  16%|███████▍                                       | 264/1668 [02:01<15:34,  1.50it/s]"
     ]
    },
    {
     "name": "stdout",
     "output_type": "stream",
     "text": [
      "Error translating with src=bn (attempt 1): 'Translator' object has no attribute 'raise_Exception'\n"
     ]
    },
    {
     "name": "stderr",
     "output_type": "stream",
     "text": [
      "Translating:  16%|███████▍                                       | 265/1668 [02:03<21:26,  1.09it/s]"
     ]
    },
    {
     "name": "stdout",
     "output_type": "stream",
     "text": [
      "Error translating with src=bn (attempt 1): 'Translator' object has no attribute 'raise_Exception'\n",
      "Error translating with src=bn (attempt 2): 'Translator' object has no attribute 'raise_Exception'\n",
      "Error translating with src=en (attempt 1): 'Translator' object has no attribute 'raise_Exception'\n",
      "Error translating with src=en (attempt 2): 'Translator' object has no attribute 'raise_Exception'\n",
      "🔁 Attempting sentence split and translation...\n"
     ]
    },
    {
     "name": "stderr",
     "output_type": "stream",
     "text": [
      "Translating:  16%|███████▌                                       | 269/1668 [02:16<43:50,  1.88s/it]"
     ]
    },
    {
     "name": "stdout",
     "output_type": "stream",
     "text": [
      "result sent successfully\n",
      "Error translating with src=bn (attempt 1): 'Translator' object has no attribute 'raise_Exception'\n"
     ]
    },
    {
     "name": "stderr",
     "output_type": "stream",
     "text": [
      "Translating:  16%|███████▋                                       | 271/1668 [02:18<37:17,  1.60s/it]"
     ]
    },
    {
     "name": "stdout",
     "output_type": "stream",
     "text": [
      "Error translating with src=bn (attempt 1): 'Translator' object has no attribute 'raise_Exception'\n",
      "Error translating with src=bn (attempt 2): 'Translator' object has no attribute 'raise_Exception'\n",
      "Error translating with src=en (attempt 1): 'Translator' object has no attribute 'raise_Exception'\n"
     ]
    },
    {
     "name": "stderr",
     "output_type": "stream",
     "text": [
      "Translating:  16%|███████▋                                       | 275/1668 [02:25<36:26,  1.57s/it]"
     ]
    },
    {
     "name": "stdout",
     "output_type": "stream",
     "text": [
      "Error translating with src=bn (attempt 1): 'Translator' object has no attribute 'raise_Exception'\n",
      "Error translating with src=bn (attempt 2): 'Translator' object has no attribute 'raise_Exception'\n",
      "Error translating with src=en (attempt 1): 'Translator' object has no attribute 'raise_Exception'\n",
      "Error translating with src=en (attempt 2): 'Translator' object has no attribute 'raise_Exception'\n"
     ]
    },
    {
     "name": "stderr",
     "output_type": "stream",
     "text": [
      "Translating:  17%|███████▍                                     | 276/1668 [02:35<1:13:33,  3.17s/it]"
     ]
    },
    {
     "name": "stdout",
     "output_type": "stream",
     "text": [
      "🔁 Attempting sentence split and translation...\n",
      "⚠️ Could not split into two sentences. Skipping.\n"
     ]
    },
    {
     "name": "stderr",
     "output_type": "stream",
     "text": [
      "Translating:  17%|███████▊                                       | 279/1668 [02:36<37:54,  1.64s/it]"
     ]
    },
    {
     "name": "stdout",
     "output_type": "stream",
     "text": [
      "Error translating with src=bn (attempt 1): 'Translator' object has no attribute 'raise_Exception'\n"
     ]
    },
    {
     "name": "stderr",
     "output_type": "stream",
     "text": [
      "Translating:  17%|████████                                       | 288/1668 [02:38<08:35,  2.68it/s]"
     ]
    },
    {
     "name": "stdout",
     "output_type": "stream",
     "text": [
      "Error translating with src=bn (attempt 1): 'Translator' object has no attribute 'raise_Exception'\n"
     ]
    },
    {
     "name": "stderr",
     "output_type": "stream",
     "text": [
      "Translating:  18%|████████▎                                      | 296/1668 [02:41<05:31,  4.14it/s]"
     ]
    },
    {
     "name": "stdout",
     "output_type": "stream",
     "text": [
      "Error translating with src=bn (attempt 1): 'Translator' object has no attribute 'raise_Exception'\n"
     ]
    },
    {
     "name": "stderr",
     "output_type": "stream",
     "text": [
      "Translating:  18%|████████▌                                      | 304/1668 [02:43<04:43,  4.81it/s]"
     ]
    },
    {
     "name": "stdout",
     "output_type": "stream",
     "text": [
      "Error translating with src=bn (attempt 1): 'Translator' object has no attribute 'raise_Exception'\n"
     ]
    },
    {
     "name": "stderr",
     "output_type": "stream",
     "text": [
      "Translating:  19%|████████▊                                      | 312/1668 [02:46<04:40,  4.83it/s]"
     ]
    },
    {
     "name": "stdout",
     "output_type": "stream",
     "text": [
      "Error translating with src=bn (attempt 1): 'Translator' object has no attribute 'raise_Exception'\n"
     ]
    },
    {
     "name": "stderr",
     "output_type": "stream",
     "text": [
      "Translating:  20%|█████████▎                                     | 332/1668 [02:49<01:51, 11.93it/s]"
     ]
    },
    {
     "name": "stdout",
     "output_type": "stream",
     "text": [
      "Error translating with src=bn (attempt 1): 'Translator' object has no attribute 'raise_Exception'\n"
     ]
    },
    {
     "name": "stderr",
     "output_type": "stream",
     "text": [
      "Translating:  21%|█████████▊                                     | 350/1668 [02:52<01:49, 12.01it/s]"
     ]
    },
    {
     "name": "stdout",
     "output_type": "stream",
     "text": [
      "Error translating with src=bn (attempt 1): 'Translator' object has no attribute 'raise_Exception'\n"
     ]
    },
    {
     "name": "stderr",
     "output_type": "stream",
     "text": [
      "Translating:  21%|█████████▉                                     | 352/1668 [02:54<08:07,  2.70it/s]"
     ]
    },
    {
     "name": "stdout",
     "output_type": "stream",
     "text": [
      "Error translating with src=bn (attempt 1): 'Translator' object has no attribute 'raise_Exception'\n"
     ]
    },
    {
     "name": "stderr",
     "output_type": "stream",
     "text": [
      "Translating:  22%|██████████                                     | 359/1668 [02:57<05:33,  3.92it/s]"
     ]
    },
    {
     "name": "stdout",
     "output_type": "stream",
     "text": [
      "Error translating with src=bn (attempt 1): 'Translator' object has no attribute 'raise_Exception'\n"
     ]
    },
    {
     "name": "stderr",
     "output_type": "stream",
     "text": [
      "Translating:  22%|██████████▌                                    | 375/1668 [03:00<02:13,  9.70it/s]"
     ]
    },
    {
     "name": "stdout",
     "output_type": "stream",
     "text": [
      "Error translating with src=bn (attempt 1): 'Translator' object has no attribute 'raise_Exception'\n"
     ]
    },
    {
     "name": "stderr",
     "output_type": "stream",
     "text": [
      "Translating:  23%|██████████▉                                    | 389/1668 [03:03<02:12,  9.66it/s]"
     ]
    },
    {
     "name": "stdout",
     "output_type": "stream",
     "text": [
      "Error translating with src=bn (attempt 1): 'Translator' object has no attribute 'raise_Exception'\n"
     ]
    },
    {
     "name": "stderr",
     "output_type": "stream",
     "text": [
      "Translating:  23%|███████████                                    | 391/1668 [03:05<08:29,  2.51it/s]"
     ]
    },
    {
     "name": "stdout",
     "output_type": "stream",
     "text": [
      "Error translating with src=bn (attempt 1): 'Translator' object has no attribute 'raise_Exception'\n"
     ]
    },
    {
     "name": "stderr",
     "output_type": "stream",
     "text": [
      "Translating:  25%|███████████▊                                   | 417/1668 [03:08<01:37, 12.87it/s]"
     ]
    },
    {
     "name": "stdout",
     "output_type": "stream",
     "text": [
      "Error translating with src=bn (attempt 1): 'Translator' object has no attribute 'raise_Exception'\n"
     ]
    },
    {
     "name": "stderr",
     "output_type": "stream",
     "text": [
      "Translating:  25%|███████████▊                                   | 419/1668 [03:10<07:18,  2.85it/s]"
     ]
    },
    {
     "name": "stdout",
     "output_type": "stream",
     "text": [
      "Error translating with src=bn (attempt 1): 'Translator' object has no attribute 'raise_Exception'\n"
     ]
    },
    {
     "name": "stderr",
     "output_type": "stream",
     "text": [
      "Translating:  27%|████████████▌                                  | 445/1668 [03:15<04:31,  4.51it/s]"
     ]
    },
    {
     "name": "stdout",
     "output_type": "stream",
     "text": [
      "Error translating with src=bn (attempt 1): 'Translator' object has no attribute 'raise_Exception'\n"
     ]
    },
    {
     "name": "stderr",
     "output_type": "stream",
     "text": [
      "Translating:  27%|████████████▌                                  | 447/1668 [03:17<09:18,  2.19it/s]"
     ]
    },
    {
     "name": "stdout",
     "output_type": "stream",
     "text": [
      "Error translating with src=bn (attempt 1): 'Translator' object has no attribute 'raise_Exception'\n"
     ]
    },
    {
     "name": "stderr",
     "output_type": "stream",
     "text": [
      "Translating:  28%|█████████████▎                                 | 472/1668 [03:21<01:42, 11.66it/s]"
     ]
    },
    {
     "name": "stdout",
     "output_type": "stream",
     "text": [
      "Error translating with src=bn (attempt 1): 'Translator' object has no attribute 'raise_Exception'\n"
     ]
    },
    {
     "name": "stderr",
     "output_type": "stream",
     "text": [
      "Translating:  29%|█████████████▍                                 | 476/1668 [03:23<05:21,  3.70it/s]"
     ]
    },
    {
     "name": "stdout",
     "output_type": "stream",
     "text": [
      "Error translating with src=bn (attempt 1): 'Translator' object has no attribute 'raise_Exception'\n"
     ]
    },
    {
     "name": "stderr",
     "output_type": "stream",
     "text": [
      "Translating:  29%|█████████████▊                                 | 488/1668 [03:26<02:57,  6.66it/s]"
     ]
    },
    {
     "name": "stdout",
     "output_type": "stream",
     "text": [
      "Error translating with src=bn (attempt 1): 'Translator' object has no attribute 'raise_Exception'\n"
     ]
    },
    {
     "name": "stderr",
     "output_type": "stream",
     "text": [
      "Translating:  29%|█████████████▊                                 | 490/1668 [03:28<07:42,  2.55it/s]"
     ]
    },
    {
     "name": "stdout",
     "output_type": "stream",
     "text": [
      "Error translating with src=bn (attempt 1): 'Translator' object has no attribute 'raise_Exception'\n"
     ]
    },
    {
     "name": "stderr",
     "output_type": "stream",
     "text": [
      "Translating:  29%|█████████████▊                                 | 491/1668 [03:30<12:48,  1.53it/s]"
     ]
    },
    {
     "name": "stdout",
     "output_type": "stream",
     "text": [
      "Error translating with src=bn (attempt 1): 'Translator' object has no attribute 'raise_Exception'\n"
     ]
    },
    {
     "name": "stderr",
     "output_type": "stream",
     "text": [
      "Translating:  32%|██████████████▉                                | 529/1668 [03:35<01:21, 13.90it/s]"
     ]
    },
    {
     "name": "stdout",
     "output_type": "stream",
     "text": [
      "Error translating with src=bn (attempt 1): 'Translator' object has no attribute 'raise_Exception'\n"
     ]
    },
    {
     "name": "stderr",
     "output_type": "stream",
     "text": [
      "Translating:  34%|███████████████▉                               | 567/1668 [03:40<01:19, 13.84it/s]"
     ]
    },
    {
     "name": "stdout",
     "output_type": "stream",
     "text": [
      "Error translating with src=bn (attempt 1): 'Translator' object has no attribute 'raise_Exception'\n",
      "Error translating with src=bn (attempt 2): 'Translator' object has no attribute 'raise_Exception'\n"
     ]
    },
    {
     "name": "stderr",
     "output_type": "stream",
     "text": [
      "Translating:  34%|████████████████                               | 569/1668 [03:45<15:55,  1.15it/s]"
     ]
    },
    {
     "name": "stdout",
     "output_type": "stream",
     "text": [
      "Error translating with src=bn (attempt 1): 'Translator' object has no attribute 'raise_Exception'\n"
     ]
    },
    {
     "name": "stderr",
     "output_type": "stream",
     "text": [
      "Translating:  34%|████████████████                               | 572/1668 [03:47<13:25,  1.36it/s]"
     ]
    },
    {
     "name": "stdout",
     "output_type": "stream",
     "text": [
      "Error translating with src=bn (attempt 1): 'Translator' object has no attribute 'raise_Exception'\n",
      "Error translating with src=bn (attempt 2): 'Translator' object has no attribute 'raise_Exception'\n"
     ]
    },
    {
     "name": "stderr",
     "output_type": "stream",
     "text": [
      "Translating:  34%|████████████████▏                              | 574/1668 [03:53<25:35,  1.40s/it]"
     ]
    },
    {
     "name": "stdout",
     "output_type": "stream",
     "text": [
      "Error translating with src=bn (attempt 1): 'Translator' object has no attribute 'raise_Exception'\n"
     ]
    },
    {
     "name": "stderr",
     "output_type": "stream",
     "text": [
      "Translating:  34%|████████████████▏                              | 575/1668 [03:55<27:20,  1.50s/it]"
     ]
    },
    {
     "name": "stdout",
     "output_type": "stream",
     "text": [
      "Error translating with src=bn (attempt 1): 'Translator' object has no attribute 'raise_Exception'\n",
      "Error translating with src=bn (attempt 2): 'Translator' object has no attribute 'raise_Exception'\n",
      "Error translating with src=en (attempt 1): 'Translator' object has no attribute 'raise_Exception'\n"
     ]
    },
    {
     "name": "stderr",
     "output_type": "stream",
     "text": [
      "Translating:  35%|████████████████▏                              | 576/1668 [04:02<50:28,  2.77s/it]"
     ]
    },
    {
     "name": "stdout",
     "output_type": "stream",
     "text": [
      "Error translating with src=bn (attempt 1): 'Translator' object has no attribute 'raise_Exception'\n",
      "Error translating with src=bn (attempt 2): 'Translator' object has no attribute 'raise_Exception'\n"
     ]
    },
    {
     "name": "stderr",
     "output_type": "stream",
     "text": [
      "Translating:  35%|████████████████▎                              | 578/1668 [04:08<50:13,  2.76s/it]"
     ]
    },
    {
     "name": "stdout",
     "output_type": "stream",
     "text": [
      "Error translating with src=bn (attempt 1): 'Translator' object has no attribute 'raise_Exception'\n"
     ]
    },
    {
     "name": "stderr",
     "output_type": "stream",
     "text": [
      "Translating:  35%|████████████████▎                              | 579/1668 [04:10<47:41,  2.63s/it]"
     ]
    },
    {
     "name": "stdout",
     "output_type": "stream",
     "text": [
      "Error translating with src=bn (attempt 1): 'Translator' object has no attribute 'raise_Exception'\n",
      "Error translating with src=bn (attempt 2): 'Translator' object has no attribute 'raise_Exception'\n",
      "Error translating with src=en (attempt 1): 'Translator' object has no attribute 'raise_Exception'\n",
      "Error translating with src=en (attempt 2): 'Translator' object has no attribute 'raise_Exception'\n",
      "🔁 Attempting sentence split and translation...\n",
      "Error translating with src=bn (attempt 1): 'Translator' object has no attribute 'raise_Exception'\n",
      "Error translating with src=bn (attempt 2): 'Translator' object has no attribute 'raise_Exception'\n",
      "Error translating with src=en (attempt 1): 'Translator' object has no attribute 'raise_Exception'\n",
      "Error translating with src=en (attempt 2): 'Translator' object has no attribute 'raise_Exception'\n",
      "Error translating with src=bn (attempt 1): 'Translator' object has no attribute 'raise_Exception'\n",
      "Error translating with src=bn (attempt 2): 'Translator' object has no attribute 'raise_Exception'\n"
     ]
    },
    {
     "name": "stderr",
     "output_type": "stream",
     "text": [
      "Translating:  35%|███████████████▋                             | 580/1668 [04:37<2:29:51,  8.26s/it]"
     ]
    },
    {
     "name": "stdout",
     "output_type": "stream",
     "text": [
      "result sent successfully\n",
      "Error translating with src=bn (attempt 1): 'Translator' object has no attribute 'raise_Exception'\n"
     ]
    },
    {
     "name": "stderr",
     "output_type": "stream",
     "text": [
      "Translating:  35%|███████████████▋                             | 582/1668 [04:39<1:37:15,  5.37s/it]"
     ]
    },
    {
     "name": "stdout",
     "output_type": "stream",
     "text": [
      "Error translating with src=bn (attempt 1): 'Translator' object has no attribute 'raise_Exception'\n",
      "Error translating with src=bn (attempt 2): 'Translator' object has no attribute 'raise_Exception'\n"
     ]
    },
    {
     "name": "stderr",
     "output_type": "stream",
     "text": [
      "Translating:  36%|█████████████████▏                             | 608/1668 [04:46<02:16,  7.74it/s]"
     ]
    },
    {
     "name": "stdout",
     "output_type": "stream",
     "text": [
      "Error translating with src=bn (attempt 1): 'Translator' object has no attribute 'raise_Exception'\n"
     ]
    },
    {
     "name": "stderr",
     "output_type": "stream",
     "text": [
      "Translating:  37%|█████████████████▍                             | 618/1668 [04:49<02:43,  6.41it/s]"
     ]
    },
    {
     "name": "stdout",
     "output_type": "stream",
     "text": [
      "Error translating with src=bn (attempt 1): 'Translator' object has no attribute 'raise_Exception'\n"
     ]
    },
    {
     "name": "stderr",
     "output_type": "stream",
     "text": [
      "Translating:  39%|██████████████████▎                            | 652/1668 [04:53<01:15, 13.38it/s]"
     ]
    },
    {
     "name": "stdout",
     "output_type": "stream",
     "text": [
      "Error translating with src=bn (attempt 1): 'Translator' object has no attribute 'raise_Exception'\n"
     ]
    },
    {
     "name": "stderr",
     "output_type": "stream",
     "text": [
      "Translating:  40%|██████████████████▊                            | 666/1668 [04:56<01:44,  9.59it/s]"
     ]
    },
    {
     "name": "stdout",
     "output_type": "stream",
     "text": [
      "Error translating with src=bn (attempt 1): 'Translator' object has no attribute 'raise_Exception'\n"
     ]
    },
    {
     "name": "stderr",
     "output_type": "stream",
     "text": [
      "Translating:  41%|███████████████████▍                           | 688/1668 [05:00<01:15, 12.93it/s]"
     ]
    },
    {
     "name": "stdout",
     "output_type": "stream",
     "text": [
      "Error translating with src=bn (attempt 1): 'Translator' object has no attribute 'raise_Exception'\n"
     ]
    },
    {
     "name": "stderr",
     "output_type": "stream",
     "text": [
      "Translating:  42%|███████████████████▉                           | 708/1668 [05:03<01:21, 11.73it/s]"
     ]
    },
    {
     "name": "stdout",
     "output_type": "stream",
     "text": [
      "Error translating with src=bn (attempt 1): 'Translator' object has no attribute 'raise_Exception'\n"
     ]
    },
    {
     "name": "stderr",
     "output_type": "stream",
     "text": [
      "Translating:  43%|████████████████████▎                          | 720/1668 [05:06<01:52,  8.40it/s]"
     ]
    },
    {
     "name": "stdout",
     "output_type": "stream",
     "text": [
      "Error translating with src=bn (attempt 1): 'Translator' object has no attribute 'raise_Exception'\n"
     ]
    },
    {
     "name": "stderr",
     "output_type": "stream",
     "text": [
      "Translating:  44%|████████████████████▌                          | 730/1668 [05:08<02:18,  6.78it/s]"
     ]
    },
    {
     "name": "stdout",
     "output_type": "stream",
     "text": [
      "Error translating with src=bn (attempt 1): 'Translator' object has no attribute 'raise_Exception'\n"
     ]
    },
    {
     "name": "stderr",
     "output_type": "stream",
     "text": [
      "Translating:  44%|████████████████████▊                          | 740/1668 [05:11<02:22,  6.52it/s]"
     ]
    },
    {
     "name": "stdout",
     "output_type": "stream",
     "text": [
      "Error translating with src=bn (attempt 1): 'Translator' object has no attribute 'raise_Exception'\n",
      "Error translating with src=bn (attempt 1): 'Translator' object has no attribute 'raise_Exception'\n"
     ]
    },
    {
     "name": "stderr",
     "output_type": "stream",
     "text": [
      "Translating:  46%|█████████████████████▊                         | 773/1668 [05:17<01:13, 12.17it/s]"
     ]
    },
    {
     "name": "stdout",
     "output_type": "stream",
     "text": [
      "Error translating with src=bn (attempt 1): 'Translator' object has no attribute 'raise_Exception'\n"
     ]
    },
    {
     "name": "stderr",
     "output_type": "stream",
     "text": [
      "Translating:  47%|██████████████████████▏                        | 787/1668 [05:21<03:24,  4.31it/s]"
     ]
    },
    {
     "name": "stdout",
     "output_type": "stream",
     "text": [
      "Error translating with src=bn (attempt 1): 'Translator' object has no attribute 'raise_Exception'\n"
     ]
    },
    {
     "name": "stderr",
     "output_type": "stream",
     "text": [
      "Translating:  48%|██████████████████████▋                        | 807/1668 [05:25<01:17, 11.14it/s]"
     ]
    },
    {
     "name": "stdout",
     "output_type": "stream",
     "text": [
      "Error translating with src=bn (attempt 1): 'Translator' object has no attribute 'raise_Exception'\n"
     ]
    },
    {
     "name": "stderr",
     "output_type": "stream",
     "text": [
      "Translating:  49%|███████████████████████▏                       | 823/1668 [05:28<01:30,  9.32it/s]"
     ]
    },
    {
     "name": "stdout",
     "output_type": "stream",
     "text": [
      "Error translating with src=bn (attempt 1): 'Translator' object has no attribute 'raise_Exception'\n",
      "Error translating with src=bn (attempt 2): 'Translator' object has no attribute 'raise_Exception'\n"
     ]
    },
    {
     "name": "stderr",
     "output_type": "stream",
     "text": [
      "Translating:  55%|█████████████████████████▉                     | 921/1668 [05:40<00:56, 13.11it/s]"
     ]
    },
    {
     "name": "stdout",
     "output_type": "stream",
     "text": [
      "Error translating with src=bn (attempt 1): 'Translator' object has no attribute 'raise_Exception'\n"
     ]
    },
    {
     "name": "stderr",
     "output_type": "stream",
     "text": [
      "Translating:  55%|██████████████████████████                     | 923/1668 [05:43<06:13,  2.00it/s]"
     ]
    },
    {
     "name": "stdout",
     "output_type": "stream",
     "text": [
      "Error translating with src=bn (attempt 1): 'Translator' object has no attribute 'raise_Exception'\n",
      "Error translating with src=bn (attempt 2): 'Translator' object has no attribute 'raise_Exception'\n"
     ]
    },
    {
     "name": "stderr",
     "output_type": "stream",
     "text": [
      "Translating:  55%|██████████████████████████                     | 925/1668 [05:49<14:13,  1.15s/it]"
     ]
    },
    {
     "name": "stdout",
     "output_type": "stream",
     "text": [
      "Error translating with src=bn (attempt 1): 'Translator' object has no attribute 'raise_Exception'\n"
     ]
    },
    {
     "name": "stderr",
     "output_type": "stream",
     "text": [
      "Translating:  56%|██████████████████████████▏                    | 930/1668 [05:51<07:40,  1.60it/s]"
     ]
    },
    {
     "name": "stdout",
     "output_type": "stream",
     "text": [
      "Error translating with src=bn (attempt 1): 'Translator' object has no attribute 'raise_Exception'\n"
     ]
    },
    {
     "name": "stderr",
     "output_type": "stream",
     "text": [
      "Translating:  56%|██████████████████████████▎                    | 932/1668 [05:53<08:59,  1.36it/s]"
     ]
    },
    {
     "name": "stdout",
     "output_type": "stream",
     "text": [
      "Error translating with src=bn (attempt 1): 'Translator' object has no attribute 'raise_Exception'\n"
     ]
    },
    {
     "name": "stderr",
     "output_type": "stream",
     "text": [
      "Translating:  56%|██████████████████████████▍                    | 938/1668 [05:55<05:22,  2.26it/s]"
     ]
    },
    {
     "name": "stdout",
     "output_type": "stream",
     "text": [
      "Error translating with src=bn (attempt 1): 'Translator' object has no attribute 'raise_Exception'\n",
      "Error translating with src=bn (attempt 2): 'Translator' object has no attribute 'raise_Exception'\n"
     ]
    },
    {
     "name": "stderr",
     "output_type": "stream",
     "text": [
      "Translating:  57%|██████████████████████████▌                    | 943/1668 [06:03<10:57,  1.10it/s]"
     ]
    },
    {
     "name": "stdout",
     "output_type": "stream",
     "text": [
      "Error translating with src=bn (attempt 1): 'Translator' object has no attribute 'raise_Exception'\n",
      "Error translating with src=bn (attempt 2): 'Translator' object has no attribute 'raise_Exception'\n",
      "Error translating with src=en (attempt 1): 'Translator' object has no attribute 'raise_Exception'\n",
      "Error translating with src=en (attempt 2): 'Translator' object has no attribute 'raise_Exception'\n"
     ]
    },
    {
     "name": "stderr",
     "output_type": "stream",
     "text": [
      "Translating:  57%|██████████████████████████▌                    | 944/1668 [06:13<34:49,  2.89s/it]"
     ]
    },
    {
     "name": "stdout",
     "output_type": "stream",
     "text": [
      "🔁 Attempting sentence split and translation...\n",
      "⚠️ Could not split into two sentences. Skipping.\n",
      "Error translating with src=bn (attempt 1): 'Translator' object has no attribute 'raise_Exception'\n",
      "Error translating with src=bn (attempt 2): 'Translator' object has no attribute 'raise_Exception'\n",
      "Error translating with src=en (attempt 1): 'Translator' object has no attribute 'raise_Exception'\n",
      "Error translating with src=en (attempt 2): 'Translator' object has no attribute 'raise_Exception'\n",
      "🔁 Attempting sentence split and translation...\n",
      "Error translating with src=bn (attempt 1): 'Translator' object has no attribute 'raise_Exception'\n",
      "Error translating with src=bn (attempt 2): 'Translator' object has no attribute 'raise_Exception'\n",
      "Error translating with src=en (attempt 1): 'Translator' object has no attribute 'raise_Exception'\n",
      "Error translating with src=en (attempt 2): 'Translator' object has no attribute 'raise_Exception'\n",
      "Error translating with src=bn (attempt 1): 'Translator' object has no attribute 'raise_Exception'\n",
      "Error translating with src=bn (attempt 2): 'Translator' object has no attribute 'raise_Exception'\n",
      "Error translating with src=en (attempt 1): 'Translator' object has no attribute 'raise_Exception'\n"
     ]
    },
    {
     "name": "stderr",
     "output_type": "stream",
     "text": [
      "Translating:  57%|█████████████████████████▍                   | 945/1668 [06:42<1:43:36,  8.60s/it]"
     ]
    },
    {
     "name": "stdout",
     "output_type": "stream",
     "text": [
      "result sent successfully\n",
      "Error translating with src=bn (attempt 1): 'Translator' object has no attribute 'raise_Exception'\n"
     ]
    },
    {
     "name": "stderr",
     "output_type": "stream",
     "text": [
      "Translating:  57%|█████████████████████████▌                   | 946/1668 [06:44<1:24:22,  7.01s/it]"
     ]
    },
    {
     "name": "stdout",
     "output_type": "stream",
     "text": [
      "Error translating with src=bn (attempt 1): 'Translator' object has no attribute 'raise_Exception'\n"
     ]
    },
    {
     "name": "stderr",
     "output_type": "stream",
     "text": [
      "Translating:  57%|██████████████████████████▋                    | 948/1668 [06:46<55:02,  4.59s/it]"
     ]
    },
    {
     "name": "stdout",
     "output_type": "stream",
     "text": [
      "Error translating with src=bn (attempt 1): 'Translator' object has no attribute 'raise_Exception'\n"
     ]
    },
    {
     "name": "stderr",
     "output_type": "stream",
     "text": [
      "Translating:  57%|██████████████████████████▋                    | 949/1668 [06:48<48:05,  4.01s/it]"
     ]
    },
    {
     "name": "stdout",
     "output_type": "stream",
     "text": [
      "Error translating with src=bn (attempt 1): 'Translator' object has no attribute 'raise_Exception'\n",
      "Error translating with src=bn (attempt 2): 'Translator' object has no attribute 'raise_Exception'\n"
     ]
    },
    {
     "name": "stderr",
     "output_type": "stream",
     "text": [
      "Translating:  57%|██████████████████████████▊                    | 952/1668 [06:54<33:21,  2.80s/it]"
     ]
    },
    {
     "name": "stdout",
     "output_type": "stream",
     "text": [
      "Error translating with src=bn (attempt 1): 'Translator' object has no attribute 'raise_Exception'\n"
     ]
    },
    {
     "name": "stderr",
     "output_type": "stream",
     "text": [
      "Translating:  57%|██████████████████████████▊                    | 953/1668 [06:56<30:40,  2.57s/it]"
     ]
    },
    {
     "name": "stdout",
     "output_type": "stream",
     "text": [
      "Error translating with src=bn (attempt 1): 'Translator' object has no attribute 'raise_Exception'\n"
     ]
    },
    {
     "name": "stderr",
     "output_type": "stream",
     "text": [
      "Translating:  58%|███████████████████████████                    | 961/1668 [06:58<06:53,  1.71it/s]"
     ]
    },
    {
     "name": "stdout",
     "output_type": "stream",
     "text": [
      "Error translating with src=bn (attempt 1): 'Translator' object has no attribute 'raise_Exception'\n",
      "Error translating with src=bn (attempt 1): 'Translator' object has no attribute 'raise_Exception'\n"
     ]
    },
    {
     "name": "stderr",
     "output_type": "stream",
     "text": [
      "Translating:  58%|███████████████████████████▏                   | 965/1668 [07:02<08:14,  1.42it/s]"
     ]
    },
    {
     "name": "stdout",
     "output_type": "stream",
     "text": [
      "Error translating with src=bn (attempt 1): 'Translator' object has no attribute 'raise_Exception'\n",
      "Error translating with src=bn (attempt 2): 'Translator' object has no attribute 'raise_Exception'\n"
     ]
    },
    {
     "name": "stderr",
     "output_type": "stream",
     "text": [
      "Translating:  58%|███████████████████████████▍                   | 973/1668 [07:07<05:33,  2.09it/s]"
     ]
    },
    {
     "name": "stdout",
     "output_type": "stream",
     "text": [
      "Error translating with src=bn (attempt 1): 'Translator' object has no attribute 'raise_Exception'\n"
     ]
    },
    {
     "name": "stderr",
     "output_type": "stream",
     "text": [
      "Translating:  59%|███████████████████████████▌                   | 978/1668 [07:10<04:34,  2.52it/s]"
     ]
    },
    {
     "name": "stdout",
     "output_type": "stream",
     "text": [
      "Error translating with src=bn (attempt 1): 'Translator' object has no attribute 'raise_Exception'\n"
     ]
    },
    {
     "name": "stderr",
     "output_type": "stream",
     "text": [
      "Translating:  60%|████████████████████████████                   | 994/1668 [07:13<01:19,  8.49it/s]"
     ]
    },
    {
     "name": "stdout",
     "output_type": "stream",
     "text": [
      "Error translating with src=bn (attempt 1): 'Translator' object has no attribute 'raise_Exception'\n"
     ]
    },
    {
     "name": "stderr",
     "output_type": "stream",
     "text": [
      "Translating:  60%|███████████████████████████▋                  | 1005/1668 [07:16<01:26,  7.66it/s]"
     ]
    },
    {
     "name": "stdout",
     "output_type": "stream",
     "text": [
      "Error translating with src=bn (attempt 1): 'Translator' object has no attribute 'raise_Exception'\n",
      "Error translating with src=bn (attempt 1): 'Translator' object has no attribute 'raise_Exception'\n",
      "Error translating with src=bn (attempt 2): 'Translator' object has no attribute 'raise_Exception'\n"
     ]
    },
    {
     "name": "stderr",
     "output_type": "stream",
     "text": [
      "Translating:  61%|████████████████████████████                  | 1016/1668 [07:25<05:10,  2.10it/s]"
     ]
    },
    {
     "name": "stdout",
     "output_type": "stream",
     "text": [
      "Error translating with src=bn (attempt 1): 'Translator' object has no attribute 'raise_Exception'\n",
      "Error translating with src=bn (attempt 2): 'Translator' object has no attribute 'raise_Exception'\n"
     ]
    },
    {
     "name": "stderr",
     "output_type": "stream",
     "text": [
      "Translating:  61%|████████████████████████████                  | 1019/1668 [07:31<09:54,  1.09it/s]"
     ]
    },
    {
     "name": "stdout",
     "output_type": "stream",
     "text": [
      "Error translating with src=bn (attempt 1): 'Translator' object has no attribute 'raise_Exception'\n",
      "Error translating with src=bn (attempt 2): 'Translator' object has no attribute 'raise_Exception'\n"
     ]
    },
    {
     "name": "stderr",
     "output_type": "stream",
     "text": [
      "Translating:  61%|████████████████████████████▏                 | 1022/1668 [07:36<12:36,  1.17s/it]"
     ]
    },
    {
     "name": "stdout",
     "output_type": "stream",
     "text": [
      "Error translating with src=bn (attempt 1): 'Translator' object has no attribute 'raise_Exception'\n"
     ]
    },
    {
     "name": "stderr",
     "output_type": "stream",
     "text": [
      "Translating:  62%|████████████████████████████▎                 | 1026/1668 [07:38<08:25,  1.27it/s]"
     ]
    },
    {
     "name": "stdout",
     "output_type": "stream",
     "text": [
      "Error translating with src=bn (attempt 1): 'Translator' object has no attribute 'raise_Exception'\n"
     ]
    },
    {
     "name": "stderr",
     "output_type": "stream",
     "text": [
      "Translating:  62%|████████████████████████████▍                 | 1030/1668 [07:40<06:21,  1.67it/s]"
     ]
    },
    {
     "name": "stdout",
     "output_type": "stream",
     "text": [
      "Error translating with src=bn (attempt 1): 'Translator' object has no attribute 'raise_Exception'\n"
     ]
    },
    {
     "name": "stderr",
     "output_type": "stream",
     "text": [
      "Translating:  62%|████████████████████████████▋                 | 1038/1668 [07:43<03:11,  3.30it/s]"
     ]
    },
    {
     "name": "stdout",
     "output_type": "stream",
     "text": [
      "Error translating with src=bn (attempt 1): 'Translator' object has no attribute 'raise_Exception'\n"
     ]
    },
    {
     "name": "stderr",
     "output_type": "stream",
     "text": [
      "Translating:  62%|████████████████████████████▋                 | 1040/1668 [07:45<05:25,  1.93it/s]"
     ]
    },
    {
     "name": "stdout",
     "output_type": "stream",
     "text": [
      "Error translating with src=bn (attempt 1): 'Translator' object has no attribute 'raise_Exception'\n"
     ]
    },
    {
     "name": "stderr",
     "output_type": "stream",
     "text": [
      "Translating:  63%|████████████████████████████▊                 | 1047/1668 [07:47<02:53,  3.58it/s]"
     ]
    },
    {
     "name": "stdout",
     "output_type": "stream",
     "text": [
      "Error translating with src=bn (attempt 1): 'Translator' object has no attribute 'raise_Exception'\n",
      "Error translating with src=bn (attempt 2): 'Translator' object has no attribute 'raise_Exception'\n"
     ]
    },
    {
     "name": "stderr",
     "output_type": "stream",
     "text": [
      "Translating:  63%|████████████████████████████▉                 | 1049/1668 [07:53<10:44,  1.04s/it]"
     ]
    },
    {
     "name": "stdout",
     "output_type": "stream",
     "text": [
      "Error translating with src=bn (attempt 1): 'Translator' object has no attribute 'raise_Exception'\n"
     ]
    },
    {
     "name": "stderr",
     "output_type": "stream",
     "text": [
      "Translating:  63%|█████████████████████████████                 | 1056/1668 [07:55<04:18,  2.37it/s]"
     ]
    },
    {
     "name": "stdout",
     "output_type": "stream",
     "text": [
      "Error translating with src=bn (attempt 1): 'Translator' object has no attribute 'raise_Exception'\n",
      "Error translating with src=bn (attempt 2): 'Translator' object has no attribute 'raise_Exception'\n"
     ]
    },
    {
     "name": "stderr",
     "output_type": "stream",
     "text": [
      "Translating:  63%|█████████████████████████████▏                | 1058/1668 [08:01<11:19,  1.11s/it]"
     ]
    },
    {
     "name": "stdout",
     "output_type": "stream",
     "text": [
      "Error translating with src=bn (attempt 1): 'Translator' object has no attribute 'raise_Exception'\n"
     ]
    },
    {
     "name": "stderr",
     "output_type": "stream",
     "text": [
      "Translating:  64%|█████████████████████████████▏                | 1060/1668 [08:03<10:59,  1.09s/it]"
     ]
    },
    {
     "name": "stdout",
     "output_type": "stream",
     "text": [
      "Error translating with src=bn (attempt 1): 'Translator' object has no attribute 'raise_Exception'\n"
     ]
    },
    {
     "name": "stderr",
     "output_type": "stream",
     "text": [
      "Translating:  64%|█████████████████████████████▍                | 1066/1668 [08:05<05:31,  1.81it/s]"
     ]
    },
    {
     "name": "stdout",
     "output_type": "stream",
     "text": [
      "Error translating with src=bn (attempt 1): 'Translator' object has no attribute 'raise_Exception'\n"
     ]
    },
    {
     "name": "stderr",
     "output_type": "stream",
     "text": [
      "Translating:  64%|█████████████████████████████▍                | 1069/1668 [08:07<05:41,  1.75it/s]"
     ]
    },
    {
     "name": "stdout",
     "output_type": "stream",
     "text": [
      "Error translating with src=bn (attempt 1): 'Translator' object has no attribute 'raise_Exception'\n"
     ]
    },
    {
     "name": "stderr",
     "output_type": "stream",
     "text": [
      "Translating:  65%|█████████████████████████████▋                | 1076/1668 [08:10<02:50,  3.46it/s]"
     ]
    },
    {
     "name": "stdout",
     "output_type": "stream",
     "text": [
      "Error translating with src=bn (attempt 1): 'Translator' object has no attribute 'raise_Exception'\n"
     ]
    },
    {
     "name": "stderr",
     "output_type": "stream",
     "text": [
      "Translating:  65%|█████████████████████████████▉                | 1084/1668 [08:12<02:08,  4.56it/s]"
     ]
    },
    {
     "name": "stdout",
     "output_type": "stream",
     "text": [
      "Error translating with src=bn (attempt 1): 'Translator' object has no attribute 'raise_Exception'\n"
     ]
    },
    {
     "name": "stderr",
     "output_type": "stream",
     "text": [
      "Translating:  65%|█████████████████████████████▉                | 1086/1668 [08:14<04:38,  2.09it/s]"
     ]
    },
    {
     "name": "stdout",
     "output_type": "stream",
     "text": [
      "Error translating with src=bn (attempt 1): 'Translator' object has no attribute 'raise_Exception'\n"
     ]
    },
    {
     "name": "stderr",
     "output_type": "stream",
     "text": [
      "Translating:  66%|██████████████████████████████▎               | 1101/1668 [08:18<01:35,  5.93it/s]"
     ]
    },
    {
     "name": "stdout",
     "output_type": "stream",
     "text": [
      "Error translating with src=bn (attempt 1): 'Translator' object has no attribute 'raise_Exception'\n"
     ]
    },
    {
     "name": "stderr",
     "output_type": "stream",
     "text": [
      "Translating:  67%|██████████████████████████████▋               | 1111/1668 [08:21<01:21,  6.84it/s]"
     ]
    },
    {
     "name": "stdout",
     "output_type": "stream",
     "text": [
      "Error translating with src=bn (attempt 1): 'Translator' object has no attribute 'raise_Exception'\n",
      "Error translating with src=bn (attempt 1): 'Translator' object has no attribute 'raise_Exception'\n"
     ]
    },
    {
     "name": "stderr",
     "output_type": "stream",
     "text": [
      "Translating:  67%|██████████████████████████████▊               | 1117/1668 [08:25<03:24,  2.70it/s]"
     ]
    },
    {
     "name": "stdout",
     "output_type": "stream",
     "text": [
      "Error translating with src=bn (attempt 1): 'Translator' object has no attribute 'raise_Exception'\n"
     ]
    },
    {
     "name": "stderr",
     "output_type": "stream",
     "text": [
      "Translating:  67%|██████████████████████████████▊               | 1119/1668 [08:27<05:02,  1.81it/s]"
     ]
    },
    {
     "name": "stdout",
     "output_type": "stream",
     "text": [
      "Error translating with src=bn (attempt 1): 'Translator' object has no attribute 'raise_Exception'\n",
      "Error translating with src=bn (attempt 2): 'Translator' object has no attribute 'raise_Exception'\n"
     ]
    },
    {
     "name": "stderr",
     "output_type": "stream",
     "text": [
      "Translating:  67%|██████████████████████████████▉               | 1121/1668 [08:32<10:39,  1.17s/it]"
     ]
    },
    {
     "name": "stdout",
     "output_type": "stream",
     "text": [
      "Error translating with src=bn (attempt 1): 'Translator' object has no attribute 'raise_Exception'\n"
     ]
    },
    {
     "name": "stderr",
     "output_type": "stream",
     "text": [
      "Translating:  68%|███████████████████████████████               | 1127/1668 [08:34<05:19,  1.70it/s]"
     ]
    },
    {
     "name": "stdout",
     "output_type": "stream",
     "text": [
      "Error translating with src=bn (attempt 1): 'Translator' object has no attribute 'raise_Exception'\n",
      "Error translating with src=bn (attempt 2): 'Translator' object has no attribute 'raise_Exception'\n"
     ]
    },
    {
     "name": "stderr",
     "output_type": "stream",
     "text": [
      "Translating:  68%|███████████████████████████████               | 1128/1668 [08:40<12:54,  1.43s/it]"
     ]
    },
    {
     "name": "stdout",
     "output_type": "stream",
     "text": [
      "Error translating with src=bn (attempt 1): 'Translator' object has no attribute 'raise_Exception'\n"
     ]
    },
    {
     "name": "stderr",
     "output_type": "stream",
     "text": [
      "Translating:  68%|███████████████████████████████▎              | 1136/1668 [08:42<04:00,  2.21it/s]"
     ]
    },
    {
     "name": "stdout",
     "output_type": "stream",
     "text": [
      "Error translating with src=bn (attempt 1): 'Translator' object has no attribute 'raise_Exception'\n"
     ]
    },
    {
     "name": "stderr",
     "output_type": "stream",
     "text": [
      "Translating:  68%|███████████████████████████████▍              | 1141/1668 [08:44<03:23,  2.59it/s]"
     ]
    },
    {
     "name": "stdout",
     "output_type": "stream",
     "text": [
      "Error translating with src=bn (attempt 1): 'Translator' object has no attribute 'raise_Exception'\n"
     ]
    },
    {
     "name": "stderr",
     "output_type": "stream",
     "text": [
      "Translating:  69%|███████████████████████████████▌              | 1145/1668 [08:46<03:32,  2.46it/s]"
     ]
    },
    {
     "name": "stdout",
     "output_type": "stream",
     "text": [
      "Error translating with src=bn (attempt 1): 'Translator' object has no attribute 'raise_Exception'\n"
     ]
    },
    {
     "name": "stderr",
     "output_type": "stream",
     "text": [
      "Translating:  69%|███████████████████████████████▉              | 1158/1668 [08:49<01:07,  7.52it/s]"
     ]
    },
    {
     "name": "stdout",
     "output_type": "stream",
     "text": [
      "Error translating with src=bn (attempt 1): 'Translator' object has no attribute 'raise_Exception'\n"
     ]
    },
    {
     "name": "stderr",
     "output_type": "stream",
     "text": [
      "Translating:  71%|████████████████████████████████▊             | 1192/1668 [08:54<00:35, 13.54it/s]"
     ]
    },
    {
     "name": "stdout",
     "output_type": "stream",
     "text": [
      "Error translating with src=bn (attempt 1): 'Translator' object has no attribute 'raise_Exception'\n"
     ]
    },
    {
     "name": "stderr",
     "output_type": "stream",
     "text": [
      "Translating:  72%|████████████████████████████████▉             | 1196/1668 [08:56<02:07,  3.70it/s]"
     ]
    },
    {
     "name": "stdout",
     "output_type": "stream",
     "text": [
      "Error translating with src=bn (attempt 1): 'Translator' object has no attribute 'raise_Exception'\n"
     ]
    },
    {
     "name": "stderr",
     "output_type": "stream",
     "text": [
      "Translating:  73%|█████████████████████████████████▎            | 1210/1668 [08:59<00:55,  8.20it/s]"
     ]
    },
    {
     "name": "stdout",
     "output_type": "stream",
     "text": [
      "Error translating with src=bn (attempt 1): 'Translator' object has no attribute 'raise_Exception'\n"
     ]
    },
    {
     "name": "stderr",
     "output_type": "stream",
     "text": [
      "Translating:  73%|█████████████████████████████████▍            | 1212/1668 [09:01<02:54,  2.62it/s]"
     ]
    },
    {
     "name": "stdout",
     "output_type": "stream",
     "text": [
      "Error translating with src=bn (attempt 1): 'Translator' object has no attribute 'raise_Exception'\n"
     ]
    },
    {
     "name": "stderr",
     "output_type": "stream",
     "text": [
      "Translating:  73%|█████████████████████████████████▊            | 1224/1668 [09:04<01:06,  6.66it/s]"
     ]
    },
    {
     "name": "stdout",
     "output_type": "stream",
     "text": [
      "Error translating with src=bn (attempt 1): 'Translator' object has no attribute 'raise_Exception'\n"
     ]
    },
    {
     "name": "stderr",
     "output_type": "stream",
     "text": [
      "Translating:  74%|█████████████████████████████████▊            | 1226/1668 [09:06<03:02,  2.42it/s]"
     ]
    },
    {
     "name": "stdout",
     "output_type": "stream",
     "text": [
      "Error translating with src=bn (attempt 1): 'Translator' object has no attribute 'raise_Exception'\n",
      "Error translating with src=bn (attempt 2): 'Translator' object has no attribute 'raise_Exception'\n",
      "Error translating with src=en (attempt 1): 'Translator' object has no attribute 'raise_Exception'\n"
     ]
    },
    {
     "name": "stderr",
     "output_type": "stream",
     "text": [
      "Translating:  74%|██████████████████████████████████            | 1236/1668 [09:14<02:52,  2.51it/s]"
     ]
    },
    {
     "name": "stdout",
     "output_type": "stream",
     "text": [
      "Error translating with src=bn (attempt 1): 'Translator' object has no attribute 'raise_Exception'\n"
     ]
    },
    {
     "name": "stderr",
     "output_type": "stream",
     "text": [
      "Translating:  75%|██████████████████████████████████▍           | 1248/1668 [09:17<01:05,  6.37it/s]"
     ]
    },
    {
     "name": "stdout",
     "output_type": "stream",
     "text": [
      "Error translating with src=bn (attempt 1): 'Translator' object has no attribute 'raise_Exception'\n"
     ]
    },
    {
     "name": "stderr",
     "output_type": "stream",
     "text": [
      "Translating:  75%|██████████████████████████████████▌           | 1252/1668 [09:19<02:06,  3.29it/s]"
     ]
    },
    {
     "name": "stdout",
     "output_type": "stream",
     "text": [
      "Error translating with src=bn (attempt 1): 'Translator' object has no attribute 'raise_Exception'\n"
     ]
    },
    {
     "name": "stderr",
     "output_type": "stream",
     "text": [
      "Translating:  76%|██████████████████████████████████▉           | 1266/1668 [09:21<00:49,  8.10it/s]"
     ]
    },
    {
     "name": "stdout",
     "output_type": "stream",
     "text": [
      "Error translating with src=bn (attempt 1): 'Translator' object has no attribute 'raise_Exception'\n"
     ]
    },
    {
     "name": "stderr",
     "output_type": "stream",
     "text": [
      "Translating:  77%|███████████████████████████████████▍          | 1284/1668 [09:25<00:32, 11.95it/s]"
     ]
    },
    {
     "name": "stdout",
     "output_type": "stream",
     "text": [
      "Error translating with src=bn (attempt 1): 'Translator' object has no attribute 'raise_Exception'\n"
     ]
    },
    {
     "name": "stderr",
     "output_type": "stream",
     "text": [
      "Translating:  77%|███████████████████████████████████▌          | 1288/1668 [09:27<01:43,  3.69it/s]"
     ]
    },
    {
     "name": "stdout",
     "output_type": "stream",
     "text": [
      "Error translating with src=bn (attempt 1): 'Translator' object has no attribute 'raise_Exception'\n"
     ]
    },
    {
     "name": "stderr",
     "output_type": "stream",
     "text": [
      "Translating:  80%|████████████████████████████████████▉         | 1340/1668 [09:32<00:22, 14.64it/s]"
     ]
    },
    {
     "name": "stdout",
     "output_type": "stream",
     "text": [
      "Error translating with src=bn (attempt 1): 'Translator' object has no attribute 'raise_Exception'\n"
     ]
    },
    {
     "name": "stderr",
     "output_type": "stream",
     "text": [
      "Translating:  80%|█████████████████████████████████████         | 1342/1668 [09:34<01:59,  2.73it/s]"
     ]
    },
    {
     "name": "stdout",
     "output_type": "stream",
     "text": [
      "Error translating with src=bn (attempt 1): 'Translator' object has no attribute 'raise_Exception'\n",
      "Error translating with src=bn (attempt 1): 'Translator' object has no attribute 'raise_Exception'\n"
     ]
    },
    {
     "name": "stderr",
     "output_type": "stream",
     "text": [
      "Translating:  81%|█████████████████████████████████████▏        | 1350/1668 [09:39<01:48,  2.94it/s]"
     ]
    },
    {
     "name": "stdout",
     "output_type": "stream",
     "text": [
      "Error translating with src=bn (attempt 1): 'Translator' object has no attribute 'raise_Exception'\n",
      "Error translating with src=bn (attempt 2): 'Translator' object has no attribute 'raise_Exception'\n"
     ]
    },
    {
     "name": "stderr",
     "output_type": "stream",
     "text": [
      "Translating:  81%|█████████████████████████████████████▎        | 1354/1668 [09:44<04:00,  1.31it/s]"
     ]
    },
    {
     "name": "stdout",
     "output_type": "stream",
     "text": [
      "Error translating with src=bn (attempt 1): 'Translator' object has no attribute 'raise_Exception'\n"
     ]
    },
    {
     "name": "stderr",
     "output_type": "stream",
     "text": [
      "Translating:  82%|█████████████████████████████████████▌        | 1362/1668 [09:47<01:41,  3.01it/s]"
     ]
    },
    {
     "name": "stdout",
     "output_type": "stream",
     "text": [
      "Error translating with src=bn (attempt 1): 'Translator' object has no attribute 'raise_Exception'\n"
     ]
    },
    {
     "name": "stderr",
     "output_type": "stream",
     "text": [
      "Translating:  83%|██████████████████████████████████████▎       | 1389/1668 [09:51<00:20, 13.36it/s]"
     ]
    },
    {
     "name": "stdout",
     "output_type": "stream",
     "text": [
      "Error translating with src=bn (attempt 1): 'Translator' object has no attribute 'raise_Exception'\n",
      "Error translating with src=bn (attempt 2): 'Translator' object has no attribute 'raise_Exception'\n",
      "Error translating with src=en (attempt 1): 'Translator' object has no attribute 'raise_Exception'\n"
     ]
    },
    {
     "name": "stderr",
     "output_type": "stream",
     "text": [
      "Translating:  84%|██████████████████████████████████████▍       | 1393/1668 [09:58<03:48,  1.21it/s]"
     ]
    },
    {
     "name": "stdout",
     "output_type": "stream",
     "text": [
      "Error translating with src=bn (attempt 1): 'Translator' object has no attribute 'raise_Exception'\n"
     ]
    },
    {
     "name": "stderr",
     "output_type": "stream",
     "text": [
      "Translating:  84%|██████████████████████████████████████▍       | 1395/1668 [10:00<04:02,  1.12it/s]"
     ]
    },
    {
     "name": "stdout",
     "output_type": "stream",
     "text": [
      "Error translating with src=bn (attempt 1): 'Translator' object has no attribute 'raise_Exception'\n",
      "Error translating with src=bn (attempt 2): 'Translator' object has no attribute 'raise_Exception'\n",
      "Error translating with src=en (attempt 1): 'Translator' object has no attribute 'raise_Exception'\n",
      "Error translating with src=en (attempt 2): 'Translator' object has no attribute 'raise_Exception'\n",
      "🔁 Attempting sentence split and translation...\n",
      "Error translating with src=bn (attempt 1): 'Translator' object has no attribute 'raise_Exception'\n",
      "Error translating with src=bn (attempt 2): 'Translator' object has no attribute 'raise_Exception'\n",
      "Error translating with src=bn (attempt 1): 'Translator' object has no attribute 'raise_Exception'\n",
      "Error translating with src=bn (attempt 2): 'Translator' object has no attribute 'raise_Exception'\n",
      "Error translating with src=en (attempt 1): 'Translator' object has no attribute 'raise_Exception'\n"
     ]
    },
    {
     "name": "stderr",
     "output_type": "stream",
     "text": [
      "Translating:  84%|██████████████████████████████████████▍       | 1396/1668 [10:23<21:41,  4.78s/it]"
     ]
    },
    {
     "name": "stdout",
     "output_type": "stream",
     "text": [
      "result sent successfully\n",
      "Error translating with src=bn (attempt 1): 'Translator' object has no attribute 'raise_Exception'\n"
     ]
    },
    {
     "name": "stderr",
     "output_type": "stream",
     "text": [
      "Translating:  84%|██████████████████████████████████████▋       | 1401/1668 [10:25<08:44,  1.96s/it]"
     ]
    },
    {
     "name": "stdout",
     "output_type": "stream",
     "text": [
      "Error translating with src=bn (attempt 1): 'Translator' object has no attribute 'raise_Exception'\n"
     ]
    },
    {
     "name": "stderr",
     "output_type": "stream",
     "text": [
      "Translating:  84%|██████████████████████████████████████▋       | 1403/1668 [10:28<07:14,  1.64s/it]"
     ]
    },
    {
     "name": "stdout",
     "output_type": "stream",
     "text": [
      "Error translating with src=bn (attempt 1): 'Translator' object has no attribute 'raise_Exception'\n"
     ]
    },
    {
     "name": "stderr",
     "output_type": "stream",
     "text": [
      "Translating:  84%|██████████████████████████████████████▋       | 1405/1668 [10:30<06:16,  1.43s/it]"
     ]
    },
    {
     "name": "stdout",
     "output_type": "stream",
     "text": [
      "Error translating with src=bn (attempt 1): 'Translator' object has no attribute 'raise_Exception'\n",
      "Error translating with src=bn (attempt 2): 'Translator' object has no attribute 'raise_Exception'\n"
     ]
    },
    {
     "name": "stderr",
     "output_type": "stream",
     "text": [
      "Translating:  84%|██████████████████████████████████████▊       | 1409/1668 [10:35<05:34,  1.29s/it]"
     ]
    },
    {
     "name": "stdout",
     "output_type": "stream",
     "text": [
      "Error translating with src=bn (attempt 1): 'Translator' object has no attribute 'raise_Exception'\n"
     ]
    },
    {
     "name": "stderr",
     "output_type": "stream",
     "text": [
      "Translating:  85%|██████████████████████████████████████▉       | 1410/1668 [10:37<06:02,  1.40s/it]"
     ]
    },
    {
     "name": "stdout",
     "output_type": "stream",
     "text": [
      "Error translating with src=bn (attempt 1): 'Translator' object has no attribute 'raise_Exception'\n"
     ]
    },
    {
     "name": "stderr",
     "output_type": "stream",
     "text": [
      "Translating:  85%|██████████████████████████████████████▉       | 1411/1668 [10:39<06:35,  1.54s/it]"
     ]
    },
    {
     "name": "stdout",
     "output_type": "stream",
     "text": [
      "Error translating with src=bn (attempt 1): 'Translator' object has no attribute 'raise_Exception'\n",
      "Error translating with src=bn (attempt 2): 'Translator' object has no attribute 'raise_Exception'\n"
     ]
    },
    {
     "name": "stderr",
     "output_type": "stream",
     "text": [
      "Translating:  85%|██████████████████████████████████████▉       | 1413/1668 [10:45<08:21,  1.97s/it]"
     ]
    },
    {
     "name": "stdout",
     "output_type": "stream",
     "text": [
      "Error translating with src=bn (attempt 1): 'Translator' object has no attribute 'raise_Exception'\n"
     ]
    },
    {
     "name": "stderr",
     "output_type": "stream",
     "text": [
      "Translating:  85%|██████████████████████████████████████▉       | 1414/1668 [10:46<08:12,  1.94s/it]"
     ]
    },
    {
     "name": "stdout",
     "output_type": "stream",
     "text": [
      "Error translating with src=bn (attempt 1): 'Translator' object has no attribute 'raise_Exception'\n"
     ]
    },
    {
     "name": "stderr",
     "output_type": "stream",
     "text": [
      "Translating:  85%|███████████████████████████████████████       | 1415/1668 [10:48<08:08,  1.93s/it]"
     ]
    },
    {
     "name": "stdout",
     "output_type": "stream",
     "text": [
      "Error translating with src=bn (attempt 1): 'Translator' object has no attribute 'raise_Exception'\n"
     ]
    },
    {
     "name": "stderr",
     "output_type": "stream",
     "text": [
      "Translating:  85%|███████████████████████████████████████       | 1417/1668 [10:50<06:30,  1.55s/it]"
     ]
    },
    {
     "name": "stdout",
     "output_type": "stream",
     "text": [
      "Error translating with src=bn (attempt 1): 'Translator' object has no attribute 'raise_Exception'\n"
     ]
    },
    {
     "name": "stderr",
     "output_type": "stream",
     "text": [
      "Translating: 100%|██████████████████████████████████████████████| 1668/1668 [11:12<00:00,  2.48it/s]\n"
     ]
    },
    {
     "name": "stdout",
     "output_type": "stream",
     "text": [
      "✅ File saved: ../complete/context_specific/sarvam_24b/bengali/beng_eng.csv\n"
     ]
    }
   ],
   "source": [
    "def translate_response_column(file_path, translator):\n",
    "    try:\n",
    "        df = pd.read_csv(file_path)\n",
    "        col = df.columns\n",
    "        if \"response\" not in col and  \"trans_response\" in col:\n",
    "            df = df.rename(columns={\"trans_response\":\"response\"})\n",
    "            print(\"Column_renamed\")\n",
    "\n",
    "        if \"response\" not in df.columns:\n",
    "            print(f\"⚠️ Skipping {file_path}: No 'response' column found.\")\n",
    "            return\n",
    "\n",
    "        lang_folder = extract_language_from_path(file_path)\n",
    "        src_lang = map_language_name_to_code(lang_folder)\n",
    "\n",
    "        if not src_lang:\n",
    "            print(f\"⚠️ Skipping {file_path}: Unknown language '{lang_folder}'\")\n",
    "            return\n",
    "\n",
    "        print(f\"🔵 Processing file: {file_path} | Source language: {src_lang}\")\n",
    "\n",
    "        if \"gtrans_response\" not in df.columns:\n",
    "            df[\"gtrans_response\"] = \"\"\n",
    "\n",
    "        needs_translation = (\n",
    "            df[\"gtrans_response\"].isnull() | (df[\"gtrans_response\"].astype(str).str.strip() == \"\")\n",
    "        ) & (df[\"response\"].astype(str).str.strip() != \"\")\n",
    "\n",
    "        rows_to_translate = df[needs_translation].copy()\n",
    "\n",
    "        if not rows_to_translate.empty:\n",
    "            print(f\"🔄 Translating {len(rows_to_translate)} rows...\")\n",
    "            translated_texts = []\n",
    "\n",
    "            for response in tqdm(rows_to_translate[\"response\"], desc=\"Translating\", ncols=100):\n",
    "                translated_text = translate_sentence_safe(response, src_lang, translator)\n",
    "                translated_texts.append(translated_text if translated_text is not None else response)\n",
    "\n",
    "            df.loc[needs_translation, \"gtrans_response\"] = translated_texts\n",
    "        else:\n",
    "            print(\"✅ No rows need translation.\")\n",
    "\n",
    "        df.to_csv(file_path, index=False)\n",
    "        print(f\"✅ File saved: {file_path}\")\n",
    "\n",
    "    except Exception as e:\n",
    "        print(f\"❌ Error processing {file_path}: {e}\")\n",
    "\n",
    "def process_directory(root_dir):\n",
    "    translator = Translator()\n",
    "\n",
    "    for dirpath, _, filenames in os.walk(root_dir):\n",
    "        for filename in filenames:\n",
    "            if filename.endswith(\".csv\") and \"checkpoint\" not in filename.lower():\n",
    "                file_path = os.path.join(dirpath, filename)\n",
    "                translate_response_column(file_path, translator)\n",
    "            else:\n",
    "                if \"checkpoint\" in filename.lower():\n",
    "                    print(f\"⏩ Skipping checkpoint file: {filename}\")\n",
    "\n",
    "if __name__ == \"__main__\":\n",
    "    root_directory = \"../complete/context_specific\"\n",
    "    process_directory(root_directory)\n"
   ]
  },
  {
   "cell_type": "code",
   "execution_count": null,
   "id": "b1cab49f",
   "metadata": {},
   "outputs": [],
   "source": []
  }
 ],
 "metadata": {
  "kernelspec": {
   "display_name": ".venv",
   "language": "python",
   "name": "python3"
  },
  "language_info": {
   "codemirror_mode": {
    "name": "ipython",
    "version": 3
   },
   "file_extension": ".py",
   "mimetype": "text/x-python",
   "name": "python",
   "nbconvert_exporter": "python",
   "pygments_lexer": "ipython3",
   "version": "3.12.11"
  }
 },
 "nbformat": 4,
 "nbformat_minor": 5
}
