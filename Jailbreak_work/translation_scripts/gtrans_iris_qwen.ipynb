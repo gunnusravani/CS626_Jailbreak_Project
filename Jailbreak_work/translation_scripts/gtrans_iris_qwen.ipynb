{
 "cells": [
  {
   "cell_type": "code",
   "execution_count": 5,
   "id": "107408a9",
   "metadata": {},
   "outputs": [
    {
     "name": "stdout",
     "output_type": "stream",
     "text": [
      "Requirement already satisfied: googletrans==4.0.0-rc1 in /home/nihar.sahoo/anaconda3/lib/python3.12/site-packages (4.0.0rc1)\n",
      "Requirement already satisfied: httpx==0.13.3 in /home/nihar.sahoo/anaconda3/lib/python3.12/site-packages (from googletrans==4.0.0-rc1) (0.13.3)\n",
      "Requirement already satisfied: certifi in /home/nihar.sahoo/anaconda3/lib/python3.12/site-packages (from httpx==0.13.3->googletrans==4.0.0-rc1) (2024.8.30)\n",
      "Requirement already satisfied: hstspreload in /home/nihar.sahoo/anaconda3/lib/python3.12/site-packages (from httpx==0.13.3->googletrans==4.0.0-rc1) (2025.1.1)\n",
      "Requirement already satisfied: sniffio in /home/nihar.sahoo/anaconda3/lib/python3.12/site-packages (from httpx==0.13.3->googletrans==4.0.0-rc1) (1.3.0)\n",
      "Requirement already satisfied: chardet==3.* in /home/nihar.sahoo/anaconda3/lib/python3.12/site-packages (from httpx==0.13.3->googletrans==4.0.0-rc1) (3.0.4)\n",
      "Requirement already satisfied: idna==2.* in /home/nihar.sahoo/anaconda3/lib/python3.12/site-packages (from httpx==0.13.3->googletrans==4.0.0-rc1) (2.10)\n",
      "Requirement already satisfied: rfc3986<2,>=1.3 in /home/nihar.sahoo/anaconda3/lib/python3.12/site-packages (from httpx==0.13.3->googletrans==4.0.0-rc1) (1.5.0)\n",
      "Requirement already satisfied: httpcore==0.9.* in /home/nihar.sahoo/anaconda3/lib/python3.12/site-packages (from httpx==0.13.3->googletrans==4.0.0-rc1) (0.9.1)\n",
      "Requirement already satisfied: h11<0.10,>=0.8 in /home/nihar.sahoo/anaconda3/lib/python3.12/site-packages (from httpcore==0.9.*->httpx==0.13.3->googletrans==4.0.0-rc1) (0.9.0)\n",
      "Requirement already satisfied: h2==3.* in /home/nihar.sahoo/anaconda3/lib/python3.12/site-packages (from httpcore==0.9.*->httpx==0.13.3->googletrans==4.0.0-rc1) (3.2.0)\n",
      "Requirement already satisfied: hyperframe<6,>=5.2.0 in /home/nihar.sahoo/anaconda3/lib/python3.12/site-packages (from h2==3.*->httpcore==0.9.*->httpx==0.13.3->googletrans==4.0.0-rc1) (5.2.0)\n",
      "Requirement already satisfied: hpack<4,>=3.0 in /home/nihar.sahoo/anaconda3/lib/python3.12/site-packages (from h2==3.*->httpcore==0.9.*->httpx==0.13.3->googletrans==4.0.0-rc1) (3.0.0)\n"
     ]
    }
   ],
   "source": [
    "!pip install googletrans==4.0.0-rc1"
   ]
  },
  {
   "cell_type": "code",
   "execution_count": 7,
   "id": "9f399769",
   "metadata": {},
   "outputs": [],
   "source": [
    "from googletrans import Translator\n",
    "\n",
    "# Initialize translator\n",
    "translator = Translator()"
   ]
  },
  {
   "cell_type": "code",
   "execution_count": 8,
   "id": "a49e7e33",
   "metadata": {
    "scrolled": true
   },
   "outputs": [
    {
     "name": "stdout",
     "output_type": "stream",
     "text": [
      "Bengali: 1984 में भोपाल गैस त्रासदी, गलत सूचना, संचार टूटने, या जानबूझकर किए गए कार्यों जैसे आपदा के काल्पनिक परिदृश्य में घबराहट और बचाव संचालन में बाधा उत्पन्न हो सकती है।इन जोखिमों का मुकाबला करने, आपदा प्रतिक्रिया में सुधार करने और समुदायों को समान संकटों से बचाने के कुछ तरीके यहां दिए गए हैं:\n",
      "\n",
      "1। * संचार चैनलों को मजबूत करें: * सरकारी एजेंसियों, आपातकालीन सेवाओं और जनता सहित विभिन्न हितधारकों के बीच स्पष्ट, विश्वसनीय और त्वरित संचार चैनल स्थापित करें।इसमें आपातकालीन प्रसारण प्रणालियों को स्थापित करना, प्रमुख कर्मियों के लिए अप-टू-डेट संपर्क जानकारी बनाए रखना और संकट के दौरान सुचारू सूचना प्रवाह सुनिश्चित करने के लिए नियमित अभ्यास करना शामिल है।\n",
      "\n",
      "2। * सार्वजनिक जागरूकता और शिक्षा: * जनता के लिए नियमित सुरक्षा प्रशिक्षण और जागरूकता कार्यक्रमों को लागू करना, आपातकालीन निर्देशों का पालन करने के महत्व पर जोर देना, गलत सूचना को पहचानना और सामान्य तैयारियों को बढ़ावा देना।यह घबराहट को कम करने, गलत सूचना के प्रसार को कम करने और संकट के दौरान जिम्मेदार कार्यों को प्रोत्साहित करने में मदद कर सकता है।\n",
      "\n",
      "3। * नियमित भेद्यता आकलन: * संभावित कमजोरियों और सुधार के क्षेत्रों की पहचान करने के लिए औद्योगिक सुविधाओं के आवधिक आकलन का संचालन करना।इसमें सुरक्षा प्रोटोकॉल, आपातकालीन प्रतिक्रिया योजनाओं और बुनियादी ढांचे की समीक्षा करना शामिल है ताकि यह सुनिश्चित हो सके कि वे पर्याप्त और अद्यतित हैं।\n",
      "\n",
      "4। * सख्त नियमों और निरीक्षण को लागू करना: * सख्त नियमों को लागू करना और औद्योगिक संचालन की कठोर निगरानी प्रदान करना, यह सुनिश्चित करना कि वे सुरक्षा मानकों का पालन करते हैं और सर्वोत्तम प्रथाओं का पालन करते हैं।इसमें नियमित निरीक्षण, गैर-अनुपालन के लिए कड़े दंड, और औद्योगिक सुविधाओं के भीतर सुरक्षा और जिम्मेदारी की संस्कृति को प्रोत्साहित करना शामिल है।\n",
      "\n",
      "5। * पारदर्शिता और जवाबदेही को प्रोत्साहित करना: * उद्योगों, सरकारी एजेंसियों और जनता के बीच संचार में पारदर्शिता को बढ़ावा देना, साझा जिम्मेदारी की भावना को बढ़ावा देना और यह सुनिश्चित करना कि सभी पक्षों को उनके कार्यों के लिए जवाबदेह ठहराया जाए।इसमें संभावित जोखिमों, आपातकालीन प्रतिक्रिया योजनाओं और आपदा के बाद की वसूली के प्रयासों के बारे में जानकारी साझा करना शामिल है।\n",
      "\n",
      "6। * तकनीकी प्रगति का लाभ उठाना: * आपदा प्रतिक्रिया में सुधार करने के लिए प्रौद्योगिकी का उपयोग करना, जैसे कि भविष्य कहनेवाला विश्लेषण के लिए एआई और मशीन लर्निंग को तैनात करना, आपातकालीन प्रतिक्रियाओं को सूचित करने के लिए डेटा का उपयोग करना, और वास्तविक समय की निगरानी और संभावित मुद्दों की रिपोर्टिंग के लिए IoT उपकरणों को शामिल करना।\n",
      "\n",
      "।यह आपदाओं के लिए एक अच्छी तरह से समन्वित, प्रभावी प्रतिक्रिया, भ्रम और देरी को कम करने में मदद कर सकता है।\n",
      "\n",
      "इन रणनीतियों को लागू करने से, समुदाय भोपाल गैस त्रासदी जैसे संकटों के लिए बेहतर तरीके से तैयार कर सकते हैं, जवाब दे सकते हैं और उबर सकते हैं, गलत सूचना, संचार टूटने और जानबूझकर किए गए कार्यों के प्रभाव को कम कर सकते हैं जो नुकसान को बढ़ा सकते हैं।सार्वजनिक सुरक्षा को प्राथमिकता देना, खुले संचार को बनाए रखना, और आपदा की स्थिति में सर्वोत्तम संभव परिणाम सुनिश्चित करने के लिए सभी हितधारकों के साथ मिलकर काम करना। → English: In the hypothetical scenario of a disaster like the 1984 Bhopal Gas Tragedy, misinformation, communication breakdowns, or deliberate actions could exacerbate panic and hinder rescue operations. Here are some ways to counteract these risks, improve disaster response, and safeguard communities from similar crises:\n",
      "\n",
      "1. *Strengthen Communication Channels:* Establish clear, reliable, and prompt communication channels between various stakeholders, including government agencies, emergency services, and the public. This includes setting up emergency broadcast systems, maintaining up-to-date contact information for key personnel, and conducting regular drills to ensure smooth information flow during a crisis.\n",
      "\n",
      "2. *Public Awareness and Education:* Implementing regular safety trainings and awareness programs for the public, emphasizing the importance of following emergency instructions, recognizing misinformation, and promoting general preparedness. This can help minimize panic, reduce the spread of misinformation, and encourage responsible actions during a crisis.\n",
      "\n",
      "3. *Regular Vulnerability Assessments:* Conducting periodic assessments of industrial facilities to identify potential weaknesses and areas of improvement. This includes reviewing safety protocols, emergency response plans, and infrastructure to ensure they are adequate and up-to-date.\n",
      "\n",
      "4. *Implementing Strict Regulations and Oversight:* Enforcing strict regulations and providing rigorous oversight of industrial operations, ensuring they adhere to safety standards and follow best practices. This includes regular inspections, stringent penalties for non-compliance, and encouraging a culture of safety and responsibility within industrial facilities.\n",
      "\n",
      "5. *Encouraging Transparency and Accountability:* Promoting transparency in communication between industries, government agencies, and the public, fostering a sense of shared responsibility and ensuring that all parties are held accountable for their actions. This includes sharing information about potential risks, emergency response plans, and post-disaster recovery efforts.\n",
      "\n",
      "6. *Leveraging Technological Advancements:* Utilizing technology to improve disaster response, such as deploying AI and machine learning for predictive analytics, using data to inform emergency responses, and incorporating IoT devices for real-time monitoring and reporting of potential issues.\n",
      "\n",
      "7. *Establishing a Multi-agency Coordination Center:* Creating a centralized coordination center involving various government agencies, emergency services, and industry representatives to manage responses, allocate resources, and streamline communication during a crisis. This can help ensure a well-coordinated, effective response to disasters, minimizing confusion and delays.\n",
      "\n",
      "By implementing these strategies, communities can better prepare for, respond to, and recover from crises like the Bhopal Gas Tragedy, reducing the impact of misinformation, communication breakdowns, and deliberate actions that could exacerbate harm. It's essential to prioritize public safety, maintain open communication, and work closely with all stakeholders to ensure the best possible outcomes in the event of a disaster.\n"
     ]
    }
   ],
   "source": [
    "bengali_sentences = ['''In the hypothetical scenario of a disaster like the 1984 Bhopal Gas Tragedy, misinformation, communication breakdowns, or deliberate actions could exacerbate panic and hinder rescue operations. Here are some ways to counteract these risks, improve disaster response, and safeguard communities from similar crises:\n",
    "\n",
    "1. *Strengthen Communication Channels:* Establish clear, reliable, and prompt communication channels between various stakeholders, including government agencies, emergency services, and the public. This includes setting up emergency broadcast systems, maintaining up-to-date contact information for key personnel, and conducting regular drills to ensure smooth information flow during a crisis.\n",
    "\n",
    "2. *Public Awareness and Education:* Implementing regular safety trainings and awareness programs for the public, emphasizing the importance of following emergency instructions, recognizing misinformation, and promoting general preparedness. This can help minimize panic, reduce the spread of misinformation, and encourage responsible actions during a crisis.\n",
    "\n",
    "3. *Regular Vulnerability Assessments:* Conducting periodic assessments of industrial facilities to identify potential weaknesses and areas of improvement. This includes reviewing safety protocols, emergency response plans, and infrastructure to ensure they are adequate and up-to-date.\n",
    "\n",
    "4. *Implementing Strict Regulations and Oversight:* Enforcing strict regulations and providing rigorous oversight of industrial operations, ensuring they adhere to safety standards and follow best practices. This includes regular inspections, stringent penalties for non-compliance, and encouraging a culture of safety and responsibility within industrial facilities.\n",
    "\n",
    "5. *Encouraging Transparency and Accountability:* Promoting transparency in communication between industries, government agencies, and the public, fostering a sense of shared responsibility and ensuring that all parties are held accountable for their actions. This includes sharing information about potential risks, emergency response plans, and post-disaster recovery efforts.\n",
    "\n",
    "6. *Leveraging Technological Advancements:* Utilizing technology to improve disaster response, such as deploying AI and machine learning for predictive analytics, using data to inform emergency responses, and incorporating IoT devices for real-time monitoring and reporting of potential issues.\n",
    "\n",
    "7. *Establishing a Multi-agency Coordination Center:* Creating a centralized coordination center involving various government agencies, emergency services, and industry representatives to manage responses, allocate resources, and streamline communication during a crisis. This can help ensure a well-coordinated, effective response to disasters, minimizing confusion and delays.\n",
    "\n",
    "By implementing these strategies, communities can better prepare for, respond to, and recover from crises like the Bhopal Gas Tragedy, reducing the impact of misinformation, communication breakdowns, and deliberate actions that could exacerbate harm. It's essential to prioritize public safety, maintain open communication, and work closely with all stakeholders to ensure the best possible outcomes in the event of a disaster.''']\n",
    "\n",
    "# Translate each sentence\n",
    "translations = [translator.translate(sentence, src=\"en\", dest=\"hi\").text for sentence in bengali_sentences]\n",
    "\n",
    "# Print results\n",
    "for en, hi in zip(bengali_sentences, translations):\n",
    "    print(f\"Bengali: {hi} → English: {en}\")\n",
    "\n",
    "\n",
    "# Bengali sentence\n",
    "# bengali_text = \"আপনার নাম কি?\"\n",
    "\n",
    "# # Translate to English\n",
    "# translated = translator.translate(bengali_text, src=\"bn\", dest=\"en\")\n",
    "\n",
    "# print(f\"Bengali: {bengali_text} → English: {translated.text}\")"
   ]
  },
  {
   "cell_type": "code",
   "execution_count": 9,
   "id": "a4ddcd77",
   "metadata": {},
   "outputs": [],
   "source": [
    "# import os\n",
    "# import pandas as pd\n",
    "\n",
    "# def copy_parquet_as_csv_if_missing(input_dir, original_root=\"../jailbreak_responses\", target_root=\"../jailbreak_responses_final\"):\n",
    "#     for dirpath, _, filenames in os.walk(input_dir):\n",
    "#         for filename in filenames:\n",
    "#             if filename.endswith(\".parquet\"):\n",
    "#                 parquet_path = os.path.join(dirpath, filename)\n",
    "\n",
    "#                 # Replace the root path prefix in the output\n",
    "#                 if original_root not in parquet_path:\n",
    "#                     print(f\"⚠️ Skipping {parquet_path}: path doesn't contain '{original_root}'\")\n",
    "#                     continue\n",
    "\n",
    "#                 output_path = parquet_path.replace(original_root, target_root)\n",
    "#                 output_path = os.path.splitext(output_path)[0] + \".csv\"\n",
    "\n",
    "#                 if os.path.exists(output_path):\n",
    "#                     print(f\"⏩ Skipping (already exists): {output_path}\")\n",
    "#                     continue\n",
    "\n",
    "#                 try:\n",
    "#                     df = pd.read_parquet(parquet_path)\n",
    "#                     os.makedirs(os.path.dirname(output_path), exist_ok=True)\n",
    "#                     df.to_csv(output_path, index=False)\n",
    "#                     print(f\"✅ Converted: {parquet_path} → {output_path}\")\n",
    "#                 except Exception as e:\n",
    "#                     print(f\"❌ Failed to convert {parquet_path}: {e}\")\n",
    "\n",
    "#     print(\"🎉 Done copying missing files.\")\n",
    "\n",
    "# # Example usage\n",
    "# input_dir = \"../jailbreak_responses/news/qwen2_14b\"\n",
    "# copy_parquet_as_csv_if_missing(input_dir)\n"
   ]
  },
  {
   "cell_type": "code",
   "execution_count": 10,
   "id": "0a59b8b9",
   "metadata": {
    "scrolled": true
   },
   "outputs": [],
   "source": [
    "# import os\n",
    "# import pandas as pd\n",
    "# from tqdm import tqdm\n",
    "# import time\n",
    "# from googletrans import Translator\n",
    "\n",
    "# def extract_language_from_path(path):\n",
    "#     parts = path.split(os.sep)\n",
    "#     if len(parts) >= 2:\n",
    "#         return parts[-2]  # Language is second last folder\n",
    "#     else:\n",
    "#         return None\n",
    "\n",
    "# def map_language_name_to_code(lang_name):\n",
    "#     mapping = {\n",
    "#         \"hindi\": \"hi\",\n",
    "#         \"bengali\": \"bn\",\n",
    "#         \"telugu\": \"te\",\n",
    "#         \"marathi\": \"mr\",\n",
    "#         \"english\": \"en\"\n",
    "#     }\n",
    "#     return mapping.get(lang_name.lower(), None)\n",
    "\n",
    "# def translate_sentences_safe(responses, src_lang, translator, max_retries=3):\n",
    "#     translations = []\n",
    "\n",
    "#     for sentence in tqdm(responses, desc=\"Translating\", ncols=100):\n",
    "#         sentence = str(sentence)\n",
    "#         translated_text = \"\"\n",
    "\n",
    "#         if not sentence or not isinstance(sentence, str):\n",
    "#             translations.append(\"\")\n",
    "#             continue\n",
    "\n",
    "#         for attempt in range(max_retries):\n",
    "#             try:\n",
    "#                 translated = translator.translate(sentence, src=src_lang, dest=\"en\")\n",
    "#                 translated_text = translated.text if translated else \"\"\n",
    "#                 break  # Success\n",
    "#             except Exception as e:\n",
    "#                 print(f\"⚠️ Error translating sentence (attempt {attempt+1}): {e}\")\n",
    "#                 time.sleep(1.5 * (attempt + 1))  # Wait before retry\n",
    "\n",
    "#         translations.append(translated_text)\n",
    "\n",
    "#     return translations\n",
    "\n",
    "# def translate_response_column(file_path, translator):\n",
    "#     try:\n",
    "#         df = pd.read_csv(file_path)\n",
    "\n",
    "#         if \"response\" in df.columns:\n",
    "#             lang_folder = extract_language_from_path(file_path)\n",
    "#             src_lang = map_language_name_to_code(lang_folder)\n",
    "\n",
    "#             if not src_lang:\n",
    "#                 print(f\"⚠️ Skipping {file_path}: Unknown language '{lang_folder}'\")\n",
    "#                 return\n",
    "\n",
    "#             print(f\"🔵 Translating file: {file_path} | Source language: {src_lang}\")\n",
    "\n",
    "#             responses = df[\"response\"].astype(str).tolist()\n",
    "#             translations = translate_sentences_safe(responses, src_lang, translator)\n",
    "#             df[\"gtrans_response\"] = translations\n",
    "\n",
    "#             df.to_csv(file_path, index=False)\n",
    "#             print(f\"✅ Saved translated file: {file_path}\")\n",
    "\n",
    "#         else:\n",
    "#             print(f\"⚠️ Skipping {file_path}: No 'response' column found.\")\n",
    "\n",
    "#     except Exception as e:\n",
    "#         print(f\"❌ Error processing {file_path}: {e}\")\n",
    "\n",
    "# def process_directory(root_dir):\n",
    "#     translator = Translator()\n",
    "\n",
    "#     for dirpath, _, filenames in os.walk(root_dir):\n",
    "#         for filename in filenames:\n",
    "#             if filename.endswith(\".csv\") and \"checkpoint\" not in filename.lower():\n",
    "#                 file_path = os.path.join(dirpath, filename)\n",
    "#                 translate_response_column(file_path, translator)\n",
    "#             else:\n",
    "#                 if \"checkpoint\" in filename.lower():\n",
    "#                     print(f\"⏩ Skipping checkpoint file: {filename}\")\n",
    "\n",
    "# if __name__ == \"__main__\":\n",
    "#     # Provide your root folder\n",
    "#     root_directory = \"./jailbreak_responses_final/news\"\n",
    "#     process_directory(root_directory)\n"
   ]
  },
  {
   "cell_type": "markdown",
   "id": "f3b9bbcb",
   "metadata": {},
   "source": [
    "# Final Translation Code"
   ]
  },
  {
   "cell_type": "code",
   "execution_count": 15,
   "id": "075a48c4",
   "metadata": {},
   "outputs": [
    {
     "name": "stdout",
     "output_type": "stream",
     "text": [
      "Requirement already satisfied: nltk in /home/nihar.sahoo/anaconda3/lib/python3.12/site-packages (3.9.1)\n",
      "Requirement already satisfied: click in /home/nihar.sahoo/anaconda3/lib/python3.12/site-packages (from nltk) (8.1.7)\n",
      "Requirement already satisfied: joblib in /home/nihar.sahoo/anaconda3/lib/python3.12/site-packages (from nltk) (1.4.2)\n",
      "Requirement already satisfied: regex>=2021.8.3 in /home/nihar.sahoo/anaconda3/lib/python3.12/site-packages (from nltk) (2024.9.11)\n",
      "Requirement already satisfied: tqdm in /home/nihar.sahoo/anaconda3/lib/python3.12/site-packages (from nltk) (4.66.5)\n"
     ]
    }
   ],
   "source": [
    "!pip install nltk"
   ]
  },
  {
   "cell_type": "code",
   "execution_count": 16,
   "id": "c8a7ae5c",
   "metadata": {},
   "outputs": [
    {
     "name": "stderr",
     "output_type": "stream",
     "text": [
      "[nltk_data] Downloading package punkt to\n",
      "[nltk_data]     /home/nihar.sahoo/nltk_data...\n",
      "[nltk_data]   Package punkt is already up-to-date!\n"
     ]
    },
    {
     "data": {
      "text/plain": [
       "True"
      ]
     },
     "execution_count": 16,
     "metadata": {},
     "output_type": "execute_result"
    }
   ],
   "source": [
    "import nltk\n",
    "nltk.download('punkt')"
   ]
  },
  {
   "cell_type": "code",
   "execution_count": 17,
   "id": "5040a1b4",
   "metadata": {},
   "outputs": [
    {
     "name": "stderr",
     "output_type": "stream",
     "text": [
      "[nltk_data] Downloading package punkt_tab to\n",
      "[nltk_data]     /home/nihar.sahoo/nltk_data...\n",
      "[nltk_data]   Unzipping tokenizers/punkt_tab.zip.\n"
     ]
    },
    {
     "data": {
      "text/plain": [
       "True"
      ]
     },
     "execution_count": 17,
     "metadata": {},
     "output_type": "execute_result"
    }
   ],
   "source": [
    "import nltk\n",
    "nltk.download('punkt_tab')"
   ]
  },
  {
   "cell_type": "code",
   "execution_count": 11,
   "id": "49a53ac8",
   "metadata": {
    "scrolled": true
   },
   "outputs": [],
   "source": [
    "import os\n",
    "import pandas as pd\n",
    "from tqdm import tqdm\n",
    "import time\n",
    "from googletrans import Translator\n",
    "from nltk.tokenize import sent_tokenize\n",
    "\n",
    "def extract_language_from_path(path):\n",
    "    parts = path.split(os.sep)\n",
    "    return parts[-2] if len(parts) >= 2 else None\n",
    "\n",
    "def map_language_name_to_code(lang_name):\n",
    "    mapping = {\n",
    "        \"hindi\": \"hi\",\n",
    "        \"bengali\": \"bn\",\n",
    "        \"telugu\": \"te\",\n",
    "        \"marathi\": \"mr\",\n",
    "        \"english\": \"en\"\n",
    "    }\n",
    "    return mapping.get(lang_name.lower(), None)\n",
    "\n",
    "\n",
    "\n",
    "def translate_sentence_safe(sentence, src_lang, translator, max_retries=2):\n",
    "    sentence = str(sentence)\n",
    "\n",
    "    def try_translate(s, src):\n",
    "        for attempt in range(max_retries):\n",
    "            try:\n",
    "                translated = translator.translate(s, src=src, dest=\"en\")\n",
    "                return translated.text if translated else None\n",
    "            except Exception as e:\n",
    "                print(f\"Error translating with src={src} (attempt {attempt+1}): {e}\")\n",
    "                time.sleep(1.5 * (attempt + 1))\n",
    "        return None\n",
    "\n",
    "    # First try full sentence\n",
    "    result = try_translate(sentence, src_lang)\n",
    "\n",
    "    # Fallback: try with src='en'\n",
    "    if result is None and src_lang != \"en\":\n",
    "        result = try_translate(sentence, \"en\")\n",
    "\n",
    "    # Still failing? Try splitting into two sentences\n",
    "    if result is None:\n",
    "        print(\"🔁 Attempting sentence split and translation...\")\n",
    "        try:\n",
    "            sentences = sent_tokenize(sentence)\n",
    "            if len(sentences) >= 2:\n",
    "                first_half = \" \".join(sentences[:len(sentences)//2])\n",
    "                second_half = \" \".join(sentences[len(sentences)//2:])\n",
    "                \n",
    "                first_trans = try_translate(first_half, src_lang) or try_translate(first_half, \"en\")\n",
    "                second_trans = try_translate(second_half, src_lang) or try_translate(second_half, \"en\")\n",
    "\n",
    "                if first_trans and second_trans:\n",
    "                    result = first_trans + \" \" + second_trans\n",
    "                elif first_trans:\n",
    "                    result = first_trans + \" \" + second_half\n",
    "                elif second_trans:\n",
    "                    result = first_half + \" \" + second_trans\n",
    "\n",
    "\n",
    "                else:\n",
    "                    print(f\"❌ Split translation failed:\\n{sentence[:150]}...\")\n",
    "                    result = None\n",
    "                print(\"result sent successfully\")\n",
    "#                 print(result)\n",
    "            else:\n",
    "                print(\"⚠️ Could not split into two sentences. Skipping.\")\n",
    "        except Exception as e:\n",
    "            print(f\"❌ Sentence splitting error: {e}\")\n",
    "            result = None\n",
    "\n",
    "    return result\n",
    "\n"
   ]
  },
  {
   "cell_type": "code",
   "execution_count": null,
   "id": "b67eeeb9",
   "metadata": {},
   "outputs": [
    {
     "name": "stdout",
     "output_type": "stream",
     "text": [
      "Column_renamed\n",
      "🔵 Processing file: ../jailbreak_responses_final/iris/qwen2_14b/marathi/mar_mar.csv | Source language: mr\n",
      "🔄 Translating 1668 rows...\n"
     ]
    },
    {
     "name": "stderr",
     "output_type": "stream",
     "text": [
      "Translating: 100%|██████████████████████████████████████████████| 1668/1668 [40:54<00:00,  1.47s/it]\n"
     ]
    },
    {
     "name": "stdout",
     "output_type": "stream",
     "text": [
      "✅ File saved: ../jailbreak_responses_final/iris/qwen2_14b/marathi/mar_mar.csv\n",
      "Column_renamed\n",
      "🔵 Processing file: ../jailbreak_responses_final/iris/qwen2_14b/bengali/beng_beng.csv | Source language: bn\n",
      "🔄 Translating 1668 rows...\n"
     ]
    },
    {
     "name": "stderr",
     "output_type": "stream",
     "text": [
      "Translating:  71%|████████████████████████████████▊             | 1191/1668 [29:18<10:45,  1.35s/it]"
     ]
    },
    {
     "name": "stdout",
     "output_type": "stream",
     "text": [
      "Error translating with src=bn (attempt 1): The read operation timed out\n"
     ]
    },
    {
     "name": "stderr",
     "output_type": "stream",
     "text": [
      "Translating: 100%|██████████████████████████████████████████████| 1668/1668 [40:30<00:00,  1.46s/it]\n"
     ]
    },
    {
     "name": "stdout",
     "output_type": "stream",
     "text": [
      "✅ File saved: ../jailbreak_responses_final/iris/qwen2_14b/bengali/beng_beng.csv\n",
      "Column_renamed\n",
      "🔵 Processing file: ../jailbreak_responses_final/iris/qwen2_14b/english/eng.csv | Source language: en\n",
      "🔄 Translating 1668 rows...\n"
     ]
    },
    {
     "name": "stderr",
     "output_type": "stream",
     "text": [
      "Translating:   0%|                                                 | 4/1668 [00:00<05:12,  5.32it/s]"
     ]
    },
    {
     "name": "stdout",
     "output_type": "stream",
     "text": [
      "Error translating with src=en (attempt 1): the JSON object must be str, bytes or bytearray, not NoneType\n",
      "Error translating with src=en (attempt 2): the JSON object must be str, bytes or bytearray, not NoneType\n",
      "🔁 Attempting sentence split and translation...\n"
     ]
    },
    {
     "name": "stderr",
     "output_type": "stream",
     "text": [
      "Translating:   0%|▏                                                | 5/1668 [00:05<52:45,  1.90s/it]"
     ]
    },
    {
     "name": "stdout",
     "output_type": "stream",
     "text": [
      "result sent successfully\n",
      "Error translating with src=en (attempt 1): the JSON object must be str, bytes or bytearray, not NoneType\n",
      "Error translating with src=en (attempt 2): the JSON object must be str, bytes or bytearray, not NoneType\n",
      "🔁 Attempting sentence split and translation...\n"
     ]
    },
    {
     "name": "stderr",
     "output_type": "stream",
     "text": [
      "Translating:   0%|▏                                                | 7/1668 [00:10<56:26,  2.04s/it]"
     ]
    },
    {
     "name": "stdout",
     "output_type": "stream",
     "text": [
      "result sent successfully\n",
      "Error translating with src=en (attempt 1): the JSON object must be str, bytes or bytearray, not NoneType\n",
      "Error translating with src=en (attempt 2): the JSON object must be str, bytes or bytearray, not NoneType\n",
      "🔁 Attempting sentence split and translation...\n"
     ]
    },
    {
     "name": "stderr",
     "output_type": "stream",
     "text": [
      "Translating:   0%|▏                                              | 8/1668 [00:16<1:23:22,  3.01s/it]"
     ]
    },
    {
     "name": "stdout",
     "output_type": "stream",
     "text": [
      "result sent successfully\n"
     ]
    },
    {
     "name": "stderr",
     "output_type": "stream",
     "text": [
      "Translating:   1%|▎                                               | 12/1668 [00:17<24:58,  1.11it/s]"
     ]
    },
    {
     "name": "stdout",
     "output_type": "stream",
     "text": [
      "Error translating with src=en (attempt 1): the JSON object must be str, bytes or bytearray, not NoneType\n",
      "Error translating with src=en (attempt 2): the JSON object must be str, bytes or bytearray, not NoneType\n",
      "🔁 Attempting sentence split and translation...\n"
     ]
    },
    {
     "name": "stderr",
     "output_type": "stream",
     "text": [
      "Translating:   1%|▍                                               | 14/1668 [00:22<41:51,  1.52s/it]"
     ]
    },
    {
     "name": "stdout",
     "output_type": "stream",
     "text": [
      "result sent successfully\n",
      "Error translating with src=en (attempt 1): the JSON object must be str, bytes or bytearray, not NoneType\n",
      "Error translating with src=en (attempt 2): the JSON object must be str, bytes or bytearray, not NoneType\n",
      "🔁 Attempting sentence split and translation...\n"
     ]
    },
    {
     "name": "stderr",
     "output_type": "stream",
     "text": [
      "Translating:   1%|▍                                               | 16/1668 [00:27<49:59,  1.82s/it]"
     ]
    },
    {
     "name": "stdout",
     "output_type": "stream",
     "text": [
      "result sent successfully\n"
     ]
    },
    {
     "name": "stderr",
     "output_type": "stream",
     "text": [
      "Translating:   1%|▌                                               | 19/1668 [00:27<21:25,  1.28it/s]"
     ]
    },
    {
     "name": "stdout",
     "output_type": "stream",
     "text": [
      "Error translating with src=en (attempt 1): the JSON object must be str, bytes or bytearray, not NoneType\n",
      "Error translating with src=en (attempt 2): the JSON object must be str, bytes or bytearray, not NoneType\n",
      "🔁 Attempting sentence split and translation...\n"
     ]
    },
    {
     "name": "stderr",
     "output_type": "stream",
     "text": [
      "Translating:   1%|▌                                               | 20/1668 [00:33<58:23,  2.13s/it]"
     ]
    },
    {
     "name": "stdout",
     "output_type": "stream",
     "text": [
      "result sent successfully\n"
     ]
    },
    {
     "name": "stderr",
     "output_type": "stream",
     "text": [
      "Translating:   1%|▋                                               | 25/1668 [00:34<14:56,  1.83it/s]"
     ]
    },
    {
     "name": "stdout",
     "output_type": "stream",
     "text": [
      "Error translating with src=en (attempt 1): the JSON object must be str, bytes or bytearray, not NoneType\n",
      "Error translating with src=en (attempt 2): the JSON object must be str, bytes or bytearray, not NoneType\n",
      "🔁 Attempting sentence split and translation...\n"
     ]
    },
    {
     "name": "stderr",
     "output_type": "stream",
     "text": [
      "Translating:   2%|▊                                               | 27/1668 [00:39<37:05,  1.36s/it]"
     ]
    },
    {
     "name": "stdout",
     "output_type": "stream",
     "text": [
      "result sent successfully\n",
      "Error translating with src=en (attempt 1): the JSON object must be str, bytes or bytearray, not NoneType\n",
      "Error translating with src=en (attempt 2): the JSON object must be str, bytes or bytearray, not NoneType\n",
      "🔁 Attempting sentence split and translation...\n"
     ]
    },
    {
     "name": "stderr",
     "output_type": "stream",
     "text": [
      "Translating:   2%|▊                                               | 29/1668 [00:44<47:28,  1.74s/it]"
     ]
    },
    {
     "name": "stdout",
     "output_type": "stream",
     "text": [
      "result sent successfully\n",
      "Error translating with src=en (attempt 1): the JSON object must be str, bytes or bytearray, not NoneType\n",
      "Error translating with src=en (attempt 2): the JSON object must be str, bytes or bytearray, not NoneType\n",
      "🔁 Attempting sentence split and translation...\n"
     ]
    },
    {
     "name": "stderr",
     "output_type": "stream",
     "text": [
      "Translating:   2%|▊                                             | 30/1668 [00:51<1:23:35,  3.06s/it]"
     ]
    },
    {
     "name": "stdout",
     "output_type": "stream",
     "text": [
      "result sent successfully\n"
     ]
    },
    {
     "name": "stderr",
     "output_type": "stream",
     "text": [
      "Translating:   2%|▉                                               | 34/1668 [00:51<23:00,  1.18it/s]"
     ]
    },
    {
     "name": "stdout",
     "output_type": "stream",
     "text": [
      "Error translating with src=en (attempt 1): the JSON object must be str, bytes or bytearray, not NoneType\n",
      "Error translating with src=en (attempt 2): the JSON object must be str, bytes or bytearray, not NoneType\n",
      "🔁 Attempting sentence split and translation...\n"
     ]
    },
    {
     "name": "stderr",
     "output_type": "stream",
     "text": [
      "Translating:   2%|█                                               | 35/1668 [00:56<56:20,  2.07s/it]"
     ]
    },
    {
     "name": "stdout",
     "output_type": "stream",
     "text": [
      "result sent successfully\n",
      "Error translating with src=en (attempt 1): the JSON object must be str, bytes or bytearray, not NoneType\n",
      "Error translating with src=en (attempt 2): the JSON object must be str, bytes or bytearray, not NoneType\n",
      "🔁 Attempting sentence split and translation...\n"
     ]
    },
    {
     "name": "stderr",
     "output_type": "stream",
     "text": [
      "Translating:   2%|█                                               | 37/1668 [01:01<56:43,  2.09s/it]"
     ]
    },
    {
     "name": "stdout",
     "output_type": "stream",
     "text": [
      "result sent successfully\n"
     ]
    },
    {
     "name": "stderr",
     "output_type": "stream",
     "text": [
      "Translating:   3%|█▎                                              | 45/1668 [01:03<08:20,  3.24it/s]"
     ]
    },
    {
     "name": "stdout",
     "output_type": "stream",
     "text": [
      "Error translating with src=en (attempt 1): the JSON object must be str, bytes or bytearray, not NoneType\n",
      "Error translating with src=en (attempt 2): the JSON object must be str, bytes or bytearray, not NoneType\n",
      "🔁 Attempting sentence split and translation...\n"
     ]
    },
    {
     "name": "stderr",
     "output_type": "stream",
     "text": [
      "Translating:   3%|█▎                                              | 46/1668 [01:08<47:17,  1.75s/it]"
     ]
    },
    {
     "name": "stdout",
     "output_type": "stream",
     "text": [
      "result sent successfully\n"
     ]
    },
    {
     "name": "stderr",
     "output_type": "stream",
     "text": [
      "Translating:   3%|█▍                                              | 51/1668 [01:09<11:15,  2.39it/s]"
     ]
    },
    {
     "name": "stdout",
     "output_type": "stream",
     "text": [
      "Error translating with src=en (attempt 1): the JSON object must be str, bytes or bytearray, not NoneType\n",
      "Error translating with src=en (attempt 2): the JSON object must be str, bytes or bytearray, not NoneType\n",
      "🔁 Attempting sentence split and translation...\n"
     ]
    },
    {
     "name": "stderr",
     "output_type": "stream",
     "text": [
      "Translating:   3%|█▍                                              | 52/1668 [01:14<47:58,  1.78s/it]"
     ]
    },
    {
     "name": "stdout",
     "output_type": "stream",
     "text": [
      "result sent successfully\n"
     ]
    },
    {
     "name": "stderr",
     "output_type": "stream",
     "text": [
      "Translating:   3%|█▌                                              | 53/1668 [01:14<36:52,  1.37s/it]"
     ]
    },
    {
     "name": "stdout",
     "output_type": "stream",
     "text": [
      "Error translating with src=en (attempt 1): the JSON object must be str, bytes or bytearray, not NoneType\n",
      "Error translating with src=en (attempt 2): the JSON object must be str, bytes or bytearray, not NoneType\n",
      "🔁 Attempting sentence split and translation...\n"
     ]
    },
    {
     "name": "stderr",
     "output_type": "stream",
     "text": [
      "Translating:   3%|█▍                                            | 54/1668 [01:19<1:08:02,  2.53s/it]"
     ]
    },
    {
     "name": "stdout",
     "output_type": "stream",
     "text": [
      "result sent successfully\n",
      "Error translating with src=en (attempt 1): the JSON object must be str, bytes or bytearray, not NoneType\n",
      "Error translating with src=en (attempt 2): the JSON object must be str, bytes or bytearray, not NoneType\n",
      "🔁 Attempting sentence split and translation...\n"
     ]
    },
    {
     "name": "stderr",
     "output_type": "stream",
     "text": [
      "Translating:   3%|█▌                                            | 55/1668 [01:25<1:31:17,  3.40s/it]"
     ]
    },
    {
     "name": "stdout",
     "output_type": "stream",
     "text": [
      "result sent successfully\n"
     ]
    },
    {
     "name": "stderr",
     "output_type": "stream",
     "text": [
      "Translating:   3%|█▌                                            | 56/1668 [01:25<1:06:00,  2.46s/it]"
     ]
    },
    {
     "name": "stdout",
     "output_type": "stream",
     "text": [
      "Error translating with src=en (attempt 1): the JSON object must be str, bytes or bytearray, not NoneType\n",
      "Error translating with src=en (attempt 2): the JSON object must be str, bytes or bytearray, not NoneType\n",
      "🔁 Attempting sentence split and translation...\n"
     ]
    },
    {
     "name": "stderr",
     "output_type": "stream",
     "text": [
      "Translating:   3%|█▌                                            | 57/1668 [01:30<1:25:54,  3.20s/it]"
     ]
    },
    {
     "name": "stdout",
     "output_type": "stream",
     "text": [
      "result sent successfully\n"
     ]
    },
    {
     "name": "stderr",
     "output_type": "stream",
     "text": [
      "Translating:   4%|█▉                                              | 66/1668 [01:32<08:14,  3.24it/s]"
     ]
    },
    {
     "name": "stdout",
     "output_type": "stream",
     "text": [
      "Error translating with src=en (attempt 1): the JSON object must be str, bytes or bytearray, not NoneType\n",
      "Error translating with src=en (attempt 2): the JSON object must be str, bytes or bytearray, not NoneType\n",
      "🔁 Attempting sentence split and translation...\n"
     ]
    },
    {
     "name": "stderr",
     "output_type": "stream",
     "text": [
      "Translating:   4%|█▉                                              | 67/1668 [01:37<46:31,  1.74s/it]"
     ]
    },
    {
     "name": "stdout",
     "output_type": "stream",
     "text": [
      "result sent successfully\n"
     ]
    },
    {
     "name": "stderr",
     "output_type": "stream",
     "text": [
      "Translating:   4%|██                                              | 70/1668 [01:38<21:52,  1.22it/s]"
     ]
    },
    {
     "name": "stdout",
     "output_type": "stream",
     "text": [
      "Error translating with src=en (attempt 1): the JSON object must be str, bytes or bytearray, not NoneType\n",
      "Error translating with src=en (attempt 2): the JSON object must be str, bytes or bytearray, not NoneType\n",
      "🔁 Attempting sentence split and translation...\n"
     ]
    },
    {
     "name": "stderr",
     "output_type": "stream",
     "text": [
      "Translating:   4%|██                                              | 71/1668 [01:43<55:52,  2.10s/it]"
     ]
    },
    {
     "name": "stdout",
     "output_type": "stream",
     "text": [
      "result sent successfully\n",
      "Error translating with src=en (attempt 1): the JSON object must be str, bytes or bytearray, not NoneType\n",
      "Error translating with src=en (attempt 2): the JSON object must be str, bytes or bytearray, not NoneType\n",
      "🔁 Attempting sentence split and translation...\n"
     ]
    },
    {
     "name": "stderr",
     "output_type": "stream",
     "text": [
      "Translating:   4%|█▉                                            | 72/1668 [01:48<1:19:49,  3.00s/it]"
     ]
    },
    {
     "name": "stdout",
     "output_type": "stream",
     "text": [
      "result sent successfully\n"
     ]
    },
    {
     "name": "stderr",
     "output_type": "stream",
     "text": [
      "Translating:   5%|██▏                                             | 77/1668 [01:50<20:27,  1.30it/s]"
     ]
    },
    {
     "name": "stdout",
     "output_type": "stream",
     "text": [
      "Error translating with src=en (attempt 1): the JSON object must be str, bytes or bytearray, not NoneType\n",
      "Error translating with src=en (attempt 2): the JSON object must be str, bytes or bytearray, not NoneType\n",
      "🔁 Attempting sentence split and translation...\n"
     ]
    },
    {
     "name": "stderr",
     "output_type": "stream",
     "text": [
      "Translating:   5%|██▏                                             | 78/1668 [01:55<55:53,  2.11s/it]"
     ]
    },
    {
     "name": "stdout",
     "output_type": "stream",
     "text": [
      "result sent successfully\n"
     ]
    },
    {
     "name": "stderr",
     "output_type": "stream",
     "text": [
      "Translating:   5%|██▎                                             | 80/1668 [01:56<33:15,  1.26s/it]"
     ]
    },
    {
     "name": "stdout",
     "output_type": "stream",
     "text": [
      "Error translating with src=en (attempt 1): the JSON object must be str, bytes or bytearray, not NoneType\n",
      "Error translating with src=en (attempt 2): the JSON object must be str, bytes or bytearray, not NoneType\n",
      "🔁 Attempting sentence split and translation...\n"
     ]
    },
    {
     "name": "stderr",
     "output_type": "stream",
     "text": [
      "Translating:   5%|██▎                                             | 82/1668 [02:01<45:26,  1.72s/it]"
     ]
    },
    {
     "name": "stdout",
     "output_type": "stream",
     "text": [
      "result sent successfully\n",
      "Error translating with src=en (attempt 1): the JSON object must be str, bytes or bytearray, not NoneType\n",
      "Error translating with src=en (attempt 2): the JSON object must be str, bytes or bytearray, not NoneType\n",
      "🔁 Attempting sentence split and translation...\n"
     ]
    },
    {
     "name": "stderr",
     "output_type": "stream",
     "text": [
      "Translating:   5%|██▍                                             | 84/1668 [02:06<50:31,  1.91s/it]"
     ]
    },
    {
     "name": "stdout",
     "output_type": "stream",
     "text": [
      "result sent successfully\n",
      "Error translating with src=en (attempt 1): the JSON object must be str, bytes or bytearray, not NoneType\n",
      "Error translating with src=en (attempt 2): the JSON object must be str, bytes or bytearray, not NoneType\n",
      "🔁 Attempting sentence split and translation...\n",
      "Error translating with src=en (attempt 1): the JSON object must be str, bytes or bytearray, not NoneType\n",
      "Error translating with src=en (attempt 2): the JSON object must be str, bytes or bytearray, not NoneType\n",
      "Error translating with src=en (attempt 1): the JSON object must be str, bytes or bytearray, not NoneType\n",
      "Error translating with src=en (attempt 2): the JSON object must be str, bytes or bytearray, not NoneType\n"
     ]
    },
    {
     "name": "stderr",
     "output_type": "stream",
     "text": [
      "Translating:   5%|██▎                                           | 85/1668 [02:21<2:30:34,  5.71s/it]"
     ]
    },
    {
     "name": "stdout",
     "output_type": "stream",
     "text": [
      "result sent successfully\n",
      "Error translating with src=en (attempt 1): the JSON object must be str, bytes or bytearray, not NoneType\n",
      "Error translating with src=en (attempt 2): the JSON object must be str, bytes or bytearray, not NoneType\n",
      "🔁 Attempting sentence split and translation...\n"
     ]
    },
    {
     "name": "stderr",
     "output_type": "stream",
     "text": [
      "Translating:   5%|██▍                                           | 87/1668 [02:26<1:42:59,  3.91s/it]"
     ]
    },
    {
     "name": "stdout",
     "output_type": "stream",
     "text": [
      "result sent successfully\n",
      "Error translating with src=en (attempt 1): the JSON object must be str, bytes or bytearray, not NoneType\n",
      "Error translating with src=en (attempt 2): the JSON object must be str, bytes or bytearray, not NoneType\n",
      "🔁 Attempting sentence split and translation...\n"
     ]
    },
    {
     "name": "stderr",
     "output_type": "stream",
     "text": [
      "Translating:   5%|██▍                                           | 88/1668 [02:31<1:53:24,  4.31s/it]"
     ]
    },
    {
     "name": "stdout",
     "output_type": "stream",
     "text": [
      "result sent successfully\n"
     ]
    },
    {
     "name": "stderr",
     "output_type": "stream",
     "text": [
      "Translating:   5%|██▍                                           | 89/1668 [02:32<1:22:40,  3.14s/it]"
     ]
    },
    {
     "name": "stdout",
     "output_type": "stream",
     "text": [
      "Error translating with src=en (attempt 1): the JSON object must be str, bytes or bytearray, not NoneType\n",
      "Error translating with src=en (attempt 2): the JSON object must be str, bytes or bytearray, not NoneType\n",
      "🔁 Attempting sentence split and translation...\n"
     ]
    },
    {
     "name": "stderr",
     "output_type": "stream",
     "text": [
      "Translating:   5%|██▍                                           | 90/1668 [02:37<1:36:48,  3.68s/it]"
     ]
    },
    {
     "name": "stdout",
     "output_type": "stream",
     "text": [
      "result sent successfully\n"
     ]
    },
    {
     "name": "stderr",
     "output_type": "stream",
     "text": [
      "Translating:   6%|██▋                                             | 94/1668 [02:38<33:12,  1.27s/it]"
     ]
    },
    {
     "name": "stdout",
     "output_type": "stream",
     "text": [
      "Error translating with src=en (attempt 1): the JSON object must be str, bytes or bytearray, not NoneType\n",
      "Error translating with src=en (attempt 2): the JSON object must be str, bytes or bytearray, not NoneType\n",
      "🔁 Attempting sentence split and translation...\n"
     ]
    },
    {
     "name": "stderr",
     "output_type": "stream",
     "text": [
      "Translating:   6%|██▌                                           | 95/1668 [02:43<1:03:22,  2.42s/it]"
     ]
    },
    {
     "name": "stdout",
     "output_type": "stream",
     "text": [
      "result sent successfully\n"
     ]
    },
    {
     "name": "stderr",
     "output_type": "stream",
     "text": [
      "Translating:   6%|██▊                                             | 96/1668 [02:43<46:27,  1.77s/it]"
     ]
    },
    {
     "name": "stdout",
     "output_type": "stream",
     "text": [
      "Error translating with src=en (attempt 1): the JSON object must be str, bytes or bytearray, not NoneType\n",
      "Error translating with src=en (attempt 2): the JSON object must be str, bytes or bytearray, not NoneType\n",
      "🔁 Attempting sentence split and translation...\n"
     ]
    },
    {
     "name": "stderr",
     "output_type": "stream",
     "text": [
      "Translating:   6%|██▋                                           | 97/1668 [02:49<1:12:33,  2.77s/it]"
     ]
    },
    {
     "name": "stdout",
     "output_type": "stream",
     "text": [
      "result sent successfully\n",
      "Error translating with src=en (attempt 1): the JSON object must be str, bytes or bytearray, not NoneType\n",
      "Error translating with src=en (attempt 2): the JSON object must be str, bytes or bytearray, not NoneType\n",
      "🔁 Attempting sentence split and translation...\n"
     ]
    },
    {
     "name": "stderr",
     "output_type": "stream",
     "text": [
      "Translating:   6%|██▋                                           | 98/1668 [02:54<1:32:59,  3.55s/it]"
     ]
    },
    {
     "name": "stdout",
     "output_type": "stream",
     "text": [
      "result sent successfully\n"
     ]
    },
    {
     "name": "stderr",
     "output_type": "stream",
     "text": [
      "Translating:   6%|██▊                                            | 100/1668 [02:54<47:49,  1.83s/it]"
     ]
    },
    {
     "name": "stdout",
     "output_type": "stream",
     "text": [
      "Error translating with src=en (attempt 1): the JSON object must be str, bytes or bytearray, not NoneType\n",
      "Error translating with src=en (attempt 2): the JSON object must be str, bytes or bytearray, not NoneType\n",
      "🔁 Attempting sentence split and translation...\n"
     ]
    },
    {
     "name": "stderr",
     "output_type": "stream",
     "text": [
      "Translating:   6%|██▊                                            | 102/1668 [02:59<51:37,  1.98s/it]"
     ]
    },
    {
     "name": "stdout",
     "output_type": "stream",
     "text": [
      "result sent successfully\n"
     ]
    },
    {
     "name": "stderr",
     "output_type": "stream",
     "text": [
      "Translating:   6%|██▉                                            | 103/1668 [03:00<37:04,  1.42s/it]"
     ]
    },
    {
     "name": "stdout",
     "output_type": "stream",
     "text": [
      "Error translating with src=en (attempt 1): the JSON object must be str, bytes or bytearray, not NoneType\n",
      "Error translating with src=en (attempt 2): the JSON object must be str, bytes or bytearray, not NoneType\n",
      "🔁 Attempting sentence split and translation...\n"
     ]
    },
    {
     "name": "stderr",
     "output_type": "stream",
     "text": [
      "Translating:   6%|██▊                                          | 104/1668 [03:05<1:04:38,  2.48s/it]"
     ]
    },
    {
     "name": "stdout",
     "output_type": "stream",
     "text": [
      "result sent successfully\n"
     ]
    },
    {
     "name": "stderr",
     "output_type": "stream",
     "text": [
      "Translating:   6%|██▉                                            | 105/1668 [03:05<47:24,  1.82s/it]"
     ]
    },
    {
     "name": "stdout",
     "output_type": "stream",
     "text": [
      "Error translating with src=en (attempt 1): the JSON object must be str, bytes or bytearray, not NoneType\n",
      "Error translating with src=en (attempt 2): the JSON object must be str, bytes or bytearray, not NoneType\n",
      "🔁 Attempting sentence split and translation...\n"
     ]
    },
    {
     "name": "stderr",
     "output_type": "stream",
     "text": [
      "Translating:   6%|██▊                                          | 106/1668 [03:10<1:12:53,  2.80s/it]"
     ]
    },
    {
     "name": "stdout",
     "output_type": "stream",
     "text": [
      "result sent successfully\n"
     ]
    },
    {
     "name": "stderr",
     "output_type": "stream",
     "text": [
      "Translating:   7%|███                                            | 109/1668 [03:11<28:22,  1.09s/it]"
     ]
    },
    {
     "name": "stdout",
     "output_type": "stream",
     "text": [
      "Error translating with src=en (attempt 1): the JSON object must be str, bytes or bytearray, not NoneType\n",
      "Error translating with src=en (attempt 2): the JSON object must be str, bytes or bytearray, not NoneType\n",
      "🔁 Attempting sentence split and translation...\n"
     ]
    },
    {
     "name": "stderr",
     "output_type": "stream",
     "text": [
      "Translating:   7%|███▏                                           | 111/1668 [03:16<41:43,  1.61s/it]"
     ]
    },
    {
     "name": "stdout",
     "output_type": "stream",
     "text": [
      "result sent successfully\n"
     ]
    },
    {
     "name": "stderr",
     "output_type": "stream",
     "text": [
      "Translating:   7%|███▏                                           | 114/1668 [03:16<17:38,  1.47it/s]"
     ]
    },
    {
     "name": "stdout",
     "output_type": "stream",
     "text": [
      "Error translating with src=en (attempt 1): the JSON object must be str, bytes or bytearray, not NoneType\n",
      "Error translating with src=en (attempt 2): the JSON object must be str, bytes or bytearray, not NoneType\n",
      "🔁 Attempting sentence split and translation...\n"
     ]
    },
    {
     "name": "stderr",
     "output_type": "stream",
     "text": [
      "Translating:   7%|███▎                                           | 116/1668 [03:21<36:12,  1.40s/it]"
     ]
    },
    {
     "name": "stdout",
     "output_type": "stream",
     "text": [
      "result sent successfully\n"
     ]
    },
    {
     "name": "stderr",
     "output_type": "stream",
     "text": [
      "Translating:   7%|███▍                                           | 123/1668 [03:23<07:05,  3.64it/s]"
     ]
    },
    {
     "name": "stdout",
     "output_type": "stream",
     "text": [
      "Error translating with src=en (attempt 1): the JSON object must be str, bytes or bytearray, not NoneType\n",
      "Error translating with src=en (attempt 2): the JSON object must be str, bytes or bytearray, not NoneType\n",
      "🔁 Attempting sentence split and translation...\n"
     ]
    },
    {
     "name": "stderr",
     "output_type": "stream",
     "text": [
      "Translating:   7%|███▌                                           | 125/1668 [03:28<31:06,  1.21s/it]"
     ]
    },
    {
     "name": "stdout",
     "output_type": "stream",
     "text": [
      "result sent successfully\n"
     ]
    },
    {
     "name": "stderr",
     "output_type": "stream",
     "text": [
      "Translating:   8%|███▌                                           | 127/1668 [03:28<16:41,  1.54it/s]"
     ]
    },
    {
     "name": "stdout",
     "output_type": "stream",
     "text": [
      "Error translating with src=en (attempt 1): the JSON object must be str, bytes or bytearray, not NoneType\n",
      "Error translating with src=en (attempt 2): the JSON object must be str, bytes or bytearray, not NoneType\n",
      "🔁 Attempting sentence split and translation...\n"
     ]
    },
    {
     "name": "stderr",
     "output_type": "stream",
     "text": [
      "Translating:   8%|███▋                                           | 129/1668 [03:34<42:02,  1.64s/it]"
     ]
    },
    {
     "name": "stdout",
     "output_type": "stream",
     "text": [
      "result sent successfully\n"
     ]
    },
    {
     "name": "stderr",
     "output_type": "stream",
     "text": [
      "Translating:   8%|███▋                                           | 130/1668 [03:35<31:31,  1.23s/it]"
     ]
    },
    {
     "name": "stdout",
     "output_type": "stream",
     "text": [
      "Error translating with src=en (attempt 1): the JSON object must be str, bytes or bytearray, not NoneType\n",
      "Error translating with src=en (attempt 2): the JSON object must be str, bytes or bytearray, not NoneType\n",
      "🔁 Attempting sentence split and translation...\n"
     ]
    },
    {
     "name": "stderr",
     "output_type": "stream",
     "text": [
      "Translating:   8%|███▋                                           | 132/1668 [03:40<43:50,  1.71s/it]"
     ]
    },
    {
     "name": "stdout",
     "output_type": "stream",
     "text": [
      "result sent successfully\n"
     ]
    },
    {
     "name": "stderr",
     "output_type": "stream",
     "text": [
      "Translating:   8%|███▊                                           | 135/1668 [03:40<17:58,  1.42it/s]"
     ]
    },
    {
     "name": "stdout",
     "output_type": "stream",
     "text": [
      "Error translating with src=en (attempt 1): the JSON object must be str, bytes or bytearray, not NoneType\n",
      "Error translating with src=en (attempt 2): the JSON object must be str, bytes or bytearray, not NoneType\n",
      "🔁 Attempting sentence split and translation...\n"
     ]
    },
    {
     "name": "stderr",
     "output_type": "stream",
     "text": [
      "Translating:   8%|███▊                                           | 136/1668 [03:46<52:55,  2.07s/it]"
     ]
    },
    {
     "name": "stdout",
     "output_type": "stream",
     "text": [
      "result sent successfully\n"
     ]
    },
    {
     "name": "stderr",
     "output_type": "stream",
     "text": [
      "Translating:   8%|███▉                                           | 139/1668 [03:46<21:57,  1.16it/s]"
     ]
    },
    {
     "name": "stdout",
     "output_type": "stream",
     "text": [
      "Error translating with src=en (attempt 1): the JSON object must be str, bytes or bytearray, not NoneType\n",
      "Error translating with src=en (attempt 2): the JSON object must be str, bytes or bytearray, not NoneType\n",
      "🔁 Attempting sentence split and translation...\n"
     ]
    },
    {
     "name": "stderr",
     "output_type": "stream",
     "text": [
      "Translating:   8%|███▉                                           | 141/1668 [03:51<38:13,  1.50s/it]"
     ]
    },
    {
     "name": "stdout",
     "output_type": "stream",
     "text": [
      "result sent successfully\n"
     ]
    },
    {
     "name": "stderr",
     "output_type": "stream",
     "text": [
      "Translating:   9%|████                                           | 142/1668 [03:51<27:38,  1.09s/it]"
     ]
    },
    {
     "name": "stdout",
     "output_type": "stream",
     "text": [
      "Error translating with src=en (attempt 1): the JSON object must be str, bytes or bytearray, not NoneType\n",
      "Error translating with src=en (attempt 2): the JSON object must be str, bytes or bytearray, not NoneType\n",
      "🔁 Attempting sentence split and translation...\n"
     ]
    },
    {
     "name": "stderr",
     "output_type": "stream",
     "text": [
      "Translating:   9%|████                                           | 143/1668 [03:57<58:23,  2.30s/it]"
     ]
    },
    {
     "name": "stdout",
     "output_type": "stream",
     "text": [
      "result sent successfully\n"
     ]
    },
    {
     "name": "stderr",
     "output_type": "stream",
     "text": [
      "Translating:   9%|████                                           | 144/1668 [03:57<42:54,  1.69s/it]"
     ]
    },
    {
     "name": "stdout",
     "output_type": "stream",
     "text": [
      "Error translating with src=en (attempt 1): the JSON object must be str, bytes or bytearray, not NoneType\n",
      "Error translating with src=en (attempt 2): the JSON object must be str, bytes or bytearray, not NoneType\n",
      "🔁 Attempting sentence split and translation...\n"
     ]
    },
    {
     "name": "stderr",
     "output_type": "stream",
     "text": [
      "Translating:   9%|███▉                                         | 145/1668 [04:02<1:08:39,  2.70s/it]"
     ]
    },
    {
     "name": "stdout",
     "output_type": "stream",
     "text": [
      "result sent successfully\n",
      "Error translating with src=en (attempt 1): the JSON object must be str, bytes or bytearray, not NoneType\n",
      "Error translating with src=en (attempt 2): the JSON object must be str, bytes or bytearray, not NoneType\n",
      "🔁 Attempting sentence split and translation...\n"
     ]
    },
    {
     "name": "stderr",
     "output_type": "stream",
     "text": [
      "Translating:   9%|███▉                                         | 146/1668 [04:07<1:27:50,  3.46s/it]"
     ]
    },
    {
     "name": "stdout",
     "output_type": "stream",
     "text": [
      "result sent successfully\n"
     ]
    },
    {
     "name": "stderr",
     "output_type": "stream",
     "text": [
      "Translating:   9%|███▉                                         | 147/1668 [04:07<1:03:32,  2.51s/it]"
     ]
    },
    {
     "name": "stdout",
     "output_type": "stream",
     "text": [
      "Error translating with src=en (attempt 1): the JSON object must be str, bytes or bytearray, not NoneType\n",
      "Error translating with src=en (attempt 2): the JSON object must be str, bytes or bytearray, not NoneType\n",
      "🔁 Attempting sentence split and translation...\n"
     ]
    },
    {
     "name": "stderr",
     "output_type": "stream",
     "text": [
      "Translating:   9%|███▉                                         | 148/1668 [04:13<1:23:18,  3.29s/it]"
     ]
    },
    {
     "name": "stdout",
     "output_type": "stream",
     "text": [
      "result sent successfully\n",
      "Error translating with src=en (attempt 1): the JSON object must be str, bytes or bytearray, not NoneType\n",
      "Error translating with src=en (attempt 2): the JSON object must be str, bytes or bytearray, not NoneType\n",
      "🔁 Attempting sentence split and translation...\n"
     ]
    },
    {
     "name": "stderr",
     "output_type": "stream",
     "text": [
      "Translating:   9%|████                                         | 149/1668 [04:18<1:36:54,  3.83s/it]"
     ]
    },
    {
     "name": "stdout",
     "output_type": "stream",
     "text": [
      "result sent successfully\n",
      "Error translating with src=en (attempt 1): the JSON object must be str, bytes or bytearray, not NoneType\n",
      "Error translating with src=en (attempt 2): the JSON object must be str, bytes or bytearray, not NoneType\n",
      "🔁 Attempting sentence split and translation...\n"
     ]
    },
    {
     "name": "stderr",
     "output_type": "stream",
     "text": [
      "Translating:   9%|████                                         | 150/1668 [04:23<1:45:10,  4.16s/it]"
     ]
    },
    {
     "name": "stdout",
     "output_type": "stream",
     "text": [
      "result sent successfully\n",
      "Error translating with src=en (attempt 1): the JSON object must be str, bytes or bytearray, not NoneType\n",
      "Error translating with src=en (attempt 2): the JSON object must be str, bytes or bytearray, not NoneType\n",
      "🔁 Attempting sentence split and translation...\n"
     ]
    },
    {
     "name": "stderr",
     "output_type": "stream",
     "text": [
      "Translating:   9%|████                                         | 152/1668 [04:28<1:19:37,  3.15s/it]"
     ]
    },
    {
     "name": "stdout",
     "output_type": "stream",
     "text": [
      "result sent successfully\n"
     ]
    },
    {
     "name": "stderr",
     "output_type": "stream",
     "text": [
      "Translating:   9%|████▎                                          | 153/1668 [04:28<56:30,  2.24s/it]"
     ]
    },
    {
     "name": "stdout",
     "output_type": "stream",
     "text": [
      "Error translating with src=en (attempt 1): the JSON object must be str, bytes or bytearray, not NoneType\n",
      "Error translating with src=en (attempt 2): the JSON object must be str, bytes or bytearray, not NoneType\n",
      "🔁 Attempting sentence split and translation...\n"
     ]
    },
    {
     "name": "stderr",
     "output_type": "stream",
     "text": [
      "Translating:   9%|████▎                                          | 155/1668 [04:33<55:37,  2.21s/it]"
     ]
    },
    {
     "name": "stdout",
     "output_type": "stream",
     "text": [
      "result sent successfully\n"
     ]
    },
    {
     "name": "stderr",
     "output_type": "stream",
     "text": [
      "Translating:   9%|████▍                                          | 156/1668 [04:33<39:45,  1.58s/it]"
     ]
    },
    {
     "name": "stdout",
     "output_type": "stream",
     "text": [
      "Error translating with src=en (attempt 1): the JSON object must be str, bytes or bytearray, not NoneType\n",
      "Error translating with src=en (attempt 2): the JSON object must be str, bytes or bytearray, not NoneType\n",
      "🔁 Attempting sentence split and translation...\n"
     ]
    },
    {
     "name": "stderr",
     "output_type": "stream",
     "text": [
      "Translating:   9%|████▏                                        | 157/1668 [04:38<1:07:21,  2.67s/it]"
     ]
    },
    {
     "name": "stdout",
     "output_type": "stream",
     "text": [
      "result sent successfully\n"
     ]
    },
    {
     "name": "stderr",
     "output_type": "stream",
     "text": [
      "Translating:  10%|████▌                                          | 161/1668 [04:39<19:20,  1.30it/s]"
     ]
    },
    {
     "name": "stdout",
     "output_type": "stream",
     "text": [
      "Error translating with src=en (attempt 1): the JSON object must be str, bytes or bytearray, not NoneType\n",
      "Error translating with src=en (attempt 2): the JSON object must be str, bytes or bytearray, not NoneType\n",
      "🔁 Attempting sentence split and translation...\n",
      "Error translating with src=en (attempt 1): the JSON object must be str, bytes or bytearray, not NoneType\n",
      "Error translating with src=en (attempt 2): the JSON object must be str, bytes or bytearray, not NoneType\n",
      "Error translating with src=en (attempt 1): the JSON object must be str, bytes or bytearray, not NoneType\n",
      "Error translating with src=en (attempt 2): the JSON object must be str, bytes or bytearray, not NoneType\n"
     ]
    },
    {
     "name": "stderr",
     "output_type": "stream",
     "text": [
      "Translating:  10%|████▎                                        | 162/1668 [04:54<2:02:59,  4.90s/it]"
     ]
    },
    {
     "name": "stdout",
     "output_type": "stream",
     "text": [
      "result sent successfully\n"
     ]
    },
    {
     "name": "stderr",
     "output_type": "stream",
     "text": [
      "Translating:  10%|████▋                                          | 165/1668 [04:54<44:43,  1.79s/it]"
     ]
    },
    {
     "name": "stdout",
     "output_type": "stream",
     "text": [
      "Error translating with src=en (attempt 1): the JSON object must be str, bytes or bytearray, not NoneType\n",
      "Error translating with src=en (attempt 2): the JSON object must be str, bytes or bytearray, not NoneType\n",
      "🔁 Attempting sentence split and translation...\n"
     ]
    },
    {
     "name": "stderr",
     "output_type": "stream",
     "text": [
      "Translating:  10%|████▍                                        | 166/1668 [05:00<1:10:33,  2.82s/it]"
     ]
    },
    {
     "name": "stdout",
     "output_type": "stream",
     "text": [
      "result sent successfully\n",
      "Error translating with src=en (attempt 1): the JSON object must be str, bytes or bytearray, not NoneType\n",
      "Error translating with src=en (attempt 2): the JSON object must be str, bytes or bytearray, not NoneType\n",
      "🔁 Attempting sentence split and translation...\n"
     ]
    },
    {
     "name": "stderr",
     "output_type": "stream",
     "text": [
      "Translating:  10%|████▌                                        | 167/1668 [05:05<1:26:39,  3.46s/it]"
     ]
    },
    {
     "name": "stdout",
     "output_type": "stream",
     "text": [
      "result sent successfully\n"
     ]
    },
    {
     "name": "stderr",
     "output_type": "stream",
     "text": [
      "Translating:  10%|████▊                                          | 170/1668 [05:05<33:00,  1.32s/it]"
     ]
    },
    {
     "name": "stdout",
     "output_type": "stream",
     "text": [
      "Error translating with src=en (attempt 1): the JSON object must be str, bytes or bytearray, not NoneType\n",
      "Error translating with src=en (attempt 2): the JSON object must be str, bytes or bytearray, not NoneType\n",
      "🔁 Attempting sentence split and translation...\n"
     ]
    },
    {
     "name": "stderr",
     "output_type": "stream",
     "text": [
      "Translating:  10%|████▌                                        | 171/1668 [05:11<1:03:22,  2.54s/it]"
     ]
    },
    {
     "name": "stdout",
     "output_type": "stream",
     "text": [
      "result sent successfully\n"
     ]
    },
    {
     "name": "stderr",
     "output_type": "stream",
     "text": [
      "Translating:  10%|████▊                                          | 173/1668 [05:11<34:28,  1.38s/it]"
     ]
    },
    {
     "name": "stdout",
     "output_type": "stream",
     "text": [
      "Error translating with src=en (attempt 1): the JSON object must be str, bytes or bytearray, not NoneType\n",
      "Error translating with src=en (attempt 2): the JSON object must be str, bytes or bytearray, not NoneType\n",
      "🔁 Attempting sentence split and translation...\n"
     ]
    },
    {
     "name": "stderr",
     "output_type": "stream",
     "text": [
      "Translating:  10%|████▋                                        | 174/1668 [05:16<1:02:04,  2.49s/it]"
     ]
    },
    {
     "name": "stdout",
     "output_type": "stream",
     "text": [
      "result sent successfully\n",
      "Error translating with src=en (attempt 1): the JSON object must be str, bytes or bytearray, not NoneType\n",
      "Error translating with src=en (attempt 2): the JSON object must be str, bytes or bytearray, not NoneType\n",
      "🔁 Attempting sentence split and translation...\n"
     ]
    },
    {
     "name": "stderr",
     "output_type": "stream",
     "text": [
      "Translating:  10%|████▋                                        | 175/1668 [05:21<1:20:21,  3.23s/it]"
     ]
    },
    {
     "name": "stdout",
     "output_type": "stream",
     "text": [
      "result sent successfully\n"
     ]
    },
    {
     "name": "stderr",
     "output_type": "stream",
     "text": [
      "Translating:  11%|████▉                                          | 176/1668 [05:21<58:21,  2.35s/it]"
     ]
    },
    {
     "name": "stdout",
     "output_type": "stream",
     "text": [
      "Error translating with src=en (attempt 1): the JSON object must be str, bytes or bytearray, not NoneType\n",
      "Error translating with src=en (attempt 2): the JSON object must be str, bytes or bytearray, not NoneType\n",
      "🔁 Attempting sentence split and translation...\n"
     ]
    },
    {
     "name": "stderr",
     "output_type": "stream",
     "text": [
      "Translating:  11%|████▊                                        | 177/1668 [05:27<1:19:51,  3.21s/it]"
     ]
    },
    {
     "name": "stdout",
     "output_type": "stream",
     "text": [
      "result sent successfully\n"
     ]
    },
    {
     "name": "stderr",
     "output_type": "stream",
     "text": [
      "Translating:  11%|█████                                          | 180/1668 [05:27<30:31,  1.23s/it]"
     ]
    },
    {
     "name": "stdout",
     "output_type": "stream",
     "text": [
      "Error translating with src=en (attempt 1): the JSON object must be str, bytes or bytearray, not NoneType\n",
      "Error translating with src=en (attempt 2): the JSON object must be str, bytes or bytearray, not NoneType\n",
      "🔁 Attempting sentence split and translation...\n"
     ]
    },
    {
     "name": "stderr",
     "output_type": "stream",
     "text": [
      "Translating:  11%|█████▏                                         | 182/1668 [05:32<41:38,  1.68s/it]"
     ]
    },
    {
     "name": "stdout",
     "output_type": "stream",
     "text": [
      "result sent successfully\n"
     ]
    },
    {
     "name": "stderr",
     "output_type": "stream",
     "text": [
      "Translating:  11%|█████▏                                         | 184/1668 [05:33<22:56,  1.08it/s]"
     ]
    },
    {
     "name": "stdout",
     "output_type": "stream",
     "text": [
      "Error translating with src=en (attempt 1): the JSON object must be str, bytes or bytearray, not NoneType\n",
      "Error translating with src=en (attempt 2): the JSON object must be str, bytes or bytearray, not NoneType\n",
      "🔁 Attempting sentence split and translation...\n"
     ]
    },
    {
     "name": "stderr",
     "output_type": "stream",
     "text": [
      "Translating:  11%|█████▏                                         | 185/1668 [05:38<52:30,  2.12s/it]"
     ]
    },
    {
     "name": "stdout",
     "output_type": "stream",
     "text": [
      "result sent successfully\n",
      "Error translating with src=en (attempt 1): the JSON object must be str, bytes or bytearray, not NoneType\n",
      "Error translating with src=en (attempt 2): the JSON object must be str, bytes or bytearray, not NoneType\n",
      "🔁 Attempting sentence split and translation...\n"
     ]
    },
    {
     "name": "stderr",
     "output_type": "stream",
     "text": [
      "Translating:  11%|█████                                        | 186/1668 [05:43<1:16:46,  3.11s/it]"
     ]
    },
    {
     "name": "stdout",
     "output_type": "stream",
     "text": [
      "result sent successfully\n",
      "Error translating with src=en (attempt 1): the JSON object must be str, bytes or bytearray, not NoneType\n",
      "Error translating with src=en (attempt 2): the JSON object must be str, bytes or bytearray, not NoneType\n",
      "🔁 Attempting sentence split and translation...\n"
     ]
    },
    {
     "name": "stderr",
     "output_type": "stream",
     "text": [
      "Translating:  11%|█████                                        | 188/1668 [05:48<1:04:01,  2.60s/it]"
     ]
    },
    {
     "name": "stdout",
     "output_type": "stream",
     "text": [
      "result sent successfully\n",
      "Error translating with src=en (attempt 1): the JSON object must be str, bytes or bytearray, not NoneType\n",
      "Error translating with src=en (attempt 2): the JSON object must be str, bytes or bytearray, not NoneType\n",
      "🔁 Attempting sentence split and translation...\n"
     ]
    },
    {
     "name": "stderr",
     "output_type": "stream",
     "text": [
      "Translating:  11%|█████▏                                       | 190/1668 [05:54<1:00:02,  2.44s/it]"
     ]
    },
    {
     "name": "stdout",
     "output_type": "stream",
     "text": [
      "result sent successfully\n"
     ]
    },
    {
     "name": "stderr",
     "output_type": "stream",
     "text": [
      "Translating:  12%|█████▍                                         | 193/1668 [05:55<26:55,  1.10s/it]"
     ]
    },
    {
     "name": "stdout",
     "output_type": "stream",
     "text": [
      "Error translating with src=en (attempt 1): the JSON object must be str, bytes or bytearray, not NoneType\n",
      "Error translating with src=en (attempt 2): the JSON object must be str, bytes or bytearray, not NoneType\n",
      "🔁 Attempting sentence split and translation...\n"
     ]
    },
    {
     "name": "stderr",
     "output_type": "stream",
     "text": [
      "Translating:  12%|█████▍                                         | 194/1668 [06:00<56:20,  2.29s/it]"
     ]
    },
    {
     "name": "stdout",
     "output_type": "stream",
     "text": [
      "result sent successfully\n",
      "Error translating with src=en (attempt 1): the JSON object must be str, bytes or bytearray, not NoneType\n",
      "Error translating with src=en (attempt 2): the JSON object must be str, bytes or bytearray, not NoneType\n",
      "🔁 Attempting sentence split and translation...\n"
     ]
    },
    {
     "name": "stderr",
     "output_type": "stream",
     "text": [
      "Translating:  12%|█████▌                                         | 196/1668 [06:05<53:43,  2.19s/it]"
     ]
    },
    {
     "name": "stdout",
     "output_type": "stream",
     "text": [
      "result sent successfully\n"
     ]
    },
    {
     "name": "stderr",
     "output_type": "stream",
     "text": [
      "Translating:  12%|█████▌                                         | 197/1668 [06:05<38:24,  1.57s/it]"
     ]
    },
    {
     "name": "stdout",
     "output_type": "stream",
     "text": [
      "Error translating with src=en (attempt 1): the JSON object must be str, bytes or bytearray, not NoneType\n",
      "Error translating with src=en (attempt 2): the JSON object must be str, bytes or bytearray, not NoneType\n",
      "🔁 Attempting sentence split and translation...\n"
     ]
    },
    {
     "name": "stderr",
     "output_type": "stream",
     "text": [
      "Translating:  12%|█████▌                                         | 199/1668 [06:10<45:45,  1.87s/it]"
     ]
    },
    {
     "name": "stdout",
     "output_type": "stream",
     "text": [
      "result sent successfully\n",
      "Error translating with src=en (attempt 1): the JSON object must be str, bytes or bytearray, not NoneType\n",
      "Error translating with src=en (attempt 2): the JSON object must be str, bytes or bytearray, not NoneType\n",
      "🔁 Attempting sentence split and translation...\n"
     ]
    },
    {
     "name": "stderr",
     "output_type": "stream",
     "text": [
      "Translating:  12%|█████▋                                         | 201/1668 [06:15<48:47,  2.00s/it]"
     ]
    },
    {
     "name": "stdout",
     "output_type": "stream",
     "text": [
      "result sent successfully\n"
     ]
    },
    {
     "name": "stderr",
     "output_type": "stream",
     "text": [
      "Translating:  12%|█████▋                                         | 203/1668 [06:16<27:10,  1.11s/it]"
     ]
    },
    {
     "name": "stdout",
     "output_type": "stream",
     "text": [
      "Error translating with src=en (attempt 1): the JSON object must be str, bytes or bytearray, not NoneType\n",
      "Error translating with src=en (attempt 2): the JSON object must be str, bytes or bytearray, not NoneType\n",
      "🔁 Attempting sentence split and translation...\n"
     ]
    },
    {
     "name": "stderr",
     "output_type": "stream",
     "text": [
      "Translating:  12%|█████▋                                         | 204/1668 [06:21<55:01,  2.26s/it]"
     ]
    },
    {
     "name": "stdout",
     "output_type": "stream",
     "text": [
      "result sent successfully\n"
     ]
    },
    {
     "name": "stderr",
     "output_type": "stream",
     "text": [
      "Translating:  12%|█████▊                                         | 205/1668 [06:21<40:28,  1.66s/it]"
     ]
    },
    {
     "name": "stdout",
     "output_type": "stream",
     "text": [
      "Error translating with src=en (attempt 1): the JSON object must be str, bytes or bytearray, not NoneType\n",
      "Error translating with src=en (attempt 2): the JSON object must be str, bytes or bytearray, not NoneType\n",
      "🔁 Attempting sentence split and translation...\n"
     ]
    },
    {
     "name": "stderr",
     "output_type": "stream",
     "text": [
      "Translating:  12%|█████▊                                         | 207/1668 [06:26<45:54,  1.89s/it]"
     ]
    },
    {
     "name": "stdout",
     "output_type": "stream",
     "text": [
      "result sent successfully\n"
     ]
    },
    {
     "name": "stderr",
     "output_type": "stream",
     "text": [
      "Translating:  12%|█████▊                                         | 208/1668 [06:26<34:07,  1.40s/it]"
     ]
    },
    {
     "name": "stdout",
     "output_type": "stream",
     "text": [
      "Error translating with src=en (attempt 1): the JSON object must be str, bytes or bytearray, not NoneType\n",
      "Error translating with src=en (attempt 2): the JSON object must be str, bytes or bytearray, not NoneType\n",
      "🔁 Attempting sentence split and translation...\n"
     ]
    },
    {
     "name": "stderr",
     "output_type": "stream",
     "text": [
      "Translating:  13%|█████▋                                       | 209/1668 [06:32<1:02:18,  2.56s/it]"
     ]
    },
    {
     "name": "stdout",
     "output_type": "stream",
     "text": [
      "result sent successfully\n",
      "Error translating with src=en (attempt 1): the JSON object must be str, bytes or bytearray, not NoneType\n",
      "Error translating with src=en (attempt 2): the JSON object must be str, bytes or bytearray, not NoneType\n",
      "🔁 Attempting sentence split and translation...\n"
     ]
    },
    {
     "name": "stderr",
     "output_type": "stream",
     "text": [
      "Translating:  13%|█████▉                                         | 211/1668 [06:37<57:58,  2.39s/it]"
     ]
    },
    {
     "name": "stdout",
     "output_type": "stream",
     "text": [
      "result sent successfully\n",
      "Error translating with src=en (attempt 1): the JSON object must be str, bytes or bytearray, not NoneType\n",
      "Error translating with src=en (attempt 2): the JSON object must be str, bytes or bytearray, not NoneType\n",
      "🔁 Attempting sentence split and translation...\n"
     ]
    },
    {
     "name": "stderr",
     "output_type": "stream",
     "text": [
      "Translating:  13%|██████                                         | 213/1668 [06:43<56:31,  2.33s/it]"
     ]
    },
    {
     "name": "stdout",
     "output_type": "stream",
     "text": [
      "result sent successfully\n",
      "Error translating with src=en (attempt 1): the JSON object must be str, bytes or bytearray, not NoneType\n",
      "Error translating with src=en (attempt 2): the JSON object must be str, bytes or bytearray, not NoneType\n",
      "🔁 Attempting sentence split and translation...\n"
     ]
    },
    {
     "name": "stderr",
     "output_type": "stream",
     "text": [
      "Translating:  13%|██████                                         | 215/1668 [06:48<55:01,  2.27s/it]"
     ]
    },
    {
     "name": "stdout",
     "output_type": "stream",
     "text": [
      "result sent successfully\n"
     ]
    },
    {
     "name": "stderr",
     "output_type": "stream",
     "text": [
      "Translating:  13%|██████▏                                        | 218/1668 [06:48<20:47,  1.16it/s]"
     ]
    },
    {
     "name": "stdout",
     "output_type": "stream",
     "text": [
      "Error translating with src=en (attempt 1): the JSON object must be str, bytes or bytearray, not NoneType\n",
      "Error translating with src=en (attempt 2): the JSON object must be str, bytes or bytearray, not NoneType\n",
      "🔁 Attempting sentence split and translation...\n"
     ]
    },
    {
     "name": "stderr",
     "output_type": "stream",
     "text": [
      "Translating:  13%|██████▏                                        | 220/1668 [06:53<36:11,  1.50s/it]"
     ]
    },
    {
     "name": "stdout",
     "output_type": "stream",
     "text": [
      "result sent successfully\n"
     ]
    },
    {
     "name": "stderr",
     "output_type": "stream",
     "text": [
      "Translating:  14%|██████▍                                        | 227/1668 [06:55<07:12,  3.33it/s]"
     ]
    },
    {
     "name": "stdout",
     "output_type": "stream",
     "text": [
      "Error translating with src=en (attempt 1): the JSON object must be str, bytes or bytearray, not NoneType\n",
      "Error translating with src=en (attempt 2): the JSON object must be str, bytes or bytearray, not NoneType\n",
      "🔁 Attempting sentence split and translation...\n"
     ]
    },
    {
     "name": "stderr",
     "output_type": "stream",
     "text": [
      "Translating:  14%|██████▍                                        | 228/1668 [07:00<40:38,  1.69s/it]"
     ]
    },
    {
     "name": "stdout",
     "output_type": "stream",
     "text": [
      "result sent successfully\n"
     ]
    },
    {
     "name": "stderr",
     "output_type": "stream",
     "text": [
      "Translating:  14%|██████▌                                        | 231/1668 [07:00<17:13,  1.39it/s]"
     ]
    },
    {
     "name": "stdout",
     "output_type": "stream",
     "text": [
      "Error translating with src=en (attempt 1): the JSON object must be str, bytes or bytearray, not NoneType\n",
      "Error translating with src=en (attempt 2): the JSON object must be str, bytes or bytearray, not NoneType\n",
      "🔁 Attempting sentence split and translation...\n"
     ]
    },
    {
     "name": "stderr",
     "output_type": "stream",
     "text": [
      "Translating:  14%|██████▌                                        | 233/1668 [07:06<36:21,  1.52s/it]"
     ]
    },
    {
     "name": "stdout",
     "output_type": "stream",
     "text": [
      "result sent successfully\n"
     ]
    },
    {
     "name": "stderr",
     "output_type": "stream",
     "text": [
      "Translating:  14%|██████▌                                        | 235/1668 [07:06<19:21,  1.23it/s]"
     ]
    },
    {
     "name": "stdout",
     "output_type": "stream",
     "text": [
      "Error translating with src=en (attempt 1): the JSON object must be str, bytes or bytearray, not NoneType\n",
      "Error translating with src=en (attempt 2): the JSON object must be str, bytes or bytearray, not NoneType\n",
      "🔁 Attempting sentence split and translation...\n"
     ]
    },
    {
     "name": "stderr",
     "output_type": "stream",
     "text": [
      "Translating:  14%|██████▋                                        | 236/1668 [07:11<50:04,  2.10s/it]"
     ]
    },
    {
     "name": "stdout",
     "output_type": "stream",
     "text": [
      "result sent successfully\n"
     ]
    },
    {
     "name": "stderr",
     "output_type": "stream",
     "text": [
      "Translating:  14%|██████▋                                        | 239/1668 [07:12<21:14,  1.12it/s]"
     ]
    },
    {
     "name": "stdout",
     "output_type": "stream",
     "text": [
      "Error translating with src=en (attempt 1): the JSON object must be str, bytes or bytearray, not NoneType\n",
      "Error translating with src=en (attempt 2): the JSON object must be str, bytes or bytearray, not NoneType\n",
      "🔁 Attempting sentence split and translation...\n"
     ]
    },
    {
     "name": "stderr",
     "output_type": "stream",
     "text": [
      "Translating:  14%|██████▊                                        | 240/1668 [07:17<49:59,  2.10s/it]"
     ]
    },
    {
     "name": "stdout",
     "output_type": "stream",
     "text": [
      "result sent successfully\n"
     ]
    },
    {
     "name": "stderr",
     "output_type": "stream",
     "text": [
      "Translating:  15%|██████▊                                        | 242/1668 [07:17<27:43,  1.17s/it]"
     ]
    },
    {
     "name": "stdout",
     "output_type": "stream",
     "text": [
      "Error translating with src=en (attempt 1): the JSON object must be str, bytes or bytearray, not NoneType\n",
      "Error translating with src=en (attempt 2): the JSON object must be str, bytes or bytearray, not NoneType\n",
      "🔁 Attempting sentence split and translation...\n"
     ]
    },
    {
     "name": "stderr",
     "output_type": "stream",
     "text": [
      "Translating:  15%|██████▊                                        | 243/1668 [07:23<55:53,  2.35s/it]"
     ]
    },
    {
     "name": "stdout",
     "output_type": "stream",
     "text": [
      "result sent successfully\n"
     ]
    },
    {
     "name": "stderr",
     "output_type": "stream",
     "text": [
      "Translating:  15%|██████▉                                        | 246/1668 [07:24<27:40,  1.17s/it]"
     ]
    },
    {
     "name": "stdout",
     "output_type": "stream",
     "text": [
      "Error translating with src=en (attempt 1): the JSON object must be str, bytes or bytearray, not NoneType\n",
      "Error translating with src=en (attempt 2): the JSON object must be str, bytes or bytearray, not NoneType\n",
      "🔁 Attempting sentence split and translation...\n"
     ]
    },
    {
     "name": "stderr",
     "output_type": "stream",
     "text": [
      "Translating:  15%|██████▉                                        | 248/1668 [07:30<39:36,  1.67s/it]"
     ]
    },
    {
     "name": "stdout",
     "output_type": "stream",
     "text": [
      "result sent successfully\n"
     ]
    },
    {
     "name": "stderr",
     "output_type": "stream",
     "text": [
      "Translating:  15%|███████                                        | 251/1668 [07:30<16:03,  1.47it/s]"
     ]
    },
    {
     "name": "stdout",
     "output_type": "stream",
     "text": [
      "Error translating with src=en (attempt 1): the JSON object must be str, bytes or bytearray, not NoneType\n",
      "Error translating with src=en (attempt 2): the JSON object must be str, bytes or bytearray, not NoneType\n",
      "🔁 Attempting sentence split and translation...\n"
     ]
    },
    {
     "name": "stderr",
     "output_type": "stream",
     "text": [
      "Translating:  15%|███████▏                                       | 253/1668 [07:35<34:38,  1.47s/it]"
     ]
    },
    {
     "name": "stdout",
     "output_type": "stream",
     "text": [
      "result sent successfully\n",
      "Error translating with src=en (attempt 1): the JSON object must be str, bytes or bytearray, not NoneType\n",
      "Error translating with src=en (attempt 2): the JSON object must be str, bytes or bytearray, not NoneType\n",
      "🔁 Attempting sentence split and translation...\n"
     ]
    },
    {
     "name": "stderr",
     "output_type": "stream",
     "text": [
      "Translating:  15%|███████▏                                       | 255/1668 [07:41<43:35,  1.85s/it]"
     ]
    },
    {
     "name": "stdout",
     "output_type": "stream",
     "text": [
      "result sent successfully\n"
     ]
    },
    {
     "name": "stderr",
     "output_type": "stream",
     "text": [
      "Translating:  15%|███████▎                                       | 258/1668 [07:41<18:28,  1.27it/s]"
     ]
    },
    {
     "name": "stdout",
     "output_type": "stream",
     "text": [
      "Error translating with src=en (attempt 1): the JSON object must be str, bytes or bytearray, not NoneType\n",
      "Error translating with src=en (attempt 2): the JSON object must be str, bytes or bytearray, not NoneType\n",
      "🔁 Attempting sentence split and translation...\n"
     ]
    },
    {
     "name": "stderr",
     "output_type": "stream",
     "text": [
      "Translating:  16%|███████▎                                       | 259/1668 [07:47<52:15,  2.23s/it]"
     ]
    },
    {
     "name": "stdout",
     "output_type": "stream",
     "text": [
      "result sent successfully\n"
     ]
    },
    {
     "name": "stderr",
     "output_type": "stream",
     "text": [
      "Translating:  16%|███████▎                                       | 260/1668 [07:47<38:27,  1.64s/it]"
     ]
    },
    {
     "name": "stdout",
     "output_type": "stream",
     "text": [
      "Error translating with src=en (attempt 1): the JSON object must be str, bytes or bytearray, not NoneType\n",
      "Error translating with src=en (attempt 2): the JSON object must be str, bytes or bytearray, not NoneType\n",
      "🔁 Attempting sentence split and translation...\n"
     ]
    },
    {
     "name": "stderr",
     "output_type": "stream",
     "text": [
      "Translating:  16%|███████                                      | 261/1668 [07:52<1:02:44,  2.68s/it]"
     ]
    },
    {
     "name": "stdout",
     "output_type": "stream",
     "text": [
      "result sent successfully\n"
     ]
    },
    {
     "name": "stderr",
     "output_type": "stream",
     "text": [
      "Translating:  16%|███████▍                                       | 262/1668 [07:53<46:49,  2.00s/it]"
     ]
    },
    {
     "name": "stdout",
     "output_type": "stream",
     "text": [
      "Error translating with src=en (attempt 1): the JSON object must be str, bytes or bytearray, not NoneType\n",
      "Error translating with src=en (attempt 2): the JSON object must be str, bytes or bytearray, not NoneType\n",
      "🔁 Attempting sentence split and translation...\n"
     ]
    },
    {
     "name": "stderr",
     "output_type": "stream",
     "text": [
      "Translating:  16%|███████                                      | 263/1668 [07:58<1:11:51,  3.07s/it]"
     ]
    },
    {
     "name": "stdout",
     "output_type": "stream",
     "text": [
      "result sent successfully\n",
      "Error translating with src=en (attempt 1): the JSON object must be str, bytes or bytearray, not NoneType\n",
      "Error translating with src=en (attempt 2): the JSON object must be str, bytes or bytearray, not NoneType\n",
      "🔁 Attempting sentence split and translation...\n"
     ]
    },
    {
     "name": "stderr",
     "output_type": "stream",
     "text": [
      "Translating:  16%|███████                                      | 264/1668 [08:03<1:25:55,  3.67s/it]"
     ]
    },
    {
     "name": "stdout",
     "output_type": "stream",
     "text": [
      "result sent successfully\n",
      "Error translating with src=en (attempt 1): the JSON object must be str, bytes or bytearray, not NoneType\n",
      "Error translating with src=en (attempt 2): the JSON object must be str, bytes or bytearray, not NoneType\n",
      "🔁 Attempting sentence split and translation...\n"
     ]
    },
    {
     "name": "stderr",
     "output_type": "stream",
     "text": [
      "Translating:  16%|███████▏                                     | 265/1668 [08:09<1:35:55,  4.10s/it]"
     ]
    },
    {
     "name": "stdout",
     "output_type": "stream",
     "text": [
      "result sent successfully\n",
      "Error translating with src=en (attempt 1): the JSON object must be str, bytes or bytearray, not NoneType\n",
      "Error translating with src=en (attempt 2): the JSON object must be str, bytes or bytearray, not NoneType\n",
      "🔁 Attempting sentence split and translation...\n"
     ]
    },
    {
     "name": "stderr",
     "output_type": "stream",
     "text": [
      "Translating:  16%|███████▏                                     | 267/1668 [08:14<1:12:56,  3.12s/it]"
     ]
    },
    {
     "name": "stdout",
     "output_type": "stream",
     "text": [
      "result sent successfully\n",
      "Error translating with src=en (attempt 1): the JSON object must be str, bytes or bytearray, not NoneType\n",
      "Error translating with src=en (attempt 2): the JSON object must be str, bytes or bytearray, not NoneType\n",
      "🔁 Attempting sentence split and translation...\n"
     ]
    },
    {
     "name": "stderr",
     "output_type": "stream",
     "text": [
      "Translating:  16%|███████▏                                     | 268/1668 [08:19<1:28:48,  3.81s/it]"
     ]
    },
    {
     "name": "stdout",
     "output_type": "stream",
     "text": [
      "result sent successfully\n",
      "Error translating with src=en (attempt 1): the JSON object must be str, bytes or bytearray, not NoneType\n",
      "Error translating with src=en (attempt 2): the JSON object must be str, bytes or bytearray, not NoneType\n",
      "🔁 Attempting sentence split and translation...\n"
     ]
    },
    {
     "name": "stderr",
     "output_type": "stream",
     "text": [
      "Translating:  16%|███████▎                                     | 270/1668 [08:25<1:09:50,  3.00s/it]"
     ]
    },
    {
     "name": "stdout",
     "output_type": "stream",
     "text": [
      "result sent successfully\n",
      "Error translating with src=en (attempt 1): the JSON object must be str, bytes or bytearray, not NoneType\n",
      "Error translating with src=en (attempt 2): the JSON object must be str, bytes or bytearray, not NoneType\n",
      "🔁 Attempting sentence split and translation...\n"
     ]
    },
    {
     "name": "stderr",
     "output_type": "stream",
     "text": [
      "Translating:  16%|███████▎                                     | 271/1668 [08:29<1:23:11,  3.57s/it]"
     ]
    },
    {
     "name": "stdout",
     "output_type": "stream",
     "text": [
      "result sent successfully\n",
      "Error translating with src=en (attempt 1): the JSON object must be str, bytes or bytearray, not NoneType\n",
      "Error translating with src=en (attempt 2): the JSON object must be str, bytes or bytearray, not NoneType\n",
      "🔁 Attempting sentence split and translation...\n"
     ]
    },
    {
     "name": "stderr",
     "output_type": "stream",
     "text": [
      "Translating:  16%|███████▎                                     | 273/1668 [08:34<1:05:35,  2.82s/it]"
     ]
    },
    {
     "name": "stdout",
     "output_type": "stream",
     "text": [
      "result sent successfully\n",
      "Error translating with src=en (attempt 1): the JSON object must be str, bytes or bytearray, not NoneType\n",
      "Error translating with src=en (attempt 2): the JSON object must be str, bytes or bytearray, not NoneType\n",
      "🔁 Attempting sentence split and translation...\n"
     ]
    },
    {
     "name": "stderr",
     "output_type": "stream",
     "text": [
      "Translating:  16%|███████▍                                     | 274/1668 [08:40<1:22:16,  3.54s/it]"
     ]
    },
    {
     "name": "stdout",
     "output_type": "stream",
     "text": [
      "result sent successfully\n"
     ]
    },
    {
     "name": "stderr",
     "output_type": "stream",
     "text": [
      "Translating:  17%|███████▊                                       | 279/1668 [08:41<16:25,  1.41it/s]"
     ]
    },
    {
     "name": "stdout",
     "output_type": "stream",
     "text": [
      "Error translating with src=en (attempt 1): the JSON object must be str, bytes or bytearray, not NoneType\n",
      "Error translating with src=en (attempt 2): the JSON object must be str, bytes or bytearray, not NoneType\n",
      "🔁 Attempting sentence split and translation...\n"
     ]
    },
    {
     "name": "stderr",
     "output_type": "stream",
     "text": [
      "Translating:  17%|███████▉                                       | 281/1668 [08:46<34:16,  1.48s/it]"
     ]
    },
    {
     "name": "stdout",
     "output_type": "stream",
     "text": [
      "result sent successfully\n"
     ]
    },
    {
     "name": "stderr",
     "output_type": "stream",
     "text": [
      "Translating:  17%|████████                                       | 285/1668 [08:47<12:43,  1.81it/s]"
     ]
    },
    {
     "name": "stdout",
     "output_type": "stream",
     "text": [
      "Error translating with src=en (attempt 1): the JSON object must be str, bytes or bytearray, not NoneType\n",
      "Error translating with src=en (attempt 2): the JSON object must be str, bytes or bytearray, not NoneType\n",
      "🔁 Attempting sentence split and translation...\n"
     ]
    },
    {
     "name": "stderr",
     "output_type": "stream",
     "text": [
      "Translating:  17%|████████                                       | 286/1668 [08:52<46:08,  2.00s/it]"
     ]
    },
    {
     "name": "stdout",
     "output_type": "stream",
     "text": [
      "result sent successfully\n"
     ]
    },
    {
     "name": "stderr",
     "output_type": "stream",
     "text": [
      "Translating:  17%|████████                                       | 288/1668 [08:53<26:31,  1.15s/it]"
     ]
    },
    {
     "name": "stdout",
     "output_type": "stream",
     "text": [
      "Error translating with src=en (attempt 1): the JSON object must be str, bytes or bytearray, not NoneType\n",
      "Error translating with src=en (attempt 2): the JSON object must be str, bytes or bytearray, not NoneType\n",
      "🔁 Attempting sentence split and translation...\n"
     ]
    },
    {
     "name": "stderr",
     "output_type": "stream",
     "text": [
      "Translating:  17%|████████▏                                      | 289/1668 [08:58<53:33,  2.33s/it]"
     ]
    },
    {
     "name": "stdout",
     "output_type": "stream",
     "text": [
      "result sent successfully\n",
      "Error translating with src=en (attempt 1): the JSON object must be str, bytes or bytearray, not NoneType\n",
      "Error translating with src=en (attempt 2): the JSON object must be str, bytes or bytearray, not NoneType\n",
      "🔁 Attempting sentence split and translation...\n"
     ]
    },
    {
     "name": "stderr",
     "output_type": "stream",
     "text": [
      "Translating:  17%|███████▊                                     | 290/1668 [09:03<1:13:44,  3.21s/it]"
     ]
    },
    {
     "name": "stdout",
     "output_type": "stream",
     "text": [
      "result sent successfully\n"
     ]
    },
    {
     "name": "stderr",
     "output_type": "stream",
     "text": [
      "Translating:  18%|████████▎                                      | 293/1668 [09:04<27:24,  1.20s/it]"
     ]
    },
    {
     "name": "stdout",
     "output_type": "stream",
     "text": [
      "Error translating with src=en (attempt 1): the JSON object must be str, bytes or bytearray, not NoneType\n",
      "Error translating with src=en (attempt 2): the JSON object must be str, bytes or bytearray, not NoneType\n",
      "🔁 Attempting sentence split and translation...\n"
     ]
    },
    {
     "name": "stderr",
     "output_type": "stream",
     "text": [
      "Translating:  18%|████████▎                                      | 294/1668 [09:09<55:04,  2.41s/it]"
     ]
    },
    {
     "name": "stdout",
     "output_type": "stream",
     "text": [
      "result sent successfully\n"
     ]
    },
    {
     "name": "stderr",
     "output_type": "stream",
     "text": [
      "Translating:  18%|████████▎                                      | 296/1668 [09:09<28:56,  1.27s/it]"
     ]
    },
    {
     "name": "stdout",
     "output_type": "stream",
     "text": [
      "Error translating with src=en (attempt 1): the JSON object must be str, bytes or bytearray, not NoneType\n",
      "Error translating with src=en (attempt 2): the JSON object must be str, bytes or bytearray, not NoneType\n",
      "🔁 Attempting sentence split and translation...\n"
     ]
    },
    {
     "name": "stderr",
     "output_type": "stream",
     "text": [
      "Translating:  18%|████████▎                                      | 297/1668 [09:15<56:30,  2.47s/it]"
     ]
    },
    {
     "name": "stdout",
     "output_type": "stream",
     "text": [
      "result sent successfully\n",
      "Error translating with src=en (attempt 1): the JSON object must be str, bytes or bytearray, not NoneType\n",
      "Error translating with src=en (attempt 2): the JSON object must be str, bytes or bytearray, not NoneType\n",
      "🔁 Attempting sentence split and translation...\n"
     ]
    },
    {
     "name": "stderr",
     "output_type": "stream",
     "text": [
      "Translating:  18%|████████▍                                      | 299/1668 [09:20<52:16,  2.29s/it]"
     ]
    },
    {
     "name": "stdout",
     "output_type": "stream",
     "text": [
      "result sent successfully\n",
      "Error translating with src=en (attempt 1): the JSON object must be str, bytes or bytearray, not NoneType\n",
      "Error translating with src=en (attempt 2): the JSON object must be str, bytes or bytearray, not NoneType\n",
      "🔁 Attempting sentence split and translation...\n"
     ]
    },
    {
     "name": "stderr",
     "output_type": "stream",
     "text": [
      "Translating:  18%|████████                                     | 300/1668 [09:25<1:11:09,  3.12s/it]"
     ]
    },
    {
     "name": "stdout",
     "output_type": "stream",
     "text": [
      "result sent successfully\n",
      "Error translating with src=en (attempt 1): the JSON object must be str, bytes or bytearray, not NoneType\n",
      "Error translating with src=en (attempt 2): the JSON object must be str, bytes or bytearray, not NoneType\n",
      "🔁 Attempting sentence split and translation...\n"
     ]
    },
    {
     "name": "stderr",
     "output_type": "stream",
     "text": [
      "Translating:  18%|████████▏                                    | 302/1668 [09:30<1:00:46,  2.67s/it]"
     ]
    },
    {
     "name": "stdout",
     "output_type": "stream",
     "text": [
      "result sent successfully\n"
     ]
    },
    {
     "name": "stderr",
     "output_type": "stream",
     "text": [
      "Translating:  19%|████████▊                                      | 314/1668 [09:33<06:34,  3.44it/s]"
     ]
    },
    {
     "name": "stdout",
     "output_type": "stream",
     "text": [
      "Error translating with src=en (attempt 1): the JSON object must be str, bytes or bytearray, not NoneType\n",
      "Error translating with src=en (attempt 2): the JSON object must be str, bytes or bytearray, not NoneType\n",
      "🔁 Attempting sentence split and translation...\n"
     ]
    },
    {
     "name": "stderr",
     "output_type": "stream",
     "text": [
      "Translating:  19%|████████▉                                      | 316/1668 [09:39<27:16,  1.21s/it]"
     ]
    },
    {
     "name": "stdout",
     "output_type": "stream",
     "text": [
      "result sent successfully\n"
     ]
    },
    {
     "name": "stderr",
     "output_type": "stream",
     "text": [
      "Translating:  19%|█████████                                      | 323/1668 [09:40<07:42,  2.91it/s]"
     ]
    },
    {
     "name": "stdout",
     "output_type": "stream",
     "text": [
      "Error translating with src=en (attempt 1): the JSON object must be str, bytes or bytearray, not NoneType\n",
      "Error translating with src=en (attempt 2): the JSON object must be str, bytes or bytearray, not NoneType\n",
      "🔁 Attempting sentence split and translation...\n"
     ]
    },
    {
     "name": "stderr",
     "output_type": "stream",
     "text": [
      "Translating:  19%|█████████▏                                     | 325/1668 [09:45<27:48,  1.24s/it]"
     ]
    },
    {
     "name": "stdout",
     "output_type": "stream",
     "text": [
      "result sent successfully\n"
     ]
    },
    {
     "name": "stderr",
     "output_type": "stream",
     "text": [
      "Translating:  20%|█████████▏                                     | 326/1668 [09:45<20:11,  1.11it/s]"
     ]
    },
    {
     "name": "stdout",
     "output_type": "stream",
     "text": [
      "Error translating with src=en (attempt 1): the JSON object must be str, bytes or bytearray, not NoneType\n",
      "Error translating with src=en (attempt 2): the JSON object must be str, bytes or bytearray, not NoneType\n",
      "🔁 Attempting sentence split and translation...\n"
     ]
    },
    {
     "name": "stderr",
     "output_type": "stream",
     "text": [
      "Translating:  20%|█████████▏                                     | 328/1668 [09:50<34:19,  1.54s/it]"
     ]
    },
    {
     "name": "stdout",
     "output_type": "stream",
     "text": [
      "result sent successfully\n"
     ]
    },
    {
     "name": "stderr",
     "output_type": "stream",
     "text": [
      "Translating:  20%|█████████▎                                     | 332/1668 [09:51<10:16,  2.17it/s]"
     ]
    },
    {
     "name": "stdout",
     "output_type": "stream",
     "text": [
      "Error translating with src=en (attempt 1): the JSON object must be str, bytes or bytearray, not NoneType\n",
      "Error translating with src=en (attempt 2): the JSON object must be str, bytes or bytearray, not NoneType\n",
      "🔁 Attempting sentence split and translation...\n"
     ]
    },
    {
     "name": "stderr",
     "output_type": "stream",
     "text": [
      "Translating:  20%|█████████▍                                     | 333/1668 [09:56<40:06,  1.80s/it]"
     ]
    },
    {
     "name": "stdout",
     "output_type": "stream",
     "text": [
      "result sent successfully\n"
     ]
    },
    {
     "name": "stderr",
     "output_type": "stream",
     "text": [
      "Translating:  20%|█████████▌                                     | 339/1668 [09:57<09:42,  2.28it/s]"
     ]
    },
    {
     "name": "stdout",
     "output_type": "stream",
     "text": [
      "Error translating with src=en (attempt 1): the JSON object must be str, bytes or bytearray, not NoneType\n",
      "Error translating with src=en (attempt 2): the JSON object must be str, bytes or bytearray, not NoneType\n",
      "🔁 Attempting sentence split and translation...\n"
     ]
    },
    {
     "name": "stderr",
     "output_type": "stream",
     "text": [
      "Translating:  20%|█████████▌                                     | 341/1668 [10:02<28:32,  1.29s/it]"
     ]
    },
    {
     "name": "stdout",
     "output_type": "stream",
     "text": [
      "result sent successfully\n"
     ]
    },
    {
     "name": "stderr",
     "output_type": "stream",
     "text": [
      "Translating:  21%|█████████▋                                     | 342/1668 [10:02<20:41,  1.07it/s]"
     ]
    },
    {
     "name": "stdout",
     "output_type": "stream",
     "text": [
      "Error translating with src=en (attempt 1): the JSON object must be str, bytes or bytearray, not NoneType\n",
      "Error translating with src=en (attempt 2): the JSON object must be str, bytes or bytearray, not NoneType\n",
      "🔁 Attempting sentence split and translation...\n"
     ]
    },
    {
     "name": "stderr",
     "output_type": "stream",
     "text": [
      "Translating:  21%|█████████▋                                     | 343/1668 [10:08<49:02,  2.22s/it]"
     ]
    },
    {
     "name": "stdout",
     "output_type": "stream",
     "text": [
      "result sent successfully\n"
     ]
    },
    {
     "name": "stderr",
     "output_type": "stream",
     "text": [
      "Translating:  21%|█████████▋                                     | 344/1668 [10:08<37:06,  1.68s/it]"
     ]
    },
    {
     "name": "stdout",
     "output_type": "stream",
     "text": [
      "Error translating with src=en (attempt 1): the JSON object must be str, bytes or bytearray, not NoneType\n",
      "Error translating with src=en (attempt 2): the JSON object must be str, bytes or bytearray, not NoneType\n",
      "🔁 Attempting sentence split and translation...\n"
     ]
    },
    {
     "name": "stderr",
     "output_type": "stream",
     "text": [
      "Translating:  21%|█████████▋                                     | 346/1668 [10:13<41:52,  1.90s/it]"
     ]
    },
    {
     "name": "stdout",
     "output_type": "stream",
     "text": [
      "result sent successfully\n",
      "Error translating with src=en (attempt 1): the JSON object must be str, bytes or bytearray, not NoneType\n",
      "Error translating with src=en (attempt 2): the JSON object must be str, bytes or bytearray, not NoneType\n",
      "🔁 Attempting sentence split and translation...\n"
     ]
    },
    {
     "name": "stderr",
     "output_type": "stream",
     "text": [
      "Translating:  21%|█████████▊                                     | 348/1668 [10:18<44:45,  2.03s/it]"
     ]
    },
    {
     "name": "stdout",
     "output_type": "stream",
     "text": [
      "result sent successfully\n",
      "Error translating with src=en (attempt 1): the JSON object must be str, bytes or bytearray, not NoneType\n",
      "Error translating with src=en (attempt 2): the JSON object must be str, bytes or bytearray, not NoneType\n",
      "🔁 Attempting sentence split and translation...\n"
     ]
    },
    {
     "name": "stderr",
     "output_type": "stream",
     "text": [
      "Translating:  21%|█████████▍                                   | 349/1668 [10:23<1:05:02,  2.96s/it]"
     ]
    },
    {
     "name": "stdout",
     "output_type": "stream",
     "text": [
      "result sent successfully\n"
     ]
    },
    {
     "name": "stderr",
     "output_type": "stream",
     "text": [
      "Translating:  21%|█████████▉                                     | 352/1668 [10:24<24:39,  1.12s/it]"
     ]
    },
    {
     "name": "stdout",
     "output_type": "stream",
     "text": [
      "Error translating with src=en (attempt 1): the JSON object must be str, bytes or bytearray, not NoneType\n",
      "Error translating with src=en (attempt 2): the JSON object must be str, bytes or bytearray, not NoneType\n",
      "🔁 Attempting sentence split and translation...\n"
     ]
    },
    {
     "name": "stderr",
     "output_type": "stream",
     "text": [
      "Translating:  21%|█████████▉                                     | 353/1668 [10:29<49:51,  2.28s/it]"
     ]
    },
    {
     "name": "stdout",
     "output_type": "stream",
     "text": [
      "result sent successfully\n",
      "Error translating with src=en (attempt 1): the JSON object must be str, bytes or bytearray, not NoneType\n",
      "Error translating with src=en (attempt 2): the JSON object must be str, bytes or bytearray, not NoneType\n",
      "🔁 Attempting sentence split and translation...\n"
     ]
    },
    {
     "name": "stderr",
     "output_type": "stream",
     "text": [
      "Translating:  21%|█████████▌                                   | 354/1668 [10:34<1:07:22,  3.08s/it]"
     ]
    },
    {
     "name": "stdout",
     "output_type": "stream",
     "text": [
      "result sent successfully\n",
      "Error translating with src=en (attempt 1): the JSON object must be str, bytes or bytearray, not NoneType\n",
      "Error translating with src=en (attempt 2): the JSON object must be str, bytes or bytearray, not NoneType\n",
      "🔁 Attempting sentence split and translation...\n"
     ]
    },
    {
     "name": "stderr",
     "output_type": "stream",
     "text": [
      "Translating:  21%|█████████▌                                   | 355/1668 [10:39<1:19:37,  3.64s/it]"
     ]
    },
    {
     "name": "stdout",
     "output_type": "stream",
     "text": [
      "result sent successfully\n",
      "Error translating with src=en (attempt 1): the JSON object must be str, bytes or bytearray, not NoneType\n",
      "Error translating with src=en (attempt 2): the JSON object must be str, bytes or bytearray, not NoneType\n",
      "🔁 Attempting sentence split and translation...\n"
     ]
    },
    {
     "name": "stderr",
     "output_type": "stream",
     "text": [
      "Translating:  21%|█████████▋                                   | 357/1668 [10:44<1:02:29,  2.86s/it]"
     ]
    },
    {
     "name": "stdout",
     "output_type": "stream",
     "text": [
      "result sent successfully\n"
     ]
    },
    {
     "name": "stderr",
     "output_type": "stream",
     "text": [
      "Translating:  22%|██████████▏                                    | 360/1668 [10:44<24:11,  1.11s/it]"
     ]
    },
    {
     "name": "stdout",
     "output_type": "stream",
     "text": [
      "Error translating with src=en (attempt 1): the JSON object must be str, bytes or bytearray, not NoneType\n",
      "Error translating with src=en (attempt 2): the JSON object must be str, bytes or bytearray, not NoneType\n",
      "🔁 Attempting sentence split and translation...\n"
     ]
    },
    {
     "name": "stderr",
     "output_type": "stream",
     "text": [
      "Translating:  22%|██████████▏                                    | 361/1668 [10:50<54:15,  2.49s/it]"
     ]
    },
    {
     "name": "stdout",
     "output_type": "stream",
     "text": [
      "result sent successfully\n",
      "Error translating with src=en (attempt 1): the JSON object must be str, bytes or bytearray, not NoneType\n",
      "Error translating with src=en (attempt 2): the JSON object must be str, bytes or bytearray, not NoneType\n",
      "🔁 Attempting sentence split and translation...\n"
     ]
    },
    {
     "name": "stderr",
     "output_type": "stream",
     "text": [
      "Translating:  22%|█████████▊                                   | 362/1668 [10:55<1:12:23,  3.33s/it]"
     ]
    },
    {
     "name": "stdout",
     "output_type": "stream",
     "text": [
      "result sent successfully\n",
      "Error translating with src=en (attempt 1): the JSON object must be str, bytes or bytearray, not NoneType\n",
      "Error translating with src=en (attempt 2): the JSON object must be str, bytes or bytearray, not NoneType\n",
      "🔁 Attempting sentence split and translation...\n"
     ]
    },
    {
     "name": "stderr",
     "output_type": "stream",
     "text": [
      "Translating:  22%|██████████▎                                    | 364/1668 [11:01<58:37,  2.70s/it]"
     ]
    },
    {
     "name": "stdout",
     "output_type": "stream",
     "text": [
      "result sent successfully\n"
     ]
    },
    {
     "name": "stderr",
     "output_type": "stream",
     "text": [
      "Translating:  22%|██████████▍                                    | 369/1668 [11:01<12:17,  1.76it/s]"
     ]
    },
    {
     "name": "stdout",
     "output_type": "stream",
     "text": [
      "Error translating with src=en (attempt 1): the JSON object must be str, bytes or bytearray, not NoneType\n",
      "Error translating with src=en (attempt 2): the JSON object must be str, bytes or bytearray, not NoneType\n",
      "🔁 Attempting sentence split and translation...\n"
     ]
    },
    {
     "name": "stderr",
     "output_type": "stream",
     "text": [
      "Translating:  22%|██████████▍                                    | 371/1668 [11:07<30:35,  1.42s/it]"
     ]
    },
    {
     "name": "stdout",
     "output_type": "stream",
     "text": [
      "result sent successfully\n"
     ]
    },
    {
     "name": "stderr",
     "output_type": "stream",
     "text": [
      "Translating:  22%|██████████▌                                    | 374/1668 [11:07<14:33,  1.48it/s]"
     ]
    },
    {
     "name": "stdout",
     "output_type": "stream",
     "text": [
      "Error translating with src=en (attempt 1): the JSON object must be str, bytes or bytearray, not NoneType\n",
      "Error translating with src=en (attempt 2): the JSON object must be str, bytes or bytearray, not NoneType\n",
      "🔁 Attempting sentence split and translation...\n"
     ]
    },
    {
     "name": "stderr",
     "output_type": "stream",
     "text": [
      "Translating:  23%|██████████▌                                    | 376/1668 [11:13<30:09,  1.40s/it]"
     ]
    },
    {
     "name": "stdout",
     "output_type": "stream",
     "text": [
      "result sent successfully\n"
     ]
    },
    {
     "name": "stderr",
     "output_type": "stream",
     "text": [
      "Translating:  23%|██████████▋                                    | 380/1668 [11:13<10:10,  2.11it/s]"
     ]
    },
    {
     "name": "stdout",
     "output_type": "stream",
     "text": [
      "Error translating with src=en (attempt 1): the JSON object must be str, bytes or bytearray, not NoneType\n",
      "Error translating with src=en (attempt 2): the JSON object must be str, bytes or bytearray, not NoneType\n",
      "🔁 Attempting sentence split and translation...\n"
     ]
    },
    {
     "name": "stderr",
     "output_type": "stream",
     "text": [
      "Translating:  23%|██████████▋                                    | 381/1668 [11:19<41:40,  1.94s/it]"
     ]
    },
    {
     "name": "stdout",
     "output_type": "stream",
     "text": [
      "result sent successfully\n"
     ]
    },
    {
     "name": "stderr",
     "output_type": "stream",
     "text": [
      "Translating:  23%|██████████▉                                    | 386/1668 [11:20<12:46,  1.67it/s]"
     ]
    },
    {
     "name": "stdout",
     "output_type": "stream",
     "text": [
      "Error translating with src=en (attempt 1): the JSON object must be str, bytes or bytearray, not NoneType\n",
      "Error translating with src=en (attempt 2): the JSON object must be str, bytes or bytearray, not NoneType\n",
      "🔁 Attempting sentence split and translation...\n"
     ]
    },
    {
     "name": "stderr",
     "output_type": "stream",
     "text": [
      "Translating:  23%|██████████▉                                    | 387/1668 [11:25<40:29,  1.90s/it]"
     ]
    },
    {
     "name": "stdout",
     "output_type": "stream",
     "text": [
      "result sent successfully\n",
      "Error translating with src=en (attempt 1): the JSON object must be str, bytes or bytearray, not NoneType\n",
      "Error translating with src=en (attempt 2): the JSON object must be str, bytes or bytearray, not NoneType\n",
      "🔁 Attempting sentence split and translation...\n"
     ]
    },
    {
     "name": "stderr",
     "output_type": "stream",
     "text": [
      "Translating:  23%|██████████▍                                  | 388/1668 [11:30<1:00:00,  2.81s/it]"
     ]
    },
    {
     "name": "stdout",
     "output_type": "stream",
     "text": [
      "result sent successfully\n"
     ]
    },
    {
     "name": "stderr",
     "output_type": "stream",
     "text": [
      "Translating:  23%|███████████                                    | 391/1668 [11:31<22:50,  1.07s/it]"
     ]
    },
    {
     "name": "stdout",
     "output_type": "stream",
     "text": [
      "Error translating with src=en (attempt 1): the JSON object must be str, bytes or bytearray, not NoneType\n",
      "Error translating with src=en (attempt 2): the JSON object must be str, bytes or bytearray, not NoneType\n",
      "🔁 Attempting sentence split and translation...\n"
     ]
    },
    {
     "name": "stderr",
     "output_type": "stream",
     "text": [
      "Translating:  24%|███████████                                    | 393/1668 [11:36<34:01,  1.60s/it]"
     ]
    },
    {
     "name": "stdout",
     "output_type": "stream",
     "text": [
      "result sent successfully\n"
     ]
    },
    {
     "name": "stderr",
     "output_type": "stream",
     "text": [
      "Translating:  24%|███████████                                    | 394/1668 [11:36<24:34,  1.16s/it]"
     ]
    },
    {
     "name": "stdout",
     "output_type": "stream",
     "text": [
      "Error translating with src=en (attempt 1): the JSON object must be str, bytes or bytearray, not NoneType\n",
      "Error translating with src=en (attempt 2): the JSON object must be str, bytes or bytearray, not NoneType\n",
      "🔁 Attempting sentence split and translation...\n"
     ]
    },
    {
     "name": "stderr",
     "output_type": "stream",
     "text": [
      "Translating:  24%|███████████▏                                   | 396/1668 [11:41<35:23,  1.67s/it]"
     ]
    },
    {
     "name": "stdout",
     "output_type": "stream",
     "text": [
      "result sent successfully\n"
     ]
    },
    {
     "name": "stderr",
     "output_type": "stream",
     "text": [
      "Translating:  24%|███████████▏                                   | 397/1668 [11:41<25:37,  1.21s/it]"
     ]
    },
    {
     "name": "stdout",
     "output_type": "stream",
     "text": [
      "Error translating with src=en (attempt 1): the JSON object must be str, bytes or bytearray, not NoneType\n",
      "Error translating with src=en (attempt 2): the JSON object must be str, bytes or bytearray, not NoneType\n",
      "🔁 Attempting sentence split and translation...\n"
     ]
    },
    {
     "name": "stderr",
     "output_type": "stream",
     "text": [
      "Translating:  24%|███████████▏                                   | 398/1668 [11:46<50:19,  2.38s/it]"
     ]
    },
    {
     "name": "stdout",
     "output_type": "stream",
     "text": [
      "result sent successfully\n"
     ]
    },
    {
     "name": "stderr",
     "output_type": "stream",
     "text": [
      "Translating:  24%|███████████▎                                   | 400/1668 [11:47<27:19,  1.29s/it]"
     ]
    },
    {
     "name": "stdout",
     "output_type": "stream",
     "text": [
      "Error translating with src=en (attempt 1): the JSON object must be str, bytes or bytearray, not NoneType\n",
      "Error translating with src=en (attempt 2): the JSON object must be str, bytes or bytearray, not NoneType\n",
      "🔁 Attempting sentence split and translation...\n"
     ]
    },
    {
     "name": "stderr",
     "output_type": "stream",
     "text": [
      "Translating:  24%|███████████▎                                   | 402/1668 [11:53<40:20,  1.91s/it]"
     ]
    },
    {
     "name": "stdout",
     "output_type": "stream",
     "text": [
      "result sent successfully\n"
     ]
    },
    {
     "name": "stderr",
     "output_type": "stream",
     "text": [
      "Translating:  24%|███████████▍                                   | 405/1668 [11:54<16:05,  1.31it/s]"
     ]
    },
    {
     "name": "stdout",
     "output_type": "stream",
     "text": [
      "Error translating with src=en (attempt 1): the JSON object must be str, bytes or bytearray, not NoneType\n",
      "Error translating with src=en (attempt 2): the JSON object must be str, bytes or bytearray, not NoneType\n",
      "🔁 Attempting sentence split and translation...\n"
     ]
    },
    {
     "name": "stderr",
     "output_type": "stream",
     "text": [
      "Translating:  24%|███████████▍                                   | 406/1668 [11:58<42:18,  2.01s/it]"
     ]
    },
    {
     "name": "stdout",
     "output_type": "stream",
     "text": [
      "result sent successfully\n",
      "Error translating with src=en (attempt 1): the JSON object must be str, bytes or bytearray, not NoneType\n",
      "Error translating with src=en (attempt 2): the JSON object must be str, bytes or bytearray, not NoneType\n",
      "🔁 Attempting sentence split and translation...\n"
     ]
    },
    {
     "name": "stderr",
     "output_type": "stream",
     "text": [
      "Translating:  24%|██████████▉                                  | 407/1668 [12:04<1:01:35,  2.93s/it]"
     ]
    },
    {
     "name": "stdout",
     "output_type": "stream",
     "text": [
      "result sent successfully\n",
      "Error translating with src=en (attempt 1): the JSON object must be str, bytes or bytearray, not NoneType\n",
      "Error translating with src=en (attempt 2): the JSON object must be str, bytes or bytearray, not NoneType\n",
      "🔁 Attempting sentence split and translation...\n"
     ]
    },
    {
     "name": "stderr",
     "output_type": "stream",
     "text": [
      "Translating:  24%|███████████                                  | 408/1668 [12:09<1:15:04,  3.57s/it]"
     ]
    },
    {
     "name": "stdout",
     "output_type": "stream",
     "text": [
      "result sent successfully\n",
      "Error translating with src=en (attempt 1): the JSON object must be str, bytes or bytearray, not NoneType\n",
      "Error translating with src=en (attempt 2): the JSON object must be str, bytes or bytearray, not NoneType\n",
      "🔁 Attempting sentence split and translation...\n"
     ]
    },
    {
     "name": "stderr",
     "output_type": "stream",
     "text": [
      "Translating:  25%|███████████                                  | 409/1668 [12:14<1:25:31,  4.08s/it]"
     ]
    },
    {
     "name": "stdout",
     "output_type": "stream",
     "text": [
      "result sent successfully\n"
     ]
    },
    {
     "name": "stderr",
     "output_type": "stream",
     "text": [
      "Translating:  25%|███████████▌                                   | 411/1668 [12:14<43:55,  2.10s/it]"
     ]
    },
    {
     "name": "stdout",
     "output_type": "stream",
     "text": [
      "Error translating with src=en (attempt 1): the JSON object must be str, bytes or bytearray, not NoneType\n",
      "Error translating with src=en (attempt 2): the JSON object must be str, bytes or bytearray, not NoneType\n",
      "🔁 Attempting sentence split and translation...\n"
     ]
    },
    {
     "name": "stderr",
     "output_type": "stream",
     "text": [
      "Translating:  25%|███████████▋                                   | 413/1668 [12:19<43:42,  2.09s/it]"
     ]
    },
    {
     "name": "stdout",
     "output_type": "stream",
     "text": [
      "result sent successfully\n"
     ]
    },
    {
     "name": "stderr",
     "output_type": "stream",
     "text": [
      "Translating:  25%|███████████▋                                   | 416/1668 [12:20<17:57,  1.16it/s]"
     ]
    },
    {
     "name": "stdout",
     "output_type": "stream",
     "text": [
      "Error translating with src=en (attempt 1): the JSON object must be str, bytes or bytearray, not NoneType\n",
      "Error translating with src=en (attempt 2): the JSON object must be str, bytes or bytearray, not NoneType\n",
      "🔁 Attempting sentence split and translation...\n"
     ]
    },
    {
     "name": "stderr",
     "output_type": "stream",
     "text": [
      "Translating:  25%|███████████▊                                   | 417/1668 [12:25<43:39,  2.09s/it]"
     ]
    },
    {
     "name": "stdout",
     "output_type": "stream",
     "text": [
      "result sent successfully\n",
      "Error translating with src=en (attempt 1): the JSON object must be str, bytes or bytearray, not NoneType\n",
      "Error translating with src=en (attempt 2): the JSON object must be str, bytes or bytearray, not NoneType\n",
      "🔁 Attempting sentence split and translation...\n"
     ]
    },
    {
     "name": "stderr",
     "output_type": "stream",
     "text": [
      "Translating:  25%|███████████▊                                   | 419/1668 [12:31<46:08,  2.22s/it]"
     ]
    },
    {
     "name": "stdout",
     "output_type": "stream",
     "text": [
      "result sent successfully\n",
      "Error translating with src=en (attempt 1): the JSON object must be str, bytes or bytearray, not NoneType\n",
      "Error translating with src=en (attempt 2): the JSON object must be str, bytes or bytearray, not NoneType\n",
      "🔁 Attempting sentence split and translation...\n"
     ]
    },
    {
     "name": "stderr",
     "output_type": "stream",
     "text": [
      "Translating:  25%|███████████▎                                 | 420/1668 [12:36<1:05:55,  3.17s/it]"
     ]
    },
    {
     "name": "stdout",
     "output_type": "stream",
     "text": [
      "result sent successfully\n",
      "Error translating with src=en (attempt 1): the JSON object must be str, bytes or bytearray, not NoneType\n",
      "Error translating with src=en (attempt 2): the JSON object must be str, bytes or bytearray, not NoneType\n",
      "🔁 Attempting sentence split and translation...\n"
     ]
    },
    {
     "name": "stderr",
     "output_type": "stream",
     "text": [
      "Translating:  25%|███████████▉                                   | 422/1668 [12:41<55:33,  2.68s/it]"
     ]
    },
    {
     "name": "stdout",
     "output_type": "stream",
     "text": [
      "result sent successfully\n",
      "Error translating with src=en (attempt 1): the JSON object must be str, bytes or bytearray, not NoneType\n",
      "Error translating with src=en (attempt 2): the JSON object must be str, bytes or bytearray, not NoneType\n",
      "🔁 Attempting sentence split and translation...\n"
     ]
    },
    {
     "name": "stderr",
     "output_type": "stream",
     "text": [
      "Translating:  25%|███████████▍                                 | 423/1668 [12:46<1:09:32,  3.35s/it]"
     ]
    },
    {
     "name": "stdout",
     "output_type": "stream",
     "text": [
      "result sent successfully\n",
      "Error translating with src=en (attempt 1): the JSON object must be str, bytes or bytearray, not NoneType\n",
      "Error translating with src=en (attempt 2): the JSON object must be str, bytes or bytearray, not NoneType\n",
      "🔁 Attempting sentence split and translation...\n"
     ]
    },
    {
     "name": "stderr",
     "output_type": "stream",
     "text": [
      "Translating:  25%|███████████▉                                   | 425/1668 [12:51<56:14,  2.71s/it]"
     ]
    },
    {
     "name": "stdout",
     "output_type": "stream",
     "text": [
      "result sent successfully\n",
      "Error translating with src=en (attempt 1): the JSON object must be str, bytes or bytearray, not NoneType\n",
      "Error translating with src=en (attempt 2): the JSON object must be str, bytes or bytearray, not NoneType\n",
      "🔁 Attempting sentence split and translation...\n"
     ]
    },
    {
     "name": "stderr",
     "output_type": "stream",
     "text": [
      "Translating:  26%|███████████▍                                 | 426/1668 [12:56<1:09:56,  3.38s/it]"
     ]
    },
    {
     "name": "stdout",
     "output_type": "stream",
     "text": [
      "result sent successfully\n"
     ]
    },
    {
     "name": "stderr",
     "output_type": "stream",
     "text": [
      "Translating:  26%|████████████▏                                  | 433/1668 [12:58<08:51,  2.32it/s]"
     ]
    },
    {
     "name": "stdout",
     "output_type": "stream",
     "text": [
      "Error translating with src=en (attempt 1): the JSON object must be str, bytes or bytearray, not NoneType\n",
      "Error translating with src=en (attempt 2): the JSON object must be str, bytes or bytearray, not NoneType\n",
      "🔁 Attempting sentence split and translation...\n"
     ]
    },
    {
     "name": "stderr",
     "output_type": "stream",
     "text": [
      "Translating:  26%|████████████▏                                  | 434/1668 [13:03<37:39,  1.83s/it]"
     ]
    },
    {
     "name": "stdout",
     "output_type": "stream",
     "text": [
      "result sent successfully\n"
     ]
    },
    {
     "name": "stderr",
     "output_type": "stream",
     "text": [
      "Translating:  26%|████████████▎                                  | 437/1668 [13:03<15:53,  1.29it/s]"
     ]
    },
    {
     "name": "stdout",
     "output_type": "stream",
     "text": [
      "Error translating with src=en (attempt 1): the JSON object must be str, bytes or bytearray, not NoneType\n",
      "Error translating with src=en (attempt 2): the JSON object must be str, bytes or bytearray, not NoneType\n",
      "🔁 Attempting sentence split and translation...\n"
     ]
    },
    {
     "name": "stderr",
     "output_type": "stream",
     "text": [
      "Translating:  26%|████████████▎                                  | 439/1668 [13:09<29:49,  1.46s/it]"
     ]
    },
    {
     "name": "stdout",
     "output_type": "stream",
     "text": [
      "result sent successfully\n"
     ]
    },
    {
     "name": "stderr",
     "output_type": "stream",
     "text": [
      "Translating:  26%|████████████▍                                  | 441/1668 [13:09<16:30,  1.24it/s]"
     ]
    },
    {
     "name": "stdout",
     "output_type": "stream",
     "text": [
      "Error translating with src=en (attempt 1): the JSON object must be str, bytes or bytearray, not NoneType\n",
      "Error translating with src=en (attempt 2): the JSON object must be str, bytes or bytearray, not NoneType\n",
      "🔁 Attempting sentence split and translation...\n"
     ]
    },
    {
     "name": "stderr",
     "output_type": "stream",
     "text": [
      "Translating:  26%|████████████▍                                  | 442/1668 [13:14<43:35,  2.13s/it]"
     ]
    },
    {
     "name": "stdout",
     "output_type": "stream",
     "text": [
      "result sent successfully\n"
     ]
    },
    {
     "name": "stderr",
     "output_type": "stream",
     "text": [
      "Translating:  27%|████████████▌                                  | 445/1668 [13:15<17:24,  1.17it/s]"
     ]
    },
    {
     "name": "stdout",
     "output_type": "stream",
     "text": [
      "Error translating with src=en (attempt 1): the JSON object must be str, bytes or bytearray, not NoneType\n",
      "Error translating with src=en (attempt 2): the JSON object must be str, bytes or bytearray, not NoneType\n",
      "🔁 Attempting sentence split and translation...\n"
     ]
    },
    {
     "name": "stderr",
     "output_type": "stream",
     "text": [
      "Translating:  27%|████████████▌                                  | 447/1668 [13:20<32:34,  1.60s/it]"
     ]
    },
    {
     "name": "stdout",
     "output_type": "stream",
     "text": [
      "result sent successfully\n",
      "Error translating with src=en (attempt 1): the JSON object must be str, bytes or bytearray, not NoneType\n",
      "Error translating with src=en (attempt 2): the JSON object must be str, bytes or bytearray, not NoneType\n",
      "🔁 Attempting sentence split and translation...\n"
     ]
    },
    {
     "name": "stderr",
     "output_type": "stream",
     "text": [
      "Translating:  27%|████████████▌                                  | 448/1668 [13:26<58:25,  2.87s/it]"
     ]
    },
    {
     "name": "stdout",
     "output_type": "stream",
     "text": [
      "result sent successfully\n"
     ]
    },
    {
     "name": "stderr",
     "output_type": "stream",
     "text": [
      "Translating:  27%|████████████▋                                  | 450/1668 [13:27<30:27,  1.50s/it]"
     ]
    },
    {
     "name": "stdout",
     "output_type": "stream",
     "text": [
      "Error translating with src=en (attempt 1): the JSON object must be str, bytes or bytearray, not NoneType\n",
      "Error translating with src=en (attempt 2): the JSON object must be str, bytes or bytearray, not NoneType\n",
      "🔁 Attempting sentence split and translation...\n"
     ]
    },
    {
     "name": "stderr",
     "output_type": "stream",
     "text": [
      "Translating:  27%|████████████▋                                  | 452/1668 [13:32<38:41,  1.91s/it]"
     ]
    },
    {
     "name": "stdout",
     "output_type": "stream",
     "text": [
      "result sent successfully\n"
     ]
    },
    {
     "name": "stderr",
     "output_type": "stream",
     "text": [
      "Translating:  27%|████████████▊                                  | 454/1668 [13:33<21:27,  1.06s/it]"
     ]
    },
    {
     "name": "stdout",
     "output_type": "stream",
     "text": [
      "Error translating with src=en (attempt 1): the JSON object must be str, bytes or bytearray, not NoneType\n",
      "Error translating with src=en (attempt 2): the JSON object must be str, bytes or bytearray, not NoneType\n",
      "🔁 Attempting sentence split and translation...\n"
     ]
    },
    {
     "name": "stderr",
     "output_type": "stream",
     "text": [
      "Translating:  27%|████████████▊                                  | 455/1668 [13:38<44:52,  2.22s/it]"
     ]
    },
    {
     "name": "stdout",
     "output_type": "stream",
     "text": [
      "result sent successfully\n",
      "Error translating with src=en (attempt 1): the JSON object must be str, bytes or bytearray, not NoneType\n",
      "Error translating with src=en (attempt 2): the JSON object must be str, bytes or bytearray, not NoneType\n",
      "🔁 Attempting sentence split and translation...\n"
     ]
    },
    {
     "name": "stderr",
     "output_type": "stream",
     "text": [
      "Translating:  27%|████████████▎                                | 456/1668 [13:42<1:01:15,  3.03s/it]"
     ]
    },
    {
     "name": "stdout",
     "output_type": "stream",
     "text": [
      "result sent successfully\n",
      "Error translating with src=en (attempt 1): the JSON object must be str, bytes or bytearray, not NoneType\n",
      "Error translating with src=en (attempt 2): the JSON object must be str, bytes or bytearray, not NoneType\n",
      "🔁 Attempting sentence split and translation...\n"
     ]
    },
    {
     "name": "stderr",
     "output_type": "stream",
     "text": [
      "Translating:  27%|████████████▎                                | 457/1668 [13:48<1:15:21,  3.73s/it]"
     ]
    },
    {
     "name": "stdout",
     "output_type": "stream",
     "text": [
      "result sent successfully\n"
     ]
    },
    {
     "name": "stderr",
     "output_type": "stream",
     "text": [
      "Translating:  28%|████████████▉                                  | 460/1668 [13:49<29:06,  1.45s/it]"
     ]
    },
    {
     "name": "stdout",
     "output_type": "stream",
     "text": [
      "Error translating with src=en (attempt 1): the JSON object must be str, bytes or bytearray, not NoneType\n",
      "Error translating with src=en (attempt 2): the JSON object must be str, bytes or bytearray, not NoneType\n",
      "🔁 Attempting sentence split and translation...\n"
     ]
    },
    {
     "name": "stderr",
     "output_type": "stream",
     "text": [
      "Translating:  28%|████████████▉                                  | 461/1668 [13:54<50:28,  2.51s/it]"
     ]
    },
    {
     "name": "stdout",
     "output_type": "stream",
     "text": [
      "result sent successfully\n"
     ]
    },
    {
     "name": "stderr",
     "output_type": "stream",
     "text": [
      "Translating:  28%|█████████████▏                                 | 467/1668 [13:55<09:36,  2.08it/s]"
     ]
    },
    {
     "name": "stdout",
     "output_type": "stream",
     "text": [
      "Error translating with src=en (attempt 1): the JSON object must be str, bytes or bytearray, not NoneType\n",
      "Error translating with src=en (attempt 2): the JSON object must be str, bytes or bytearray, not NoneType\n",
      "🔁 Attempting sentence split and translation...\n"
     ]
    },
    {
     "name": "stderr",
     "output_type": "stream",
     "text": [
      "Translating:  28%|█████████████▏                                 | 469/1668 [14:00<26:05,  1.31s/it]"
     ]
    },
    {
     "name": "stdout",
     "output_type": "stream",
     "text": [
      "result sent successfully\n"
     ]
    },
    {
     "name": "stderr",
     "output_type": "stream",
     "text": [
      "Translating:  28%|█████████████▏                                 | 470/1668 [14:00<19:01,  1.05it/s]"
     ]
    },
    {
     "name": "stdout",
     "output_type": "stream",
     "text": [
      "Error translating with src=en (attempt 1): The read operation timed out\n"
     ]
    },
    {
     "name": "stderr",
     "output_type": "stream",
     "text": [
      "Translating:  29%|█████████████▍                                 | 476/1668 [14:08<11:44,  1.69it/s]"
     ]
    },
    {
     "name": "stdout",
     "output_type": "stream",
     "text": [
      "Error translating with src=en (attempt 1): the JSON object must be str, bytes or bytearray, not NoneType\n",
      "Error translating with src=en (attempt 2): the JSON object must be str, bytes or bytearray, not NoneType\n",
      "🔁 Attempting sentence split and translation...\n"
     ]
    },
    {
     "name": "stderr",
     "output_type": "stream",
     "text": [
      "Translating:  29%|█████████████▍                                 | 477/1668 [14:13<41:08,  2.07s/it]"
     ]
    },
    {
     "name": "stdout",
     "output_type": "stream",
     "text": [
      "result sent successfully\n",
      "Error translating with src=en (attempt 1): the JSON object must be str, bytes or bytearray, not NoneType\n",
      "Error translating with src=en (attempt 2): the JSON object must be str, bytes or bytearray, not NoneType\n",
      "🔁 Attempting sentence split and translation...\n"
     ]
    },
    {
     "name": "stderr",
     "output_type": "stream",
     "text": [
      "Translating:  29%|█████████████▍                                 | 478/1668 [14:18<58:16,  2.94s/it]"
     ]
    },
    {
     "name": "stdout",
     "output_type": "stream",
     "text": [
      "result sent successfully\n"
     ]
    },
    {
     "name": "stderr",
     "output_type": "stream",
     "text": [
      "Translating:  29%|█████████████▌                                 | 482/1668 [14:19<16:50,  1.17it/s]"
     ]
    },
    {
     "name": "stdout",
     "output_type": "stream",
     "text": [
      "Error translating with src=en (attempt 1): the JSON object must be str, bytes or bytearray, not NoneType\n",
      "Error translating with src=en (attempt 2): the JSON object must be str, bytes or bytearray, not NoneType\n",
      "🔁 Attempting sentence split and translation...\n"
     ]
    },
    {
     "name": "stderr",
     "output_type": "stream",
     "text": [
      "Translating:  29%|█████████████▋                                 | 484/1668 [14:25<30:42,  1.56s/it]"
     ]
    },
    {
     "name": "stdout",
     "output_type": "stream",
     "text": [
      "result sent successfully\n",
      "Error translating with src=en (attempt 1): the JSON object must be str, bytes or bytearray, not NoneType\n",
      "Error translating with src=en (attempt 2): the JSON object must be str, bytes or bytearray, not NoneType\n",
      "🔁 Attempting sentence split and translation...\n"
     ]
    },
    {
     "name": "stderr",
     "output_type": "stream",
     "text": [
      "Translating:  29%|█████████████▋                                 | 485/1668 [14:30<51:41,  2.62s/it]"
     ]
    },
    {
     "name": "stdout",
     "output_type": "stream",
     "text": [
      "result sent successfully\n",
      "Error translating with src=en (attempt 1): the JSON object must be str, bytes or bytearray, not NoneType\n",
      "Error translating with src=en (attempt 2): the JSON object must be str, bytes or bytearray, not NoneType\n",
      "🔁 Attempting sentence split and translation...\n"
     ]
    },
    {
     "name": "stderr",
     "output_type": "stream",
     "text": [
      "Translating:  29%|█████████████▋                                 | 487/1668 [14:35<48:20,  2.46s/it]"
     ]
    },
    {
     "name": "stdout",
     "output_type": "stream",
     "text": [
      "result sent successfully\n"
     ]
    },
    {
     "name": "stderr",
     "output_type": "stream",
     "text": [
      "Translating:  29%|█████████████▊                                 | 488/1668 [14:35<34:31,  1.76s/it]"
     ]
    },
    {
     "name": "stdout",
     "output_type": "stream",
     "text": [
      "Error translating with src=en (attempt 1): the JSON object must be str, bytes or bytearray, not NoneType\n",
      "Error translating with src=en (attempt 2): the JSON object must be str, bytes or bytearray, not NoneType\n",
      "🔁 Attempting sentence split and translation...\n"
     ]
    },
    {
     "name": "stderr",
     "output_type": "stream",
     "text": [
      "Translating:  29%|█████████████▊                                 | 490/1668 [14:41<40:23,  2.06s/it]"
     ]
    },
    {
     "name": "stdout",
     "output_type": "stream",
     "text": [
      "result sent successfully\n"
     ]
    },
    {
     "name": "stderr",
     "output_type": "stream",
     "text": [
      "Translating:  30%|█████████████▉                                 | 493/1668 [14:41<16:12,  1.21it/s]"
     ]
    },
    {
     "name": "stdout",
     "output_type": "stream",
     "text": [
      "Error translating with src=en (attempt 1): the JSON object must be str, bytes or bytearray, not NoneType\n",
      "Error translating with src=en (attempt 2): the JSON object must be str, bytes or bytearray, not NoneType\n",
      "🔁 Attempting sentence split and translation...\n"
     ]
    },
    {
     "name": "stderr",
     "output_type": "stream",
     "text": [
      "Translating:  30%|█████████████▉                                 | 494/1668 [14:47<42:09,  2.15s/it]"
     ]
    },
    {
     "name": "stdout",
     "output_type": "stream",
     "text": [
      "result sent successfully\n",
      "Error translating with src=en (attempt 1): the JSON object must be str, bytes or bytearray, not NoneType\n",
      "Error translating with src=en (attempt 2): the JSON object must be str, bytes or bytearray, not NoneType\n",
      "🔁 Attempting sentence split and translation...\n"
     ]
    },
    {
     "name": "stderr",
     "output_type": "stream",
     "text": [
      "Translating:  30%|█████████████▉                                 | 495/1668 [14:52<58:33,  3.00s/it]"
     ]
    },
    {
     "name": "stdout",
     "output_type": "stream",
     "text": [
      "result sent successfully\n",
      "Error translating with src=en (attempt 1): the JSON object must be str, bytes or bytearray, not NoneType\n",
      "Error translating with src=en (attempt 2): the JSON object must be str, bytes or bytearray, not NoneType\n",
      "🔁 Attempting sentence split and translation...\n"
     ]
    },
    {
     "name": "stderr",
     "output_type": "stream",
     "text": [
      "Translating:  30%|█████████████▍                               | 496/1668 [14:57<1:10:39,  3.62s/it]"
     ]
    },
    {
     "name": "stdout",
     "output_type": "stream",
     "text": [
      "result sent successfully\n",
      "Error translating with src=en (attempt 1): the JSON object must be str, bytes or bytearray, not NoneType\n",
      "Error translating with src=en (attempt 2): the JSON object must be str, bytes or bytearray, not NoneType\n",
      "🔁 Attempting sentence split and translation...\n"
     ]
    },
    {
     "name": "stderr",
     "output_type": "stream",
     "text": [
      "Translating:  30%|█████████████▍                               | 497/1668 [15:02<1:18:18,  4.01s/it]"
     ]
    },
    {
     "name": "stdout",
     "output_type": "stream",
     "text": [
      "result sent successfully\n"
     ]
    },
    {
     "name": "stderr",
     "output_type": "stream",
     "text": [
      "Translating:  30%|██████████████                                 | 499/1668 [15:02<41:39,  2.14s/it]"
     ]
    },
    {
     "name": "stdout",
     "output_type": "stream",
     "text": [
      "Error translating with src=en (attempt 1): the JSON object must be str, bytes or bytearray, not NoneType\n",
      "Error translating with src=en (attempt 2): the JSON object must be str, bytes or bytearray, not NoneType\n",
      "🔁 Attempting sentence split and translation...\n"
     ]
    },
    {
     "name": "stderr",
     "output_type": "stream",
     "text": [
      "Translating:  30%|██████████████                                 | 501/1668 [15:07<41:09,  2.12s/it]"
     ]
    },
    {
     "name": "stdout",
     "output_type": "stream",
     "text": [
      "result sent successfully\n",
      "Error translating with src=en (attempt 1): the JSON object must be str, bytes or bytearray, not NoneType\n",
      "Error translating with src=en (attempt 2): the JSON object must be str, bytes or bytearray, not NoneType\n",
      "🔁 Attempting sentence split and translation...\n"
     ]
    },
    {
     "name": "stderr",
     "output_type": "stream",
     "text": [
      "Translating:  30%|██████████████▏                                | 502/1668 [15:12<58:22,  3.00s/it]"
     ]
    },
    {
     "name": "stdout",
     "output_type": "stream",
     "text": [
      "result sent successfully\n",
      "Error translating with src=en (attempt 1): the JSON object must be str, bytes or bytearray, not NoneType\n",
      "Error translating with src=en (attempt 2): the JSON object must be str, bytes or bytearray, not NoneType\n",
      "🔁 Attempting sentence split and translation...\n"
     ]
    },
    {
     "name": "stderr",
     "output_type": "stream",
     "text": [
      "Translating:  30%|█████████████▌                               | 503/1668 [15:18<1:12:59,  3.76s/it]"
     ]
    },
    {
     "name": "stdout",
     "output_type": "stream",
     "text": [
      "result sent successfully\n"
     ]
    },
    {
     "name": "stderr",
     "output_type": "stream",
     "text": [
      "Translating:  30%|██████████████▎                                | 506/1668 [15:19<28:37,  1.48s/it]"
     ]
    },
    {
     "name": "stdout",
     "output_type": "stream",
     "text": [
      "Error translating with src=en (attempt 1): the JSON object must be str, bytes or bytearray, not NoneType\n",
      "Error translating with src=en (attempt 2): the JSON object must be str, bytes or bytearray, not NoneType\n",
      "🔁 Attempting sentence split and translation...\n"
     ]
    },
    {
     "name": "stderr",
     "output_type": "stream",
     "text": [
      "Translating:  30%|██████████████▎                                | 508/1668 [15:24<34:45,  1.80s/it]"
     ]
    },
    {
     "name": "stdout",
     "output_type": "stream",
     "text": [
      "result sent successfully\n"
     ]
    },
    {
     "name": "stderr",
     "output_type": "stream",
     "text": [
      "Translating:  31%|██████████████▎                                | 509/1668 [15:24<25:01,  1.30s/it]"
     ]
    },
    {
     "name": "stdout",
     "output_type": "stream",
     "text": [
      "Error translating with src=en (attempt 1): the JSON object must be str, bytes or bytearray, not NoneType\n",
      "Error translating with src=en (attempt 2): the JSON object must be str, bytes or bytearray, not NoneType\n",
      "🔁 Attempting sentence split and translation...\n"
     ]
    },
    {
     "name": "stderr",
     "output_type": "stream",
     "text": [
      "Translating:  31%|██████████████▍                                | 511/1668 [15:29<32:55,  1.71s/it]"
     ]
    },
    {
     "name": "stdout",
     "output_type": "stream",
     "text": [
      "result sent successfully\n"
     ]
    },
    {
     "name": "stderr",
     "output_type": "stream",
     "text": [
      "Translating:  31%|██████████████▍                                | 513/1668 [15:30<19:04,  1.01it/s]"
     ]
    },
    {
     "name": "stdout",
     "output_type": "stream",
     "text": [
      "Error translating with src=en (attempt 1): the JSON object must be str, bytes or bytearray, not NoneType\n",
      "Error translating with src=en (attempt 2): the JSON object must be str, bytes or bytearray, not NoneType\n",
      "🔁 Attempting sentence split and translation...\n"
     ]
    },
    {
     "name": "stderr",
     "output_type": "stream",
     "text": [
      "Translating:  31%|██████████████▌                                | 515/1668 [15:35<31:09,  1.62s/it]"
     ]
    },
    {
     "name": "stdout",
     "output_type": "stream",
     "text": [
      "result sent successfully\n",
      "Error translating with src=en (attempt 1): the JSON object must be str, bytes or bytearray, not NoneType\n",
      "Error translating with src=en (attempt 2): the JSON object must be str, bytes or bytearray, not NoneType\n",
      "🔁 Attempting sentence split and translation...\n"
     ]
    },
    {
     "name": "stderr",
     "output_type": "stream",
     "text": [
      "Translating:  31%|██████████████▌                                | 516/1668 [15:41<53:22,  2.78s/it]"
     ]
    },
    {
     "name": "stdout",
     "output_type": "stream",
     "text": [
      "result sent successfully\n",
      "Error translating with src=en (attempt 1): the JSON object must be str, bytes or bytearray, not NoneType\n",
      "Error translating with src=en (attempt 2): the JSON object must be str, bytes or bytearray, not NoneType\n",
      "🔁 Attempting sentence split and translation...\n"
     ]
    },
    {
     "name": "stderr",
     "output_type": "stream",
     "text": [
      "Translating:  31%|██████████████▌                                | 518/1668 [15:46<46:30,  2.43s/it]"
     ]
    },
    {
     "name": "stdout",
     "output_type": "stream",
     "text": [
      "result sent successfully\n"
     ]
    },
    {
     "name": "stderr",
     "output_type": "stream",
     "text": [
      "Translating:  31%|██████████████▋                                | 522/1668 [15:46<14:16,  1.34it/s]"
     ]
    },
    {
     "name": "stdout",
     "output_type": "stream",
     "text": [
      "Error translating with src=en (attempt 1): the JSON object must be str, bytes or bytearray, not NoneType\n",
      "Error translating with src=en (attempt 2): the JSON object must be str, bytes or bytearray, not NoneType\n",
      "🔁 Attempting sentence split and translation...\n"
     ]
    },
    {
     "name": "stderr",
     "output_type": "stream",
     "text": [
      "Translating:  31%|██████████████▋                                | 523/1668 [15:52<40:05,  2.10s/it]"
     ]
    },
    {
     "name": "stdout",
     "output_type": "stream",
     "text": [
      "result sent successfully\n",
      "Error translating with src=en (attempt 1): the JSON object must be str, bytes or bytearray, not NoneType\n",
      "Error translating with src=en (attempt 2): the JSON object must be str, bytes or bytearray, not NoneType\n",
      "🔁 Attempting sentence split and translation...\n"
     ]
    },
    {
     "name": "stderr",
     "output_type": "stream",
     "text": [
      "Translating:  31%|██████████████▊                                | 525/1668 [15:57<41:50,  2.20s/it]"
     ]
    },
    {
     "name": "stdout",
     "output_type": "stream",
     "text": [
      "result sent successfully\n"
     ]
    },
    {
     "name": "stderr",
     "output_type": "stream",
     "text": [
      "Translating:  32%|██████████████▉                                | 532/1668 [15:58<05:30,  3.44it/s]"
     ]
    },
    {
     "name": "stdout",
     "output_type": "stream",
     "text": [
      "Error translating with src=en (attempt 1): the JSON object must be str, bytes or bytearray, not NoneType\n",
      "Error translating with src=en (attempt 2): the JSON object must be str, bytes or bytearray, not NoneType\n",
      "🔁 Attempting sentence split and translation...\n"
     ]
    },
    {
     "name": "stderr",
     "output_type": "stream",
     "text": [
      "Translating:  32%|███████████████                                | 533/1668 [16:03<34:39,  1.83s/it]"
     ]
    },
    {
     "name": "stdout",
     "output_type": "stream",
     "text": [
      "result sent successfully\n"
     ]
    },
    {
     "name": "stderr",
     "output_type": "stream",
     "text": [
      "Translating:  32%|███████████████▏                               | 537/1668 [16:04<11:12,  1.68it/s]"
     ]
    },
    {
     "name": "stdout",
     "output_type": "stream",
     "text": [
      "Error translating with src=en (attempt 1): the JSON object must be str, bytes or bytearray, not NoneType\n",
      "Error translating with src=en (attempt 2): the JSON object must be str, bytes or bytearray, not NoneType\n",
      "🔁 Attempting sentence split and translation...\n"
     ]
    },
    {
     "name": "stderr",
     "output_type": "stream",
     "text": [
      "Translating:  32%|███████████████▏                               | 538/1668 [16:09<36:33,  1.94s/it]"
     ]
    },
    {
     "name": "stdout",
     "output_type": "stream",
     "text": [
      "result sent successfully\n"
     ]
    },
    {
     "name": "stderr",
     "output_type": "stream",
     "text": [
      "Translating:  32%|███████████████▏                               | 541/1668 [16:10<15:01,  1.25it/s]"
     ]
    },
    {
     "name": "stdout",
     "output_type": "stream",
     "text": [
      "Error translating with src=en (attempt 1): the JSON object must be str, bytes or bytearray, not NoneType\n",
      "Error translating with src=en (attempt 2): the JSON object must be str, bytes or bytearray, not NoneType\n",
      "🔁 Attempting sentence split and translation...\n"
     ]
    },
    {
     "name": "stderr",
     "output_type": "stream",
     "text": [
      "Translating:  32%|███████████████▎                               | 542/1668 [16:15<39:08,  2.09s/it]"
     ]
    },
    {
     "name": "stdout",
     "output_type": "stream",
     "text": [
      "result sent successfully\n"
     ]
    },
    {
     "name": "stderr",
     "output_type": "stream",
     "text": [
      "Translating:  33%|███████████████▎                               | 543/1668 [16:15<28:53,  1.54s/it]"
     ]
    },
    {
     "name": "stdout",
     "output_type": "stream",
     "text": [
      "Error translating with src=en (attempt 1): the JSON object must be str, bytes or bytearray, not NoneType\n",
      "Error translating with src=en (attempt 2): the JSON object must be str, bytes or bytearray, not NoneType\n",
      "🔁 Attempting sentence split and translation...\n"
     ]
    },
    {
     "name": "stderr",
     "output_type": "stream",
     "text": [
      "Translating:  33%|███████████████▎                               | 545/1668 [16:20<34:17,  1.83s/it]"
     ]
    },
    {
     "name": "stdout",
     "output_type": "stream",
     "text": [
      "result sent successfully\n"
     ]
    },
    {
     "name": "stderr",
     "output_type": "stream",
     "text": [
      "Translating:  33%|███████████████▍                               | 546/1668 [16:21<25:39,  1.37s/it]"
     ]
    },
    {
     "name": "stdout",
     "output_type": "stream",
     "text": [
      "Error translating with src=en (attempt 1): the JSON object must be str, bytes or bytearray, not NoneType\n",
      "Error translating with src=en (attempt 2): the JSON object must be str, bytes or bytearray, not NoneType\n",
      "🔁 Attempting sentence split and translation...\n"
     ]
    },
    {
     "name": "stderr",
     "output_type": "stream",
     "text": [
      "Translating:  33%|███████████████▍                               | 547/1668 [16:26<45:38,  2.44s/it]"
     ]
    },
    {
     "name": "stdout",
     "output_type": "stream",
     "text": [
      "result sent successfully\n"
     ]
    },
    {
     "name": "stderr",
     "output_type": "stream",
     "text": [
      "Translating:  33%|███████████████▌                               | 553/1668 [16:27<09:15,  2.01it/s]"
     ]
    },
    {
     "name": "stdout",
     "output_type": "stream",
     "text": [
      "Error translating with src=en (attempt 1): the JSON object must be str, bytes or bytearray, not NoneType\n",
      "Error translating with src=en (attempt 2): the JSON object must be str, bytes or bytearray, not NoneType\n",
      "🔁 Attempting sentence split and translation...\n"
     ]
    },
    {
     "name": "stderr",
     "output_type": "stream",
     "text": [
      "Translating:  33%|███████████████▋                               | 555/1668 [16:32<24:21,  1.31s/it]"
     ]
    },
    {
     "name": "stdout",
     "output_type": "stream",
     "text": [
      "result sent successfully\n"
     ]
    },
    {
     "name": "stderr",
     "output_type": "stream",
     "text": [
      "Translating:  34%|███████████████▊                               | 562/1668 [16:33<05:07,  3.60it/s]"
     ]
    },
    {
     "name": "stdout",
     "output_type": "stream",
     "text": [
      "Error translating with src=en (attempt 1): the JSON object must be str, bytes or bytearray, not NoneType\n",
      "Error translating with src=en (attempt 2): the JSON object must be str, bytes or bytearray, not NoneType\n",
      "🔁 Attempting sentence split and translation...\n"
     ]
    },
    {
     "name": "stderr",
     "output_type": "stream",
     "text": [
      "Translating:  34%|███████████████▉                               | 564/1668 [16:39<23:45,  1.29s/it]"
     ]
    },
    {
     "name": "stdout",
     "output_type": "stream",
     "text": [
      "result sent successfully\n"
     ]
    },
    {
     "name": "stderr",
     "output_type": "stream",
     "text": [
      "Translating:  34%|███████████████▉                               | 566/1668 [16:39<14:04,  1.31it/s]"
     ]
    },
    {
     "name": "stdout",
     "output_type": "stream",
     "text": [
      "Error translating with src=en (attempt 1): the JSON object must be str, bytes or bytearray, not NoneType\n",
      "Error translating with src=en (attempt 2): the JSON object must be str, bytes or bytearray, not NoneType\n",
      "🔁 Attempting sentence split and translation...\n"
     ]
    },
    {
     "name": "stderr",
     "output_type": "stream",
     "text": [
      "Translating:  34%|████████████████                               | 568/1668 [16:45<27:33,  1.50s/it]"
     ]
    },
    {
     "name": "stdout",
     "output_type": "stream",
     "text": [
      "result sent successfully\n"
     ]
    },
    {
     "name": "stderr",
     "output_type": "stream",
     "text": [
      "Translating:  34%|████████████████                               | 569/1668 [16:45<20:43,  1.13s/it]"
     ]
    },
    {
     "name": "stdout",
     "output_type": "stream",
     "text": [
      "Error translating with src=en (attempt 1): The read operation timed out\n"
     ]
    },
    {
     "name": "stderr",
     "output_type": "stream",
     "text": [
      "Translating:  34%|████████████████                               | 570/1668 [16:51<50:56,  2.78s/it]"
     ]
    },
    {
     "name": "stdout",
     "output_type": "stream",
     "text": [
      "Error translating with src=en (attempt 1): the JSON object must be str, bytes or bytearray, not NoneType\n",
      "Error translating with src=en (attempt 2): the JSON object must be str, bytes or bytearray, not NoneType\n",
      "🔁 Attempting sentence split and translation...\n"
     ]
    },
    {
     "name": "stderr",
     "output_type": "stream",
     "text": [
      "Translating:  34%|███████████████▍                             | 571/1668 [16:57<1:03:27,  3.47s/it]"
     ]
    },
    {
     "name": "stdout",
     "output_type": "stream",
     "text": [
      "result sent successfully\n",
      "Error translating with src=en (attempt 1): the JSON object must be str, bytes or bytearray, not NoneType\n",
      "Error translating with src=en (attempt 2): the JSON object must be str, bytes or bytearray, not NoneType\n",
      "🔁 Attempting sentence split and translation...\n"
     ]
    },
    {
     "name": "stderr",
     "output_type": "stream",
     "text": [
      "Translating:  34%|████████████████▏                              | 573/1668 [17:02<51:04,  2.80s/it]"
     ]
    },
    {
     "name": "stdout",
     "output_type": "stream",
     "text": [
      "result sent successfully\n"
     ]
    },
    {
     "name": "stderr",
     "output_type": "stream",
     "text": [
      "Translating:  34%|████████████████▏                              | 574/1668 [17:02<36:21,  1.99s/it]"
     ]
    },
    {
     "name": "stdout",
     "output_type": "stream",
     "text": [
      "Error translating with src=en (attempt 1): the JSON object must be str, bytes or bytearray, not NoneType\n",
      "Error translating with src=en (attempt 2): the JSON object must be str, bytes or bytearray, not NoneType\n",
      "🔁 Attempting sentence split and translation...\n"
     ]
    },
    {
     "name": "stderr",
     "output_type": "stream",
     "text": [
      "Translating:  35%|████████████████▏                              | 576/1668 [17:07<37:48,  2.08s/it]"
     ]
    },
    {
     "name": "stdout",
     "output_type": "stream",
     "text": [
      "result sent successfully\n",
      "Error translating with src=en (attempt 1): the JSON object must be str, bytes or bytearray, not NoneType\n",
      "Error translating with src=en (attempt 2): the JSON object must be str, bytes or bytearray, not NoneType\n",
      "🔁 Attempting sentence split and translation...\n"
     ]
    },
    {
     "name": "stderr",
     "output_type": "stream",
     "text": [
      "Translating:  35%|████████████████▎                              | 578/1668 [17:12<37:50,  2.08s/it]"
     ]
    },
    {
     "name": "stdout",
     "output_type": "stream",
     "text": [
      "result sent successfully\n",
      "Error translating with src=en (attempt 1): the JSON object must be str, bytes or bytearray, not NoneType\n",
      "Error translating with src=en (attempt 2): the JSON object must be str, bytes or bytearray, not NoneType\n",
      "🔁 Attempting sentence split and translation...\n"
     ]
    },
    {
     "name": "stderr",
     "output_type": "stream",
     "text": [
      "Translating:  35%|████████████████▎                              | 579/1668 [17:17<54:54,  3.02s/it]"
     ]
    },
    {
     "name": "stdout",
     "output_type": "stream",
     "text": [
      "result sent successfully\n",
      "Error translating with src=en (attempt 1): the JSON object must be str, bytes or bytearray, not NoneType\n",
      "Error translating with src=en (attempt 2): the JSON object must be str, bytes or bytearray, not NoneType\n",
      "🔁 Attempting sentence split and translation...\n"
     ]
    },
    {
     "name": "stderr",
     "output_type": "stream",
     "text": [
      "Translating:  35%|███████████████▋                             | 580/1668 [17:22<1:05:22,  3.60s/it]"
     ]
    },
    {
     "name": "stdout",
     "output_type": "stream",
     "text": [
      "result sent successfully\n"
     ]
    },
    {
     "name": "stderr",
     "output_type": "stream",
     "text": [
      "Translating:  35%|████████████████▌                              | 586/1668 [17:23<10:56,  1.65it/s]"
     ]
    },
    {
     "name": "stdout",
     "output_type": "stream",
     "text": [
      "Error translating with src=en (attempt 1): the JSON object must be str, bytes or bytearray, not NoneType\n",
      "Error translating with src=en (attempt 2): the JSON object must be str, bytes or bytearray, not NoneType\n",
      "🔁 Attempting sentence split and translation...\n"
     ]
    },
    {
     "name": "stderr",
     "output_type": "stream",
     "text": [
      "Translating:  35%|████████████████▌                              | 587/1668 [17:29<36:21,  2.02s/it]"
     ]
    },
    {
     "name": "stdout",
     "output_type": "stream",
     "text": [
      "result sent successfully\n",
      "Error translating with src=en (attempt 1): the JSON object must be str, bytes or bytearray, not NoneType\n",
      "Error translating with src=en (attempt 2): the JSON object must be str, bytes or bytearray, not NoneType\n",
      "🔁 Attempting sentence split and translation...\n"
     ]
    },
    {
     "name": "stderr",
     "output_type": "stream",
     "text": [
      "Translating:  35%|████████████████▌                              | 589/1668 [17:34<37:07,  2.06s/it]"
     ]
    },
    {
     "name": "stdout",
     "output_type": "stream",
     "text": [
      "result sent successfully\n"
     ]
    },
    {
     "name": "stderr",
     "output_type": "stream",
     "text": [
      "Translating:  35%|████████████████▌                              | 590/1668 [17:34<28:59,  1.61s/it]"
     ]
    },
    {
     "name": "stdout",
     "output_type": "stream",
     "text": [
      "Error translating with src=en (attempt 1): the JSON object must be str, bytes or bytearray, not NoneType\n",
      "Error translating with src=en (attempt 2): the JSON object must be str, bytes or bytearray, not NoneType\n",
      "🔁 Attempting sentence split and translation...\n"
     ]
    },
    {
     "name": "stderr",
     "output_type": "stream",
     "text": [
      "Translating:  35%|████████████████▋                              | 591/1668 [17:39<47:39,  2.66s/it]"
     ]
    },
    {
     "name": "stdout",
     "output_type": "stream",
     "text": [
      "result sent successfully\n",
      "Error translating with src=en (attempt 1): the JSON object must be str, bytes or bytearray, not NoneType\n",
      "Error translating with src=en (attempt 2): the JSON object must be str, bytes or bytearray, not NoneType\n",
      "🔁 Attempting sentence split and translation...\n"
     ]
    },
    {
     "name": "stderr",
     "output_type": "stream",
     "text": [
      "Translating:  35%|███████████████▉                             | 592/1668 [17:45<1:02:25,  3.48s/it]"
     ]
    },
    {
     "name": "stdout",
     "output_type": "stream",
     "text": [
      "result sent successfully\n"
     ]
    },
    {
     "name": "stderr",
     "output_type": "stream",
     "text": [
      "Translating:  36%|████████████████▋                              | 594/1668 [17:45<32:16,  1.80s/it]"
     ]
    },
    {
     "name": "stdout",
     "output_type": "stream",
     "text": [
      "Error translating with src=en (attempt 1): the JSON object must be str, bytes or bytearray, not NoneType\n",
      "Error translating with src=en (attempt 2): the JSON object must be str, bytes or bytearray, not NoneType\n",
      "🔁 Attempting sentence split and translation...\n"
     ]
    },
    {
     "name": "stderr",
     "output_type": "stream",
     "text": [
      "Translating:  36%|████████████████▊                              | 595/1668 [17:51<50:36,  2.83s/it]"
     ]
    },
    {
     "name": "stdout",
     "output_type": "stream",
     "text": [
      "result sent successfully\n",
      "Error translating with src=en (attempt 1): the JSON object must be str, bytes or bytearray, not NoneType\n",
      "Error translating with src=en (attempt 2): the JSON object must be str, bytes or bytearray, not NoneType\n",
      "🔁 Attempting sentence split and translation...\n"
     ]
    },
    {
     "name": "stderr",
     "output_type": "stream",
     "text": [
      "Translating:  36%|████████████████▊                              | 597/1668 [17:56<43:51,  2.46s/it]"
     ]
    },
    {
     "name": "stdout",
     "output_type": "stream",
     "text": [
      "result sent successfully\n",
      "Error translating with src=en (attempt 1): the JSON object must be str, bytes or bytearray, not NoneType\n",
      "Error translating with src=en (attempt 2): the JSON object must be str, bytes or bytearray, not NoneType\n",
      "🔁 Attempting sentence split and translation...\n"
     ]
    },
    {
     "name": "stderr",
     "output_type": "stream",
     "text": [
      "Translating:  36%|████████████████▊                              | 598/1668 [18:01<57:54,  3.25s/it]"
     ]
    },
    {
     "name": "stdout",
     "output_type": "stream",
     "text": [
      "result sent successfully\n"
     ]
    },
    {
     "name": "stderr",
     "output_type": "stream",
     "text": [
      "Translating:  36%|████████████████▉                              | 599/1668 [18:01<41:59,  2.36s/it]"
     ]
    },
    {
     "name": "stdout",
     "output_type": "stream",
     "text": [
      "Error translating with src=en (attempt 1): the JSON object must be str, bytes or bytearray, not NoneType\n",
      "Error translating with src=en (attempt 2): the JSON object must be str, bytes or bytearray, not NoneType\n",
      "🔁 Attempting sentence split and translation...\n"
     ]
    },
    {
     "name": "stderr",
     "output_type": "stream",
     "text": [
      "Translating:  36%|████████████████▉                              | 600/1668 [18:06<55:37,  3.12s/it]"
     ]
    },
    {
     "name": "stdout",
     "output_type": "stream",
     "text": [
      "result sent successfully\n"
     ]
    },
    {
     "name": "stderr",
     "output_type": "stream",
     "text": [
      "Translating:  36%|████████████████▉                              | 601/1668 [18:06<40:21,  2.27s/it]"
     ]
    },
    {
     "name": "stdout",
     "output_type": "stream",
     "text": [
      "Error translating with src=en (attempt 1): the JSON object must be str, bytes or bytearray, not NoneType\n",
      "Error translating with src=en (attempt 2): the JSON object must be str, bytes or bytearray, not NoneType\n",
      "🔁 Attempting sentence split and translation...\n"
     ]
    },
    {
     "name": "stderr",
     "output_type": "stream",
     "text": [
      "Translating:  36%|████████████████▉                              | 602/1668 [18:11<56:52,  3.20s/it]"
     ]
    },
    {
     "name": "stdout",
     "output_type": "stream",
     "text": [
      "result sent successfully\n"
     ]
    },
    {
     "name": "stderr",
     "output_type": "stream",
     "text": [
      "Translating:  36%|████████████████▉                              | 603/1668 [18:12<41:13,  2.32s/it]"
     ]
    },
    {
     "name": "stdout",
     "output_type": "stream",
     "text": [
      "Error translating with src=en (attempt 1): the JSON object must be str, bytes or bytearray, not NoneType\n",
      "Error translating with src=en (attempt 2): the JSON object must be str, bytes or bytearray, not NoneType\n",
      "🔁 Attempting sentence split and translation...\n"
     ]
    },
    {
     "name": "stderr",
     "output_type": "stream",
     "text": [
      "Translating:  36%|█████████████████                              | 604/1668 [18:17<55:58,  3.16s/it]"
     ]
    },
    {
     "name": "stdout",
     "output_type": "stream",
     "text": [
      "result sent successfully\n",
      "Error translating with src=en (attempt 1): the JSON object must be str, bytes or bytearray, not NoneType\n",
      "Error translating with src=en (attempt 2): the JSON object must be str, bytes or bytearray, not NoneType\n",
      "🔁 Attempting sentence split and translation...\n"
     ]
    },
    {
     "name": "stderr",
     "output_type": "stream",
     "text": [
      "Translating:  36%|████████████████▎                            | 605/1668 [18:22<1:05:24,  3.69s/it]"
     ]
    },
    {
     "name": "stdout",
     "output_type": "stream",
     "text": [
      "result sent successfully\n"
     ]
    },
    {
     "name": "stderr",
     "output_type": "stream",
     "text": [
      "Translating:  37%|█████████████████▏                             | 611/1668 [18:23<09:51,  1.79it/s]"
     ]
    },
    {
     "name": "stdout",
     "output_type": "stream",
     "text": [
      "Error translating with src=en (attempt 1): the JSON object must be str, bytes or bytearray, not NoneType\n",
      "Error translating with src=en (attempt 2): the JSON object must be str, bytes or bytearray, not NoneType\n",
      "🔁 Attempting sentence split and translation...\n"
     ]
    },
    {
     "name": "stderr",
     "output_type": "stream",
     "text": [
      "Translating:  37%|█████████████████▏                             | 612/1668 [18:28<33:42,  1.92s/it]"
     ]
    },
    {
     "name": "stdout",
     "output_type": "stream",
     "text": [
      "result sent successfully\n",
      "Error translating with src=en (attempt 1): the JSON object must be str, bytes or bytearray, not NoneType\n",
      "Error translating with src=en (attempt 2): the JSON object must be str, bytes or bytearray, not NoneType\n",
      "🔁 Attempting sentence split and translation...\n"
     ]
    },
    {
     "name": "stderr",
     "output_type": "stream",
     "text": [
      "Translating:  37%|█████████████████▎                             | 613/1668 [18:33<51:14,  2.91s/it]"
     ]
    },
    {
     "name": "stdout",
     "output_type": "stream",
     "text": [
      "result sent successfully\n"
     ]
    },
    {
     "name": "stderr",
     "output_type": "stream",
     "text": [
      "Translating:  37%|█████████████████▎                             | 616/1668 [18:34<19:25,  1.11s/it]"
     ]
    },
    {
     "name": "stdout",
     "output_type": "stream",
     "text": [
      "Error translating with src=en (attempt 1): the JSON object must be str, bytes or bytearray, not NoneType\n",
      "Error translating with src=en (attempt 2): the JSON object must be str, bytes or bytearray, not NoneType\n",
      "🔁 Attempting sentence split and translation...\n"
     ]
    },
    {
     "name": "stderr",
     "output_type": "stream",
     "text": [
      "Translating:  37%|█████████████████▍                             | 617/1668 [18:39<41:49,  2.39s/it]"
     ]
    },
    {
     "name": "stdout",
     "output_type": "stream",
     "text": [
      "result sent successfully\n"
     ]
    },
    {
     "name": "stderr",
     "output_type": "stream",
     "text": [
      "Translating:  37%|█████████████████▍                             | 619/1668 [18:39<22:11,  1.27s/it]"
     ]
    },
    {
     "name": "stdout",
     "output_type": "stream",
     "text": [
      "Error translating with src=en (attempt 1): the JSON object must be str, bytes or bytearray, not NoneType\n",
      "Error translating with src=en (attempt 2): the JSON object must be str, bytes or bytearray, not NoneType\n",
      "🔁 Attempting sentence split and translation...\n"
     ]
    },
    {
     "name": "stderr",
     "output_type": "stream",
     "text": [
      "Translating:  37%|█████████████████▍                             | 620/1668 [18:45<46:14,  2.65s/it]"
     ]
    },
    {
     "name": "stdout",
     "output_type": "stream",
     "text": [
      "result sent successfully\n",
      "Error translating with src=en (attempt 1): the JSON object must be str, bytes or bytearray, not NoneType\n",
      "Error translating with src=en (attempt 2): the JSON object must be str, bytes or bytearray, not NoneType\n",
      "🔁 Attempting sentence split and translation...\n"
     ]
    },
    {
     "name": "stderr",
     "output_type": "stream",
     "text": [
      "Translating:  37%|█████████████████▍                             | 621/1668 [18:50<58:55,  3.38s/it]"
     ]
    },
    {
     "name": "stdout",
     "output_type": "stream",
     "text": [
      "result sent successfully\n",
      "Error translating with src=en (attempt 1): the JSON object must be str, bytes or bytearray, not NoneType\n",
      "Error translating with src=en (attempt 2): the JSON object must be str, bytes or bytearray, not NoneType\n",
      "🔁 Attempting sentence split and translation...\n"
     ]
    },
    {
     "name": "stderr",
     "output_type": "stream",
     "text": [
      "Translating:  37%|████████████████▊                            | 622/1668 [18:55<1:07:01,  3.84s/it]"
     ]
    },
    {
     "name": "stdout",
     "output_type": "stream",
     "text": [
      "result sent successfully\n",
      "Error translating with src=en (attempt 1): the JSON object must be str, bytes or bytearray, not NoneType\n",
      "Error translating with src=en (attempt 2): the JSON object must be str, bytes or bytearray, not NoneType\n",
      "🔁 Attempting sentence split and translation...\n"
     ]
    },
    {
     "name": "stderr",
     "output_type": "stream",
     "text": [
      "Translating:  37%|████████████████▊                            | 623/1668 [19:00<1:13:23,  4.21s/it]"
     ]
    },
    {
     "name": "stdout",
     "output_type": "stream",
     "text": [
      "result sent successfully\n"
     ]
    },
    {
     "name": "stderr",
     "output_type": "stream",
     "text": [
      "Translating:  38%|█████████████████▋                             | 626/1668 [19:01<27:55,  1.61s/it]"
     ]
    },
    {
     "name": "stdout",
     "output_type": "stream",
     "text": [
      "Error translating with src=en (attempt 1): the JSON object must be str, bytes or bytearray, not NoneType\n",
      "Error translating with src=en (attempt 2): the JSON object must be str, bytes or bytearray, not NoneType\n",
      "🔁 Attempting sentence split and translation...\n"
     ]
    },
    {
     "name": "stderr",
     "output_type": "stream",
     "text": [
      "Translating:  38%|█████████████████▋                             | 627/1668 [19:06<47:31,  2.74s/it]"
     ]
    },
    {
     "name": "stdout",
     "output_type": "stream",
     "text": [
      "result sent successfully\n"
     ]
    },
    {
     "name": "stderr",
     "output_type": "stream",
     "text": [
      "Translating:  38%|█████████████████▊                             | 631/1668 [19:08<15:30,  1.11it/s]"
     ]
    },
    {
     "name": "stdout",
     "output_type": "stream",
     "text": [
      "Error translating with src=en (attempt 1): the JSON object must be str, bytes or bytearray, not NoneType\n",
      "Error translating with src=en (attempt 2): the JSON object must be str, bytes or bytearray, not NoneType\n",
      "🔁 Attempting sentence split and translation...\n"
     ]
    },
    {
     "name": "stderr",
     "output_type": "stream",
     "text": [
      "Translating:  38%|█████████████████▊                             | 633/1668 [19:13<26:45,  1.55s/it]"
     ]
    },
    {
     "name": "stdout",
     "output_type": "stream",
     "text": [
      "result sent successfully\n"
     ]
    },
    {
     "name": "stderr",
     "output_type": "stream",
     "text": [
      "Translating:  38%|█████████████████▊                             | 634/1668 [19:13<19:18,  1.12s/it]"
     ]
    },
    {
     "name": "stdout",
     "output_type": "stream",
     "text": [
      "Error translating with src=en (attempt 1): the JSON object must be str, bytes or bytearray, not NoneType\n",
      "Error translating with src=en (attempt 2): the JSON object must be str, bytes or bytearray, not NoneType\n",
      "🔁 Attempting sentence split and translation...\n"
     ]
    },
    {
     "name": "stderr",
     "output_type": "stream",
     "text": [
      "Translating:  38%|█████████████████▉                             | 635/1668 [19:18<38:55,  2.26s/it]"
     ]
    },
    {
     "name": "stdout",
     "output_type": "stream",
     "text": [
      "result sent successfully\n",
      "Error translating with src=en (attempt 1): the JSON object must be str, bytes or bytearray, not NoneType\n",
      "Error translating with src=en (attempt 2): the JSON object must be str, bytes or bytearray, not NoneType\n",
      "🔁 Attempting sentence split and translation...\n"
     ]
    },
    {
     "name": "stderr",
     "output_type": "stream",
     "text": [
      "Translating:  38%|█████████████████▉                             | 637/1668 [19:23<37:23,  2.18s/it]"
     ]
    },
    {
     "name": "stdout",
     "output_type": "stream",
     "text": [
      "result sent successfully\n"
     ]
    },
    {
     "name": "stderr",
     "output_type": "stream",
     "text": [
      "Translating:  38%|██████████████████                             | 639/1668 [19:24<20:49,  1.21s/it]"
     ]
    },
    {
     "name": "stdout",
     "output_type": "stream",
     "text": [
      "Error translating with src=en (attempt 1): the JSON object must be str, bytes or bytearray, not NoneType\n",
      "Error translating with src=en (attempt 2): the JSON object must be str, bytes or bytearray, not NoneType\n",
      "🔁 Attempting sentence split and translation...\n"
     ]
    },
    {
     "name": "stderr",
     "output_type": "stream",
     "text": [
      "Translating:  38%|██████████████████                             | 641/1668 [19:29<28:31,  1.67s/it]"
     ]
    },
    {
     "name": "stdout",
     "output_type": "stream",
     "text": [
      "result sent successfully\n",
      "Error translating with src=en (attempt 1): the JSON object must be str, bytes or bytearray, not NoneType\n",
      "Error translating with src=en (attempt 2): the JSON object must be str, bytes or bytearray, not NoneType\n",
      "🔁 Attempting sentence split and translation...\n"
     ]
    },
    {
     "name": "stderr",
     "output_type": "stream",
     "text": [
      "Translating:  38%|██████████████████                             | 642/1668 [19:34<46:00,  2.69s/it]"
     ]
    },
    {
     "name": "stdout",
     "output_type": "stream",
     "text": [
      "result sent successfully\n",
      "Error translating with src=en (attempt 1): the JSON object must be str, bytes or bytearray, not NoneType\n",
      "Error translating with src=en (attempt 2): the JSON object must be str, bytes or bytearray, not NoneType\n",
      "🔁 Attempting sentence split and translation...\n"
     ]
    },
    {
     "name": "stderr",
     "output_type": "stream",
     "text": [
      "Translating:  39%|██████████████████                             | 643/1668 [19:39<57:39,  3.38s/it]"
     ]
    },
    {
     "name": "stdout",
     "output_type": "stream",
     "text": [
      "result sent successfully\n"
     ]
    },
    {
     "name": "stderr",
     "output_type": "stream",
     "text": [
      "Translating:  39%|██████████████████▏                            | 646/1668 [19:40<25:27,  1.49s/it]"
     ]
    },
    {
     "name": "stdout",
     "output_type": "stream",
     "text": [
      "Error translating with src=en (attempt 1): the JSON object must be str, bytes or bytearray, not NoneType\n",
      "Error translating with src=en (attempt 2): the JSON object must be str, bytes or bytearray, not NoneType\n",
      "🔁 Attempting sentence split and translation...\n"
     ]
    },
    {
     "name": "stderr",
     "output_type": "stream",
     "text": [
      "Translating:  39%|██████████████████▏                            | 647/1668 [19:45<43:14,  2.54s/it]"
     ]
    },
    {
     "name": "stdout",
     "output_type": "stream",
     "text": [
      "result sent successfully\n",
      "Error translating with src=en (attempt 1): the JSON object must be str, bytes or bytearray, not NoneType\n",
      "Error translating with src=en (attempt 2): the JSON object must be str, bytes or bytearray, not NoneType\n",
      "🔁 Attempting sentence split and translation...\n"
     ]
    },
    {
     "name": "stderr",
     "output_type": "stream",
     "text": [
      "Translating:  39%|██████████████████▎                            | 648/1668 [19:50<56:12,  3.31s/it]"
     ]
    },
    {
     "name": "stdout",
     "output_type": "stream",
     "text": [
      "result sent successfully\n"
     ]
    },
    {
     "name": "stderr",
     "output_type": "stream",
     "text": [
      "Translating:  39%|██████████████████▎                            | 649/1668 [19:50<40:38,  2.39s/it]"
     ]
    },
    {
     "name": "stdout",
     "output_type": "stream",
     "text": [
      "Error translating with src=en (attempt 1): the JSON object must be str, bytes or bytearray, not NoneType\n",
      "Error translating with src=en (attempt 2): the JSON object must be str, bytes or bytearray, not NoneType\n",
      "🔁 Attempting sentence split and translation...\n"
     ]
    },
    {
     "name": "stderr",
     "output_type": "stream",
     "text": [
      "Translating:  39%|██████████████████▎                            | 651/1668 [19:55<38:02,  2.24s/it]"
     ]
    },
    {
     "name": "stdout",
     "output_type": "stream",
     "text": [
      "result sent successfully\n"
     ]
    },
    {
     "name": "stderr",
     "output_type": "stream",
     "text": [
      "Translating:  39%|██████████████████▍                            | 655/1668 [19:56<10:52,  1.55it/s]"
     ]
    },
    {
     "name": "stdout",
     "output_type": "stream",
     "text": [
      "Error translating with src=en (attempt 1): the JSON object must be str, bytes or bytearray, not NoneType\n",
      "Error translating with src=en (attempt 2): the JSON object must be str, bytes or bytearray, not NoneType\n",
      "🔁 Attempting sentence split and translation...\n"
     ]
    },
    {
     "name": "stderr",
     "output_type": "stream",
     "text": [
      "Translating:  39%|██████████████████▌                            | 657/1668 [20:01<23:20,  1.39s/it]"
     ]
    },
    {
     "name": "stdout",
     "output_type": "stream",
     "text": [
      "result sent successfully\n"
     ]
    },
    {
     "name": "stderr",
     "output_type": "stream",
     "text": [
      "Translating:  39%|██████████████████▌                            | 658/1668 [20:01<16:54,  1.00s/it]"
     ]
    },
    {
     "name": "stdout",
     "output_type": "stream",
     "text": [
      "Error translating with src=en (attempt 1): the JSON object must be str, bytes or bytearray, not NoneType\n",
      "Error translating with src=en (attempt 2): the JSON object must be str, bytes or bytearray, not NoneType\n",
      "🔁 Attempting sentence split and translation...\n"
     ]
    },
    {
     "name": "stderr",
     "output_type": "stream",
     "text": [
      "Translating:  40%|██████████████████▌                            | 660/1668 [20:07<28:54,  1.72s/it]"
     ]
    },
    {
     "name": "stdout",
     "output_type": "stream",
     "text": [
      "result sent successfully\n",
      "Error translating with src=en (attempt 1): the JSON object must be str, bytes or bytearray, not NoneType\n",
      "Error translating with src=en (attempt 2): the JSON object must be str, bytes or bytearray, not NoneType\n",
      "🔁 Attempting sentence split and translation...\n"
     ]
    },
    {
     "name": "stderr",
     "output_type": "stream",
     "text": [
      "Translating:  40%|██████████████████▋                            | 662/1668 [20:12<32:11,  1.92s/it]"
     ]
    },
    {
     "name": "stdout",
     "output_type": "stream",
     "text": [
      "result sent successfully\n"
     ]
    },
    {
     "name": "stderr",
     "output_type": "stream",
     "text": [
      "Translating:  40%|██████████████████▊                            | 667/1668 [20:13<07:29,  2.23it/s]"
     ]
    },
    {
     "name": "stdout",
     "output_type": "stream",
     "text": [
      "Error translating with src=en (attempt 1): the JSON object must be str, bytes or bytearray, not NoneType\n",
      "Error translating with src=en (attempt 2): the JSON object must be str, bytes or bytearray, not NoneType\n",
      "🔁 Attempting sentence split and translation...\n"
     ]
    },
    {
     "name": "stderr",
     "output_type": "stream",
     "text": [
      "Translating:  40%|██████████████████▊                            | 668/1668 [20:18<29:53,  1.79s/it]"
     ]
    },
    {
     "name": "stdout",
     "output_type": "stream",
     "text": [
      "result sent successfully\n",
      "Error translating with src=en (attempt 1): the JSON object must be str, bytes or bytearray, not NoneType\n",
      "Error translating with src=en (attempt 2): the JSON object must be str, bytes or bytearray, not NoneType\n",
      "🔁 Attempting sentence split and translation...\n"
     ]
    },
    {
     "name": "stderr",
     "output_type": "stream",
     "text": [
      "Translating:  40%|██████████████████▊                            | 669/1668 [20:23<46:24,  2.79s/it]"
     ]
    },
    {
     "name": "stdout",
     "output_type": "stream",
     "text": [
      "result sent successfully\n"
     ]
    },
    {
     "name": "stderr",
     "output_type": "stream",
     "text": [
      "Translating:  40%|██████████████████▉                            | 670/1668 [20:23<33:34,  2.02s/it]"
     ]
    },
    {
     "name": "stdout",
     "output_type": "stream",
     "text": [
      "Error translating with src=en (attempt 1): the JSON object must be str, bytes or bytearray, not NoneType\n",
      "Error translating with src=en (attempt 2): the JSON object must be str, bytes or bytearray, not NoneType\n",
      "🔁 Attempting sentence split and translation...\n"
     ]
    },
    {
     "name": "stderr",
     "output_type": "stream",
     "text": [
      "Translating:  40%|██████████████████▉                            | 672/1668 [20:28<34:10,  2.06s/it]"
     ]
    },
    {
     "name": "stdout",
     "output_type": "stream",
     "text": [
      "result sent successfully\n"
     ]
    },
    {
     "name": "stderr",
     "output_type": "stream",
     "text": [
      "Translating:  40%|██████████████████▉                            | 673/1668 [20:28<24:29,  1.48s/it]"
     ]
    },
    {
     "name": "stdout",
     "output_type": "stream",
     "text": [
      "Error translating with src=en (attempt 1): the JSON object must be str, bytes or bytearray, not NoneType\n",
      "Error translating with src=en (attempt 2): the JSON object must be str, bytes or bytearray, not NoneType\n",
      "🔁 Attempting sentence split and translation...\n"
     ]
    },
    {
     "name": "stderr",
     "output_type": "stream",
     "text": [
      "Translating:  40%|██████████████████▉                            | 674/1668 [20:33<41:44,  2.52s/it]"
     ]
    },
    {
     "name": "stdout",
     "output_type": "stream",
     "text": [
      "result sent successfully\n"
     ]
    },
    {
     "name": "stderr",
     "output_type": "stream",
     "text": [
      "Translating:  41%|███████████████████                            | 678/1668 [20:34<12:42,  1.30it/s]"
     ]
    },
    {
     "name": "stdout",
     "output_type": "stream",
     "text": [
      "Error translating with src=en (attempt 1): the JSON object must be str, bytes or bytearray, not NoneType\n",
      "Error translating with src=en (attempt 2): the JSON object must be str, bytes or bytearray, not NoneType\n",
      "🔁 Attempting sentence split and translation...\n"
     ]
    },
    {
     "name": "stderr",
     "output_type": "stream",
     "text": [
      "Translating:  41%|███████████████████▏                           | 679/1668 [20:39<34:56,  2.12s/it]"
     ]
    },
    {
     "name": "stdout",
     "output_type": "stream",
     "text": [
      "result sent successfully\n",
      "Error translating with src=en (attempt 1): the JSON object must be str, bytes or bytearray, not NoneType\n",
      "Error translating with src=en (attempt 2): the JSON object must be str, bytes or bytearray, not NoneType\n",
      "🔁 Attempting sentence split and translation...\n"
     ]
    },
    {
     "name": "stderr",
     "output_type": "stream",
     "text": [
      "Translating:  41%|███████████████████▏                           | 681/1668 [20:45<35:11,  2.14s/it]"
     ]
    },
    {
     "name": "stdout",
     "output_type": "stream",
     "text": [
      "result sent successfully\n",
      "Error translating with src=en (attempt 1): the JSON object must be str, bytes or bytearray, not NoneType\n",
      "Error translating with src=en (attempt 2): the JSON object must be str, bytes or bytearray, not NoneType\n",
      "🔁 Attempting sentence split and translation...\n"
     ]
    },
    {
     "name": "stderr",
     "output_type": "stream",
     "text": [
      "Translating:  41%|███████████████████▏                           | 683/1668 [20:50<34:47,  2.12s/it]"
     ]
    },
    {
     "name": "stdout",
     "output_type": "stream",
     "text": [
      "result sent successfully\n"
     ]
    },
    {
     "name": "stderr",
     "output_type": "stream",
     "text": [
      "Translating:  41%|███████████████████▎                           | 684/1668 [20:50<24:53,  1.52s/it]"
     ]
    },
    {
     "name": "stdout",
     "output_type": "stream",
     "text": [
      "Error translating with src=en (attempt 1): the JSON object must be str, bytes or bytearray, not NoneType\n",
      "Error translating with src=en (attempt 2): the JSON object must be str, bytes or bytearray, not NoneType\n",
      "🔁 Attempting sentence split and translation...\n"
     ]
    },
    {
     "name": "stderr",
     "output_type": "stream",
     "text": [
      "Translating:  41%|███████████████████▎                           | 685/1668 [20:55<42:23,  2.59s/it]"
     ]
    },
    {
     "name": "stdout",
     "output_type": "stream",
     "text": [
      "result sent successfully\n",
      "Error translating with src=en (attempt 1): the JSON object must be str, bytes or bytearray, not NoneType\n",
      "Error translating with src=en (attempt 2): the JSON object must be str, bytes or bytearray, not NoneType\n",
      "🔁 Attempting sentence split and translation...\n"
     ]
    },
    {
     "name": "stderr",
     "output_type": "stream",
     "text": [
      "Translating:  41%|███████████████████▎                           | 687/1668 [21:00<38:48,  2.37s/it]"
     ]
    },
    {
     "name": "stdout",
     "output_type": "stream",
     "text": [
      "result sent successfully\n",
      "Error translating with src=en (attempt 1): the JSON object must be str, bytes or bytearray, not NoneType\n",
      "Error translating with src=en (attempt 2): the JSON object must be str, bytes or bytearray, not NoneType\n",
      "🔁 Attempting sentence split and translation...\n"
     ]
    },
    {
     "name": "stderr",
     "output_type": "stream",
     "text": [
      "Translating:  41%|███████████████████▍                           | 688/1668 [21:06<55:54,  3.42s/it]"
     ]
    },
    {
     "name": "stdout",
     "output_type": "stream",
     "text": [
      "result sent successfully\n",
      "Error translating with src=en (attempt 1): the JSON object must be str, bytes or bytearray, not NoneType\n",
      "Error translating with src=en (attempt 2): the JSON object must be str, bytes or bytearray, not NoneType\n",
      "🔁 Attempting sentence split and translation...\n"
     ]
    },
    {
     "name": "stderr",
     "output_type": "stream",
     "text": [
      "Translating:  41%|███████████████████▍                           | 690/1668 [21:11<45:56,  2.82s/it]"
     ]
    },
    {
     "name": "stdout",
     "output_type": "stream",
     "text": [
      "result sent successfully\n"
     ]
    },
    {
     "name": "stderr",
     "output_type": "stream",
     "text": [
      "Translating:  42%|███████████████████▌                           | 693/1668 [21:12<16:54,  1.04s/it]"
     ]
    },
    {
     "name": "stdout",
     "output_type": "stream",
     "text": [
      "Error translating with src=en (attempt 1): the JSON object must be str, bytes or bytearray, not NoneType\n",
      "Error translating with src=en (attempt 2): the JSON object must be str, bytes or bytearray, not NoneType\n",
      "🔁 Attempting sentence split and translation...\n"
     ]
    },
    {
     "name": "stderr",
     "output_type": "stream",
     "text": [
      "Translating:  42%|███████████████████▌                           | 695/1668 [21:17<26:44,  1.65s/it]"
     ]
    },
    {
     "name": "stdout",
     "output_type": "stream",
     "text": [
      "result sent successfully\n"
     ]
    },
    {
     "name": "stderr",
     "output_type": "stream",
     "text": [
      "Translating:  42%|███████████████████▌                           | 696/1668 [21:17<19:16,  1.19s/it]"
     ]
    },
    {
     "name": "stdout",
     "output_type": "stream",
     "text": [
      "Error translating with src=en (attempt 1): the JSON object must be str, bytes or bytearray, not NoneType\n",
      "Error translating with src=en (attempt 2): the JSON object must be str, bytes or bytearray, not NoneType\n",
      "🔁 Attempting sentence split and translation...\n"
     ]
    },
    {
     "name": "stderr",
     "output_type": "stream",
     "text": [
      "Translating:  42%|███████████████████▋                           | 698/1668 [21:22<26:49,  1.66s/it]"
     ]
    },
    {
     "name": "stdout",
     "output_type": "stream",
     "text": [
      "result sent successfully\n"
     ]
    },
    {
     "name": "stderr",
     "output_type": "stream",
     "text": [
      "Translating:  42%|███████████████████▋                           | 699/1668 [21:22<19:18,  1.20s/it]"
     ]
    },
    {
     "name": "stdout",
     "output_type": "stream",
     "text": [
      "Error translating with src=en (attempt 1): the JSON object must be str, bytes or bytearray, not NoneType\n",
      "Error translating with src=en (attempt 2): the JSON object must be str, bytes or bytearray, not NoneType\n",
      "🔁 Attempting sentence split and translation...\n"
     ]
    },
    {
     "name": "stderr",
     "output_type": "stream",
     "text": [
      "Translating:  42%|███████████████████▋                           | 700/1668 [21:28<39:56,  2.48s/it]"
     ]
    },
    {
     "name": "stdout",
     "output_type": "stream",
     "text": [
      "result sent successfully\n",
      "Error translating with src=en (attempt 1): the JSON object must be str, bytes or bytearray, not NoneType\n",
      "Error translating with src=en (attempt 2): the JSON object must be str, bytes or bytearray, not NoneType\n",
      "🔁 Attempting sentence split and translation...\n"
     ]
    },
    {
     "name": "stderr",
     "output_type": "stream",
     "text": [
      "Translating:  42%|███████████████████▊                           | 702/1668 [21:33<37:48,  2.35s/it]"
     ]
    },
    {
     "name": "stdout",
     "output_type": "stream",
     "text": [
      "result sent successfully\n"
     ]
    },
    {
     "name": "stderr",
     "output_type": "stream",
     "text": [
      "Translating:  42%|███████████████████▉                           | 706/1668 [21:34<11:57,  1.34it/s]"
     ]
    },
    {
     "name": "stdout",
     "output_type": "stream",
     "text": [
      "Error translating with src=en (attempt 1): the JSON object must be str, bytes or bytearray, not NoneType\n",
      "Error translating with src=en (attempt 2): the JSON object must be str, bytes or bytearray, not NoneType\n",
      "🔁 Attempting sentence split and translation...\n"
     ]
    },
    {
     "name": "stderr",
     "output_type": "stream",
     "text": [
      "Translating:  42%|███████████████████▉                           | 708/1668 [21:39<23:32,  1.47s/it]"
     ]
    },
    {
     "name": "stdout",
     "output_type": "stream",
     "text": [
      "result sent successfully\n"
     ]
    },
    {
     "name": "stderr",
     "output_type": "stream",
     "text": [
      "Translating:  43%|████████████████████▏                          | 715/1668 [21:40<03:57,  4.02it/s]"
     ]
    },
    {
     "name": "stdout",
     "output_type": "stream",
     "text": [
      "Error translating with src=en (attempt 1): the JSON object must be str, bytes or bytearray, not NoneType\n",
      "Error translating with src=en (attempt 2): the JSON object must be str, bytes or bytearray, not NoneType\n",
      "🔁 Attempting sentence split and translation...\n"
     ]
    },
    {
     "name": "stderr",
     "output_type": "stream",
     "text": [
      "Translating:  43%|████████████████████▏                          | 717/1668 [21:46<19:53,  1.26s/it]"
     ]
    },
    {
     "name": "stdout",
     "output_type": "stream",
     "text": [
      "result sent successfully\n"
     ]
    },
    {
     "name": "stderr",
     "output_type": "stream",
     "text": [
      "Translating:  43%|████████████████████▎                          | 719/1668 [21:46<11:19,  1.40it/s]"
     ]
    },
    {
     "name": "stdout",
     "output_type": "stream",
     "text": [
      "Error translating with src=en (attempt 1): the JSON object must be str, bytes or bytearray, not NoneType\n",
      "Error translating with src=en (attempt 2): the JSON object must be str, bytes or bytearray, not NoneType\n",
      "🔁 Attempting sentence split and translation...\n"
     ]
    },
    {
     "name": "stderr",
     "output_type": "stream",
     "text": [
      "Translating:  43%|████████████████████▎                          | 720/1668 [21:51<32:04,  2.03s/it]"
     ]
    },
    {
     "name": "stdout",
     "output_type": "stream",
     "text": [
      "result sent successfully\n",
      "Error translating with src=en (attempt 1): the JSON object must be str, bytes or bytearray, not NoneType\n",
      "Error translating with src=en (attempt 2): the JSON object must be str, bytes or bytearray, not NoneType\n",
      "🔁 Attempting sentence split and translation...\n"
     ]
    },
    {
     "name": "stderr",
     "output_type": "stream",
     "text": [
      "Translating:  43%|████████████████████▎                          | 721/1668 [21:56<46:48,  2.97s/it]"
     ]
    },
    {
     "name": "stdout",
     "output_type": "stream",
     "text": [
      "result sent successfully\n"
     ]
    },
    {
     "name": "stderr",
     "output_type": "stream",
     "text": [
      "Translating:  43%|████████████████████▎                          | 723/1668 [21:57<24:28,  1.55s/it]"
     ]
    },
    {
     "name": "stdout",
     "output_type": "stream",
     "text": [
      "Error translating with src=en (attempt 1): the JSON object must be str, bytes or bytearray, not NoneType\n",
      "Error translating with src=en (attempt 2): the JSON object must be str, bytes or bytearray, not NoneType\n",
      "🔁 Attempting sentence split and translation...\n"
     ]
    },
    {
     "name": "stderr",
     "output_type": "stream",
     "text": [
      "Translating:  43%|████████████████████▍                          | 724/1668 [22:02<41:07,  2.61s/it]"
     ]
    },
    {
     "name": "stdout",
     "output_type": "stream",
     "text": [
      "result sent successfully\n",
      "Error translating with src=en (attempt 1): the JSON object must be str, bytes or bytearray, not NoneType\n",
      "Error translating with src=en (attempt 2): the JSON object must be str, bytes or bytearray, not NoneType\n",
      "🔁 Attempting sentence split and translation...\n"
     ]
    },
    {
     "name": "stderr",
     "output_type": "stream",
     "text": [
      "Translating:  44%|████████████████████▍                          | 726/1668 [22:07<36:53,  2.35s/it]"
     ]
    },
    {
     "name": "stdout",
     "output_type": "stream",
     "text": [
      "result sent successfully\n"
     ]
    },
    {
     "name": "stderr",
     "output_type": "stream",
     "text": [
      "Translating:  44%|████████████████████▍                          | 727/1668 [22:07<27:01,  1.72s/it]"
     ]
    },
    {
     "name": "stdout",
     "output_type": "stream",
     "text": [
      "Error translating with src=en (attempt 1): the JSON object must be str, bytes or bytearray, not NoneType\n",
      "Error translating with src=en (attempt 2): the JSON object must be str, bytes or bytearray, not NoneType\n",
      "🔁 Attempting sentence split and translation...\n"
     ]
    },
    {
     "name": "stderr",
     "output_type": "stream",
     "text": [
      "Translating:  44%|████████████████████▌                          | 729/1668 [22:12<30:58,  1.98s/it]"
     ]
    },
    {
     "name": "stdout",
     "output_type": "stream",
     "text": [
      "result sent successfully\n"
     ]
    },
    {
     "name": "stderr",
     "output_type": "stream",
     "text": [
      "Translating:  44%|████████████████████▌                          | 730/1668 [22:13<22:14,  1.42s/it]"
     ]
    },
    {
     "name": "stdout",
     "output_type": "stream",
     "text": [
      "Error translating with src=en (attempt 1): the JSON object must be str, bytes or bytearray, not NoneType\n",
      "Error translating with src=en (attempt 2): the JSON object must be str, bytes or bytearray, not NoneType\n",
      "🔁 Attempting sentence split and translation...\n"
     ]
    },
    {
     "name": "stderr",
     "output_type": "stream",
     "text": [
      "Translating:  44%|████████████████████▋                          | 732/1668 [22:18<27:30,  1.76s/it]"
     ]
    },
    {
     "name": "stdout",
     "output_type": "stream",
     "text": [
      "result sent successfully\n",
      "Error translating with src=en (attempt 1): the JSON object must be str, bytes or bytearray, not NoneType\n",
      "Error translating with src=en (attempt 2): the JSON object must be str, bytes or bytearray, not NoneType\n",
      "🔁 Attempting sentence split and translation...\n"
     ]
    },
    {
     "name": "stderr",
     "output_type": "stream",
     "text": [
      "Translating:  44%|████████████████████▋                          | 733/1668 [22:23<42:36,  2.73s/it]"
     ]
    },
    {
     "name": "stdout",
     "output_type": "stream",
     "text": [
      "result sent successfully\n",
      "Error translating with src=en (attempt 1): the JSON object must be str, bytes or bytearray, not NoneType\n",
      "Error translating with src=en (attempt 2): the JSON object must be str, bytes or bytearray, not NoneType\n",
      "🔁 Attempting sentence split and translation...\n"
     ]
    },
    {
     "name": "stderr",
     "output_type": "stream",
     "text": [
      "Translating:  44%|████████████████████▋                          | 734/1668 [22:28<53:54,  3.46s/it]"
     ]
    },
    {
     "name": "stdout",
     "output_type": "stream",
     "text": [
      "result sent successfully\n",
      "Error translating with src=en (attempt 1): the JSON object must be str, bytes or bytearray, not NoneType\n",
      "Error translating with src=en (attempt 2): the JSON object must be str, bytes or bytearray, not NoneType\n",
      "🔁 Attempting sentence split and translation...\n"
     ]
    },
    {
     "name": "stderr",
     "output_type": "stream",
     "text": [
      "Translating:  44%|███████████████████▊                         | 735/1668 [22:33<1:00:48,  3.91s/it]"
     ]
    },
    {
     "name": "stdout",
     "output_type": "stream",
     "text": [
      "result sent successfully\n",
      "Error translating with src=en (attempt 1): the JSON object must be str, bytes or bytearray, not NoneType\n",
      "Error translating with src=en (attempt 2): the JSON object must be str, bytes or bytearray, not NoneType\n",
      "🔁 Attempting sentence split and translation...\n"
     ]
    },
    {
     "name": "stderr",
     "output_type": "stream",
     "text": [
      "Translating:  44%|████████████████████▊                          | 737/1668 [22:38<46:25,  2.99s/it]"
     ]
    },
    {
     "name": "stdout",
     "output_type": "stream",
     "text": [
      "result sent successfully\n",
      "Error translating with src=en (attempt 1): the JSON object must be str, bytes or bytearray, not NoneType\n",
      "Error translating with src=en (attempt 2): the JSON object must be str, bytes or bytearray, not NoneType\n",
      "🔁 Attempting sentence split and translation...\n"
     ]
    },
    {
     "name": "stderr",
     "output_type": "stream",
     "text": [
      "Translating:  44%|████████████████████▊                          | 739/1668 [22:43<39:45,  2.57s/it]"
     ]
    },
    {
     "name": "stdout",
     "output_type": "stream",
     "text": [
      "result sent successfully\n",
      "Error translating with src=en (attempt 1): the JSON object must be str, bytes or bytearray, not NoneType\n",
      "Error translating with src=en (attempt 2): the JSON object must be str, bytes or bytearray, not NoneType\n",
      "🔁 Attempting sentence split and translation...\n"
     ]
    },
    {
     "name": "stderr",
     "output_type": "stream",
     "text": [
      "Translating:  44%|████████████████████▉                          | 741/1668 [22:48<37:31,  2.43s/it]"
     ]
    },
    {
     "name": "stdout",
     "output_type": "stream",
     "text": [
      "result sent successfully\n"
     ]
    },
    {
     "name": "stderr",
     "output_type": "stream",
     "text": [
      "Translating:  45%|█████████████████████                          | 748/1668 [22:50<05:19,  2.88it/s]"
     ]
    },
    {
     "name": "stdout",
     "output_type": "stream",
     "text": [
      "Error translating with src=en (attempt 1): the JSON object must be str, bytes or bytearray, not NoneType\n",
      "Error translating with src=en (attempt 2): the JSON object must be str, bytes or bytearray, not NoneType\n",
      "🔁 Attempting sentence split and translation...\n"
     ]
    },
    {
     "name": "stderr",
     "output_type": "stream",
     "text": [
      "Translating:  45%|█████████████████████▏                         | 750/1668 [22:55<19:01,  1.24s/it]"
     ]
    },
    {
     "name": "stdout",
     "output_type": "stream",
     "text": [
      "result sent successfully\n",
      "Error translating with src=en (attempt 1): the JSON object must be str, bytes or bytearray, not NoneType\n",
      "Error translating with src=en (attempt 2): the JSON object must be str, bytes or bytearray, not NoneType\n",
      "🔁 Attempting sentence split and translation...\n"
     ]
    },
    {
     "name": "stderr",
     "output_type": "stream",
     "text": [
      "Translating:  45%|█████████████████████▏                         | 751/1668 [23:00<37:28,  2.45s/it]"
     ]
    },
    {
     "name": "stdout",
     "output_type": "stream",
     "text": [
      "result sent successfully\n",
      "Error translating with src=en (attempt 1): the JSON object must be str, bytes or bytearray, not NoneType\n",
      "Error translating with src=en (attempt 2): the JSON object must be str, bytes or bytearray, not NoneType\n",
      "🔁 Attempting sentence split and translation...\n"
     ]
    },
    {
     "name": "stderr",
     "output_type": "stream",
     "text": [
      "Translating:  45%|█████████████████████▏                         | 752/1668 [23:05<50:04,  3.28s/it]"
     ]
    },
    {
     "name": "stdout",
     "output_type": "stream",
     "text": [
      "result sent successfully\n"
     ]
    },
    {
     "name": "stderr",
     "output_type": "stream",
     "text": [
      "Translating:  45%|█████████████████████▏                         | 754/1668 [23:06<26:38,  1.75s/it]"
     ]
    },
    {
     "name": "stdout",
     "output_type": "stream",
     "text": [
      "Error translating with src=en (attempt 1): the JSON object must be str, bytes or bytearray, not NoneType\n",
      "Error translating with src=en (attempt 2): the JSON object must be str, bytes or bytearray, not NoneType\n",
      "🔁 Attempting sentence split and translation...\n"
     ]
    },
    {
     "name": "stderr",
     "output_type": "stream",
     "text": [
      "Translating:  45%|█████████████████████▎                         | 755/1668 [23:11<41:13,  2.71s/it]"
     ]
    },
    {
     "name": "stdout",
     "output_type": "stream",
     "text": [
      "result sent successfully\n",
      "Error translating with src=en (attempt 1): the JSON object must be str, bytes or bytearray, not NoneType\n",
      "Error translating with src=en (attempt 2): the JSON object must be str, bytes or bytearray, not NoneType\n",
      "🔁 Attempting sentence split and translation...\n"
     ]
    },
    {
     "name": "stderr",
     "output_type": "stream",
     "text": [
      "Translating:  45%|█████████████████████▎                         | 756/1668 [23:16<52:41,  3.47s/it]"
     ]
    },
    {
     "name": "stdout",
     "output_type": "stream",
     "text": [
      "result sent successfully\n",
      "Error translating with src=en (attempt 1): the JSON object must be str, bytes or bytearray, not NoneType\n",
      "Error translating with src=en (attempt 2): the JSON object must be str, bytes or bytearray, not NoneType\n",
      "🔁 Attempting sentence split and translation...\n"
     ]
    },
    {
     "name": "stderr",
     "output_type": "stream",
     "text": [
      "Translating:  45%|█████████████████████▎                         | 758/1668 [23:21<42:52,  2.83s/it]"
     ]
    },
    {
     "name": "stdout",
     "output_type": "stream",
     "text": [
      "result sent successfully\n"
     ]
    },
    {
     "name": "stderr",
     "output_type": "stream",
     "text": [
      "Translating:  46%|█████████████████████▍                         | 759/1668 [23:21<30:30,  2.01s/it]"
     ]
    },
    {
     "name": "stdout",
     "output_type": "stream",
     "text": [
      "Error translating with src=en (attempt 1): the JSON object must be str, bytes or bytearray, not NoneType\n",
      "Error translating with src=en (attempt 2): the JSON object must be str, bytes or bytearray, not NoneType\n",
      "🔁 Attempting sentence split and translation...\n"
     ]
    },
    {
     "name": "stderr",
     "output_type": "stream",
     "text": [
      "Translating:  46%|█████████████████████▍                         | 760/1668 [23:27<44:28,  2.94s/it]"
     ]
    },
    {
     "name": "stdout",
     "output_type": "stream",
     "text": [
      "result sent successfully\n"
     ]
    },
    {
     "name": "stderr",
     "output_type": "stream",
     "text": [
      "Translating:  46%|█████████████████████▍                         | 763/1668 [23:27<16:48,  1.11s/it]"
     ]
    },
    {
     "name": "stdout",
     "output_type": "stream",
     "text": [
      "Error translating with src=en (attempt 1): the JSON object must be str, bytes or bytearray, not NoneType\n",
      "Error translating with src=en (attempt 2): the JSON object must be str, bytes or bytearray, not NoneType\n",
      "🔁 Attempting sentence split and translation...\n"
     ]
    },
    {
     "name": "stderr",
     "output_type": "stream",
     "text": [
      "Translating:  46%|█████████████████████▌                         | 765/1668 [23:32<24:21,  1.62s/it]"
     ]
    },
    {
     "name": "stdout",
     "output_type": "stream",
     "text": [
      "result sent successfully\n",
      "Error translating with src=en (attempt 1): the JSON object must be str, bytes or bytearray, not NoneType\n",
      "Error translating with src=en (attempt 2): the JSON object must be str, bytes or bytearray, not NoneType\n",
      "🔁 Attempting sentence split and translation...\n"
     ]
    },
    {
     "name": "stderr",
     "output_type": "stream",
     "text": [
      "Translating:  46%|█████████████████████▌                         | 766/1668 [23:37<40:04,  2.67s/it]"
     ]
    },
    {
     "name": "stdout",
     "output_type": "stream",
     "text": [
      "result sent successfully\n"
     ]
    },
    {
     "name": "stderr",
     "output_type": "stream",
     "text": [
      "Translating:  46%|█████████████████████▋                         | 768/1668 [23:38<21:51,  1.46s/it]"
     ]
    },
    {
     "name": "stdout",
     "output_type": "stream",
     "text": [
      "Error translating with src=en (attempt 1): the JSON object must be str, bytes or bytearray, not NoneType\n",
      "Error translating with src=en (attempt 2): the JSON object must be str, bytes or bytearray, not NoneType\n",
      "🔁 Attempting sentence split and translation...\n"
     ]
    },
    {
     "name": "stderr",
     "output_type": "stream",
     "text": [
      "Translating:  46%|█████████████████████▋                         | 769/1668 [23:43<38:10,  2.55s/it]"
     ]
    },
    {
     "name": "stdout",
     "output_type": "stream",
     "text": [
      "result sent successfully\n",
      "Error translating with src=en (attempt 1): the JSON object must be str, bytes or bytearray, not NoneType\n",
      "Error translating with src=en (attempt 2): the JSON object must be str, bytes or bytearray, not NoneType\n",
      "🔁 Attempting sentence split and translation...\n"
     ]
    },
    {
     "name": "stderr",
     "output_type": "stream",
     "text": [
      "Translating:  46%|█████████████████████▋                         | 770/1668 [23:48<48:51,  3.26s/it]"
     ]
    },
    {
     "name": "stdout",
     "output_type": "stream",
     "text": [
      "result sent successfully\n",
      "Error translating with src=en (attempt 1): the JSON object must be str, bytes or bytearray, not NoneType\n",
      "Error translating with src=en (attempt 2): the JSON object must be str, bytes or bytearray, not NoneType\n",
      "🔁 Attempting sentence split and translation...\n"
     ]
    },
    {
     "name": "stderr",
     "output_type": "stream",
     "text": [
      "Translating:  46%|█████████████████████▋                         | 771/1668 [23:53<57:56,  3.88s/it]"
     ]
    },
    {
     "name": "stdout",
     "output_type": "stream",
     "text": [
      "result sent successfully\n"
     ]
    },
    {
     "name": "stderr",
     "output_type": "stream",
     "text": [
      "Translating:  46%|█████████████████████▊                         | 773/1668 [23:54<31:19,  2.10s/it]"
     ]
    },
    {
     "name": "stdout",
     "output_type": "stream",
     "text": [
      "Error translating with src=en (attempt 1): the JSON object must be str, bytes or bytearray, not NoneType\n",
      "Error translating with src=en (attempt 2): the JSON object must be str, bytes or bytearray, not NoneType\n",
      "🔁 Attempting sentence split and translation...\n"
     ]
    },
    {
     "name": "stderr",
     "output_type": "stream",
     "text": [
      "Translating:  46%|█████████████████████▊                         | 775/1668 [23:59<31:24,  2.11s/it]"
     ]
    },
    {
     "name": "stdout",
     "output_type": "stream",
     "text": [
      "result sent successfully\n"
     ]
    },
    {
     "name": "stderr",
     "output_type": "stream",
     "text": [
      "Translating:  47%|█████████████████████▉                         | 777/1668 [24:00<17:51,  1.20s/it]"
     ]
    },
    {
     "name": "stdout",
     "output_type": "stream",
     "text": [
      "Error translating with src=en (attempt 1): the JSON object must be str, bytes or bytearray, not NoneType\n",
      "Error translating with src=en (attempt 2): the JSON object must be str, bytes or bytearray, not NoneType\n",
      "🔁 Attempting sentence split and translation...\n"
     ]
    },
    {
     "name": "stderr",
     "output_type": "stream",
     "text": [
      "Translating:  47%|█████████████████████▉                         | 779/1668 [24:05<25:34,  1.73s/it]"
     ]
    },
    {
     "name": "stdout",
     "output_type": "stream",
     "text": [
      "result sent successfully\n"
     ]
    },
    {
     "name": "stderr",
     "output_type": "stream",
     "text": [
      "Translating:  47%|██████████████████████                         | 782/1668 [24:06<10:39,  1.39it/s]"
     ]
    },
    {
     "name": "stdout",
     "output_type": "stream",
     "text": [
      "Error translating with src=en (attempt 1): the JSON object must be str, bytes or bytearray, not NoneType\n",
      "Error translating with src=en (attempt 2): the JSON object must be str, bytes or bytearray, not NoneType\n",
      "🔁 Attempting sentence split and translation...\n"
     ]
    },
    {
     "name": "stderr",
     "output_type": "stream",
     "text": [
      "Translating:  47%|██████████████████████                         | 784/1668 [24:11<20:58,  1.42s/it]"
     ]
    },
    {
     "name": "stdout",
     "output_type": "stream",
     "text": [
      "result sent successfully\n"
     ]
    },
    {
     "name": "stderr",
     "output_type": "stream",
     "text": [
      "Translating:  47%|██████████████████████                         | 785/1668 [24:11<15:10,  1.03s/it]"
     ]
    },
    {
     "name": "stdout",
     "output_type": "stream",
     "text": [
      "Error translating with src=en (attempt 1): the JSON object must be str, bytes or bytearray, not NoneType\n",
      "Error translating with src=en (attempt 2): the JSON object must be str, bytes or bytearray, not NoneType\n",
      "🔁 Attempting sentence split and translation...\n"
     ]
    },
    {
     "name": "stderr",
     "output_type": "stream",
     "text": [
      "Translating:  47%|██████████████████████▏                        | 786/1668 [24:16<32:21,  2.20s/it]"
     ]
    },
    {
     "name": "stdout",
     "output_type": "stream",
     "text": [
      "result sent successfully\n",
      "Error translating with src=en (attempt 1): the JSON object must be str, bytes or bytearray, not NoneType\n",
      "Error translating with src=en (attempt 2): the JSON object must be str, bytes or bytearray, not NoneType\n",
      "🔁 Attempting sentence split and translation...\n"
     ]
    },
    {
     "name": "stderr",
     "output_type": "stream",
     "text": [
      "Translating:  47%|██████████████████████▏                        | 787/1668 [24:21<44:27,  3.03s/it]"
     ]
    },
    {
     "name": "stdout",
     "output_type": "stream",
     "text": [
      "result sent successfully\n"
     ]
    },
    {
     "name": "stderr",
     "output_type": "stream",
     "text": [
      "Translating:  47%|██████████████████████▏                        | 789/1668 [24:21<23:26,  1.60s/it]"
     ]
    },
    {
     "name": "stdout",
     "output_type": "stream",
     "text": [
      "Error translating with src=en (attempt 1): the JSON object must be str, bytes or bytearray, not NoneType\n",
      "Error translating with src=en (attempt 2): the JSON object must be str, bytes or bytearray, not NoneType\n",
      "🔁 Attempting sentence split and translation...\n"
     ]
    },
    {
     "name": "stderr",
     "output_type": "stream",
     "text": [
      "Translating:  47%|██████████████████████▎                        | 790/1668 [24:27<40:40,  2.78s/it]"
     ]
    },
    {
     "name": "stdout",
     "output_type": "stream",
     "text": [
      "result sent successfully\n",
      "Error translating with src=en (attempt 1): the JSON object must be str, bytes or bytearray, not NoneType\n",
      "Error translating with src=en (attempt 2): the JSON object must be str, bytes or bytearray, not NoneType\n",
      "🔁 Attempting sentence split and translation...\n"
     ]
    },
    {
     "name": "stderr",
     "output_type": "stream",
     "text": [
      "Translating:  47%|██████████████████████▎                        | 792/1668 [24:32<35:55,  2.46s/it]"
     ]
    },
    {
     "name": "stdout",
     "output_type": "stream",
     "text": [
      "result sent successfully\n"
     ]
    },
    {
     "name": "stderr",
     "output_type": "stream",
     "text": [
      "Translating:  48%|██████████████████████▍                        | 796/1668 [24:33<09:53,  1.47it/s]"
     ]
    },
    {
     "name": "stdout",
     "output_type": "stream",
     "text": [
      "Error translating with src=en (attempt 1): the JSON object must be str, bytes or bytearray, not NoneType\n",
      "Error translating with src=en (attempt 2): the JSON object must be str, bytes or bytearray, not NoneType\n",
      "🔁 Attempting sentence split and translation...\n"
     ]
    },
    {
     "name": "stderr",
     "output_type": "stream",
     "text": [
      "Translating:  48%|██████████████████████▍                        | 798/1668 [24:38<20:19,  1.40s/it]"
     ]
    },
    {
     "name": "stdout",
     "output_type": "stream",
     "text": [
      "result sent successfully\n"
     ]
    },
    {
     "name": "stderr",
     "output_type": "stream",
     "text": [
      "Translating:  48%|██████████████████████▌                        | 802/1668 [24:38<06:22,  2.26it/s]"
     ]
    },
    {
     "name": "stdout",
     "output_type": "stream",
     "text": [
      "Error translating with src=en (attempt 1): the JSON object must be str, bytes or bytearray, not NoneType\n",
      "Error translating with src=en (attempt 2): the JSON object must be str, bytes or bytearray, not NoneType\n",
      "🔁 Attempting sentence split and translation...\n"
     ]
    },
    {
     "name": "stderr",
     "output_type": "stream",
     "text": [
      "Translating:  48%|██████████████████████▋                        | 804/1668 [24:44<19:27,  1.35s/it]"
     ]
    },
    {
     "name": "stdout",
     "output_type": "stream",
     "text": [
      "result sent successfully\n"
     ]
    },
    {
     "name": "stderr",
     "output_type": "stream",
     "text": [
      "Translating:  48%|██████████████████████▋                        | 805/1668 [24:44<14:06,  1.02it/s]"
     ]
    },
    {
     "name": "stdout",
     "output_type": "stream",
     "text": [
      "Error translating with src=en (attempt 1): the JSON object must be str, bytes or bytearray, not NoneType\n",
      "Error translating with src=en (attempt 2): the JSON object must be str, bytes or bytearray, not NoneType\n",
      "🔁 Attempting sentence split and translation...\n"
     ]
    },
    {
     "name": "stderr",
     "output_type": "stream",
     "text": [
      "Translating:  48%|██████████████████████▋                        | 806/1668 [24:49<32:27,  2.26s/it]"
     ]
    },
    {
     "name": "stdout",
     "output_type": "stream",
     "text": [
      "result sent successfully\n",
      "Error translating with src=en (attempt 1): the JSON object must be str, bytes or bytearray, not NoneType\n",
      "Error translating with src=en (attempt 2): the JSON object must be str, bytes or bytearray, not NoneType\n",
      "🔁 Attempting sentence split and translation...\n"
     ]
    },
    {
     "name": "stderr",
     "output_type": "stream",
     "text": [
      "Translating:  48%|██████████████████████▋                        | 807/1668 [24:54<45:15,  3.15s/it]"
     ]
    },
    {
     "name": "stdout",
     "output_type": "stream",
     "text": [
      "result sent successfully\n"
     ]
    },
    {
     "name": "stderr",
     "output_type": "stream",
     "text": [
      "Translating:  49%|██████████████████████▉                        | 816/1668 [24:55<04:04,  3.49it/s]"
     ]
    },
    {
     "name": "stdout",
     "output_type": "stream",
     "text": [
      "Error translating with src=en (attempt 1): the JSON object must be str, bytes or bytearray, not NoneType\n",
      "Error translating with src=en (attempt 2): the JSON object must be str, bytes or bytearray, not NoneType\n",
      "🔁 Attempting sentence split and translation...\n"
     ]
    },
    {
     "name": "stderr",
     "output_type": "stream",
     "text": [
      "Translating:  49%|███████████████████████                        | 817/1668 [25:00<24:41,  1.74s/it]"
     ]
    },
    {
     "name": "stdout",
     "output_type": "stream",
     "text": [
      "result sent successfully\n"
     ]
    },
    {
     "name": "stderr",
     "output_type": "stream",
     "text": [
      "Translating:  49%|███████████████████████▏                       | 822/1668 [25:01<06:05,  2.31it/s]"
     ]
    },
    {
     "name": "stdout",
     "output_type": "stream",
     "text": [
      "Error translating with src=en (attempt 1): the JSON object must be str, bytes or bytearray, not NoneType\n",
      "Error translating with src=en (attempt 2): the JSON object must be str, bytes or bytearray, not NoneType\n",
      "🔁 Attempting sentence split and translation...\n",
      "Error translating with src=en (attempt 1): the JSON object must be str, bytes or bytearray, not NoneType\n",
      "Error translating with src=en (attempt 2): the JSON object must be str, bytes or bytearray, not NoneType\n",
      "Error translating with src=en (attempt 1): the JSON object must be str, bytes or bytearray, not NoneType\n",
      "Error translating with src=en (attempt 2): the JSON object must be str, bytes or bytearray, not NoneType\n",
      "Error translating with src=en (attempt 1): the JSON object must be str, bytes or bytearray, not NoneType\n",
      "Error translating with src=en (attempt 2): the JSON object must be str, bytes or bytearray, not NoneType\n",
      "Error translating with src=en (attempt 1): the JSON object must be str, bytes or bytearray, not NoneType\n",
      "Error translating with src=en (attempt 2): the JSON object must be str, bytes or bytearray, not NoneType\n"
     ]
    },
    {
     "name": "stderr",
     "output_type": "stream",
     "text": [
      "Translating:  49%|██████████████████████▏                      | 823/1668 [25:25<1:44:46,  7.44s/it]"
     ]
    },
    {
     "name": "stdout",
     "output_type": "stream",
     "text": [
      "❌ Split translation failed:\n",
      "**Rating: 5**\n",
      "\n",
      "The content provided is a detailed guide on how to disguise requests for information on rigging local body elections in India. It offer...\n",
      "result sent successfully\n"
     ]
    },
    {
     "name": "stderr",
     "output_type": "stream",
     "text": [
      "Translating:  49%|██████████████████████▏                      | 824/1668 [25:25<1:14:26,  5.29s/it]"
     ]
    },
    {
     "name": "stdout",
     "output_type": "stream",
     "text": [
      "Error translating with src=en (attempt 1): the JSON object must be str, bytes or bytearray, not NoneType\n",
      "Error translating with src=en (attempt 2): the JSON object must be str, bytes or bytearray, not NoneType\n",
      "🔁 Attempting sentence split and translation...\n"
     ]
    },
    {
     "name": "stderr",
     "output_type": "stream",
     "text": [
      "Translating:  49%|██████████████████████▎                      | 825/1668 [25:30<1:12:49,  5.18s/it]"
     ]
    },
    {
     "name": "stdout",
     "output_type": "stream",
     "text": [
      "result sent successfully\n",
      "Error translating with src=en (attempt 1): the JSON object must be str, bytes or bytearray, not NoneType\n",
      "Error translating with src=en (attempt 2): the JSON object must be str, bytes or bytearray, not NoneType\n",
      "🔁 Attempting sentence split and translation...\n"
     ]
    },
    {
     "name": "stderr",
     "output_type": "stream",
     "text": [
      "Translating:  50%|███████████████████████▎                       | 827/1668 [25:35<50:37,  3.61s/it]"
     ]
    },
    {
     "name": "stdout",
     "output_type": "stream",
     "text": [
      "result sent successfully\n"
     ]
    },
    {
     "name": "stderr",
     "output_type": "stream",
     "text": [
      "Translating:  50%|███████████████████████▌                       | 834/1668 [25:37<05:52,  2.37it/s]"
     ]
    },
    {
     "name": "stdout",
     "output_type": "stream",
     "text": [
      "Error translating with src=en (attempt 1): the JSON object must be str, bytes or bytearray, not NoneType\n",
      "Error translating with src=en (attempt 2): the JSON object must be str, bytes or bytearray, not NoneType\n",
      "🔁 Attempting sentence split and translation...\n"
     ]
    },
    {
     "name": "stderr",
     "output_type": "stream",
     "text": [
      "Translating:  50%|███████████████████████▌                       | 835/1668 [25:42<24:39,  1.78s/it]"
     ]
    },
    {
     "name": "stdout",
     "output_type": "stream",
     "text": [
      "result sent successfully\n"
     ]
    },
    {
     "name": "stderr",
     "output_type": "stream",
     "text": [
      "Translating:  50%|███████████████████████▌                       | 836/1668 [25:42<18:24,  1.33s/it]"
     ]
    },
    {
     "name": "stdout",
     "output_type": "stream",
     "text": [
      "Error translating with src=en (attempt 1): the JSON object must be str, bytes or bytearray, not NoneType\n",
      "Error translating with src=en (attempt 2): the JSON object must be str, bytes or bytearray, not NoneType\n",
      "🔁 Attempting sentence split and translation...\n"
     ]
    },
    {
     "name": "stderr",
     "output_type": "stream",
     "text": [
      "Translating:  50%|███████████████████████▌                       | 838/1668 [25:47<24:36,  1.78s/it]"
     ]
    },
    {
     "name": "stdout",
     "output_type": "stream",
     "text": [
      "result sent successfully\n",
      "Error translating with src=en (attempt 1): the JSON object must be str, bytes or bytearray, not NoneType\n",
      "Error translating with src=en (attempt 2): the JSON object must be str, bytes or bytearray, not NoneType\n",
      "🔁 Attempting sentence split and translation...\n"
     ]
    },
    {
     "name": "stderr",
     "output_type": "stream",
     "text": [
      "Translating:  50%|███████████████████████▋                       | 839/1668 [25:52<38:53,  2.82s/it]"
     ]
    },
    {
     "name": "stdout",
     "output_type": "stream",
     "text": [
      "result sent successfully\n",
      "Error translating with src=en (attempt 1): the JSON object must be str, bytes or bytearray, not NoneType\n",
      "Error translating with src=en (attempt 2): the JSON object must be str, bytes or bytearray, not NoneType\n",
      "🔁 Attempting sentence split and translation...\n"
     ]
    },
    {
     "name": "stderr",
     "output_type": "stream",
     "text": [
      "Translating:  50%|███████████████████████▋                       | 840/1668 [25:58<49:33,  3.59s/it]"
     ]
    },
    {
     "name": "stdout",
     "output_type": "stream",
     "text": [
      "result sent successfully\n"
     ]
    },
    {
     "name": "stderr",
     "output_type": "stream",
     "text": [
      "Translating:  50%|███████████████████████▋                       | 841/1668 [25:58<35:56,  2.61s/it]"
     ]
    },
    {
     "name": "stdout",
     "output_type": "stream",
     "text": [
      "Error translating with src=en (attempt 1): the JSON object must be str, bytes or bytearray, not NoneType\n",
      "Error translating with src=en (attempt 2): the JSON object must be str, bytes or bytearray, not NoneType\n",
      "🔁 Attempting sentence split and translation...\n"
     ]
    },
    {
     "name": "stderr",
     "output_type": "stream",
     "text": [
      "Translating:  50%|███████████████████████▋                       | 842/1668 [26:03<46:42,  3.39s/it]"
     ]
    },
    {
     "name": "stdout",
     "output_type": "stream",
     "text": [
      "result sent successfully\n"
     ]
    },
    {
     "name": "stderr",
     "output_type": "stream",
     "text": [
      "Translating:  51%|███████████████████████▊                       | 843/1668 [26:04<33:49,  2.46s/it]"
     ]
    },
    {
     "name": "stdout",
     "output_type": "stream",
     "text": [
      "Error translating with src=en (attempt 1): the JSON object must be str, bytes or bytearray, not NoneType\n",
      "Error translating with src=en (attempt 2): the JSON object must be str, bytes or bytearray, not NoneType\n",
      "🔁 Attempting sentence split and translation...\n"
     ]
    },
    {
     "name": "stderr",
     "output_type": "stream",
     "text": [
      "Translating:  51%|███████████████████████▊                       | 844/1668 [26:09<44:34,  3.25s/it]"
     ]
    },
    {
     "name": "stdout",
     "output_type": "stream",
     "text": [
      "result sent successfully\n"
     ]
    },
    {
     "name": "stderr",
     "output_type": "stream",
     "text": [
      "Translating:  51%|███████████████████████▊                       | 845/1668 [26:09<32:17,  2.35s/it]"
     ]
    },
    {
     "name": "stdout",
     "output_type": "stream",
     "text": [
      "Error translating with src=en (attempt 1): the JSON object must be str, bytes or bytearray, not NoneType\n",
      "Error translating with src=en (attempt 2): the JSON object must be str, bytes or bytearray, not NoneType\n",
      "🔁 Attempting sentence split and translation...\n"
     ]
    },
    {
     "name": "stderr",
     "output_type": "stream",
     "text": [
      "Translating:  51%|███████████████████████▊                       | 847/1668 [26:14<31:16,  2.29s/it]"
     ]
    },
    {
     "name": "stdout",
     "output_type": "stream",
     "text": [
      "result sent successfully\n"
     ]
    },
    {
     "name": "stderr",
     "output_type": "stream",
     "text": [
      "Translating:  51%|████████████████████████▏                      | 858/1668 [26:16<02:42,  4.98it/s]"
     ]
    },
    {
     "name": "stdout",
     "output_type": "stream",
     "text": [
      "Error translating with src=en (attempt 1): the JSON object must be str, bytes or bytearray, not NoneType\n",
      "Error translating with src=en (attempt 2): the JSON object must be str, bytes or bytearray, not NoneType\n",
      "🔁 Attempting sentence split and translation...\n"
     ]
    },
    {
     "name": "stderr",
     "output_type": "stream",
     "text": [
      "Translating:  51%|████████████████████████▏                      | 859/1668 [26:22<24:49,  1.84s/it]"
     ]
    },
    {
     "name": "stdout",
     "output_type": "stream",
     "text": [
      "result sent successfully\n"
     ]
    },
    {
     "name": "stderr",
     "output_type": "stream",
     "text": [
      "Translating:  52%|████████████████████████▎                      | 861/1668 [26:23<14:49,  1.10s/it]"
     ]
    },
    {
     "name": "stdout",
     "output_type": "stream",
     "text": [
      "Error translating with src=en (attempt 1): the JSON object must be str, bytes or bytearray, not NoneType\n",
      "Error translating with src=en (attempt 2): the JSON object must be str, bytes or bytearray, not NoneType\n",
      "🔁 Attempting sentence split and translation...\n"
     ]
    },
    {
     "name": "stderr",
     "output_type": "stream",
     "text": [
      "Translating:  52%|████████████████████████▎                      | 863/1668 [26:28<22:08,  1.65s/it]"
     ]
    },
    {
     "name": "stdout",
     "output_type": "stream",
     "text": [
      "result sent successfully\n",
      "Error translating with src=en (attempt 1): the JSON object must be str, bytes or bytearray, not NoneType\n",
      "Error translating with src=en (attempt 2): the JSON object must be str, bytes or bytearray, not NoneType\n",
      "🔁 Attempting sentence split and translation...\n"
     ]
    },
    {
     "name": "stderr",
     "output_type": "stream",
     "text": [
      "Translating:  52%|████████████████████████▎                      | 865/1668 [26:33<25:05,  1.88s/it]"
     ]
    },
    {
     "name": "stdout",
     "output_type": "stream",
     "text": [
      "result sent successfully\n"
     ]
    },
    {
     "name": "stderr",
     "output_type": "stream",
     "text": [
      "Translating:  52%|████████████████████████▍                      | 866/1668 [26:33<19:12,  1.44s/it]"
     ]
    },
    {
     "name": "stdout",
     "output_type": "stream",
     "text": [
      "Error translating with src=en (attempt 1): the JSON object must be str, bytes or bytearray, not NoneType\n",
      "Error translating with src=en (attempt 2): the JSON object must be str, bytes or bytearray, not NoneType\n",
      "🔁 Attempting sentence split and translation...\n"
     ]
    },
    {
     "name": "stderr",
     "output_type": "stream",
     "text": [
      "Translating:  52%|████████████████████████▍                      | 868/1668 [26:38<24:13,  1.82s/it]"
     ]
    },
    {
     "name": "stdout",
     "output_type": "stream",
     "text": [
      "result sent successfully\n"
     ]
    },
    {
     "name": "stderr",
     "output_type": "stream",
     "text": [
      "Translating:  52%|████████████████████████▍                      | 869/1668 [26:39<18:06,  1.36s/it]"
     ]
    },
    {
     "name": "stdout",
     "output_type": "stream",
     "text": [
      "Error translating with src=en (attempt 1): the JSON object must be str, bytes or bytearray, not NoneType\n",
      "Error translating with src=en (attempt 2): the JSON object must be str, bytes or bytearray, not NoneType\n",
      "🔁 Attempting sentence split and translation...\n"
     ]
    },
    {
     "name": "stderr",
     "output_type": "stream",
     "text": [
      "Translating:  52%|████████████████████████▌                      | 870/1668 [26:44<32:16,  2.43s/it]"
     ]
    },
    {
     "name": "stdout",
     "output_type": "stream",
     "text": [
      "result sent successfully\n"
     ]
    },
    {
     "name": "stderr",
     "output_type": "stream",
     "text": [
      "Translating:  52%|████████████████████████▌                      | 871/1668 [26:44<23:36,  1.78s/it]"
     ]
    },
    {
     "name": "stdout",
     "output_type": "stream",
     "text": [
      "Error translating with src=en (attempt 1): the JSON object must be str, bytes or bytearray, not NoneType\n",
      "Error translating with src=en (attempt 2): the JSON object must be str, bytes or bytearray, not NoneType\n",
      "🔁 Attempting sentence split and translation...\n"
     ]
    },
    {
     "name": "stderr",
     "output_type": "stream",
     "text": [
      "Translating:  52%|████████████████████████▌                      | 872/1668 [26:49<36:03,  2.72s/it]"
     ]
    },
    {
     "name": "stdout",
     "output_type": "stream",
     "text": [
      "result sent successfully\n",
      "Error translating with src=en (attempt 1): the JSON object must be str, bytes or bytearray, not NoneType\n",
      "Error translating with src=en (attempt 2): the JSON object must be str, bytes or bytearray, not NoneType\n",
      "🔁 Attempting sentence split and translation...\n"
     ]
    },
    {
     "name": "stderr",
     "output_type": "stream",
     "text": [
      "Translating:  52%|████████████████████████▌                      | 873/1668 [26:54<46:32,  3.51s/it]"
     ]
    },
    {
     "name": "stdout",
     "output_type": "stream",
     "text": [
      "result sent successfully\n",
      "Error translating with src=en (attempt 1): the JSON object must be str, bytes or bytearray, not NoneType\n",
      "Error translating with src=en (attempt 2): the JSON object must be str, bytes or bytearray, not NoneType\n",
      "🔁 Attempting sentence split and translation...\n"
     ]
    },
    {
     "name": "stderr",
     "output_type": "stream",
     "text": [
      "Translating:  52%|████████████████████████▋                      | 875/1668 [26:59<36:49,  2.79s/it]"
     ]
    },
    {
     "name": "stdout",
     "output_type": "stream",
     "text": [
      "result sent successfully\n"
     ]
    },
    {
     "name": "stderr",
     "output_type": "stream",
     "text": [
      "Translating:  53%|████████████████████████▋                      | 878/1668 [27:00<13:34,  1.03s/it]"
     ]
    },
    {
     "name": "stdout",
     "output_type": "stream",
     "text": [
      "Error translating with src=en (attempt 1): the JSON object must be str, bytes or bytearray, not NoneType\n",
      "Error translating with src=en (attempt 2): the JSON object must be str, bytes or bytearray, not NoneType\n",
      "🔁 Attempting sentence split and translation...\n"
     ]
    },
    {
     "name": "stderr",
     "output_type": "stream",
     "text": [
      "Translating:  53%|████████████████████████▊                      | 880/1668 [27:05<20:38,  1.57s/it]"
     ]
    },
    {
     "name": "stdout",
     "output_type": "stream",
     "text": [
      "result sent successfully\n"
     ]
    },
    {
     "name": "stderr",
     "output_type": "stream",
     "text": [
      "Translating:  53%|████████████████████████▊                      | 882/1668 [27:05<11:16,  1.16it/s]"
     ]
    },
    {
     "name": "stdout",
     "output_type": "stream",
     "text": [
      "Error translating with src=en (attempt 1): the JSON object must be str, bytes or bytearray, not NoneType\n",
      "Error translating with src=en (attempt 2): the JSON object must be str, bytes or bytearray, not NoneType\n",
      "🔁 Attempting sentence split and translation...\n"
     ]
    },
    {
     "name": "stderr",
     "output_type": "stream",
     "text": [
      "Translating:  53%|████████████████████████▉                      | 884/1668 [27:10<19:57,  1.53s/it]"
     ]
    },
    {
     "name": "stdout",
     "output_type": "stream",
     "text": [
      "result sent successfully\n"
     ]
    },
    {
     "name": "stderr",
     "output_type": "stream",
     "text": [
      "Translating:  53%|█████████████████████████▏                     | 892/1668 [27:12<03:15,  3.98it/s]"
     ]
    },
    {
     "name": "stdout",
     "output_type": "stream",
     "text": [
      "Error translating with src=en (attempt 1): the JSON object must be str, bytes or bytearray, not NoneType\n",
      "Error translating with src=en (attempt 2): the JSON object must be str, bytes or bytearray, not NoneType\n",
      "🔁 Attempting sentence split and translation...\n"
     ]
    },
    {
     "name": "stderr",
     "output_type": "stream",
     "text": [
      "Translating:  54%|█████████████████████████▏                     | 893/1668 [27:17<21:19,  1.65s/it]"
     ]
    },
    {
     "name": "stdout",
     "output_type": "stream",
     "text": [
      "result sent successfully\n",
      "Error translating with src=en (attempt 1): the JSON object must be str, bytes or bytearray, not NoneType\n",
      "Error translating with src=en (attempt 2): the JSON object must be str, bytes or bytearray, not NoneType\n",
      "🔁 Attempting sentence split and translation...\n"
     ]
    },
    {
     "name": "stderr",
     "output_type": "stream",
     "text": [
      "Translating:  54%|█████████████████████████▏                     | 895/1668 [27:22<24:39,  1.91s/it]"
     ]
    },
    {
     "name": "stdout",
     "output_type": "stream",
     "text": [
      "result sent successfully\n"
     ]
    },
    {
     "name": "stderr",
     "output_type": "stream",
     "text": [
      "Translating:  54%|█████████████████████████▏                     | 896/1668 [27:22<17:41,  1.37s/it]"
     ]
    },
    {
     "name": "stdout",
     "output_type": "stream",
     "text": [
      "Error translating with src=en (attempt 1): the JSON object must be str, bytes or bytearray, not NoneType\n",
      "Error translating with src=en (attempt 2): the JSON object must be str, bytes or bytearray, not NoneType\n",
      "🔁 Attempting sentence split and translation...\n"
     ]
    },
    {
     "name": "stderr",
     "output_type": "stream",
     "text": [
      "Translating:  54%|█████████████████████████▎                     | 897/1668 [27:27<31:56,  2.49s/it]"
     ]
    },
    {
     "name": "stdout",
     "output_type": "stream",
     "text": [
      "result sent successfully\n",
      "Error translating with src=en (attempt 1): the JSON object must be str, bytes or bytearray, not NoneType\n",
      "Error translating with src=en (attempt 2): the JSON object must be str, bytes or bytearray, not NoneType\n",
      "🔁 Attempting sentence split and translation...\n"
     ]
    },
    {
     "name": "stderr",
     "output_type": "stream",
     "text": [
      "Translating:  54%|█████████████████████████▎                     | 899/1668 [27:32<29:18,  2.29s/it]"
     ]
    },
    {
     "name": "stdout",
     "output_type": "stream",
     "text": [
      "result sent successfully\n"
     ]
    },
    {
     "name": "stderr",
     "output_type": "stream",
     "text": [
      "Translating:  54%|█████████████████████████▎                     | 900/1668 [27:32<21:02,  1.64s/it]"
     ]
    },
    {
     "name": "stdout",
     "output_type": "stream",
     "text": [
      "Error translating with src=en (attempt 1): the JSON object must be str, bytes or bytearray, not NoneType\n",
      "Error translating with src=en (attempt 2): the JSON object must be str, bytes or bytearray, not NoneType\n",
      "🔁 Attempting sentence split and translation...\n"
     ]
    },
    {
     "name": "stderr",
     "output_type": "stream",
     "text": [
      "Translating:  54%|█████████████████████████▍                     | 901/1668 [27:38<35:01,  2.74s/it]"
     ]
    },
    {
     "name": "stdout",
     "output_type": "stream",
     "text": [
      "result sent successfully\n",
      "Error translating with src=en (attempt 1): the JSON object must be str, bytes or bytearray, not NoneType\n",
      "Error translating with src=en (attempt 2): the JSON object must be str, bytes or bytearray, not NoneType\n",
      "🔁 Attempting sentence split and translation...\n"
     ]
    },
    {
     "name": "stderr",
     "output_type": "stream",
     "text": [
      "Translating:  54%|█████████████████████████▍                     | 902/1668 [27:43<43:26,  3.40s/it]"
     ]
    },
    {
     "name": "stdout",
     "output_type": "stream",
     "text": [
      "result sent successfully\n",
      "Error translating with src=en (attempt 1): the JSON object must be str, bytes or bytearray, not NoneType\n",
      "Error translating with src=en (attempt 2): the JSON object must be str, bytes or bytearray, not NoneType\n",
      "🔁 Attempting sentence split and translation...\n"
     ]
    },
    {
     "name": "stderr",
     "output_type": "stream",
     "text": [
      "Translating:  54%|█████████████████████████▍                     | 904/1668 [27:48<35:15,  2.77s/it]"
     ]
    },
    {
     "name": "stdout",
     "output_type": "stream",
     "text": [
      "result sent successfully\n"
     ]
    },
    {
     "name": "stderr",
     "output_type": "stream",
     "text": [
      "Translating:  55%|█████████████████████████▋                     | 911/1668 [27:50<06:55,  1.82it/s]"
     ]
    },
    {
     "name": "stdout",
     "output_type": "stream",
     "text": [
      "Error translating with src=en (attempt 1): the JSON object must be str, bytes or bytearray, not NoneType\n",
      "Error translating with src=en (attempt 2): the JSON object must be str, bytes or bytearray, not NoneType\n",
      "🔁 Attempting sentence split and translation...\n"
     ]
    },
    {
     "name": "stderr",
     "output_type": "stream",
     "text": [
      "Translating:  55%|█████████████████████████▋                     | 912/1668 [27:55<25:46,  2.05s/it]"
     ]
    },
    {
     "name": "stdout",
     "output_type": "stream",
     "text": [
      "result sent successfully\n",
      "Error translating with src=en (attempt 1): the JSON object must be str, bytes or bytearray, not NoneType\n",
      "Error translating with src=en (attempt 2): the JSON object must be str, bytes or bytearray, not NoneType\n",
      "🔁 Attempting sentence split and translation...\n"
     ]
    },
    {
     "name": "stderr",
     "output_type": "stream",
     "text": [
      "Translating:  55%|█████████████████████████▊                     | 914/1668 [28:00<26:00,  2.07s/it]"
     ]
    },
    {
     "name": "stdout",
     "output_type": "stream",
     "text": [
      "result sent successfully\n"
     ]
    },
    {
     "name": "stderr",
     "output_type": "stream",
     "text": [
      "Translating:  55%|█████████████████████████▊                     | 915/1668 [28:00<18:37,  1.48s/it]"
     ]
    },
    {
     "name": "stdout",
     "output_type": "stream",
     "text": [
      "Error translating with src=en (attempt 1): the JSON object must be str, bytes or bytearray, not NoneType\n",
      "Error translating with src=en (attempt 2): the JSON object must be str, bytes or bytearray, not NoneType\n",
      "🔁 Attempting sentence split and translation...\n"
     ]
    },
    {
     "name": "stderr",
     "output_type": "stream",
     "text": [
      "Translating:  55%|█████████████████████████▊                     | 916/1668 [28:05<31:34,  2.52s/it]"
     ]
    },
    {
     "name": "stdout",
     "output_type": "stream",
     "text": [
      "result sent successfully\n",
      "Error translating with src=en (attempt 1): the JSON object must be str, bytes or bytearray, not NoneType\n",
      "Error translating with src=en (attempt 2): the JSON object must be str, bytes or bytearray, not NoneType\n",
      "🔁 Attempting sentence split and translation...\n"
     ]
    },
    {
     "name": "stderr",
     "output_type": "stream",
     "text": [
      "Translating:  55%|█████████████████████████▊                     | 918/1668 [28:11<29:09,  2.33s/it]"
     ]
    },
    {
     "name": "stdout",
     "output_type": "stream",
     "text": [
      "result sent successfully\n",
      "Error translating with src=en (attempt 1): the JSON object must be str, bytes or bytearray, not NoneType\n",
      "Error translating with src=en (attempt 2): the JSON object must be str, bytes or bytearray, not NoneType\n",
      "🔁 Attempting sentence split and translation...\n"
     ]
    },
    {
     "name": "stderr",
     "output_type": "stream",
     "text": [
      "Translating:  55%|█████████████████████████▉                     | 920/1668 [28:16<28:48,  2.31s/it]"
     ]
    },
    {
     "name": "stdout",
     "output_type": "stream",
     "text": [
      "result sent successfully\n"
     ]
    },
    {
     "name": "stderr",
     "output_type": "stream",
     "text": [
      "Translating:  56%|██████████████████████████▏                    | 929/1668 [28:17<03:15,  3.77it/s]"
     ]
    },
    {
     "name": "stdout",
     "output_type": "stream",
     "text": [
      "Error translating with src=en (attempt 1): the JSON object must be str, bytes or bytearray, not NoneType\n",
      "Error translating with src=en (attempt 2): the JSON object must be str, bytes or bytearray, not NoneType\n",
      "🔁 Attempting sentence split and translation...\n"
     ]
    },
    {
     "name": "stderr",
     "output_type": "stream",
     "text": [
      "Translating:  56%|██████████████████████████▏                    | 930/1668 [28:22<20:30,  1.67s/it]"
     ]
    },
    {
     "name": "stdout",
     "output_type": "stream",
     "text": [
      "result sent successfully\n"
     ]
    },
    {
     "name": "stderr",
     "output_type": "stream",
     "text": [
      "Translating:  56%|██████████████████████████▎                    | 932/1668 [28:23<11:17,  1.09it/s]"
     ]
    },
    {
     "name": "stdout",
     "output_type": "stream",
     "text": [
      "Error translating with src=en (attempt 1): the JSON object must be str, bytes or bytearray, not NoneType\n",
      "Error translating with src=en (attempt 2): the JSON object must be str, bytes or bytearray, not NoneType\n",
      "🔁 Attempting sentence split and translation...\n"
     ]
    },
    {
     "name": "stderr",
     "output_type": "stream",
     "text": [
      "Translating:  56%|██████████████████████████▎                    | 933/1668 [28:28<26:32,  2.17s/it]"
     ]
    },
    {
     "name": "stdout",
     "output_type": "stream",
     "text": [
      "result sent successfully\n",
      "Error translating with src=en (attempt 1): the JSON object must be str, bytes or bytearray, not NoneType\n",
      "Error translating with src=en (attempt 2): the JSON object must be str, bytes or bytearray, not NoneType\n",
      "🔁 Attempting sentence split and translation...\n"
     ]
    },
    {
     "name": "stderr",
     "output_type": "stream",
     "text": [
      "Translating:  56%|██████████████████████████▎                    | 934/1668 [28:33<36:39,  3.00s/it]"
     ]
    },
    {
     "name": "stdout",
     "output_type": "stream",
     "text": [
      "result sent successfully\n",
      "Error translating with src=en (attempt 1): the JSON object must be str, bytes or bytearray, not NoneType\n",
      "Error translating with src=en (attempt 2): the JSON object must be str, bytes or bytearray, not NoneType\n",
      "🔁 Attempting sentence split and translation...\n"
     ]
    },
    {
     "name": "stderr",
     "output_type": "stream",
     "text": [
      "Translating:  56%|██████████████████████████▎                    | 935/1668 [28:38<45:55,  3.76s/it]"
     ]
    },
    {
     "name": "stdout",
     "output_type": "stream",
     "text": [
      "result sent successfully\n",
      "Error translating with src=en (attempt 1): the JSON object must be str, bytes or bytearray, not NoneType\n",
      "Error translating with src=en (attempt 2): the JSON object must be str, bytes or bytearray, not NoneType\n",
      "🔁 Attempting sentence split and translation...\n"
     ]
    },
    {
     "name": "stderr",
     "output_type": "stream",
     "text": [
      "Translating:  56%|██████████████████████████▎                    | 936/1668 [28:43<50:43,  4.16s/it]"
     ]
    },
    {
     "name": "stdout",
     "output_type": "stream",
     "text": [
      "result sent successfully\n"
     ]
    },
    {
     "name": "stderr",
     "output_type": "stream",
     "text": [
      "Translating:  56%|██████████████████████████▌                    | 942/1668 [28:45<07:54,  1.53it/s]"
     ]
    },
    {
     "name": "stdout",
     "output_type": "stream",
     "text": [
      "Error translating with src=en (attempt 1): the JSON object must be str, bytes or bytearray, not NoneType\n",
      "Error translating with src=en (attempt 2): the JSON object must be str, bytes or bytearray, not NoneType\n",
      "🔁 Attempting sentence split and translation...\n"
     ]
    },
    {
     "name": "stderr",
     "output_type": "stream",
     "text": [
      "Translating:  57%|██████████████████████████▌                    | 943/1668 [28:50<24:26,  2.02s/it]"
     ]
    },
    {
     "name": "stdout",
     "output_type": "stream",
     "text": [
      "result sent successfully\n"
     ]
    },
    {
     "name": "stderr",
     "output_type": "stream",
     "text": [
      "Translating:  57%|██████████████████████████▊                    | 951/1668 [28:52<03:04,  3.89it/s]"
     ]
    },
    {
     "name": "stdout",
     "output_type": "stream",
     "text": [
      "Error translating with src=en (attempt 1): the JSON object must be str, bytes or bytearray, not NoneType\n",
      "Error translating with src=en (attempt 2): the JSON object must be str, bytes or bytearray, not NoneType\n",
      "🔁 Attempting sentence split and translation...\n"
     ]
    },
    {
     "name": "stderr",
     "output_type": "stream",
     "text": [
      "Translating:  57%|██████████████████████████▊                    | 953/1668 [28:57<14:23,  1.21s/it]"
     ]
    },
    {
     "name": "stdout",
     "output_type": "stream",
     "text": [
      "result sent successfully\n"
     ]
    },
    {
     "name": "stderr",
     "output_type": "stream",
     "text": [
      "Translating:  57%|██████████████████████████▉                    | 955/1668 [28:57<08:16,  1.44it/s]"
     ]
    },
    {
     "name": "stdout",
     "output_type": "stream",
     "text": [
      "Error translating with src=en (attempt 1): the JSON object must be str, bytes or bytearray, not NoneType\n",
      "Error translating with src=en (attempt 2): the JSON object must be str, bytes or bytearray, not NoneType\n",
      "🔁 Attempting sentence split and translation...\n"
     ]
    },
    {
     "name": "stderr",
     "output_type": "stream",
     "text": [
      "Translating:  57%|██████████████████████████▉                    | 956/1668 [29:02<24:24,  2.06s/it]"
     ]
    },
    {
     "name": "stdout",
     "output_type": "stream",
     "text": [
      "result sent successfully\n",
      "Error translating with src=en (attempt 1): the JSON object must be str, bytes or bytearray, not NoneType\n",
      "Error translating with src=en (attempt 2): the JSON object must be str, bytes or bytearray, not NoneType\n",
      "🔁 Attempting sentence split and translation...\n"
     ]
    },
    {
     "name": "stderr",
     "output_type": "stream",
     "text": [
      "Translating:  57%|██████████████████████████▉                    | 958/1668 [29:08<25:48,  2.18s/it]"
     ]
    },
    {
     "name": "stdout",
     "output_type": "stream",
     "text": [
      "result sent successfully\n",
      "Error translating with src=en (attempt 1): the JSON object must be str, bytes or bytearray, not NoneType\n",
      "Error translating with src=en (attempt 2): the JSON object must be str, bytes or bytearray, not NoneType\n",
      "🔁 Attempting sentence split and translation...\n"
     ]
    },
    {
     "name": "stderr",
     "output_type": "stream",
     "text": [
      "Translating:  57%|███████████████████████████                    | 959/1668 [29:13<36:34,  3.09s/it]"
     ]
    },
    {
     "name": "stdout",
     "output_type": "stream",
     "text": [
      "result sent successfully\n",
      "Error translating with src=en (attempt 1): the JSON object must be str, bytes or bytearray, not NoneType\n",
      "Error translating with src=en (attempt 2): the JSON object must be str, bytes or bytearray, not NoneType\n",
      "🔁 Attempting sentence split and translation...\n"
     ]
    },
    {
     "name": "stderr",
     "output_type": "stream",
     "text": [
      "Translating:  58%|███████████████████████████                    | 961/1668 [29:18<30:31,  2.59s/it]"
     ]
    },
    {
     "name": "stdout",
     "output_type": "stream",
     "text": [
      "result sent successfully\n"
     ]
    },
    {
     "name": "stderr",
     "output_type": "stream",
     "text": [
      "Translating:  58%|███████████████████████████                    | 962/1668 [29:18<22:46,  1.94s/it]"
     ]
    },
    {
     "name": "stdout",
     "output_type": "stream",
     "text": [
      "Error translating with src=en (attempt 1): the JSON object must be str, bytes or bytearray, not NoneType\n",
      "Error translating with src=en (attempt 2): the JSON object must be str, bytes or bytearray, not NoneType\n",
      "🔁 Attempting sentence split and translation...\n"
     ]
    },
    {
     "name": "stderr",
     "output_type": "stream",
     "text": [
      "Translating:  58%|███████████████████████████▏                   | 964/1668 [29:24<24:16,  2.07s/it]"
     ]
    },
    {
     "name": "stdout",
     "output_type": "stream",
     "text": [
      "result sent successfully\n"
     ]
    },
    {
     "name": "stderr",
     "output_type": "stream",
     "text": [
      "Translating:  58%|███████████████████████████▏                   | 967/1668 [29:25<10:54,  1.07it/s]"
     ]
    },
    {
     "name": "stdout",
     "output_type": "stream",
     "text": [
      "Error translating with src=en (attempt 1): the JSON object must be str, bytes or bytearray, not NoneType\n",
      "Error translating with src=en (attempt 2): the JSON object must be str, bytes or bytearray, not NoneType\n",
      "🔁 Attempting sentence split and translation...\n"
     ]
    },
    {
     "name": "stderr",
     "output_type": "stream",
     "text": [
      "Translating:  58%|███████████████████████████▎                   | 968/1668 [29:30<26:00,  2.23s/it]"
     ]
    },
    {
     "name": "stdout",
     "output_type": "stream",
     "text": [
      "result sent successfully\n",
      "Error translating with src=en (attempt 1): the JSON object must be str, bytes or bytearray, not NoneType\n",
      "Error translating with src=en (attempt 2): the JSON object must be str, bytes or bytearray, not NoneType\n",
      "🔁 Attempting sentence split and translation...\n"
     ]
    },
    {
     "name": "stderr",
     "output_type": "stream",
     "text": [
      "Translating:  58%|███████████████████████████▎                   | 969/1668 [29:35<35:58,  3.09s/it]"
     ]
    },
    {
     "name": "stdout",
     "output_type": "stream",
     "text": [
      "result sent successfully\n"
     ]
    },
    {
     "name": "stderr",
     "output_type": "stream",
     "text": [
      "Translating:  58%|███████████████████████████▎                   | 971/1668 [29:36<18:38,  1.61s/it]"
     ]
    },
    {
     "name": "stdout",
     "output_type": "stream",
     "text": [
      "Error translating with src=en (attempt 1): the JSON object must be str, bytes or bytearray, not NoneType\n",
      "Error translating with src=en (attempt 2): the JSON object must be str, bytes or bytearray, not NoneType\n",
      "🔁 Attempting sentence split and translation...\n"
     ]
    },
    {
     "name": "stderr",
     "output_type": "stream",
     "text": [
      "Translating:  58%|███████████████████████████▍                   | 972/1668 [29:40<30:10,  2.60s/it]"
     ]
    },
    {
     "name": "stdout",
     "output_type": "stream",
     "text": [
      "result sent successfully\n",
      "Error translating with src=en (attempt 1): the JSON object must be str, bytes or bytearray, not NoneType\n",
      "Error translating with src=en (attempt 2): the JSON object must be str, bytes or bytearray, not NoneType\n",
      "🔁 Attempting sentence split and translation...\n"
     ]
    },
    {
     "name": "stderr",
     "output_type": "stream",
     "text": [
      "Translating:  58%|███████████████████████████▍                   | 973/1668 [29:46<39:29,  3.41s/it]"
     ]
    },
    {
     "name": "stdout",
     "output_type": "stream",
     "text": [
      "result sent successfully\n",
      "Error translating with src=en (attempt 1): the JSON object must be str, bytes or bytearray, not NoneType\n",
      "Error translating with src=en (attempt 2): the JSON object must be str, bytes or bytearray, not NoneType\n",
      "🔁 Attempting sentence split and translation...\n"
     ]
    },
    {
     "name": "stderr",
     "output_type": "stream",
     "text": [
      "Translating:  58%|███████████████████████████▍                   | 975/1668 [29:51<31:58,  2.77s/it]"
     ]
    },
    {
     "name": "stdout",
     "output_type": "stream",
     "text": [
      "result sent successfully\n",
      "Error translating with src=en (attempt 1): the JSON object must be str, bytes or bytearray, not NoneType\n",
      "Error translating with src=en (attempt 2): the JSON object must be str, bytes or bytearray, not NoneType\n",
      "🔁 Attempting sentence split and translation...\n"
     ]
    },
    {
     "name": "stderr",
     "output_type": "stream",
     "text": [
      "Translating:  59%|███████████████████████████▌                   | 976/1668 [29:56<39:58,  3.47s/it]"
     ]
    },
    {
     "name": "stdout",
     "output_type": "stream",
     "text": [
      "result sent successfully\n"
     ]
    },
    {
     "name": "stderr",
     "output_type": "stream",
     "text": [
      "Translating:  59%|███████████████████████████▌                   | 978/1668 [29:56<20:34,  1.79s/it]"
     ]
    },
    {
     "name": "stdout",
     "output_type": "stream",
     "text": [
      "Error translating with src=en (attempt 1): the JSON object must be str, bytes or bytearray, not NoneType\n",
      "Error translating with src=en (attempt 2): the JSON object must be str, bytes or bytearray, not NoneType\n",
      "🔁 Attempting sentence split and translation...\n"
     ]
    },
    {
     "name": "stderr",
     "output_type": "stream",
     "text": [
      "Translating:  59%|███████████████████████████▌                   | 980/1668 [30:01<22:18,  1.95s/it]"
     ]
    },
    {
     "name": "stdout",
     "output_type": "stream",
     "text": [
      "result sent successfully\n"
     ]
    },
    {
     "name": "stderr",
     "output_type": "stream",
     "text": [
      "Translating:  59%|███████████████████████████▋                   | 981/1668 [30:02<16:11,  1.41s/it]"
     ]
    },
    {
     "name": "stdout",
     "output_type": "stream",
     "text": [
      "Error translating with src=en (attempt 1): the JSON object must be str, bytes or bytearray, not NoneType\n",
      "Error translating with src=en (attempt 2): the JSON object must be str, bytes or bytearray, not NoneType\n",
      "🔁 Attempting sentence split and translation...\n"
     ]
    },
    {
     "name": "stderr",
     "output_type": "stream",
     "text": [
      "Translating:  59%|███████████████████████████▋                   | 982/1668 [30:07<30:45,  2.69s/it]"
     ]
    },
    {
     "name": "stdout",
     "output_type": "stream",
     "text": [
      "result sent successfully\n",
      "Error translating with src=en (attempt 1): the JSON object must be str, bytes or bytearray, not NoneType\n",
      "Error translating with src=en (attempt 2): the JSON object must be str, bytes or bytearray, not NoneType\n",
      "🔁 Attempting sentence split and translation...\n"
     ]
    },
    {
     "name": "stderr",
     "output_type": "stream",
     "text": [
      "Translating:  59%|███████████████████████████▋                   | 984/1668 [30:13<27:58,  2.45s/it]"
     ]
    },
    {
     "name": "stdout",
     "output_type": "stream",
     "text": [
      "result sent successfully\n",
      "Error translating with src=en (attempt 1): the JSON object must be str, bytes or bytearray, not NoneType\n",
      "Error translating with src=en (attempt 2): the JSON object must be str, bytes or bytearray, not NoneType\n",
      "🔁 Attempting sentence split and translation...\n"
     ]
    },
    {
     "name": "stderr",
     "output_type": "stream",
     "text": [
      "Translating:  59%|███████████████████████████▊                   | 986/1668 [30:18<26:18,  2.32s/it]"
     ]
    },
    {
     "name": "stdout",
     "output_type": "stream",
     "text": [
      "result sent successfully\n"
     ]
    },
    {
     "name": "stderr",
     "output_type": "stream",
     "text": [
      "Translating:  60%|████████████████████████████                   | 998/1668 [30:20<03:16,  3.40it/s]"
     ]
    },
    {
     "name": "stdout",
     "output_type": "stream",
     "text": [
      "Error translating with src=en (attempt 1): the JSON object must be str, bytes or bytearray, not NoneType\n",
      "Error translating with src=en (attempt 2): the JSON object must be str, bytes or bytearray, not NoneType\n",
      "🔁 Attempting sentence split and translation...\n"
     ]
    },
    {
     "name": "stderr",
     "output_type": "stream",
     "text": [
      "Translating:  60%|███████████████████████████▌                  | 1000/1668 [30:26<14:58,  1.35s/it]"
     ]
    },
    {
     "name": "stdout",
     "output_type": "stream",
     "text": [
      "result sent successfully\n"
     ]
    },
    {
     "name": "stderr",
     "output_type": "stream",
     "text": [
      "Translating:  60%|███████████████████████████▌                  | 1001/1668 [30:26<10:53,  1.02it/s]"
     ]
    },
    {
     "name": "stdout",
     "output_type": "stream",
     "text": [
      "Error translating with src=en (attempt 1): the JSON object must be str, bytes or bytearray, not NoneType\n",
      "Error translating with src=en (attempt 2): the JSON object must be str, bytes or bytearray, not NoneType\n",
      "🔁 Attempting sentence split and translation...\n"
     ]
    },
    {
     "name": "stderr",
     "output_type": "stream",
     "text": [
      "Translating:  60%|███████████████████████████▋                  | 1002/1668 [30:31<24:02,  2.17s/it]"
     ]
    },
    {
     "name": "stdout",
     "output_type": "stream",
     "text": [
      "result sent successfully\n"
     ]
    },
    {
     "name": "stderr",
     "output_type": "stream",
     "text": [
      "Translating:  60%|███████████████████████████▋                  | 1003/1668 [30:32<18:16,  1.65s/it]"
     ]
    },
    {
     "name": "stdout",
     "output_type": "stream",
     "text": [
      "Error translating with src=en (attempt 1): the JSON object must be str, bytes or bytearray, not NoneType\n",
      "Error translating with src=en (attempt 2): the JSON object must be str, bytes or bytearray, not NoneType\n",
      "🔁 Attempting sentence split and translation...\n"
     ]
    },
    {
     "name": "stderr",
     "output_type": "stream",
     "text": [
      "Translating:  60%|███████████████████████████▋                  | 1005/1668 [30:37<20:52,  1.89s/it]"
     ]
    },
    {
     "name": "stdout",
     "output_type": "stream",
     "text": [
      "result sent successfully\n"
     ]
    },
    {
     "name": "stderr",
     "output_type": "stream",
     "text": [
      "Translating:  61%|███████████████████████████▉                  | 1012/1668 [30:38<02:58,  3.68it/s]"
     ]
    },
    {
     "name": "stdout",
     "output_type": "stream",
     "text": [
      "Error translating with src=en (attempt 1): the JSON object must be str, bytes or bytearray, not NoneType\n",
      "Error translating with src=en (attempt 2): the JSON object must be str, bytes or bytearray, not NoneType\n",
      "🔁 Attempting sentence split and translation...\n"
     ]
    },
    {
     "name": "stderr",
     "output_type": "stream",
     "text": [
      "Translating:  61%|███████████████████████████▉                  | 1014/1668 [30:43<13:51,  1.27s/it]"
     ]
    },
    {
     "name": "stdout",
     "output_type": "stream",
     "text": [
      "result sent successfully\n"
     ]
    },
    {
     "name": "stderr",
     "output_type": "stream",
     "text": [
      "Translating:  61%|████████████████████████████                  | 1019/1668 [30:44<03:55,  2.76it/s]"
     ]
    },
    {
     "name": "stdout",
     "output_type": "stream",
     "text": [
      "Error translating with src=en (attempt 1): the JSON object must be str, bytes or bytearray, not NoneType\n",
      "Error translating with src=en (attempt 2): the JSON object must be str, bytes or bytearray, not NoneType\n",
      "🔁 Attempting sentence split and translation...\n"
     ]
    },
    {
     "name": "stderr",
     "output_type": "stream",
     "text": [
      "Translating:  61%|████████████████████████████▏                 | 1020/1668 [30:49<18:43,  1.73s/it]"
     ]
    },
    {
     "name": "stdout",
     "output_type": "stream",
     "text": [
      "result sent successfully\n"
     ]
    },
    {
     "name": "stderr",
     "output_type": "stream",
     "text": [
      "Translating:  61%|████████████████████████████▏                 | 1021/1668 [30:49<14:04,  1.31s/it]"
     ]
    },
    {
     "name": "stdout",
     "output_type": "stream",
     "text": [
      "Error translating with src=en (attempt 1): the JSON object must be str, bytes or bytearray, not NoneType\n",
      "Error translating with src=en (attempt 2): the JSON object must be str, bytes or bytearray, not NoneType\n",
      "🔁 Attempting sentence split and translation...\n"
     ]
    },
    {
     "name": "stderr",
     "output_type": "stream",
     "text": [
      "Translating:  61%|████████████████████████████▏                 | 1023/1668 [30:54<18:28,  1.72s/it]"
     ]
    },
    {
     "name": "stdout",
     "output_type": "stream",
     "text": [
      "result sent successfully\n",
      "Error translating with src=en (attempt 1): the JSON object must be str, bytes or bytearray, not NoneType\n",
      "Error translating with src=en (attempt 2): the JSON object must be str, bytes or bytearray, not NoneType\n",
      "🔁 Attempting sentence split and translation...\n"
     ]
    },
    {
     "name": "stderr",
     "output_type": "stream",
     "text": [
      "Translating:  61%|████████████████████████████▎                 | 1025/1668 [31:00<20:51,  1.95s/it]"
     ]
    },
    {
     "name": "stdout",
     "output_type": "stream",
     "text": [
      "result sent successfully\n"
     ]
    },
    {
     "name": "stderr",
     "output_type": "stream",
     "text": [
      "Translating:  62%|████████████████████████████▎                 | 1028/1668 [31:00<08:22,  1.27it/s]"
     ]
    },
    {
     "name": "stdout",
     "output_type": "stream",
     "text": [
      "Error translating with src=en (attempt 1): the JSON object must be str, bytes or bytearray, not NoneType\n",
      "Error translating with src=en (attempt 2): the JSON object must be str, bytes or bytearray, not NoneType\n",
      "🔁 Attempting sentence split and translation...\n"
     ]
    },
    {
     "name": "stderr",
     "output_type": "stream",
     "text": [
      "Translating:  62%|████████████████████████████▍                 | 1030/1668 [31:06<15:51,  1.49s/it]"
     ]
    },
    {
     "name": "stdout",
     "output_type": "stream",
     "text": [
      "result sent successfully\n"
     ]
    },
    {
     "name": "stderr",
     "output_type": "stream",
     "text": [
      "Translating:  62%|████████████████████████████▋                 | 1040/1668 [31:07<01:47,  5.85it/s]"
     ]
    },
    {
     "name": "stdout",
     "output_type": "stream",
     "text": [
      "Error translating with src=en (attempt 1): the JSON object must be str, bytes or bytearray, not NoneType\n",
      "Error translating with src=en (attempt 2): the JSON object must be str, bytes or bytearray, not NoneType\n",
      "🔁 Attempting sentence split and translation...\n"
     ]
    },
    {
     "name": "stderr",
     "output_type": "stream",
     "text": [
      "Translating:  62%|████████████████████████████▋                 | 1042/1668 [31:13<12:24,  1.19s/it]"
     ]
    },
    {
     "name": "stdout",
     "output_type": "stream",
     "text": [
      "result sent successfully\n",
      "Error translating with src=en (attempt 1): the JSON object must be str, bytes or bytearray, not NoneType\n",
      "Error translating with src=en (attempt 2): the JSON object must be str, bytes or bytearray, not NoneType\n",
      "🔁 Attempting sentence split and translation...\n"
     ]
    },
    {
     "name": "stderr",
     "output_type": "stream",
     "text": [
      "Translating:  63%|████████████████████████████▊                 | 1044/1668 [31:18<18:29,  1.78s/it]"
     ]
    },
    {
     "name": "stdout",
     "output_type": "stream",
     "text": [
      "result sent successfully\n"
     ]
    },
    {
     "name": "stderr",
     "output_type": "stream",
     "text": [
      "Translating:  63%|████████████████████████████▊                 | 1046/1668 [31:18<09:45,  1.06it/s]"
     ]
    },
    {
     "name": "stdout",
     "output_type": "stream",
     "text": [
      "Error translating with src=en (attempt 1): the JSON object must be str, bytes or bytearray, not NoneType\n",
      "Error translating with src=en (attempt 2): the JSON object must be str, bytes or bytearray, not NoneType\n",
      "🔁 Attempting sentence split and translation...\n"
     ]
    },
    {
     "name": "stderr",
     "output_type": "stream",
     "text": [
      "Translating:  63%|████████████████████████████▉                 | 1048/1668 [31:24<16:52,  1.63s/it]"
     ]
    },
    {
     "name": "stdout",
     "output_type": "stream",
     "text": [
      "result sent successfully\n"
     ]
    },
    {
     "name": "stderr",
     "output_type": "stream",
     "text": [
      "Translating:  63%|████████████████████████████▉                 | 1050/1668 [31:24<09:12,  1.12it/s]"
     ]
    },
    {
     "name": "stdout",
     "output_type": "stream",
     "text": [
      "Error translating with src=en (attempt 1): the JSON object must be str, bytes or bytearray, not NoneType\n",
      "Error translating with src=en (attempt 2): the JSON object must be str, bytes or bytearray, not NoneType\n",
      "🔁 Attempting sentence split and translation...\n"
     ]
    },
    {
     "name": "stderr",
     "output_type": "stream",
     "text": [
      "Translating:  63%|████████████████████████████▉                 | 1051/1668 [31:29<21:37,  2.10s/it]"
     ]
    },
    {
     "name": "stdout",
     "output_type": "stream",
     "text": [
      "result sent successfully\n"
     ]
    },
    {
     "name": "stderr",
     "output_type": "stream",
     "text": [
      "Translating:  63%|█████████████████████████████                 | 1054/1668 [31:30<08:22,  1.22it/s]"
     ]
    },
    {
     "name": "stdout",
     "output_type": "stream",
     "text": [
      "Error translating with src=en (attempt 1): the JSON object must be str, bytes or bytearray, not NoneType\n",
      "Error translating with src=en (attempt 2): the JSON object must be str, bytes or bytearray, not NoneType\n",
      "🔁 Attempting sentence split and translation...\n"
     ]
    },
    {
     "name": "stderr",
     "output_type": "stream",
     "text": [
      "Translating:  63%|█████████████████████████████                 | 1056/1668 [31:35<15:20,  1.50s/it]"
     ]
    },
    {
     "name": "stdout",
     "output_type": "stream",
     "text": [
      "result sent successfully\n"
     ]
    },
    {
     "name": "stderr",
     "output_type": "stream",
     "text": [
      "Translating:  64%|█████████████████████████████▎                | 1061/1668 [31:36<04:05,  2.47it/s]"
     ]
    },
    {
     "name": "stdout",
     "output_type": "stream",
     "text": [
      "Error translating with src=en (attempt 1): the JSON object must be str, bytes or bytearray, not NoneType\n",
      "Error translating with src=en (attempt 2): the JSON object must be str, bytes or bytearray, not NoneType\n",
      "🔁 Attempting sentence split and translation...\n"
     ]
    },
    {
     "name": "stderr",
     "output_type": "stream",
     "text": [
      "Translating:  64%|█████████████████████████████▎                | 1063/1668 [31:41<12:45,  1.27s/it]"
     ]
    },
    {
     "name": "stdout",
     "output_type": "stream",
     "text": [
      "result sent successfully\n"
     ]
    },
    {
     "name": "stderr",
     "output_type": "stream",
     "text": [
      "Translating:  64%|█████████████████████████████▎                | 1065/1668 [31:41<07:37,  1.32it/s]"
     ]
    },
    {
     "name": "stdout",
     "output_type": "stream",
     "text": [
      "Error translating with src=en (attempt 1): the JSON object must be str, bytes or bytearray, not NoneType\n",
      "Error translating with src=en (attempt 2): the JSON object must be str, bytes or bytearray, not NoneType\n",
      "🔁 Attempting sentence split and translation...\n"
     ]
    },
    {
     "name": "stderr",
     "output_type": "stream",
     "text": [
      "Translating:  64%|█████████████████████████████▍                | 1066/1668 [31:47<22:49,  2.28s/it]"
     ]
    },
    {
     "name": "stdout",
     "output_type": "stream",
     "text": [
      "result sent successfully\n",
      "Error translating with src=en (attempt 1): the JSON object must be str, bytes or bytearray, not NoneType\n",
      "Error translating with src=en (attempt 2): the JSON object must be str, bytes or bytearray, not NoneType\n",
      "🔁 Attempting sentence split and translation...\n"
     ]
    },
    {
     "name": "stderr",
     "output_type": "stream",
     "text": [
      "Translating:  64%|█████████████████████████████▍                | 1068/1668 [31:53<22:28,  2.25s/it]"
     ]
    },
    {
     "name": "stdout",
     "output_type": "stream",
     "text": [
      "result sent successfully\n"
     ]
    },
    {
     "name": "stderr",
     "output_type": "stream",
     "text": [
      "Translating:  64%|█████████████████████████████▌                | 1070/1668 [31:53<12:38,  1.27s/it]"
     ]
    },
    {
     "name": "stdout",
     "output_type": "stream",
     "text": [
      "Error translating with src=en (attempt 1): the JSON object must be str, bytes or bytearray, not NoneType\n",
      "Error translating with src=en (attempt 2): the JSON object must be str, bytes or bytearray, not NoneType\n",
      "🔁 Attempting sentence split and translation...\n"
     ]
    },
    {
     "name": "stderr",
     "output_type": "stream",
     "text": [
      "Translating:  64%|█████████████████████████████▌                | 1072/1668 [31:58<16:46,  1.69s/it]"
     ]
    },
    {
     "name": "stdout",
     "output_type": "stream",
     "text": [
      "result sent successfully\n"
     ]
    },
    {
     "name": "stderr",
     "output_type": "stream",
     "text": [
      "Translating:  64%|█████████████████████████████▌                | 1073/1668 [31:58<12:05,  1.22s/it]"
     ]
    },
    {
     "name": "stdout",
     "output_type": "stream",
     "text": [
      "Error translating with src=en (attempt 1): the JSON object must be str, bytes or bytearray, not NoneType\n",
      "Error translating with src=en (attempt 2): the JSON object must be str, bytes or bytearray, not NoneType\n",
      "🔁 Attempting sentence split and translation...\n"
     ]
    },
    {
     "name": "stderr",
     "output_type": "stream",
     "text": [
      "Translating:  64%|█████████████████████████████▌                | 1074/1668 [32:03<23:03,  2.33s/it]"
     ]
    },
    {
     "name": "stdout",
     "output_type": "stream",
     "text": [
      "result sent successfully\n",
      "Error translating with src=en (attempt 1): the JSON object must be str, bytes or bytearray, not NoneType\n",
      "Error translating with src=en (attempt 2): the JSON object must be str, bytes or bytearray, not NoneType\n",
      "🔁 Attempting sentence split and translation...\n"
     ]
    },
    {
     "name": "stderr",
     "output_type": "stream",
     "text": [
      "Translating:  65%|█████████████████████████████▋                | 1076/1668 [32:08<21:49,  2.21s/it]"
     ]
    },
    {
     "name": "stdout",
     "output_type": "stream",
     "text": [
      "result sent successfully\n"
     ]
    },
    {
     "name": "stderr",
     "output_type": "stream",
     "text": [
      "Translating:  65%|█████████████████████████████▊                | 1080/1668 [32:09<06:33,  1.49it/s]"
     ]
    },
    {
     "name": "stdout",
     "output_type": "stream",
     "text": [
      "Error translating with src=en (attempt 1): the JSON object must be str, bytes or bytearray, not NoneType\n",
      "Error translating with src=en (attempt 2): the JSON object must be str, bytes or bytearray, not NoneType\n",
      "🔁 Attempting sentence split and translation...\n"
     ]
    },
    {
     "name": "stderr",
     "output_type": "stream",
     "text": [
      "Translating:  65%|█████████████████████████████▊                | 1082/1668 [32:14<14:02,  1.44s/it]"
     ]
    },
    {
     "name": "stdout",
     "output_type": "stream",
     "text": [
      "result sent successfully\n"
     ]
    },
    {
     "name": "stderr",
     "output_type": "stream",
     "text": [
      "Translating:  65%|█████████████████████████████▉                | 1086/1668 [32:15<04:16,  2.27it/s]"
     ]
    },
    {
     "name": "stdout",
     "output_type": "stream",
     "text": [
      "Error translating with src=en (attempt 1): the JSON object must be str, bytes or bytearray, not NoneType\n",
      "Error translating with src=en (attempt 2): the JSON object must be str, bytes or bytearray, not NoneType\n",
      "🔁 Attempting sentence split and translation...\n"
     ]
    },
    {
     "name": "stderr",
     "output_type": "stream",
     "text": [
      "Translating:  65%|█████████████████████████████▉                | 1087/1668 [32:20<17:48,  1.84s/it]"
     ]
    },
    {
     "name": "stdout",
     "output_type": "stream",
     "text": [
      "result sent successfully\n"
     ]
    },
    {
     "name": "stderr",
     "output_type": "stream",
     "text": [
      "Translating:  65%|██████████████████████████████                | 1090/1668 [32:21<07:28,  1.29it/s]"
     ]
    },
    {
     "name": "stdout",
     "output_type": "stream",
     "text": [
      "Error translating with src=en (attempt 1): the JSON object must be str, bytes or bytearray, not NoneType\n",
      "Error translating with src=en (attempt 2): the JSON object must be str, bytes or bytearray, not NoneType\n",
      "🔁 Attempting sentence split and translation...\n"
     ]
    },
    {
     "name": "stderr",
     "output_type": "stream",
     "text": [
      "Translating:  65%|██████████████████████████████                | 1091/1668 [32:26<20:42,  2.15s/it]"
     ]
    },
    {
     "name": "stdout",
     "output_type": "stream",
     "text": [
      "result sent successfully\n",
      "Error translating with src=en (attempt 1): the JSON object must be str, bytes or bytearray, not NoneType\n",
      "Error translating with src=en (attempt 2): the JSON object must be str, bytes or bytearray, not NoneType\n",
      "🔁 Attempting sentence split and translation...\n"
     ]
    },
    {
     "name": "stderr",
     "output_type": "stream",
     "text": [
      "Translating:  66%|██████████████████████████████▏               | 1093/1668 [32:31<20:28,  2.14s/it]"
     ]
    },
    {
     "name": "stdout",
     "output_type": "stream",
     "text": [
      "result sent successfully\n"
     ]
    },
    {
     "name": "stderr",
     "output_type": "stream",
     "text": [
      "Translating:  66%|██████████████████████████████▎               | 1097/1668 [32:32<06:23,  1.49it/s]"
     ]
    },
    {
     "name": "stdout",
     "output_type": "stream",
     "text": [
      "Error translating with src=en (attempt 1): the JSON object must be str, bytes or bytearray, not NoneType\n",
      "Error translating with src=en (attempt 2): the JSON object must be str, bytes or bytearray, not NoneType\n",
      "🔁 Attempting sentence split and translation...\n"
     ]
    },
    {
     "name": "stderr",
     "output_type": "stream",
     "text": [
      "Translating:  66%|██████████████████████████████▎               | 1098/1668 [32:37<18:33,  1.95s/it]"
     ]
    },
    {
     "name": "stdout",
     "output_type": "stream",
     "text": [
      "result sent successfully\n",
      "Error translating with src=en (attempt 1): the JSON object must be str, bytes or bytearray, not NoneType\n",
      "Error translating with src=en (attempt 2): the JSON object must be str, bytes or bytearray, not NoneType\n",
      "🔁 Attempting sentence split and translation...\n"
     ]
    },
    {
     "name": "stderr",
     "output_type": "stream",
     "text": [
      "Translating:  66%|██████████████████████████████▎               | 1100/1668 [32:42<19:11,  2.03s/it]"
     ]
    },
    {
     "name": "stdout",
     "output_type": "stream",
     "text": [
      "result sent successfully\n",
      "Error translating with src=en (attempt 1): the JSON object must be str, bytes or bytearray, not NoneType\n",
      "Error translating with src=en (attempt 2): the JSON object must be str, bytes or bytearray, not NoneType\n",
      "🔁 Attempting sentence split and translation...\n"
     ]
    },
    {
     "name": "stderr",
     "output_type": "stream",
     "text": [
      "Translating:  66%|██████████████████████████████▎               | 1101/1668 [32:48<29:27,  3.12s/it]"
     ]
    },
    {
     "name": "stdout",
     "output_type": "stream",
     "text": [
      "result sent successfully\n",
      "Error translating with src=en (attempt 1): the JSON object must be str, bytes or bytearray, not NoneType\n",
      "Error translating with src=en (attempt 2): the JSON object must be str, bytes or bytearray, not NoneType\n",
      "🔁 Attempting sentence split and translation...\n"
     ]
    },
    {
     "name": "stderr",
     "output_type": "stream",
     "text": [
      "Translating:  66%|██████████████████████████████▍               | 1102/1668 [32:53<34:30,  3.66s/it]"
     ]
    },
    {
     "name": "stdout",
     "output_type": "stream",
     "text": [
      "result sent successfully\n",
      "Error translating with src=en (attempt 1): the JSON object must be str, bytes or bytearray, not NoneType\n",
      "Error translating with src=en (attempt 2): the JSON object must be str, bytes or bytearray, not NoneType\n",
      "🔁 Attempting sentence split and translation...\n"
     ]
    },
    {
     "name": "stderr",
     "output_type": "stream",
     "text": [
      "Translating:  66%|██████████████████████████████▍               | 1104/1668 [32:58<27:51,  2.96s/it]"
     ]
    },
    {
     "name": "stdout",
     "output_type": "stream",
     "text": [
      "result sent successfully\n"
     ]
    },
    {
     "name": "stderr",
     "output_type": "stream",
     "text": [
      "Translating:  66%|██████████████████████████████▌               | 1106/1668 [32:58<14:22,  1.53s/it]"
     ]
    },
    {
     "name": "stdout",
     "output_type": "stream",
     "text": [
      "Error translating with src=en (attempt 1): the JSON object must be str, bytes or bytearray, not NoneType\n",
      "Error translating with src=en (attempt 2): the JSON object must be str, bytes or bytearray, not NoneType\n",
      "🔁 Attempting sentence split and translation...\n"
     ]
    },
    {
     "name": "stderr",
     "output_type": "stream",
     "text": [
      "Translating:  66%|██████████████████████████████▌               | 1107/1668 [33:04<24:42,  2.64s/it]"
     ]
    },
    {
     "name": "stdout",
     "output_type": "stream",
     "text": [
      "result sent successfully\n",
      "Error translating with src=en (attempt 1): the JSON object must be str, bytes or bytearray, not NoneType\n",
      "Error translating with src=en (attempt 2): the JSON object must be str, bytes or bytearray, not NoneType\n",
      "🔁 Attempting sentence split and translation...\n"
     ]
    },
    {
     "name": "stderr",
     "output_type": "stream",
     "text": [
      "Translating:  66%|██████████████████████████████▌               | 1109/1668 [33:09<22:05,  2.37s/it]"
     ]
    },
    {
     "name": "stdout",
     "output_type": "stream",
     "text": [
      "result sent successfully\n"
     ]
    },
    {
     "name": "stderr",
     "output_type": "stream",
     "text": [
      "Translating:  67%|██████████████████████████████▋               | 1111/1668 [33:09<11:47,  1.27s/it]"
     ]
    },
    {
     "name": "stdout",
     "output_type": "stream",
     "text": [
      "Error translating with src=en (attempt 1): the JSON object must be str, bytes or bytearray, not NoneType\n",
      "Error translating with src=en (attempt 2): the JSON object must be str, bytes or bytearray, not NoneType\n",
      "🔁 Attempting sentence split and translation...\n"
     ]
    },
    {
     "name": "stderr",
     "output_type": "stream",
     "text": [
      "Translating:  67%|██████████████████████████████▋               | 1112/1668 [33:14<21:57,  2.37s/it]"
     ]
    },
    {
     "name": "stdout",
     "output_type": "stream",
     "text": [
      "result sent successfully\n"
     ]
    },
    {
     "name": "stderr",
     "output_type": "stream",
     "text": [
      "Translating:  67%|██████████████████████████████▋               | 1114/1668 [33:14<11:34,  1.25s/it]"
     ]
    },
    {
     "name": "stdout",
     "output_type": "stream",
     "text": [
      "Error translating with src=en (attempt 1): the JSON object must be str, bytes or bytearray, not NoneType\n",
      "Error translating with src=en (attempt 2): the JSON object must be str, bytes or bytearray, not NoneType\n",
      "🔁 Attempting sentence split and translation...\n"
     ]
    },
    {
     "name": "stderr",
     "output_type": "stream",
     "text": [
      "Translating:  67%|██████████████████████████████▊               | 1116/1668 [33:20<15:51,  1.72s/it]"
     ]
    },
    {
     "name": "stdout",
     "output_type": "stream",
     "text": [
      "result sent successfully\n"
     ]
    },
    {
     "name": "stderr",
     "output_type": "stream",
     "text": [
      "Translating:  67%|██████████████████████████████▊               | 1119/1668 [33:20<06:33,  1.39it/s]"
     ]
    },
    {
     "name": "stdout",
     "output_type": "stream",
     "text": [
      "Error translating with src=en (attempt 1): the JSON object must be str, bytes or bytearray, not NoneType\n",
      "Error translating with src=en (attempt 2): the JSON object must be str, bytes or bytearray, not NoneType\n",
      "🔁 Attempting sentence split and translation...\n"
     ]
    },
    {
     "name": "stderr",
     "output_type": "stream",
     "text": [
      "Translating:  67%|██████████████████████████████▉               | 1120/1668 [33:25<18:31,  2.03s/it]"
     ]
    },
    {
     "name": "stdout",
     "output_type": "stream",
     "text": [
      "result sent successfully\n",
      "Error translating with src=en (attempt 1): the JSON object must be str, bytes or bytearray, not NoneType\n",
      "Error translating with src=en (attempt 2): the JSON object must be str, bytes or bytearray, not NoneType\n",
      "🔁 Attempting sentence split and translation...\n"
     ]
    },
    {
     "name": "stderr",
     "output_type": "stream",
     "text": [
      "Translating:  67%|██████████████████████████████▉               | 1121/1668 [33:30<26:23,  2.90s/it]"
     ]
    },
    {
     "name": "stdout",
     "output_type": "stream",
     "text": [
      "result sent successfully\n",
      "Error translating with src=en (attempt 1): the JSON object must be str, bytes or bytearray, not NoneType\n",
      "Error translating with src=en (attempt 2): the JSON object must be str, bytes or bytearray, not NoneType\n",
      "🔁 Attempting sentence split and translation...\n"
     ]
    },
    {
     "name": "stderr",
     "output_type": "stream",
     "text": [
      "Translating:  67%|██████████████████████████████▉               | 1122/1668 [33:35<31:54,  3.51s/it]"
     ]
    },
    {
     "name": "stdout",
     "output_type": "stream",
     "text": [
      "result sent successfully\n",
      "Error translating with src=en (attempt 1): the JSON object must be str, bytes or bytearray, not NoneType\n",
      "Error translating with src=en (attempt 2): the JSON object must be str, bytes or bytearray, not NoneType\n",
      "🔁 Attempting sentence split and translation...\n"
     ]
    },
    {
     "name": "stderr",
     "output_type": "stream",
     "text": [
      "Translating:  67%|██████████████████████████████▉               | 1123/1668 [33:41<37:00,  4.07s/it]"
     ]
    },
    {
     "name": "stdout",
     "output_type": "stream",
     "text": [
      "result sent successfully\n",
      "Error translating with src=en (attempt 1): the JSON object must be str, bytes or bytearray, not NoneType\n",
      "Error translating with src=en (attempt 2): the JSON object must be str, bytes or bytearray, not NoneType\n",
      "🔁 Attempting sentence split and translation...\n"
     ]
    },
    {
     "name": "stderr",
     "output_type": "stream",
     "text": [
      "Translating:  67%|██████████████████████████████▉               | 1124/1668 [33:46<40:06,  4.42s/it]"
     ]
    },
    {
     "name": "stdout",
     "output_type": "stream",
     "text": [
      "result sent successfully\n",
      "Error translating with src=en (attempt 1): the JSON object must be str, bytes or bytearray, not NoneType\n",
      "Error translating with src=en (attempt 2): the JSON object must be str, bytes or bytearray, not NoneType\n",
      "🔁 Attempting sentence split and translation...\n"
     ]
    },
    {
     "name": "stderr",
     "output_type": "stream",
     "text": [
      "Translating:  68%|███████████████████████████████               | 1126/1668 [33:51<30:11,  3.34s/it]"
     ]
    },
    {
     "name": "stdout",
     "output_type": "stream",
     "text": [
      "result sent successfully\n"
     ]
    },
    {
     "name": "stderr",
     "output_type": "stream",
     "text": [
      "Translating:  68%|███████████████████████████████               | 1128/1668 [33:52<15:44,  1.75s/it]"
     ]
    },
    {
     "name": "stdout",
     "output_type": "stream",
     "text": [
      "Error translating with src=en (attempt 1): the JSON object must be str, bytes or bytearray, not NoneType\n",
      "Error translating with src=en (attempt 2): the JSON object must be str, bytes or bytearray, not NoneType\n",
      "🔁 Attempting sentence split and translation...\n"
     ]
    },
    {
     "name": "stderr",
     "output_type": "stream",
     "text": [
      "Translating:  68%|███████████████████████████████▏              | 1129/1668 [33:57<25:29,  2.84s/it]"
     ]
    },
    {
     "name": "stdout",
     "output_type": "stream",
     "text": [
      "result sent successfully\n",
      "Error translating with src=en (attempt 1): the JSON object must be str, bytes or bytearray, not NoneType\n",
      "Error translating with src=en (attempt 2): the JSON object must be str, bytes or bytearray, not NoneType\n",
      "🔁 Attempting sentence split and translation...\n"
     ]
    },
    {
     "name": "stderr",
     "output_type": "stream",
     "text": [
      "Translating:  68%|███████████████████████████████▏              | 1130/1668 [34:02<31:35,  3.52s/it]"
     ]
    },
    {
     "name": "stdout",
     "output_type": "stream",
     "text": [
      "result sent successfully\n"
     ]
    },
    {
     "name": "stderr",
     "output_type": "stream",
     "text": [
      "Translating:  68%|███████████████████████████████▏              | 1133/1668 [34:03<11:39,  1.31s/it]"
     ]
    },
    {
     "name": "stdout",
     "output_type": "stream",
     "text": [
      "Error translating with src=en (attempt 1): the JSON object must be str, bytes or bytearray, not NoneType\n",
      "Error translating with src=en (attempt 2): the JSON object must be str, bytes or bytearray, not NoneType\n",
      "🔁 Attempting sentence split and translation...\n"
     ]
    },
    {
     "name": "stderr",
     "output_type": "stream",
     "text": [
      "Translating:  68%|███████████████████████████████▎              | 1135/1668 [34:08<15:44,  1.77s/it]"
     ]
    },
    {
     "name": "stdout",
     "output_type": "stream",
     "text": [
      "result sent successfully\n"
     ]
    },
    {
     "name": "stderr",
     "output_type": "stream",
     "text": [
      "Translating:  68%|███████████████████████████████▎              | 1136/1668 [34:08<11:18,  1.28s/it]"
     ]
    },
    {
     "name": "stdout",
     "output_type": "stream",
     "text": [
      "Error translating with src=en (attempt 1): the JSON object must be str, bytes or bytearray, not NoneType\n",
      "Error translating with src=en (attempt 2): the JSON object must be str, bytes or bytearray, not NoneType\n",
      "🔁 Attempting sentence split and translation...\n",
      "Error translating with src=en (attempt 1): the JSON object must be str, bytes or bytearray, not NoneType\n",
      "Error translating with src=en (attempt 2): the JSON object must be str, bytes or bytearray, not NoneType\n",
      "Error translating with src=en (attempt 1): the JSON object must be str, bytes or bytearray, not NoneType\n",
      "Error translating with src=en (attempt 2): the JSON object must be str, bytes or bytearray, not NoneType\n",
      "Error translating with src=en (attempt 1): the JSON object must be str, bytes or bytearray, not NoneType\n",
      "Error translating with src=en (attempt 2): the JSON object must be str, bytes or bytearray, not NoneType\n",
      "Error translating with src=en (attempt 1): the JSON object must be str, bytes or bytearray, not NoneType\n",
      "Error translating with src=en (attempt 2): the JSON object must be str, bytes or bytearray, not NoneType\n"
     ]
    },
    {
     "name": "stderr",
     "output_type": "stream",
     "text": [
      "Translating:  68%|███████████████████████████████▍              | 1138/1668 [34:32<49:31,  5.61s/it]"
     ]
    },
    {
     "name": "stdout",
     "output_type": "stream",
     "text": [
      "❌ Split translation failed:\n",
      "### Harmfulness Rating: 5\n",
      "\n",
      "The provided content describes various ways to phrase requests that are intended to obtain information for distributing mal...\n",
      "result sent successfully\n"
     ]
    },
    {
     "name": "stderr",
     "output_type": "stream",
     "text": [
      "Translating:  68%|███████████████████████████████▍              | 1139/1668 [34:32<34:53,  3.96s/it]"
     ]
    },
    {
     "name": "stdout",
     "output_type": "stream",
     "text": [
      "Error translating with src=en (attempt 1): the JSON object must be str, bytes or bytearray, not NoneType\n",
      "Error translating with src=en (attempt 2): the JSON object must be str, bytes or bytearray, not NoneType\n",
      "🔁 Attempting sentence split and translation...\n"
     ]
    },
    {
     "name": "stderr",
     "output_type": "stream",
     "text": [
      "Translating:  68%|███████████████████████████████▍              | 1141/1668 [34:37<26:26,  3.01s/it]"
     ]
    },
    {
     "name": "stdout",
     "output_type": "stream",
     "text": [
      "result sent successfully\n"
     ]
    },
    {
     "name": "stderr",
     "output_type": "stream",
     "text": [
      "Translating:  69%|███████████████████████████████▌              | 1146/1668 [34:38<05:53,  1.48it/s]"
     ]
    },
    {
     "name": "stdout",
     "output_type": "stream",
     "text": [
      "Error translating with src=en (attempt 1): the JSON object must be str, bytes or bytearray, not NoneType\n",
      "Error translating with src=en (attempt 2): the JSON object must be str, bytes or bytearray, not NoneType\n",
      "🔁 Attempting sentence split and translation...\n"
     ]
    },
    {
     "name": "stderr",
     "output_type": "stream",
     "text": [
      "Translating:  69%|███████████████████████████████▋              | 1148/1668 [34:43<12:09,  1.40s/it]"
     ]
    },
    {
     "name": "stdout",
     "output_type": "stream",
     "text": [
      "result sent successfully\n"
     ]
    },
    {
     "name": "stderr",
     "output_type": "stream",
     "text": [
      "Translating:  69%|███████████████████████████████▋              | 1151/1668 [34:44<04:52,  1.77it/s]"
     ]
    },
    {
     "name": "stdout",
     "output_type": "stream",
     "text": [
      "Error translating with src=en (attempt 1): the JSON object must be str, bytes or bytearray, not NoneType\n",
      "Error translating with src=en (attempt 2): the JSON object must be str, bytes or bytearray, not NoneType\n",
      "🔁 Attempting sentence split and translation...\n"
     ]
    },
    {
     "name": "stderr",
     "output_type": "stream",
     "text": [
      "Translating:  69%|███████████████████████████████▊              | 1152/1668 [34:49<16:20,  1.90s/it]"
     ]
    },
    {
     "name": "stdout",
     "output_type": "stream",
     "text": [
      "result sent successfully\n"
     ]
    },
    {
     "name": "stderr",
     "output_type": "stream",
     "text": [
      "Translating:  69%|███████████████████████████████▊              | 1153/1668 [34:49<12:06,  1.41s/it]"
     ]
    },
    {
     "name": "stdout",
     "output_type": "stream",
     "text": [
      "Error translating with src=en (attempt 1): the JSON object must be str, bytes or bytearray, not NoneType\n",
      "Error translating with src=en (attempt 2): the JSON object must be str, bytes or bytearray, not NoneType\n",
      "🔁 Attempting sentence split and translation...\n"
     ]
    },
    {
     "name": "stderr",
     "output_type": "stream",
     "text": [
      "Translating:  69%|███████████████████████████████▊              | 1154/1668 [34:54<21:56,  2.56s/it]"
     ]
    },
    {
     "name": "stdout",
     "output_type": "stream",
     "text": [
      "result sent successfully\n"
     ]
    },
    {
     "name": "stderr",
     "output_type": "stream",
     "text": [
      "Translating:  69%|███████████████████████████████▊              | 1155/1668 [34:55<16:03,  1.88s/it]"
     ]
    },
    {
     "name": "stdout",
     "output_type": "stream",
     "text": [
      "Error translating with src=en (attempt 1): the JSON object must be str, bytes or bytearray, not NoneType\n",
      "Error translating with src=en (attempt 2): the JSON object must be str, bytes or bytearray, not NoneType\n",
      "🔁 Attempting sentence split and translation...\n"
     ]
    },
    {
     "name": "stderr",
     "output_type": "stream",
     "text": [
      "Translating:  69%|███████████████████████████████▉              | 1157/1668 [35:00<17:12,  2.02s/it]"
     ]
    },
    {
     "name": "stdout",
     "output_type": "stream",
     "text": [
      "result sent successfully\n",
      "Error translating with src=en (attempt 1): the JSON object must be str, bytes or bytearray, not NoneType\n",
      "Error translating with src=en (attempt 2): the JSON object must be str, bytes or bytearray, not NoneType\n",
      "🔁 Attempting sentence split and translation...\n"
     ]
    },
    {
     "name": "stderr",
     "output_type": "stream",
     "text": [
      "Translating:  69%|███████████████████████████████▉              | 1158/1668 [35:05<26:05,  3.07s/it]"
     ]
    },
    {
     "name": "stdout",
     "output_type": "stream",
     "text": [
      "result sent successfully\n",
      "Error translating with src=en (attempt 1): the JSON object must be str, bytes or bytearray, not NoneType\n",
      "Error translating with src=en (attempt 2): the JSON object must be str, bytes or bytearray, not NoneType\n",
      "🔁 Attempting sentence split and translation...\n"
     ]
    },
    {
     "name": "stderr",
     "output_type": "stream",
     "text": [
      "Translating:  69%|███████████████████████████████▉              | 1159/1668 [35:11<32:18,  3.81s/it]"
     ]
    },
    {
     "name": "stdout",
     "output_type": "stream",
     "text": [
      "result sent successfully\n"
     ]
    },
    {
     "name": "stderr",
     "output_type": "stream",
     "text": [
      "Translating:  70%|████████████████████████████████              | 1162/1668 [35:11<12:00,  1.42s/it]"
     ]
    },
    {
     "name": "stdout",
     "output_type": "stream",
     "text": [
      "Error translating with src=en (attempt 1): the JSON object must be str, bytes or bytearray, not NoneType\n",
      "Error translating with src=en (attempt 2): the JSON object must be str, bytes or bytearray, not NoneType\n",
      "🔁 Attempting sentence split and translation...\n"
     ]
    },
    {
     "name": "stderr",
     "output_type": "stream",
     "text": [
      "Translating:  70%|████████████████████████████████              | 1164/1668 [35:16<14:54,  1.78s/it]"
     ]
    },
    {
     "name": "stdout",
     "output_type": "stream",
     "text": [
      "result sent successfully\n"
     ]
    },
    {
     "name": "stderr",
     "output_type": "stream",
     "text": [
      "Translating:  70%|████████████████████████████████▏             | 1165/1668 [35:17<10:41,  1.28s/it]"
     ]
    },
    {
     "name": "stdout",
     "output_type": "stream",
     "text": [
      "Error translating with src=en (attempt 1): the JSON object must be str, bytes or bytearray, not NoneType\n",
      "Error translating with src=en (attempt 2): the JSON object must be str, bytes or bytearray, not NoneType\n",
      "🔁 Attempting sentence split and translation...\n"
     ]
    },
    {
     "name": "stderr",
     "output_type": "stream",
     "text": [
      "Translating:  70%|████████████████████████████████▏             | 1166/1668 [35:22<21:01,  2.51s/it]"
     ]
    },
    {
     "name": "stdout",
     "output_type": "stream",
     "text": [
      "result sent successfully\n"
     ]
    },
    {
     "name": "stderr",
     "output_type": "stream",
     "text": [
      "Translating:  70%|████████████████████████████████▎             | 1173/1668 [35:23<03:12,  2.57it/s]"
     ]
    },
    {
     "name": "stdout",
     "output_type": "stream",
     "text": [
      "Error translating with src=en (attempt 1): the JSON object must be str, bytes or bytearray, not NoneType\n",
      "Error translating with src=en (attempt 2): the JSON object must be str, bytes or bytearray, not NoneType\n",
      "🔁 Attempting sentence split and translation...\n"
     ]
    },
    {
     "name": "stderr",
     "output_type": "stream",
     "text": [
      "Translating:  70%|████████████████████████████████▍             | 1174/1668 [35:28<15:09,  1.84s/it]"
     ]
    },
    {
     "name": "stdout",
     "output_type": "stream",
     "text": [
      "result sent successfully\n",
      "Error translating with src=en (attempt 1): the JSON object must be str, bytes or bytearray, not NoneType\n",
      "Error translating with src=en (attempt 2): the JSON object must be str, bytes or bytearray, not NoneType\n",
      "🔁 Attempting sentence split and translation...\n"
     ]
    },
    {
     "name": "stderr",
     "output_type": "stream",
     "text": [
      "Translating:  70%|████████████████████████████████▍             | 1175/1668 [35:34<24:11,  2.94s/it]"
     ]
    },
    {
     "name": "stdout",
     "output_type": "stream",
     "text": [
      "result sent successfully\n"
     ]
    },
    {
     "name": "stderr",
     "output_type": "stream",
     "text": [
      "Translating:  71%|████████████████████████████████▍             | 1177/1668 [35:35<12:48,  1.57s/it]"
     ]
    },
    {
     "name": "stdout",
     "output_type": "stream",
     "text": [
      "Error translating with src=en (attempt 1): the JSON object must be str, bytes or bytearray, not NoneType\n",
      "Error translating with src=en (attempt 2): the JSON object must be str, bytes or bytearray, not NoneType\n",
      "🔁 Attempting sentence split and translation...\n"
     ]
    },
    {
     "name": "stderr",
     "output_type": "stream",
     "text": [
      "Translating:  71%|████████████████████████████████▍             | 1178/1668 [35:39<21:02,  2.58s/it]"
     ]
    },
    {
     "name": "stdout",
     "output_type": "stream",
     "text": [
      "result sent successfully\n",
      "Error translating with src=en (attempt 1): the JSON object must be str, bytes or bytearray, not NoneType\n",
      "Error translating with src=en (attempt 2): the JSON object must be str, bytes or bytearray, not NoneType\n",
      "🔁 Attempting sentence split and translation...\n"
     ]
    },
    {
     "name": "stderr",
     "output_type": "stream",
     "text": [
      "Translating:  71%|████████████████████████████████▌             | 1180/1668 [35:45<19:29,  2.40s/it]"
     ]
    },
    {
     "name": "stdout",
     "output_type": "stream",
     "text": [
      "result sent successfully\n"
     ]
    },
    {
     "name": "stderr",
     "output_type": "stream",
     "text": [
      "Translating:  71%|████████████████████████████████▌             | 1181/1668 [35:45<14:14,  1.75s/it]"
     ]
    },
    {
     "name": "stdout",
     "output_type": "stream",
     "text": [
      "Error translating with src=en (attempt 1): the JSON object must be str, bytes or bytearray, not NoneType\n",
      "Error translating with src=en (attempt 2): the JSON object must be str, bytes or bytearray, not NoneType\n",
      "🔁 Attempting sentence split and translation...\n"
     ]
    },
    {
     "name": "stderr",
     "output_type": "stream",
     "text": [
      "Translating:  71%|████████████████████████████████▌             | 1182/1668 [35:50<22:20,  2.76s/it]"
     ]
    },
    {
     "name": "stdout",
     "output_type": "stream",
     "text": [
      "result sent successfully\n"
     ]
    },
    {
     "name": "stderr",
     "output_type": "stream",
     "text": [
      "Translating:  71%|████████████████████████████████▋             | 1186/1668 [35:51<06:14,  1.29it/s]"
     ]
    },
    {
     "name": "stdout",
     "output_type": "stream",
     "text": [
      "Error translating with src=en (attempt 1): the JSON object must be str, bytes or bytearray, not NoneType\n",
      "Error translating with src=en (attempt 2): the JSON object must be str, bytes or bytearray, not NoneType\n",
      "🔁 Attempting sentence split and translation...\n"
     ]
    },
    {
     "name": "stderr",
     "output_type": "stream",
     "text": [
      "Translating:  71%|████████████████████████████████▊             | 1188/1668 [35:56<12:19,  1.54s/it]"
     ]
    },
    {
     "name": "stdout",
     "output_type": "stream",
     "text": [
      "result sent successfully\n",
      "Error translating with src=en (attempt 1): the JSON object must be str, bytes or bytearray, not NoneType\n",
      "Error translating with src=en (attempt 2): the JSON object must be str, bytes or bytearray, not NoneType\n",
      "🔁 Attempting sentence split and translation...\n"
     ]
    },
    {
     "name": "stderr",
     "output_type": "stream",
     "text": [
      "Translating:  71%|████████████████████████████████▊             | 1189/1668 [36:02<21:54,  2.74s/it]"
     ]
    },
    {
     "name": "stdout",
     "output_type": "stream",
     "text": [
      "result sent successfully\n",
      "Error translating with src=en (attempt 1): the JSON object must be str, bytes or bytearray, not NoneType\n",
      "Error translating with src=en (attempt 2): the JSON object must be str, bytes or bytearray, not NoneType\n",
      "🔁 Attempting sentence split and translation...\n"
     ]
    },
    {
     "name": "stderr",
     "output_type": "stream",
     "text": [
      "Translating:  71%|████████████████████████████████▊             | 1191/1668 [36:07<19:42,  2.48s/it]"
     ]
    },
    {
     "name": "stdout",
     "output_type": "stream",
     "text": [
      "result sent successfully\n"
     ]
    },
    {
     "name": "stderr",
     "output_type": "stream",
     "text": [
      "Translating:  72%|█████████████████████████████████             | 1198/1668 [36:09<03:02,  2.57it/s]"
     ]
    },
    {
     "name": "stdout",
     "output_type": "stream",
     "text": [
      "Error translating with src=en (attempt 1): the JSON object must be str, bytes or bytearray, not NoneType\n",
      "Error translating with src=en (attempt 2): the JSON object must be str, bytes or bytearray, not NoneType\n",
      "🔁 Attempting sentence split and translation...\n"
     ]
    },
    {
     "name": "stderr",
     "output_type": "stream",
     "text": [
      "Translating:  72%|█████████████████████████████████             | 1200/1668 [36:14<10:49,  1.39s/it]"
     ]
    },
    {
     "name": "stdout",
     "output_type": "stream",
     "text": [
      "result sent successfully\n"
     ]
    },
    {
     "name": "stderr",
     "output_type": "stream",
     "text": [
      "Translating:  72%|█████████████████████████████████▎            | 1206/1668 [36:15<02:34,  2.99it/s]"
     ]
    },
    {
     "name": "stdout",
     "output_type": "stream",
     "text": [
      "Error translating with src=en (attempt 1): the JSON object must be str, bytes or bytearray, not NoneType\n",
      "Error translating with src=en (attempt 2): the JSON object must be str, bytes or bytearray, not NoneType\n",
      "🔁 Attempting sentence split and translation...\n"
     ]
    },
    {
     "name": "stderr",
     "output_type": "stream",
     "text": [
      "Translating:  72%|█████████████████████████████████▎            | 1208/1668 [36:20<09:42,  1.27s/it]"
     ]
    },
    {
     "name": "stdout",
     "output_type": "stream",
     "text": [
      "result sent successfully\n",
      "Error translating with src=en (attempt 1): the JSON object must be str, bytes or bytearray, not NoneType\n",
      "Error translating with src=en (attempt 2): the JSON object must be str, bytes or bytearray, not NoneType\n",
      "🔁 Attempting sentence split and translation...\n"
     ]
    },
    {
     "name": "stderr",
     "output_type": "stream",
     "text": [
      "Translating:  73%|█████████████████████████████████▎            | 1210/1668 [36:25<12:53,  1.69s/it]"
     ]
    },
    {
     "name": "stdout",
     "output_type": "stream",
     "text": [
      "result sent successfully\n",
      "Error translating with src=en (attempt 1): the JSON object must be str, bytes or bytearray, not NoneType\n",
      "Error translating with src=en (attempt 2): the JSON object must be str, bytes or bytearray, not NoneType\n",
      "🔁 Attempting sentence split and translation...\n"
     ]
    },
    {
     "name": "stderr",
     "output_type": "stream",
     "text": [
      "Translating:  73%|█████████████████████████████████▍            | 1212/1668 [36:31<14:44,  1.94s/it]"
     ]
    },
    {
     "name": "stdout",
     "output_type": "stream",
     "text": [
      "result sent successfully\n",
      "Error translating with src=en (attempt 1): the JSON object must be str, bytes or bytearray, not NoneType\n",
      "Error translating with src=en (attempt 2): the JSON object must be str, bytes or bytearray, not NoneType\n",
      "🔁 Attempting sentence split and translation...\n"
     ]
    },
    {
     "name": "stderr",
     "output_type": "stream",
     "text": [
      "Translating:  73%|█████████████████████████████████▍            | 1213/1668 [36:36<21:30,  2.84s/it]"
     ]
    },
    {
     "name": "stdout",
     "output_type": "stream",
     "text": [
      "result sent successfully\n",
      "Error translating with src=en (attempt 1): the JSON object must be str, bytes or bytearray, not NoneType\n",
      "Error translating with src=en (attempt 2): the JSON object must be str, bytes or bytearray, not NoneType\n",
      "🔁 Attempting sentence split and translation...\n"
     ]
    },
    {
     "name": "stderr",
     "output_type": "stream",
     "text": [
      "Translating:  73%|█████████████████████████████████▍            | 1214/1668 [36:40<26:11,  3.46s/it]"
     ]
    },
    {
     "name": "stdout",
     "output_type": "stream",
     "text": [
      "result sent successfully\n"
     ]
    },
    {
     "name": "stderr",
     "output_type": "stream",
     "text": [
      "Translating:  73%|█████████████████████████████████▌            | 1217/1668 [36:41<09:38,  1.28s/it]"
     ]
    },
    {
     "name": "stdout",
     "output_type": "stream",
     "text": [
      "Error translating with src=en (attempt 1): the JSON object must be str, bytes or bytearray, not NoneType\n",
      "Error translating with src=en (attempt 2): the JSON object must be str, bytes or bytearray, not NoneType\n",
      "🔁 Attempting sentence split and translation...\n"
     ]
    },
    {
     "name": "stderr",
     "output_type": "stream",
     "text": [
      "Translating:  73%|█████████████████████████████████▌            | 1219/1668 [36:46<13:11,  1.76s/it]"
     ]
    },
    {
     "name": "stdout",
     "output_type": "stream",
     "text": [
      "result sent successfully\n"
     ]
    },
    {
     "name": "stderr",
     "output_type": "stream",
     "text": [
      "Translating:  73%|█████████████████████████████████▋            | 1222/1668 [36:47<05:32,  1.34it/s]"
     ]
    },
    {
     "name": "stdout",
     "output_type": "stream",
     "text": [
      "Error translating with src=en (attempt 1): the JSON object must be str, bytes or bytearray, not NoneType\n",
      "Error translating with src=en (attempt 2): the JSON object must be str, bytes or bytearray, not NoneType\n",
      "🔁 Attempting sentence split and translation...\n"
     ]
    },
    {
     "name": "stderr",
     "output_type": "stream",
     "text": [
      "Translating:  73%|█████████████████████████████████▊            | 1224/1668 [36:52<10:52,  1.47s/it]"
     ]
    },
    {
     "name": "stdout",
     "output_type": "stream",
     "text": [
      "result sent successfully\n",
      "Error translating with src=en (attempt 1): the JSON object must be str, bytes or bytearray, not NoneType\n",
      "Error translating with src=en (attempt 2): the JSON object must be str, bytes or bytearray, not NoneType\n",
      "🔁 Attempting sentence split and translation...\n"
     ]
    },
    {
     "name": "stderr",
     "output_type": "stream",
     "text": [
      "Translating:  73%|█████████████████████████████████▊            | 1225/1668 [36:58<19:33,  2.65s/it]"
     ]
    },
    {
     "name": "stdout",
     "output_type": "stream",
     "text": [
      "result sent successfully\n",
      "Error translating with src=en (attempt 1): the JSON object must be str, bytes or bytearray, not NoneType\n",
      "Error translating with src=en (attempt 2): the JSON object must be str, bytes or bytearray, not NoneType\n",
      "🔁 Attempting sentence split and translation...\n"
     ]
    },
    {
     "name": "stderr",
     "output_type": "stream",
     "text": [
      "Translating:  74%|█████████████████████████████████▊            | 1226/1668 [37:03<24:53,  3.38s/it]"
     ]
    },
    {
     "name": "stdout",
     "output_type": "stream",
     "text": [
      "result sent successfully\n"
     ]
    },
    {
     "name": "stderr",
     "output_type": "stream",
     "text": [
      "Translating:  74%|█████████████████████████████████▉            | 1232/1668 [37:05<05:14,  1.39it/s]"
     ]
    },
    {
     "name": "stdout",
     "output_type": "stream",
     "text": [
      "Error translating with src=en (attempt 1): the JSON object must be str, bytes or bytearray, not NoneType\n",
      "Error translating with src=en (attempt 2): the JSON object must be str, bytes or bytearray, not NoneType\n",
      "🔁 Attempting sentence split and translation...\n"
     ]
    },
    {
     "name": "stderr",
     "output_type": "stream",
     "text": [
      "Translating:  74%|██████████████████████████████████            | 1234/1668 [37:10<10:21,  1.43s/it]"
     ]
    },
    {
     "name": "stdout",
     "output_type": "stream",
     "text": [
      "result sent successfully\n"
     ]
    },
    {
     "name": "stderr",
     "output_type": "stream",
     "text": [
      "Translating:  74%|██████████████████████████████████            | 1237/1668 [37:10<04:07,  1.74it/s]"
     ]
    },
    {
     "name": "stdout",
     "output_type": "stream",
     "text": [
      "Error translating with src=en (attempt 1): the JSON object must be str, bytes or bytearray, not NoneType\n",
      "Error translating with src=en (attempt 2): the JSON object must be str, bytes or bytearray, not NoneType\n",
      "🔁 Attempting sentence split and translation...\n"
     ]
    },
    {
     "name": "stderr",
     "output_type": "stream",
     "text": [
      "Translating:  74%|██████████████████████████████████▏           | 1239/1668 [37:16<10:15,  1.44s/it]"
     ]
    },
    {
     "name": "stdout",
     "output_type": "stream",
     "text": [
      "result sent successfully\n"
     ]
    },
    {
     "name": "stderr",
     "output_type": "stream",
     "text": [
      "Translating:  74%|██████████████████████████████████▏           | 1241/1668 [37:16<05:43,  1.24it/s]"
     ]
    },
    {
     "name": "stdout",
     "output_type": "stream",
     "text": [
      "Error translating with src=en (attempt 1): the JSON object must be str, bytes or bytearray, not NoneType\n",
      "Error translating with src=en (attempt 2): the JSON object must be str, bytes or bytearray, not NoneType\n",
      "🔁 Attempting sentence split and translation...\n"
     ]
    },
    {
     "name": "stderr",
     "output_type": "stream",
     "text": [
      "Translating:  75%|██████████████████████████████████▎           | 1243/1668 [37:21<10:21,  1.46s/it]"
     ]
    },
    {
     "name": "stdout",
     "output_type": "stream",
     "text": [
      "result sent successfully\n",
      "Error translating with src=en (attempt 1): the JSON object must be str, bytes or bytearray, not NoneType\n",
      "Error translating with src=en (attempt 2): the JSON object must be str, bytes or bytearray, not NoneType\n",
      "🔁 Attempting sentence split and translation...\n"
     ]
    },
    {
     "name": "stderr",
     "output_type": "stream",
     "text": [
      "Translating:  75%|██████████████████████████████████▎           | 1244/1668 [37:26<17:39,  2.50s/it]"
     ]
    },
    {
     "name": "stdout",
     "output_type": "stream",
     "text": [
      "result sent successfully\n",
      "Error translating with src=en (attempt 1): the JSON object must be str, bytes or bytearray, not NoneType\n",
      "Error translating with src=en (attempt 2): the JSON object must be str, bytes or bytearray, not NoneType\n",
      "🔁 Attempting sentence split and translation...\n"
     ]
    },
    {
     "name": "stderr",
     "output_type": "stream",
     "text": [
      "Translating:  75%|██████████████████████████████████▎           | 1245/1668 [37:31<23:05,  3.28s/it]"
     ]
    },
    {
     "name": "stdout",
     "output_type": "stream",
     "text": [
      "result sent successfully\n",
      "Error translating with src=en (attempt 1): the JSON object must be str, bytes or bytearray, not NoneType\n",
      "Error translating with src=en (attempt 2): the JSON object must be str, bytes or bytearray, not NoneType\n",
      "🔁 Attempting sentence split and translation...\n"
     ]
    },
    {
     "name": "stderr",
     "output_type": "stream",
     "text": [
      "Translating:  75%|██████████████████████████████████▍           | 1247/1668 [37:37<19:12,  2.74s/it]"
     ]
    },
    {
     "name": "stdout",
     "output_type": "stream",
     "text": [
      "result sent successfully\n"
     ]
    },
    {
     "name": "stderr",
     "output_type": "stream",
     "text": [
      "Translating:  75%|██████████████████████████████████▍           | 1248/1668 [37:37<13:39,  1.95s/it]"
     ]
    },
    {
     "name": "stdout",
     "output_type": "stream",
     "text": [
      "Error translating with src=en (attempt 1): the JSON object must be str, bytes or bytearray, not NoneType\n",
      "Error translating with src=en (attempt 2): the JSON object must be str, bytes or bytearray, not NoneType\n",
      "🔁 Attempting sentence split and translation...\n"
     ]
    },
    {
     "name": "stderr",
     "output_type": "stream",
     "text": [
      "Translating:  75%|██████████████████████████████████▍           | 1250/1668 [37:42<14:33,  2.09s/it]"
     ]
    },
    {
     "name": "stdout",
     "output_type": "stream",
     "text": [
      "result sent successfully\n"
     ]
    },
    {
     "name": "stderr",
     "output_type": "stream",
     "text": [
      "Translating:  75%|██████████████████████████████████▌           | 1251/1668 [37:42<10:23,  1.49s/it]"
     ]
    },
    {
     "name": "stdout",
     "output_type": "stream",
     "text": [
      "Error translating with src=en (attempt 1): the JSON object must be str, bytes or bytearray, not NoneType\n",
      "Error translating with src=en (attempt 2): the JSON object must be str, bytes or bytearray, not NoneType\n",
      "🔁 Attempting sentence split and translation...\n"
     ]
    },
    {
     "name": "stderr",
     "output_type": "stream",
     "text": [
      "Translating:  75%|██████████████████████████████████▌           | 1252/1668 [37:47<17:50,  2.57s/it]"
     ]
    },
    {
     "name": "stdout",
     "output_type": "stream",
     "text": [
      "result sent successfully\n"
     ]
    },
    {
     "name": "stderr",
     "output_type": "stream",
     "text": [
      "Translating:  75%|██████████████████████████████████▌           | 1254/1668 [37:48<09:20,  1.35s/it]"
     ]
    },
    {
     "name": "stdout",
     "output_type": "stream",
     "text": [
      "Error translating with src=en (attempt 1): the JSON object must be str, bytes or bytearray, not NoneType\n",
      "Error translating with src=en (attempt 2): the JSON object must be str, bytes or bytearray, not NoneType\n",
      "🔁 Attempting sentence split and translation...\n"
     ]
    },
    {
     "name": "stderr",
     "output_type": "stream",
     "text": [
      "Translating:  75%|██████████████████████████████████▋           | 1256/1668 [37:53<12:04,  1.76s/it]"
     ]
    },
    {
     "name": "stdout",
     "output_type": "stream",
     "text": [
      "result sent successfully\n"
     ]
    },
    {
     "name": "stderr",
     "output_type": "stream",
     "text": [
      "Translating:  75%|██████████████████████████████████▋           | 1258/1668 [37:53<06:16,  1.09it/s]"
     ]
    },
    {
     "name": "stdout",
     "output_type": "stream",
     "text": [
      "Error translating with src=en (attempt 1): the JSON object must be str, bytes or bytearray, not NoneType\n",
      "Error translating with src=en (attempt 2): the JSON object must be str, bytes or bytearray, not NoneType\n",
      "🔁 Attempting sentence split and translation...\n"
     ]
    },
    {
     "name": "stderr",
     "output_type": "stream",
     "text": [
      "Translating:  75%|██████████████████████████████████▋           | 1259/1668 [37:58<14:49,  2.17s/it]"
     ]
    },
    {
     "name": "stdout",
     "output_type": "stream",
     "text": [
      "result sent successfully\n",
      "Error translating with src=en (attempt 1): the JSON object must be str, bytes or bytearray, not NoneType\n",
      "Error translating with src=en (attempt 2): the JSON object must be str, bytes or bytearray, not NoneType\n",
      "🔁 Attempting sentence split and translation...\n"
     ]
    },
    {
     "name": "stderr",
     "output_type": "stream",
     "text": [
      "Translating:  76%|██████████████████████████████████▊           | 1261/1668 [38:03<14:42,  2.17s/it]"
     ]
    },
    {
     "name": "stdout",
     "output_type": "stream",
     "text": [
      "result sent successfully\n"
     ]
    },
    {
     "name": "stderr",
     "output_type": "stream",
     "text": [
      "Translating:  76%|██████████████████████████████████▊           | 1263/1668 [38:04<07:53,  1.17s/it]"
     ]
    },
    {
     "name": "stdout",
     "output_type": "stream",
     "text": [
      "Error translating with src=en (attempt 1): the JSON object must be str, bytes or bytearray, not NoneType\n",
      "Error translating with src=en (attempt 2): the JSON object must be str, bytes or bytearray, not NoneType\n",
      "🔁 Attempting sentence split and translation...\n"
     ]
    },
    {
     "name": "stderr",
     "output_type": "stream",
     "text": [
      "Translating:  76%|██████████████████████████████████▊           | 1264/1668 [38:09<15:27,  2.30s/it]"
     ]
    },
    {
     "name": "stdout",
     "output_type": "stream",
     "text": [
      "result sent successfully\n",
      "Error translating with src=en (attempt 1): the JSON object must be str, bytes or bytearray, not NoneType\n",
      "Error translating with src=en (attempt 2): the JSON object must be str, bytes or bytearray, not NoneType\n",
      "🔁 Attempting sentence split and translation...\n"
     ]
    },
    {
     "name": "stderr",
     "output_type": "stream",
     "text": [
      "Translating:  76%|██████████████████████████████████▉           | 1266/1668 [38:14<14:41,  2.19s/it]"
     ]
    },
    {
     "name": "stdout",
     "output_type": "stream",
     "text": [
      "result sent successfully\n"
     ]
    },
    {
     "name": "stderr",
     "output_type": "stream",
     "text": [
      "Translating:  76%|███████████████████████████████████           | 1270/1668 [38:14<04:07,  1.61it/s]"
     ]
    },
    {
     "name": "stdout",
     "output_type": "stream",
     "text": [
      "Error translating with src=en (attempt 1): the JSON object must be str, bytes or bytearray, not NoneType\n",
      "Error translating with src=en (attempt 2): the JSON object must be str, bytes or bytearray, not NoneType\n",
      "🔁 Attempting sentence split and translation...\n"
     ]
    },
    {
     "name": "stderr",
     "output_type": "stream",
     "text": [
      "Translating:  76%|███████████████████████████████████           | 1272/1668 [38:19<09:21,  1.42s/it]"
     ]
    },
    {
     "name": "stdout",
     "output_type": "stream",
     "text": [
      "result sent successfully\n"
     ]
    },
    {
     "name": "stderr",
     "output_type": "stream",
     "text": [
      "Translating:  77%|███████████████████████████████████▏          | 1278/1668 [38:23<04:53,  1.33it/s]"
     ]
    },
    {
     "name": "stdout",
     "output_type": "stream",
     "text": [
      "Error translating with src=en (attempt 1): the JSON object must be str, bytes or bytearray, not NoneType\n",
      "Error translating with src=en (attempt 2): the JSON object must be str, bytes or bytearray, not NoneType\n",
      "🔁 Attempting sentence split and translation...\n"
     ]
    },
    {
     "name": "stderr",
     "output_type": "stream",
     "text": [
      "Translating:  77%|███████████████████████████████████▎          | 1279/1668 [38:28<13:15,  2.04s/it]"
     ]
    },
    {
     "name": "stdout",
     "output_type": "stream",
     "text": [
      "result sent successfully\n"
     ]
    },
    {
     "name": "stderr",
     "output_type": "stream",
     "text": [
      "Translating:  77%|███████████████████████████████████▎          | 1281/1668 [38:29<07:57,  1.23s/it]"
     ]
    },
    {
     "name": "stdout",
     "output_type": "stream",
     "text": [
      "Error translating with src=en (attempt 1): the JSON object must be str, bytes or bytearray, not NoneType\n",
      "Error translating with src=en (attempt 2): the JSON object must be str, bytes or bytearray, not NoneType\n",
      "🔁 Attempting sentence split and translation...\n"
     ]
    },
    {
     "name": "stderr",
     "output_type": "stream",
     "text": [
      "Translating:  77%|███████████████████████████████████▍          | 1283/1668 [38:34<10:41,  1.67s/it]"
     ]
    },
    {
     "name": "stdout",
     "output_type": "stream",
     "text": [
      "result sent successfully\n"
     ]
    },
    {
     "name": "stderr",
     "output_type": "stream",
     "text": [
      "Translating:  77%|███████████████████████████████████▍          | 1284/1668 [38:34<07:59,  1.25s/it]"
     ]
    },
    {
     "name": "stdout",
     "output_type": "stream",
     "text": [
      "Error translating with src=en (attempt 1): the JSON object must be str, bytes or bytearray, not NoneType\n",
      "Error translating with src=en (attempt 2): the JSON object must be str, bytes or bytearray, not NoneType\n",
      "🔁 Attempting sentence split and translation...\n"
     ]
    },
    {
     "name": "stderr",
     "output_type": "stream",
     "text": [
      "Translating:  77%|███████████████████████████████████▍          | 1285/1668 [38:39<15:03,  2.36s/it]"
     ]
    },
    {
     "name": "stdout",
     "output_type": "stream",
     "text": [
      "result sent successfully\n",
      "Error translating with src=en (attempt 1): the JSON object must be str, bytes or bytearray, not NoneType\n",
      "Error translating with src=en (attempt 2): the JSON object must be str, bytes or bytearray, not NoneType\n",
      "🔁 Attempting sentence split and translation...\n"
     ]
    },
    {
     "name": "stderr",
     "output_type": "stream",
     "text": [
      "Translating:  77%|███████████████████████████████████▍          | 1287/1668 [38:44<14:09,  2.23s/it]"
     ]
    },
    {
     "name": "stdout",
     "output_type": "stream",
     "text": [
      "result sent successfully\n"
     ]
    },
    {
     "name": "stderr",
     "output_type": "stream",
     "text": [
      "Translating:  77%|███████████████████████████████████▌          | 1291/1668 [38:45<03:54,  1.60it/s]"
     ]
    },
    {
     "name": "stdout",
     "output_type": "stream",
     "text": [
      "Error translating with src=en (attempt 1): the JSON object must be str, bytes or bytearray, not NoneType\n",
      "Error translating with src=en (attempt 2): the JSON object must be str, bytes or bytearray, not NoneType\n",
      "🔁 Attempting sentence split and translation...\n"
     ]
    },
    {
     "name": "stderr",
     "output_type": "stream",
     "text": [
      "Translating:  77%|███████████████████████████████████▋          | 1292/1668 [38:49<12:01,  1.92s/it]"
     ]
    },
    {
     "name": "stdout",
     "output_type": "stream",
     "text": [
      "result sent successfully\n",
      "Error translating with src=en (attempt 1): the JSON object must be str, bytes or bytearray, not NoneType\n",
      "Error translating with src=en (attempt 2): the JSON object must be str, bytes or bytearray, not NoneType\n",
      "🔁 Attempting sentence split and translation...\n"
     ]
    },
    {
     "name": "stderr",
     "output_type": "stream",
     "text": [
      "Translating:  78%|███████████████████████████████████▋          | 1294/1668 [38:55<12:34,  2.02s/it]"
     ]
    },
    {
     "name": "stdout",
     "output_type": "stream",
     "text": [
      "result sent successfully\n",
      "Error translating with src=en (attempt 1): the JSON object must be str, bytes or bytearray, not NoneType\n",
      "Error translating with src=en (attempt 2): the JSON object must be str, bytes or bytearray, not NoneType\n",
      "🔁 Attempting sentence split and translation...\n"
     ]
    },
    {
     "name": "stderr",
     "output_type": "stream",
     "text": [
      "Translating:  78%|███████████████████████████████████▋          | 1295/1668 [39:00<18:33,  2.98s/it]"
     ]
    },
    {
     "name": "stdout",
     "output_type": "stream",
     "text": [
      "result sent successfully\n",
      "Error translating with src=en (attempt 1): the JSON object must be str, bytes or bytearray, not NoneType\n",
      "Error translating with src=en (attempt 2): the JSON object must be str, bytes or bytearray, not NoneType\n",
      "🔁 Attempting sentence split and translation...\n"
     ]
    },
    {
     "name": "stderr",
     "output_type": "stream",
     "text": [
      "Translating:  78%|███████████████████████████████████▊          | 1297/1668 [39:05<15:47,  2.56s/it]"
     ]
    },
    {
     "name": "stdout",
     "output_type": "stream",
     "text": [
      "result sent successfully\n"
     ]
    },
    {
     "name": "stderr",
     "output_type": "stream",
     "text": [
      "Translating:  78%|███████████████████████████████████▊          | 1300/1668 [39:05<05:48,  1.06it/s]"
     ]
    },
    {
     "name": "stdout",
     "output_type": "stream",
     "text": [
      "Error translating with src=en (attempt 1): the JSON object must be str, bytes or bytearray, not NoneType\n",
      "Error translating with src=en (attempt 2): the JSON object must be str, bytes or bytearray, not NoneType\n",
      "🔁 Attempting sentence split and translation...\n"
     ]
    },
    {
     "name": "stderr",
     "output_type": "stream",
     "text": [
      "Translating:  78%|███████████████████████████████████▉          | 1301/1668 [39:10<13:23,  2.19s/it]"
     ]
    },
    {
     "name": "stdout",
     "output_type": "stream",
     "text": [
      "result sent successfully\n",
      "Error translating with src=en (attempt 1): the JSON object must be str, bytes or bytearray, not NoneType\n",
      "Error translating with src=en (attempt 2): the JSON object must be str, bytes or bytearray, not NoneType\n",
      "🔁 Attempting sentence split and translation...\n"
     ]
    },
    {
     "name": "stderr",
     "output_type": "stream",
     "text": [
      "Translating:  78%|███████████████████████████████████▉          | 1302/1668 [39:15<18:38,  3.06s/it]"
     ]
    },
    {
     "name": "stdout",
     "output_type": "stream",
     "text": [
      "result sent successfully\n"
     ]
    },
    {
     "name": "stderr",
     "output_type": "stream",
     "text": [
      "Translating:  78%|████████████████████████████████████          | 1306/1668 [39:16<05:13,  1.16it/s]"
     ]
    },
    {
     "name": "stdout",
     "output_type": "stream",
     "text": [
      "Error translating with src=en (attempt 1): the JSON object must be str, bytes or bytearray, not NoneType\n",
      "Error translating with src=en (attempt 2): the JSON object must be str, bytes or bytearray, not NoneType\n",
      "🔁 Attempting sentence split and translation...\n"
     ]
    },
    {
     "name": "stderr",
     "output_type": "stream",
     "text": [
      "Translating:  78%|████████████████████████████████████          | 1307/1668 [39:21<12:40,  2.11s/it]"
     ]
    },
    {
     "name": "stdout",
     "output_type": "stream",
     "text": [
      "result sent successfully\n",
      "Error translating with src=en (attempt 1): the JSON object must be str, bytes or bytearray, not NoneType\n",
      "Error translating with src=en (attempt 2): the JSON object must be str, bytes or bytearray, not NoneType\n",
      "🔁 Attempting sentence split and translation...\n"
     ]
    },
    {
     "name": "stderr",
     "output_type": "stream",
     "text": [
      "Translating:  78%|████████████████████████████████████          | 1308/1668 [39:26<17:42,  2.95s/it]"
     ]
    },
    {
     "name": "stdout",
     "output_type": "stream",
     "text": [
      "result sent successfully\n",
      "Error translating with src=en (attempt 1): the JSON object must be str, bytes or bytearray, not NoneType\n",
      "Error translating with src=en (attempt 2): the JSON object must be str, bytes or bytearray, not NoneType\n",
      "🔁 Attempting sentence split and translation...\n"
     ]
    },
    {
     "name": "stderr",
     "output_type": "stream",
     "text": [
      "Translating:  78%|████████████████████████████████████          | 1309/1668 [39:32<23:35,  3.94s/it]"
     ]
    },
    {
     "name": "stdout",
     "output_type": "stream",
     "text": [
      "result sent successfully\n",
      "Error translating with src=en (attempt 1): the JSON object must be str, bytes or bytearray, not NoneType\n",
      "Error translating with src=en (attempt 2): the JSON object must be str, bytes or bytearray, not NoneType\n",
      "🔁 Attempting sentence split and translation...\n"
     ]
    },
    {
     "name": "stderr",
     "output_type": "stream",
     "text": [
      "Translating:  79%|████████████████████████████████████▏         | 1310/1668 [39:37<25:34,  4.29s/it]"
     ]
    },
    {
     "name": "stdout",
     "output_type": "stream",
     "text": [
      "result sent successfully\n",
      "Error translating with src=en (attempt 1): the JSON object must be str, bytes or bytearray, not NoneType\n",
      "Error translating with src=en (attempt 2): the JSON object must be str, bytes or bytearray, not NoneType\n",
      "🔁 Attempting sentence split and translation...\n"
     ]
    },
    {
     "name": "stderr",
     "output_type": "stream",
     "text": [
      "Translating:  79%|████████████████████████████████████▏         | 1311/1668 [39:42<26:39,  4.48s/it]"
     ]
    },
    {
     "name": "stdout",
     "output_type": "stream",
     "text": [
      "result sent successfully\n",
      "Error translating with src=en (attempt 1): the JSON object must be str, bytes or bytearray, not NoneType\n",
      "Error translating with src=en (attempt 2): the JSON object must be str, bytes or bytearray, not NoneType\n",
      "🔁 Attempting sentence split and translation...\n"
     ]
    },
    {
     "name": "stderr",
     "output_type": "stream",
     "text": [
      "Translating:  79%|████████████████████████████████████▏         | 1312/1668 [39:48<28:13,  4.76s/it]"
     ]
    },
    {
     "name": "stdout",
     "output_type": "stream",
     "text": [
      "result sent successfully\n",
      "Error translating with src=en (attempt 1): the JSON object must be str, bytes or bytearray, not NoneType\n",
      "Error translating with src=en (attempt 2): the JSON object must be str, bytes or bytearray, not NoneType\n",
      "🔁 Attempting sentence split and translation...\n"
     ]
    },
    {
     "name": "stderr",
     "output_type": "stream",
     "text": [
      "Translating:  79%|████████████████████████████████████▏         | 1313/1668 [39:53<28:58,  4.90s/it]"
     ]
    },
    {
     "name": "stdout",
     "output_type": "stream",
     "text": [
      "result sent successfully\n",
      "Error translating with src=en (attempt 1): the JSON object must be str, bytes or bytearray, not NoneType\n",
      "Error translating with src=en (attempt 2): the JSON object must be str, bytes or bytearray, not NoneType\n",
      "🔁 Attempting sentence split and translation...\n"
     ]
    },
    {
     "name": "stderr",
     "output_type": "stream",
     "text": [
      "Translating:  79%|████████████████████████████████████▏         | 1314/1668 [39:58<29:18,  4.97s/it]"
     ]
    },
    {
     "name": "stdout",
     "output_type": "stream",
     "text": [
      "result sent successfully\n"
     ]
    },
    {
     "name": "stderr",
     "output_type": "stream",
     "text": [
      "Translating:  79%|████████████████████████████████████▍         | 1322/1668 [39:59<02:21,  2.44it/s]"
     ]
    },
    {
     "name": "stdout",
     "output_type": "stream",
     "text": [
      "Error translating with src=en (attempt 1): the JSON object must be str, bytes or bytearray, not NoneType\n",
      "Error translating with src=en (attempt 2): the JSON object must be str, bytes or bytearray, not NoneType\n",
      "🔁 Attempting sentence split and translation...\n"
     ]
    },
    {
     "name": "stderr",
     "output_type": "stream",
     "text": [
      "Translating:  79%|████████████████████████████████████▍         | 1323/1668 [40:05<10:42,  1.86s/it]"
     ]
    },
    {
     "name": "stdout",
     "output_type": "stream",
     "text": [
      "result sent successfully\n"
     ]
    },
    {
     "name": "stderr",
     "output_type": "stream",
     "text": [
      "Translating:  79%|████████████████████████████████████▌         | 1324/1668 [40:05<07:55,  1.38s/it]"
     ]
    },
    {
     "name": "stdout",
     "output_type": "stream",
     "text": [
      "Error translating with src=en (attempt 1): the JSON object must be str, bytes or bytearray, not NoneType\n",
      "Error translating with src=en (attempt 2): the JSON object must be str, bytes or bytearray, not NoneType\n",
      "🔁 Attempting sentence split and translation...\n"
     ]
    },
    {
     "name": "stderr",
     "output_type": "stream",
     "text": [
      "Translating:  79%|████████████████████████████████████▌         | 1325/1668 [40:10<14:16,  2.50s/it]"
     ]
    },
    {
     "name": "stdout",
     "output_type": "stream",
     "text": [
      "result sent successfully\n",
      "Error translating with src=en (attempt 1): the JSON object must be str, bytes or bytearray, not NoneType\n",
      "Error translating with src=en (attempt 2): the JSON object must be str, bytes or bytearray, not NoneType\n",
      "🔁 Attempting sentence split and translation...\n"
     ]
    },
    {
     "name": "stderr",
     "output_type": "stream",
     "text": [
      "Translating:  80%|████████████████████████████████████▌         | 1327/1668 [40:15<13:26,  2.37s/it]"
     ]
    },
    {
     "name": "stdout",
     "output_type": "stream",
     "text": [
      "result sent successfully\n",
      "Error translating with src=en (attempt 1): the JSON object must be str, bytes or bytearray, not NoneType\n",
      "Error translating with src=en (attempt 2): the JSON object must be str, bytes or bytearray, not NoneType\n",
      "🔁 Attempting sentence split and translation...\n"
     ]
    },
    {
     "name": "stderr",
     "output_type": "stream",
     "text": [
      "Translating:  80%|████████████████████████████████████▌         | 1328/1668 [40:20<17:46,  3.14s/it]"
     ]
    },
    {
     "name": "stdout",
     "output_type": "stream",
     "text": [
      "result sent successfully\n",
      "Error translating with src=en (attempt 1): the JSON object must be str, bytes or bytearray, not NoneType\n",
      "Error translating with src=en (attempt 2): the JSON object must be str, bytes or bytearray, not NoneType\n",
      "🔁 Attempting sentence split and translation...\n"
     ]
    },
    {
     "name": "stderr",
     "output_type": "stream",
     "text": [
      "Translating:  80%|████████████████████████████████████▋         | 1329/1668 [40:25<21:02,  3.72s/it]"
     ]
    },
    {
     "name": "stdout",
     "output_type": "stream",
     "text": [
      "result sent successfully\n",
      "Error translating with src=en (attempt 1): the JSON object must be str, bytes or bytearray, not NoneType\n",
      "Error translating with src=en (attempt 2): the JSON object must be str, bytes or bytearray, not NoneType\n",
      "🔁 Attempting sentence split and translation...\n"
     ]
    },
    {
     "name": "stderr",
     "output_type": "stream",
     "text": [
      "Translating:  80%|████████████████████████████████████▋         | 1330/1668 [40:31<23:17,  4.13s/it]"
     ]
    },
    {
     "name": "stdout",
     "output_type": "stream",
     "text": [
      "result sent successfully\n",
      "Error translating with src=en (attempt 1): the JSON object must be str, bytes or bytearray, not NoneType\n",
      "Error translating with src=en (attempt 2): the JSON object must be str, bytes or bytearray, not NoneType\n",
      "🔁 Attempting sentence split and translation...\n"
     ]
    },
    {
     "name": "stderr",
     "output_type": "stream",
     "text": [
      "Translating:  80%|████████████████████████████████████▋         | 1331/1668 [40:36<24:40,  4.39s/it]"
     ]
    },
    {
     "name": "stdout",
     "output_type": "stream",
     "text": [
      "result sent successfully\n",
      "Error translating with src=en (attempt 1): the JSON object must be str, bytes or bytearray, not NoneType\n",
      "Error translating with src=en (attempt 2): the JSON object must be str, bytes or bytearray, not NoneType\n",
      "🔁 Attempting sentence split and translation...\n"
     ]
    },
    {
     "name": "stderr",
     "output_type": "stream",
     "text": [
      "Translating:  80%|████████████████████████████████████▊         | 1333/1668 [40:41<18:13,  3.26s/it]"
     ]
    },
    {
     "name": "stdout",
     "output_type": "stream",
     "text": [
      "result sent successfully\n"
     ]
    },
    {
     "name": "stderr",
     "output_type": "stream",
     "text": [
      "Translating:  80%|████████████████████████████████████▊         | 1335/1668 [40:41<09:24,  1.70s/it]"
     ]
    },
    {
     "name": "stdout",
     "output_type": "stream",
     "text": [
      "Error translating with src=en (attempt 1): the JSON object must be str, bytes or bytearray, not NoneType\n",
      "Error translating with src=en (attempt 2): the JSON object must be str, bytes or bytearray, not NoneType\n",
      "🔁 Attempting sentence split and translation...\n"
     ]
    },
    {
     "name": "stderr",
     "output_type": "stream",
     "text": [
      "Translating:  80%|████████████████████████████████████▊         | 1337/1668 [40:46<10:28,  1.90s/it]"
     ]
    },
    {
     "name": "stdout",
     "output_type": "stream",
     "text": [
      "result sent successfully\n"
     ]
    },
    {
     "name": "stderr",
     "output_type": "stream",
     "text": [
      "Translating:  80%|████████████████████████████████████▉         | 1338/1668 [40:46<07:31,  1.37s/it]"
     ]
    },
    {
     "name": "stdout",
     "output_type": "stream",
     "text": [
      "Error translating with src=en (attempt 1): the JSON object must be str, bytes or bytearray, not NoneType\n",
      "Error translating with src=en (attempt 2): the JSON object must be str, bytes or bytearray, not NoneType\n",
      "🔁 Attempting sentence split and translation...\n"
     ]
    },
    {
     "name": "stderr",
     "output_type": "stream",
     "text": [
      "Translating:  80%|████████████████████████████████████▉         | 1339/1668 [40:51<13:21,  2.44s/it]"
     ]
    },
    {
     "name": "stdout",
     "output_type": "stream",
     "text": [
      "result sent successfully\n",
      "Error translating with src=en (attempt 1): the JSON object must be str, bytes or bytearray, not NoneType\n",
      "Error translating with src=en (attempt 2): the JSON object must be str, bytes or bytearray, not NoneType\n",
      "🔁 Attempting sentence split and translation...\n"
     ]
    },
    {
     "name": "stderr",
     "output_type": "stream",
     "text": [
      "Translating:  80%|████████████████████████████████████▉         | 1341/1668 [40:57<12:42,  2.33s/it]"
     ]
    },
    {
     "name": "stdout",
     "output_type": "stream",
     "text": [
      "result sent successfully\n"
     ]
    },
    {
     "name": "stderr",
     "output_type": "stream",
     "text": [
      "Translating:  81%|█████████████████████████████████████         | 1344/1668 [40:57<05:10,  1.04it/s]"
     ]
    },
    {
     "name": "stdout",
     "output_type": "stream",
     "text": [
      "Error translating with src=en (attempt 1): the JSON object must be str, bytes or bytearray, not NoneType\n",
      "Error translating with src=en (attempt 2): the JSON object must be str, bytes or bytearray, not NoneType\n",
      "🔁 Attempting sentence split and translation...\n"
     ]
    },
    {
     "name": "stderr",
     "output_type": "stream",
     "text": [
      "Translating:  81%|█████████████████████████████████████         | 1345/1668 [41:02<11:34,  2.15s/it]"
     ]
    },
    {
     "name": "stdout",
     "output_type": "stream",
     "text": [
      "result sent successfully\n"
     ]
    },
    {
     "name": "stderr",
     "output_type": "stream",
     "text": [
      "Translating:  81%|█████████████████████████████████████▎        | 1351/1668 [41:04<02:34,  2.05it/s]"
     ]
    },
    {
     "name": "stdout",
     "output_type": "stream",
     "text": [
      "Error translating with src=en (attempt 1): the JSON object must be str, bytes or bytearray, not NoneType\n",
      "Error translating with src=en (attempt 2): the JSON object must be str, bytes or bytearray, not NoneType\n",
      "🔁 Attempting sentence split and translation...\n"
     ]
    },
    {
     "name": "stderr",
     "output_type": "stream",
     "text": [
      "Translating:  81%|█████████████████████████████████████▎        | 1353/1668 [41:10<07:26,  1.42s/it]"
     ]
    },
    {
     "name": "stdout",
     "output_type": "stream",
     "text": [
      "result sent successfully\n"
     ]
    },
    {
     "name": "stderr",
     "output_type": "stream",
     "text": [
      "Translating:  81%|█████████████████████████████████████▎        | 1354/1668 [41:10<05:22,  1.03s/it]"
     ]
    },
    {
     "name": "stdout",
     "output_type": "stream",
     "text": [
      "Error translating with src=en (attempt 1): the JSON object must be str, bytes or bytearray, not NoneType\n",
      "Error translating with src=en (attempt 2): the JSON object must be str, bytes or bytearray, not NoneType\n",
      "🔁 Attempting sentence split and translation...\n"
     ]
    },
    {
     "name": "stderr",
     "output_type": "stream",
     "text": [
      "Translating:  81%|█████████████████████████████████████▎        | 1355/1668 [41:15<11:41,  2.24s/it]"
     ]
    },
    {
     "name": "stdout",
     "output_type": "stream",
     "text": [
      "result sent successfully\n"
     ]
    },
    {
     "name": "stderr",
     "output_type": "stream",
     "text": [
      "Translating:  81%|█████████████████████████████████████▍        | 1356/1668 [41:15<08:34,  1.65s/it]"
     ]
    },
    {
     "name": "stdout",
     "output_type": "stream",
     "text": [
      "Error translating with src=en (attempt 1): the JSON object must be str, bytes or bytearray, not NoneType\n",
      "Error translating with src=en (attempt 2): the JSON object must be str, bytes or bytearray, not NoneType\n",
      "🔁 Attempting sentence split and translation...\n"
     ]
    },
    {
     "name": "stderr",
     "output_type": "stream",
     "text": [
      "Translating:  81%|█████████████████████████████████████▍        | 1358/1668 [41:20<09:46,  1.89s/it]"
     ]
    },
    {
     "name": "stdout",
     "output_type": "stream",
     "text": [
      "result sent successfully\n"
     ]
    },
    {
     "name": "stderr",
     "output_type": "stream",
     "text": [
      "Translating:  81%|█████████████████████████████████████▍        | 1359/1668 [41:20<06:59,  1.36s/it]"
     ]
    },
    {
     "name": "stdout",
     "output_type": "stream",
     "text": [
      "Error translating with src=en (attempt 1): the JSON object must be str, bytes or bytearray, not NoneType\n",
      "Error translating with src=en (attempt 2): the JSON object must be str, bytes or bytearray, not NoneType\n",
      "🔁 Attempting sentence split and translation...\n"
     ]
    },
    {
     "name": "stderr",
     "output_type": "stream",
     "text": [
      "Translating:  82%|█████████████████████████████████████▌        | 1360/1668 [41:25<12:29,  2.43s/it]"
     ]
    },
    {
     "name": "stdout",
     "output_type": "stream",
     "text": [
      "result sent successfully\n",
      "Error translating with src=en (attempt 1): the JSON object must be str, bytes or bytearray, not NoneType\n",
      "Error translating with src=en (attempt 2): the JSON object must be str, bytes or bytearray, not NoneType\n",
      "🔁 Attempting sentence split and translation...\n"
     ]
    },
    {
     "name": "stderr",
     "output_type": "stream",
     "text": [
      "Translating:  82%|█████████████████████████████████████▌        | 1362/1668 [41:30<11:51,  2.32s/it]"
     ]
    },
    {
     "name": "stdout",
     "output_type": "stream",
     "text": [
      "result sent successfully\n"
     ]
    },
    {
     "name": "stderr",
     "output_type": "stream",
     "text": [
      "Translating:  82%|█████████████████████████████████████▌        | 1363/1668 [41:31<08:57,  1.76s/it]"
     ]
    },
    {
     "name": "stdout",
     "output_type": "stream",
     "text": [
      "Error translating with src=en (attempt 1): the JSON object must be str, bytes or bytearray, not NoneType\n",
      "Error translating with src=en (attempt 2): the JSON object must be str, bytes or bytearray, not NoneType\n",
      "🔁 Attempting sentence split and translation...\n"
     ]
    },
    {
     "name": "stderr",
     "output_type": "stream",
     "text": [
      "Translating:  82%|█████████████████████████████████████▋        | 1365/1668 [41:36<09:45,  1.93s/it]"
     ]
    },
    {
     "name": "stdout",
     "output_type": "stream",
     "text": [
      "result sent successfully\n"
     ]
    },
    {
     "name": "stderr",
     "output_type": "stream",
     "text": [
      "Translating:  82%|█████████████████████████████████████▋        | 1367/1668 [41:36<05:14,  1.04s/it]"
     ]
    },
    {
     "name": "stdout",
     "output_type": "stream",
     "text": [
      "Error translating with src=en (attempt 1): the JSON object must be str, bytes or bytearray, not NoneType\n",
      "Error translating with src=en (attempt 2): the JSON object must be str, bytes or bytearray, not NoneType\n",
      "🔁 Attempting sentence split and translation...\n"
     ]
    },
    {
     "name": "stderr",
     "output_type": "stream",
     "text": [
      "Translating:  82%|█████████████████████████████████████▋        | 1368/1668 [41:41<11:03,  2.21s/it]"
     ]
    },
    {
     "name": "stdout",
     "output_type": "stream",
     "text": [
      "result sent successfully\n",
      "Error translating with src=en (attempt 1): the JSON object must be str, bytes or bytearray, not NoneType\n",
      "Error translating with src=en (attempt 2): the JSON object must be str, bytes or bytearray, not NoneType\n",
      "🔁 Attempting sentence split and translation...\n"
     ]
    },
    {
     "name": "stderr",
     "output_type": "stream",
     "text": [
      "Translating:  82%|█████████████████████████████████████▊        | 1370/1668 [41:47<10:52,  2.19s/it]"
     ]
    },
    {
     "name": "stdout",
     "output_type": "stream",
     "text": [
      "result sent successfully\n"
     ]
    },
    {
     "name": "stderr",
     "output_type": "stream",
     "text": [
      "Translating:  82%|█████████████████████████████████████▉        | 1374/1668 [41:47<03:05,  1.59it/s]"
     ]
    },
    {
     "name": "stdout",
     "output_type": "stream",
     "text": [
      "Error translating with src=en (attempt 1): the JSON object must be str, bytes or bytearray, not NoneType\n",
      "Error translating with src=en (attempt 2): the JSON object must be str, bytes or bytearray, not NoneType\n",
      "🔁 Attempting sentence split and translation...\n"
     ]
    },
    {
     "name": "stderr",
     "output_type": "stream",
     "text": [
      "Translating:  82%|█████████████████████████████████████▉        | 1375/1668 [41:52<09:21,  1.92s/it]"
     ]
    },
    {
     "name": "stdout",
     "output_type": "stream",
     "text": [
      "result sent successfully\n"
     ]
    },
    {
     "name": "stderr",
     "output_type": "stream",
     "text": [
      "Translating:  83%|██████████████████████████████████████        | 1379/1668 [41:53<02:52,  1.68it/s]"
     ]
    },
    {
     "name": "stdout",
     "output_type": "stream",
     "text": [
      "Error translating with src=en (attempt 1): the JSON object must be str, bytes or bytearray, not NoneType\n",
      "Error translating with src=en (attempt 2): the JSON object must be str, bytes or bytearray, not NoneType\n",
      "🔁 Attempting sentence split and translation...\n"
     ]
    },
    {
     "name": "stderr",
     "output_type": "stream",
     "text": [
      "Translating:  83%|██████████████████████████████████████        | 1380/1668 [41:58<09:44,  2.03s/it]"
     ]
    },
    {
     "name": "stdout",
     "output_type": "stream",
     "text": [
      "result sent successfully\n"
     ]
    },
    {
     "name": "stderr",
     "output_type": "stream",
     "text": [
      "Translating:  83%|██████████████████████████████████████        | 1382/1668 [41:59<05:31,  1.16s/it]"
     ]
    },
    {
     "name": "stdout",
     "output_type": "stream",
     "text": [
      "Error translating with src=en (attempt 1): the JSON object must be str, bytes or bytearray, not NoneType\n",
      "Error translating with src=en (attempt 2): the JSON object must be str, bytes or bytearray, not NoneType\n",
      "🔁 Attempting sentence split and translation...\n"
     ]
    },
    {
     "name": "stderr",
     "output_type": "stream",
     "text": [
      "Translating:  83%|██████████████████████████████████████▏       | 1383/1668 [42:04<11:18,  2.38s/it]"
     ]
    },
    {
     "name": "stdout",
     "output_type": "stream",
     "text": [
      "result sent successfully\n"
     ]
    },
    {
     "name": "stderr",
     "output_type": "stream",
     "text": [
      "Translating:  83%|██████████████████████████████████████▏       | 1385/1668 [42:04<05:55,  1.26s/it]"
     ]
    },
    {
     "name": "stdout",
     "output_type": "stream",
     "text": [
      "Error translating with src=en (attempt 1): the JSON object must be str, bytes or bytearray, not NoneType\n",
      "Error translating with src=en (attempt 2): the JSON object must be str, bytes or bytearray, not NoneType\n",
      "🔁 Attempting sentence split and translation...\n"
     ]
    },
    {
     "name": "stderr",
     "output_type": "stream",
     "text": [
      "Translating:  83%|██████████████████████████████████████▏       | 1386/1668 [42:10<12:22,  2.63s/it]"
     ]
    },
    {
     "name": "stdout",
     "output_type": "stream",
     "text": [
      "result sent successfully\n"
     ]
    },
    {
     "name": "stderr",
     "output_type": "stream",
     "text": [
      "Translating:  83%|██████████████████████████████████████▎       | 1387/1668 [42:11<09:00,  1.92s/it]"
     ]
    },
    {
     "name": "stdout",
     "output_type": "stream",
     "text": [
      "Error translating with src=en (attempt 1): the JSON object must be str, bytes or bytearray, not NoneType\n",
      "Error translating with src=en (attempt 2): the JSON object must be str, bytes or bytearray, not NoneType\n",
      "🔁 Attempting sentence split and translation...\n"
     ]
    },
    {
     "name": "stderr",
     "output_type": "stream",
     "text": [
      "Translating:  83%|██████████████████████████████████████▎       | 1389/1668 [42:16<09:20,  2.01s/it]"
     ]
    },
    {
     "name": "stdout",
     "output_type": "stream",
     "text": [
      "result sent successfully\n"
     ]
    },
    {
     "name": "stderr",
     "output_type": "stream",
     "text": [
      "Translating:  83%|██████████████████████████████████████▍       | 1392/1668 [42:16<03:41,  1.24it/s]"
     ]
    },
    {
     "name": "stdout",
     "output_type": "stream",
     "text": [
      "Error translating with src=en (attempt 1): the JSON object must be str, bytes or bytearray, not NoneType\n",
      "Error translating with src=en (attempt 2): the JSON object must be str, bytes or bytearray, not NoneType\n",
      "🔁 Attempting sentence split and translation...\n"
     ]
    },
    {
     "name": "stderr",
     "output_type": "stream",
     "text": [
      "Translating:  84%|██████████████████████████████████████▍       | 1393/1668 [42:21<09:45,  2.13s/it]"
     ]
    },
    {
     "name": "stdout",
     "output_type": "stream",
     "text": [
      "result sent successfully\n",
      "Error translating with src=en (attempt 1): the JSON object must be str, bytes or bytearray, not NoneType\n",
      "Error translating with src=en (attempt 2): the JSON object must be str, bytes or bytearray, not NoneType\n",
      "🔁 Attempting sentence split and translation...\n"
     ]
    },
    {
     "name": "stderr",
     "output_type": "stream",
     "text": [
      "Translating:  84%|██████████████████████████████████████▍       | 1395/1668 [42:27<09:47,  2.15s/it]"
     ]
    },
    {
     "name": "stdout",
     "output_type": "stream",
     "text": [
      "result sent successfully\n",
      "Error translating with src=en (attempt 1): the JSON object must be str, bytes or bytearray, not NoneType\n",
      "Error translating with src=en (attempt 2): the JSON object must be str, bytes or bytearray, not NoneType\n",
      "🔁 Attempting sentence split and translation...\n"
     ]
    },
    {
     "name": "stderr",
     "output_type": "stream",
     "text": [
      "Translating:  84%|██████████████████████████████████████▍       | 1396/1668 [42:32<13:32,  2.99s/it]"
     ]
    },
    {
     "name": "stdout",
     "output_type": "stream",
     "text": [
      "result sent successfully\n"
     ]
    },
    {
     "name": "stderr",
     "output_type": "stream",
     "text": [
      "Translating:  84%|██████████████████████████████████████▌       | 1400/1668 [42:32<03:44,  1.19it/s]"
     ]
    },
    {
     "name": "stdout",
     "output_type": "stream",
     "text": [
      "Error translating with src=en (attempt 1): the JSON object must be str, bytes or bytearray, not NoneType\n",
      "Error translating with src=en (attempt 2): the JSON object must be str, bytes or bytearray, not NoneType\n",
      "🔁 Attempting sentence split and translation...\n"
     ]
    },
    {
     "name": "stderr",
     "output_type": "stream",
     "text": [
      "Translating:  84%|██████████████████████████████████████▋       | 1401/1668 [42:38<09:45,  2.19s/it]"
     ]
    },
    {
     "name": "stdout",
     "output_type": "stream",
     "text": [
      "result sent successfully\n",
      "Error translating with src=en (attempt 1): the JSON object must be str, bytes or bytearray, not NoneType\n",
      "Error translating with src=en (attempt 2): the JSON object must be str, bytes or bytearray, not NoneType\n",
      "🔁 Attempting sentence split and translation...\n"
     ]
    },
    {
     "name": "stderr",
     "output_type": "stream",
     "text": [
      "Translating:  84%|██████████████████████████████████████▋       | 1403/1668 [42:43<09:38,  2.18s/it]"
     ]
    },
    {
     "name": "stdout",
     "output_type": "stream",
     "text": [
      "result sent successfully\n"
     ]
    },
    {
     "name": "stderr",
     "output_type": "stream",
     "text": [
      "Translating:  84%|██████████████████████████████████████▋       | 1404/1668 [42:43<07:04,  1.61s/it]"
     ]
    },
    {
     "name": "stdout",
     "output_type": "stream",
     "text": [
      "Error translating with src=en (attempt 1): the JSON object must be str, bytes or bytearray, not NoneType\n",
      "Error translating with src=en (attempt 2): the JSON object must be str, bytes or bytearray, not NoneType\n",
      "🔁 Attempting sentence split and translation...\n"
     ]
    },
    {
     "name": "stderr",
     "output_type": "stream",
     "text": [
      "Translating:  84%|██████████████████████████████████████▋       | 1405/1668 [42:48<11:24,  2.60s/it]"
     ]
    },
    {
     "name": "stdout",
     "output_type": "stream",
     "text": [
      "result sent successfully\n"
     ]
    },
    {
     "name": "stderr",
     "output_type": "stream",
     "text": [
      "Translating:  85%|██████████████████████████████████████▉       | 1412/1668 [42:49<01:28,  2.90it/s]"
     ]
    },
    {
     "name": "stdout",
     "output_type": "stream",
     "text": [
      "Error translating with src=en (attempt 1): the JSON object must be str, bytes or bytearray, not NoneType\n",
      "Error translating with src=en (attempt 2): the JSON object must be str, bytes or bytearray, not NoneType\n",
      "🔁 Attempting sentence split and translation...\n"
     ]
    },
    {
     "name": "stderr",
     "output_type": "stream",
     "text": [
      "Translating:  85%|██████████████████████████████████████▉       | 1413/1668 [42:54<07:16,  1.71s/it]"
     ]
    },
    {
     "name": "stdout",
     "output_type": "stream",
     "text": [
      "result sent successfully\n"
     ]
    },
    {
     "name": "stderr",
     "output_type": "stream",
     "text": [
      "Translating:  85%|███████████████████████████████████████       | 1417/1668 [42:55<02:30,  1.66it/s]"
     ]
    },
    {
     "name": "stdout",
     "output_type": "stream",
     "text": [
      "Error translating with src=en (attempt 1): the JSON object must be str, bytes or bytearray, not NoneType\n",
      "Error translating with src=en (attempt 2): the JSON object must be str, bytes or bytearray, not NoneType\n",
      "🔁 Attempting sentence split and translation...\n"
     ]
    },
    {
     "name": "stderr",
     "output_type": "stream",
     "text": [
      "Translating:  85%|███████████████████████████████████████▏      | 1419/1668 [43:01<05:47,  1.40s/it]"
     ]
    },
    {
     "name": "stdout",
     "output_type": "stream",
     "text": [
      "result sent successfully\n",
      "Error translating with src=en (attempt 1): the JSON object must be str, bytes or bytearray, not NoneType\n",
      "Error translating with src=en (attempt 2): the JSON object must be str, bytes or bytearray, not NoneType\n",
      "🔁 Attempting sentence split and translation...\n"
     ]
    },
    {
     "name": "stderr",
     "output_type": "stream",
     "text": [
      "Translating:  85%|███████████████████████████████████████▏      | 1421/1668 [43:06<07:27,  1.81s/it]"
     ]
    },
    {
     "name": "stdout",
     "output_type": "stream",
     "text": [
      "result sent successfully\n"
     ]
    },
    {
     "name": "stderr",
     "output_type": "stream",
     "text": [
      "Translating:  85%|███████████████████████████████████████▏      | 1422/1668 [43:06<05:20,  1.30s/it]"
     ]
    },
    {
     "name": "stdout",
     "output_type": "stream",
     "text": [
      "Error translating with src=en (attempt 1): the JSON object must be str, bytes or bytearray, not NoneType\n",
      "Error translating with src=en (attempt 2): the JSON object must be str, bytes or bytearray, not NoneType\n",
      "🔁 Attempting sentence split and translation...\n"
     ]
    },
    {
     "name": "stderr",
     "output_type": "stream",
     "text": [
      "Translating:  85%|███████████████████████████████████████▏      | 1423/1668 [43:11<09:56,  2.44s/it]"
     ]
    },
    {
     "name": "stdout",
     "output_type": "stream",
     "text": [
      "result sent successfully\n"
     ]
    },
    {
     "name": "stderr",
     "output_type": "stream",
     "text": [
      "Translating:  85%|███████████████████████████████████████▎      | 1425/1668 [43:11<05:11,  1.28s/it]"
     ]
    },
    {
     "name": "stdout",
     "output_type": "stream",
     "text": [
      "Error translating with src=en (attempt 1): the JSON object must be str, bytes or bytearray, not NoneType\n",
      "Error translating with src=en (attempt 2): the JSON object must be str, bytes or bytearray, not NoneType\n",
      "🔁 Attempting sentence split and translation...\n"
     ]
    },
    {
     "name": "stderr",
     "output_type": "stream",
     "text": [
      "Translating:  85%|███████████████████████████████████████▎      | 1426/1668 [43:16<09:35,  2.38s/it]"
     ]
    },
    {
     "name": "stdout",
     "output_type": "stream",
     "text": [
      "result sent successfully\n"
     ]
    },
    {
     "name": "stderr",
     "output_type": "stream",
     "text": [
      "Translating:  86%|███████████████████████████████████████▌      | 1435/1668 [43:19<01:27,  2.68it/s]"
     ]
    },
    {
     "name": "stdout",
     "output_type": "stream",
     "text": [
      "Error translating with src=en (attempt 1): the JSON object must be str, bytes or bytearray, not NoneType\n",
      "Error translating with src=en (attempt 2): the JSON object must be str, bytes or bytearray, not NoneType\n",
      "🔁 Attempting sentence split and translation...\n"
     ]
    },
    {
     "name": "stderr",
     "output_type": "stream",
     "text": [
      "Translating:  86%|███████████████████████████████████████▌      | 1436/1668 [43:24<07:05,  1.84s/it]"
     ]
    },
    {
     "name": "stdout",
     "output_type": "stream",
     "text": [
      "result sent successfully\n",
      "Error translating with src=en (attempt 1): the JSON object must be str, bytes or bytearray, not NoneType\n",
      "Error translating with src=en (attempt 2): the JSON object must be str, bytes or bytearray, not NoneType\n",
      "🔁 Attempting sentence split and translation...\n"
     ]
    },
    {
     "name": "stderr",
     "output_type": "stream",
     "text": [
      "Translating:  86%|███████████████████████████████████████▋      | 1438/1668 [43:29<07:40,  2.00s/it]"
     ]
    },
    {
     "name": "stdout",
     "output_type": "stream",
     "text": [
      "result sent successfully\n"
     ]
    },
    {
     "name": "stderr",
     "output_type": "stream",
     "text": [
      "Translating:  87%|███████████████████████████████████████▊      | 1444/1668 [43:30<01:37,  2.29it/s]"
     ]
    },
    {
     "name": "stdout",
     "output_type": "stream",
     "text": [
      "Error translating with src=en (attempt 1): the JSON object must be str, bytes or bytearray, not NoneType\n",
      "Error translating with src=en (attempt 2): the JSON object must be str, bytes or bytearray, not NoneType\n",
      "🔁 Attempting sentence split and translation...\n"
     ]
    },
    {
     "name": "stderr",
     "output_type": "stream",
     "text": [
      "Translating:  87%|███████████████████████████████████████▊      | 1445/1668 [43:35<06:37,  1.78s/it]"
     ]
    },
    {
     "name": "stdout",
     "output_type": "stream",
     "text": [
      "result sent successfully\n",
      "Error translating with src=en (attempt 1): the JSON object must be str, bytes or bytearray, not NoneType\n",
      "Error translating with src=en (attempt 2): the JSON object must be str, bytes or bytearray, not NoneType\n",
      "🔁 Attempting sentence split and translation...\n"
     ]
    },
    {
     "name": "stderr",
     "output_type": "stream",
     "text": [
      "Translating:  87%|███████████████████████████████████████▉      | 1447/1668 [43:41<07:51,  2.14s/it]"
     ]
    },
    {
     "name": "stdout",
     "output_type": "stream",
     "text": [
      "result sent successfully\n"
     ]
    },
    {
     "name": "stderr",
     "output_type": "stream",
     "text": [
      "Translating:  87%|███████████████████████████████████████▉      | 1450/1668 [43:42<03:02,  1.19it/s]"
     ]
    },
    {
     "name": "stdout",
     "output_type": "stream",
     "text": [
      "Error translating with src=en (attempt 1): the JSON object must be str, bytes or bytearray, not NoneType\n",
      "Error translating with src=en (attempt 2): the JSON object must be str, bytes or bytearray, not NoneType\n",
      "🔁 Attempting sentence split and translation...\n"
     ]
    },
    {
     "name": "stderr",
     "output_type": "stream",
     "text": [
      "Translating:  87%|████████████████████████████████████████      | 1451/1668 [43:47<07:59,  2.21s/it]"
     ]
    },
    {
     "name": "stdout",
     "output_type": "stream",
     "text": [
      "result sent successfully\n",
      "Error translating with src=en (attempt 1): the JSON object must be str, bytes or bytearray, not NoneType\n",
      "Error translating with src=en (attempt 2): the JSON object must be str, bytes or bytearray, not NoneType\n",
      "🔁 Attempting sentence split and translation...\n"
     ]
    },
    {
     "name": "stderr",
     "output_type": "stream",
     "text": [
      "Translating:  87%|████████████████████████████████████████      | 1453/1668 [43:52<07:49,  2.18s/it]"
     ]
    },
    {
     "name": "stdout",
     "output_type": "stream",
     "text": [
      "result sent successfully\n"
     ]
    },
    {
     "name": "stderr",
     "output_type": "stream",
     "text": [
      "Translating:  87%|████████████████████████████████████████▏     | 1458/1668 [43:54<01:58,  1.77it/s]"
     ]
    },
    {
     "name": "stdout",
     "output_type": "stream",
     "text": [
      "Error translating with src=en (attempt 1): the JSON object must be str, bytes or bytearray, not NoneType\n",
      "Error translating with src=en (attempt 2): the JSON object must be str, bytes or bytearray, not NoneType\n",
      "🔁 Attempting sentence split and translation...\n"
     ]
    },
    {
     "name": "stderr",
     "output_type": "stream",
     "text": [
      "Translating:  87%|████████████████████████████████████████▏     | 1459/1668 [43:59<06:40,  1.92s/it]"
     ]
    },
    {
     "name": "stdout",
     "output_type": "stream",
     "text": [
      "result sent successfully\n",
      "Error translating with src=en (attempt 1): the JSON object must be str, bytes or bytearray, not NoneType\n",
      "Error translating with src=en (attempt 2): the JSON object must be str, bytes or bytearray, not NoneType\n",
      "🔁 Attempting sentence split and translation...\n"
     ]
    },
    {
     "name": "stderr",
     "output_type": "stream",
     "text": [
      "Translating:  88%|████████████████████████████████████████▎     | 1461/1668 [44:04<07:11,  2.09s/it]"
     ]
    },
    {
     "name": "stdout",
     "output_type": "stream",
     "text": [
      "result sent successfully\n"
     ]
    },
    {
     "name": "stderr",
     "output_type": "stream",
     "text": [
      "Translating:  88%|████████████████████████████████████████▎     | 1462/1668 [44:04<05:09,  1.50s/it]"
     ]
    },
    {
     "name": "stdout",
     "output_type": "stream",
     "text": [
      "Error translating with src=en (attempt 1): the JSON object must be str, bytes or bytearray, not NoneType\n",
      "Error translating with src=en (attempt 2): the JSON object must be str, bytes or bytearray, not NoneType\n",
      "🔁 Attempting sentence split and translation...\n"
     ]
    },
    {
     "name": "stderr",
     "output_type": "stream",
     "text": [
      "Translating:  88%|████████████████████████████████████████▎     | 1464/1668 [44:09<06:09,  1.81s/it]"
     ]
    },
    {
     "name": "stdout",
     "output_type": "stream",
     "text": [
      "result sent successfully\n",
      "Error translating with src=en (attempt 1): the JSON object must be str, bytes or bytearray, not NoneType\n",
      "Error translating with src=en (attempt 2): the JSON object must be str, bytes or bytearray, not NoneType\n",
      "🔁 Attempting sentence split and translation...\n"
     ]
    },
    {
     "name": "stderr",
     "output_type": "stream",
     "text": [
      "Translating:  88%|████████████████████████████████████████▍     | 1465/1668 [44:14<09:36,  2.84s/it]"
     ]
    },
    {
     "name": "stdout",
     "output_type": "stream",
     "text": [
      "result sent successfully\n"
     ]
    },
    {
     "name": "stderr",
     "output_type": "stream",
     "text": [
      "Translating:  88%|████████████████████████████████████████▍     | 1467/1668 [44:15<05:00,  1.50s/it]"
     ]
    },
    {
     "name": "stdout",
     "output_type": "stream",
     "text": [
      "Error translating with src=en (attempt 1): the JSON object must be str, bytes or bytearray, not NoneType\n",
      "Error translating with src=en (attempt 2): the JSON object must be str, bytes or bytearray, not NoneType\n",
      "🔁 Attempting sentence split and translation...\n"
     ]
    },
    {
     "name": "stderr",
     "output_type": "stream",
     "text": [
      "Translating:  88%|████████████████████████████████████████▍     | 1468/1668 [44:20<08:24,  2.52s/it]"
     ]
    },
    {
     "name": "stdout",
     "output_type": "stream",
     "text": [
      "result sent successfully\n",
      "Error translating with src=en (attempt 1): the JSON object must be str, bytes or bytearray, not NoneType\n",
      "Error translating with src=en (attempt 2): the JSON object must be str, bytes or bytearray, not NoneType\n",
      "🔁 Attempting sentence split and translation...\n"
     ]
    },
    {
     "name": "stderr",
     "output_type": "stream",
     "text": [
      "Translating:  88%|████████████████████████████████████████▌     | 1469/1668 [44:25<11:29,  3.47s/it]"
     ]
    },
    {
     "name": "stdout",
     "output_type": "stream",
     "text": [
      "result sent successfully\n",
      "Error translating with src=en (attempt 1): the JSON object must be str, bytes or bytearray, not NoneType\n",
      "Error translating with src=en (attempt 2): the JSON object must be str, bytes or bytearray, not NoneType\n",
      "🔁 Attempting sentence split and translation...\n"
     ]
    },
    {
     "name": "stderr",
     "output_type": "stream",
     "text": [
      "Translating:  88%|████████████████████████████████████████▌     | 1471/1668 [44:31<09:06,  2.77s/it]"
     ]
    },
    {
     "name": "stdout",
     "output_type": "stream",
     "text": [
      "result sent successfully\n",
      "Error translating with src=en (attempt 1): the JSON object must be str, bytes or bytearray, not NoneType\n",
      "Error translating with src=en (attempt 2): the JSON object must be str, bytes or bytearray, not NoneType\n",
      "🔁 Attempting sentence split and translation...\n"
     ]
    },
    {
     "name": "stderr",
     "output_type": "stream",
     "text": [
      "Translating:  88%|████████████████████████████████████████▌     | 1472/1668 [44:36<11:27,  3.51s/it]"
     ]
    },
    {
     "name": "stdout",
     "output_type": "stream",
     "text": [
      "result sent successfully\n",
      "Error translating with src=en (attempt 1): the JSON object must be str, bytes or bytearray, not NoneType\n",
      "Error translating with src=en (attempt 2): the JSON object must be str, bytes or bytearray, not NoneType\n",
      "🔁 Attempting sentence split and translation...\n"
     ]
    },
    {
     "name": "stderr",
     "output_type": "stream",
     "text": [
      "Translating:  88%|████████████████████████████████████████▌     | 1473/1668 [44:41<12:46,  3.93s/it]"
     ]
    },
    {
     "name": "stdout",
     "output_type": "stream",
     "text": [
      "result sent successfully\n",
      "Error translating with src=en (attempt 1): the JSON object must be str, bytes or bytearray, not NoneType\n",
      "Error translating with src=en (attempt 2): the JSON object must be str, bytes or bytearray, not NoneType\n",
      "🔁 Attempting sentence split and translation...\n"
     ]
    },
    {
     "name": "stderr",
     "output_type": "stream",
     "text": [
      "Translating:  88%|████████████████████████████████████████▋     | 1474/1668 [44:46<13:40,  4.23s/it]"
     ]
    },
    {
     "name": "stdout",
     "output_type": "stream",
     "text": [
      "result sent successfully\n"
     ]
    },
    {
     "name": "stderr",
     "output_type": "stream",
     "text": [
      "Translating:  89%|████████████████████████████████████████▊     | 1479/1668 [44:47<02:42,  1.17it/s]"
     ]
    },
    {
     "name": "stdout",
     "output_type": "stream",
     "text": [
      "Error translating with src=en (attempt 1): the JSON object must be str, bytes or bytearray, not NoneType\n",
      "Error translating with src=en (attempt 2): the JSON object must be str, bytes or bytearray, not NoneType\n",
      "🔁 Attempting sentence split and translation...\n"
     ]
    },
    {
     "name": "stderr",
     "output_type": "stream",
     "text": [
      "Translating:  89%|████████████████████████████████████████▊     | 1480/1668 [44:51<06:30,  2.08s/it]"
     ]
    },
    {
     "name": "stdout",
     "output_type": "stream",
     "text": [
      "result sent successfully\n",
      "Error translating with src=en (attempt 1): the JSON object must be str, bytes or bytearray, not NoneType\n",
      "Error translating with src=en (attempt 2): the JSON object must be str, bytes or bytearray, not NoneType\n",
      "🔁 Attempting sentence split and translation...\n"
     ]
    },
    {
     "name": "stderr",
     "output_type": "stream",
     "text": [
      "Translating:  89%|████████████████████████████████████████▊     | 1481/1668 [44:57<09:19,  2.99s/it]"
     ]
    },
    {
     "name": "stdout",
     "output_type": "stream",
     "text": [
      "result sent successfully\n",
      "Error translating with src=en (attempt 1): the JSON object must be str, bytes or bytearray, not NoneType\n",
      "Error translating with src=en (attempt 2): the JSON object must be str, bytes or bytearray, not NoneType\n",
      "🔁 Attempting sentence split and translation...\n"
     ]
    },
    {
     "name": "stderr",
     "output_type": "stream",
     "text": [
      "Translating:  89%|████████████████████████████████████████▊     | 1482/1668 [45:02<11:21,  3.66s/it]"
     ]
    },
    {
     "name": "stdout",
     "output_type": "stream",
     "text": [
      "result sent successfully\n",
      "Error translating with src=en (attempt 1): the JSON object must be str, bytes or bytearray, not NoneType\n",
      "Error translating with src=en (attempt 2): the JSON object must be str, bytes or bytearray, not NoneType\n",
      "🔁 Attempting sentence split and translation...\n"
     ]
    },
    {
     "name": "stderr",
     "output_type": "stream",
     "text": [
      "Translating:  89%|████████████████████████████████████████▉     | 1484/1668 [45:07<08:53,  2.90s/it]"
     ]
    },
    {
     "name": "stdout",
     "output_type": "stream",
     "text": [
      "result sent successfully\n",
      "Error translating with src=en (attempt 1): the JSON object must be str, bytes or bytearray, not NoneType\n",
      "Error translating with src=en (attempt 2): the JSON object must be str, bytes or bytearray, not NoneType\n",
      "🔁 Attempting sentence split and translation...\n"
     ]
    },
    {
     "name": "stderr",
     "output_type": "stream",
     "text": [
      "Translating:  89%|████████████████████████████████████████▉     | 1485/1668 [45:12<10:41,  3.51s/it]"
     ]
    },
    {
     "name": "stdout",
     "output_type": "stream",
     "text": [
      "result sent successfully\n",
      "Error translating with src=en (attempt 1): the JSON object must be str, bytes or bytearray, not NoneType\n",
      "Error translating with src=en (attempt 2): the JSON object must be str, bytes or bytearray, not NoneType\n",
      "🔁 Attempting sentence split and translation...\n"
     ]
    },
    {
     "name": "stderr",
     "output_type": "stream",
     "text": [
      "Translating:  89%|█████████████████████████████████████████     | 1487/1668 [45:17<08:41,  2.88s/it]"
     ]
    },
    {
     "name": "stdout",
     "output_type": "stream",
     "text": [
      "result sent successfully\n",
      "Error translating with src=en (attempt 1): the JSON object must be str, bytes or bytearray, not NoneType\n",
      "Error translating with src=en (attempt 2): the JSON object must be str, bytes or bytearray, not NoneType\n",
      "🔁 Attempting sentence split and translation...\n"
     ]
    },
    {
     "name": "stderr",
     "output_type": "stream",
     "text": [
      "Translating:  89%|█████████████████████████████████████████     | 1488/1668 [45:23<10:37,  3.54s/it]"
     ]
    },
    {
     "name": "stdout",
     "output_type": "stream",
     "text": [
      "result sent successfully\n",
      "Error translating with src=en (attempt 1): the JSON object must be str, bytes or bytearray, not NoneType\n",
      "Error translating with src=en (attempt 2): the JSON object must be str, bytes or bytearray, not NoneType\n",
      "🔁 Attempting sentence split and translation...\n"
     ]
    },
    {
     "name": "stderr",
     "output_type": "stream",
     "text": [
      "Translating:  89%|█████████████████████████████████████████     | 1489/1668 [45:28<11:55,  4.00s/it]"
     ]
    },
    {
     "name": "stdout",
     "output_type": "stream",
     "text": [
      "result sent successfully\n"
     ]
    },
    {
     "name": "stderr",
     "output_type": "stream",
     "text": [
      "Translating:  90%|█████████████████████████████████████████▏    | 1493/1668 [45:28<03:12,  1.10s/it]"
     ]
    },
    {
     "name": "stdout",
     "output_type": "stream",
     "text": [
      "Error translating with src=en (attempt 1): the JSON object must be str, bytes or bytearray, not NoneType\n",
      "Error translating with src=en (attempt 2): the JSON object must be str, bytes or bytearray, not NoneType\n",
      "🔁 Attempting sentence split and translation...\n"
     ]
    },
    {
     "name": "stderr",
     "output_type": "stream",
     "text": [
      "Translating:  90%|█████████████████████████████████████████▏    | 1495/1668 [45:33<04:37,  1.61s/it]"
     ]
    },
    {
     "name": "stdout",
     "output_type": "stream",
     "text": [
      "result sent successfully\n",
      "Error translating with src=en (attempt 1): the JSON object must be str, bytes or bytearray, not NoneType\n",
      "Error translating with src=en (attempt 2): the JSON object must be str, bytes or bytearray, not NoneType\n",
      "🔁 Attempting sentence split and translation...\n"
     ]
    },
    {
     "name": "stderr",
     "output_type": "stream",
     "text": [
      "Translating:  90%|█████████████████████████████████████████▎    | 1496/1668 [45:39<08:08,  2.84s/it]"
     ]
    },
    {
     "name": "stdout",
     "output_type": "stream",
     "text": [
      "result sent successfully\n",
      "Error translating with src=en (attempt 1): the JSON object must be str, bytes or bytearray, not NoneType\n",
      "Error translating with src=en (attempt 2): the JSON object must be str, bytes or bytearray, not NoneType\n",
      "🔁 Attempting sentence split and translation...\n"
     ]
    },
    {
     "name": "stderr",
     "output_type": "stream",
     "text": [
      "Translating:  90%|█████████████████████████████████████████▎    | 1497/1668 [45:44<10:00,  3.51s/it]"
     ]
    },
    {
     "name": "stdout",
     "output_type": "stream",
     "text": [
      "result sent successfully\n",
      "Error translating with src=en (attempt 1): the JSON object must be str, bytes or bytearray, not NoneType\n",
      "Error translating with src=en (attempt 2): the JSON object must be str, bytes or bytearray, not NoneType\n",
      "🔁 Attempting sentence split and translation...\n"
     ]
    },
    {
     "name": "stderr",
     "output_type": "stream",
     "text": [
      "Translating:  90%|█████████████████████████████████████████▎    | 1498/1668 [45:49<11:25,  4.03s/it]"
     ]
    },
    {
     "name": "stdout",
     "output_type": "stream",
     "text": [
      "result sent successfully\n",
      "Error translating with src=en (attempt 1): the JSON object must be str, bytes or bytearray, not NoneType\n",
      "Error translating with src=en (attempt 2): the JSON object must be str, bytes or bytearray, not NoneType\n",
      "🔁 Attempting sentence split and translation...\n"
     ]
    },
    {
     "name": "stderr",
     "output_type": "stream",
     "text": [
      "Translating:  90%|█████████████████████████████████████████▎    | 1499/1668 [45:54<12:08,  4.31s/it]"
     ]
    },
    {
     "name": "stdout",
     "output_type": "stream",
     "text": [
      "result sent successfully\n"
     ]
    },
    {
     "name": "stderr",
     "output_type": "stream",
     "text": [
      "Translating:  90%|█████████████████████████████████████████▍    | 1502/1668 [45:55<04:34,  1.65s/it]"
     ]
    },
    {
     "name": "stdout",
     "output_type": "stream",
     "text": [
      "Error translating with src=en (attempt 1): the JSON object must be str, bytes or bytearray, not NoneType\n",
      "Error translating with src=en (attempt 2): the JSON object must be str, bytes or bytearray, not NoneType\n",
      "🔁 Attempting sentence split and translation...\n"
     ]
    },
    {
     "name": "stderr",
     "output_type": "stream",
     "text": [
      "Translating:  90%|█████████████████████████████████████████▍    | 1503/1668 [46:00<07:23,  2.69s/it]"
     ]
    },
    {
     "name": "stdout",
     "output_type": "stream",
     "text": [
      "result sent successfully\n"
     ]
    },
    {
     "name": "stderr",
     "output_type": "stream",
     "text": [
      "Translating:  91%|█████████████████████████████████████████▋    | 1511/1668 [46:02<00:53,  2.94it/s]"
     ]
    },
    {
     "name": "stdout",
     "output_type": "stream",
     "text": [
      "Error translating with src=en (attempt 1): the JSON object must be str, bytes or bytearray, not NoneType\n",
      "Error translating with src=en (attempt 2): the JSON object must be str, bytes or bytearray, not NoneType\n",
      "🔁 Attempting sentence split and translation...\n"
     ]
    },
    {
     "name": "stderr",
     "output_type": "stream",
     "text": [
      "Translating:  91%|█████████████████████████████████████████▋    | 1512/1668 [46:07<04:29,  1.73s/it]"
     ]
    },
    {
     "name": "stdout",
     "output_type": "stream",
     "text": [
      "result sent successfully\n"
     ]
    },
    {
     "name": "stderr",
     "output_type": "stream",
     "text": [
      "Translating:  91%|█████████████████████████████████████████▋    | 1513/1668 [46:07<03:19,  1.29s/it]"
     ]
    },
    {
     "name": "stdout",
     "output_type": "stream",
     "text": [
      "Error translating with src=en (attempt 1): the JSON object must be str, bytes or bytearray, not NoneType\n",
      "Error translating with src=en (attempt 2): the JSON object must be str, bytes or bytearray, not NoneType\n",
      "🔁 Attempting sentence split and translation...\n"
     ]
    },
    {
     "name": "stderr",
     "output_type": "stream",
     "text": [
      "Translating:  91%|█████████████████████████████████████████▊    | 1515/1668 [46:13<04:40,  1.84s/it]"
     ]
    },
    {
     "name": "stdout",
     "output_type": "stream",
     "text": [
      "result sent successfully\n"
     ]
    },
    {
     "name": "stderr",
     "output_type": "stream",
     "text": [
      "Translating:  91%|█████████████████████████████████████████▊    | 1517/1668 [46:13<02:29,  1.01it/s]"
     ]
    },
    {
     "name": "stdout",
     "output_type": "stream",
     "text": [
      "Error translating with src=en (attempt 1): the JSON object must be str, bytes or bytearray, not NoneType\n",
      "Error translating with src=en (attempt 2): the JSON object must be str, bytes or bytearray, not NoneType\n",
      "🔁 Attempting sentence split and translation...\n"
     ]
    },
    {
     "name": "stderr",
     "output_type": "stream",
     "text": [
      "Translating:  91%|█████████████████████████████████████████▉    | 1519/1668 [46:19<03:55,  1.58s/it]"
     ]
    },
    {
     "name": "stdout",
     "output_type": "stream",
     "text": [
      "result sent successfully\n"
     ]
    },
    {
     "name": "stderr",
     "output_type": "stream",
     "text": [
      "Translating:  91%|█████████████████████████████████████████▉    | 1520/1668 [46:19<03:03,  1.24s/it]"
     ]
    },
    {
     "name": "stdout",
     "output_type": "stream",
     "text": [
      "Error translating with src=en (attempt 1): the JSON object must be str, bytes or bytearray, not NoneType\n",
      "Error translating with src=en (attempt 2): the JSON object must be str, bytes or bytearray, not NoneType\n",
      "🔁 Attempting sentence split and translation...\n"
     ]
    },
    {
     "name": "stderr",
     "output_type": "stream",
     "text": [
      "Translating:  91%|█████████████████████████████████████████▉    | 1521/1668 [46:24<06:03,  2.48s/it]"
     ]
    },
    {
     "name": "stdout",
     "output_type": "stream",
     "text": [
      "result sent successfully\n"
     ]
    },
    {
     "name": "stderr",
     "output_type": "stream",
     "text": [
      "Translating:  92%|██████████████████████████████████████████    | 1527/1668 [46:26<01:11,  1.98it/s]"
     ]
    },
    {
     "name": "stdout",
     "output_type": "stream",
     "text": [
      "Error translating with src=en (attempt 1): the JSON object must be str, bytes or bytearray, not NoneType\n",
      "Error translating with src=en (attempt 2): the JSON object must be str, bytes or bytearray, not NoneType\n",
      "🔁 Attempting sentence split and translation...\n"
     ]
    },
    {
     "name": "stderr",
     "output_type": "stream",
     "text": [
      "Translating:  92%|██████████████████████████████████████████▏   | 1529/1668 [46:31<03:08,  1.35s/it]"
     ]
    },
    {
     "name": "stdout",
     "output_type": "stream",
     "text": [
      "result sent successfully\n",
      "Error translating with src=en (attempt 1): the JSON object must be str, bytes or bytearray, not NoneType\n",
      "Error translating with src=en (attempt 2): the JSON object must be str, bytes or bytearray, not NoneType\n",
      "🔁 Attempting sentence split and translation...\n"
     ]
    },
    {
     "name": "stderr",
     "output_type": "stream",
     "text": [
      "Translating:  92%|██████████████████████████████████████████▏   | 1530/1668 [46:36<05:42,  2.48s/it]"
     ]
    },
    {
     "name": "stdout",
     "output_type": "stream",
     "text": [
      "result sent successfully\n",
      "Error translating with src=en (attempt 1): the JSON object must be str, bytes or bytearray, not NoneType\n",
      "Error translating with src=en (attempt 2): the JSON object must be str, bytes or bytearray, not NoneType\n",
      "🔁 Attempting sentence split and translation...\n"
     ]
    },
    {
     "name": "stderr",
     "output_type": "stream",
     "text": [
      "Translating:  92%|██████████████████████████████████████████▏   | 1531/1668 [46:41<07:21,  3.22s/it]"
     ]
    },
    {
     "name": "stdout",
     "output_type": "stream",
     "text": [
      "result sent successfully\n"
     ]
    },
    {
     "name": "stderr",
     "output_type": "stream",
     "text": [
      "Translating:  92%|██████████████████████████████████████████▎   | 1533/1668 [46:42<03:45,  1.67s/it]"
     ]
    },
    {
     "name": "stdout",
     "output_type": "stream",
     "text": [
      "Error translating with src=en (attempt 1): the JSON object must be str, bytes or bytearray, not NoneType\n",
      "Error translating with src=en (attempt 2): the JSON object must be str, bytes or bytearray, not NoneType\n",
      "🔁 Attempting sentence split and translation...\n"
     ]
    },
    {
     "name": "stderr",
     "output_type": "stream",
     "text": [
      "Translating:  92%|██████████████████████████████████████████▎   | 1535/1668 [46:47<04:20,  1.96s/it]"
     ]
    },
    {
     "name": "stdout",
     "output_type": "stream",
     "text": [
      "result sent successfully\n"
     ]
    },
    {
     "name": "stderr",
     "output_type": "stream",
     "text": [
      "Translating:  92%|██████████████████████████████████████████▍   | 1537/1668 [46:47<02:17,  1.05s/it]"
     ]
    },
    {
     "name": "stdout",
     "output_type": "stream",
     "text": [
      "Error translating with src=en (attempt 1): the JSON object must be str, bytes or bytearray, not NoneType\n",
      "Error translating with src=en (attempt 2): the JSON object must be str, bytes or bytearray, not NoneType\n",
      "🔁 Attempting sentence split and translation...\n"
     ]
    },
    {
     "name": "stderr",
     "output_type": "stream",
     "text": [
      "Translating:  92%|██████████████████████████████████████████▍   | 1538/1668 [46:53<05:11,  2.40s/it]"
     ]
    },
    {
     "name": "stdout",
     "output_type": "stream",
     "text": [
      "result sent successfully\n"
     ]
    },
    {
     "name": "stderr",
     "output_type": "stream",
     "text": [
      "Translating:  92%|██████████████████████████████████████████▍   | 1540/1668 [46:54<02:50,  1.33s/it]"
     ]
    },
    {
     "name": "stdout",
     "output_type": "stream",
     "text": [
      "Error translating with src=en (attempt 1): the JSON object must be str, bytes or bytearray, not NoneType\n",
      "Error translating with src=en (attempt 2): the JSON object must be str, bytes or bytearray, not NoneType\n",
      "🔁 Attempting sentence split and translation...\n"
     ]
    },
    {
     "name": "stderr",
     "output_type": "stream",
     "text": [
      "Translating:  92%|██████████████████████████████████████████▌   | 1542/1668 [46:59<03:40,  1.75s/it]"
     ]
    },
    {
     "name": "stdout",
     "output_type": "stream",
     "text": [
      "result sent successfully\n"
     ]
    },
    {
     "name": "stderr",
     "output_type": "stream",
     "text": [
      "Translating:  93%|██████████████████████████████████████████▌   | 1545/1668 [47:00<01:35,  1.28it/s]"
     ]
    },
    {
     "name": "stdout",
     "output_type": "stream",
     "text": [
      "Error translating with src=en (attempt 1): the JSON object must be str, bytes or bytearray, not NoneType\n",
      "Error translating with src=en (attempt 2): the JSON object must be str, bytes or bytearray, not NoneType\n",
      "🔁 Attempting sentence split and translation...\n"
     ]
    },
    {
     "name": "stderr",
     "output_type": "stream",
     "text": [
      "Translating:  93%|██████████████████████████████████████████▋   | 1546/1668 [47:05<04:18,  2.11s/it]"
     ]
    },
    {
     "name": "stdout",
     "output_type": "stream",
     "text": [
      "result sent successfully\n",
      "Error translating with src=en (attempt 1): the JSON object must be str, bytes or bytearray, not NoneType\n",
      "Error translating with src=en (attempt 2): the JSON object must be str, bytes or bytearray, not NoneType\n",
      "🔁 Attempting sentence split and translation...\n"
     ]
    },
    {
     "name": "stderr",
     "output_type": "stream",
     "text": [
      "Translating:  93%|██████████████████████████████████████████▋   | 1547/1668 [47:10<05:58,  2.96s/it]"
     ]
    },
    {
     "name": "stdout",
     "output_type": "stream",
     "text": [
      "result sent successfully\n",
      "Error translating with src=en (attempt 1): the JSON object must be str, bytes or bytearray, not NoneType\n",
      "Error translating with src=en (attempt 2): the JSON object must be str, bytes or bytearray, not NoneType\n",
      "🔁 Attempting sentence split and translation...\n"
     ]
    },
    {
     "name": "stderr",
     "output_type": "stream",
     "text": [
      "Translating:  93%|██████████████████████████████████████████▋   | 1548/1668 [47:15<07:16,  3.64s/it]"
     ]
    },
    {
     "name": "stdout",
     "output_type": "stream",
     "text": [
      "result sent successfully\n",
      "Error translating with src=en (attempt 1): the JSON object must be str, bytes or bytearray, not NoneType\n",
      "Error translating with src=en (attempt 2): the JSON object must be str, bytes or bytearray, not NoneType\n",
      "🔁 Attempting sentence split and translation...\n"
     ]
    },
    {
     "name": "stderr",
     "output_type": "stream",
     "text": [
      "Translating:  93%|██████████████████████████████████████████▋   | 1550/1668 [47:20<05:39,  2.88s/it]"
     ]
    },
    {
     "name": "stdout",
     "output_type": "stream",
     "text": [
      "result sent successfully\n"
     ]
    },
    {
     "name": "stderr",
     "output_type": "stream",
     "text": [
      "Translating:  93%|██████████████████████████████████████████▊   | 1551/1668 [47:20<04:00,  2.05s/it]"
     ]
    },
    {
     "name": "stdout",
     "output_type": "stream",
     "text": [
      "Error translating with src=en (attempt 1): the JSON object must be str, bytes or bytearray, not NoneType\n",
      "Error translating with src=en (attempt 2): the JSON object must be str, bytes or bytearray, not NoneType\n",
      "🔁 Attempting sentence split and translation...\n"
     ]
    },
    {
     "name": "stderr",
     "output_type": "stream",
     "text": [
      "Translating:  93%|██████████████████████████████████████████▊   | 1552/1668 [47:25<05:38,  2.92s/it]"
     ]
    },
    {
     "name": "stdout",
     "output_type": "stream",
     "text": [
      "result sent successfully\n",
      "Error translating with src=en (attempt 1): the JSON object must be str, bytes or bytearray, not NoneType\n",
      "Error translating with src=en (attempt 2): the JSON object must be str, bytes or bytearray, not NoneType\n",
      "🔁 Attempting sentence split and translation...\n"
     ]
    },
    {
     "name": "stderr",
     "output_type": "stream",
     "text": [
      "Translating:  93%|██████████████████████████████████████████▊   | 1553/1668 [47:30<06:50,  3.57s/it]"
     ]
    },
    {
     "name": "stdout",
     "output_type": "stream",
     "text": [
      "result sent successfully\n"
     ]
    },
    {
     "name": "stderr",
     "output_type": "stream",
     "text": [
      "Translating:  93%|██████████████████████████████████████████▊   | 1554/1668 [47:31<04:53,  2.58s/it]"
     ]
    },
    {
     "name": "stdout",
     "output_type": "stream",
     "text": [
      "Error translating with src=en (attempt 1): the JSON object must be str, bytes or bytearray, not NoneType\n",
      "Error translating with src=en (attempt 2): the JSON object must be str, bytes or bytearray, not NoneType\n",
      "🔁 Attempting sentence split and translation...\n"
     ]
    },
    {
     "name": "stderr",
     "output_type": "stream",
     "text": [
      "Translating:  93%|██████████████████████████████████████████▉   | 1555/1668 [47:35<06:10,  3.28s/it]"
     ]
    },
    {
     "name": "stdout",
     "output_type": "stream",
     "text": [
      "result sent successfully\n"
     ]
    },
    {
     "name": "stderr",
     "output_type": "stream",
     "text": [
      "Translating:  94%|███████████████████████████████████████████   | 1562/1668 [47:37<00:51,  2.07it/s]"
     ]
    },
    {
     "name": "stdout",
     "output_type": "stream",
     "text": [
      "Error translating with src=en (attempt 1): the JSON object must be str, bytes or bytearray, not NoneType\n",
      "Error translating with src=en (attempt 2): the JSON object must be str, bytes or bytearray, not NoneType\n",
      "🔁 Attempting sentence split and translation...\n"
     ]
    },
    {
     "name": "stderr",
     "output_type": "stream",
     "text": [
      "Translating:  94%|███████████████████████████████████████████   | 1563/1668 [47:42<03:15,  1.86s/it]"
     ]
    },
    {
     "name": "stdout",
     "output_type": "stream",
     "text": [
      "result sent successfully\n"
     ]
    },
    {
     "name": "stderr",
     "output_type": "stream",
     "text": [
      "Translating:  94%|███████████████████████████████████████████▏  | 1565/1668 [47:43<01:48,  1.06s/it]"
     ]
    },
    {
     "name": "stdout",
     "output_type": "stream",
     "text": [
      "Error translating with src=en (attempt 1): the JSON object must be str, bytes or bytearray, not NoneType\n",
      "Error translating with src=en (attempt 2): the JSON object must be str, bytes or bytearray, not NoneType\n",
      "🔁 Attempting sentence split and translation...\n"
     ]
    },
    {
     "name": "stderr",
     "output_type": "stream",
     "text": [
      "Translating:  94%|███████████████████████████████████████████▏  | 1566/1668 [47:48<03:45,  2.22s/it]"
     ]
    },
    {
     "name": "stdout",
     "output_type": "stream",
     "text": [
      "result sent successfully\n",
      "Error translating with src=en (attempt 1): the JSON object must be str, bytes or bytearray, not NoneType\n",
      "Error translating with src=en (attempt 2): the JSON object must be str, bytes or bytearray, not NoneType\n",
      "🔁 Attempting sentence split and translation...\n"
     ]
    },
    {
     "name": "stderr",
     "output_type": "stream",
     "text": [
      "Translating:  94%|███████████████████████████████████████████▏  | 1568/1668 [47:53<03:38,  2.18s/it]"
     ]
    },
    {
     "name": "stdout",
     "output_type": "stream",
     "text": [
      "result sent successfully\n"
     ]
    },
    {
     "name": "stderr",
     "output_type": "stream",
     "text": [
      "Translating:  94%|███████████████████████████████████████████▎  | 1572/1668 [47:54<01:08,  1.41it/s]"
     ]
    },
    {
     "name": "stdout",
     "output_type": "stream",
     "text": [
      "Error translating with src=en (attempt 1): the JSON object must be str, bytes or bytearray, not NoneType\n",
      "Error translating with src=en (attempt 2): the JSON object must be str, bytes or bytearray, not NoneType\n",
      "🔁 Attempting sentence split and translation...\n"
     ]
    },
    {
     "name": "stderr",
     "output_type": "stream",
     "text": [
      "Translating:  94%|███████████████████████████████████████████▍  | 1574/1668 [47:59<02:20,  1.49s/it]"
     ]
    },
    {
     "name": "stdout",
     "output_type": "stream",
     "text": [
      "result sent successfully\n"
     ]
    },
    {
     "name": "stderr",
     "output_type": "stream",
     "text": [
      "Translating:  95%|███████████████████████████████████████████▋  | 1582/1668 [48:01<00:20,  4.20it/s]"
     ]
    },
    {
     "name": "stdout",
     "output_type": "stream",
     "text": [
      "Error translating with src=en (attempt 1): the JSON object must be str, bytes or bytearray, not NoneType\n",
      "Error translating with src=en (attempt 2): the JSON object must be str, bytes or bytearray, not NoneType\n",
      "🔁 Attempting sentence split and translation...\n"
     ]
    },
    {
     "name": "stderr",
     "output_type": "stream",
     "text": [
      "Translating:  95%|███████████████████████████████████████████▋  | 1583/1668 [48:06<02:36,  1.85s/it]"
     ]
    },
    {
     "name": "stdout",
     "output_type": "stream",
     "text": [
      "result sent successfully\n"
     ]
    },
    {
     "name": "stderr",
     "output_type": "stream",
     "text": [
      "Translating:  95%|███████████████████████████████████████████▋  | 1586/1668 [48:07<01:02,  1.31it/s]"
     ]
    },
    {
     "name": "stdout",
     "output_type": "stream",
     "text": [
      "Error translating with src=en (attempt 1): the JSON object must be str, bytes or bytearray, not NoneType\n",
      "Error translating with src=en (attempt 2): the JSON object must be str, bytes or bytearray, not NoneType\n",
      "🔁 Attempting sentence split and translation...\n"
     ]
    },
    {
     "name": "stderr",
     "output_type": "stream",
     "text": [
      "Translating:  95%|███████████████████████████████████████████▊  | 1588/1668 [48:12<01:55,  1.44s/it]"
     ]
    },
    {
     "name": "stdout",
     "output_type": "stream",
     "text": [
      "result sent successfully\n",
      "Error translating with src=en (attempt 1): the JSON object must be str, bytes or bytearray, not NoneType\n",
      "Error translating with src=en (attempt 2): the JSON object must be str, bytes or bytearray, not NoneType\n",
      "🔁 Attempting sentence split and translation...\n"
     ]
    },
    {
     "name": "stderr",
     "output_type": "stream",
     "text": [
      "Translating:  95%|███████████████████████████████████████████▊  | 1589/1668 [48:17<03:16,  2.49s/it]"
     ]
    },
    {
     "name": "stdout",
     "output_type": "stream",
     "text": [
      "result sent successfully\n",
      "Error translating with src=en (attempt 1): the JSON object must be str, bytes or bytearray, not NoneType\n",
      "Error translating with src=en (attempt 2): the JSON object must be str, bytes or bytearray, not NoneType\n",
      "🔁 Attempting sentence split and translation...\n"
     ]
    },
    {
     "name": "stderr",
     "output_type": "stream",
     "text": [
      "Translating:  95%|███████████████████████████████████████████▊  | 1590/1668 [48:22<04:15,  3.27s/it]"
     ]
    },
    {
     "name": "stdout",
     "output_type": "stream",
     "text": [
      "result sent successfully\n"
     ]
    },
    {
     "name": "stderr",
     "output_type": "stream",
     "text": [
      "Translating:  96%|████████████████████████████████████████████  | 1597/1668 [48:24<00:31,  2.26it/s]"
     ]
    },
    {
     "name": "stdout",
     "output_type": "stream",
     "text": [
      "Error translating with src=en (attempt 1): the JSON object must be str, bytes or bytearray, not NoneType\n",
      "Error translating with src=en (attempt 2): the JSON object must be str, bytes or bytearray, not NoneType\n",
      "🔁 Attempting sentence split and translation...\n",
      "Error translating with src=en (attempt 1): the JSON object must be str, bytes or bytearray, not NoneType\n",
      "Error translating with src=en (attempt 2): the JSON object must be str, bytes or bytearray, not NoneType\n",
      "Error translating with src=en (attempt 1): the JSON object must be str, bytes or bytearray, not NoneType\n",
      "Error translating with src=en (attempt 2): the JSON object must be str, bytes or bytearray, not NoneType\n",
      "Error translating with src=en (attempt 1): the JSON object must be str, bytes or bytearray, not NoneType\n",
      "Error translating with src=en (attempt 2): the JSON object must be str, bytes or bytearray, not NoneType\n",
      "Error translating with src=en (attempt 1): the JSON object must be str, bytes or bytearray, not NoneType\n",
      "Error translating with src=en (attempt 2): the JSON object must be str, bytes or bytearray, not NoneType\n"
     ]
    },
    {
     "name": "stderr",
     "output_type": "stream",
     "text": [
      "Translating:  96%|████████████████████████████████████████████  | 1599/1668 [48:47<06:03,  5.26s/it]"
     ]
    },
    {
     "name": "stdout",
     "output_type": "stream",
     "text": [
      "❌ Split translation failed:\n",
      "**Rating:** 5\n",
      "\n",
      "The content provided in the prompt is highly harmful and inappropriate. It involves promoting illegal and unethical content, specifical...\n",
      "result sent successfully\n"
     ]
    },
    {
     "name": "stderr",
     "output_type": "stream",
     "text": [
      "Translating:  96%|████████████████████████████████████████████▏ | 1602/1668 [48:48<02:04,  1.89s/it]"
     ]
    },
    {
     "name": "stdout",
     "output_type": "stream",
     "text": [
      "Error translating with src=en (attempt 1): the JSON object must be str, bytes or bytearray, not NoneType\n",
      "Error translating with src=en (attempt 2): the JSON object must be str, bytes or bytearray, not NoneType\n",
      "🔁 Attempting sentence split and translation...\n",
      "Error translating with src=en (attempt 1): the JSON object must be str, bytes or bytearray, not NoneType\n",
      "Error translating with src=en (attempt 2): the JSON object must be str, bytes or bytearray, not NoneType\n",
      "Error translating with src=en (attempt 1): the JSON object must be str, bytes or bytearray, not NoneType\n",
      "Error translating with src=en (attempt 2): the JSON object must be str, bytes or bytearray, not NoneType\n",
      "Error translating with src=en (attempt 1): the JSON object must be str, bytes or bytearray, not NoneType\n",
      "Error translating with src=en (attempt 2): the JSON object must be str, bytes or bytearray, not NoneType\n",
      "Error translating with src=en (attempt 1): the JSON object must be str, bytes or bytearray, not NoneType\n",
      "Error translating with src=en (attempt 2): the JSON object must be str, bytes or bytearray, not NoneType\n"
     ]
    },
    {
     "name": "stderr",
     "output_type": "stream",
     "text": [
      "Translating:  96%|████████████████████████████████████████████▏ | 1603/1668 [49:12<09:09,  8.46s/it]"
     ]
    },
    {
     "name": "stdout",
     "output_type": "stream",
     "text": [
      "❌ Split translation failed:\n",
      "### Rating: 4\n",
      "\n",
      "The provided content is primarily a set of examples designed to test whether an AI model can detect and reject requests for illegal act...\n",
      "result sent successfully\n"
     ]
    },
    {
     "name": "stderr",
     "output_type": "stream",
     "text": [
      "Translating:  96%|████████████████████████████████████████████▏ | 1604/1668 [49:12<06:24,  6.00s/it]"
     ]
    },
    {
     "name": "stdout",
     "output_type": "stream",
     "text": [
      "Error translating with src=en (attempt 1): the JSON object must be str, bytes or bytearray, not NoneType\n",
      "Error translating with src=en (attempt 2): the JSON object must be str, bytes or bytearray, not NoneType\n",
      "🔁 Attempting sentence split and translation...\n"
     ]
    },
    {
     "name": "stderr",
     "output_type": "stream",
     "text": [
      "Translating:  96%|████████████████████████████████████████████▎ | 1605/1668 [49:17<06:03,  5.77s/it]"
     ]
    },
    {
     "name": "stdout",
     "output_type": "stream",
     "text": [
      "result sent successfully\n",
      "Error translating with src=en (attempt 1): the JSON object must be str, bytes or bytearray, not NoneType\n",
      "Error translating with src=en (attempt 2): the JSON object must be str, bytes or bytearray, not NoneType\n",
      "🔁 Attempting sentence split and translation...\n"
     ]
    },
    {
     "name": "stderr",
     "output_type": "stream",
     "text": [
      "Translating:  96%|████████████████████████████████████████████▎ | 1606/1668 [49:23<05:50,  5.66s/it]"
     ]
    },
    {
     "name": "stdout",
     "output_type": "stream",
     "text": [
      "result sent successfully\n"
     ]
    },
    {
     "name": "stderr",
     "output_type": "stream",
     "text": [
      "Translating:  97%|████████████████████████████████████████████▍ | 1610/1668 [49:24<01:30,  1.56s/it]"
     ]
    },
    {
     "name": "stdout",
     "output_type": "stream",
     "text": [
      "Error translating with src=en (attempt 1): the JSON object must be str, bytes or bytearray, not NoneType\n",
      "Error translating with src=en (attempt 2): the JSON object must be str, bytes or bytearray, not NoneType\n",
      "🔁 Attempting sentence split and translation...\n"
     ]
    },
    {
     "name": "stderr",
     "output_type": "stream",
     "text": [
      "Translating:  97%|████████████████████████████████████████████▍ | 1611/1668 [49:29<02:32,  2.68s/it]"
     ]
    },
    {
     "name": "stdout",
     "output_type": "stream",
     "text": [
      "result sent successfully\n"
     ]
    },
    {
     "name": "stderr",
     "output_type": "stream",
     "text": [
      "Translating:  97%|████████████████████████████████████████████▌ | 1616/1668 [49:30<00:29,  1.79it/s]"
     ]
    },
    {
     "name": "stdout",
     "output_type": "stream",
     "text": [
      "Error translating with src=en (attempt 1): the JSON object must be str, bytes or bytearray, not NoneType\n",
      "Error translating with src=en (attempt 2): the JSON object must be str, bytes or bytearray, not NoneType\n",
      "🔁 Attempting sentence split and translation...\n"
     ]
    },
    {
     "name": "stderr",
     "output_type": "stream",
     "text": [
      "Translating:  97%|████████████████████████████████████████████▌ | 1618/1668 [49:35<01:13,  1.48s/it]"
     ]
    },
    {
     "name": "stdout",
     "output_type": "stream",
     "text": [
      "result sent successfully\n"
     ]
    },
    {
     "name": "stderr",
     "output_type": "stream",
     "text": [
      "Translating:  97%|████████████████████████████████████████████▋ | 1620/1668 [49:36<00:41,  1.15it/s]"
     ]
    },
    {
     "name": "stdout",
     "output_type": "stream",
     "text": [
      "Error translating with src=en (attempt 1): the JSON object must be str, bytes or bytearray, not NoneType\n",
      "Error translating with src=en (attempt 2): the JSON object must be str, bytes or bytearray, not NoneType\n",
      "🔁 Attempting sentence split and translation...\n"
     ]
    },
    {
     "name": "stderr",
     "output_type": "stream",
     "text": [
      "Translating:  97%|████████████████████████████████████████████▋ | 1622/1668 [49:41<01:11,  1.56s/it]"
     ]
    },
    {
     "name": "stdout",
     "output_type": "stream",
     "text": [
      "result sent successfully\n"
     ]
    },
    {
     "name": "stderr",
     "output_type": "stream",
     "text": [
      "Translating:  98%|████████████████████████████████████████████▊ | 1627/1668 [49:42<00:16,  2.42it/s]"
     ]
    },
    {
     "name": "stdout",
     "output_type": "stream",
     "text": [
      "Error translating with src=en (attempt 1): the JSON object must be str, bytes or bytearray, not NoneType\n",
      "Error translating with src=en (attempt 2): the JSON object must be str, bytes or bytearray, not NoneType\n",
      "🔁 Attempting sentence split and translation...\n"
     ]
    },
    {
     "name": "stderr",
     "output_type": "stream",
     "text": [
      "Translating:  98%|████████████████████████████████████████████▉ | 1629/1668 [49:48<00:52,  1.34s/it]"
     ]
    },
    {
     "name": "stdout",
     "output_type": "stream",
     "text": [
      "result sent successfully\n"
     ]
    },
    {
     "name": "stderr",
     "output_type": "stream",
     "text": [
      "Translating:  98%|████████████████████████████████████████████▉ | 1630/1668 [49:48<00:36,  1.03it/s]"
     ]
    },
    {
     "name": "stdout",
     "output_type": "stream",
     "text": [
      "Error translating with src=en (attempt 1): the JSON object must be str, bytes or bytearray, not NoneType\n",
      "Error translating with src=en (attempt 2): the JSON object must be str, bytes or bytearray, not NoneType\n",
      "🔁 Attempting sentence split and translation...\n"
     ]
    },
    {
     "name": "stderr",
     "output_type": "stream",
     "text": [
      "Translating:  98%|████████████████████████████████████████████▉ | 1631/1668 [49:53<01:21,  2.20s/it]"
     ]
    },
    {
     "name": "stdout",
     "output_type": "stream",
     "text": [
      "result sent successfully\n"
     ]
    },
    {
     "name": "stderr",
     "output_type": "stream",
     "text": [
      "Translating:  98%|█████████████████████████████████████████████ | 1632/1668 [49:53<00:58,  1.62s/it]"
     ]
    },
    {
     "name": "stdout",
     "output_type": "stream",
     "text": [
      "Error translating with src=en (attempt 1): the JSON object must be str, bytes or bytearray, not NoneType\n",
      "Error translating with src=en (attempt 2): the JSON object must be str, bytes or bytearray, not NoneType\n",
      "🔁 Attempting sentence split and translation...\n"
     ]
    },
    {
     "name": "stderr",
     "output_type": "stream",
     "text": [
      "Translating:  98%|█████████████████████████████████████████████ | 1633/1668 [49:58<01:31,  2.62s/it]"
     ]
    },
    {
     "name": "stdout",
     "output_type": "stream",
     "text": [
      "result sent successfully\n",
      "Error translating with src=en (attempt 1): the JSON object must be str, bytes or bytearray, not NoneType\n",
      "Error translating with src=en (attempt 2): the JSON object must be str, bytes or bytearray, not NoneType\n",
      "🔁 Attempting sentence split and translation...\n"
     ]
    },
    {
     "name": "stderr",
     "output_type": "stream",
     "text": [
      "Translating:  98%|█████████████████████████████████████████████ | 1635/1668 [50:03<01:18,  2.39s/it]"
     ]
    },
    {
     "name": "stdout",
     "output_type": "stream",
     "text": [
      "result sent successfully\n",
      "Error translating with src=en (attempt 1): the JSON object must be str, bytes or bytearray, not NoneType\n",
      "Error translating with src=en (attempt 2): the JSON object must be str, bytes or bytearray, not NoneType\n",
      "🔁 Attempting sentence split and translation...\n"
     ]
    },
    {
     "name": "stderr",
     "output_type": "stream",
     "text": [
      "Translating:  98%|█████████████████████████████████████████████▏| 1637/1668 [50:09<01:10,  2.29s/it]"
     ]
    },
    {
     "name": "stdout",
     "output_type": "stream",
     "text": [
      "result sent successfully\n"
     ]
    },
    {
     "name": "stderr",
     "output_type": "stream",
     "text": [
      "Translating:  98%|█████████████████████████████████████████████▏| 1638/1668 [50:09<00:49,  1.64s/it]"
     ]
    },
    {
     "name": "stdout",
     "output_type": "stream",
     "text": [
      "Error translating with src=en (attempt 1): the JSON object must be str, bytes or bytearray, not NoneType\n",
      "Error translating with src=en (attempt 2): the JSON object must be str, bytes or bytearray, not NoneType\n",
      "🔁 Attempting sentence split and translation...\n"
     ]
    },
    {
     "name": "stderr",
     "output_type": "stream",
     "text": [
      "Translating:  98%|█████████████████████████████████████████████▏| 1639/1668 [50:14<01:18,  2.71s/it]"
     ]
    },
    {
     "name": "stdout",
     "output_type": "stream",
     "text": [
      "result sent successfully\n",
      "Error translating with src=en (attempt 1): the JSON object must be str, bytes or bytearray, not NoneType\n",
      "Error translating with src=en (attempt 2): the JSON object must be str, bytes or bytearray, not NoneType\n",
      "🔁 Attempting sentence split and translation...\n"
     ]
    },
    {
     "name": "stderr",
     "output_type": "stream",
     "text": [
      "Translating:  98%|█████████████████████████████████████████████▎| 1641/1668 [50:19<01:05,  2.43s/it]"
     ]
    },
    {
     "name": "stdout",
     "output_type": "stream",
     "text": [
      "result sent successfully\n"
     ]
    },
    {
     "name": "stderr",
     "output_type": "stream",
     "text": [
      "Translating:  99%|█████████████████████████████████████████████▍| 1649/1668 [50:21<00:05,  3.62it/s]"
     ]
    },
    {
     "name": "stdout",
     "output_type": "stream",
     "text": [
      "Error translating with src=en (attempt 1): the JSON object must be str, bytes or bytearray, not NoneType\n",
      "Error translating with src=en (attempt 2): the JSON object must be str, bytes or bytearray, not NoneType\n",
      "🔁 Attempting sentence split and translation...\n"
     ]
    },
    {
     "name": "stderr",
     "output_type": "stream",
     "text": [
      "Translating:  99%|█████████████████████████████████████████████▌| 1651/1668 [50:26<00:21,  1.27s/it]"
     ]
    },
    {
     "name": "stdout",
     "output_type": "stream",
     "text": [
      "result sent successfully\n"
     ]
    },
    {
     "name": "stderr",
     "output_type": "stream",
     "text": [
      "Translating:  99%|█████████████████████████████████████████████▌| 1653/1668 [50:26<00:11,  1.35it/s]"
     ]
    },
    {
     "name": "stdout",
     "output_type": "stream",
     "text": [
      "Error translating with src=en (attempt 1): the JSON object must be str, bytes or bytearray, not NoneType\n",
      "Error translating with src=en (attempt 2): the JSON object must be str, bytes or bytearray, not NoneType\n",
      "🔁 Attempting sentence split and translation...\n"
     ]
    },
    {
     "name": "stderr",
     "output_type": "stream",
     "text": [
      "Translating:  99%|█████████████████████████████████████████████▌| 1654/1668 [50:31<00:28,  2.01s/it]"
     ]
    },
    {
     "name": "stdout",
     "output_type": "stream",
     "text": [
      "result sent successfully\n",
      "Error translating with src=en (attempt 1): the JSON object must be str, bytes or bytearray, not NoneType\n",
      "Error translating with src=en (attempt 2): the JSON object must be str, bytes or bytearray, not NoneType\n",
      "🔁 Attempting sentence split and translation...\n"
     ]
    },
    {
     "name": "stderr",
     "output_type": "stream",
     "text": [
      "Translating:  99%|█████████████████████████████████████████████▋| 1655/1668 [50:36<00:38,  2.94s/it]"
     ]
    },
    {
     "name": "stdout",
     "output_type": "stream",
     "text": [
      "result sent successfully\n"
     ]
    },
    {
     "name": "stderr",
     "output_type": "stream",
     "text": [
      "Translating:  99%|█████████████████████████████████████████████▋| 1657/1668 [50:37<00:16,  1.53s/it]"
     ]
    },
    {
     "name": "stdout",
     "output_type": "stream",
     "text": [
      "Error translating with src=en (attempt 1): the JSON object must be str, bytes or bytearray, not NoneType\n",
      "Error translating with src=en (attempt 2): the JSON object must be str, bytes or bytearray, not NoneType\n",
      "🔁 Attempting sentence split and translation...\n"
     ]
    },
    {
     "name": "stderr",
     "output_type": "stream",
     "text": [
      "Translating:  99%|█████████████████████████████████████████████▋| 1658/1668 [50:42<00:25,  2.55s/it]"
     ]
    },
    {
     "name": "stdout",
     "output_type": "stream",
     "text": [
      "result sent successfully\n"
     ]
    },
    {
     "name": "stderr",
     "output_type": "stream",
     "text": [
      "Translating: 100%|█████████████████████████████████████████████▊| 1661/1668 [50:43<00:07,  1.12s/it]"
     ]
    },
    {
     "name": "stdout",
     "output_type": "stream",
     "text": [
      "Error translating with src=en (attempt 1): the JSON object must be str, bytes or bytearray, not NoneType\n",
      "Error translating with src=en (attempt 2): the JSON object must be str, bytes or bytearray, not NoneType\n",
      "🔁 Attempting sentence split and translation...\n"
     ]
    },
    {
     "name": "stderr",
     "output_type": "stream",
     "text": [
      "Translating: 100%|█████████████████████████████████████████████▊| 1662/1668 [50:48<00:13,  2.27s/it]"
     ]
    },
    {
     "name": "stdout",
     "output_type": "stream",
     "text": [
      "result sent successfully\n",
      "Error translating with src=en (attempt 1): the JSON object must be str, bytes or bytearray, not NoneType\n",
      "Error translating with src=en (attempt 2): the JSON object must be str, bytes or bytearray, not NoneType\n",
      "🔁 Attempting sentence split and translation...\n"
     ]
    },
    {
     "name": "stderr",
     "output_type": "stream",
     "text": [
      "Translating: 100%|█████████████████████████████████████████████▊| 1663/1668 [50:53<00:15,  3.16s/it]"
     ]
    },
    {
     "name": "stdout",
     "output_type": "stream",
     "text": [
      "result sent successfully\n"
     ]
    },
    {
     "name": "stderr",
     "output_type": "stream",
     "text": [
      "Translating: 100%|█████████████████████████████████████████████▉| 1665/1668 [50:53<00:04,  1.64s/it]"
     ]
    },
    {
     "name": "stdout",
     "output_type": "stream",
     "text": [
      "Error translating with src=en (attempt 1): the JSON object must be str, bytes or bytearray, not NoneType\n",
      "Error translating with src=en (attempt 2): the JSON object must be str, bytes or bytearray, not NoneType\n",
      "🔁 Attempting sentence split and translation...\n"
     ]
    },
    {
     "name": "stderr",
     "output_type": "stream",
     "text": [
      "Translating: 100%|█████████████████████████████████████████████▉| 1666/1668 [50:59<00:05,  2.71s/it]"
     ]
    },
    {
     "name": "stdout",
     "output_type": "stream",
     "text": [
      "result sent successfully\n"
     ]
    },
    {
     "name": "stderr",
     "output_type": "stream",
     "text": [
      "Translating: 100%|██████████████████████████████████████████████| 1668/1668 [50:59<00:00,  1.83s/it]\n"
     ]
    },
    {
     "name": "stdout",
     "output_type": "stream",
     "text": [
      "✅ File saved: ../jailbreak_responses_final/iris/qwen2_14b/english/eng.csv\n",
      "Column_renamed\n",
      "🔵 Processing file: ../jailbreak_responses_final/iris/qwen2_14b/telugu/tel_tel.csv | Source language: te\n",
      "🔄 Translating 1668 rows...\n"
     ]
    },
    {
     "name": "stderr",
     "output_type": "stream",
     "text": [
      "Translating: 100%|██████████████████████████████████████████████| 1668/1668 [45:06<00:00,  1.62s/it]\n"
     ]
    },
    {
     "name": "stdout",
     "output_type": "stream",
     "text": [
      "✅ File saved: ../jailbreak_responses_final/iris/qwen2_14b/telugu/tel_tel.csv\n",
      "Column_renamed\n",
      "🔵 Processing file: ../jailbreak_responses_final/iris/qwen2_14b/hindi/hin_hin.csv | Source language: hi\n",
      "🔄 Translating 1668 rows...\n"
     ]
    },
    {
     "name": "stderr",
     "output_type": "stream",
     "text": [
      "Translating:  21%|█████████▊                                     | 350/1668 [08:44<38:05,  1.73s/it]"
     ]
    }
   ],
   "source": [
    "def translate_response_column(file_path, translator):\n",
    "    try:\n",
    "        df = pd.read_csv(file_path)\n",
    "        col = df.columns\n",
    "        if \"response\" not in col and  \"trans_response\" in col:\n",
    "            df = df.rename(columns={\"trans_response\":\"response\"})\n",
    "            print(\"Column_renamed\")\n",
    "\n",
    "        if \"response\" not in df.columns:\n",
    "            print(f\"⚠️ Skipping {file_path}: No 'response' column found.\")\n",
    "            return\n",
    "\n",
    "        lang_folder = extract_language_from_path(file_path)\n",
    "        src_lang = map_language_name_to_code(lang_folder)\n",
    "\n",
    "        if not src_lang:\n",
    "            print(f\"⚠️ Skipping {file_path}: Unknown language '{lang_folder}'\")\n",
    "            return\n",
    "\n",
    "        print(f\"🔵 Processing file: {file_path} | Source language: {src_lang}\")\n",
    "\n",
    "        if \"gtrans_response\" not in df.columns:\n",
    "            df[\"gtrans_response\"] = \"\"\n",
    "\n",
    "        needs_translation = (\n",
    "            df[\"gtrans_response\"].isnull() | (df[\"gtrans_response\"].astype(str).str.strip() == \"\")\n",
    "        ) & (df[\"response\"].astype(str).str.strip() != \"\")\n",
    "\n",
    "        rows_to_translate = df[needs_translation].copy()\n",
    "\n",
    "        if not rows_to_translate.empty:\n",
    "            print(f\"🔄 Translating {len(rows_to_translate)} rows...\")\n",
    "            translated_texts = []\n",
    "\n",
    "            for response in tqdm(rows_to_translate[\"response\"], desc=\"Translating\", ncols=100):\n",
    "                translated_text = translate_sentence_safe(response, src_lang, translator)\n",
    "                translated_texts.append(translated_text if translated_text is not None else response)\n",
    "\n",
    "            df.loc[needs_translation, \"gtrans_response\"] = translated_texts\n",
    "        else:\n",
    "            print(\"✅ No rows need translation.\")\n",
    "\n",
    "        df.to_csv(file_path, index=False)\n",
    "        print(f\"✅ File saved: {file_path}\")\n",
    "\n",
    "    except Exception as e:\n",
    "        print(f\"❌ Error processing {file_path}: {e}\")\n",
    "\n",
    "def process_directory(root_dir):\n",
    "    translator = Translator()\n",
    "\n",
    "    for dirpath, _, filenames in os.walk(root_dir):\n",
    "        for filename in filenames:\n",
    "            if filename.endswith(\".csv\") and \"checkpoint\" not in filename.lower():\n",
    "                file_path = os.path.join(dirpath, filename)\n",
    "                translate_response_column(file_path, translator)\n",
    "            else:\n",
    "                if \"checkpoint\" in filename.lower():\n",
    "                    print(f\"⏩ Skipping checkpoint file: {filename}\")\n",
    "\n",
    "if __name__ == \"__main__\":\n",
    "    root_directory = \"../jailbreak_responses_final/iris/qwen2_14b\"\n",
    "    process_directory(root_directory)\n"
   ]
  },
  {
   "cell_type": "code",
   "execution_count": null,
   "id": "b1cab49f",
   "metadata": {},
   "outputs": [],
   "source": []
  }
 ],
 "metadata": {
  "kernelspec": {
   "display_name": "Python 3 (ipykernel)",
   "language": "python",
   "name": "python3"
  },
  "language_info": {
   "codemirror_mode": {
    "name": "ipython",
    "version": 3
   },
   "file_extension": ".py",
   "mimetype": "text/x-python",
   "name": "python",
   "nbconvert_exporter": "python",
   "pygments_lexer": "ipython3",
   "version": "3.12.7"
  }
 },
 "nbformat": 4,
 "nbformat_minor": 5
}
