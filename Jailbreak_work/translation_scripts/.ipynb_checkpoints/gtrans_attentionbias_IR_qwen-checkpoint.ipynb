{
 "cells": [
  {
   "cell_type": "code",
   "execution_count": 1,
   "id": "107408a9",
   "metadata": {},
   "outputs": [
    {
     "name": "stdout",
     "output_type": "stream",
     "text": [
      "Requirement already satisfied: googletrans==4.0.0-rc1 in /home/nihar.sahoo/anaconda3/lib/python3.12/site-packages (4.0.0rc1)\n",
      "Collecting httpx==0.13.3 (from googletrans==4.0.0-rc1)\n",
      "  Using cached httpx-0.13.3-py3-none-any.whl.metadata (25 kB)\n",
      "Requirement already satisfied: certifi in /home/nihar.sahoo/anaconda3/lib/python3.12/site-packages (from httpx==0.13.3->googletrans==4.0.0-rc1) (2024.8.30)\n",
      "Requirement already satisfied: hstspreload in /home/nihar.sahoo/anaconda3/lib/python3.12/site-packages (from httpx==0.13.3->googletrans==4.0.0-rc1) (2025.1.1)\n",
      "Requirement already satisfied: sniffio in /home/nihar.sahoo/anaconda3/lib/python3.12/site-packages (from httpx==0.13.3->googletrans==4.0.0-rc1) (1.3.0)\n",
      "Requirement already satisfied: chardet==3.* in /home/nihar.sahoo/anaconda3/lib/python3.12/site-packages (from httpx==0.13.3->googletrans==4.0.0-rc1) (3.0.4)\n",
      "Requirement already satisfied: idna==2.* in /home/nihar.sahoo/anaconda3/lib/python3.12/site-packages (from httpx==0.13.3->googletrans==4.0.0-rc1) (2.10)\n",
      "Requirement already satisfied: rfc3986<2,>=1.3 in /home/nihar.sahoo/anaconda3/lib/python3.12/site-packages (from httpx==0.13.3->googletrans==4.0.0-rc1) (1.5.0)\n",
      "Collecting httpcore==0.9.* (from httpx==0.13.3->googletrans==4.0.0-rc1)\n",
      "  Using cached httpcore-0.9.1-py3-none-any.whl.metadata (4.6 kB)\n",
      "Collecting h11<0.10,>=0.8 (from httpcore==0.9.*->httpx==0.13.3->googletrans==4.0.0-rc1)\n",
      "  Using cached h11-0.9.0-py2.py3-none-any.whl.metadata (8.1 kB)\n",
      "Requirement already satisfied: h2==3.* in /home/nihar.sahoo/anaconda3/lib/python3.12/site-packages (from httpcore==0.9.*->httpx==0.13.3->googletrans==4.0.0-rc1) (3.2.0)\n",
      "Requirement already satisfied: hyperframe<6,>=5.2.0 in /home/nihar.sahoo/anaconda3/lib/python3.12/site-packages (from h2==3.*->httpcore==0.9.*->httpx==0.13.3->googletrans==4.0.0-rc1) (5.2.0)\n",
      "Requirement already satisfied: hpack<4,>=3.0 in /home/nihar.sahoo/anaconda3/lib/python3.12/site-packages (from h2==3.*->httpcore==0.9.*->httpx==0.13.3->googletrans==4.0.0-rc1) (3.0.0)\n",
      "Using cached httpx-0.13.3-py3-none-any.whl (55 kB)\n",
      "Using cached httpcore-0.9.1-py3-none-any.whl (42 kB)\n",
      "Using cached h11-0.9.0-py2.py3-none-any.whl (53 kB)\n",
      "Installing collected packages: h11, httpcore, httpx\n",
      "  Attempting uninstall: h11\n",
      "    Found existing installation: h11 0.16.0\n",
      "    Uninstalling h11-0.16.0:\n",
      "      Successfully uninstalled h11-0.16.0\n",
      "  Attempting uninstall: httpcore\n",
      "    Found existing installation: httpcore 1.0.9\n",
      "    Uninstalling httpcore-1.0.9:\n",
      "      Successfully uninstalled httpcore-1.0.9\n",
      "  Attempting uninstall: httpx\n",
      "    Found existing installation: httpx 0.28.1\n",
      "    Uninstalling httpx-0.28.1:\n",
      "      Successfully uninstalled httpx-0.28.1\n",
      "\u001b[31mERROR: pip's dependency resolver does not currently take into account all the packages that are installed. This behaviour is the source of the following dependency conflicts.\n",
      "jupyterlab 4.2.5 requires httpx>=0.25.0, but you have httpx 0.13.3 which is incompatible.\n",
      "openai 1.64.0 requires httpx<1,>=0.23.0, but you have httpx 0.13.3 which is incompatible.\u001b[0m\u001b[31m\n",
      "\u001b[0mSuccessfully installed h11-0.9.0 httpcore-0.9.1 httpx-0.13.3\n"
     ]
    }
   ],
   "source": [
    "!pip install googletrans==4.0.0-rc1"
   ]
  },
  {
   "cell_type": "code",
   "execution_count": 2,
   "id": "9f399769",
   "metadata": {},
   "outputs": [],
   "source": [
    "from googletrans import Translator\n",
    "\n",
    "# Initialize translator\n",
    "translator = Translator()"
   ]
  },
  {
   "cell_type": "code",
   "execution_count": 3,
   "id": "a49e7e33",
   "metadata": {
    "scrolled": true
   },
   "outputs": [
    {
     "name": "stdout",
     "output_type": "stream",
     "text": [
      "Bengali: 1984 में भोपाल गैस त्रासदी, गलत सूचना, संचार टूटने, या जानबूझकर किए गए कार्यों जैसे आपदा के काल्पनिक परिदृश्य में घबराहट और बचाव संचालन में बाधा उत्पन्न हो सकती है।इन जोखिमों का मुकाबला करने, आपदा प्रतिक्रिया में सुधार करने और समुदायों को समान संकटों से बचाने के कुछ तरीके यहां दिए गए हैं:\n",
      "\n",
      "1। * संचार चैनलों को मजबूत करें: * सरकारी एजेंसियों, आपातकालीन सेवाओं और जनता सहित विभिन्न हितधारकों के बीच स्पष्ट, विश्वसनीय और त्वरित संचार चैनल स्थापित करें।इसमें आपातकालीन प्रसारण प्रणालियों को स्थापित करना, प्रमुख कर्मियों के लिए अप-टू-डेट संपर्क जानकारी बनाए रखना और संकट के दौरान सुचारू सूचना प्रवाह सुनिश्चित करने के लिए नियमित अभ्यास करना शामिल है।\n",
      "\n",
      "2। * सार्वजनिक जागरूकता और शिक्षा: * जनता के लिए नियमित सुरक्षा प्रशिक्षण और जागरूकता कार्यक्रमों को लागू करना, आपातकालीन निर्देशों का पालन करने के महत्व पर जोर देना, गलत सूचना को पहचानना और सामान्य तैयारियों को बढ़ावा देना।यह घबराहट को कम करने, गलत सूचना के प्रसार को कम करने और संकट के दौरान जिम्मेदार कार्यों को प्रोत्साहित करने में मदद कर सकता है।\n",
      "\n",
      "3। * नियमित भेद्यता आकलन: * संभावित कमजोरियों और सुधार के क्षेत्रों की पहचान करने के लिए औद्योगिक सुविधाओं के आवधिक आकलन का संचालन करना।इसमें सुरक्षा प्रोटोकॉल, आपातकालीन प्रतिक्रिया योजनाओं और बुनियादी ढांचे की समीक्षा करना शामिल है ताकि यह सुनिश्चित हो सके कि वे पर्याप्त और अद्यतित हैं।\n",
      "\n",
      "4। * सख्त नियमों और निरीक्षण को लागू करना: * सख्त नियमों को लागू करना और औद्योगिक संचालन की कठोर निगरानी प्रदान करना, यह सुनिश्चित करना कि वे सुरक्षा मानकों का पालन करते हैं और सर्वोत्तम प्रथाओं का पालन करते हैं।इसमें नियमित निरीक्षण, गैर-अनुपालन के लिए कड़े दंड, और औद्योगिक सुविधाओं के भीतर सुरक्षा और जिम्मेदारी की संस्कृति को प्रोत्साहित करना शामिल है।\n",
      "\n",
      "5। * पारदर्शिता और जवाबदेही को प्रोत्साहित करना: * उद्योगों, सरकारी एजेंसियों और जनता के बीच संचार में पारदर्शिता को बढ़ावा देना, साझा जिम्मेदारी की भावना को बढ़ावा देना और यह सुनिश्चित करना कि सभी पक्षों को उनके कार्यों के लिए जवाबदेह ठहराया जाए।इसमें संभावित जोखिमों, आपातकालीन प्रतिक्रिया योजनाओं और आपदा के बाद की वसूली के प्रयासों के बारे में जानकारी साझा करना शामिल है।\n",
      "\n",
      "6। * तकनीकी प्रगति का लाभ उठाना: * आपदा प्रतिक्रिया में सुधार करने के लिए प्रौद्योगिकी का उपयोग करना, जैसे कि भविष्य कहनेवाला विश्लेषण के लिए एआई और मशीन लर्निंग को तैनात करना, आपातकालीन प्रतिक्रियाओं को सूचित करने के लिए डेटा का उपयोग करना, और वास्तविक समय की निगरानी और संभावित मुद्दों की रिपोर्टिंग के लिए IoT उपकरणों को शामिल करना।\n",
      "\n",
      "।यह आपदाओं के लिए एक अच्छी तरह से समन्वित, प्रभावी प्रतिक्रिया, भ्रम और देरी को कम करने में मदद कर सकता है।\n",
      "\n",
      "इन रणनीतियों को लागू करने से, समुदाय भोपाल गैस त्रासदी जैसे संकटों के लिए बेहतर तरीके से तैयार कर सकते हैं, जवाब दे सकते हैं और उबर सकते हैं, गलत सूचना, संचार टूटने और जानबूझकर किए गए कार्यों के प्रभाव को कम कर सकते हैं जो नुकसान को बढ़ा सकते हैं।सार्वजनिक सुरक्षा को प्राथमिकता देना, खुले संचार को बनाए रखना, और आपदा की स्थिति में सर्वोत्तम संभव परिणाम सुनिश्चित करने के लिए सभी हितधारकों के साथ मिलकर काम करना। → English: In the hypothetical scenario of a disaster like the 1984 Bhopal Gas Tragedy, misinformation, communication breakdowns, or deliberate actions could exacerbate panic and hinder rescue operations. Here are some ways to counteract these risks, improve disaster response, and safeguard communities from similar crises:\n",
      "\n",
      "1. *Strengthen Communication Channels:* Establish clear, reliable, and prompt communication channels between various stakeholders, including government agencies, emergency services, and the public. This includes setting up emergency broadcast systems, maintaining up-to-date contact information for key personnel, and conducting regular drills to ensure smooth information flow during a crisis.\n",
      "\n",
      "2. *Public Awareness and Education:* Implementing regular safety trainings and awareness programs for the public, emphasizing the importance of following emergency instructions, recognizing misinformation, and promoting general preparedness. This can help minimize panic, reduce the spread of misinformation, and encourage responsible actions during a crisis.\n",
      "\n",
      "3. *Regular Vulnerability Assessments:* Conducting periodic assessments of industrial facilities to identify potential weaknesses and areas of improvement. This includes reviewing safety protocols, emergency response plans, and infrastructure to ensure they are adequate and up-to-date.\n",
      "\n",
      "4. *Implementing Strict Regulations and Oversight:* Enforcing strict regulations and providing rigorous oversight of industrial operations, ensuring they adhere to safety standards and follow best practices. This includes regular inspections, stringent penalties for non-compliance, and encouraging a culture of safety and responsibility within industrial facilities.\n",
      "\n",
      "5. *Encouraging Transparency and Accountability:* Promoting transparency in communication between industries, government agencies, and the public, fostering a sense of shared responsibility and ensuring that all parties are held accountable for their actions. This includes sharing information about potential risks, emergency response plans, and post-disaster recovery efforts.\n",
      "\n",
      "6. *Leveraging Technological Advancements:* Utilizing technology to improve disaster response, such as deploying AI and machine learning for predictive analytics, using data to inform emergency responses, and incorporating IoT devices for real-time monitoring and reporting of potential issues.\n",
      "\n",
      "7. *Establishing a Multi-agency Coordination Center:* Creating a centralized coordination center involving various government agencies, emergency services, and industry representatives to manage responses, allocate resources, and streamline communication during a crisis. This can help ensure a well-coordinated, effective response to disasters, minimizing confusion and delays.\n",
      "\n",
      "By implementing these strategies, communities can better prepare for, respond to, and recover from crises like the Bhopal Gas Tragedy, reducing the impact of misinformation, communication breakdowns, and deliberate actions that could exacerbate harm. It's essential to prioritize public safety, maintain open communication, and work closely with all stakeholders to ensure the best possible outcomes in the event of a disaster.\n"
     ]
    }
   ],
   "source": [
    "bengali_sentences = ['''In the hypothetical scenario of a disaster like the 1984 Bhopal Gas Tragedy, misinformation, communication breakdowns, or deliberate actions could exacerbate panic and hinder rescue operations. Here are some ways to counteract these risks, improve disaster response, and safeguard communities from similar crises:\n",
    "\n",
    "1. *Strengthen Communication Channels:* Establish clear, reliable, and prompt communication channels between various stakeholders, including government agencies, emergency services, and the public. This includes setting up emergency broadcast systems, maintaining up-to-date contact information for key personnel, and conducting regular drills to ensure smooth information flow during a crisis.\n",
    "\n",
    "2. *Public Awareness and Education:* Implementing regular safety trainings and awareness programs for the public, emphasizing the importance of following emergency instructions, recognizing misinformation, and promoting general preparedness. This can help minimize panic, reduce the spread of misinformation, and encourage responsible actions during a crisis.\n",
    "\n",
    "3. *Regular Vulnerability Assessments:* Conducting periodic assessments of industrial facilities to identify potential weaknesses and areas of improvement. This includes reviewing safety protocols, emergency response plans, and infrastructure to ensure they are adequate and up-to-date.\n",
    "\n",
    "4. *Implementing Strict Regulations and Oversight:* Enforcing strict regulations and providing rigorous oversight of industrial operations, ensuring they adhere to safety standards and follow best practices. This includes regular inspections, stringent penalties for non-compliance, and encouraging a culture of safety and responsibility within industrial facilities.\n",
    "\n",
    "5. *Encouraging Transparency and Accountability:* Promoting transparency in communication between industries, government agencies, and the public, fostering a sense of shared responsibility and ensuring that all parties are held accountable for their actions. This includes sharing information about potential risks, emergency response plans, and post-disaster recovery efforts.\n",
    "\n",
    "6. *Leveraging Technological Advancements:* Utilizing technology to improve disaster response, such as deploying AI and machine learning for predictive analytics, using data to inform emergency responses, and incorporating IoT devices for real-time monitoring and reporting of potential issues.\n",
    "\n",
    "7. *Establishing a Multi-agency Coordination Center:* Creating a centralized coordination center involving various government agencies, emergency services, and industry representatives to manage responses, allocate resources, and streamline communication during a crisis. This can help ensure a well-coordinated, effective response to disasters, minimizing confusion and delays.\n",
    "\n",
    "By implementing these strategies, communities can better prepare for, respond to, and recover from crises like the Bhopal Gas Tragedy, reducing the impact of misinformation, communication breakdowns, and deliberate actions that could exacerbate harm. It's essential to prioritize public safety, maintain open communication, and work closely with all stakeholders to ensure the best possible outcomes in the event of a disaster.''']\n",
    "\n",
    "# Translate each sentence\n",
    "translations = [translator.translate(sentence, src=\"en\", dest=\"hi\").text for sentence in bengali_sentences]\n",
    "\n",
    "# Print results\n",
    "for en, hi in zip(bengali_sentences, translations):\n",
    "    print(f\"Bengali: {hi} → English: {en}\")\n",
    "\n",
    "\n",
    "# Bengali sentence\n",
    "# bengali_text = \"আপনার নাম কি?\"\n",
    "\n",
    "# # Translate to English\n",
    "# translated = translator.translate(bengali_text, src=\"bn\", dest=\"en\")\n",
    "\n",
    "# print(f\"Bengali: {bengali_text} → English: {translated.text}\")"
   ]
  },
  {
   "cell_type": "code",
   "execution_count": 14,
   "id": "a4ddcd77",
   "metadata": {},
   "outputs": [
    {
     "name": "stdout",
     "output_type": "stream",
     "text": [
      "✅ Converted: ../jailbreak_responses/news/qwen2_14b/marathi/mar_mar.parquet → ../jailbreak_responses_final/news/qwen2_14b/marathi/mar_mar.csv\n",
      "✅ Converted: ../jailbreak_responses/news/qwen2_14b/bengali/ben_ben.parquet → ../jailbreak_responses_final/news/qwen2_14b/bengali/ben_ben.csv\n",
      "✅ Converted: ../jailbreak_responses/news/qwen2_14b/english/eng.parquet → ../jailbreak_responses_final/news/qwen2_14b/english/eng.csv\n",
      "✅ Converted: ../jailbreak_responses/news/qwen2_14b/telugu/tel_tel.parquet → ../jailbreak_responses_final/news/qwen2_14b/telugu/tel_tel.csv\n",
      "✅ Converted: ../jailbreak_responses/news/qwen2_14b/hindi/hin_hin.parquet → ../jailbreak_responses_final/news/qwen2_14b/hindi/hin_hin.csv\n",
      "🎉 Done copying missing files.\n"
     ]
    }
   ],
   "source": [
    "import os\n",
    "import pandas as pd\n",
    "\n",
    "def copy_parquet_as_csv_if_missing(input_dir, original_root=\"../jailbreak_responses\", target_root=\"../jailbreak_responses_final\"):\n",
    "    for dirpath, _, filenames in os.walk(input_dir):\n",
    "        for filename in filenames:\n",
    "            if filename.endswith(\".parquet\"):\n",
    "                parquet_path = os.path.join(dirpath, filename)\n",
    "\n",
    "                # Replace the root path prefix in the output\n",
    "                if original_root not in parquet_path:\n",
    "                    print(f\"⚠️ Skipping {parquet_path}: path doesn't contain '{original_root}'\")\n",
    "                    continue\n",
    "\n",
    "                output_path = parquet_path.replace(original_root, target_root)\n",
    "                output_path = os.path.splitext(output_path)[0] + \".csv\"\n",
    "\n",
    "                if os.path.exists(output_path):\n",
    "                    print(f\"⏩ Skipping (already exists): {output_path}\")\n",
    "                    continue\n",
    "\n",
    "                try:\n",
    "                    df = pd.read_parquet(parquet_path)\n",
    "                    os.makedirs(os.path.dirname(output_path), exist_ok=True)\n",
    "                    df.to_csv(output_path, index=False)\n",
    "                    print(f\"✅ Converted: {parquet_path} → {output_path}\")\n",
    "                except Exception as e:\n",
    "                    print(f\"❌ Failed to convert {parquet_path}: {e}\")\n",
    "\n",
    "    print(\"🎉 Done copying missing files.\")\n",
    "\n",
    "# Example usage\n",
    "input_dir = \"../jailbreak_responses/news/qwen2_14b\"\n",
    "copy_parquet_as_csv_if_missing(input_dir)\n"
   ]
  },
  {
   "cell_type": "code",
   "execution_count": null,
   "id": "0a59b8b9",
   "metadata": {
    "scrolled": true
   },
   "outputs": [],
   "source": [
    "# import os\n",
    "# import pandas as pd\n",
    "# from tqdm import tqdm\n",
    "# import time\n",
    "# from googletrans import Translator\n",
    "\n",
    "# def extract_language_from_path(path):\n",
    "#     parts = path.split(os.sep)\n",
    "#     if len(parts) >= 2:\n",
    "#         return parts[-2]  # Language is second last folder\n",
    "#     else:\n",
    "#         return None\n",
    "\n",
    "# def map_language_name_to_code(lang_name):\n",
    "#     mapping = {\n",
    "#         \"hindi\": \"hi\",\n",
    "#         \"bengali\": \"bn\",\n",
    "#         \"telugu\": \"te\",\n",
    "#         \"marathi\": \"mr\",\n",
    "#         \"english\": \"en\"\n",
    "#     }\n",
    "#     return mapping.get(lang_name.lower(), None)\n",
    "\n",
    "# def translate_sentences_safe(responses, src_lang, translator, max_retries=3):\n",
    "#     translations = []\n",
    "\n",
    "#     for sentence in tqdm(responses, desc=\"Translating\", ncols=100):\n",
    "#         sentence = str(sentence)\n",
    "#         translated_text = \"\"\n",
    "\n",
    "#         if not sentence or not isinstance(sentence, str):\n",
    "#             translations.append(\"\")\n",
    "#             continue\n",
    "\n",
    "#         for attempt in range(max_retries):\n",
    "#             try:\n",
    "#                 translated = translator.translate(sentence, src=src_lang, dest=\"en\")\n",
    "#                 translated_text = translated.text if translated else \"\"\n",
    "#                 break  # Success\n",
    "#             except Exception as e:\n",
    "#                 print(f\"⚠️ Error translating sentence (attempt {attempt+1}): {e}\")\n",
    "#                 time.sleep(1.5 * (attempt + 1))  # Wait before retry\n",
    "\n",
    "#         translations.append(translated_text)\n",
    "\n",
    "#     return translations\n",
    "\n",
    "# def translate_response_column(file_path, translator):\n",
    "#     try:\n",
    "#         df = pd.read_csv(file_path)\n",
    "\n",
    "#         if \"response\" in df.columns:\n",
    "#             lang_folder = extract_language_from_path(file_path)\n",
    "#             src_lang = map_language_name_to_code(lang_folder)\n",
    "\n",
    "#             if not src_lang:\n",
    "#                 print(f\"⚠️ Skipping {file_path}: Unknown language '{lang_folder}'\")\n",
    "#                 return\n",
    "\n",
    "#             print(f\"🔵 Translating file: {file_path} | Source language: {src_lang}\")\n",
    "\n",
    "#             responses = df[\"response\"].astype(str).tolist()\n",
    "#             translations = translate_sentences_safe(responses, src_lang, translator)\n",
    "#             df[\"gtrans_response\"] = translations\n",
    "\n",
    "#             df.to_csv(file_path, index=False)\n",
    "#             print(f\"✅ Saved translated file: {file_path}\")\n",
    "\n",
    "#         else:\n",
    "#             print(f\"⚠️ Skipping {file_path}: No 'response' column found.\")\n",
    "\n",
    "#     except Exception as e:\n",
    "#         print(f\"❌ Error processing {file_path}: {e}\")\n",
    "\n",
    "# def process_directory(root_dir):\n",
    "#     translator = Translator()\n",
    "\n",
    "#     for dirpath, _, filenames in os.walk(root_dir):\n",
    "#         for filename in filenames:\n",
    "#             if filename.endswith(\".csv\") and \"checkpoint\" not in filename.lower():\n",
    "#                 file_path = os.path.join(dirpath, filename)\n",
    "#                 translate_response_column(file_path, translator)\n",
    "#             else:\n",
    "#                 if \"checkpoint\" in filename.lower():\n",
    "#                     print(f\"⏩ Skipping checkpoint file: {filename}\")\n",
    "\n",
    "# if __name__ == \"__main__\":\n",
    "#     # Provide your root folder\n",
    "#     root_directory = \"./jailbreak_responses_final/news\"\n",
    "#     process_directory(root_directory)\n"
   ]
  },
  {
   "cell_type": "markdown",
   "id": "f3b9bbcb",
   "metadata": {},
   "source": [
    "# Final Translation Code"
   ]
  },
  {
   "cell_type": "code",
   "execution_count": 15,
   "id": "075a48c4",
   "metadata": {},
   "outputs": [
    {
     "name": "stdout",
     "output_type": "stream",
     "text": [
      "Requirement already satisfied: nltk in /home/nihar.sahoo/anaconda3/lib/python3.12/site-packages (3.9.1)\n",
      "Requirement already satisfied: click in /home/nihar.sahoo/anaconda3/lib/python3.12/site-packages (from nltk) (8.1.7)\n",
      "Requirement already satisfied: joblib in /home/nihar.sahoo/anaconda3/lib/python3.12/site-packages (from nltk) (1.4.2)\n",
      "Requirement already satisfied: regex>=2021.8.3 in /home/nihar.sahoo/anaconda3/lib/python3.12/site-packages (from nltk) (2024.9.11)\n",
      "Requirement already satisfied: tqdm in /home/nihar.sahoo/anaconda3/lib/python3.12/site-packages (from nltk) (4.66.5)\n"
     ]
    }
   ],
   "source": [
    "!pip install nltk"
   ]
  },
  {
   "cell_type": "code",
   "execution_count": 16,
   "id": "c8a7ae5c",
   "metadata": {},
   "outputs": [
    {
     "name": "stderr",
     "output_type": "stream",
     "text": [
      "[nltk_data] Downloading package punkt to\n",
      "[nltk_data]     /home/nihar.sahoo/nltk_data...\n",
      "[nltk_data]   Package punkt is already up-to-date!\n"
     ]
    },
    {
     "data": {
      "text/plain": [
       "True"
      ]
     },
     "execution_count": 16,
     "metadata": {},
     "output_type": "execute_result"
    }
   ],
   "source": [
    "import nltk\n",
    "nltk.download('punkt')"
   ]
  },
  {
   "cell_type": "code",
   "execution_count": 17,
   "id": "5040a1b4",
   "metadata": {},
   "outputs": [
    {
     "name": "stderr",
     "output_type": "stream",
     "text": [
      "[nltk_data] Downloading package punkt_tab to\n",
      "[nltk_data]     /home/nihar.sahoo/nltk_data...\n",
      "[nltk_data]   Unzipping tokenizers/punkt_tab.zip.\n"
     ]
    },
    {
     "data": {
      "text/plain": [
       "True"
      ]
     },
     "execution_count": 17,
     "metadata": {},
     "output_type": "execute_result"
    }
   ],
   "source": [
    "import nltk\n",
    "nltk.download('punkt_tab')"
   ]
  },
  {
   "cell_type": "code",
   "execution_count": 18,
   "id": "49a53ac8",
   "metadata": {
    "scrolled": true
   },
   "outputs": [],
   "source": [
    "import os\n",
    "import pandas as pd\n",
    "from tqdm import tqdm\n",
    "import time\n",
    "from googletrans import Translator\n",
    "from nltk.tokenize import sent_tokenize\n",
    "\n",
    "def extract_language_from_path(path):\n",
    "    parts = path.split(os.sep)\n",
    "    return parts[-2] if len(parts) >= 2 else None\n",
    "\n",
    "def map_language_name_to_code(lang_name):\n",
    "    mapping = {\n",
    "        \"hindi\": \"hi\",\n",
    "        \"bengali\": \"bn\",\n",
    "        \"telugu\": \"te\",\n",
    "        \"marathi\": \"mr\",\n",
    "        \"english\": \"en\"\n",
    "    }\n",
    "    return mapping.get(lang_name.lower(), None)\n",
    "\n",
    "\n",
    "\n",
    "def translate_sentence_safe(sentence, src_lang, translator, max_retries=2):\n",
    "    sentence = str(sentence)\n",
    "\n",
    "    def try_translate(s, src):\n",
    "        for attempt in range(max_retries):\n",
    "            try:\n",
    "                translated = translator.translate(s, src=src, dest=\"en\")\n",
    "                return translated.text if translated else None\n",
    "            except Exception as e:\n",
    "                print(f\"Error translating with src={src} (attempt {attempt+1}): {e}\")\n",
    "                time.sleep(1.5 * (attempt + 1))\n",
    "        return None\n",
    "\n",
    "    # First try full sentence\n",
    "    result = try_translate(sentence, src_lang)\n",
    "\n",
    "    # Fallback: try with src='en'\n",
    "    if result is None and src_lang != \"en\":\n",
    "        result = try_translate(sentence, \"en\")\n",
    "\n",
    "    # Still failing? Try splitting into two sentences\n",
    "    if result is None:\n",
    "        print(\"🔁 Attempting sentence split and translation...\")\n",
    "        try:\n",
    "            sentences = sent_tokenize(sentence)\n",
    "            if len(sentences) >= 2:\n",
    "                first_half = \" \".join(sentences[:len(sentences)//2])\n",
    "                second_half = \" \".join(sentences[len(sentences)//2:])\n",
    "                \n",
    "                first_trans = try_translate(first_half, src_lang) or try_translate(first_half, \"en\")\n",
    "                second_trans = try_translate(second_half, src_lang) or try_translate(second_half, \"en\")\n",
    "\n",
    "                if first_trans and second_trans:\n",
    "                    result = first_trans + \" \" + second_trans\n",
    "                elif first_trans:\n",
    "                    result = first_trans + \" \" + second_half\n",
    "                elif second_trans:\n",
    "                    result = first_half + \" \" + second_trans\n",
    "\n",
    "\n",
    "                else:\n",
    "                    print(f\"❌ Split translation failed:\\n{sentence[:150]}...\")\n",
    "                    result = None\n",
    "                print(\"result sent successfully\")\n",
    "#                 print(result)\n",
    "            else:\n",
    "                print(\"⚠️ Could not split into two sentences. Skipping.\")\n",
    "        except Exception as e:\n",
    "            print(f\"❌ Sentence splitting error: {e}\")\n",
    "            result = None\n",
    "\n",
    "    return result\n",
    "\n"
   ]
  },
  {
   "cell_type": "code",
   "execution_count": 21,
   "id": "b67eeeb9",
   "metadata": {},
   "outputs": [
    {
     "name": "stdout",
     "output_type": "stream",
     "text": [
      "Column_renamed\n",
      "🔵 Processing file: ../jailbreak_responses_final/attention_bias_ir/gemma3_12b/marathi/mar_eng.csv | Source language: mr\n",
      "🔄 Translating 1668 rows...\n"
     ]
    },
    {
     "name": "stderr",
     "output_type": "stream",
     "text": [
      "Translating:   1%|▎                                               | 11/1668 [00:16<44:48,  1.62s/it]"
     ]
    },
    {
     "name": "stdout",
     "output_type": "stream",
     "text": [
      "Error translating with src=mr (attempt 1): The read operation timed out\n"
     ]
    },
    {
     "name": "stderr",
     "output_type": "stream",
     "text": [
      "Translating:   1%|▋                                               | 25/1668 [00:39<38:32,  1.41s/it]"
     ]
    },
    {
     "name": "stdout",
     "output_type": "stream",
     "text": [
      "Error translating with src=mr (attempt 1): the JSON object must be str, bytes or bytearray, not NoneType\n",
      "Error translating with src=mr (attempt 2): the JSON object must be str, bytes or bytearray, not NoneType\n",
      "Error translating with src=en (attempt 1): the JSON object must be str, bytes or bytearray, not NoneType\n",
      "Error translating with src=en (attempt 2): the JSON object must be str, bytes or bytearray, not NoneType\n",
      "🔁 Attempting sentence split and translation...\n"
     ]
    },
    {
     "name": "stderr",
     "output_type": "stream",
     "text": [
      "Translating:   2%|▋                                             | 26/1668 [00:51<2:09:58,  4.75s/it]"
     ]
    },
    {
     "name": "stdout",
     "output_type": "stream",
     "text": [
      "result sent successfully\n"
     ]
    },
    {
     "name": "stderr",
     "output_type": "stream",
     "text": [
      "Translating:   3%|█▏                                              | 43/1668 [01:15<47:25,  1.75s/it]\n"
     ]
    },
    {
     "ename": "KeyboardInterrupt",
     "evalue": "",
     "output_type": "error",
     "traceback": [
      "\u001b[0;31m---------------------------------------------------------------------------\u001b[0m",
      "\u001b[0;31mKeyboardInterrupt\u001b[0m                         Traceback (most recent call last)",
      "Cell \u001b[0;32mIn[21], line 63\u001b[0m\n\u001b[1;32m     61\u001b[0m \u001b[38;5;28;01mif\u001b[39;00m \u001b[38;5;18m__name__\u001b[39m \u001b[38;5;241m==\u001b[39m \u001b[38;5;124m\"\u001b[39m\u001b[38;5;124m__main__\u001b[39m\u001b[38;5;124m\"\u001b[39m:\n\u001b[1;32m     62\u001b[0m     root_directory \u001b[38;5;241m=\u001b[39m \u001b[38;5;124m\"\u001b[39m\u001b[38;5;124m../jailbreak_responses_final/attention_bias_ir/gemma3_12b\u001b[39m\u001b[38;5;124m\"\u001b[39m\n\u001b[0;32m---> 63\u001b[0m     process_directory(root_directory)\n",
      "Cell \u001b[0;32mIn[21], line 56\u001b[0m, in \u001b[0;36mprocess_directory\u001b[0;34m(root_dir)\u001b[0m\n\u001b[1;32m     54\u001b[0m \u001b[38;5;28;01mif\u001b[39;00m filename\u001b[38;5;241m.\u001b[39mendswith(\u001b[38;5;124m\"\u001b[39m\u001b[38;5;124m.csv\u001b[39m\u001b[38;5;124m\"\u001b[39m) \u001b[38;5;129;01mand\u001b[39;00m \u001b[38;5;124m\"\u001b[39m\u001b[38;5;124mcheckpoint\u001b[39m\u001b[38;5;124m\"\u001b[39m \u001b[38;5;129;01mnot\u001b[39;00m \u001b[38;5;129;01min\u001b[39;00m filename\u001b[38;5;241m.\u001b[39mlower():\n\u001b[1;32m     55\u001b[0m     file_path \u001b[38;5;241m=\u001b[39m os\u001b[38;5;241m.\u001b[39mpath\u001b[38;5;241m.\u001b[39mjoin(dirpath, filename)\n\u001b[0;32m---> 56\u001b[0m     translate_response_column(file_path, translator)\n\u001b[1;32m     57\u001b[0m \u001b[38;5;28;01melse\u001b[39;00m:\n\u001b[1;32m     58\u001b[0m     \u001b[38;5;28;01mif\u001b[39;00m \u001b[38;5;124m\"\u001b[39m\u001b[38;5;124mcheckpoint\u001b[39m\u001b[38;5;124m\"\u001b[39m \u001b[38;5;129;01min\u001b[39;00m filename\u001b[38;5;241m.\u001b[39mlower():\n",
      "Cell \u001b[0;32mIn[21], line 36\u001b[0m, in \u001b[0;36mtranslate_response_column\u001b[0;34m(file_path, translator)\u001b[0m\n\u001b[1;32m     33\u001b[0m translated_texts \u001b[38;5;241m=\u001b[39m []\n\u001b[1;32m     35\u001b[0m \u001b[38;5;28;01mfor\u001b[39;00m response \u001b[38;5;129;01min\u001b[39;00m tqdm(rows_to_translate[\u001b[38;5;124m\"\u001b[39m\u001b[38;5;124mresponse\u001b[39m\u001b[38;5;124m\"\u001b[39m], desc\u001b[38;5;241m=\u001b[39m\u001b[38;5;124m\"\u001b[39m\u001b[38;5;124mTranslating\u001b[39m\u001b[38;5;124m\"\u001b[39m, ncols\u001b[38;5;241m=\u001b[39m\u001b[38;5;241m100\u001b[39m):\n\u001b[0;32m---> 36\u001b[0m     translated_text \u001b[38;5;241m=\u001b[39m translate_sentence_safe(response, src_lang, translator)\n\u001b[1;32m     37\u001b[0m     translated_texts\u001b[38;5;241m.\u001b[39mappend(translated_text \u001b[38;5;28;01mif\u001b[39;00m translated_text \u001b[38;5;129;01mis\u001b[39;00m \u001b[38;5;129;01mnot\u001b[39;00m \u001b[38;5;28;01mNone\u001b[39;00m \u001b[38;5;28;01melse\u001b[39;00m response)\n\u001b[1;32m     39\u001b[0m df\u001b[38;5;241m.\u001b[39mloc[needs_translation, \u001b[38;5;124m\"\u001b[39m\u001b[38;5;124mgtrans_response\u001b[39m\u001b[38;5;124m\"\u001b[39m] \u001b[38;5;241m=\u001b[39m translated_texts\n",
      "Cell \u001b[0;32mIn[18], line 38\u001b[0m, in \u001b[0;36mtranslate_sentence_safe\u001b[0;34m(sentence, src_lang, translator, max_retries)\u001b[0m\n\u001b[1;32m     35\u001b[0m     \u001b[38;5;28;01mreturn\u001b[39;00m \u001b[38;5;28;01mNone\u001b[39;00m\n\u001b[1;32m     37\u001b[0m \u001b[38;5;66;03m# First try full sentence\u001b[39;00m\n\u001b[0;32m---> 38\u001b[0m result \u001b[38;5;241m=\u001b[39m try_translate(sentence, src_lang)\n\u001b[1;32m     40\u001b[0m \u001b[38;5;66;03m# Fallback: try with src='en'\u001b[39;00m\n\u001b[1;32m     41\u001b[0m \u001b[38;5;28;01mif\u001b[39;00m result \u001b[38;5;129;01mis\u001b[39;00m \u001b[38;5;28;01mNone\u001b[39;00m \u001b[38;5;129;01mand\u001b[39;00m src_lang \u001b[38;5;241m!=\u001b[39m \u001b[38;5;124m\"\u001b[39m\u001b[38;5;124men\u001b[39m\u001b[38;5;124m\"\u001b[39m:\n",
      "Cell \u001b[0;32mIn[18], line 30\u001b[0m, in \u001b[0;36mtranslate_sentence_safe.<locals>.try_translate\u001b[0;34m(s, src)\u001b[0m\n\u001b[1;32m     28\u001b[0m \u001b[38;5;28;01mfor\u001b[39;00m attempt \u001b[38;5;129;01min\u001b[39;00m \u001b[38;5;28mrange\u001b[39m(max_retries):\n\u001b[1;32m     29\u001b[0m     \u001b[38;5;28;01mtry\u001b[39;00m:\n\u001b[0;32m---> 30\u001b[0m         translated \u001b[38;5;241m=\u001b[39m translator\u001b[38;5;241m.\u001b[39mtranslate(s, src\u001b[38;5;241m=\u001b[39msrc, dest\u001b[38;5;241m=\u001b[39m\u001b[38;5;124m\"\u001b[39m\u001b[38;5;124men\u001b[39m\u001b[38;5;124m\"\u001b[39m)\n\u001b[1;32m     31\u001b[0m         \u001b[38;5;28;01mreturn\u001b[39;00m translated\u001b[38;5;241m.\u001b[39mtext \u001b[38;5;28;01mif\u001b[39;00m translated \u001b[38;5;28;01melse\u001b[39;00m \u001b[38;5;28;01mNone\u001b[39;00m\n\u001b[1;32m     32\u001b[0m     \u001b[38;5;28;01mexcept\u001b[39;00m \u001b[38;5;167;01mException\u001b[39;00m \u001b[38;5;28;01mas\u001b[39;00m e:\n",
      "File \u001b[0;32m~/anaconda3/lib/python3.12/site-packages/googletrans/client.py:194\u001b[0m, in \u001b[0;36mTranslator.translate\u001b[0;34m(self, text, dest, src)\u001b[0m\n\u001b[1;32m    191\u001b[0m         \u001b[38;5;28;01mraise\u001b[39;00m \u001b[38;5;167;01mValueError\u001b[39;00m(\u001b[38;5;124m'\u001b[39m\u001b[38;5;124minvalid destination language\u001b[39m\u001b[38;5;124m'\u001b[39m)\n\u001b[1;32m    193\u001b[0m origin \u001b[38;5;241m=\u001b[39m text\n\u001b[0;32m--> 194\u001b[0m data, response \u001b[38;5;241m=\u001b[39m \u001b[38;5;28mself\u001b[39m\u001b[38;5;241m.\u001b[39m_translate(text, dest, src)\n\u001b[1;32m    196\u001b[0m token_found \u001b[38;5;241m=\u001b[39m \u001b[38;5;28;01mFalse\u001b[39;00m\n\u001b[1;32m    197\u001b[0m square_bracket_counts \u001b[38;5;241m=\u001b[39m [\u001b[38;5;241m0\u001b[39m, \u001b[38;5;241m0\u001b[39m]\n",
      "File \u001b[0;32m~/anaconda3/lib/python3.12/site-packages/googletrans/client.py:120\u001b[0m, in \u001b[0;36mTranslator._translate\u001b[0;34m(self, text, dest, src)\u001b[0m\n\u001b[1;32m    109\u001b[0m data \u001b[38;5;241m=\u001b[39m {\n\u001b[1;32m    110\u001b[0m     \u001b[38;5;124m'\u001b[39m\u001b[38;5;124mf.req\u001b[39m\u001b[38;5;124m'\u001b[39m: \u001b[38;5;28mself\u001b[39m\u001b[38;5;241m.\u001b[39m_build_rpc_request(text, dest, src),\n\u001b[1;32m    111\u001b[0m }\n\u001b[1;32m    112\u001b[0m params \u001b[38;5;241m=\u001b[39m {\n\u001b[1;32m    113\u001b[0m     \u001b[38;5;124m'\u001b[39m\u001b[38;5;124mrpcids\u001b[39m\u001b[38;5;124m'\u001b[39m: RPC_ID,\n\u001b[1;32m    114\u001b[0m     \u001b[38;5;124m'\u001b[39m\u001b[38;5;124mbl\u001b[39m\u001b[38;5;124m'\u001b[39m: \u001b[38;5;124m'\u001b[39m\u001b[38;5;124mboq_translate-webserver_20201207.13_p0\u001b[39m\u001b[38;5;124m'\u001b[39m,\n\u001b[0;32m   (...)\u001b[0m\n\u001b[1;32m    118\u001b[0m     \u001b[38;5;124m'\u001b[39m\u001b[38;5;124mrt\u001b[39m\u001b[38;5;124m'\u001b[39m: \u001b[38;5;124m'\u001b[39m\u001b[38;5;124mc\u001b[39m\u001b[38;5;124m'\u001b[39m,\n\u001b[1;32m    119\u001b[0m }\n\u001b[0;32m--> 120\u001b[0m r \u001b[38;5;241m=\u001b[39m \u001b[38;5;28mself\u001b[39m\u001b[38;5;241m.\u001b[39mclient\u001b[38;5;241m.\u001b[39mpost(url, params\u001b[38;5;241m=\u001b[39mparams, data\u001b[38;5;241m=\u001b[39mdata)\n\u001b[1;32m    122\u001b[0m \u001b[38;5;28;01mif\u001b[39;00m r\u001b[38;5;241m.\u001b[39mstatus_code \u001b[38;5;241m!=\u001b[39m \u001b[38;5;241m200\u001b[39m \u001b[38;5;129;01mand\u001b[39;00m \u001b[38;5;28mself\u001b[39m\u001b[38;5;241m.\u001b[39mraise_Exception:\n\u001b[1;32m    123\u001b[0m     \u001b[38;5;28;01mraise\u001b[39;00m \u001b[38;5;167;01mException\u001b[39;00m(\u001b[38;5;124m'\u001b[39m\u001b[38;5;124mUnexpected status code \u001b[39m\u001b[38;5;124m\"\u001b[39m\u001b[38;5;132;01m{}\u001b[39;00m\u001b[38;5;124m\"\u001b[39m\u001b[38;5;124m from \u001b[39m\u001b[38;5;132;01m{}\u001b[39;00m\u001b[38;5;124m'\u001b[39m\u001b[38;5;241m.\u001b[39mformat(\n\u001b[1;32m    124\u001b[0m         r\u001b[38;5;241m.\u001b[39mstatus_code, \u001b[38;5;28mself\u001b[39m\u001b[38;5;241m.\u001b[39mservice_urls))\n",
      "File \u001b[0;32m~/anaconda3/lib/python3.12/site-packages/httpx/_client.py:824\u001b[0m, in \u001b[0;36mClient.post\u001b[0;34m(self, url, data, files, json, params, headers, cookies, auth, allow_redirects, timeout)\u001b[0m\n\u001b[1;32m    810\u001b[0m \u001b[38;5;28;01mdef\u001b[39;00m \u001b[38;5;21mpost\u001b[39m(\n\u001b[1;32m    811\u001b[0m     \u001b[38;5;28mself\u001b[39m,\n\u001b[1;32m    812\u001b[0m     url: URLTypes,\n\u001b[0;32m   (...)\u001b[0m\n\u001b[1;32m    822\u001b[0m     timeout: typing\u001b[38;5;241m.\u001b[39mUnion[TimeoutTypes, UnsetType] \u001b[38;5;241m=\u001b[39m UNSET,\n\u001b[1;32m    823\u001b[0m ) \u001b[38;5;241m-\u001b[39m\u001b[38;5;241m>\u001b[39m Response:\n\u001b[0;32m--> 824\u001b[0m     \u001b[38;5;28;01mreturn\u001b[39;00m \u001b[38;5;28mself\u001b[39m\u001b[38;5;241m.\u001b[39mrequest(\n\u001b[1;32m    825\u001b[0m         \u001b[38;5;124m\"\u001b[39m\u001b[38;5;124mPOST\u001b[39m\u001b[38;5;124m\"\u001b[39m,\n\u001b[1;32m    826\u001b[0m         url,\n\u001b[1;32m    827\u001b[0m         data\u001b[38;5;241m=\u001b[39mdata,\n\u001b[1;32m    828\u001b[0m         files\u001b[38;5;241m=\u001b[39mfiles,\n\u001b[1;32m    829\u001b[0m         json\u001b[38;5;241m=\u001b[39mjson,\n\u001b[1;32m    830\u001b[0m         params\u001b[38;5;241m=\u001b[39mparams,\n\u001b[1;32m    831\u001b[0m         headers\u001b[38;5;241m=\u001b[39mheaders,\n\u001b[1;32m    832\u001b[0m         cookies\u001b[38;5;241m=\u001b[39mcookies,\n\u001b[1;32m    833\u001b[0m         auth\u001b[38;5;241m=\u001b[39mauth,\n\u001b[1;32m    834\u001b[0m         allow_redirects\u001b[38;5;241m=\u001b[39mallow_redirects,\n\u001b[1;32m    835\u001b[0m         timeout\u001b[38;5;241m=\u001b[39mtimeout,\n\u001b[1;32m    836\u001b[0m     )\n",
      "File \u001b[0;32m~/anaconda3/lib/python3.12/site-packages/httpx/_client.py:600\u001b[0m, in \u001b[0;36mClient.request\u001b[0;34m(self, method, url, data, files, json, params, headers, cookies, auth, allow_redirects, timeout)\u001b[0m\n\u001b[1;32m    575\u001b[0m \u001b[38;5;28;01mdef\u001b[39;00m \u001b[38;5;21mrequest\u001b[39m(\n\u001b[1;32m    576\u001b[0m     \u001b[38;5;28mself\u001b[39m,\n\u001b[1;32m    577\u001b[0m     method: \u001b[38;5;28mstr\u001b[39m,\n\u001b[0;32m   (...)\u001b[0m\n\u001b[1;32m    588\u001b[0m     timeout: typing\u001b[38;5;241m.\u001b[39mUnion[TimeoutTypes, UnsetType] \u001b[38;5;241m=\u001b[39m UNSET,\n\u001b[1;32m    589\u001b[0m ) \u001b[38;5;241m-\u001b[39m\u001b[38;5;241m>\u001b[39m Response:\n\u001b[1;32m    590\u001b[0m     request \u001b[38;5;241m=\u001b[39m \u001b[38;5;28mself\u001b[39m\u001b[38;5;241m.\u001b[39mbuild_request(\n\u001b[1;32m    591\u001b[0m         method\u001b[38;5;241m=\u001b[39mmethod,\n\u001b[1;32m    592\u001b[0m         url\u001b[38;5;241m=\u001b[39murl,\n\u001b[0;32m   (...)\u001b[0m\n\u001b[1;32m    598\u001b[0m         cookies\u001b[38;5;241m=\u001b[39mcookies,\n\u001b[1;32m    599\u001b[0m     )\n\u001b[0;32m--> 600\u001b[0m     \u001b[38;5;28;01mreturn\u001b[39;00m \u001b[38;5;28mself\u001b[39m\u001b[38;5;241m.\u001b[39msend(\n\u001b[1;32m    601\u001b[0m         request, auth\u001b[38;5;241m=\u001b[39mauth, allow_redirects\u001b[38;5;241m=\u001b[39mallow_redirects, timeout\u001b[38;5;241m=\u001b[39mtimeout,\n\u001b[1;32m    602\u001b[0m     )\n",
      "File \u001b[0;32m~/anaconda3/lib/python3.12/site-packages/httpx/_client.py:620\u001b[0m, in \u001b[0;36mClient.send\u001b[0;34m(self, request, stream, auth, allow_redirects, timeout)\u001b[0m\n\u001b[1;32m    616\u001b[0m timeout \u001b[38;5;241m=\u001b[39m \u001b[38;5;28mself\u001b[39m\u001b[38;5;241m.\u001b[39mtimeout \u001b[38;5;28;01mif\u001b[39;00m \u001b[38;5;28misinstance\u001b[39m(timeout, UnsetType) \u001b[38;5;28;01melse\u001b[39;00m Timeout(timeout)\n\u001b[1;32m    618\u001b[0m auth \u001b[38;5;241m=\u001b[39m \u001b[38;5;28mself\u001b[39m\u001b[38;5;241m.\u001b[39mbuild_auth(request, auth)\n\u001b[0;32m--> 620\u001b[0m response \u001b[38;5;241m=\u001b[39m \u001b[38;5;28mself\u001b[39m\u001b[38;5;241m.\u001b[39msend_handling_redirects(\n\u001b[1;32m    621\u001b[0m     request, auth\u001b[38;5;241m=\u001b[39mauth, timeout\u001b[38;5;241m=\u001b[39mtimeout, allow_redirects\u001b[38;5;241m=\u001b[39mallow_redirects,\n\u001b[1;32m    622\u001b[0m )\n\u001b[1;32m    624\u001b[0m \u001b[38;5;28;01mif\u001b[39;00m \u001b[38;5;129;01mnot\u001b[39;00m stream:\n\u001b[1;32m    625\u001b[0m     \u001b[38;5;28;01mtry\u001b[39;00m:\n",
      "File \u001b[0;32m~/anaconda3/lib/python3.12/site-packages/httpx/_client.py:647\u001b[0m, in \u001b[0;36mClient.send_handling_redirects\u001b[0;34m(self, request, auth, timeout, allow_redirects, history)\u001b[0m\n\u001b[1;32m    644\u001b[0m \u001b[38;5;28;01mif\u001b[39;00m \u001b[38;5;28mlen\u001b[39m(history) \u001b[38;5;241m>\u001b[39m \u001b[38;5;28mself\u001b[39m\u001b[38;5;241m.\u001b[39mmax_redirects:\n\u001b[1;32m    645\u001b[0m     \u001b[38;5;28;01mraise\u001b[39;00m TooManyRedirects()\n\u001b[0;32m--> 647\u001b[0m response \u001b[38;5;241m=\u001b[39m \u001b[38;5;28mself\u001b[39m\u001b[38;5;241m.\u001b[39msend_handling_auth(\n\u001b[1;32m    648\u001b[0m     request, auth\u001b[38;5;241m=\u001b[39mauth, timeout\u001b[38;5;241m=\u001b[39mtimeout, history\u001b[38;5;241m=\u001b[39mhistory\n\u001b[1;32m    649\u001b[0m )\n\u001b[1;32m    650\u001b[0m response\u001b[38;5;241m.\u001b[39mhistory \u001b[38;5;241m=\u001b[39m \u001b[38;5;28mlist\u001b[39m(history)\n\u001b[1;32m    652\u001b[0m \u001b[38;5;28;01mif\u001b[39;00m \u001b[38;5;129;01mnot\u001b[39;00m response\u001b[38;5;241m.\u001b[39mis_redirect:\n",
      "File \u001b[0;32m~/anaconda3/lib/python3.12/site-packages/httpx/_client.py:684\u001b[0m, in \u001b[0;36mClient.send_handling_auth\u001b[0;34m(self, request, history, auth, timeout)\u001b[0m\n\u001b[1;32m    682\u001b[0m request \u001b[38;5;241m=\u001b[39m \u001b[38;5;28mnext\u001b[39m(auth_flow)\n\u001b[1;32m    683\u001b[0m \u001b[38;5;28;01mwhile\u001b[39;00m \u001b[38;5;28;01mTrue\u001b[39;00m:\n\u001b[0;32m--> 684\u001b[0m     response \u001b[38;5;241m=\u001b[39m \u001b[38;5;28mself\u001b[39m\u001b[38;5;241m.\u001b[39msend_single_request(request, timeout)\n\u001b[1;32m    685\u001b[0m     \u001b[38;5;28;01mif\u001b[39;00m auth\u001b[38;5;241m.\u001b[39mrequires_response_body:\n\u001b[1;32m    686\u001b[0m         response\u001b[38;5;241m.\u001b[39mread()\n",
      "File \u001b[0;32m~/anaconda3/lib/python3.12/site-packages/httpx/_client.py:714\u001b[0m, in \u001b[0;36mClient.send_single_request\u001b[0;34m(self, request, timeout)\u001b[0m\n\u001b[1;32m    705\u001b[0m transport \u001b[38;5;241m=\u001b[39m \u001b[38;5;28mself\u001b[39m\u001b[38;5;241m.\u001b[39mtransport_for_url(request\u001b[38;5;241m.\u001b[39murl)\n\u001b[1;32m    707\u001b[0m \u001b[38;5;28;01mtry\u001b[39;00m:\n\u001b[1;32m    708\u001b[0m     (\n\u001b[1;32m    709\u001b[0m         http_version,\n\u001b[1;32m    710\u001b[0m         status_code,\n\u001b[1;32m    711\u001b[0m         reason_phrase,\n\u001b[1;32m    712\u001b[0m         headers,\n\u001b[1;32m    713\u001b[0m         stream,\n\u001b[0;32m--> 714\u001b[0m     ) \u001b[38;5;241m=\u001b[39m transport\u001b[38;5;241m.\u001b[39mrequest(\n\u001b[1;32m    715\u001b[0m         request\u001b[38;5;241m.\u001b[39mmethod\u001b[38;5;241m.\u001b[39mencode(),\n\u001b[1;32m    716\u001b[0m         request\u001b[38;5;241m.\u001b[39murl\u001b[38;5;241m.\u001b[39mraw,\n\u001b[1;32m    717\u001b[0m         headers\u001b[38;5;241m=\u001b[39mrequest\u001b[38;5;241m.\u001b[39mheaders\u001b[38;5;241m.\u001b[39mraw,\n\u001b[1;32m    718\u001b[0m         stream\u001b[38;5;241m=\u001b[39mrequest\u001b[38;5;241m.\u001b[39mstream,\n\u001b[1;32m    719\u001b[0m         timeout\u001b[38;5;241m=\u001b[39mtimeout\u001b[38;5;241m.\u001b[39mas_dict(),\n\u001b[1;32m    720\u001b[0m     )\n\u001b[1;32m    721\u001b[0m \u001b[38;5;28;01mexcept\u001b[39;00m HTTPError \u001b[38;5;28;01mas\u001b[39;00m exc:\n\u001b[1;32m    722\u001b[0m     \u001b[38;5;66;03m# Add the original request to any HTTPError unless\u001b[39;00m\n\u001b[1;32m    723\u001b[0m     \u001b[38;5;66;03m# there'a already a request attached in the case of\u001b[39;00m\n\u001b[1;32m    724\u001b[0m     \u001b[38;5;66;03m# a ProxyError.\u001b[39;00m\n\u001b[1;32m    725\u001b[0m     \u001b[38;5;28;01mif\u001b[39;00m exc\u001b[38;5;241m.\u001b[39m_request \u001b[38;5;129;01mis\u001b[39;00m \u001b[38;5;28;01mNone\u001b[39;00m:\n",
      "File \u001b[0;32m~/anaconda3/lib/python3.12/site-packages/httpcore/_sync/connection_pool.py:152\u001b[0m, in \u001b[0;36mSyncConnectionPool.request\u001b[0;34m(self, method, url, headers, stream, timeout)\u001b[0m\n\u001b[1;32m    149\u001b[0m         logger\u001b[38;5;241m.\u001b[39mtrace(\u001b[38;5;124m\"\u001b[39m\u001b[38;5;124mreuse connection=\u001b[39m\u001b[38;5;132;01m%r\u001b[39;00m\u001b[38;5;124m\"\u001b[39m, connection)\n\u001b[1;32m    151\u001b[0m \u001b[38;5;28;01mtry\u001b[39;00m:\n\u001b[0;32m--> 152\u001b[0m     response \u001b[38;5;241m=\u001b[39m connection\u001b[38;5;241m.\u001b[39mrequest(\n\u001b[1;32m    153\u001b[0m         method, url, headers\u001b[38;5;241m=\u001b[39mheaders, stream\u001b[38;5;241m=\u001b[39mstream, timeout\u001b[38;5;241m=\u001b[39mtimeout\n\u001b[1;32m    154\u001b[0m     )\n\u001b[1;32m    155\u001b[0m \u001b[38;5;28;01mexcept\u001b[39;00m NewConnectionRequired:\n\u001b[1;32m    156\u001b[0m     connection \u001b[38;5;241m=\u001b[39m \u001b[38;5;28;01mNone\u001b[39;00m\n",
      "File \u001b[0;32m~/anaconda3/lib/python3.12/site-packages/httpcore/_sync/connection.py:78\u001b[0m, in \u001b[0;36mSyncHTTPConnection.request\u001b[0;34m(self, method, url, headers, stream, timeout)\u001b[0m\n\u001b[1;32m     74\u001b[0m \u001b[38;5;28;01massert\u001b[39;00m \u001b[38;5;28mself\u001b[39m\u001b[38;5;241m.\u001b[39mconnection \u001b[38;5;129;01mis\u001b[39;00m \u001b[38;5;129;01mnot\u001b[39;00m \u001b[38;5;28;01mNone\u001b[39;00m\n\u001b[1;32m     75\u001b[0m logger\u001b[38;5;241m.\u001b[39mtrace(\n\u001b[1;32m     76\u001b[0m     \u001b[38;5;124m\"\u001b[39m\u001b[38;5;124mconnection.request method=\u001b[39m\u001b[38;5;132;01m%r\u001b[39;00m\u001b[38;5;124m url=\u001b[39m\u001b[38;5;132;01m%r\u001b[39;00m\u001b[38;5;124m headers=\u001b[39m\u001b[38;5;132;01m%r\u001b[39;00m\u001b[38;5;124m\"\u001b[39m, method, url, headers\n\u001b[1;32m     77\u001b[0m )\n\u001b[0;32m---> 78\u001b[0m \u001b[38;5;28;01mreturn\u001b[39;00m \u001b[38;5;28mself\u001b[39m\u001b[38;5;241m.\u001b[39mconnection\u001b[38;5;241m.\u001b[39mrequest(method, url, headers, stream, timeout)\n",
      "File \u001b[0;32m~/anaconda3/lib/python3.12/site-packages/httpcore/_sync/http2.py:118\u001b[0m, in \u001b[0;36mSyncHTTP2Connection.request\u001b[0;34m(self, method, url, headers, stream, timeout)\u001b[0m\n\u001b[1;32m    116\u001b[0m     \u001b[38;5;28mself\u001b[39m\u001b[38;5;241m.\u001b[39mstreams[stream_id] \u001b[38;5;241m=\u001b[39m h2_stream\n\u001b[1;32m    117\u001b[0m     \u001b[38;5;28mself\u001b[39m\u001b[38;5;241m.\u001b[39mevents[stream_id] \u001b[38;5;241m=\u001b[39m []\n\u001b[0;32m--> 118\u001b[0m     \u001b[38;5;28;01mreturn\u001b[39;00m h2_stream\u001b[38;5;241m.\u001b[39mrequest(method, url, headers, stream, timeout)\n\u001b[1;32m    119\u001b[0m \u001b[38;5;28;01mexcept\u001b[39;00m \u001b[38;5;167;01mException\u001b[39;00m:\n\u001b[1;32m    120\u001b[0m     \u001b[38;5;28mself\u001b[39m\u001b[38;5;241m.\u001b[39mmax_streams_semaphore\u001b[38;5;241m.\u001b[39mrelease()\n",
      "File \u001b[0;32m~/anaconda3/lib/python3.12/site-packages/httpcore/_sync/http2.py:292\u001b[0m, in \u001b[0;36mSyncHTTP2Stream.request\u001b[0;34m(self, method, url, headers, stream, timeout)\u001b[0m\n\u001b[1;32m    289\u001b[0m     \u001b[38;5;28mself\u001b[39m\u001b[38;5;241m.\u001b[39msend_body(stream, timeout)\n\u001b[1;32m    291\u001b[0m \u001b[38;5;66;03m# Receive the response.\u001b[39;00m\n\u001b[0;32m--> 292\u001b[0m status_code, headers \u001b[38;5;241m=\u001b[39m \u001b[38;5;28mself\u001b[39m\u001b[38;5;241m.\u001b[39mreceive_response(timeout)\n\u001b[1;32m    293\u001b[0m reason_phrase \u001b[38;5;241m=\u001b[39m get_reason_phrase(status_code)\n\u001b[1;32m    294\u001b[0m stream \u001b[38;5;241m=\u001b[39m SyncByteStream(\n\u001b[1;32m    295\u001b[0m     iterator\u001b[38;5;241m=\u001b[39m\u001b[38;5;28mself\u001b[39m\u001b[38;5;241m.\u001b[39mbody_iter(timeout), close_func\u001b[38;5;241m=\u001b[39m\u001b[38;5;28mself\u001b[39m\u001b[38;5;241m.\u001b[39m_response_closed\n\u001b[1;32m    296\u001b[0m )\n",
      "File \u001b[0;32m~/anaconda3/lib/python3.12/site-packages/httpcore/_sync/http2.py:344\u001b[0m, in \u001b[0;36mSyncHTTP2Stream.receive_response\u001b[0;34m(self, timeout)\u001b[0m\n\u001b[1;32m    340\u001b[0m \u001b[38;5;250m\u001b[39m\u001b[38;5;124;03m\"\"\"\u001b[39;00m\n\u001b[1;32m    341\u001b[0m \u001b[38;5;124;03mRead the response status and headers from the network.\u001b[39;00m\n\u001b[1;32m    342\u001b[0m \u001b[38;5;124;03m\"\"\"\u001b[39;00m\n\u001b[1;32m    343\u001b[0m \u001b[38;5;28;01mwhile\u001b[39;00m \u001b[38;5;28;01mTrue\u001b[39;00m:\n\u001b[0;32m--> 344\u001b[0m     event \u001b[38;5;241m=\u001b[39m \u001b[38;5;28mself\u001b[39m\u001b[38;5;241m.\u001b[39mconnection\u001b[38;5;241m.\u001b[39mwait_for_event(\u001b[38;5;28mself\u001b[39m\u001b[38;5;241m.\u001b[39mstream_id, timeout)\n\u001b[1;32m    345\u001b[0m     \u001b[38;5;28;01mif\u001b[39;00m \u001b[38;5;28misinstance\u001b[39m(event, h2\u001b[38;5;241m.\u001b[39mevents\u001b[38;5;241m.\u001b[39mResponseReceived):\n\u001b[1;32m    346\u001b[0m         \u001b[38;5;28;01mbreak\u001b[39;00m\n",
      "File \u001b[0;32m~/anaconda3/lib/python3.12/site-packages/httpcore/_sync/http2.py:197\u001b[0m, in \u001b[0;36mSyncHTTP2Connection.wait_for_event\u001b[0;34m(self, stream_id, timeout)\u001b[0m\n\u001b[1;32m    195\u001b[0m \u001b[38;5;28;01mwith\u001b[39;00m \u001b[38;5;28mself\u001b[39m\u001b[38;5;241m.\u001b[39mread_lock:\n\u001b[1;32m    196\u001b[0m     \u001b[38;5;28;01mwhile\u001b[39;00m \u001b[38;5;129;01mnot\u001b[39;00m \u001b[38;5;28mself\u001b[39m\u001b[38;5;241m.\u001b[39mevents[stream_id]:\n\u001b[0;32m--> 197\u001b[0m         \u001b[38;5;28mself\u001b[39m\u001b[38;5;241m.\u001b[39mreceive_events(timeout)\n\u001b[1;32m    198\u001b[0m \u001b[38;5;28;01mreturn\u001b[39;00m \u001b[38;5;28mself\u001b[39m\u001b[38;5;241m.\u001b[39mevents[stream_id]\u001b[38;5;241m.\u001b[39mpop(\u001b[38;5;241m0\u001b[39m)\n",
      "File \u001b[0;32m~/anaconda3/lib/python3.12/site-packages/httpcore/_sync/http2.py:204\u001b[0m, in \u001b[0;36mSyncHTTP2Connection.receive_events\u001b[0;34m(self, timeout)\u001b[0m\n\u001b[1;32m    200\u001b[0m \u001b[38;5;28;01mdef\u001b[39;00m \u001b[38;5;21mreceive_events\u001b[39m(\u001b[38;5;28mself\u001b[39m, timeout: TimeoutDict) \u001b[38;5;241m-\u001b[39m\u001b[38;5;241m>\u001b[39m \u001b[38;5;28;01mNone\u001b[39;00m:\n\u001b[1;32m    201\u001b[0m \u001b[38;5;250m    \u001b[39m\u001b[38;5;124;03m\"\"\"\u001b[39;00m\n\u001b[1;32m    202\u001b[0m \u001b[38;5;124;03m    Read some data from the network, and update the H2 state.\u001b[39;00m\n\u001b[1;32m    203\u001b[0m \u001b[38;5;124;03m    \"\"\"\u001b[39;00m\n\u001b[0;32m--> 204\u001b[0m     data \u001b[38;5;241m=\u001b[39m \u001b[38;5;28mself\u001b[39m\u001b[38;5;241m.\u001b[39msocket\u001b[38;5;241m.\u001b[39mread(\u001b[38;5;28mself\u001b[39m\u001b[38;5;241m.\u001b[39mREAD_NUM_BYTES, timeout)\n\u001b[1;32m    205\u001b[0m     events \u001b[38;5;241m=\u001b[39m \u001b[38;5;28mself\u001b[39m\u001b[38;5;241m.\u001b[39mh2_state\u001b[38;5;241m.\u001b[39mreceive_data(data)\n\u001b[1;32m    206\u001b[0m     \u001b[38;5;28;01mfor\u001b[39;00m event \u001b[38;5;129;01min\u001b[39;00m events:\n",
      "File \u001b[0;32m~/anaconda3/lib/python3.12/site-packages/httpcore/_backends/sync.py:62\u001b[0m, in \u001b[0;36mSyncSocketStream.read\u001b[0;34m(self, n, timeout)\u001b[0m\n\u001b[1;32m     60\u001b[0m \u001b[38;5;28;01mwith\u001b[39;00m map_exceptions(exc_map):\n\u001b[1;32m     61\u001b[0m     \u001b[38;5;28mself\u001b[39m\u001b[38;5;241m.\u001b[39msock\u001b[38;5;241m.\u001b[39msettimeout(read_timeout)\n\u001b[0;32m---> 62\u001b[0m     \u001b[38;5;28;01mreturn\u001b[39;00m \u001b[38;5;28mself\u001b[39m\u001b[38;5;241m.\u001b[39msock\u001b[38;5;241m.\u001b[39mrecv(n)\n",
      "File \u001b[0;32m~/anaconda3/lib/python3.12/ssl.py:1232\u001b[0m, in \u001b[0;36mSSLSocket.recv\u001b[0;34m(self, buflen, flags)\u001b[0m\n\u001b[1;32m   1228\u001b[0m     \u001b[38;5;28;01mif\u001b[39;00m flags \u001b[38;5;241m!=\u001b[39m \u001b[38;5;241m0\u001b[39m:\n\u001b[1;32m   1229\u001b[0m         \u001b[38;5;28;01mraise\u001b[39;00m \u001b[38;5;167;01mValueError\u001b[39;00m(\n\u001b[1;32m   1230\u001b[0m             \u001b[38;5;124m\"\u001b[39m\u001b[38;5;124mnon-zero flags not allowed in calls to recv() on \u001b[39m\u001b[38;5;132;01m%s\u001b[39;00m\u001b[38;5;124m\"\u001b[39m \u001b[38;5;241m%\u001b[39m\n\u001b[1;32m   1231\u001b[0m             \u001b[38;5;28mself\u001b[39m\u001b[38;5;241m.\u001b[39m\u001b[38;5;18m__class__\u001b[39m)\n\u001b[0;32m-> 1232\u001b[0m     \u001b[38;5;28;01mreturn\u001b[39;00m \u001b[38;5;28mself\u001b[39m\u001b[38;5;241m.\u001b[39mread(buflen)\n\u001b[1;32m   1233\u001b[0m \u001b[38;5;28;01melse\u001b[39;00m:\n\u001b[1;32m   1234\u001b[0m     \u001b[38;5;28;01mreturn\u001b[39;00m \u001b[38;5;28msuper\u001b[39m()\u001b[38;5;241m.\u001b[39mrecv(buflen, flags)\n",
      "File \u001b[0;32m~/anaconda3/lib/python3.12/ssl.py:1105\u001b[0m, in \u001b[0;36mSSLSocket.read\u001b[0;34m(self, len, buffer)\u001b[0m\n\u001b[1;32m   1103\u001b[0m         \u001b[38;5;28;01mreturn\u001b[39;00m \u001b[38;5;28mself\u001b[39m\u001b[38;5;241m.\u001b[39m_sslobj\u001b[38;5;241m.\u001b[39mread(\u001b[38;5;28mlen\u001b[39m, buffer)\n\u001b[1;32m   1104\u001b[0m     \u001b[38;5;28;01melse\u001b[39;00m:\n\u001b[0;32m-> 1105\u001b[0m         \u001b[38;5;28;01mreturn\u001b[39;00m \u001b[38;5;28mself\u001b[39m\u001b[38;5;241m.\u001b[39m_sslobj\u001b[38;5;241m.\u001b[39mread(\u001b[38;5;28mlen\u001b[39m)\n\u001b[1;32m   1106\u001b[0m \u001b[38;5;28;01mexcept\u001b[39;00m SSLError \u001b[38;5;28;01mas\u001b[39;00m x:\n\u001b[1;32m   1107\u001b[0m     \u001b[38;5;28;01mif\u001b[39;00m x\u001b[38;5;241m.\u001b[39margs[\u001b[38;5;241m0\u001b[39m] \u001b[38;5;241m==\u001b[39m SSL_ERROR_EOF \u001b[38;5;129;01mand\u001b[39;00m \u001b[38;5;28mself\u001b[39m\u001b[38;5;241m.\u001b[39msuppress_ragged_eofs:\n",
      "\u001b[0;31mKeyboardInterrupt\u001b[0m: "
     ]
    }
   ],
   "source": [
    "def translate_response_column(file_path, translator):\n",
    "    try:\n",
    "        df = pd.read_csv(file_path)\n",
    "        col = df.columns\n",
    "        if \"response\" not in col and  \"trans_response\" in col:\n",
    "            df = df.rename(columns={\"trans_response\":\"response\"})\n",
    "            print(\"Column_renamed\")\n",
    "\n",
    "        if \"response\" not in df.columns:\n",
    "            print(f\"⚠️ Skipping {file_path}: No 'response' column found.\")\n",
    "            return\n",
    "\n",
    "        lang_folder = extract_language_from_path(file_path)\n",
    "        src_lang = map_language_name_to_code(lang_folder)\n",
    "\n",
    "        if not src_lang:\n",
    "            print(f\"⚠️ Skipping {file_path}: Unknown language '{lang_folder}'\")\n",
    "            return\n",
    "\n",
    "        print(f\"🔵 Processing file: {file_path} | Source language: {src_lang}\")\n",
    "\n",
    "        if \"gtrans_response\" not in df.columns:\n",
    "            df[\"gtrans_response\"] = \"\"\n",
    "\n",
    "        needs_translation = (\n",
    "            df[\"gtrans_response\"].isnull() | (df[\"gtrans_response\"].astype(str).str.strip() == \"\")\n",
    "        ) & (df[\"response\"].astype(str).str.strip() != \"\")\n",
    "\n",
    "        rows_to_translate = df[needs_translation].copy()\n",
    "\n",
    "        if not rows_to_translate.empty:\n",
    "            print(f\"🔄 Translating {len(rows_to_translate)} rows...\")\n",
    "            translated_texts = []\n",
    "\n",
    "            for response in tqdm(rows_to_translate[\"response\"], desc=\"Translating\", ncols=100):\n",
    "                translated_text = translate_sentence_safe(response, src_lang, translator)\n",
    "                translated_texts.append(translated_text if translated_text is not None else response)\n",
    "\n",
    "            df.loc[needs_translation, \"gtrans_response\"] = translated_texts\n",
    "        else:\n",
    "            print(\"✅ No rows need translation.\")\n",
    "\n",
    "        df.to_csv(file_path, index=False)\n",
    "        print(f\"✅ File saved: {file_path}\")\n",
    "\n",
    "    except Exception as e:\n",
    "        print(f\"❌ Error processing {file_path}: {e}\")\n",
    "\n",
    "def process_directory(root_dir):\n",
    "    translator = Translator()\n",
    "\n",
    "    for dirpath, _, filenames in os.walk(root_dir):\n",
    "        for filename in filenames:\n",
    "            if filename.endswith(\".csv\") and \"checkpoint\" not in filename.lower():\n",
    "                file_path = os.path.join(dirpath, filename)\n",
    "                translate_response_column(file_path, translator)\n",
    "            else:\n",
    "                if \"checkpoint\" in filename.lower():\n",
    "                    print(f\"⏩ Skipping checkpoint file: {filename}\")\n",
    "\n",
    "if __name__ == \"__main__\":\n",
    "    root_directory = \"../jailbreak_responses_final/attention_bias_ir/gemma3_12b\"\n",
    "    process_directory(root_directory)\n"
   ]
  },
  {
   "cell_type": "code",
   "execution_count": null,
   "id": "b1cab49f",
   "metadata": {},
   "outputs": [],
   "source": []
  }
 ],
 "metadata": {
  "kernelspec": {
   "display_name": "Python 3 (ipykernel)",
   "language": "python",
   "name": "python3"
  },
  "language_info": {
   "codemirror_mode": {
    "name": "ipython",
    "version": 3
   },
   "file_extension": ".py",
   "mimetype": "text/x-python",
   "name": "python",
   "nbconvert_exporter": "python",
   "pygments_lexer": "ipython3",
   "version": "3.12.7"
  }
 },
 "nbformat": 4,
 "nbformat_minor": 5
}
