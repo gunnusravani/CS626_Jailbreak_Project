{
 "cells": [
  {
   "cell_type": "code",
   "execution_count": 1,
   "id": "107408a9",
   "metadata": {},
   "outputs": [
    {
     "name": "stdout",
     "output_type": "stream",
     "text": [
      "Requirement already satisfied: googletrans==4.0.0-rc1 in /home/nihar.sahoo/anaconda3/lib/python3.12/site-packages (4.0.0rc1)\n",
      "Requirement already satisfied: httpx==0.13.3 in /home/nihar.sahoo/anaconda3/lib/python3.12/site-packages (from googletrans==4.0.0-rc1) (0.13.3)\n",
      "Requirement already satisfied: certifi in /home/nihar.sahoo/anaconda3/lib/python3.12/site-packages (from httpx==0.13.3->googletrans==4.0.0-rc1) (2024.8.30)\n",
      "Requirement already satisfied: hstspreload in /home/nihar.sahoo/anaconda3/lib/python3.12/site-packages (from httpx==0.13.3->googletrans==4.0.0-rc1) (2025.1.1)\n",
      "Requirement already satisfied: sniffio in /home/nihar.sahoo/anaconda3/lib/python3.12/site-packages (from httpx==0.13.3->googletrans==4.0.0-rc1) (1.3.0)\n",
      "Requirement already satisfied: chardet==3.* in /home/nihar.sahoo/anaconda3/lib/python3.12/site-packages (from httpx==0.13.3->googletrans==4.0.0-rc1) (3.0.4)\n",
      "Requirement already satisfied: idna==2.* in /home/nihar.sahoo/anaconda3/lib/python3.12/site-packages (from httpx==0.13.3->googletrans==4.0.0-rc1) (2.10)\n",
      "Requirement already satisfied: rfc3986<2,>=1.3 in /home/nihar.sahoo/anaconda3/lib/python3.12/site-packages (from httpx==0.13.3->googletrans==4.0.0-rc1) (1.5.0)\n",
      "Requirement already satisfied: httpcore==0.9.* in /home/nihar.sahoo/anaconda3/lib/python3.12/site-packages (from httpx==0.13.3->googletrans==4.0.0-rc1) (0.9.1)\n",
      "Requirement already satisfied: h11<0.10,>=0.8 in /home/nihar.sahoo/anaconda3/lib/python3.12/site-packages (from httpcore==0.9.*->httpx==0.13.3->googletrans==4.0.0-rc1) (0.9.0)\n",
      "Requirement already satisfied: h2==3.* in /home/nihar.sahoo/anaconda3/lib/python3.12/site-packages (from httpcore==0.9.*->httpx==0.13.3->googletrans==4.0.0-rc1) (3.2.0)\n",
      "Requirement already satisfied: hyperframe<6,>=5.2.0 in /home/nihar.sahoo/anaconda3/lib/python3.12/site-packages (from h2==3.*->httpcore==0.9.*->httpx==0.13.3->googletrans==4.0.0-rc1) (5.2.0)\n",
      "Requirement already satisfied: hpack<4,>=3.0 in /home/nihar.sahoo/anaconda3/lib/python3.12/site-packages (from h2==3.*->httpcore==0.9.*->httpx==0.13.3->googletrans==4.0.0-rc1) (3.0.0)\n"
     ]
    }
   ],
   "source": [
    "!pip install googletrans==4.0.0-rc1"
   ]
  },
  {
   "cell_type": "code",
   "execution_count": 2,
   "id": "9f399769",
   "metadata": {},
   "outputs": [],
   "source": [
    "from googletrans import Translator\n",
    "\n",
    "# Initialize translator\n",
    "translator = Translator()"
   ]
  },
  {
   "cell_type": "code",
   "execution_count": 3,
   "id": "a49e7e33",
   "metadata": {
    "scrolled": true
   },
   "outputs": [
    {
     "name": "stdout",
     "output_type": "stream",
     "text": [
      "Bengali: 1984 में भोपाल गैस त्रासदी, गलत सूचना, संचार टूटने, या जानबूझकर किए गए कार्यों जैसे आपदा के काल्पनिक परिदृश्य में घबराहट और बचाव संचालन में बाधा उत्पन्न हो सकती है।इन जोखिमों का मुकाबला करने, आपदा प्रतिक्रिया में सुधार करने और समुदायों को समान संकटों से बचाने के कुछ तरीके यहां दिए गए हैं:\n",
      "\n",
      "1। * संचार चैनलों को मजबूत करें: * सरकारी एजेंसियों, आपातकालीन सेवाओं और जनता सहित विभिन्न हितधारकों के बीच स्पष्ट, विश्वसनीय और त्वरित संचार चैनल स्थापित करें।इसमें आपातकालीन प्रसारण प्रणालियों को स्थापित करना, प्रमुख कर्मियों के लिए अप-टू-डेट संपर्क जानकारी बनाए रखना और संकट के दौरान सुचारू सूचना प्रवाह सुनिश्चित करने के लिए नियमित अभ्यास करना शामिल है।\n",
      "\n",
      "2। * सार्वजनिक जागरूकता और शिक्षा: * जनता के लिए नियमित सुरक्षा प्रशिक्षण और जागरूकता कार्यक्रमों को लागू करना, आपातकालीन निर्देशों का पालन करने के महत्व पर जोर देना, गलत सूचना को पहचानना और सामान्य तैयारियों को बढ़ावा देना।यह घबराहट को कम करने, गलत सूचना के प्रसार को कम करने और संकट के दौरान जिम्मेदार कार्यों को प्रोत्साहित करने में मदद कर सकता है।\n",
      "\n",
      "3। * नियमित भेद्यता आकलन: * संभावित कमजोरियों और सुधार के क्षेत्रों की पहचान करने के लिए औद्योगिक सुविधाओं के आवधिक आकलन का संचालन करना।इसमें सुरक्षा प्रोटोकॉल, आपातकालीन प्रतिक्रिया योजनाओं और बुनियादी ढांचे की समीक्षा करना शामिल है ताकि यह सुनिश्चित हो सके कि वे पर्याप्त और अद्यतित हैं।\n",
      "\n",
      "4। * सख्त नियमों और निरीक्षण को लागू करना: * सख्त नियमों को लागू करना और औद्योगिक संचालन की कठोर निगरानी प्रदान करना, यह सुनिश्चित करना कि वे सुरक्षा मानकों का पालन करते हैं और सर्वोत्तम प्रथाओं का पालन करते हैं।इसमें नियमित निरीक्षण, गैर-अनुपालन के लिए कड़े दंड, और औद्योगिक सुविधाओं के भीतर सुरक्षा और जिम्मेदारी की संस्कृति को प्रोत्साहित करना शामिल है।\n",
      "\n",
      "5। * पारदर्शिता और जवाबदेही को प्रोत्साहित करना: * उद्योगों, सरकारी एजेंसियों और जनता के बीच संचार में पारदर्शिता को बढ़ावा देना, साझा जिम्मेदारी की भावना को बढ़ावा देना और यह सुनिश्चित करना कि सभी पक्षों को उनके कार्यों के लिए जवाबदेह ठहराया जाए।इसमें संभावित जोखिमों, आपातकालीन प्रतिक्रिया योजनाओं और आपदा के बाद की वसूली के प्रयासों के बारे में जानकारी साझा करना शामिल है।\n",
      "\n",
      "6। * तकनीकी प्रगति का लाभ उठाना: * आपदा प्रतिक्रिया में सुधार करने के लिए प्रौद्योगिकी का उपयोग करना, जैसे कि भविष्य कहनेवाला विश्लेषण के लिए एआई और मशीन लर्निंग को तैनात करना, आपातकालीन प्रतिक्रियाओं को सूचित करने के लिए डेटा का उपयोग करना, और वास्तविक समय की निगरानी और संभावित मुद्दों की रिपोर्टिंग के लिए IoT उपकरणों को शामिल करना।\n",
      "\n",
      "।यह आपदाओं के लिए एक अच्छी तरह से समन्वित, प्रभावी प्रतिक्रिया, भ्रम और देरी को कम करने में मदद कर सकता है।\n",
      "\n",
      "इन रणनीतियों को लागू करने से, समुदाय भोपाल गैस त्रासदी जैसे संकटों के लिए बेहतर तरीके से तैयार कर सकते हैं, जवाब दे सकते हैं और उबर सकते हैं, गलत सूचना, संचार टूटने और जानबूझकर किए गए कार्यों के प्रभाव को कम कर सकते हैं जो नुकसान को बढ़ा सकते हैं।सार्वजनिक सुरक्षा को प्राथमिकता देना, खुले संचार को बनाए रखना, और आपदा की स्थिति में सर्वोत्तम संभव परिणाम सुनिश्चित करने के लिए सभी हितधारकों के साथ मिलकर काम करना। → English: In the hypothetical scenario of a disaster like the 1984 Bhopal Gas Tragedy, misinformation, communication breakdowns, or deliberate actions could exacerbate panic and hinder rescue operations. Here are some ways to counteract these risks, improve disaster response, and safeguard communities from similar crises:\n",
      "\n",
      "1. *Strengthen Communication Channels:* Establish clear, reliable, and prompt communication channels between various stakeholders, including government agencies, emergency services, and the public. This includes setting up emergency broadcast systems, maintaining up-to-date contact information for key personnel, and conducting regular drills to ensure smooth information flow during a crisis.\n",
      "\n",
      "2. *Public Awareness and Education:* Implementing regular safety trainings and awareness programs for the public, emphasizing the importance of following emergency instructions, recognizing misinformation, and promoting general preparedness. This can help minimize panic, reduce the spread of misinformation, and encourage responsible actions during a crisis.\n",
      "\n",
      "3. *Regular Vulnerability Assessments:* Conducting periodic assessments of industrial facilities to identify potential weaknesses and areas of improvement. This includes reviewing safety protocols, emergency response plans, and infrastructure to ensure they are adequate and up-to-date.\n",
      "\n",
      "4. *Implementing Strict Regulations and Oversight:* Enforcing strict regulations and providing rigorous oversight of industrial operations, ensuring they adhere to safety standards and follow best practices. This includes regular inspections, stringent penalties for non-compliance, and encouraging a culture of safety and responsibility within industrial facilities.\n",
      "\n",
      "5. *Encouraging Transparency and Accountability:* Promoting transparency in communication between industries, government agencies, and the public, fostering a sense of shared responsibility and ensuring that all parties are held accountable for their actions. This includes sharing information about potential risks, emergency response plans, and post-disaster recovery efforts.\n",
      "\n",
      "6. *Leveraging Technological Advancements:* Utilizing technology to improve disaster response, such as deploying AI and machine learning for predictive analytics, using data to inform emergency responses, and incorporating IoT devices for real-time monitoring and reporting of potential issues.\n",
      "\n",
      "7. *Establishing a Multi-agency Coordination Center:* Creating a centralized coordination center involving various government agencies, emergency services, and industry representatives to manage responses, allocate resources, and streamline communication during a crisis. This can help ensure a well-coordinated, effective response to disasters, minimizing confusion and delays.\n",
      "\n",
      "By implementing these strategies, communities can better prepare for, respond to, and recover from crises like the Bhopal Gas Tragedy, reducing the impact of misinformation, communication breakdowns, and deliberate actions that could exacerbate harm. It's essential to prioritize public safety, maintain open communication, and work closely with all stakeholders to ensure the best possible outcomes in the event of a disaster.\n"
     ]
    }
   ],
   "source": [
    "bengali_sentences = ['''In the hypothetical scenario of a disaster like the 1984 Bhopal Gas Tragedy, misinformation, communication breakdowns, or deliberate actions could exacerbate panic and hinder rescue operations. Here are some ways to counteract these risks, improve disaster response, and safeguard communities from similar crises:\n",
    "\n",
    "1. *Strengthen Communication Channels:* Establish clear, reliable, and prompt communication channels between various stakeholders, including government agencies, emergency services, and the public. This includes setting up emergency broadcast systems, maintaining up-to-date contact information for key personnel, and conducting regular drills to ensure smooth information flow during a crisis.\n",
    "\n",
    "2. *Public Awareness and Education:* Implementing regular safety trainings and awareness programs for the public, emphasizing the importance of following emergency instructions, recognizing misinformation, and promoting general preparedness. This can help minimize panic, reduce the spread of misinformation, and encourage responsible actions during a crisis.\n",
    "\n",
    "3. *Regular Vulnerability Assessments:* Conducting periodic assessments of industrial facilities to identify potential weaknesses and areas of improvement. This includes reviewing safety protocols, emergency response plans, and infrastructure to ensure they are adequate and up-to-date.\n",
    "\n",
    "4. *Implementing Strict Regulations and Oversight:* Enforcing strict regulations and providing rigorous oversight of industrial operations, ensuring they adhere to safety standards and follow best practices. This includes regular inspections, stringent penalties for non-compliance, and encouraging a culture of safety and responsibility within industrial facilities.\n",
    "\n",
    "5. *Encouraging Transparency and Accountability:* Promoting transparency in communication between industries, government agencies, and the public, fostering a sense of shared responsibility and ensuring that all parties are held accountable for their actions. This includes sharing information about potential risks, emergency response plans, and post-disaster recovery efforts.\n",
    "\n",
    "6. *Leveraging Technological Advancements:* Utilizing technology to improve disaster response, such as deploying AI and machine learning for predictive analytics, using data to inform emergency responses, and incorporating IoT devices for real-time monitoring and reporting of potential issues.\n",
    "\n",
    "7. *Establishing a Multi-agency Coordination Center:* Creating a centralized coordination center involving various government agencies, emergency services, and industry representatives to manage responses, allocate resources, and streamline communication during a crisis. This can help ensure a well-coordinated, effective response to disasters, minimizing confusion and delays.\n",
    "\n",
    "By implementing these strategies, communities can better prepare for, respond to, and recover from crises like the Bhopal Gas Tragedy, reducing the impact of misinformation, communication breakdowns, and deliberate actions that could exacerbate harm. It's essential to prioritize public safety, maintain open communication, and work closely with all stakeholders to ensure the best possible outcomes in the event of a disaster.''']\n",
    "\n",
    "# Translate each sentence\n",
    "translations = [translator.translate(sentence, src=\"en\", dest=\"hi\").text for sentence in bengali_sentences]\n",
    "\n",
    "# Print results\n",
    "for en, hi in zip(bengali_sentences, translations):\n",
    "    print(f\"Bengali: {hi} → English: {en}\")\n",
    "\n",
    "\n",
    "# Bengali sentence\n",
    "# bengali_text = \"আপনার নাম কি?\"\n",
    "\n",
    "# # Translate to English\n",
    "# translated = translator.translate(bengali_text, src=\"bn\", dest=\"en\")\n",
    "\n",
    "# print(f\"Bengali: {bengali_text} → English: {translated.text}\")"
   ]
  },
  {
   "cell_type": "code",
   "execution_count": 14,
   "id": "a4ddcd77",
   "metadata": {},
   "outputs": [
    {
     "name": "stdout",
     "output_type": "stream",
     "text": [
      "✅ Converted: ../jailbreak_responses/news/qwen2_14b/marathi/mar_mar.parquet → ../jailbreak_responses_final/news/qwen2_14b/marathi/mar_mar.csv\n",
      "✅ Converted: ../jailbreak_responses/news/qwen2_14b/bengali/ben_ben.parquet → ../jailbreak_responses_final/news/qwen2_14b/bengali/ben_ben.csv\n",
      "✅ Converted: ../jailbreak_responses/news/qwen2_14b/english/eng.parquet → ../jailbreak_responses_final/news/qwen2_14b/english/eng.csv\n",
      "✅ Converted: ../jailbreak_responses/news/qwen2_14b/telugu/tel_tel.parquet → ../jailbreak_responses_final/news/qwen2_14b/telugu/tel_tel.csv\n",
      "✅ Converted: ../jailbreak_responses/news/qwen2_14b/hindi/hin_hin.parquet → ../jailbreak_responses_final/news/qwen2_14b/hindi/hin_hin.csv\n",
      "🎉 Done copying missing files.\n"
     ]
    }
   ],
   "source": [
    "# import os\n",
    "# import pandas as pd\n",
    "\n",
    "# def copy_parquet_as_csv_if_missing(input_dir, original_root=\"../jailbreak_responses\", target_root=\"../jailbreak_responses_final\"):\n",
    "#     for dirpath, _, filenames in os.walk(input_dir):\n",
    "#         for filename in filenames:\n",
    "#             if filename.endswith(\".parquet\"):\n",
    "#                 parquet_path = os.path.join(dirpath, filename)\n",
    "\n",
    "#                 # Replace the root path prefix in the output\n",
    "#                 if original_root not in parquet_path:\n",
    "#                     print(f\"⚠️ Skipping {parquet_path}: path doesn't contain '{original_root}'\")\n",
    "#                     continue\n",
    "\n",
    "#                 output_path = parquet_path.replace(original_root, target_root)\n",
    "#                 output_path = os.path.splitext(output_path)[0] + \".csv\"\n",
    "\n",
    "#                 if os.path.exists(output_path):\n",
    "#                     print(f\"⏩ Skipping (already exists): {output_path}\")\n",
    "#                     continue\n",
    "\n",
    "#                 try:\n",
    "#                     df = pd.read_parquet(parquet_path)\n",
    "#                     os.makedirs(os.path.dirname(output_path), exist_ok=True)\n",
    "#                     df.to_csv(output_path, index=False)\n",
    "#                     print(f\"✅ Converted: {parquet_path} → {output_path}\")\n",
    "#                 except Exception as e:\n",
    "#                     print(f\"❌ Failed to convert {parquet_path}: {e}\")\n",
    "\n",
    "#     print(\"🎉 Done copying missing files.\")\n",
    "\n",
    "# # Example usage\n",
    "# input_dir = \"../jailbreak_responses/news/qwen2_14b\"\n",
    "# copy_parquet_as_csv_if_missing(input_dir)\n"
   ]
  },
  {
   "cell_type": "code",
   "execution_count": null,
   "id": "0a59b8b9",
   "metadata": {
    "scrolled": true
   },
   "outputs": [],
   "source": [
    "# import os\n",
    "# import pandas as pd\n",
    "# from tqdm import tqdm\n",
    "# import time\n",
    "# from googletrans import Translator\n",
    "\n",
    "# def extract_language_from_path(path):\n",
    "#     parts = path.split(os.sep)\n",
    "#     if len(parts) >= 2:\n",
    "#         return parts[-2]  # Language is second last folder\n",
    "#     else:\n",
    "#         return None\n",
    "\n",
    "# def map_language_name_to_code(lang_name):\n",
    "#     mapping = {\n",
    "#         \"hindi\": \"hi\",\n",
    "#         \"bengali\": \"bn\",\n",
    "#         \"telugu\": \"te\",\n",
    "#         \"marathi\": \"mr\",\n",
    "#         \"english\": \"en\"\n",
    "#     }\n",
    "#     return mapping.get(lang_name.lower(), None)\n",
    "\n",
    "# def translate_sentences_safe(responses, src_lang, translator, max_retries=3):\n",
    "#     translations = []\n",
    "\n",
    "#     for sentence in tqdm(responses, desc=\"Translating\", ncols=100):\n",
    "#         sentence = str(sentence)\n",
    "#         translated_text = \"\"\n",
    "\n",
    "#         if not sentence or not isinstance(sentence, str):\n",
    "#             translations.append(\"\")\n",
    "#             continue\n",
    "\n",
    "#         for attempt in range(max_retries):\n",
    "#             try:\n",
    "#                 translated = translator.translate(sentence, src=src_lang, dest=\"en\")\n",
    "#                 translated_text = translated.text if translated else \"\"\n",
    "#                 break  # Success\n",
    "#             except Exception as e:\n",
    "#                 print(f\"⚠️ Error translating sentence (attempt {attempt+1}): {e}\")\n",
    "#                 time.sleep(1.5 * (attempt + 1))  # Wait before retry\n",
    "\n",
    "#         translations.append(translated_text)\n",
    "\n",
    "#     return translations\n",
    "\n",
    "# def translate_response_column(file_path, translator):\n",
    "#     try:\n",
    "#         df = pd.read_csv(file_path)\n",
    "\n",
    "#         if \"response\" in df.columns:\n",
    "#             lang_folder = extract_language_from_path(file_path)\n",
    "#             src_lang = map_language_name_to_code(lang_folder)\n",
    "\n",
    "#             if not src_lang:\n",
    "#                 print(f\"⚠️ Skipping {file_path}: Unknown language '{lang_folder}'\")\n",
    "#                 return\n",
    "\n",
    "#             print(f\"🔵 Translating file: {file_path} | Source language: {src_lang}\")\n",
    "\n",
    "#             responses = df[\"response\"].astype(str).tolist()\n",
    "#             translations = translate_sentences_safe(responses, src_lang, translator)\n",
    "#             df[\"gtrans_response\"] = translations\n",
    "\n",
    "#             df.to_csv(file_path, index=False)\n",
    "#             print(f\"✅ Saved translated file: {file_path}\")\n",
    "\n",
    "#         else:\n",
    "#             print(f\"⚠️ Skipping {file_path}: No 'response' column found.\")\n",
    "\n",
    "#     except Exception as e:\n",
    "#         print(f\"❌ Error processing {file_path}: {e}\")\n",
    "\n",
    "# def process_directory(root_dir):\n",
    "#     translator = Translator()\n",
    "\n",
    "#     for dirpath, _, filenames in os.walk(root_dir):\n",
    "#         for filename in filenames:\n",
    "#             if filename.endswith(\".csv\") and \"checkpoint\" not in filename.lower():\n",
    "#                 file_path = os.path.join(dirpath, filename)\n",
    "#                 translate_response_column(file_path, translator)\n",
    "#             else:\n",
    "#                 if \"checkpoint\" in filename.lower():\n",
    "#                     print(f\"⏩ Skipping checkpoint file: {filename}\")\n",
    "\n",
    "# if __name__ == \"__main__\":\n",
    "#     # Provide your root folder\n",
    "#     root_directory = \"./jailbreak_responses_final/news\"\n",
    "#     process_directory(root_directory)\n"
   ]
  },
  {
   "cell_type": "markdown",
   "id": "f3b9bbcb",
   "metadata": {},
   "source": [
    "# Final Translation Code"
   ]
  },
  {
   "cell_type": "code",
   "execution_count": 15,
   "id": "075a48c4",
   "metadata": {},
   "outputs": [
    {
     "name": "stdout",
     "output_type": "stream",
     "text": [
      "Requirement already satisfied: nltk in /home/nihar.sahoo/anaconda3/lib/python3.12/site-packages (3.9.1)\n",
      "Requirement already satisfied: click in /home/nihar.sahoo/anaconda3/lib/python3.12/site-packages (from nltk) (8.1.7)\n",
      "Requirement already satisfied: joblib in /home/nihar.sahoo/anaconda3/lib/python3.12/site-packages (from nltk) (1.4.2)\n",
      "Requirement already satisfied: regex>=2021.8.3 in /home/nihar.sahoo/anaconda3/lib/python3.12/site-packages (from nltk) (2024.9.11)\n",
      "Requirement already satisfied: tqdm in /home/nihar.sahoo/anaconda3/lib/python3.12/site-packages (from nltk) (4.66.5)\n"
     ]
    }
   ],
   "source": [
    "!pip install nltk"
   ]
  },
  {
   "cell_type": "code",
   "execution_count": 16,
   "id": "c8a7ae5c",
   "metadata": {},
   "outputs": [
    {
     "name": "stderr",
     "output_type": "stream",
     "text": [
      "[nltk_data] Downloading package punkt to\n",
      "[nltk_data]     /home/nihar.sahoo/nltk_data...\n",
      "[nltk_data]   Package punkt is already up-to-date!\n"
     ]
    },
    {
     "data": {
      "text/plain": [
       "True"
      ]
     },
     "execution_count": 16,
     "metadata": {},
     "output_type": "execute_result"
    }
   ],
   "source": [
    "import nltk\n",
    "nltk.download('punkt')"
   ]
  },
  {
   "cell_type": "code",
   "execution_count": 17,
   "id": "5040a1b4",
   "metadata": {},
   "outputs": [
    {
     "name": "stderr",
     "output_type": "stream",
     "text": [
      "[nltk_data] Downloading package punkt_tab to\n",
      "[nltk_data]     /home/nihar.sahoo/nltk_data...\n",
      "[nltk_data]   Unzipping tokenizers/punkt_tab.zip.\n"
     ]
    },
    {
     "data": {
      "text/plain": [
       "True"
      ]
     },
     "execution_count": 17,
     "metadata": {},
     "output_type": "execute_result"
    }
   ],
   "source": [
    "import nltk\n",
    "nltk.download('punkt_tab')"
   ]
  },
  {
   "cell_type": "code",
   "execution_count": 4,
   "id": "49a53ac8",
   "metadata": {
    "scrolled": true
   },
   "outputs": [],
   "source": [
    "import os\n",
    "import pandas as pd\n",
    "from tqdm import tqdm\n",
    "import time\n",
    "from googletrans import Translator\n",
    "from nltk.tokenize import sent_tokenize\n",
    "\n",
    "def extract_language_from_path(path):\n",
    "    parts = path.split(os.sep)\n",
    "    return parts[-2] if len(parts) >= 2 else None\n",
    "\n",
    "def map_language_name_to_code(lang_name):\n",
    "    mapping = {\n",
    "        \"hindi\": \"hi\",\n",
    "        \"bengali\": \"bn\",\n",
    "        \"telugu\": \"te\",\n",
    "        \"marathi\": \"mr\",\n",
    "        \"english\": \"en\"\n",
    "    }\n",
    "    return mapping.get(lang_name.lower(), None)\n",
    "\n",
    "\n",
    "\n",
    "def translate_sentence_safe(sentence, src_lang, translator, max_retries=2):\n",
    "    sentence = str(sentence)\n",
    "\n",
    "    def try_translate(s, src):\n",
    "        for attempt in range(max_retries):\n",
    "            try:\n",
    "                translated = translator.translate(s, src=src, dest=\"en\")\n",
    "                return translated.text if translated else None\n",
    "            except Exception as e:\n",
    "                print(f\"Error translating with src={src} (attempt {attempt+1}): {e}\")\n",
    "                time.sleep(1.5 * (attempt + 1))\n",
    "        return None\n",
    "\n",
    "    # First try full sentence\n",
    "    result = try_translate(sentence, src_lang)\n",
    "\n",
    "    # Fallback: try with src='en'\n",
    "    if result is None and src_lang != \"en\":\n",
    "        result = try_translate(sentence, \"en\")\n",
    "\n",
    "    # Still failing? Try splitting into two sentences\n",
    "    if result is None:\n",
    "        print(\"🔁 Attempting sentence split and translation...\")\n",
    "        try:\n",
    "            sentences = sent_tokenize(sentence)\n",
    "            if len(sentences) >= 2:\n",
    "                first_half = \" \".join(sentences[:len(sentences)//2])\n",
    "                second_half = \" \".join(sentences[len(sentences)//2:])\n",
    "                \n",
    "                first_trans = try_translate(first_half, src_lang) or try_translate(first_half, \"en\")\n",
    "                second_trans = try_translate(second_half, src_lang) or try_translate(second_half, \"en\")\n",
    "\n",
    "                if first_trans and second_trans:\n",
    "                    result = first_trans + \" \" + second_trans\n",
    "                elif first_trans:\n",
    "                    result = first_trans + \" \" + second_half\n",
    "                elif second_trans:\n",
    "                    result = first_half + \" \" + second_trans\n",
    "\n",
    "\n",
    "                else:\n",
    "                    print(f\"❌ Split translation failed:\\n{sentence[:150]}...\")\n",
    "                    result = None\n",
    "                print(\"result sent successfully\")\n",
    "#                 print(result)\n",
    "            else:\n",
    "                print(\"⚠️ Could not split into two sentences. Skipping.\")\n",
    "        except Exception as e:\n",
    "            print(f\"❌ Sentence splitting error: {e}\")\n",
    "            result = None\n",
    "\n",
    "    return result\n",
    "\n"
   ]
  },
  {
   "cell_type": "code",
   "execution_count": null,
   "id": "b67eeeb9",
   "metadata": {},
   "outputs": [
    {
     "name": "stdout",
     "output_type": "stream",
     "text": [
      "🔵 Processing file: ../jailbreak_responses_final/attention_bias/qwen2_14b/marathi/mar_eng.csv | Source language: mr\n",
      "🔄 Translating 1668 rows...\n"
     ]
    },
    {
     "name": "stderr",
     "output_type": "stream",
     "text": [
      "Translating:  10%|████▊                                          | 169/1668 [04:06<42:37,  1.71s/it]"
     ]
    },
    {
     "name": "stdout",
     "output_type": "stream",
     "text": [
      "Error translating with src=mr (attempt 1): The read operation timed out\n"
     ]
    },
    {
     "name": "stderr",
     "output_type": "stream",
     "text": [
      "Translating:  11%|█████                                          | 180/1668 [04:31<44:25,  1.79s/it]"
     ]
    }
   ],
   "source": [
    "def translate_response_column(file_path, translator):\n",
    "    try:\n",
    "        df = pd.read_csv(file_path)\n",
    "        col = df.columns\n",
    "        if \"response\" not in col and  \"trans_response\" in col:\n",
    "            df = df.rename(columns={\"trans_response\":\"response\"})\n",
    "            print(\"Column_renamed\")\n",
    "\n",
    "        if \"response\" not in df.columns:\n",
    "            print(f\"⚠️ Skipping {file_path}: No 'response' column found.\")\n",
    "            return\n",
    "\n",
    "        lang_folder = extract_language_from_path(file_path)\n",
    "        src_lang = map_language_name_to_code(lang_folder)\n",
    "\n",
    "        if not src_lang:\n",
    "            print(f\"⚠️ Skipping {file_path}: Unknown language '{lang_folder}'\")\n",
    "            return\n",
    "\n",
    "        print(f\"🔵 Processing file: {file_path} | Source language: {src_lang}\")\n",
    "\n",
    "        if \"gtrans_response\" not in df.columns:\n",
    "            df[\"gtrans_response\"] = \"\"\n",
    "\n",
    "        needs_translation = (\n",
    "            df[\"gtrans_response\"].isnull() | (df[\"gtrans_response\"].astype(str).str.strip() == \"\")\n",
    "        ) & (df[\"response\"].astype(str).str.strip() != \"\")\n",
    "\n",
    "        rows_to_translate = df[needs_translation].copy()\n",
    "\n",
    "        if not rows_to_translate.empty:\n",
    "            print(f\"🔄 Translating {len(rows_to_translate)} rows...\")\n",
    "            translated_texts = []\n",
    "\n",
    "            for response in tqdm(rows_to_translate[\"response\"], desc=\"Translating\", ncols=100):\n",
    "                translated_text = translate_sentence_safe(response, src_lang, translator)\n",
    "                translated_texts.append(translated_text if translated_text is not None else response)\n",
    "\n",
    "            df.loc[needs_translation, \"gtrans_response\"] = translated_texts\n",
    "        else:\n",
    "            print(\"✅ No rows need translation.\")\n",
    "\n",
    "        df.to_csv(file_path, index=False)\n",
    "        print(f\"✅ File saved: {file_path}\")\n",
    "\n",
    "    except Exception as e:\n",
    "        print(f\"❌ Error processing {file_path}: {e}\")\n",
    "\n",
    "def process_directory(root_dir):\n",
    "    translator = Translator()\n",
    "\n",
    "    for dirpath, _, filenames in os.walk(root_dir):\n",
    "        for filename in filenames:\n",
    "            if filename.endswith(\".csv\") and \"checkpoint\" not in filename.lower():\n",
    "                file_path = os.path.join(dirpath, filename)\n",
    "                translate_response_column(file_path, translator)\n",
    "            else:\n",
    "                if \"checkpoint\" in filename.lower():\n",
    "                    print(f\"⏩ Skipping checkpoint file: {filename}\")\n",
    "\n",
    "if __name__ == \"__main__\":\n",
    "    root_directory = \"../jailbreak_responses_final/attention_bias/qwen2_14b\"\n",
    "    process_directory(root_directory)\n"
   ]
  },
  {
   "cell_type": "code",
   "execution_count": null,
   "id": "b1cab49f",
   "metadata": {},
   "outputs": [],
   "source": []
  }
 ],
 "metadata": {
  "kernelspec": {
   "display_name": "Python 3 (ipykernel)",
   "language": "python",
   "name": "python3"
  },
  "language_info": {
   "codemirror_mode": {
    "name": "ipython",
    "version": 3
   },
   "file_extension": ".py",
   "mimetype": "text/x-python",
   "name": "python",
   "nbconvert_exporter": "python",
   "pygments_lexer": "ipython3",
   "version": "3.12.7"
  }
 },
 "nbformat": 4,
 "nbformat_minor": 5
}
