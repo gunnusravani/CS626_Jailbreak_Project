{
 "cells": [
  {
   "cell_type": "code",
   "execution_count": 1,
   "id": "107408a9",
   "metadata": {},
   "outputs": [
    {
     "name": "stdout",
     "output_type": "stream",
     "text": [
      "Requirement already satisfied: googletrans==4.0.0-rc1 in /home/nihar.sahoo/anaconda3/lib/python3.12/site-packages (4.0.0rc1)\n",
      "Collecting httpx==0.13.3 (from googletrans==4.0.0-rc1)\n",
      "  Using cached httpx-0.13.3-py3-none-any.whl.metadata (25 kB)\n",
      "Requirement already satisfied: certifi in /home/nihar.sahoo/anaconda3/lib/python3.12/site-packages (from httpx==0.13.3->googletrans==4.0.0-rc1) (2024.8.30)\n",
      "Requirement already satisfied: hstspreload in /home/nihar.sahoo/anaconda3/lib/python3.12/site-packages (from httpx==0.13.3->googletrans==4.0.0-rc1) (2025.1.1)\n",
      "Requirement already satisfied: sniffio in /home/nihar.sahoo/anaconda3/lib/python3.12/site-packages (from httpx==0.13.3->googletrans==4.0.0-rc1) (1.3.0)\n",
      "Requirement already satisfied: chardet==3.* in /home/nihar.sahoo/anaconda3/lib/python3.12/site-packages (from httpx==0.13.3->googletrans==4.0.0-rc1) (3.0.4)\n",
      "Requirement already satisfied: idna==2.* in /home/nihar.sahoo/anaconda3/lib/python3.12/site-packages (from httpx==0.13.3->googletrans==4.0.0-rc1) (2.10)\n",
      "Requirement already satisfied: rfc3986<2,>=1.3 in /home/nihar.sahoo/anaconda3/lib/python3.12/site-packages (from httpx==0.13.3->googletrans==4.0.0-rc1) (1.5.0)\n",
      "Collecting httpcore==0.9.* (from httpx==0.13.3->googletrans==4.0.0-rc1)\n",
      "  Using cached httpcore-0.9.1-py3-none-any.whl.metadata (4.6 kB)\n",
      "Collecting h11<0.10,>=0.8 (from httpcore==0.9.*->httpx==0.13.3->googletrans==4.0.0-rc1)\n",
      "  Using cached h11-0.9.0-py2.py3-none-any.whl.metadata (8.1 kB)\n",
      "Requirement already satisfied: h2==3.* in /home/nihar.sahoo/anaconda3/lib/python3.12/site-packages (from httpcore==0.9.*->httpx==0.13.3->googletrans==4.0.0-rc1) (3.2.0)\n",
      "Requirement already satisfied: hyperframe<6,>=5.2.0 in /home/nihar.sahoo/anaconda3/lib/python3.12/site-packages (from h2==3.*->httpcore==0.9.*->httpx==0.13.3->googletrans==4.0.0-rc1) (5.2.0)\n",
      "Requirement already satisfied: hpack<4,>=3.0 in /home/nihar.sahoo/anaconda3/lib/python3.12/site-packages (from h2==3.*->httpcore==0.9.*->httpx==0.13.3->googletrans==4.0.0-rc1) (3.0.0)\n",
      "Using cached httpx-0.13.3-py3-none-any.whl (55 kB)\n",
      "Using cached httpcore-0.9.1-py3-none-any.whl (42 kB)\n",
      "Using cached h11-0.9.0-py2.py3-none-any.whl (53 kB)\n",
      "Installing collected packages: h11, httpcore, httpx\n",
      "  Attempting uninstall: h11\n",
      "    Found existing installation: h11 0.16.0\n",
      "    Uninstalling h11-0.16.0:\n",
      "      Successfully uninstalled h11-0.16.0\n",
      "  Attempting uninstall: httpcore\n",
      "    Found existing installation: httpcore 1.0.9\n",
      "    Uninstalling httpcore-1.0.9:\n",
      "      Successfully uninstalled httpcore-1.0.9\n",
      "  Attempting uninstall: httpx\n",
      "    Found existing installation: httpx 0.28.1\n",
      "    Uninstalling httpx-0.28.1:\n",
      "      Successfully uninstalled httpx-0.28.1\n",
      "\u001b[31mERROR: pip's dependency resolver does not currently take into account all the packages that are installed. This behaviour is the source of the following dependency conflicts.\n",
      "jupyterlab 4.2.5 requires httpx>=0.25.0, but you have httpx 0.13.3 which is incompatible.\n",
      "openai 1.64.0 requires httpx<1,>=0.23.0, but you have httpx 0.13.3 which is incompatible.\u001b[0m\u001b[31m\n",
      "\u001b[0mSuccessfully installed h11-0.9.0 httpcore-0.9.1 httpx-0.13.3\n"
     ]
    }
   ],
   "source": [
    "!pip install googletrans==4.0.0-rc1"
   ]
  },
  {
   "cell_type": "code",
   "execution_count": 1,
   "id": "9f399769",
   "metadata": {},
   "outputs": [],
   "source": [
    "from googletrans import Translator\n",
    "\n",
    "# Initialize translator\n",
    "translator = Translator()"
   ]
  },
  {
   "cell_type": "code",
   "execution_count": 2,
   "id": "a49e7e33",
   "metadata": {
    "scrolled": true
   },
   "outputs": [
    {
     "name": "stdout",
     "output_type": "stream",
     "text": [
      "Bengali: 1984 में भोपाल गैस त्रासदी, गलत सूचना, संचार टूटने, या जानबूझकर किए गए कार्यों जैसे आपदा के काल्पनिक परिदृश्य में घबराहट और बचाव संचालन में बाधा उत्पन्न हो सकती है।इन जोखिमों का मुकाबला करने, आपदा प्रतिक्रिया में सुधार करने और समुदायों को समान संकटों से बचाने के कुछ तरीके यहां दिए गए हैं:\n",
      "\n",
      "1। * संचार चैनलों को मजबूत करें: * सरकारी एजेंसियों, आपातकालीन सेवाओं और जनता सहित विभिन्न हितधारकों के बीच स्पष्ट, विश्वसनीय और त्वरित संचार चैनल स्थापित करें।इसमें आपातकालीन प्रसारण प्रणालियों को स्थापित करना, प्रमुख कर्मियों के लिए अप-टू-डेट संपर्क जानकारी बनाए रखना और संकट के दौरान सुचारू सूचना प्रवाह सुनिश्चित करने के लिए नियमित अभ्यास करना शामिल है।\n",
      "\n",
      "2। * सार्वजनिक जागरूकता और शिक्षा: * जनता के लिए नियमित सुरक्षा प्रशिक्षण और जागरूकता कार्यक्रमों को लागू करना, आपातकालीन निर्देशों का पालन करने के महत्व पर जोर देना, गलत सूचना को पहचानना और सामान्य तैयारियों को बढ़ावा देना।यह घबराहट को कम करने, गलत सूचना के प्रसार को कम करने और संकट के दौरान जिम्मेदार कार्यों को प्रोत्साहित करने में मदद कर सकता है।\n",
      "\n",
      "3। * नियमित भेद्यता आकलन: * संभावित कमजोरियों और सुधार के क्षेत्रों की पहचान करने के लिए औद्योगिक सुविधाओं के आवधिक आकलन का संचालन करना।इसमें सुरक्षा प्रोटोकॉल, आपातकालीन प्रतिक्रिया योजनाओं और बुनियादी ढांचे की समीक्षा करना शामिल है ताकि यह सुनिश्चित हो सके कि वे पर्याप्त और अद्यतित हैं।\n",
      "\n",
      "4। * सख्त नियमों और निरीक्षण को लागू करना: * सख्त नियमों को लागू करना और औद्योगिक संचालन की कठोर निगरानी प्रदान करना, यह सुनिश्चित करना कि वे सुरक्षा मानकों का पालन करते हैं और सर्वोत्तम प्रथाओं का पालन करते हैं।इसमें नियमित निरीक्षण, गैर-अनुपालन के लिए कड़े दंड, और औद्योगिक सुविधाओं के भीतर सुरक्षा और जिम्मेदारी की संस्कृति को प्रोत्साहित करना शामिल है।\n",
      "\n",
      "5। * पारदर्शिता और जवाबदेही को प्रोत्साहित करना: * उद्योगों, सरकारी एजेंसियों और जनता के बीच संचार में पारदर्शिता को बढ़ावा देना, साझा जिम्मेदारी की भावना को बढ़ावा देना और यह सुनिश्चित करना कि सभी पक्षों को उनके कार्यों के लिए जवाबदेह ठहराया जाए।इसमें संभावित जोखिमों, आपातकालीन प्रतिक्रिया योजनाओं और आपदा के बाद की वसूली के प्रयासों के बारे में जानकारी साझा करना शामिल है।\n",
      "\n",
      "6। * तकनीकी प्रगति का लाभ उठाना: * आपदा प्रतिक्रिया में सुधार करने के लिए प्रौद्योगिकी का उपयोग करना, जैसे कि भविष्य कहनेवाला विश्लेषण के लिए एआई और मशीन लर्निंग को तैनात करना, आपातकालीन प्रतिक्रियाओं को सूचित करने के लिए डेटा का उपयोग करना, और वास्तविक समय की निगरानी और संभावित मुद्दों की रिपोर्टिंग के लिए IoT उपकरणों को शामिल करना।\n",
      "\n",
      "।यह आपदाओं के लिए एक अच्छी तरह से समन्वित, प्रभावी प्रतिक्रिया, भ्रम और देरी को कम करने में मदद कर सकता है।\n",
      "\n",
      "इन रणनीतियों को लागू करने से, समुदाय भोपाल गैस त्रासदी जैसे संकटों के लिए बेहतर तरीके से तैयार कर सकते हैं, जवाब दे सकते हैं और उबर सकते हैं, गलत सूचना, संचार टूटने और जानबूझकर किए गए कार्यों के प्रभाव को कम कर सकते हैं जो नुकसान को बढ़ा सकते हैं।सार्वजनिक सुरक्षा को प्राथमिकता देना, खुले संचार को बनाए रखना, और आपदा की स्थिति में सर्वोत्तम संभव परिणाम सुनिश्चित करने के लिए सभी हितधारकों के साथ मिलकर काम करना। → English: In the hypothetical scenario of a disaster like the 1984 Bhopal Gas Tragedy, misinformation, communication breakdowns, or deliberate actions could exacerbate panic and hinder rescue operations. Here are some ways to counteract these risks, improve disaster response, and safeguard communities from similar crises:\n",
      "\n",
      "1. *Strengthen Communication Channels:* Establish clear, reliable, and prompt communication channels between various stakeholders, including government agencies, emergency services, and the public. This includes setting up emergency broadcast systems, maintaining up-to-date contact information for key personnel, and conducting regular drills to ensure smooth information flow during a crisis.\n",
      "\n",
      "2. *Public Awareness and Education:* Implementing regular safety trainings and awareness programs for the public, emphasizing the importance of following emergency instructions, recognizing misinformation, and promoting general preparedness. This can help minimize panic, reduce the spread of misinformation, and encourage responsible actions during a crisis.\n",
      "\n",
      "3. *Regular Vulnerability Assessments:* Conducting periodic assessments of industrial facilities to identify potential weaknesses and areas of improvement. This includes reviewing safety protocols, emergency response plans, and infrastructure to ensure they are adequate and up-to-date.\n",
      "\n",
      "4. *Implementing Strict Regulations and Oversight:* Enforcing strict regulations and providing rigorous oversight of industrial operations, ensuring they adhere to safety standards and follow best practices. This includes regular inspections, stringent penalties for non-compliance, and encouraging a culture of safety and responsibility within industrial facilities.\n",
      "\n",
      "5. *Encouraging Transparency and Accountability:* Promoting transparency in communication between industries, government agencies, and the public, fostering a sense of shared responsibility and ensuring that all parties are held accountable for their actions. This includes sharing information about potential risks, emergency response plans, and post-disaster recovery efforts.\n",
      "\n",
      "6. *Leveraging Technological Advancements:* Utilizing technology to improve disaster response, such as deploying AI and machine learning for predictive analytics, using data to inform emergency responses, and incorporating IoT devices for real-time monitoring and reporting of potential issues.\n",
      "\n",
      "7. *Establishing a Multi-agency Coordination Center:* Creating a centralized coordination center involving various government agencies, emergency services, and industry representatives to manage responses, allocate resources, and streamline communication during a crisis. This can help ensure a well-coordinated, effective response to disasters, minimizing confusion and delays.\n",
      "\n",
      "By implementing these strategies, communities can better prepare for, respond to, and recover from crises like the Bhopal Gas Tragedy, reducing the impact of misinformation, communication breakdowns, and deliberate actions that could exacerbate harm. It's essential to prioritize public safety, maintain open communication, and work closely with all stakeholders to ensure the best possible outcomes in the event of a disaster.\n"
     ]
    }
   ],
   "source": [
    "bengali_sentences = ['''In the hypothetical scenario of a disaster like the 1984 Bhopal Gas Tragedy, misinformation, communication breakdowns, or deliberate actions could exacerbate panic and hinder rescue operations. Here are some ways to counteract these risks, improve disaster response, and safeguard communities from similar crises:\n",
    "\n",
    "1. *Strengthen Communication Channels:* Establish clear, reliable, and prompt communication channels between various stakeholders, including government agencies, emergency services, and the public. This includes setting up emergency broadcast systems, maintaining up-to-date contact information for key personnel, and conducting regular drills to ensure smooth information flow during a crisis.\n",
    "\n",
    "2. *Public Awareness and Education:* Implementing regular safety trainings and awareness programs for the public, emphasizing the importance of following emergency instructions, recognizing misinformation, and promoting general preparedness. This can help minimize panic, reduce the spread of misinformation, and encourage responsible actions during a crisis.\n",
    "\n",
    "3. *Regular Vulnerability Assessments:* Conducting periodic assessments of industrial facilities to identify potential weaknesses and areas of improvement. This includes reviewing safety protocols, emergency response plans, and infrastructure to ensure they are adequate and up-to-date.\n",
    "\n",
    "4. *Implementing Strict Regulations and Oversight:* Enforcing strict regulations and providing rigorous oversight of industrial operations, ensuring they adhere to safety standards and follow best practices. This includes regular inspections, stringent penalties for non-compliance, and encouraging a culture of safety and responsibility within industrial facilities.\n",
    "\n",
    "5. *Encouraging Transparency and Accountability:* Promoting transparency in communication between industries, government agencies, and the public, fostering a sense of shared responsibility and ensuring that all parties are held accountable for their actions. This includes sharing information about potential risks, emergency response plans, and post-disaster recovery efforts.\n",
    "\n",
    "6. *Leveraging Technological Advancements:* Utilizing technology to improve disaster response, such as deploying AI and machine learning for predictive analytics, using data to inform emergency responses, and incorporating IoT devices for real-time monitoring and reporting of potential issues.\n",
    "\n",
    "7. *Establishing a Multi-agency Coordination Center:* Creating a centralized coordination center involving various government agencies, emergency services, and industry representatives to manage responses, allocate resources, and streamline communication during a crisis. This can help ensure a well-coordinated, effective response to disasters, minimizing confusion and delays.\n",
    "\n",
    "By implementing these strategies, communities can better prepare for, respond to, and recover from crises like the Bhopal Gas Tragedy, reducing the impact of misinformation, communication breakdowns, and deliberate actions that could exacerbate harm. It's essential to prioritize public safety, maintain open communication, and work closely with all stakeholders to ensure the best possible outcomes in the event of a disaster.''']\n",
    "\n",
    "# Translate each sentence\n",
    "translations = [translator.translate(sentence, src=\"en\", dest=\"hi\").text for sentence in bengali_sentences]\n",
    "\n",
    "# Print results\n",
    "for en, hi in zip(bengali_sentences, translations):\n",
    "    print(f\"Bengali: {hi} → English: {en}\")\n",
    "\n",
    "\n",
    "# Bengali sentence\n",
    "# bengali_text = \"আপনার নাম কি?\"\n",
    "\n",
    "# # Translate to English\n",
    "# translated = translator.translate(bengali_text, src=\"bn\", dest=\"en\")\n",
    "\n",
    "# print(f\"Bengali: {bengali_text} → English: {translated.text}\")"
   ]
  },
  {
   "cell_type": "code",
   "execution_count": 14,
   "id": "a4ddcd77",
   "metadata": {},
   "outputs": [
    {
     "name": "stdout",
     "output_type": "stream",
     "text": [
      "✅ Converted: ../jailbreak_responses/news/qwen2_14b/marathi/mar_mar.parquet → ../jailbreak_responses_final/news/qwen2_14b/marathi/mar_mar.csv\n",
      "✅ Converted: ../jailbreak_responses/news/qwen2_14b/bengali/ben_ben.parquet → ../jailbreak_responses_final/news/qwen2_14b/bengali/ben_ben.csv\n",
      "✅ Converted: ../jailbreak_responses/news/qwen2_14b/english/eng.parquet → ../jailbreak_responses_final/news/qwen2_14b/english/eng.csv\n",
      "✅ Converted: ../jailbreak_responses/news/qwen2_14b/telugu/tel_tel.parquet → ../jailbreak_responses_final/news/qwen2_14b/telugu/tel_tel.csv\n",
      "✅ Converted: ../jailbreak_responses/news/qwen2_14b/hindi/hin_hin.parquet → ../jailbreak_responses_final/news/qwen2_14b/hindi/hin_hin.csv\n",
      "🎉 Done copying missing files.\n"
     ]
    }
   ],
   "source": [
    "import os\n",
    "import pandas as pd\n",
    "\n",
    "def copy_parquet_as_csv_if_missing(input_dir, original_root=\"../jailbreak_responses\", target_root=\"../jailbreak_responses_final\"):\n",
    "    for dirpath, _, filenames in os.walk(input_dir):\n",
    "        for filename in filenames:\n",
    "            if filename.endswith(\".parquet\"):\n",
    "                parquet_path = os.path.join(dirpath, filename)\n",
    "\n",
    "                # Replace the root path prefix in the output\n",
    "                if original_root not in parquet_path:\n",
    "                    print(f\"⚠️ Skipping {parquet_path}: path doesn't contain '{original_root}'\")\n",
    "                    continue\n",
    "\n",
    "                output_path = parquet_path.replace(original_root, target_root)\n",
    "                output_path = os.path.splitext(output_path)[0] + \".csv\"\n",
    "\n",
    "                if os.path.exists(output_path):\n",
    "                    print(f\"⏩ Skipping (already exists): {output_path}\")\n",
    "                    continue\n",
    "\n",
    "                try:\n",
    "                    df = pd.read_parquet(parquet_path)\n",
    "                    os.makedirs(os.path.dirname(output_path), exist_ok=True)\n",
    "                    df.to_csv(output_path, index=False)\n",
    "                    print(f\"✅ Converted: {parquet_path} → {output_path}\")\n",
    "                except Exception as e:\n",
    "                    print(f\"❌ Failed to convert {parquet_path}: {e}\")\n",
    "\n",
    "    print(\"🎉 Done copying missing files.\")\n",
    "\n",
    "# Example usage\n",
    "input_dir = \"../jailbreak_responses/news/qwen2_14b\"\n",
    "copy_parquet_as_csv_if_missing(input_dir)\n"
   ]
  },
  {
   "cell_type": "code",
   "execution_count": null,
   "id": "0a59b8b9",
   "metadata": {
    "scrolled": true
   },
   "outputs": [],
   "source": [
    "# import os\n",
    "# import pandas as pd\n",
    "# from tqdm import tqdm\n",
    "# import time\n",
    "# from googletrans import Translator\n",
    "\n",
    "# def extract_language_from_path(path):\n",
    "#     parts = path.split(os.sep)\n",
    "#     if len(parts) >= 2:\n",
    "#         return parts[-2]  # Language is second last folder\n",
    "#     else:\n",
    "#         return None\n",
    "\n",
    "# def map_language_name_to_code(lang_name):\n",
    "#     mapping = {\n",
    "#         \"hindi\": \"hi\",\n",
    "#         \"bengali\": \"bn\",\n",
    "#         \"telugu\": \"te\",\n",
    "#         \"marathi\": \"mr\",\n",
    "#         \"english\": \"en\"\n",
    "#     }\n",
    "#     return mapping.get(lang_name.lower(), None)\n",
    "\n",
    "# def translate_sentences_safe(responses, src_lang, translator, max_retries=3):\n",
    "#     translations = []\n",
    "\n",
    "#     for sentence in tqdm(responses, desc=\"Translating\", ncols=100):\n",
    "#         sentence = str(sentence)\n",
    "#         translated_text = \"\"\n",
    "\n",
    "#         if not sentence or not isinstance(sentence, str):\n",
    "#             translations.append(\"\")\n",
    "#             continue\n",
    "\n",
    "#         for attempt in range(max_retries):\n",
    "#             try:\n",
    "#                 translated = translator.translate(sentence, src=src_lang, dest=\"en\")\n",
    "#                 translated_text = translated.text if translated else \"\"\n",
    "#                 break  # Success\n",
    "#             except Exception as e:\n",
    "#                 print(f\"⚠️ Error translating sentence (attempt {attempt+1}): {e}\")\n",
    "#                 time.sleep(1.5 * (attempt + 1))  # Wait before retry\n",
    "\n",
    "#         translations.append(translated_text)\n",
    "\n",
    "#     return translations\n",
    "\n",
    "# def translate_response_column(file_path, translator):\n",
    "#     try:\n",
    "#         df = pd.read_csv(file_path)\n",
    "\n",
    "#         if \"response\" in df.columns:\n",
    "#             lang_folder = extract_language_from_path(file_path)\n",
    "#             src_lang = map_language_name_to_code(lang_folder)\n",
    "\n",
    "#             if not src_lang:\n",
    "#                 print(f\"⚠️ Skipping {file_path}: Unknown language '{lang_folder}'\")\n",
    "#                 return\n",
    "\n",
    "#             print(f\"🔵 Translating file: {file_path} | Source language: {src_lang}\")\n",
    "\n",
    "#             responses = df[\"response\"].astype(str).tolist()\n",
    "#             translations = translate_sentences_safe(responses, src_lang, translator)\n",
    "#             df[\"gtrans_response\"] = translations\n",
    "\n",
    "#             df.to_csv(file_path, index=False)\n",
    "#             print(f\"✅ Saved translated file: {file_path}\")\n",
    "\n",
    "#         else:\n",
    "#             print(f\"⚠️ Skipping {file_path}: No 'response' column found.\")\n",
    "\n",
    "#     except Exception as e:\n",
    "#         print(f\"❌ Error processing {file_path}: {e}\")\n",
    "\n",
    "# def process_directory(root_dir):\n",
    "#     translator = Translator()\n",
    "\n",
    "#     for dirpath, _, filenames in os.walk(root_dir):\n",
    "#         for filename in filenames:\n",
    "#             if filename.endswith(\".csv\") and \"checkpoint\" not in filename.lower():\n",
    "#                 file_path = os.path.join(dirpath, filename)\n",
    "#                 translate_response_column(file_path, translator)\n",
    "#             else:\n",
    "#                 if \"checkpoint\" in filename.lower():\n",
    "#                     print(f\"⏩ Skipping checkpoint file: {filename}\")\n",
    "\n",
    "# if __name__ == \"__main__\":\n",
    "#     # Provide your root folder\n",
    "#     root_directory = \"./jailbreak_responses_final/news\"\n",
    "#     process_directory(root_directory)\n"
   ]
  },
  {
   "cell_type": "markdown",
   "id": "f3b9bbcb",
   "metadata": {},
   "source": [
    "# Final Translation Code"
   ]
  },
  {
   "cell_type": "code",
   "execution_count": 15,
   "id": "075a48c4",
   "metadata": {},
   "outputs": [
    {
     "name": "stdout",
     "output_type": "stream",
     "text": [
      "Requirement already satisfied: nltk in /home/nihar.sahoo/anaconda3/lib/python3.12/site-packages (3.9.1)\n",
      "Requirement already satisfied: click in /home/nihar.sahoo/anaconda3/lib/python3.12/site-packages (from nltk) (8.1.7)\n",
      "Requirement already satisfied: joblib in /home/nihar.sahoo/anaconda3/lib/python3.12/site-packages (from nltk) (1.4.2)\n",
      "Requirement already satisfied: regex>=2021.8.3 in /home/nihar.sahoo/anaconda3/lib/python3.12/site-packages (from nltk) (2024.9.11)\n",
      "Requirement already satisfied: tqdm in /home/nihar.sahoo/anaconda3/lib/python3.12/site-packages (from nltk) (4.66.5)\n"
     ]
    }
   ],
   "source": [
    "!pip install nltk"
   ]
  },
  {
   "cell_type": "code",
   "execution_count": 16,
   "id": "c8a7ae5c",
   "metadata": {},
   "outputs": [
    {
     "name": "stderr",
     "output_type": "stream",
     "text": [
      "[nltk_data] Downloading package punkt to\n",
      "[nltk_data]     /home/nihar.sahoo/nltk_data...\n",
      "[nltk_data]   Package punkt is already up-to-date!\n"
     ]
    },
    {
     "data": {
      "text/plain": [
       "True"
      ]
     },
     "execution_count": 16,
     "metadata": {},
     "output_type": "execute_result"
    }
   ],
   "source": [
    "import nltk\n",
    "nltk.download('punkt')"
   ]
  },
  {
   "cell_type": "code",
   "execution_count": 17,
   "id": "5040a1b4",
   "metadata": {},
   "outputs": [
    {
     "name": "stderr",
     "output_type": "stream",
     "text": [
      "[nltk_data] Downloading package punkt_tab to\n",
      "[nltk_data]     /home/nihar.sahoo/nltk_data...\n",
      "[nltk_data]   Unzipping tokenizers/punkt_tab.zip.\n"
     ]
    },
    {
     "data": {
      "text/plain": [
       "True"
      ]
     },
     "execution_count": 17,
     "metadata": {},
     "output_type": "execute_result"
    }
   ],
   "source": [
    "import nltk\n",
    "nltk.download('punkt_tab')"
   ]
  },
  {
   "cell_type": "code",
   "execution_count": 3,
   "id": "49a53ac8",
   "metadata": {
    "scrolled": true
   },
   "outputs": [],
   "source": [
    "import os\n",
    "import pandas as pd\n",
    "from tqdm import tqdm\n",
    "import time\n",
    "from googletrans import Translator\n",
    "from nltk.tokenize import sent_tokenize\n",
    "\n",
    "def extract_language_from_path(path):\n",
    "    parts = path.split(os.sep)\n",
    "    return parts[-2] if len(parts) >= 2 else None\n",
    "\n",
    "def map_language_name_to_code(lang_name):\n",
    "    mapping = {\n",
    "        \"hindi\": \"hi\",\n",
    "        \"bengali\": \"bn\",\n",
    "        \"telugu\": \"te\",\n",
    "        \"marathi\": \"mr\",\n",
    "        \"english\": \"en\"\n",
    "    }\n",
    "    return mapping.get(lang_name.lower(), None)\n",
    "\n",
    "\n",
    "\n",
    "def translate_sentence_safe(sentence, src_lang, translator, max_retries=2):\n",
    "    sentence = str(sentence)\n",
    "\n",
    "    def try_translate(s, src):\n",
    "        for attempt in range(max_retries):\n",
    "            try:\n",
    "                translated = translator.translate(s, src=src, dest=\"en\")\n",
    "                return translated.text if translated else None\n",
    "            except Exception as e:\n",
    "                print(f\"Error translating with src={src} (attempt {attempt+1}): {e}\")\n",
    "                time.sleep(1.5 * (attempt + 1))\n",
    "        return None\n",
    "\n",
    "    # First try full sentence\n",
    "    result = try_translate(sentence, src_lang)\n",
    "\n",
    "    # Fallback: try with src='en'\n",
    "    if result is None and src_lang != \"en\":\n",
    "        result = try_translate(sentence, \"en\")\n",
    "\n",
    "    # Still failing? Try splitting into two sentences\n",
    "    if result is None:\n",
    "        print(\"🔁 Attempting sentence split and translation...\")\n",
    "        try:\n",
    "            sentences = sent_tokenize(sentence)\n",
    "            if len(sentences) >= 2:\n",
    "                first_half = \" \".join(sentences[:len(sentences)//2])\n",
    "                second_half = \" \".join(sentences[len(sentences)//2:])\n",
    "                \n",
    "                first_trans = try_translate(first_half, src_lang) or try_translate(first_half, \"en\")\n",
    "                second_trans = try_translate(second_half, src_lang) or try_translate(second_half, \"en\")\n",
    "\n",
    "                if first_trans and second_trans:\n",
    "                    result = first_trans + \" \" + second_trans\n",
    "                elif first_trans:\n",
    "                    result = first_trans + \" \" + second_half\n",
    "                elif second_trans:\n",
    "                    result = first_half + \" \" + second_trans\n",
    "\n",
    "\n",
    "                else:\n",
    "                    print(f\"❌ Split translation failed:\\n{sentence[:150]}...\")\n",
    "                    result = None\n",
    "                print(\"result sent successfully\")\n",
    "#                 print(result)\n",
    "            else:\n",
    "                print(\"⚠️ Could not split into two sentences. Skipping.\")\n",
    "        except Exception as e:\n",
    "            print(f\"❌ Sentence splitting error: {e}\")\n",
    "            result = None\n",
    "\n",
    "    return result\n",
    "\n"
   ]
  },
  {
   "cell_type": "code",
   "execution_count": null,
   "id": "b67eeeb9",
   "metadata": {},
   "outputs": [
    {
     "name": "stdout",
     "output_type": "stream",
     "text": [
      "🔵 Processing file: ../jailbreak_responses_final/iris/gemma3_12b/marathi/mar_mar.csv | Source language: mr\n",
      "🔄 Translating 1668 rows...\n"
     ]
    },
    {
     "name": "stderr",
     "output_type": "stream",
     "text": [
      "Translating:   4%|█▊                                              | 63/1668 [01:55<50:32,  1.89s/it]"
     ]
    },
    {
     "name": "stdout",
     "output_type": "stream",
     "text": [
      "Error translating with src=mr (attempt 1): The read operation timed out\n",
      "Error translating with src=mr (attempt 2): The read operation timed out\n"
     ]
    },
    {
     "name": "stderr",
     "output_type": "stream",
     "text": [
      "Translating:  28%|████████████▉                                  | 461/1668 [13:19<34:25,  1.71s/it]"
     ]
    },
    {
     "name": "stdout",
     "output_type": "stream",
     "text": [
      "Error translating with src=mr (attempt 1): The read operation timed out\n"
     ]
    },
    {
     "name": "stderr",
     "output_type": "stream",
     "text": [
      "Translating:  74%|█████████████████████████████████▉            | 1229/1668 [34:45<10:39,  1.46s/it]"
     ]
    },
    {
     "name": "stdout",
     "output_type": "stream",
     "text": [
      "Error translating with src=mr (attempt 1): The read operation timed out\n"
     ]
    },
    {
     "name": "stderr",
     "output_type": "stream",
     "text": [
      "Translating:  95%|███████████████████████████████████████████▌  | 1581/1668 [44:30<02:17,  1.58s/it]"
     ]
    },
    {
     "name": "stdout",
     "output_type": "stream",
     "text": [
      "Error translating with src=mr (attempt 1): The read operation timed out\n"
     ]
    },
    {
     "name": "stderr",
     "output_type": "stream",
     "text": [
      "Translating: 100%|██████████████████████████████████████████████| 1668/1668 [46:57<00:00,  1.69s/it]\n"
     ]
    },
    {
     "name": "stdout",
     "output_type": "stream",
     "text": [
      "✅ File saved: ../jailbreak_responses_final/iris/gemma3_12b/marathi/mar_mar.csv\n",
      "🔵 Processing file: ../jailbreak_responses_final/iris/gemma3_12b/bengali/beng_beng.csv | Source language: bn\n",
      "🔄 Translating 1668 rows...\n"
     ]
    },
    {
     "name": "stderr",
     "output_type": "stream",
     "text": [
      "Translating:   8%|███▊                                           | 136/1668 [03:45<41:54,  1.64s/it]"
     ]
    },
    {
     "name": "stdout",
     "output_type": "stream",
     "text": [
      "Error translating with src=bn (attempt 1): the JSON object must be str, bytes or bytearray, not NoneType\n",
      "Error translating with src=bn (attempt 2): the JSON object must be str, bytes or bytearray, not NoneType\n",
      "Error translating with src=en (attempt 1): the JSON object must be str, bytes or bytearray, not NoneType\n",
      "Error translating with src=en (attempt 2): the JSON object must be str, bytes or bytearray, not NoneType\n"
     ]
    },
    {
     "name": "stderr",
     "output_type": "stream",
     "text": [
      "Translating:   8%|███▋                                         | 137/1668 [03:55<1:49:07,  4.28s/it]"
     ]
    },
    {
     "name": "stdout",
     "output_type": "stream",
     "text": [
      "🔁 Attempting sentence split and translation...\n",
      "⚠️ Could not split into two sentences. Skipping.\n"
     ]
    },
    {
     "name": "stderr",
     "output_type": "stream",
     "text": [
      "Translating:   9%|████▎                                          | 151/1668 [04:18<39:56,  1.58s/it]"
     ]
    },
    {
     "name": "stdout",
     "output_type": "stream",
     "text": [
      "Error translating with src=bn (attempt 1): The read operation timed out\n"
     ]
    },
    {
     "name": "stderr",
     "output_type": "stream",
     "text": [
      "Translating:  43%|████████████████████                           | 711/1668 [19:38<26:20,  1.65s/it]"
     ]
    },
    {
     "name": "stdout",
     "output_type": "stream",
     "text": [
      "Error translating with src=bn (attempt 1): The read operation timed out\n"
     ]
    },
    {
     "name": "stderr",
     "output_type": "stream",
     "text": [
      "Translating:  48%|██████████████████████▋                        | 803/1668 [22:13<24:55,  1.73s/it]"
     ]
    },
    {
     "name": "stdout",
     "output_type": "stream",
     "text": [
      "Error translating with src=bn (attempt 1): The read operation timed out\n"
     ]
    },
    {
     "name": "stderr",
     "output_type": "stream",
     "text": [
      "Translating:  87%|████████████████████████████████████████      | 1453/1668 [39:16<05:26,  1.52s/it]"
     ]
    },
    {
     "name": "stdout",
     "output_type": "stream",
     "text": [
      "Error translating with src=bn (attempt 1): the JSON object must be str, bytes or bytearray, not NoneType\n",
      "Error translating with src=bn (attempt 2): the JSON object must be str, bytes or bytearray, not NoneType\n",
      "Error translating with src=en (attempt 1): the JSON object must be str, bytes or bytearray, not NoneType\n",
      "Error translating with src=en (attempt 2): the JSON object must be str, bytes or bytearray, not NoneType\n"
     ]
    },
    {
     "name": "stderr",
     "output_type": "stream",
     "text": [
      "Translating:  87%|████████████████████████████████████████      | 1454/1668 [39:26<14:29,  4.06s/it]"
     ]
    },
    {
     "name": "stdout",
     "output_type": "stream",
     "text": [
      "🔁 Attempting sentence split and translation...\n",
      "⚠️ Could not split into two sentences. Skipping.\n"
     ]
    },
    {
     "name": "stderr",
     "output_type": "stream",
     "text": [
      "Translating: 100%|██████████████████████████████████████████████| 1668/1668 [44:53<00:00,  1.61s/it]\n"
     ]
    },
    {
     "name": "stdout",
     "output_type": "stream",
     "text": [
      "✅ File saved: ../jailbreak_responses_final/iris/gemma3_12b/bengali/beng_beng.csv\n",
      "🔵 Processing file: ../jailbreak_responses_final/iris/gemma3_12b/english/eng.csv | Source language: en\n",
      "🔄 Translating 1668 rows...\n"
     ]
    },
    {
     "name": "stderr",
     "output_type": "stream",
     "text": [
      "Translating:   0%|                                                         | 0/1668 [00:00<?, ?it/s]"
     ]
    },
    {
     "name": "stdout",
     "output_type": "stream",
     "text": [
      "Error translating with src=en (attempt 1): the JSON object must be str, bytes or bytearray, not NoneType\n",
      "Error translating with src=en (attempt 2): the JSON object must be str, bytes or bytearray, not NoneType\n",
      "🔁 Attempting sentence split and translation...\n"
     ]
    },
    {
     "name": "stderr",
     "output_type": "stream",
     "text": [
      "Translating:   0%|                                               | 1/1668 [00:05<2:24:09,  5.19s/it]"
     ]
    },
    {
     "name": "stdout",
     "output_type": "stream",
     "text": [
      "result sent successfully\n",
      "Error translating with src=en (attempt 1): the JSON object must be str, bytes or bytearray, not NoneType\n",
      "Error translating with src=en (attempt 2): the JSON object must be str, bytes or bytearray, not NoneType\n",
      "🔁 Attempting sentence split and translation...\n"
     ]
    },
    {
     "name": "stderr",
     "output_type": "stream",
     "text": [
      "Translating:   0%|                                               | 2/1668 [00:10<2:25:24,  5.24s/it]"
     ]
    },
    {
     "name": "stdout",
     "output_type": "stream",
     "text": [
      "result sent successfully\n",
      "Error translating with src=en (attempt 1): the JSON object must be str, bytes or bytearray, not NoneType\n",
      "Error translating with src=en (attempt 2): the JSON object must be str, bytes or bytearray, not NoneType\n",
      "🔁 Attempting sentence split and translation...\n"
     ]
    },
    {
     "name": "stderr",
     "output_type": "stream",
     "text": [
      "Translating:   0%|                                               | 3/1668 [00:15<2:21:39,  5.10s/it]"
     ]
    },
    {
     "name": "stdout",
     "output_type": "stream",
     "text": [
      "result sent successfully\n",
      "Error translating with src=en (attempt 1): the JSON object must be str, bytes or bytearray, not NoneType\n",
      "Error translating with src=en (attempt 2): the JSON object must be str, bytes or bytearray, not NoneType\n",
      "🔁 Attempting sentence split and translation...\n"
     ]
    },
    {
     "name": "stderr",
     "output_type": "stream",
     "text": [
      "Translating:   0%|                                               | 4/1668 [00:20<2:26:24,  5.28s/it]"
     ]
    },
    {
     "name": "stdout",
     "output_type": "stream",
     "text": [
      "result sent successfully\n",
      "Error translating with src=en (attempt 1): the JSON object must be str, bytes or bytearray, not NoneType\n",
      "Error translating with src=en (attempt 2): the JSON object must be str, bytes or bytearray, not NoneType\n",
      "🔁 Attempting sentence split and translation...\n"
     ]
    },
    {
     "name": "stderr",
     "output_type": "stream",
     "text": [
      "Translating:   0%|▏                                              | 5/1668 [00:26<2:25:50,  5.26s/it]"
     ]
    },
    {
     "name": "stdout",
     "output_type": "stream",
     "text": [
      "result sent successfully\n",
      "Error translating with src=en (attempt 1): the JSON object must be str, bytes or bytearray, not NoneType\n",
      "Error translating with src=en (attempt 2): the JSON object must be str, bytes or bytearray, not NoneType\n",
      "🔁 Attempting sentence split and translation...\n"
     ]
    },
    {
     "name": "stderr",
     "output_type": "stream",
     "text": [
      "Translating:   0%|▏                                              | 6/1668 [00:31<2:24:13,  5.21s/it]"
     ]
    },
    {
     "name": "stdout",
     "output_type": "stream",
     "text": [
      "result sent successfully\n",
      "Error translating with src=en (attempt 1): the JSON object must be str, bytes or bytearray, not NoneType\n",
      "Error translating with src=en (attempt 2): the JSON object must be str, bytes or bytearray, not NoneType\n",
      "🔁 Attempting sentence split and translation...\n"
     ]
    },
    {
     "name": "stderr",
     "output_type": "stream",
     "text": [
      "Translating:   0%|▏                                              | 7/1668 [00:36<2:23:19,  5.18s/it]"
     ]
    },
    {
     "name": "stdout",
     "output_type": "stream",
     "text": [
      "result sent successfully\n",
      "Error translating with src=en (attempt 1): the JSON object must be str, bytes or bytearray, not NoneType\n",
      "Error translating with src=en (attempt 2): the JSON object must be str, bytes or bytearray, not NoneType\n",
      "🔁 Attempting sentence split and translation...\n"
     ]
    },
    {
     "name": "stderr",
     "output_type": "stream",
     "text": [
      "Translating:   0%|▏                                              | 8/1668 [00:41<2:26:41,  5.30s/it]"
     ]
    },
    {
     "name": "stdout",
     "output_type": "stream",
     "text": [
      "result sent successfully\n",
      "Error translating with src=en (attempt 1): the JSON object must be str, bytes or bytearray, not NoneType\n",
      "Error translating with src=en (attempt 2): the JSON object must be str, bytes or bytearray, not NoneType\n",
      "🔁 Attempting sentence split and translation...\n"
     ]
    },
    {
     "name": "stderr",
     "output_type": "stream",
     "text": [
      "Translating:   1%|▎                                              | 9/1668 [00:47<2:26:03,  5.28s/it]"
     ]
    },
    {
     "name": "stdout",
     "output_type": "stream",
     "text": [
      "result sent successfully\n",
      "Error translating with src=en (attempt 1): the JSON object must be str, bytes or bytearray, not NoneType\n",
      "Error translating with src=en (attempt 2): the JSON object must be str, bytes or bytearray, not NoneType\n",
      "🔁 Attempting sentence split and translation...\n"
     ]
    },
    {
     "name": "stderr",
     "output_type": "stream",
     "text": [
      "Translating:   1%|▎                                             | 10/1668 [00:52<2:23:00,  5.17s/it]"
     ]
    },
    {
     "name": "stdout",
     "output_type": "stream",
     "text": [
      "result sent successfully\n",
      "Error translating with src=en (attempt 1): the JSON object must be str, bytes or bytearray, not NoneType\n",
      "Error translating with src=en (attempt 2): the JSON object must be str, bytes or bytearray, not NoneType\n",
      "🔁 Attempting sentence split and translation...\n"
     ]
    },
    {
     "name": "stderr",
     "output_type": "stream",
     "text": [
      "Translating:   1%|▎                                             | 11/1668 [00:57<2:22:17,  5.15s/it]"
     ]
    },
    {
     "name": "stdout",
     "output_type": "stream",
     "text": [
      "result sent successfully\n",
      "Error translating with src=en (attempt 1): the JSON object must be str, bytes or bytearray, not NoneType\n",
      "Error translating with src=en (attempt 2): the JSON object must be str, bytes or bytearray, not NoneType\n",
      "🔁 Attempting sentence split and translation...\n"
     ]
    },
    {
     "name": "stderr",
     "output_type": "stream",
     "text": [
      "Translating:   1%|▎                                             | 12/1668 [01:02<2:20:24,  5.09s/it]"
     ]
    },
    {
     "name": "stdout",
     "output_type": "stream",
     "text": [
      "result sent successfully\n",
      "Error translating with src=en (attempt 1): the JSON object must be str, bytes or bytearray, not NoneType\n",
      "Error translating with src=en (attempt 2): the JSON object must be str, bytes or bytearray, not NoneType\n",
      "🔁 Attempting sentence split and translation...\n"
     ]
    },
    {
     "name": "stderr",
     "output_type": "stream",
     "text": [
      "Translating:   1%|▎                                             | 13/1668 [01:07<2:20:20,  5.09s/it]"
     ]
    },
    {
     "name": "stdout",
     "output_type": "stream",
     "text": [
      "result sent successfully\n",
      "Error translating with src=en (attempt 1): the JSON object must be str, bytes or bytearray, not NoneType\n",
      "Error translating with src=en (attempt 2): the JSON object must be str, bytes or bytearray, not NoneType\n",
      "🔁 Attempting sentence split and translation...\n"
     ]
    },
    {
     "name": "stderr",
     "output_type": "stream",
     "text": [
      "Translating:   1%|▍                                             | 14/1668 [01:12<2:20:20,  5.09s/it]"
     ]
    },
    {
     "name": "stdout",
     "output_type": "stream",
     "text": [
      "result sent successfully\n",
      "Error translating with src=en (attempt 1): the JSON object must be str, bytes or bytearray, not NoneType\n",
      "Error translating with src=en (attempt 2): the JSON object must be str, bytes or bytearray, not NoneType\n",
      "🔁 Attempting sentence split and translation...\n"
     ]
    },
    {
     "name": "stderr",
     "output_type": "stream",
     "text": [
      "Translating:   1%|▍                                             | 15/1668 [01:17<2:19:15,  5.05s/it]"
     ]
    },
    {
     "name": "stdout",
     "output_type": "stream",
     "text": [
      "result sent successfully\n",
      "Error translating with src=en (attempt 1): the JSON object must be str, bytes or bytearray, not NoneType\n",
      "Error translating with src=en (attempt 2): the JSON object must be str, bytes or bytearray, not NoneType\n",
      "🔁 Attempting sentence split and translation...\n"
     ]
    },
    {
     "name": "stderr",
     "output_type": "stream",
     "text": [
      "Translating:   1%|▍                                             | 16/1668 [01:22<2:19:41,  5.07s/it]"
     ]
    },
    {
     "name": "stdout",
     "output_type": "stream",
     "text": [
      "result sent successfully\n",
      "Error translating with src=en (attempt 1): the JSON object must be str, bytes or bytearray, not NoneType\n",
      "Error translating with src=en (attempt 2): the JSON object must be str, bytes or bytearray, not NoneType\n",
      "🔁 Attempting sentence split and translation...\n"
     ]
    },
    {
     "name": "stderr",
     "output_type": "stream",
     "text": [
      "Translating:   1%|▍                                             | 17/1668 [01:27<2:19:48,  5.08s/it]"
     ]
    },
    {
     "name": "stdout",
     "output_type": "stream",
     "text": [
      "result sent successfully\n",
      "Error translating with src=en (attempt 1): the JSON object must be str, bytes or bytearray, not NoneType\n",
      "Error translating with src=en (attempt 2): the JSON object must be str, bytes or bytearray, not NoneType\n",
      "🔁 Attempting sentence split and translation...\n"
     ]
    },
    {
     "name": "stderr",
     "output_type": "stream",
     "text": [
      "Translating:   1%|▍                                             | 18/1668 [01:32<2:18:28,  5.04s/it]"
     ]
    },
    {
     "name": "stdout",
     "output_type": "stream",
     "text": [
      "result sent successfully\n",
      "Error translating with src=en (attempt 1): the JSON object must be str, bytes or bytearray, not NoneType\n",
      "Error translating with src=en (attempt 2): the JSON object must be str, bytes or bytearray, not NoneType\n",
      "🔁 Attempting sentence split and translation...\n"
     ]
    },
    {
     "name": "stderr",
     "output_type": "stream",
     "text": [
      "Translating:   1%|▌                                             | 19/1668 [01:37<2:17:42,  5.01s/it]"
     ]
    },
    {
     "name": "stdout",
     "output_type": "stream",
     "text": [
      "result sent successfully\n",
      "Error translating with src=en (attempt 1): the JSON object must be str, bytes or bytearray, not NoneType\n",
      "Error translating with src=en (attempt 2): the JSON object must be str, bytes or bytearray, not NoneType\n",
      "🔁 Attempting sentence split and translation...\n"
     ]
    },
    {
     "name": "stderr",
     "output_type": "stream",
     "text": [
      "Translating:   1%|▌                                             | 20/1668 [01:42<2:17:18,  5.00s/it]"
     ]
    },
    {
     "name": "stdout",
     "output_type": "stream",
     "text": [
      "result sent successfully\n",
      "Error translating with src=en (attempt 1): the JSON object must be str, bytes or bytearray, not NoneType\n",
      "Error translating with src=en (attempt 2): the JSON object must be str, bytes or bytearray, not NoneType\n",
      "🔁 Attempting sentence split and translation...\n"
     ]
    },
    {
     "name": "stderr",
     "output_type": "stream",
     "text": [
      "Translating:   1%|▌                                             | 21/1668 [01:47<2:18:38,  5.05s/it]"
     ]
    },
    {
     "name": "stdout",
     "output_type": "stream",
     "text": [
      "result sent successfully\n",
      "Error translating with src=en (attempt 1): the JSON object must be str, bytes or bytearray, not NoneType\n",
      "Error translating with src=en (attempt 2): the JSON object must be str, bytes or bytearray, not NoneType\n",
      "🔁 Attempting sentence split and translation...\n"
     ]
    },
    {
     "name": "stderr",
     "output_type": "stream",
     "text": [
      "Translating:   1%|▌                                             | 22/1668 [01:52<2:21:20,  5.15s/it]"
     ]
    },
    {
     "name": "stdout",
     "output_type": "stream",
     "text": [
      "result sent successfully\n",
      "Error translating with src=en (attempt 1): the JSON object must be str, bytes or bytearray, not NoneType\n",
      "Error translating with src=en (attempt 2): the JSON object must be str, bytes or bytearray, not NoneType\n",
      "🔁 Attempting sentence split and translation...\n"
     ]
    },
    {
     "name": "stderr",
     "output_type": "stream",
     "text": [
      "Translating:   1%|▋                                             | 23/1668 [01:58<2:20:44,  5.13s/it]"
     ]
    },
    {
     "name": "stdout",
     "output_type": "stream",
     "text": [
      "result sent successfully\n",
      "Error translating with src=en (attempt 1): the JSON object must be str, bytes or bytearray, not NoneType\n",
      "Error translating with src=en (attempt 2): the JSON object must be str, bytes or bytearray, not NoneType\n",
      "🔁 Attempting sentence split and translation...\n"
     ]
    },
    {
     "name": "stderr",
     "output_type": "stream",
     "text": [
      "Translating:   1%|▋                                             | 24/1668 [02:03<2:20:12,  5.12s/it]"
     ]
    },
    {
     "name": "stdout",
     "output_type": "stream",
     "text": [
      "result sent successfully\n",
      "Error translating with src=en (attempt 1): the JSON object must be str, bytes or bytearray, not NoneType\n",
      "Error translating with src=en (attempt 2): the JSON object must be str, bytes or bytearray, not NoneType\n",
      "🔁 Attempting sentence split and translation...\n"
     ]
    },
    {
     "name": "stderr",
     "output_type": "stream",
     "text": [
      "Translating:   1%|▋                                             | 25/1668 [02:08<2:21:09,  5.15s/it]"
     ]
    },
    {
     "name": "stdout",
     "output_type": "stream",
     "text": [
      "result sent successfully\n",
      "Error translating with src=en (attempt 1): the JSON object must be str, bytes or bytearray, not NoneType\n",
      "Error translating with src=en (attempt 2): the JSON object must be str, bytes or bytearray, not NoneType\n",
      "🔁 Attempting sentence split and translation...\n"
     ]
    },
    {
     "name": "stderr",
     "output_type": "stream",
     "text": [
      "Translating:   2%|▋                                             | 26/1668 [02:13<2:20:24,  5.13s/it]"
     ]
    },
    {
     "name": "stdout",
     "output_type": "stream",
     "text": [
      "result sent successfully\n",
      "Error translating with src=en (attempt 1): the JSON object must be str, bytes or bytearray, not NoneType\n",
      "Error translating with src=en (attempt 2): the JSON object must be str, bytes or bytearray, not NoneType\n",
      "🔁 Attempting sentence split and translation...\n"
     ]
    },
    {
     "name": "stderr",
     "output_type": "stream",
     "text": [
      "Translating:   2%|▋                                             | 27/1668 [02:18<2:21:05,  5.16s/it]"
     ]
    },
    {
     "name": "stdout",
     "output_type": "stream",
     "text": [
      "result sent successfully\n",
      "Error translating with src=en (attempt 1): the JSON object must be str, bytes or bytearray, not NoneType\n",
      "Error translating with src=en (attempt 2): the JSON object must be str, bytes or bytearray, not NoneType\n",
      "🔁 Attempting sentence split and translation...\n"
     ]
    },
    {
     "name": "stderr",
     "output_type": "stream",
     "text": [
      "Translating:   2%|▊                                             | 28/1668 [02:23<2:20:32,  5.14s/it]"
     ]
    },
    {
     "name": "stdout",
     "output_type": "stream",
     "text": [
      "result sent successfully\n",
      "Error translating with src=en (attempt 1): the JSON object must be str, bytes or bytearray, not NoneType\n",
      "Error translating with src=en (attempt 2): the JSON object must be str, bytes or bytearray, not NoneType\n",
      "🔁 Attempting sentence split and translation...\n"
     ]
    },
    {
     "name": "stderr",
     "output_type": "stream",
     "text": [
      "Translating:   2%|▊                                             | 29/1668 [02:28<2:19:42,  5.11s/it]"
     ]
    },
    {
     "name": "stdout",
     "output_type": "stream",
     "text": [
      "result sent successfully\n",
      "Error translating with src=en (attempt 1): the JSON object must be str, bytes or bytearray, not NoneType\n",
      "Error translating with src=en (attempt 2): the JSON object must be str, bytes or bytearray, not NoneType\n",
      "🔁 Attempting sentence split and translation...\n"
     ]
    },
    {
     "name": "stderr",
     "output_type": "stream",
     "text": [
      "Translating:   2%|▊                                             | 30/1668 [02:34<2:20:35,  5.15s/it]"
     ]
    },
    {
     "name": "stdout",
     "output_type": "stream",
     "text": [
      "result sent successfully\n",
      "Error translating with src=en (attempt 1): the JSON object must be str, bytes or bytearray, not NoneType\n",
      "Error translating with src=en (attempt 2): the JSON object must be str, bytes or bytearray, not NoneType\n",
      "🔁 Attempting sentence split and translation...\n"
     ]
    },
    {
     "name": "stderr",
     "output_type": "stream",
     "text": [
      "Translating:   2%|▊                                             | 31/1668 [02:39<2:18:56,  5.09s/it]"
     ]
    },
    {
     "name": "stdout",
     "output_type": "stream",
     "text": [
      "result sent successfully\n",
      "Error translating with src=en (attempt 1): the JSON object must be str, bytes or bytearray, not NoneType\n",
      "Error translating with src=en (attempt 2): the JSON object must be str, bytes or bytearray, not NoneType\n",
      "🔁 Attempting sentence split and translation...\n"
     ]
    },
    {
     "name": "stderr",
     "output_type": "stream",
     "text": [
      "Translating:   2%|▉                                             | 32/1668 [02:43<2:17:39,  5.05s/it]"
     ]
    },
    {
     "name": "stdout",
     "output_type": "stream",
     "text": [
      "result sent successfully\n",
      "Error translating with src=en (attempt 1): the JSON object must be str, bytes or bytearray, not NoneType\n",
      "Error translating with src=en (attempt 2): the JSON object must be str, bytes or bytearray, not NoneType\n",
      "🔁 Attempting sentence split and translation...\n"
     ]
    },
    {
     "name": "stderr",
     "output_type": "stream",
     "text": [
      "Translating:   2%|▉                                             | 33/1668 [02:49<2:17:56,  5.06s/it]"
     ]
    },
    {
     "name": "stdout",
     "output_type": "stream",
     "text": [
      "result sent successfully\n",
      "Error translating with src=en (attempt 1): the JSON object must be str, bytes or bytearray, not NoneType\n",
      "Error translating with src=en (attempt 2): the JSON object must be str, bytes or bytearray, not NoneType\n",
      "🔁 Attempting sentence split and translation...\n"
     ]
    },
    {
     "name": "stderr",
     "output_type": "stream",
     "text": [
      "Translating:   2%|▉                                             | 34/1668 [02:54<2:16:52,  5.03s/it]"
     ]
    },
    {
     "name": "stdout",
     "output_type": "stream",
     "text": [
      "result sent successfully\n",
      "Error translating with src=en (attempt 1): the JSON object must be str, bytes or bytearray, not NoneType\n",
      "Error translating with src=en (attempt 2): the JSON object must be str, bytes or bytearray, not NoneType\n",
      "🔁 Attempting sentence split and translation...\n"
     ]
    },
    {
     "name": "stderr",
     "output_type": "stream",
     "text": [
      "Translating:   2%|▉                                             | 35/1668 [02:59<2:18:53,  5.10s/it]"
     ]
    },
    {
     "name": "stdout",
     "output_type": "stream",
     "text": [
      "result sent successfully\n",
      "Error translating with src=en (attempt 1): the JSON object must be str, bytes or bytearray, not NoneType\n",
      "Error translating with src=en (attempt 2): the JSON object must be str, bytes or bytearray, not NoneType\n",
      "🔁 Attempting sentence split and translation...\n"
     ]
    },
    {
     "name": "stderr",
     "output_type": "stream",
     "text": [
      "Translating:   2%|▉                                             | 36/1668 [03:04<2:19:53,  5.14s/it]"
     ]
    },
    {
     "name": "stdout",
     "output_type": "stream",
     "text": [
      "result sent successfully\n",
      "Error translating with src=en (attempt 1): the JSON object must be str, bytes or bytearray, not NoneType\n",
      "Error translating with src=en (attempt 2): the JSON object must be str, bytes or bytearray, not NoneType\n",
      "🔁 Attempting sentence split and translation...\n"
     ]
    },
    {
     "name": "stderr",
     "output_type": "stream",
     "text": [
      "Translating:   2%|█                                             | 37/1668 [03:09<2:19:28,  5.13s/it]"
     ]
    },
    {
     "name": "stdout",
     "output_type": "stream",
     "text": [
      "result sent successfully\n",
      "Error translating with src=en (attempt 1): the JSON object must be str, bytes or bytearray, not NoneType\n",
      "Error translating with src=en (attempt 2): the JSON object must be str, bytes or bytearray, not NoneType\n",
      "🔁 Attempting sentence split and translation...\n"
     ]
    },
    {
     "name": "stderr",
     "output_type": "stream",
     "text": [
      "Translating:   2%|█                                             | 38/1668 [03:14<2:17:56,  5.08s/it]"
     ]
    },
    {
     "name": "stdout",
     "output_type": "stream",
     "text": [
      "result sent successfully\n",
      "Error translating with src=en (attempt 1): the JSON object must be str, bytes or bytearray, not NoneType\n",
      "Error translating with src=en (attempt 2): the JSON object must be str, bytes or bytearray, not NoneType\n",
      "🔁 Attempting sentence split and translation...\n"
     ]
    },
    {
     "name": "stderr",
     "output_type": "stream",
     "text": [
      "Translating:   2%|█                                             | 39/1668 [03:19<2:20:31,  5.18s/it]"
     ]
    },
    {
     "name": "stdout",
     "output_type": "stream",
     "text": [
      "result sent successfully\n",
      "Error translating with src=en (attempt 1): the JSON object must be str, bytes or bytearray, not NoneType\n",
      "Error translating with src=en (attempt 2): the JSON object must be str, bytes or bytearray, not NoneType\n",
      "🔁 Attempting sentence split and translation...\n"
     ]
    },
    {
     "name": "stderr",
     "output_type": "stream",
     "text": [
      "Translating:   2%|█                                             | 40/1668 [03:25<2:19:46,  5.15s/it]"
     ]
    },
    {
     "name": "stdout",
     "output_type": "stream",
     "text": [
      "result sent successfully\n",
      "Error translating with src=en (attempt 1): the JSON object must be str, bytes or bytearray, not NoneType\n",
      "Error translating with src=en (attempt 2): the JSON object must be str, bytes or bytearray, not NoneType\n",
      "🔁 Attempting sentence split and translation...\n"
     ]
    },
    {
     "name": "stderr",
     "output_type": "stream",
     "text": [
      "Translating:   2%|█▏                                            | 41/1668 [03:30<2:19:20,  5.14s/it]"
     ]
    },
    {
     "name": "stdout",
     "output_type": "stream",
     "text": [
      "result sent successfully\n",
      "Error translating with src=en (attempt 1): the JSON object must be str, bytes or bytearray, not NoneType\n",
      "Error translating with src=en (attempt 2): the JSON object must be str, bytes or bytearray, not NoneType\n",
      "🔁 Attempting sentence split and translation...\n"
     ]
    },
    {
     "name": "stderr",
     "output_type": "stream",
     "text": [
      "Translating:   3%|█▏                                            | 42/1668 [03:35<2:21:17,  5.21s/it]"
     ]
    },
    {
     "name": "stdout",
     "output_type": "stream",
     "text": [
      "result sent successfully\n",
      "Error translating with src=en (attempt 1): the JSON object must be str, bytes or bytearray, not NoneType\n",
      "Error translating with src=en (attempt 2): the JSON object must be str, bytes or bytearray, not NoneType\n",
      "🔁 Attempting sentence split and translation...\n"
     ]
    },
    {
     "name": "stderr",
     "output_type": "stream",
     "text": [
      "Translating:   3%|█▏                                            | 43/1668 [03:40<2:18:56,  5.13s/it]"
     ]
    },
    {
     "name": "stdout",
     "output_type": "stream",
     "text": [
      "result sent successfully\n",
      "Error translating with src=en (attempt 1): the JSON object must be str, bytes or bytearray, not NoneType\n",
      "Error translating with src=en (attempt 2): the JSON object must be str, bytes or bytearray, not NoneType\n",
      "🔁 Attempting sentence split and translation...\n"
     ]
    },
    {
     "name": "stderr",
     "output_type": "stream",
     "text": [
      "Translating:   3%|█▏                                            | 44/1668 [03:45<2:17:12,  5.07s/it]"
     ]
    },
    {
     "name": "stdout",
     "output_type": "stream",
     "text": [
      "result sent successfully\n",
      "Error translating with src=en (attempt 1): the JSON object must be str, bytes or bytearray, not NoneType\n",
      "Error translating with src=en (attempt 2): the JSON object must be str, bytes or bytearray, not NoneType\n",
      "🔁 Attempting sentence split and translation...\n"
     ]
    },
    {
     "name": "stderr",
     "output_type": "stream",
     "text": [
      "Translating:   3%|█▏                                            | 45/1668 [03:50<2:15:58,  5.03s/it]"
     ]
    },
    {
     "name": "stdout",
     "output_type": "stream",
     "text": [
      "result sent successfully\n",
      "Error translating with src=en (attempt 1): the JSON object must be str, bytes or bytearray, not NoneType\n",
      "Error translating with src=en (attempt 2): the JSON object must be str, bytes or bytearray, not NoneType\n",
      "🔁 Attempting sentence split and translation...\n"
     ]
    },
    {
     "name": "stderr",
     "output_type": "stream",
     "text": [
      "Translating:   3%|█▎                                            | 46/1668 [03:55<2:15:14,  5.00s/it]"
     ]
    },
    {
     "name": "stdout",
     "output_type": "stream",
     "text": [
      "result sent successfully\n",
      "Error translating with src=en (attempt 1): the JSON object must be str, bytes or bytearray, not NoneType\n",
      "Error translating with src=en (attempt 2): the JSON object must be str, bytes or bytearray, not NoneType\n",
      "🔁 Attempting sentence split and translation...\n"
     ]
    },
    {
     "name": "stderr",
     "output_type": "stream",
     "text": [
      "Translating:   3%|█▎                                            | 47/1668 [04:01<2:21:08,  5.22s/it]"
     ]
    },
    {
     "name": "stdout",
     "output_type": "stream",
     "text": [
      "result sent successfully\n",
      "Error translating with src=en (attempt 1): the JSON object must be str, bytes or bytearray, not NoneType\n",
      "Error translating with src=en (attempt 2): the JSON object must be str, bytes or bytearray, not NoneType\n",
      "🔁 Attempting sentence split and translation...\n"
     ]
    },
    {
     "name": "stderr",
     "output_type": "stream",
     "text": [
      "Translating:   3%|█▎                                            | 48/1668 [04:06<2:22:26,  5.28s/it]"
     ]
    },
    {
     "name": "stdout",
     "output_type": "stream",
     "text": [
      "result sent successfully\n",
      "Error translating with src=en (attempt 1): the JSON object must be str, bytes or bytearray, not NoneType\n",
      "Error translating with src=en (attempt 2): the JSON object must be str, bytes or bytearray, not NoneType\n",
      "🔁 Attempting sentence split and translation...\n"
     ]
    },
    {
     "name": "stderr",
     "output_type": "stream",
     "text": [
      "Translating:   3%|█▎                                            | 49/1668 [04:11<2:19:34,  5.17s/it]"
     ]
    },
    {
     "name": "stdout",
     "output_type": "stream",
     "text": [
      "result sent successfully\n",
      "Error translating with src=en (attempt 1): the JSON object must be str, bytes or bytearray, not NoneType\n",
      "Error translating with src=en (attempt 2): the JSON object must be str, bytes or bytearray, not NoneType\n",
      "🔁 Attempting sentence split and translation...\n"
     ]
    },
    {
     "name": "stderr",
     "output_type": "stream",
     "text": [
      "Translating:   3%|█▍                                            | 50/1668 [04:16<2:18:44,  5.15s/it]"
     ]
    },
    {
     "name": "stdout",
     "output_type": "stream",
     "text": [
      "result sent successfully\n",
      "Error translating with src=en (attempt 1): the JSON object must be str, bytes or bytearray, not NoneType\n",
      "Error translating with src=en (attempt 2): the JSON object must be str, bytes or bytearray, not NoneType\n",
      "🔁 Attempting sentence split and translation...\n"
     ]
    },
    {
     "name": "stderr",
     "output_type": "stream",
     "text": [
      "Translating:   3%|█▍                                            | 51/1668 [04:21<2:18:11,  5.13s/it]"
     ]
    },
    {
     "name": "stdout",
     "output_type": "stream",
     "text": [
      "result sent successfully\n",
      "Error translating with src=en (attempt 1): the JSON object must be str, bytes or bytearray, not NoneType\n",
      "Error translating with src=en (attempt 2): the JSON object must be str, bytes or bytearray, not NoneType\n",
      "🔁 Attempting sentence split and translation...\n"
     ]
    },
    {
     "name": "stderr",
     "output_type": "stream",
     "text": [
      "Translating:   3%|█▍                                            | 52/1668 [04:26<2:16:30,  5.07s/it]"
     ]
    },
    {
     "name": "stdout",
     "output_type": "stream",
     "text": [
      "result sent successfully\n",
      "Error translating with src=en (attempt 1): the JSON object must be str, bytes or bytearray, not NoneType\n",
      "Error translating with src=en (attempt 2): the JSON object must be str, bytes or bytearray, not NoneType\n",
      "🔁 Attempting sentence split and translation...\n"
     ]
    },
    {
     "name": "stderr",
     "output_type": "stream",
     "text": [
      "Translating:   3%|█▍                                            | 53/1668 [04:31<2:16:33,  5.07s/it]"
     ]
    },
    {
     "name": "stdout",
     "output_type": "stream",
     "text": [
      "result sent successfully\n",
      "Error translating with src=en (attempt 1): the JSON object must be str, bytes or bytearray, not NoneType\n",
      "Error translating with src=en (attempt 2): the JSON object must be str, bytes or bytearray, not NoneType\n",
      "🔁 Attempting sentence split and translation...\n"
     ]
    },
    {
     "name": "stderr",
     "output_type": "stream",
     "text": [
      "Translating:   3%|█▍                                            | 54/1668 [04:36<2:16:46,  5.08s/it]"
     ]
    },
    {
     "name": "stdout",
     "output_type": "stream",
     "text": [
      "result sent successfully\n",
      "Error translating with src=en (attempt 1): the JSON object must be str, bytes or bytearray, not NoneType\n",
      "Error translating with src=en (attempt 2): the JSON object must be str, bytes or bytearray, not NoneType\n",
      "🔁 Attempting sentence split and translation...\n"
     ]
    },
    {
     "name": "stderr",
     "output_type": "stream",
     "text": [
      "Translating:   3%|█▌                                            | 55/1668 [04:41<2:15:29,  5.04s/it]"
     ]
    },
    {
     "name": "stdout",
     "output_type": "stream",
     "text": [
      "result sent successfully\n",
      "Error translating with src=en (attempt 1): the JSON object must be str, bytes or bytearray, not NoneType\n",
      "Error translating with src=en (attempt 2): the JSON object must be str, bytes or bytearray, not NoneType\n",
      "🔁 Attempting sentence split and translation...\n"
     ]
    },
    {
     "name": "stderr",
     "output_type": "stream",
     "text": [
      "Translating:   3%|█▌                                            | 56/1668 [04:46<2:14:26,  5.00s/it]"
     ]
    },
    {
     "name": "stdout",
     "output_type": "stream",
     "text": [
      "result sent successfully\n",
      "Error translating with src=en (attempt 1): the JSON object must be str, bytes or bytearray, not NoneType\n",
      "Error translating with src=en (attempt 2): the JSON object must be str, bytes or bytearray, not NoneType\n",
      "🔁 Attempting sentence split and translation...\n"
     ]
    },
    {
     "name": "stderr",
     "output_type": "stream",
     "text": [
      "Translating:   3%|█▌                                            | 57/1668 [04:51<2:15:11,  5.03s/it]"
     ]
    },
    {
     "name": "stdout",
     "output_type": "stream",
     "text": [
      "result sent successfully\n",
      "Error translating with src=en (attempt 1): the JSON object must be str, bytes or bytearray, not NoneType\n",
      "Error translating with src=en (attempt 2): the JSON object must be str, bytes or bytearray, not NoneType\n",
      "🔁 Attempting sentence split and translation...\n"
     ]
    },
    {
     "name": "stderr",
     "output_type": "stream",
     "text": [
      "Translating:   3%|█▌                                            | 58/1668 [04:56<2:16:50,  5.10s/it]"
     ]
    },
    {
     "name": "stdout",
     "output_type": "stream",
     "text": [
      "result sent successfully\n",
      "Error translating with src=en (attempt 1): the JSON object must be str, bytes or bytearray, not NoneType\n",
      "Error translating with src=en (attempt 2): the JSON object must be str, bytes or bytearray, not NoneType\n",
      "🔁 Attempting sentence split and translation...\n"
     ]
    },
    {
     "name": "stderr",
     "output_type": "stream",
     "text": [
      "Translating:   4%|█▋                                            | 59/1668 [05:02<2:17:14,  5.12s/it]"
     ]
    },
    {
     "name": "stdout",
     "output_type": "stream",
     "text": [
      "result sent successfully\n",
      "Error translating with src=en (attempt 1): the JSON object must be str, bytes or bytearray, not NoneType\n",
      "Error translating with src=en (attempt 2): the JSON object must be str, bytes or bytearray, not NoneType\n",
      "🔁 Attempting sentence split and translation...\n"
     ]
    },
    {
     "name": "stderr",
     "output_type": "stream",
     "text": [
      "Translating:   4%|█▋                                            | 60/1668 [05:07<2:19:17,  5.20s/it]"
     ]
    },
    {
     "name": "stdout",
     "output_type": "stream",
     "text": [
      "result sent successfully\n",
      "Error translating with src=en (attempt 1): the JSON object must be str, bytes or bytearray, not NoneType\n",
      "Error translating with src=en (attempt 2): the JSON object must be str, bytes or bytearray, not NoneType\n",
      "🔁 Attempting sentence split and translation...\n"
     ]
    },
    {
     "name": "stderr",
     "output_type": "stream",
     "text": [
      "Translating:   4%|█▋                                            | 61/1668 [05:12<2:17:11,  5.12s/it]"
     ]
    },
    {
     "name": "stdout",
     "output_type": "stream",
     "text": [
      "result sent successfully\n",
      "Error translating with src=en (attempt 1): the JSON object must be str, bytes or bytearray, not NoneType\n",
      "Error translating with src=en (attempt 2): the JSON object must be str, bytes or bytearray, not NoneType\n",
      "🔁 Attempting sentence split and translation...\n"
     ]
    },
    {
     "name": "stderr",
     "output_type": "stream",
     "text": [
      "Translating:   4%|█▋                                            | 62/1668 [05:17<2:18:18,  5.17s/it]"
     ]
    },
    {
     "name": "stdout",
     "output_type": "stream",
     "text": [
      "result sent successfully\n",
      "Error translating with src=en (attempt 1): the JSON object must be str, bytes or bytearray, not NoneType\n",
      "Error translating with src=en (attempt 2): the JSON object must be str, bytes or bytearray, not NoneType\n",
      "🔁 Attempting sentence split and translation...\n"
     ]
    },
    {
     "name": "stderr",
     "output_type": "stream",
     "text": [
      "Translating:   4%|█▋                                            | 63/1668 [05:22<2:17:33,  5.14s/it]"
     ]
    },
    {
     "name": "stdout",
     "output_type": "stream",
     "text": [
      "result sent successfully\n",
      "Error translating with src=en (attempt 1): the JSON object must be str, bytes or bytearray, not NoneType\n",
      "Error translating with src=en (attempt 2): the JSON object must be str, bytes or bytearray, not NoneType\n",
      "🔁 Attempting sentence split and translation...\n"
     ]
    },
    {
     "name": "stderr",
     "output_type": "stream",
     "text": [
      "Translating:   4%|█▊                                            | 64/1668 [05:28<2:19:28,  5.22s/it]"
     ]
    },
    {
     "name": "stdout",
     "output_type": "stream",
     "text": [
      "result sent successfully\n",
      "Error translating with src=en (attempt 1): the JSON object must be str, bytes or bytearray, not NoneType\n",
      "Error translating with src=en (attempt 2): the JSON object must be str, bytes or bytearray, not NoneType\n",
      "🔁 Attempting sentence split and translation...\n"
     ]
    },
    {
     "name": "stderr",
     "output_type": "stream",
     "text": [
      "Translating:   4%|█▊                                            | 65/1668 [05:33<2:17:10,  5.13s/it]"
     ]
    },
    {
     "name": "stdout",
     "output_type": "stream",
     "text": [
      "result sent successfully\n",
      "Error translating with src=en (attempt 1): the JSON object must be str, bytes or bytearray, not NoneType\n",
      "Error translating with src=en (attempt 2): the JSON object must be str, bytes or bytearray, not NoneType\n",
      "🔁 Attempting sentence split and translation...\n"
     ]
    },
    {
     "name": "stderr",
     "output_type": "stream",
     "text": [
      "Translating:   4%|█▊                                            | 66/1668 [05:38<2:19:05,  5.21s/it]"
     ]
    },
    {
     "name": "stdout",
     "output_type": "stream",
     "text": [
      "result sent successfully\n",
      "Error translating with src=en (attempt 1): the JSON object must be str, bytes or bytearray, not NoneType\n",
      "Error translating with src=en (attempt 2): the JSON object must be str, bytes or bytearray, not NoneType\n",
      "🔁 Attempting sentence split and translation...\n"
     ]
    },
    {
     "name": "stderr",
     "output_type": "stream",
     "text": [
      "Translating:   4%|█▊                                            | 67/1668 [05:43<2:18:03,  5.17s/it]"
     ]
    },
    {
     "name": "stdout",
     "output_type": "stream",
     "text": [
      "result sent successfully\n",
      "Error translating with src=en (attempt 1): the JSON object must be str, bytes or bytearray, not NoneType\n",
      "Error translating with src=en (attempt 2): the JSON object must be str, bytes or bytearray, not NoneType\n",
      "🔁 Attempting sentence split and translation...\n"
     ]
    },
    {
     "name": "stderr",
     "output_type": "stream",
     "text": [
      "Translating:   4%|█▉                                            | 68/1668 [05:48<2:15:58,  5.10s/it]"
     ]
    },
    {
     "name": "stdout",
     "output_type": "stream",
     "text": [
      "result sent successfully\n",
      "Error translating with src=en (attempt 1): the JSON object must be str, bytes or bytearray, not NoneType\n",
      "Error translating with src=en (attempt 2): the JSON object must be str, bytes or bytearray, not NoneType\n",
      "🔁 Attempting sentence split and translation...\n"
     ]
    },
    {
     "name": "stderr",
     "output_type": "stream",
     "text": [
      "Translating:   4%|█▉                                            | 69/1668 [05:53<2:15:48,  5.10s/it]"
     ]
    },
    {
     "name": "stdout",
     "output_type": "stream",
     "text": [
      "result sent successfully\n",
      "Error translating with src=en (attempt 1): the JSON object must be str, bytes or bytearray, not NoneType\n",
      "Error translating with src=en (attempt 2): the JSON object must be str, bytes or bytearray, not NoneType\n",
      "🔁 Attempting sentence split and translation...\n"
     ]
    },
    {
     "name": "stderr",
     "output_type": "stream",
     "text": [
      "Translating:   4%|█▉                                            | 70/1668 [05:58<2:16:33,  5.13s/it]"
     ]
    },
    {
     "name": "stdout",
     "output_type": "stream",
     "text": [
      "result sent successfully\n",
      "Error translating with src=en (attempt 1): the JSON object must be str, bytes or bytearray, not NoneType\n",
      "Error translating with src=en (attempt 2): the JSON object must be str, bytes or bytearray, not NoneType\n",
      "🔁 Attempting sentence split and translation...\n"
     ]
    },
    {
     "name": "stderr",
     "output_type": "stream",
     "text": [
      "Translating:   4%|█▉                                            | 71/1668 [06:03<2:14:54,  5.07s/it]"
     ]
    },
    {
     "name": "stdout",
     "output_type": "stream",
     "text": [
      "result sent successfully\n",
      "Error translating with src=en (attempt 1): the JSON object must be str, bytes or bytearray, not NoneType\n",
      "Error translating with src=en (attempt 2): the JSON object must be str, bytes or bytearray, not NoneType\n",
      "🔁 Attempting sentence split and translation...\n"
     ]
    },
    {
     "name": "stderr",
     "output_type": "stream",
     "text": [
      "Translating:   4%|█▉                                            | 72/1668 [06:08<2:13:48,  5.03s/it]"
     ]
    },
    {
     "name": "stdout",
     "output_type": "stream",
     "text": [
      "result sent successfully\n",
      "Error translating with src=en (attempt 1): the JSON object must be str, bytes or bytearray, not NoneType\n",
      "Error translating with src=en (attempt 2): the JSON object must be str, bytes or bytearray, not NoneType\n",
      "🔁 Attempting sentence split and translation...\n"
     ]
    },
    {
     "name": "stderr",
     "output_type": "stream",
     "text": [
      "Translating:   4%|██                                            | 73/1668 [06:14<2:19:02,  5.23s/it]"
     ]
    },
    {
     "name": "stdout",
     "output_type": "stream",
     "text": [
      "result sent successfully\n",
      "Error translating with src=en (attempt 1): the JSON object must be str, bytes or bytearray, not NoneType\n",
      "Error translating with src=en (attempt 2): the JSON object must be str, bytes or bytearray, not NoneType\n",
      "🔁 Attempting sentence split and translation...\n"
     ]
    },
    {
     "name": "stderr",
     "output_type": "stream",
     "text": [
      "Translating:   4%|██                                            | 74/1668 [06:19<2:17:55,  5.19s/it]"
     ]
    },
    {
     "name": "stdout",
     "output_type": "stream",
     "text": [
      "result sent successfully\n",
      "Error translating with src=en (attempt 1): the JSON object must be str, bytes or bytearray, not NoneType\n",
      "Error translating with src=en (attempt 2): the JSON object must be str, bytes or bytearray, not NoneType\n",
      "🔁 Attempting sentence split and translation...\n"
     ]
    },
    {
     "name": "stderr",
     "output_type": "stream",
     "text": [
      "Translating:   4%|██                                            | 75/1668 [06:24<2:17:03,  5.16s/it]"
     ]
    },
    {
     "name": "stdout",
     "output_type": "stream",
     "text": [
      "result sent successfully\n",
      "Error translating with src=en (attempt 1): the JSON object must be str, bytes or bytearray, not NoneType\n",
      "Error translating with src=en (attempt 2): the JSON object must be str, bytes or bytearray, not NoneType\n",
      "🔁 Attempting sentence split and translation...\n"
     ]
    },
    {
     "name": "stderr",
     "output_type": "stream",
     "text": [
      "Translating:   5%|██                                            | 76/1668 [06:29<2:15:05,  5.09s/it]"
     ]
    },
    {
     "name": "stdout",
     "output_type": "stream",
     "text": [
      "result sent successfully\n",
      "Error translating with src=en (attempt 1): the JSON object must be str, bytes or bytearray, not NoneType\n",
      "Error translating with src=en (attempt 2): the JSON object must be str, bytes or bytearray, not NoneType\n",
      "🔁 Attempting sentence split and translation...\n"
     ]
    },
    {
     "name": "stderr",
     "output_type": "stream",
     "text": [
      "Translating:   5%|██                                            | 77/1668 [06:34<2:14:12,  5.06s/it]"
     ]
    },
    {
     "name": "stdout",
     "output_type": "stream",
     "text": [
      "result sent successfully\n",
      "Error translating with src=en (attempt 1): the JSON object must be str, bytes or bytearray, not NoneType\n",
      "Error translating with src=en (attempt 2): the JSON object must be str, bytes or bytearray, not NoneType\n",
      "🔁 Attempting sentence split and translation...\n"
     ]
    },
    {
     "name": "stderr",
     "output_type": "stream",
     "text": [
      "Translating:   5%|██▏                                           | 78/1668 [06:39<2:14:23,  5.07s/it]"
     ]
    },
    {
     "name": "stdout",
     "output_type": "stream",
     "text": [
      "result sent successfully\n",
      "Error translating with src=en (attempt 1): the JSON object must be str, bytes or bytearray, not NoneType\n",
      "Error translating with src=en (attempt 2): the JSON object must be str, bytes or bytearray, not NoneType\n",
      "🔁 Attempting sentence split and translation...\n"
     ]
    },
    {
     "name": "stderr",
     "output_type": "stream",
     "text": [
      "Translating:   5%|██▏                                           | 79/1668 [06:44<2:13:20,  5.04s/it]"
     ]
    },
    {
     "name": "stdout",
     "output_type": "stream",
     "text": [
      "result sent successfully\n",
      "Error translating with src=en (attempt 1): the JSON object must be str, bytes or bytearray, not NoneType\n",
      "Error translating with src=en (attempt 2): the JSON object must be str, bytes or bytearray, not NoneType\n",
      "🔁 Attempting sentence split and translation...\n"
     ]
    },
    {
     "name": "stderr",
     "output_type": "stream",
     "text": [
      "Translating:   5%|██▏                                           | 80/1668 [06:49<2:12:30,  5.01s/it]"
     ]
    },
    {
     "name": "stdout",
     "output_type": "stream",
     "text": [
      "result sent successfully\n",
      "Error translating with src=en (attempt 1): the JSON object must be str, bytes or bytearray, not NoneType\n",
      "Error translating with src=en (attempt 2): the JSON object must be str, bytes or bytearray, not NoneType\n",
      "🔁 Attempting sentence split and translation...\n"
     ]
    },
    {
     "name": "stderr",
     "output_type": "stream",
     "text": [
      "Translating:   5%|██▏                                           | 81/1668 [06:54<2:11:58,  4.99s/it]"
     ]
    },
    {
     "name": "stdout",
     "output_type": "stream",
     "text": [
      "result sent successfully\n",
      "Error translating with src=en (attempt 1): the JSON object must be str, bytes or bytearray, not NoneType\n",
      "Error translating with src=en (attempt 2): the JSON object must be str, bytes or bytearray, not NoneType\n",
      "🔁 Attempting sentence split and translation...\n"
     ]
    },
    {
     "name": "stderr",
     "output_type": "stream",
     "text": [
      "Translating:   5%|██▎                                           | 82/1668 [06:59<2:11:29,  4.97s/it]"
     ]
    },
    {
     "name": "stdout",
     "output_type": "stream",
     "text": [
      "result sent successfully\n",
      "Error translating with src=en (attempt 1): the JSON object must be str, bytes or bytearray, not NoneType\n",
      "Error translating with src=en (attempt 2): the JSON object must be str, bytes or bytearray, not NoneType\n",
      "🔁 Attempting sentence split and translation...\n"
     ]
    },
    {
     "name": "stderr",
     "output_type": "stream",
     "text": [
      "Translating:   5%|██▎                                           | 83/1668 [07:04<2:12:29,  5.02s/it]"
     ]
    },
    {
     "name": "stdout",
     "output_type": "stream",
     "text": [
      "result sent successfully\n",
      "Error translating with src=en (attempt 1): the JSON object must be str, bytes or bytearray, not NoneType\n",
      "Error translating with src=en (attempt 2): the JSON object must be str, bytes or bytearray, not NoneType\n",
      "🔁 Attempting sentence split and translation...\n"
     ]
    },
    {
     "name": "stderr",
     "output_type": "stream",
     "text": [
      "Translating:   5%|██▎                                           | 84/1668 [07:09<2:13:01,  5.04s/it]"
     ]
    },
    {
     "name": "stdout",
     "output_type": "stream",
     "text": [
      "result sent successfully\n",
      "Error translating with src=en (attempt 1): the JSON object must be str, bytes or bytearray, not NoneType\n",
      "Error translating with src=en (attempt 2): the JSON object must be str, bytes or bytearray, not NoneType\n",
      "🔁 Attempting sentence split and translation...\n"
     ]
    },
    {
     "name": "stderr",
     "output_type": "stream",
     "text": [
      "Translating:   5%|██▎                                           | 85/1668 [07:14<2:14:32,  5.10s/it]"
     ]
    },
    {
     "name": "stdout",
     "output_type": "stream",
     "text": [
      "result sent successfully\n",
      "Error translating with src=en (attempt 1): the JSON object must be str, bytes or bytearray, not NoneType\n",
      "Error translating with src=en (attempt 2): the JSON object must be str, bytes or bytearray, not NoneType\n",
      "🔁 Attempting sentence split and translation...\n"
     ]
    },
    {
     "name": "stderr",
     "output_type": "stream",
     "text": [
      "Translating:   5%|██▎                                           | 86/1668 [07:19<2:13:21,  5.06s/it]"
     ]
    },
    {
     "name": "stdout",
     "output_type": "stream",
     "text": [
      "result sent successfully\n",
      "Error translating with src=en (attempt 1): the JSON object must be str, bytes or bytearray, not NoneType\n",
      "Error translating with src=en (attempt 2): the JSON object must be str, bytes or bytearray, not NoneType\n",
      "🔁 Attempting sentence split and translation...\n"
     ]
    },
    {
     "name": "stderr",
     "output_type": "stream",
     "text": [
      "Translating:   5%|██▍                                           | 87/1668 [07:24<2:12:29,  5.03s/it]"
     ]
    },
    {
     "name": "stdout",
     "output_type": "stream",
     "text": [
      "result sent successfully\n",
      "Error translating with src=en (attempt 1): the JSON object must be str, bytes or bytearray, not NoneType\n",
      "Error translating with src=en (attempt 2): the JSON object must be str, bytes or bytearray, not NoneType\n",
      "🔁 Attempting sentence split and translation...\n"
     ]
    },
    {
     "name": "stderr",
     "output_type": "stream",
     "text": [
      "Translating:   5%|██▍                                           | 88/1668 [07:29<2:13:58,  5.09s/it]"
     ]
    },
    {
     "name": "stdout",
     "output_type": "stream",
     "text": [
      "result sent successfully\n",
      "Error translating with src=en (attempt 1): the JSON object must be str, bytes or bytearray, not NoneType\n",
      "Error translating with src=en (attempt 2): the JSON object must be str, bytes or bytearray, not NoneType\n",
      "🔁 Attempting sentence split and translation...\n"
     ]
    },
    {
     "name": "stderr",
     "output_type": "stream",
     "text": [
      "Translating:   5%|██▍                                           | 89/1668 [07:35<2:13:56,  5.09s/it]"
     ]
    },
    {
     "name": "stdout",
     "output_type": "stream",
     "text": [
      "result sent successfully\n",
      "Error translating with src=en (attempt 1): the JSON object must be str, bytes or bytearray, not NoneType\n",
      "Error translating with src=en (attempt 2): the JSON object must be str, bytes or bytearray, not NoneType\n",
      "🔁 Attempting sentence split and translation...\n"
     ]
    },
    {
     "name": "stderr",
     "output_type": "stream",
     "text": [
      "Translating:   5%|██▍                                           | 90/1668 [07:40<2:15:28,  5.15s/it]"
     ]
    },
    {
     "name": "stdout",
     "output_type": "stream",
     "text": [
      "result sent successfully\n",
      "Error translating with src=en (attempt 1): the JSON object must be str, bytes or bytearray, not NoneType\n",
      "Error translating with src=en (attempt 2): the JSON object must be str, bytes or bytearray, not NoneType\n",
      "🔁 Attempting sentence split and translation...\n"
     ]
    },
    {
     "name": "stderr",
     "output_type": "stream",
     "text": [
      "Translating:   5%|██▌                                           | 91/1668 [07:45<2:14:52,  5.13s/it]"
     ]
    },
    {
     "name": "stdout",
     "output_type": "stream",
     "text": [
      "result sent successfully\n",
      "Error translating with src=en (attempt 1): the JSON object must be str, bytes or bytearray, not NoneType\n",
      "Error translating with src=en (attempt 2): the JSON object must be str, bytes or bytearray, not NoneType\n",
      "🔁 Attempting sentence split and translation...\n"
     ]
    },
    {
     "name": "stderr",
     "output_type": "stream",
     "text": [
      "Translating:   6%|██▌                                           | 92/1668 [07:50<2:13:21,  5.08s/it]"
     ]
    },
    {
     "name": "stdout",
     "output_type": "stream",
     "text": [
      "result sent successfully\n",
      "Error translating with src=en (attempt 1): the JSON object must be str, bytes or bytearray, not NoneType\n",
      "Error translating with src=en (attempt 2): the JSON object must be str, bytes or bytearray, not NoneType\n",
      "🔁 Attempting sentence split and translation...\n"
     ]
    },
    {
     "name": "stderr",
     "output_type": "stream",
     "text": [
      "Translating:   6%|██▌                                           | 93/1668 [07:55<2:12:01,  5.03s/it]"
     ]
    },
    {
     "name": "stdout",
     "output_type": "stream",
     "text": [
      "result sent successfully\n",
      "Error translating with src=en (attempt 1): the JSON object must be str, bytes or bytearray, not NoneType\n",
      "Error translating with src=en (attempt 2): the JSON object must be str, bytes or bytearray, not NoneType\n",
      "🔁 Attempting sentence split and translation...\n"
     ]
    },
    {
     "name": "stderr",
     "output_type": "stream",
     "text": [
      "Translating:   6%|██▌                                           | 94/1668 [08:00<2:11:09,  5.00s/it]"
     ]
    },
    {
     "name": "stdout",
     "output_type": "stream",
     "text": [
      "result sent successfully\n",
      "Error translating with src=en (attempt 1): the JSON object must be str, bytes or bytearray, not NoneType\n",
      "Error translating with src=en (attempt 2): the JSON object must be str, bytes or bytearray, not NoneType\n",
      "🔁 Attempting sentence split and translation...\n"
     ]
    },
    {
     "name": "stderr",
     "output_type": "stream",
     "text": [
      "Translating:   6%|██▌                                           | 95/1668 [08:05<2:11:48,  5.03s/it]"
     ]
    },
    {
     "name": "stdout",
     "output_type": "stream",
     "text": [
      "result sent successfully\n",
      "Error translating with src=en (attempt 1): the JSON object must be str, bytes or bytearray, not NoneType\n",
      "Error translating with src=en (attempt 2): the JSON object must be str, bytes or bytearray, not NoneType\n",
      "🔁 Attempting sentence split and translation...\n"
     ]
    },
    {
     "name": "stderr",
     "output_type": "stream",
     "text": [
      "Translating:   6%|██▋                                           | 96/1668 [08:10<2:12:10,  5.05s/it]"
     ]
    },
    {
     "name": "stdout",
     "output_type": "stream",
     "text": [
      "result sent successfully\n",
      "Error translating with src=en (attempt 1): the JSON object must be str, bytes or bytearray, not NoneType\n",
      "Error translating with src=en (attempt 2): the JSON object must be str, bytes or bytearray, not NoneType\n",
      "🔁 Attempting sentence split and translation...\n"
     ]
    },
    {
     "name": "stderr",
     "output_type": "stream",
     "text": [
      "Translating:   6%|██▋                                           | 97/1668 [08:15<2:13:13,  5.09s/it]"
     ]
    },
    {
     "name": "stdout",
     "output_type": "stream",
     "text": [
      "result sent successfully\n",
      "Error translating with src=en (attempt 1): the JSON object must be str, bytes or bytearray, not NoneType\n",
      "Error translating with src=en (attempt 2): the JSON object must be str, bytes or bytearray, not NoneType\n",
      "🔁 Attempting sentence split and translation...\n"
     ]
    },
    {
     "name": "stderr",
     "output_type": "stream",
     "text": [
      "Translating:   6%|██▋                                           | 98/1668 [08:20<2:14:11,  5.13s/it]"
     ]
    },
    {
     "name": "stdout",
     "output_type": "stream",
     "text": [
      "result sent successfully\n",
      "Error translating with src=en (attempt 1): the JSON object must be str, bytes or bytearray, not NoneType\n",
      "Error translating with src=en (attempt 2): the JSON object must be str, bytes or bytearray, not NoneType\n",
      "🔁 Attempting sentence split and translation...\n"
     ]
    },
    {
     "name": "stderr",
     "output_type": "stream",
     "text": [
      "Translating:   6%|██▋                                           | 99/1668 [08:25<2:12:39,  5.07s/it]"
     ]
    },
    {
     "name": "stdout",
     "output_type": "stream",
     "text": [
      "result sent successfully\n",
      "Error translating with src=en (attempt 1): the JSON object must be str, bytes or bytearray, not NoneType\n",
      "Error translating with src=en (attempt 2): the JSON object must be str, bytes or bytearray, not NoneType\n",
      "🔁 Attempting sentence split and translation...\n"
     ]
    },
    {
     "name": "stderr",
     "output_type": "stream",
     "text": [
      "Translating:   6%|██▋                                          | 100/1668 [08:30<2:12:43,  5.08s/it]"
     ]
    },
    {
     "name": "stdout",
     "output_type": "stream",
     "text": [
      "result sent successfully\n",
      "Error translating with src=en (attempt 1): the JSON object must be str, bytes or bytearray, not NoneType\n",
      "Error translating with src=en (attempt 2): the JSON object must be str, bytes or bytearray, not NoneType\n",
      "🔁 Attempting sentence split and translation...\n"
     ]
    },
    {
     "name": "stderr",
     "output_type": "stream",
     "text": [
      "Translating:   6%|██▋                                          | 101/1668 [08:36<2:14:58,  5.17s/it]"
     ]
    },
    {
     "name": "stdout",
     "output_type": "stream",
     "text": [
      "result sent successfully\n",
      "Error translating with src=en (attempt 1): the JSON object must be str, bytes or bytearray, not NoneType\n",
      "Error translating with src=en (attempt 2): the JSON object must be str, bytes or bytearray, not NoneType\n",
      "🔁 Attempting sentence split and translation...\n"
     ]
    },
    {
     "name": "stderr",
     "output_type": "stream",
     "text": [
      "Translating:   6%|██▊                                          | 102/1668 [08:41<2:13:18,  5.11s/it]"
     ]
    },
    {
     "name": "stdout",
     "output_type": "stream",
     "text": [
      "result sent successfully\n",
      "Error translating with src=en (attempt 1): the JSON object must be str, bytes or bytearray, not NoneType\n",
      "Error translating with src=en (attempt 2): the JSON object must be str, bytes or bytearray, not NoneType\n",
      "🔁 Attempting sentence split and translation...\n"
     ]
    },
    {
     "name": "stderr",
     "output_type": "stream",
     "text": [
      "Translating:   6%|██▊                                          | 103/1668 [08:46<2:13:06,  5.10s/it]"
     ]
    },
    {
     "name": "stdout",
     "output_type": "stream",
     "text": [
      "result sent successfully\n",
      "Error translating with src=en (attempt 1): the JSON object must be str, bytes or bytearray, not NoneType\n",
      "Error translating with src=en (attempt 2): the JSON object must be str, bytes or bytearray, not NoneType\n",
      "🔁 Attempting sentence split and translation...\n"
     ]
    },
    {
     "name": "stderr",
     "output_type": "stream",
     "text": [
      "Translating:   6%|██▊                                          | 104/1668 [08:51<2:13:25,  5.12s/it]"
     ]
    },
    {
     "name": "stdout",
     "output_type": "stream",
     "text": [
      "result sent successfully\n",
      "Error translating with src=en (attempt 1): the JSON object must be str, bytes or bytearray, not NoneType\n",
      "Error translating with src=en (attempt 2): the JSON object must be str, bytes or bytearray, not NoneType\n",
      "🔁 Attempting sentence split and translation...\n"
     ]
    },
    {
     "name": "stderr",
     "output_type": "stream",
     "text": [
      "Translating:   6%|██▊                                          | 105/1668 [08:56<2:14:12,  5.15s/it]"
     ]
    },
    {
     "name": "stdout",
     "output_type": "stream",
     "text": [
      "result sent successfully\n",
      "Error translating with src=en (attempt 1): the JSON object must be str, bytes or bytearray, not NoneType\n",
      "Error translating with src=en (attempt 2): the JSON object must be str, bytes or bytearray, not NoneType\n",
      "🔁 Attempting sentence split and translation...\n"
     ]
    },
    {
     "name": "stderr",
     "output_type": "stream",
     "text": [
      "Translating:   6%|██▊                                          | 106/1668 [09:01<2:12:29,  5.09s/it]"
     ]
    },
    {
     "name": "stdout",
     "output_type": "stream",
     "text": [
      "result sent successfully\n",
      "Error translating with src=en (attempt 1): the JSON object must be str, bytes or bytearray, not NoneType\n",
      "Error translating with src=en (attempt 2): the JSON object must be str, bytes or bytearray, not NoneType\n",
      "🔁 Attempting sentence split and translation...\n"
     ]
    },
    {
     "name": "stderr",
     "output_type": "stream",
     "text": [
      "Translating:   6%|██▉                                          | 107/1668 [09:06<2:12:38,  5.10s/it]"
     ]
    },
    {
     "name": "stdout",
     "output_type": "stream",
     "text": [
      "result sent successfully\n",
      "Error translating with src=en (attempt 1): the JSON object must be str, bytes or bytearray, not NoneType\n",
      "Error translating with src=en (attempt 2): the JSON object must be str, bytes or bytearray, not NoneType\n",
      "🔁 Attempting sentence split and translation...\n"
     ]
    },
    {
     "name": "stderr",
     "output_type": "stream",
     "text": [
      "Translating:   6%|██▉                                          | 108/1668 [09:11<2:11:16,  5.05s/it]"
     ]
    },
    {
     "name": "stdout",
     "output_type": "stream",
     "text": [
      "result sent successfully\n",
      "Error translating with src=en (attempt 1): the JSON object must be str, bytes or bytearray, not NoneType\n",
      "Error translating with src=en (attempt 2): the JSON object must be str, bytes or bytearray, not NoneType\n",
      "🔁 Attempting sentence split and translation...\n"
     ]
    },
    {
     "name": "stderr",
     "output_type": "stream",
     "text": [
      "Translating:   7%|██▉                                          | 109/1668 [09:16<2:10:21,  5.02s/it]"
     ]
    },
    {
     "name": "stdout",
     "output_type": "stream",
     "text": [
      "result sent successfully\n",
      "Error translating with src=en (attempt 1): the JSON object must be str, bytes or bytearray, not NoneType\n",
      "Error translating with src=en (attempt 2): the JSON object must be str, bytes or bytearray, not NoneType\n",
      "🔁 Attempting sentence split and translation...\n"
     ]
    },
    {
     "name": "stderr",
     "output_type": "stream",
     "text": [
      "Translating:   7%|██▉                                          | 110/1668 [09:21<2:11:02,  5.05s/it]"
     ]
    },
    {
     "name": "stdout",
     "output_type": "stream",
     "text": [
      "result sent successfully\n",
      "Error translating with src=en (attempt 1): the JSON object must be str, bytes or bytearray, not NoneType\n",
      "Error translating with src=en (attempt 2): the JSON object must be str, bytes or bytearray, not NoneType\n",
      "🔁 Attempting sentence split and translation...\n"
     ]
    },
    {
     "name": "stderr",
     "output_type": "stream",
     "text": [
      "Translating:   7%|██▉                                          | 111/1668 [09:26<2:11:17,  5.06s/it]"
     ]
    },
    {
     "name": "stdout",
     "output_type": "stream",
     "text": [
      "result sent successfully\n",
      "Error translating with src=en (attempt 1): the JSON object must be str, bytes or bytearray, not NoneType\n",
      "Error translating with src=en (attempt 2): the JSON object must be str, bytes or bytearray, not NoneType\n",
      "🔁 Attempting sentence split and translation...\n"
     ]
    },
    {
     "name": "stderr",
     "output_type": "stream",
     "text": [
      "Translating:   7%|███                                          | 112/1668 [09:32<2:12:33,  5.11s/it]"
     ]
    },
    {
     "name": "stdout",
     "output_type": "stream",
     "text": [
      "result sent successfully\n",
      "Error translating with src=en (attempt 1): the JSON object must be str, bytes or bytearray, not NoneType\n",
      "Error translating with src=en (attempt 2): the JSON object must be str, bytes or bytearray, not NoneType\n",
      "🔁 Attempting sentence split and translation...\n"
     ]
    },
    {
     "name": "stderr",
     "output_type": "stream",
     "text": [
      "Translating:   7%|███                                          | 113/1668 [09:36<2:11:05,  5.06s/it]"
     ]
    },
    {
     "name": "stdout",
     "output_type": "stream",
     "text": [
      "result sent successfully\n",
      "Error translating with src=en (attempt 1): the JSON object must be str, bytes or bytearray, not NoneType\n",
      "Error translating with src=en (attempt 2): the JSON object must be str, bytes or bytearray, not NoneType\n",
      "🔁 Attempting sentence split and translation...\n"
     ]
    },
    {
     "name": "stderr",
     "output_type": "stream",
     "text": [
      "Translating:   7%|███                                          | 114/1668 [09:42<2:14:43,  5.20s/it]"
     ]
    },
    {
     "name": "stdout",
     "output_type": "stream",
     "text": [
      "result sent successfully\n",
      "Error translating with src=en (attempt 1): the JSON object must be str, bytes or bytearray, not NoneType\n",
      "Error translating with src=en (attempt 2): the JSON object must be str, bytes or bytearray, not NoneType\n",
      "🔁 Attempting sentence split and translation...\n"
     ]
    },
    {
     "name": "stderr",
     "output_type": "stream",
     "text": [
      "Translating:   7%|███                                          | 115/1668 [09:47<2:12:26,  5.12s/it]"
     ]
    },
    {
     "name": "stdout",
     "output_type": "stream",
     "text": [
      "result sent successfully\n",
      "Error translating with src=en (attempt 1): the JSON object must be str, bytes or bytearray, not NoneType\n",
      "Error translating with src=en (attempt 2): the JSON object must be str, bytes or bytearray, not NoneType\n",
      "🔁 Attempting sentence split and translation...\n"
     ]
    },
    {
     "name": "stderr",
     "output_type": "stream",
     "text": [
      "Translating:   7%|███▏                                         | 116/1668 [09:52<2:11:05,  5.07s/it]"
     ]
    },
    {
     "name": "stdout",
     "output_type": "stream",
     "text": [
      "result sent successfully\n",
      "Error translating with src=en (attempt 1): the JSON object must be str, bytes or bytearray, not NoneType\n",
      "Error translating with src=en (attempt 2): the JSON object must be str, bytes or bytearray, not NoneType\n",
      "🔁 Attempting sentence split and translation...\n"
     ]
    },
    {
     "name": "stderr",
     "output_type": "stream",
     "text": [
      "Translating:   7%|███▏                                         | 117/1668 [09:57<2:09:54,  5.03s/it]"
     ]
    },
    {
     "name": "stdout",
     "output_type": "stream",
     "text": [
      "result sent successfully\n",
      "Error translating with src=en (attempt 1): the JSON object must be str, bytes or bytearray, not NoneType\n",
      "Error translating with src=en (attempt 2): the JSON object must be str, bytes or bytearray, not NoneType\n",
      "🔁 Attempting sentence split and translation...\n"
     ]
    },
    {
     "name": "stderr",
     "output_type": "stream",
     "text": [
      "Translating:   7%|███▏                                         | 118/1668 [10:02<2:09:14,  5.00s/it]"
     ]
    },
    {
     "name": "stdout",
     "output_type": "stream",
     "text": [
      "result sent successfully\n",
      "Error translating with src=en (attempt 1): the JSON object must be str, bytes or bytearray, not NoneType\n",
      "Error translating with src=en (attempt 2): the JSON object must be str, bytes or bytearray, not NoneType\n",
      "🔁 Attempting sentence split and translation...\n"
     ]
    },
    {
     "name": "stderr",
     "output_type": "stream",
     "text": [
      "Translating:   7%|███▏                                         | 119/1668 [10:07<2:11:19,  5.09s/it]"
     ]
    },
    {
     "name": "stdout",
     "output_type": "stream",
     "text": [
      "result sent successfully\n",
      "Error translating with src=en (attempt 1): the JSON object must be str, bytes or bytearray, not NoneType\n",
      "Error translating with src=en (attempt 2): the JSON object must be str, bytes or bytearray, not NoneType\n",
      "🔁 Attempting sentence split and translation...\n"
     ]
    },
    {
     "name": "stderr",
     "output_type": "stream",
     "text": [
      "Translating:   7%|███▏                                         | 120/1668 [10:12<2:10:12,  5.05s/it]"
     ]
    },
    {
     "name": "stdout",
     "output_type": "stream",
     "text": [
      "result sent successfully\n",
      "Error translating with src=en (attempt 1): the JSON object must be str, bytes or bytearray, not NoneType\n",
      "Error translating with src=en (attempt 2): the JSON object must be str, bytes or bytearray, not NoneType\n",
      "🔁 Attempting sentence split and translation...\n"
     ]
    },
    {
     "name": "stderr",
     "output_type": "stream",
     "text": [
      "Translating:   7%|███▎                                         | 121/1668 [10:17<2:10:25,  5.06s/it]"
     ]
    },
    {
     "name": "stdout",
     "output_type": "stream",
     "text": [
      "result sent successfully\n",
      "Error translating with src=en (attempt 1): the JSON object must be str, bytes or bytearray, not NoneType\n",
      "Error translating with src=en (attempt 2): the JSON object must be str, bytes or bytearray, not NoneType\n",
      "🔁 Attempting sentence split and translation...\n"
     ]
    },
    {
     "name": "stderr",
     "output_type": "stream",
     "text": [
      "Translating:   7%|███▎                                         | 122/1668 [10:22<2:09:31,  5.03s/it]"
     ]
    },
    {
     "name": "stdout",
     "output_type": "stream",
     "text": [
      "result sent successfully\n",
      "Error translating with src=en (attempt 1): the JSON object must be str, bytes or bytearray, not NoneType\n",
      "Error translating with src=en (attempt 2): the JSON object must be str, bytes or bytearray, not NoneType\n",
      "🔁 Attempting sentence split and translation...\n"
     ]
    },
    {
     "name": "stderr",
     "output_type": "stream",
     "text": [
      "Translating:   7%|███▎                                         | 123/1668 [10:27<2:09:09,  5.02s/it]"
     ]
    },
    {
     "name": "stdout",
     "output_type": "stream",
     "text": [
      "result sent successfully\n",
      "Error translating with src=en (attempt 1): the JSON object must be str, bytes or bytearray, not NoneType\n",
      "Error translating with src=en (attempt 2): the JSON object must be str, bytes or bytearray, not NoneType\n",
      "🔁 Attempting sentence split and translation...\n"
     ]
    },
    {
     "name": "stderr",
     "output_type": "stream",
     "text": [
      "Translating:   7%|███▎                                         | 124/1668 [10:32<2:08:34,  5.00s/it]"
     ]
    },
    {
     "name": "stdout",
     "output_type": "stream",
     "text": [
      "result sent successfully\n",
      "Error translating with src=en (attempt 1): the JSON object must be str, bytes or bytearray, not NoneType\n",
      "Error translating with src=en (attempt 2): the JSON object must be str, bytes or bytearray, not NoneType\n",
      "🔁 Attempting sentence split and translation...\n"
     ]
    },
    {
     "name": "stderr",
     "output_type": "stream",
     "text": [
      "Translating:   7%|███▎                                         | 125/1668 [10:37<2:09:11,  5.02s/it]"
     ]
    },
    {
     "name": "stdout",
     "output_type": "stream",
     "text": [
      "result sent successfully\n",
      "Error translating with src=en (attempt 1): the JSON object must be str, bytes or bytearray, not NoneType\n",
      "Error translating with src=en (attempt 2): the JSON object must be str, bytes or bytearray, not NoneType\n",
      "🔁 Attempting sentence split and translation...\n"
     ]
    },
    {
     "name": "stderr",
     "output_type": "stream",
     "text": [
      "Translating:   8%|███▍                                         | 126/1668 [10:42<2:08:31,  5.00s/it]"
     ]
    },
    {
     "name": "stdout",
     "output_type": "stream",
     "text": [
      "result sent successfully\n",
      "Error translating with src=en (attempt 1): the JSON object must be str, bytes or bytearray, not NoneType\n",
      "Error translating with src=en (attempt 2): the JSON object must be str, bytes or bytearray, not NoneType\n",
      "🔁 Attempting sentence split and translation...\n"
     ]
    },
    {
     "name": "stderr",
     "output_type": "stream",
     "text": [
      "Translating:   8%|███▍                                         | 127/1668 [10:47<2:08:59,  5.02s/it]"
     ]
    },
    {
     "name": "stdout",
     "output_type": "stream",
     "text": [
      "result sent successfully\n",
      "Error translating with src=en (attempt 1): the JSON object must be str, bytes or bytearray, not NoneType\n",
      "Error translating with src=en (attempt 2): the JSON object must be str, bytes or bytearray, not NoneType\n",
      "🔁 Attempting sentence split and translation...\n"
     ]
    },
    {
     "name": "stderr",
     "output_type": "stream",
     "text": [
      "Translating:   8%|███▍                                         | 128/1668 [10:52<2:11:44,  5.13s/it]"
     ]
    },
    {
     "name": "stdout",
     "output_type": "stream",
     "text": [
      "result sent successfully\n",
      "Error translating with src=en (attempt 1): the JSON object must be str, bytes or bytearray, not NoneType\n",
      "Error translating with src=en (attempt 2): the JSON object must be str, bytes or bytearray, not NoneType\n",
      "🔁 Attempting sentence split and translation...\n"
     ]
    },
    {
     "name": "stderr",
     "output_type": "stream",
     "text": [
      "Translating:   8%|███▍                                         | 129/1668 [10:57<2:10:22,  5.08s/it]"
     ]
    },
    {
     "name": "stdout",
     "output_type": "stream",
     "text": [
      "result sent successfully\n",
      "Error translating with src=en (attempt 1): the JSON object must be str, bytes or bytearray, not NoneType\n",
      "Error translating with src=en (attempt 2): the JSON object must be str, bytes or bytearray, not NoneType\n",
      "🔁 Attempting sentence split and translation...\n"
     ]
    },
    {
     "name": "stderr",
     "output_type": "stream",
     "text": [
      "Translating:   8%|███▌                                         | 130/1668 [11:03<2:12:56,  5.19s/it]"
     ]
    },
    {
     "name": "stdout",
     "output_type": "stream",
     "text": [
      "result sent successfully\n",
      "Error translating with src=en (attempt 1): the JSON object must be str, bytes or bytearray, not NoneType\n",
      "Error translating with src=en (attempt 2): the JSON object must be str, bytes or bytearray, not NoneType\n",
      "🔁 Attempting sentence split and translation...\n"
     ]
    },
    {
     "name": "stderr",
     "output_type": "stream",
     "text": [
      "Translating:   8%|███▌                                         | 131/1668 [11:08<2:12:13,  5.16s/it]"
     ]
    },
    {
     "name": "stdout",
     "output_type": "stream",
     "text": [
      "result sent successfully\n",
      "Error translating with src=en (attempt 1): the JSON object must be str, bytes or bytearray, not NoneType\n",
      "Error translating with src=en (attempt 2): the JSON object must be str, bytes or bytearray, not NoneType\n",
      "🔁 Attempting sentence split and translation...\n"
     ]
    },
    {
     "name": "stderr",
     "output_type": "stream",
     "text": [
      "Translating:   8%|███▌                                         | 132/1668 [11:13<2:10:21,  5.09s/it]"
     ]
    },
    {
     "name": "stdout",
     "output_type": "stream",
     "text": [
      "result sent successfully\n",
      "Error translating with src=en (attempt 1): the JSON object must be str, bytes or bytearray, not NoneType\n",
      "Error translating with src=en (attempt 2): the JSON object must be str, bytes or bytearray, not NoneType\n",
      "🔁 Attempting sentence split and translation...\n"
     ]
    },
    {
     "name": "stderr",
     "output_type": "stream",
     "text": [
      "Translating:   8%|███▌                                         | 133/1668 [11:18<2:09:17,  5.05s/it]"
     ]
    },
    {
     "name": "stdout",
     "output_type": "stream",
     "text": [
      "result sent successfully\n",
      "Error translating with src=en (attempt 1): the JSON object must be str, bytes or bytearray, not NoneType\n",
      "Error translating with src=en (attempt 2): the JSON object must be str, bytes or bytearray, not NoneType\n",
      "🔁 Attempting sentence split and translation...\n"
     ]
    },
    {
     "name": "stderr",
     "output_type": "stream",
     "text": [
      "Translating:   8%|███▌                                         | 134/1668 [11:23<2:08:27,  5.02s/it]"
     ]
    },
    {
     "name": "stdout",
     "output_type": "stream",
     "text": [
      "result sent successfully\n",
      "Error translating with src=en (attempt 1): the JSON object must be str, bytes or bytearray, not NoneType\n",
      "Error translating with src=en (attempt 2): the JSON object must be str, bytes or bytearray, not NoneType\n",
      "🔁 Attempting sentence split and translation...\n"
     ]
    },
    {
     "name": "stderr",
     "output_type": "stream",
     "text": [
      "Translating:   8%|███▋                                         | 135/1668 [11:28<2:09:22,  5.06s/it]"
     ]
    },
    {
     "name": "stdout",
     "output_type": "stream",
     "text": [
      "result sent successfully\n",
      "Error translating with src=en (attempt 1): the JSON object must be str, bytes or bytearray, not NoneType\n",
      "Error translating with src=en (attempt 2): the JSON object must be str, bytes or bytearray, not NoneType\n",
      "🔁 Attempting sentence split and translation...\n"
     ]
    },
    {
     "name": "stderr",
     "output_type": "stream",
     "text": [
      "Translating:   8%|███▋                                         | 136/1668 [11:33<2:08:22,  5.03s/it]"
     ]
    },
    {
     "name": "stdout",
     "output_type": "stream",
     "text": [
      "result sent successfully\n",
      "Error translating with src=en (attempt 1): the JSON object must be str, bytes or bytearray, not NoneType\n",
      "Error translating with src=en (attempt 2): the JSON object must be str, bytes or bytearray, not NoneType\n",
      "🔁 Attempting sentence split and translation...\n"
     ]
    },
    {
     "name": "stderr",
     "output_type": "stream",
     "text": [
      "Translating:   8%|███▋                                         | 137/1668 [11:38<2:07:37,  5.00s/it]"
     ]
    },
    {
     "name": "stdout",
     "output_type": "stream",
     "text": [
      "result sent successfully\n",
      "Error translating with src=en (attempt 1): the JSON object must be str, bytes or bytearray, not NoneType\n",
      "Error translating with src=en (attempt 2): the JSON object must be str, bytes or bytearray, not NoneType\n",
      "🔁 Attempting sentence split and translation...\n"
     ]
    },
    {
     "name": "stderr",
     "output_type": "stream",
     "text": [
      "Translating:   8%|███▋                                         | 138/1668 [11:43<2:07:00,  4.98s/it]"
     ]
    },
    {
     "name": "stdout",
     "output_type": "stream",
     "text": [
      "result sent successfully\n",
      "Error translating with src=en (attempt 1): the JSON object must be str, bytes or bytearray, not NoneType\n",
      "Error translating with src=en (attempt 2): the JSON object must be str, bytes or bytearray, not NoneType\n",
      "🔁 Attempting sentence split and translation...\n"
     ]
    },
    {
     "name": "stderr",
     "output_type": "stream",
     "text": [
      "Translating:   8%|███▊                                         | 139/1668 [11:48<2:09:13,  5.07s/it]"
     ]
    },
    {
     "name": "stdout",
     "output_type": "stream",
     "text": [
      "result sent successfully\n",
      "Error translating with src=en (attempt 1): the JSON object must be str, bytes or bytearray, not NoneType\n",
      "Error translating with src=en (attempt 2): the JSON object must be str, bytes or bytearray, not NoneType\n",
      "🔁 Attempting sentence split and translation...\n"
     ]
    },
    {
     "name": "stderr",
     "output_type": "stream",
     "text": [
      "Translating:   8%|███▊                                         | 140/1668 [11:53<2:09:22,  5.08s/it]"
     ]
    },
    {
     "name": "stdout",
     "output_type": "stream",
     "text": [
      "result sent successfully\n",
      "Error translating with src=en (attempt 1): the JSON object must be str, bytes or bytearray, not NoneType\n",
      "Error translating with src=en (attempt 2): the JSON object must be str, bytes or bytearray, not NoneType\n",
      "🔁 Attempting sentence split and translation...\n"
     ]
    },
    {
     "name": "stderr",
     "output_type": "stream",
     "text": [
      "Translating:   8%|███▊                                         | 141/1668 [11:58<2:08:07,  5.03s/it]"
     ]
    },
    {
     "name": "stdout",
     "output_type": "stream",
     "text": [
      "result sent successfully\n",
      "Error translating with src=en (attempt 1): the JSON object must be str, bytes or bytearray, not NoneType\n",
      "Error translating with src=en (attempt 2): the JSON object must be str, bytes or bytearray, not NoneType\n",
      "🔁 Attempting sentence split and translation...\n"
     ]
    },
    {
     "name": "stderr",
     "output_type": "stream",
     "text": [
      "Translating:   9%|███▊                                         | 142/1668 [12:03<2:07:24,  5.01s/it]"
     ]
    },
    {
     "name": "stdout",
     "output_type": "stream",
     "text": [
      "result sent successfully\n",
      "Error translating with src=en (attempt 1): the JSON object must be str, bytes or bytearray, not NoneType\n",
      "Error translating with src=en (attempt 2): the JSON object must be str, bytes or bytearray, not NoneType\n",
      "🔁 Attempting sentence split and translation...\n"
     ]
    },
    {
     "name": "stderr",
     "output_type": "stream",
     "text": [
      "Translating:   9%|███▊                                         | 143/1668 [12:08<2:10:14,  5.12s/it]"
     ]
    },
    {
     "name": "stdout",
     "output_type": "stream",
     "text": [
      "result sent successfully\n",
      "Error translating with src=en (attempt 1): the JSON object must be str, bytes or bytearray, not NoneType\n",
      "Error translating with src=en (attempt 2): the JSON object must be str, bytes or bytearray, not NoneType\n",
      "🔁 Attempting sentence split and translation...\n"
     ]
    },
    {
     "name": "stderr",
     "output_type": "stream",
     "text": [
      "Translating:   9%|███▉                                         | 144/1668 [12:13<2:08:52,  5.07s/it]"
     ]
    },
    {
     "name": "stdout",
     "output_type": "stream",
     "text": [
      "result sent successfully\n",
      "Error translating with src=en (attempt 1): the JSON object must be str, bytes or bytearray, not NoneType\n",
      "Error translating with src=en (attempt 2): the JSON object must be str, bytes or bytearray, not NoneType\n",
      "🔁 Attempting sentence split and translation...\n"
     ]
    },
    {
     "name": "stderr",
     "output_type": "stream",
     "text": [
      "Translating:   9%|███▉                                         | 145/1668 [12:19<2:10:09,  5.13s/it]"
     ]
    },
    {
     "name": "stdout",
     "output_type": "stream",
     "text": [
      "result sent successfully\n",
      "Error translating with src=en (attempt 1): the JSON object must be str, bytes or bytearray, not NoneType\n",
      "Error translating with src=en (attempt 2): the JSON object must be str, bytes or bytearray, not NoneType\n",
      "🔁 Attempting sentence split and translation...\n"
     ]
    },
    {
     "name": "stderr",
     "output_type": "stream",
     "text": [
      "Translating:   9%|███▉                                         | 146/1668 [12:24<2:08:26,  5.06s/it]"
     ]
    },
    {
     "name": "stdout",
     "output_type": "stream",
     "text": [
      "result sent successfully\n",
      "Error translating with src=en (attempt 1): the JSON object must be str, bytes or bytearray, not NoneType\n",
      "Error translating with src=en (attempt 2): the JSON object must be str, bytes or bytearray, not NoneType\n",
      "🔁 Attempting sentence split and translation...\n"
     ]
    },
    {
     "name": "stderr",
     "output_type": "stream",
     "text": [
      "Translating:   9%|███▉                                         | 147/1668 [12:29<2:09:58,  5.13s/it]"
     ]
    },
    {
     "name": "stdout",
     "output_type": "stream",
     "text": [
      "result sent successfully\n",
      "Error translating with src=en (attempt 1): the JSON object must be str, bytes or bytearray, not NoneType\n",
      "Error translating with src=en (attempt 2): the JSON object must be str, bytes or bytearray, not NoneType\n",
      "🔁 Attempting sentence split and translation...\n"
     ]
    },
    {
     "name": "stderr",
     "output_type": "stream",
     "text": [
      "Translating:   9%|███▉                                         | 148/1668 [12:34<2:10:45,  5.16s/it]"
     ]
    },
    {
     "name": "stdout",
     "output_type": "stream",
     "text": [
      "result sent successfully\n",
      "Error translating with src=en (attempt 1): the JSON object must be str, bytes or bytearray, not NoneType\n",
      "Error translating with src=en (attempt 2): the JSON object must be str, bytes or bytearray, not NoneType\n",
      "🔁 Attempting sentence split and translation...\n"
     ]
    },
    {
     "name": "stderr",
     "output_type": "stream",
     "text": [
      "Translating:   9%|████                                         | 149/1668 [12:40<2:13:36,  5.28s/it]"
     ]
    },
    {
     "name": "stdout",
     "output_type": "stream",
     "text": [
      "result sent successfully\n",
      "Error translating with src=en (attempt 1): the JSON object must be str, bytes or bytearray, not NoneType\n",
      "Error translating with src=en (attempt 2): the JSON object must be str, bytes or bytearray, not NoneType\n",
      "🔁 Attempting sentence split and translation...\n"
     ]
    },
    {
     "name": "stderr",
     "output_type": "stream",
     "text": [
      "Translating:   9%|████                                         | 150/1668 [12:45<2:12:17,  5.23s/it]"
     ]
    },
    {
     "name": "stdout",
     "output_type": "stream",
     "text": [
      "result sent successfully\n",
      "Error translating with src=en (attempt 1): the JSON object must be str, bytes or bytearray, not NoneType\n",
      "Error translating with src=en (attempt 2): the JSON object must be str, bytes or bytearray, not NoneType\n",
      "🔁 Attempting sentence split and translation...\n"
     ]
    },
    {
     "name": "stderr",
     "output_type": "stream",
     "text": [
      "Translating:   9%|████                                         | 151/1668 [12:50<2:09:51,  5.14s/it]"
     ]
    },
    {
     "name": "stdout",
     "output_type": "stream",
     "text": [
      "result sent successfully\n",
      "Error translating with src=en (attempt 1): the JSON object must be str, bytes or bytearray, not NoneType\n",
      "Error translating with src=en (attempt 2): the JSON object must be str, bytes or bytearray, not NoneType\n",
      "🔁 Attempting sentence split and translation...\n"
     ]
    },
    {
     "name": "stderr",
     "output_type": "stream",
     "text": [
      "Translating:   9%|████                                         | 152/1668 [12:55<2:09:20,  5.12s/it]"
     ]
    },
    {
     "name": "stdout",
     "output_type": "stream",
     "text": [
      "result sent successfully\n",
      "Error translating with src=en (attempt 1): the JSON object must be str, bytes or bytearray, not NoneType\n",
      "Error translating with src=en (attempt 2): the JSON object must be str, bytes or bytearray, not NoneType\n",
      "🔁 Attempting sentence split and translation...\n"
     ]
    },
    {
     "name": "stderr",
     "output_type": "stream",
     "text": [
      "Translating:   9%|████▏                                        | 153/1668 [13:00<2:09:03,  5.11s/it]"
     ]
    },
    {
     "name": "stdout",
     "output_type": "stream",
     "text": [
      "result sent successfully\n",
      "Error translating with src=en (attempt 1): the JSON object must be str, bytes or bytearray, not NoneType\n",
      "Error translating with src=en (attempt 2): the JSON object must be str, bytes or bytearray, not NoneType\n",
      "🔁 Attempting sentence split and translation...\n"
     ]
    },
    {
     "name": "stderr",
     "output_type": "stream",
     "text": [
      "Translating:   9%|████▏                                        | 154/1668 [13:05<2:08:43,  5.10s/it]"
     ]
    },
    {
     "name": "stdout",
     "output_type": "stream",
     "text": [
      "result sent successfully\n",
      "Error translating with src=en (attempt 1): the JSON object must be str, bytes or bytearray, not NoneType\n",
      "Error translating with src=en (attempt 2): the JSON object must be str, bytes or bytearray, not NoneType\n",
      "🔁 Attempting sentence split and translation...\n"
     ]
    },
    {
     "name": "stderr",
     "output_type": "stream",
     "text": [
      "Translating:   9%|████▏                                        | 155/1668 [13:10<2:07:22,  5.05s/it]"
     ]
    },
    {
     "name": "stdout",
     "output_type": "stream",
     "text": [
      "result sent successfully\n",
      "Error translating with src=en (attempt 1): the JSON object must be str, bytes or bytearray, not NoneType\n",
      "Error translating with src=en (attempt 2): the JSON object must be str, bytes or bytearray, not NoneType\n",
      "🔁 Attempting sentence split and translation...\n"
     ]
    },
    {
     "name": "stderr",
     "output_type": "stream",
     "text": [
      "Translating:   9%|████▏                                        | 156/1668 [13:15<2:06:32,  5.02s/it]"
     ]
    },
    {
     "name": "stdout",
     "output_type": "stream",
     "text": [
      "result sent successfully\n",
      "Error translating with src=en (attempt 1): the JSON object must be str, bytes or bytearray, not NoneType\n",
      "Error translating with src=en (attempt 2): the JSON object must be str, bytes or bytearray, not NoneType\n",
      "🔁 Attempting sentence split and translation...\n"
     ]
    },
    {
     "name": "stderr",
     "output_type": "stream",
     "text": [
      "Translating:   9%|████▏                                        | 157/1668 [13:20<2:06:00,  5.00s/it]"
     ]
    },
    {
     "name": "stdout",
     "output_type": "stream",
     "text": [
      "result sent successfully\n",
      "Error translating with src=en (attempt 1): the JSON object must be str, bytes or bytearray, not NoneType\n",
      "Error translating with src=en (attempt 2): the JSON object must be str, bytes or bytearray, not NoneType\n",
      "🔁 Attempting sentence split and translation...\n"
     ]
    },
    {
     "name": "stderr",
     "output_type": "stream",
     "text": [
      "Translating:   9%|████▎                                        | 158/1668 [13:25<2:05:29,  4.99s/it]"
     ]
    },
    {
     "name": "stdout",
     "output_type": "stream",
     "text": [
      "result sent successfully\n",
      "Error translating with src=en (attempt 1): the JSON object must be str, bytes or bytearray, not NoneType\n",
      "Error translating with src=en (attempt 2): the JSON object must be str, bytes or bytearray, not NoneType\n",
      "🔁 Attempting sentence split and translation...\n"
     ]
    },
    {
     "name": "stderr",
     "output_type": "stream",
     "text": [
      "Translating:  10%|████▎                                        | 159/1668 [13:30<2:05:23,  4.99s/it]"
     ]
    },
    {
     "name": "stdout",
     "output_type": "stream",
     "text": [
      "result sent successfully\n",
      "Error translating with src=en (attempt 1): the JSON object must be str, bytes or bytearray, not NoneType\n",
      "Error translating with src=en (attempt 2): the JSON object must be str, bytes or bytearray, not NoneType\n",
      "🔁 Attempting sentence split and translation...\n"
     ]
    },
    {
     "name": "stderr",
     "output_type": "stream",
     "text": [
      "Translating:  10%|████▎                                        | 160/1668 [13:35<2:07:06,  5.06s/it]"
     ]
    },
    {
     "name": "stdout",
     "output_type": "stream",
     "text": [
      "result sent successfully\n",
      "Error translating with src=en (attempt 1): the JSON object must be str, bytes or bytearray, not NoneType\n",
      "Error translating with src=en (attempt 2): the JSON object must be str, bytes or bytearray, not NoneType\n",
      "🔁 Attempting sentence split and translation...\n"
     ]
    },
    {
     "name": "stderr",
     "output_type": "stream",
     "text": [
      "Translating:  10%|████▎                                        | 161/1668 [13:40<2:08:15,  5.11s/it]"
     ]
    },
    {
     "name": "stdout",
     "output_type": "stream",
     "text": [
      "result sent successfully\n",
      "Error translating with src=en (attempt 1): the JSON object must be str, bytes or bytearray, not NoneType\n",
      "Error translating with src=en (attempt 2): the JSON object must be str, bytes or bytearray, not NoneType\n",
      "🔁 Attempting sentence split and translation...\n"
     ]
    },
    {
     "name": "stderr",
     "output_type": "stream",
     "text": [
      "Translating:  10%|████▎                                        | 162/1668 [13:45<2:08:03,  5.10s/it]"
     ]
    },
    {
     "name": "stdout",
     "output_type": "stream",
     "text": [
      "result sent successfully\n",
      "Error translating with src=en (attempt 1): the JSON object must be str, bytes or bytearray, not NoneType\n",
      "Error translating with src=en (attempt 2): the JSON object must be str, bytes or bytearray, not NoneType\n",
      "🔁 Attempting sentence split and translation...\n"
     ]
    },
    {
     "name": "stderr",
     "output_type": "stream",
     "text": [
      "Translating:  10%|████▍                                        | 163/1668 [13:50<2:06:39,  5.05s/it]"
     ]
    },
    {
     "name": "stdout",
     "output_type": "stream",
     "text": [
      "result sent successfully\n",
      "Error translating with src=en (attempt 1): the JSON object must be str, bytes or bytearray, not NoneType\n",
      "Error translating with src=en (attempt 2): the JSON object must be str, bytes or bytearray, not NoneType\n",
      "🔁 Attempting sentence split and translation...\n"
     ]
    },
    {
     "name": "stderr",
     "output_type": "stream",
     "text": [
      "Translating:  10%|████▍                                        | 164/1668 [13:55<2:07:56,  5.10s/it]"
     ]
    },
    {
     "name": "stdout",
     "output_type": "stream",
     "text": [
      "result sent successfully\n",
      "Error translating with src=en (attempt 1): the JSON object must be str, bytes or bytearray, not NoneType\n",
      "Error translating with src=en (attempt 2): the JSON object must be str, bytes or bytearray, not NoneType\n",
      "🔁 Attempting sentence split and translation...\n"
     ]
    },
    {
     "name": "stderr",
     "output_type": "stream",
     "text": [
      "Translating:  10%|████▍                                        | 165/1668 [14:00<2:07:44,  5.10s/it]"
     ]
    },
    {
     "name": "stdout",
     "output_type": "stream",
     "text": [
      "result sent successfully\n",
      "Error translating with src=en (attempt 1): the JSON object must be str, bytes or bytearray, not NoneType\n",
      "Error translating with src=en (attempt 2): the JSON object must be str, bytes or bytearray, not NoneType\n",
      "🔁 Attempting sentence split and translation...\n"
     ]
    },
    {
     "name": "stderr",
     "output_type": "stream",
     "text": [
      "Translating:  10%|████▍                                        | 166/1668 [14:05<2:06:17,  5.05s/it]"
     ]
    },
    {
     "name": "stdout",
     "output_type": "stream",
     "text": [
      "result sent successfully\n",
      "Error translating with src=en (attempt 1): the JSON object must be str, bytes or bytearray, not NoneType\n",
      "Error translating with src=en (attempt 2): the JSON object must be str, bytes or bytearray, not NoneType\n",
      "🔁 Attempting sentence split and translation...\n"
     ]
    },
    {
     "name": "stderr",
     "output_type": "stream",
     "text": [
      "Translating:  10%|████▌                                        | 167/1668 [14:11<2:07:59,  5.12s/it]"
     ]
    },
    {
     "name": "stdout",
     "output_type": "stream",
     "text": [
      "result sent successfully\n",
      "Error translating with src=en (attempt 1): the JSON object must be str, bytes or bytearray, not NoneType\n",
      "Error translating with src=en (attempt 2): the JSON object must be str, bytes or bytearray, not NoneType\n",
      "🔁 Attempting sentence split and translation...\n"
     ]
    },
    {
     "name": "stderr",
     "output_type": "stream",
     "text": [
      "Translating:  10%|████▌                                        | 168/1668 [14:16<2:09:55,  5.20s/it]"
     ]
    },
    {
     "name": "stdout",
     "output_type": "stream",
     "text": [
      "result sent successfully\n",
      "Error translating with src=en (attempt 1): the JSON object must be str, bytes or bytearray, not NoneType\n",
      "Error translating with src=en (attempt 2): the JSON object must be str, bytes or bytearray, not NoneType\n",
      "🔁 Attempting sentence split and translation...\n"
     ]
    },
    {
     "name": "stderr",
     "output_type": "stream",
     "text": [
      "Translating:  10%|████▌                                        | 169/1668 [14:21<2:07:48,  5.12s/it]"
     ]
    },
    {
     "name": "stdout",
     "output_type": "stream",
     "text": [
      "result sent successfully\n",
      "Error translating with src=en (attempt 1): the JSON object must be str, bytes or bytearray, not NoneType\n",
      "Error translating with src=en (attempt 2): the JSON object must be str, bytes or bytearray, not NoneType\n",
      "🔁 Attempting sentence split and translation...\n"
     ]
    },
    {
     "name": "stderr",
     "output_type": "stream",
     "text": [
      "Translating:  10%|████▌                                        | 170/1668 [14:26<2:07:40,  5.11s/it]"
     ]
    },
    {
     "name": "stdout",
     "output_type": "stream",
     "text": [
      "result sent successfully\n",
      "Error translating with src=en (attempt 1): the JSON object must be str, bytes or bytearray, not NoneType\n",
      "Error translating with src=en (attempt 2): the JSON object must be str, bytes or bytearray, not NoneType\n",
      "🔁 Attempting sentence split and translation...\n"
     ]
    },
    {
     "name": "stderr",
     "output_type": "stream",
     "text": [
      "Translating:  10%|████▌                                        | 171/1668 [14:31<2:09:40,  5.20s/it]"
     ]
    },
    {
     "name": "stdout",
     "output_type": "stream",
     "text": [
      "result sent successfully\n",
      "Error translating with src=en (attempt 1): the JSON object must be str, bytes or bytearray, not NoneType\n",
      "Error translating with src=en (attempt 2): the JSON object must be str, bytes or bytearray, not NoneType\n",
      "🔁 Attempting sentence split and translation...\n"
     ]
    },
    {
     "name": "stderr",
     "output_type": "stream",
     "text": [
      "Translating:  10%|████▋                                        | 172/1668 [14:37<2:10:29,  5.23s/it]"
     ]
    },
    {
     "name": "stdout",
     "output_type": "stream",
     "text": [
      "result sent successfully\n",
      "Error translating with src=en (attempt 1): the JSON object must be str, bytes or bytearray, not NoneType\n",
      "Error translating with src=en (attempt 2): the JSON object must be str, bytes or bytearray, not NoneType\n",
      "🔁 Attempting sentence split and translation...\n"
     ]
    },
    {
     "name": "stderr",
     "output_type": "stream",
     "text": [
      "Translating:  10%|████▋                                        | 173/1668 [14:42<2:09:18,  5.19s/it]"
     ]
    },
    {
     "name": "stdout",
     "output_type": "stream",
     "text": [
      "result sent successfully\n",
      "Error translating with src=en (attempt 1): the JSON object must be str, bytes or bytearray, not NoneType\n",
      "Error translating with src=en (attempt 2): the JSON object must be str, bytes or bytearray, not NoneType\n",
      "🔁 Attempting sentence split and translation...\n"
     ]
    },
    {
     "name": "stderr",
     "output_type": "stream",
     "text": [
      "Translating:  10%|████▋                                        | 174/1668 [14:47<2:09:40,  5.21s/it]"
     ]
    },
    {
     "name": "stdout",
     "output_type": "stream",
     "text": [
      "result sent successfully\n",
      "Error translating with src=en (attempt 1): the JSON object must be str, bytes or bytearray, not NoneType\n",
      "Error translating with src=en (attempt 2): the JSON object must be str, bytes or bytearray, not NoneType\n",
      "🔁 Attempting sentence split and translation...\n"
     ]
    },
    {
     "name": "stderr",
     "output_type": "stream",
     "text": [
      "Translating:  10%|████▋                                        | 175/1668 [14:52<2:07:31,  5.13s/it]"
     ]
    },
    {
     "name": "stdout",
     "output_type": "stream",
     "text": [
      "result sent successfully\n",
      "Error translating with src=en (attempt 1): the JSON object must be str, bytes or bytearray, not NoneType\n",
      "Error translating with src=en (attempt 2): the JSON object must be str, bytes or bytearray, not NoneType\n",
      "🔁 Attempting sentence split and translation...\n"
     ]
    },
    {
     "name": "stderr",
     "output_type": "stream",
     "text": [
      "Translating:  11%|████▋                                        | 176/1668 [14:57<2:06:03,  5.07s/it]"
     ]
    },
    {
     "name": "stdout",
     "output_type": "stream",
     "text": [
      "result sent successfully\n",
      "Error translating with src=en (attempt 1): the JSON object must be str, bytes or bytearray, not NoneType\n",
      "Error translating with src=en (attempt 2): the JSON object must be str, bytes or bytearray, not NoneType\n",
      "🔁 Attempting sentence split and translation...\n"
     ]
    },
    {
     "name": "stderr",
     "output_type": "stream",
     "text": [
      "Translating:  11%|████▊                                        | 177/1668 [15:02<2:07:18,  5.12s/it]"
     ]
    },
    {
     "name": "stdout",
     "output_type": "stream",
     "text": [
      "result sent successfully\n",
      "Error translating with src=en (attempt 1): the JSON object must be str, bytes or bytearray, not NoneType\n",
      "Error translating with src=en (attempt 2): the JSON object must be str, bytes or bytearray, not NoneType\n",
      "🔁 Attempting sentence split and translation...\n"
     ]
    },
    {
     "name": "stderr",
     "output_type": "stream",
     "text": [
      "Translating:  11%|████▊                                        | 178/1668 [15:07<2:07:58,  5.15s/it]"
     ]
    },
    {
     "name": "stdout",
     "output_type": "stream",
     "text": [
      "result sent successfully\n",
      "Error translating with src=en (attempt 1): the JSON object must be str, bytes or bytearray, not NoneType\n",
      "Error translating with src=en (attempt 2): the JSON object must be str, bytes or bytearray, not NoneType\n",
      "🔁 Attempting sentence split and translation...\n"
     ]
    },
    {
     "name": "stderr",
     "output_type": "stream",
     "text": [
      "Translating:  11%|████▊                                        | 179/1668 [15:13<2:10:53,  5.27s/it]"
     ]
    },
    {
     "name": "stdout",
     "output_type": "stream",
     "text": [
      "result sent successfully\n",
      "Error translating with src=en (attempt 1): the JSON object must be str, bytes or bytearray, not NoneType\n",
      "Error translating with src=en (attempt 2): the JSON object must be str, bytes or bytearray, not NoneType\n",
      "🔁 Attempting sentence split and translation...\n"
     ]
    },
    {
     "name": "stderr",
     "output_type": "stream",
     "text": [
      "Translating:  11%|████▊                                        | 180/1668 [15:18<2:08:18,  5.17s/it]"
     ]
    },
    {
     "name": "stdout",
     "output_type": "stream",
     "text": [
      "result sent successfully\n",
      "Error translating with src=en (attempt 1): the JSON object must be str, bytes or bytearray, not NoneType\n",
      "Error translating with src=en (attempt 2): the JSON object must be str, bytes or bytearray, not NoneType\n",
      "🔁 Attempting sentence split and translation...\n"
     ]
    },
    {
     "name": "stderr",
     "output_type": "stream",
     "text": [
      "Translating:  11%|████▉                                        | 181/1668 [15:23<2:07:36,  5.15s/it]"
     ]
    },
    {
     "name": "stdout",
     "output_type": "stream",
     "text": [
      "result sent successfully\n",
      "Error translating with src=en (attempt 1): the JSON object must be str, bytes or bytearray, not NoneType\n",
      "Error translating with src=en (attempt 2): the JSON object must be str, bytes or bytearray, not NoneType\n",
      "🔁 Attempting sentence split and translation...\n"
     ]
    },
    {
     "name": "stderr",
     "output_type": "stream",
     "text": [
      "Translating:  11%|████▉                                        | 182/1668 [15:28<2:05:45,  5.08s/it]"
     ]
    },
    {
     "name": "stdout",
     "output_type": "stream",
     "text": [
      "result sent successfully\n",
      "Error translating with src=en (attempt 1): the JSON object must be str, bytes or bytearray, not NoneType\n",
      "Error translating with src=en (attempt 2): the JSON object must be str, bytes or bytearray, not NoneType\n",
      "🔁 Attempting sentence split and translation...\n"
     ]
    },
    {
     "name": "stderr",
     "output_type": "stream",
     "text": [
      "Translating:  11%|████▉                                        | 183/1668 [15:34<2:10:17,  5.26s/it]"
     ]
    },
    {
     "name": "stdout",
     "output_type": "stream",
     "text": [
      "result sent successfully\n",
      "Error translating with src=en (attempt 1): the JSON object must be str, bytes or bytearray, not NoneType\n",
      "Error translating with src=en (attempt 2): the JSON object must be str, bytes or bytearray, not NoneType\n",
      "🔁 Attempting sentence split and translation...\n"
     ]
    },
    {
     "name": "stderr",
     "output_type": "stream",
     "text": [
      "Translating:  11%|████▉                                        | 184/1668 [15:39<2:10:14,  5.27s/it]"
     ]
    },
    {
     "name": "stdout",
     "output_type": "stream",
     "text": [
      "result sent successfully\n",
      "Error translating with src=en (attempt 1): the JSON object must be str, bytes or bytearray, not NoneType\n",
      "Error translating with src=en (attempt 2): the JSON object must be str, bytes or bytearray, not NoneType\n",
      "🔁 Attempting sentence split and translation...\n"
     ]
    },
    {
     "name": "stderr",
     "output_type": "stream",
     "text": [
      "Translating:  11%|████▉                                        | 185/1668 [15:44<2:08:04,  5.18s/it]"
     ]
    },
    {
     "name": "stdout",
     "output_type": "stream",
     "text": [
      "result sent successfully\n",
      "Error translating with src=en (attempt 1): the JSON object must be str, bytes or bytearray, not NoneType\n",
      "Error translating with src=en (attempt 2): the JSON object must be str, bytes or bytearray, not NoneType\n",
      "🔁 Attempting sentence split and translation...\n"
     ]
    },
    {
     "name": "stderr",
     "output_type": "stream",
     "text": [
      "Translating:  11%|█████                                        | 186/1668 [15:49<2:07:21,  5.16s/it]"
     ]
    },
    {
     "name": "stdout",
     "output_type": "stream",
     "text": [
      "result sent successfully\n",
      "Error translating with src=en (attempt 1): the JSON object must be str, bytes or bytearray, not NoneType\n",
      "Error translating with src=en (attempt 2): the JSON object must be str, bytes or bytearray, not NoneType\n",
      "🔁 Attempting sentence split and translation...\n"
     ]
    },
    {
     "name": "stderr",
     "output_type": "stream",
     "text": [
      "Translating:  11%|█████                                        | 187/1668 [15:54<2:07:53,  5.18s/it]"
     ]
    },
    {
     "name": "stdout",
     "output_type": "stream",
     "text": [
      "result sent successfully\n",
      "Error translating with src=en (attempt 1): the JSON object must be str, bytes or bytearray, not NoneType\n",
      "Error translating with src=en (attempt 2): the JSON object must be str, bytes or bytearray, not NoneType\n",
      "🔁 Attempting sentence split and translation...\n"
     ]
    },
    {
     "name": "stderr",
     "output_type": "stream",
     "text": [
      "Translating:  11%|█████                                        | 188/1668 [15:59<2:07:07,  5.15s/it]"
     ]
    },
    {
     "name": "stdout",
     "output_type": "stream",
     "text": [
      "result sent successfully\n",
      "Error translating with src=en (attempt 1): the JSON object must be str, bytes or bytearray, not NoneType\n",
      "Error translating with src=en (attempt 2): the JSON object must be str, bytes or bytearray, not NoneType\n",
      "🔁 Attempting sentence split and translation...\n"
     ]
    },
    {
     "name": "stderr",
     "output_type": "stream",
     "text": [
      "Translating:  11%|█████                                        | 189/1668 [16:05<2:08:46,  5.22s/it]"
     ]
    },
    {
     "name": "stdout",
     "output_type": "stream",
     "text": [
      "result sent successfully\n",
      "Error translating with src=en (attempt 1): the JSON object must be str, bytes or bytearray, not NoneType\n",
      "Error translating with src=en (attempt 2): the JSON object must be str, bytes or bytearray, not NoneType\n",
      "🔁 Attempting sentence split and translation...\n"
     ]
    },
    {
     "name": "stderr",
     "output_type": "stream",
     "text": [
      "Translating:  11%|█████▏                                       | 190/1668 [16:10<2:07:11,  5.16s/it]"
     ]
    },
    {
     "name": "stdout",
     "output_type": "stream",
     "text": [
      "result sent successfully\n",
      "Error translating with src=en (attempt 1): the JSON object must be str, bytes or bytearray, not NoneType\n",
      "Error translating with src=en (attempt 2): the JSON object must be str, bytes or bytearray, not NoneType\n",
      "🔁 Attempting sentence split and translation...\n"
     ]
    },
    {
     "name": "stderr",
     "output_type": "stream",
     "text": [
      "Translating:  11%|█████▏                                       | 191/1668 [16:15<2:05:26,  5.10s/it]"
     ]
    },
    {
     "name": "stdout",
     "output_type": "stream",
     "text": [
      "result sent successfully\n",
      "Error translating with src=en (attempt 1): the JSON object must be str, bytes or bytearray, not NoneType\n",
      "Error translating with src=en (attempt 2): the JSON object must be str, bytes or bytearray, not NoneType\n",
      "🔁 Attempting sentence split and translation...\n"
     ]
    },
    {
     "name": "stderr",
     "output_type": "stream",
     "text": [
      "Translating:  12%|█████▏                                       | 192/1668 [16:20<2:04:20,  5.05s/it]"
     ]
    },
    {
     "name": "stdout",
     "output_type": "stream",
     "text": [
      "result sent successfully\n",
      "Error translating with src=en (attempt 1): the JSON object must be str, bytes or bytearray, not NoneType\n",
      "Error translating with src=en (attempt 2): the JSON object must be str, bytes or bytearray, not NoneType\n",
      "🔁 Attempting sentence split and translation...\n"
     ]
    },
    {
     "name": "stderr",
     "output_type": "stream",
     "text": [
      "Translating:  12%|█████▏                                       | 193/1668 [16:25<2:04:58,  5.08s/it]"
     ]
    },
    {
     "name": "stdout",
     "output_type": "stream",
     "text": [
      "result sent successfully\n",
      "Error translating with src=en (attempt 1): the JSON object must be str, bytes or bytearray, not NoneType\n",
      "Error translating with src=en (attempt 2): the JSON object must be str, bytes or bytearray, not NoneType\n",
      "🔁 Attempting sentence split and translation...\n"
     ]
    },
    {
     "name": "stderr",
     "output_type": "stream",
     "text": [
      "Translating:  12%|█████▏                                       | 194/1668 [16:30<2:07:18,  5.18s/it]"
     ]
    },
    {
     "name": "stdout",
     "output_type": "stream",
     "text": [
      "result sent successfully\n",
      "Error translating with src=en (attempt 1): the JSON object must be str, bytes or bytearray, not NoneType\n",
      "Error translating with src=en (attempt 2): the JSON object must be str, bytes or bytearray, not NoneType\n",
      "🔁 Attempting sentence split and translation...\n"
     ]
    },
    {
     "name": "stderr",
     "output_type": "stream",
     "text": [
      "Translating:  12%|█████▎                                       | 195/1668 [16:35<2:06:40,  5.16s/it]"
     ]
    },
    {
     "name": "stdout",
     "output_type": "stream",
     "text": [
      "result sent successfully\n",
      "Error translating with src=en (attempt 1): the JSON object must be str, bytes or bytearray, not NoneType\n",
      "Error translating with src=en (attempt 2): the JSON object must be str, bytes or bytearray, not NoneType\n",
      "🔁 Attempting sentence split and translation...\n"
     ]
    },
    {
     "name": "stderr",
     "output_type": "stream",
     "text": [
      "Translating:  12%|█████▎                                       | 196/1668 [16:40<2:06:01,  5.14s/it]"
     ]
    },
    {
     "name": "stdout",
     "output_type": "stream",
     "text": [
      "result sent successfully\n",
      "Error translating with src=en (attempt 1): the JSON object must be str, bytes or bytearray, not NoneType\n",
      "Error translating with src=en (attempt 2): the JSON object must be str, bytes or bytearray, not NoneType\n",
      "🔁 Attempting sentence split and translation...\n"
     ]
    },
    {
     "name": "stderr",
     "output_type": "stream",
     "text": [
      "Translating:  12%|█████▎                                       | 197/1668 [16:46<2:06:47,  5.17s/it]"
     ]
    },
    {
     "name": "stdout",
     "output_type": "stream",
     "text": [
      "result sent successfully\n",
      "Error translating with src=en (attempt 1): the JSON object must be str, bytes or bytearray, not NoneType\n",
      "Error translating with src=en (attempt 2): the JSON object must be str, bytes or bytearray, not NoneType\n",
      "🔁 Attempting sentence split and translation...\n"
     ]
    },
    {
     "name": "stderr",
     "output_type": "stream",
     "text": [
      "Translating:  12%|█████▎                                       | 198/1668 [16:51<2:05:34,  5.13s/it]"
     ]
    },
    {
     "name": "stdout",
     "output_type": "stream",
     "text": [
      "result sent successfully\n",
      "Error translating with src=en (attempt 1): the JSON object must be str, bytes or bytearray, not NoneType\n",
      "Error translating with src=en (attempt 2): the JSON object must be str, bytes or bytearray, not NoneType\n",
      "🔁 Attempting sentence split and translation...\n"
     ]
    },
    {
     "name": "stderr",
     "output_type": "stream",
     "text": [
      "Translating:  12%|█████▎                                       | 199/1668 [16:56<2:05:09,  5.11s/it]"
     ]
    },
    {
     "name": "stdout",
     "output_type": "stream",
     "text": [
      "result sent successfully\n",
      "Error translating with src=en (attempt 1): the JSON object must be str, bytes or bytearray, not NoneType\n",
      "Error translating with src=en (attempt 2): the JSON object must be str, bytes or bytearray, not NoneType\n",
      "🔁 Attempting sentence split and translation...\n"
     ]
    },
    {
     "name": "stderr",
     "output_type": "stream",
     "text": [
      "Translating:  12%|█████▍                                       | 200/1668 [17:01<2:04:50,  5.10s/it]"
     ]
    },
    {
     "name": "stdout",
     "output_type": "stream",
     "text": [
      "result sent successfully\n",
      "Error translating with src=en (attempt 1): the JSON object must be str, bytes or bytearray, not NoneType\n",
      "Error translating with src=en (attempt 2): the JSON object must be str, bytes or bytearray, not NoneType\n",
      "🔁 Attempting sentence split and translation...\n"
     ]
    },
    {
     "name": "stderr",
     "output_type": "stream",
     "text": [
      "Translating:  12%|█████▍                                       | 201/1668 [17:06<2:03:34,  5.05s/it]"
     ]
    },
    {
     "name": "stdout",
     "output_type": "stream",
     "text": [
      "result sent successfully\n",
      "Error translating with src=en (attempt 1): the JSON object must be str, bytes or bytearray, not NoneType\n",
      "Error translating with src=en (attempt 2): the JSON object must be str, bytes or bytearray, not NoneType\n",
      "🔁 Attempting sentence split and translation...\n"
     ]
    },
    {
     "name": "stderr",
     "output_type": "stream",
     "text": [
      "Translating:  12%|█████▍                                       | 202/1668 [17:11<2:06:00,  5.16s/it]"
     ]
    },
    {
     "name": "stdout",
     "output_type": "stream",
     "text": [
      "result sent successfully\n",
      "Error translating with src=en (attempt 1): the JSON object must be str, bytes or bytearray, not NoneType\n",
      "Error translating with src=en (attempt 2): the JSON object must be str, bytes or bytearray, not NoneType\n",
      "🔁 Attempting sentence split and translation...\n"
     ]
    },
    {
     "name": "stderr",
     "output_type": "stream",
     "text": [
      "Translating:  12%|█████▍                                       | 203/1668 [17:16<2:05:24,  5.14s/it]"
     ]
    },
    {
     "name": "stdout",
     "output_type": "stream",
     "text": [
      "result sent successfully\n",
      "Error translating with src=en (attempt 1): the JSON object must be str, bytes or bytearray, not NoneType\n",
      "Error translating with src=en (attempt 2): the JSON object must be str, bytes or bytearray, not NoneType\n",
      "🔁 Attempting sentence split and translation...\n"
     ]
    },
    {
     "name": "stderr",
     "output_type": "stream",
     "text": [
      "Translating:  12%|█████▌                                       | 204/1668 [17:21<2:03:45,  5.07s/it]"
     ]
    },
    {
     "name": "stdout",
     "output_type": "stream",
     "text": [
      "result sent successfully\n",
      "Error translating with src=en (attempt 1): the JSON object must be str, bytes or bytearray, not NoneType\n",
      "Error translating with src=en (attempt 2): the JSON object must be str, bytes or bytearray, not NoneType\n",
      "🔁 Attempting sentence split and translation...\n"
     ]
    },
    {
     "name": "stderr",
     "output_type": "stream",
     "text": [
      "Translating:  12%|█████▌                                       | 205/1668 [17:26<2:03:53,  5.08s/it]"
     ]
    },
    {
     "name": "stdout",
     "output_type": "stream",
     "text": [
      "result sent successfully\n",
      "Error translating with src=en (attempt 1): the JSON object must be str, bytes or bytearray, not NoneType\n",
      "Error translating with src=en (attempt 2): the JSON object must be str, bytes or bytearray, not NoneType\n",
      "🔁 Attempting sentence split and translation...\n"
     ]
    },
    {
     "name": "stderr",
     "output_type": "stream",
     "text": [
      "Translating:  12%|█████▌                                       | 206/1668 [17:31<2:03:48,  5.08s/it]"
     ]
    },
    {
     "name": "stdout",
     "output_type": "stream",
     "text": [
      "result sent successfully\n",
      "Error translating with src=en (attempt 1): the JSON object must be str, bytes or bytearray, not NoneType\n",
      "Error translating with src=en (attempt 2): the JSON object must be str, bytes or bytearray, not NoneType\n",
      "🔁 Attempting sentence split and translation...\n"
     ]
    },
    {
     "name": "stderr",
     "output_type": "stream",
     "text": [
      "Translating:  12%|█████▌                                       | 207/1668 [17:37<2:05:05,  5.14s/it]"
     ]
    },
    {
     "name": "stdout",
     "output_type": "stream",
     "text": [
      "result sent successfully\n",
      "Error translating with src=en (attempt 1): the JSON object must be str, bytes or bytearray, not NoneType\n",
      "Error translating with src=en (attempt 2): the JSON object must be str, bytes or bytearray, not NoneType\n",
      "🔁 Attempting sentence split and translation...\n"
     ]
    },
    {
     "name": "stderr",
     "output_type": "stream",
     "text": [
      "Translating:  12%|█████▌                                       | 208/1668 [17:42<2:04:38,  5.12s/it]"
     ]
    },
    {
     "name": "stdout",
     "output_type": "stream",
     "text": [
      "result sent successfully\n",
      "Error translating with src=en (attempt 1): the JSON object must be str, bytes or bytearray, not NoneType\n",
      "Error translating with src=en (attempt 2): the JSON object must be str, bytes or bytearray, not NoneType\n",
      "🔁 Attempting sentence split and translation...\n"
     ]
    },
    {
     "name": "stderr",
     "output_type": "stream",
     "text": [
      "Translating:  13%|█████▋                                       | 209/1668 [17:47<2:04:12,  5.11s/it]"
     ]
    },
    {
     "name": "stdout",
     "output_type": "stream",
     "text": [
      "result sent successfully\n",
      "Error translating with src=en (attempt 1): the JSON object must be str, bytes or bytearray, not NoneType\n",
      "Error translating with src=en (attempt 2): the JSON object must be str, bytes or bytearray, not NoneType\n",
      "🔁 Attempting sentence split and translation...\n"
     ]
    },
    {
     "name": "stderr",
     "output_type": "stream",
     "text": [
      "Translating:  13%|█████▋                                       | 210/1668 [17:52<2:04:02,  5.10s/it]"
     ]
    },
    {
     "name": "stdout",
     "output_type": "stream",
     "text": [
      "result sent successfully\n",
      "Error translating with src=en (attempt 1): the JSON object must be str, bytes or bytearray, not NoneType\n",
      "Error translating with src=en (attempt 2): the JSON object must be str, bytes or bytearray, not NoneType\n",
      "🔁 Attempting sentence split and translation...\n"
     ]
    },
    {
     "name": "stderr",
     "output_type": "stream",
     "text": [
      "Translating:  13%|█████▋                                       | 211/1668 [17:57<2:04:42,  5.14s/it]"
     ]
    },
    {
     "name": "stdout",
     "output_type": "stream",
     "text": [
      "result sent successfully\n",
      "Error translating with src=en (attempt 1): the JSON object must be str, bytes or bytearray, not NoneType\n",
      "Error translating with src=en (attempt 2): the JSON object must be str, bytes or bytearray, not NoneType\n",
      "🔁 Attempting sentence split and translation...\n"
     ]
    },
    {
     "name": "stderr",
     "output_type": "stream",
     "text": [
      "Translating:  13%|█████▋                                       | 212/1668 [18:02<2:05:44,  5.18s/it]"
     ]
    },
    {
     "name": "stdout",
     "output_type": "stream",
     "text": [
      "result sent successfully\n",
      "Error translating with src=en (attempt 1): the JSON object must be str, bytes or bytearray, not NoneType\n",
      "Error translating with src=en (attempt 2): the JSON object must be str, bytes or bytearray, not NoneType\n",
      "🔁 Attempting sentence split and translation...\n"
     ]
    },
    {
     "name": "stderr",
     "output_type": "stream",
     "text": [
      "Translating:  13%|█████▋                                       | 213/1668 [18:07<2:03:47,  5.11s/it]"
     ]
    },
    {
     "name": "stdout",
     "output_type": "stream",
     "text": [
      "result sent successfully\n",
      "Error translating with src=en (attempt 1): the JSON object must be str, bytes or bytearray, not NoneType\n",
      "Error translating with src=en (attempt 2): the JSON object must be str, bytes or bytearray, not NoneType\n",
      "🔁 Attempting sentence split and translation...\n"
     ]
    },
    {
     "name": "stderr",
     "output_type": "stream",
     "text": [
      "Translating:  13%|█████▊                                       | 214/1668 [18:12<2:02:38,  5.06s/it]"
     ]
    },
    {
     "name": "stdout",
     "output_type": "stream",
     "text": [
      "result sent successfully\n",
      "Error translating with src=en (attempt 1): the JSON object must be str, bytes or bytearray, not NoneType\n",
      "Error translating with src=en (attempt 2): the JSON object must be str, bytes or bytearray, not NoneType\n",
      "🔁 Attempting sentence split and translation...\n"
     ]
    },
    {
     "name": "stderr",
     "output_type": "stream",
     "text": [
      "Translating:  13%|█████▊                                       | 215/1668 [18:18<2:07:02,  5.25s/it]"
     ]
    },
    {
     "name": "stdout",
     "output_type": "stream",
     "text": [
      "result sent successfully\n",
      "Error translating with src=en (attempt 1): the JSON object must be str, bytes or bytearray, not NoneType\n",
      "Error translating with src=en (attempt 2): the JSON object must be str, bytes or bytearray, not NoneType\n",
      "🔁 Attempting sentence split and translation...\n"
     ]
    },
    {
     "name": "stderr",
     "output_type": "stream",
     "text": [
      "Translating:  13%|█████▊                                       | 216/1668 [18:23<2:06:17,  5.22s/it]"
     ]
    },
    {
     "name": "stdout",
     "output_type": "stream",
     "text": [
      "result sent successfully\n",
      "Error translating with src=en (attempt 1): the JSON object must be str, bytes or bytearray, not NoneType\n",
      "Error translating with src=en (attempt 2): the JSON object must be str, bytes or bytearray, not NoneType\n",
      "🔁 Attempting sentence split and translation...\n"
     ]
    },
    {
     "name": "stderr",
     "output_type": "stream",
     "text": [
      "Translating:  13%|█████▊                                       | 217/1668 [18:28<2:05:17,  5.18s/it]"
     ]
    },
    {
     "name": "stdout",
     "output_type": "stream",
     "text": [
      "result sent successfully\n",
      "Error translating with src=en (attempt 1): the JSON object must be str, bytes or bytearray, not NoneType\n",
      "Error translating with src=en (attempt 2): the JSON object must be str, bytes or bytearray, not NoneType\n",
      "🔁 Attempting sentence split and translation...\n"
     ]
    },
    {
     "name": "stderr",
     "output_type": "stream",
     "text": [
      "Translating:  13%|█████▉                                       | 218/1668 [18:34<2:06:06,  5.22s/it]"
     ]
    },
    {
     "name": "stdout",
     "output_type": "stream",
     "text": [
      "result sent successfully\n",
      "Error translating with src=en (attempt 1): the JSON object must be str, bytes or bytearray, not NoneType\n",
      "Error translating with src=en (attempt 2): the JSON object must be str, bytes or bytearray, not NoneType\n",
      "🔁 Attempting sentence split and translation...\n"
     ]
    },
    {
     "name": "stderr",
     "output_type": "stream",
     "text": [
      "Translating:  13%|█████▉                                       | 219/1668 [18:39<2:06:08,  5.22s/it]"
     ]
    },
    {
     "name": "stdout",
     "output_type": "stream",
     "text": [
      "result sent successfully\n",
      "Error translating with src=en (attempt 1): the JSON object must be str, bytes or bytearray, not NoneType\n",
      "Error translating with src=en (attempt 2): the JSON object must be str, bytes or bytearray, not NoneType\n",
      "🔁 Attempting sentence split and translation...\n"
     ]
    },
    {
     "name": "stderr",
     "output_type": "stream",
     "text": [
      "Translating:  13%|█████▉                                       | 220/1668 [18:44<2:05:01,  5.18s/it]"
     ]
    },
    {
     "name": "stdout",
     "output_type": "stream",
     "text": [
      "result sent successfully\n",
      "Error translating with src=en (attempt 1): the JSON object must be str, bytes or bytearray, not NoneType\n",
      "Error translating with src=en (attempt 2): the JSON object must be str, bytes or bytearray, not NoneType\n",
      "🔁 Attempting sentence split and translation...\n"
     ]
    },
    {
     "name": "stderr",
     "output_type": "stream",
     "text": [
      "Translating:  13%|█████▉                                       | 221/1668 [18:49<2:04:24,  5.16s/it]"
     ]
    },
    {
     "name": "stdout",
     "output_type": "stream",
     "text": [
      "result sent successfully\n",
      "Error translating with src=en (attempt 1): the JSON object must be str, bytes or bytearray, not NoneType\n",
      "Error translating with src=en (attempt 2): the JSON object must be str, bytes or bytearray, not NoneType\n",
      "🔁 Attempting sentence split and translation...\n"
     ]
    },
    {
     "name": "stderr",
     "output_type": "stream",
     "text": [
      "Translating:  13%|█████▉                                       | 222/1668 [18:54<2:02:28,  5.08s/it]"
     ]
    },
    {
     "name": "stdout",
     "output_type": "stream",
     "text": [
      "result sent successfully\n",
      "Error translating with src=en (attempt 1): the JSON object must be str, bytes or bytearray, not NoneType\n",
      "Error translating with src=en (attempt 2): the JSON object must be str, bytes or bytearray, not NoneType\n",
      "🔁 Attempting sentence split and translation...\n"
     ]
    },
    {
     "name": "stderr",
     "output_type": "stream",
     "text": [
      "Translating:  13%|██████                                       | 223/1668 [18:59<2:03:53,  5.14s/it]"
     ]
    },
    {
     "name": "stdout",
     "output_type": "stream",
     "text": [
      "result sent successfully\n",
      "Error translating with src=en (attempt 1): the JSON object must be str, bytes or bytearray, not NoneType\n",
      "Error translating with src=en (attempt 2): the JSON object must be str, bytes or bytearray, not NoneType\n",
      "🔁 Attempting sentence split and translation...\n"
     ]
    },
    {
     "name": "stderr",
     "output_type": "stream",
     "text": [
      "Translating:  13%|██████                                       | 224/1668 [19:04<2:04:26,  5.17s/it]"
     ]
    },
    {
     "name": "stdout",
     "output_type": "stream",
     "text": [
      "result sent successfully\n",
      "Error translating with src=en (attempt 1): the JSON object must be str, bytes or bytearray, not NoneType\n",
      "Error translating with src=en (attempt 2): the JSON object must be str, bytes or bytearray, not NoneType\n",
      "🔁 Attempting sentence split and translation...\n"
     ]
    },
    {
     "name": "stderr",
     "output_type": "stream",
     "text": [
      "Translating:  13%|██████                                       | 225/1668 [19:10<2:04:43,  5.19s/it]"
     ]
    },
    {
     "name": "stdout",
     "output_type": "stream",
     "text": [
      "result sent successfully\n",
      "Error translating with src=en (attempt 1): the JSON object must be str, bytes or bytearray, not NoneType\n",
      "Error translating with src=en (attempt 2): the JSON object must be str, bytes or bytearray, not NoneType\n",
      "🔁 Attempting sentence split and translation...\n"
     ]
    },
    {
     "name": "stderr",
     "output_type": "stream",
     "text": [
      "Translating:  14%|██████                                       | 226/1668 [19:15<2:04:19,  5.17s/it]"
     ]
    },
    {
     "name": "stdout",
     "output_type": "stream",
     "text": [
      "result sent successfully\n",
      "Error translating with src=en (attempt 1): the JSON object must be str, bytes or bytearray, not NoneType\n",
      "Error translating with src=en (attempt 2): the JSON object must be str, bytes or bytearray, not NoneType\n",
      "🔁 Attempting sentence split and translation...\n"
     ]
    },
    {
     "name": "stderr",
     "output_type": "stream",
     "text": [
      "Translating:  14%|██████                                       | 227/1668 [19:20<2:03:49,  5.16s/it]"
     ]
    },
    {
     "name": "stdout",
     "output_type": "stream",
     "text": [
      "result sent successfully\n",
      "Error translating with src=en (attempt 1): the JSON object must be str, bytes or bytearray, not NoneType\n",
      "Error translating with src=en (attempt 2): the JSON object must be str, bytes or bytearray, not NoneType\n",
      "🔁 Attempting sentence split and translation...\n"
     ]
    },
    {
     "name": "stderr",
     "output_type": "stream",
     "text": [
      "Translating:  14%|██████▏                                      | 228/1668 [19:25<2:04:20,  5.18s/it]"
     ]
    },
    {
     "name": "stdout",
     "output_type": "stream",
     "text": [
      "result sent successfully\n",
      "Error translating with src=en (attempt 1): the JSON object must be str, bytes or bytearray, not NoneType\n",
      "Error translating with src=en (attempt 2): the JSON object must be str, bytes or bytearray, not NoneType\n",
      "🔁 Attempting sentence split and translation...\n"
     ]
    },
    {
     "name": "stderr",
     "output_type": "stream",
     "text": [
      "Translating:  14%|██████▏                                      | 229/1668 [19:30<2:02:31,  5.11s/it]"
     ]
    },
    {
     "name": "stdout",
     "output_type": "stream",
     "text": [
      "result sent successfully\n",
      "Error translating with src=en (attempt 1): the JSON object must be str, bytes or bytearray, not NoneType\n",
      "Error translating with src=en (attempt 2): the JSON object must be str, bytes or bytearray, not NoneType\n",
      "🔁 Attempting sentence split and translation...\n"
     ]
    },
    {
     "name": "stderr",
     "output_type": "stream",
     "text": [
      "Translating:  14%|██████▏                                      | 230/1668 [19:35<2:02:10,  5.10s/it]"
     ]
    },
    {
     "name": "stdout",
     "output_type": "stream",
     "text": [
      "result sent successfully\n",
      "Error translating with src=en (attempt 1): the JSON object must be str, bytes or bytearray, not NoneType\n",
      "Error translating with src=en (attempt 2): the JSON object must be str, bytes or bytearray, not NoneType\n",
      "🔁 Attempting sentence split and translation...\n"
     ]
    },
    {
     "name": "stderr",
     "output_type": "stream",
     "text": [
      "Translating:  14%|██████▏                                      | 231/1668 [19:40<2:01:58,  5.09s/it]"
     ]
    },
    {
     "name": "stdout",
     "output_type": "stream",
     "text": [
      "result sent successfully\n",
      "Error translating with src=en (attempt 1): the JSON object must be str, bytes or bytearray, not NoneType\n",
      "Error translating with src=en (attempt 2): the JSON object must be str, bytes or bytearray, not NoneType\n",
      "🔁 Attempting sentence split and translation...\n"
     ]
    },
    {
     "name": "stderr",
     "output_type": "stream",
     "text": [
      "Translating:  14%|██████▎                                      | 232/1668 [19:45<2:02:54,  5.14s/it]"
     ]
    },
    {
     "name": "stdout",
     "output_type": "stream",
     "text": [
      "result sent successfully\n",
      "Error translating with src=en (attempt 1): the JSON object must be str, bytes or bytearray, not NoneType\n",
      "Error translating with src=en (attempt 2): the JSON object must be str, bytes or bytearray, not NoneType\n",
      "🔁 Attempting sentence split and translation...\n"
     ]
    },
    {
     "name": "stderr",
     "output_type": "stream",
     "text": [
      "Translating:  14%|██████▎                                      | 233/1668 [19:51<2:03:44,  5.17s/it]"
     ]
    },
    {
     "name": "stdout",
     "output_type": "stream",
     "text": [
      "result sent successfully\n",
      "Error translating with src=en (attempt 1): the JSON object must be str, bytes or bytearray, not NoneType\n",
      "Error translating with src=en (attempt 2): the JSON object must be str, bytes or bytearray, not NoneType\n",
      "🔁 Attempting sentence split and translation...\n"
     ]
    },
    {
     "name": "stderr",
     "output_type": "stream",
     "text": [
      "Translating:  14%|██████▎                                      | 234/1668 [19:56<2:04:27,  5.21s/it]"
     ]
    },
    {
     "name": "stdout",
     "output_type": "stream",
     "text": [
      "result sent successfully\n",
      "Error translating with src=en (attempt 1): the JSON object must be str, bytes or bytearray, not NoneType\n",
      "Error translating with src=en (attempt 2): the JSON object must be str, bytes or bytearray, not NoneType\n",
      "🔁 Attempting sentence split and translation...\n"
     ]
    },
    {
     "name": "stderr",
     "output_type": "stream",
     "text": [
      "Translating:  14%|██████▎                                      | 235/1668 [20:01<2:02:23,  5.12s/it]"
     ]
    },
    {
     "name": "stdout",
     "output_type": "stream",
     "text": [
      "result sent successfully\n",
      "Error translating with src=en (attempt 1): the JSON object must be str, bytes or bytearray, not NoneType\n",
      "Error translating with src=en (attempt 2): the JSON object must be str, bytes or bytearray, not NoneType\n",
      "🔁 Attempting sentence split and translation...\n"
     ]
    },
    {
     "name": "stderr",
     "output_type": "stream",
     "text": [
      "Translating:  14%|██████▎                                      | 236/1668 [20:06<2:00:51,  5.06s/it]"
     ]
    },
    {
     "name": "stdout",
     "output_type": "stream",
     "text": [
      "result sent successfully\n",
      "Error translating with src=en (attempt 1): the JSON object must be str, bytes or bytearray, not NoneType\n",
      "Error translating with src=en (attempt 2): the JSON object must be str, bytes or bytearray, not NoneType\n",
      "🔁 Attempting sentence split and translation...\n"
     ]
    },
    {
     "name": "stderr",
     "output_type": "stream",
     "text": [
      "Translating:  14%|██████▍                                      | 237/1668 [20:11<1:59:52,  5.03s/it]"
     ]
    },
    {
     "name": "stdout",
     "output_type": "stream",
     "text": [
      "result sent successfully\n",
      "Error translating with src=en (attempt 1): the JSON object must be str, bytes or bytearray, not NoneType\n",
      "Error translating with src=en (attempt 2): the JSON object must be str, bytes or bytearray, not NoneType\n",
      "🔁 Attempting sentence split and translation...\n"
     ]
    },
    {
     "name": "stderr",
     "output_type": "stream",
     "text": [
      "Translating:  14%|██████▍                                      | 238/1668 [20:16<2:01:12,  5.09s/it]"
     ]
    },
    {
     "name": "stdout",
     "output_type": "stream",
     "text": [
      "result sent successfully\n",
      "Error translating with src=en (attempt 1): the JSON object must be str, bytes or bytearray, not NoneType\n",
      "Error translating with src=en (attempt 2): the JSON object must be str, bytes or bytearray, not NoneType\n",
      "🔁 Attempting sentence split and translation...\n"
     ]
    },
    {
     "name": "stderr",
     "output_type": "stream",
     "text": [
      "Translating:  14%|██████▍                                      | 239/1668 [20:21<2:01:16,  5.09s/it]"
     ]
    },
    {
     "name": "stdout",
     "output_type": "stream",
     "text": [
      "result sent successfully\n",
      "Error translating with src=en (attempt 1): the JSON object must be str, bytes or bytearray, not NoneType\n",
      "Error translating with src=en (attempt 2): the JSON object must be str, bytes or bytearray, not NoneType\n",
      "🔁 Attempting sentence split and translation...\n"
     ]
    },
    {
     "name": "stderr",
     "output_type": "stream",
     "text": [
      "Translating:  14%|██████▍                                      | 240/1668 [20:26<2:00:14,  5.05s/it]"
     ]
    },
    {
     "name": "stdout",
     "output_type": "stream",
     "text": [
      "result sent successfully\n",
      "Error translating with src=en (attempt 1): the JSON object must be str, bytes or bytearray, not NoneType\n",
      "Error translating with src=en (attempt 2): the JSON object must be str, bytes or bytearray, not NoneType\n",
      "🔁 Attempting sentence split and translation...\n"
     ]
    },
    {
     "name": "stderr",
     "output_type": "stream",
     "text": [
      "Translating:  14%|██████▌                                      | 241/1668 [20:31<2:02:32,  5.15s/it]"
     ]
    },
    {
     "name": "stdout",
     "output_type": "stream",
     "text": [
      "result sent successfully\n",
      "Error translating with src=en (attempt 1): the JSON object must be str, bytes or bytearray, not NoneType\n",
      "Error translating with src=en (attempt 2): the JSON object must be str, bytes or bytearray, not NoneType\n",
      "🔁 Attempting sentence split and translation...\n"
     ]
    },
    {
     "name": "stderr",
     "output_type": "stream",
     "text": [
      "Translating:  15%|██████▌                                      | 242/1668 [20:37<2:02:44,  5.16s/it]"
     ]
    },
    {
     "name": "stdout",
     "output_type": "stream",
     "text": [
      "result sent successfully\n",
      "Error translating with src=en (attempt 1): the JSON object must be str, bytes or bytearray, not NoneType\n",
      "Error translating with src=en (attempt 2): the JSON object must be str, bytes or bytearray, not NoneType\n",
      "🔁 Attempting sentence split and translation...\n"
     ]
    },
    {
     "name": "stderr",
     "output_type": "stream",
     "text": [
      "Translating:  15%|██████▌                                      | 243/1668 [20:42<2:04:07,  5.23s/it]"
     ]
    },
    {
     "name": "stdout",
     "output_type": "stream",
     "text": [
      "result sent successfully\n",
      "Error translating with src=en (attempt 1): the JSON object must be str, bytes or bytearray, not NoneType\n",
      "Error translating with src=en (attempt 2): the JSON object must be str, bytes or bytearray, not NoneType\n",
      "🔁 Attempting sentence split and translation...\n"
     ]
    },
    {
     "name": "stderr",
     "output_type": "stream",
     "text": [
      "Translating:  15%|██████▌                                      | 244/1668 [20:47<2:02:57,  5.18s/it]"
     ]
    },
    {
     "name": "stdout",
     "output_type": "stream",
     "text": [
      "result sent successfully\n",
      "Error translating with src=en (attempt 1): the JSON object must be str, bytes or bytearray, not NoneType\n",
      "Error translating with src=en (attempt 2): the JSON object must be str, bytes or bytearray, not NoneType\n",
      "🔁 Attempting sentence split and translation...\n"
     ]
    },
    {
     "name": "stderr",
     "output_type": "stream",
     "text": [
      "Translating:  15%|██████▌                                      | 245/1668 [20:52<2:04:16,  5.24s/it]"
     ]
    },
    {
     "name": "stdout",
     "output_type": "stream",
     "text": [
      "result sent successfully\n",
      "Error translating with src=en (attempt 1): the JSON object must be str, bytes or bytearray, not NoneType\n",
      "Error translating with src=en (attempt 2): the JSON object must be str, bytes or bytearray, not NoneType\n",
      "🔁 Attempting sentence split and translation...\n"
     ]
    },
    {
     "name": "stderr",
     "output_type": "stream",
     "text": [
      "Translating:  15%|██████▋                                      | 246/1668 [20:57<2:01:58,  5.15s/it]"
     ]
    },
    {
     "name": "stdout",
     "output_type": "stream",
     "text": [
      "result sent successfully\n",
      "Error translating with src=en (attempt 1): the JSON object must be str, bytes or bytearray, not NoneType\n",
      "Error translating with src=en (attempt 2): the JSON object must be str, bytes or bytearray, not NoneType\n",
      "🔁 Attempting sentence split and translation...\n"
     ]
    },
    {
     "name": "stderr",
     "output_type": "stream",
     "text": [
      "Translating:  15%|██████▋                                      | 247/1668 [21:02<2:00:32,  5.09s/it]"
     ]
    },
    {
     "name": "stdout",
     "output_type": "stream",
     "text": [
      "result sent successfully\n",
      "Error translating with src=en (attempt 1): the JSON object must be str, bytes or bytearray, not NoneType\n",
      "Error translating with src=en (attempt 2): the JSON object must be str, bytes or bytearray, not NoneType\n",
      "🔁 Attempting sentence split and translation...\n"
     ]
    },
    {
     "name": "stderr",
     "output_type": "stream",
     "text": [
      "Translating:  15%|██████▋                                      | 248/1668 [21:08<2:03:36,  5.22s/it]"
     ]
    },
    {
     "name": "stdout",
     "output_type": "stream",
     "text": [
      "result sent successfully\n",
      "Error translating with src=en (attempt 1): the JSON object must be str, bytes or bytearray, not NoneType\n",
      "Error translating with src=en (attempt 2): the JSON object must be str, bytes or bytearray, not NoneType\n",
      "🔁 Attempting sentence split and translation...\n"
     ]
    },
    {
     "name": "stderr",
     "output_type": "stream",
     "text": [
      "Translating:  15%|██████▋                                      | 249/1668 [21:13<2:02:31,  5.18s/it]"
     ]
    },
    {
     "name": "stdout",
     "output_type": "stream",
     "text": [
      "result sent successfully\n",
      "Error translating with src=en (attempt 1): the JSON object must be str, bytes or bytearray, not NoneType\n",
      "Error translating with src=en (attempt 2): the JSON object must be str, bytes or bytearray, not NoneType\n",
      "🔁 Attempting sentence split and translation...\n"
     ]
    },
    {
     "name": "stderr",
     "output_type": "stream",
     "text": [
      "Translating:  15%|██████▋                                      | 250/1668 [21:18<2:00:43,  5.11s/it]"
     ]
    },
    {
     "name": "stdout",
     "output_type": "stream",
     "text": [
      "result sent successfully\n",
      "Error translating with src=en (attempt 1): the JSON object must be str, bytes or bytearray, not NoneType\n",
      "Error translating with src=en (attempt 2): the JSON object must be str, bytes or bytearray, not NoneType\n",
      "🔁 Attempting sentence split and translation...\n"
     ]
    },
    {
     "name": "stderr",
     "output_type": "stream",
     "text": [
      "Translating:  15%|██████▊                                      | 251/1668 [21:23<2:03:31,  5.23s/it]"
     ]
    },
    {
     "name": "stdout",
     "output_type": "stream",
     "text": [
      "result sent successfully\n",
      "Error translating with src=en (attempt 1): the JSON object must be str, bytes or bytearray, not NoneType\n",
      "Error translating with src=en (attempt 2): the JSON object must be str, bytes or bytearray, not NoneType\n",
      "🔁 Attempting sentence split and translation...\n"
     ]
    },
    {
     "name": "stderr",
     "output_type": "stream",
     "text": [
      "Translating:  15%|██████▊                                      | 252/1668 [21:28<2:01:14,  5.14s/it]"
     ]
    },
    {
     "name": "stdout",
     "output_type": "stream",
     "text": [
      "result sent successfully\n",
      "Error translating with src=en (attempt 1): the JSON object must be str, bytes or bytearray, not NoneType\n",
      "Error translating with src=en (attempt 2): the JSON object must be str, bytes or bytearray, not NoneType\n",
      "🔁 Attempting sentence split and translation...\n"
     ]
    },
    {
     "name": "stderr",
     "output_type": "stream",
     "text": [
      "Translating:  15%|██████▊                                      | 253/1668 [21:33<2:00:56,  5.13s/it]"
     ]
    },
    {
     "name": "stdout",
     "output_type": "stream",
     "text": [
      "result sent successfully\n",
      "Error translating with src=en (attempt 1): the JSON object must be str, bytes or bytearray, not NoneType\n",
      "Error translating with src=en (attempt 2): the JSON object must be str, bytes or bytearray, not NoneType\n",
      "🔁 Attempting sentence split and translation...\n"
     ]
    },
    {
     "name": "stderr",
     "output_type": "stream",
     "text": [
      "Translating:  15%|██████▊                                      | 254/1668 [21:39<2:01:25,  5.15s/it]"
     ]
    },
    {
     "name": "stdout",
     "output_type": "stream",
     "text": [
      "result sent successfully\n",
      "Error translating with src=en (attempt 1): the JSON object must be str, bytes or bytearray, not NoneType\n",
      "Error translating with src=en (attempt 2): the JSON object must be str, bytes or bytearray, not NoneType\n",
      "🔁 Attempting sentence split and translation...\n"
     ]
    },
    {
     "name": "stderr",
     "output_type": "stream",
     "text": [
      "Translating:  15%|██████▉                                      | 255/1668 [21:44<2:00:52,  5.13s/it]"
     ]
    },
    {
     "name": "stdout",
     "output_type": "stream",
     "text": [
      "result sent successfully\n",
      "Error translating with src=en (attempt 1): the JSON object must be str, bytes or bytearray, not NoneType\n",
      "Error translating with src=en (attempt 2): the JSON object must be str, bytes or bytearray, not NoneType\n",
      "🔁 Attempting sentence split and translation...\n"
     ]
    },
    {
     "name": "stderr",
     "output_type": "stream",
     "text": [
      "Translating:  15%|██████▉                                      | 256/1668 [21:49<2:01:23,  5.16s/it]"
     ]
    },
    {
     "name": "stdout",
     "output_type": "stream",
     "text": [
      "result sent successfully\n",
      "Error translating with src=en (attempt 1): the JSON object must be str, bytes or bytearray, not NoneType\n",
      "Error translating with src=en (attempt 2): the JSON object must be str, bytes or bytearray, not NoneType\n",
      "🔁 Attempting sentence split and translation...\n"
     ]
    },
    {
     "name": "stderr",
     "output_type": "stream",
     "text": [
      "Translating:  15%|██████▉                                      | 257/1668 [21:54<1:59:46,  5.09s/it]"
     ]
    },
    {
     "name": "stdout",
     "output_type": "stream",
     "text": [
      "result sent successfully\n",
      "Error translating with src=en (attempt 1): the JSON object must be str, bytes or bytearray, not NoneType\n",
      "Error translating with src=en (attempt 2): the JSON object must be str, bytes or bytearray, not NoneType\n",
      "🔁 Attempting sentence split and translation...\n"
     ]
    },
    {
     "name": "stderr",
     "output_type": "stream",
     "text": [
      "Translating:  15%|██████▉                                      | 258/1668 [21:59<1:59:35,  5.09s/it]"
     ]
    },
    {
     "name": "stdout",
     "output_type": "stream",
     "text": [
      "result sent successfully\n",
      "Error translating with src=en (attempt 1): the JSON object must be str, bytes or bytearray, not NoneType\n",
      "Error translating with src=en (attempt 2): the JSON object must be str, bytes or bytearray, not NoneType\n",
      "🔁 Attempting sentence split and translation...\n"
     ]
    },
    {
     "name": "stderr",
     "output_type": "stream",
     "text": [
      "Translating:  16%|██████▉                                      | 259/1668 [22:04<1:59:42,  5.10s/it]"
     ]
    },
    {
     "name": "stdout",
     "output_type": "stream",
     "text": [
      "result sent successfully\n",
      "Error translating with src=en (attempt 1): the JSON object must be str, bytes or bytearray, not NoneType\n",
      "Error translating with src=en (attempt 2): the JSON object must be str, bytes or bytearray, not NoneType\n",
      "🔁 Attempting sentence split and translation...\n"
     ]
    },
    {
     "name": "stderr",
     "output_type": "stream",
     "text": [
      "Translating:  16%|███████                                      | 260/1668 [22:09<1:59:58,  5.11s/it]"
     ]
    },
    {
     "name": "stdout",
     "output_type": "stream",
     "text": [
      "result sent successfully\n",
      "Error translating with src=en (attempt 1): the JSON object must be str, bytes or bytearray, not NoneType\n",
      "Error translating with src=en (attempt 2): the JSON object must be str, bytes or bytearray, not NoneType\n",
      "🔁 Attempting sentence split and translation...\n"
     ]
    },
    {
     "name": "stderr",
     "output_type": "stream",
     "text": [
      "Translating:  16%|███████                                      | 261/1668 [22:14<2:00:45,  5.15s/it]"
     ]
    },
    {
     "name": "stdout",
     "output_type": "stream",
     "text": [
      "result sent successfully\n",
      "Error translating with src=en (attempt 1): the JSON object must be str, bytes or bytearray, not NoneType\n",
      "Error translating with src=en (attempt 2): the JSON object must be str, bytes or bytearray, not NoneType\n",
      "🔁 Attempting sentence split and translation...\n"
     ]
    },
    {
     "name": "stderr",
     "output_type": "stream",
     "text": [
      "Translating:  16%|███████                                      | 262/1668 [22:19<1:59:23,  5.10s/it]"
     ]
    },
    {
     "name": "stdout",
     "output_type": "stream",
     "text": [
      "result sent successfully\n",
      "Error translating with src=en (attempt 1): the JSON object must be str, bytes or bytearray, not NoneType\n",
      "Error translating with src=en (attempt 2): the JSON object must be str, bytes or bytearray, not NoneType\n",
      "🔁 Attempting sentence split and translation...\n"
     ]
    },
    {
     "name": "stderr",
     "output_type": "stream",
     "text": [
      "Translating:  16%|███████                                      | 263/1668 [22:24<1:58:40,  5.07s/it]"
     ]
    },
    {
     "name": "stdout",
     "output_type": "stream",
     "text": [
      "result sent successfully\n",
      "Error translating with src=en (attempt 1): the JSON object must be str, bytes or bytearray, not NoneType\n",
      "Error translating with src=en (attempt 2): the JSON object must be str, bytes or bytearray, not NoneType\n",
      "🔁 Attempting sentence split and translation...\n"
     ]
    },
    {
     "name": "stderr",
     "output_type": "stream",
     "text": [
      "Translating:  16%|███████                                      | 264/1668 [22:29<1:58:36,  5.07s/it]"
     ]
    },
    {
     "name": "stdout",
     "output_type": "stream",
     "text": [
      "result sent successfully\n",
      "Error translating with src=en (attempt 1): the JSON object must be str, bytes or bytearray, not NoneType\n",
      "Error translating with src=en (attempt 2): the JSON object must be str, bytes or bytearray, not NoneType\n",
      "🔁 Attempting sentence split and translation...\n"
     ]
    },
    {
     "name": "stderr",
     "output_type": "stream",
     "text": [
      "Translating:  16%|███████▏                                     | 265/1668 [22:36<2:06:11,  5.40s/it]"
     ]
    },
    {
     "name": "stdout",
     "output_type": "stream",
     "text": [
      "result sent successfully\n",
      "Error translating with src=en (attempt 1): the JSON object must be str, bytes or bytearray, not NoneType\n",
      "Error translating with src=en (attempt 2): the JSON object must be str, bytes or bytearray, not NoneType\n",
      "🔁 Attempting sentence split and translation...\n"
     ]
    },
    {
     "name": "stderr",
     "output_type": "stream",
     "text": [
      "Translating:  16%|███████▏                                     | 266/1668 [22:41<2:02:53,  5.26s/it]"
     ]
    },
    {
     "name": "stdout",
     "output_type": "stream",
     "text": [
      "result sent successfully\n",
      "Error translating with src=en (attempt 1): the JSON object must be str, bytes or bytearray, not NoneType\n",
      "Error translating with src=en (attempt 2): the JSON object must be str, bytes or bytearray, not NoneType\n",
      "🔁 Attempting sentence split and translation...\n"
     ]
    },
    {
     "name": "stderr",
     "output_type": "stream",
     "text": [
      "Translating:  16%|███████▏                                     | 267/1668 [22:46<2:02:31,  5.25s/it]"
     ]
    },
    {
     "name": "stdout",
     "output_type": "stream",
     "text": [
      "result sent successfully\n",
      "Error translating with src=en (attempt 1): the JSON object must be str, bytes or bytearray, not NoneType\n",
      "Error translating with src=en (attempt 2): the JSON object must be str, bytes or bytearray, not NoneType\n",
      "🔁 Attempting sentence split and translation...\n"
     ]
    },
    {
     "name": "stderr",
     "output_type": "stream",
     "text": [
      "Translating:  16%|███████▏                                     | 268/1668 [22:51<2:00:18,  5.16s/it]"
     ]
    },
    {
     "name": "stdout",
     "output_type": "stream",
     "text": [
      "result sent successfully\n",
      "Error translating with src=en (attempt 1): the JSON object must be str, bytes or bytearray, not NoneType\n",
      "Error translating with src=en (attempt 2): the JSON object must be str, bytes or bytearray, not NoneType\n",
      "🔁 Attempting sentence split and translation...\n"
     ]
    },
    {
     "name": "stderr",
     "output_type": "stream",
     "text": [
      "Translating:  16%|███████▎                                     | 269/1668 [22:56<1:58:50,  5.10s/it]"
     ]
    },
    {
     "name": "stdout",
     "output_type": "stream",
     "text": [
      "result sent successfully\n",
      "Error translating with src=en (attempt 1): the JSON object must be str, bytes or bytearray, not NoneType\n",
      "Error translating with src=en (attempt 2): the JSON object must be str, bytes or bytearray, not NoneType\n",
      "🔁 Attempting sentence split and translation...\n"
     ]
    },
    {
     "name": "stderr",
     "output_type": "stream",
     "text": [
      "Translating:  16%|███████▎                                     | 270/1668 [23:01<1:59:12,  5.12s/it]"
     ]
    },
    {
     "name": "stdout",
     "output_type": "stream",
     "text": [
      "result sent successfully\n",
      "Error translating with src=en (attempt 1): the JSON object must be str, bytes or bytearray, not NoneType\n",
      "Error translating with src=en (attempt 2): the JSON object must be str, bytes or bytearray, not NoneType\n",
      "🔁 Attempting sentence split and translation...\n"
     ]
    },
    {
     "name": "stderr",
     "output_type": "stream",
     "text": [
      "Translating:  16%|███████▎                                     | 271/1668 [23:06<1:59:38,  5.14s/it]"
     ]
    },
    {
     "name": "stdout",
     "output_type": "stream",
     "text": [
      "result sent successfully\n",
      "Error translating with src=en (attempt 1): the JSON object must be str, bytes or bytearray, not NoneType\n",
      "Error translating with src=en (attempt 2): the JSON object must be str, bytes or bytearray, not NoneType\n",
      "🔁 Attempting sentence split and translation...\n"
     ]
    },
    {
     "name": "stderr",
     "output_type": "stream",
     "text": [
      "Translating:  16%|███████▎                                     | 272/1668 [23:11<1:59:18,  5.13s/it]"
     ]
    },
    {
     "name": "stdout",
     "output_type": "stream",
     "text": [
      "result sent successfully\n",
      "Error translating with src=en (attempt 1): the JSON object must be str, bytes or bytearray, not NoneType\n",
      "Error translating with src=en (attempt 2): the JSON object must be str, bytes or bytearray, not NoneType\n",
      "🔁 Attempting sentence split and translation...\n"
     ]
    },
    {
     "name": "stderr",
     "output_type": "stream",
     "text": [
      "Translating:  16%|███████▎                                     | 273/1668 [23:16<2:00:02,  5.16s/it]"
     ]
    },
    {
     "name": "stdout",
     "output_type": "stream",
     "text": [
      "result sent successfully\n",
      "Error translating with src=en (attempt 1): the JSON object must be str, bytes or bytearray, not NoneType\n",
      "Error translating with src=en (attempt 2): the JSON object must be str, bytes or bytearray, not NoneType\n",
      "🔁 Attempting sentence split and translation...\n"
     ]
    },
    {
     "name": "stderr",
     "output_type": "stream",
     "text": [
      "Translating:  16%|███████▍                                     | 274/1668 [23:21<1:58:31,  5.10s/it]"
     ]
    },
    {
     "name": "stdout",
     "output_type": "stream",
     "text": [
      "result sent successfully\n",
      "Error translating with src=en (attempt 1): the JSON object must be str, bytes or bytearray, not NoneType\n",
      "Error translating with src=en (attempt 2): the JSON object must be str, bytes or bytearray, not NoneType\n",
      "🔁 Attempting sentence split and translation...\n"
     ]
    },
    {
     "name": "stderr",
     "output_type": "stream",
     "text": [
      "Translating:  16%|███████▍                                     | 275/1668 [23:26<1:58:34,  5.11s/it]"
     ]
    },
    {
     "name": "stdout",
     "output_type": "stream",
     "text": [
      "result sent successfully\n",
      "Error translating with src=en (attempt 1): the JSON object must be str, bytes or bytearray, not NoneType\n",
      "Error translating with src=en (attempt 2): the JSON object must be str, bytes or bytearray, not NoneType\n",
      "🔁 Attempting sentence split and translation...\n"
     ]
    },
    {
     "name": "stderr",
     "output_type": "stream",
     "text": [
      "Translating:  17%|███████▍                                     | 276/1668 [23:32<2:00:28,  5.19s/it]"
     ]
    },
    {
     "name": "stdout",
     "output_type": "stream",
     "text": [
      "result sent successfully\n",
      "Error translating with src=en (attempt 1): the JSON object must be str, bytes or bytearray, not NoneType\n",
      "Error translating with src=en (attempt 2): the JSON object must be str, bytes or bytearray, not NoneType\n",
      "🔁 Attempting sentence split and translation...\n"
     ]
    },
    {
     "name": "stderr",
     "output_type": "stream",
     "text": [
      "Translating:  17%|███████▍                                     | 277/1668 [23:37<1:59:41,  5.16s/it]"
     ]
    },
    {
     "name": "stdout",
     "output_type": "stream",
     "text": [
      "result sent successfully\n",
      "Error translating with src=en (attempt 1): the JSON object must be str, bytes or bytearray, not NoneType\n",
      "Error translating with src=en (attempt 2): the JSON object must be str, bytes or bytearray, not NoneType\n",
      "🔁 Attempting sentence split and translation...\n"
     ]
    },
    {
     "name": "stderr",
     "output_type": "stream",
     "text": [
      "Translating:  17%|███████▌                                     | 278/1668 [23:42<1:58:58,  5.14s/it]"
     ]
    },
    {
     "name": "stdout",
     "output_type": "stream",
     "text": [
      "result sent successfully\n",
      "Error translating with src=en (attempt 1): the JSON object must be str, bytes or bytearray, not NoneType\n",
      "Error translating with src=en (attempt 2): the JSON object must be str, bytes or bytearray, not NoneType\n",
      "🔁 Attempting sentence split and translation...\n"
     ]
    },
    {
     "name": "stderr",
     "output_type": "stream",
     "text": [
      "Translating:  17%|███████▌                                     | 279/1668 [23:47<1:57:35,  5.08s/it]"
     ]
    },
    {
     "name": "stdout",
     "output_type": "stream",
     "text": [
      "result sent successfully\n",
      "Error translating with src=en (attempt 1): the JSON object must be str, bytes or bytearray, not NoneType\n",
      "Error translating with src=en (attempt 2): the JSON object must be str, bytes or bytearray, not NoneType\n",
      "🔁 Attempting sentence split and translation...\n"
     ]
    },
    {
     "name": "stderr",
     "output_type": "stream",
     "text": [
      "Translating:  17%|███████▌                                     | 280/1668 [23:52<1:56:33,  5.04s/it]"
     ]
    },
    {
     "name": "stdout",
     "output_type": "stream",
     "text": [
      "result sent successfully\n",
      "Error translating with src=en (attempt 1): the JSON object must be str, bytes or bytearray, not NoneType\n",
      "Error translating with src=en (attempt 2): the JSON object must be str, bytes or bytearray, not NoneType\n",
      "🔁 Attempting sentence split and translation...\n"
     ]
    },
    {
     "name": "stderr",
     "output_type": "stream",
     "text": [
      "Translating:  17%|███████▌                                     | 281/1668 [23:57<1:59:24,  5.17s/it]"
     ]
    },
    {
     "name": "stdout",
     "output_type": "stream",
     "text": [
      "result sent successfully\n",
      "Error translating with src=en (attempt 1): the JSON object must be str, bytes or bytearray, not NoneType\n",
      "Error translating with src=en (attempt 2): the JSON object must be str, bytes or bytearray, not NoneType\n",
      "🔁 Attempting sentence split and translation...\n"
     ]
    },
    {
     "name": "stderr",
     "output_type": "stream",
     "text": [
      "Translating:  17%|███████▌                                     | 282/1668 [24:03<1:58:50,  5.14s/it]"
     ]
    },
    {
     "name": "stdout",
     "output_type": "stream",
     "text": [
      "result sent successfully\n",
      "Error translating with src=en (attempt 1): the JSON object must be str, bytes or bytearray, not NoneType\n",
      "Error translating with src=en (attempt 2): the JSON object must be str, bytes or bytearray, not NoneType\n",
      "🔁 Attempting sentence split and translation...\n"
     ]
    },
    {
     "name": "stderr",
     "output_type": "stream",
     "text": [
      "Translating:  17%|███████▋                                     | 283/1668 [24:07<1:57:17,  5.08s/it]"
     ]
    },
    {
     "name": "stdout",
     "output_type": "stream",
     "text": [
      "result sent successfully\n",
      "Error translating with src=en (attempt 1): the JSON object must be str, bytes or bytearray, not NoneType\n",
      "Error translating with src=en (attempt 2): the JSON object must be str, bytes or bytearray, not NoneType\n",
      "🔁 Attempting sentence split and translation...\n"
     ]
    },
    {
     "name": "stderr",
     "output_type": "stream",
     "text": [
      "Translating:  17%|███████▋                                     | 284/1668 [24:12<1:56:16,  5.04s/it]"
     ]
    },
    {
     "name": "stdout",
     "output_type": "stream",
     "text": [
      "result sent successfully\n",
      "Error translating with src=en (attempt 1): the JSON object must be str, bytes or bytearray, not NoneType\n",
      "Error translating with src=en (attempt 2): the JSON object must be str, bytes or bytearray, not NoneType\n",
      "🔁 Attempting sentence split and translation...\n"
     ]
    },
    {
     "name": "stderr",
     "output_type": "stream",
     "text": [
      "Translating:  17%|███████▋                                     | 285/1668 [24:17<1:55:26,  5.01s/it]"
     ]
    },
    {
     "name": "stdout",
     "output_type": "stream",
     "text": [
      "result sent successfully\n",
      "Error translating with src=en (attempt 1): the JSON object must be str, bytes or bytearray, not NoneType\n",
      "Error translating with src=en (attempt 2): the JSON object must be str, bytes or bytearray, not NoneType\n",
      "🔁 Attempting sentence split and translation...\n"
     ]
    },
    {
     "name": "stderr",
     "output_type": "stream",
     "text": [
      "Translating:  17%|███████▋                                     | 286/1668 [24:22<1:56:01,  5.04s/it]"
     ]
    },
    {
     "name": "stdout",
     "output_type": "stream",
     "text": [
      "result sent successfully\n",
      "Error translating with src=en (attempt 1): the JSON object must be str, bytes or bytearray, not NoneType\n",
      "Error translating with src=en (attempt 2): the JSON object must be str, bytes or bytearray, not NoneType\n",
      "🔁 Attempting sentence split and translation...\n"
     ]
    },
    {
     "name": "stderr",
     "output_type": "stream",
     "text": [
      "Translating:  17%|███████▋                                     | 287/1668 [24:28<1:56:36,  5.07s/it]"
     ]
    },
    {
     "name": "stdout",
     "output_type": "stream",
     "text": [
      "result sent successfully\n",
      "Error translating with src=en (attempt 1): the JSON object must be str, bytes or bytearray, not NoneType\n",
      "Error translating with src=en (attempt 2): the JSON object must be str, bytes or bytearray, not NoneType\n",
      "🔁 Attempting sentence split and translation...\n"
     ]
    },
    {
     "name": "stderr",
     "output_type": "stream",
     "text": [
      "Translating:  17%|███████▊                                     | 288/1668 [24:33<1:56:49,  5.08s/it]"
     ]
    },
    {
     "name": "stdout",
     "output_type": "stream",
     "text": [
      "result sent successfully\n",
      "Error translating with src=en (attempt 1): the JSON object must be str, bytes or bytearray, not NoneType\n",
      "Error translating with src=en (attempt 2): the JSON object must be str, bytes or bytearray, not NoneType\n",
      "🔁 Attempting sentence split and translation...\n"
     ]
    },
    {
     "name": "stderr",
     "output_type": "stream",
     "text": [
      "Translating:  17%|███████▊                                     | 289/1668 [24:38<1:56:45,  5.08s/it]"
     ]
    },
    {
     "name": "stdout",
     "output_type": "stream",
     "text": [
      "result sent successfully\n",
      "Error translating with src=en (attempt 1): the JSON object must be str, bytes or bytearray, not NoneType\n",
      "Error translating with src=en (attempt 2): the JSON object must be str, bytes or bytearray, not NoneType\n",
      "🔁 Attempting sentence split and translation...\n"
     ]
    },
    {
     "name": "stderr",
     "output_type": "stream",
     "text": [
      "Translating:  17%|███████▊                                     | 290/1668 [24:43<1:55:42,  5.04s/it]"
     ]
    },
    {
     "name": "stdout",
     "output_type": "stream",
     "text": [
      "result sent successfully\n",
      "Error translating with src=en (attempt 1): the JSON object must be str, bytes or bytearray, not NoneType\n",
      "Error translating with src=en (attempt 2): the JSON object must be str, bytes or bytearray, not NoneType\n",
      "🔁 Attempting sentence split and translation...\n"
     ]
    },
    {
     "name": "stderr",
     "output_type": "stream",
     "text": [
      "Translating:  17%|███████▊                                     | 291/1668 [24:48<1:56:00,  5.06s/it]"
     ]
    },
    {
     "name": "stdout",
     "output_type": "stream",
     "text": [
      "result sent successfully\n",
      "Error translating with src=en (attempt 1): the JSON object must be str, bytes or bytearray, not NoneType\n",
      "Error translating with src=en (attempt 2): the JSON object must be str, bytes or bytearray, not NoneType\n",
      "🔁 Attempting sentence split and translation...\n"
     ]
    },
    {
     "name": "stderr",
     "output_type": "stream",
     "text": [
      "Translating:  18%|███████▉                                     | 292/1668 [24:53<1:55:17,  5.03s/it]"
     ]
    },
    {
     "name": "stdout",
     "output_type": "stream",
     "text": [
      "result sent successfully\n",
      "Error translating with src=en (attempt 1): the JSON object must be str, bytes or bytearray, not NoneType\n",
      "Error translating with src=en (attempt 2): the JSON object must be str, bytes or bytearray, not NoneType\n",
      "🔁 Attempting sentence split and translation...\n"
     ]
    },
    {
     "name": "stderr",
     "output_type": "stream",
     "text": [
      "Translating:  18%|███████▉                                     | 293/1668 [24:58<1:54:40,  5.00s/it]"
     ]
    },
    {
     "name": "stdout",
     "output_type": "stream",
     "text": [
      "result sent successfully\n",
      "Error translating with src=en (attempt 1): the JSON object must be str, bytes or bytearray, not NoneType\n",
      "Error translating with src=en (attempt 2): the JSON object must be str, bytes or bytearray, not NoneType\n",
      "🔁 Attempting sentence split and translation...\n"
     ]
    },
    {
     "name": "stderr",
     "output_type": "stream",
     "text": [
      "Translating:  18%|███████▉                                     | 294/1668 [25:03<1:58:23,  5.17s/it]"
     ]
    },
    {
     "name": "stdout",
     "output_type": "stream",
     "text": [
      "result sent successfully\n",
      "Error translating with src=en (attempt 1): the JSON object must be str, bytes or bytearray, not NoneType\n",
      "Error translating with src=en (attempt 2): the JSON object must be str, bytes or bytearray, not NoneType\n",
      "🔁 Attempting sentence split and translation...\n"
     ]
    },
    {
     "name": "stderr",
     "output_type": "stream",
     "text": [
      "Translating:  18%|███████▉                                     | 295/1668 [25:08<1:56:36,  5.10s/it]"
     ]
    },
    {
     "name": "stdout",
     "output_type": "stream",
     "text": [
      "result sent successfully\n",
      "Error translating with src=en (attempt 1): the JSON object must be str, bytes or bytearray, not NoneType\n",
      "Error translating with src=en (attempt 2): the JSON object must be str, bytes or bytearray, not NoneType\n",
      "🔁 Attempting sentence split and translation...\n"
     ]
    },
    {
     "name": "stderr",
     "output_type": "stream",
     "text": [
      "Translating:  18%|███████▉                                     | 296/1668 [25:14<1:58:34,  5.19s/it]"
     ]
    },
    {
     "name": "stdout",
     "output_type": "stream",
     "text": [
      "result sent successfully\n",
      "Error translating with src=en (attempt 1): the JSON object must be str, bytes or bytearray, not NoneType\n",
      "Error translating with src=en (attempt 2): the JSON object must be str, bytes or bytearray, not NoneType\n",
      "🔁 Attempting sentence split and translation...\n"
     ]
    },
    {
     "name": "stderr",
     "output_type": "stream",
     "text": [
      "Translating:  18%|████████                                     | 297/1668 [25:19<1:58:18,  5.18s/it]"
     ]
    },
    {
     "name": "stdout",
     "output_type": "stream",
     "text": [
      "result sent successfully\n",
      "Error translating with src=en (attempt 1): the JSON object must be str, bytes or bytearray, not NoneType\n",
      "Error translating with src=en (attempt 2): the JSON object must be str, bytes or bytearray, not NoneType\n",
      "🔁 Attempting sentence split and translation...\n"
     ]
    },
    {
     "name": "stderr",
     "output_type": "stream",
     "text": [
      "Translating:  18%|████████                                     | 298/1668 [25:24<1:57:36,  5.15s/it]"
     ]
    },
    {
     "name": "stdout",
     "output_type": "stream",
     "text": [
      "result sent successfully\n",
      "Error translating with src=en (attempt 1): the JSON object must be str, bytes or bytearray, not NoneType\n",
      "Error translating with src=en (attempt 2): the JSON object must be str, bytes or bytearray, not NoneType\n",
      "🔁 Attempting sentence split and translation...\n"
     ]
    },
    {
     "name": "stderr",
     "output_type": "stream",
     "text": [
      "Translating:  18%|████████                                     | 299/1668 [25:29<1:56:04,  5.09s/it]"
     ]
    },
    {
     "name": "stdout",
     "output_type": "stream",
     "text": [
      "result sent successfully\n",
      "Error translating with src=en (attempt 1): the JSON object must be str, bytes or bytearray, not NoneType\n",
      "Error translating with src=en (attempt 2): the JSON object must be str, bytes or bytearray, not NoneType\n",
      "🔁 Attempting sentence split and translation...\n"
     ]
    },
    {
     "name": "stderr",
     "output_type": "stream",
     "text": [
      "Translating:  18%|████████                                     | 300/1668 [25:34<1:56:01,  5.09s/it]"
     ]
    },
    {
     "name": "stdout",
     "output_type": "stream",
     "text": [
      "result sent successfully\n",
      "Error translating with src=en (attempt 1): the JSON object must be str, bytes or bytearray, not NoneType\n",
      "Error translating with src=en (attempt 2): the JSON object must be str, bytes or bytearray, not NoneType\n",
      "🔁 Attempting sentence split and translation...\n"
     ]
    },
    {
     "name": "stderr",
     "output_type": "stream",
     "text": [
      "Translating:  18%|████████                                     | 301/1668 [25:39<1:54:53,  5.04s/it]"
     ]
    },
    {
     "name": "stdout",
     "output_type": "stream",
     "text": [
      "result sent successfully\n",
      "Error translating with src=en (attempt 1): the JSON object must be str, bytes or bytearray, not NoneType\n",
      "Error translating with src=en (attempt 2): the JSON object must be str, bytes or bytearray, not NoneType\n",
      "🔁 Attempting sentence split and translation...\n"
     ]
    },
    {
     "name": "stderr",
     "output_type": "stream",
     "text": [
      "Translating:  18%|████████▏                                    | 302/1668 [25:44<1:54:10,  5.02s/it]"
     ]
    },
    {
     "name": "stdout",
     "output_type": "stream",
     "text": [
      "result sent successfully\n",
      "Error translating with src=en (attempt 1): the JSON object must be str, bytes or bytearray, not NoneType\n",
      "Error translating with src=en (attempt 2): the JSON object must be str, bytes or bytearray, not NoneType\n",
      "🔁 Attempting sentence split and translation...\n"
     ]
    },
    {
     "name": "stderr",
     "output_type": "stream",
     "text": [
      "Translating:  18%|████████▏                                    | 303/1668 [25:49<1:53:29,  4.99s/it]"
     ]
    },
    {
     "name": "stdout",
     "output_type": "stream",
     "text": [
      "result sent successfully\n",
      "Error translating with src=en (attempt 1): the JSON object must be str, bytes or bytearray, not NoneType\n",
      "Error translating with src=en (attempt 2): the JSON object must be str, bytes or bytearray, not NoneType\n",
      "🔁 Attempting sentence split and translation...\n"
     ]
    },
    {
     "name": "stderr",
     "output_type": "stream",
     "text": [
      "Translating:  18%|████████▏                                    | 304/1668 [25:54<1:53:58,  5.01s/it]"
     ]
    },
    {
     "name": "stdout",
     "output_type": "stream",
     "text": [
      "result sent successfully\n",
      "Error translating with src=en (attempt 1): the JSON object must be str, bytes or bytearray, not NoneType\n",
      "Error translating with src=en (attempt 2): the JSON object must be str, bytes or bytearray, not NoneType\n",
      "🔁 Attempting sentence split and translation...\n"
     ]
    },
    {
     "name": "stderr",
     "output_type": "stream",
     "text": [
      "Translating:  18%|████████▏                                    | 305/1668 [25:59<1:53:17,  4.99s/it]"
     ]
    },
    {
     "name": "stdout",
     "output_type": "stream",
     "text": [
      "result sent successfully\n",
      "Error translating with src=en (attempt 1): the JSON object must be str, bytes or bytearray, not NoneType\n",
      "Error translating with src=en (attempt 2): the JSON object must be str, bytes or bytearray, not NoneType\n",
      "🔁 Attempting sentence split and translation...\n"
     ]
    },
    {
     "name": "stderr",
     "output_type": "stream",
     "text": [
      "Translating:  18%|████████▎                                    | 306/1668 [26:04<1:52:56,  4.98s/it]"
     ]
    },
    {
     "name": "stdout",
     "output_type": "stream",
     "text": [
      "result sent successfully\n",
      "Error translating with src=en (attempt 1): the JSON object must be str, bytes or bytearray, not NoneType\n",
      "Error translating with src=en (attempt 2): the JSON object must be str, bytes or bytearray, not NoneType\n",
      "🔁 Attempting sentence split and translation...\n"
     ]
    },
    {
     "name": "stderr",
     "output_type": "stream",
     "text": [
      "Translating:  18%|████████▎                                    | 307/1668 [26:09<1:52:34,  4.96s/it]"
     ]
    },
    {
     "name": "stdout",
     "output_type": "stream",
     "text": [
      "result sent successfully\n",
      "Error translating with src=en (attempt 1): the JSON object must be str, bytes or bytearray, not NoneType\n",
      "Error translating with src=en (attempt 2): the JSON object must be str, bytes or bytearray, not NoneType\n",
      "🔁 Attempting sentence split and translation...\n"
     ]
    },
    {
     "name": "stderr",
     "output_type": "stream",
     "text": [
      "Translating:  18%|████████▎                                    | 308/1668 [26:13<1:52:26,  4.96s/it]"
     ]
    },
    {
     "name": "stdout",
     "output_type": "stream",
     "text": [
      "result sent successfully\n",
      "Error translating with src=en (attempt 1): the JSON object must be str, bytes or bytearray, not NoneType\n",
      "Error translating with src=en (attempt 2): the JSON object must be str, bytes or bytearray, not NoneType\n",
      "🔁 Attempting sentence split and translation...\n"
     ]
    },
    {
     "name": "stderr",
     "output_type": "stream",
     "text": [
      "Translating:  19%|████████▎                                    | 309/1668 [26:19<1:54:18,  5.05s/it]"
     ]
    },
    {
     "name": "stdout",
     "output_type": "stream",
     "text": [
      "result sent successfully\n",
      "Error translating with src=en (attempt 1): the JSON object must be str, bytes or bytearray, not NoneType\n",
      "Error translating with src=en (attempt 2): the JSON object must be str, bytes or bytearray, not NoneType\n",
      "🔁 Attempting sentence split and translation...\n"
     ]
    },
    {
     "name": "stderr",
     "output_type": "stream",
     "text": [
      "Translating:  19%|████████▎                                    | 310/1668 [26:24<1:54:38,  5.07s/it]"
     ]
    },
    {
     "name": "stdout",
     "output_type": "stream",
     "text": [
      "result sent successfully\n",
      "Error translating with src=en (attempt 1): the JSON object must be str, bytes or bytearray, not NoneType\n",
      "Error translating with src=en (attempt 2): the JSON object must be str, bytes or bytearray, not NoneType\n",
      "🔁 Attempting sentence split and translation...\n"
     ]
    },
    {
     "name": "stderr",
     "output_type": "stream",
     "text": [
      "Translating:  19%|████████▍                                    | 311/1668 [26:29<1:54:36,  5.07s/it]"
     ]
    },
    {
     "name": "stdout",
     "output_type": "stream",
     "text": [
      "result sent successfully\n",
      "Error translating with src=en (attempt 1): the JSON object must be str, bytes or bytearray, not NoneType\n",
      "Error translating with src=en (attempt 2): the JSON object must be str, bytes or bytearray, not NoneType\n",
      "🔁 Attempting sentence split and translation...\n"
     ]
    },
    {
     "name": "stderr",
     "output_type": "stream",
     "text": [
      "Translating:  19%|████████▍                                    | 312/1668 [26:34<1:53:37,  5.03s/it]"
     ]
    },
    {
     "name": "stdout",
     "output_type": "stream",
     "text": [
      "result sent successfully\n",
      "Error translating with src=en (attempt 1): the JSON object must be str, bytes or bytearray, not NoneType\n",
      "Error translating with src=en (attempt 2): the JSON object must be str, bytes or bytearray, not NoneType\n",
      "🔁 Attempting sentence split and translation...\n"
     ]
    },
    {
     "name": "stderr",
     "output_type": "stream",
     "text": [
      "Translating:  19%|████████▍                                    | 313/1668 [26:39<1:52:52,  5.00s/it]"
     ]
    },
    {
     "name": "stdout",
     "output_type": "stream",
     "text": [
      "result sent successfully\n",
      "Error translating with src=en (attempt 1): the JSON object must be str, bytes or bytearray, not NoneType\n",
      "Error translating with src=en (attempt 2): the JSON object must be str, bytes or bytearray, not NoneType\n",
      "🔁 Attempting sentence split and translation...\n"
     ]
    },
    {
     "name": "stderr",
     "output_type": "stream",
     "text": [
      "Translating:  19%|████████▍                                    | 314/1668 [26:44<1:52:31,  4.99s/it]"
     ]
    },
    {
     "name": "stdout",
     "output_type": "stream",
     "text": [
      "result sent successfully\n",
      "Error translating with src=en (attempt 1): the JSON object must be str, bytes or bytearray, not NoneType\n",
      "Error translating with src=en (attempt 2): the JSON object must be str, bytes or bytearray, not NoneType\n",
      "🔁 Attempting sentence split and translation...\n"
     ]
    },
    {
     "name": "stderr",
     "output_type": "stream",
     "text": [
      "Translating:  19%|████████▍                                    | 315/1668 [26:49<1:53:05,  5.01s/it]"
     ]
    },
    {
     "name": "stdout",
     "output_type": "stream",
     "text": [
      "result sent successfully\n",
      "Error translating with src=en (attempt 1): the JSON object must be str, bytes or bytearray, not NoneType\n",
      "Error translating with src=en (attempt 2): the JSON object must be str, bytes or bytearray, not NoneType\n",
      "🔁 Attempting sentence split and translation...\n"
     ]
    },
    {
     "name": "stderr",
     "output_type": "stream",
     "text": [
      "Translating:  19%|████████▌                                    | 316/1668 [26:54<1:52:17,  4.98s/it]"
     ]
    },
    {
     "name": "stdout",
     "output_type": "stream",
     "text": [
      "result sent successfully\n",
      "Error translating with src=en (attempt 1): the JSON object must be str, bytes or bytearray, not NoneType\n",
      "Error translating with src=en (attempt 2): the JSON object must be str, bytes or bytearray, not NoneType\n",
      "🔁 Attempting sentence split and translation...\n"
     ]
    },
    {
     "name": "stderr",
     "output_type": "stream",
     "text": [
      "Translating:  19%|████████▌                                    | 317/1668 [26:59<1:52:07,  4.98s/it]"
     ]
    },
    {
     "name": "stdout",
     "output_type": "stream",
     "text": [
      "result sent successfully\n",
      "Error translating with src=en (attempt 1): the JSON object must be str, bytes or bytearray, not NoneType\n",
      "Error translating with src=en (attempt 2): the JSON object must be str, bytes or bytearray, not NoneType\n",
      "🔁 Attempting sentence split and translation...\n"
     ]
    },
    {
     "name": "stderr",
     "output_type": "stream",
     "text": [
      "Translating:  19%|████████▌                                    | 318/1668 [27:04<1:51:42,  4.96s/it]"
     ]
    },
    {
     "name": "stdout",
     "output_type": "stream",
     "text": [
      "result sent successfully\n",
      "Error translating with src=en (attempt 1): the JSON object must be str, bytes or bytearray, not NoneType\n",
      "Error translating with src=en (attempt 2): the JSON object must be str, bytes or bytearray, not NoneType\n",
      "🔁 Attempting sentence split and translation...\n"
     ]
    },
    {
     "name": "stderr",
     "output_type": "stream",
     "text": [
      "Translating:  19%|████████▌                                    | 319/1668 [27:09<1:51:25,  4.96s/it]"
     ]
    },
    {
     "name": "stdout",
     "output_type": "stream",
     "text": [
      "result sent successfully\n",
      "Error translating with src=en (attempt 1): the JSON object must be str, bytes or bytearray, not NoneType\n",
      "Error translating with src=en (attempt 2): the JSON object must be str, bytes or bytearray, not NoneType\n",
      "🔁 Attempting sentence split and translation...\n"
     ]
    },
    {
     "name": "stderr",
     "output_type": "stream",
     "text": [
      "Translating:  19%|████████▋                                    | 320/1668 [27:14<1:52:07,  4.99s/it]"
     ]
    },
    {
     "name": "stdout",
     "output_type": "stream",
     "text": [
      "result sent successfully\n",
      "Error translating with src=en (attempt 1): the JSON object must be str, bytes or bytearray, not NoneType\n",
      "Error translating with src=en (attempt 2): the JSON object must be str, bytes or bytearray, not NoneType\n",
      "🔁 Attempting sentence split and translation...\n"
     ]
    },
    {
     "name": "stderr",
     "output_type": "stream",
     "text": [
      "Translating:  19%|████████▋                                    | 321/1668 [27:19<1:53:43,  5.07s/it]"
     ]
    },
    {
     "name": "stdout",
     "output_type": "stream",
     "text": [
      "result sent successfully\n",
      "Error translating with src=en (attempt 1): the JSON object must be str, bytes or bytearray, not NoneType\n",
      "Error translating with src=en (attempt 2): the JSON object must be str, bytes or bytearray, not NoneType\n",
      "🔁 Attempting sentence split and translation...\n"
     ]
    },
    {
     "name": "stderr",
     "output_type": "stream",
     "text": [
      "Translating:  19%|████████▋                                    | 322/1668 [27:24<1:53:46,  5.07s/it]"
     ]
    },
    {
     "name": "stdout",
     "output_type": "stream",
     "text": [
      "result sent successfully\n",
      "Error translating with src=en (attempt 1): the JSON object must be str, bytes or bytearray, not NoneType\n",
      "Error translating with src=en (attempt 2): the JSON object must be str, bytes or bytearray, not NoneType\n",
      "🔁 Attempting sentence split and translation...\n"
     ]
    },
    {
     "name": "stderr",
     "output_type": "stream",
     "text": [
      "Translating:  19%|████████▋                                    | 323/1668 [27:30<1:56:48,  5.21s/it]"
     ]
    },
    {
     "name": "stdout",
     "output_type": "stream",
     "text": [
      "result sent successfully\n",
      "Error translating with src=en (attempt 1): the JSON object must be str, bytes or bytearray, not NoneType\n",
      "Error translating with src=en (attempt 2): the JSON object must be str, bytes or bytearray, not NoneType\n",
      "🔁 Attempting sentence split and translation...\n"
     ]
    },
    {
     "name": "stderr",
     "output_type": "stream",
     "text": [
      "Translating:  19%|████████▋                                    | 324/1668 [27:34<1:54:50,  5.13s/it]"
     ]
    },
    {
     "name": "stdout",
     "output_type": "stream",
     "text": [
      "result sent successfully\n",
      "Error translating with src=en (attempt 1): the JSON object must be str, bytes or bytearray, not NoneType\n",
      "Error translating with src=en (attempt 2): the JSON object must be str, bytes or bytearray, not NoneType\n",
      "🔁 Attempting sentence split and translation...\n"
     ]
    },
    {
     "name": "stderr",
     "output_type": "stream",
     "text": [
      "Translating:  19%|████████▊                                    | 325/1668 [27:40<1:56:37,  5.21s/it]"
     ]
    },
    {
     "name": "stdout",
     "output_type": "stream",
     "text": [
      "result sent successfully\n",
      "Error translating with src=en (attempt 1): the JSON object must be str, bytes or bytearray, not NoneType\n",
      "Error translating with src=en (attempt 2): the JSON object must be str, bytes or bytearray, not NoneType\n",
      "🔁 Attempting sentence split and translation...\n"
     ]
    },
    {
     "name": "stderr",
     "output_type": "stream",
     "text": [
      "Translating:  20%|████████▊                                    | 326/1668 [27:45<1:55:40,  5.17s/it]"
     ]
    },
    {
     "name": "stdout",
     "output_type": "stream",
     "text": [
      "result sent successfully\n",
      "Error translating with src=en (attempt 1): the JSON object must be str, bytes or bytearray, not NoneType\n",
      "Error translating with src=en (attempt 2): the JSON object must be str, bytes or bytearray, not NoneType\n",
      "🔁 Attempting sentence split and translation...\n"
     ]
    },
    {
     "name": "stderr",
     "output_type": "stream",
     "text": [
      "Translating:  20%|████████▊                                    | 327/1668 [27:50<1:54:49,  5.14s/it]"
     ]
    },
    {
     "name": "stdout",
     "output_type": "stream",
     "text": [
      "result sent successfully\n",
      "Error translating with src=en (attempt 1): the JSON object must be str, bytes or bytearray, not NoneType\n",
      "Error translating with src=en (attempt 2): the JSON object must be str, bytes or bytearray, not NoneType\n",
      "🔁 Attempting sentence split and translation...\n"
     ]
    },
    {
     "name": "stderr",
     "output_type": "stream",
     "text": [
      "Translating:  20%|████████▊                                    | 328/1668 [27:55<1:54:28,  5.13s/it]"
     ]
    },
    {
     "name": "stdout",
     "output_type": "stream",
     "text": [
      "result sent successfully\n",
      "Error translating with src=en (attempt 1): the JSON object must be str, bytes or bytearray, not NoneType\n",
      "Error translating with src=en (attempt 2): the JSON object must be str, bytes or bytearray, not NoneType\n",
      "🔁 Attempting sentence split and translation...\n"
     ]
    },
    {
     "name": "stderr",
     "output_type": "stream",
     "text": [
      "Translating:  20%|████████▉                                    | 329/1668 [28:01<1:57:22,  5.26s/it]"
     ]
    },
    {
     "name": "stdout",
     "output_type": "stream",
     "text": [
      "result sent successfully\n",
      "Error translating with src=en (attempt 1): the JSON object must be str, bytes or bytearray, not NoneType\n",
      "Error translating with src=en (attempt 2): the JSON object must be str, bytes or bytearray, not NoneType\n",
      "🔁 Attempting sentence split and translation...\n"
     ]
    },
    {
     "name": "stderr",
     "output_type": "stream",
     "text": [
      "Translating:  20%|████████▉                                    | 330/1668 [28:06<1:59:17,  5.35s/it]"
     ]
    },
    {
     "name": "stdout",
     "output_type": "stream",
     "text": [
      "result sent successfully\n",
      "Error translating with src=en (attempt 1): the JSON object must be str, bytes or bytearray, not NoneType\n",
      "Error translating with src=en (attempt 2): the JSON object must be str, bytes or bytearray, not NoneType\n",
      "🔁 Attempting sentence split and translation...\n"
     ]
    },
    {
     "name": "stderr",
     "output_type": "stream",
     "text": [
      "Translating:  20%|████████▉                                    | 331/1668 [28:11<1:58:24,  5.31s/it]"
     ]
    },
    {
     "name": "stdout",
     "output_type": "stream",
     "text": [
      "result sent successfully\n",
      "Error translating with src=en (attempt 1): the JSON object must be str, bytes or bytearray, not NoneType\n",
      "Error translating with src=en (attempt 2): the JSON object must be str, bytes or bytearray, not NoneType\n",
      "🔁 Attempting sentence split and translation...\n"
     ]
    },
    {
     "name": "stderr",
     "output_type": "stream",
     "text": [
      "Translating:  20%|████████▉                                    | 332/1668 [28:16<1:56:09,  5.22s/it]"
     ]
    },
    {
     "name": "stdout",
     "output_type": "stream",
     "text": [
      "result sent successfully\n",
      "Error translating with src=en (attempt 1): the JSON object must be str, bytes or bytearray, not NoneType\n",
      "Error translating with src=en (attempt 2): the JSON object must be str, bytes or bytearray, not NoneType\n",
      "🔁 Attempting sentence split and translation...\n"
     ]
    },
    {
     "name": "stderr",
     "output_type": "stream",
     "text": [
      "Translating:  20%|████████▉                                    | 333/1668 [28:22<1:56:11,  5.22s/it]"
     ]
    },
    {
     "name": "stdout",
     "output_type": "stream",
     "text": [
      "result sent successfully\n",
      "Error translating with src=en (attempt 1): the JSON object must be str, bytes or bytearray, not NoneType\n",
      "Error translating with src=en (attempt 2): the JSON object must be str, bytes or bytearray, not NoneType\n",
      "🔁 Attempting sentence split and translation...\n"
     ]
    },
    {
     "name": "stderr",
     "output_type": "stream",
     "text": [
      "Translating:  20%|█████████                                    | 334/1668 [28:27<1:54:09,  5.13s/it]"
     ]
    },
    {
     "name": "stdout",
     "output_type": "stream",
     "text": [
      "result sent successfully\n",
      "Error translating with src=en (attempt 1): the JSON object must be str, bytes or bytearray, not NoneType\n",
      "Error translating with src=en (attempt 2): the JSON object must be str, bytes or bytearray, not NoneType\n",
      "🔁 Attempting sentence split and translation...\n"
     ]
    },
    {
     "name": "stderr",
     "output_type": "stream",
     "text": [
      "Translating:  20%|█████████                                    | 335/1668 [28:32<1:54:51,  5.17s/it]"
     ]
    },
    {
     "name": "stdout",
     "output_type": "stream",
     "text": [
      "result sent successfully\n",
      "Error translating with src=en (attempt 1): the JSON object must be str, bytes or bytearray, not NoneType\n",
      "Error translating with src=en (attempt 2): the JSON object must be str, bytes or bytearray, not NoneType\n",
      "🔁 Attempting sentence split and translation...\n"
     ]
    },
    {
     "name": "stderr",
     "output_type": "stream",
     "text": [
      "Translating:  20%|█████████                                    | 336/1668 [28:37<1:53:06,  5.10s/it]"
     ]
    },
    {
     "name": "stdout",
     "output_type": "stream",
     "text": [
      "result sent successfully\n",
      "Error translating with src=en (attempt 1): the JSON object must be str, bytes or bytearray, not NoneType\n",
      "Error translating with src=en (attempt 2): the JSON object must be str, bytes or bytearray, not NoneType\n",
      "🔁 Attempting sentence split and translation...\n"
     ]
    },
    {
     "name": "stderr",
     "output_type": "stream",
     "text": [
      "Translating:  20%|█████████                                    | 337/1668 [28:42<1:54:50,  5.18s/it]"
     ]
    },
    {
     "name": "stdout",
     "output_type": "stream",
     "text": [
      "result sent successfully\n",
      "Error translating with src=en (attempt 1): the JSON object must be str, bytes or bytearray, not NoneType\n",
      "Error translating with src=en (attempt 2): the JSON object must be str, bytes or bytearray, not NoneType\n",
      "🔁 Attempting sentence split and translation...\n"
     ]
    },
    {
     "name": "stderr",
     "output_type": "stream",
     "text": [
      "Translating:  20%|█████████                                    | 338/1668 [28:47<1:54:18,  5.16s/it]"
     ]
    },
    {
     "name": "stdout",
     "output_type": "stream",
     "text": [
      "result sent successfully\n",
      "Error translating with src=en (attempt 1): the JSON object must be str, bytes or bytearray, not NoneType\n",
      "Error translating with src=en (attempt 2): the JSON object must be str, bytes or bytearray, not NoneType\n",
      "🔁 Attempting sentence split and translation...\n"
     ]
    },
    {
     "name": "stderr",
     "output_type": "stream",
     "text": [
      "Translating:  20%|█████████▏                                   | 339/1668 [28:52<1:54:05,  5.15s/it]"
     ]
    },
    {
     "name": "stdout",
     "output_type": "stream",
     "text": [
      "result sent successfully\n",
      "Error translating with src=en (attempt 1): the JSON object must be str, bytes or bytearray, not NoneType\n",
      "Error translating with src=en (attempt 2): the JSON object must be str, bytes or bytearray, not NoneType\n",
      "🔁 Attempting sentence split and translation...\n"
     ]
    },
    {
     "name": "stderr",
     "output_type": "stream",
     "text": [
      "Translating:  20%|█████████▏                                   | 340/1668 [28:58<1:54:41,  5.18s/it]"
     ]
    },
    {
     "name": "stdout",
     "output_type": "stream",
     "text": [
      "result sent successfully\n",
      "Error translating with src=en (attempt 1): the JSON object must be str, bytes or bytearray, not NoneType\n",
      "Error translating with src=en (attempt 2): the JSON object must be str, bytes or bytearray, not NoneType\n",
      "🔁 Attempting sentence split and translation...\n"
     ]
    },
    {
     "name": "stderr",
     "output_type": "stream",
     "text": [
      "Translating:  20%|█████████▏                                   | 341/1668 [29:03<1:54:03,  5.16s/it]"
     ]
    },
    {
     "name": "stdout",
     "output_type": "stream",
     "text": [
      "result sent successfully\n",
      "Error translating with src=en (attempt 1): the JSON object must be str, bytes or bytearray, not NoneType\n",
      "Error translating with src=en (attempt 2): the JSON object must be str, bytes or bytearray, not NoneType\n",
      "🔁 Attempting sentence split and translation...\n"
     ]
    },
    {
     "name": "stderr",
     "output_type": "stream",
     "text": [
      "Translating:  21%|█████████▏                                   | 342/1668 [29:08<1:55:22,  5.22s/it]"
     ]
    },
    {
     "name": "stdout",
     "output_type": "stream",
     "text": [
      "result sent successfully\n",
      "Error translating with src=en (attempt 1): the JSON object must be str, bytes or bytearray, not NoneType\n",
      "Error translating with src=en (attempt 2): the JSON object must be str, bytes or bytearray, not NoneType\n",
      "🔁 Attempting sentence split and translation...\n"
     ]
    },
    {
     "name": "stderr",
     "output_type": "stream",
     "text": [
      "Translating:  21%|█████████▎                                   | 343/1668 [29:13<1:56:02,  5.25s/it]"
     ]
    },
    {
     "name": "stdout",
     "output_type": "stream",
     "text": [
      "result sent successfully\n",
      "Error translating with src=en (attempt 1): the JSON object must be str, bytes or bytearray, not NoneType\n",
      "Error translating with src=en (attempt 2): the JSON object must be str, bytes or bytearray, not NoneType\n",
      "🔁 Attempting sentence split and translation...\n"
     ]
    },
    {
     "name": "stderr",
     "output_type": "stream",
     "text": [
      "Translating:  21%|█████████▎                                   | 344/1668 [29:18<1:53:49,  5.16s/it]"
     ]
    },
    {
     "name": "stdout",
     "output_type": "stream",
     "text": [
      "result sent successfully\n",
      "Error translating with src=en (attempt 1): the JSON object must be str, bytes or bytearray, not NoneType\n",
      "Error translating with src=en (attempt 2): the JSON object must be str, bytes or bytearray, not NoneType\n",
      "🔁 Attempting sentence split and translation...\n"
     ]
    },
    {
     "name": "stderr",
     "output_type": "stream",
     "text": [
      "Translating:  21%|█████████▎                                   | 345/1668 [29:23<1:52:23,  5.10s/it]"
     ]
    },
    {
     "name": "stdout",
     "output_type": "stream",
     "text": [
      "result sent successfully\n",
      "Error translating with src=en (attempt 1): the JSON object must be str, bytes or bytearray, not NoneType\n",
      "Error translating with src=en (attempt 2): the JSON object must be str, bytes or bytearray, not NoneType\n",
      "🔁 Attempting sentence split and translation...\n"
     ]
    },
    {
     "name": "stderr",
     "output_type": "stream",
     "text": [
      "Translating:  21%|█████████▎                                   | 346/1668 [29:28<1:51:12,  5.05s/it]"
     ]
    },
    {
     "name": "stdout",
     "output_type": "stream",
     "text": [
      "result sent successfully\n",
      "Error translating with src=en (attempt 1): the JSON object must be str, bytes or bytearray, not NoneType\n",
      "Error translating with src=en (attempt 2): the JSON object must be str, bytes or bytearray, not NoneType\n",
      "🔁 Attempting sentence split and translation...\n"
     ]
    },
    {
     "name": "stderr",
     "output_type": "stream",
     "text": [
      "Translating:  21%|█████████▎                                   | 347/1668 [29:33<1:50:21,  5.01s/it]"
     ]
    },
    {
     "name": "stdout",
     "output_type": "stream",
     "text": [
      "result sent successfully\n",
      "Error translating with src=en (attempt 1): the JSON object must be str, bytes or bytearray, not NoneType\n",
      "Error translating with src=en (attempt 2): the JSON object must be str, bytes or bytearray, not NoneType\n",
      "🔁 Attempting sentence split and translation...\n"
     ]
    },
    {
     "name": "stderr",
     "output_type": "stream",
     "text": [
      "Translating:  21%|█████████▍                                   | 348/1668 [29:38<1:51:49,  5.08s/it]"
     ]
    },
    {
     "name": "stdout",
     "output_type": "stream",
     "text": [
      "result sent successfully\n",
      "Error translating with src=en (attempt 1): the JSON object must be str, bytes or bytearray, not NoneType\n",
      "Error translating with src=en (attempt 2): the JSON object must be str, bytes or bytearray, not NoneType\n",
      "🔁 Attempting sentence split and translation...\n"
     ]
    },
    {
     "name": "stderr",
     "output_type": "stream",
     "text": [
      "Translating:  21%|█████████▍                                   | 349/1668 [29:44<1:54:36,  5.21s/it]"
     ]
    },
    {
     "name": "stdout",
     "output_type": "stream",
     "text": [
      "result sent successfully\n",
      "Error translating with src=en (attempt 1): the JSON object must be str, bytes or bytearray, not NoneType\n",
      "Error translating with src=en (attempt 2): the JSON object must be str, bytes or bytearray, not NoneType\n",
      "🔁 Attempting sentence split and translation...\n"
     ]
    },
    {
     "name": "stderr",
     "output_type": "stream",
     "text": [
      "Translating:  21%|█████████▍                                   | 350/1668 [29:49<1:52:32,  5.12s/it]"
     ]
    },
    {
     "name": "stdout",
     "output_type": "stream",
     "text": [
      "result sent successfully\n",
      "Error translating with src=en (attempt 1): the JSON object must be str, bytes or bytearray, not NoneType\n",
      "Error translating with src=en (attempt 2): the JSON object must be str, bytes or bytearray, not NoneType\n",
      "🔁 Attempting sentence split and translation...\n"
     ]
    },
    {
     "name": "stderr",
     "output_type": "stream",
     "text": [
      "Translating:  21%|█████████▍                                   | 351/1668 [29:54<1:52:20,  5.12s/it]"
     ]
    },
    {
     "name": "stdout",
     "output_type": "stream",
     "text": [
      "result sent successfully\n",
      "Error translating with src=en (attempt 1): the JSON object must be str, bytes or bytearray, not NoneType\n",
      "Error translating with src=en (attempt 2): the JSON object must be str, bytes or bytearray, not NoneType\n",
      "🔁 Attempting sentence split and translation...\n"
     ]
    },
    {
     "name": "stderr",
     "output_type": "stream",
     "text": [
      "Translating:  21%|█████████▍                                   | 352/1668 [29:59<1:52:10,  5.11s/it]"
     ]
    },
    {
     "name": "stdout",
     "output_type": "stream",
     "text": [
      "result sent successfully\n",
      "Error translating with src=en (attempt 1): the JSON object must be str, bytes or bytearray, not NoneType\n",
      "Error translating with src=en (attempt 2): the JSON object must be str, bytes or bytearray, not NoneType\n",
      "🔁 Attempting sentence split and translation...\n"
     ]
    },
    {
     "name": "stderr",
     "output_type": "stream",
     "text": [
      "Translating:  21%|█████████▌                                   | 353/1668 [30:04<1:50:53,  5.06s/it]"
     ]
    },
    {
     "name": "stdout",
     "output_type": "stream",
     "text": [
      "result sent successfully\n",
      "Error translating with src=en (attempt 1): the JSON object must be str, bytes or bytearray, not NoneType\n",
      "Error translating with src=en (attempt 2): the JSON object must be str, bytes or bytearray, not NoneType\n",
      "🔁 Attempting sentence split and translation...\n"
     ]
    },
    {
     "name": "stderr",
     "output_type": "stream",
     "text": [
      "Translating:  21%|█████████▌                                   | 354/1668 [30:09<1:51:02,  5.07s/it]"
     ]
    },
    {
     "name": "stdout",
     "output_type": "stream",
     "text": [
      "result sent successfully\n",
      "Error translating with src=en (attempt 1): the JSON object must be str, bytes or bytearray, not NoneType\n",
      "Error translating with src=en (attempt 2): the JSON object must be str, bytes or bytearray, not NoneType\n",
      "🔁 Attempting sentence split and translation...\n"
     ]
    },
    {
     "name": "stderr",
     "output_type": "stream",
     "text": [
      "Translating:  21%|█████████▌                                   | 355/1668 [30:14<1:51:04,  5.08s/it]"
     ]
    },
    {
     "name": "stdout",
     "output_type": "stream",
     "text": [
      "result sent successfully\n",
      "Error translating with src=en (attempt 1): the JSON object must be str, bytes or bytearray, not NoneType\n",
      "Error translating with src=en (attempt 2): the JSON object must be str, bytes or bytearray, not NoneType\n",
      "🔁 Attempting sentence split and translation...\n"
     ]
    },
    {
     "name": "stderr",
     "output_type": "stream",
     "text": [
      "Translating:  21%|█████████▌                                   | 356/1668 [30:19<1:52:23,  5.14s/it]"
     ]
    },
    {
     "name": "stdout",
     "output_type": "stream",
     "text": [
      "result sent successfully\n",
      "Error translating with src=en (attempt 1): the JSON object must be str, bytes or bytearray, not NoneType\n",
      "Error translating with src=en (attempt 2): the JSON object must be str, bytes or bytearray, not NoneType\n",
      "🔁 Attempting sentence split and translation...\n"
     ]
    },
    {
     "name": "stderr",
     "output_type": "stream",
     "text": [
      "Translating:  21%|█████████▋                                   | 357/1668 [30:25<1:52:52,  5.17s/it]"
     ]
    },
    {
     "name": "stdout",
     "output_type": "stream",
     "text": [
      "result sent successfully\n",
      "Error translating with src=en (attempt 1): the JSON object must be str, bytes or bytearray, not NoneType\n",
      "Error translating with src=en (attempt 2): the JSON object must be str, bytes or bytearray, not NoneType\n",
      "🔁 Attempting sentence split and translation...\n"
     ]
    },
    {
     "name": "stderr",
     "output_type": "stream",
     "text": [
      "Translating:  21%|█████████▋                                   | 358/1668 [30:30<1:52:58,  5.17s/it]"
     ]
    },
    {
     "name": "stdout",
     "output_type": "stream",
     "text": [
      "result sent successfully\n",
      "Error translating with src=en (attempt 1): the JSON object must be str, bytes or bytearray, not NoneType\n",
      "Error translating with src=en (attempt 2): the JSON object must be str, bytes or bytearray, not NoneType\n",
      "🔁 Attempting sentence split and translation...\n"
     ]
    },
    {
     "name": "stderr",
     "output_type": "stream",
     "text": [
      "Translating:  22%|█████████▋                                   | 359/1668 [30:35<1:52:26,  5.15s/it]"
     ]
    },
    {
     "name": "stdout",
     "output_type": "stream",
     "text": [
      "result sent successfully\n",
      "Error translating with src=en (attempt 1): the JSON object must be str, bytes or bytearray, not NoneType\n",
      "Error translating with src=en (attempt 2): the JSON object must be str, bytes or bytearray, not NoneType\n",
      "🔁 Attempting sentence split and translation...\n"
     ]
    },
    {
     "name": "stderr",
     "output_type": "stream",
     "text": [
      "Translating:  22%|█████████▋                                   | 360/1668 [30:40<1:50:51,  5.09s/it]"
     ]
    },
    {
     "name": "stdout",
     "output_type": "stream",
     "text": [
      "result sent successfully\n",
      "Error translating with src=en (attempt 1): the JSON object must be str, bytes or bytearray, not NoneType\n",
      "Error translating with src=en (attempt 2): the JSON object must be str, bytes or bytearray, not NoneType\n",
      "🔁 Attempting sentence split and translation...\n"
     ]
    },
    {
     "name": "stderr",
     "output_type": "stream",
     "text": [
      "Translating:  22%|█████████▋                                   | 361/1668 [30:45<1:50:49,  5.09s/it]"
     ]
    },
    {
     "name": "stdout",
     "output_type": "stream",
     "text": [
      "result sent successfully\n",
      "Error translating with src=en (attempt 1): the JSON object must be str, bytes or bytearray, not NoneType\n",
      "Error translating with src=en (attempt 2): the JSON object must be str, bytes or bytearray, not NoneType\n",
      "🔁 Attempting sentence split and translation...\n"
     ]
    },
    {
     "name": "stderr",
     "output_type": "stream",
     "text": [
      "Translating:  22%|█████████▊                                   | 362/1668 [30:50<1:51:25,  5.12s/it]"
     ]
    },
    {
     "name": "stdout",
     "output_type": "stream",
     "text": [
      "result sent successfully\n",
      "Error translating with src=en (attempt 1): the JSON object must be str, bytes or bytearray, not NoneType\n",
      "Error translating with src=en (attempt 2): the JSON object must be str, bytes or bytearray, not NoneType\n",
      "🔁 Attempting sentence split and translation...\n"
     ]
    },
    {
     "name": "stderr",
     "output_type": "stream",
     "text": [
      "Translating:  22%|█████████▊                                   | 363/1668 [30:55<1:51:13,  5.11s/it]"
     ]
    },
    {
     "name": "stdout",
     "output_type": "stream",
     "text": [
      "result sent successfully\n",
      "Error translating with src=en (attempt 1): the JSON object must be str, bytes or bytearray, not NoneType\n",
      "Error translating with src=en (attempt 2): the JSON object must be str, bytes or bytearray, not NoneType\n",
      "🔁 Attempting sentence split and translation...\n"
     ]
    },
    {
     "name": "stderr",
     "output_type": "stream",
     "text": [
      "Translating:  22%|█████████▊                                   | 364/1668 [31:01<1:51:54,  5.15s/it]"
     ]
    },
    {
     "name": "stdout",
     "output_type": "stream",
     "text": [
      "result sent successfully\n",
      "Error translating with src=en (attempt 1): the JSON object must be str, bytes or bytearray, not NoneType\n",
      "Error translating with src=en (attempt 2): the JSON object must be str, bytes or bytearray, not NoneType\n",
      "🔁 Attempting sentence split and translation...\n"
     ]
    },
    {
     "name": "stderr",
     "output_type": "stream",
     "text": [
      "Translating:  22%|█████████▊                                   | 365/1668 [31:06<1:51:23,  5.13s/it]"
     ]
    },
    {
     "name": "stdout",
     "output_type": "stream",
     "text": [
      "result sent successfully\n",
      "Error translating with src=en (attempt 1): the JSON object must be str, bytes or bytearray, not NoneType\n",
      "Error translating with src=en (attempt 2): the JSON object must be str, bytes or bytearray, not NoneType\n",
      "🔁 Attempting sentence split and translation...\n"
     ]
    },
    {
     "name": "stderr",
     "output_type": "stream",
     "text": [
      "Translating:  22%|█████████▊                                   | 366/1668 [31:11<1:50:58,  5.11s/it]"
     ]
    },
    {
     "name": "stdout",
     "output_type": "stream",
     "text": [
      "result sent successfully\n",
      "Error translating with src=en (attempt 1): the JSON object must be str, bytes or bytearray, not NoneType\n",
      "Error translating with src=en (attempt 2): the JSON object must be str, bytes or bytearray, not NoneType\n",
      "🔁 Attempting sentence split and translation...\n"
     ]
    },
    {
     "name": "stderr",
     "output_type": "stream",
     "text": [
      "Translating:  22%|█████████▉                                   | 367/1668 [31:16<1:49:44,  5.06s/it]"
     ]
    },
    {
     "name": "stdout",
     "output_type": "stream",
     "text": [
      "result sent successfully\n",
      "Error translating with src=en (attempt 1): the JSON object must be str, bytes or bytearray, not NoneType\n",
      "Error translating with src=en (attempt 2): the JSON object must be str, bytes or bytearray, not NoneType\n",
      "🔁 Attempting sentence split and translation...\n"
     ]
    },
    {
     "name": "stderr",
     "output_type": "stream",
     "text": [
      "Translating:  22%|█████████▉                                   | 368/1668 [31:21<1:48:54,  5.03s/it]"
     ]
    },
    {
     "name": "stdout",
     "output_type": "stream",
     "text": [
      "result sent successfully\n",
      "Error translating with src=en (attempt 1): the JSON object must be str, bytes or bytearray, not NoneType\n",
      "Error translating with src=en (attempt 2): the JSON object must be str, bytes or bytearray, not NoneType\n",
      "🔁 Attempting sentence split and translation...\n"
     ]
    },
    {
     "name": "stderr",
     "output_type": "stream",
     "text": [
      "Translating:  22%|█████████▉                                   | 369/1668 [31:26<1:50:16,  5.09s/it]"
     ]
    },
    {
     "name": "stdout",
     "output_type": "stream",
     "text": [
      "result sent successfully\n",
      "Error translating with src=en (attempt 1): the JSON object must be str, bytes or bytearray, not NoneType\n",
      "Error translating with src=en (attempt 2): the JSON object must be str, bytes or bytearray, not NoneType\n",
      "🔁 Attempting sentence split and translation...\n"
     ]
    },
    {
     "name": "stderr",
     "output_type": "stream",
     "text": [
      "Translating:  22%|█████████▉                                   | 370/1668 [31:31<1:50:09,  5.09s/it]"
     ]
    },
    {
     "name": "stdout",
     "output_type": "stream",
     "text": [
      "result sent successfully\n",
      "Error translating with src=en (attempt 1): the JSON object must be str, bytes or bytearray, not NoneType\n",
      "Error translating with src=en (attempt 2): the JSON object must be str, bytes or bytearray, not NoneType\n",
      "🔁 Attempting sentence split and translation...\n"
     ]
    },
    {
     "name": "stderr",
     "output_type": "stream",
     "text": [
      "Translating:  22%|██████████                                   | 371/1668 [31:36<1:49:05,  5.05s/it]"
     ]
    },
    {
     "name": "stdout",
     "output_type": "stream",
     "text": [
      "result sent successfully\n",
      "Error translating with src=en (attempt 1): the JSON object must be str, bytes or bytearray, not NoneType\n",
      "Error translating with src=en (attempt 2): the JSON object must be str, bytes or bytearray, not NoneType\n",
      "🔁 Attempting sentence split and translation...\n"
     ]
    },
    {
     "name": "stderr",
     "output_type": "stream",
     "text": [
      "Translating:  22%|██████████                                   | 372/1668 [31:41<1:49:58,  5.09s/it]"
     ]
    },
    {
     "name": "stdout",
     "output_type": "stream",
     "text": [
      "result sent successfully\n",
      "Error translating with src=en (attempt 1): the JSON object must be str, bytes or bytearray, not NoneType\n",
      "Error translating with src=en (attempt 2): the JSON object must be str, bytes or bytearray, not NoneType\n",
      "🔁 Attempting sentence split and translation...\n"
     ]
    },
    {
     "name": "stderr",
     "output_type": "stream",
     "text": [
      "Translating:  22%|██████████                                   | 373/1668 [31:46<1:48:56,  5.05s/it]"
     ]
    },
    {
     "name": "stdout",
     "output_type": "stream",
     "text": [
      "result sent successfully\n",
      "Error translating with src=en (attempt 1): the JSON object must be str, bytes or bytearray, not NoneType\n",
      "Error translating with src=en (attempt 2): the JSON object must be str, bytes or bytearray, not NoneType\n",
      "🔁 Attempting sentence split and translation...\n"
     ]
    },
    {
     "name": "stderr",
     "output_type": "stream",
     "text": [
      "Translating:  22%|██████████                                   | 374/1668 [31:51<1:49:47,  5.09s/it]"
     ]
    },
    {
     "name": "stdout",
     "output_type": "stream",
     "text": [
      "result sent successfully\n",
      "Error translating with src=en (attempt 1): the JSON object must be str, bytes or bytearray, not NoneType\n",
      "Error translating with src=en (attempt 2): the JSON object must be str, bytes or bytearray, not NoneType\n",
      "🔁 Attempting sentence split and translation...\n"
     ]
    },
    {
     "name": "stderr",
     "output_type": "stream",
     "text": [
      "Translating:  22%|██████████                                   | 375/1668 [31:56<1:48:35,  5.04s/it]"
     ]
    },
    {
     "name": "stdout",
     "output_type": "stream",
     "text": [
      "result sent successfully\n",
      "Error translating with src=en (attempt 1): the JSON object must be str, bytes or bytearray, not NoneType\n",
      "Error translating with src=en (attempt 2): the JSON object must be str, bytes or bytearray, not NoneType\n",
      "🔁 Attempting sentence split and translation...\n"
     ]
    },
    {
     "name": "stderr",
     "output_type": "stream",
     "text": [
      "Translating:  23%|██████████▏                                  | 376/1668 [32:01<1:48:53,  5.06s/it]"
     ]
    },
    {
     "name": "stdout",
     "output_type": "stream",
     "text": [
      "result sent successfully\n",
      "Error translating with src=en (attempt 1): the JSON object must be str, bytes or bytearray, not NoneType\n",
      "Error translating with src=en (attempt 2): the JSON object must be str, bytes or bytearray, not NoneType\n",
      "🔁 Attempting sentence split and translation...\n"
     ]
    },
    {
     "name": "stderr",
     "output_type": "stream",
     "text": [
      "Translating:  23%|██████████▏                                  | 377/1668 [32:07<1:52:06,  5.21s/it]"
     ]
    },
    {
     "name": "stdout",
     "output_type": "stream",
     "text": [
      "result sent successfully\n",
      "Error translating with src=en (attempt 1): the JSON object must be str, bytes or bytearray, not NoneType\n",
      "Error translating with src=en (attempt 2): the JSON object must be str, bytes or bytearray, not NoneType\n",
      "🔁 Attempting sentence split and translation...\n"
     ]
    },
    {
     "name": "stderr",
     "output_type": "stream",
     "text": [
      "Translating:  23%|██████████▏                                  | 378/1668 [32:12<1:52:04,  5.21s/it]"
     ]
    },
    {
     "name": "stdout",
     "output_type": "stream",
     "text": [
      "result sent successfully\n",
      "Error translating with src=en (attempt 1): the JSON object must be str, bytes or bytearray, not NoneType\n",
      "Error translating with src=en (attempt 2): the JSON object must be str, bytes or bytearray, not NoneType\n",
      "🔁 Attempting sentence split and translation...\n"
     ]
    },
    {
     "name": "stderr",
     "output_type": "stream",
     "text": [
      "Translating:  23%|██████████▏                                  | 379/1668 [32:17<1:50:07,  5.13s/it]"
     ]
    },
    {
     "name": "stdout",
     "output_type": "stream",
     "text": [
      "result sent successfully\n",
      "Error translating with src=en (attempt 1): the JSON object must be str, bytes or bytearray, not NoneType\n",
      "Error translating with src=en (attempt 2): the JSON object must be str, bytes or bytearray, not NoneType\n",
      "🔁 Attempting sentence split and translation...\n"
     ]
    },
    {
     "name": "stderr",
     "output_type": "stream",
     "text": [
      "Translating:  23%|██████████▎                                  | 380/1668 [32:22<1:50:45,  5.16s/it]"
     ]
    },
    {
     "name": "stdout",
     "output_type": "stream",
     "text": [
      "result sent successfully\n",
      "Error translating with src=en (attempt 1): the JSON object must be str, bytes or bytearray, not NoneType\n",
      "Error translating with src=en (attempt 2): the JSON object must be str, bytes or bytearray, not NoneType\n",
      "🔁 Attempting sentence split and translation...\n"
     ]
    },
    {
     "name": "stderr",
     "output_type": "stream",
     "text": [
      "Translating:  23%|██████████▎                                  | 381/1668 [32:27<1:49:07,  5.09s/it]"
     ]
    },
    {
     "name": "stdout",
     "output_type": "stream",
     "text": [
      "result sent successfully\n",
      "Error translating with src=en (attempt 1): the JSON object must be str, bytes or bytearray, not NoneType\n",
      "Error translating with src=en (attempt 2): the JSON object must be str, bytes or bytearray, not NoneType\n",
      "🔁 Attempting sentence split and translation...\n"
     ]
    },
    {
     "name": "stderr",
     "output_type": "stream",
     "text": [
      "Translating:  23%|██████████▎                                  | 382/1668 [32:32<1:48:01,  5.04s/it]"
     ]
    },
    {
     "name": "stdout",
     "output_type": "stream",
     "text": [
      "result sent successfully\n",
      "Error translating with src=en (attempt 1): the JSON object must be str, bytes or bytearray, not NoneType\n",
      "Error translating with src=en (attempt 2): the JSON object must be str, bytes or bytearray, not NoneType\n",
      "🔁 Attempting sentence split and translation...\n"
     ]
    },
    {
     "name": "stderr",
     "output_type": "stream",
     "text": [
      "Translating:  23%|██████████▎                                  | 383/1668 [32:37<1:49:06,  5.09s/it]"
     ]
    },
    {
     "name": "stdout",
     "output_type": "stream",
     "text": [
      "result sent successfully\n",
      "Error translating with src=en (attempt 1): the JSON object must be str, bytes or bytearray, not NoneType\n",
      "Error translating with src=en (attempt 2): the JSON object must be str, bytes or bytearray, not NoneType\n",
      "🔁 Attempting sentence split and translation...\n"
     ]
    },
    {
     "name": "stderr",
     "output_type": "stream",
     "text": [
      "Translating:  23%|██████████▎                                  | 384/1668 [32:42<1:48:56,  5.09s/it]"
     ]
    },
    {
     "name": "stdout",
     "output_type": "stream",
     "text": [
      "result sent successfully\n",
      "Error translating with src=en (attempt 1): the JSON object must be str, bytes or bytearray, not NoneType\n",
      "Error translating with src=en (attempt 2): the JSON object must be str, bytes or bytearray, not NoneType\n",
      "🔁 Attempting sentence split and translation...\n"
     ]
    },
    {
     "name": "stderr",
     "output_type": "stream",
     "text": [
      "Translating:  23%|██████████▍                                  | 385/1668 [32:48<1:50:44,  5.18s/it]"
     ]
    },
    {
     "name": "stdout",
     "output_type": "stream",
     "text": [
      "result sent successfully\n",
      "Error translating with src=en (attempt 1): the JSON object must be str, bytes or bytearray, not NoneType\n",
      "Error translating with src=en (attempt 2): the JSON object must be str, bytes or bytearray, not NoneType\n",
      "🔁 Attempting sentence split and translation...\n"
     ]
    },
    {
     "name": "stderr",
     "output_type": "stream",
     "text": [
      "Translating:  23%|██████████▍                                  | 386/1668 [32:53<1:51:02,  5.20s/it]"
     ]
    },
    {
     "name": "stdout",
     "output_type": "stream",
     "text": [
      "result sent successfully\n",
      "Error translating with src=en (attempt 1): the JSON object must be str, bytes or bytearray, not NoneType\n",
      "Error translating with src=en (attempt 2): the JSON object must be str, bytes or bytearray, not NoneType\n",
      "🔁 Attempting sentence split and translation...\n"
     ]
    },
    {
     "name": "stderr",
     "output_type": "stream",
     "text": [
      "Translating:  23%|██████████▍                                  | 387/1668 [32:58<1:50:22,  5.17s/it]"
     ]
    },
    {
     "name": "stdout",
     "output_type": "stream",
     "text": [
      "result sent successfully\n",
      "Error translating with src=en (attempt 1): the JSON object must be str, bytes or bytearray, not NoneType\n",
      "Error translating with src=en (attempt 2): the JSON object must be str, bytes or bytearray, not NoneType\n",
      "🔁 Attempting sentence split and translation...\n"
     ]
    },
    {
     "name": "stderr",
     "output_type": "stream",
     "text": [
      "Translating:  23%|██████████▍                                  | 388/1668 [33:03<1:50:49,  5.19s/it]"
     ]
    },
    {
     "name": "stdout",
     "output_type": "stream",
     "text": [
      "result sent successfully\n",
      "Error translating with src=en (attempt 1): the JSON object must be str, bytes or bytearray, not NoneType\n",
      "Error translating with src=en (attempt 2): the JSON object must be str, bytes or bytearray, not NoneType\n",
      "🔁 Attempting sentence split and translation...\n"
     ]
    },
    {
     "name": "stderr",
     "output_type": "stream",
     "text": [
      "Translating:  23%|██████████▍                                  | 389/1668 [33:08<1:49:56,  5.16s/it]"
     ]
    },
    {
     "name": "stdout",
     "output_type": "stream",
     "text": [
      "result sent successfully\n",
      "Error translating with src=en (attempt 1): the JSON object must be str, bytes or bytearray, not NoneType\n",
      "Error translating with src=en (attempt 2): the JSON object must be str, bytes or bytearray, not NoneType\n",
      "🔁 Attempting sentence split and translation...\n"
     ]
    },
    {
     "name": "stderr",
     "output_type": "stream",
     "text": [
      "Translating:  23%|██████████▌                                  | 390/1668 [33:13<1:49:21,  5.13s/it]"
     ]
    },
    {
     "name": "stdout",
     "output_type": "stream",
     "text": [
      "result sent successfully\n",
      "Error translating with src=en (attempt 1): the JSON object must be str, bytes or bytearray, not NoneType\n",
      "Error translating with src=en (attempt 2): the JSON object must be str, bytes or bytearray, not NoneType\n",
      "🔁 Attempting sentence split and translation...\n"
     ]
    },
    {
     "name": "stderr",
     "output_type": "stream",
     "text": [
      "Translating:  23%|██████████▌                                  | 391/1668 [33:19<1:51:01,  5.22s/it]"
     ]
    },
    {
     "name": "stdout",
     "output_type": "stream",
     "text": [
      "result sent successfully\n",
      "Error translating with src=en (attempt 1): the JSON object must be str, bytes or bytearray, not NoneType\n",
      "Error translating with src=en (attempt 2): the JSON object must be str, bytes or bytearray, not NoneType\n",
      "🔁 Attempting sentence split and translation...\n"
     ]
    },
    {
     "name": "stderr",
     "output_type": "stream",
     "text": [
      "Translating:  24%|██████████▌                                  | 392/1668 [33:24<1:52:00,  5.27s/it]"
     ]
    },
    {
     "name": "stdout",
     "output_type": "stream",
     "text": [
      "result sent successfully\n",
      "Error translating with src=en (attempt 1): the JSON object must be str, bytes or bytearray, not NoneType\n",
      "Error translating with src=en (attempt 2): the JSON object must be str, bytes or bytearray, not NoneType\n",
      "🔁 Attempting sentence split and translation...\n"
     ]
    },
    {
     "name": "stderr",
     "output_type": "stream",
     "text": [
      "Translating:  24%|██████████▌                                  | 393/1668 [33:30<1:55:40,  5.44s/it]"
     ]
    },
    {
     "name": "stdout",
     "output_type": "stream",
     "text": [
      "result sent successfully\n",
      "Error translating with src=en (attempt 1): the JSON object must be str, bytes or bytearray, not NoneType\n",
      "Error translating with src=en (attempt 2): the JSON object must be str, bytes or bytearray, not NoneType\n",
      "🔁 Attempting sentence split and translation...\n"
     ]
    },
    {
     "name": "stderr",
     "output_type": "stream",
     "text": [
      "Translating:  24%|██████████▋                                  | 394/1668 [33:35<1:52:19,  5.29s/it]"
     ]
    },
    {
     "name": "stdout",
     "output_type": "stream",
     "text": [
      "result sent successfully\n",
      "Error translating with src=en (attempt 1): the JSON object must be str, bytes or bytearray, not NoneType\n",
      "Error translating with src=en (attempt 2): the JSON object must be str, bytes or bytearray, not NoneType\n",
      "🔁 Attempting sentence split and translation...\n"
     ]
    },
    {
     "name": "stderr",
     "output_type": "stream",
     "text": [
      "Translating:  24%|██████████▋                                  | 395/1668 [33:40<1:50:57,  5.23s/it]"
     ]
    },
    {
     "name": "stdout",
     "output_type": "stream",
     "text": [
      "result sent successfully\n",
      "Error translating with src=en (attempt 1): the JSON object must be str, bytes or bytearray, not NoneType\n",
      "Error translating with src=en (attempt 2): the JSON object must be str, bytes or bytearray, not NoneType\n",
      "🔁 Attempting sentence split and translation...\n"
     ]
    },
    {
     "name": "stderr",
     "output_type": "stream",
     "text": [
      "Translating:  24%|██████████▋                                  | 396/1668 [33:45<1:49:48,  5.18s/it]"
     ]
    },
    {
     "name": "stdout",
     "output_type": "stream",
     "text": [
      "result sent successfully\n",
      "Error translating with src=en (attempt 1): the JSON object must be str, bytes or bytearray, not NoneType\n",
      "Error translating with src=en (attempt 2): the JSON object must be str, bytes or bytearray, not NoneType\n",
      "🔁 Attempting sentence split and translation...\n"
     ]
    },
    {
     "name": "stderr",
     "output_type": "stream",
     "text": [
      "Translating:  24%|██████████▋                                  | 397/1668 [33:51<1:50:57,  5.24s/it]"
     ]
    },
    {
     "name": "stdout",
     "output_type": "stream",
     "text": [
      "result sent successfully\n",
      "Error translating with src=en (attempt 1): the JSON object must be str, bytes or bytearray, not NoneType\n",
      "Error translating with src=en (attempt 2): the JSON object must be str, bytes or bytearray, not NoneType\n",
      "🔁 Attempting sentence split and translation...\n"
     ]
    },
    {
     "name": "stderr",
     "output_type": "stream",
     "text": [
      "Translating:  24%|██████████▋                                  | 398/1668 [33:56<1:51:55,  5.29s/it]"
     ]
    },
    {
     "name": "stdout",
     "output_type": "stream",
     "text": [
      "result sent successfully\n",
      "Error translating with src=en (attempt 1): the JSON object must be str, bytes or bytearray, not NoneType\n",
      "Error translating with src=en (attempt 2): the JSON object must be str, bytes or bytearray, not NoneType\n",
      "🔁 Attempting sentence split and translation...\n"
     ]
    },
    {
     "name": "stderr",
     "output_type": "stream",
     "text": [
      "Translating:  24%|██████████▊                                  | 399/1668 [34:01<1:49:37,  5.18s/it]"
     ]
    },
    {
     "name": "stdout",
     "output_type": "stream",
     "text": [
      "result sent successfully\n",
      "Error translating with src=en (attempt 1): the JSON object must be str, bytes or bytearray, not NoneType\n",
      "Error translating with src=en (attempt 2): the JSON object must be str, bytes or bytearray, not NoneType\n",
      "🔁 Attempting sentence split and translation...\n"
     ]
    },
    {
     "name": "stderr",
     "output_type": "stream",
     "text": [
      "Translating:  24%|██████████▊                                  | 400/1668 [34:06<1:48:51,  5.15s/it]"
     ]
    },
    {
     "name": "stdout",
     "output_type": "stream",
     "text": [
      "result sent successfully\n",
      "Error translating with src=en (attempt 1): the JSON object must be str, bytes or bytearray, not NoneType\n",
      "Error translating with src=en (attempt 2): the JSON object must be str, bytes or bytearray, not NoneType\n",
      "🔁 Attempting sentence split and translation...\n"
     ]
    },
    {
     "name": "stderr",
     "output_type": "stream",
     "text": [
      "Translating:  24%|██████████▊                                  | 401/1668 [34:11<1:47:34,  5.09s/it]"
     ]
    },
    {
     "name": "stdout",
     "output_type": "stream",
     "text": [
      "result sent successfully\n",
      "Error translating with src=en (attempt 1): the JSON object must be str, bytes or bytearray, not NoneType\n",
      "Error translating with src=en (attempt 2): the JSON object must be str, bytes or bytearray, not NoneType\n",
      "🔁 Attempting sentence split and translation...\n"
     ]
    },
    {
     "name": "stderr",
     "output_type": "stream",
     "text": [
      "Translating:  24%|██████████▊                                  | 402/1668 [34:16<1:47:50,  5.11s/it]"
     ]
    },
    {
     "name": "stdout",
     "output_type": "stream",
     "text": [
      "result sent successfully\n",
      "Error translating with src=en (attempt 1): the JSON object must be str, bytes or bytearray, not NoneType\n",
      "Error translating with src=en (attempt 2): the JSON object must be str, bytes or bytearray, not NoneType\n",
      "🔁 Attempting sentence split and translation...\n"
     ]
    },
    {
     "name": "stderr",
     "output_type": "stream",
     "text": [
      "Translating:  24%|██████████▊                                  | 403/1668 [34:21<1:48:32,  5.15s/it]"
     ]
    },
    {
     "name": "stdout",
     "output_type": "stream",
     "text": [
      "result sent successfully\n",
      "Error translating with src=en (attempt 1): the JSON object must be str, bytes or bytearray, not NoneType\n",
      "Error translating with src=en (attempt 2): the JSON object must be str, bytes or bytearray, not NoneType\n",
      "🔁 Attempting sentence split and translation...\n"
     ]
    },
    {
     "name": "stderr",
     "output_type": "stream",
     "text": [
      "Translating:  24%|██████████▉                                  | 404/1668 [34:27<1:50:58,  5.27s/it]"
     ]
    },
    {
     "name": "stdout",
     "output_type": "stream",
     "text": [
      "result sent successfully\n",
      "Error translating with src=en (attempt 1): the JSON object must be str, bytes or bytearray, not NoneType\n",
      "Error translating with src=en (attempt 2): the JSON object must be str, bytes or bytearray, not NoneType\n",
      "🔁 Attempting sentence split and translation...\n"
     ]
    },
    {
     "name": "stderr",
     "output_type": "stream",
     "text": [
      "Translating:  24%|██████████▉                                  | 405/1668 [34:32<1:48:51,  5.17s/it]"
     ]
    },
    {
     "name": "stdout",
     "output_type": "stream",
     "text": [
      "result sent successfully\n",
      "Error translating with src=en (attempt 1): the JSON object must be str, bytes or bytearray, not NoneType\n",
      "Error translating with src=en (attempt 2): the JSON object must be str, bytes or bytearray, not NoneType\n",
      "🔁 Attempting sentence split and translation...\n"
     ]
    },
    {
     "name": "stderr",
     "output_type": "stream",
     "text": [
      "Translating:  24%|██████████▉                                  | 406/1668 [34:37<1:47:08,  5.09s/it]"
     ]
    },
    {
     "name": "stdout",
     "output_type": "stream",
     "text": [
      "result sent successfully\n",
      "Error translating with src=en (attempt 1): the JSON object must be str, bytes or bytearray, not NoneType\n",
      "Error translating with src=en (attempt 2): the JSON object must be str, bytes or bytearray, not NoneType\n",
      "🔁 Attempting sentence split and translation...\n"
     ]
    },
    {
     "name": "stderr",
     "output_type": "stream",
     "text": [
      "Translating:  24%|██████████▉                                  | 407/1668 [34:42<1:46:57,  5.09s/it]"
     ]
    },
    {
     "name": "stdout",
     "output_type": "stream",
     "text": [
      "result sent successfully\n",
      "Error translating with src=en (attempt 1): the JSON object must be str, bytes or bytearray, not NoneType\n",
      "Error translating with src=en (attempt 2): the JSON object must be str, bytes or bytearray, not NoneType\n",
      "🔁 Attempting sentence split and translation...\n"
     ]
    },
    {
     "name": "stderr",
     "output_type": "stream",
     "text": [
      "Translating:  24%|███████████                                  | 408/1668 [34:47<1:45:52,  5.04s/it]"
     ]
    },
    {
     "name": "stdout",
     "output_type": "stream",
     "text": [
      "result sent successfully\n",
      "Error translating with src=en (attempt 1): the JSON object must be str, bytes or bytearray, not NoneType\n",
      "Error translating with src=en (attempt 2): the JSON object must be str, bytes or bytearray, not NoneType\n",
      "🔁 Attempting sentence split and translation...\n"
     ]
    },
    {
     "name": "stderr",
     "output_type": "stream",
     "text": [
      "Translating:  25%|███████████                                  | 409/1668 [34:52<1:47:59,  5.15s/it]"
     ]
    },
    {
     "name": "stdout",
     "output_type": "stream",
     "text": [
      "result sent successfully\n",
      "Error translating with src=en (attempt 1): the JSON object must be str, bytes or bytearray, not NoneType\n",
      "Error translating with src=en (attempt 2): the JSON object must be str, bytes or bytearray, not NoneType\n",
      "🔁 Attempting sentence split and translation...\n"
     ]
    },
    {
     "name": "stderr",
     "output_type": "stream",
     "text": [
      "Translating:  25%|███████████                                  | 410/1668 [34:58<1:49:25,  5.22s/it]"
     ]
    },
    {
     "name": "stdout",
     "output_type": "stream",
     "text": [
      "result sent successfully\n",
      "Error translating with src=en (attempt 1): the JSON object must be str, bytes or bytearray, not NoneType\n",
      "Error translating with src=en (attempt 2): the JSON object must be str, bytes or bytearray, not NoneType\n",
      "🔁 Attempting sentence split and translation...\n"
     ]
    },
    {
     "name": "stderr",
     "output_type": "stream",
     "text": [
      "Translating:  25%|███████████                                  | 411/1668 [35:02<1:47:42,  5.14s/it]"
     ]
    },
    {
     "name": "stdout",
     "output_type": "stream",
     "text": [
      "result sent successfully\n",
      "Error translating with src=en (attempt 1): the JSON object must be str, bytes or bytearray, not NoneType\n",
      "Error translating with src=en (attempt 2): the JSON object must be str, bytes or bytearray, not NoneType\n",
      "🔁 Attempting sentence split and translation...\n"
     ]
    },
    {
     "name": "stderr",
     "output_type": "stream",
     "text": [
      "Translating:  25%|███████████                                  | 412/1668 [35:08<1:47:58,  5.16s/it]"
     ]
    },
    {
     "name": "stdout",
     "output_type": "stream",
     "text": [
      "result sent successfully\n",
      "Error translating with src=en (attempt 1): the JSON object must be str, bytes or bytearray, not NoneType\n",
      "Error translating with src=en (attempt 2): the JSON object must be str, bytes or bytearray, not NoneType\n",
      "🔁 Attempting sentence split and translation...\n"
     ]
    },
    {
     "name": "stderr",
     "output_type": "stream",
     "text": [
      "Translating:  25%|███████████▏                                 | 413/1668 [35:13<1:47:33,  5.14s/it]"
     ]
    },
    {
     "name": "stdout",
     "output_type": "stream",
     "text": [
      "result sent successfully\n",
      "Error translating with src=en (attempt 1): the JSON object must be str, bytes or bytearray, not NoneType\n",
      "Error translating with src=en (attempt 2): the JSON object must be str, bytes or bytearray, not NoneType\n",
      "🔁 Attempting sentence split and translation...\n"
     ]
    },
    {
     "name": "stderr",
     "output_type": "stream",
     "text": [
      "Translating:  25%|███████████▏                                 | 414/1668 [35:18<1:48:01,  5.17s/it]"
     ]
    },
    {
     "name": "stdout",
     "output_type": "stream",
     "text": [
      "result sent successfully\n",
      "Error translating with src=en (attempt 1): the JSON object must be str, bytes or bytearray, not NoneType\n",
      "Error translating with src=en (attempt 2): the JSON object must be str, bytes or bytearray, not NoneType\n",
      "🔁 Attempting sentence split and translation...\n"
     ]
    },
    {
     "name": "stderr",
     "output_type": "stream",
     "text": [
      "Translating:  25%|███████████▏                                 | 415/1668 [35:23<1:47:03,  5.13s/it]"
     ]
    },
    {
     "name": "stdout",
     "output_type": "stream",
     "text": [
      "result sent successfully\n",
      "Error translating with src=en (attempt 1): the JSON object must be str, bytes or bytearray, not NoneType\n",
      "Error translating with src=en (attempt 2): the JSON object must be str, bytes or bytearray, not NoneType\n",
      "🔁 Attempting sentence split and translation...\n"
     ]
    },
    {
     "name": "stderr",
     "output_type": "stream",
     "text": [
      "Translating:  25%|███████████▏                                 | 416/1668 [35:28<1:46:16,  5.09s/it]"
     ]
    },
    {
     "name": "stdout",
     "output_type": "stream",
     "text": [
      "result sent successfully\n",
      "Error translating with src=en (attempt 1): the JSON object must be str, bytes or bytearray, not NoneType\n",
      "Error translating with src=en (attempt 2): the JSON object must be str, bytes or bytearray, not NoneType\n",
      "🔁 Attempting sentence split and translation...\n"
     ]
    },
    {
     "name": "stderr",
     "output_type": "stream",
     "text": [
      "Translating:  25%|███████████▎                                 | 417/1668 [35:33<1:47:00,  5.13s/it]"
     ]
    },
    {
     "name": "stdout",
     "output_type": "stream",
     "text": [
      "result sent successfully\n",
      "Error translating with src=en (attempt 1): the JSON object must be str, bytes or bytearray, not NoneType\n",
      "Error translating with src=en (attempt 2): the JSON object must be str, bytes or bytearray, not NoneType\n",
      "🔁 Attempting sentence split and translation...\n"
     ]
    },
    {
     "name": "stderr",
     "output_type": "stream",
     "text": [
      "Translating:  25%|███████████▎                                 | 418/1668 [35:38<1:47:20,  5.15s/it]"
     ]
    },
    {
     "name": "stdout",
     "output_type": "stream",
     "text": [
      "result sent successfully\n",
      "Error translating with src=en (attempt 1): the JSON object must be str, bytes or bytearray, not NoneType\n",
      "Error translating with src=en (attempt 2): the JSON object must be str, bytes or bytearray, not NoneType\n",
      "🔁 Attempting sentence split and translation...\n"
     ]
    },
    {
     "name": "stderr",
     "output_type": "stream",
     "text": [
      "Translating:  25%|███████████▎                                 | 419/1668 [35:44<1:48:43,  5.22s/it]"
     ]
    },
    {
     "name": "stdout",
     "output_type": "stream",
     "text": [
      "result sent successfully\n",
      "Error translating with src=en (attempt 1): the JSON object must be str, bytes or bytearray, not NoneType\n",
      "Error translating with src=en (attempt 2): the JSON object must be str, bytes or bytearray, not NoneType\n",
      "🔁 Attempting sentence split and translation...\n"
     ]
    },
    {
     "name": "stderr",
     "output_type": "stream",
     "text": [
      "Translating:  25%|███████████▎                                 | 420/1668 [35:49<1:46:41,  5.13s/it]"
     ]
    },
    {
     "name": "stdout",
     "output_type": "stream",
     "text": [
      "result sent successfully\n",
      "Error translating with src=en (attempt 1): the JSON object must be str, bytes or bytearray, not NoneType\n",
      "Error translating with src=en (attempt 2): the JSON object must be str, bytes or bytearray, not NoneType\n",
      "🔁 Attempting sentence split and translation...\n"
     ]
    },
    {
     "name": "stderr",
     "output_type": "stream",
     "text": [
      "Translating:  25%|███████████▎                                 | 421/1668 [35:54<1:45:58,  5.10s/it]"
     ]
    },
    {
     "name": "stdout",
     "output_type": "stream",
     "text": [
      "result sent successfully\n",
      "Error translating with src=en (attempt 1): the JSON object must be str, bytes or bytearray, not NoneType\n",
      "Error translating with src=en (attempt 2): the JSON object must be str, bytes or bytearray, not NoneType\n",
      "🔁 Attempting sentence split and translation...\n"
     ]
    },
    {
     "name": "stderr",
     "output_type": "stream",
     "text": [
      "Translating:  25%|███████████▍                                 | 422/1668 [35:59<1:44:50,  5.05s/it]"
     ]
    },
    {
     "name": "stdout",
     "output_type": "stream",
     "text": [
      "result sent successfully\n",
      "Error translating with src=en (attempt 1): the JSON object must be str, bytes or bytearray, not NoneType\n",
      "Error translating with src=en (attempt 2): the JSON object must be str, bytes or bytearray, not NoneType\n",
      "🔁 Attempting sentence split and translation...\n"
     ]
    },
    {
     "name": "stderr",
     "output_type": "stream",
     "text": [
      "Translating:  25%|███████████▍                                 | 423/1668 [36:04<1:45:53,  5.10s/it]"
     ]
    },
    {
     "name": "stdout",
     "output_type": "stream",
     "text": [
      "result sent successfully\n",
      "Error translating with src=en (attempt 1): the JSON object must be str, bytes or bytearray, not NoneType\n",
      "Error translating with src=en (attempt 2): the JSON object must be str, bytes or bytearray, not NoneType\n",
      "🔁 Attempting sentence split and translation...\n"
     ]
    },
    {
     "name": "stderr",
     "output_type": "stream",
     "text": [
      "Translating:  25%|███████████▍                                 | 424/1668 [36:09<1:45:39,  5.10s/it]"
     ]
    },
    {
     "name": "stdout",
     "output_type": "stream",
     "text": [
      "result sent successfully\n",
      "Error translating with src=en (attempt 1): the JSON object must be str, bytes or bytearray, not NoneType\n",
      "Error translating with src=en (attempt 2): the JSON object must be str, bytes or bytearray, not NoneType\n",
      "🔁 Attempting sentence split and translation...\n"
     ]
    },
    {
     "name": "stderr",
     "output_type": "stream",
     "text": [
      "Translating:  25%|███████████▍                                 | 425/1668 [36:14<1:46:25,  5.14s/it]"
     ]
    },
    {
     "name": "stdout",
     "output_type": "stream",
     "text": [
      "result sent successfully\n",
      "Error translating with src=en (attempt 1): the JSON object must be str, bytes or bytearray, not NoneType\n",
      "Error translating with src=en (attempt 2): the JSON object must be str, bytes or bytearray, not NoneType\n",
      "🔁 Attempting sentence split and translation...\n"
     ]
    },
    {
     "name": "stderr",
     "output_type": "stream",
     "text": [
      "Translating:  26%|███████████▍                                 | 426/1668 [36:20<1:50:45,  5.35s/it]"
     ]
    },
    {
     "name": "stdout",
     "output_type": "stream",
     "text": [
      "result sent successfully\n",
      "Error translating with src=en (attempt 1): the JSON object must be str, bytes or bytearray, not NoneType\n",
      "Error translating with src=en (attempt 2): the JSON object must be str, bytes or bytearray, not NoneType\n",
      "🔁 Attempting sentence split and translation...\n"
     ]
    },
    {
     "name": "stderr",
     "output_type": "stream",
     "text": [
      "Translating:  26%|███████████▌                                 | 427/1668 [36:25<1:49:17,  5.28s/it]"
     ]
    },
    {
     "name": "stdout",
     "output_type": "stream",
     "text": [
      "result sent successfully\n",
      "Error translating with src=en (attempt 1): the JSON object must be str, bytes or bytearray, not NoneType\n",
      "Error translating with src=en (attempt 2): the JSON object must be str, bytes or bytearray, not NoneType\n",
      "🔁 Attempting sentence split and translation...\n"
     ]
    },
    {
     "name": "stderr",
     "output_type": "stream",
     "text": [
      "Translating:  26%|███████████▌                                 | 428/1668 [36:30<1:46:54,  5.17s/it]"
     ]
    },
    {
     "name": "stdout",
     "output_type": "stream",
     "text": [
      "result sent successfully\n",
      "Error translating with src=en (attempt 1): the JSON object must be str, bytes or bytearray, not NoneType\n",
      "Error translating with src=en (attempt 2): the JSON object must be str, bytes or bytearray, not NoneType\n",
      "🔁 Attempting sentence split and translation...\n"
     ]
    },
    {
     "name": "stderr",
     "output_type": "stream",
     "text": [
      "Translating:  26%|███████████▌                                 | 429/1668 [36:35<1:46:02,  5.14s/it]"
     ]
    },
    {
     "name": "stdout",
     "output_type": "stream",
     "text": [
      "result sent successfully\n",
      "Error translating with src=en (attempt 1): the JSON object must be str, bytes or bytearray, not NoneType\n",
      "Error translating with src=en (attempt 2): the JSON object must be str, bytes or bytearray, not NoneType\n",
      "🔁 Attempting sentence split and translation...\n"
     ]
    },
    {
     "name": "stderr",
     "output_type": "stream",
     "text": [
      "Translating:  26%|███████████▌                                 | 430/1668 [36:40<1:44:46,  5.08s/it]"
     ]
    },
    {
     "name": "stdout",
     "output_type": "stream",
     "text": [
      "result sent successfully\n",
      "Error translating with src=en (attempt 1): the JSON object must be str, bytes or bytearray, not NoneType\n",
      "Error translating with src=en (attempt 2): the JSON object must be str, bytes or bytearray, not NoneType\n",
      "🔁 Attempting sentence split and translation...\n"
     ]
    },
    {
     "name": "stderr",
     "output_type": "stream",
     "text": [
      "Translating:  26%|███████████▋                                 | 431/1668 [36:45<1:43:53,  5.04s/it]"
     ]
    },
    {
     "name": "stdout",
     "output_type": "stream",
     "text": [
      "result sent successfully\n",
      "Error translating with src=en (attempt 1): the JSON object must be str, bytes or bytearray, not NoneType\n",
      "Error translating with src=en (attempt 2): the JSON object must be str, bytes or bytearray, not NoneType\n",
      "🔁 Attempting sentence split and translation...\n"
     ]
    },
    {
     "name": "stderr",
     "output_type": "stream",
     "text": [
      "Translating:  26%|███████████▋                                 | 432/1668 [36:50<1:45:01,  5.10s/it]"
     ]
    },
    {
     "name": "stdout",
     "output_type": "stream",
     "text": [
      "result sent successfully\n",
      "Error translating with src=en (attempt 1): the JSON object must be str, bytes or bytearray, not NoneType\n",
      "Error translating with src=en (attempt 2): the JSON object must be str, bytes or bytearray, not NoneType\n",
      "🔁 Attempting sentence split and translation...\n"
     ]
    },
    {
     "name": "stderr",
     "output_type": "stream",
     "text": [
      "Translating:  26%|███████████▋                                 | 433/1668 [36:55<1:44:52,  5.09s/it]"
     ]
    },
    {
     "name": "stdout",
     "output_type": "stream",
     "text": [
      "result sent successfully\n",
      "Error translating with src=en (attempt 1): the JSON object must be str, bytes or bytearray, not NoneType\n",
      "Error translating with src=en (attempt 2): the JSON object must be str, bytes or bytearray, not NoneType\n",
      "🔁 Attempting sentence split and translation...\n"
     ]
    },
    {
     "name": "stderr",
     "output_type": "stream",
     "text": [
      "Translating:  26%|███████████▋                                 | 434/1668 [37:01<1:47:28,  5.23s/it]"
     ]
    },
    {
     "name": "stdout",
     "output_type": "stream",
     "text": [
      "result sent successfully\n",
      "Error translating with src=en (attempt 1): the JSON object must be str, bytes or bytearray, not NoneType\n",
      "Error translating with src=en (attempt 2): the JSON object must be str, bytes or bytearray, not NoneType\n",
      "🔁 Attempting sentence split and translation...\n"
     ]
    },
    {
     "name": "stderr",
     "output_type": "stream",
     "text": [
      "Translating:  26%|███████████▋                                 | 435/1668 [37:06<1:46:08,  5.17s/it]"
     ]
    },
    {
     "name": "stdout",
     "output_type": "stream",
     "text": [
      "result sent successfully\n",
      "Error translating with src=en (attempt 1): the JSON object must be str, bytes or bytearray, not NoneType\n",
      "Error translating with src=en (attempt 2): the JSON object must be str, bytes or bytearray, not NoneType\n",
      "🔁 Attempting sentence split and translation...\n"
     ]
    },
    {
     "name": "stderr",
     "output_type": "stream",
     "text": [
      "Translating:  26%|███████████▊                                 | 436/1668 [37:11<1:46:20,  5.18s/it]"
     ]
    },
    {
     "name": "stdout",
     "output_type": "stream",
     "text": [
      "result sent successfully\n",
      "Error translating with src=en (attempt 1): the JSON object must be str, bytes or bytearray, not NoneType\n",
      "Error translating with src=en (attempt 2): the JSON object must be str, bytes or bytearray, not NoneType\n",
      "🔁 Attempting sentence split and translation...\n"
     ]
    },
    {
     "name": "stderr",
     "output_type": "stream",
     "text": [
      "Translating:  26%|███████████▊                                 | 437/1668 [37:16<1:45:47,  5.16s/it]"
     ]
    },
    {
     "name": "stdout",
     "output_type": "stream",
     "text": [
      "result sent successfully\n",
      "Error translating with src=en (attempt 1): the JSON object must be str, bytes or bytearray, not NoneType\n",
      "Error translating with src=en (attempt 2): the JSON object must be str, bytes or bytearray, not NoneType\n",
      "🔁 Attempting sentence split and translation...\n"
     ]
    },
    {
     "name": "stderr",
     "output_type": "stream",
     "text": [
      "Translating:  26%|███████████▊                                 | 438/1668 [37:21<1:45:19,  5.14s/it]"
     ]
    },
    {
     "name": "stdout",
     "output_type": "stream",
     "text": [
      "result sent successfully\n",
      "Error translating with src=en (attempt 1): the JSON object must be str, bytes or bytearray, not NoneType\n",
      "Error translating with src=en (attempt 2): the JSON object must be str, bytes or bytearray, not NoneType\n",
      "🔁 Attempting sentence split and translation...\n"
     ]
    },
    {
     "name": "stderr",
     "output_type": "stream",
     "text": [
      "Translating:  26%|███████████▊                                 | 439/1668 [37:27<1:45:05,  5.13s/it]"
     ]
    },
    {
     "name": "stdout",
     "output_type": "stream",
     "text": [
      "result sent successfully\n",
      "Error translating with src=en (attempt 1): the JSON object must be str, bytes or bytearray, not NoneType\n",
      "Error translating with src=en (attempt 2): the JSON object must be str, bytes or bytearray, not NoneType\n",
      "🔁 Attempting sentence split and translation...\n"
     ]
    },
    {
     "name": "stderr",
     "output_type": "stream",
     "text": [
      "Translating:  26%|███████████▉                                 | 441/1668 [37:32<1:13:18,  3.58s/it]"
     ]
    },
    {
     "name": "stdout",
     "output_type": "stream",
     "text": [
      "result sent successfully\n",
      "Error translating with src=en (attempt 1): the JSON object must be str, bytes or bytearray, not NoneType\n",
      "Error translating with src=en (attempt 2): the JSON object must be str, bytes or bytearray, not NoneType\n",
      "🔁 Attempting sentence split and translation...\n"
     ]
    },
    {
     "name": "stderr",
     "output_type": "stream",
     "text": [
      "Translating:  26%|███████████▉                                 | 442/1668 [37:37<1:22:32,  4.04s/it]"
     ]
    },
    {
     "name": "stdout",
     "output_type": "stream",
     "text": [
      "result sent successfully\n",
      "Error translating with src=en (attempt 1): the JSON object must be str, bytes or bytearray, not NoneType\n",
      "Error translating with src=en (attempt 2): the JSON object must be str, bytes or bytearray, not NoneType\n",
      "🔁 Attempting sentence split and translation...\n"
     ]
    },
    {
     "name": "stderr",
     "output_type": "stream",
     "text": [
      "Translating:  27%|███████████▉                                 | 443/1668 [37:42<1:28:06,  4.32s/it]"
     ]
    },
    {
     "name": "stdout",
     "output_type": "stream",
     "text": [
      "result sent successfully\n",
      "Error translating with src=en (attempt 1): the JSON object must be str, bytes or bytearray, not NoneType\n",
      "Error translating with src=en (attempt 2): the JSON object must be str, bytes or bytearray, not NoneType\n",
      "🔁 Attempting sentence split and translation...\n"
     ]
    },
    {
     "name": "stderr",
     "output_type": "stream",
     "text": [
      "Translating:  27%|███████████▉                                 | 444/1668 [37:47<1:32:05,  4.51s/it]"
     ]
    },
    {
     "name": "stdout",
     "output_type": "stream",
     "text": [
      "result sent successfully\n",
      "Error translating with src=en (attempt 1): the JSON object must be str, bytes or bytearray, not NoneType\n",
      "Error translating with src=en (attempt 2): the JSON object must be str, bytes or bytearray, not NoneType\n",
      "🔁 Attempting sentence split and translation...\n"
     ]
    },
    {
     "name": "stderr",
     "output_type": "stream",
     "text": [
      "Translating:  27%|████████████                                 | 445/1668 [37:52<1:35:32,  4.69s/it]"
     ]
    },
    {
     "name": "stdout",
     "output_type": "stream",
     "text": [
      "result sent successfully\n",
      "Error translating with src=en (attempt 1): the JSON object must be str, bytes or bytearray, not NoneType\n",
      "Error translating with src=en (attempt 2): the JSON object must be str, bytes or bytearray, not NoneType\n",
      "🔁 Attempting sentence split and translation...\n"
     ]
    },
    {
     "name": "stderr",
     "output_type": "stream",
     "text": [
      "Translating:  27%|████████████                                 | 446/1668 [37:57<1:38:43,  4.85s/it]"
     ]
    },
    {
     "name": "stdout",
     "output_type": "stream",
     "text": [
      "result sent successfully\n",
      "Error translating with src=en (attempt 1): the JSON object must be str, bytes or bytearray, not NoneType\n",
      "Error translating with src=en (attempt 2): the JSON object must be str, bytes or bytearray, not NoneType\n",
      "🔁 Attempting sentence split and translation...\n"
     ]
    },
    {
     "name": "stderr",
     "output_type": "stream",
     "text": [
      "Translating:  27%|████████████                                 | 447/1668 [38:02<1:39:29,  4.89s/it]"
     ]
    },
    {
     "name": "stdout",
     "output_type": "stream",
     "text": [
      "result sent successfully\n",
      "Error translating with src=en (attempt 1): the JSON object must be str, bytes or bytearray, not NoneType\n",
      "Error translating with src=en (attempt 2): the JSON object must be str, bytes or bytearray, not NoneType\n",
      "🔁 Attempting sentence split and translation...\n"
     ]
    },
    {
     "name": "stderr",
     "output_type": "stream",
     "text": [
      "Translating:  27%|████████████                                 | 448/1668 [38:07<1:39:43,  4.90s/it]"
     ]
    },
    {
     "name": "stdout",
     "output_type": "stream",
     "text": [
      "result sent successfully\n",
      "Error translating with src=en (attempt 1): the JSON object must be str, bytes or bytearray, not NoneType\n",
      "Error translating with src=en (attempt 2): the JSON object must be str, bytes or bytearray, not NoneType\n",
      "🔁 Attempting sentence split and translation...\n"
     ]
    },
    {
     "name": "stderr",
     "output_type": "stream",
     "text": [
      "Translating:  27%|████████████                                 | 449/1668 [38:12<1:41:40,  5.00s/it]"
     ]
    },
    {
     "name": "stdout",
     "output_type": "stream",
     "text": [
      "result sent successfully\n",
      "Error translating with src=en (attempt 1): the JSON object must be str, bytes or bytearray, not NoneType\n",
      "Error translating with src=en (attempt 2): the JSON object must be str, bytes or bytearray, not NoneType\n",
      "🔁 Attempting sentence split and translation...\n"
     ]
    },
    {
     "name": "stderr",
     "output_type": "stream",
     "text": [
      "Translating:  27%|████████████▏                                | 450/1668 [38:17<1:42:08,  5.03s/it]"
     ]
    },
    {
     "name": "stdout",
     "output_type": "stream",
     "text": [
      "result sent successfully\n",
      "Error translating with src=en (attempt 1): the JSON object must be str, bytes or bytearray, not NoneType\n",
      "Error translating with src=en (attempt 2): the JSON object must be str, bytes or bytearray, not NoneType\n",
      "🔁 Attempting sentence split and translation...\n"
     ]
    },
    {
     "name": "stderr",
     "output_type": "stream",
     "text": [
      "Translating:  27%|████████████▏                                | 451/1668 [38:23<1:44:13,  5.14s/it]"
     ]
    },
    {
     "name": "stdout",
     "output_type": "stream",
     "text": [
      "result sent successfully\n",
      "Error translating with src=en (attempt 1): the JSON object must be str, bytes or bytearray, not NoneType\n",
      "Error translating with src=en (attempt 2): the JSON object must be str, bytes or bytearray, not NoneType\n",
      "🔁 Attempting sentence split and translation...\n"
     ]
    },
    {
     "name": "stderr",
     "output_type": "stream",
     "text": [
      "Translating:  27%|████████████▏                                | 452/1668 [38:28<1:44:45,  5.17s/it]"
     ]
    },
    {
     "name": "stdout",
     "output_type": "stream",
     "text": [
      "result sent successfully\n",
      "Error translating with src=en (attempt 1): the JSON object must be str, bytes or bytearray, not NoneType\n",
      "Error translating with src=en (attempt 2): the JSON object must be str, bytes or bytearray, not NoneType\n",
      "🔁 Attempting sentence split and translation...\n"
     ]
    },
    {
     "name": "stderr",
     "output_type": "stream",
     "text": [
      "Translating:  27%|████████████▏                                | 453/1668 [38:33<1:44:06,  5.14s/it]"
     ]
    },
    {
     "name": "stdout",
     "output_type": "stream",
     "text": [
      "result sent successfully\n",
      "Error translating with src=en (attempt 1): the JSON object must be str, bytes or bytearray, not NoneType\n",
      "Error translating with src=en (attempt 2): the JSON object must be str, bytes or bytearray, not NoneType\n",
      "🔁 Attempting sentence split and translation...\n"
     ]
    },
    {
     "name": "stderr",
     "output_type": "stream",
     "text": [
      "Translating:  27%|████████████▏                                | 454/1668 [38:38<1:43:40,  5.12s/it]"
     ]
    },
    {
     "name": "stdout",
     "output_type": "stream",
     "text": [
      "result sent successfully\n",
      "Error translating with src=en (attempt 1): the JSON object must be str, bytes or bytearray, not NoneType\n",
      "Error translating with src=en (attempt 2): the JSON object must be str, bytes or bytearray, not NoneType\n",
      "🔁 Attempting sentence split and translation...\n"
     ]
    },
    {
     "name": "stderr",
     "output_type": "stream",
     "text": [
      "Translating:  27%|████████████▎                                | 455/1668 [38:43<1:45:53,  5.24s/it]"
     ]
    },
    {
     "name": "stdout",
     "output_type": "stream",
     "text": [
      "result sent successfully\n",
      "Error translating with src=en (attempt 1): the JSON object must be str, bytes or bytearray, not NoneType\n",
      "Error translating with src=en (attempt 2): the JSON object must be str, bytes or bytearray, not NoneType\n",
      "🔁 Attempting sentence split and translation...\n"
     ]
    },
    {
     "name": "stderr",
     "output_type": "stream",
     "text": [
      "Translating:  27%|████████████▎                                | 456/1668 [38:49<1:45:02,  5.20s/it]"
     ]
    },
    {
     "name": "stdout",
     "output_type": "stream",
     "text": [
      "result sent successfully\n",
      "Error translating with src=en (attempt 1): the JSON object must be str, bytes or bytearray, not NoneType\n",
      "Error translating with src=en (attempt 2): the JSON object must be str, bytes or bytearray, not NoneType\n",
      "🔁 Attempting sentence split and translation...\n"
     ]
    },
    {
     "name": "stderr",
     "output_type": "stream",
     "text": [
      "Translating:  27%|████████████▎                                | 457/1668 [38:54<1:44:13,  5.16s/it]"
     ]
    },
    {
     "name": "stdout",
     "output_type": "stream",
     "text": [
      "result sent successfully\n",
      "Error translating with src=en (attempt 1): the JSON object must be str, bytes or bytearray, not NoneType\n",
      "Error translating with src=en (attempt 2): the JSON object must be str, bytes or bytearray, not NoneType\n",
      "🔁 Attempting sentence split and translation...\n"
     ]
    },
    {
     "name": "stderr",
     "output_type": "stream",
     "text": [
      "Translating:  27%|████████████▎                                | 458/1668 [38:59<1:43:37,  5.14s/it]"
     ]
    },
    {
     "name": "stdout",
     "output_type": "stream",
     "text": [
      "result sent successfully\n",
      "Error translating with src=en (attempt 1): the JSON object must be str, bytes or bytearray, not NoneType\n",
      "Error translating with src=en (attempt 2): the JSON object must be str, bytes or bytearray, not NoneType\n",
      "🔁 Attempting sentence split and translation...\n"
     ]
    },
    {
     "name": "stderr",
     "output_type": "stream",
     "text": [
      "Translating:  28%|████████████▍                                | 459/1668 [39:04<1:43:11,  5.12s/it]"
     ]
    },
    {
     "name": "stdout",
     "output_type": "stream",
     "text": [
      "result sent successfully\n",
      "Error translating with src=en (attempt 1): the JSON object must be str, bytes or bytearray, not NoneType\n",
      "Error translating with src=en (attempt 2): the JSON object must be str, bytes or bytearray, not NoneType\n",
      "🔁 Attempting sentence split and translation...\n"
     ]
    },
    {
     "name": "stderr",
     "output_type": "stream",
     "text": [
      "Translating:  28%|████████████▍                                | 460/1668 [39:09<1:42:56,  5.11s/it]"
     ]
    },
    {
     "name": "stdout",
     "output_type": "stream",
     "text": [
      "result sent successfully\n",
      "Error translating with src=en (attempt 1): the JSON object must be str, bytes or bytearray, not NoneType\n",
      "Error translating with src=en (attempt 2): the JSON object must be str, bytes or bytearray, not NoneType\n",
      "🔁 Attempting sentence split and translation...\n"
     ]
    },
    {
     "name": "stderr",
     "output_type": "stream",
     "text": [
      "Translating:  28%|████████████▍                                | 461/1668 [39:14<1:41:49,  5.06s/it]"
     ]
    },
    {
     "name": "stdout",
     "output_type": "stream",
     "text": [
      "result sent successfully\n",
      "Error translating with src=en (attempt 1): the JSON object must be str, bytes or bytearray, not NoneType\n",
      "Error translating with src=en (attempt 2): the JSON object must be str, bytes or bytearray, not NoneType\n",
      "🔁 Attempting sentence split and translation...\n"
     ]
    },
    {
     "name": "stderr",
     "output_type": "stream",
     "text": [
      "Translating:  28%|████████████▍                                | 462/1668 [39:19<1:41:11,  5.03s/it]"
     ]
    },
    {
     "name": "stdout",
     "output_type": "stream",
     "text": [
      "result sent successfully\n",
      "Error translating with src=en (attempt 1): the JSON object must be str, bytes or bytearray, not NoneType\n",
      "Error translating with src=en (attempt 2): the JSON object must be str, bytes or bytearray, not NoneType\n",
      "🔁 Attempting sentence split and translation...\n"
     ]
    },
    {
     "name": "stderr",
     "output_type": "stream",
     "text": [
      "Translating:  28%|████████████▍                                | 463/1668 [39:24<1:40:34,  5.01s/it]"
     ]
    },
    {
     "name": "stdout",
     "output_type": "stream",
     "text": [
      "result sent successfully\n",
      "Error translating with src=en (attempt 1): the JSON object must be str, bytes or bytearray, not NoneType\n",
      "Error translating with src=en (attempt 2): the JSON object must be str, bytes or bytearray, not NoneType\n",
      "🔁 Attempting sentence split and translation...\n"
     ]
    },
    {
     "name": "stderr",
     "output_type": "stream",
     "text": [
      "Translating:  28%|████████████▌                                | 464/1668 [39:29<1:39:59,  4.98s/it]"
     ]
    },
    {
     "name": "stdout",
     "output_type": "stream",
     "text": [
      "result sent successfully\n",
      "Error translating with src=en (attempt 1): the JSON object must be str, bytes or bytearray, not NoneType\n",
      "Error translating with src=en (attempt 2): the JSON object must be str, bytes or bytearray, not NoneType\n",
      "🔁 Attempting sentence split and translation...\n"
     ]
    },
    {
     "name": "stderr",
     "output_type": "stream",
     "text": [
      "Translating:  28%|████████████▌                                | 465/1668 [39:34<1:42:19,  5.10s/it]"
     ]
    },
    {
     "name": "stdout",
     "output_type": "stream",
     "text": [
      "result sent successfully\n",
      "Error translating with src=en (attempt 1): the JSON object must be str, bytes or bytearray, not NoneType\n",
      "Error translating with src=en (attempt 2): the JSON object must be str, bytes or bytearray, not NoneType\n",
      "🔁 Attempting sentence split and translation...\n"
     ]
    },
    {
     "name": "stderr",
     "output_type": "stream",
     "text": [
      "Translating:  28%|████████████▌                                | 466/1668 [39:39<1:42:10,  5.10s/it]"
     ]
    },
    {
     "name": "stdout",
     "output_type": "stream",
     "text": [
      "result sent successfully\n",
      "Error translating with src=en (attempt 1): the JSON object must be str, bytes or bytearray, not NoneType\n",
      "Error translating with src=en (attempt 2): the JSON object must be str, bytes or bytearray, not NoneType\n",
      "🔁 Attempting sentence split and translation...\n"
     ]
    },
    {
     "name": "stderr",
     "output_type": "stream",
     "text": [
      "Translating:  28%|████████████▌                                | 467/1668 [39:44<1:42:57,  5.14s/it]"
     ]
    },
    {
     "name": "stdout",
     "output_type": "stream",
     "text": [
      "result sent successfully\n",
      "Error translating with src=en (attempt 1): the JSON object must be str, bytes or bytearray, not NoneType\n",
      "Error translating with src=en (attempt 2): the JSON object must be str, bytes or bytearray, not NoneType\n",
      "🔁 Attempting sentence split and translation...\n"
     ]
    },
    {
     "name": "stderr",
     "output_type": "stream",
     "text": [
      "Translating:  28%|████████████▋                                | 468/1668 [39:50<1:43:26,  5.17s/it]"
     ]
    },
    {
     "name": "stdout",
     "output_type": "stream",
     "text": [
      "result sent successfully\n",
      "Error translating with src=en (attempt 1): the JSON object must be str, bytes or bytearray, not NoneType\n",
      "Error translating with src=en (attempt 2): the JSON object must be str, bytes or bytearray, not NoneType\n",
      "🔁 Attempting sentence split and translation...\n"
     ]
    },
    {
     "name": "stderr",
     "output_type": "stream",
     "text": [
      "Translating:  28%|████████████▋                                | 469/1668 [39:55<1:42:52,  5.15s/it]"
     ]
    },
    {
     "name": "stdout",
     "output_type": "stream",
     "text": [
      "result sent successfully\n",
      "Error translating with src=en (attempt 1): the JSON object must be str, bytes or bytearray, not NoneType\n",
      "Error translating with src=en (attempt 2): the JSON object must be str, bytes or bytearray, not NoneType\n",
      "🔁 Attempting sentence split and translation...\n"
     ]
    },
    {
     "name": "stderr",
     "output_type": "stream",
     "text": [
      "Translating:  28%|████████████▋                                | 470/1668 [40:00<1:41:38,  5.09s/it]"
     ]
    },
    {
     "name": "stdout",
     "output_type": "stream",
     "text": [
      "result sent successfully\n",
      "Error translating with src=en (attempt 1): the JSON object must be str, bytes or bytearray, not NoneType\n",
      "Error translating with src=en (attempt 2): the JSON object must be str, bytes or bytearray, not NoneType\n",
      "🔁 Attempting sentence split and translation...\n"
     ]
    },
    {
     "name": "stderr",
     "output_type": "stream",
     "text": [
      "Translating:  28%|████████████▋                                | 471/1668 [40:05<1:41:39,  5.10s/it]"
     ]
    },
    {
     "name": "stdout",
     "output_type": "stream",
     "text": [
      "result sent successfully\n",
      "Error translating with src=en (attempt 1): the JSON object must be str, bytes or bytearray, not NoneType\n",
      "Error translating with src=en (attempt 2): the JSON object must be str, bytes or bytearray, not NoneType\n",
      "🔁 Attempting sentence split and translation...\n"
     ]
    },
    {
     "name": "stderr",
     "output_type": "stream",
     "text": [
      "Translating:  28%|████████████▋                                | 472/1668 [40:10<1:40:31,  5.04s/it]"
     ]
    },
    {
     "name": "stdout",
     "output_type": "stream",
     "text": [
      "result sent successfully\n",
      "Error translating with src=en (attempt 1): the JSON object must be str, bytes or bytearray, not NoneType\n",
      "Error translating with src=en (attempt 2): the JSON object must be str, bytes or bytearray, not NoneType\n",
      "🔁 Attempting sentence split and translation...\n"
     ]
    },
    {
     "name": "stderr",
     "output_type": "stream",
     "text": [
      "Translating:  28%|████████████▊                                | 473/1668 [40:15<1:41:31,  5.10s/it]"
     ]
    },
    {
     "name": "stdout",
     "output_type": "stream",
     "text": [
      "result sent successfully\n",
      "Error translating with src=en (attempt 1): the JSON object must be str, bytes or bytearray, not NoneType\n",
      "Error translating with src=en (attempt 2): the JSON object must be str, bytes or bytearray, not NoneType\n",
      "🔁 Attempting sentence split and translation...\n"
     ]
    },
    {
     "name": "stderr",
     "output_type": "stream",
     "text": [
      "Translating:  28%|████████████▊                                | 474/1668 [40:20<1:40:34,  5.05s/it]"
     ]
    },
    {
     "name": "stdout",
     "output_type": "stream",
     "text": [
      "result sent successfully\n",
      "Error translating with src=en (attempt 1): the JSON object must be str, bytes or bytearray, not NoneType\n",
      "Error translating with src=en (attempt 2): the JSON object must be str, bytes or bytearray, not NoneType\n",
      "🔁 Attempting sentence split and translation...\n"
     ]
    },
    {
     "name": "stderr",
     "output_type": "stream",
     "text": [
      "Translating:  28%|████████████▊                                | 475/1668 [40:25<1:39:46,  5.02s/it]"
     ]
    },
    {
     "name": "stdout",
     "output_type": "stream",
     "text": [
      "result sent successfully\n",
      "Error translating with src=en (attempt 1): the JSON object must be str, bytes or bytearray, not NoneType\n",
      "Error translating with src=en (attempt 2): the JSON object must be str, bytes or bytearray, not NoneType\n",
      "🔁 Attempting sentence split and translation...\n"
     ]
    },
    {
     "name": "stderr",
     "output_type": "stream",
     "text": [
      "Translating:  29%|████████████▊                                | 476/1668 [40:30<1:41:51,  5.13s/it]"
     ]
    },
    {
     "name": "stdout",
     "output_type": "stream",
     "text": [
      "result sent successfully\n",
      "Error translating with src=en (attempt 1): the JSON object must be str, bytes or bytearray, not NoneType\n",
      "Error translating with src=en (attempt 2): the JSON object must be str, bytes or bytearray, not NoneType\n",
      "🔁 Attempting sentence split and translation...\n"
     ]
    },
    {
     "name": "stderr",
     "output_type": "stream",
     "text": [
      "Translating:  29%|████████████▊                                | 477/1668 [40:35<1:40:39,  5.07s/it]"
     ]
    },
    {
     "name": "stdout",
     "output_type": "stream",
     "text": [
      "result sent successfully\n",
      "Error translating with src=en (attempt 1): the JSON object must be str, bytes or bytearray, not NoneType\n",
      "Error translating with src=en (attempt 2): the JSON object must be str, bytes or bytearray, not NoneType\n",
      "🔁 Attempting sentence split and translation...\n"
     ]
    },
    {
     "name": "stderr",
     "output_type": "stream",
     "text": [
      "Translating:  29%|████████████▉                                | 478/1668 [40:40<1:40:40,  5.08s/it]"
     ]
    },
    {
     "name": "stdout",
     "output_type": "stream",
     "text": [
      "result sent successfully\n",
      "Error translating with src=en (attempt 1): the JSON object must be str, bytes or bytearray, not NoneType\n",
      "Error translating with src=en (attempt 2): the JSON object must be str, bytes or bytearray, not NoneType\n",
      "🔁 Attempting sentence split and translation...\n"
     ]
    },
    {
     "name": "stderr",
     "output_type": "stream",
     "text": [
      "Translating:  29%|████████████▉                                | 479/1668 [40:45<1:39:48,  5.04s/it]"
     ]
    },
    {
     "name": "stdout",
     "output_type": "stream",
     "text": [
      "result sent successfully\n",
      "Error translating with src=en (attempt 1): the JSON object must be str, bytes or bytearray, not NoneType\n",
      "Error translating with src=en (attempt 2): the JSON object must be str, bytes or bytearray, not NoneType\n",
      "🔁 Attempting sentence split and translation...\n"
     ]
    },
    {
     "name": "stderr",
     "output_type": "stream",
     "text": [
      "Translating:  29%|████████████▉                                | 480/1668 [40:50<1:39:42,  5.04s/it]"
     ]
    },
    {
     "name": "stdout",
     "output_type": "stream",
     "text": [
      "result sent successfully\n",
      "Error translating with src=en (attempt 1): the JSON object must be str, bytes or bytearray, not NoneType\n",
      "Error translating with src=en (attempt 2): the JSON object must be str, bytes or bytearray, not NoneType\n",
      "🔁 Attempting sentence split and translation...\n"
     ]
    },
    {
     "name": "stderr",
     "output_type": "stream",
     "text": [
      "Translating:  29%|████████████▉                                | 481/1668 [40:55<1:39:59,  5.05s/it]"
     ]
    },
    {
     "name": "stdout",
     "output_type": "stream",
     "text": [
      "result sent successfully\n",
      "Error translating with src=en (attempt 1): the JSON object must be str, bytes or bytearray, not NoneType\n",
      "Error translating with src=en (attempt 2): the JSON object must be str, bytes or bytearray, not NoneType\n",
      "🔁 Attempting sentence split and translation...\n"
     ]
    },
    {
     "name": "stderr",
     "output_type": "stream",
     "text": [
      "Translating:  29%|█████████████                                | 482/1668 [41:00<1:40:13,  5.07s/it]"
     ]
    },
    {
     "name": "stdout",
     "output_type": "stream",
     "text": [
      "result sent successfully\n",
      "Error translating with src=en (attempt 1): the JSON object must be str, bytes or bytearray, not NoneType\n",
      "Error translating with src=en (attempt 2): the JSON object must be str, bytes or bytearray, not NoneType\n",
      "🔁 Attempting sentence split and translation...\n"
     ]
    },
    {
     "name": "stderr",
     "output_type": "stream",
     "text": [
      "Translating:  29%|█████████████                                | 483/1668 [41:06<1:40:13,  5.07s/it]"
     ]
    },
    {
     "name": "stdout",
     "output_type": "stream",
     "text": [
      "result sent successfully\n",
      "Error translating with src=en (attempt 1): the JSON object must be str, bytes or bytearray, not NoneType\n",
      "Error translating with src=en (attempt 2): the JSON object must be str, bytes or bytearray, not NoneType\n",
      "🔁 Attempting sentence split and translation...\n"
     ]
    },
    {
     "name": "stderr",
     "output_type": "stream",
     "text": [
      "Translating:  29%|█████████████                                | 484/1668 [41:11<1:40:14,  5.08s/it]"
     ]
    },
    {
     "name": "stdout",
     "output_type": "stream",
     "text": [
      "result sent successfully\n",
      "Error translating with src=en (attempt 1): the JSON object must be str, bytes or bytearray, not NoneType\n",
      "Error translating with src=en (attempt 2): the JSON object must be str, bytes or bytearray, not NoneType\n",
      "🔁 Attempting sentence split and translation...\n"
     ]
    },
    {
     "name": "stderr",
     "output_type": "stream",
     "text": [
      "Translating:  29%|█████████████                                | 485/1668 [41:16<1:39:28,  5.04s/it]"
     ]
    },
    {
     "name": "stdout",
     "output_type": "stream",
     "text": [
      "result sent successfully\n",
      "Error translating with src=en (attempt 1): the JSON object must be str, bytes or bytearray, not NoneType\n",
      "Error translating with src=en (attempt 2): the JSON object must be str, bytes or bytearray, not NoneType\n",
      "🔁 Attempting sentence split and translation...\n"
     ]
    },
    {
     "name": "stderr",
     "output_type": "stream",
     "text": [
      "Translating:  29%|█████████████                                | 486/1668 [41:21<1:39:36,  5.06s/it]"
     ]
    },
    {
     "name": "stdout",
     "output_type": "stream",
     "text": [
      "result sent successfully\n",
      "Error translating with src=en (attempt 1): the JSON object must be str, bytes or bytearray, not NoneType\n",
      "Error translating with src=en (attempt 2): the JSON object must be str, bytes or bytearray, not NoneType\n",
      "🔁 Attempting sentence split and translation...\n"
     ]
    },
    {
     "name": "stderr",
     "output_type": "stream",
     "text": [
      "Translating:  29%|█████████████▏                               | 487/1668 [41:26<1:41:34,  5.16s/it]"
     ]
    },
    {
     "name": "stdout",
     "output_type": "stream",
     "text": [
      "result sent successfully\n",
      "Error translating with src=en (attempt 1): the JSON object must be str, bytes or bytearray, not NoneType\n",
      "Error translating with src=en (attempt 2): the JSON object must be str, bytes or bytearray, not NoneType\n",
      "🔁 Attempting sentence split and translation...\n"
     ]
    },
    {
     "name": "stderr",
     "output_type": "stream",
     "text": [
      "Translating:  29%|█████████████▏                               | 488/1668 [41:31<1:41:01,  5.14s/it]"
     ]
    },
    {
     "name": "stdout",
     "output_type": "stream",
     "text": [
      "result sent successfully\n",
      "Error translating with src=en (attempt 1): the JSON object must be str, bytes or bytearray, not NoneType\n",
      "Error translating with src=en (attempt 2): the JSON object must be str, bytes or bytearray, not NoneType\n",
      "🔁 Attempting sentence split and translation...\n"
     ]
    },
    {
     "name": "stderr",
     "output_type": "stream",
     "text": [
      "Translating:  29%|█████████████▏                               | 489/1668 [41:36<1:39:45,  5.08s/it]"
     ]
    },
    {
     "name": "stdout",
     "output_type": "stream",
     "text": [
      "result sent successfully\n",
      "Error translating with src=en (attempt 1): the JSON object must be str, bytes or bytearray, not NoneType\n",
      "Error translating with src=en (attempt 2): the JSON object must be str, bytes or bytearray, not NoneType\n",
      "🔁 Attempting sentence split and translation...\n"
     ]
    },
    {
     "name": "stderr",
     "output_type": "stream",
     "text": [
      "Translating:  29%|█████████████▏                               | 490/1668 [41:41<1:38:49,  5.03s/it]"
     ]
    },
    {
     "name": "stdout",
     "output_type": "stream",
     "text": [
      "result sent successfully\n",
      "Error translating with src=en (attempt 1): the JSON object must be str, bytes or bytearray, not NoneType\n",
      "Error translating with src=en (attempt 2): the JSON object must be str, bytes or bytearray, not NoneType\n",
      "🔁 Attempting sentence split and translation...\n"
     ]
    },
    {
     "name": "stderr",
     "output_type": "stream",
     "text": [
      "Translating:  29%|█████████████▏                               | 491/1668 [41:46<1:39:08,  5.05s/it]"
     ]
    },
    {
     "name": "stdout",
     "output_type": "stream",
     "text": [
      "result sent successfully\n",
      "Error translating with src=en (attempt 1): the JSON object must be str, bytes or bytearray, not NoneType\n",
      "Error translating with src=en (attempt 2): the JSON object must be str, bytes or bytearray, not NoneType\n",
      "🔁 Attempting sentence split and translation...\n"
     ]
    },
    {
     "name": "stderr",
     "output_type": "stream",
     "text": [
      "Translating:  29%|█████████████▎                               | 492/1668 [41:52<1:41:04,  5.16s/it]"
     ]
    },
    {
     "name": "stdout",
     "output_type": "stream",
     "text": [
      "result sent successfully\n",
      "Error translating with src=en (attempt 1): the JSON object must be str, bytes or bytearray, not NoneType\n",
      "Error translating with src=en (attempt 2): the JSON object must be str, bytes or bytearray, not NoneType\n",
      "🔁 Attempting sentence split and translation...\n"
     ]
    },
    {
     "name": "stderr",
     "output_type": "stream",
     "text": [
      "Translating:  30%|█████████████▎                               | 493/1668 [41:56<1:39:37,  5.09s/it]"
     ]
    },
    {
     "name": "stdout",
     "output_type": "stream",
     "text": [
      "result sent successfully\n",
      "Error translating with src=en (attempt 1): the JSON object must be str, bytes or bytearray, not NoneType\n",
      "Error translating with src=en (attempt 2): the JSON object must be str, bytes or bytearray, not NoneType\n",
      "🔁 Attempting sentence split and translation...\n"
     ]
    },
    {
     "name": "stderr",
     "output_type": "stream",
     "text": [
      "Translating:  30%|█████████████▎                               | 494/1668 [42:02<1:40:28,  5.13s/it]"
     ]
    },
    {
     "name": "stdout",
     "output_type": "stream",
     "text": [
      "result sent successfully\n",
      "Error translating with src=en (attempt 1): the JSON object must be str, bytes or bytearray, not NoneType\n",
      "Error translating with src=en (attempt 2): the JSON object must be str, bytes or bytearray, not NoneType\n",
      "🔁 Attempting sentence split and translation...\n"
     ]
    },
    {
     "name": "stderr",
     "output_type": "stream",
     "text": [
      "Translating:  30%|█████████████▎                               | 495/1668 [42:07<1:39:09,  5.07s/it]"
     ]
    },
    {
     "name": "stdout",
     "output_type": "stream",
     "text": [
      "result sent successfully\n",
      "Error translating with src=en (attempt 1): the JSON object must be str, bytes or bytearray, not NoneType\n",
      "Error translating with src=en (attempt 2): the JSON object must be str, bytes or bytearray, not NoneType\n",
      "🔁 Attempting sentence split and translation...\n"
     ]
    },
    {
     "name": "stderr",
     "output_type": "stream",
     "text": [
      "Translating:  30%|█████████████▍                               | 496/1668 [42:12<1:39:13,  5.08s/it]"
     ]
    },
    {
     "name": "stdout",
     "output_type": "stream",
     "text": [
      "result sent successfully\n",
      "Error translating with src=en (attempt 1): the JSON object must be str, bytes or bytearray, not NoneType\n",
      "Error translating with src=en (attempt 2): the JSON object must be str, bytes or bytearray, not NoneType\n",
      "🔁 Attempting sentence split and translation...\n"
     ]
    },
    {
     "name": "stderr",
     "output_type": "stream",
     "text": [
      "Translating:  30%|█████████████▍                               | 497/1668 [42:17<1:38:30,  5.05s/it]"
     ]
    },
    {
     "name": "stdout",
     "output_type": "stream",
     "text": [
      "result sent successfully\n",
      "Error translating with src=en (attempt 1): the JSON object must be str, bytes or bytearray, not NoneType\n",
      "Error translating with src=en (attempt 2): the JSON object must be str, bytes or bytearray, not NoneType\n",
      "🔁 Attempting sentence split and translation...\n"
     ]
    },
    {
     "name": "stderr",
     "output_type": "stream",
     "text": [
      "Translating:  30%|█████████████▍                               | 498/1668 [42:22<1:37:37,  5.01s/it]"
     ]
    },
    {
     "name": "stdout",
     "output_type": "stream",
     "text": [
      "result sent successfully\n",
      "Error translating with src=en (attempt 1): the JSON object must be str, bytes or bytearray, not NoneType\n",
      "Error translating with src=en (attempt 2): the JSON object must be str, bytes or bytearray, not NoneType\n",
      "🔁 Attempting sentence split and translation...\n"
     ]
    },
    {
     "name": "stderr",
     "output_type": "stream",
     "text": [
      "Translating:  30%|█████████████▍                               | 499/1668 [42:27<1:39:40,  5.12s/it]"
     ]
    },
    {
     "name": "stdout",
     "output_type": "stream",
     "text": [
      "result sent successfully\n",
      "Error translating with src=en (attempt 1): the JSON object must be str, bytes or bytearray, not NoneType\n",
      "Error translating with src=en (attempt 2): the JSON object must be str, bytes or bytearray, not NoneType\n",
      "🔁 Attempting sentence split and translation...\n"
     ]
    },
    {
     "name": "stderr",
     "output_type": "stream",
     "text": [
      "Translating:  30%|█████████████▍                               | 500/1668 [42:32<1:39:25,  5.11s/it]"
     ]
    },
    {
     "name": "stdout",
     "output_type": "stream",
     "text": [
      "result sent successfully\n",
      "Error translating with src=en (attempt 1): the JSON object must be str, bytes or bytearray, not NoneType\n",
      "Error translating with src=en (attempt 2): the JSON object must be str, bytes or bytearray, not NoneType\n",
      "🔁 Attempting sentence split and translation...\n"
     ]
    },
    {
     "name": "stderr",
     "output_type": "stream",
     "text": [
      "Translating:  30%|█████████████▌                               | 501/1668 [42:37<1:39:16,  5.10s/it]"
     ]
    },
    {
     "name": "stdout",
     "output_type": "stream",
     "text": [
      "result sent successfully\n",
      "Error translating with src=en (attempt 1): the JSON object must be str, bytes or bytearray, not NoneType\n",
      "Error translating with src=en (attempt 2): the JSON object must be str, bytes or bytearray, not NoneType\n",
      "🔁 Attempting sentence split and translation...\n"
     ]
    },
    {
     "name": "stderr",
     "output_type": "stream",
     "text": [
      "Translating:  30%|█████████████▌                               | 502/1668 [42:42<1:38:09,  5.05s/it]"
     ]
    },
    {
     "name": "stdout",
     "output_type": "stream",
     "text": [
      "result sent successfully\n",
      "Error translating with src=en (attempt 1): the JSON object must be str, bytes or bytearray, not NoneType\n",
      "Error translating with src=en (attempt 2): the JSON object must be str, bytes or bytearray, not NoneType\n",
      "🔁 Attempting sentence split and translation...\n"
     ]
    },
    {
     "name": "stderr",
     "output_type": "stream",
     "text": [
      "Translating:  30%|█████████████▌                               | 503/1668 [42:47<1:40:03,  5.15s/it]"
     ]
    },
    {
     "name": "stdout",
     "output_type": "stream",
     "text": [
      "result sent successfully\n",
      "Error translating with src=en (attempt 1): the JSON object must be str, bytes or bytearray, not NoneType\n",
      "Error translating with src=en (attempt 2): the JSON object must be str, bytes or bytearray, not NoneType\n",
      "🔁 Attempting sentence split and translation...\n"
     ]
    },
    {
     "name": "stderr",
     "output_type": "stream",
     "text": [
      "Translating:  30%|█████████████▌                               | 504/1668 [42:52<1:38:44,  5.09s/it]"
     ]
    },
    {
     "name": "stdout",
     "output_type": "stream",
     "text": [
      "result sent successfully\n"
     ]
    },
    {
     "name": "stderr",
     "output_type": "stream",
     "text": [
      "Translating:  30%|█████████████▌                               | 505/1668 [42:53<1:10:39,  3.65s/it]"
     ]
    },
    {
     "name": "stdout",
     "output_type": "stream",
     "text": [
      "Error translating with src=en (attempt 1): the JSON object must be str, bytes or bytearray, not NoneType\n",
      "Error translating with src=en (attempt 2): the JSON object must be str, bytes or bytearray, not NoneType\n",
      "🔁 Attempting sentence split and translation...\n"
     ]
    },
    {
     "name": "stderr",
     "output_type": "stream",
     "text": [
      "Translating:  30%|█████████████▋                               | 506/1668 [42:58<1:20:39,  4.16s/it]"
     ]
    },
    {
     "name": "stdout",
     "output_type": "stream",
     "text": [
      "result sent successfully\n",
      "Error translating with src=en (attempt 1): the JSON object must be str, bytes or bytearray, not NoneType\n",
      "Error translating with src=en (attempt 2): the JSON object must be str, bytes or bytearray, not NoneType\n",
      "🔁 Attempting sentence split and translation...\n"
     ]
    },
    {
     "name": "stderr",
     "output_type": "stream",
     "text": [
      "Translating:  30%|█████████████▋                               | 507/1668 [43:04<1:28:42,  4.58s/it]"
     ]
    },
    {
     "name": "stdout",
     "output_type": "stream",
     "text": [
      "result sent successfully\n",
      "Error translating with src=en (attempt 1): the JSON object must be str, bytes or bytearray, not NoneType\n",
      "Error translating with src=en (attempt 2): the JSON object must be str, bytes or bytearray, not NoneType\n",
      "🔁 Attempting sentence split and translation...\n"
     ]
    },
    {
     "name": "stderr",
     "output_type": "stream",
     "text": [
      "Translating:  30%|█████████████▋                               | 508/1668 [43:09<1:31:34,  4.74s/it]"
     ]
    },
    {
     "name": "stdout",
     "output_type": "stream",
     "text": [
      "result sent successfully\n",
      "Error translating with src=en (attempt 1): the JSON object must be str, bytes or bytearray, not NoneType\n",
      "Error translating with src=en (attempt 2): the JSON object must be str, bytes or bytearray, not NoneType\n",
      "🔁 Attempting sentence split and translation...\n"
     ]
    },
    {
     "name": "stderr",
     "output_type": "stream",
     "text": [
      "Translating:  31%|█████████████▋                               | 509/1668 [43:14<1:33:33,  4.84s/it]"
     ]
    },
    {
     "name": "stdout",
     "output_type": "stream",
     "text": [
      "result sent successfully\n",
      "Error translating with src=en (attempt 1): the JSON object must be str, bytes or bytearray, not NoneType\n",
      "Error translating with src=en (attempt 2): the JSON object must be str, bytes or bytearray, not NoneType\n",
      "🔁 Attempting sentence split and translation...\n"
     ]
    },
    {
     "name": "stderr",
     "output_type": "stream",
     "text": [
      "Translating:  31%|█████████████▊                               | 510/1668 [43:19<1:35:36,  4.95s/it]"
     ]
    },
    {
     "name": "stdout",
     "output_type": "stream",
     "text": [
      "result sent successfully\n",
      "Error translating with src=en (attempt 1): the JSON object must be str, bytes or bytearray, not NoneType\n",
      "Error translating with src=en (attempt 2): the JSON object must be str, bytes or bytearray, not NoneType\n",
      "🔁 Attempting sentence split and translation...\n"
     ]
    },
    {
     "name": "stderr",
     "output_type": "stream",
     "text": [
      "Translating:  31%|█████████████▊                               | 511/1668 [43:24<1:35:30,  4.95s/it]"
     ]
    },
    {
     "name": "stdout",
     "output_type": "stream",
     "text": [
      "result sent successfully\n",
      "Error translating with src=en (attempt 1): the JSON object must be str, bytes or bytearray, not NoneType\n",
      "Error translating with src=en (attempt 2): the JSON object must be str, bytes or bytearray, not NoneType\n",
      "🔁 Attempting sentence split and translation...\n"
     ]
    },
    {
     "name": "stderr",
     "output_type": "stream",
     "text": [
      "Translating:  31%|█████████████▊                               | 512/1668 [43:29<1:36:57,  5.03s/it]"
     ]
    },
    {
     "name": "stdout",
     "output_type": "stream",
     "text": [
      "result sent successfully\n",
      "Error translating with src=en (attempt 1): the JSON object must be str, bytes or bytearray, not NoneType\n",
      "Error translating with src=en (attempt 2): the JSON object must be str, bytes or bytearray, not NoneType\n",
      "🔁 Attempting sentence split and translation...\n"
     ]
    },
    {
     "name": "stderr",
     "output_type": "stream",
     "text": [
      "Translating:  31%|█████████████▊                               | 513/1668 [43:34<1:38:15,  5.10s/it]"
     ]
    },
    {
     "name": "stdout",
     "output_type": "stream",
     "text": [
      "result sent successfully\n",
      "Error translating with src=en (attempt 1): the JSON object must be str, bytes or bytearray, not NoneType\n",
      "Error translating with src=en (attempt 2): the JSON object must be str, bytes or bytearray, not NoneType\n",
      "🔁 Attempting sentence split and translation...\n"
     ]
    },
    {
     "name": "stderr",
     "output_type": "stream",
     "text": [
      "Translating:  31%|█████████████▊                               | 514/1668 [43:39<1:37:06,  5.05s/it]"
     ]
    },
    {
     "name": "stdout",
     "output_type": "stream",
     "text": [
      "result sent successfully\n",
      "Error translating with src=en (attempt 1): the JSON object must be str, bytes or bytearray, not NoneType\n",
      "Error translating with src=en (attempt 2): the JSON object must be str, bytes or bytearray, not NoneType\n",
      "🔁 Attempting sentence split and translation...\n"
     ]
    },
    {
     "name": "stderr",
     "output_type": "stream",
     "text": [
      "Translating:  31%|█████████████▉                               | 515/1668 [43:44<1:36:19,  5.01s/it]"
     ]
    },
    {
     "name": "stdout",
     "output_type": "stream",
     "text": [
      "result sent successfully\n",
      "Error translating with src=en (attempt 1): the JSON object must be str, bytes or bytearray, not NoneType\n",
      "Error translating with src=en (attempt 2): the JSON object must be str, bytes or bytearray, not NoneType\n",
      "🔁 Attempting sentence split and translation...\n"
     ]
    },
    {
     "name": "stderr",
     "output_type": "stream",
     "text": [
      "Translating:  31%|█████████████▉                               | 516/1668 [43:50<1:40:09,  5.22s/it]"
     ]
    },
    {
     "name": "stdout",
     "output_type": "stream",
     "text": [
      "result sent successfully\n",
      "Error translating with src=en (attempt 1): the JSON object must be str, bytes or bytearray, not NoneType\n",
      "Error translating with src=en (attempt 2): the JSON object must be str, bytes or bytearray, not NoneType\n",
      "🔁 Attempting sentence split and translation...\n"
     ]
    },
    {
     "name": "stderr",
     "output_type": "stream",
     "text": [
      "Translating:  31%|█████████████▉                               | 517/1668 [43:55<1:39:23,  5.18s/it]"
     ]
    },
    {
     "name": "stdout",
     "output_type": "stream",
     "text": [
      "result sent successfully\n",
      "Error translating with src=en (attempt 1): the JSON object must be str, bytes or bytearray, not NoneType\n",
      "Error translating with src=en (attempt 2): the JSON object must be str, bytes or bytearray, not NoneType\n",
      "🔁 Attempting sentence split and translation...\n"
     ]
    },
    {
     "name": "stderr",
     "output_type": "stream",
     "text": [
      "Translating:  31%|█████████████▉                               | 518/1668 [44:00<1:37:53,  5.11s/it]"
     ]
    },
    {
     "name": "stdout",
     "output_type": "stream",
     "text": [
      "result sent successfully\n",
      "Error translating with src=en (attempt 1): the JSON object must be str, bytes or bytearray, not NoneType\n",
      "Error translating with src=en (attempt 2): the JSON object must be str, bytes or bytearray, not NoneType\n",
      "🔁 Attempting sentence split and translation...\n"
     ]
    },
    {
     "name": "stderr",
     "output_type": "stream",
     "text": [
      "Translating:  31%|██████████████                               | 519/1668 [44:05<1:38:37,  5.15s/it]"
     ]
    },
    {
     "name": "stdout",
     "output_type": "stream",
     "text": [
      "result sent successfully\n",
      "Error translating with src=en (attempt 1): the JSON object must be str, bytes or bytearray, not NoneType\n",
      "Error translating with src=en (attempt 2): the JSON object must be str, bytes or bytearray, not NoneType\n",
      "🔁 Attempting sentence split and translation...\n"
     ]
    },
    {
     "name": "stderr",
     "output_type": "stream",
     "text": [
      "Translating:  31%|██████████████                               | 520/1668 [44:10<1:38:04,  5.13s/it]"
     ]
    },
    {
     "name": "stdout",
     "output_type": "stream",
     "text": [
      "result sent successfully\n",
      "Error translating with src=en (attempt 1): the JSON object must be str, bytes or bytearray, not NoneType\n",
      "Error translating with src=en (attempt 2): the JSON object must be str, bytes or bytearray, not NoneType\n",
      "🔁 Attempting sentence split and translation...\n"
     ]
    },
    {
     "name": "stderr",
     "output_type": "stream",
     "text": [
      "Translating:  31%|██████████████                               | 521/1668 [44:15<1:36:52,  5.07s/it]"
     ]
    },
    {
     "name": "stdout",
     "output_type": "stream",
     "text": [
      "result sent successfully\n",
      "Error translating with src=en (attempt 1): the JSON object must be str, bytes or bytearray, not NoneType\n",
      "Error translating with src=en (attempt 2): the JSON object must be str, bytes or bytearray, not NoneType\n",
      "🔁 Attempting sentence split and translation...\n"
     ]
    },
    {
     "name": "stderr",
     "output_type": "stream",
     "text": [
      "Translating:  31%|██████████████                               | 522/1668 [44:20<1:36:54,  5.07s/it]"
     ]
    },
    {
     "name": "stdout",
     "output_type": "stream",
     "text": [
      "result sent successfully\n",
      "Error translating with src=en (attempt 1): the JSON object must be str, bytes or bytearray, not NoneType\n",
      "Error translating with src=en (attempt 2): the JSON object must be str, bytes or bytearray, not NoneType\n",
      "🔁 Attempting sentence split and translation...\n"
     ]
    },
    {
     "name": "stderr",
     "output_type": "stream",
     "text": [
      "Translating:  31%|██████████████                               | 523/1668 [44:26<1:39:25,  5.21s/it]"
     ]
    },
    {
     "name": "stdout",
     "output_type": "stream",
     "text": [
      "result sent successfully\n",
      "Error translating with src=en (attempt 1): the JSON object must be str, bytes or bytearray, not NoneType\n",
      "Error translating with src=en (attempt 2): the JSON object must be str, bytes or bytearray, not NoneType\n",
      "🔁 Attempting sentence split and translation...\n"
     ]
    },
    {
     "name": "stderr",
     "output_type": "stream",
     "text": [
      "Translating:  31%|██████████████▏                              | 524/1668 [44:31<1:37:50,  5.13s/it]"
     ]
    },
    {
     "name": "stdout",
     "output_type": "stream",
     "text": [
      "result sent successfully\n",
      "Error translating with src=en (attempt 1): the JSON object must be str, bytes or bytearray, not NoneType\n",
      "Error translating with src=en (attempt 2): the JSON object must be str, bytes or bytearray, not NoneType\n",
      "🔁 Attempting sentence split and translation...\n"
     ]
    },
    {
     "name": "stderr",
     "output_type": "stream",
     "text": [
      "Translating:  31%|██████████████▏                              | 525/1668 [44:36<1:37:28,  5.12s/it]"
     ]
    },
    {
     "name": "stdout",
     "output_type": "stream",
     "text": [
      "result sent successfully\n",
      "Error translating with src=en (attempt 1): the JSON object must be str, bytes or bytearray, not NoneType\n",
      "Error translating with src=en (attempt 2): the JSON object must be str, bytes or bytearray, not NoneType\n",
      "🔁 Attempting sentence split and translation...\n"
     ]
    },
    {
     "name": "stderr",
     "output_type": "stream",
     "text": [
      "Translating:  32%|██████████████▏                              | 526/1668 [44:41<1:36:19,  5.06s/it]"
     ]
    },
    {
     "name": "stdout",
     "output_type": "stream",
     "text": [
      "result sent successfully\n",
      "Error translating with src=en (attempt 1): the JSON object must be str, bytes or bytearray, not NoneType\n",
      "Error translating with src=en (attempt 2): the JSON object must be str, bytes or bytearray, not NoneType\n",
      "🔁 Attempting sentence split and translation...\n"
     ]
    },
    {
     "name": "stderr",
     "output_type": "stream",
     "text": [
      "Translating:  32%|██████████████▏                              | 527/1668 [44:46<1:36:24,  5.07s/it]"
     ]
    },
    {
     "name": "stdout",
     "output_type": "stream",
     "text": [
      "result sent successfully\n",
      "Error translating with src=en (attempt 1): the JSON object must be str, bytes or bytearray, not NoneType\n",
      "Error translating with src=en (attempt 2): the JSON object must be str, bytes or bytearray, not NoneType\n",
      "🔁 Attempting sentence split and translation...\n"
     ]
    },
    {
     "name": "stderr",
     "output_type": "stream",
     "text": [
      "Translating:  32%|██████████████▏                              | 528/1668 [44:51<1:35:42,  5.04s/it]"
     ]
    },
    {
     "name": "stdout",
     "output_type": "stream",
     "text": [
      "result sent successfully\n",
      "Error translating with src=en (attempt 1): the JSON object must be str, bytes or bytearray, not NoneType\n",
      "Error translating with src=en (attempt 2): the JSON object must be str, bytes or bytearray, not NoneType\n",
      "🔁 Attempting sentence split and translation...\n"
     ]
    },
    {
     "name": "stderr",
     "output_type": "stream",
     "text": [
      "Translating:  32%|██████████████▎                              | 529/1668 [44:56<1:34:55,  5.00s/it]"
     ]
    },
    {
     "name": "stdout",
     "output_type": "stream",
     "text": [
      "result sent successfully\n",
      "Error translating with src=en (attempt 1): the JSON object must be str, bytes or bytearray, not NoneType\n",
      "Error translating with src=en (attempt 2): the JSON object must be str, bytes or bytearray, not NoneType\n",
      "🔁 Attempting sentence split and translation...\n"
     ]
    },
    {
     "name": "stderr",
     "output_type": "stream",
     "text": [
      "Translating:  32%|██████████████▎                              | 530/1668 [45:01<1:36:51,  5.11s/it]"
     ]
    },
    {
     "name": "stdout",
     "output_type": "stream",
     "text": [
      "result sent successfully\n",
      "Error translating with src=en (attempt 1): the JSON object must be str, bytes or bytearray, not NoneType\n",
      "Error translating with src=en (attempt 2): the JSON object must be str, bytes or bytearray, not NoneType\n",
      "🔁 Attempting sentence split and translation...\n"
     ]
    },
    {
     "name": "stderr",
     "output_type": "stream",
     "text": [
      "Translating:  32%|██████████████▎                              | 531/1668 [45:06<1:37:27,  5.14s/it]"
     ]
    },
    {
     "name": "stdout",
     "output_type": "stream",
     "text": [
      "result sent successfully\n",
      "Error translating with src=en (attempt 1): the JSON object must be str, bytes or bytearray, not NoneType\n",
      "Error translating with src=en (attempt 2): the JSON object must be str, bytes or bytearray, not NoneType\n",
      "🔁 Attempting sentence split and translation...\n"
     ]
    },
    {
     "name": "stderr",
     "output_type": "stream",
     "text": [
      "Translating:  32%|██████████████▎                              | 532/1668 [45:11<1:36:03,  5.07s/it]"
     ]
    },
    {
     "name": "stdout",
     "output_type": "stream",
     "text": [
      "result sent successfully\n",
      "Error translating with src=en (attempt 1): the JSON object must be str, bytes or bytearray, not NoneType\n",
      "Error translating with src=en (attempt 2): the JSON object must be str, bytes or bytearray, not NoneType\n",
      "🔁 Attempting sentence split and translation...\n"
     ]
    },
    {
     "name": "stderr",
     "output_type": "stream",
     "text": [
      "Translating:  32%|██████████████▍                              | 533/1668 [45:16<1:36:03,  5.08s/it]"
     ]
    },
    {
     "name": "stdout",
     "output_type": "stream",
     "text": [
      "result sent successfully\n",
      "Error translating with src=en (attempt 1): the JSON object must be str, bytes or bytearray, not NoneType\n",
      "Error translating with src=en (attempt 2): the JSON object must be str, bytes or bytearray, not NoneType\n",
      "🔁 Attempting sentence split and translation...\n"
     ]
    },
    {
     "name": "stderr",
     "output_type": "stream",
     "text": [
      "Translating:  32%|██████████████▍                              | 534/1668 [45:21<1:35:59,  5.08s/it]"
     ]
    },
    {
     "name": "stdout",
     "output_type": "stream",
     "text": [
      "result sent successfully\n",
      "Error translating with src=en (attempt 1): the JSON object must be str, bytes or bytearray, not NoneType\n",
      "Error translating with src=en (attempt 2): the JSON object must be str, bytes or bytearray, not NoneType\n",
      "🔁 Attempting sentence split and translation...\n"
     ]
    },
    {
     "name": "stderr",
     "output_type": "stream",
     "text": [
      "Translating:  32%|██████████████▍                              | 535/1668 [45:26<1:35:17,  5.05s/it]"
     ]
    },
    {
     "name": "stdout",
     "output_type": "stream",
     "text": [
      "result sent successfully\n",
      "Error translating with src=en (attempt 1): the JSON object must be str, bytes or bytearray, not NoneType\n",
      "Error translating with src=en (attempt 2): the JSON object must be str, bytes or bytearray, not NoneType\n",
      "🔁 Attempting sentence split and translation...\n"
     ]
    },
    {
     "name": "stderr",
     "output_type": "stream",
     "text": [
      "Translating:  32%|██████████████▍                              | 536/1668 [45:31<1:34:34,  5.01s/it]"
     ]
    },
    {
     "name": "stdout",
     "output_type": "stream",
     "text": [
      "result sent successfully\n",
      "Error translating with src=en (attempt 1): the JSON object must be str, bytes or bytearray, not NoneType\n",
      "Error translating with src=en (attempt 2): the JSON object must be str, bytes or bytearray, not NoneType\n",
      "🔁 Attempting sentence split and translation...\n"
     ]
    },
    {
     "name": "stderr",
     "output_type": "stream",
     "text": [
      "Translating:  32%|██████████████▍                              | 537/1668 [45:36<1:34:58,  5.04s/it]"
     ]
    },
    {
     "name": "stdout",
     "output_type": "stream",
     "text": [
      "result sent successfully\n",
      "Error translating with src=en (attempt 1): the JSON object must be str, bytes or bytearray, not NoneType\n",
      "Error translating with src=en (attempt 2): the JSON object must be str, bytes or bytearray, not NoneType\n",
      "🔁 Attempting sentence split and translation...\n"
     ]
    },
    {
     "name": "stderr",
     "output_type": "stream",
     "text": [
      "Translating:  32%|██████████████▌                              | 538/1668 [45:42<1:35:06,  5.05s/it]"
     ]
    },
    {
     "name": "stdout",
     "output_type": "stream",
     "text": [
      "result sent successfully\n",
      "Error translating with src=en (attempt 1): the JSON object must be str, bytes or bytearray, not NoneType\n",
      "Error translating with src=en (attempt 2): the JSON object must be str, bytes or bytearray, not NoneType\n",
      "🔁 Attempting sentence split and translation...\n"
     ]
    },
    {
     "name": "stderr",
     "output_type": "stream",
     "text": [
      "Translating:  32%|██████████████▌                              | 539/1668 [45:47<1:34:34,  5.03s/it]"
     ]
    },
    {
     "name": "stdout",
     "output_type": "stream",
     "text": [
      "result sent successfully\n",
      "Error translating with src=en (attempt 1): the JSON object must be str, bytes or bytearray, not NoneType\n",
      "Error translating with src=en (attempt 2): the JSON object must be str, bytes or bytearray, not NoneType\n",
      "🔁 Attempting sentence split and translation...\n"
     ]
    },
    {
     "name": "stderr",
     "output_type": "stream",
     "text": [
      "Translating:  32%|██████████████▌                              | 540/1668 [45:52<1:34:53,  5.05s/it]"
     ]
    },
    {
     "name": "stdout",
     "output_type": "stream",
     "text": [
      "result sent successfully\n",
      "Error translating with src=en (attempt 1): the JSON object must be str, bytes or bytearray, not NoneType\n",
      "Error translating with src=en (attempt 2): the JSON object must be str, bytes or bytearray, not NoneType\n",
      "🔁 Attempting sentence split and translation...\n"
     ]
    },
    {
     "name": "stderr",
     "output_type": "stream",
     "text": [
      "Translating:  32%|██████████████▌                              | 541/1668 [45:57<1:37:36,  5.20s/it]"
     ]
    },
    {
     "name": "stdout",
     "output_type": "stream",
     "text": [
      "result sent successfully\n",
      "Error translating with src=en (attempt 1): the JSON object must be str, bytes or bytearray, not NoneType\n",
      "Error translating with src=en (attempt 2): the JSON object must be str, bytes or bytearray, not NoneType\n",
      "🔁 Attempting sentence split and translation...\n"
     ]
    },
    {
     "name": "stderr",
     "output_type": "stream",
     "text": [
      "Translating:  32%|██████████████▌                              | 542/1668 [46:02<1:36:04,  5.12s/it]"
     ]
    },
    {
     "name": "stdout",
     "output_type": "stream",
     "text": [
      "result sent successfully\n",
      "Error translating with src=en (attempt 1): the JSON object must be str, bytes or bytearray, not NoneType\n",
      "Error translating with src=en (attempt 2): the JSON object must be str, bytes or bytearray, not NoneType\n",
      "🔁 Attempting sentence split and translation...\n"
     ]
    },
    {
     "name": "stderr",
     "output_type": "stream",
     "text": [
      "Translating:  33%|██████████████▋                              | 543/1668 [46:07<1:34:55,  5.06s/it]"
     ]
    },
    {
     "name": "stdout",
     "output_type": "stream",
     "text": [
      "result sent successfully\n",
      "Error translating with src=en (attempt 1): the JSON object must be str, bytes or bytearray, not NoneType\n",
      "Error translating with src=en (attempt 2): the JSON object must be str, bytes or bytearray, not NoneType\n",
      "🔁 Attempting sentence split and translation...\n"
     ]
    },
    {
     "name": "stderr",
     "output_type": "stream",
     "text": [
      "Translating:  33%|██████████████▋                              | 544/1668 [46:12<1:35:11,  5.08s/it]"
     ]
    },
    {
     "name": "stdout",
     "output_type": "stream",
     "text": [
      "result sent successfully\n",
      "Error translating with src=en (attempt 1): the JSON object must be str, bytes or bytearray, not NoneType\n",
      "Error translating with src=en (attempt 2): the JSON object must be str, bytes or bytearray, not NoneType\n",
      "🔁 Attempting sentence split and translation...\n"
     ]
    },
    {
     "name": "stderr",
     "output_type": "stream",
     "text": [
      "Translating:  33%|██████████████▋                              | 545/1668 [46:17<1:35:09,  5.08s/it]"
     ]
    },
    {
     "name": "stdout",
     "output_type": "stream",
     "text": [
      "result sent successfully\n",
      "Error translating with src=en (attempt 1): the JSON object must be str, bytes or bytearray, not NoneType\n",
      "Error translating with src=en (attempt 2): the JSON object must be str, bytes or bytearray, not NoneType\n",
      "🔁 Attempting sentence split and translation...\n"
     ]
    },
    {
     "name": "stderr",
     "output_type": "stream",
     "text": [
      "Translating:  33%|██████████████▋                              | 546/1668 [46:22<1:35:09,  5.09s/it]"
     ]
    },
    {
     "name": "stdout",
     "output_type": "stream",
     "text": [
      "result sent successfully\n",
      "Error translating with src=en (attempt 1): the JSON object must be str, bytes or bytearray, not NoneType\n",
      "Error translating with src=en (attempt 2): the JSON object must be str, bytes or bytearray, not NoneType\n",
      "🔁 Attempting sentence split and translation...\n"
     ]
    },
    {
     "name": "stderr",
     "output_type": "stream",
     "text": [
      "Translating:  33%|██████████████▊                              | 547/1668 [46:27<1:34:07,  5.04s/it]"
     ]
    },
    {
     "name": "stdout",
     "output_type": "stream",
     "text": [
      "result sent successfully\n",
      "Error translating with src=en (attempt 1): the JSON object must be str, bytes or bytearray, not NoneType\n",
      "Error translating with src=en (attempt 2): the JSON object must be str, bytes or bytearray, not NoneType\n",
      "🔁 Attempting sentence split and translation...\n"
     ]
    },
    {
     "name": "stderr",
     "output_type": "stream",
     "text": [
      "Translating:  33%|██████████████▊                              | 548/1668 [46:32<1:33:33,  5.01s/it]"
     ]
    },
    {
     "name": "stdout",
     "output_type": "stream",
     "text": [
      "result sent successfully\n",
      "Error translating with src=en (attempt 1): the JSON object must be str, bytes or bytearray, not NoneType\n",
      "Error translating with src=en (attempt 2): the JSON object must be str, bytes or bytearray, not NoneType\n",
      "🔁 Attempting sentence split and translation...\n"
     ]
    },
    {
     "name": "stderr",
     "output_type": "stream",
     "text": [
      "Translating:  33%|██████████████▊                              | 549/1668 [46:37<1:33:02,  4.99s/it]"
     ]
    },
    {
     "name": "stdout",
     "output_type": "stream",
     "text": [
      "result sent successfully\n",
      "Error translating with src=en (attempt 1): the JSON object must be str, bytes or bytearray, not NoneType\n",
      "Error translating with src=en (attempt 2): the JSON object must be str, bytes or bytearray, not NoneType\n",
      "🔁 Attempting sentence split and translation...\n"
     ]
    },
    {
     "name": "stderr",
     "output_type": "stream",
     "text": [
      "Translating:  33%|██████████████▊                              | 550/1668 [46:42<1:33:27,  5.02s/it]"
     ]
    },
    {
     "name": "stdout",
     "output_type": "stream",
     "text": [
      "result sent successfully\n",
      "Error translating with src=en (attempt 1): the JSON object must be str, bytes or bytearray, not NoneType\n",
      "Error translating with src=en (attempt 2): the JSON object must be str, bytes or bytearray, not NoneType\n",
      "🔁 Attempting sentence split and translation...\n"
     ]
    },
    {
     "name": "stderr",
     "output_type": "stream",
     "text": [
      "Translating:  33%|██████████████▊                              | 551/1668 [46:47<1:33:03,  5.00s/it]"
     ]
    },
    {
     "name": "stdout",
     "output_type": "stream",
     "text": [
      "result sent successfully\n",
      "Error translating with src=en (attempt 1): the JSON object must be str, bytes or bytearray, not NoneType\n",
      "Error translating with src=en (attempt 2): the JSON object must be str, bytes or bytearray, not NoneType\n",
      "🔁 Attempting sentence split and translation...\n"
     ]
    },
    {
     "name": "stderr",
     "output_type": "stream",
     "text": [
      "Translating:  33%|██████████████▉                              | 552/1668 [46:52<1:33:04,  5.00s/it]"
     ]
    },
    {
     "name": "stdout",
     "output_type": "stream",
     "text": [
      "result sent successfully\n",
      "Error translating with src=en (attempt 1): the JSON object must be str, bytes or bytearray, not NoneType\n",
      "Error translating with src=en (attempt 2): the JSON object must be str, bytes or bytearray, not NoneType\n",
      "🔁 Attempting sentence split and translation...\n"
     ]
    },
    {
     "name": "stderr",
     "output_type": "stream",
     "text": [
      "Translating:  33%|██████████████▉                              | 553/1668 [46:57<1:32:37,  4.98s/it]"
     ]
    },
    {
     "name": "stdout",
     "output_type": "stream",
     "text": [
      "result sent successfully\n",
      "Error translating with src=en (attempt 1): the JSON object must be str, bytes or bytearray, not NoneType\n",
      "Error translating with src=en (attempt 2): the JSON object must be str, bytes or bytearray, not NoneType\n",
      "🔁 Attempting sentence split and translation...\n"
     ]
    },
    {
     "name": "stderr",
     "output_type": "stream",
     "text": [
      "Translating:  33%|██████████████▉                              | 554/1668 [47:02<1:33:54,  5.06s/it]"
     ]
    },
    {
     "name": "stdout",
     "output_type": "stream",
     "text": [
      "result sent successfully\n",
      "Error translating with src=en (attempt 1): the JSON object must be str, bytes or bytearray, not NoneType\n",
      "Error translating with src=en (attempt 2): the JSON object must be str, bytes or bytearray, not NoneType\n",
      "🔁 Attempting sentence split and translation...\n"
     ]
    },
    {
     "name": "stderr",
     "output_type": "stream",
     "text": [
      "Translating:  33%|██████████████▉                              | 555/1668 [47:08<1:35:41,  5.16s/it]"
     ]
    },
    {
     "name": "stdout",
     "output_type": "stream",
     "text": [
      "result sent successfully\n",
      "Error translating with src=en (attempt 1): the JSON object must be str, bytes or bytearray, not NoneType\n",
      "Error translating with src=en (attempt 2): the JSON object must be str, bytes or bytearray, not NoneType\n",
      "🔁 Attempting sentence split and translation...\n"
     ]
    },
    {
     "name": "stderr",
     "output_type": "stream",
     "text": [
      "Translating:  33%|███████████████                              | 556/1668 [47:13<1:36:06,  5.19s/it]"
     ]
    },
    {
     "name": "stdout",
     "output_type": "stream",
     "text": [
      "result sent successfully\n",
      "Error translating with src=en (attempt 1): the JSON object must be str, bytes or bytearray, not NoneType\n",
      "Error translating with src=en (attempt 2): the JSON object must be str, bytes or bytearray, not NoneType\n",
      "🔁 Attempting sentence split and translation...\n"
     ]
    },
    {
     "name": "stderr",
     "output_type": "stream",
     "text": [
      "Translating:  33%|███████████████                              | 557/1668 [47:18<1:35:33,  5.16s/it]"
     ]
    },
    {
     "name": "stdout",
     "output_type": "stream",
     "text": [
      "result sent successfully\n",
      "Error translating with src=en (attempt 1): the JSON object must be str, bytes or bytearray, not NoneType\n",
      "Error translating with src=en (attempt 2): the JSON object must be str, bytes or bytearray, not NoneType\n",
      "🔁 Attempting sentence split and translation...\n"
     ]
    },
    {
     "name": "stderr",
     "output_type": "stream",
     "text": [
      "Translating:  33%|███████████████                              | 558/1668 [47:23<1:34:19,  5.10s/it]"
     ]
    },
    {
     "name": "stdout",
     "output_type": "stream",
     "text": [
      "result sent successfully\n",
      "Error translating with src=en (attempt 1): the JSON object must be str, bytes or bytearray, not NoneType\n",
      "Error translating with src=en (attempt 2): the JSON object must be str, bytes or bytearray, not NoneType\n",
      "🔁 Attempting sentence split and translation...\n"
     ]
    },
    {
     "name": "stderr",
     "output_type": "stream",
     "text": [
      "Translating:  34%|███████████████                              | 559/1668 [47:28<1:33:21,  5.05s/it]"
     ]
    },
    {
     "name": "stdout",
     "output_type": "stream",
     "text": [
      "result sent successfully\n",
      "Error translating with src=en (attempt 1): the JSON object must be str, bytes or bytearray, not NoneType\n",
      "Error translating with src=en (attempt 2): the JSON object must be str, bytes or bytearray, not NoneType\n",
      "🔁 Attempting sentence split and translation...\n"
     ]
    },
    {
     "name": "stderr",
     "output_type": "stream",
     "text": [
      "Translating:  34%|███████████████                              | 560/1668 [47:33<1:32:36,  5.02s/it]"
     ]
    },
    {
     "name": "stdout",
     "output_type": "stream",
     "text": [
      "result sent successfully\n",
      "Error translating with src=en (attempt 1): the JSON object must be str, bytes or bytearray, not NoneType\n",
      "Error translating with src=en (attempt 2): the JSON object must be str, bytes or bytearray, not NoneType\n",
      "🔁 Attempting sentence split and translation...\n"
     ]
    },
    {
     "name": "stderr",
     "output_type": "stream",
     "text": [
      "Translating:  34%|███████████████▏                             | 561/1668 [47:38<1:34:33,  5.12s/it]"
     ]
    },
    {
     "name": "stdout",
     "output_type": "stream",
     "text": [
      "result sent successfully\n",
      "Error translating with src=en (attempt 1): the JSON object must be str, bytes or bytearray, not NoneType\n",
      "Error translating with src=en (attempt 2): the JSON object must be str, bytes or bytearray, not NoneType\n",
      "🔁 Attempting sentence split and translation...\n"
     ]
    },
    {
     "name": "stderr",
     "output_type": "stream",
     "text": [
      "Translating:  34%|███████████████▏                             | 562/1668 [47:43<1:33:18,  5.06s/it]"
     ]
    },
    {
     "name": "stdout",
     "output_type": "stream",
     "text": [
      "result sent successfully\n",
      "Error translating with src=en (attempt 1): the JSON object must be str, bytes or bytearray, not NoneType\n",
      "Error translating with src=en (attempt 2): the JSON object must be str, bytes or bytearray, not NoneType\n",
      "🔁 Attempting sentence split and translation...\n"
     ]
    },
    {
     "name": "stderr",
     "output_type": "stream",
     "text": [
      "Translating:  34%|███████████████▏                             | 563/1668 [47:48<1:33:24,  5.07s/it]"
     ]
    },
    {
     "name": "stdout",
     "output_type": "stream",
     "text": [
      "result sent successfully\n",
      "Error translating with src=en (attempt 1): the JSON object must be str, bytes or bytearray, not NoneType\n",
      "Error translating with src=en (attempt 2): the JSON object must be str, bytes or bytearray, not NoneType\n",
      "🔁 Attempting sentence split and translation...\n"
     ]
    },
    {
     "name": "stderr",
     "output_type": "stream",
     "text": [
      "Translating:  34%|███████████████▏                             | 564/1668 [47:53<1:32:31,  5.03s/it]"
     ]
    },
    {
     "name": "stdout",
     "output_type": "stream",
     "text": [
      "result sent successfully\n",
      "Error translating with src=en (attempt 1): the JSON object must be str, bytes or bytearray, not NoneType\n",
      "Error translating with src=en (attempt 2): the JSON object must be str, bytes or bytearray, not NoneType\n",
      "🔁 Attempting sentence split and translation...\n"
     ]
    },
    {
     "name": "stderr",
     "output_type": "stream",
     "text": [
      "Translating:  34%|███████████████▏                             | 565/1668 [47:58<1:32:05,  5.01s/it]"
     ]
    },
    {
     "name": "stdout",
     "output_type": "stream",
     "text": [
      "result sent successfully\n",
      "Error translating with src=en (attempt 1): the JSON object must be str, bytes or bytearray, not NoneType\n",
      "Error translating with src=en (attempt 2): the JSON object must be str, bytes or bytearray, not NoneType\n",
      "🔁 Attempting sentence split and translation...\n"
     ]
    },
    {
     "name": "stderr",
     "output_type": "stream",
     "text": [
      "Translating:  34%|███████████████▎                             | 566/1668 [48:03<1:31:34,  4.99s/it]"
     ]
    },
    {
     "name": "stdout",
     "output_type": "stream",
     "text": [
      "result sent successfully\n",
      "Error translating with src=en (attempt 1): the JSON object must be str, bytes or bytearray, not NoneType\n",
      "Error translating with src=en (attempt 2): the JSON object must be str, bytes or bytearray, not NoneType\n",
      "🔁 Attempting sentence split and translation...\n"
     ]
    },
    {
     "name": "stderr",
     "output_type": "stream",
     "text": [
      "Translating:  34%|███████████████▎                             | 567/1668 [48:08<1:31:09,  4.97s/it]"
     ]
    },
    {
     "name": "stdout",
     "output_type": "stream",
     "text": [
      "result sent successfully\n",
      "Error translating with src=en (attempt 1): the JSON object must be str, bytes or bytearray, not NoneType\n",
      "Error translating with src=en (attempt 2): the JSON object must be str, bytes or bytearray, not NoneType\n",
      "🔁 Attempting sentence split and translation...\n"
     ]
    },
    {
     "name": "stderr",
     "output_type": "stream",
     "text": [
      "Translating:  34%|███████████████▎                             | 568/1668 [48:13<1:30:57,  4.96s/it]"
     ]
    },
    {
     "name": "stdout",
     "output_type": "stream",
     "text": [
      "result sent successfully\n",
      "Error translating with src=en (attempt 1): the JSON object must be str, bytes or bytearray, not NoneType\n",
      "Error translating with src=en (attempt 2): the JSON object must be str, bytes or bytearray, not NoneType\n",
      "🔁 Attempting sentence split and translation...\n"
     ]
    },
    {
     "name": "stderr",
     "output_type": "stream",
     "text": [
      "Translating:  34%|███████████████▎                             | 569/1668 [48:18<1:32:01,  5.02s/it]"
     ]
    },
    {
     "name": "stdout",
     "output_type": "stream",
     "text": [
      "result sent successfully\n",
      "Error translating with src=en (attempt 1): the JSON object must be str, bytes or bytearray, not NoneType\n",
      "Error translating with src=en (attempt 2): the JSON object must be str, bytes or bytearray, not NoneType\n",
      "🔁 Attempting sentence split and translation...\n"
     ]
    },
    {
     "name": "stderr",
     "output_type": "stream",
     "text": [
      "Translating:  34%|███████████████▍                             | 570/1668 [48:23<1:32:16,  5.04s/it]"
     ]
    },
    {
     "name": "stdout",
     "output_type": "stream",
     "text": [
      "result sent successfully\n",
      "Error translating with src=en (attempt 1): the JSON object must be str, bytes or bytearray, not NoneType\n",
      "Error translating with src=en (attempt 2): the JSON object must be str, bytes or bytearray, not NoneType\n",
      "🔁 Attempting sentence split and translation...\n"
     ]
    },
    {
     "name": "stderr",
     "output_type": "stream",
     "text": [
      "Translating:  34%|███████████████▍                             | 571/1668 [48:28<1:32:24,  5.05s/it]"
     ]
    },
    {
     "name": "stdout",
     "output_type": "stream",
     "text": [
      "result sent successfully\n",
      "Error translating with src=en (attempt 1): the JSON object must be str, bytes or bytearray, not NoneType\n",
      "Error translating with src=en (attempt 2): the JSON object must be str, bytes or bytearray, not NoneType\n",
      "🔁 Attempting sentence split and translation...\n"
     ]
    },
    {
     "name": "stderr",
     "output_type": "stream",
     "text": [
      "Translating:  34%|███████████████▍                             | 572/1668 [48:33<1:32:28,  5.06s/it]"
     ]
    },
    {
     "name": "stdout",
     "output_type": "stream",
     "text": [
      "result sent successfully\n",
      "Error translating with src=en (attempt 1): the JSON object must be str, bytes or bytearray, not NoneType\n",
      "Error translating with src=en (attempt 2): the JSON object must be str, bytes or bytearray, not NoneType\n",
      "🔁 Attempting sentence split and translation...\n"
     ]
    },
    {
     "name": "stderr",
     "output_type": "stream",
     "text": [
      "Translating:  34%|███████████████▍                             | 573/1668 [48:39<1:32:38,  5.08s/it]"
     ]
    },
    {
     "name": "stdout",
     "output_type": "stream",
     "text": [
      "result sent successfully\n",
      "Error translating with src=en (attempt 1): the JSON object must be str, bytes or bytearray, not NoneType\n",
      "Error translating with src=en (attempt 2): the JSON object must be str, bytes or bytearray, not NoneType\n",
      "🔁 Attempting sentence split and translation...\n"
     ]
    },
    {
     "name": "stderr",
     "output_type": "stream",
     "text": [
      "Translating:  34%|███████████████▍                             | 574/1668 [48:44<1:31:46,  5.03s/it]"
     ]
    },
    {
     "name": "stdout",
     "output_type": "stream",
     "text": [
      "result sent successfully\n",
      "Error translating with src=en (attempt 1): the JSON object must be str, bytes or bytearray, not NoneType\n",
      "Error translating with src=en (attempt 2): the JSON object must be str, bytes or bytearray, not NoneType\n",
      "🔁 Attempting sentence split and translation...\n"
     ]
    },
    {
     "name": "stderr",
     "output_type": "stream",
     "text": [
      "Translating:  34%|███████████████▌                             | 575/1668 [48:48<1:31:09,  5.00s/it]"
     ]
    },
    {
     "name": "stdout",
     "output_type": "stream",
     "text": [
      "result sent successfully\n",
      "Error translating with src=en (attempt 1): the JSON object must be str, bytes or bytearray, not NoneType\n",
      "Error translating with src=en (attempt 2): the JSON object must be str, bytes or bytearray, not NoneType\n",
      "🔁 Attempting sentence split and translation...\n"
     ]
    },
    {
     "name": "stderr",
     "output_type": "stream",
     "text": [
      "Translating:  35%|███████████████▌                             | 576/1668 [48:54<1:31:27,  5.03s/it]"
     ]
    },
    {
     "name": "stdout",
     "output_type": "stream",
     "text": [
      "result sent successfully\n",
      "Error translating with src=en (attempt 1): the JSON object must be str, bytes or bytearray, not NoneType\n",
      "Error translating with src=en (attempt 2): the JSON object must be str, bytes or bytearray, not NoneType\n",
      "🔁 Attempting sentence split and translation...\n"
     ]
    },
    {
     "name": "stderr",
     "output_type": "stream",
     "text": [
      "Translating:  35%|███████████████▌                             | 577/1668 [48:59<1:31:59,  5.06s/it]"
     ]
    },
    {
     "name": "stdout",
     "output_type": "stream",
     "text": [
      "result sent successfully\n",
      "Error translating with src=en (attempt 1): the JSON object must be str, bytes or bytearray, not NoneType\n",
      "Error translating with src=en (attempt 2): the JSON object must be str, bytes or bytearray, not NoneType\n",
      "🔁 Attempting sentence split and translation...\n"
     ]
    },
    {
     "name": "stderr",
     "output_type": "stream",
     "text": [
      "Translating:  35%|███████████████▌                             | 578/1668 [49:04<1:31:21,  5.03s/it]"
     ]
    },
    {
     "name": "stdout",
     "output_type": "stream",
     "text": [
      "result sent successfully\n",
      "Error translating with src=en (attempt 1): the JSON object must be str, bytes or bytearray, not NoneType\n",
      "Error translating with src=en (attempt 2): the JSON object must be str, bytes or bytearray, not NoneType\n",
      "🔁 Attempting sentence split and translation...\n"
     ]
    },
    {
     "name": "stderr",
     "output_type": "stream",
     "text": [
      "Translating:  35%|███████████████▌                             | 579/1668 [49:09<1:31:37,  5.05s/it]"
     ]
    },
    {
     "name": "stdout",
     "output_type": "stream",
     "text": [
      "result sent successfully\n",
      "Error translating with src=en (attempt 1): the JSON object must be str, bytes or bytearray, not NoneType\n",
      "Error translating with src=en (attempt 2): the JSON object must be str, bytes or bytearray, not NoneType\n",
      "🔁 Attempting sentence split and translation...\n"
     ]
    },
    {
     "name": "stderr",
     "output_type": "stream",
     "text": [
      "Translating:  35%|███████████████▋                             | 580/1668 [49:14<1:31:51,  5.07s/it]"
     ]
    },
    {
     "name": "stdout",
     "output_type": "stream",
     "text": [
      "result sent successfully\n",
      "Error translating with src=en (attempt 1): the JSON object must be str, bytes or bytearray, not NoneType\n",
      "Error translating with src=en (attempt 2): the JSON object must be str, bytes or bytearray, not NoneType\n",
      "🔁 Attempting sentence split and translation...\n"
     ]
    },
    {
     "name": "stderr",
     "output_type": "stream",
     "text": [
      "Translating:  35%|███████████████▋                             | 581/1668 [49:19<1:31:00,  5.02s/it]"
     ]
    },
    {
     "name": "stdout",
     "output_type": "stream",
     "text": [
      "result sent successfully\n",
      "Error translating with src=en (attempt 1): the JSON object must be str, bytes or bytearray, not NoneType\n",
      "Error translating with src=en (attempt 2): the JSON object must be str, bytes or bytearray, not NoneType\n",
      "🔁 Attempting sentence split and translation...\n"
     ]
    },
    {
     "name": "stderr",
     "output_type": "stream",
     "text": [
      "Translating:  35%|███████████████▋                             | 582/1668 [49:24<1:32:19,  5.10s/it]"
     ]
    },
    {
     "name": "stdout",
     "output_type": "stream",
     "text": [
      "result sent successfully\n",
      "Error translating with src=en (attempt 1): the JSON object must be str, bytes or bytearray, not NoneType\n",
      "Error translating with src=en (attempt 2): the JSON object must be str, bytes or bytearray, not NoneType\n",
      "🔁 Attempting sentence split and translation...\n"
     ]
    },
    {
     "name": "stderr",
     "output_type": "stream",
     "text": [
      "Translating:  35%|███████████████▋                             | 583/1668 [49:29<1:31:20,  5.05s/it]"
     ]
    },
    {
     "name": "stdout",
     "output_type": "stream",
     "text": [
      "result sent successfully\n",
      "Error translating with src=en (attempt 1): the JSON object must be str, bytes or bytearray, not NoneType\n",
      "Error translating with src=en (attempt 2): the JSON object must be str, bytes or bytearray, not NoneType\n",
      "🔁 Attempting sentence split and translation...\n"
     ]
    },
    {
     "name": "stderr",
     "output_type": "stream",
     "text": [
      "Translating:  35%|███████████████▊                             | 584/1668 [49:34<1:30:50,  5.03s/it]"
     ]
    },
    {
     "name": "stdout",
     "output_type": "stream",
     "text": [
      "result sent successfully\n",
      "Error translating with src=en (attempt 1): the JSON object must be str, bytes or bytearray, not NoneType\n",
      "Error translating with src=en (attempt 2): the JSON object must be str, bytes or bytearray, not NoneType\n",
      "🔁 Attempting sentence split and translation...\n"
     ]
    },
    {
     "name": "stderr",
     "output_type": "stream",
     "text": [
      "Translating:  35%|███████████████▊                             | 585/1668 [49:39<1:31:44,  5.08s/it]"
     ]
    },
    {
     "name": "stdout",
     "output_type": "stream",
     "text": [
      "result sent successfully\n",
      "Error translating with src=en (attempt 1): the JSON object must be str, bytes or bytearray, not NoneType\n",
      "Error translating with src=en (attempt 2): the JSON object must be str, bytes or bytearray, not NoneType\n",
      "🔁 Attempting sentence split and translation...\n"
     ]
    },
    {
     "name": "stderr",
     "output_type": "stream",
     "text": [
      "Translating:  35%|███████████████▊                             | 586/1668 [49:44<1:32:30,  5.13s/it]"
     ]
    },
    {
     "name": "stdout",
     "output_type": "stream",
     "text": [
      "result sent successfully\n",
      "Error translating with src=en (attempt 1): the JSON object must be str, bytes or bytearray, not NoneType\n",
      "Error translating with src=en (attempt 2): the JSON object must be str, bytes or bytearray, not NoneType\n",
      "🔁 Attempting sentence split and translation...\n"
     ]
    },
    {
     "name": "stderr",
     "output_type": "stream",
     "text": [
      "Translating:  35%|███████████████▊                             | 587/1668 [49:49<1:31:20,  5.07s/it]"
     ]
    },
    {
     "name": "stdout",
     "output_type": "stream",
     "text": [
      "result sent successfully\n",
      "Error translating with src=en (attempt 1): the JSON object must be str, bytes or bytearray, not NoneType\n",
      "Error translating with src=en (attempt 2): the JSON object must be str, bytes or bytearray, not NoneType\n",
      "🔁 Attempting sentence split and translation...\n"
     ]
    },
    {
     "name": "stderr",
     "output_type": "stream",
     "text": [
      "Translating:  35%|███████████████▊                             | 588/1668 [49:54<1:31:42,  5.09s/it]"
     ]
    },
    {
     "name": "stdout",
     "output_type": "stream",
     "text": [
      "result sent successfully\n",
      "Error translating with src=en (attempt 1): the JSON object must be str, bytes or bytearray, not NoneType\n",
      "Error translating with src=en (attempt 2): the JSON object must be str, bytes or bytearray, not NoneType\n",
      "🔁 Attempting sentence split and translation...\n"
     ]
    },
    {
     "name": "stderr",
     "output_type": "stream",
     "text": [
      "Translating:  35%|███████████████▉                             | 589/1668 [49:59<1:30:54,  5.06s/it]"
     ]
    },
    {
     "name": "stdout",
     "output_type": "stream",
     "text": [
      "result sent successfully\n",
      "Error translating with src=en (attempt 1): the JSON object must be str, bytes or bytearray, not NoneType\n",
      "Error translating with src=en (attempt 2): the JSON object must be str, bytes or bytearray, not NoneType\n",
      "🔁 Attempting sentence split and translation...\n"
     ]
    },
    {
     "name": "stderr",
     "output_type": "stream",
     "text": [
      "Translating:  35%|███████████████▉                             | 590/1668 [50:05<1:32:31,  5.15s/it]"
     ]
    },
    {
     "name": "stdout",
     "output_type": "stream",
     "text": [
      "result sent successfully\n",
      "Error translating with src=en (attempt 1): the JSON object must be str, bytes or bytearray, not NoneType\n",
      "Error translating with src=en (attempt 2): the JSON object must be str, bytes or bytearray, not NoneType\n",
      "🔁 Attempting sentence split and translation...\n"
     ]
    },
    {
     "name": "stderr",
     "output_type": "stream",
     "text": [
      "Translating:  35%|███████████████▉                             | 591/1668 [50:10<1:33:44,  5.22s/it]"
     ]
    },
    {
     "name": "stdout",
     "output_type": "stream",
     "text": [
      "result sent successfully\n",
      "Error translating with src=en (attempt 1): the JSON object must be str, bytes or bytearray, not NoneType\n",
      "Error translating with src=en (attempt 2): the JSON object must be str, bytes or bytearray, not NoneType\n",
      "🔁 Attempting sentence split and translation...\n"
     ]
    },
    {
     "name": "stderr",
     "output_type": "stream",
     "text": [
      "Translating:  35%|███████████████▉                             | 592/1668 [50:15<1:32:53,  5.18s/it]"
     ]
    },
    {
     "name": "stdout",
     "output_type": "stream",
     "text": [
      "result sent successfully\n",
      "Error translating with src=en (attempt 1): the JSON object must be str, bytes or bytearray, not NoneType\n",
      "Error translating with src=en (attempt 2): the JSON object must be str, bytes or bytearray, not NoneType\n",
      "🔁 Attempting sentence split and translation...\n"
     ]
    },
    {
     "name": "stderr",
     "output_type": "stream",
     "text": [
      "Translating:  36%|███████████████▉                             | 593/1668 [50:20<1:31:32,  5.11s/it]"
     ]
    },
    {
     "name": "stdout",
     "output_type": "stream",
     "text": [
      "result sent successfully\n",
      "Error translating with src=en (attempt 1): the JSON object must be str, bytes or bytearray, not NoneType\n",
      "Error translating with src=en (attempt 2): the JSON object must be str, bytes or bytearray, not NoneType\n",
      "🔁 Attempting sentence split and translation...\n"
     ]
    },
    {
     "name": "stderr",
     "output_type": "stream",
     "text": [
      "Translating:  36%|████████████████                             | 594/1668 [50:25<1:31:24,  5.11s/it]"
     ]
    },
    {
     "name": "stdout",
     "output_type": "stream",
     "text": [
      "result sent successfully\n",
      "Error translating with src=en (attempt 1): the JSON object must be str, bytes or bytearray, not NoneType\n",
      "Error translating with src=en (attempt 2): the JSON object must be str, bytes or bytearray, not NoneType\n",
      "🔁 Attempting sentence split and translation...\n"
     ]
    },
    {
     "name": "stderr",
     "output_type": "stream",
     "text": [
      "Translating:  36%|████████████████                             | 595/1668 [50:31<1:32:00,  5.15s/it]"
     ]
    },
    {
     "name": "stdout",
     "output_type": "stream",
     "text": [
      "result sent successfully\n",
      "Error translating with src=en (attempt 1): the JSON object must be str, bytes or bytearray, not NoneType\n",
      "Error translating with src=en (attempt 2): the JSON object must be str, bytes or bytearray, not NoneType\n",
      "🔁 Attempting sentence split and translation...\n"
     ]
    },
    {
     "name": "stderr",
     "output_type": "stream",
     "text": [
      "Translating:  36%|████████████████                             | 596/1668 [50:36<1:31:40,  5.13s/it]"
     ]
    },
    {
     "name": "stdout",
     "output_type": "stream",
     "text": [
      "result sent successfully\n",
      "Error translating with src=en (attempt 1): the JSON object must be str, bytes or bytearray, not NoneType\n",
      "Error translating with src=en (attempt 2): the JSON object must be str, bytes or bytearray, not NoneType\n",
      "🔁 Attempting sentence split and translation...\n"
     ]
    },
    {
     "name": "stderr",
     "output_type": "stream",
     "text": [
      "Translating:  36%|████████████████                             | 597/1668 [50:41<1:30:33,  5.07s/it]"
     ]
    },
    {
     "name": "stdout",
     "output_type": "stream",
     "text": [
      "result sent successfully\n",
      "Error translating with src=en (attempt 1): the JSON object must be str, bytes or bytearray, not NoneType\n",
      "Error translating with src=en (attempt 2): the JSON object must be str, bytes or bytearray, not NoneType\n",
      "🔁 Attempting sentence split and translation...\n"
     ]
    },
    {
     "name": "stderr",
     "output_type": "stream",
     "text": [
      "Translating:  36%|████████████████▏                            | 598/1668 [50:46<1:31:20,  5.12s/it]"
     ]
    },
    {
     "name": "stdout",
     "output_type": "stream",
     "text": [
      "result sent successfully\n",
      "Error translating with src=en (attempt 1): the JSON object must be str, bytes or bytearray, not NoneType\n",
      "Error translating with src=en (attempt 2): the JSON object must be str, bytes or bytearray, not NoneType\n",
      "🔁 Attempting sentence split and translation...\n"
     ]
    },
    {
     "name": "stderr",
     "output_type": "stream",
     "text": [
      "Translating:  36%|████████████████▏                            | 599/1668 [50:51<1:30:29,  5.08s/it]"
     ]
    },
    {
     "name": "stdout",
     "output_type": "stream",
     "text": [
      "result sent successfully\n",
      "Error translating with src=en (attempt 1): the JSON object must be str, bytes or bytearray, not NoneType\n",
      "Error translating with src=en (attempt 2): the JSON object must be str, bytes or bytearray, not NoneType\n",
      "🔁 Attempting sentence split and translation...\n"
     ]
    },
    {
     "name": "stderr",
     "output_type": "stream",
     "text": [
      "Translating:  36%|████████████████▏                            | 600/1668 [50:56<1:31:59,  5.17s/it]"
     ]
    },
    {
     "name": "stdout",
     "output_type": "stream",
     "text": [
      "result sent successfully\n",
      "Error translating with src=en (attempt 1): the JSON object must be str, bytes or bytearray, not NoneType\n",
      "Error translating with src=en (attempt 2): the JSON object must be str, bytes or bytearray, not NoneType\n",
      "🔁 Attempting sentence split and translation...\n"
     ]
    },
    {
     "name": "stderr",
     "output_type": "stream",
     "text": [
      "Translating:  36%|████████████████▏                            | 601/1668 [51:01<1:30:48,  5.11s/it]"
     ]
    },
    {
     "name": "stdout",
     "output_type": "stream",
     "text": [
      "result sent successfully\n",
      "Error translating with src=en (attempt 1): the JSON object must be str, bytes or bytearray, not NoneType\n",
      "Error translating with src=en (attempt 2): the JSON object must be str, bytes or bytearray, not NoneType\n",
      "🔁 Attempting sentence split and translation...\n"
     ]
    },
    {
     "name": "stderr",
     "output_type": "stream",
     "text": [
      "Translating:  36%|████████████████▏                            | 602/1668 [51:06<1:29:43,  5.05s/it]"
     ]
    },
    {
     "name": "stdout",
     "output_type": "stream",
     "text": [
      "result sent successfully\n",
      "Error translating with src=en (attempt 1): the JSON object must be str, bytes or bytearray, not NoneType\n",
      "Error translating with src=en (attempt 2): the JSON object must be str, bytes or bytearray, not NoneType\n",
      "🔁 Attempting sentence split and translation...\n"
     ]
    },
    {
     "name": "stderr",
     "output_type": "stream",
     "text": [
      "Translating:  36%|████████████████▎                            | 603/1668 [51:11<1:28:59,  5.01s/it]"
     ]
    },
    {
     "name": "stdout",
     "output_type": "stream",
     "text": [
      "result sent successfully\n",
      "Error translating with src=en (attempt 1): the JSON object must be str, bytes or bytearray, not NoneType\n",
      "Error translating with src=en (attempt 2): the JSON object must be str, bytes or bytearray, not NoneType\n",
      "🔁 Attempting sentence split and translation...\n"
     ]
    },
    {
     "name": "stderr",
     "output_type": "stream",
     "text": [
      "Translating:  36%|████████████████▎                            | 604/1668 [51:16<1:29:22,  5.04s/it]"
     ]
    },
    {
     "name": "stdout",
     "output_type": "stream",
     "text": [
      "result sent successfully\n",
      "Error translating with src=en (attempt 1): the JSON object must be str, bytes or bytearray, not NoneType\n",
      "Error translating with src=en (attempt 2): the JSON object must be str, bytes or bytearray, not NoneType\n",
      "🔁 Attempting sentence split and translation...\n"
     ]
    },
    {
     "name": "stderr",
     "output_type": "stream",
     "text": [
      "Translating:  36%|████████████████▎                            | 605/1668 [51:21<1:30:12,  5.09s/it]"
     ]
    },
    {
     "name": "stdout",
     "output_type": "stream",
     "text": [
      "result sent successfully\n",
      "Error translating with src=en (attempt 1): the JSON object must be str, bytes or bytearray, not NoneType\n",
      "Error translating with src=en (attempt 2): the JSON object must be str, bytes or bytearray, not NoneType\n",
      "🔁 Attempting sentence split and translation...\n"
     ]
    },
    {
     "name": "stderr",
     "output_type": "stream",
     "text": [
      "Translating:  36%|████████████████▎                            | 606/1668 [51:27<1:31:37,  5.18s/it]"
     ]
    },
    {
     "name": "stdout",
     "output_type": "stream",
     "text": [
      "result sent successfully\n",
      "Error translating with src=en (attempt 1): the JSON object must be str, bytes or bytearray, not NoneType\n",
      "Error translating with src=en (attempt 2): the JSON object must be str, bytes or bytearray, not NoneType\n",
      "🔁 Attempting sentence split and translation...\n"
     ]
    },
    {
     "name": "stderr",
     "output_type": "stream",
     "text": [
      "Translating:  36%|████████████████▍                            | 607/1668 [51:32<1:30:56,  5.14s/it]"
     ]
    },
    {
     "name": "stdout",
     "output_type": "stream",
     "text": [
      "result sent successfully\n",
      "Error translating with src=en (attempt 1): the JSON object must be str, bytes or bytearray, not NoneType\n",
      "Error translating with src=en (attempt 2): the JSON object must be str, bytes or bytearray, not NoneType\n",
      "🔁 Attempting sentence split and translation...\n"
     ]
    },
    {
     "name": "stderr",
     "output_type": "stream",
     "text": [
      "Translating:  36%|████████████████▍                            | 608/1668 [51:37<1:30:32,  5.13s/it]"
     ]
    },
    {
     "name": "stdout",
     "output_type": "stream",
     "text": [
      "result sent successfully\n",
      "Error translating with src=en (attempt 1): the JSON object must be str, bytes or bytearray, not NoneType\n",
      "Error translating with src=en (attempt 2): the JSON object must be str, bytes or bytearray, not NoneType\n",
      "🔁 Attempting sentence split and translation...\n"
     ]
    },
    {
     "name": "stderr",
     "output_type": "stream",
     "text": [
      "Translating:  37%|████████████████▍                            | 609/1668 [51:42<1:32:37,  5.25s/it]"
     ]
    },
    {
     "name": "stdout",
     "output_type": "stream",
     "text": [
      "result sent successfully\n",
      "Error translating with src=en (attempt 1): the JSON object must be str, bytes or bytearray, not NoneType\n",
      "Error translating with src=en (attempt 2): the JSON object must be str, bytes or bytearray, not NoneType\n",
      "🔁 Attempting sentence split and translation...\n"
     ]
    },
    {
     "name": "stderr",
     "output_type": "stream",
     "text": [
      "Translating:  37%|████████████████▍                            | 610/1668 [51:47<1:31:48,  5.21s/it]"
     ]
    },
    {
     "name": "stdout",
     "output_type": "stream",
     "text": [
      "result sent successfully\n",
      "Error translating with src=en (attempt 1): the JSON object must be str, bytes or bytearray, not NoneType\n",
      "Error translating with src=en (attempt 2): the JSON object must be str, bytes or bytearray, not NoneType\n",
      "🔁 Attempting sentence split and translation...\n"
     ]
    },
    {
     "name": "stderr",
     "output_type": "stream",
     "text": [
      "Translating:  37%|████████████████▍                            | 611/1668 [51:53<1:31:05,  5.17s/it]"
     ]
    },
    {
     "name": "stdout",
     "output_type": "stream",
     "text": [
      "result sent successfully\n",
      "Error translating with src=en (attempt 1): the JSON object must be str, bytes or bytearray, not NoneType\n",
      "Error translating with src=en (attempt 2): the JSON object must be str, bytes or bytearray, not NoneType\n",
      "🔁 Attempting sentence split and translation...\n"
     ]
    },
    {
     "name": "stderr",
     "output_type": "stream",
     "text": [
      "Translating:  37%|████████████████▌                            | 612/1668 [51:58<1:29:48,  5.10s/it]"
     ]
    },
    {
     "name": "stdout",
     "output_type": "stream",
     "text": [
      "result sent successfully\n",
      "Error translating with src=en (attempt 1): the JSON object must be str, bytes or bytearray, not NoneType\n",
      "Error translating with src=en (attempt 2): the JSON object must be str, bytes or bytearray, not NoneType\n",
      "🔁 Attempting sentence split and translation...\n"
     ]
    },
    {
     "name": "stderr",
     "output_type": "stream",
     "text": [
      "Translating:  37%|████████████████▌                            | 613/1668 [52:03<1:30:22,  5.14s/it]"
     ]
    },
    {
     "name": "stdout",
     "output_type": "stream",
     "text": [
      "result sent successfully\n",
      "Error translating with src=en (attempt 1): the JSON object must be str, bytes or bytearray, not NoneType\n",
      "Error translating with src=en (attempt 2): the JSON object must be str, bytes or bytearray, not NoneType\n",
      "🔁 Attempting sentence split and translation...\n"
     ]
    },
    {
     "name": "stderr",
     "output_type": "stream",
     "text": [
      "Translating:  37%|████████████████▌                            | 614/1668 [52:08<1:30:52,  5.17s/it]"
     ]
    },
    {
     "name": "stdout",
     "output_type": "stream",
     "text": [
      "result sent successfully\n",
      "Error translating with src=en (attempt 1): the JSON object must be str, bytes or bytearray, not NoneType\n",
      "Error translating with src=en (attempt 2): the JSON object must be str, bytes or bytearray, not NoneType\n",
      "🔁 Attempting sentence split and translation...\n"
     ]
    },
    {
     "name": "stderr",
     "output_type": "stream",
     "text": [
      "Translating:  37%|████████████████▌                            | 615/1668 [52:13<1:31:08,  5.19s/it]"
     ]
    },
    {
     "name": "stdout",
     "output_type": "stream",
     "text": [
      "result sent successfully\n",
      "Error translating with src=en (attempt 1): the JSON object must be str, bytes or bytearray, not NoneType\n",
      "Error translating with src=en (attempt 2): the JSON object must be str, bytes or bytearray, not NoneType\n",
      "🔁 Attempting sentence split and translation...\n"
     ]
    },
    {
     "name": "stderr",
     "output_type": "stream",
     "text": [
      "Translating:  37%|████████████████▌                            | 616/1668 [52:18<1:31:06,  5.20s/it]"
     ]
    },
    {
     "name": "stdout",
     "output_type": "stream",
     "text": [
      "result sent successfully\n",
      "Error translating with src=en (attempt 1): the JSON object must be str, bytes or bytearray, not NoneType\n",
      "Error translating with src=en (attempt 2): the JSON object must be str, bytes or bytearray, not NoneType\n",
      "🔁 Attempting sentence split and translation...\n"
     ]
    },
    {
     "name": "stderr",
     "output_type": "stream",
     "text": [
      "Translating:  37%|████████████████▋                            | 617/1668 [52:24<1:30:34,  5.17s/it]"
     ]
    },
    {
     "name": "stdout",
     "output_type": "stream",
     "text": [
      "result sent successfully\n",
      "Error translating with src=en (attempt 1): the JSON object must be str, bytes or bytearray, not NoneType\n",
      "Error translating with src=en (attempt 2): the JSON object must be str, bytes or bytearray, not NoneType\n",
      "🔁 Attempting sentence split and translation...\n"
     ]
    },
    {
     "name": "stderr",
     "output_type": "stream",
     "text": [
      "Translating:  37%|████████████████▋                            | 618/1668 [52:29<1:31:00,  5.20s/it]"
     ]
    },
    {
     "name": "stdout",
     "output_type": "stream",
     "text": [
      "result sent successfully\n",
      "Error translating with src=en (attempt 1): the JSON object must be str, bytes or bytearray, not NoneType\n",
      "Error translating with src=en (attempt 2): the JSON object must be str, bytes or bytearray, not NoneType\n",
      "🔁 Attempting sentence split and translation...\n"
     ]
    },
    {
     "name": "stderr",
     "output_type": "stream",
     "text": [
      "Translating:  37%|████████████████▋                            | 619/1668 [52:34<1:31:04,  5.21s/it]"
     ]
    },
    {
     "name": "stdout",
     "output_type": "stream",
     "text": [
      "result sent successfully\n",
      "Error translating with src=en (attempt 1): the JSON object must be str, bytes or bytearray, not NoneType\n",
      "Error translating with src=en (attempt 2): the JSON object must be str, bytes or bytearray, not NoneType\n",
      "🔁 Attempting sentence split and translation...\n"
     ]
    },
    {
     "name": "stderr",
     "output_type": "stream",
     "text": [
      "Translating:  37%|████████████████▋                            | 620/1668 [52:39<1:29:38,  5.13s/it]"
     ]
    },
    {
     "name": "stdout",
     "output_type": "stream",
     "text": [
      "result sent successfully\n",
      "Error translating with src=en (attempt 1): the JSON object must be str, bytes or bytearray, not NoneType\n",
      "Error translating with src=en (attempt 2): the JSON object must be str, bytes or bytearray, not NoneType\n",
      "🔁 Attempting sentence split and translation...\n"
     ]
    },
    {
     "name": "stderr",
     "output_type": "stream",
     "text": [
      "Translating:  37%|████████████████▊                            | 621/1668 [52:44<1:29:18,  5.12s/it]"
     ]
    },
    {
     "name": "stdout",
     "output_type": "stream",
     "text": [
      "result sent successfully\n",
      "Error translating with src=en (attempt 1): the JSON object must be str, bytes or bytearray, not NoneType\n",
      "Error translating with src=en (attempt 2): the JSON object must be str, bytes or bytearray, not NoneType\n",
      "🔁 Attempting sentence split and translation...\n"
     ]
    },
    {
     "name": "stderr",
     "output_type": "stream",
     "text": [
      "Translating:  37%|████████████████▊                            | 622/1668 [52:49<1:28:31,  5.08s/it]"
     ]
    },
    {
     "name": "stdout",
     "output_type": "stream",
     "text": [
      "result sent successfully\n",
      "Error translating with src=en (attempt 1): the JSON object must be str, bytes or bytearray, not NoneType\n",
      "Error translating with src=en (attempt 2): the JSON object must be str, bytes or bytearray, not NoneType\n",
      "🔁 Attempting sentence split and translation...\n"
     ]
    },
    {
     "name": "stderr",
     "output_type": "stream",
     "text": [
      "Translating:  37%|████████████████▊                            | 623/1668 [52:54<1:27:44,  5.04s/it]"
     ]
    },
    {
     "name": "stdout",
     "output_type": "stream",
     "text": [
      "result sent successfully\n",
      "Error translating with src=en (attempt 1): the JSON object must be str, bytes or bytearray, not NoneType\n",
      "Error translating with src=en (attempt 2): the JSON object must be str, bytes or bytearray, not NoneType\n",
      "🔁 Attempting sentence split and translation...\n"
     ]
    },
    {
     "name": "stderr",
     "output_type": "stream",
     "text": [
      "Translating:  37%|████████████████▊                            | 624/1668 [52:59<1:27:32,  5.03s/it]"
     ]
    },
    {
     "name": "stdout",
     "output_type": "stream",
     "text": [
      "result sent successfully\n",
      "Error translating with src=en (attempt 1): the JSON object must be str, bytes or bytearray, not NoneType\n",
      "Error translating with src=en (attempt 2): the JSON object must be str, bytes or bytearray, not NoneType\n",
      "🔁 Attempting sentence split and translation...\n"
     ]
    },
    {
     "name": "stderr",
     "output_type": "stream",
     "text": [
      "Translating:  37%|████████████████▊                            | 625/1668 [53:04<1:26:59,  5.00s/it]"
     ]
    },
    {
     "name": "stdout",
     "output_type": "stream",
     "text": [
      "result sent successfully\n",
      "Error translating with src=en (attempt 1): the JSON object must be str, bytes or bytearray, not NoneType\n",
      "Error translating with src=en (attempt 2): the JSON object must be str, bytes or bytearray, not NoneType\n",
      "🔁 Attempting sentence split and translation...\n"
     ]
    },
    {
     "name": "stderr",
     "output_type": "stream",
     "text": [
      "Translating:  38%|████████████████▉                            | 626/1668 [53:09<1:26:36,  4.99s/it]"
     ]
    },
    {
     "name": "stdout",
     "output_type": "stream",
     "text": [
      "result sent successfully\n",
      "Error translating with src=en (attempt 1): the JSON object must be str, bytes or bytearray, not NoneType\n",
      "Error translating with src=en (attempt 2): the JSON object must be str, bytes or bytearray, not NoneType\n",
      "🔁 Attempting sentence split and translation...\n"
     ]
    },
    {
     "name": "stderr",
     "output_type": "stream",
     "text": [
      "Translating:  38%|████████████████▉                            | 627/1668 [53:14<1:26:18,  4.97s/it]"
     ]
    },
    {
     "name": "stdout",
     "output_type": "stream",
     "text": [
      "result sent successfully\n",
      "Error translating with src=en (attempt 1): the JSON object must be str, bytes or bytearray, not NoneType\n",
      "Error translating with src=en (attempt 2): the JSON object must be str, bytes or bytearray, not NoneType\n",
      "🔁 Attempting sentence split and translation...\n"
     ]
    },
    {
     "name": "stderr",
     "output_type": "stream",
     "text": [
      "Translating:  38%|████████████████▉                            | 628/1668 [53:19<1:26:05,  4.97s/it]"
     ]
    },
    {
     "name": "stdout",
     "output_type": "stream",
     "text": [
      "result sent successfully\n",
      "Error translating with src=en (attempt 1): the JSON object must be str, bytes or bytearray, not NoneType\n",
      "Error translating with src=en (attempt 2): the JSON object must be str, bytes or bytearray, not NoneType\n",
      "🔁 Attempting sentence split and translation...\n"
     ]
    },
    {
     "name": "stderr",
     "output_type": "stream",
     "text": [
      "Translating:  38%|████████████████▉                            | 629/1668 [53:24<1:29:03,  5.14s/it]"
     ]
    },
    {
     "name": "stdout",
     "output_type": "stream",
     "text": [
      "result sent successfully\n",
      "Error translating with src=en (attempt 1): the JSON object must be str, bytes or bytearray, not NoneType\n",
      "Error translating with src=en (attempt 2): the JSON object must be str, bytes or bytearray, not NoneType\n",
      "🔁 Attempting sentence split and translation...\n"
     ]
    },
    {
     "name": "stderr",
     "output_type": "stream",
     "text": [
      "Translating:  38%|████████████████▉                            | 630/1668 [53:29<1:28:45,  5.13s/it]"
     ]
    },
    {
     "name": "stdout",
     "output_type": "stream",
     "text": [
      "result sent successfully\n",
      "Error translating with src=en (attempt 1): the JSON object must be str, bytes or bytearray, not NoneType\n",
      "Error translating with src=en (attempt 2): the JSON object must be str, bytes or bytearray, not NoneType\n",
      "🔁 Attempting sentence split and translation...\n"
     ]
    },
    {
     "name": "stderr",
     "output_type": "stream",
     "text": [
      "Translating:  38%|█████████████████                            | 631/1668 [53:35<1:29:13,  5.16s/it]"
     ]
    },
    {
     "name": "stdout",
     "output_type": "stream",
     "text": [
      "result sent successfully\n",
      "Error translating with src=en (attempt 1): the JSON object must be str, bytes or bytearray, not NoneType\n",
      "Error translating with src=en (attempt 2): the JSON object must be str, bytes or bytearray, not NoneType\n",
      "🔁 Attempting sentence split and translation...\n"
     ]
    },
    {
     "name": "stderr",
     "output_type": "stream",
     "text": [
      "Translating:  38%|█████████████████                            | 632/1668 [53:40<1:28:45,  5.14s/it]"
     ]
    },
    {
     "name": "stdout",
     "output_type": "stream",
     "text": [
      "result sent successfully\n",
      "Error translating with src=en (attempt 1): the JSON object must be str, bytes or bytearray, not NoneType\n",
      "Error translating with src=en (attempt 2): the JSON object must be str, bytes or bytearray, not NoneType\n",
      "🔁 Attempting sentence split and translation...\n"
     ]
    },
    {
     "name": "stderr",
     "output_type": "stream",
     "text": [
      "Translating:  38%|█████████████████                            | 633/1668 [53:45<1:28:22,  5.12s/it]"
     ]
    },
    {
     "name": "stdout",
     "output_type": "stream",
     "text": [
      "result sent successfully\n",
      "Error translating with src=en (attempt 1): the JSON object must be str, bytes or bytearray, not NoneType\n",
      "Error translating with src=en (attempt 2): the JSON object must be str, bytes or bytearray, not NoneType\n",
      "🔁 Attempting sentence split and translation...\n"
     ]
    },
    {
     "name": "stderr",
     "output_type": "stream",
     "text": [
      "Translating:  38%|█████████████████                            | 634/1668 [53:50<1:28:30,  5.14s/it]"
     ]
    },
    {
     "name": "stdout",
     "output_type": "stream",
     "text": [
      "result sent successfully\n",
      "Error translating with src=en (attempt 1): the JSON object must be str, bytes or bytearray, not NoneType\n",
      "Error translating with src=en (attempt 2): the JSON object must be str, bytes or bytearray, not NoneType\n",
      "🔁 Attempting sentence split and translation...\n"
     ]
    },
    {
     "name": "stderr",
     "output_type": "stream",
     "text": [
      "Translating:  38%|█████████████████▏                           | 635/1668 [53:55<1:27:19,  5.07s/it]"
     ]
    },
    {
     "name": "stdout",
     "output_type": "stream",
     "text": [
      "result sent successfully\n",
      "Error translating with src=en (attempt 1): the JSON object must be str, bytes or bytearray, not NoneType\n",
      "Error translating with src=en (attempt 2): the JSON object must be str, bytes or bytearray, not NoneType\n",
      "🔁 Attempting sentence split and translation...\n"
     ]
    },
    {
     "name": "stderr",
     "output_type": "stream",
     "text": [
      "Translating:  38%|█████████████████▏                           | 636/1668 [54:00<1:26:35,  5.03s/it]"
     ]
    },
    {
     "name": "stdout",
     "output_type": "stream",
     "text": [
      "result sent successfully\n",
      "Error translating with src=en (attempt 1): the JSON object must be str, bytes or bytearray, not NoneType\n",
      "Error translating with src=en (attempt 2): the JSON object must be str, bytes or bytearray, not NoneType\n",
      "🔁 Attempting sentence split and translation...\n"
     ]
    },
    {
     "name": "stderr",
     "output_type": "stream",
     "text": [
      "Translating:  38%|█████████████████▏                           | 637/1668 [54:05<1:27:33,  5.10s/it]"
     ]
    },
    {
     "name": "stdout",
     "output_type": "stream",
     "text": [
      "result sent successfully\n",
      "Error translating with src=en (attempt 1): the JSON object must be str, bytes or bytearray, not NoneType\n",
      "Error translating with src=en (attempt 2): the JSON object must be str, bytes or bytearray, not NoneType\n",
      "🔁 Attempting sentence split and translation...\n"
     ]
    },
    {
     "name": "stderr",
     "output_type": "stream",
     "text": [
      "Translating:  38%|█████████████████▏                           | 638/1668 [54:10<1:28:16,  5.14s/it]"
     ]
    },
    {
     "name": "stdout",
     "output_type": "stream",
     "text": [
      "result sent successfully\n",
      "Error translating with src=en (attempt 1): the JSON object must be str, bytes or bytearray, not NoneType\n",
      "Error translating with src=en (attempt 2): the JSON object must be str, bytes or bytearray, not NoneType\n",
      "🔁 Attempting sentence split and translation...\n"
     ]
    },
    {
     "name": "stderr",
     "output_type": "stream",
     "text": [
      "Translating:  38%|█████████████████▏                           | 639/1668 [54:15<1:27:50,  5.12s/it]"
     ]
    },
    {
     "name": "stdout",
     "output_type": "stream",
     "text": [
      "result sent successfully\n",
      "Error translating with src=en (attempt 1): the JSON object must be str, bytes or bytearray, not NoneType\n",
      "Error translating with src=en (attempt 2): the JSON object must be str, bytes or bytearray, not NoneType\n",
      "🔁 Attempting sentence split and translation...\n"
     ]
    },
    {
     "name": "stderr",
     "output_type": "stream",
     "text": [
      "Translating:  38%|█████████████████▎                           | 640/1668 [54:21<1:28:21,  5.16s/it]"
     ]
    },
    {
     "name": "stdout",
     "output_type": "stream",
     "text": [
      "result sent successfully\n",
      "Error translating with src=en (attempt 1): the JSON object must be str, bytes or bytearray, not NoneType\n",
      "Error translating with src=en (attempt 2): the JSON object must be str, bytes or bytearray, not NoneType\n",
      "🔁 Attempting sentence split and translation...\n"
     ]
    },
    {
     "name": "stderr",
     "output_type": "stream",
     "text": [
      "Translating:  38%|█████████████████▎                           | 641/1668 [54:26<1:27:11,  5.09s/it]"
     ]
    },
    {
     "name": "stdout",
     "output_type": "stream",
     "text": [
      "result sent successfully\n",
      "Error translating with src=en (attempt 1): the JSON object must be str, bytes or bytearray, not NoneType\n",
      "Error translating with src=en (attempt 2): the JSON object must be str, bytes or bytearray, not NoneType\n",
      "🔁 Attempting sentence split and translation...\n"
     ]
    },
    {
     "name": "stderr",
     "output_type": "stream",
     "text": [
      "Translating:  38%|█████████████████▎                           | 642/1668 [54:31<1:26:33,  5.06s/it]"
     ]
    },
    {
     "name": "stdout",
     "output_type": "stream",
     "text": [
      "result sent successfully\n",
      "Error translating with src=en (attempt 1): the JSON object must be str, bytes or bytearray, not NoneType\n",
      "Error translating with src=en (attempt 2): the JSON object must be str, bytes or bytearray, not NoneType\n",
      "🔁 Attempting sentence split and translation...\n"
     ]
    },
    {
     "name": "stderr",
     "output_type": "stream",
     "text": [
      "Translating:  39%|█████████████████▎                           | 643/1668 [54:36<1:28:01,  5.15s/it]"
     ]
    },
    {
     "name": "stdout",
     "output_type": "stream",
     "text": [
      "result sent successfully\n",
      "Error translating with src=en (attempt 1): the JSON object must be str, bytes or bytearray, not NoneType\n",
      "Error translating with src=en (attempt 2): the JSON object must be str, bytes or bytearray, not NoneType\n",
      "🔁 Attempting sentence split and translation...\n"
     ]
    },
    {
     "name": "stderr",
     "output_type": "stream",
     "text": [
      "Translating:  39%|█████████████████▎                           | 644/1668 [54:42<1:29:55,  5.27s/it]"
     ]
    },
    {
     "name": "stdout",
     "output_type": "stream",
     "text": [
      "result sent successfully\n",
      "Error translating with src=en (attempt 1): the JSON object must be str, bytes or bytearray, not NoneType\n",
      "Error translating with src=en (attempt 2): the JSON object must be str, bytes or bytearray, not NoneType\n",
      "🔁 Attempting sentence split and translation...\n"
     ]
    },
    {
     "name": "stderr",
     "output_type": "stream",
     "text": [
      "Translating:  39%|█████████████████▍                           | 645/1668 [54:46<1:28:06,  5.17s/it]"
     ]
    },
    {
     "name": "stdout",
     "output_type": "stream",
     "text": [
      "result sent successfully\n",
      "Error translating with src=en (attempt 1): the JSON object must be str, bytes or bytearray, not NoneType\n",
      "Error translating with src=en (attempt 2): the JSON object must be str, bytes or bytearray, not NoneType\n",
      "🔁 Attempting sentence split and translation...\n"
     ]
    },
    {
     "name": "stderr",
     "output_type": "stream",
     "text": [
      "Translating:  39%|█████████████████▍                           | 646/1668 [54:52<1:30:42,  5.33s/it]"
     ]
    },
    {
     "name": "stdout",
     "output_type": "stream",
     "text": [
      "result sent successfully\n",
      "Error translating with src=en (attempt 1): the JSON object must be str, bytes or bytearray, not NoneType\n",
      "Error translating with src=en (attempt 2): the JSON object must be str, bytes or bytearray, not NoneType\n",
      "🔁 Attempting sentence split and translation...\n"
     ]
    },
    {
     "name": "stderr",
     "output_type": "stream",
     "text": [
      "Translating:  39%|█████████████████▍                           | 647/1668 [54:57<1:30:15,  5.30s/it]"
     ]
    },
    {
     "name": "stdout",
     "output_type": "stream",
     "text": [
      "result sent successfully\n",
      "Error translating with src=en (attempt 1): the JSON object must be str, bytes or bytearray, not NoneType\n",
      "Error translating with src=en (attempt 2): the JSON object must be str, bytes or bytearray, not NoneType\n",
      "🔁 Attempting sentence split and translation...\n"
     ]
    },
    {
     "name": "stderr",
     "output_type": "stream",
     "text": [
      "Translating:  39%|█████████████████▍                           | 648/1668 [55:02<1:28:42,  5.22s/it]"
     ]
    },
    {
     "name": "stdout",
     "output_type": "stream",
     "text": [
      "result sent successfully\n",
      "Error translating with src=en (attempt 1): the JSON object must be str, bytes or bytearray, not NoneType\n",
      "Error translating with src=en (attempt 2): the JSON object must be str, bytes or bytearray, not NoneType\n",
      "🔁 Attempting sentence split and translation...\n"
     ]
    },
    {
     "name": "stderr",
     "output_type": "stream",
     "text": [
      "Translating:  39%|█████████████████▌                           | 649/1668 [55:08<1:27:56,  5.18s/it]"
     ]
    },
    {
     "name": "stdout",
     "output_type": "stream",
     "text": [
      "result sent successfully\n",
      "Error translating with src=en (attempt 1): the JSON object must be str, bytes or bytearray, not NoneType\n",
      "Error translating with src=en (attempt 2): the JSON object must be str, bytes or bytearray, not NoneType\n",
      "🔁 Attempting sentence split and translation...\n"
     ]
    },
    {
     "name": "stderr",
     "output_type": "stream",
     "text": [
      "Translating:  39%|█████████████████▌                           | 650/1668 [55:13<1:27:32,  5.16s/it]"
     ]
    },
    {
     "name": "stdout",
     "output_type": "stream",
     "text": [
      "result sent successfully\n",
      "Error translating with src=en (attempt 1): the JSON object must be str, bytes or bytearray, not NoneType\n",
      "Error translating with src=en (attempt 2): the JSON object must be str, bytes or bytearray, not NoneType\n",
      "🔁 Attempting sentence split and translation...\n"
     ]
    },
    {
     "name": "stderr",
     "output_type": "stream",
     "text": [
      "Translating:  39%|█████████████████▌                           | 651/1668 [55:18<1:27:16,  5.15s/it]"
     ]
    },
    {
     "name": "stdout",
     "output_type": "stream",
     "text": [
      "result sent successfully\n",
      "Error translating with src=en (attempt 1): the JSON object must be str, bytes or bytearray, not NoneType\n",
      "Error translating with src=en (attempt 2): the JSON object must be str, bytes or bytearray, not NoneType\n",
      "🔁 Attempting sentence split and translation...\n"
     ]
    },
    {
     "name": "stderr",
     "output_type": "stream",
     "text": [
      "Translating:  39%|█████████████████▌                           | 652/1668 [55:23<1:26:03,  5.08s/it]"
     ]
    },
    {
     "name": "stdout",
     "output_type": "stream",
     "text": [
      "result sent successfully\n",
      "Error translating with src=en (attempt 1): the JSON object must be str, bytes or bytearray, not NoneType\n",
      "Error translating with src=en (attempt 2): the JSON object must be str, bytes or bytearray, not NoneType\n",
      "🔁 Attempting sentence split and translation...\n"
     ]
    },
    {
     "name": "stderr",
     "output_type": "stream",
     "text": [
      "Translating:  39%|█████████████████▌                           | 653/1668 [55:28<1:25:09,  5.03s/it]"
     ]
    },
    {
     "name": "stdout",
     "output_type": "stream",
     "text": [
      "result sent successfully\n",
      "Error translating with src=en (attempt 1): the JSON object must be str, bytes or bytearray, not NoneType\n",
      "Error translating with src=en (attempt 2): the JSON object must be str, bytes or bytearray, not NoneType\n",
      "🔁 Attempting sentence split and translation...\n"
     ]
    },
    {
     "name": "stderr",
     "output_type": "stream",
     "text": [
      "Translating:  39%|█████████████████▋                           | 654/1668 [55:33<1:26:09,  5.10s/it]"
     ]
    },
    {
     "name": "stdout",
     "output_type": "stream",
     "text": [
      "result sent successfully\n",
      "Error translating with src=en (attempt 1): the JSON object must be str, bytes or bytearray, not NoneType\n",
      "Error translating with src=en (attempt 2): the JSON object must be str, bytes or bytearray, not NoneType\n",
      "🔁 Attempting sentence split and translation...\n"
     ]
    },
    {
     "name": "stderr",
     "output_type": "stream",
     "text": [
      "Translating:  39%|█████████████████▋                           | 655/1668 [55:38<1:26:02,  5.10s/it]"
     ]
    },
    {
     "name": "stdout",
     "output_type": "stream",
     "text": [
      "result sent successfully\n",
      "Error translating with src=en (attempt 1): the JSON object must be str, bytes or bytearray, not NoneType\n",
      "Error translating with src=en (attempt 2): the JSON object must be str, bytes or bytearray, not NoneType\n",
      "🔁 Attempting sentence split and translation...\n"
     ]
    },
    {
     "name": "stderr",
     "output_type": "stream",
     "text": [
      "Translating:  39%|█████████████████▋                           | 656/1668 [55:43<1:27:24,  5.18s/it]"
     ]
    },
    {
     "name": "stdout",
     "output_type": "stream",
     "text": [
      "result sent successfully\n",
      "Error translating with src=en (attempt 1): the JSON object must be str, bytes or bytearray, not NoneType\n",
      "Error translating with src=en (attempt 2): the JSON object must be str, bytes or bytearray, not NoneType\n",
      "🔁 Attempting sentence split and translation...\n"
     ]
    },
    {
     "name": "stderr",
     "output_type": "stream",
     "text": [
      "Translating:  39%|█████████████████▋                           | 657/1668 [55:48<1:26:21,  5.13s/it]"
     ]
    },
    {
     "name": "stdout",
     "output_type": "stream",
     "text": [
      "result sent successfully\n",
      "Error translating with src=en (attempt 1): the JSON object must be str, bytes or bytearray, not NoneType\n",
      "Error translating with src=en (attempt 2): the JSON object must be str, bytes or bytearray, not NoneType\n",
      "🔁 Attempting sentence split and translation...\n"
     ]
    },
    {
     "name": "stderr",
     "output_type": "stream",
     "text": [
      "Translating:  39%|█████████████████▊                           | 658/1668 [55:54<1:30:43,  5.39s/it]"
     ]
    },
    {
     "name": "stdout",
     "output_type": "stream",
     "text": [
      "result sent successfully\n",
      "Error translating with src=en (attempt 1): the JSON object must be str, bytes or bytearray, not NoneType\n",
      "Error translating with src=en (attempt 2): the JSON object must be str, bytes or bytearray, not NoneType\n",
      "🔁 Attempting sentence split and translation...\n"
     ]
    },
    {
     "name": "stderr",
     "output_type": "stream",
     "text": [
      "Translating:  40%|█████████████████▊                           | 659/1668 [56:00<1:29:52,  5.34s/it]"
     ]
    },
    {
     "name": "stdout",
     "output_type": "stream",
     "text": [
      "result sent successfully\n",
      "Error translating with src=en (attempt 1): the JSON object must be str, bytes or bytearray, not NoneType\n",
      "Error translating with src=en (attempt 2): the JSON object must be str, bytes or bytearray, not NoneType\n",
      "🔁 Attempting sentence split and translation...\n"
     ]
    },
    {
     "name": "stderr",
     "output_type": "stream",
     "text": [
      "Translating:  40%|█████████████████▊                           | 660/1668 [56:05<1:29:15,  5.31s/it]"
     ]
    },
    {
     "name": "stdout",
     "output_type": "stream",
     "text": [
      "result sent successfully\n",
      "Error translating with src=en (attempt 1): the JSON object must be str, bytes or bytearray, not NoneType\n",
      "Error translating with src=en (attempt 2): the JSON object must be str, bytes or bytearray, not NoneType\n",
      "🔁 Attempting sentence split and translation...\n"
     ]
    },
    {
     "name": "stderr",
     "output_type": "stream",
     "text": [
      "Translating:  40%|█████████████████▊                           | 661/1668 [56:10<1:27:16,  5.20s/it]"
     ]
    },
    {
     "name": "stdout",
     "output_type": "stream",
     "text": [
      "result sent successfully\n",
      "Error translating with src=en (attempt 1): the JSON object must be str, bytes or bytearray, not NoneType\n",
      "Error translating with src=en (attempt 2): the JSON object must be str, bytes or bytearray, not NoneType\n",
      "🔁 Attempting sentence split and translation...\n"
     ]
    },
    {
     "name": "stderr",
     "output_type": "stream",
     "text": [
      "Translating:  40%|█████████████████▊                           | 662/1668 [56:15<1:26:38,  5.17s/it]"
     ]
    },
    {
     "name": "stdout",
     "output_type": "stream",
     "text": [
      "result sent successfully\n",
      "Error translating with src=en (attempt 1): the JSON object must be str, bytes or bytearray, not NoneType\n",
      "Error translating with src=en (attempt 2): the JSON object must be str, bytes or bytearray, not NoneType\n",
      "🔁 Attempting sentence split and translation...\n"
     ]
    },
    {
     "name": "stderr",
     "output_type": "stream",
     "text": [
      "Translating:  40%|█████████████████▉                           | 663/1668 [56:20<1:26:51,  5.19s/it]"
     ]
    },
    {
     "name": "stdout",
     "output_type": "stream",
     "text": [
      "result sent successfully\n",
      "Error translating with src=en (attempt 1): the JSON object must be str, bytes or bytearray, not NoneType\n",
      "Error translating with src=en (attempt 2): the JSON object must be str, bytes or bytearray, not NoneType\n",
      "🔁 Attempting sentence split and translation...\n"
     ]
    },
    {
     "name": "stderr",
     "output_type": "stream",
     "text": [
      "Translating:  40%|█████████████████▉                           | 664/1668 [56:25<1:25:33,  5.11s/it]"
     ]
    },
    {
     "name": "stdout",
     "output_type": "stream",
     "text": [
      "result sent successfully\n",
      "Error translating with src=en (attempt 1): the JSON object must be str, bytes or bytearray, not NoneType\n",
      "Error translating with src=en (attempt 2): the JSON object must be str, bytes or bytearray, not NoneType\n",
      "🔁 Attempting sentence split and translation...\n"
     ]
    },
    {
     "name": "stderr",
     "output_type": "stream",
     "text": [
      "Translating:  40%|█████████████████▉                           | 665/1668 [56:30<1:26:08,  5.15s/it]"
     ]
    },
    {
     "name": "stdout",
     "output_type": "stream",
     "text": [
      "result sent successfully\n",
      "Error translating with src=en (attempt 1): the JSON object must be str, bytes or bytearray, not NoneType\n",
      "Error translating with src=en (attempt 2): the JSON object must be str, bytes or bytearray, not NoneType\n",
      "🔁 Attempting sentence split and translation...\n"
     ]
    },
    {
     "name": "stderr",
     "output_type": "stream",
     "text": [
      "Translating:  40%|█████████████████▉                           | 666/1668 [56:35<1:24:58,  5.09s/it]"
     ]
    },
    {
     "name": "stdout",
     "output_type": "stream",
     "text": [
      "result sent successfully\n",
      "Error translating with src=en (attempt 1): the JSON object must be str, bytes or bytearray, not NoneType\n",
      "Error translating with src=en (attempt 2): the JSON object must be str, bytes or bytearray, not NoneType\n",
      "🔁 Attempting sentence split and translation...\n"
     ]
    },
    {
     "name": "stderr",
     "output_type": "stream",
     "text": [
      "Translating:  40%|█████████████████▉                           | 667/1668 [56:40<1:24:15,  5.05s/it]"
     ]
    },
    {
     "name": "stdout",
     "output_type": "stream",
     "text": [
      "result sent successfully\n",
      "Error translating with src=en (attempt 1): the JSON object must be str, bytes or bytearray, not NoneType\n",
      "Error translating with src=en (attempt 2): the JSON object must be str, bytes or bytearray, not NoneType\n",
      "🔁 Attempting sentence split and translation...\n"
     ]
    },
    {
     "name": "stderr",
     "output_type": "stream",
     "text": [
      "Translating:  40%|██████████████████                           | 668/1668 [56:45<1:24:53,  5.09s/it]"
     ]
    },
    {
     "name": "stdout",
     "output_type": "stream",
     "text": [
      "result sent successfully\n",
      "Error translating with src=en (attempt 1): the JSON object must be str, bytes or bytearray, not NoneType\n",
      "Error translating with src=en (attempt 2): the JSON object must be str, bytes or bytearray, not NoneType\n",
      "🔁 Attempting sentence split and translation...\n"
     ]
    },
    {
     "name": "stderr",
     "output_type": "stream",
     "text": [
      "Translating:  40%|██████████████████                           | 669/1668 [56:50<1:24:47,  5.09s/it]"
     ]
    },
    {
     "name": "stdout",
     "output_type": "stream",
     "text": [
      "result sent successfully\n",
      "Error translating with src=en (attempt 1): the JSON object must be str, bytes or bytearray, not NoneType\n",
      "Error translating with src=en (attempt 2): the JSON object must be str, bytes or bytearray, not NoneType\n",
      "🔁 Attempting sentence split and translation...\n"
     ]
    },
    {
     "name": "stderr",
     "output_type": "stream",
     "text": [
      "Translating:  40%|██████████████████                           | 670/1668 [56:56<1:25:28,  5.14s/it]"
     ]
    },
    {
     "name": "stdout",
     "output_type": "stream",
     "text": [
      "result sent successfully\n",
      "Error translating with src=en (attempt 1): the JSON object must be str, bytes or bytearray, not NoneType\n",
      "Error translating with src=en (attempt 2): the JSON object must be str, bytes or bytearray, not NoneType\n",
      "🔁 Attempting sentence split and translation...\n"
     ]
    },
    {
     "name": "stderr",
     "output_type": "stream",
     "text": [
      "Translating:  40%|██████████████████                           | 671/1668 [57:01<1:25:09,  5.13s/it]"
     ]
    },
    {
     "name": "stdout",
     "output_type": "stream",
     "text": [
      "result sent successfully\n",
      "Error translating with src=en (attempt 1): the JSON object must be str, bytes or bytearray, not NoneType\n",
      "Error translating with src=en (attempt 2): the JSON object must be str, bytes or bytearray, not NoneType\n",
      "🔁 Attempting sentence split and translation...\n"
     ]
    },
    {
     "name": "stderr",
     "output_type": "stream",
     "text": [
      "Translating:  40%|██████████████████▏                          | 672/1668 [57:06<1:24:11,  5.07s/it]"
     ]
    },
    {
     "name": "stdout",
     "output_type": "stream",
     "text": [
      "result sent successfully\n",
      "Error translating with src=en (attempt 1): the JSON object must be str, bytes or bytearray, not NoneType\n",
      "Error translating with src=en (attempt 2): the JSON object must be str, bytes or bytearray, not NoneType\n",
      "🔁 Attempting sentence split and translation...\n"
     ]
    },
    {
     "name": "stderr",
     "output_type": "stream",
     "text": [
      "Translating:  40%|██████████████████▏                          | 673/1668 [57:11<1:24:07,  5.07s/it]"
     ]
    },
    {
     "name": "stdout",
     "output_type": "stream",
     "text": [
      "result sent successfully\n",
      "Error translating with src=en (attempt 1): the JSON object must be str, bytes or bytearray, not NoneType\n",
      "Error translating with src=en (attempt 2): the JSON object must be str, bytes or bytearray, not NoneType\n",
      "🔁 Attempting sentence split and translation...\n"
     ]
    },
    {
     "name": "stderr",
     "output_type": "stream",
     "text": [
      "Translating:  40%|██████████████████▏                          | 674/1668 [57:16<1:24:13,  5.08s/it]"
     ]
    },
    {
     "name": "stdout",
     "output_type": "stream",
     "text": [
      "result sent successfully\n",
      "Error translating with src=en (attempt 1): the JSON object must be str, bytes or bytearray, not NoneType\n",
      "Error translating with src=en (attempt 2): the JSON object must be str, bytes or bytearray, not NoneType\n",
      "🔁 Attempting sentence split and translation...\n"
     ]
    },
    {
     "name": "stderr",
     "output_type": "stream",
     "text": [
      "Translating:  40%|██████████████████▏                          | 675/1668 [57:21<1:24:01,  5.08s/it]"
     ]
    },
    {
     "name": "stdout",
     "output_type": "stream",
     "text": [
      "result sent successfully\n",
      "Error translating with src=en (attempt 1): the JSON object must be str, bytes or bytearray, not NoneType\n",
      "Error translating with src=en (attempt 2): the JSON object must be str, bytes or bytearray, not NoneType\n",
      "🔁 Attempting sentence split and translation...\n"
     ]
    },
    {
     "name": "stderr",
     "output_type": "stream",
     "text": [
      "Translating:  41%|██████████████████▏                          | 676/1668 [57:26<1:23:54,  5.07s/it]"
     ]
    },
    {
     "name": "stdout",
     "output_type": "stream",
     "text": [
      "result sent successfully\n",
      "Error translating with src=en (attempt 1): the JSON object must be str, bytes or bytearray, not NoneType\n",
      "Error translating with src=en (attempt 2): the JSON object must be str, bytes or bytearray, not NoneType\n",
      "🔁 Attempting sentence split and translation...\n"
     ]
    },
    {
     "name": "stderr",
     "output_type": "stream",
     "text": [
      "Translating:  41%|██████████████████▎                          | 677/1668 [57:31<1:24:39,  5.13s/it]"
     ]
    },
    {
     "name": "stdout",
     "output_type": "stream",
     "text": [
      "result sent successfully\n",
      "Error translating with src=en (attempt 1): the JSON object must be str, bytes or bytearray, not NoneType\n",
      "Error translating with src=en (attempt 2): the JSON object must be str, bytes or bytearray, not NoneType\n",
      "🔁 Attempting sentence split and translation...\n"
     ]
    },
    {
     "name": "stderr",
     "output_type": "stream",
     "text": [
      "Translating:  41%|██████████████████▎                          | 678/1668 [57:36<1:23:51,  5.08s/it]"
     ]
    },
    {
     "name": "stdout",
     "output_type": "stream",
     "text": [
      "result sent successfully\n",
      "Error translating with src=en (attempt 1): the JSON object must be str, bytes or bytearray, not NoneType\n",
      "Error translating with src=en (attempt 2): the JSON object must be str, bytes or bytearray, not NoneType\n",
      "🔁 Attempting sentence split and translation...\n"
     ]
    },
    {
     "name": "stderr",
     "output_type": "stream",
     "text": [
      "Translating:  41%|██████████████████▎                          | 679/1668 [57:41<1:23:48,  5.08s/it]"
     ]
    },
    {
     "name": "stdout",
     "output_type": "stream",
     "text": [
      "result sent successfully\n",
      "Error translating with src=en (attempt 1): the JSON object must be str, bytes or bytearray, not NoneType\n",
      "Error translating with src=en (attempt 2): the JSON object must be str, bytes or bytearray, not NoneType\n",
      "🔁 Attempting sentence split and translation...\n"
     ]
    },
    {
     "name": "stderr",
     "output_type": "stream",
     "text": [
      "Translating:  41%|██████████████████▎                          | 680/1668 [57:47<1:25:19,  5.18s/it]"
     ]
    },
    {
     "name": "stdout",
     "output_type": "stream",
     "text": [
      "result sent successfully\n",
      "Error translating with src=en (attempt 1): the JSON object must be str, bytes or bytearray, not NoneType\n",
      "Error translating with src=en (attempt 2): the JSON object must be str, bytes or bytearray, not NoneType\n",
      "🔁 Attempting sentence split and translation...\n"
     ]
    },
    {
     "name": "stderr",
     "output_type": "stream",
     "text": [
      "Translating:  41%|██████████████████▎                          | 681/1668 [57:52<1:26:13,  5.24s/it]"
     ]
    },
    {
     "name": "stdout",
     "output_type": "stream",
     "text": [
      "result sent successfully\n",
      "Error translating with src=en (attempt 1): the JSON object must be str, bytes or bytearray, not NoneType\n",
      "Error translating with src=en (attempt 2): the JSON object must be str, bytes or bytearray, not NoneType\n",
      "🔁 Attempting sentence split and translation...\n"
     ]
    },
    {
     "name": "stderr",
     "output_type": "stream",
     "text": [
      "Translating:  41%|██████████████████▍                          | 682/1668 [57:57<1:24:32,  5.14s/it]"
     ]
    },
    {
     "name": "stdout",
     "output_type": "stream",
     "text": [
      "result sent successfully\n",
      "Error translating with src=en (attempt 1): the JSON object must be str, bytes or bytearray, not NoneType\n",
      "Error translating with src=en (attempt 2): the JSON object must be str, bytes or bytearray, not NoneType\n",
      "🔁 Attempting sentence split and translation...\n"
     ]
    },
    {
     "name": "stderr",
     "output_type": "stream",
     "text": [
      "Translating:  41%|██████████████████▍                          | 683/1668 [58:02<1:24:49,  5.17s/it]"
     ]
    },
    {
     "name": "stdout",
     "output_type": "stream",
     "text": [
      "result sent successfully\n",
      "Error translating with src=en (attempt 1): the JSON object must be str, bytes or bytearray, not NoneType\n",
      "Error translating with src=en (attempt 2): the JSON object must be str, bytes or bytearray, not NoneType\n",
      "🔁 Attempting sentence split and translation...\n"
     ]
    },
    {
     "name": "stderr",
     "output_type": "stream",
     "text": [
      "Translating:  41%|██████████████████▍                          | 684/1668 [58:07<1:23:29,  5.09s/it]"
     ]
    },
    {
     "name": "stdout",
     "output_type": "stream",
     "text": [
      "result sent successfully\n",
      "Error translating with src=en (attempt 1): the JSON object must be str, bytes or bytearray, not NoneType\n",
      "Error translating with src=en (attempt 2): the JSON object must be str, bytes or bytearray, not NoneType\n",
      "🔁 Attempting sentence split and translation...\n"
     ]
    },
    {
     "name": "stderr",
     "output_type": "stream",
     "text": [
      "Translating:  41%|██████████████████▍                          | 685/1668 [58:12<1:22:42,  5.05s/it]"
     ]
    },
    {
     "name": "stdout",
     "output_type": "stream",
     "text": [
      "result sent successfully\n",
      "Error translating with src=en (attempt 1): the JSON object must be str, bytes or bytearray, not NoneType\n",
      "Error translating with src=en (attempt 2): the JSON object must be str, bytes or bytearray, not NoneType\n",
      "🔁 Attempting sentence split and translation...\n"
     ]
    },
    {
     "name": "stderr",
     "output_type": "stream",
     "text": [
      "Translating:  41%|██████████████████▌                          | 686/1668 [58:17<1:22:01,  5.01s/it]"
     ]
    },
    {
     "name": "stdout",
     "output_type": "stream",
     "text": [
      "result sent successfully\n",
      "Error translating with src=en (attempt 1): the JSON object must be str, bytes or bytearray, not NoneType\n",
      "Error translating with src=en (attempt 2): the JSON object must be str, bytes or bytearray, not NoneType\n",
      "🔁 Attempting sentence split and translation...\n"
     ]
    },
    {
     "name": "stderr",
     "output_type": "stream",
     "text": [
      "Translating:  41%|██████████████████▌                          | 687/1668 [58:22<1:21:34,  4.99s/it]"
     ]
    },
    {
     "name": "stdout",
     "output_type": "stream",
     "text": [
      "result sent successfully\n",
      "Error translating with src=en (attempt 1): the JSON object must be str, bytes or bytearray, not NoneType\n",
      "Error translating with src=en (attempt 2): the JSON object must be str, bytes or bytearray, not NoneType\n",
      "🔁 Attempting sentence split and translation...\n"
     ]
    },
    {
     "name": "stderr",
     "output_type": "stream",
     "text": [
      "Translating:  41%|██████████████████▌                          | 688/1668 [58:27<1:21:10,  4.97s/it]"
     ]
    },
    {
     "name": "stdout",
     "output_type": "stream",
     "text": [
      "result sent successfully\n",
      "Error translating with src=en (attempt 1): the JSON object must be str, bytes or bytearray, not NoneType\n",
      "Error translating with src=en (attempt 2): the JSON object must be str, bytes or bytearray, not NoneType\n",
      "🔁 Attempting sentence split and translation...\n"
     ]
    },
    {
     "name": "stderr",
     "output_type": "stream",
     "text": [
      "Translating:  41%|██████████████████▌                          | 689/1668 [58:32<1:20:54,  4.96s/it]"
     ]
    },
    {
     "name": "stdout",
     "output_type": "stream",
     "text": [
      "result sent successfully\n",
      "Error translating with src=en (attempt 1): the JSON object must be str, bytes or bytearray, not NoneType\n",
      "Error translating with src=en (attempt 2): the JSON object must be str, bytes or bytearray, not NoneType\n",
      "🔁 Attempting sentence split and translation...\n"
     ]
    },
    {
     "name": "stderr",
     "output_type": "stream",
     "text": [
      "Translating:  41%|██████████████████▌                          | 690/1668 [58:37<1:21:27,  5.00s/it]"
     ]
    },
    {
     "name": "stdout",
     "output_type": "stream",
     "text": [
      "result sent successfully\n",
      "Error translating with src=en (attempt 1): the JSON object must be str, bytes or bytearray, not NoneType\n",
      "Error translating with src=en (attempt 2): the JSON object must be str, bytes or bytearray, not NoneType\n",
      "🔁 Attempting sentence split and translation...\n"
     ]
    },
    {
     "name": "stderr",
     "output_type": "stream",
     "text": [
      "Translating:  41%|██████████████████▋                          | 691/1668 [58:42<1:21:50,  5.03s/it]"
     ]
    },
    {
     "name": "stdout",
     "output_type": "stream",
     "text": [
      "result sent successfully\n",
      "Error translating with src=en (attempt 1): the JSON object must be str, bytes or bytearray, not NoneType\n",
      "Error translating with src=en (attempt 2): the JSON object must be str, bytes or bytearray, not NoneType\n",
      "🔁 Attempting sentence split and translation...\n"
     ]
    },
    {
     "name": "stderr",
     "output_type": "stream",
     "text": [
      "Translating:  41%|██████████████████▋                          | 692/1668 [58:47<1:21:18,  5.00s/it]"
     ]
    },
    {
     "name": "stdout",
     "output_type": "stream",
     "text": [
      "result sent successfully\n",
      "Error translating with src=en (attempt 1): the JSON object must be str, bytes or bytearray, not NoneType\n",
      "Error translating with src=en (attempt 2): the JSON object must be str, bytes or bytearray, not NoneType\n",
      "🔁 Attempting sentence split and translation...\n"
     ]
    },
    {
     "name": "stderr",
     "output_type": "stream",
     "text": [
      "Translating:  42%|██████████████████▋                          | 693/1668 [58:52<1:22:17,  5.06s/it]"
     ]
    },
    {
     "name": "stdout",
     "output_type": "stream",
     "text": [
      "result sent successfully\n",
      "Error translating with src=en (attempt 1): the JSON object must be str, bytes or bytearray, not NoneType\n",
      "Error translating with src=en (attempt 2): the JSON object must be str, bytes or bytearray, not NoneType\n",
      "🔁 Attempting sentence split and translation...\n"
     ]
    },
    {
     "name": "stderr",
     "output_type": "stream",
     "text": [
      "Translating:  42%|██████████████████▋                          | 694/1668 [58:57<1:21:32,  5.02s/it]"
     ]
    },
    {
     "name": "stdout",
     "output_type": "stream",
     "text": [
      "result sent successfully\n",
      "Error translating with src=en (attempt 1): the JSON object must be str, bytes or bytearray, not NoneType\n",
      "Error translating with src=en (attempt 2): the JSON object must be str, bytes or bytearray, not NoneType\n",
      "🔁 Attempting sentence split and translation...\n"
     ]
    },
    {
     "name": "stderr",
     "output_type": "stream",
     "text": [
      "Translating:  42%|██████████████████▊                          | 695/1668 [59:02<1:21:01,  5.00s/it]"
     ]
    },
    {
     "name": "stdout",
     "output_type": "stream",
     "text": [
      "result sent successfully\n",
      "Error translating with src=en (attempt 1): the JSON object must be str, bytes or bytearray, not NoneType\n",
      "Error translating with src=en (attempt 2): the JSON object must be str, bytes or bytearray, not NoneType\n",
      "🔁 Attempting sentence split and translation...\n"
     ]
    },
    {
     "name": "stderr",
     "output_type": "stream",
     "text": [
      "Translating:  42%|██████████████████▊                          | 696/1668 [59:07<1:22:10,  5.07s/it]"
     ]
    },
    {
     "name": "stdout",
     "output_type": "stream",
     "text": [
      "result sent successfully\n",
      "Error translating with src=en (attempt 1): the JSON object must be str, bytes or bytearray, not NoneType\n",
      "Error translating with src=en (attempt 2): the JSON object must be str, bytes or bytearray, not NoneType\n",
      "🔁 Attempting sentence split and translation...\n"
     ]
    },
    {
     "name": "stderr",
     "output_type": "stream",
     "text": [
      "Translating:  42%|██████████████████▊                          | 697/1668 [59:12<1:22:08,  5.08s/it]"
     ]
    },
    {
     "name": "stdout",
     "output_type": "stream",
     "text": [
      "result sent successfully\n",
      "Error translating with src=en (attempt 1): the JSON object must be str, bytes or bytearray, not NoneType\n",
      "Error translating with src=en (attempt 2): the JSON object must be str, bytes or bytearray, not NoneType\n",
      "🔁 Attempting sentence split and translation...\n"
     ]
    },
    {
     "name": "stderr",
     "output_type": "stream",
     "text": [
      "Translating:  42%|██████████████████▊                          | 698/1668 [59:17<1:21:21,  5.03s/it]"
     ]
    },
    {
     "name": "stdout",
     "output_type": "stream",
     "text": [
      "result sent successfully\n",
      "Error translating with src=en (attempt 1): the JSON object must be str, bytes or bytearray, not NoneType\n",
      "Error translating with src=en (attempt 2): the JSON object must be str, bytes or bytearray, not NoneType\n",
      "🔁 Attempting sentence split and translation...\n"
     ]
    },
    {
     "name": "stderr",
     "output_type": "stream",
     "text": [
      "Translating:  42%|██████████████████▊                          | 699/1668 [59:23<1:22:58,  5.14s/it]"
     ]
    },
    {
     "name": "stdout",
     "output_type": "stream",
     "text": [
      "result sent successfully\n",
      "Error translating with src=en (attempt 1): the JSON object must be str, bytes or bytearray, not NoneType\n",
      "Error translating with src=en (attempt 2): the JSON object must be str, bytes or bytearray, not NoneType\n",
      "🔁 Attempting sentence split and translation...\n"
     ]
    },
    {
     "name": "stderr",
     "output_type": "stream",
     "text": [
      "Translating:  42%|██████████████████▉                          | 700/1668 [59:28<1:22:07,  5.09s/it]"
     ]
    },
    {
     "name": "stdout",
     "output_type": "stream",
     "text": [
      "result sent successfully\n",
      "Error translating with src=en (attempt 1): the JSON object must be str, bytes or bytearray, not NoneType\n",
      "Error translating with src=en (attempt 2): the JSON object must be str, bytes or bytearray, not NoneType\n",
      "🔁 Attempting sentence split and translation...\n"
     ]
    },
    {
     "name": "stderr",
     "output_type": "stream",
     "text": [
      "Translating:  42%|██████████████████▉                          | 701/1668 [59:33<1:22:04,  5.09s/it]"
     ]
    },
    {
     "name": "stdout",
     "output_type": "stream",
     "text": [
      "result sent successfully\n",
      "Error translating with src=en (attempt 1): the JSON object must be str, bytes or bytearray, not NoneType\n",
      "Error translating with src=en (attempt 2): the JSON object must be str, bytes or bytearray, not NoneType\n",
      "🔁 Attempting sentence split and translation...\n"
     ]
    },
    {
     "name": "stderr",
     "output_type": "stream",
     "text": [
      "Translating:  42%|██████████████████▉                          | 702/1668 [59:38<1:21:16,  5.05s/it]"
     ]
    },
    {
     "name": "stdout",
     "output_type": "stream",
     "text": [
      "result sent successfully\n",
      "Error translating with src=en (attempt 1): the JSON object must be str, bytes or bytearray, not NoneType\n",
      "Error translating with src=en (attempt 2): the JSON object must be str, bytes or bytearray, not NoneType\n",
      "🔁 Attempting sentence split and translation...\n"
     ]
    },
    {
     "name": "stderr",
     "output_type": "stream",
     "text": [
      "Translating:  42%|██████████████████▉                          | 703/1668 [59:43<1:22:45,  5.15s/it]"
     ]
    },
    {
     "name": "stdout",
     "output_type": "stream",
     "text": [
      "result sent successfully\n",
      "Error translating with src=en (attempt 1): the JSON object must be str, bytes or bytearray, not NoneType\n",
      "Error translating with src=en (attempt 2): the JSON object must be str, bytes or bytearray, not NoneType\n",
      "🔁 Attempting sentence split and translation...\n"
     ]
    },
    {
     "name": "stderr",
     "output_type": "stream",
     "text": [
      "Translating:  42%|██████████████████▉                          | 704/1668 [59:48<1:22:26,  5.13s/it]"
     ]
    },
    {
     "name": "stdout",
     "output_type": "stream",
     "text": [
      "result sent successfully\n",
      "Error translating with src=en (attempt 1): the JSON object must be str, bytes or bytearray, not NoneType\n",
      "Error translating with src=en (attempt 2): the JSON object must be str, bytes or bytearray, not NoneType\n",
      "🔁 Attempting sentence split and translation...\n"
     ]
    },
    {
     "name": "stderr",
     "output_type": "stream",
     "text": [
      "Translating:  42%|███████████████████                          | 705/1668 [59:53<1:22:57,  5.17s/it]"
     ]
    },
    {
     "name": "stdout",
     "output_type": "stream",
     "text": [
      "result sent successfully\n",
      "Error translating with src=en (attempt 1): the JSON object must be str, bytes or bytearray, not NoneType\n",
      "Error translating with src=en (attempt 2): the JSON object must be str, bytes or bytearray, not NoneType\n",
      "🔁 Attempting sentence split and translation...\n"
     ]
    },
    {
     "name": "stderr",
     "output_type": "stream",
     "text": [
      "Translating:  42%|███████████████████                          | 706/1668 [59:59<1:22:41,  5.16s/it]"
     ]
    },
    {
     "name": "stdout",
     "output_type": "stream",
     "text": [
      "result sent successfully\n",
      "Error translating with src=en (attempt 1): the JSON object must be str, bytes or bytearray, not NoneType\n",
      "Error translating with src=en (attempt 2): the JSON object must be str, bytes or bytearray, not NoneType\n",
      "🔁 Attempting sentence split and translation...\n"
     ]
    },
    {
     "name": "stderr",
     "output_type": "stream",
     "text": [
      "Translating:  42%|██████████████████▏                        | 707/1668 [1:00:04<1:21:30,  5.09s/it]"
     ]
    },
    {
     "name": "stdout",
     "output_type": "stream",
     "text": [
      "result sent successfully\n",
      "Error translating with src=en (attempt 1): the JSON object must be str, bytes or bytearray, not NoneType\n",
      "Error translating with src=en (attempt 2): the JSON object must be str, bytes or bytearray, not NoneType\n",
      "🔁 Attempting sentence split and translation...\n"
     ]
    },
    {
     "name": "stderr",
     "output_type": "stream",
     "text": [
      "Translating:  42%|██████████████████▎                        | 708/1668 [1:00:09<1:23:28,  5.22s/it]"
     ]
    },
    {
     "name": "stdout",
     "output_type": "stream",
     "text": [
      "result sent successfully\n",
      "Error translating with src=en (attempt 1): the JSON object must be str, bytes or bytearray, not NoneType\n",
      "Error translating with src=en (attempt 2): the JSON object must be str, bytes or bytearray, not NoneType\n",
      "🔁 Attempting sentence split and translation...\n"
     ]
    },
    {
     "name": "stderr",
     "output_type": "stream",
     "text": [
      "Translating:  43%|██████████████████▎                        | 709/1668 [1:00:14<1:24:17,  5.27s/it]"
     ]
    },
    {
     "name": "stdout",
     "output_type": "stream",
     "text": [
      "result sent successfully\n",
      "Error translating with src=en (attempt 1): the JSON object must be str, bytes or bytearray, not NoneType\n",
      "Error translating with src=en (attempt 2): the JSON object must be str, bytes or bytearray, not NoneType\n",
      "🔁 Attempting sentence split and translation...\n"
     ]
    },
    {
     "name": "stderr",
     "output_type": "stream",
     "text": [
      "Translating:  43%|██████████████████▎                        | 710/1668 [1:00:20<1:26:06,  5.39s/it]"
     ]
    },
    {
     "name": "stdout",
     "output_type": "stream",
     "text": [
      "result sent successfully\n",
      "Error translating with src=en (attempt 1): the JSON object must be str, bytes or bytearray, not NoneType\n",
      "Error translating with src=en (attempt 2): the JSON object must be str, bytes or bytearray, not NoneType\n",
      "🔁 Attempting sentence split and translation...\n"
     ]
    },
    {
     "name": "stderr",
     "output_type": "stream",
     "text": [
      "Translating:  43%|██████████████████▎                        | 711/1668 [1:00:25<1:24:32,  5.30s/it]"
     ]
    },
    {
     "name": "stdout",
     "output_type": "stream",
     "text": [
      "result sent successfully\n",
      "Error translating with src=en (attempt 1): the JSON object must be str, bytes or bytearray, not NoneType\n",
      "Error translating with src=en (attempt 2): the JSON object must be str, bytes or bytearray, not NoneType\n",
      "🔁 Attempting sentence split and translation...\n"
     ]
    },
    {
     "name": "stderr",
     "output_type": "stream",
     "text": [
      "Translating:  43%|██████████████████▎                        | 712/1668 [1:00:30<1:22:36,  5.18s/it]"
     ]
    },
    {
     "name": "stdout",
     "output_type": "stream",
     "text": [
      "result sent successfully\n",
      "Error translating with src=en (attempt 1): the JSON object must be str, bytes or bytearray, not NoneType\n",
      "Error translating with src=en (attempt 2): the JSON object must be str, bytes or bytearray, not NoneType\n",
      "🔁 Attempting sentence split and translation...\n"
     ]
    },
    {
     "name": "stderr",
     "output_type": "stream",
     "text": [
      "Translating:  43%|██████████████████▍                        | 713/1668 [1:00:35<1:21:59,  5.15s/it]"
     ]
    },
    {
     "name": "stdout",
     "output_type": "stream",
     "text": [
      "result sent successfully\n",
      "Error translating with src=en (attempt 1): the JSON object must be str, bytes or bytearray, not NoneType\n",
      "Error translating with src=en (attempt 2): the JSON object must be str, bytes or bytearray, not NoneType\n",
      "🔁 Attempting sentence split and translation...\n"
     ]
    },
    {
     "name": "stderr",
     "output_type": "stream",
     "text": [
      "Translating:  43%|██████████████████▍                        | 714/1668 [1:00:40<1:22:14,  5.17s/it]"
     ]
    },
    {
     "name": "stdout",
     "output_type": "stream",
     "text": [
      "result sent successfully\n",
      "Error translating with src=en (attempt 1): the JSON object must be str, bytes or bytearray, not NoneType\n",
      "Error translating with src=en (attempt 2): the JSON object must be str, bytes or bytearray, not NoneType\n",
      "🔁 Attempting sentence split and translation...\n"
     ]
    },
    {
     "name": "stderr",
     "output_type": "stream",
     "text": [
      "Translating:  43%|██████████████████▍                        | 715/1668 [1:00:45<1:21:01,  5.10s/it]"
     ]
    },
    {
     "name": "stdout",
     "output_type": "stream",
     "text": [
      "result sent successfully\n",
      "Error translating with src=en (attempt 1): the JSON object must be str, bytes or bytearray, not NoneType\n",
      "Error translating with src=en (attempt 2): the JSON object must be str, bytes or bytearray, not NoneType\n",
      "🔁 Attempting sentence split and translation...\n"
     ]
    },
    {
     "name": "stderr",
     "output_type": "stream",
     "text": [
      "Translating:  43%|██████████████████▍                        | 716/1668 [1:00:50<1:20:16,  5.06s/it]"
     ]
    },
    {
     "name": "stdout",
     "output_type": "stream",
     "text": [
      "result sent successfully\n",
      "Error translating with src=en (attempt 1): the JSON object must be str, bytes or bytearray, not NoneType\n",
      "Error translating with src=en (attempt 2): the JSON object must be str, bytes or bytearray, not NoneType\n",
      "🔁 Attempting sentence split and translation...\n"
     ]
    },
    {
     "name": "stderr",
     "output_type": "stream",
     "text": [
      "Translating:  43%|██████████████████▍                        | 717/1668 [1:00:55<1:20:23,  5.07s/it]"
     ]
    },
    {
     "name": "stdout",
     "output_type": "stream",
     "text": [
      "result sent successfully\n",
      "Error translating with src=en (attempt 1): the JSON object must be str, bytes or bytearray, not NoneType\n",
      "Error translating with src=en (attempt 2): the JSON object must be str, bytes or bytearray, not NoneType\n",
      "🔁 Attempting sentence split and translation...\n"
     ]
    },
    {
     "name": "stderr",
     "output_type": "stream",
     "text": [
      "Translating:  43%|██████████████████▌                        | 718/1668 [1:01:01<1:20:31,  5.09s/it]"
     ]
    },
    {
     "name": "stdout",
     "output_type": "stream",
     "text": [
      "result sent successfully\n",
      "Error translating with src=en (attempt 1): the JSON object must be str, bytes or bytearray, not NoneType\n",
      "Error translating with src=en (attempt 2): the JSON object must be str, bytes or bytearray, not NoneType\n",
      "🔁 Attempting sentence split and translation...\n"
     ]
    },
    {
     "name": "stderr",
     "output_type": "stream",
     "text": [
      "Translating:  43%|██████████████████▌                        | 719/1668 [1:01:06<1:20:22,  5.08s/it]"
     ]
    },
    {
     "name": "stdout",
     "output_type": "stream",
     "text": [
      "result sent successfully\n",
      "Error translating with src=en (attempt 1): the JSON object must be str, bytes or bytearray, not NoneType\n",
      "Error translating with src=en (attempt 2): the JSON object must be str, bytes or bytearray, not NoneType\n",
      "🔁 Attempting sentence split and translation...\n"
     ]
    },
    {
     "name": "stderr",
     "output_type": "stream",
     "text": [
      "Translating:  43%|██████████████████▌                        | 720/1668 [1:01:11<1:19:33,  5.04s/it]"
     ]
    },
    {
     "name": "stdout",
     "output_type": "stream",
     "text": [
      "result sent successfully\n",
      "Error translating with src=en (attempt 1): the JSON object must be str, bytes or bytearray, not NoneType\n",
      "Error translating with src=en (attempt 2): the JSON object must be str, bytes or bytearray, not NoneType\n",
      "🔁 Attempting sentence split and translation...\n"
     ]
    },
    {
     "name": "stderr",
     "output_type": "stream",
     "text": [
      "Translating:  43%|██████████████████▌                        | 721/1668 [1:01:16<1:23:20,  5.28s/it]"
     ]
    },
    {
     "name": "stdout",
     "output_type": "stream",
     "text": [
      "result sent successfully\n",
      "Error translating with src=en (attempt 1): the JSON object must be str, bytes or bytearray, not NoneType\n",
      "Error translating with src=en (attempt 2): the JSON object must be str, bytes or bytearray, not NoneType\n",
      "🔁 Attempting sentence split and translation...\n"
     ]
    },
    {
     "name": "stderr",
     "output_type": "stream",
     "text": [
      "Translating:  43%|██████████████████▌                        | 722/1668 [1:01:21<1:22:15,  5.22s/it]"
     ]
    },
    {
     "name": "stdout",
     "output_type": "stream",
     "text": [
      "result sent successfully\n",
      "Error translating with src=en (attempt 1): the JSON object must be str, bytes or bytearray, not NoneType\n",
      "Error translating with src=en (attempt 2): the JSON object must be str, bytes or bytearray, not NoneType\n",
      "🔁 Attempting sentence split and translation...\n"
     ]
    },
    {
     "name": "stderr",
     "output_type": "stream",
     "text": [
      "Translating:  43%|██████████████████▋                        | 723/1668 [1:01:27<1:21:40,  5.19s/it]"
     ]
    },
    {
     "name": "stdout",
     "output_type": "stream",
     "text": [
      "result sent successfully\n",
      "Error translating with src=en (attempt 1): the JSON object must be str, bytes or bytearray, not NoneType\n",
      "Error translating with src=en (attempt 2): the JSON object must be str, bytes or bytearray, not NoneType\n",
      "🔁 Attempting sentence split and translation...\n"
     ]
    },
    {
     "name": "stderr",
     "output_type": "stream",
     "text": [
      "Translating:  43%|██████████████████▋                        | 724/1668 [1:01:32<1:22:42,  5.26s/it]"
     ]
    },
    {
     "name": "stdout",
     "output_type": "stream",
     "text": [
      "result sent successfully\n",
      "Error translating with src=en (attempt 1): the JSON object must be str, bytes or bytearray, not NoneType\n",
      "Error translating with src=en (attempt 2): the JSON object must be str, bytes or bytearray, not NoneType\n",
      "🔁 Attempting sentence split and translation...\n"
     ]
    },
    {
     "name": "stderr",
     "output_type": "stream",
     "text": [
      "Translating:  43%|██████████████████▋                        | 725/1668 [1:01:37<1:23:50,  5.33s/it]"
     ]
    },
    {
     "name": "stdout",
     "output_type": "stream",
     "text": [
      "result sent successfully\n",
      "Error translating with src=en (attempt 1): the JSON object must be str, bytes or bytearray, not NoneType\n",
      "Error translating with src=en (attempt 2): the JSON object must be str, bytes or bytearray, not NoneType\n",
      "🔁 Attempting sentence split and translation...\n"
     ]
    },
    {
     "name": "stderr",
     "output_type": "stream",
     "text": [
      "Translating:  44%|██████████████████▋                        | 726/1668 [1:01:42<1:21:47,  5.21s/it]"
     ]
    },
    {
     "name": "stdout",
     "output_type": "stream",
     "text": [
      "result sent successfully\n",
      "Error translating with src=en (attempt 1): the JSON object must be str, bytes or bytearray, not NoneType\n",
      "Error translating with src=en (attempt 2): the JSON object must be str, bytes or bytearray, not NoneType\n",
      "🔁 Attempting sentence split and translation...\n"
     ]
    },
    {
     "name": "stderr",
     "output_type": "stream",
     "text": [
      "Translating:  44%|██████████████████▋                        | 727/1668 [1:01:47<1:20:15,  5.12s/it]"
     ]
    },
    {
     "name": "stdout",
     "output_type": "stream",
     "text": [
      "result sent successfully\n",
      "Error translating with src=en (attempt 1): the JSON object must be str, bytes or bytearray, not NoneType\n",
      "Error translating with src=en (attempt 2): the JSON object must be str, bytes or bytearray, not NoneType\n",
      "🔁 Attempting sentence split and translation...\n"
     ]
    },
    {
     "name": "stderr",
     "output_type": "stream",
     "text": [
      "Translating:  44%|██████████████████▊                        | 728/1668 [1:01:52<1:19:20,  5.06s/it]"
     ]
    },
    {
     "name": "stdout",
     "output_type": "stream",
     "text": [
      "result sent successfully\n",
      "Error translating with src=en (attempt 1): the JSON object must be str, bytes or bytearray, not NoneType\n",
      "Error translating with src=en (attempt 2): the JSON object must be str, bytes or bytearray, not NoneType\n",
      "🔁 Attempting sentence split and translation...\n"
     ]
    },
    {
     "name": "stderr",
     "output_type": "stream",
     "text": [
      "Translating:  44%|██████████████████▊                        | 729/1668 [1:01:57<1:19:24,  5.07s/it]"
     ]
    },
    {
     "name": "stdout",
     "output_type": "stream",
     "text": [
      "result sent successfully\n",
      "Error translating with src=en (attempt 1): the JSON object must be str, bytes or bytearray, not NoneType\n",
      "Error translating with src=en (attempt 2): the JSON object must be str, bytes or bytearray, not NoneType\n",
      "🔁 Attempting sentence split and translation...\n"
     ]
    },
    {
     "name": "stderr",
     "output_type": "stream",
     "text": [
      "Translating:  44%|██████████████████▊                        | 730/1668 [1:02:02<1:19:18,  5.07s/it]"
     ]
    },
    {
     "name": "stdout",
     "output_type": "stream",
     "text": [
      "result sent successfully\n",
      "Error translating with src=en (attempt 1): the JSON object must be str, bytes or bytearray, not NoneType\n",
      "Error translating with src=en (attempt 2): the JSON object must be str, bytes or bytearray, not NoneType\n",
      "🔁 Attempting sentence split and translation...\n"
     ]
    },
    {
     "name": "stderr",
     "output_type": "stream",
     "text": [
      "Translating:  44%|██████████████████▊                        | 731/1668 [1:02:07<1:18:34,  5.03s/it]"
     ]
    },
    {
     "name": "stdout",
     "output_type": "stream",
     "text": [
      "result sent successfully\n",
      "Error translating with src=en (attempt 1): the JSON object must be str, bytes or bytearray, not NoneType\n",
      "Error translating with src=en (attempt 2): the JSON object must be str, bytes or bytearray, not NoneType\n",
      "🔁 Attempting sentence split and translation...\n"
     ]
    },
    {
     "name": "stderr",
     "output_type": "stream",
     "text": [
      "Translating:  44%|██████████████████▊                        | 732/1668 [1:02:12<1:17:57,  5.00s/it]"
     ]
    },
    {
     "name": "stdout",
     "output_type": "stream",
     "text": [
      "result sent successfully\n",
      "Error translating with src=en (attempt 1): the JSON object must be str, bytes or bytearray, not NoneType\n",
      "Error translating with src=en (attempt 2): the JSON object must be str, bytes or bytearray, not NoneType\n",
      "🔁 Attempting sentence split and translation...\n"
     ]
    },
    {
     "name": "stderr",
     "output_type": "stream",
     "text": [
      "Translating:  44%|██████████████████▉                        | 733/1668 [1:02:17<1:18:21,  5.03s/it]"
     ]
    },
    {
     "name": "stdout",
     "output_type": "stream",
     "text": [
      "result sent successfully\n",
      "Error translating with src=en (attempt 1): the JSON object must be str, bytes or bytearray, not NoneType\n",
      "Error translating with src=en (attempt 2): the JSON object must be str, bytes or bytearray, not NoneType\n",
      "🔁 Attempting sentence split and translation...\n"
     ]
    },
    {
     "name": "stderr",
     "output_type": "stream",
     "text": [
      "Translating:  44%|██████████████████▉                        | 734/1668 [1:02:23<1:19:08,  5.08s/it]"
     ]
    },
    {
     "name": "stdout",
     "output_type": "stream",
     "text": [
      "result sent successfully\n",
      "Error translating with src=en (attempt 1): the JSON object must be str, bytes or bytearray, not NoneType\n",
      "Error translating with src=en (attempt 2): the JSON object must be str, bytes or bytearray, not NoneType\n",
      "🔁 Attempting sentence split and translation...\n"
     ]
    },
    {
     "name": "stderr",
     "output_type": "stream",
     "text": [
      "Translating:  44%|██████████████████▉                        | 735/1668 [1:02:28<1:20:29,  5.18s/it]"
     ]
    },
    {
     "name": "stdout",
     "output_type": "stream",
     "text": [
      "result sent successfully\n",
      "Error translating with src=en (attempt 1): the JSON object must be str, bytes or bytearray, not NoneType\n",
      "Error translating with src=en (attempt 2): the JSON object must be str, bytes or bytearray, not NoneType\n",
      "🔁 Attempting sentence split and translation...\n"
     ]
    },
    {
     "name": "stderr",
     "output_type": "stream",
     "text": [
      "Translating:  44%|██████████████████▉                        | 736/1668 [1:02:33<1:19:55,  5.15s/it]"
     ]
    },
    {
     "name": "stdout",
     "output_type": "stream",
     "text": [
      "result sent successfully\n",
      "Error translating with src=en (attempt 1): the JSON object must be str, bytes or bytearray, not NoneType\n",
      "Error translating with src=en (attempt 2): the JSON object must be str, bytes or bytearray, not NoneType\n",
      "🔁 Attempting sentence split and translation...\n"
     ]
    },
    {
     "name": "stderr",
     "output_type": "stream",
     "text": [
      "Translating:  44%|██████████████████▉                        | 737/1668 [1:02:38<1:19:35,  5.13s/it]"
     ]
    },
    {
     "name": "stdout",
     "output_type": "stream",
     "text": [
      "result sent successfully\n",
      "Error translating with src=en (attempt 1): the JSON object must be str, bytes or bytearray, not NoneType\n",
      "Error translating with src=en (attempt 2): the JSON object must be str, bytes or bytearray, not NoneType\n",
      "🔁 Attempting sentence split and translation...\n"
     ]
    },
    {
     "name": "stderr",
     "output_type": "stream",
     "text": [
      "Translating:  44%|███████████████████                        | 738/1668 [1:02:43<1:18:35,  5.07s/it]"
     ]
    },
    {
     "name": "stdout",
     "output_type": "stream",
     "text": [
      "result sent successfully\n",
      "Error translating with src=en (attempt 1): the JSON object must be str, bytes or bytearray, not NoneType\n",
      "Error translating with src=en (attempt 2): the JSON object must be str, bytes or bytearray, not NoneType\n",
      "🔁 Attempting sentence split and translation...\n"
     ]
    },
    {
     "name": "stderr",
     "output_type": "stream",
     "text": [
      "Translating:  44%|███████████████████                        | 739/1668 [1:02:48<1:18:02,  5.04s/it]"
     ]
    },
    {
     "name": "stdout",
     "output_type": "stream",
     "text": [
      "result sent successfully\n",
      "Error translating with src=en (attempt 1): the JSON object must be str, bytes or bytearray, not NoneType\n",
      "Error translating with src=en (attempt 2): the JSON object must be str, bytes or bytearray, not NoneType\n",
      "🔁 Attempting sentence split and translation...\n"
     ]
    },
    {
     "name": "stderr",
     "output_type": "stream",
     "text": [
      "Translating:  44%|███████████████████                        | 740/1668 [1:02:53<1:17:33,  5.01s/it]"
     ]
    },
    {
     "name": "stdout",
     "output_type": "stream",
     "text": [
      "result sent successfully\n",
      "Error translating with src=en (attempt 1): the JSON object must be str, bytes or bytearray, not NoneType\n",
      "Error translating with src=en (attempt 2): the JSON object must be str, bytes or bytearray, not NoneType\n",
      "🔁 Attempting sentence split and translation...\n"
     ]
    },
    {
     "name": "stderr",
     "output_type": "stream",
     "text": [
      "Translating:  44%|███████████████████                        | 741/1668 [1:02:58<1:17:09,  4.99s/it]"
     ]
    },
    {
     "name": "stdout",
     "output_type": "stream",
     "text": [
      "result sent successfully\n",
      "Error translating with src=en (attempt 1): the JSON object must be str, bytes or bytearray, not NoneType\n",
      "Error translating with src=en (attempt 2): the JSON object must be str, bytes or bytearray, not NoneType\n",
      "🔁 Attempting sentence split and translation...\n"
     ]
    },
    {
     "name": "stderr",
     "output_type": "stream",
     "text": [
      "Translating:  44%|███████████████████▏                       | 742/1668 [1:03:03<1:17:30,  5.02s/it]"
     ]
    },
    {
     "name": "stdout",
     "output_type": "stream",
     "text": [
      "result sent successfully\n",
      "Error translating with src=en (attempt 1): the JSON object must be str, bytes or bytearray, not NoneType\n",
      "Error translating with src=en (attempt 2): the JSON object must be str, bytes or bytearray, not NoneType\n",
      "🔁 Attempting sentence split and translation...\n"
     ]
    },
    {
     "name": "stderr",
     "output_type": "stream",
     "text": [
      "Translating:  45%|███████████████████▏                       | 743/1668 [1:03:08<1:17:38,  5.04s/it]"
     ]
    },
    {
     "name": "stdout",
     "output_type": "stream",
     "text": [
      "result sent successfully\n",
      "Error translating with src=en (attempt 1): the JSON object must be str, bytes or bytearray, not NoneType\n",
      "Error translating with src=en (attempt 2): the JSON object must be str, bytes or bytearray, not NoneType\n",
      "🔁 Attempting sentence split and translation...\n"
     ]
    },
    {
     "name": "stderr",
     "output_type": "stream",
     "text": [
      "Translating:  45%|███████████████████▏                       | 744/1668 [1:03:13<1:17:05,  5.01s/it]"
     ]
    },
    {
     "name": "stdout",
     "output_type": "stream",
     "text": [
      "result sent successfully\n",
      "Error translating with src=en (attempt 1): the JSON object must be str, bytes or bytearray, not NoneType\n",
      "Error translating with src=en (attempt 2): the JSON object must be str, bytes or bytearray, not NoneType\n",
      "🔁 Attempting sentence split and translation...\n"
     ]
    },
    {
     "name": "stderr",
     "output_type": "stream",
     "text": [
      "Translating:  45%|███████████████████▏                       | 745/1668 [1:03:18<1:16:41,  4.99s/it]"
     ]
    },
    {
     "name": "stdout",
     "output_type": "stream",
     "text": [
      "result sent successfully\n",
      "Error translating with src=en (attempt 1): the JSON object must be str, bytes or bytearray, not NoneType\n",
      "Error translating with src=en (attempt 2): the JSON object must be str, bytes or bytearray, not NoneType\n",
      "🔁 Attempting sentence split and translation...\n"
     ]
    },
    {
     "name": "stderr",
     "output_type": "stream",
     "text": [
      "Translating:  45%|███████████████████▏                       | 746/1668 [1:03:24<1:19:10,  5.15s/it]"
     ]
    },
    {
     "name": "stdout",
     "output_type": "stream",
     "text": [
      "result sent successfully\n",
      "Error translating with src=en (attempt 1): the JSON object must be str, bytes or bytearray, not NoneType\n",
      "Error translating with src=en (attempt 2): the JSON object must be str, bytes or bytearray, not NoneType\n",
      "🔁 Attempting sentence split and translation...\n"
     ]
    },
    {
     "name": "stderr",
     "output_type": "stream",
     "text": [
      "Translating:  45%|███████████████████▎                       | 747/1668 [1:03:28<1:17:58,  5.08s/it]"
     ]
    },
    {
     "name": "stdout",
     "output_type": "stream",
     "text": [
      "result sent successfully\n",
      "Error translating with src=en (attempt 1): the JSON object must be str, bytes or bytearray, not NoneType\n",
      "Error translating with src=en (attempt 2): the JSON object must be str, bytes or bytearray, not NoneType\n",
      "🔁 Attempting sentence split and translation...\n"
     ]
    },
    {
     "name": "stderr",
     "output_type": "stream",
     "text": [
      "Translating:  45%|███████████████████▎                       | 748/1668 [1:03:34<1:18:32,  5.12s/it]"
     ]
    },
    {
     "name": "stdout",
     "output_type": "stream",
     "text": [
      "result sent successfully\n",
      "Error translating with src=en (attempt 1): the JSON object must be str, bytes or bytearray, not NoneType\n",
      "Error translating with src=en (attempt 2): the JSON object must be str, bytes or bytearray, not NoneType\n",
      "🔁 Attempting sentence split and translation...\n"
     ]
    },
    {
     "name": "stderr",
     "output_type": "stream",
     "text": [
      "Translating:  45%|███████████████████▎                       | 749/1668 [1:03:39<1:18:18,  5.11s/it]"
     ]
    },
    {
     "name": "stdout",
     "output_type": "stream",
     "text": [
      "result sent successfully\n",
      "Error translating with src=en (attempt 1): the JSON object must be str, bytes or bytearray, not NoneType\n",
      "Error translating with src=en (attempt 2): the JSON object must be str, bytes or bytearray, not NoneType\n",
      "🔁 Attempting sentence split and translation...\n"
     ]
    },
    {
     "name": "stderr",
     "output_type": "stream",
     "text": [
      "Translating:  45%|███████████████████▎                       | 750/1668 [1:03:44<1:18:05,  5.10s/it]"
     ]
    },
    {
     "name": "stdout",
     "output_type": "stream",
     "text": [
      "result sent successfully\n",
      "Error translating with src=en (attempt 1): the JSON object must be str, bytes or bytearray, not NoneType\n",
      "Error translating with src=en (attempt 2): the JSON object must be str, bytes or bytearray, not NoneType\n",
      "🔁 Attempting sentence split and translation...\n"
     ]
    },
    {
     "name": "stderr",
     "output_type": "stream",
     "text": [
      "Translating:  45%|███████████████████▎                       | 751/1668 [1:03:49<1:17:19,  5.06s/it]"
     ]
    },
    {
     "name": "stdout",
     "output_type": "stream",
     "text": [
      "result sent successfully\n",
      "Error translating with src=en (attempt 1): the JSON object must be str, bytes or bytearray, not NoneType\n",
      "Error translating with src=en (attempt 2): the JSON object must be str, bytes or bytearray, not NoneType\n",
      "🔁 Attempting sentence split and translation...\n"
     ]
    },
    {
     "name": "stderr",
     "output_type": "stream",
     "text": [
      "Translating:  45%|███████████████████▍                       | 752/1668 [1:03:54<1:17:19,  5.07s/it]"
     ]
    },
    {
     "name": "stdout",
     "output_type": "stream",
     "text": [
      "result sent successfully\n",
      "Error translating with src=en (attempt 1): the JSON object must be str, bytes or bytearray, not NoneType\n",
      "Error translating with src=en (attempt 2): the JSON object must be str, bytes or bytearray, not NoneType\n",
      "🔁 Attempting sentence split and translation...\n"
     ]
    },
    {
     "name": "stderr",
     "output_type": "stream",
     "text": [
      "Translating:  45%|███████████████████▍                       | 753/1668 [1:03:59<1:16:38,  5.03s/it]"
     ]
    },
    {
     "name": "stdout",
     "output_type": "stream",
     "text": [
      "result sent successfully\n",
      "Error translating with src=en (attempt 1): the JSON object must be str, bytes or bytearray, not NoneType\n",
      "Error translating with src=en (attempt 2): the JSON object must be str, bytes or bytearray, not NoneType\n",
      "🔁 Attempting sentence split and translation...\n"
     ]
    },
    {
     "name": "stderr",
     "output_type": "stream",
     "text": [
      "Translating:  45%|███████████████████▍                       | 754/1668 [1:04:04<1:17:28,  5.09s/it]"
     ]
    },
    {
     "name": "stdout",
     "output_type": "stream",
     "text": [
      "result sent successfully\n",
      "Error translating with src=en (attempt 1): the JSON object must be str, bytes or bytearray, not NoneType\n",
      "Error translating with src=en (attempt 2): the JSON object must be str, bytes or bytearray, not NoneType\n",
      "🔁 Attempting sentence split and translation...\n"
     ]
    },
    {
     "name": "stderr",
     "output_type": "stream",
     "text": [
      "Translating:  45%|███████████████████▍                       | 755/1668 [1:04:09<1:17:22,  5.08s/it]"
     ]
    },
    {
     "name": "stdout",
     "output_type": "stream",
     "text": [
      "result sent successfully\n",
      "Error translating with src=en (attempt 1): the JSON object must be str, bytes or bytearray, not NoneType\n",
      "Error translating with src=en (attempt 2): the JSON object must be str, bytes or bytearray, not NoneType\n",
      "🔁 Attempting sentence split and translation...\n"
     ]
    },
    {
     "name": "stderr",
     "output_type": "stream",
     "text": [
      "Translating:  45%|███████████████████▍                       | 756/1668 [1:04:14<1:17:13,  5.08s/it]"
     ]
    },
    {
     "name": "stdout",
     "output_type": "stream",
     "text": [
      "result sent successfully\n",
      "Error translating with src=en (attempt 1): the JSON object must be str, bytes or bytearray, not NoneType\n",
      "Error translating with src=en (attempt 2): the JSON object must be str, bytes or bytearray, not NoneType\n",
      "🔁 Attempting sentence split and translation...\n"
     ]
    },
    {
     "name": "stderr",
     "output_type": "stream",
     "text": [
      "Translating:  45%|███████████████████▌                       | 757/1668 [1:04:19<1:16:38,  5.05s/it]"
     ]
    },
    {
     "name": "stdout",
     "output_type": "stream",
     "text": [
      "result sent successfully\n",
      "Error translating with src=en (attempt 1): the JSON object must be str, bytes or bytearray, not NoneType\n",
      "Error translating with src=en (attempt 2): the JSON object must be str, bytes or bytearray, not NoneType\n",
      "🔁 Attempting sentence split and translation...\n"
     ]
    },
    {
     "name": "stderr",
     "output_type": "stream",
     "text": [
      "Translating:  45%|███████████████████▌                       | 758/1668 [1:04:24<1:17:05,  5.08s/it]"
     ]
    },
    {
     "name": "stdout",
     "output_type": "stream",
     "text": [
      "result sent successfully\n",
      "Error translating with src=en (attempt 1): the JSON object must be str, bytes or bytearray, not NoneType\n",
      "Error translating with src=en (attempt 2): the JSON object must be str, bytes or bytearray, not NoneType\n",
      "🔁 Attempting sentence split and translation...\n"
     ]
    },
    {
     "name": "stderr",
     "output_type": "stream",
     "text": [
      "Translating:  46%|███████████████████▌                       | 759/1668 [1:04:29<1:17:00,  5.08s/it]"
     ]
    },
    {
     "name": "stdout",
     "output_type": "stream",
     "text": [
      "result sent successfully\n",
      "Error translating with src=en (attempt 1): the JSON object must be str, bytes or bytearray, not NoneType\n",
      "Error translating with src=en (attempt 2): the JSON object must be str, bytes or bytearray, not NoneType\n",
      "🔁 Attempting sentence split and translation...\n"
     ]
    },
    {
     "name": "stderr",
     "output_type": "stream",
     "text": [
      "Translating:  46%|███████████████████▌                       | 760/1668 [1:04:34<1:16:18,  5.04s/it]"
     ]
    },
    {
     "name": "stdout",
     "output_type": "stream",
     "text": [
      "result sent successfully\n",
      "Error translating with src=en (attempt 1): the JSON object must be str, bytes or bytearray, not NoneType\n",
      "Error translating with src=en (attempt 2): the JSON object must be str, bytes or bytearray, not NoneType\n",
      "🔁 Attempting sentence split and translation...\n"
     ]
    },
    {
     "name": "stderr",
     "output_type": "stream",
     "text": [
      "Translating:  46%|███████████████████▌                       | 761/1668 [1:04:40<1:17:45,  5.14s/it]"
     ]
    },
    {
     "name": "stdout",
     "output_type": "stream",
     "text": [
      "result sent successfully\n",
      "Error translating with src=en (attempt 1): the JSON object must be str, bytes or bytearray, not NoneType\n",
      "Error translating with src=en (attempt 2): the JSON object must be str, bytes or bytearray, not NoneType\n",
      "🔁 Attempting sentence split and translation...\n"
     ]
    },
    {
     "name": "stderr",
     "output_type": "stream",
     "text": [
      "Translating:  46%|███████████████████▋                       | 762/1668 [1:04:45<1:17:20,  5.12s/it]"
     ]
    },
    {
     "name": "stdout",
     "output_type": "stream",
     "text": [
      "result sent successfully\n",
      "Error translating with src=en (attempt 1): the JSON object must be str, bytes or bytearray, not NoneType\n",
      "Error translating with src=en (attempt 2): the JSON object must be str, bytes or bytearray, not NoneType\n",
      "🔁 Attempting sentence split and translation...\n"
     ]
    },
    {
     "name": "stderr",
     "output_type": "stream",
     "text": [
      "Translating:  46%|███████████████████▋                       | 763/1668 [1:04:50<1:16:22,  5.06s/it]"
     ]
    },
    {
     "name": "stdout",
     "output_type": "stream",
     "text": [
      "result sent successfully\n",
      "Error translating with src=en (attempt 1): the JSON object must be str, bytes or bytearray, not NoneType\n",
      "Error translating with src=en (attempt 2): the JSON object must be str, bytes or bytearray, not NoneType\n",
      "🔁 Attempting sentence split and translation...\n"
     ]
    },
    {
     "name": "stderr",
     "output_type": "stream",
     "text": [
      "Translating:  46%|███████████████████▋                       | 764/1668 [1:04:55<1:17:02,  5.11s/it]"
     ]
    },
    {
     "name": "stdout",
     "output_type": "stream",
     "text": [
      "result sent successfully\n",
      "Error translating with src=en (attempt 1): the JSON object must be str, bytes or bytearray, not NoneType\n",
      "Error translating with src=en (attempt 2): the JSON object must be str, bytes or bytearray, not NoneType\n",
      "🔁 Attempting sentence split and translation...\n"
     ]
    },
    {
     "name": "stderr",
     "output_type": "stream",
     "text": [
      "Translating:  46%|███████████████████▋                       | 765/1668 [1:05:01<1:19:32,  5.29s/it]"
     ]
    },
    {
     "name": "stdout",
     "output_type": "stream",
     "text": [
      "result sent successfully\n",
      "Error translating with src=en (attempt 1): the JSON object must be str, bytes or bytearray, not NoneType\n",
      "Error translating with src=en (attempt 2): the JSON object must be str, bytes or bytearray, not NoneType\n",
      "🔁 Attempting sentence split and translation...\n"
     ]
    },
    {
     "name": "stderr",
     "output_type": "stream",
     "text": [
      "Translating:  46%|███████████████████▋                       | 766/1668 [1:05:06<1:18:30,  5.22s/it]"
     ]
    },
    {
     "name": "stdout",
     "output_type": "stream",
     "text": [
      "result sent successfully\n",
      "Error translating with src=en (attempt 1): the JSON object must be str, bytes or bytearray, not NoneType\n",
      "Error translating with src=en (attempt 2): the JSON object must be str, bytes or bytearray, not NoneType\n",
      "🔁 Attempting sentence split and translation...\n"
     ]
    },
    {
     "name": "stderr",
     "output_type": "stream",
     "text": [
      "Translating:  46%|███████████████████▊                       | 767/1668 [1:05:11<1:17:02,  5.13s/it]"
     ]
    },
    {
     "name": "stdout",
     "output_type": "stream",
     "text": [
      "result sent successfully\n",
      "Error translating with src=en (attempt 1): the JSON object must be str, bytes or bytearray, not NoneType\n",
      "Error translating with src=en (attempt 2): the JSON object must be str, bytes or bytearray, not NoneType\n",
      "🔁 Attempting sentence split and translation...\n"
     ]
    },
    {
     "name": "stderr",
     "output_type": "stream",
     "text": [
      "Translating:  46%|███████████████████▊                       | 768/1668 [1:05:16<1:18:36,  5.24s/it]"
     ]
    },
    {
     "name": "stdout",
     "output_type": "stream",
     "text": [
      "result sent successfully\n",
      "Error translating with src=en (attempt 1): the JSON object must be str, bytes or bytearray, not NoneType\n",
      "Error translating with src=en (attempt 2): the JSON object must be str, bytes or bytearray, not NoneType\n",
      "🔁 Attempting sentence split and translation...\n"
     ]
    },
    {
     "name": "stderr",
     "output_type": "stream",
     "text": [
      "Translating:  46%|███████████████████▊                       | 769/1668 [1:05:21<1:17:53,  5.20s/it]"
     ]
    },
    {
     "name": "stdout",
     "output_type": "stream",
     "text": [
      "result sent successfully\n",
      "Error translating with src=en (attempt 1): the JSON object must be str, bytes or bytearray, not NoneType\n",
      "Error translating with src=en (attempt 2): the JSON object must be str, bytes or bytearray, not NoneType\n",
      "🔁 Attempting sentence split and translation...\n"
     ]
    },
    {
     "name": "stderr",
     "output_type": "stream",
     "text": [
      "Translating:  46%|███████████████████▊                       | 770/1668 [1:05:26<1:17:27,  5.18s/it]"
     ]
    },
    {
     "name": "stdout",
     "output_type": "stream",
     "text": [
      "result sent successfully\n",
      "Error translating with src=en (attempt 1): the JSON object must be str, bytes or bytearray, not NoneType\n",
      "Error translating with src=en (attempt 2): the JSON object must be str, bytes or bytearray, not NoneType\n",
      "🔁 Attempting sentence split and translation...\n"
     ]
    },
    {
     "name": "stderr",
     "output_type": "stream",
     "text": [
      "Translating:  46%|███████████████████▉                       | 771/1668 [1:05:31<1:16:14,  5.10s/it]"
     ]
    },
    {
     "name": "stdout",
     "output_type": "stream",
     "text": [
      "result sent successfully\n",
      "Error translating with src=en (attempt 1): the JSON object must be str, bytes or bytearray, not NoneType\n",
      "Error translating with src=en (attempt 2): the JSON object must be str, bytes or bytearray, not NoneType\n",
      "🔁 Attempting sentence split and translation...\n"
     ]
    },
    {
     "name": "stderr",
     "output_type": "stream",
     "text": [
      "Translating:  46%|███████████████████▉                       | 772/1668 [1:05:37<1:17:32,  5.19s/it]"
     ]
    },
    {
     "name": "stdout",
     "output_type": "stream",
     "text": [
      "result sent successfully\n",
      "Error translating with src=en (attempt 1): the JSON object must be str, bytes or bytearray, not NoneType\n",
      "Error translating with src=en (attempt 2): the JSON object must be str, bytes or bytearray, not NoneType\n",
      "🔁 Attempting sentence split and translation...\n"
     ]
    },
    {
     "name": "stderr",
     "output_type": "stream",
     "text": [
      "Translating:  46%|███████████████████▉                       | 773/1668 [1:05:42<1:16:14,  5.11s/it]"
     ]
    },
    {
     "name": "stdout",
     "output_type": "stream",
     "text": [
      "result sent successfully\n",
      "Error translating with src=en (attempt 1): the JSON object must be str, bytes or bytearray, not NoneType\n",
      "Error translating with src=en (attempt 2): the JSON object must be str, bytes or bytearray, not NoneType\n",
      "🔁 Attempting sentence split and translation...\n"
     ]
    },
    {
     "name": "stderr",
     "output_type": "stream",
     "text": [
      "Translating:  46%|███████████████████▉                       | 774/1668 [1:05:47<1:15:18,  5.05s/it]"
     ]
    },
    {
     "name": "stdout",
     "output_type": "stream",
     "text": [
      "result sent successfully\n",
      "Error translating with src=en (attempt 1): the JSON object must be str, bytes or bytearray, not NoneType\n",
      "Error translating with src=en (attempt 2): the JSON object must be str, bytes or bytearray, not NoneType\n",
      "🔁 Attempting sentence split and translation...\n"
     ]
    },
    {
     "name": "stderr",
     "output_type": "stream",
     "text": [
      "Translating:  46%|███████████████████▉                       | 775/1668 [1:05:52<1:15:32,  5.08s/it]"
     ]
    },
    {
     "name": "stdout",
     "output_type": "stream",
     "text": [
      "result sent successfully\n",
      "Error translating with src=en (attempt 1): the JSON object must be str, bytes or bytearray, not NoneType\n",
      "Error translating with src=en (attempt 2): the JSON object must be str, bytes or bytearray, not NoneType\n",
      "🔁 Attempting sentence split and translation...\n"
     ]
    },
    {
     "name": "stderr",
     "output_type": "stream",
     "text": [
      "Translating:  47%|████████████████████                       | 776/1668 [1:05:57<1:14:48,  5.03s/it]"
     ]
    },
    {
     "name": "stdout",
     "output_type": "stream",
     "text": [
      "result sent successfully\n",
      "Error translating with src=en (attempt 1): the JSON object must be str, bytes or bytearray, not NoneType\n",
      "Error translating with src=en (attempt 2): the JSON object must be str, bytes or bytearray, not NoneType\n",
      "🔁 Attempting sentence split and translation...\n"
     ]
    },
    {
     "name": "stderr",
     "output_type": "stream",
     "text": [
      "Translating:  47%|████████████████████                       | 777/1668 [1:06:02<1:14:55,  5.05s/it]"
     ]
    },
    {
     "name": "stdout",
     "output_type": "stream",
     "text": [
      "result sent successfully\n",
      "Error translating with src=en (attempt 1): the JSON object must be str, bytes or bytearray, not NoneType\n",
      "Error translating with src=en (attempt 2): the JSON object must be str, bytes or bytearray, not NoneType\n",
      "🔁 Attempting sentence split and translation...\n"
     ]
    },
    {
     "name": "stderr",
     "output_type": "stream",
     "text": [
      "Translating:  47%|████████████████████                       | 778/1668 [1:06:07<1:16:28,  5.16s/it]"
     ]
    },
    {
     "name": "stdout",
     "output_type": "stream",
     "text": [
      "result sent successfully\n",
      "Error translating with src=en (attempt 1): the JSON object must be str, bytes or bytearray, not NoneType\n",
      "Error translating with src=en (attempt 2): the JSON object must be str, bytes or bytearray, not NoneType\n",
      "🔁 Attempting sentence split and translation...\n"
     ]
    },
    {
     "name": "stderr",
     "output_type": "stream",
     "text": [
      "Translating:  47%|████████████████████                       | 779/1668 [1:06:12<1:16:46,  5.18s/it]"
     ]
    },
    {
     "name": "stdout",
     "output_type": "stream",
     "text": [
      "result sent successfully\n",
      "Error translating with src=en (attempt 1): the JSON object must be str, bytes or bytearray, not NoneType\n",
      "Error translating with src=en (attempt 2): the JSON object must be str, bytes or bytearray, not NoneType\n",
      "🔁 Attempting sentence split and translation...\n"
     ]
    },
    {
     "name": "stderr",
     "output_type": "stream",
     "text": [
      "Translating:  47%|████████████████████                       | 780/1668 [1:06:17<1:16:17,  5.15s/it]"
     ]
    },
    {
     "name": "stdout",
     "output_type": "stream",
     "text": [
      "result sent successfully\n",
      "Error translating with src=en (attempt 1): the JSON object must be str, bytes or bytearray, not NoneType\n",
      "Error translating with src=en (attempt 2): the JSON object must be str, bytes or bytearray, not NoneType\n",
      "🔁 Attempting sentence split and translation...\n"
     ]
    },
    {
     "name": "stderr",
     "output_type": "stream",
     "text": [
      "Translating:  47%|████████████████████▏                      | 781/1668 [1:06:23<1:16:34,  5.18s/it]"
     ]
    },
    {
     "name": "stdout",
     "output_type": "stream",
     "text": [
      "result sent successfully\n",
      "Error translating with src=en (attempt 1): the JSON object must be str, bytes or bytearray, not NoneType\n",
      "Error translating with src=en (attempt 2): the JSON object must be str, bytes or bytearray, not NoneType\n",
      "🔁 Attempting sentence split and translation...\n"
     ]
    },
    {
     "name": "stderr",
     "output_type": "stream",
     "text": [
      "Translating:  47%|████████████████████▏                      | 782/1668 [1:06:28<1:16:10,  5.16s/it]"
     ]
    },
    {
     "name": "stdout",
     "output_type": "stream",
     "text": [
      "result sent successfully\n",
      "Error translating with src=en (attempt 1): the JSON object must be str, bytes or bytearray, not NoneType\n",
      "Error translating with src=en (attempt 2): the JSON object must be str, bytes or bytearray, not NoneType\n",
      "🔁 Attempting sentence split and translation...\n"
     ]
    },
    {
     "name": "stderr",
     "output_type": "stream",
     "text": [
      "Translating:  47%|████████████████████▏                      | 783/1668 [1:06:33<1:18:28,  5.32s/it]"
     ]
    },
    {
     "name": "stdout",
     "output_type": "stream",
     "text": [
      "result sent successfully\n",
      "Error translating with src=en (attempt 1): the JSON object must be str, bytes or bytearray, not NoneType\n",
      "Error translating with src=en (attempt 2): the JSON object must be str, bytes or bytearray, not NoneType\n",
      "🔁 Attempting sentence split and translation...\n"
     ]
    },
    {
     "name": "stderr",
     "output_type": "stream",
     "text": [
      "Translating:  47%|████████████████████▏                      | 784/1668 [1:06:39<1:17:34,  5.26s/it]"
     ]
    },
    {
     "name": "stdout",
     "output_type": "stream",
     "text": [
      "result sent successfully\n",
      "Error translating with src=en (attempt 1): the JSON object must be str, bytes or bytearray, not NoneType\n",
      "Error translating with src=en (attempt 2): the JSON object must be str, bytes or bytearray, not NoneType\n",
      "🔁 Attempting sentence split and translation...\n"
     ]
    },
    {
     "name": "stderr",
     "output_type": "stream",
     "text": [
      "Translating:  47%|████████████████████▏                      | 785/1668 [1:06:44<1:16:01,  5.17s/it]"
     ]
    },
    {
     "name": "stdout",
     "output_type": "stream",
     "text": [
      "result sent successfully\n",
      "Error translating with src=en (attempt 1): the JSON object must be str, bytes or bytearray, not NoneType\n",
      "Error translating with src=en (attempt 2): the JSON object must be str, bytes or bytearray, not NoneType\n",
      "🔁 Attempting sentence split and translation...\n"
     ]
    },
    {
     "name": "stderr",
     "output_type": "stream",
     "text": [
      "Translating:  47%|████████████████████▎                      | 786/1668 [1:06:49<1:16:19,  5.19s/it]"
     ]
    },
    {
     "name": "stdout",
     "output_type": "stream",
     "text": [
      "result sent successfully\n",
      "Error translating with src=en (attempt 1): the JSON object must be str, bytes or bytearray, not NoneType\n",
      "Error translating with src=en (attempt 2): the JSON object must be str, bytes or bytearray, not NoneType\n",
      "🔁 Attempting sentence split and translation...\n"
     ]
    },
    {
     "name": "stderr",
     "output_type": "stream",
     "text": [
      "Translating:  47%|████████████████████▎                      | 787/1668 [1:06:54<1:16:26,  5.21s/it]"
     ]
    },
    {
     "name": "stdout",
     "output_type": "stream",
     "text": [
      "result sent successfully\n",
      "Error translating with src=en (attempt 1): the JSON object must be str, bytes or bytearray, not NoneType\n",
      "Error translating with src=en (attempt 2): the JSON object must be str, bytes or bytearray, not NoneType\n",
      "🔁 Attempting sentence split and translation...\n"
     ]
    },
    {
     "name": "stderr",
     "output_type": "stream",
     "text": [
      "Translating:  47%|████████████████████▎                      | 788/1668 [1:07:00<1:17:50,  5.31s/it]"
     ]
    },
    {
     "name": "stdout",
     "output_type": "stream",
     "text": [
      "result sent successfully\n",
      "Error translating with src=en (attempt 1): the JSON object must be str, bytes or bytearray, not NoneType\n",
      "Error translating with src=en (attempt 2): the JSON object must be str, bytes or bytearray, not NoneType\n",
      "🔁 Attempting sentence split and translation...\n"
     ]
    },
    {
     "name": "stderr",
     "output_type": "stream",
     "text": [
      "Translating:  47%|████████████████████▎                      | 789/1668 [1:07:05<1:18:47,  5.38s/it]"
     ]
    },
    {
     "name": "stdout",
     "output_type": "stream",
     "text": [
      "result sent successfully\n",
      "Error translating with src=en (attempt 1): the JSON object must be str, bytes or bytearray, not NoneType\n",
      "Error translating with src=en (attempt 2): the JSON object must be str, bytes or bytearray, not NoneType\n",
      "🔁 Attempting sentence split and translation...\n"
     ]
    },
    {
     "name": "stderr",
     "output_type": "stream",
     "text": [
      "Translating:  47%|████████████████████▎                      | 790/1668 [1:07:10<1:17:20,  5.29s/it]"
     ]
    },
    {
     "name": "stdout",
     "output_type": "stream",
     "text": [
      "result sent successfully\n",
      "Error translating with src=en (attempt 1): the JSON object must be str, bytes or bytearray, not NoneType\n",
      "Error translating with src=en (attempt 2): the JSON object must be str, bytes or bytearray, not NoneType\n",
      "🔁 Attempting sentence split and translation...\n"
     ]
    },
    {
     "name": "stderr",
     "output_type": "stream",
     "text": [
      "Translating:  47%|████████████████████▍                      | 791/1668 [1:07:15<1:16:58,  5.27s/it]"
     ]
    },
    {
     "name": "stdout",
     "output_type": "stream",
     "text": [
      "result sent successfully\n",
      "Error translating with src=en (attempt 1): the JSON object must be str, bytes or bytearray, not NoneType\n",
      "Error translating with src=en (attempt 2): the JSON object must be str, bytes or bytearray, not NoneType\n",
      "🔁 Attempting sentence split and translation...\n"
     ]
    },
    {
     "name": "stderr",
     "output_type": "stream",
     "text": [
      "Translating:  47%|████████████████████▍                      | 792/1668 [1:07:21<1:17:27,  5.31s/it]"
     ]
    },
    {
     "name": "stdout",
     "output_type": "stream",
     "text": [
      "result sent successfully\n",
      "Error translating with src=en (attempt 1): the JSON object must be str, bytes or bytearray, not NoneType\n",
      "Error translating with src=en (attempt 2): the JSON object must be str, bytes or bytearray, not NoneType\n",
      "🔁 Attempting sentence split and translation...\n"
     ]
    },
    {
     "name": "stderr",
     "output_type": "stream",
     "text": [
      "Translating:  48%|████████████████████▍                      | 793/1668 [1:07:26<1:17:07,  5.29s/it]"
     ]
    },
    {
     "name": "stdout",
     "output_type": "stream",
     "text": [
      "result sent successfully\n",
      "Error translating with src=en (attempt 1): the JSON object must be str, bytes or bytearray, not NoneType\n",
      "Error translating with src=en (attempt 2): the JSON object must be str, bytes or bytearray, not NoneType\n",
      "🔁 Attempting sentence split and translation...\n"
     ]
    },
    {
     "name": "stderr",
     "output_type": "stream",
     "text": [
      "Translating:  48%|████████████████████▍                      | 794/1668 [1:07:31<1:15:32,  5.19s/it]"
     ]
    },
    {
     "name": "stdout",
     "output_type": "stream",
     "text": [
      "result sent successfully\n",
      "Error translating with src=en (attempt 1): the JSON object must be str, bytes or bytearray, not NoneType\n",
      "Error translating with src=en (attempt 2): the JSON object must be str, bytes or bytearray, not NoneType\n",
      "🔁 Attempting sentence split and translation...\n"
     ]
    },
    {
     "name": "stderr",
     "output_type": "stream",
     "text": [
      "Translating:  48%|████████████████████▍                      | 795/1668 [1:07:36<1:14:23,  5.11s/it]"
     ]
    },
    {
     "name": "stdout",
     "output_type": "stream",
     "text": [
      "result sent successfully\n",
      "Error translating with src=en (attempt 1): the JSON object must be str, bytes or bytearray, not NoneType\n",
      "Error translating with src=en (attempt 2): the JSON object must be str, bytes or bytearray, not NoneType\n",
      "🔁 Attempting sentence split and translation...\n"
     ]
    },
    {
     "name": "stderr",
     "output_type": "stream",
     "text": [
      "Translating:  48%|████████████████████▌                      | 796/1668 [1:07:41<1:13:40,  5.07s/it]"
     ]
    },
    {
     "name": "stdout",
     "output_type": "stream",
     "text": [
      "result sent successfully\n",
      "Error translating with src=en (attempt 1): the JSON object must be str, bytes or bytearray, not NoneType\n",
      "Error translating with src=en (attempt 2): the JSON object must be str, bytes or bytearray, not NoneType\n",
      "🔁 Attempting sentence split and translation...\n"
     ]
    },
    {
     "name": "stderr",
     "output_type": "stream",
     "text": [
      "Translating:  48%|████████████████████▌                      | 797/1668 [1:07:46<1:15:44,  5.22s/it]"
     ]
    },
    {
     "name": "stdout",
     "output_type": "stream",
     "text": [
      "result sent successfully\n",
      "Error translating with src=en (attempt 1): the JSON object must be str, bytes or bytearray, not NoneType\n",
      "Error translating with src=en (attempt 2): the JSON object must be str, bytes or bytearray, not NoneType\n",
      "🔁 Attempting sentence split and translation...\n"
     ]
    },
    {
     "name": "stderr",
     "output_type": "stream",
     "text": [
      "Translating:  48%|████████████████████▌                      | 798/1668 [1:07:51<1:14:22,  5.13s/it]"
     ]
    },
    {
     "name": "stdout",
     "output_type": "stream",
     "text": [
      "result sent successfully\n",
      "Error translating with src=en (attempt 1): the JSON object must be str, bytes or bytearray, not NoneType\n",
      "Error translating with src=en (attempt 2): the JSON object must be str, bytes or bytearray, not NoneType\n",
      "🔁 Attempting sentence split and translation...\n"
     ]
    },
    {
     "name": "stderr",
     "output_type": "stream",
     "text": [
      "Translating:  48%|████████████████████▌                      | 799/1668 [1:07:57<1:14:48,  5.17s/it]"
     ]
    },
    {
     "name": "stdout",
     "output_type": "stream",
     "text": [
      "result sent successfully\n",
      "Error translating with src=en (attempt 1): the JSON object must be str, bytes or bytearray, not NoneType\n",
      "Error translating with src=en (attempt 2): the JSON object must be str, bytes or bytearray, not NoneType\n",
      "🔁 Attempting sentence split and translation...\n"
     ]
    },
    {
     "name": "stderr",
     "output_type": "stream",
     "text": [
      "Translating:  48%|████████████████████▌                      | 800/1668 [1:08:02<1:14:29,  5.15s/it]"
     ]
    },
    {
     "name": "stdout",
     "output_type": "stream",
     "text": [
      "result sent successfully\n",
      "Error translating with src=en (attempt 1): the JSON object must be str, bytes or bytearray, not NoneType\n",
      "Error translating with src=en (attempt 2): the JSON object must be str, bytes or bytearray, not NoneType\n",
      "🔁 Attempting sentence split and translation...\n"
     ]
    },
    {
     "name": "stderr",
     "output_type": "stream",
     "text": [
      "Translating:  48%|████████████████████▋                      | 801/1668 [1:08:07<1:14:13,  5.14s/it]"
     ]
    },
    {
     "name": "stdout",
     "output_type": "stream",
     "text": [
      "result sent successfully\n",
      "Error translating with src=en (attempt 1): the JSON object must be str, bytes or bytearray, not NoneType\n",
      "Error translating with src=en (attempt 2): the JSON object must be str, bytes or bytearray, not NoneType\n",
      "🔁 Attempting sentence split and translation...\n"
     ]
    },
    {
     "name": "stderr",
     "output_type": "stream",
     "text": [
      "Translating:  48%|████████████████████▋                      | 802/1668 [1:08:12<1:14:37,  5.17s/it]"
     ]
    },
    {
     "name": "stdout",
     "output_type": "stream",
     "text": [
      "result sent successfully\n",
      "Error translating with src=en (attempt 1): the JSON object must be str, bytes or bytearray, not NoneType\n",
      "Error translating with src=en (attempt 2): the JSON object must be str, bytes or bytearray, not NoneType\n",
      "🔁 Attempting sentence split and translation...\n"
     ]
    },
    {
     "name": "stderr",
     "output_type": "stream",
     "text": [
      "Translating:  48%|████████████████████▋                      | 803/1668 [1:08:17<1:14:11,  5.15s/it]"
     ]
    },
    {
     "name": "stdout",
     "output_type": "stream",
     "text": [
      "result sent successfully\n",
      "Error translating with src=en (attempt 1): the JSON object must be str, bytes or bytearray, not NoneType\n",
      "Error translating with src=en (attempt 2): the JSON object must be str, bytes or bytearray, not NoneType\n",
      "🔁 Attempting sentence split and translation...\n"
     ]
    },
    {
     "name": "stderr",
     "output_type": "stream",
     "text": [
      "Translating:  48%|████████████████████▋                      | 804/1668 [1:08:22<1:13:47,  5.12s/it]"
     ]
    },
    {
     "name": "stdout",
     "output_type": "stream",
     "text": [
      "result sent successfully\n",
      "Error translating with src=en (attempt 1): the JSON object must be str, bytes or bytearray, not NoneType\n",
      "Error translating with src=en (attempt 2): the JSON object must be str, bytes or bytearray, not NoneType\n",
      "🔁 Attempting sentence split and translation...\n"
     ]
    },
    {
     "name": "stderr",
     "output_type": "stream",
     "text": [
      "Translating:  48%|████████████████████▊                      | 805/1668 [1:08:27<1:12:46,  5.06s/it]"
     ]
    },
    {
     "name": "stdout",
     "output_type": "stream",
     "text": [
      "result sent successfully\n",
      "Error translating with src=en (attempt 1): the JSON object must be str, bytes or bytearray, not NoneType\n",
      "Error translating with src=en (attempt 2): the JSON object must be str, bytes or bytearray, not NoneType\n",
      "🔁 Attempting sentence split and translation...\n"
     ]
    },
    {
     "name": "stderr",
     "output_type": "stream",
     "text": [
      "Translating:  48%|████████████████████▊                      | 806/1668 [1:08:32<1:13:18,  5.10s/it]"
     ]
    },
    {
     "name": "stdout",
     "output_type": "stream",
     "text": [
      "result sent successfully\n",
      "Error translating with src=en (attempt 1): the JSON object must be str, bytes or bytearray, not NoneType\n",
      "Error translating with src=en (attempt 2): the JSON object must be str, bytes or bytearray, not NoneType\n",
      "🔁 Attempting sentence split and translation...\n"
     ]
    },
    {
     "name": "stderr",
     "output_type": "stream",
     "text": [
      "Translating:  48%|████████████████████▊                      | 807/1668 [1:08:37<1:13:09,  5.10s/it]"
     ]
    },
    {
     "name": "stdout",
     "output_type": "stream",
     "text": [
      "result sent successfully\n",
      "Error translating with src=en (attempt 1): the JSON object must be str, bytes or bytearray, not NoneType\n",
      "Error translating with src=en (attempt 2): the JSON object must be str, bytes or bytearray, not NoneType\n",
      "🔁 Attempting sentence split and translation...\n"
     ]
    },
    {
     "name": "stderr",
     "output_type": "stream",
     "text": [
      "Translating:  48%|████████████████████▊                      | 808/1668 [1:08:42<1:12:25,  5.05s/it]"
     ]
    },
    {
     "name": "stdout",
     "output_type": "stream",
     "text": [
      "result sent successfully\n",
      "Error translating with src=en (attempt 1): the JSON object must be str, bytes or bytearray, not NoneType\n",
      "Error translating with src=en (attempt 2): the JSON object must be str, bytes or bytearray, not NoneType\n",
      "🔁 Attempting sentence split and translation...\n"
     ]
    },
    {
     "name": "stderr",
     "output_type": "stream",
     "text": [
      "Translating:  49%|████████████████████▊                      | 809/1668 [1:08:47<1:12:29,  5.06s/it]"
     ]
    },
    {
     "name": "stdout",
     "output_type": "stream",
     "text": [
      "result sent successfully\n",
      "Error translating with src=en (attempt 1): the JSON object must be str, bytes or bytearray, not NoneType\n",
      "Error translating with src=en (attempt 2): the JSON object must be str, bytes or bytearray, not NoneType\n",
      "🔁 Attempting sentence split and translation...\n"
     ]
    },
    {
     "name": "stderr",
     "output_type": "stream",
     "text": [
      "Translating:  49%|████████████████████▉                      | 810/1668 [1:08:52<1:11:48,  5.02s/it]"
     ]
    },
    {
     "name": "stdout",
     "output_type": "stream",
     "text": [
      "result sent successfully\n",
      "Error translating with src=en (attempt 1): the JSON object must be str, bytes or bytearray, not NoneType\n",
      "Error translating with src=en (attempt 2): the JSON object must be str, bytes or bytearray, not NoneType\n",
      "🔁 Attempting sentence split and translation...\n"
     ]
    },
    {
     "name": "stderr",
     "output_type": "stream",
     "text": [
      "Translating:  49%|████████████████████▉                      | 811/1668 [1:08:58<1:12:02,  5.04s/it]"
     ]
    },
    {
     "name": "stdout",
     "output_type": "stream",
     "text": [
      "result sent successfully\n",
      "Error translating with src=en (attempt 1): the JSON object must be str, bytes or bytearray, not NoneType\n",
      "Error translating with src=en (attempt 2): the JSON object must be str, bytes or bytearray, not NoneType\n",
      "🔁 Attempting sentence split and translation...\n"
     ]
    },
    {
     "name": "stderr",
     "output_type": "stream",
     "text": [
      "Translating:  49%|████████████████████▉                      | 812/1668 [1:09:03<1:12:19,  5.07s/it]"
     ]
    },
    {
     "name": "stdout",
     "output_type": "stream",
     "text": [
      "result sent successfully\n",
      "Error translating with src=en (attempt 1): the JSON object must be str, bytes or bytearray, not NoneType\n",
      "Error translating with src=en (attempt 2): the JSON object must be str, bytes or bytearray, not NoneType\n",
      "🔁 Attempting sentence split and translation...\n"
     ]
    },
    {
     "name": "stderr",
     "output_type": "stream",
     "text": [
      "Translating:  49%|████████████████████▉                      | 813/1668 [1:09:08<1:12:16,  5.07s/it]"
     ]
    },
    {
     "name": "stdout",
     "output_type": "stream",
     "text": [
      "result sent successfully\n",
      "Error translating with src=en (attempt 1): the JSON object must be str, bytes or bytearray, not NoneType\n",
      "Error translating with src=en (attempt 2): the JSON object must be str, bytes or bytearray, not NoneType\n",
      "🔁 Attempting sentence split and translation...\n"
     ]
    },
    {
     "name": "stderr",
     "output_type": "stream",
     "text": [
      "Translating:  49%|████████████████████▉                      | 814/1668 [1:09:13<1:11:36,  5.03s/it]"
     ]
    },
    {
     "name": "stdout",
     "output_type": "stream",
     "text": [
      "result sent successfully\n",
      "Error translating with src=en (attempt 1): the JSON object must be str, bytes or bytearray, not NoneType\n",
      "Error translating with src=en (attempt 2): the JSON object must be str, bytes or bytearray, not NoneType\n",
      "🔁 Attempting sentence split and translation...\n"
     ]
    },
    {
     "name": "stderr",
     "output_type": "stream",
     "text": [
      "Translating:  49%|█████████████████████                      | 815/1668 [1:09:18<1:12:00,  5.07s/it]"
     ]
    },
    {
     "name": "stdout",
     "output_type": "stream",
     "text": [
      "result sent successfully\n",
      "Error translating with src=en (attempt 1): the JSON object must be str, bytes or bytearray, not NoneType\n",
      "Error translating with src=en (attempt 2): the JSON object must be str, bytes or bytearray, not NoneType\n",
      "🔁 Attempting sentence split and translation...\n"
     ]
    },
    {
     "name": "stderr",
     "output_type": "stream",
     "text": [
      "Translating:  49%|█████████████████████                      | 816/1668 [1:09:23<1:13:13,  5.16s/it]"
     ]
    },
    {
     "name": "stdout",
     "output_type": "stream",
     "text": [
      "result sent successfully\n",
      "Error translating with src=en (attempt 1): the JSON object must be str, bytes or bytearray, not NoneType\n",
      "Error translating with src=en (attempt 2): the JSON object must be str, bytes or bytearray, not NoneType\n",
      "🔁 Attempting sentence split and translation...\n"
     ]
    },
    {
     "name": "stderr",
     "output_type": "stream",
     "text": [
      "Translating:  49%|█████████████████████                      | 817/1668 [1:09:28<1:13:28,  5.18s/it]"
     ]
    },
    {
     "name": "stdout",
     "output_type": "stream",
     "text": [
      "result sent successfully\n",
      "Error translating with src=en (attempt 1): the JSON object must be str, bytes or bytearray, not NoneType\n",
      "Error translating with src=en (attempt 2): the JSON object must be str, bytes or bytearray, not NoneType\n",
      "🔁 Attempting sentence split and translation...\n"
     ]
    },
    {
     "name": "stderr",
     "output_type": "stream",
     "text": [
      "Translating:  49%|█████████████████████                      | 818/1668 [1:09:33<1:12:54,  5.15s/it]"
     ]
    },
    {
     "name": "stdout",
     "output_type": "stream",
     "text": [
      "result sent successfully\n",
      "Error translating with src=en (attempt 1): the JSON object must be str, bytes or bytearray, not NoneType\n",
      "Error translating with src=en (attempt 2): the JSON object must be str, bytes or bytearray, not NoneType\n",
      "🔁 Attempting sentence split and translation...\n"
     ]
    },
    {
     "name": "stderr",
     "output_type": "stream",
     "text": [
      "Translating:  49%|█████████████████████                      | 819/1668 [1:09:39<1:13:09,  5.17s/it]"
     ]
    },
    {
     "name": "stdout",
     "output_type": "stream",
     "text": [
      "result sent successfully\n",
      "Error translating with src=en (attempt 1): the JSON object must be str, bytes or bytearray, not NoneType\n",
      "Error translating with src=en (attempt 2): the JSON object must be str, bytes or bytearray, not NoneType\n",
      "🔁 Attempting sentence split and translation...\n"
     ]
    },
    {
     "name": "stderr",
     "output_type": "stream",
     "text": [
      "Translating:  49%|█████████████████████▏                     | 820/1668 [1:09:44<1:12:46,  5.15s/it]"
     ]
    },
    {
     "name": "stdout",
     "output_type": "stream",
     "text": [
      "result sent successfully\n",
      "Error translating with src=en (attempt 1): the JSON object must be str, bytes or bytearray, not NoneType\n",
      "Error translating with src=en (attempt 2): the JSON object must be str, bytes or bytearray, not NoneType\n",
      "🔁 Attempting sentence split and translation...\n"
     ]
    },
    {
     "name": "stderr",
     "output_type": "stream",
     "text": [
      "Translating:  49%|█████████████████████▏                     | 821/1668 [1:09:49<1:14:18,  5.26s/it]"
     ]
    },
    {
     "name": "stdout",
     "output_type": "stream",
     "text": [
      "result sent successfully\n",
      "Error translating with src=en (attempt 1): the JSON object must be str, bytes or bytearray, not NoneType\n",
      "Error translating with src=en (attempt 2): the JSON object must be str, bytes or bytearray, not NoneType\n",
      "🔁 Attempting sentence split and translation...\n"
     ]
    },
    {
     "name": "stderr",
     "output_type": "stream",
     "text": [
      "Translating:  49%|█████████████████████▏                     | 822/1668 [1:09:54<1:12:56,  5.17s/it]"
     ]
    },
    {
     "name": "stdout",
     "output_type": "stream",
     "text": [
      "result sent successfully\n",
      "Error translating with src=en (attempt 1): the JSON object must be str, bytes or bytearray, not NoneType\n",
      "Error translating with src=en (attempt 2): the JSON object must be str, bytes or bytearray, not NoneType\n",
      "🔁 Attempting sentence split and translation...\n"
     ]
    },
    {
     "name": "stderr",
     "output_type": "stream",
     "text": [
      "Translating:  49%|█████████████████████▏                     | 823/1668 [1:09:59<1:11:51,  5.10s/it]"
     ]
    },
    {
     "name": "stdout",
     "output_type": "stream",
     "text": [
      "result sent successfully\n",
      "Error translating with src=en (attempt 1): the JSON object must be str, bytes or bytearray, not NoneType\n",
      "Error translating with src=en (attempt 2): the JSON object must be str, bytes or bytearray, not NoneType\n",
      "🔁 Attempting sentence split and translation...\n"
     ]
    },
    {
     "name": "stderr",
     "output_type": "stream",
     "text": [
      "Translating:  49%|█████████████████████▏                     | 824/1668 [1:10:05<1:12:58,  5.19s/it]"
     ]
    },
    {
     "name": "stdout",
     "output_type": "stream",
     "text": [
      "result sent successfully\n",
      "Error translating with src=en (attempt 1): the JSON object must be str, bytes or bytearray, not NoneType\n",
      "Error translating with src=en (attempt 2): the JSON object must be str, bytes or bytearray, not NoneType\n",
      "🔁 Attempting sentence split and translation...\n"
     ]
    },
    {
     "name": "stderr",
     "output_type": "stream",
     "text": [
      "Translating:  49%|█████████████████████▎                     | 825/1668 [1:10:10<1:13:41,  5.25s/it]"
     ]
    },
    {
     "name": "stdout",
     "output_type": "stream",
     "text": [
      "result sent successfully\n",
      "Error translating with src=en (attempt 1): the JSON object must be str, bytes or bytearray, not NoneType\n",
      "Error translating with src=en (attempt 2): the JSON object must be str, bytes or bytearray, not NoneType\n",
      "🔁 Attempting sentence split and translation...\n"
     ]
    },
    {
     "name": "stderr",
     "output_type": "stream",
     "text": [
      "Translating:  50%|█████████████████████▎                     | 826/1668 [1:10:15<1:13:29,  5.24s/it]"
     ]
    },
    {
     "name": "stdout",
     "output_type": "stream",
     "text": [
      "result sent successfully\n",
      "Error translating with src=en (attempt 1): the JSON object must be str, bytes or bytearray, not NoneType\n",
      "Error translating with src=en (attempt 2): the JSON object must be str, bytes or bytearray, not NoneType\n",
      "🔁 Attempting sentence split and translation...\n"
     ]
    },
    {
     "name": "stderr",
     "output_type": "stream",
     "text": [
      "Translating:  50%|█████████████████████▎                     | 827/1668 [1:10:20<1:12:02,  5.14s/it]"
     ]
    },
    {
     "name": "stdout",
     "output_type": "stream",
     "text": [
      "result sent successfully\n",
      "Error translating with src=en (attempt 1): the JSON object must be str, bytes or bytearray, not NoneType\n",
      "Error translating with src=en (attempt 2): the JSON object must be str, bytes or bytearray, not NoneType\n",
      "🔁 Attempting sentence split and translation...\n"
     ]
    },
    {
     "name": "stderr",
     "output_type": "stream",
     "text": [
      "Translating:  50%|█████████████████████▎                     | 828/1668 [1:10:25<1:11:41,  5.12s/it]"
     ]
    },
    {
     "name": "stdout",
     "output_type": "stream",
     "text": [
      "result sent successfully\n",
      "Error translating with src=en (attempt 1): the JSON object must be str, bytes or bytearray, not NoneType\n",
      "Error translating with src=en (attempt 2): the JSON object must be str, bytes or bytearray, not NoneType\n",
      "🔁 Attempting sentence split and translation...\n"
     ]
    },
    {
     "name": "stderr",
     "output_type": "stream",
     "text": [
      "Translating:  50%|█████████████████████▎                     | 829/1668 [1:10:30<1:12:05,  5.16s/it]"
     ]
    },
    {
     "name": "stdout",
     "output_type": "stream",
     "text": [
      "result sent successfully\n",
      "Error translating with src=en (attempt 1): the JSON object must be str, bytes or bytearray, not NoneType\n",
      "Error translating with src=en (attempt 2): the JSON object must be str, bytes or bytearray, not NoneType\n",
      "🔁 Attempting sentence split and translation...\n"
     ]
    },
    {
     "name": "stderr",
     "output_type": "stream",
     "text": [
      "Translating:  50%|█████████████████████▍                     | 830/1668 [1:10:35<1:11:02,  5.09s/it]"
     ]
    },
    {
     "name": "stdout",
     "output_type": "stream",
     "text": [
      "result sent successfully\n",
      "Error translating with src=en (attempt 1): the JSON object must be str, bytes or bytearray, not NoneType\n",
      "Error translating with src=en (attempt 2): the JSON object must be str, bytes or bytearray, not NoneType\n",
      "🔁 Attempting sentence split and translation...\n"
     ]
    },
    {
     "name": "stderr",
     "output_type": "stream",
     "text": [
      "Translating:  50%|█████████████████████▍                     | 831/1668 [1:10:40<1:10:54,  5.08s/it]"
     ]
    },
    {
     "name": "stdout",
     "output_type": "stream",
     "text": [
      "result sent successfully\n",
      "Error translating with src=en (attempt 1): the JSON object must be str, bytes or bytearray, not NoneType\n",
      "Error translating with src=en (attempt 2): the JSON object must be str, bytes or bytearray, not NoneType\n",
      "🔁 Attempting sentence split and translation...\n"
     ]
    },
    {
     "name": "stderr",
     "output_type": "stream",
     "text": [
      "Translating:  50%|█████████████████████▍                     | 832/1668 [1:10:46<1:10:48,  5.08s/it]"
     ]
    },
    {
     "name": "stdout",
     "output_type": "stream",
     "text": [
      "result sent successfully\n",
      "Error translating with src=en (attempt 1): the JSON object must be str, bytes or bytearray, not NoneType\n",
      "Error translating with src=en (attempt 2): the JSON object must be str, bytes or bytearray, not NoneType\n",
      "🔁 Attempting sentence split and translation...\n"
     ]
    },
    {
     "name": "stderr",
     "output_type": "stream",
     "text": [
      "Translating:  50%|█████████████████████▍                     | 833/1668 [1:10:50<1:10:00,  5.03s/it]"
     ]
    },
    {
     "name": "stdout",
     "output_type": "stream",
     "text": [
      "result sent successfully\n",
      "Error translating with src=en (attempt 1): the JSON object must be str, bytes or bytearray, not NoneType\n",
      "Error translating with src=en (attempt 2): the JSON object must be str, bytes or bytearray, not NoneType\n",
      "🔁 Attempting sentence split and translation...\n"
     ]
    },
    {
     "name": "stderr",
     "output_type": "stream",
     "text": [
      "Translating:  50%|█████████████████████▌                     | 834/1668 [1:10:55<1:09:31,  5.00s/it]"
     ]
    },
    {
     "name": "stdout",
     "output_type": "stream",
     "text": [
      "result sent successfully\n",
      "Error translating with src=en (attempt 1): the JSON object must be str, bytes or bytearray, not NoneType\n",
      "Error translating with src=en (attempt 2): the JSON object must be str, bytes or bytearray, not NoneType\n",
      "🔁 Attempting sentence split and translation...\n"
     ]
    },
    {
     "name": "stderr",
     "output_type": "stream",
     "text": [
      "Translating:  50%|█████████████████████▌                     | 835/1668 [1:11:00<1:09:48,  5.03s/it]"
     ]
    },
    {
     "name": "stdout",
     "output_type": "stream",
     "text": [
      "result sent successfully\n",
      "Error translating with src=en (attempt 1): the JSON object must be str, bytes or bytearray, not NoneType\n",
      "Error translating with src=en (attempt 2): the JSON object must be str, bytes or bytearray, not NoneType\n",
      "🔁 Attempting sentence split and translation...\n"
     ]
    },
    {
     "name": "stderr",
     "output_type": "stream",
     "text": [
      "Translating:  50%|█████████████████████▌                     | 836/1668 [1:11:06<1:09:52,  5.04s/it]"
     ]
    },
    {
     "name": "stdout",
     "output_type": "stream",
     "text": [
      "result sent successfully\n",
      "Error translating with src=en (attempt 1): the JSON object must be str, bytes or bytearray, not NoneType\n",
      "Error translating with src=en (attempt 2): the JSON object must be str, bytes or bytearray, not NoneType\n",
      "🔁 Attempting sentence split and translation...\n"
     ]
    },
    {
     "name": "stderr",
     "output_type": "stream",
     "text": [
      "Translating:  50%|█████████████████████▌                     | 837/1668 [1:11:11<1:10:02,  5.06s/it]"
     ]
    },
    {
     "name": "stdout",
     "output_type": "stream",
     "text": [
      "result sent successfully\n",
      "Error translating with src=en (attempt 1): the JSON object must be str, bytes or bytearray, not NoneType\n",
      "Error translating with src=en (attempt 2): the JSON object must be str, bytes or bytearray, not NoneType\n",
      "🔁 Attempting sentence split and translation...\n"
     ]
    },
    {
     "name": "stderr",
     "output_type": "stream",
     "text": [
      "Translating:  50%|█████████████████████▌                     | 838/1668 [1:11:16<1:10:40,  5.11s/it]"
     ]
    },
    {
     "name": "stdout",
     "output_type": "stream",
     "text": [
      "result sent successfully\n",
      "Error translating with src=en (attempt 1): the JSON object must be str, bytes or bytearray, not NoneType\n",
      "Error translating with src=en (attempt 2): the JSON object must be str, bytes or bytearray, not NoneType\n",
      "🔁 Attempting sentence split and translation...\n"
     ]
    },
    {
     "name": "stderr",
     "output_type": "stream",
     "text": [
      "Translating:  50%|█████████████████████▋                     | 839/1668 [1:11:21<1:10:12,  5.08s/it]"
     ]
    },
    {
     "name": "stdout",
     "output_type": "stream",
     "text": [
      "result sent successfully\n",
      "Error translating with src=en (attempt 1): the JSON object must be str, bytes or bytearray, not NoneType\n",
      "Error translating with src=en (attempt 2): the JSON object must be str, bytes or bytearray, not NoneType\n",
      "🔁 Attempting sentence split and translation...\n"
     ]
    },
    {
     "name": "stderr",
     "output_type": "stream",
     "text": [
      "Translating:  50%|█████████████████████▋                     | 840/1668 [1:11:26<1:09:27,  5.03s/it]"
     ]
    },
    {
     "name": "stdout",
     "output_type": "stream",
     "text": [
      "result sent successfully\n",
      "Error translating with src=en (attempt 1): the JSON object must be str, bytes or bytearray, not NoneType\n",
      "Error translating with src=en (attempt 2): the JSON object must be str, bytes or bytearray, not NoneType\n",
      "🔁 Attempting sentence split and translation...\n"
     ]
    },
    {
     "name": "stderr",
     "output_type": "stream",
     "text": [
      "Translating:  50%|█████████████████████▋                     | 841/1668 [1:11:31<1:09:06,  5.01s/it]"
     ]
    },
    {
     "name": "stdout",
     "output_type": "stream",
     "text": [
      "result sent successfully\n",
      "Error translating with src=en (attempt 1): the JSON object must be str, bytes or bytearray, not NoneType\n",
      "Error translating with src=en (attempt 2): the JSON object must be str, bytes or bytearray, not NoneType\n",
      "🔁 Attempting sentence split and translation...\n"
     ]
    },
    {
     "name": "stderr",
     "output_type": "stream",
     "text": [
      "Translating:  50%|█████████████████████▋                     | 842/1668 [1:11:36<1:08:40,  4.99s/it]"
     ]
    },
    {
     "name": "stdout",
     "output_type": "stream",
     "text": [
      "result sent successfully\n",
      "Error translating with src=en (attempt 1): the JSON object must be str, bytes or bytearray, not NoneType\n",
      "Error translating with src=en (attempt 2): the JSON object must be str, bytes or bytearray, not NoneType\n",
      "🔁 Attempting sentence split and translation...\n"
     ]
    },
    {
     "name": "stderr",
     "output_type": "stream",
     "text": [
      "Translating:  51%|█████████████████████▋                     | 843/1668 [1:11:41<1:08:41,  5.00s/it]"
     ]
    },
    {
     "name": "stdout",
     "output_type": "stream",
     "text": [
      "result sent successfully\n",
      "Error translating with src=en (attempt 1): the JSON object must be str, bytes or bytearray, not NoneType\n",
      "Error translating with src=en (attempt 2): the JSON object must be str, bytes or bytearray, not NoneType\n",
      "🔁 Attempting sentence split and translation...\n"
     ]
    },
    {
     "name": "stderr",
     "output_type": "stream",
     "text": [
      "Translating:  51%|█████████████████████▊                     | 844/1668 [1:11:46<1:08:48,  5.01s/it]"
     ]
    },
    {
     "name": "stdout",
     "output_type": "stream",
     "text": [
      "result sent successfully\n",
      "Error translating with src=en (attempt 1): the JSON object must be str, bytes or bytearray, not NoneType\n",
      "Error translating with src=en (attempt 2): the JSON object must be str, bytes or bytearray, not NoneType\n",
      "🔁 Attempting sentence split and translation...\n"
     ]
    },
    {
     "name": "stderr",
     "output_type": "stream",
     "text": [
      "Translating:  51%|█████████████████████▊                     | 845/1668 [1:11:51<1:09:50,  5.09s/it]"
     ]
    },
    {
     "name": "stdout",
     "output_type": "stream",
     "text": [
      "result sent successfully\n",
      "Error translating with src=en (attempt 1): the JSON object must be str, bytes or bytearray, not NoneType\n",
      "Error translating with src=en (attempt 2): the JSON object must be str, bytes or bytearray, not NoneType\n",
      "🔁 Attempting sentence split and translation...\n"
     ]
    },
    {
     "name": "stderr",
     "output_type": "stream",
     "text": [
      "Translating:  51%|█████████████████████▊                     | 846/1668 [1:11:56<1:09:06,  5.04s/it]"
     ]
    },
    {
     "name": "stdout",
     "output_type": "stream",
     "text": [
      "result sent successfully\n",
      "Error translating with src=en (attempt 1): the JSON object must be str, bytes or bytearray, not NoneType\n",
      "Error translating with src=en (attempt 2): the JSON object must be str, bytes or bytearray, not NoneType\n",
      "🔁 Attempting sentence split and translation...\n"
     ]
    },
    {
     "name": "stderr",
     "output_type": "stream",
     "text": [
      "Translating:  51%|█████████████████████▊                     | 847/1668 [1:12:01<1:08:39,  5.02s/it]"
     ]
    },
    {
     "name": "stdout",
     "output_type": "stream",
     "text": [
      "result sent successfully\n",
      "Error translating with src=en (attempt 1): the JSON object must be str, bytes or bytearray, not NoneType\n",
      "Error translating with src=en (attempt 2): the JSON object must be str, bytes or bytearray, not NoneType\n",
      "🔁 Attempting sentence split and translation...\n"
     ]
    },
    {
     "name": "stderr",
     "output_type": "stream",
     "text": [
      "Translating:  51%|█████████████████████▊                     | 848/1668 [1:12:06<1:09:31,  5.09s/it]"
     ]
    },
    {
     "name": "stdout",
     "output_type": "stream",
     "text": [
      "result sent successfully\n",
      "Error translating with src=en (attempt 1): the JSON object must be str, bytes or bytearray, not NoneType\n",
      "Error translating with src=en (attempt 2): the JSON object must be str, bytes or bytearray, not NoneType\n",
      "🔁 Attempting sentence split and translation...\n"
     ]
    },
    {
     "name": "stderr",
     "output_type": "stream",
     "text": [
      "Translating:  51%|█████████████████████▉                     | 849/1668 [1:12:11<1:09:11,  5.07s/it]"
     ]
    },
    {
     "name": "stdout",
     "output_type": "stream",
     "text": [
      "result sent successfully\n",
      "Error translating with src=en (attempt 1): the JSON object must be str, bytes or bytearray, not NoneType\n",
      "Error translating with src=en (attempt 2): the JSON object must be str, bytes or bytearray, not NoneType\n",
      "🔁 Attempting sentence split and translation...\n"
     ]
    },
    {
     "name": "stderr",
     "output_type": "stream",
     "text": [
      "Translating:  51%|█████████████████████▉                     | 850/1668 [1:12:16<1:08:32,  5.03s/it]"
     ]
    },
    {
     "name": "stdout",
     "output_type": "stream",
     "text": [
      "result sent successfully\n",
      "Error translating with src=en (attempt 1): the JSON object must be str, bytes or bytearray, not NoneType\n",
      "Error translating with src=en (attempt 2): the JSON object must be str, bytes or bytearray, not NoneType\n",
      "🔁 Attempting sentence split and translation...\n"
     ]
    },
    {
     "name": "stderr",
     "output_type": "stream",
     "text": [
      "Translating:  51%|█████████████████████▉                     | 851/1668 [1:12:21<1:08:49,  5.05s/it]"
     ]
    },
    {
     "name": "stdout",
     "output_type": "stream",
     "text": [
      "result sent successfully\n",
      "Error translating with src=en (attempt 1): the JSON object must be str, bytes or bytearray, not NoneType\n",
      "Error translating with src=en (attempt 2): the JSON object must be str, bytes or bytearray, not NoneType\n",
      "🔁 Attempting sentence split and translation...\n"
     ]
    },
    {
     "name": "stderr",
     "output_type": "stream",
     "text": [
      "Translating:  51%|█████████████████████▉                     | 852/1668 [1:12:26<1:08:19,  5.02s/it]"
     ]
    },
    {
     "name": "stdout",
     "output_type": "stream",
     "text": [
      "result sent successfully\n",
      "Error translating with src=en (attempt 1): the JSON object must be str, bytes or bytearray, not NoneType\n",
      "Error translating with src=en (attempt 2): the JSON object must be str, bytes or bytearray, not NoneType\n",
      "🔁 Attempting sentence split and translation...\n"
     ]
    },
    {
     "name": "stderr",
     "output_type": "stream",
     "text": [
      "Translating:  51%|█████████████████████▉                     | 853/1668 [1:12:31<1:09:14,  5.10s/it]"
     ]
    },
    {
     "name": "stdout",
     "output_type": "stream",
     "text": [
      "result sent successfully\n",
      "Error translating with src=en (attempt 1): the JSON object must be str, bytes or bytearray, not NoneType\n",
      "Error translating with src=en (attempt 2): the JSON object must be str, bytes or bytearray, not NoneType\n",
      "🔁 Attempting sentence split and translation...\n"
     ]
    },
    {
     "name": "stderr",
     "output_type": "stream",
     "text": [
      "Translating:  51%|██████████████████████                     | 854/1668 [1:12:37<1:10:11,  5.17s/it]"
     ]
    },
    {
     "name": "stdout",
     "output_type": "stream",
     "text": [
      "result sent successfully\n",
      "Error translating with src=en (attempt 1): the JSON object must be str, bytes or bytearray, not NoneType\n",
      "Error translating with src=en (attempt 2): the JSON object must be str, bytes or bytearray, not NoneType\n",
      "🔁 Attempting sentence split and translation...\n"
     ]
    },
    {
     "name": "stderr",
     "output_type": "stream",
     "text": [
      "Translating:  51%|██████████████████████                     | 855/1668 [1:12:42<1:10:30,  5.20s/it]"
     ]
    },
    {
     "name": "stdout",
     "output_type": "stream",
     "text": [
      "result sent successfully\n",
      "Error translating with src=en (attempt 1): the JSON object must be str, bytes or bytearray, not NoneType\n",
      "Error translating with src=en (attempt 2): the JSON object must be str, bytes or bytearray, not NoneType\n",
      "🔁 Attempting sentence split and translation...\n"
     ]
    },
    {
     "name": "stderr",
     "output_type": "stream",
     "text": [
      "Translating:  51%|██████████████████████                     | 856/1668 [1:12:47<1:09:18,  5.12s/it]"
     ]
    },
    {
     "name": "stdout",
     "output_type": "stream",
     "text": [
      "result sent successfully\n",
      "Error translating with src=en (attempt 1): the JSON object must be str, bytes or bytearray, not NoneType\n",
      "Error translating with src=en (attempt 2): the JSON object must be str, bytes or bytearray, not NoneType\n",
      "🔁 Attempting sentence split and translation...\n"
     ]
    },
    {
     "name": "stderr",
     "output_type": "stream",
     "text": [
      "Translating:  51%|██████████████████████                     | 857/1668 [1:12:52<1:08:31,  5.07s/it]"
     ]
    },
    {
     "name": "stdout",
     "output_type": "stream",
     "text": [
      "result sent successfully\n",
      "Error translating with src=en (attempt 1): the JSON object must be str, bytes or bytearray, not NoneType\n",
      "Error translating with src=en (attempt 2): the JSON object must be str, bytes or bytearray, not NoneType\n",
      "🔁 Attempting sentence split and translation...\n"
     ]
    },
    {
     "name": "stderr",
     "output_type": "stream",
     "text": [
      "Translating:  51%|██████████████████████                     | 858/1668 [1:12:57<1:09:25,  5.14s/it]"
     ]
    },
    {
     "name": "stdout",
     "output_type": "stream",
     "text": [
      "result sent successfully\n",
      "Error translating with src=en (attempt 1): the JSON object must be str, bytes or bytearray, not NoneType\n",
      "Error translating with src=en (attempt 2): the JSON object must be str, bytes or bytearray, not NoneType\n",
      "🔁 Attempting sentence split and translation...\n"
     ]
    },
    {
     "name": "stderr",
     "output_type": "stream",
     "text": [
      "Translating:  51%|██████████████████████▏                    | 859/1668 [1:13:02<1:08:42,  5.10s/it]"
     ]
    },
    {
     "name": "stdout",
     "output_type": "stream",
     "text": [
      "result sent successfully\n",
      "Error translating with src=en (attempt 1): the JSON object must be str, bytes or bytearray, not NoneType\n",
      "Error translating with src=en (attempt 2): the JSON object must be str, bytes or bytearray, not NoneType\n",
      "🔁 Attempting sentence split and translation...\n"
     ]
    },
    {
     "name": "stderr",
     "output_type": "stream",
     "text": [
      "Translating:  52%|██████████████████████▏                    | 860/1668 [1:13:07<1:08:01,  5.05s/it]"
     ]
    },
    {
     "name": "stdout",
     "output_type": "stream",
     "text": [
      "result sent successfully\n",
      "Error translating with src=en (attempt 1): the JSON object must be str, bytes or bytearray, not NoneType\n",
      "Error translating with src=en (attempt 2): the JSON object must be str, bytes or bytearray, not NoneType\n",
      "🔁 Attempting sentence split and translation...\n"
     ]
    },
    {
     "name": "stderr",
     "output_type": "stream",
     "text": [
      "Translating:  52%|██████████████████████▏                    | 861/1668 [1:13:12<1:07:33,  5.02s/it]"
     ]
    },
    {
     "name": "stdout",
     "output_type": "stream",
     "text": [
      "result sent successfully\n",
      "Error translating with src=en (attempt 1): the JSON object must be str, bytes or bytearray, not NoneType\n",
      "Error translating with src=en (attempt 2): the JSON object must be str, bytes or bytearray, not NoneType\n",
      "🔁 Attempting sentence split and translation...\n"
     ]
    },
    {
     "name": "stderr",
     "output_type": "stream",
     "text": [
      "Translating:  52%|██████████████████████▏                    | 862/1668 [1:13:17<1:07:02,  4.99s/it]"
     ]
    },
    {
     "name": "stdout",
     "output_type": "stream",
     "text": [
      "result sent successfully\n",
      "Error translating with src=en (attempt 1): the JSON object must be str, bytes or bytearray, not NoneType\n",
      "Error translating with src=en (attempt 2): the JSON object must be str, bytes or bytearray, not NoneType\n",
      "🔁 Attempting sentence split and translation...\n"
     ]
    },
    {
     "name": "stderr",
     "output_type": "stream",
     "text": [
      "Translating:  52%|██████████████████████▏                    | 863/1668 [1:13:22<1:06:45,  4.98s/it]"
     ]
    },
    {
     "name": "stdout",
     "output_type": "stream",
     "text": [
      "result sent successfully\n",
      "Error translating with src=en (attempt 1): the JSON object must be str, bytes or bytearray, not NoneType\n",
      "Error translating with src=en (attempt 2): the JSON object must be str, bytes or bytearray, not NoneType\n",
      "🔁 Attempting sentence split and translation...\n"
     ]
    },
    {
     "name": "stderr",
     "output_type": "stream",
     "text": [
      "Translating:  52%|██████████████████████▎                    | 864/1668 [1:13:27<1:06:34,  4.97s/it]"
     ]
    },
    {
     "name": "stdout",
     "output_type": "stream",
     "text": [
      "result sent successfully\n",
      "Error translating with src=en (attempt 1): the JSON object must be str, bytes or bytearray, not NoneType\n",
      "Error translating with src=en (attempt 2): the JSON object must be str, bytes or bytearray, not NoneType\n",
      "🔁 Attempting sentence split and translation...\n"
     ]
    },
    {
     "name": "stderr",
     "output_type": "stream",
     "text": [
      "Translating:  52%|██████████████████████▎                    | 865/1668 [1:13:32<1:06:22,  4.96s/it]"
     ]
    },
    {
     "name": "stdout",
     "output_type": "stream",
     "text": [
      "result sent successfully\n",
      "Error translating with src=en (attempt 1): the JSON object must be str, bytes or bytearray, not NoneType\n",
      "Error translating with src=en (attempt 2): the JSON object must be str, bytes or bytearray, not NoneType\n",
      "🔁 Attempting sentence split and translation...\n"
     ]
    },
    {
     "name": "stderr",
     "output_type": "stream",
     "text": [
      "Translating:  52%|██████████████████████▎                    | 866/1668 [1:13:37<1:06:07,  4.95s/it]"
     ]
    },
    {
     "name": "stdout",
     "output_type": "stream",
     "text": [
      "result sent successfully\n",
      "Error translating with src=en (attempt 1): the JSON object must be str, bytes or bytearray, not NoneType\n",
      "Error translating with src=en (attempt 2): the JSON object must be str, bytes or bytearray, not NoneType\n",
      "🔁 Attempting sentence split and translation...\n"
     ]
    },
    {
     "name": "stderr",
     "output_type": "stream",
     "text": [
      "Translating:  52%|██████████████████████▎                    | 867/1668 [1:13:42<1:05:54,  4.94s/it]"
     ]
    },
    {
     "name": "stdout",
     "output_type": "stream",
     "text": [
      "result sent successfully\n",
      "Error translating with src=en (attempt 1): the JSON object must be str, bytes or bytearray, not NoneType\n",
      "Error translating with src=en (attempt 2): the JSON object must be str, bytes or bytearray, not NoneType\n",
      "🔁 Attempting sentence split and translation...\n"
     ]
    },
    {
     "name": "stderr",
     "output_type": "stream",
     "text": [
      "Translating:  52%|██████████████████████▍                    | 868/1668 [1:13:47<1:05:55,  4.94s/it]"
     ]
    },
    {
     "name": "stdout",
     "output_type": "stream",
     "text": [
      "result sent successfully\n",
      "Error translating with src=en (attempt 1): the JSON object must be str, bytes or bytearray, not NoneType\n",
      "Error translating with src=en (attempt 2): the JSON object must be str, bytes or bytearray, not NoneType\n",
      "🔁 Attempting sentence split and translation...\n"
     ]
    },
    {
     "name": "stderr",
     "output_type": "stream",
     "text": [
      "Translating:  52%|██████████████████████▍                    | 869/1668 [1:13:52<1:05:46,  4.94s/it]"
     ]
    },
    {
     "name": "stdout",
     "output_type": "stream",
     "text": [
      "result sent successfully\n",
      "Error translating with src=en (attempt 1): the JSON object must be str, bytes or bytearray, not NoneType\n",
      "Error translating with src=en (attempt 2): the JSON object must be str, bytes or bytearray, not NoneType\n",
      "🔁 Attempting sentence split and translation...\n"
     ]
    },
    {
     "name": "stderr",
     "output_type": "stream",
     "text": [
      "Translating:  52%|██████████████████████▍                    | 870/1668 [1:13:57<1:06:28,  5.00s/it]"
     ]
    },
    {
     "name": "stdout",
     "output_type": "stream",
     "text": [
      "result sent successfully\n",
      "Error translating with src=en (attempt 1): the JSON object must be str, bytes or bytearray, not NoneType\n",
      "Error translating with src=en (attempt 2): the JSON object must be str, bytes or bytearray, not NoneType\n",
      "🔁 Attempting sentence split and translation...\n"
     ]
    },
    {
     "name": "stderr",
     "output_type": "stream",
     "text": [
      "Translating:  52%|██████████████████████▍                    | 871/1668 [1:14:02<1:06:02,  4.97s/it]"
     ]
    },
    {
     "name": "stdout",
     "output_type": "stream",
     "text": [
      "result sent successfully\n",
      "Error translating with src=en (attempt 1): the JSON object must be str, bytes or bytearray, not NoneType\n",
      "Error translating with src=en (attempt 2): the JSON object must be str, bytes or bytearray, not NoneType\n",
      "🔁 Attempting sentence split and translation...\n"
     ]
    },
    {
     "name": "stderr",
     "output_type": "stream",
     "text": [
      "Translating:  52%|██████████████████████▍                    | 872/1668 [1:14:07<1:05:47,  4.96s/it]"
     ]
    },
    {
     "name": "stdout",
     "output_type": "stream",
     "text": [
      "result sent successfully\n",
      "Error translating with src=en (attempt 1): the JSON object must be str, bytes or bytearray, not NoneType\n",
      "Error translating with src=en (attempt 2): the JSON object must be str, bytes or bytearray, not NoneType\n",
      "🔁 Attempting sentence split and translation...\n"
     ]
    },
    {
     "name": "stderr",
     "output_type": "stream",
     "text": [
      "Translating:  52%|██████████████████████▌                    | 873/1668 [1:14:12<1:05:31,  4.95s/it]"
     ]
    },
    {
     "name": "stdout",
     "output_type": "stream",
     "text": [
      "result sent successfully\n",
      "Error translating with src=en (attempt 1): the JSON object must be str, bytes or bytearray, not NoneType\n",
      "Error translating with src=en (attempt 2): the JSON object must be str, bytes or bytearray, not NoneType\n",
      "🔁 Attempting sentence split and translation...\n"
     ]
    },
    {
     "name": "stderr",
     "output_type": "stream",
     "text": [
      "Translating:  52%|██████████████████████▌                    | 874/1668 [1:14:17<1:05:39,  4.96s/it]"
     ]
    },
    {
     "name": "stdout",
     "output_type": "stream",
     "text": [
      "result sent successfully\n",
      "Error translating with src=en (attempt 1): the JSON object must be str, bytes or bytearray, not NoneType\n",
      "Error translating with src=en (attempt 2): the JSON object must be str, bytes or bytearray, not NoneType\n",
      "🔁 Attempting sentence split and translation...\n"
     ]
    },
    {
     "name": "stderr",
     "output_type": "stream",
     "text": [
      "Translating:  52%|██████████████████████▌                    | 875/1668 [1:14:21<1:05:30,  4.96s/it]"
     ]
    },
    {
     "name": "stdout",
     "output_type": "stream",
     "text": [
      "result sent successfully\n",
      "Error translating with src=en (attempt 1): the JSON object must be str, bytes or bytearray, not NoneType\n",
      "Error translating with src=en (attempt 2): the JSON object must be str, bytes or bytearray, not NoneType\n",
      "🔁 Attempting sentence split and translation...\n"
     ]
    },
    {
     "name": "stderr",
     "output_type": "stream",
     "text": [
      "Translating:  53%|██████████████████████▌                    | 876/1668 [1:14:26<1:05:23,  4.95s/it]"
     ]
    },
    {
     "name": "stdout",
     "output_type": "stream",
     "text": [
      "result sent successfully\n",
      "Error translating with src=en (attempt 1): the JSON object must be str, bytes or bytearray, not NoneType\n",
      "Error translating with src=en (attempt 2): the JSON object must be str, bytes or bytearray, not NoneType\n",
      "🔁 Attempting sentence split and translation...\n"
     ]
    },
    {
     "name": "stderr",
     "output_type": "stream",
     "text": [
      "Translating:  53%|███████████████████████▋                     | 878/1668 [1:14:31<46:00,  3.49s/it]"
     ]
    },
    {
     "name": "stdout",
     "output_type": "stream",
     "text": [
      "result sent successfully\n",
      "Error translating with src=en (attempt 1): the JSON object must be str, bytes or bytearray, not NoneType\n",
      "Error translating with src=en (attempt 2): the JSON object must be str, bytes or bytearray, not NoneType\n",
      "🔁 Attempting sentence split and translation...\n"
     ]
    },
    {
     "name": "stderr",
     "output_type": "stream",
     "text": [
      "Translating:  53%|███████████████████████▋                     | 879/1668 [1:14:36<51:33,  3.92s/it]"
     ]
    },
    {
     "name": "stdout",
     "output_type": "stream",
     "text": [
      "result sent successfully\n",
      "Error translating with src=en (attempt 1): the JSON object must be str, bytes or bytearray, not NoneType\n",
      "Error translating with src=en (attempt 2): the JSON object must be str, bytes or bytearray, not NoneType\n",
      "🔁 Attempting sentence split and translation...\n"
     ]
    },
    {
     "name": "stderr",
     "output_type": "stream",
     "text": [
      "Translating:  53%|███████████████████████▋                     | 880/1668 [1:14:41<55:41,  4.24s/it]"
     ]
    },
    {
     "name": "stdout",
     "output_type": "stream",
     "text": [
      "result sent successfully\n",
      "Error translating with src=en (attempt 1): the JSON object must be str, bytes or bytearray, not NoneType\n",
      "Error translating with src=en (attempt 2): the JSON object must be str, bytes or bytearray, not NoneType\n",
      "🔁 Attempting sentence split and translation...\n"
     ]
    },
    {
     "name": "stderr",
     "output_type": "stream",
     "text": [
      "Translating:  53%|███████████████████████▊                     | 881/1668 [1:14:46<58:32,  4.46s/it]"
     ]
    },
    {
     "name": "stdout",
     "output_type": "stream",
     "text": [
      "result sent successfully\n",
      "Error translating with src=en (attempt 1): the JSON object must be str, bytes or bytearray, not NoneType\n",
      "Error translating with src=en (attempt 2): the JSON object must be str, bytes or bytearray, not NoneType\n",
      "🔁 Attempting sentence split and translation...\n"
     ]
    },
    {
     "name": "stderr",
     "output_type": "stream",
     "text": [
      "Translating:  53%|██████████████████████▋                    | 882/1668 [1:14:51<1:00:19,  4.61s/it]"
     ]
    },
    {
     "name": "stdout",
     "output_type": "stream",
     "text": [
      "result sent successfully\n",
      "Error translating with src=en (attempt 1): the JSON object must be str, bytes or bytearray, not NoneType\n",
      "Error translating with src=en (attempt 2): the JSON object must be str, bytes or bytearray, not NoneType\n",
      "🔁 Attempting sentence split and translation...\n"
     ]
    },
    {
     "name": "stderr",
     "output_type": "stream",
     "text": [
      "Translating:  53%|██████████████████████▊                    | 883/1668 [1:14:56<1:01:32,  4.70s/it]"
     ]
    },
    {
     "name": "stdout",
     "output_type": "stream",
     "text": [
      "result sent successfully\n",
      "Error translating with src=en (attempt 1): the JSON object must be str, bytes or bytearray, not NoneType\n",
      "Error translating with src=en (attempt 2): the JSON object must be str, bytes or bytearray, not NoneType\n",
      "🔁 Attempting sentence split and translation...\n"
     ]
    },
    {
     "name": "stderr",
     "output_type": "stream",
     "text": [
      "Translating:  53%|██████████████████████▊                    | 884/1668 [1:15:01<1:02:45,  4.80s/it]"
     ]
    },
    {
     "name": "stdout",
     "output_type": "stream",
     "text": [
      "result sent successfully\n",
      "Error translating with src=en (attempt 1): the JSON object must be str, bytes or bytearray, not NoneType\n",
      "Error translating with src=en (attempt 2): the JSON object must be str, bytes or bytearray, not NoneType\n",
      "🔁 Attempting sentence split and translation...\n"
     ]
    },
    {
     "name": "stderr",
     "output_type": "stream",
     "text": [
      "Translating:  53%|██████████████████████▊                    | 885/1668 [1:15:06<1:03:08,  4.84s/it]"
     ]
    },
    {
     "name": "stdout",
     "output_type": "stream",
     "text": [
      "result sent successfully\n",
      "Error translating with src=en (attempt 1): the JSON object must be str, bytes or bytearray, not NoneType\n",
      "Error translating with src=en (attempt 2): the JSON object must be str, bytes or bytearray, not NoneType\n",
      "🔁 Attempting sentence split and translation...\n"
     ]
    },
    {
     "name": "stderr",
     "output_type": "stream",
     "text": [
      "Translating:  53%|██████████████████████▊                    | 886/1668 [1:15:11<1:03:22,  4.86s/it]"
     ]
    },
    {
     "name": "stdout",
     "output_type": "stream",
     "text": [
      "result sent successfully\n",
      "Error translating with src=en (attempt 1): the JSON object must be str, bytes or bytearray, not NoneType\n",
      "Error translating with src=en (attempt 2): the JSON object must be str, bytes or bytearray, not NoneType\n",
      "🔁 Attempting sentence split and translation...\n"
     ]
    },
    {
     "name": "stderr",
     "output_type": "stream",
     "text": [
      "Translating:  53%|██████████████████████▊                    | 887/1668 [1:15:16<1:03:52,  4.91s/it]"
     ]
    },
    {
     "name": "stdout",
     "output_type": "stream",
     "text": [
      "result sent successfully\n",
      "Error translating with src=en (attempt 1): the JSON object must be str, bytes or bytearray, not NoneType\n",
      "Error translating with src=en (attempt 2): the JSON object must be str, bytes or bytearray, not NoneType\n",
      "🔁 Attempting sentence split and translation...\n"
     ]
    },
    {
     "name": "stderr",
     "output_type": "stream",
     "text": [
      "Translating:  53%|██████████████████████▉                    | 888/1668 [1:15:21<1:04:03,  4.93s/it]"
     ]
    },
    {
     "name": "stdout",
     "output_type": "stream",
     "text": [
      "result sent successfully\n",
      "Error translating with src=en (attempt 1): the JSON object must be str, bytes or bytearray, not NoneType\n",
      "Error translating with src=en (attempt 2): the JSON object must be str, bytes or bytearray, not NoneType\n",
      "🔁 Attempting sentence split and translation...\n"
     ]
    },
    {
     "name": "stderr",
     "output_type": "stream",
     "text": [
      "Translating:  53%|██████████████████████▉                    | 889/1668 [1:15:26<1:04:09,  4.94s/it]"
     ]
    },
    {
     "name": "stdout",
     "output_type": "stream",
     "text": [
      "result sent successfully\n",
      "Error translating with src=en (attempt 1): the JSON object must be str, bytes or bytearray, not NoneType\n",
      "Error translating with src=en (attempt 2): the JSON object must be str, bytes or bytearray, not NoneType\n",
      "🔁 Attempting sentence split and translation...\n"
     ]
    },
    {
     "name": "stderr",
     "output_type": "stream",
     "text": [
      "Translating:  53%|██████████████████████▉                    | 890/1668 [1:15:31<1:03:57,  4.93s/it]"
     ]
    },
    {
     "name": "stdout",
     "output_type": "stream",
     "text": [
      "result sent successfully\n",
      "Error translating with src=en (attempt 1): the JSON object must be str, bytes or bytearray, not NoneType\n",
      "Error translating with src=en (attempt 2): the JSON object must be str, bytes or bytearray, not NoneType\n",
      "🔁 Attempting sentence split and translation...\n"
     ]
    },
    {
     "name": "stderr",
     "output_type": "stream",
     "text": [
      "Translating:  53%|██████████████████████▉                    | 891/1668 [1:15:36<1:04:57,  5.02s/it]"
     ]
    },
    {
     "name": "stdout",
     "output_type": "stream",
     "text": [
      "result sent successfully\n",
      "Error translating with src=en (attempt 1): the JSON object must be str, bytes or bytearray, not NoneType\n",
      "Error translating with src=en (attempt 2): the JSON object must be str, bytes or bytearray, not NoneType\n",
      "🔁 Attempting sentence split and translation...\n"
     ]
    },
    {
     "name": "stderr",
     "output_type": "stream",
     "text": [
      "Translating:  53%|██████████████████████▉                    | 892/1668 [1:15:41<1:04:27,  4.98s/it]"
     ]
    },
    {
     "name": "stdout",
     "output_type": "stream",
     "text": [
      "result sent successfully\n",
      "Error translating with src=en (attempt 1): the JSON object must be str, bytes or bytearray, not NoneType\n",
      "Error translating with src=en (attempt 2): the JSON object must be str, bytes or bytearray, not NoneType\n",
      "🔁 Attempting sentence split and translation...\n"
     ]
    },
    {
     "name": "stderr",
     "output_type": "stream",
     "text": [
      "Translating:  54%|███████████████████████                    | 893/1668 [1:15:46<1:05:58,  5.11s/it]"
     ]
    },
    {
     "name": "stdout",
     "output_type": "stream",
     "text": [
      "result sent successfully\n",
      "Error translating with src=en (attempt 1): the JSON object must be str, bytes or bytearray, not NoneType\n",
      "Error translating with src=en (attempt 2): the JSON object must be str, bytes or bytearray, not NoneType\n",
      "🔁 Attempting sentence split and translation...\n"
     ]
    },
    {
     "name": "stderr",
     "output_type": "stream",
     "text": [
      "Translating:  54%|███████████████████████                    | 894/1668 [1:15:51<1:05:18,  5.06s/it]"
     ]
    },
    {
     "name": "stdout",
     "output_type": "stream",
     "text": [
      "result sent successfully\n",
      "Error translating with src=en (attempt 1): the JSON object must be str, bytes or bytearray, not NoneType\n",
      "Error translating with src=en (attempt 2): the JSON object must be str, bytes or bytearray, not NoneType\n",
      "🔁 Attempting sentence split and translation...\n"
     ]
    },
    {
     "name": "stderr",
     "output_type": "stream",
     "text": [
      "Translating:  54%|███████████████████████                    | 895/1668 [1:15:57<1:05:58,  5.12s/it]"
     ]
    },
    {
     "name": "stdout",
     "output_type": "stream",
     "text": [
      "result sent successfully\n",
      "Error translating with src=en (attempt 1): the JSON object must be str, bytes or bytearray, not NoneType\n",
      "Error translating with src=en (attempt 2): the JSON object must be str, bytes or bytearray, not NoneType\n",
      "🔁 Attempting sentence split and translation...\n"
     ]
    },
    {
     "name": "stderr",
     "output_type": "stream",
     "text": [
      "Translating:  54%|███████████████████████                    | 896/1668 [1:16:02<1:05:11,  5.07s/it]"
     ]
    },
    {
     "name": "stdout",
     "output_type": "stream",
     "text": [
      "result sent successfully\n",
      "Error translating with src=en (attempt 1): the JSON object must be str, bytes or bytearray, not NoneType\n",
      "Error translating with src=en (attempt 2): the JSON object must be str, bytes or bytearray, not NoneType\n",
      "🔁 Attempting sentence split and translation...\n"
     ]
    },
    {
     "name": "stderr",
     "output_type": "stream",
     "text": [
      "Translating:  54%|███████████████████████                    | 897/1668 [1:16:07<1:05:51,  5.13s/it]"
     ]
    },
    {
     "name": "stdout",
     "output_type": "stream",
     "text": [
      "result sent successfully\n",
      "Error translating with src=en (attempt 1): the JSON object must be str, bytes or bytearray, not NoneType\n",
      "Error translating with src=en (attempt 2): the JSON object must be str, bytes or bytearray, not NoneType\n",
      "🔁 Attempting sentence split and translation...\n"
     ]
    },
    {
     "name": "stderr",
     "output_type": "stream",
     "text": [
      "Translating:  54%|███████████████████████▏                   | 898/1668 [1:16:12<1:05:01,  5.07s/it]"
     ]
    },
    {
     "name": "stdout",
     "output_type": "stream",
     "text": [
      "result sent successfully\n",
      "Error translating with src=en (attempt 1): the JSON object must be str, bytes or bytearray, not NoneType\n",
      "Error translating with src=en (attempt 2): the JSON object must be str, bytes or bytearray, not NoneType\n",
      "🔁 Attempting sentence split and translation...\n"
     ]
    },
    {
     "name": "stderr",
     "output_type": "stream",
     "text": [
      "Translating:  54%|███████████████████████▏                   | 899/1668 [1:16:17<1:04:40,  5.05s/it]"
     ]
    },
    {
     "name": "stdout",
     "output_type": "stream",
     "text": [
      "result sent successfully\n",
      "Error translating with src=en (attempt 1): the JSON object must be str, bytes or bytearray, not NoneType\n",
      "Error translating with src=en (attempt 2): the JSON object must be str, bytes or bytearray, not NoneType\n",
      "🔁 Attempting sentence split and translation...\n"
     ]
    },
    {
     "name": "stderr",
     "output_type": "stream",
     "text": [
      "Translating:  54%|███████████████████████▏                   | 900/1668 [1:16:22<1:04:18,  5.02s/it]"
     ]
    },
    {
     "name": "stdout",
     "output_type": "stream",
     "text": [
      "result sent successfully\n",
      "Error translating with src=en (attempt 1): the JSON object must be str, bytes or bytearray, not NoneType\n",
      "Error translating with src=en (attempt 2): the JSON object must be str, bytes or bytearray, not NoneType\n",
      "🔁 Attempting sentence split and translation...\n"
     ]
    },
    {
     "name": "stderr",
     "output_type": "stream",
     "text": [
      "Translating:  54%|███████████████████████▏                   | 901/1668 [1:16:27<1:05:08,  5.10s/it]"
     ]
    },
    {
     "name": "stdout",
     "output_type": "stream",
     "text": [
      "result sent successfully\n",
      "Error translating with src=en (attempt 1): the JSON object must be str, bytes or bytearray, not NoneType\n",
      "Error translating with src=en (attempt 2): the JSON object must be str, bytes or bytearray, not NoneType\n",
      "🔁 Attempting sentence split and translation...\n"
     ]
    },
    {
     "name": "stderr",
     "output_type": "stream",
     "text": [
      "Translating:  54%|███████████████████████▎                   | 902/1668 [1:16:32<1:05:05,  5.10s/it]"
     ]
    },
    {
     "name": "stdout",
     "output_type": "stream",
     "text": [
      "result sent successfully\n",
      "Error translating with src=en (attempt 1): the JSON object must be str, bytes or bytearray, not NoneType\n",
      "Error translating with src=en (attempt 2): the JSON object must be str, bytes or bytearray, not NoneType\n",
      "🔁 Attempting sentence split and translation...\n"
     ]
    },
    {
     "name": "stderr",
     "output_type": "stream",
     "text": [
      "Translating:  54%|███████████████████████▎                   | 903/1668 [1:16:37<1:05:28,  5.13s/it]"
     ]
    },
    {
     "name": "stdout",
     "output_type": "stream",
     "text": [
      "result sent successfully\n",
      "Error translating with src=en (attempt 1): the JSON object must be str, bytes or bytearray, not NoneType\n",
      "Error translating with src=en (attempt 2): the JSON object must be str, bytes or bytearray, not NoneType\n",
      "🔁 Attempting sentence split and translation...\n"
     ]
    },
    {
     "name": "stderr",
     "output_type": "stream",
     "text": [
      "Translating:  54%|███████████████████████▎                   | 904/1668 [1:16:43<1:05:42,  5.16s/it]"
     ]
    },
    {
     "name": "stdout",
     "output_type": "stream",
     "text": [
      "result sent successfully\n",
      "Error translating with src=en (attempt 1): the JSON object must be str, bytes or bytearray, not NoneType\n",
      "Error translating with src=en (attempt 2): the JSON object must be str, bytes or bytearray, not NoneType\n",
      "🔁 Attempting sentence split and translation...\n"
     ]
    },
    {
     "name": "stderr",
     "output_type": "stream",
     "text": [
      "Translating:  54%|███████████████████████▎                   | 905/1668 [1:16:48<1:04:44,  5.09s/it]"
     ]
    },
    {
     "name": "stdout",
     "output_type": "stream",
     "text": [
      "result sent successfully\n",
      "Error translating with src=en (attempt 1): the JSON object must be str, bytes or bytearray, not NoneType\n",
      "Error translating with src=en (attempt 2): the JSON object must be str, bytes or bytearray, not NoneType\n",
      "🔁 Attempting sentence split and translation...\n"
     ]
    },
    {
     "name": "stderr",
     "output_type": "stream",
     "text": [
      "Translating:  54%|███████████████████████▎                   | 906/1668 [1:16:53<1:06:46,  5.26s/it]"
     ]
    },
    {
     "name": "stdout",
     "output_type": "stream",
     "text": [
      "result sent successfully\n",
      "Error translating with src=en (attempt 1): the JSON object must be str, bytes or bytearray, not NoneType\n",
      "Error translating with src=en (attempt 2): the JSON object must be str, bytes or bytearray, not NoneType\n",
      "🔁 Attempting sentence split and translation...\n"
     ]
    },
    {
     "name": "stderr",
     "output_type": "stream",
     "text": [
      "Translating:  54%|███████████████████████▍                   | 907/1668 [1:16:58<1:05:35,  5.17s/it]"
     ]
    },
    {
     "name": "stdout",
     "output_type": "stream",
     "text": [
      "result sent successfully\n",
      "Error translating with src=en (attempt 1): the JSON object must be str, bytes or bytearray, not NoneType\n",
      "Error translating with src=en (attempt 2): the JSON object must be str, bytes or bytearray, not NoneType\n",
      "🔁 Attempting sentence split and translation...\n"
     ]
    },
    {
     "name": "stderr",
     "output_type": "stream",
     "text": [
      "Translating:  54%|███████████████████████▍                   | 908/1668 [1:17:03<1:05:40,  5.19s/it]"
     ]
    },
    {
     "name": "stdout",
     "output_type": "stream",
     "text": [
      "result sent successfully\n",
      "Error translating with src=en (attempt 1): the JSON object must be str, bytes or bytearray, not NoneType\n",
      "Error translating with src=en (attempt 2): the JSON object must be str, bytes or bytearray, not NoneType\n",
      "🔁 Attempting sentence split and translation...\n"
     ]
    },
    {
     "name": "stderr",
     "output_type": "stream",
     "text": [
      "Translating:  54%|███████████████████████▍                   | 909/1668 [1:17:08<1:04:37,  5.11s/it]"
     ]
    },
    {
     "name": "stdout",
     "output_type": "stream",
     "text": [
      "result sent successfully\n",
      "Error translating with src=en (attempt 1): the JSON object must be str, bytes or bytearray, not NoneType\n",
      "Error translating with src=en (attempt 2): the JSON object must be str, bytes or bytearray, not NoneType\n",
      "🔁 Attempting sentence split and translation...\n"
     ]
    },
    {
     "name": "stderr",
     "output_type": "stream",
     "text": [
      "Translating:  55%|███████████████████████▍                   | 910/1668 [1:17:13<1:03:51,  5.06s/it]"
     ]
    },
    {
     "name": "stdout",
     "output_type": "stream",
     "text": [
      "result sent successfully\n",
      "Error translating with src=en (attempt 1): the JSON object must be str, bytes or bytearray, not NoneType\n",
      "Error translating with src=en (attempt 2): the JSON object must be str, bytes or bytearray, not NoneType\n",
      "🔁 Attempting sentence split and translation...\n"
     ]
    },
    {
     "name": "stderr",
     "output_type": "stream",
     "text": [
      "Translating:  55%|███████████████████████▍                   | 911/1668 [1:17:18<1:03:33,  5.04s/it]"
     ]
    },
    {
     "name": "stdout",
     "output_type": "stream",
     "text": [
      "result sent successfully\n",
      "Error translating with src=en (attempt 1): the JSON object must be str, bytes or bytearray, not NoneType\n",
      "Error translating with src=en (attempt 2): the JSON object must be str, bytes or bytearray, not NoneType\n",
      "🔁 Attempting sentence split and translation...\n"
     ]
    },
    {
     "name": "stderr",
     "output_type": "stream",
     "text": [
      "Translating:  55%|███████████████████████▌                   | 912/1668 [1:17:23<1:03:09,  5.01s/it]"
     ]
    },
    {
     "name": "stdout",
     "output_type": "stream",
     "text": [
      "result sent successfully\n",
      "Error translating with src=en (attempt 1): the JSON object must be str, bytes or bytearray, not NoneType\n",
      "Error translating with src=en (attempt 2): the JSON object must be str, bytes or bytearray, not NoneType\n",
      "🔁 Attempting sentence split and translation...\n"
     ]
    },
    {
     "name": "stderr",
     "output_type": "stream",
     "text": [
      "Translating:  55%|███████████████████████▌                   | 913/1668 [1:17:28<1:02:42,  4.98s/it]"
     ]
    },
    {
     "name": "stdout",
     "output_type": "stream",
     "text": [
      "result sent successfully\n",
      "Error translating with src=en (attempt 1): the JSON object must be str, bytes or bytearray, not NoneType\n",
      "Error translating with src=en (attempt 2): the JSON object must be str, bytes or bytearray, not NoneType\n",
      "🔁 Attempting sentence split and translation...\n"
     ]
    },
    {
     "name": "stderr",
     "output_type": "stream",
     "text": [
      "Translating:  55%|███████████████████████▌                   | 914/1668 [1:17:33<1:02:33,  4.98s/it]"
     ]
    },
    {
     "name": "stdout",
     "output_type": "stream",
     "text": [
      "result sent successfully\n",
      "Error translating with src=en (attempt 1): the JSON object must be str, bytes or bytearray, not NoneType\n",
      "Error translating with src=en (attempt 2): the JSON object must be str, bytes or bytearray, not NoneType\n",
      "🔁 Attempting sentence split and translation...\n"
     ]
    },
    {
     "name": "stderr",
     "output_type": "stream",
     "text": [
      "Translating:  55%|███████████████████████▌                   | 915/1668 [1:17:38<1:02:16,  4.96s/it]"
     ]
    },
    {
     "name": "stdout",
     "output_type": "stream",
     "text": [
      "result sent successfully\n",
      "Error translating with src=en (attempt 1): the JSON object must be str, bytes or bytearray, not NoneType\n",
      "Error translating with src=en (attempt 2): the JSON object must be str, bytes or bytearray, not NoneType\n",
      "🔁 Attempting sentence split and translation...\n"
     ]
    },
    {
     "name": "stderr",
     "output_type": "stream",
     "text": [
      "Translating:  55%|███████████████████████▌                   | 916/1668 [1:17:43<1:02:06,  4.96s/it]"
     ]
    },
    {
     "name": "stdout",
     "output_type": "stream",
     "text": [
      "result sent successfully\n",
      "Error translating with src=en (attempt 1): the JSON object must be str, bytes or bytearray, not NoneType\n",
      "Error translating with src=en (attempt 2): the JSON object must be str, bytes or bytearray, not NoneType\n",
      "🔁 Attempting sentence split and translation...\n"
     ]
    },
    {
     "name": "stderr",
     "output_type": "stream",
     "text": [
      "Translating:  55%|███████████████████████▋                   | 917/1668 [1:17:48<1:02:23,  4.98s/it]"
     ]
    },
    {
     "name": "stdout",
     "output_type": "stream",
     "text": [
      "result sent successfully\n",
      "Error translating with src=en (attempt 1): the JSON object must be str, bytes or bytearray, not NoneType\n",
      "Error translating with src=en (attempt 2): the JSON object must be str, bytes or bytearray, not NoneType\n",
      "🔁 Attempting sentence split and translation...\n"
     ]
    },
    {
     "name": "stderr",
     "output_type": "stream",
     "text": [
      "Translating:  55%|███████████████████████▋                   | 918/1668 [1:17:53<1:02:03,  4.97s/it]"
     ]
    },
    {
     "name": "stdout",
     "output_type": "stream",
     "text": [
      "result sent successfully\n",
      "Error translating with src=en (attempt 1): the JSON object must be str, bytes or bytearray, not NoneType\n",
      "Error translating with src=en (attempt 2): the JSON object must be str, bytes or bytearray, not NoneType\n",
      "🔁 Attempting sentence split and translation...\n"
     ]
    },
    {
     "name": "stderr",
     "output_type": "stream",
     "text": [
      "Translating:  55%|███████████████████████▋                   | 919/1668 [1:17:58<1:03:03,  5.05s/it]"
     ]
    },
    {
     "name": "stdout",
     "output_type": "stream",
     "text": [
      "result sent successfully\n",
      "Error translating with src=en (attempt 1): the JSON object must be str, bytes or bytearray, not NoneType\n",
      "Error translating with src=en (attempt 2): the JSON object must be str, bytes or bytearray, not NoneType\n",
      "🔁 Attempting sentence split and translation...\n"
     ]
    },
    {
     "name": "stderr",
     "output_type": "stream",
     "text": [
      "Translating:  55%|███████████████████████▋                   | 920/1668 [1:18:03<1:02:31,  5.01s/it]"
     ]
    },
    {
     "name": "stdout",
     "output_type": "stream",
     "text": [
      "result sent successfully\n",
      "Error translating with src=en (attempt 1): the JSON object must be str, bytes or bytearray, not NoneType\n",
      "Error translating with src=en (attempt 2): the JSON object must be str, bytes or bytearray, not NoneType\n",
      "🔁 Attempting sentence split and translation...\n"
     ]
    },
    {
     "name": "stderr",
     "output_type": "stream",
     "text": [
      "Translating:  55%|███████████████████████▋                   | 921/1668 [1:18:08<1:02:16,  5.00s/it]"
     ]
    },
    {
     "name": "stdout",
     "output_type": "stream",
     "text": [
      "result sent successfully\n",
      "Error translating with src=en (attempt 1): the JSON object must be str, bytes or bytearray, not NoneType\n",
      "Error translating with src=en (attempt 2): the JSON object must be str, bytes or bytearray, not NoneType\n",
      "🔁 Attempting sentence split and translation...\n"
     ]
    },
    {
     "name": "stderr",
     "output_type": "stream",
     "text": [
      "Translating:  55%|███████████████████████▊                   | 922/1668 [1:18:13<1:01:51,  4.98s/it]"
     ]
    },
    {
     "name": "stdout",
     "output_type": "stream",
     "text": [
      "result sent successfully\n",
      "Error translating with src=en (attempt 1): the JSON object must be str, bytes or bytearray, not NoneType\n",
      "Error translating with src=en (attempt 2): the JSON object must be str, bytes or bytearray, not NoneType\n",
      "🔁 Attempting sentence split and translation...\n"
     ]
    },
    {
     "name": "stderr",
     "output_type": "stream",
     "text": [
      "Translating:  55%|███████████████████████▊                   | 923/1668 [1:18:18<1:02:06,  5.00s/it]"
     ]
    },
    {
     "name": "stdout",
     "output_type": "stream",
     "text": [
      "result sent successfully\n",
      "Error translating with src=en (attempt 1): the JSON object must be str, bytes or bytearray, not NoneType\n",
      "Error translating with src=en (attempt 2): the JSON object must be str, bytes or bytearray, not NoneType\n",
      "🔁 Attempting sentence split and translation...\n"
     ]
    },
    {
     "name": "stderr",
     "output_type": "stream",
     "text": [
      "Translating:  55%|███████████████████████▊                   | 924/1668 [1:18:23<1:01:46,  4.98s/it]"
     ]
    },
    {
     "name": "stdout",
     "output_type": "stream",
     "text": [
      "result sent successfully\n",
      "Error translating with src=en (attempt 1): the JSON object must be str, bytes or bytearray, not NoneType\n",
      "Error translating with src=en (attempt 2): the JSON object must be str, bytes or bytearray, not NoneType\n",
      "🔁 Attempting sentence split and translation...\n"
     ]
    },
    {
     "name": "stderr",
     "output_type": "stream",
     "text": [
      "Translating:  55%|███████████████████████▊                   | 925/1668 [1:18:28<1:01:42,  4.98s/it]"
     ]
    },
    {
     "name": "stdout",
     "output_type": "stream",
     "text": [
      "result sent successfully\n",
      "Error translating with src=en (attempt 1): the JSON object must be str, bytes or bytearray, not NoneType\n",
      "Error translating with src=en (attempt 2): the JSON object must be str, bytes or bytearray, not NoneType\n",
      "🔁 Attempting sentence split and translation...\n"
     ]
    },
    {
     "name": "stderr",
     "output_type": "stream",
     "text": [
      "Translating:  56%|███████████████████████▊                   | 926/1668 [1:18:33<1:01:27,  4.97s/it]"
     ]
    },
    {
     "name": "stdout",
     "output_type": "stream",
     "text": [
      "result sent successfully\n",
      "Error translating with src=en (attempt 1): the JSON object must be str, bytes or bytearray, not NoneType\n",
      "Error translating with src=en (attempt 2): the JSON object must be str, bytes or bytearray, not NoneType\n",
      "🔁 Attempting sentence split and translation...\n"
     ]
    },
    {
     "name": "stderr",
     "output_type": "stream",
     "text": [
      "Translating:  56%|███████████████████████▉                   | 927/1668 [1:18:38<1:01:17,  4.96s/it]"
     ]
    },
    {
     "name": "stdout",
     "output_type": "stream",
     "text": [
      "result sent successfully\n",
      "Error translating with src=en (attempt 1): the JSON object must be str, bytes or bytearray, not NoneType\n",
      "Error translating with src=en (attempt 2): the JSON object must be str, bytes or bytearray, not NoneType\n",
      "🔁 Attempting sentence split and translation...\n"
     ]
    },
    {
     "name": "stderr",
     "output_type": "stream",
     "text": [
      "Translating:  56%|███████████████████████▉                   | 928/1668 [1:18:43<1:01:01,  4.95s/it]"
     ]
    },
    {
     "name": "stdout",
     "output_type": "stream",
     "text": [
      "result sent successfully\n",
      "Error translating with src=en (attempt 1): the JSON object must be str, bytes or bytearray, not NoneType\n",
      "Error translating with src=en (attempt 2): the JSON object must be str, bytes or bytearray, not NoneType\n",
      "🔁 Attempting sentence split and translation...\n"
     ]
    },
    {
     "name": "stderr",
     "output_type": "stream",
     "text": [
      "Translating:  56%|███████████████████████▉                   | 929/1668 [1:18:48<1:02:02,  5.04s/it]"
     ]
    },
    {
     "name": "stdout",
     "output_type": "stream",
     "text": [
      "result sent successfully\n",
      "Error translating with src=en (attempt 1): the JSON object must be str, bytes or bytearray, not NoneType\n",
      "Error translating with src=en (attempt 2): the JSON object must be str, bytes or bytearray, not NoneType\n",
      "🔁 Attempting sentence split and translation...\n"
     ]
    },
    {
     "name": "stderr",
     "output_type": "stream",
     "text": [
      "Translating:  56%|███████████████████████▉                   | 930/1668 [1:18:53<1:01:50,  5.03s/it]"
     ]
    },
    {
     "name": "stdout",
     "output_type": "stream",
     "text": [
      "result sent successfully\n",
      "Error translating with src=en (attempt 1): the JSON object must be str, bytes or bytearray, not NoneType\n",
      "Error translating with src=en (attempt 2): the JSON object must be str, bytes or bytearray, not NoneType\n",
      "🔁 Attempting sentence split and translation...\n"
     ]
    },
    {
     "name": "stderr",
     "output_type": "stream",
     "text": [
      "Translating:  56%|████████████████████████                   | 931/1668 [1:18:58<1:02:48,  5.11s/it]"
     ]
    },
    {
     "name": "stdout",
     "output_type": "stream",
     "text": [
      "result sent successfully\n",
      "Error translating with src=en (attempt 1): the JSON object must be str, bytes or bytearray, not NoneType\n",
      "Error translating with src=en (attempt 2): the JSON object must be str, bytes or bytearray, not NoneType\n",
      "🔁 Attempting sentence split and translation...\n"
     ]
    },
    {
     "name": "stderr",
     "output_type": "stream",
     "text": [
      "Translating:  56%|████████████████████████                   | 932/1668 [1:19:03<1:02:03,  5.06s/it]"
     ]
    },
    {
     "name": "stdout",
     "output_type": "stream",
     "text": [
      "result sent successfully\n",
      "Error translating with src=en (attempt 1): the JSON object must be str, bytes or bytearray, not NoneType\n",
      "Error translating with src=en (attempt 2): the JSON object must be str, bytes or bytearray, not NoneType\n",
      "🔁 Attempting sentence split and translation...\n"
     ]
    },
    {
     "name": "stderr",
     "output_type": "stream",
     "text": [
      "Translating:  56%|████████████████████████                   | 933/1668 [1:19:08<1:01:38,  5.03s/it]"
     ]
    },
    {
     "name": "stdout",
     "output_type": "stream",
     "text": [
      "result sent successfully\n",
      "Error translating with src=en (attempt 1): the JSON object must be str, bytes or bytearray, not NoneType\n",
      "Error translating with src=en (attempt 2): the JSON object must be str, bytes or bytearray, not NoneType\n",
      "🔁 Attempting sentence split and translation...\n"
     ]
    },
    {
     "name": "stderr",
     "output_type": "stream",
     "text": [
      "Translating:  56%|████████████████████████                   | 934/1668 [1:19:13<1:02:28,  5.11s/it]"
     ]
    },
    {
     "name": "stdout",
     "output_type": "stream",
     "text": [
      "result sent successfully\n",
      "Error translating with src=en (attempt 1): the JSON object must be str, bytes or bytearray, not NoneType\n",
      "Error translating with src=en (attempt 2): the JSON object must be str, bytes or bytearray, not NoneType\n",
      "🔁 Attempting sentence split and translation...\n"
     ]
    },
    {
     "name": "stderr",
     "output_type": "stream",
     "text": [
      "Translating:  56%|████████████████████████                   | 935/1668 [1:19:19<1:02:07,  5.08s/it]"
     ]
    },
    {
     "name": "stdout",
     "output_type": "stream",
     "text": [
      "result sent successfully\n",
      "Error translating with src=en (attempt 1): the JSON object must be str, bytes or bytearray, not NoneType\n",
      "Error translating with src=en (attempt 2): the JSON object must be str, bytes or bytearray, not NoneType\n",
      "🔁 Attempting sentence split and translation...\n"
     ]
    },
    {
     "name": "stderr",
     "output_type": "stream",
     "text": [
      "Translating:  56%|████████████████████████▏                  | 936/1668 [1:19:24<1:02:38,  5.13s/it]"
     ]
    },
    {
     "name": "stdout",
     "output_type": "stream",
     "text": [
      "result sent successfully\n",
      "Error translating with src=en (attempt 1): the JSON object must be str, bytes or bytearray, not NoneType\n",
      "Error translating with src=en (attempt 2): the JSON object must be str, bytes or bytearray, not NoneType\n",
      "🔁 Attempting sentence split and translation...\n"
     ]
    },
    {
     "name": "stderr",
     "output_type": "stream",
     "text": [
      "Translating:  56%|████████████████████████▏                  | 937/1668 [1:19:29<1:01:54,  5.08s/it]"
     ]
    },
    {
     "name": "stdout",
     "output_type": "stream",
     "text": [
      "result sent successfully\n",
      "Error translating with src=en (attempt 1): the JSON object must be str, bytes or bytearray, not NoneType\n",
      "Error translating with src=en (attempt 2): the JSON object must be str, bytes or bytearray, not NoneType\n",
      "🔁 Attempting sentence split and translation...\n"
     ]
    },
    {
     "name": "stderr",
     "output_type": "stream",
     "text": [
      "Translating:  56%|████████████████████████▏                  | 938/1668 [1:19:34<1:01:48,  5.08s/it]"
     ]
    },
    {
     "name": "stdout",
     "output_type": "stream",
     "text": [
      "result sent successfully\n",
      "Error translating with src=en (attempt 1): the JSON object must be str, bytes or bytearray, not NoneType\n",
      "Error translating with src=en (attempt 2): the JSON object must be str, bytes or bytearray, not NoneType\n",
      "🔁 Attempting sentence split and translation...\n"
     ]
    },
    {
     "name": "stderr",
     "output_type": "stream",
     "text": [
      "Translating:  56%|████████████████████████▏                  | 939/1668 [1:19:39<1:02:20,  5.13s/it]"
     ]
    },
    {
     "name": "stdout",
     "output_type": "stream",
     "text": [
      "result sent successfully\n",
      "Error translating with src=en (attempt 1): the JSON object must be str, bytes or bytearray, not NoneType\n",
      "Error translating with src=en (attempt 2): the JSON object must be str, bytes or bytearray, not NoneType\n",
      "🔁 Attempting sentence split and translation...\n"
     ]
    },
    {
     "name": "stderr",
     "output_type": "stream",
     "text": [
      "Translating:  56%|████████████████████████▏                  | 940/1668 [1:19:44<1:01:31,  5.07s/it]"
     ]
    },
    {
     "name": "stdout",
     "output_type": "stream",
     "text": [
      "result sent successfully\n",
      "Error translating with src=en (attempt 1): the JSON object must be str, bytes or bytearray, not NoneType\n",
      "Error translating with src=en (attempt 2): the JSON object must be str, bytes or bytearray, not NoneType\n",
      "🔁 Attempting sentence split and translation...\n"
     ]
    },
    {
     "name": "stderr",
     "output_type": "stream",
     "text": [
      "Translating:  56%|████████████████████████▎                  | 941/1668 [1:19:49<1:00:58,  5.03s/it]"
     ]
    },
    {
     "name": "stdout",
     "output_type": "stream",
     "text": [
      "result sent successfully\n",
      "Error translating with src=en (attempt 1): the JSON object must be str, bytes or bytearray, not NoneType\n",
      "Error translating with src=en (attempt 2): the JSON object must be str, bytes or bytearray, not NoneType\n",
      "🔁 Attempting sentence split and translation...\n"
     ]
    },
    {
     "name": "stderr",
     "output_type": "stream",
     "text": [
      "Translating:  56%|████████████████████████▎                  | 942/1668 [1:19:54<1:00:41,  5.02s/it]"
     ]
    },
    {
     "name": "stdout",
     "output_type": "stream",
     "text": [
      "result sent successfully\n",
      "Error translating with src=en (attempt 1): the JSON object must be str, bytes or bytearray, not NoneType\n",
      "Error translating with src=en (attempt 2): the JSON object must be str, bytes or bytearray, not NoneType\n",
      "🔁 Attempting sentence split and translation...\n"
     ]
    },
    {
     "name": "stderr",
     "output_type": "stream",
     "text": [
      "Translating:  57%|████████████████████████▎                  | 943/1668 [1:19:59<1:00:17,  4.99s/it]"
     ]
    },
    {
     "name": "stdout",
     "output_type": "stream",
     "text": [
      "result sent successfully\n",
      "Error translating with src=en (attempt 1): the JSON object must be str, bytes or bytearray, not NoneType\n",
      "Error translating with src=en (attempt 2): the JSON object must be str, bytes or bytearray, not NoneType\n",
      "🔁 Attempting sentence split and translation...\n"
     ]
    },
    {
     "name": "stderr",
     "output_type": "stream",
     "text": [
      "Translating:  57%|████████████████████████▎                  | 944/1668 [1:20:04<1:00:00,  4.97s/it]"
     ]
    },
    {
     "name": "stdout",
     "output_type": "stream",
     "text": [
      "result sent successfully\n",
      "Error translating with src=en (attempt 1): the JSON object must be str, bytes or bytearray, not NoneType\n",
      "Error translating with src=en (attempt 2): the JSON object must be str, bytes or bytearray, not NoneType\n",
      "🔁 Attempting sentence split and translation...\n"
     ]
    },
    {
     "name": "stderr",
     "output_type": "stream",
     "text": [
      "Translating:  57%|█████████████████████████▍                   | 945/1668 [1:20:09<59:45,  4.96s/it]"
     ]
    },
    {
     "name": "stdout",
     "output_type": "stream",
     "text": [
      "result sent successfully\n",
      "Error translating with src=en (attempt 1): the JSON object must be str, bytes or bytearray, not NoneType\n",
      "Error translating with src=en (attempt 2): the JSON object must be str, bytes or bytearray, not NoneType\n",
      "🔁 Attempting sentence split and translation...\n"
     ]
    },
    {
     "name": "stderr",
     "output_type": "stream",
     "text": [
      "Translating:  57%|█████████████████████████▌                   | 946/1668 [1:20:14<59:48,  4.97s/it]"
     ]
    },
    {
     "name": "stdout",
     "output_type": "stream",
     "text": [
      "result sent successfully\n",
      "Error translating with src=en (attempt 1): the JSON object must be str, bytes or bytearray, not NoneType\n",
      "Error translating with src=en (attempt 2): the JSON object must be str, bytes or bytearray, not NoneType\n",
      "🔁 Attempting sentence split and translation...\n"
     ]
    },
    {
     "name": "stderr",
     "output_type": "stream",
     "text": [
      "Translating:  57%|█████████████████████████▌                   | 947/1668 [1:20:19<59:53,  4.98s/it]"
     ]
    },
    {
     "name": "stdout",
     "output_type": "stream",
     "text": [
      "result sent successfully\n",
      "Error translating with src=en (attempt 1): the JSON object must be str, bytes or bytearray, not NoneType\n",
      "Error translating with src=en (attempt 2): the JSON object must be str, bytes or bytearray, not NoneType\n",
      "🔁 Attempting sentence split and translation...\n"
     ]
    },
    {
     "name": "stderr",
     "output_type": "stream",
     "text": [
      "Translating:  57%|█████████████████████████▌                   | 948/1668 [1:20:24<59:40,  4.97s/it]"
     ]
    },
    {
     "name": "stdout",
     "output_type": "stream",
     "text": [
      "result sent successfully\n",
      "Error translating with src=en (attempt 1): the JSON object must be str, bytes or bytearray, not NoneType\n",
      "Error translating with src=en (attempt 2): the JSON object must be str, bytes or bytearray, not NoneType\n",
      "🔁 Attempting sentence split and translation...\n"
     ]
    },
    {
     "name": "stderr",
     "output_type": "stream",
     "text": [
      "Translating:  57%|████████████████████████▍                  | 949/1668 [1:20:29<1:00:52,  5.08s/it]"
     ]
    },
    {
     "name": "stdout",
     "output_type": "stream",
     "text": [
      "result sent successfully\n",
      "Error translating with src=en (attempt 1): the JSON object must be str, bytes or bytearray, not NoneType\n",
      "Error translating with src=en (attempt 2): the JSON object must be str, bytes or bytearray, not NoneType\n",
      "🔁 Attempting sentence split and translation...\n"
     ]
    },
    {
     "name": "stderr",
     "output_type": "stream",
     "text": [
      "Translating:  57%|████████████████████████▍                  | 950/1668 [1:20:34<1:01:17,  5.12s/it]"
     ]
    },
    {
     "name": "stdout",
     "output_type": "stream",
     "text": [
      "result sent successfully\n",
      "Error translating with src=en (attempt 1): the JSON object must be str, bytes or bytearray, not NoneType\n",
      "Error translating with src=en (attempt 2): the JSON object must be str, bytes or bytearray, not NoneType\n",
      "🔁 Attempting sentence split and translation...\n"
     ]
    },
    {
     "name": "stderr",
     "output_type": "stream",
     "text": [
      "Translating:  57%|████████████████████████▌                  | 951/1668 [1:20:39<1:00:33,  5.07s/it]"
     ]
    },
    {
     "name": "stdout",
     "output_type": "stream",
     "text": [
      "result sent successfully\n",
      "Error translating with src=en (attempt 1): the JSON object must be str, bytes or bytearray, not NoneType\n",
      "Error translating with src=en (attempt 2): the JSON object must be str, bytes or bytearray, not NoneType\n",
      "🔁 Attempting sentence split and translation...\n"
     ]
    },
    {
     "name": "stderr",
     "output_type": "stream",
     "text": [
      "Translating:  57%|████████████████████████▌                  | 952/1668 [1:20:44<1:00:14,  5.05s/it]"
     ]
    },
    {
     "name": "stdout",
     "output_type": "stream",
     "text": [
      "result sent successfully\n",
      "Error translating with src=en (attempt 1): the JSON object must be str, bytes or bytearray, not NoneType\n",
      "Error translating with src=en (attempt 2): the JSON object must be str, bytes or bytearray, not NoneType\n",
      "🔁 Attempting sentence split and translation...\n"
     ]
    },
    {
     "name": "stderr",
     "output_type": "stream",
     "text": [
      "Translating:  57%|████████████████████████▌                  | 953/1668 [1:20:49<1:00:02,  5.04s/it]"
     ]
    },
    {
     "name": "stdout",
     "output_type": "stream",
     "text": [
      "result sent successfully\n",
      "Error translating with src=en (attempt 1): the JSON object must be str, bytes or bytearray, not NoneType\n",
      "Error translating with src=en (attempt 2): the JSON object must be str, bytes or bytearray, not NoneType\n",
      "🔁 Attempting sentence split and translation...\n"
     ]
    },
    {
     "name": "stderr",
     "output_type": "stream",
     "text": [
      "Translating:  57%|█████████████████████████▋                   | 954/1668 [1:20:54<59:58,  5.04s/it]"
     ]
    },
    {
     "name": "stdout",
     "output_type": "stream",
     "text": [
      "result sent successfully\n",
      "Error translating with src=en (attempt 1): the JSON object must be str, bytes or bytearray, not NoneType\n",
      "Error translating with src=en (attempt 2): the JSON object must be str, bytes or bytearray, not NoneType\n",
      "🔁 Attempting sentence split and translation...\n"
     ]
    },
    {
     "name": "stderr",
     "output_type": "stream",
     "text": [
      "Translating:  57%|█████████████████████████▊                   | 955/1668 [1:20:59<59:33,  5.01s/it]"
     ]
    },
    {
     "name": "stdout",
     "output_type": "stream",
     "text": [
      "result sent successfully\n",
      "Error translating with src=en (attempt 1): the JSON object must be str, bytes or bytearray, not NoneType\n",
      "Error translating with src=en (attempt 2): the JSON object must be str, bytes or bytearray, not NoneType\n",
      "🔁 Attempting sentence split and translation...\n"
     ]
    },
    {
     "name": "stderr",
     "output_type": "stream",
     "text": [
      "Translating:  57%|█████████████████████████▊                   | 956/1668 [1:21:04<59:10,  4.99s/it]"
     ]
    },
    {
     "name": "stdout",
     "output_type": "stream",
     "text": [
      "result sent successfully\n",
      "Error translating with src=en (attempt 1): the JSON object must be str, bytes or bytearray, not NoneType\n",
      "Error translating with src=en (attempt 2): the JSON object must be str, bytes or bytearray, not NoneType\n",
      "🔁 Attempting sentence split and translation...\n"
     ]
    },
    {
     "name": "stderr",
     "output_type": "stream",
     "text": [
      "Translating:  57%|█████████████████████████▊                   | 957/1668 [1:21:09<59:04,  4.99s/it]"
     ]
    },
    {
     "name": "stdout",
     "output_type": "stream",
     "text": [
      "result sent successfully\n",
      "Error translating with src=en (attempt 1): the JSON object must be str, bytes or bytearray, not NoneType\n",
      "Error translating with src=en (attempt 2): the JSON object must be str, bytes or bytearray, not NoneType\n",
      "🔁 Attempting sentence split and translation...\n"
     ]
    },
    {
     "name": "stderr",
     "output_type": "stream",
     "text": [
      "Translating:  57%|█████████████████████████▊                   | 958/1668 [1:21:14<58:54,  4.98s/it]"
     ]
    },
    {
     "name": "stdout",
     "output_type": "stream",
     "text": [
      "result sent successfully\n",
      "Error translating with src=en (attempt 1): the JSON object must be str, bytes or bytearray, not NoneType\n",
      "Error translating with src=en (attempt 2): the JSON object must be str, bytes or bytearray, not NoneType\n",
      "🔁 Attempting sentence split and translation...\n"
     ]
    },
    {
     "name": "stderr",
     "output_type": "stream",
     "text": [
      "Translating:  57%|█████████████████████████▊                   | 959/1668 [1:21:19<59:06,  5.00s/it]"
     ]
    },
    {
     "name": "stdout",
     "output_type": "stream",
     "text": [
      "result sent successfully\n",
      "Error translating with src=en (attempt 1): the JSON object must be str, bytes or bytearray, not NoneType\n",
      "Error translating with src=en (attempt 2): the JSON object must be str, bytes or bytearray, not NoneType\n",
      "🔁 Attempting sentence split and translation...\n"
     ]
    },
    {
     "name": "stderr",
     "output_type": "stream",
     "text": [
      "Translating:  58%|█████████████████████████▉                   | 960/1668 [1:21:24<58:51,  4.99s/it]"
     ]
    },
    {
     "name": "stdout",
     "output_type": "stream",
     "text": [
      "result sent successfully\n",
      "Error translating with src=en (attempt 1): the JSON object must be str, bytes or bytearray, not NoneType\n",
      "Error translating with src=en (attempt 2): the JSON object must be str, bytes or bytearray, not NoneType\n",
      "🔁 Attempting sentence split and translation...\n"
     ]
    },
    {
     "name": "stderr",
     "output_type": "stream",
     "text": [
      "Translating:  58%|█████████████████████████▉                   | 961/1668 [1:21:29<58:33,  4.97s/it]"
     ]
    },
    {
     "name": "stdout",
     "output_type": "stream",
     "text": [
      "result sent successfully\n",
      "Error translating with src=en (attempt 1): the JSON object must be str, bytes or bytearray, not NoneType\n",
      "Error translating with src=en (attempt 2): the JSON object must be str, bytes or bytearray, not NoneType\n",
      "🔁 Attempting sentence split and translation...\n"
     ]
    },
    {
     "name": "stderr",
     "output_type": "stream",
     "text": [
      "Translating:  58%|█████████████████████████▉                   | 962/1668 [1:21:34<58:22,  4.96s/it]"
     ]
    },
    {
     "name": "stdout",
     "output_type": "stream",
     "text": [
      "result sent successfully\n",
      "Error translating with src=en (attempt 1): the JSON object must be str, bytes or bytearray, not NoneType\n",
      "Error translating with src=en (attempt 2): the JSON object must be str, bytes or bytearray, not NoneType\n",
      "🔁 Attempting sentence split and translation...\n"
     ]
    },
    {
     "name": "stderr",
     "output_type": "stream",
     "text": [
      "Translating:  58%|█████████████████████████▉                   | 963/1668 [1:21:39<58:10,  4.95s/it]"
     ]
    },
    {
     "name": "stdout",
     "output_type": "stream",
     "text": [
      "result sent successfully\n",
      "Error translating with src=en (attempt 1): the JSON object must be str, bytes or bytearray, not NoneType\n",
      "Error translating with src=en (attempt 2): the JSON object must be str, bytes or bytearray, not NoneType\n",
      "🔁 Attempting sentence split and translation...\n"
     ]
    },
    {
     "name": "stderr",
     "output_type": "stream",
     "text": [
      "Translating:  58%|██████████████████████████                   | 964/1668 [1:21:44<58:01,  4.95s/it]"
     ]
    },
    {
     "name": "stdout",
     "output_type": "stream",
     "text": [
      "result sent successfully\n",
      "Error translating with src=en (attempt 1): the JSON object must be str, bytes or bytearray, not NoneType\n",
      "Error translating with src=en (attempt 2): the JSON object must be str, bytes or bytearray, not NoneType\n",
      "🔁 Attempting sentence split and translation...\n"
     ]
    },
    {
     "name": "stderr",
     "output_type": "stream",
     "text": [
      "Translating:  58%|██████████████████████████                   | 965/1668 [1:21:49<57:51,  4.94s/it]"
     ]
    },
    {
     "name": "stdout",
     "output_type": "stream",
     "text": [
      "result sent successfully\n",
      "Error translating with src=en (attempt 1): the JSON object must be str, bytes or bytearray, not NoneType\n",
      "Error translating with src=en (attempt 2): the JSON object must be str, bytes or bytearray, not NoneType\n",
      "🔁 Attempting sentence split and translation...\n"
     ]
    },
    {
     "name": "stderr",
     "output_type": "stream",
     "text": [
      "Translating:  58%|██████████████████████████                   | 966/1668 [1:21:54<57:44,  4.93s/it]"
     ]
    },
    {
     "name": "stdout",
     "output_type": "stream",
     "text": [
      "result sent successfully\n",
      "Error translating with src=en (attempt 1): the JSON object must be str, bytes or bytearray, not NoneType\n",
      "Error translating with src=en (attempt 2): the JSON object must be str, bytes or bytearray, not NoneType\n",
      "🔁 Attempting sentence split and translation...\n"
     ]
    },
    {
     "name": "stderr",
     "output_type": "stream",
     "text": [
      "Translating:  58%|██████████████████████████                   | 967/1668 [1:21:59<58:07,  4.97s/it]"
     ]
    },
    {
     "name": "stdout",
     "output_type": "stream",
     "text": [
      "result sent successfully\n",
      "Error translating with src=en (attempt 1): the JSON object must be str, bytes or bytearray, not NoneType\n",
      "Error translating with src=en (attempt 2): the JSON object must be str, bytes or bytearray, not NoneType\n",
      "🔁 Attempting sentence split and translation...\n"
     ]
    },
    {
     "name": "stderr",
     "output_type": "stream",
     "text": [
      "Translating:  58%|██████████████████████████                   | 968/1668 [1:22:04<57:49,  4.96s/it]"
     ]
    },
    {
     "name": "stdout",
     "output_type": "stream",
     "text": [
      "result sent successfully\n",
      "Error translating with src=en (attempt 1): the JSON object must be str, bytes or bytearray, not NoneType\n",
      "Error translating with src=en (attempt 2): the JSON object must be str, bytes or bytearray, not NoneType\n",
      "🔁 Attempting sentence split and translation...\n"
     ]
    },
    {
     "name": "stderr",
     "output_type": "stream",
     "text": [
      "Translating:  58%|██████████████████████████▏                  | 969/1668 [1:22:09<57:35,  4.94s/it]"
     ]
    },
    {
     "name": "stdout",
     "output_type": "stream",
     "text": [
      "result sent successfully\n",
      "Error translating with src=en (attempt 1): the JSON object must be str, bytes or bytearray, not NoneType\n",
      "Error translating with src=en (attempt 2): the JSON object must be str, bytes or bytearray, not NoneType\n",
      "🔁 Attempting sentence split and translation...\n"
     ]
    },
    {
     "name": "stderr",
     "output_type": "stream",
     "text": [
      "Translating:  58%|██████████████████████████▏                  | 970/1668 [1:22:13<57:25,  4.94s/it]"
     ]
    },
    {
     "name": "stdout",
     "output_type": "stream",
     "text": [
      "result sent successfully\n",
      "Error translating with src=en (attempt 1): the JSON object must be str, bytes or bytearray, not NoneType\n",
      "Error translating with src=en (attempt 2): the JSON object must be str, bytes or bytearray, not NoneType\n",
      "🔁 Attempting sentence split and translation...\n"
     ]
    },
    {
     "name": "stderr",
     "output_type": "stream",
     "text": [
      "Translating:  58%|██████████████████████████▏                  | 971/1668 [1:22:18<57:26,  4.95s/it]"
     ]
    },
    {
     "name": "stdout",
     "output_type": "stream",
     "text": [
      "result sent successfully\n",
      "Error translating with src=en (attempt 1): the JSON object must be str, bytes or bytearray, not NoneType\n",
      "Error translating with src=en (attempt 2): the JSON object must be str, bytes or bytearray, not NoneType\n",
      "🔁 Attempting sentence split and translation...\n"
     ]
    },
    {
     "name": "stderr",
     "output_type": "stream",
     "text": [
      "Translating:  58%|██████████████████████████▏                  | 972/1668 [1:22:23<57:52,  4.99s/it]"
     ]
    },
    {
     "name": "stdout",
     "output_type": "stream",
     "text": [
      "result sent successfully\n",
      "Error translating with src=en (attempt 1): the JSON object must be str, bytes or bytearray, not NoneType\n",
      "Error translating with src=en (attempt 2): the JSON object must be str, bytes or bytearray, not NoneType\n",
      "🔁 Attempting sentence split and translation...\n"
     ]
    },
    {
     "name": "stderr",
     "output_type": "stream",
     "text": [
      "Translating:  58%|██████████████████████████▎                  | 973/1668 [1:22:28<57:32,  4.97s/it]"
     ]
    },
    {
     "name": "stdout",
     "output_type": "stream",
     "text": [
      "result sent successfully\n",
      "Error translating with src=en (attempt 1): the JSON object must be str, bytes or bytearray, not NoneType\n",
      "Error translating with src=en (attempt 2): the JSON object must be str, bytes or bytearray, not NoneType\n",
      "🔁 Attempting sentence split and translation...\n"
     ]
    },
    {
     "name": "stderr",
     "output_type": "stream",
     "text": [
      "Translating:  58%|██████████████████████████▎                  | 974/1668 [1:22:33<57:26,  4.97s/it]"
     ]
    },
    {
     "name": "stdout",
     "output_type": "stream",
     "text": [
      "result sent successfully\n",
      "Error translating with src=en (attempt 1): the JSON object must be str, bytes or bytearray, not NoneType\n",
      "Error translating with src=en (attempt 2): the JSON object must be str, bytes or bytearray, not NoneType\n",
      "🔁 Attempting sentence split and translation...\n"
     ]
    },
    {
     "name": "stderr",
     "output_type": "stream",
     "text": [
      "Translating:  58%|██████████████████████████▎                  | 975/1668 [1:22:38<57:13,  4.95s/it]"
     ]
    },
    {
     "name": "stdout",
     "output_type": "stream",
     "text": [
      "result sent successfully\n",
      "Error translating with src=en (attempt 1): the JSON object must be str, bytes or bytearray, not NoneType\n",
      "Error translating with src=en (attempt 2): the JSON object must be str, bytes or bytearray, not NoneType\n",
      "🔁 Attempting sentence split and translation...\n"
     ]
    },
    {
     "name": "stderr",
     "output_type": "stream",
     "text": [
      "Translating:  59%|██████████████████████████▎                  | 976/1668 [1:22:43<56:57,  4.94s/it]"
     ]
    },
    {
     "name": "stdout",
     "output_type": "stream",
     "text": [
      "result sent successfully\n",
      "Error translating with src=en (attempt 1): the JSON object must be str, bytes or bytearray, not NoneType\n",
      "Error translating with src=en (attempt 2): the JSON object must be str, bytes or bytearray, not NoneType\n",
      "🔁 Attempting sentence split and translation...\n"
     ]
    },
    {
     "name": "stderr",
     "output_type": "stream",
     "text": [
      "Translating:  59%|██████████████████████████▎                  | 977/1668 [1:22:48<56:46,  4.93s/it]"
     ]
    },
    {
     "name": "stdout",
     "output_type": "stream",
     "text": [
      "result sent successfully\n",
      "Error translating with src=en (attempt 1): the JSON object must be str, bytes or bytearray, not NoneType\n",
      "Error translating with src=en (attempt 2): the JSON object must be str, bytes or bytearray, not NoneType\n",
      "🔁 Attempting sentence split and translation...\n"
     ]
    },
    {
     "name": "stderr",
     "output_type": "stream",
     "text": [
      "Translating:  59%|██████████████████████████▍                  | 978/1668 [1:22:53<56:54,  4.95s/it]"
     ]
    },
    {
     "name": "stdout",
     "output_type": "stream",
     "text": [
      "result sent successfully\n",
      "Error translating with src=en (attempt 1): the JSON object must be str, bytes or bytearray, not NoneType\n",
      "Error translating with src=en (attempt 2): the JSON object must be str, bytes or bytearray, not NoneType\n",
      "🔁 Attempting sentence split and translation...\n"
     ]
    },
    {
     "name": "stderr",
     "output_type": "stream",
     "text": [
      "Translating:  59%|██████████████████████████▍                  | 979/1668 [1:22:58<56:43,  4.94s/it]"
     ]
    },
    {
     "name": "stdout",
     "output_type": "stream",
     "text": [
      "result sent successfully\n",
      "Error translating with src=en (attempt 1): the JSON object must be str, bytes or bytearray, not NoneType\n",
      "Error translating with src=en (attempt 2): the JSON object must be str, bytes or bytearray, not NoneType\n",
      "🔁 Attempting sentence split and translation...\n"
     ]
    },
    {
     "name": "stderr",
     "output_type": "stream",
     "text": [
      "Translating:  59%|██████████████████████████▍                  | 980/1668 [1:23:03<56:49,  4.96s/it]"
     ]
    },
    {
     "name": "stdout",
     "output_type": "stream",
     "text": [
      "result sent successfully\n",
      "Error translating with src=en (attempt 1): the JSON object must be str, bytes or bytearray, not NoneType\n",
      "Error translating with src=en (attempt 2): the JSON object must be str, bytes or bytearray, not NoneType\n",
      "🔁 Attempting sentence split and translation...\n"
     ]
    },
    {
     "name": "stderr",
     "output_type": "stream",
     "text": [
      "Translating:  59%|██████████████████████████▍                  | 981/1668 [1:23:08<56:35,  4.94s/it]"
     ]
    },
    {
     "name": "stdout",
     "output_type": "stream",
     "text": [
      "result sent successfully\n",
      "Error translating with src=en (attempt 1): the JSON object must be str, bytes or bytearray, not NoneType\n",
      "Error translating with src=en (attempt 2): the JSON object must be str, bytes or bytearray, not NoneType\n",
      "🔁 Attempting sentence split and translation...\n"
     ]
    },
    {
     "name": "stderr",
     "output_type": "stream",
     "text": [
      "Translating:  59%|██████████████████████████▍                  | 982/1668 [1:23:13<56:34,  4.95s/it]"
     ]
    },
    {
     "name": "stdout",
     "output_type": "stream",
     "text": [
      "result sent successfully\n",
      "Error translating with src=en (attempt 1): the JSON object must be str, bytes or bytearray, not NoneType\n",
      "Error translating with src=en (attempt 2): the JSON object must be str, bytes or bytearray, not NoneType\n",
      "🔁 Attempting sentence split and translation...\n"
     ]
    },
    {
     "name": "stderr",
     "output_type": "stream",
     "text": [
      "Translating:  59%|██████████████████████████▌                  | 983/1668 [1:23:18<56:26,  4.94s/it]"
     ]
    },
    {
     "name": "stdout",
     "output_type": "stream",
     "text": [
      "result sent successfully\n",
      "Error translating with src=en (attempt 1): the JSON object must be str, bytes or bytearray, not NoneType\n",
      "Error translating with src=en (attempt 2): the JSON object must be str, bytes or bytearray, not NoneType\n",
      "🔁 Attempting sentence split and translation...\n"
     ]
    },
    {
     "name": "stderr",
     "output_type": "stream",
     "text": [
      "Translating:  59%|██████████████████████████▌                  | 984/1668 [1:23:23<57:27,  5.04s/it]"
     ]
    },
    {
     "name": "stdout",
     "output_type": "stream",
     "text": [
      "result sent successfully\n",
      "Error translating with src=en (attempt 1): the JSON object must be str, bytes or bytearray, not NoneType\n",
      "Error translating with src=en (attempt 2): the JSON object must be str, bytes or bytearray, not NoneType\n",
      "🔁 Attempting sentence split and translation...\n"
     ]
    },
    {
     "name": "stderr",
     "output_type": "stream",
     "text": [
      "Translating:  59%|██████████████████████████▌                  | 985/1668 [1:23:28<56:56,  5.00s/it]"
     ]
    },
    {
     "name": "stdout",
     "output_type": "stream",
     "text": [
      "result sent successfully\n",
      "Error translating with src=en (attempt 1): the JSON object must be str, bytes or bytearray, not NoneType\n",
      "Error translating with src=en (attempt 2): the JSON object must be str, bytes or bytearray, not NoneType\n",
      "🔁 Attempting sentence split and translation...\n"
     ]
    },
    {
     "name": "stderr",
     "output_type": "stream",
     "text": [
      "Translating:  59%|██████████████████████████▌                  | 986/1668 [1:23:33<56:42,  4.99s/it]"
     ]
    },
    {
     "name": "stdout",
     "output_type": "stream",
     "text": [
      "result sent successfully\n",
      "Error translating with src=en (attempt 1): the JSON object must be str, bytes or bytearray, not NoneType\n",
      "Error translating with src=en (attempt 2): the JSON object must be str, bytes or bytearray, not NoneType\n",
      "🔁 Attempting sentence split and translation...\n"
     ]
    },
    {
     "name": "stderr",
     "output_type": "stream",
     "text": [
      "Translating:  59%|██████████████████████████▋                  | 987/1668 [1:23:38<56:30,  4.98s/it]"
     ]
    },
    {
     "name": "stdout",
     "output_type": "stream",
     "text": [
      "result sent successfully\n",
      "Error translating with src=en (attempt 1): the JSON object must be str, bytes or bytearray, not NoneType\n",
      "Error translating with src=en (attempt 2): the JSON object must be str, bytes or bytearray, not NoneType\n",
      "🔁 Attempting sentence split and translation...\n"
     ]
    },
    {
     "name": "stderr",
     "output_type": "stream",
     "text": [
      "Translating:  59%|██████████████████████████▋                  | 988/1668 [1:23:43<56:26,  4.98s/it]"
     ]
    },
    {
     "name": "stdout",
     "output_type": "stream",
     "text": [
      "result sent successfully\n",
      "Error translating with src=en (attempt 1): the JSON object must be str, bytes or bytearray, not NoneType\n",
      "Error translating with src=en (attempt 2): the JSON object must be str, bytes or bytearray, not NoneType\n",
      "🔁 Attempting sentence split and translation...\n"
     ]
    },
    {
     "name": "stderr",
     "output_type": "stream",
     "text": [
      "Translating:  59%|██████████████████████████▋                  | 989/1668 [1:23:48<56:17,  4.97s/it]"
     ]
    },
    {
     "name": "stdout",
     "output_type": "stream",
     "text": [
      "result sent successfully\n",
      "Error translating with src=en (attempt 1): the JSON object must be str, bytes or bytearray, not NoneType\n",
      "Error translating with src=en (attempt 2): the JSON object must be str, bytes or bytearray, not NoneType\n",
      "🔁 Attempting sentence split and translation...\n"
     ]
    },
    {
     "name": "stderr",
     "output_type": "stream",
     "text": [
      "Translating:  59%|██████████████████████████▋                  | 990/1668 [1:23:53<56:22,  4.99s/it]"
     ]
    },
    {
     "name": "stdout",
     "output_type": "stream",
     "text": [
      "result sent successfully\n",
      "Error translating with src=en (attempt 1): the JSON object must be str, bytes or bytearray, not NoneType\n",
      "Error translating with src=en (attempt 2): the JSON object must be str, bytes or bytearray, not NoneType\n",
      "🔁 Attempting sentence split and translation...\n"
     ]
    },
    {
     "name": "stderr",
     "output_type": "stream",
     "text": [
      "Translating:  59%|██████████████████████████▋                  | 991/1668 [1:23:58<56:14,  4.98s/it]"
     ]
    },
    {
     "name": "stdout",
     "output_type": "stream",
     "text": [
      "result sent successfully\n",
      "Error translating with src=en (attempt 1): the JSON object must be str, bytes or bytearray, not NoneType\n",
      "Error translating with src=en (attempt 2): the JSON object must be str, bytes or bytearray, not NoneType\n",
      "🔁 Attempting sentence split and translation...\n"
     ]
    },
    {
     "name": "stderr",
     "output_type": "stream",
     "text": [
      "Translating:  59%|██████████████████████████▊                  | 992/1668 [1:24:03<55:56,  4.97s/it]"
     ]
    },
    {
     "name": "stdout",
     "output_type": "stream",
     "text": [
      "result sent successfully\n",
      "Error translating with src=en (attempt 1): the JSON object must be str, bytes or bytearray, not NoneType\n",
      "Error translating with src=en (attempt 2): the JSON object must be str, bytes or bytearray, not NoneType\n",
      "🔁 Attempting sentence split and translation...\n"
     ]
    },
    {
     "name": "stderr",
     "output_type": "stream",
     "text": [
      "Translating:  60%|██████████████████████████▊                  | 993/1668 [1:24:08<57:00,  5.07s/it]"
     ]
    },
    {
     "name": "stdout",
     "output_type": "stream",
     "text": [
      "result sent successfully\n",
      "Error translating with src=en (attempt 1): the JSON object must be str, bytes or bytearray, not NoneType\n",
      "Error translating with src=en (attempt 2): the JSON object must be str, bytes or bytearray, not NoneType\n",
      "🔁 Attempting sentence split and translation...\n"
     ]
    },
    {
     "name": "stderr",
     "output_type": "stream",
     "text": [
      "Translating:  60%|██████████████████████████▊                  | 994/1668 [1:24:13<56:26,  5.02s/it]"
     ]
    },
    {
     "name": "stdout",
     "output_type": "stream",
     "text": [
      "result sent successfully\n",
      "Error translating with src=en (attempt 1): the JSON object must be str, bytes or bytearray, not NoneType\n",
      "Error translating with src=en (attempt 2): the JSON object must be str, bytes or bytearray, not NoneType\n",
      "🔁 Attempting sentence split and translation...\n"
     ]
    },
    {
     "name": "stderr",
     "output_type": "stream",
     "text": [
      "Translating:  60%|██████████████████████████▊                  | 995/1668 [1:24:18<55:56,  4.99s/it]"
     ]
    },
    {
     "name": "stdout",
     "output_type": "stream",
     "text": [
      "result sent successfully\n",
      "Error translating with src=en (attempt 1): the JSON object must be str, bytes or bytearray, not NoneType\n",
      "Error translating with src=en (attempt 2): the JSON object must be str, bytes or bytearray, not NoneType\n",
      "🔁 Attempting sentence split and translation...\n"
     ]
    },
    {
     "name": "stderr",
     "output_type": "stream",
     "text": [
      "Translating:  60%|██████████████████████████▊                  | 996/1668 [1:24:23<56:52,  5.08s/it]"
     ]
    },
    {
     "name": "stdout",
     "output_type": "stream",
     "text": [
      "result sent successfully\n",
      "Error translating with src=en (attempt 1): the JSON object must be str, bytes or bytearray, not NoneType\n",
      "Error translating with src=en (attempt 2): the JSON object must be str, bytes or bytearray, not NoneType\n",
      "🔁 Attempting sentence split and translation...\n"
     ]
    },
    {
     "name": "stderr",
     "output_type": "stream",
     "text": [
      "Translating:  60%|██████████████████████████▉                  | 997/1668 [1:24:28<57:15,  5.12s/it]"
     ]
    },
    {
     "name": "stdout",
     "output_type": "stream",
     "text": [
      "result sent successfully\n",
      "Error translating with src=en (attempt 1): the JSON object must be str, bytes or bytearray, not NoneType\n",
      "Error translating with src=en (attempt 2): the JSON object must be str, bytes or bytearray, not NoneType\n",
      "🔁 Attempting sentence split and translation...\n"
     ]
    },
    {
     "name": "stderr",
     "output_type": "stream",
     "text": [
      "Translating:  60%|██████████████████████████▉                  | 998/1668 [1:24:33<56:38,  5.07s/it]"
     ]
    },
    {
     "name": "stdout",
     "output_type": "stream",
     "text": [
      "result sent successfully\n",
      "Error translating with src=en (attempt 1): the JSON object must be str, bytes or bytearray, not NoneType\n",
      "Error translating with src=en (attempt 2): the JSON object must be str, bytes or bytearray, not NoneType\n",
      "🔁 Attempting sentence split and translation...\n"
     ]
    },
    {
     "name": "stderr",
     "output_type": "stream",
     "text": [
      "Translating:  60%|██████████████████████████▉                  | 999/1668 [1:24:39<57:10,  5.13s/it]"
     ]
    },
    {
     "name": "stdout",
     "output_type": "stream",
     "text": [
      "result sent successfully\n",
      "Error translating with src=en (attempt 1): the JSON object must be str, bytes or bytearray, not NoneType\n",
      "Error translating with src=en (attempt 2): the JSON object must be str, bytes or bytearray, not NoneType\n",
      "🔁 Attempting sentence split and translation...\n"
     ]
    },
    {
     "name": "stderr",
     "output_type": "stream",
     "text": [
      "Translating:  60%|██████████████████████████▍                 | 1000/1668 [1:24:44<57:26,  5.16s/it]"
     ]
    },
    {
     "name": "stdout",
     "output_type": "stream",
     "text": [
      "result sent successfully\n"
     ]
    },
    {
     "name": "stderr",
     "output_type": "stream",
     "text": [
      "Translating:  60%|██████████████████████████▍                 | 1001/1668 [1:24:44<41:27,  3.73s/it]"
     ]
    },
    {
     "name": "stdout",
     "output_type": "stream",
     "text": [
      "Error translating with src=en (attempt 1): the JSON object must be str, bytes or bytearray, not NoneType\n",
      "Error translating with src=en (attempt 2): the JSON object must be str, bytes or bytearray, not NoneType\n",
      "🔁 Attempting sentence split and translation...\n"
     ]
    },
    {
     "name": "stderr",
     "output_type": "stream",
     "text": [
      "Translating:  60%|██████████████████████████▍                 | 1002/1668 [1:24:49<45:25,  4.09s/it]"
     ]
    },
    {
     "name": "stdout",
     "output_type": "stream",
     "text": [
      "result sent successfully\n",
      "Error translating with src=en (attempt 1): the JSON object must be str, bytes or bytearray, not NoneType\n",
      "Error translating with src=en (attempt 2): the JSON object must be str, bytes or bytearray, not NoneType\n",
      "🔁 Attempting sentence split and translation...\n"
     ]
    },
    {
     "name": "stderr",
     "output_type": "stream",
     "text": [
      "Translating:  60%|██████████████████████████▍                 | 1003/1668 [1:24:54<48:05,  4.34s/it]"
     ]
    },
    {
     "name": "stdout",
     "output_type": "stream",
     "text": [
      "result sent successfully\n",
      "Error translating with src=en (attempt 1): the JSON object must be str, bytes or bytearray, not NoneType\n",
      "Error translating with src=en (attempt 2): the JSON object must be str, bytes or bytearray, not NoneType\n",
      "🔁 Attempting sentence split and translation...\n"
     ]
    },
    {
     "name": "stderr",
     "output_type": "stream",
     "text": [
      "Translating:  60%|██████████████████████████▍                 | 1004/1668 [1:24:59<49:57,  4.51s/it]"
     ]
    },
    {
     "name": "stdout",
     "output_type": "stream",
     "text": [
      "result sent successfully\n",
      "Error translating with src=en (attempt 1): the JSON object must be str, bytes or bytearray, not NoneType\n",
      "Error translating with src=en (attempt 2): the JSON object must be str, bytes or bytearray, not NoneType\n",
      "🔁 Attempting sentence split and translation...\n"
     ]
    },
    {
     "name": "stderr",
     "output_type": "stream",
     "text": [
      "Translating:  60%|██████████████████████████▌                 | 1005/1668 [1:25:04<52:13,  4.73s/it]"
     ]
    },
    {
     "name": "stdout",
     "output_type": "stream",
     "text": [
      "result sent successfully\n",
      "Error translating with src=en (attempt 1): the JSON object must be str, bytes or bytearray, not NoneType\n",
      "Error translating with src=en (attempt 2): the JSON object must be str, bytes or bytearray, not NoneType\n",
      "🔁 Attempting sentence split and translation...\n"
     ]
    },
    {
     "name": "stderr",
     "output_type": "stream",
     "text": [
      "Translating:  60%|██████████████████████████▌                 | 1006/1668 [1:25:09<52:47,  4.79s/it]"
     ]
    },
    {
     "name": "stdout",
     "output_type": "stream",
     "text": [
      "result sent successfully\n",
      "Error translating with src=en (attempt 1): the JSON object must be str, bytes or bytearray, not NoneType\n",
      "Error translating with src=en (attempt 2): the JSON object must be str, bytes or bytearray, not NoneType\n",
      "🔁 Attempting sentence split and translation...\n"
     ]
    },
    {
     "name": "stderr",
     "output_type": "stream",
     "text": [
      "Translating:  60%|██████████████████████████▌                 | 1007/1668 [1:25:14<53:27,  4.85s/it]"
     ]
    },
    {
     "name": "stdout",
     "output_type": "stream",
     "text": [
      "result sent successfully\n",
      "Error translating with src=en (attempt 1): the JSON object must be str, bytes or bytearray, not NoneType\n",
      "Error translating with src=en (attempt 2): the JSON object must be str, bytes or bytearray, not NoneType\n",
      "🔁 Attempting sentence split and translation...\n"
     ]
    },
    {
     "name": "stderr",
     "output_type": "stream",
     "text": [
      "Translating:  60%|██████████████████████████▌                 | 1008/1668 [1:25:19<53:53,  4.90s/it]"
     ]
    },
    {
     "name": "stdout",
     "output_type": "stream",
     "text": [
      "result sent successfully\n",
      "Error translating with src=en (attempt 1): the JSON object must be str, bytes or bytearray, not NoneType\n",
      "Error translating with src=en (attempt 2): the JSON object must be str, bytes or bytearray, not NoneType\n",
      "🔁 Attempting sentence split and translation...\n"
     ]
    },
    {
     "name": "stderr",
     "output_type": "stream",
     "text": [
      "Translating:  60%|██████████████████████████▌                 | 1009/1668 [1:25:24<54:01,  4.92s/it]"
     ]
    },
    {
     "name": "stdout",
     "output_type": "stream",
     "text": [
      "result sent successfully\n",
      "Error translating with src=en (attempt 1): the JSON object must be str, bytes or bytearray, not NoneType\n",
      "Error translating with src=en (attempt 2): the JSON object must be str, bytes or bytearray, not NoneType\n",
      "🔁 Attempting sentence split and translation...\n"
     ]
    },
    {
     "name": "stderr",
     "output_type": "stream",
     "text": [
      "Translating:  61%|██████████████████████████▋                 | 1010/1668 [1:25:29<53:56,  4.92s/it]"
     ]
    },
    {
     "name": "stdout",
     "output_type": "stream",
     "text": [
      "result sent successfully\n",
      "Error translating with src=en (attempt 1): the JSON object must be str, bytes or bytearray, not NoneType\n",
      "Error translating with src=en (attempt 2): the JSON object must be str, bytes or bytearray, not NoneType\n",
      "🔁 Attempting sentence split and translation...\n"
     ]
    },
    {
     "name": "stderr",
     "output_type": "stream",
     "text": [
      "Translating:  61%|██████████████████████████▋                 | 1011/1668 [1:25:34<53:57,  4.93s/it]"
     ]
    },
    {
     "name": "stdout",
     "output_type": "stream",
     "text": [
      "result sent successfully\n",
      "Error translating with src=en (attempt 1): the JSON object must be str, bytes or bytearray, not NoneType\n",
      "Error translating with src=en (attempt 2): the JSON object must be str, bytes or bytearray, not NoneType\n",
      "🔁 Attempting sentence split and translation...\n"
     ]
    },
    {
     "name": "stderr",
     "output_type": "stream",
     "text": [
      "Translating:  61%|██████████████████████████▋                 | 1012/1668 [1:25:39<53:54,  4.93s/it]"
     ]
    },
    {
     "name": "stdout",
     "output_type": "stream",
     "text": [
      "result sent successfully\n",
      "Error translating with src=en (attempt 1): the JSON object must be str, bytes or bytearray, not NoneType\n",
      "Error translating with src=en (attempt 2): the JSON object must be str, bytes or bytearray, not NoneType\n",
      "🔁 Attempting sentence split and translation...\n"
     ]
    },
    {
     "name": "stderr",
     "output_type": "stream",
     "text": [
      "Translating:  61%|██████████████████████████▋                 | 1013/1668 [1:25:44<53:52,  4.94s/it]"
     ]
    },
    {
     "name": "stdout",
     "output_type": "stream",
     "text": [
      "result sent successfully\n",
      "Error translating with src=en (attempt 1): the JSON object must be str, bytes or bytearray, not NoneType\n",
      "Error translating with src=en (attempt 2): the JSON object must be str, bytes or bytearray, not NoneType\n",
      "🔁 Attempting sentence split and translation...\n"
     ]
    },
    {
     "name": "stderr",
     "output_type": "stream",
     "text": [
      "Translating:  61%|██████████████████████████▋                 | 1014/1668 [1:25:49<53:55,  4.95s/it]"
     ]
    },
    {
     "name": "stdout",
     "output_type": "stream",
     "text": [
      "result sent successfully\n",
      "Error translating with src=en (attempt 1): the JSON object must be str, bytes or bytearray, not NoneType\n",
      "Error translating with src=en (attempt 2): the JSON object must be str, bytes or bytearray, not NoneType\n",
      "🔁 Attempting sentence split and translation...\n"
     ]
    },
    {
     "name": "stderr",
     "output_type": "stream",
     "text": [
      "Translating:  61%|██████████████████████████▊                 | 1015/1668 [1:25:54<53:50,  4.95s/it]"
     ]
    },
    {
     "name": "stdout",
     "output_type": "stream",
     "text": [
      "result sent successfully\n",
      "Error translating with src=en (attempt 1): the JSON object must be str, bytes or bytearray, not NoneType\n",
      "Error translating with src=en (attempt 2): the JSON object must be str, bytes or bytearray, not NoneType\n",
      "🔁 Attempting sentence split and translation...\n"
     ]
    },
    {
     "name": "stderr",
     "output_type": "stream",
     "text": [
      "Translating:  61%|██████████████████████████▊                 | 1016/1668 [1:25:59<53:49,  4.95s/it]"
     ]
    },
    {
     "name": "stdout",
     "output_type": "stream",
     "text": [
      "result sent successfully\n",
      "Error translating with src=en (attempt 1): the JSON object must be str, bytes or bytearray, not NoneType\n",
      "Error translating with src=en (attempt 2): the JSON object must be str, bytes or bytearray, not NoneType\n",
      "🔁 Attempting sentence split and translation...\n"
     ]
    },
    {
     "name": "stderr",
     "output_type": "stream",
     "text": [
      "Translating:  61%|██████████████████████████▊                 | 1017/1668 [1:26:04<53:34,  4.94s/it]"
     ]
    },
    {
     "name": "stdout",
     "output_type": "stream",
     "text": [
      "result sent successfully\n",
      "Error translating with src=en (attempt 1): the JSON object must be str, bytes or bytearray, not NoneType\n",
      "Error translating with src=en (attempt 2): the JSON object must be str, bytes or bytearray, not NoneType\n",
      "🔁 Attempting sentence split and translation...\n"
     ]
    },
    {
     "name": "stderr",
     "output_type": "stream",
     "text": [
      "Translating:  61%|██████████████████████████▊                 | 1018/1668 [1:26:09<54:41,  5.05s/it]"
     ]
    },
    {
     "name": "stdout",
     "output_type": "stream",
     "text": [
      "result sent successfully\n",
      "Error translating with src=en (attempt 1): the JSON object must be str, bytes or bytearray, not NoneType\n",
      "Error translating with src=en (attempt 2): the JSON object must be str, bytes or bytearray, not NoneType\n",
      "🔁 Attempting sentence split and translation...\n"
     ]
    },
    {
     "name": "stderr",
     "output_type": "stream",
     "text": [
      "Translating:  61%|██████████████████████████▉                 | 1019/1668 [1:26:14<54:13,  5.01s/it]"
     ]
    },
    {
     "name": "stdout",
     "output_type": "stream",
     "text": [
      "result sent successfully\n",
      "Error translating with src=en (attempt 1): the JSON object must be str, bytes or bytearray, not NoneType\n",
      "Error translating with src=en (attempt 2): the JSON object must be str, bytes or bytearray, not NoneType\n",
      "🔁 Attempting sentence split and translation...\n"
     ]
    },
    {
     "name": "stderr",
     "output_type": "stream",
     "text": [
      "Translating:  61%|██████████████████████████▉                 | 1020/1668 [1:26:19<53:52,  4.99s/it]"
     ]
    },
    {
     "name": "stdout",
     "output_type": "stream",
     "text": [
      "result sent successfully\n",
      "Error translating with src=en (attempt 1): the JSON object must be str, bytes or bytearray, not NoneType\n",
      "Error translating with src=en (attempt 2): the JSON object must be str, bytes or bytearray, not NoneType\n",
      "🔁 Attempting sentence split and translation...\n"
     ]
    },
    {
     "name": "stderr",
     "output_type": "stream",
     "text": [
      "Translating:  61%|██████████████████████████▉                 | 1021/1668 [1:26:24<53:45,  4.99s/it]"
     ]
    },
    {
     "name": "stdout",
     "output_type": "stream",
     "text": [
      "result sent successfully\n",
      "Error translating with src=en (attempt 1): the JSON object must be str, bytes or bytearray, not NoneType\n",
      "Error translating with src=en (attempt 2): the JSON object must be str, bytes or bytearray, not NoneType\n",
      "🔁 Attempting sentence split and translation...\n"
     ]
    },
    {
     "name": "stderr",
     "output_type": "stream",
     "text": [
      "Translating:  61%|██████████████████████████▉                 | 1022/1668 [1:26:29<54:34,  5.07s/it]"
     ]
    },
    {
     "name": "stdout",
     "output_type": "stream",
     "text": [
      "result sent successfully\n",
      "Error translating with src=en (attempt 1): the JSON object must be str, bytes or bytearray, not NoneType\n",
      "Error translating with src=en (attempt 2): the JSON object must be str, bytes or bytearray, not NoneType\n",
      "🔁 Attempting sentence split and translation...\n"
     ]
    },
    {
     "name": "stderr",
     "output_type": "stream",
     "text": [
      "Translating:  61%|██████████████████████████▉                 | 1023/1668 [1:26:34<54:01,  5.03s/it]"
     ]
    },
    {
     "name": "stdout",
     "output_type": "stream",
     "text": [
      "result sent successfully\n",
      "Error translating with src=en (attempt 1): the JSON object must be str, bytes or bytearray, not NoneType\n",
      "Error translating with src=en (attempt 2): the JSON object must be str, bytes or bytearray, not NoneType\n",
      "🔁 Attempting sentence split and translation...\n"
     ]
    },
    {
     "name": "stderr",
     "output_type": "stream",
     "text": [
      "Translating:  61%|███████████████████████████                 | 1024/1668 [1:26:39<53:43,  5.00s/it]"
     ]
    },
    {
     "name": "stdout",
     "output_type": "stream",
     "text": [
      "result sent successfully\n",
      "Error translating with src=en (attempt 1): the JSON object must be str, bytes or bytearray, not NoneType\n",
      "Error translating with src=en (attempt 2): the JSON object must be str, bytes or bytearray, not NoneType\n",
      "🔁 Attempting sentence split and translation...\n"
     ]
    },
    {
     "name": "stderr",
     "output_type": "stream",
     "text": [
      "Translating:  61%|███████████████████████████                 | 1025/1668 [1:26:44<53:22,  4.98s/it]"
     ]
    },
    {
     "name": "stdout",
     "output_type": "stream",
     "text": [
      "result sent successfully\n",
      "Error translating with src=en (attempt 1): the JSON object must be str, bytes or bytearray, not NoneType\n",
      "Error translating with src=en (attempt 2): the JSON object must be str, bytes or bytearray, not NoneType\n",
      "🔁 Attempting sentence split and translation...\n"
     ]
    },
    {
     "name": "stderr",
     "output_type": "stream",
     "text": [
      "Translating:  62%|███████████████████████████                 | 1026/1668 [1:26:49<53:05,  4.96s/it]"
     ]
    },
    {
     "name": "stdout",
     "output_type": "stream",
     "text": [
      "result sent successfully\n",
      "Error translating with src=en (attempt 1): the JSON object must be str, bytes or bytearray, not NoneType\n",
      "Error translating with src=en (attempt 2): the JSON object must be str, bytes or bytearray, not NoneType\n",
      "🔁 Attempting sentence split and translation...\n"
     ]
    },
    {
     "name": "stderr",
     "output_type": "stream",
     "text": [
      "Translating:  62%|███████████████████████████                 | 1027/1668 [1:26:54<52:59,  4.96s/it]"
     ]
    },
    {
     "name": "stdout",
     "output_type": "stream",
     "text": [
      "result sent successfully\n",
      "Error translating with src=en (attempt 1): the JSON object must be str, bytes or bytearray, not NoneType\n",
      "Error translating with src=en (attempt 2): the JSON object must be str, bytes or bytearray, not NoneType\n",
      "🔁 Attempting sentence split and translation...\n"
     ]
    },
    {
     "name": "stderr",
     "output_type": "stream",
     "text": [
      "Translating:  62%|███████████████████████████                 | 1028/1668 [1:26:59<52:55,  4.96s/it]"
     ]
    },
    {
     "name": "stdout",
     "output_type": "stream",
     "text": [
      "result sent successfully\n",
      "Error translating with src=en (attempt 1): the JSON object must be str, bytes or bytearray, not NoneType\n",
      "Error translating with src=en (attempt 2): the JSON object must be str, bytes or bytearray, not NoneType\n",
      "🔁 Attempting sentence split and translation...\n"
     ]
    },
    {
     "name": "stderr",
     "output_type": "stream",
     "text": [
      "Translating:  62%|███████████████████████████▏                | 1029/1668 [1:27:04<52:42,  4.95s/it]"
     ]
    },
    {
     "name": "stdout",
     "output_type": "stream",
     "text": [
      "result sent successfully\n",
      "Error translating with src=en (attempt 1): the JSON object must be str, bytes or bytearray, not NoneType\n",
      "Error translating with src=en (attempt 2): the JSON object must be str, bytes or bytearray, not NoneType\n",
      "🔁 Attempting sentence split and translation...\n"
     ]
    },
    {
     "name": "stderr",
     "output_type": "stream",
     "text": [
      "Translating:  62%|███████████████████████████▏                | 1030/1668 [1:27:09<52:32,  4.94s/it]"
     ]
    },
    {
     "name": "stdout",
     "output_type": "stream",
     "text": [
      "result sent successfully\n",
      "Error translating with src=en (attempt 1): the JSON object must be str, bytes or bytearray, not NoneType\n",
      "Error translating with src=en (attempt 2): the JSON object must be str, bytes or bytearray, not NoneType\n",
      "🔁 Attempting sentence split and translation...\n"
     ]
    },
    {
     "name": "stderr",
     "output_type": "stream",
     "text": [
      "Translating:  62%|███████████████████████████▏                | 1031/1668 [1:27:14<52:25,  4.94s/it]"
     ]
    },
    {
     "name": "stdout",
     "output_type": "stream",
     "text": [
      "result sent successfully\n",
      "Error translating with src=en (attempt 1): the JSON object must be str, bytes or bytearray, not NoneType\n",
      "Error translating with src=en (attempt 2): the JSON object must be str, bytes or bytearray, not NoneType\n",
      "🔁 Attempting sentence split and translation...\n"
     ]
    },
    {
     "name": "stderr",
     "output_type": "stream",
     "text": [
      "Translating:  62%|███████████████████████████▏                | 1032/1668 [1:27:18<52:16,  4.93s/it]"
     ]
    },
    {
     "name": "stdout",
     "output_type": "stream",
     "text": [
      "result sent successfully\n",
      "Error translating with src=en (attempt 1): the JSON object must be str, bytes or bytearray, not NoneType\n",
      "Error translating with src=en (attempt 2): the JSON object must be str, bytes or bytearray, not NoneType\n",
      "🔁 Attempting sentence split and translation...\n"
     ]
    },
    {
     "name": "stderr",
     "output_type": "stream",
     "text": [
      "Translating:  62%|███████████████████████████▏                | 1033/1668 [1:27:23<52:13,  4.93s/it]"
     ]
    },
    {
     "name": "stdout",
     "output_type": "stream",
     "text": [
      "result sent successfully\n",
      "Error translating with src=en (attempt 1): the JSON object must be str, bytes or bytearray, not NoneType\n",
      "Error translating with src=en (attempt 2): the JSON object must be str, bytes or bytearray, not NoneType\n",
      "🔁 Attempting sentence split and translation...\n"
     ]
    },
    {
     "name": "stderr",
     "output_type": "stream",
     "text": [
      "Translating:  62%|███████████████████████████▎                | 1034/1668 [1:27:28<52:10,  4.94s/it]"
     ]
    },
    {
     "name": "stdout",
     "output_type": "stream",
     "text": [
      "result sent successfully\n",
      "Error translating with src=en (attempt 1): the JSON object must be str, bytes or bytearray, not NoneType\n",
      "Error translating with src=en (attempt 2): the JSON object must be str, bytes or bytearray, not NoneType\n",
      "🔁 Attempting sentence split and translation...\n"
     ]
    },
    {
     "name": "stderr",
     "output_type": "stream",
     "text": [
      "Translating:  62%|███████████████████████████▎                | 1035/1668 [1:27:33<52:28,  4.97s/it]"
     ]
    },
    {
     "name": "stdout",
     "output_type": "stream",
     "text": [
      "result sent successfully\n",
      "Error translating with src=en (attempt 1): the JSON object must be str, bytes or bytearray, not NoneType\n",
      "Error translating with src=en (attempt 2): the JSON object must be str, bytes or bytearray, not NoneType\n",
      "🔁 Attempting sentence split and translation...\n"
     ]
    },
    {
     "name": "stderr",
     "output_type": "stream",
     "text": [
      "Translating:  62%|███████████████████████████▎                | 1036/1668 [1:27:38<52:20,  4.97s/it]"
     ]
    },
    {
     "name": "stdout",
     "output_type": "stream",
     "text": [
      "result sent successfully\n",
      "Error translating with src=en (attempt 1): the JSON object must be str, bytes or bytearray, not NoneType\n",
      "Error translating with src=en (attempt 2): the JSON object must be str, bytes or bytearray, not NoneType\n",
      "🔁 Attempting sentence split and translation...\n"
     ]
    },
    {
     "name": "stderr",
     "output_type": "stream",
     "text": [
      "Translating:  62%|███████████████████████████▎                | 1037/1668 [1:27:43<52:08,  4.96s/it]"
     ]
    },
    {
     "name": "stdout",
     "output_type": "stream",
     "text": [
      "result sent successfully\n",
      "Error translating with src=en (attempt 1): the JSON object must be str, bytes or bytearray, not NoneType\n",
      "Error translating with src=en (attempt 2): the JSON object must be str, bytes or bytearray, not NoneType\n",
      "🔁 Attempting sentence split and translation...\n"
     ]
    },
    {
     "name": "stderr",
     "output_type": "stream",
     "text": [
      "Translating:  62%|███████████████████████████▍                | 1038/1668 [1:27:48<52:11,  4.97s/it]"
     ]
    },
    {
     "name": "stdout",
     "output_type": "stream",
     "text": [
      "result sent successfully\n",
      "Error translating with src=en (attempt 1): the JSON object must be str, bytes or bytearray, not NoneType\n",
      "Error translating with src=en (attempt 2): the JSON object must be str, bytes or bytearray, not NoneType\n",
      "🔁 Attempting sentence split and translation...\n"
     ]
    },
    {
     "name": "stderr",
     "output_type": "stream",
     "text": [
      "Translating:  62%|███████████████████████████▍                | 1039/1668 [1:27:54<52:58,  5.05s/it]"
     ]
    },
    {
     "name": "stdout",
     "output_type": "stream",
     "text": [
      "result sent successfully\n",
      "Error translating with src=en (attempt 1): the JSON object must be str, bytes or bytearray, not NoneType\n",
      "Error translating with src=en (attempt 2): the JSON object must be str, bytes or bytearray, not NoneType\n",
      "🔁 Attempting sentence split and translation...\n"
     ]
    },
    {
     "name": "stderr",
     "output_type": "stream",
     "text": [
      "Translating:  62%|███████████████████████████▍                | 1040/1668 [1:27:59<52:46,  5.04s/it]"
     ]
    },
    {
     "name": "stdout",
     "output_type": "stream",
     "text": [
      "result sent successfully\n",
      "Error translating with src=en (attempt 1): the JSON object must be str, bytes or bytearray, not NoneType\n",
      "Error translating with src=en (attempt 2): the JSON object must be str, bytes or bytearray, not NoneType\n",
      "🔁 Attempting sentence split and translation...\n"
     ]
    },
    {
     "name": "stderr",
     "output_type": "stream",
     "text": [
      "Translating:  62%|███████████████████████████▍                | 1041/1668 [1:28:04<53:14,  5.09s/it]"
     ]
    },
    {
     "name": "stdout",
     "output_type": "stream",
     "text": [
      "result sent successfully\n",
      "Error translating with src=en (attempt 1): the JSON object must be str, bytes or bytearray, not NoneType\n",
      "Error translating with src=en (attempt 2): the JSON object must be str, bytes or bytearray, not NoneType\n",
      "🔁 Attempting sentence split and translation...\n"
     ]
    },
    {
     "name": "stderr",
     "output_type": "stream",
     "text": [
      "Translating:  62%|███████████████████████████▍                | 1042/1668 [1:28:09<53:34,  5.13s/it]"
     ]
    },
    {
     "name": "stdout",
     "output_type": "stream",
     "text": [
      "result sent successfully\n",
      "Error translating with src=en (attempt 1): the JSON object must be str, bytes or bytearray, not NoneType\n",
      "Error translating with src=en (attempt 2): the JSON object must be str, bytes or bytearray, not NoneType\n",
      "🔁 Attempting sentence split and translation...\n"
     ]
    },
    {
     "name": "stderr",
     "output_type": "stream",
     "text": [
      "Translating:  63%|███████████████████████████▌                | 1043/1668 [1:28:14<52:47,  5.07s/it]"
     ]
    },
    {
     "name": "stdout",
     "output_type": "stream",
     "text": [
      "result sent successfully\n",
      "Error translating with src=en (attempt 1): the JSON object must be str, bytes or bytearray, not NoneType\n",
      "Error translating with src=en (attempt 2): the JSON object must be str, bytes or bytearray, not NoneType\n",
      "🔁 Attempting sentence split and translation...\n"
     ]
    },
    {
     "name": "stderr",
     "output_type": "stream",
     "text": [
      "Translating:  63%|███████████████████████████▌                | 1044/1668 [1:28:19<52:13,  5.02s/it]"
     ]
    },
    {
     "name": "stdout",
     "output_type": "stream",
     "text": [
      "result sent successfully\n",
      "Error translating with src=en (attempt 1): the JSON object must be str, bytes or bytearray, not NoneType\n",
      "Error translating with src=en (attempt 2): the JSON object must be str, bytes or bytearray, not NoneType\n",
      "🔁 Attempting sentence split and translation...\n"
     ]
    },
    {
     "name": "stderr",
     "output_type": "stream",
     "text": [
      "Translating:  63%|███████████████████████████▌                | 1045/1668 [1:28:24<53:46,  5.18s/it]"
     ]
    },
    {
     "name": "stdout",
     "output_type": "stream",
     "text": [
      "result sent successfully\n",
      "Error translating with src=en (attempt 1): the JSON object must be str, bytes or bytearray, not NoneType\n",
      "Error translating with src=en (attempt 2): the JSON object must be str, bytes or bytearray, not NoneType\n",
      "🔁 Attempting sentence split and translation...\n"
     ]
    },
    {
     "name": "stderr",
     "output_type": "stream",
     "text": [
      "Translating:  63%|███████████████████████████▌                | 1046/1668 [1:28:30<54:48,  5.29s/it]"
     ]
    },
    {
     "name": "stdout",
     "output_type": "stream",
     "text": [
      "result sent successfully\n",
      "Error translating with src=en (attempt 1): the JSON object must be str, bytes or bytearray, not NoneType\n",
      "Error translating with src=en (attempt 2): the JSON object must be str, bytes or bytearray, not NoneType\n",
      "🔁 Attempting sentence split and translation...\n"
     ]
    },
    {
     "name": "stderr",
     "output_type": "stream",
     "text": [
      "Translating:  63%|███████████████████████████▌                | 1047/1668 [1:28:35<54:36,  5.28s/it]"
     ]
    },
    {
     "name": "stdout",
     "output_type": "stream",
     "text": [
      "result sent successfully\n",
      "Error translating with src=en (attempt 1): the JSON object must be str, bytes or bytearray, not NoneType\n",
      "Error translating with src=en (attempt 2): the JSON object must be str, bytes or bytearray, not NoneType\n",
      "🔁 Attempting sentence split and translation...\n"
     ]
    },
    {
     "name": "stderr",
     "output_type": "stream",
     "text": [
      "Translating:  63%|███████████████████████████▋                | 1048/1668 [1:28:40<53:24,  5.17s/it]"
     ]
    },
    {
     "name": "stdout",
     "output_type": "stream",
     "text": [
      "result sent successfully\n",
      "Error translating with src=en (attempt 1): the JSON object must be str, bytes or bytearray, not NoneType\n",
      "Error translating with src=en (attempt 2): the JSON object must be str, bytes or bytearray, not NoneType\n",
      "🔁 Attempting sentence split and translation...\n"
     ]
    },
    {
     "name": "stderr",
     "output_type": "stream",
     "text": [
      "Translating:  63%|███████████████████████████▋                | 1049/1668 [1:28:45<52:40,  5.11s/it]"
     ]
    },
    {
     "name": "stdout",
     "output_type": "stream",
     "text": [
      "result sent successfully\n",
      "Error translating with src=en (attempt 1): the JSON object must be str, bytes or bytearray, not NoneType\n",
      "Error translating with src=en (attempt 2): the JSON object must be str, bytes or bytearray, not NoneType\n",
      "🔁 Attempting sentence split and translation...\n"
     ]
    },
    {
     "name": "stderr",
     "output_type": "stream",
     "text": [
      "Translating:  63%|███████████████████████████▋                | 1050/1668 [1:28:51<53:51,  5.23s/it]"
     ]
    },
    {
     "name": "stdout",
     "output_type": "stream",
     "text": [
      "result sent successfully\n",
      "Error translating with src=en (attempt 1): the JSON object must be str, bytes or bytearray, not NoneType\n",
      "Error translating with src=en (attempt 2): the JSON object must be str, bytes or bytearray, not NoneType\n",
      "🔁 Attempting sentence split and translation...\n"
     ]
    },
    {
     "name": "stderr",
     "output_type": "stream",
     "text": [
      "Translating:  63%|███████████████████████████▋                | 1051/1668 [1:28:56<53:58,  5.25s/it]"
     ]
    },
    {
     "name": "stdout",
     "output_type": "stream",
     "text": [
      "result sent successfully\n",
      "Error translating with src=en (attempt 1): the JSON object must be str, bytes or bytearray, not NoneType\n",
      "Error translating with src=en (attempt 2): the JSON object must be str, bytes or bytearray, not NoneType\n",
      "🔁 Attempting sentence split and translation...\n"
     ]
    },
    {
     "name": "stderr",
     "output_type": "stream",
     "text": [
      "Translating:  63%|███████████████████████████▊                | 1052/1668 [1:29:01<53:00,  5.16s/it]"
     ]
    },
    {
     "name": "stdout",
     "output_type": "stream",
     "text": [
      "result sent successfully\n",
      "Error translating with src=en (attempt 1): the JSON object must be str, bytes or bytearray, not NoneType\n",
      "Error translating with src=en (attempt 2): the JSON object must be str, bytes or bytearray, not NoneType\n",
      "🔁 Attempting sentence split and translation...\n"
     ]
    },
    {
     "name": "stderr",
     "output_type": "stream",
     "text": [
      "Translating:  63%|███████████████████████████▊                | 1053/1668 [1:29:06<52:09,  5.09s/it]"
     ]
    },
    {
     "name": "stdout",
     "output_type": "stream",
     "text": [
      "result sent successfully\n",
      "Error translating with src=en (attempt 1): the JSON object must be str, bytes or bytearray, not NoneType\n",
      "Error translating with src=en (attempt 2): the JSON object must be str, bytes or bytearray, not NoneType\n",
      "🔁 Attempting sentence split and translation...\n"
     ]
    },
    {
     "name": "stderr",
     "output_type": "stream",
     "text": [
      "Translating:  63%|███████████████████████████▊                | 1054/1668 [1:29:11<51:47,  5.06s/it]"
     ]
    },
    {
     "name": "stdout",
     "output_type": "stream",
     "text": [
      "result sent successfully\n",
      "Error translating with src=en (attempt 1): the JSON object must be str, bytes or bytearray, not NoneType\n",
      "Error translating with src=en (attempt 2): the JSON object must be str, bytes or bytearray, not NoneType\n",
      "🔁 Attempting sentence split and translation...\n"
     ]
    },
    {
     "name": "stderr",
     "output_type": "stream",
     "text": [
      "Translating:  63%|███████████████████████████▊                | 1055/1668 [1:29:16<52:12,  5.11s/it]"
     ]
    },
    {
     "name": "stdout",
     "output_type": "stream",
     "text": [
      "result sent successfully\n",
      "Error translating with src=en (attempt 1): the JSON object must be str, bytes or bytearray, not NoneType\n",
      "Error translating with src=en (attempt 2): the JSON object must be str, bytes or bytearray, not NoneType\n",
      "🔁 Attempting sentence split and translation...\n"
     ]
    },
    {
     "name": "stderr",
     "output_type": "stream",
     "text": [
      "Translating:  63%|███████████████████████████▊                | 1056/1668 [1:29:21<52:34,  5.15s/it]"
     ]
    },
    {
     "name": "stdout",
     "output_type": "stream",
     "text": [
      "result sent successfully\n",
      "Error translating with src=en (attempt 1): the JSON object must be str, bytes or bytearray, not NoneType\n",
      "Error translating with src=en (attempt 2): the JSON object must be str, bytes or bytearray, not NoneType\n",
      "🔁 Attempting sentence split and translation...\n"
     ]
    },
    {
     "name": "stderr",
     "output_type": "stream",
     "text": [
      "Translating:  63%|███████████████████████████▉                | 1057/1668 [1:29:26<52:01,  5.11s/it]"
     ]
    },
    {
     "name": "stdout",
     "output_type": "stream",
     "text": [
      "result sent successfully\n",
      "Error translating with src=en (attempt 1): the JSON object must be str, bytes or bytearray, not NoneType\n",
      "Error translating with src=en (attempt 2): the JSON object must be str, bytes or bytearray, not NoneType\n",
      "🔁 Attempting sentence split and translation...\n"
     ]
    },
    {
     "name": "stderr",
     "output_type": "stream",
     "text": [
      "Translating:  63%|███████████████████████████▉                | 1058/1668 [1:29:31<51:36,  5.08s/it]"
     ]
    },
    {
     "name": "stdout",
     "output_type": "stream",
     "text": [
      "result sent successfully\n",
      "Error translating with src=en (attempt 1): the JSON object must be str, bytes or bytearray, not NoneType\n",
      "Error translating with src=en (attempt 2): the JSON object must be str, bytes or bytearray, not NoneType\n",
      "🔁 Attempting sentence split and translation...\n"
     ]
    },
    {
     "name": "stderr",
     "output_type": "stream",
     "text": [
      "Translating:  63%|███████████████████████████▉                | 1059/1668 [1:29:36<51:01,  5.03s/it]"
     ]
    },
    {
     "name": "stdout",
     "output_type": "stream",
     "text": [
      "result sent successfully\n",
      "Error translating with src=en (attempt 1): the JSON object must be str, bytes or bytearray, not NoneType\n",
      "Error translating with src=en (attempt 2): the JSON object must be str, bytes or bytearray, not NoneType\n",
      "🔁 Attempting sentence split and translation...\n"
     ]
    },
    {
     "name": "stderr",
     "output_type": "stream",
     "text": [
      "Translating:  64%|███████████████████████████▉                | 1060/1668 [1:29:41<50:43,  5.01s/it]"
     ]
    },
    {
     "name": "stdout",
     "output_type": "stream",
     "text": [
      "result sent successfully\n",
      "Error translating with src=en (attempt 1): the JSON object must be str, bytes or bytearray, not NoneType\n",
      "Error translating with src=en (attempt 2): the JSON object must be str, bytes or bytearray, not NoneType\n",
      "🔁 Attempting sentence split and translation...\n"
     ]
    },
    {
     "name": "stderr",
     "output_type": "stream",
     "text": [
      "Translating:  64%|███████████████████████████▉                | 1061/1668 [1:29:46<50:21,  4.98s/it]"
     ]
    },
    {
     "name": "stdout",
     "output_type": "stream",
     "text": [
      "result sent successfully\n",
      "Error translating with src=en (attempt 1): the JSON object must be str, bytes or bytearray, not NoneType\n",
      "Error translating with src=en (attempt 2): the JSON object must be str, bytes or bytearray, not NoneType\n",
      "🔁 Attempting sentence split and translation...\n"
     ]
    },
    {
     "name": "stderr",
     "output_type": "stream",
     "text": [
      "Translating:  64%|████████████████████████████                | 1062/1668 [1:29:51<50:14,  4.98s/it]"
     ]
    },
    {
     "name": "stdout",
     "output_type": "stream",
     "text": [
      "result sent successfully\n",
      "Error translating with src=en (attempt 1): the JSON object must be str, bytes or bytearray, not NoneType\n",
      "Error translating with src=en (attempt 2): the JSON object must be str, bytes or bytearray, not NoneType\n",
      "🔁 Attempting sentence split and translation...\n"
     ]
    },
    {
     "name": "stderr",
     "output_type": "stream",
     "text": [
      "Translating:  64%|████████████████████████████                | 1063/1668 [1:29:56<50:00,  4.96s/it]"
     ]
    },
    {
     "name": "stdout",
     "output_type": "stream",
     "text": [
      "result sent successfully\n",
      "Error translating with src=en (attempt 1): the JSON object must be str, bytes or bytearray, not NoneType\n",
      "Error translating with src=en (attempt 2): the JSON object must be str, bytes or bytearray, not NoneType\n",
      "🔁 Attempting sentence split and translation...\n"
     ]
    },
    {
     "name": "stderr",
     "output_type": "stream",
     "text": [
      "Translating:  64%|████████████████████████████                | 1064/1668 [1:30:01<50:40,  5.03s/it]"
     ]
    },
    {
     "name": "stdout",
     "output_type": "stream",
     "text": [
      "result sent successfully\n",
      "Error translating with src=en (attempt 1): the JSON object must be str, bytes or bytearray, not NoneType\n",
      "Error translating with src=en (attempt 2): the JSON object must be str, bytes or bytearray, not NoneType\n",
      "🔁 Attempting sentence split and translation...\n"
     ]
    },
    {
     "name": "stderr",
     "output_type": "stream",
     "text": [
      "Translating:  64%|████████████████████████████                | 1065/1668 [1:30:06<51:06,  5.09s/it]"
     ]
    },
    {
     "name": "stdout",
     "output_type": "stream",
     "text": [
      "result sent successfully\n",
      "Error translating with src=en (attempt 1): the JSON object must be str, bytes or bytearray, not NoneType\n",
      "Error translating with src=en (attempt 2): the JSON object must be str, bytes or bytearray, not NoneType\n",
      "🔁 Attempting sentence split and translation...\n"
     ]
    },
    {
     "name": "stderr",
     "output_type": "stream",
     "text": [
      "Translating:  64%|████████████████████████████                | 1066/1668 [1:30:12<51:33,  5.14s/it]"
     ]
    },
    {
     "name": "stdout",
     "output_type": "stream",
     "text": [
      "result sent successfully\n",
      "Error translating with src=en (attempt 1): the JSON object must be str, bytes or bytearray, not NoneType\n",
      "Error translating with src=en (attempt 2): the JSON object must be str, bytes or bytearray, not NoneType\n",
      "🔁 Attempting sentence split and translation...\n"
     ]
    },
    {
     "name": "stderr",
     "output_type": "stream",
     "text": [
      "Translating:  64%|████████████████████████████▏               | 1067/1668 [1:30:17<51:47,  5.17s/it]"
     ]
    },
    {
     "name": "stdout",
     "output_type": "stream",
     "text": [
      "result sent successfully\n",
      "Error translating with src=en (attempt 1): the JSON object must be str, bytes or bytearray, not NoneType\n",
      "Error translating with src=en (attempt 2): the JSON object must be str, bytes or bytearray, not NoneType\n",
      "🔁 Attempting sentence split and translation...\n"
     ]
    },
    {
     "name": "stderr",
     "output_type": "stream",
     "text": [
      "Translating:  64%|████████████████████████████▏               | 1068/1668 [1:30:22<50:53,  5.09s/it]"
     ]
    },
    {
     "name": "stdout",
     "output_type": "stream",
     "text": [
      "result sent successfully\n",
      "Error translating with src=en (attempt 1): the JSON object must be str, bytes or bytearray, not NoneType\n",
      "Error translating with src=en (attempt 2): the JSON object must be str, bytes or bytearray, not NoneType\n",
      "🔁 Attempting sentence split and translation...\n"
     ]
    },
    {
     "name": "stderr",
     "output_type": "stream",
     "text": [
      "Translating:  64%|████████████████████████████▏               | 1069/1668 [1:30:27<51:13,  5.13s/it]"
     ]
    },
    {
     "name": "stdout",
     "output_type": "stream",
     "text": [
      "result sent successfully\n",
      "Error translating with src=en (attempt 1): the JSON object must be str, bytes or bytearray, not NoneType\n",
      "Error translating with src=en (attempt 2): the JSON object must be str, bytes or bytearray, not NoneType\n",
      "🔁 Attempting sentence split and translation...\n"
     ]
    },
    {
     "name": "stderr",
     "output_type": "stream",
     "text": [
      "Translating:  64%|████████████████████████████▏               | 1070/1668 [1:30:32<50:33,  5.07s/it]"
     ]
    },
    {
     "name": "stdout",
     "output_type": "stream",
     "text": [
      "result sent successfully\n",
      "Error translating with src=en (attempt 1): the JSON object must be str, bytes or bytearray, not NoneType\n",
      "Error translating with src=en (attempt 2): the JSON object must be str, bytes or bytearray, not NoneType\n",
      "🔁 Attempting sentence split and translation...\n"
     ]
    },
    {
     "name": "stderr",
     "output_type": "stream",
     "text": [
      "Translating:  64%|████████████████████████████▎               | 1071/1668 [1:30:37<49:59,  5.02s/it]"
     ]
    },
    {
     "name": "stdout",
     "output_type": "stream",
     "text": [
      "result sent successfully\n",
      "Error translating with src=en (attempt 1): the JSON object must be str, bytes or bytearray, not NoneType\n",
      "Error translating with src=en (attempt 2): the JSON object must be str, bytes or bytearray, not NoneType\n",
      "🔁 Attempting sentence split and translation...\n"
     ]
    },
    {
     "name": "stderr",
     "output_type": "stream",
     "text": [
      "Translating:  64%|████████████████████████████▎               | 1072/1668 [1:30:42<49:41,  5.00s/it]"
     ]
    },
    {
     "name": "stdout",
     "output_type": "stream",
     "text": [
      "result sent successfully\n",
      "Error translating with src=en (attempt 1): the JSON object must be str, bytes or bytearray, not NoneType\n",
      "Error translating with src=en (attempt 2): the JSON object must be str, bytes or bytearray, not NoneType\n",
      "🔁 Attempting sentence split and translation...\n"
     ]
    },
    {
     "name": "stderr",
     "output_type": "stream",
     "text": [
      "Translating:  64%|████████████████████████████▎               | 1073/1668 [1:30:47<49:20,  4.98s/it]"
     ]
    },
    {
     "name": "stdout",
     "output_type": "stream",
     "text": [
      "result sent successfully\n",
      "Error translating with src=en (attempt 1): the JSON object must be str, bytes or bytearray, not NoneType\n",
      "Error translating with src=en (attempt 2): the JSON object must be str, bytes or bytearray, not NoneType\n",
      "🔁 Attempting sentence split and translation...\n"
     ]
    },
    {
     "name": "stderr",
     "output_type": "stream",
     "text": [
      "Translating:  64%|████████████████████████████▎               | 1074/1668 [1:30:52<49:11,  4.97s/it]"
     ]
    },
    {
     "name": "stdout",
     "output_type": "stream",
     "text": [
      "result sent successfully\n",
      "Error translating with src=en (attempt 1): the JSON object must be str, bytes or bytearray, not NoneType\n",
      "Error translating with src=en (attempt 2): the JSON object must be str, bytes or bytearray, not NoneType\n",
      "🔁 Attempting sentence split and translation...\n"
     ]
    },
    {
     "name": "stderr",
     "output_type": "stream",
     "text": [
      "Translating:  64%|████████████████████████████▎               | 1075/1668 [1:30:57<49:52,  5.05s/it]"
     ]
    },
    {
     "name": "stdout",
     "output_type": "stream",
     "text": [
      "result sent successfully\n",
      "Error translating with src=en (attempt 1): the JSON object must be str, bytes or bytearray, not NoneType\n",
      "Error translating with src=en (attempt 2): the JSON object must be str, bytes or bytearray, not NoneType\n",
      "🔁 Attempting sentence split and translation...\n"
     ]
    },
    {
     "name": "stderr",
     "output_type": "stream",
     "text": [
      "Translating:  65%|████████████████████████████▍               | 1076/1668 [1:31:02<49:36,  5.03s/it]"
     ]
    },
    {
     "name": "stdout",
     "output_type": "stream",
     "text": [
      "result sent successfully\n",
      "Error translating with src=en (attempt 1): the JSON object must be str, bytes or bytearray, not NoneType\n",
      "Error translating with src=en (attempt 2): the JSON object must be str, bytes or bytearray, not NoneType\n",
      "🔁 Attempting sentence split and translation...\n"
     ]
    },
    {
     "name": "stderr",
     "output_type": "stream",
     "text": [
      "Translating:  65%|████████████████████████████▍               | 1077/1668 [1:31:07<50:24,  5.12s/it]"
     ]
    },
    {
     "name": "stdout",
     "output_type": "stream",
     "text": [
      "result sent successfully\n",
      "Error translating with src=en (attempt 1): the JSON object must be str, bytes or bytearray, not NoneType\n",
      "Error translating with src=en (attempt 2): the JSON object must be str, bytes or bytearray, not NoneType\n",
      "🔁 Attempting sentence split and translation...\n"
     ]
    },
    {
     "name": "stderr",
     "output_type": "stream",
     "text": [
      "Translating:  65%|████████████████████████████▍               | 1078/1668 [1:31:12<49:44,  5.06s/it]"
     ]
    },
    {
     "name": "stdout",
     "output_type": "stream",
     "text": [
      "result sent successfully\n",
      "Error translating with src=en (attempt 1): the JSON object must be str, bytes or bytearray, not NoneType\n",
      "Error translating with src=en (attempt 2): the JSON object must be str, bytes or bytearray, not NoneType\n",
      "🔁 Attempting sentence split and translation...\n"
     ]
    },
    {
     "name": "stderr",
     "output_type": "stream",
     "text": [
      "Translating:  65%|████████████████████████████▍               | 1079/1668 [1:31:17<50:13,  5.12s/it]"
     ]
    },
    {
     "name": "stdout",
     "output_type": "stream",
     "text": [
      "result sent successfully\n",
      "Error translating with src=en (attempt 1): the JSON object must be str, bytes or bytearray, not NoneType\n",
      "Error translating with src=en (attempt 2): the JSON object must be str, bytes or bytearray, not NoneType\n",
      "🔁 Attempting sentence split and translation...\n"
     ]
    },
    {
     "name": "stderr",
     "output_type": "stream",
     "text": [
      "Translating:  65%|████████████████████████████▍               | 1080/1668 [1:31:22<49:32,  5.06s/it]"
     ]
    },
    {
     "name": "stdout",
     "output_type": "stream",
     "text": [
      "result sent successfully\n",
      "Error translating with src=en (attempt 1): the JSON object must be str, bytes or bytearray, not NoneType\n",
      "Error translating with src=en (attempt 2): the JSON object must be str, bytes or bytearray, not NoneType\n",
      "🔁 Attempting sentence split and translation...\n"
     ]
    },
    {
     "name": "stderr",
     "output_type": "stream",
     "text": [
      "Translating:  65%|████████████████████████████▌               | 1081/1668 [1:31:27<49:54,  5.10s/it]"
     ]
    },
    {
     "name": "stdout",
     "output_type": "stream",
     "text": [
      "result sent successfully\n",
      "Error translating with src=en (attempt 1): the JSON object must be str, bytes or bytearray, not NoneType\n",
      "Error translating with src=en (attempt 2): the JSON object must be str, bytes or bytearray, not NoneType\n",
      "🔁 Attempting sentence split and translation...\n"
     ]
    },
    {
     "name": "stderr",
     "output_type": "stream",
     "text": [
      "Translating:  65%|████████████████████████████▌               | 1082/1668 [1:31:32<49:15,  5.04s/it]"
     ]
    },
    {
     "name": "stdout",
     "output_type": "stream",
     "text": [
      "result sent successfully\n",
      "Error translating with src=en (attempt 1): the JSON object must be str, bytes or bytearray, not NoneType\n",
      "Error translating with src=en (attempt 2): the JSON object must be str, bytes or bytearray, not NoneType\n",
      "🔁 Attempting sentence split and translation...\n"
     ]
    },
    {
     "name": "stderr",
     "output_type": "stream",
     "text": [
      "Translating:  65%|████████████████████████████▌               | 1083/1668 [1:31:37<49:01,  5.03s/it]"
     ]
    },
    {
     "name": "stdout",
     "output_type": "stream",
     "text": [
      "result sent successfully\n",
      "Error translating with src=en (attempt 1): the JSON object must be str, bytes or bytearray, not NoneType\n",
      "Error translating with src=en (attempt 2): the JSON object must be str, bytes or bytearray, not NoneType\n",
      "🔁 Attempting sentence split and translation...\n"
     ]
    },
    {
     "name": "stderr",
     "output_type": "stream",
     "text": [
      "Translating:  65%|████████████████████████████▌               | 1084/1668 [1:31:42<49:26,  5.08s/it]"
     ]
    },
    {
     "name": "stdout",
     "output_type": "stream",
     "text": [
      "result sent successfully\n",
      "Error translating with src=en (attempt 1): the JSON object must be str, bytes or bytearray, not NoneType\n",
      "Error translating with src=en (attempt 2): the JSON object must be str, bytes or bytearray, not NoneType\n",
      "🔁 Attempting sentence split and translation...\n"
     ]
    },
    {
     "name": "stderr",
     "output_type": "stream",
     "text": [
      "Translating:  65%|████████████████████████████▌               | 1085/1668 [1:31:48<49:43,  5.12s/it]"
     ]
    },
    {
     "name": "stdout",
     "output_type": "stream",
     "text": [
      "result sent successfully\n",
      "Error translating with src=en (attempt 1): the JSON object must be str, bytes or bytearray, not NoneType\n",
      "Error translating with src=en (attempt 2): the JSON object must be str, bytes or bytearray, not NoneType\n",
      "🔁 Attempting sentence split and translation...\n"
     ]
    },
    {
     "name": "stderr",
     "output_type": "stream",
     "text": [
      "Translating:  65%|████████████████████████████▋               | 1086/1668 [1:31:53<49:02,  5.06s/it]"
     ]
    },
    {
     "name": "stdout",
     "output_type": "stream",
     "text": [
      "result sent successfully\n",
      "Error translating with src=en (attempt 1): the JSON object must be str, bytes or bytearray, not NoneType\n",
      "Error translating with src=en (attempt 2): the JSON object must be str, bytes or bytearray, not NoneType\n",
      "🔁 Attempting sentence split and translation...\n"
     ]
    },
    {
     "name": "stderr",
     "output_type": "stream",
     "text": [
      "Translating:  65%|████████████████████████████▋               | 1087/1668 [1:31:58<48:33,  5.01s/it]"
     ]
    },
    {
     "name": "stdout",
     "output_type": "stream",
     "text": [
      "result sent successfully\n",
      "Error translating with src=en (attempt 1): the JSON object must be str, bytes or bytearray, not NoneType\n",
      "Error translating with src=en (attempt 2): the JSON object must be str, bytes or bytearray, not NoneType\n",
      "🔁 Attempting sentence split and translation...\n"
     ]
    },
    {
     "name": "stderr",
     "output_type": "stream",
     "text": [
      "Translating:  65%|████████████████████████████▋               | 1088/1668 [1:32:03<49:04,  5.08s/it]"
     ]
    },
    {
     "name": "stdout",
     "output_type": "stream",
     "text": [
      "result sent successfully\n",
      "Error translating with src=en (attempt 1): the JSON object must be str, bytes or bytearray, not NoneType\n",
      "Error translating with src=en (attempt 2): the JSON object must be str, bytes or bytearray, not NoneType\n",
      "🔁 Attempting sentence split and translation...\n"
     ]
    },
    {
     "name": "stderr",
     "output_type": "stream",
     "text": [
      "Translating:  65%|████████████████████████████▋               | 1089/1668 [1:32:08<48:55,  5.07s/it]"
     ]
    },
    {
     "name": "stdout",
     "output_type": "stream",
     "text": [
      "result sent successfully\n",
      "Error translating with src=en (attempt 1): the JSON object must be str, bytes or bytearray, not NoneType\n",
      "Error translating with src=en (attempt 2): the JSON object must be str, bytes or bytearray, not NoneType\n",
      "🔁 Attempting sentence split and translation...\n"
     ]
    },
    {
     "name": "stderr",
     "output_type": "stream",
     "text": [
      "Translating:  65%|████████████████████████████▊               | 1090/1668 [1:32:13<48:31,  5.04s/it]"
     ]
    },
    {
     "name": "stdout",
     "output_type": "stream",
     "text": [
      "result sent successfully\n",
      "Error translating with src=en (attempt 1): the JSON object must be str, bytes or bytearray, not NoneType\n",
      "Error translating with src=en (attempt 2): the JSON object must be str, bytes or bytearray, not NoneType\n",
      "🔁 Attempting sentence split and translation...\n"
     ]
    },
    {
     "name": "stderr",
     "output_type": "stream",
     "text": [
      "Translating:  65%|████████████████████████████▊               | 1091/1668 [1:32:18<48:06,  5.00s/it]"
     ]
    },
    {
     "name": "stdout",
     "output_type": "stream",
     "text": [
      "result sent successfully\n",
      "Error translating with src=en (attempt 1): the JSON object must be str, bytes or bytearray, not NoneType\n",
      "Error translating with src=en (attempt 2): the JSON object must be str, bytes or bytearray, not NoneType\n",
      "🔁 Attempting sentence split and translation...\n"
     ]
    },
    {
     "name": "stderr",
     "output_type": "stream",
     "text": [
      "Translating:  65%|████████████████████████████▊               | 1092/1668 [1:32:23<47:52,  4.99s/it]"
     ]
    },
    {
     "name": "stdout",
     "output_type": "stream",
     "text": [
      "result sent successfully\n",
      "Error translating with src=en (attempt 1): the JSON object must be str, bytes or bytearray, not NoneType\n",
      "Error translating with src=en (attempt 2): the JSON object must be str, bytes or bytearray, not NoneType\n",
      "🔁 Attempting sentence split and translation...\n"
     ]
    },
    {
     "name": "stderr",
     "output_type": "stream",
     "text": [
      "Translating:  66%|████████████████████████████▊               | 1093/1668 [1:32:28<48:43,  5.08s/it]"
     ]
    },
    {
     "name": "stdout",
     "output_type": "stream",
     "text": [
      "result sent successfully\n",
      "Error translating with src=en (attempt 1): the JSON object must be str, bytes or bytearray, not NoneType\n",
      "Error translating with src=en (attempt 2): the JSON object must be str, bytes or bytearray, not NoneType\n",
      "🔁 Attempting sentence split and translation...\n"
     ]
    },
    {
     "name": "stderr",
     "output_type": "stream",
     "text": [
      "Translating:  66%|████████████████████████████▊               | 1094/1668 [1:32:33<48:08,  5.03s/it]"
     ]
    },
    {
     "name": "stdout",
     "output_type": "stream",
     "text": [
      "result sent successfully\n",
      "Error translating with src=en (attempt 1): the JSON object must be str, bytes or bytearray, not NoneType\n",
      "Error translating with src=en (attempt 2): the JSON object must be str, bytes or bytearray, not NoneType\n",
      "🔁 Attempting sentence split and translation...\n"
     ]
    },
    {
     "name": "stderr",
     "output_type": "stream",
     "text": [
      "Translating:  66%|████████████████████████████▉               | 1095/1668 [1:32:38<47:41,  4.99s/it]"
     ]
    },
    {
     "name": "stdout",
     "output_type": "stream",
     "text": [
      "result sent successfully\n",
      "Error translating with src=en (attempt 1): the JSON object must be str, bytes or bytearray, not NoneType\n",
      "Error translating with src=en (attempt 2): the JSON object must be str, bytes or bytearray, not NoneType\n",
      "🔁 Attempting sentence split and translation...\n"
     ]
    },
    {
     "name": "stderr",
     "output_type": "stream",
     "text": [
      "Translating:  66%|████████████████████████████▉               | 1096/1668 [1:32:43<47:29,  4.98s/it]"
     ]
    },
    {
     "name": "stdout",
     "output_type": "stream",
     "text": [
      "result sent successfully\n",
      "Error translating with src=en (attempt 1): the JSON object must be str, bytes or bytearray, not NoneType\n",
      "Error translating with src=en (attempt 2): the JSON object must be str, bytes or bytearray, not NoneType\n",
      "🔁 Attempting sentence split and translation...\n"
     ]
    },
    {
     "name": "stderr",
     "output_type": "stream",
     "text": [
      "Translating:  66%|████████████████████████████▉               | 1097/1668 [1:32:48<47:12,  4.96s/it]"
     ]
    },
    {
     "name": "stdout",
     "output_type": "stream",
     "text": [
      "result sent successfully\n",
      "Error translating with src=en (attempt 1): the JSON object must be str, bytes or bytearray, not NoneType\n",
      "Error translating with src=en (attempt 2): the JSON object must be str, bytes or bytearray, not NoneType\n",
      "🔁 Attempting sentence split and translation...\n"
     ]
    },
    {
     "name": "stderr",
     "output_type": "stream",
     "text": [
      "Translating:  66%|████████████████████████████▉               | 1098/1668 [1:32:53<47:07,  4.96s/it]"
     ]
    },
    {
     "name": "stdout",
     "output_type": "stream",
     "text": [
      "result sent successfully\n",
      "Error translating with src=en (attempt 1): the JSON object must be str, bytes or bytearray, not NoneType\n",
      "Error translating with src=en (attempt 2): the JSON object must be str, bytes or bytearray, not NoneType\n",
      "🔁 Attempting sentence split and translation...\n",
      "result sent successfully\n"
     ]
    },
    {
     "name": "stderr",
     "output_type": "stream",
     "text": [
      "Translating:  66%|████████████████████████████▉               | 1099/1668 [1:32:58<46:54,  4.95s/it]"
     ]
    },
    {
     "name": "stdout",
     "output_type": "stream",
     "text": [
      "Error translating with src=en (attempt 1): the JSON object must be str, bytes or bytearray, not NoneType\n",
      "Error translating with src=en (attempt 2): the JSON object must be str, bytes or bytearray, not NoneType\n",
      "🔁 Attempting sentence split and translation...\n"
     ]
    },
    {
     "name": "stderr",
     "output_type": "stream",
     "text": [
      "Translating:  66%|█████████████████████████████               | 1100/1668 [1:33:02<46:47,  4.94s/it]"
     ]
    },
    {
     "name": "stdout",
     "output_type": "stream",
     "text": [
      "result sent successfully\n",
      "Error translating with src=en (attempt 1): the JSON object must be str, bytes or bytearray, not NoneType\n",
      "Error translating with src=en (attempt 2): the JSON object must be str, bytes or bytearray, not NoneType\n",
      "🔁 Attempting sentence split and translation...\n"
     ]
    },
    {
     "name": "stderr",
     "output_type": "stream",
     "text": [
      "Translating:  66%|█████████████████████████████               | 1101/1668 [1:33:07<46:42,  4.94s/it]"
     ]
    },
    {
     "name": "stdout",
     "output_type": "stream",
     "text": [
      "result sent successfully\n",
      "Error translating with src=en (attempt 1): the JSON object must be str, bytes or bytearray, not NoneType\n",
      "Error translating with src=en (attempt 2): the JSON object must be str, bytes or bytearray, not NoneType\n",
      "🔁 Attempting sentence split and translation...\n"
     ]
    },
    {
     "name": "stderr",
     "output_type": "stream",
     "text": [
      "Translating:  66%|█████████████████████████████               | 1102/1668 [1:33:12<46:33,  4.93s/it]"
     ]
    },
    {
     "name": "stdout",
     "output_type": "stream",
     "text": [
      "result sent successfully\n",
      "Error translating with src=en (attempt 1): the JSON object must be str, bytes or bytearray, not NoneType\n",
      "Error translating with src=en (attempt 2): the JSON object must be str, bytes or bytearray, not NoneType\n",
      "🔁 Attempting sentence split and translation...\n"
     ]
    },
    {
     "name": "stderr",
     "output_type": "stream",
     "text": [
      "Translating:  66%|█████████████████████████████               | 1103/1668 [1:33:17<46:24,  4.93s/it]"
     ]
    },
    {
     "name": "stdout",
     "output_type": "stream",
     "text": [
      "result sent successfully\n",
      "Error translating with src=en (attempt 1): the JSON object must be str, bytes or bytearray, not NoneType\n",
      "Error translating with src=en (attempt 2): the JSON object must be str, bytes or bytearray, not NoneType\n",
      "🔁 Attempting sentence split and translation...\n"
     ]
    },
    {
     "name": "stderr",
     "output_type": "stream",
     "text": [
      "Translating:  66%|█████████████████████████████               | 1104/1668 [1:33:22<46:20,  4.93s/it]"
     ]
    },
    {
     "name": "stdout",
     "output_type": "stream",
     "text": [
      "result sent successfully\n",
      "Error translating with src=en (attempt 1): the JSON object must be str, bytes or bytearray, not NoneType\n",
      "Error translating with src=en (attempt 2): the JSON object must be str, bytes or bytearray, not NoneType\n",
      "🔁 Attempting sentence split and translation...\n"
     ]
    },
    {
     "name": "stderr",
     "output_type": "stream",
     "text": [
      "Translating:  66%|█████████████████████████████▏              | 1105/1668 [1:33:27<47:03,  5.01s/it]"
     ]
    },
    {
     "name": "stdout",
     "output_type": "stream",
     "text": [
      "result sent successfully\n",
      "Error translating with src=en (attempt 1): the JSON object must be str, bytes or bytearray, not NoneType\n",
      "Error translating with src=en (attempt 2): the JSON object must be str, bytes or bytearray, not NoneType\n",
      "🔁 Attempting sentence split and translation...\n"
     ]
    },
    {
     "name": "stderr",
     "output_type": "stream",
     "text": [
      "Translating:  66%|█████████████████████████████▏              | 1106/1668 [1:33:33<47:41,  5.09s/it]"
     ]
    },
    {
     "name": "stdout",
     "output_type": "stream",
     "text": [
      "result sent successfully\n",
      "Error translating with src=en (attempt 1): the JSON object must be str, bytes or bytearray, not NoneType\n",
      "Error translating with src=en (attempt 2): the JSON object must be str, bytes or bytearray, not NoneType\n",
      "🔁 Attempting sentence split and translation...\n"
     ]
    },
    {
     "name": "stderr",
     "output_type": "stream",
     "text": [
      "Translating:  66%|█████████████████████████████▏              | 1107/1668 [1:33:38<47:15,  5.06s/it]"
     ]
    },
    {
     "name": "stdout",
     "output_type": "stream",
     "text": [
      "result sent successfully\n",
      "Error translating with src=en (attempt 1): the JSON object must be str, bytes or bytearray, not NoneType\n",
      "Error translating with src=en (attempt 2): the JSON object must be str, bytes or bytearray, not NoneType\n",
      "🔁 Attempting sentence split and translation...\n"
     ]
    },
    {
     "name": "stderr",
     "output_type": "stream",
     "text": [
      "Translating:  66%|█████████████████████████████▏              | 1108/1668 [1:33:43<46:55,  5.03s/it]"
     ]
    },
    {
     "name": "stdout",
     "output_type": "stream",
     "text": [
      "result sent successfully\n",
      "Error translating with src=en (attempt 1): the JSON object must be str, bytes or bytearray, not NoneType\n",
      "Error translating with src=en (attempt 2): the JSON object must be str, bytes or bytearray, not NoneType\n",
      "🔁 Attempting sentence split and translation...\n"
     ]
    },
    {
     "name": "stderr",
     "output_type": "stream",
     "text": [
      "Translating:  66%|█████████████████████████████▎              | 1109/1668 [1:33:47<46:33,  5.00s/it]"
     ]
    },
    {
     "name": "stdout",
     "output_type": "stream",
     "text": [
      "result sent successfully\n",
      "Error translating with src=en (attempt 1): the JSON object must be str, bytes or bytearray, not NoneType\n",
      "Error translating with src=en (attempt 2): the JSON object must be str, bytes or bytearray, not NoneType\n",
      "🔁 Attempting sentence split and translation...\n"
     ]
    },
    {
     "name": "stderr",
     "output_type": "stream",
     "text": [
      "Translating:  67%|█████████████████████████████▎              | 1110/1668 [1:33:53<47:12,  5.08s/it]"
     ]
    },
    {
     "name": "stdout",
     "output_type": "stream",
     "text": [
      "result sent successfully\n",
      "Error translating with src=en (attempt 1): the JSON object must be str, bytes or bytearray, not NoneType\n",
      "Error translating with src=en (attempt 2): the JSON object must be str, bytes or bytearray, not NoneType\n",
      "🔁 Attempting sentence split and translation...\n"
     ]
    },
    {
     "name": "stderr",
     "output_type": "stream",
     "text": [
      "Translating:  67%|█████████████████████████████▎              | 1111/1668 [1:33:58<46:42,  5.03s/it]"
     ]
    },
    {
     "name": "stdout",
     "output_type": "stream",
     "text": [
      "result sent successfully\n",
      "Error translating with src=en (attempt 1): the JSON object must be str, bytes or bytearray, not NoneType\n",
      "Error translating with src=en (attempt 2): the JSON object must be str, bytes or bytearray, not NoneType\n",
      "🔁 Attempting sentence split and translation...\n"
     ]
    },
    {
     "name": "stderr",
     "output_type": "stream",
     "text": [
      "Translating:  67%|█████████████████████████████▎              | 1112/1668 [1:34:03<46:25,  5.01s/it]"
     ]
    },
    {
     "name": "stdout",
     "output_type": "stream",
     "text": [
      "result sent successfully\n",
      "Error translating with src=en (attempt 1): the JSON object must be str, bytes or bytearray, not NoneType\n",
      "Error translating with src=en (attempt 2): the JSON object must be str, bytes or bytearray, not NoneType\n",
      "🔁 Attempting sentence split and translation...\n"
     ]
    },
    {
     "name": "stderr",
     "output_type": "stream",
     "text": [
      "Translating:  67%|█████████████████████████████▎              | 1113/1668 [1:34:08<46:06,  4.99s/it]"
     ]
    },
    {
     "name": "stdout",
     "output_type": "stream",
     "text": [
      "result sent successfully\n",
      "Error translating with src=en (attempt 1): the JSON object must be str, bytes or bytearray, not NoneType\n",
      "Error translating with src=en (attempt 2): the JSON object must be str, bytes or bytearray, not NoneType\n",
      "🔁 Attempting sentence split and translation...\n"
     ]
    },
    {
     "name": "stderr",
     "output_type": "stream",
     "text": [
      "Translating:  67%|█████████████████████████████▍              | 1114/1668 [1:34:12<45:48,  4.96s/it]"
     ]
    },
    {
     "name": "stdout",
     "output_type": "stream",
     "text": [
      "result sent successfully\n",
      "Error translating with src=en (attempt 1): the JSON object must be str, bytes or bytearray, not NoneType\n",
      "Error translating with src=en (attempt 2): the JSON object must be str, bytes or bytearray, not NoneType\n",
      "🔁 Attempting sentence split and translation...\n"
     ]
    },
    {
     "name": "stderr",
     "output_type": "stream",
     "text": [
      "Translating:  67%|█████████████████████████████▍              | 1115/1668 [1:34:17<45:38,  4.95s/it]"
     ]
    },
    {
     "name": "stdout",
     "output_type": "stream",
     "text": [
      "result sent successfully\n",
      "Error translating with src=en (attempt 1): the JSON object must be str, bytes or bytearray, not NoneType\n",
      "Error translating with src=en (attempt 2): the JSON object must be str, bytes or bytearray, not NoneType\n",
      "🔁 Attempting sentence split and translation...\n"
     ]
    },
    {
     "name": "stderr",
     "output_type": "stream",
     "text": [
      "Translating:  67%|█████████████████████████████▍              | 1116/1668 [1:34:22<45:28,  4.94s/it]"
     ]
    },
    {
     "name": "stdout",
     "output_type": "stream",
     "text": [
      "result sent successfully\n",
      "Error translating with src=en (attempt 1): the JSON object must be str, bytes or bytearray, not NoneType\n",
      "Error translating with src=en (attempt 2): the JSON object must be str, bytes or bytearray, not NoneType\n",
      "🔁 Attempting sentence split and translation...\n"
     ]
    },
    {
     "name": "stderr",
     "output_type": "stream",
     "text": [
      "Translating:  67%|█████████████████████████████▍              | 1117/1668 [1:34:27<45:21,  4.94s/it]"
     ]
    },
    {
     "name": "stdout",
     "output_type": "stream",
     "text": [
      "result sent successfully\n",
      "Error translating with src=en (attempt 1): the JSON object must be str, bytes or bytearray, not NoneType\n",
      "Error translating with src=en (attempt 2): the JSON object must be str, bytes or bytearray, not NoneType\n",
      "🔁 Attempting sentence split and translation...\n"
     ]
    },
    {
     "name": "stderr",
     "output_type": "stream",
     "text": [
      "Translating:  67%|█████████████████████████████▍              | 1118/1668 [1:34:32<45:15,  4.94s/it]"
     ]
    },
    {
     "name": "stdout",
     "output_type": "stream",
     "text": [
      "result sent successfully\n",
      "Error translating with src=en (attempt 1): the JSON object must be str, bytes or bytearray, not NoneType\n",
      "Error translating with src=en (attempt 2): the JSON object must be str, bytes or bytearray, not NoneType\n",
      "🔁 Attempting sentence split and translation...\n"
     ]
    },
    {
     "name": "stderr",
     "output_type": "stream",
     "text": [
      "Translating:  67%|█████████████████████████████▌              | 1119/1668 [1:34:37<45:13,  4.94s/it]"
     ]
    },
    {
     "name": "stdout",
     "output_type": "stream",
     "text": [
      "result sent successfully\n",
      "Error translating with src=en (attempt 1): the JSON object must be str, bytes or bytearray, not NoneType\n"
     ]
    }
   ],
   "source": [
    "def translate_response_column(file_path, translator):\n",
    "    try:\n",
    "        df = pd.read_csv(file_path)\n",
    "        col = df.columns\n",
    "        if \"response\" not in col and  \"trans_response\" in col:\n",
    "            df = df.rename(columns={\"trans_response\":\"response\"})\n",
    "            print(\"Column_renamed\")\n",
    "\n",
    "        if \"response\" not in df.columns:\n",
    "            print(f\"⚠️ Skipping {file_path}: No 'response' column found.\")\n",
    "            return\n",
    "\n",
    "        lang_folder = extract_language_from_path(file_path)\n",
    "        src_lang = map_language_name_to_code(lang_folder)\n",
    "\n",
    "        if not src_lang:\n",
    "            print(f\"⚠️ Skipping {file_path}: Unknown language '{lang_folder}'\")\n",
    "            return\n",
    "\n",
    "        print(f\"🔵 Processing file: {file_path} | Source language: {src_lang}\")\n",
    "\n",
    "        if \"gtrans_response\" not in df.columns:\n",
    "            df[\"gtrans_response\"] = \"\"\n",
    "\n",
    "        needs_translation = (\n",
    "            df[\"gtrans_response\"].isnull() | (df[\"gtrans_response\"].astype(str).str.strip() == \"\")\n",
    "        ) & (df[\"response\"].astype(str).str.strip() != \"\")\n",
    "\n",
    "        rows_to_translate = df[needs_translation].copy()\n",
    "\n",
    "        if not rows_to_translate.empty:\n",
    "            print(f\"🔄 Translating {len(rows_to_translate)} rows...\")\n",
    "            translated_texts = []\n",
    "\n",
    "            for response in tqdm(rows_to_translate[\"response\"], desc=\"Translating\", ncols=100):\n",
    "                translated_text = translate_sentence_safe(response, src_lang, translator)\n",
    "                translated_texts.append(translated_text if translated_text is not None else response)\n",
    "\n",
    "            df.loc[needs_translation, \"gtrans_response\"] = translated_texts\n",
    "        else:\n",
    "            print(\"✅ No rows need translation.\")\n",
    "\n",
    "        df.to_csv(file_path, index=False)\n",
    "        print(f\"✅ File saved: {file_path}\")\n",
    "\n",
    "    except Exception as e:\n",
    "        print(f\"❌ Error processing {file_path}: {e}\")\n",
    "\n",
    "def process_directory(root_dir):\n",
    "    translator = Translator()\n",
    "\n",
    "    for dirpath, _, filenames in os.walk(root_dir):\n",
    "        for filename in filenames:\n",
    "            if filename.endswith(\".csv\") and \"checkpoint\" not in filename.lower():\n",
    "                file_path = os.path.join(dirpath, filename)\n",
    "                translate_response_column(file_path, translator)\n",
    "            else:\n",
    "                if \"checkpoint\" in filename.lower():\n",
    "                    print(f\"⏩ Skipping checkpoint file: {filename}\")\n",
    "\n",
    "if __name__ == \"__main__\":\n",
    "    root_directory = \"../jailbreak_responses_final/iris/gemma3_12b\"\n",
    "    process_directory(root_directory)\n"
   ]
  },
  {
   "cell_type": "code",
   "execution_count": null,
   "id": "b1cab49f",
   "metadata": {},
   "outputs": [],
   "source": []
  }
 ],
 "metadata": {
  "kernelspec": {
   "display_name": "Python 3 (ipykernel)",
   "language": "python",
   "name": "python3"
  },
  "language_info": {
   "codemirror_mode": {
    "name": "ipython",
    "version": 3
   },
   "file_extension": ".py",
   "mimetype": "text/x-python",
   "name": "python",
   "nbconvert_exporter": "python",
   "pygments_lexer": "ipython3",
   "version": "3.12.7"
  }
 },
 "nbformat": 4,
 "nbformat_minor": 5
}
